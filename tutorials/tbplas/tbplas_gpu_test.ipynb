{
 "cells": [
  {
   "cell_type": "code",
   "execution_count": 16,
   "id": "d80554da",
   "metadata": {},
   "outputs": [],
   "source": [
    "import tbplas as tb\n",
    "\n",
    "# Algorithm of TBPM, should be in cpu, cpu_fast and gpu\n",
    "ALGO = \"cpu\"\n",
    "QUICK_TEST = True\n",
    "BUILD_SAMPLE = True\n",
    "WITH_ONSITE = True\n",
    "\n",
    "def test_dos():\n",
    "    # Model\n",
    "    t = -2.7\n",
    "    a = 0.142\n",
    "    if QUICK_TEST:\n",
    "        dim = (1024, 1024, 1)\n",
    "    else:\n",
    "        dim = (4096, 4096, 1)\n",
    "    if BUILD_SAMPLE:\n",
    "        model = tb.make_graphene_diamond()\n",
    "    else:\n",
    "        model = tb.make_graphene(t, a, with_onsite=WITH_ONSITE, dim=dim)\n",
    "\n",
    "    # Parameters\n",
    "    solver = tb.TBPMSolver(model)\n",
    "    solver.config.num_random_samples = 1\n",
    "    solver.config.rescale = 9.0\n",
    "    solver.config.ldos = False\n",
    "    solver.config.ldos_orbital_indices = { 1 }\n",
    "    solver.config.num_time_steps = 1024\n",
    "    solver.config.dimension = 2\n",
    "    solver.config.algo = ALGO\n",
    "\n",
    "    # Calculation\n",
    "    timer = tb.Timer()\n",
    "    timer.tic(\"corr_dos\")\n",
    "    corr_dos = solver.calc_corr_dos()\n",
    "    timer.toc(\"corr_dos\")\n",
    "\n",
    "    # Output\n",
    "    if solver.is_master:\n",
    "        timer.report_total_time()\n",
    "        analyzer = tb.Analyzer(f\"{solver.config.prefix}_info.dat\")\n",
    "        eng, dos = analyzer.calc_dos(corr_dos)\n",
    "        tb.save_xy(\"dos_py.dat\", eng, dos)"
   ]
  },
  {
   "cell_type": "code",
   "execution_count": null,
   "id": "991c78e6",
   "metadata": {},
   "outputs": [
    {
     "name": "stdout",
     "output_type": "stream",
     "text": [
      "\n",
      "Parallelization details:\n",
      "  MPI disabled    \n",
      "  OMP_NUM_THREADS  : n/a   \n",
      "  MKL_NUM_THREADS  : n/a   \n",
      "\n",
      "Output details:\n",
      "  Directory  : ./\n",
      "  Prefix     : sample\n",
      "\n"
     ]
    }
   ],
   "source": [
    "test_dos()"
   ]
  }
 ],
 "metadata": {
  "kernelspec": {
   "display_name": "tbplas",
   "language": "python",
   "name": "python3"
  },
  "language_info": {
   "codemirror_mode": {
    "name": "ipython",
    "version": 3
   },
   "file_extension": ".py",
   "mimetype": "text/x-python",
   "name": "python",
   "nbconvert_exporter": "python",
   "pygments_lexer": "ipython3",
   "version": "3.12.11"
  }
 },
 "nbformat": 4,
 "nbformat_minor": 5
}
