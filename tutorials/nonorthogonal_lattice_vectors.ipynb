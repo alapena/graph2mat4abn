{
 "cells": [
  {
   "cell_type": "code",
   "execution_count": 22,
   "id": "bd05e6c3",
   "metadata": {},
   "outputs": [],
   "source": [
    "import numpy as np\n",
    "import torch\n",
    "import yaml\n",
    "import importlib\n",
    "import random\n",
    "\n",
    "# So that we can plot sisl geometries\n",
    "import sisl.viz\n",
    "\n",
    "from e3nn import o3\n",
    "from pathlib import Path\n",
    "\n",
    "from graph2mat import (\n",
    "    PointBasis,\n",
    "    BasisTableWithEdges,\n",
    "    BasisConfiguration,\n",
    "    MatrixDataProcessor,\n",
    ")\n",
    "from graph2mat.bindings.torch import TorchBasisMatrixData, TorchBasisMatrixDataset\n",
    "from graph2mat.bindings.e3nn import E3nnGraph2Mat\n",
    "\n",
    "def load_config(path=\"../config.yaml\"):\n",
    "    with open(path, \"r\") as f:\n",
    "        return yaml.safe_load(f)\n",
    "    \n",
    "def flatten(xss):\n",
    "    return [x for xs in xss for x in xs]\n",
    "\n",
    "def is_orthogonal(matrix):\n",
    "    \"\"\"\n",
    "    Check if a matrix is diagonal.\n",
    "    \"\"\"\n",
    "    product = np.dot(matrix, matrix.T)\n",
    "    nz = np.count_nonzero(product - np.diag(np.diagonal(product)))\n",
    "    if nz == 0:\n",
    "        return True\n",
    "    else:\n",
    "        return False "
   ]
  },
  {
   "cell_type": "code",
   "execution_count": null,
   "id": "fe3c139c",
   "metadata": {},
   "outputs": [
    {
     "name": "stdout",
     "output_type": "stream",
     "text": [
      "No non-orthogonal cell found in the dataset.\n"
     ]
    }
   ],
   "source": [
    "# === List of paths to all structures ===\n",
    "parent_path = Path('../dataset')\n",
    "n_atoms_paths = list(parent_path.glob('*/'))\n",
    "paths = []\n",
    "for n_atoms_path in n_atoms_paths:\n",
    "    structure_paths = list(n_atoms_path.glob('*/'))\n",
    "    paths.append(structure_paths)\n",
    "paths = flatten(paths)\n",
    "\n",
    "random.seed(42)\n",
    "random.shuffle(paths)\n",
    "\n",
    "# === Find a non-orthogonal structure ===\n",
    "for path in paths:\n",
    "    file = sisl.get_sile(path / \"aiida.fdf\")\n",
    "    geometry = file.read_geometry()\n",
    "    cell = geometry.lattice.cell\n",
    "    non_orth_cell = cell if not is_orthogonal(cell) else None\n",
    "    if non_orth_cell is not None:\n",
    "        print(f\"Found a non-orthogonal cell at {path}\")\n",
    "        print(non_orth_cell)\n",
    "        file.plot.geometry(axes=\"xz\")\n",
    "        break\n",
    "if non_orth_cell is None:\n",
    "    print(\"No non-orthogonal cell found in the dataset.\")\n",
    "\n"
   ]
  },
  {
   "cell_type": "code",
   "execution_count": null,
   "id": "442a07af",
   "metadata": {},
   "outputs": [],
   "source": []
  }
 ],
 "metadata": {
  "kernelspec": {
   "display_name": "g2m_upd",
   "language": "python",
   "name": "python3"
  },
  "language_info": {
   "codemirror_mode": {
    "name": "ipython",
    "version": 3
   },
   "file_extension": ".py",
   "mimetype": "text/x-python",
   "name": "python",
   "nbconvert_exporter": "python",
   "pygments_lexer": "ipython3",
   "version": "3.12.11"
  }
 },
 "nbformat": 4,
 "nbformat_minor": 5
}
