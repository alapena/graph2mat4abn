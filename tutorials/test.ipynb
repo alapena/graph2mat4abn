{
 "cells": [
  {
   "cell_type": "code",
   "execution_count": 16,
   "id": "01c2d9e2",
   "metadata": {},
   "outputs": [],
   "source": [
    "import random\n",
    "import sisl\n",
    "import torch\n",
    "import torch.optim as optim\n",
    "import numpy as np\n",
    "import yaml\n",
    "\n",
    "from e3nn import o3\n",
    "from pathlib import Path\n",
    "from sklearn.model_selection import train_test_split\n",
    "from torch.optim.lr_scheduler import CosineAnnealingWarmRestarts\n",
    "from torch_geometric.loader import DataLoader\n",
    "from mace.modules import MACE, RealAgnosticResidualInteractionBlock\n",
    "from graph2mat.bindings.e3nn import E3nnGraph2Mat\n",
    "from graph2mat.models import MatrixMACE\n",
    "from graph2mat.bindings.torch import TorchBasisMatrixDataset\n",
    "from graph2mat import (\n",
    "    PointBasis,\n",
    "    BasisTableWithEdges,\n",
    "    BasisConfiguration,\n",
    "    MatrixDataProcessor,\n",
    ")\n",
    "\n",
    "def load_config(path=\"../config.yaml\"):\n",
    "    with open(path, \"r\") as f:\n",
    "        return yaml.safe_load(f)\n",
    "    \n",
    "def flatten(xss):\n",
    "    return [x for xs in xss for x in xs]"
   ]
  },
  {
   "cell_type": "code",
   "execution_count": 8,
   "id": "3e05c4a3",
   "metadata": {},
   "outputs": [],
   "source": [
    "def get_basis_from_structures_paths(paths, verbose=False, num_unique_z=None):\n",
    "    \"\"\"_summary_\n",
    "\n",
    "    Args:\n",
    "        paths (list[str]): _description_\n",
    "        verbose (bool, optional): _description_. Defaults to False.\n",
    "        num_unique_z (int, optional): If known, input the total number of different atom types here for faster performance.\n",
    "\n",
    "    Returns:\n",
    "        list[PointBasis]: _description_\n",
    "    \"\"\"\n",
    "    if verbose:\n",
    "        print(\"=\"*60)\n",
    "        print(\"Basis computation.\")\n",
    "        print(f\"Number of structures to look on: {len(paths)}\")\n",
    "        print(\"Looking for unique atoms in each structure...\")\n",
    "\n",
    "    unique_atom_types = []\n",
    "    unique_atom_types_path_idx = []\n",
    "\n",
    "    # Look for all atom types in your list of structures\n",
    "    iterator = tqdm(enumerate(paths)) if verbose else enumerate(paths)\n",
    "    for i, path in iterator:\n",
    "        if num_unique_z is not None and len(unique_atom_types) == num_unique_z:\n",
    "            print(\"Found enough basis points. Breaking the search...\")\n",
    "            break\n",
    "        geometry = sisl.get_sile(path / \"aiida.fdf\").read_geometry()\n",
    "        for z in geometry.atoms.Z:\n",
    "            if z not in unique_atom_types:\n",
    "                unique_atom_types.append(z)\n",
    "                unique_atom_types_path_idx.append(i)\n",
    "            if num_unique_z is not None and len(unique_atom_types) == num_unique_z:\n",
    "                print(\"Found enough basis points. Breaking the search...\")\n",
    "                break\n",
    "        # print(\"n_atoms= \", len(geometry.atoms.Z))\n",
    "\n",
    "    if verbose:\n",
    "        print(f\"Found the following atomic numbers: {unique_atom_types}\")\n",
    "        print(f\"Corresponding path indices: {unique_atom_types_path_idx}\")\n",
    "\n",
    "    # Build the basis\n",
    "    basis = []\n",
    "    unique_atom_types_basis = []\n",
    "    for path_idx in unique_atom_types_path_idx:\n",
    "        geometry = sisl.get_sile(paths[path_idx] / \"aiida.fdf\").read_geometry()\n",
    "        for atom in geometry.atoms:\n",
    "            if atom.Z not in unique_atom_types_basis:\n",
    "                basis.append(PointBasis.from_sisl_atom(atom))\n",
    "                unique_atom_types_basis.append(atom.Z)\n",
    "\n",
    "    basis.sort(key=lambda x: x.type)\n",
    "    unique_atom_types_basis.sort()\n",
    "\n",
    "    if verbose:\n",
    "        print(f\"Basis with {len(basis)} elements built!\")\n",
    "        [print(f\"\\nBasis for atom {i}.\\n\\tAtom type: {basis[i].type}\\n\\tBasis: {basis[i].basis}\\n\\tBasis convention: {basis[i].basis_convention}\\n\\tR: {basis[i].R}\") for i in range(len(basis))]\n",
    "\n",
    "    return basis"
   ]
  },
  {
   "cell_type": "code",
   "execution_count": null,
   "id": "1ec027a3",
   "metadata": {},
   "outputs": [
    {
     "name": "stdout",
     "output_type": "stream",
     "text": [
      "Loading model ../results/hamiltonian/model_epoch_4500.tar...\n",
      "Found enough basis points. Breaking the search...\n",
      "Found enough basis points. Breaking the search...\n",
      "Processing structure 1 of 1311...\n",
      "Processing structure 2 of 1311...\n",
      "Processing structure 3 of 1311...\n"
     ]
    },
    {
     "name": "stderr",
     "output_type": "stream",
     "text": [
      "/home/alapena/miniconda3/envs/g2m_upd/lib/python3.12/site-packages/graph2mat/core/data/matrices/__init__.py:40: UserWarning: <class 'sisl.physics.Hamiltonian'> is not a known matrix type key, falling back to generic OrbitalMatrix class.\n",
      "  warn(\n",
      "/home/alapena/miniconda3/envs/g2m_upd/lib/python3.12/site-packages/graph2mat/core/data/matrices/__init__.py:40: UserWarning: <class 'sisl.physics.Hamiltonian'> is not a known matrix type key, falling back to generic OrbitalMatrix class.\n",
      "  warn(\n",
      "/home/alapena/miniconda3/envs/g2m_upd/lib/python3.12/site-packages/graph2mat/core/data/matrices/__init__.py:40: UserWarning: <class 'sisl.physics.Hamiltonian'> is not a known matrix type key, falling back to generic OrbitalMatrix class.\n",
      "  warn(\n",
      "/home/alapena/miniconda3/envs/g2m_upd/lib/python3.12/site-packages/graph2mat/core/data/matrices/__init__.py:40: UserWarning: <class 'sisl.physics.Hamiltonian'> is not a known matrix type key, falling back to generic OrbitalMatrix class.\n",
      "  warn(\n",
      "/home/alapena/miniconda3/envs/g2m_upd/lib/python3.12/site-packages/graph2mat/core/data/matrices/__init__.py:40: UserWarning: <class 'sisl.physics.Hamiltonian'> is not a known matrix type key, falling back to generic OrbitalMatrix class.\n",
      "  warn(\n"
     ]
    },
    {
     "name": "stdout",
     "output_type": "stream",
     "text": [
      "Processing structure 4 of 1311...\n",
      "Processing structure 5 of 1311...\n",
      "Processing structure 6 of 1311...\n",
      "Processing structure 7 of 1311...\n"
     ]
    },
    {
     "name": "stderr",
     "output_type": "stream",
     "text": [
      "/home/alapena/miniconda3/envs/g2m_upd/lib/python3.12/site-packages/graph2mat/core/data/matrices/__init__.py:40: UserWarning: <class 'sisl.physics.Hamiltonian'> is not a known matrix type key, falling back to generic OrbitalMatrix class.\n",
      "  warn(\n",
      "/home/alapena/miniconda3/envs/g2m_upd/lib/python3.12/site-packages/graph2mat/core/data/matrices/__init__.py:40: UserWarning: <class 'sisl.physics.Hamiltonian'> is not a known matrix type key, falling back to generic OrbitalMatrix class.\n",
      "  warn(\n"
     ]
    },
    {
     "name": "stdout",
     "output_type": "stream",
     "text": [
      "Processing structure 8 of 1311...\n",
      "Processing structure 9 of 1311...\n",
      "Processing structure 10 of 1311...\n"
     ]
    },
    {
     "name": "stderr",
     "output_type": "stream",
     "text": [
      "/home/alapena/miniconda3/envs/g2m_upd/lib/python3.12/site-packages/graph2mat/core/data/matrices/__init__.py:40: UserWarning: <class 'sisl.physics.Hamiltonian'> is not a known matrix type key, falling back to generic OrbitalMatrix class.\n",
      "  warn(\n",
      "/home/alapena/miniconda3/envs/g2m_upd/lib/python3.12/site-packages/graph2mat/core/data/matrices/__init__.py:40: UserWarning: <class 'sisl.physics.Hamiltonian'> is not a known matrix type key, falling back to generic OrbitalMatrix class.\n",
      "  warn(\n",
      "/home/alapena/miniconda3/envs/g2m_upd/lib/python3.12/site-packages/graph2mat/core/data/matrices/__init__.py:40: UserWarning: <class 'sisl.physics.Hamiltonian'> is not a known matrix type key, falling back to generic OrbitalMatrix class.\n",
      "  warn(\n",
      "/home/alapena/miniconda3/envs/g2m_upd/lib/python3.12/site-packages/graph2mat/core/data/matrices/__init__.py:40: UserWarning: <class 'sisl.physics.Hamiltonian'> is not a known matrix type key, falling back to generic OrbitalMatrix class.\n",
      "  warn(\n"
     ]
    },
    {
     "name": "stdout",
     "output_type": "stream",
     "text": [
      "Processing structure 11 of 1311...\n",
      "Processing structure 12 of 1311...\n"
     ]
    },
    {
     "name": "stderr",
     "output_type": "stream",
     "text": [
      "/home/alapena/miniconda3/envs/g2m_upd/lib/python3.12/site-packages/graph2mat/core/data/matrices/__init__.py:40: UserWarning: <class 'sisl.physics.Hamiltonian'> is not a known matrix type key, falling back to generic OrbitalMatrix class.\n",
      "  warn(\n",
      "/home/alapena/miniconda3/envs/g2m_upd/lib/python3.12/site-packages/graph2mat/core/data/matrices/__init__.py:40: UserWarning: <class 'sisl.physics.Hamiltonian'> is not a known matrix type key, falling back to generic OrbitalMatrix class.\n",
      "  warn(\n"
     ]
    },
    {
     "name": "stdout",
     "output_type": "stream",
     "text": [
      "Processing structure 13 of 1311...\n",
      "Processing structure 14 of 1311...\n",
      "Processing structure 15 of 1311...\n",
      "Processing structure 16 of 1311...\n",
      "Processing structure 17 of 1311...\n"
     ]
    },
    {
     "name": "stderr",
     "output_type": "stream",
     "text": [
      "/home/alapena/miniconda3/envs/g2m_upd/lib/python3.12/site-packages/graph2mat/core/data/matrices/__init__.py:40: UserWarning: <class 'sisl.physics.Hamiltonian'> is not a known matrix type key, falling back to generic OrbitalMatrix class.\n",
      "  warn(\n",
      "/home/alapena/miniconda3/envs/g2m_upd/lib/python3.12/site-packages/graph2mat/core/data/matrices/__init__.py:40: UserWarning: <class 'sisl.physics.Hamiltonian'> is not a known matrix type key, falling back to generic OrbitalMatrix class.\n",
      "  warn(\n",
      "/home/alapena/miniconda3/envs/g2m_upd/lib/python3.12/site-packages/graph2mat/core/data/matrices/__init__.py:40: UserWarning: <class 'sisl.physics.Hamiltonian'> is not a known matrix type key, falling back to generic OrbitalMatrix class.\n",
      "  warn(\n",
      "/home/alapena/miniconda3/envs/g2m_upd/lib/python3.12/site-packages/graph2mat/core/data/matrices/__init__.py:40: UserWarning: <class 'sisl.physics.Hamiltonian'> is not a known matrix type key, falling back to generic OrbitalMatrix class.\n",
      "  warn(\n"
     ]
    },
    {
     "name": "stdout",
     "output_type": "stream",
     "text": [
      "Processing structure 18 of 1311...\n",
      "Processing structure 19 of 1311...\n",
      "Processing structure 20 of 1311...\n",
      "../dataset/SHARE_OUTPUTS_8_ATOMS/907c-7487-46bd-8ad3-65b031f7f12b\n"
     ]
    },
    {
     "name": "stderr",
     "output_type": "stream",
     "text": [
      "/home/alapena/miniconda3/envs/g2m_upd/lib/python3.12/site-packages/graph2mat/core/data/matrices/__init__.py:40: UserWarning: <class 'sisl.physics.Hamiltonian'> is not a known matrix type key, falling back to generic OrbitalMatrix class.\n",
      "  warn(\n",
      "/home/alapena/miniconda3/envs/g2m_upd/lib/python3.12/site-packages/graph2mat/core/data/matrices/__init__.py:40: UserWarning: <class 'sisl.physics.Hamiltonian'> is not a known matrix type key, falling back to generic OrbitalMatrix class.\n",
      "  warn(\n",
      "/home/alapena/miniconda3/envs/g2m_upd/lib/python3.12/site-packages/graph2mat/core/data/matrices/__init__.py:40: UserWarning: <class 'sisl.physics.Hamiltonian'> is not a known matrix type key, falling back to generic OrbitalMatrix class.\n",
      "  warn(\n"
     ]
    }
   ],
   "source": [
    "# === Configuration load ===\n",
    "directory = Path(\"../results/hamiltonian\") # * Write here the directory where the model is stored\n",
    "# device = torch.device(\"cuda:1\" if torch.cuda.is_available() else \"cpu\")\n",
    "device=torch.device(\"cpu\")\n",
    "filename = \"model_epoch_4500.tar\"\n",
    "print(f\"Loading model {directory / filename}...\")\n",
    "\n",
    "\n",
    "config = load_config(directory / \"config.yaml\")\n",
    "\n",
    "# === List of paths to all structures ===\n",
    "parent_path = Path('../dataset')\n",
    "n_atoms_paths = list(parent_path.glob('*/'))\n",
    "paths = []\n",
    "for n_atoms_path in n_atoms_paths:\n",
    "    structure_paths = list(n_atoms_path.glob('*/'))\n",
    "    paths.append(structure_paths)\n",
    "paths = flatten(paths)\n",
    "\n",
    "random.seed(config[\"dataset\"][\"seed\"])\n",
    "random.shuffle(paths)\n",
    "\n",
    "\n",
    "\n",
    "# == Basis creation === \n",
    "basis = get_basis_from_structures_paths(paths, verbose=False, num_unique_z=config[\"dataset\"].get(\"num_unique_z\", None))\n",
    "table = BasisTableWithEdges(basis)\n",
    "\n",
    "\n",
    "\n",
    "# === Dataset creation ===\n",
    "processor = MatrixDataProcessor(basis_table=table, symmetric_matrix=True, sub_point_matrix=False)\n",
    "embeddings_configs = []\n",
    "for i, path in enumerate(paths):\n",
    "\n",
    "    # We need to keep track of the training/val splits, so we can't plot more than used for training (at least for training dataset)\n",
    "    if i==20:\n",
    "        break\n",
    "    \n",
    "    print(f\"Processing structure {i+1} of {len(paths)}...\")\n",
    "\n",
    "    # Load the structure config\n",
    "    file = sisl.get_sile(path / \"aiida.fdf\")\n",
    "    file_h = sisl.get_sile(path / \"aiida.HSX\")\n",
    "    geometry = file.read_geometry()\n",
    "\n",
    "    # Load the true hamiltonian\n",
    "    true_h = file_h.read_hamiltonian()\n",
    "\n",
    "    embeddings_config = BasisConfiguration.from_matrix(\n",
    "        matrix = true_h,\n",
    "        geometry = geometry,\n",
    "        labels = True,\n",
    "        metadata={\n",
    "            \"atom_types\": torch.from_numpy(geometry.atoms.Z), # Unlike point_types, this is not rescaled.,\n",
    "            \"path\": path\n",
    "        },\n",
    "    )\n",
    "\n",
    "    embeddings_configs.append(embeddings_config)\n",
    "\n",
    "dataset = TorchBasisMatrixDataset(embeddings_configs, data_processor=processor)\n",
    "\n",
    "# Split and stratify\n",
    "# n_atoms_list = [dataset[i].num_nodes for i in range(len(dataset))] if config[\"dataset\"][\"stratify\"] == True else None\n",
    "n_atoms_list = None\n",
    "train_dataset, val_dataset = train_test_split(\n",
    "    dataset, \n",
    "    train_size=config[\"dataset\"][\"train_split_ratio\"],\n",
    "    stratify=n_atoms_list,\n",
    "    random_state=None # Dataset already shuffled (paths)\n",
    ")"
   ]
  },
  {
   "cell_type": "markdown",
   "id": "1a4b1040",
   "metadata": {},
   "source": []
  },
  {
   "cell_type": "code",
   "execution_count": 40,
   "id": "678b410d",
   "metadata": {},
   "outputs": [
    {
     "data": {
      "text/plain": [
       "PosixPath('../dataset/SHARE_OUTPUTS_8_ATOMS/907c-7487-46bd-8ad3-65b031f7f12b')"
      ]
     },
     "execution_count": 40,
     "metadata": {},
     "output_type": "execute_result"
    }
   ],
   "source": [
    "Path(dataset[0].metadata[\"path\"])"
   ]
  }
 ],
 "metadata": {
  "kernelspec": {
   "display_name": "g2m_upd",
   "language": "python",
   "name": "python3"
  },
  "language_info": {
   "codemirror_mode": {
    "name": "ipython",
    "version": 3
   },
   "file_extension": ".py",
   "mimetype": "text/x-python",
   "name": "python",
   "nbconvert_exporter": "python",
   "pygments_lexer": "ipython3",
   "version": "3.12.11"
  }
 },
 "nbformat": 4,
 "nbformat_minor": 5
}
