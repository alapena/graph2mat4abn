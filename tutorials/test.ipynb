{
 "cells": [
  {
   "cell_type": "code",
   "execution_count": 3,
   "id": "01c2d9e2",
   "metadata": {},
   "outputs": [
    {
     "name": "stderr",
     "output_type": "stream",
     "text": [
      "/home/alapena/miniconda3/envs/g2m_upd/lib/python3.12/site-packages/e3nn/o3/_wigner.py:10: FutureWarning: You are using `torch.load` with `weights_only=False` (the current default value), which uses the default pickle module implicitly. It is possible to construct malicious pickle data which will execute arbitrary code during unpickling (See https://github.com/pytorch/pytorch/blob/main/SECURITY.md#untrusted-models for more details). In a future release, the default value for `weights_only` will be flipped to `True`. This limits the functions that could be executed during unpickling. Arbitrary objects will no longer be allowed to be loaded via this mode unless they are explicitly allowlisted by the user via `torch.serialization.add_safe_globals`. We recommend you start setting `weights_only=True` for any use case where you don't have full control of the loaded file. Please open an issue on GitHub for any issues related to this experimental feature.\n",
      "  _Jd, _W3j_flat, _W3j_indices = torch.load(os.path.join(os.path.dirname(__file__), 'constants.pt'))\n"
     ]
    }
   ],
   "source": [
    "import random\n",
    "import sisl\n",
    "import torch\n",
    "import torch.optim as optim\n",
    "import numpy as np\n",
    "import yaml\n",
    "\n",
    "from e3nn import o3\n",
    "from pathlib import Path\n",
    "from sklearn.model_selection import train_test_split\n",
    "from torch.optim.lr_scheduler import CosineAnnealingWarmRestarts\n",
    "from torch_geometric.loader import DataLoader\n",
    "from mace.modules import MACE, RealAgnosticResidualInteractionBlock\n",
    "from graph2mat.bindings.e3nn import E3nnGraph2Mat\n",
    "from graph2mat.models import MatrixMACE\n",
    "from graph2mat.bindings.torch import TorchBasisMatrixDataset\n",
    "from graph2mat import (\n",
    "    PointBasis,\n",
    "    BasisTableWithEdges,\n",
    "    BasisConfiguration,\n",
    "    MatrixDataProcessor,\n",
    ")\n",
    "\n",
    "def load_config(path=\"../config.yaml\"):\n",
    "    with open(path, \"r\") as f:\n",
    "        return yaml.safe_load(f)\n",
    "    \n",
    "def flatten(xss):\n",
    "    return [x for xs in xss for x in xs]"
   ]
  },
  {
   "cell_type": "code",
   "execution_count": 4,
   "id": "3e05c4a3",
   "metadata": {},
   "outputs": [],
   "source": [
    "def get_basis_from_structures_paths(paths, verbose=False, num_unique_z=None):\n",
    "    \"\"\"_summary_\n",
    "\n",
    "    Args:\n",
    "        paths (list[str]): _description_\n",
    "        verbose (bool, optional): _description_. Defaults to False.\n",
    "        num_unique_z (int, optional): If known, input the total number of different atom types here for faster performance.\n",
    "\n",
    "    Returns:\n",
    "        list[PointBasis]: _description_\n",
    "    \"\"\"\n",
    "    if verbose:\n",
    "        print(\"=\"*60)\n",
    "        print(\"Basis computation.\")\n",
    "        print(f\"Number of structures to look on: {len(paths)}\")\n",
    "        print(\"Looking for unique atoms in each structure...\")\n",
    "\n",
    "    unique_atom_types = []\n",
    "    unique_atom_types_path_idx = []\n",
    "\n",
    "    # Look for all atom types in your list of structures\n",
    "    iterator = tqdm(enumerate(paths)) if verbose else enumerate(paths)\n",
    "    for i, path in iterator:\n",
    "        if num_unique_z is not None and len(unique_atom_types) == num_unique_z:\n",
    "            print(\"Found enough basis points. Breaking the search...\")\n",
    "            break\n",
    "        geometry = sisl.get_sile(path / \"aiida.fdf\").read_geometry()\n",
    "        for z in geometry.atoms.Z:\n",
    "            if z not in unique_atom_types:\n",
    "                unique_atom_types.append(z)\n",
    "                unique_atom_types_path_idx.append(i)\n",
    "            if num_unique_z is not None and len(unique_atom_types) == num_unique_z:\n",
    "                print(\"Found enough basis points. Breaking the search...\")\n",
    "                break\n",
    "        # print(\"n_atoms= \", len(geometry.atoms.Z))\n",
    "\n",
    "    if verbose:\n",
    "        print(f\"Found the following atomic numbers: {unique_atom_types}\")\n",
    "        print(f\"Corresponding path indices: {unique_atom_types_path_idx}\")\n",
    "\n",
    "    # Build the basis\n",
    "    basis = []\n",
    "    unique_atom_types_basis = []\n",
    "    for path_idx in unique_atom_types_path_idx:\n",
    "        geometry = sisl.get_sile(paths[path_idx] / \"aiida.fdf\").read_geometry()\n",
    "        for atom in geometry.atoms:\n",
    "            if atom.Z not in unique_atom_types_basis:\n",
    "                basis.append(PointBasis.from_sisl_atom(atom))\n",
    "                unique_atom_types_basis.append(atom.Z)\n",
    "\n",
    "    basis.sort(key=lambda x: x.type)\n",
    "    unique_atom_types_basis.sort()\n",
    "\n",
    "    if verbose:\n",
    "        print(f\"Basis with {len(basis)} elements built!\")\n",
    "        [print(f\"\\nBasis for atom {i}.\\n\\tAtom type: {basis[i].type}\\n\\tBasis: {basis[i].basis}\\n\\tBasis convention: {basis[i].basis_convention}\\n\\tR: {basis[i].R}\") for i in range(len(basis))]\n",
    "\n",
    "    return basis"
   ]
  },
  {
   "cell_type": "code",
   "execution_count": 5,
   "id": "1ec027a3",
   "metadata": {},
   "outputs": [
    {
     "name": "stdout",
     "output_type": "stream",
     "text": [
      "Loading model ../results/hamiltonian/model_epoch_4500.tar...\n",
      "Found enough basis points. Breaking the search...\n",
      "Found enough basis points. Breaking the search...\n",
      "Processing structure 1 of 1311...\n",
      "Processing structure 2 of 1311...\n",
      "Processing structure 3 of 1311...\n"
     ]
    },
    {
     "name": "stderr",
     "output_type": "stream",
     "text": [
      "/home/alapena/miniconda3/envs/g2m_upd/lib/python3.12/site-packages/graph2mat/core/data/matrices/__init__.py:40: UserWarning: <class 'sisl.physics.Hamiltonian'> is not a known matrix type key, falling back to generic OrbitalMatrix class.\n",
      "  warn(\n",
      "/home/alapena/miniconda3/envs/g2m_upd/lib/python3.12/site-packages/graph2mat/core/data/matrices/__init__.py:40: UserWarning: <class 'sisl.physics.Hamiltonian'> is not a known matrix type key, falling back to generic OrbitalMatrix class.\n",
      "  warn(\n",
      "/home/alapena/miniconda3/envs/g2m_upd/lib/python3.12/site-packages/graph2mat/core/data/matrices/__init__.py:40: UserWarning: <class 'sisl.physics.Hamiltonian'> is not a known matrix type key, falling back to generic OrbitalMatrix class.\n",
      "  warn(\n",
      "/home/alapena/miniconda3/envs/g2m_upd/lib/python3.12/site-packages/graph2mat/core/data/matrices/__init__.py:40: UserWarning: <class 'sisl.physics.Hamiltonian'> is not a known matrix type key, falling back to generic OrbitalMatrix class.\n",
      "  warn(\n",
      "/home/alapena/miniconda3/envs/g2m_upd/lib/python3.12/site-packages/graph2mat/core/data/matrices/__init__.py:40: UserWarning: <class 'sisl.physics.Hamiltonian'> is not a known matrix type key, falling back to generic OrbitalMatrix class.\n",
      "  warn(\n"
     ]
    },
    {
     "name": "stdout",
     "output_type": "stream",
     "text": [
      "Processing structure 4 of 1311...\n",
      "Processing structure 5 of 1311...\n",
      "Processing structure 6 of 1311...\n",
      "Processing structure 7 of 1311...\n"
     ]
    },
    {
     "name": "stderr",
     "output_type": "stream",
     "text": [
      "/home/alapena/miniconda3/envs/g2m_upd/lib/python3.12/site-packages/graph2mat/core/data/matrices/__init__.py:40: UserWarning: <class 'sisl.physics.Hamiltonian'> is not a known matrix type key, falling back to generic OrbitalMatrix class.\n",
      "  warn(\n",
      "/home/alapena/miniconda3/envs/g2m_upd/lib/python3.12/site-packages/graph2mat/core/data/matrices/__init__.py:40: UserWarning: <class 'sisl.physics.Hamiltonian'> is not a known matrix type key, falling back to generic OrbitalMatrix class.\n",
      "  warn(\n"
     ]
    },
    {
     "name": "stdout",
     "output_type": "stream",
     "text": [
      "Processing structure 8 of 1311...\n",
      "Processing structure 9 of 1311...\n",
      "Processing structure 10 of 1311...\n"
     ]
    },
    {
     "name": "stderr",
     "output_type": "stream",
     "text": [
      "/home/alapena/miniconda3/envs/g2m_upd/lib/python3.12/site-packages/graph2mat/core/data/matrices/__init__.py:40: UserWarning: <class 'sisl.physics.Hamiltonian'> is not a known matrix type key, falling back to generic OrbitalMatrix class.\n",
      "  warn(\n",
      "/home/alapena/miniconda3/envs/g2m_upd/lib/python3.12/site-packages/graph2mat/core/data/matrices/__init__.py:40: UserWarning: <class 'sisl.physics.Hamiltonian'> is not a known matrix type key, falling back to generic OrbitalMatrix class.\n",
      "  warn(\n",
      "/home/alapena/miniconda3/envs/g2m_upd/lib/python3.12/site-packages/graph2mat/core/data/matrices/__init__.py:40: UserWarning: <class 'sisl.physics.Hamiltonian'> is not a known matrix type key, falling back to generic OrbitalMatrix class.\n",
      "  warn(\n"
     ]
    },
    {
     "name": "stdout",
     "output_type": "stream",
     "text": [
      "Processing structure 11 of 1311...\n",
      "Processing structure 12 of 1311...\n"
     ]
    },
    {
     "name": "stderr",
     "output_type": "stream",
     "text": [
      "/home/alapena/miniconda3/envs/g2m_upd/lib/python3.12/site-packages/graph2mat/core/data/matrices/__init__.py:40: UserWarning: <class 'sisl.physics.Hamiltonian'> is not a known matrix type key, falling back to generic OrbitalMatrix class.\n",
      "  warn(\n",
      "/home/alapena/miniconda3/envs/g2m_upd/lib/python3.12/site-packages/graph2mat/core/data/matrices/__init__.py:40: UserWarning: <class 'sisl.physics.Hamiltonian'> is not a known matrix type key, falling back to generic OrbitalMatrix class.\n",
      "  warn(\n",
      "/home/alapena/miniconda3/envs/g2m_upd/lib/python3.12/site-packages/graph2mat/core/data/matrices/__init__.py:40: UserWarning: <class 'sisl.physics.Hamiltonian'> is not a known matrix type key, falling back to generic OrbitalMatrix class.\n",
      "  warn(\n"
     ]
    },
    {
     "name": "stdout",
     "output_type": "stream",
     "text": [
      "Processing structure 13 of 1311...\n",
      "Processing structure 14 of 1311...\n",
      "Processing structure 15 of 1311...\n",
      "Processing structure 16 of 1311...\n",
      "Processing structure 17 of 1311...\n"
     ]
    },
    {
     "name": "stderr",
     "output_type": "stream",
     "text": [
      "/home/alapena/miniconda3/envs/g2m_upd/lib/python3.12/site-packages/graph2mat/core/data/matrices/__init__.py:40: UserWarning: <class 'sisl.physics.Hamiltonian'> is not a known matrix type key, falling back to generic OrbitalMatrix class.\n",
      "  warn(\n",
      "/home/alapena/miniconda3/envs/g2m_upd/lib/python3.12/site-packages/graph2mat/core/data/matrices/__init__.py:40: UserWarning: <class 'sisl.physics.Hamiltonian'> is not a known matrix type key, falling back to generic OrbitalMatrix class.\n",
      "  warn(\n",
      "/home/alapena/miniconda3/envs/g2m_upd/lib/python3.12/site-packages/graph2mat/core/data/matrices/__init__.py:40: UserWarning: <class 'sisl.physics.Hamiltonian'> is not a known matrix type key, falling back to generic OrbitalMatrix class.\n",
      "  warn(\n",
      "/home/alapena/miniconda3/envs/g2m_upd/lib/python3.12/site-packages/graph2mat/core/data/matrices/__init__.py:40: UserWarning: <class 'sisl.physics.Hamiltonian'> is not a known matrix type key, falling back to generic OrbitalMatrix class.\n",
      "  warn(\n"
     ]
    },
    {
     "name": "stdout",
     "output_type": "stream",
     "text": [
      "Processing structure 18 of 1311...\n",
      "Processing structure 19 of 1311...\n",
      "Processing structure 20 of 1311...\n"
     ]
    },
    {
     "name": "stderr",
     "output_type": "stream",
     "text": [
      "/home/alapena/miniconda3/envs/g2m_upd/lib/python3.12/site-packages/graph2mat/core/data/matrices/__init__.py:40: UserWarning: <class 'sisl.physics.Hamiltonian'> is not a known matrix type key, falling back to generic OrbitalMatrix class.\n",
      "  warn(\n",
      "/home/alapena/miniconda3/envs/g2m_upd/lib/python3.12/site-packages/graph2mat/core/data/matrices/__init__.py:40: UserWarning: <class 'sisl.physics.Hamiltonian'> is not a known matrix type key, falling back to generic OrbitalMatrix class.\n",
      "  warn(\n",
      "/home/alapena/miniconda3/envs/g2m_upd/lib/python3.12/site-packages/graph2mat/core/data/matrices/__init__.py:40: UserWarning: <class 'sisl.physics.Hamiltonian'> is not a known matrix type key, falling back to generic OrbitalMatrix class.\n",
      "  warn(\n"
     ]
    }
   ],
   "source": [
    "# === Configuration load ===\n",
    "directory = Path(\"../results/hamiltonian\") # * Write here the directory where the model is stored\n",
    "# device = torch.device(\"cuda:1\" if torch.cuda.is_available() else \"cpu\")\n",
    "device=torch.device(\"cpu\")\n",
    "filename = \"model_epoch_4500.tar\"\n",
    "print(f\"Loading model {directory / filename}...\")\n",
    "\n",
    "\n",
    "config = load_config(directory / \"config.yaml\")\n",
    "\n",
    "# === List of paths to all structures ===\n",
    "parent_path = Path('../dataset')\n",
    "n_atoms_paths = list(parent_path.glob('*/'))\n",
    "paths = []\n",
    "for n_atoms_path in n_atoms_paths:\n",
    "    structure_paths = list(n_atoms_path.glob('*/'))\n",
    "    paths.append(structure_paths)\n",
    "paths = flatten(paths)\n",
    "\n",
    "random.seed(config[\"dataset\"][\"seed\"])\n",
    "random.shuffle(paths)\n",
    "\n",
    "\n",
    "\n",
    "# == Basis creation === \n",
    "basis = get_basis_from_structures_paths(paths, verbose=False, num_unique_z=config[\"dataset\"].get(\"num_unique_z\", None))\n",
    "table = BasisTableWithEdges(basis)\n",
    "\n",
    "\n",
    "\n",
    "# === Dataset creation ===\n",
    "processor = MatrixDataProcessor(basis_table=table, symmetric_matrix=True, sub_point_matrix=False)\n",
    "embeddings_configs = []\n",
    "for i, path in enumerate(paths):\n",
    "\n",
    "    # We need to keep track of the training/val splits, so we can't plot more than used for training (at least for training dataset)\n",
    "    if i==20:\n",
    "        break\n",
    "    \n",
    "    print(f\"Processing structure {i+1} of {len(paths)}...\")\n",
    "\n",
    "    # Load the structure config\n",
    "    file = sisl.get_sile(path / \"aiida.fdf\")\n",
    "    file_h = sisl.get_sile(path / \"aiida.HSX\")\n",
    "    geometry = file.read_geometry()\n",
    "\n",
    "    # Load the true hamiltonian\n",
    "    true_h = file_h.read_hamiltonian()\n",
    "\n",
    "    embeddings_config = BasisConfiguration.from_matrix(\n",
    "        matrix = true_h,\n",
    "        geometry = geometry,\n",
    "        labels = True,\n",
    "        metadata={\n",
    "            \"atom_types\": torch.from_numpy(geometry.atoms.Z), # Unlike point_types, this is not rescaled.,\n",
    "            \"path\": path\n",
    "        },\n",
    "    )\n",
    "\n",
    "    embeddings_configs.append(embeddings_config)\n",
    "\n",
    "dataset = TorchBasisMatrixDataset(embeddings_configs, data_processor=processor)\n",
    "\n",
    "# Split and stratify\n",
    "# n_atoms_list = [dataset[i].num_nodes for i in range(len(dataset))] if config[\"dataset\"][\"stratify\"] == True else None\n",
    "n_atoms_list = None\n",
    "train_dataset, val_dataset = train_test_split(\n",
    "    dataset, \n",
    "    train_size=config[\"dataset\"][\"train_split_ratio\"],\n",
    "    stratify=n_atoms_list,\n",
    "    random_state=None # Dataset already shuffled (paths)\n",
    ")"
   ]
  },
  {
   "cell_type": "markdown",
   "id": "1a4b1040",
   "metadata": {},
   "source": []
  },
  {
   "cell_type": "code",
   "execution_count": 40,
   "id": "678b410d",
   "metadata": {},
   "outputs": [
    {
     "data": {
      "text/plain": [
       "PosixPath('../dataset/SHARE_OUTPUTS_8_ATOMS/907c-7487-46bd-8ad3-65b031f7f12b')"
      ]
     },
     "execution_count": 40,
     "metadata": {},
     "output_type": "execute_result"
    }
   ],
   "source": [
    "Path(dataset[0].metadata[\"path\"])"
   ]
  },
  {
   "cell_type": "code",
   "execution_count": 6,
   "id": "7346b8a2",
   "metadata": {},
   "outputs": [],
   "source": [
    "import numpy as np\n",
    "\n",
    "kxs = np.linspace(0,1, num=40)\n",
    "kys = np.linspace(0,1, num=40)\n",
    "kzs = np.linspace(0,1, num=40) # * Change the resolution here\n",
    "k_dir_x = geometry.rcell[:,0]\n",
    "k_dir_y = geometry.rcell[:,1]\n",
    "k_dir_z = geometry.rcell[:,2]\n",
    "k_path_x=np.array([kx*k_dir_x for kx in kxs])\n",
    "k_path_y=np.array([ky*k_dir_y for ky in kys])\n",
    "k_path_z=np.array([kz*k_dir_z for kz in kzs])\n",
    "k_path=np.concatenate([k_path_x, k_path_y, k_path_z])"
   ]
  },
  {
   "cell_type": "code",
   "execution_count": 7,
   "id": "5e887eef",
   "metadata": {},
   "outputs": [
    {
     "data": {
      "text/plain": [
       "array([[0.        , 0.        , 0.        ],\n",
       "       [0.04475216, 0.        , 0.        ],\n",
       "       [0.08950431, 0.        , 0.        ],\n",
       "       [0.13425647, 0.        , 0.        ],\n",
       "       [0.17900863, 0.        , 0.        ],\n",
       "       [0.22376078, 0.        , 0.        ],\n",
       "       [0.26851294, 0.        , 0.        ],\n",
       "       [0.31326509, 0.        , 0.        ],\n",
       "       [0.35801725, 0.        , 0.        ],\n",
       "       [0.40276941, 0.        , 0.        ],\n",
       "       [0.44752156, 0.        , 0.        ],\n",
       "       [0.49227372, 0.        , 0.        ],\n",
       "       [0.53702588, 0.        , 0.        ],\n",
       "       [0.58177803, 0.        , 0.        ],\n",
       "       [0.62653019, 0.        , 0.        ],\n",
       "       [0.67128235, 0.        , 0.        ],\n",
       "       [0.7160345 , 0.        , 0.        ],\n",
       "       [0.76078666, 0.        , 0.        ],\n",
       "       [0.80553882, 0.        , 0.        ],\n",
       "       [0.85029097, 0.        , 0.        ],\n",
       "       [0.89504313, 0.        , 0.        ],\n",
       "       [0.93979528, 0.        , 0.        ],\n",
       "       [0.98454744, 0.        , 0.        ],\n",
       "       [1.0292996 , 0.        , 0.        ],\n",
       "       [1.07405175, 0.        , 0.        ],\n",
       "       [1.11880391, 0.        , 0.        ],\n",
       "       [1.16355607, 0.        , 0.        ],\n",
       "       [1.20830822, 0.        , 0.        ],\n",
       "       [1.25306038, 0.        , 0.        ],\n",
       "       [1.29781254, 0.        , 0.        ],\n",
       "       [1.34256469, 0.        , 0.        ],\n",
       "       [1.38731685, 0.        , 0.        ],\n",
       "       [1.43206901, 0.        , 0.        ],\n",
       "       [1.47682116, 0.        , 0.        ],\n",
       "       [1.52157332, 0.        , 0.        ],\n",
       "       [1.56632547, 0.        , 0.        ],\n",
       "       [1.61107763, 0.        , 0.        ],\n",
       "       [1.65582979, 0.        , 0.        ],\n",
       "       [1.70058194, 0.        , 0.        ],\n",
       "       [1.7453341 , 0.        , 0.        ],\n",
       "       [0.        , 0.        , 0.        ],\n",
       "       [0.        , 0.04475216, 0.        ],\n",
       "       [0.        , 0.08950431, 0.        ],\n",
       "       [0.        , 0.13425647, 0.        ],\n",
       "       [0.        , 0.17900863, 0.        ],\n",
       "       [0.        , 0.22376078, 0.        ],\n",
       "       [0.        , 0.26851294, 0.        ],\n",
       "       [0.        , 0.31326509, 0.        ],\n",
       "       [0.        , 0.35801725, 0.        ],\n",
       "       [0.        , 0.40276941, 0.        ],\n",
       "       [0.        , 0.44752156, 0.        ],\n",
       "       [0.        , 0.49227372, 0.        ],\n",
       "       [0.        , 0.53702588, 0.        ],\n",
       "       [0.        , 0.58177803, 0.        ],\n",
       "       [0.        , 0.62653019, 0.        ],\n",
       "       [0.        , 0.67128235, 0.        ],\n",
       "       [0.        , 0.7160345 , 0.        ],\n",
       "       [0.        , 0.76078666, 0.        ],\n",
       "       [0.        , 0.80553882, 0.        ],\n",
       "       [0.        , 0.85029097, 0.        ],\n",
       "       [0.        , 0.89504313, 0.        ],\n",
       "       [0.        , 0.93979528, 0.        ],\n",
       "       [0.        , 0.98454744, 0.        ],\n",
       "       [0.        , 1.0292996 , 0.        ],\n",
       "       [0.        , 1.07405175, 0.        ],\n",
       "       [0.        , 1.11880391, 0.        ],\n",
       "       [0.        , 1.16355607, 0.        ],\n",
       "       [0.        , 1.20830822, 0.        ],\n",
       "       [0.        , 1.25306038, 0.        ],\n",
       "       [0.        , 1.29781254, 0.        ],\n",
       "       [0.        , 1.34256469, 0.        ],\n",
       "       [0.        , 1.38731685, 0.        ],\n",
       "       [0.        , 1.43206901, 0.        ],\n",
       "       [0.        , 1.47682116, 0.        ],\n",
       "       [0.        , 1.52157332, 0.        ],\n",
       "       [0.        , 1.56632547, 0.        ],\n",
       "       [0.        , 1.61107763, 0.        ],\n",
       "       [0.        , 1.65582979, 0.        ],\n",
       "       [0.        , 1.70058194, 0.        ],\n",
       "       [0.        , 1.7453341 , 0.        ],\n",
       "       [0.        , 0.        , 0.        ],\n",
       "       [0.        , 0.        , 0.04475216],\n",
       "       [0.        , 0.        , 0.08950431],\n",
       "       [0.        , 0.        , 0.13425647],\n",
       "       [0.        , 0.        , 0.17900863],\n",
       "       [0.        , 0.        , 0.22376078],\n",
       "       [0.        , 0.        , 0.26851294],\n",
       "       [0.        , 0.        , 0.31326509],\n",
       "       [0.        , 0.        , 0.35801725],\n",
       "       [0.        , 0.        , 0.40276941],\n",
       "       [0.        , 0.        , 0.44752156],\n",
       "       [0.        , 0.        , 0.49227372],\n",
       "       [0.        , 0.        , 0.53702588],\n",
       "       [0.        , 0.        , 0.58177803],\n",
       "       [0.        , 0.        , 0.62653019],\n",
       "       [0.        , 0.        , 0.67128235],\n",
       "       [0.        , 0.        , 0.7160345 ],\n",
       "       [0.        , 0.        , 0.76078666],\n",
       "       [0.        , 0.        , 0.80553882],\n",
       "       [0.        , 0.        , 0.85029097],\n",
       "       [0.        , 0.        , 0.89504313],\n",
       "       [0.        , 0.        , 0.93979528],\n",
       "       [0.        , 0.        , 0.98454744],\n",
       "       [0.        , 0.        , 1.0292996 ],\n",
       "       [0.        , 0.        , 1.07405175],\n",
       "       [0.        , 0.        , 1.11880391],\n",
       "       [0.        , 0.        , 1.16355607],\n",
       "       [0.        , 0.        , 1.20830822],\n",
       "       [0.        , 0.        , 1.25306038],\n",
       "       [0.        , 0.        , 1.29781254],\n",
       "       [0.        , 0.        , 1.34256469],\n",
       "       [0.        , 0.        , 1.38731685],\n",
       "       [0.        , 0.        , 1.43206901],\n",
       "       [0.        , 0.        , 1.47682116],\n",
       "       [0.        , 0.        , 1.52157332],\n",
       "       [0.        , 0.        , 1.56632547],\n",
       "       [0.        , 0.        , 1.61107763],\n",
       "       [0.        , 0.        , 1.65582979],\n",
       "       [0.        , 0.        , 1.70058194],\n",
       "       [0.        , 0.        , 1.7453341 ]])"
      ]
     },
     "execution_count": 7,
     "metadata": {},
     "output_type": "execute_result"
    }
   ],
   "source": [
    "k_path"
   ]
  },
  {
   "cell_type": "code",
   "execution_count": null,
   "id": "da652b46",
   "metadata": {},
   "outputs": [
    {
     "ename": "ValueError",
     "evalue": "Mime type rendering requires nbformat>=4.2.0 but it is not installed",
     "output_type": "error",
     "traceback": [
      "\u001b[31m---------------------------------------------------------------------------\u001b[39m",
      "\u001b[31mValueError\u001b[39m                                Traceback (most recent call last)",
      "\u001b[36mFile \u001b[39m\u001b[32m~/miniconda3/envs/g2m_upd/lib/python3.12/site-packages/IPython/core/formatters.py:984\u001b[39m, in \u001b[36mIPythonDisplayFormatter.__call__\u001b[39m\u001b[34m(self, obj)\u001b[39m\n\u001b[32m    982\u001b[39m method = get_real_method(obj, \u001b[38;5;28mself\u001b[39m.print_method)\n\u001b[32m    983\u001b[39m \u001b[38;5;28;01mif\u001b[39;00m method \u001b[38;5;129;01mis\u001b[39;00m \u001b[38;5;129;01mnot\u001b[39;00m \u001b[38;5;28;01mNone\u001b[39;00m:\n\u001b[32m--> \u001b[39m\u001b[32m984\u001b[39m     \u001b[43mmethod\u001b[49m\u001b[43m(\u001b[49m\u001b[43m)\u001b[49m\n\u001b[32m    985\u001b[39m     \u001b[38;5;28;01mreturn\u001b[39;00m \u001b[38;5;28;01mTrue\u001b[39;00m\n",
      "\u001b[36mFile \u001b[39m\u001b[32m~/miniconda3/envs/g2m_upd/lib/python3.12/site-packages/plotly/basedatatypes.py:850\u001b[39m, in \u001b[36mBaseFigure._ipython_display_\u001b[39m\u001b[34m(self)\u001b[39m\n\u001b[32m    847\u001b[39m \u001b[38;5;28;01mimport\u001b[39;00m\u001b[38;5;250m \u001b[39m\u001b[34;01mplotly\u001b[39;00m\u001b[34;01m.\u001b[39;00m\u001b[34;01mio\u001b[39;00m\u001b[38;5;250m \u001b[39m\u001b[38;5;28;01mas\u001b[39;00m\u001b[38;5;250m \u001b[39m\u001b[34;01mpio\u001b[39;00m\n\u001b[32m    849\u001b[39m \u001b[38;5;28;01mif\u001b[39;00m pio.renderers.render_on_display \u001b[38;5;129;01mand\u001b[39;00m pio.renderers.default:\n\u001b[32m--> \u001b[39m\u001b[32m850\u001b[39m     \u001b[43mpio\u001b[49m\u001b[43m.\u001b[49m\u001b[43mshow\u001b[49m\u001b[43m(\u001b[49m\u001b[38;5;28;43mself\u001b[39;49m\u001b[43m)\u001b[49m\n\u001b[32m    851\u001b[39m \u001b[38;5;28;01melse\u001b[39;00m:\n\u001b[32m    852\u001b[39m     \u001b[38;5;28mprint\u001b[39m(\u001b[38;5;28mrepr\u001b[39m(\u001b[38;5;28mself\u001b[39m))\n",
      "\u001b[36mFile \u001b[39m\u001b[32m~/miniconda3/envs/g2m_upd/lib/python3.12/site-packages/plotly/io/_renderers.py:415\u001b[39m, in \u001b[36mshow\u001b[39m\u001b[34m(fig, renderer, validate, **kwargs)\u001b[39m\n\u001b[32m    410\u001b[39m     \u001b[38;5;28;01mraise\u001b[39;00m \u001b[38;5;167;01mValueError\u001b[39;00m(\n\u001b[32m    411\u001b[39m         \u001b[33m\"\u001b[39m\u001b[33mMime type rendering requires ipython but it is not installed\u001b[39m\u001b[33m\"\u001b[39m\n\u001b[32m    412\u001b[39m     )\n\u001b[32m    414\u001b[39m \u001b[38;5;28;01mif\u001b[39;00m \u001b[38;5;129;01mnot\u001b[39;00m nbformat \u001b[38;5;129;01mor\u001b[39;00m Version(nbformat.__version__) < Version(\u001b[33m\"\u001b[39m\u001b[33m4.2.0\u001b[39m\u001b[33m\"\u001b[39m):\n\u001b[32m--> \u001b[39m\u001b[32m415\u001b[39m     \u001b[38;5;28;01mraise\u001b[39;00m \u001b[38;5;167;01mValueError\u001b[39;00m(\n\u001b[32m    416\u001b[39m         \u001b[33m\"\u001b[39m\u001b[33mMime type rendering requires nbformat>=4.2.0 but it is not installed\u001b[39m\u001b[33m\"\u001b[39m\n\u001b[32m    417\u001b[39m     )\n\u001b[32m    419\u001b[39m display_jupyter_version_warnings()\n\u001b[32m    421\u001b[39m ipython_display.display(bundle, raw=\u001b[38;5;28;01mTrue\u001b[39;00m)\n",
      "\u001b[31mValueError\u001b[39m: Mime type rendering requires nbformat>=4.2.0 but it is not installed"
     ]
    },
    {
     "data": {
      "application/vnd.plotly.v1+json": {
       "config": {
        "plotlyServerURL": "https://plot.ly"
       },
       "data": [
        {
         "mode": "markers",
         "name": "Model A",
         "type": "scatter",
         "x": {
          "bdata": "AHi6Dx26QkByv9JRksRXQLfAz9/CTFJA0/X6HtTuTUBeVCWGJzQvQOfWf2DrMi9AwGL2CsM7F0CF90r/hqdVQD6WpKtFDk5A9rWIHKqzUUDUIqRVtHcAQFmZQU1sP1hAmNfOBaLPVED3fYKY4Ts1QLQT5xq4LjJA2PC3yydXMkBCSqX2mWw+QFtOC+DhPEpAXubkb+WYRUBmRw9Ldx89QA3Hv5C3l05AAqkq7hXmK0CDBCwr5zY9QCRv9HxuUUJAZPjQH7LNRkB0tY5LIKFTQNvgRxmm9zNAXitlaDO2SUAU0ioP6J5NQLA8/7KFlBJA+H2A+JJgTkD9mKHlag0xQJrKqXpIBRpA68JxEN64V0BtoeKFCyRYQExVFDe+NVRAjhczzBx2PkBwuMXuz4gjQATSAGQXG1FAvDgFsfMBRkCC+j+NW2goQKMc9bJDwkhAgCJW5cSCC0A22fiLprtWQMsnx3zE4DlABEq8giSQUECvf1C1zSs/QOa0TOTeAEpADlJMPuRVS0DYM+QoRnwyQA==",
          "dtype": "f8"
         },
         "y": {
          "bdata": "u6hyOOTDQUBWixDWj4VYQLiTqrKLNlJAQlCfs+sWSEDITykftAc7QD6jUYVoHjdAwgNA6vZvK0BtoOb0hGFTQMeBt6fsiFJApKSqqvVkTECI+sXTRLUfQOoUMI1QuV1AWAAajbBVUkD+H2xuUSQvQNWbq5/TLTNA6qdw+4OcKkC078NaztUtQA7ZO5eklEpA+IiUwSVJQEAasg1q7u1AQH/b4aHa/klAHUkS+t9yPUA9VX1KxmE1QJhq114xtUBAB6Yxcv/eSkA5d0x8X41QQPKg0j3yPTZAYLMG+asfUEDaRvTzU5VFQGN1BEgs9xlARPFeXTmtT0DDFJFV4t44QAKfpZcXdRfAOk3nc8ZrVEDmf9ltFnJZQCi1Gy/Q81RAACJi5a97QEByqqSHoHYqQJhiz0fAz05ALqE9lTwrR0DvfQOB40QuQE+9wQblL0VAu4l5mLoYNkAnjyBV5+pXQBNlrKcP7itA/SsBQVY0UkD1IDBUnmw1QFsAVsZW8E1ATPrca3KQUEBG4lWXp44kQA==",
          "dtype": "f8"
         }
        },
        {
         "mode": "markers",
         "name": "Model B",
         "type": "scatter",
         "x": {
          "bdata": "7NNBdFc9WEClzSee2WBTQMQe3BDLfFdAvFOFIeVeVkCbooumHuVNQI07Jb/+C1dAaNdC7NCyIUBrq4JJKZkzQHUADz5GFxJAEEGHbTpEQEBQtiu+EW9DQMkDvwOJIjtAo2b1iOu3VECTaAhNcdZBQHKCFmfsFzxAQ5l5hoIiS0CAJmgAUi8sQKs2hIgPDlRAWiXIZPzRHUCfuJKOE6xYQLzne9RdTlNAgykrFx/fM0DAxaHlt6vhP+wSHwH0YlRA1RJ5EuOrUUDzIxhYpTlSQJrEBFYhSFNAsKZQHiyeHUAludF/XOxBQOy93+9+LCdA5gcop9yTVUD/Hk9NNypPQPun2KV+i0BAOHmKBGBsGUC/Sly+JRk/QMt5qbVYQkBAyQk5w3o9UkALjndSvOBPQKf+gFspLlZA2K7k3VmcR0AU9UqzOesnQI0hZ0LE1FFANGJBOQYFU0Brk/keWRBMQMvarKAwRlNAmbEAaZWwSECFD3Hv+iJKQOFssWiGYEVApQPvT9ZVBEC6AAuDCpQlQA==",
          "dtype": "f8"
         },
         "y": {
          "bdata": "1vTH/+alWkC80BWlB2lUQB5sCGfpillAk8d2sdccW0CYVmrfBatMQLLpDZ2aKVVAAJRkKG5/p7/O/7O3X+EmQM4PfnmBAw5ASkVhG+f4QUBG2LLIO9FEQBaNE+oPtEFAwGfUwz3AVEA2eOlY9xpJQGJPhOZmcjlAOQZmxyleVEAyVZRaXlk0QEFl19Z66VFAvAuoEugHCsBBc2LW2+BZQEbJ8K9Zv1JAKLJNdPYCO0D0bJMGayMVQKPpH7dXNFRAQFZex+AbT0BY+LWMSeBMQMUChlNcKlJAcWM/FtnvL0BwT8S8Zv5CQKDCbLj82uu/3hWonbICVkCX2ewMtotQQKo1fXxQQDhAcOHSKIWSH0Dp98hoKa4/QOghpGewFjVAVRXKpHYiU0DZ6Q0ZRVdRQNNRHnlQ41hAxWsiuTfhTEDgnLS/iBP9v0I8ewIe+U5AzsARmqVOVEAII1uA/qFOQFtEYgrSj1RA3uyFOwr6VUAaLn5WuP1MQDWc1I4MDktAn1j+xPIpKEAyF8IGlU0xQA==",
          "dtype": "f8"
         }
        },
        {
         "mode": "markers",
         "name": "Model C",
         "type": "scatter",
         "x": {
          "bdata": "RYyTfbIkCUCkl7iiDdJPQFd7iluDbz9AY9PYcLRtSUAUdy/pbLBWQLUijo3h7ThA6b4fw+aEREDwckL8huNSQKUhSag74TZAWnrxJb7KHkDPTy8fo/k8QEB/AdRDHzBAtXszohA+V0DHgQxu+DNUQHHK6G2Rq09ARzrtB1nJVUCawK5UgBdUQPLUtIkxqDJAy5/CqWBQVkC384aolPdKQJyrQfOdL1RAzAld/PtmVkDa2dWS48w/QHqlzZWoAiZAvpuY4SPLNkAk1UDN+lpFQBoOemRLc1RANNPT/KyEVUBMwtxxLz/mPwaL1sKQiUlAWroHYNzeRECXyye/9TU2QCc9vFcb+SdA0JnGZHnhQEABokZCn5JXQNMFHl7/KEBAlPb8G4XwSUClESNDUpNRQNzTJ3t1LkJA4CGrw2dLWEA4gOWlqQ9YQHQsNHSgLTlACKJz58fcSEDO4FkXfBY+QADF+KnqezxA+petYnKCDUB8ldpobHpOQMOokZ9KIklAogynk2yXFEBcOtB3Wd07QA==",
          "dtype": "f8"
         },
         "y": {
          "bdata": "AAqlqVMEhL/oBLxVxM5RQOzZ/p8UtTdAoalBuJM+SEBM+XvyynlVQNqoxJZ6vzlAlgtpCtULUEDIMTGD9HBMQCIvvyIPvj1ATUFh37vbIMDDQLDafUE4QJvXyn36AjtAhfycRTRnV0Bx57e5NoJRQEDlurX6F0xAdIB+U0p8V0Ald9UPEURSQLDC1NZT0jRARKNDJ4ttVkBRzqNBiLVHQKru87+9i1lAavVFR7H8V0CcE4dBDBknQFFNEPxNvSlAmHPxgPcsMEC+risoGJ5JQCmhccsUeFJA92yskT47VUBOR4DI9/oWQJwOUWy73U1A5Vg1f/a8PUDxtUsEo90yQNZ7hwzG8hxA9fMC8Ww6O0DIHBhIg/xbQMZMUsZfL0JAwFy5p5aiQ0BCLX/DwN5TQEqxq5/RykxAyfBj3y7gWkAQwqMSRENUQLZ62s/8VTRAwxp3WW0yT0AHxonU2QI3QN54ChUMdkBAN1Zg8bzeJkCEHSnV89dJQHzRyVoZ1khAKiLe0clDO8CKp4zI6p4xQA==",
          "dtype": "f8"
         }
        },
        {
         "line": {
          "color": "gray",
          "dash": "dash"
         },
         "mode": "lines",
         "name": "Perfect Prediction",
         "type": "scatter",
         "x": [
          -27.264798275691795,
          118.89554147429922
         ],
         "y": [
          -27.264798275691795,
          118.89554147429922
         ]
        }
       ],
       "layout": {
        "legend": {
         "title": {
          "text": "Models"
         }
        },
        "template": {
         "data": {
          "bar": [
           {
            "error_x": {
             "color": "#2a3f5f"
            },
            "error_y": {
             "color": "#2a3f5f"
            },
            "marker": {
             "line": {
              "color": "#E5ECF6",
              "width": 0.5
             },
             "pattern": {
              "fillmode": "overlay",
              "size": 10,
              "solidity": 0.2
             }
            },
            "type": "bar"
           }
          ],
          "barpolar": [
           {
            "marker": {
             "line": {
              "color": "#E5ECF6",
              "width": 0.5
             },
             "pattern": {
              "fillmode": "overlay",
              "size": 10,
              "solidity": 0.2
             }
            },
            "type": "barpolar"
           }
          ],
          "carpet": [
           {
            "aaxis": {
             "endlinecolor": "#2a3f5f",
             "gridcolor": "white",
             "linecolor": "white",
             "minorgridcolor": "white",
             "startlinecolor": "#2a3f5f"
            },
            "baxis": {
             "endlinecolor": "#2a3f5f",
             "gridcolor": "white",
             "linecolor": "white",
             "minorgridcolor": "white",
             "startlinecolor": "#2a3f5f"
            },
            "type": "carpet"
           }
          ],
          "choropleth": [
           {
            "colorbar": {
             "outlinewidth": 0,
             "ticks": ""
            },
            "type": "choropleth"
           }
          ],
          "contour": [
           {
            "colorbar": {
             "outlinewidth": 0,
             "ticks": ""
            },
            "colorscale": [
             [
              0,
              "#0d0887"
             ],
             [
              0.1111111111111111,
              "#46039f"
             ],
             [
              0.2222222222222222,
              "#7201a8"
             ],
             [
              0.3333333333333333,
              "#9c179e"
             ],
             [
              0.4444444444444444,
              "#bd3786"
             ],
             [
              0.5555555555555556,
              "#d8576b"
             ],
             [
              0.6666666666666666,
              "#ed7953"
             ],
             [
              0.7777777777777778,
              "#fb9f3a"
             ],
             [
              0.8888888888888888,
              "#fdca26"
             ],
             [
              1,
              "#f0f921"
             ]
            ],
            "type": "contour"
           }
          ],
          "contourcarpet": [
           {
            "colorbar": {
             "outlinewidth": 0,
             "ticks": ""
            },
            "type": "contourcarpet"
           }
          ],
          "heatmap": [
           {
            "colorbar": {
             "outlinewidth": 0,
             "ticks": ""
            },
            "colorscale": [
             [
              0,
              "#0d0887"
             ],
             [
              0.1111111111111111,
              "#46039f"
             ],
             [
              0.2222222222222222,
              "#7201a8"
             ],
             [
              0.3333333333333333,
              "#9c179e"
             ],
             [
              0.4444444444444444,
              "#bd3786"
             ],
             [
              0.5555555555555556,
              "#d8576b"
             ],
             [
              0.6666666666666666,
              "#ed7953"
             ],
             [
              0.7777777777777778,
              "#fb9f3a"
             ],
             [
              0.8888888888888888,
              "#fdca26"
             ],
             [
              1,
              "#f0f921"
             ]
            ],
            "type": "heatmap"
           }
          ],
          "histogram": [
           {
            "marker": {
             "pattern": {
              "fillmode": "overlay",
              "size": 10,
              "solidity": 0.2
             }
            },
            "type": "histogram"
           }
          ],
          "histogram2d": [
           {
            "colorbar": {
             "outlinewidth": 0,
             "ticks": ""
            },
            "colorscale": [
             [
              0,
              "#0d0887"
             ],
             [
              0.1111111111111111,
              "#46039f"
             ],
             [
              0.2222222222222222,
              "#7201a8"
             ],
             [
              0.3333333333333333,
              "#9c179e"
             ],
             [
              0.4444444444444444,
              "#bd3786"
             ],
             [
              0.5555555555555556,
              "#d8576b"
             ],
             [
              0.6666666666666666,
              "#ed7953"
             ],
             [
              0.7777777777777778,
              "#fb9f3a"
             ],
             [
              0.8888888888888888,
              "#fdca26"
             ],
             [
              1,
              "#f0f921"
             ]
            ],
            "type": "histogram2d"
           }
          ],
          "histogram2dcontour": [
           {
            "colorbar": {
             "outlinewidth": 0,
             "ticks": ""
            },
            "colorscale": [
             [
              0,
              "#0d0887"
             ],
             [
              0.1111111111111111,
              "#46039f"
             ],
             [
              0.2222222222222222,
              "#7201a8"
             ],
             [
              0.3333333333333333,
              "#9c179e"
             ],
             [
              0.4444444444444444,
              "#bd3786"
             ],
             [
              0.5555555555555556,
              "#d8576b"
             ],
             [
              0.6666666666666666,
              "#ed7953"
             ],
             [
              0.7777777777777778,
              "#fb9f3a"
             ],
             [
              0.8888888888888888,
              "#fdca26"
             ],
             [
              1,
              "#f0f921"
             ]
            ],
            "type": "histogram2dcontour"
           }
          ],
          "mesh3d": [
           {
            "colorbar": {
             "outlinewidth": 0,
             "ticks": ""
            },
            "type": "mesh3d"
           }
          ],
          "parcoords": [
           {
            "line": {
             "colorbar": {
              "outlinewidth": 0,
              "ticks": ""
             }
            },
            "type": "parcoords"
           }
          ],
          "pie": [
           {
            "automargin": true,
            "type": "pie"
           }
          ],
          "scatter": [
           {
            "fillpattern": {
             "fillmode": "overlay",
             "size": 10,
             "solidity": 0.2
            },
            "type": "scatter"
           }
          ],
          "scatter3d": [
           {
            "line": {
             "colorbar": {
              "outlinewidth": 0,
              "ticks": ""
             }
            },
            "marker": {
             "colorbar": {
              "outlinewidth": 0,
              "ticks": ""
             }
            },
            "type": "scatter3d"
           }
          ],
          "scattercarpet": [
           {
            "marker": {
             "colorbar": {
              "outlinewidth": 0,
              "ticks": ""
             }
            },
            "type": "scattercarpet"
           }
          ],
          "scattergeo": [
           {
            "marker": {
             "colorbar": {
              "outlinewidth": 0,
              "ticks": ""
             }
            },
            "type": "scattergeo"
           }
          ],
          "scattergl": [
           {
            "marker": {
             "colorbar": {
              "outlinewidth": 0,
              "ticks": ""
             }
            },
            "type": "scattergl"
           }
          ],
          "scattermap": [
           {
            "marker": {
             "colorbar": {
              "outlinewidth": 0,
              "ticks": ""
             }
            },
            "type": "scattermap"
           }
          ],
          "scattermapbox": [
           {
            "marker": {
             "colorbar": {
              "outlinewidth": 0,
              "ticks": ""
             }
            },
            "type": "scattermapbox"
           }
          ],
          "scatterpolar": [
           {
            "marker": {
             "colorbar": {
              "outlinewidth": 0,
              "ticks": ""
             }
            },
            "type": "scatterpolar"
           }
          ],
          "scatterpolargl": [
           {
            "marker": {
             "colorbar": {
              "outlinewidth": 0,
              "ticks": ""
             }
            },
            "type": "scatterpolargl"
           }
          ],
          "scatterternary": [
           {
            "marker": {
             "colorbar": {
              "outlinewidth": 0,
              "ticks": ""
             }
            },
            "type": "scatterternary"
           }
          ],
          "surface": [
           {
            "colorbar": {
             "outlinewidth": 0,
             "ticks": ""
            },
            "colorscale": [
             [
              0,
              "#0d0887"
             ],
             [
              0.1111111111111111,
              "#46039f"
             ],
             [
              0.2222222222222222,
              "#7201a8"
             ],
             [
              0.3333333333333333,
              "#9c179e"
             ],
             [
              0.4444444444444444,
              "#bd3786"
             ],
             [
              0.5555555555555556,
              "#d8576b"
             ],
             [
              0.6666666666666666,
              "#ed7953"
             ],
             [
              0.7777777777777778,
              "#fb9f3a"
             ],
             [
              0.8888888888888888,
              "#fdca26"
             ],
             [
              1,
              "#f0f921"
             ]
            ],
            "type": "surface"
           }
          ],
          "table": [
           {
            "cells": {
             "fill": {
              "color": "#EBF0F8"
             },
             "line": {
              "color": "white"
             }
            },
            "header": {
             "fill": {
              "color": "#C8D4E3"
             },
             "line": {
              "color": "white"
             }
            },
            "type": "table"
           }
          ]
         },
         "layout": {
          "annotationdefaults": {
           "arrowcolor": "#2a3f5f",
           "arrowhead": 0,
           "arrowwidth": 1
          },
          "autotypenumbers": "strict",
          "coloraxis": {
           "colorbar": {
            "outlinewidth": 0,
            "ticks": ""
           }
          },
          "colorscale": {
           "diverging": [
            [
             0,
             "#8e0152"
            ],
            [
             0.1,
             "#c51b7d"
            ],
            [
             0.2,
             "#de77ae"
            ],
            [
             0.3,
             "#f1b6da"
            ],
            [
             0.4,
             "#fde0ef"
            ],
            [
             0.5,
             "#f7f7f7"
            ],
            [
             0.6,
             "#e6f5d0"
            ],
            [
             0.7,
             "#b8e186"
            ],
            [
             0.8,
             "#7fbc41"
            ],
            [
             0.9,
             "#4d9221"
            ],
            [
             1,
             "#276419"
            ]
           ],
           "sequential": [
            [
             0,
             "#0d0887"
            ],
            [
             0.1111111111111111,
             "#46039f"
            ],
            [
             0.2222222222222222,
             "#7201a8"
            ],
            [
             0.3333333333333333,
             "#9c179e"
            ],
            [
             0.4444444444444444,
             "#bd3786"
            ],
            [
             0.5555555555555556,
             "#d8576b"
            ],
            [
             0.6666666666666666,
             "#ed7953"
            ],
            [
             0.7777777777777778,
             "#fb9f3a"
            ],
            [
             0.8888888888888888,
             "#fdca26"
            ],
            [
             1,
             "#f0f921"
            ]
           ],
           "sequentialminus": [
            [
             0,
             "#0d0887"
            ],
            [
             0.1111111111111111,
             "#46039f"
            ],
            [
             0.2222222222222222,
             "#7201a8"
            ],
            [
             0.3333333333333333,
             "#9c179e"
            ],
            [
             0.4444444444444444,
             "#bd3786"
            ],
            [
             0.5555555555555556,
             "#d8576b"
            ],
            [
             0.6666666666666666,
             "#ed7953"
            ],
            [
             0.7777777777777778,
             "#fb9f3a"
            ],
            [
             0.8888888888888888,
             "#fdca26"
            ],
            [
             1,
             "#f0f921"
            ]
           ]
          },
          "colorway": [
           "#636efa",
           "#EF553B",
           "#00cc96",
           "#ab63fa",
           "#FFA15A",
           "#19d3f3",
           "#FF6692",
           "#B6E880",
           "#FF97FF",
           "#FECB52"
          ],
          "font": {
           "color": "#2a3f5f"
          },
          "geo": {
           "bgcolor": "white",
           "lakecolor": "white",
           "landcolor": "#E5ECF6",
           "showlakes": true,
           "showland": true,
           "subunitcolor": "white"
          },
          "hoverlabel": {
           "align": "left"
          },
          "hovermode": "closest",
          "mapbox": {
           "style": "light"
          },
          "paper_bgcolor": "white",
          "plot_bgcolor": "#E5ECF6",
          "polar": {
           "angularaxis": {
            "gridcolor": "white",
            "linecolor": "white",
            "ticks": ""
           },
           "bgcolor": "#E5ECF6",
           "radialaxis": {
            "gridcolor": "white",
            "linecolor": "white",
            "ticks": ""
           }
          },
          "scene": {
           "xaxis": {
            "backgroundcolor": "#E5ECF6",
            "gridcolor": "white",
            "gridwidth": 2,
            "linecolor": "white",
            "showbackground": true,
            "ticks": "",
            "zerolinecolor": "white"
           },
           "yaxis": {
            "backgroundcolor": "#E5ECF6",
            "gridcolor": "white",
            "gridwidth": 2,
            "linecolor": "white",
            "showbackground": true,
            "ticks": "",
            "zerolinecolor": "white"
           },
           "zaxis": {
            "backgroundcolor": "#E5ECF6",
            "gridcolor": "white",
            "gridwidth": 2,
            "linecolor": "white",
            "showbackground": true,
            "ticks": "",
            "zerolinecolor": "white"
           }
          },
          "shapedefaults": {
           "line": {
            "color": "#2a3f5f"
           }
          },
          "ternary": {
           "aaxis": {
            "gridcolor": "white",
            "linecolor": "white",
            "ticks": ""
           },
           "baxis": {
            "gridcolor": "white",
            "linecolor": "white",
            "ticks": ""
           },
           "bgcolor": "#E5ECF6",
           "caxis": {
            "gridcolor": "white",
            "linecolor": "white",
            "ticks": ""
           }
          },
          "title": {
           "x": 0.05
          },
          "xaxis": {
           "automargin": true,
           "gridcolor": "white",
           "linecolor": "white",
           "ticks": "",
           "title": {
            "standoff": 15
           },
           "zerolinecolor": "white",
           "zerolinewidth": 2
          },
          "yaxis": {
           "automargin": true,
           "gridcolor": "white",
           "linecolor": "white",
           "ticks": "",
           "title": {
            "standoff": 15
           },
           "zerolinecolor": "white",
           "zerolinewidth": 2
          }
         }
        },
        "title": {
         "text": "Model Predictions vs True Values"
        },
        "xaxis": {
         "title": {
          "text": "Measured Values"
         }
        },
        "yaxis": {
         "title": {
          "text": "Predicted Values"
         }
        }
       }
      },
      "text/html": [
       "<div>                        <script type=\"text/javascript\">window.PlotlyConfig = {MathJaxConfig: 'local'};</script>\n",
       "        <script charset=\"utf-8\" src=\"https://cdn.plot.ly/plotly-3.0.1.min.js\" integrity=\"sha256-oy6Be7Eh6eiQFs5M7oXuPxxm9qbJXEtTpfSI93dW16Q=\" crossorigin=\"anonymous\"></script>                <div id=\"c3f79e24-c2b0-4aac-a048-ca0a009e43cf\" class=\"plotly-graph-div\" style=\"height:100%; width:100%;\"></div>            <script type=\"text/javascript\">                window.PLOTLYENV=window.PLOTLYENV || {};                                if (document.getElementById(\"c3f79e24-c2b0-4aac-a048-ca0a009e43cf\")) {                    Plotly.newPlot(                        \"c3f79e24-c2b0-4aac-a048-ca0a009e43cf\",                        [{\"mode\":\"markers\",\"name\":\"Model A\",\"x\":{\"dtype\":\"f8\",\"bdata\":\"AHi6Dx26QkByv9JRksRXQLfAz9\\u002fCTFJA0\\u002fX6HtTuTUBeVCWGJzQvQOfWf2DrMi9AwGL2CsM7F0CF90r\\u002fhqdVQD6WpKtFDk5A9rWIHKqzUUDUIqRVtHcAQFmZQU1sP1hAmNfOBaLPVED3fYKY4Ts1QLQT5xq4LjJA2PC3yydXMkBCSqX2mWw+QFtOC+DhPEpAXubkb+WYRUBmRw9Ldx89QA3Hv5C3l05AAqkq7hXmK0CDBCwr5zY9QCRv9HxuUUJAZPjQH7LNRkB0tY5LIKFTQNvgRxmm9zNAXitlaDO2SUAU0ioP6J5NQLA8\\u002f7KFlBJA+H2A+JJgTkD9mKHlag0xQJrKqXpIBRpA68JxEN64V0BtoeKFCyRYQExVFDe+NVRAjhczzBx2PkBwuMXuz4gjQATSAGQXG1FAvDgFsfMBRkCC+j+NW2goQKMc9bJDwkhAgCJW5cSCC0A22fiLprtWQMsnx3zE4DlABEq8giSQUECvf1C1zSs\\u002fQOa0TOTeAEpADlJMPuRVS0DYM+QoRnwyQA==\"},\"y\":{\"dtype\":\"f8\",\"bdata\":\"u6hyOOTDQUBWixDWj4VYQLiTqrKLNlJAQlCfs+sWSEDITykftAc7QD6jUYVoHjdAwgNA6vZvK0BtoOb0hGFTQMeBt6fsiFJApKSqqvVkTECI+sXTRLUfQOoUMI1QuV1AWAAajbBVUkD+H2xuUSQvQNWbq5\\u002fTLTNA6qdw+4OcKkC078NaztUtQA7ZO5eklEpA+IiUwSVJQEAasg1q7u1AQH\\u002fb4aHa\\u002fklAHUkS+t9yPUA9VX1KxmE1QJhq114xtUBAB6Yxcv\\u002feSkA5d0x8X41QQPKg0j3yPTZAYLMG+asfUEDaRvTzU5VFQGN1BEgs9xlARPFeXTmtT0DDFJFV4t44QAKfpZcXdRfAOk3nc8ZrVEDmf9ltFnJZQCi1Gy\\u002fQ81RAACJi5a97QEByqqSHoHYqQJhiz0fAz05ALqE9lTwrR0DvfQOB40QuQE+9wQblL0VAu4l5mLoYNkAnjyBV5+pXQBNlrKcP7itA\\u002fSsBQVY0UkD1IDBUnmw1QFsAVsZW8E1ATPrca3KQUEBG4lWXp44kQA==\"},\"type\":\"scatter\"},{\"mode\":\"markers\",\"name\":\"Model B\",\"x\":{\"dtype\":\"f8\",\"bdata\":\"7NNBdFc9WEClzSee2WBTQMQe3BDLfFdAvFOFIeVeVkCbooumHuVNQI07Jb\\u002f+C1dAaNdC7NCyIUBrq4JJKZkzQHUADz5GFxJAEEGHbTpEQEBQtiu+EW9DQMkDvwOJIjtAo2b1iOu3VECTaAhNcdZBQHKCFmfsFzxAQ5l5hoIiS0CAJmgAUi8sQKs2hIgPDlRAWiXIZPzRHUCfuJKOE6xYQLzne9RdTlNAgykrFx\\u002ffM0DAxaHlt6vhP+wSHwH0YlRA1RJ5EuOrUUDzIxhYpTlSQJrEBFYhSFNAsKZQHiyeHUAludF\\u002fXOxBQOy93+9+LCdA5gcop9yTVUD\\u002fHk9NNypPQPun2KV+i0BAOHmKBGBsGUC\\u002fSly+JRk\\u002fQMt5qbVYQkBAyQk5w3o9UkALjndSvOBPQKf+gFspLlZA2K7k3VmcR0AU9UqzOesnQI0hZ0LE1FFANGJBOQYFU0Brk\\u002fkeWRBMQMvarKAwRlNAmbEAaZWwSECFD3Hv+iJKQOFssWiGYEVApQPvT9ZVBEC6AAuDCpQlQA==\"},\"y\":{\"dtype\":\"f8\",\"bdata\":\"1vTH\\u002f+alWkC80BWlB2lUQB5sCGfpillAk8d2sdccW0CYVmrfBatMQLLpDZ2aKVVAAJRkKG5\\u002fp7\\u002fO\\u002f7O3X+EmQM4PfnmBAw5ASkVhG+f4QUBG2LLIO9FEQBaNE+oPtEFAwGfUwz3AVEA2eOlY9xpJQGJPhOZmcjlAOQZmxyleVEAyVZRaXlk0QEFl19Z66VFAvAuoEugHCsBBc2LW2+BZQEbJ8K9Zv1JAKLJNdPYCO0D0bJMGayMVQKPpH7dXNFRAQFZex+AbT0BY+LWMSeBMQMUChlNcKlJAcWM\\u002fFtnvL0BwT8S8Zv5CQKDCbLj82uu\\u002f3hWonbICVkCX2ewMtotQQKo1fXxQQDhAcOHSKIWSH0Dp98hoKa4\\u002fQOghpGewFjVAVRXKpHYiU0DZ6Q0ZRVdRQNNRHnlQ41hAxWsiuTfhTEDgnLS\\u002fiBP9v0I8ewIe+U5AzsARmqVOVEAII1uA\\u002fqFOQFtEYgrSj1RA3uyFOwr6VUAaLn5WuP1MQDWc1I4MDktAn1j+xPIpKEAyF8IGlU0xQA==\"},\"type\":\"scatter\"},{\"mode\":\"markers\",\"name\":\"Model C\",\"x\":{\"dtype\":\"f8\",\"bdata\":\"RYyTfbIkCUCkl7iiDdJPQFd7iluDbz9AY9PYcLRtSUAUdy\\u002fpbLBWQLUijo3h7ThA6b4fw+aEREDwckL8huNSQKUhSag74TZAWnrxJb7KHkDPTy8fo\\u002fk8QEB\\u002fAdRDHzBAtXszohA+V0DHgQxu+DNUQHHK6G2Rq09ARzrtB1nJVUCawK5UgBdUQPLUtIkxqDJAy5\\u002fCqWBQVkC384aolPdKQJyrQfOdL1RAzAld\\u002fPtmVkDa2dWS48w\\u002fQHqlzZWoAiZAvpuY4SPLNkAk1UDN+lpFQBoOemRLc1RANNPT\\u002fKyEVUBMwtxxLz\\u002fmPwaL1sKQiUlAWroHYNzeRECXyye\\u002f9TU2QCc9vFcb+SdA0JnGZHnhQEABokZCn5JXQNMFHl7\\u002fKEBAlPb8G4XwSUClESNDUpNRQNzTJ3t1LkJA4CGrw2dLWEA4gOWlqQ9YQHQsNHSgLTlACKJz58fcSEDO4FkXfBY+QADF+KnqezxA+petYnKCDUB8ldpobHpOQMOokZ9KIklAogynk2yXFEBcOtB3Wd07QA==\"},\"y\":{\"dtype\":\"f8\",\"bdata\":\"AAqlqVMEhL\\u002foBLxVxM5RQOzZ\\u002fp8UtTdAoalBuJM+SEBM+XvyynlVQNqoxJZ6vzlAlgtpCtULUEDIMTGD9HBMQCIvvyIPvj1ATUFh37vbIMDDQLDafUE4QJvXyn36AjtAhfycRTRnV0Bx57e5NoJRQEDlurX6F0xAdIB+U0p8V0Ald9UPEURSQLDC1NZT0jRARKNDJ4ttVkBRzqNBiLVHQKru87+9i1lAavVFR7H8V0CcE4dBDBknQFFNEPxNvSlAmHPxgPcsMEC+risoGJ5JQCmhccsUeFJA92yskT47VUBOR4DI9\\u002foWQJwOUWy73U1A5Vg1f\\u002fa8PUDxtUsEo90yQNZ7hwzG8hxA9fMC8Ww6O0DIHBhIg\\u002fxbQMZMUsZfL0JAwFy5p5aiQ0BCLX\\u002fDwN5TQEqxq5\\u002fRykxAyfBj3y7gWkAQwqMSRENUQLZ62s\\u002f8VTRAwxp3WW0yT0AHxonU2QI3QN54ChUMdkBAN1Zg8bzeJkCEHSnV89dJQHzRyVoZ1khAKiLe0clDO8CKp4zI6p4xQA==\"},\"type\":\"scatter\"},{\"line\":{\"color\":\"gray\",\"dash\":\"dash\"},\"mode\":\"lines\",\"name\":\"Perfect Prediction\",\"x\":[-27.264798275691795,118.89554147429922],\"y\":[-27.264798275691795,118.89554147429922],\"type\":\"scatter\"}],                        {\"template\":{\"data\":{\"histogram2dcontour\":[{\"type\":\"histogram2dcontour\",\"colorbar\":{\"outlinewidth\":0,\"ticks\":\"\"},\"colorscale\":[[0.0,\"#0d0887\"],[0.1111111111111111,\"#46039f\"],[0.2222222222222222,\"#7201a8\"],[0.3333333333333333,\"#9c179e\"],[0.4444444444444444,\"#bd3786\"],[0.5555555555555556,\"#d8576b\"],[0.6666666666666666,\"#ed7953\"],[0.7777777777777778,\"#fb9f3a\"],[0.8888888888888888,\"#fdca26\"],[1.0,\"#f0f921\"]]}],\"choropleth\":[{\"type\":\"choropleth\",\"colorbar\":{\"outlinewidth\":0,\"ticks\":\"\"}}],\"histogram2d\":[{\"type\":\"histogram2d\",\"colorbar\":{\"outlinewidth\":0,\"ticks\":\"\"},\"colorscale\":[[0.0,\"#0d0887\"],[0.1111111111111111,\"#46039f\"],[0.2222222222222222,\"#7201a8\"],[0.3333333333333333,\"#9c179e\"],[0.4444444444444444,\"#bd3786\"],[0.5555555555555556,\"#d8576b\"],[0.6666666666666666,\"#ed7953\"],[0.7777777777777778,\"#fb9f3a\"],[0.8888888888888888,\"#fdca26\"],[1.0,\"#f0f921\"]]}],\"heatmap\":[{\"type\":\"heatmap\",\"colorbar\":{\"outlinewidth\":0,\"ticks\":\"\"},\"colorscale\":[[0.0,\"#0d0887\"],[0.1111111111111111,\"#46039f\"],[0.2222222222222222,\"#7201a8\"],[0.3333333333333333,\"#9c179e\"],[0.4444444444444444,\"#bd3786\"],[0.5555555555555556,\"#d8576b\"],[0.6666666666666666,\"#ed7953\"],[0.7777777777777778,\"#fb9f3a\"],[0.8888888888888888,\"#fdca26\"],[1.0,\"#f0f921\"]]}],\"contourcarpet\":[{\"type\":\"contourcarpet\",\"colorbar\":{\"outlinewidth\":0,\"ticks\":\"\"}}],\"contour\":[{\"type\":\"contour\",\"colorbar\":{\"outlinewidth\":0,\"ticks\":\"\"},\"colorscale\":[[0.0,\"#0d0887\"],[0.1111111111111111,\"#46039f\"],[0.2222222222222222,\"#7201a8\"],[0.3333333333333333,\"#9c179e\"],[0.4444444444444444,\"#bd3786\"],[0.5555555555555556,\"#d8576b\"],[0.6666666666666666,\"#ed7953\"],[0.7777777777777778,\"#fb9f3a\"],[0.8888888888888888,\"#fdca26\"],[1.0,\"#f0f921\"]]}],\"surface\":[{\"type\":\"surface\",\"colorbar\":{\"outlinewidth\":0,\"ticks\":\"\"},\"colorscale\":[[0.0,\"#0d0887\"],[0.1111111111111111,\"#46039f\"],[0.2222222222222222,\"#7201a8\"],[0.3333333333333333,\"#9c179e\"],[0.4444444444444444,\"#bd3786\"],[0.5555555555555556,\"#d8576b\"],[0.6666666666666666,\"#ed7953\"],[0.7777777777777778,\"#fb9f3a\"],[0.8888888888888888,\"#fdca26\"],[1.0,\"#f0f921\"]]}],\"mesh3d\":[{\"type\":\"mesh3d\",\"colorbar\":{\"outlinewidth\":0,\"ticks\":\"\"}}],\"scatter\":[{\"fillpattern\":{\"fillmode\":\"overlay\",\"size\":10,\"solidity\":0.2},\"type\":\"scatter\"}],\"parcoords\":[{\"type\":\"parcoords\",\"line\":{\"colorbar\":{\"outlinewidth\":0,\"ticks\":\"\"}}}],\"scatterpolargl\":[{\"type\":\"scatterpolargl\",\"marker\":{\"colorbar\":{\"outlinewidth\":0,\"ticks\":\"\"}}}],\"bar\":[{\"error_x\":{\"color\":\"#2a3f5f\"},\"error_y\":{\"color\":\"#2a3f5f\"},\"marker\":{\"line\":{\"color\":\"#E5ECF6\",\"width\":0.5},\"pattern\":{\"fillmode\":\"overlay\",\"size\":10,\"solidity\":0.2}},\"type\":\"bar\"}],\"scattergeo\":[{\"type\":\"scattergeo\",\"marker\":{\"colorbar\":{\"outlinewidth\":0,\"ticks\":\"\"}}}],\"scatterpolar\":[{\"type\":\"scatterpolar\",\"marker\":{\"colorbar\":{\"outlinewidth\":0,\"ticks\":\"\"}}}],\"histogram\":[{\"marker\":{\"pattern\":{\"fillmode\":\"overlay\",\"size\":10,\"solidity\":0.2}},\"type\":\"histogram\"}],\"scattergl\":[{\"type\":\"scattergl\",\"marker\":{\"colorbar\":{\"outlinewidth\":0,\"ticks\":\"\"}}}],\"scatter3d\":[{\"type\":\"scatter3d\",\"line\":{\"colorbar\":{\"outlinewidth\":0,\"ticks\":\"\"}},\"marker\":{\"colorbar\":{\"outlinewidth\":0,\"ticks\":\"\"}}}],\"scattermap\":[{\"type\":\"scattermap\",\"marker\":{\"colorbar\":{\"outlinewidth\":0,\"ticks\":\"\"}}}],\"scattermapbox\":[{\"type\":\"scattermapbox\",\"marker\":{\"colorbar\":{\"outlinewidth\":0,\"ticks\":\"\"}}}],\"scatterternary\":[{\"type\":\"scatterternary\",\"marker\":{\"colorbar\":{\"outlinewidth\":0,\"ticks\":\"\"}}}],\"scattercarpet\":[{\"type\":\"scattercarpet\",\"marker\":{\"colorbar\":{\"outlinewidth\":0,\"ticks\":\"\"}}}],\"carpet\":[{\"aaxis\":{\"endlinecolor\":\"#2a3f5f\",\"gridcolor\":\"white\",\"linecolor\":\"white\",\"minorgridcolor\":\"white\",\"startlinecolor\":\"#2a3f5f\"},\"baxis\":{\"endlinecolor\":\"#2a3f5f\",\"gridcolor\":\"white\",\"linecolor\":\"white\",\"minorgridcolor\":\"white\",\"startlinecolor\":\"#2a3f5f\"},\"type\":\"carpet\"}],\"table\":[{\"cells\":{\"fill\":{\"color\":\"#EBF0F8\"},\"line\":{\"color\":\"white\"}},\"header\":{\"fill\":{\"color\":\"#C8D4E3\"},\"line\":{\"color\":\"white\"}},\"type\":\"table\"}],\"barpolar\":[{\"marker\":{\"line\":{\"color\":\"#E5ECF6\",\"width\":0.5},\"pattern\":{\"fillmode\":\"overlay\",\"size\":10,\"solidity\":0.2}},\"type\":\"barpolar\"}],\"pie\":[{\"automargin\":true,\"type\":\"pie\"}]},\"layout\":{\"autotypenumbers\":\"strict\",\"colorway\":[\"#636efa\",\"#EF553B\",\"#00cc96\",\"#ab63fa\",\"#FFA15A\",\"#19d3f3\",\"#FF6692\",\"#B6E880\",\"#FF97FF\",\"#FECB52\"],\"font\":{\"color\":\"#2a3f5f\"},\"hovermode\":\"closest\",\"hoverlabel\":{\"align\":\"left\"},\"paper_bgcolor\":\"white\",\"plot_bgcolor\":\"#E5ECF6\",\"polar\":{\"bgcolor\":\"#E5ECF6\",\"angularaxis\":{\"gridcolor\":\"white\",\"linecolor\":\"white\",\"ticks\":\"\"},\"radialaxis\":{\"gridcolor\":\"white\",\"linecolor\":\"white\",\"ticks\":\"\"}},\"ternary\":{\"bgcolor\":\"#E5ECF6\",\"aaxis\":{\"gridcolor\":\"white\",\"linecolor\":\"white\",\"ticks\":\"\"},\"baxis\":{\"gridcolor\":\"white\",\"linecolor\":\"white\",\"ticks\":\"\"},\"caxis\":{\"gridcolor\":\"white\",\"linecolor\":\"white\",\"ticks\":\"\"}},\"coloraxis\":{\"colorbar\":{\"outlinewidth\":0,\"ticks\":\"\"}},\"colorscale\":{\"sequential\":[[0.0,\"#0d0887\"],[0.1111111111111111,\"#46039f\"],[0.2222222222222222,\"#7201a8\"],[0.3333333333333333,\"#9c179e\"],[0.4444444444444444,\"#bd3786\"],[0.5555555555555556,\"#d8576b\"],[0.6666666666666666,\"#ed7953\"],[0.7777777777777778,\"#fb9f3a\"],[0.8888888888888888,\"#fdca26\"],[1.0,\"#f0f921\"]],\"sequentialminus\":[[0.0,\"#0d0887\"],[0.1111111111111111,\"#46039f\"],[0.2222222222222222,\"#7201a8\"],[0.3333333333333333,\"#9c179e\"],[0.4444444444444444,\"#bd3786\"],[0.5555555555555556,\"#d8576b\"],[0.6666666666666666,\"#ed7953\"],[0.7777777777777778,\"#fb9f3a\"],[0.8888888888888888,\"#fdca26\"],[1.0,\"#f0f921\"]],\"diverging\":[[0,\"#8e0152\"],[0.1,\"#c51b7d\"],[0.2,\"#de77ae\"],[0.3,\"#f1b6da\"],[0.4,\"#fde0ef\"],[0.5,\"#f7f7f7\"],[0.6,\"#e6f5d0\"],[0.7,\"#b8e186\"],[0.8,\"#7fbc41\"],[0.9,\"#4d9221\"],[1,\"#276419\"]]},\"xaxis\":{\"gridcolor\":\"white\",\"linecolor\":\"white\",\"ticks\":\"\",\"title\":{\"standoff\":15},\"zerolinecolor\":\"white\",\"automargin\":true,\"zerolinewidth\":2},\"yaxis\":{\"gridcolor\":\"white\",\"linecolor\":\"white\",\"ticks\":\"\",\"title\":{\"standoff\":15},\"zerolinecolor\":\"white\",\"automargin\":true,\"zerolinewidth\":2},\"scene\":{\"xaxis\":{\"backgroundcolor\":\"#E5ECF6\",\"gridcolor\":\"white\",\"linecolor\":\"white\",\"showbackground\":true,\"ticks\":\"\",\"zerolinecolor\":\"white\",\"gridwidth\":2},\"yaxis\":{\"backgroundcolor\":\"#E5ECF6\",\"gridcolor\":\"white\",\"linecolor\":\"white\",\"showbackground\":true,\"ticks\":\"\",\"zerolinecolor\":\"white\",\"gridwidth\":2},\"zaxis\":{\"backgroundcolor\":\"#E5ECF6\",\"gridcolor\":\"white\",\"linecolor\":\"white\",\"showbackground\":true,\"ticks\":\"\",\"zerolinecolor\":\"white\",\"gridwidth\":2}},\"shapedefaults\":{\"line\":{\"color\":\"#2a3f5f\"}},\"annotationdefaults\":{\"arrowcolor\":\"#2a3f5f\",\"arrowhead\":0,\"arrowwidth\":1},\"geo\":{\"bgcolor\":\"white\",\"landcolor\":\"#E5ECF6\",\"subunitcolor\":\"white\",\"showland\":true,\"showlakes\":true,\"lakecolor\":\"white\"},\"title\":{\"x\":0.05},\"mapbox\":{\"style\":\"light\"}}},\"title\":{\"text\":\"Model Predictions vs True Values\"},\"xaxis\":{\"title\":{\"text\":\"Measured Values\"}},\"yaxis\":{\"title\":{\"text\":\"Predicted Values\"}},\"legend\":{\"title\":{\"text\":\"Models\"}}},                        {\"responsive\": true}                    )                };            </script>        </div>"
      ],
      "text/plain": [
       "Figure({\n",
       "    'data': [{'mode': 'markers',\n",
       "              'name': 'Model A',\n",
       "              'type': 'scatter',\n",
       "              'x': {'bdata': ('AHi6Dx26QkByv9JRksRXQLfAz9/CTF' ... 'TeAEpADlJMPuRVS0DYM+QoRnwyQA=='),\n",
       "                    'dtype': 'f8'},\n",
       "              'y': {'bdata': ('u6hyOOTDQUBWixDWj4VYQLiTqrKLNl' ... 'ZW8E1ATPrca3KQUEBG4lWXp44kQA=='),\n",
       "                    'dtype': 'f8'}},\n",
       "             {'mode': 'markers',\n",
       "              'name': 'Model B',\n",
       "              'type': 'scatter',\n",
       "              'x': {'bdata': ('7NNBdFc9WEClzSee2WBTQMQe3BDLfF' ... 'iGYEVApQPvT9ZVBEC6AAuDCpQlQA=='),\n",
       "                    'dtype': 'f8'},\n",
       "              'y': {'bdata': ('1vTH/+alWkC80BWlB2lUQB5sCGfpil' ... '4MDktAn1j+xPIpKEAyF8IGlU0xQA=='),\n",
       "                    'dtype': 'f8'}},\n",
       "             {'mode': 'markers',\n",
       "              'name': 'Model C',\n",
       "              'type': 'scatter',\n",
       "              'x': {'bdata': ('RYyTfbIkCUCkl7iiDdJPQFd7iluDbz' ... '9KIklAogynk2yXFEBcOtB3Wd07QA=='),\n",
       "                    'dtype': 'f8'},\n",
       "              'y': {'bdata': ('AAqlqVMEhL/oBLxVxM5RQOzZ/p8UtT' ... 'oZ1khAKiLe0clDO8CKp4zI6p4xQA=='),\n",
       "                    'dtype': 'f8'}},\n",
       "             {'line': {'color': 'gray', 'dash': 'dash'},\n",
       "              'mode': 'lines',\n",
       "              'name': 'Perfect Prediction',\n",
       "              'type': 'scatter',\n",
       "              'x': [-27.264798275691795, 118.89554147429922],\n",
       "              'y': [-27.264798275691795, 118.89554147429922]}],\n",
       "    'layout': {'legend': {'title': {'text': 'Models'}},\n",
       "               'template': '...',\n",
       "               'title': {'text': 'Model Predictions vs True Values'},\n",
       "               'xaxis': {'title': {'text': 'Measured Values'}},\n",
       "               'yaxis': {'title': {'text': 'Predicted Values'}}}\n",
       "})"
      ]
     },
     "execution_count": 4,
     "metadata": {},
     "output_type": "execute_result"
    }
   ],
   "source": [
    "import plotly.graph_objects as go\n",
    "import numpy as np\n",
    "\n",
    "def plot_predictions_vs_truths(predictions, truths, series_names=None, \n",
    "                               title='True vs Predicted Values', \n",
    "                               xaxis_title='True Values', \n",
    "                               yaxis_title='Predicted Values', \n",
    "                               legend_title='Series',\n",
    "                               show_diagonal=True, \n",
    "                               show_points=True,\n",
    "                               path=None):\n",
    "    \"\"\"\n",
    "    Plots true values vs predictions for multiple series using Plotly.\n",
    "    \n",
    "    Parameters:\n",
    "    predictions (np.ndarray): 2D array of predicted values (rows: series, columns: points).\n",
    "    truths (np.ndarray): 2D array of true values (same shape as predictions).\n",
    "    series_names (list, optional): Names for each series. Defaults to generic names.\n",
    "    title (str, optional): Plot title.\n",
    "    xaxis_title (str, optional): X-axis title.\n",
    "    yaxis_title (str, optional): Y-axis title.\n",
    "    legend_title (str, optional): Legend title.\n",
    "    show_diagonal (bool, optional): Whether to show the diagonal line.\n",
    "    show_points (bool, optional): Whether points are visible by default (False sets to 'legendonly').\n",
    "    path (str, optional): Path to save the plot as HTML.\n",
    "    \"\"\"\n",
    "    # Validate input shapes\n",
    "    if predictions.shape != truths.shape:\n",
    "        raise ValueError(\"predictions and truths must have the same shape\")\n",
    "    \n",
    "    n_series = predictions.shape[0]\n",
    "    \n",
    "    # Generate default series names if not provided\n",
    "    if series_names is None:\n",
    "        series_names = [f'Series {i+1}' for i in range(n_series)]\n",
    "    elif len(series_names) != n_series:\n",
    "        raise ValueError(\"series_names length must match number of series\")\n",
    "    \n",
    "    # Create traces for each series\n",
    "    traces = []\n",
    "    for i in range(n_series):\n",
    "        trace = go.Scatter(\n",
    "            x=truths[i],\n",
    "            y=predictions[i],\n",
    "            mode='markers',\n",
    "            name=series_names[i],\n",
    "            visible=None if show_points else 'legendonly'\n",
    "        )\n",
    "        traces.append(trace)\n",
    "    \n",
    "    # Create diagonal line trace if enabled\n",
    "    if show_diagonal:\n",
    "        all_values = np.concatenate([truths.flatten(), predictions.flatten()])\n",
    "        min_val, max_val = min(all_values), max(all_values)\n",
    "        diagonal_trace = go.Scatter(\n",
    "            x=[min_val, max_val],\n",
    "            y=[min_val, max_val],\n",
    "            mode='lines',\n",
    "            line=dict(dash='dash', color='gray'),\n",
    "            name='Perfect Prediction'\n",
    "        )\n",
    "        traces.append(diagonal_trace)\n",
    "    \n",
    "    # Create figure and update layout\n",
    "    fig = go.Figure(data=traces)\n",
    "    fig.update_layout(\n",
    "        title=title,\n",
    "        xaxis_title=xaxis_title,\n",
    "        yaxis_title=yaxis_title,\n",
    "        legend_title=legend_title\n",
    "    )\n",
    "    \n",
    "    # Save to HTML if path is provided\n",
    "    if path:\n",
    "        fig.write_html(path)\n",
    "    \n",
    "    return fig\n",
    "\n",
    "# Example usage\n",
    "np.random.seed(42)\n",
    "# Generate random data: 3 series, 50 points each\n",
    "truths = np.random.rand(3, 50) * 100\n",
    "predictions = truths + np.random.randn(3, 50) * 10  # Add noise\n",
    "\n",
    "# Generate plot\n",
    "fig = plot_predictions_vs_truths(\n",
    "    predictions=predictions,\n",
    "    truths=truths,\n",
    "    series_names=['Model A', 'Model B', 'Model C'],\n",
    "    title='Model Predictions vs True Values',\n",
    "    xaxis_title='Measured Values',\n",
    "    yaxis_title='Predicted Values',\n",
    "    legend_title='Models',\n",
    "    show_diagonal=True,\n",
    "    show_points=True,\n",
    "    path=\n",
    ")\n",
    "fig\n",
    "\n",
    "v"
   ]
  }
 ],
 "metadata": {
  "kernelspec": {
   "display_name": "g2m_upd",
   "language": "python",
   "name": "python3"
  },
  "language_info": {
   "codemirror_mode": {
    "name": "ipython",
    "version": 3
   },
   "file_extension": ".py",
   "mimetype": "text/x-python",
   "name": "python",
   "nbconvert_exporter": "python",
   "pygments_lexer": "ipython3",
   "version": "3.12.11"
  }
 },
 "nbformat": 4,
 "nbformat_minor": 5
}
