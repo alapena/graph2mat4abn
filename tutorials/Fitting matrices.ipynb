{
 "cells": [
  {
   "cell_type": "markdown",
   "id": "97658521-39cc-4b66-b82a-e533a8d78901",
   "metadata": {},
   "source": [
    "# Fitting matrices\n",
    "\n",
    "**This notebook shows how you can fit your function to predict matrices for configurations**. We create the target matrices synthetically.\n",
    "\n",
    "<div class=\"alert alert-info\">\n",
    "\n",
    "Note\n",
    "\n",
    "This tutorial shows the rawest possible training workflow. Notice that we provide tools to easily perform training with ``pytorch_lightning`` (including a CLI). Look for \"Lightning\" in the API documentation to understand the tools that we provide, or go to the CLI tutorials to understand how train with the CLI.\n",
    "\n",
    "</div>\n",
    "\n",
    "Prerequisites\n",
    "-------------\n",
    "\n",
    "Before reading this notebook, **make sure you have read the [notebook on computing a matrix](<./Computing a matrix.ipynb>) and [the notebook on batching](./Batching.ipynb)**, which introduce the basic concepts of `graph2mat` that we are going to assume are already known. Also **we will use exactly the same setup as in the batching notebook**, with the only difference that we will compute add target matrices to each structure.\n",
    "\n",
    "In this notebook we will:\n",
    "\n",
    "- Introduce the **addition of a target matrix** to a configuration.\n",
    "- **Introduce the metrics** that can be used as loss functions.\n",
    "- **Introduce the simplest training loop**.\n",
    "\n",
    "It is **specially useful if you are quite new to machine learning**, because it goes step by step. It also serves as a minimal example from which you can expand to create training flows different from the ones we propose."
   ]
  },
  {
   "cell_type": "code",
   "execution_count": 1,
   "id": "cb3ffe9a-000b-4661-b7c4-b9bbfcc31575",
   "metadata": {
    "scrolled": true
   },
   "outputs": [
    {
     "name": "stderr",
     "output_type": "stream",
     "text": [
      "/home/ICN2/alapena/miniconda3/envs/graph2mat/lib/python3.12/site-packages/e3nn/o3/_wigner.py:10: FutureWarning: You are using `torch.load` with `weights_only=False` (the current default value), which uses the default pickle module implicitly. It is possible to construct malicious pickle data which will execute arbitrary code during unpickling (See https://github.com/pytorch/pytorch/blob/main/SECURITY.md#untrusted-models for more details). In a future release, the default value for `weights_only` will be flipped to `True`. This limits the functions that could be executed during unpickling. Arbitrary objects will no longer be allowed to be loaded via this mode unless they are explicitly allowlisted by the user via `torch.serialization.add_safe_globals`. We recommend you start setting `weights_only=True` for any use case where you don't have full control of the loaded file. Please open an issue on GitHub for any issues related to this experimental feature.\n",
      "  _Jd, _W3j_flat, _W3j_indices = torch.load(os.path.join(os.path.dirname(__file__), 'constants.pt'))\n"
     ]
    }
   ],
   "source": [
    "import numpy as np\n",
    "import pandas as pd\n",
    "import torch\n",
    "\n",
    "# To load plotly templates for sisl visualization\n",
    "import sisl.viz\n",
    "\n",
    "from e3nn import o3\n",
    "\n",
    "from graph2mat import (\n",
    "    BasisConfiguration,\n",
    "    PointBasis,\n",
    "    BasisTableWithEdges,\n",
    "    MatrixDataProcessor,\n",
    ")\n",
    "from graph2mat.bindings.torch import TorchBasisMatrixDataset, TorchBasisMatrixData\n",
    "\n",
    "from graph2mat.bindings.e3nn import E3nnGraph2Mat\n",
    "\n",
    "from graph2mat.tools.viz import plot_basis_matrix"
   ]
  },
  {
   "cell_type": "markdown",
   "id": "9af6f1b7-3385-4dbd-ae4a-8419dcb0bb16",
   "metadata": {},
   "source": [
    "Setting up the model\n",
    "--------------------"
   ]
  },
  {
   "cell_type": "markdown",
   "id": "5db61cc2-6a99-4f0a-960b-a9be74af86fb",
   "metadata": {},
   "source": [
    "As usual, let's create our model:"
   ]
  },
  {
   "cell_type": "code",
   "execution_count": 2,
   "id": "4f93af94-0193-41d2-aeeb-879801e15812",
   "metadata": {
    "scrolled": true
   },
   "outputs": [
    {
     "name": "stderr",
     "output_type": "stream",
     "text": [
      "/home/ICN2/alapena/miniconda3/envs/graph2mat/lib/python3.12/site-packages/torch/jit/_check.py:178: UserWarning: The TorchScript type system doesn't support instance-level annotations on empty non-base types in `__init__`. Instead, either 1) use a type annotation in the class body, or 2) wrap the type in `torch.jit.Attribute`.\n",
      "  warnings.warn(\n",
      "/home/ICN2/alapena/miniconda3/envs/graph2mat/lib/python3.12/site-packages/torch/jit/_check.py:178: UserWarning: The TorchScript type system doesn't support instance-level annotations on empty non-base types in `__init__`. Instead, either 1) use a type annotation in the class body, or 2) wrap the type in `torch.jit.Attribute`.\n",
      "  warnings.warn(\n",
      "/home/ICN2/alapena/miniconda3/envs/graph2mat/lib/python3.12/site-packages/torch/jit/_check.py:178: UserWarning: The TorchScript type system doesn't support instance-level annotations on empty non-base types in `__init__`. Instead, either 1) use a type annotation in the class body, or 2) wrap the type in `torch.jit.Attribute`.\n",
      "  warnings.warn(\n",
      "/home/ICN2/alapena/miniconda3/envs/graph2mat/lib/python3.12/site-packages/torch/jit/_check.py:178: UserWarning: The TorchScript type system doesn't support instance-level annotations on empty non-base types in `__init__`. Instead, either 1) use a type annotation in the class body, or 2) wrap the type in `torch.jit.Attribute`.\n",
      "  warnings.warn(\n",
      "/home/ICN2/alapena/miniconda3/envs/graph2mat/lib/python3.12/site-packages/torch/jit/_check.py:178: UserWarning: The TorchScript type system doesn't support instance-level annotations on empty non-base types in `__init__`. Instead, either 1) use a type annotation in the class body, or 2) wrap the type in `torch.jit.Attribute`.\n",
      "  warnings.warn(\n",
      "/home/ICN2/alapena/miniconda3/envs/graph2mat/lib/python3.12/site-packages/torch/jit/_check.py:178: UserWarning: The TorchScript type system doesn't support instance-level annotations on empty non-base types in `__init__`. Instead, either 1) use a type annotation in the class body, or 2) wrap the type in `torch.jit.Attribute`.\n",
      "  warnings.warn(\n",
      "/home/ICN2/alapena/miniconda3/envs/graph2mat/lib/python3.12/site-packages/torch/jit/_check.py:178: UserWarning: The TorchScript type system doesn't support instance-level annotations on empty non-base types in `__init__`. Instead, either 1) use a type annotation in the class body, or 2) wrap the type in `torch.jit.Attribute`.\n",
      "  warnings.warn(\n",
      "/home/ICN2/alapena/miniconda3/envs/graph2mat/lib/python3.12/site-packages/torch/jit/_check.py:178: UserWarning: The TorchScript type system doesn't support instance-level annotations on empty non-base types in `__init__`. Instead, either 1) use a type annotation in the class body, or 2) wrap the type in `torch.jit.Attribute`.\n",
      "  warnings.warn(\n",
      "/home/ICN2/alapena/miniconda3/envs/graph2mat/lib/python3.12/site-packages/torch/jit/_check.py:178: UserWarning: The TorchScript type system doesn't support instance-level annotations on empty non-base types in `__init__`. Instead, either 1) use a type annotation in the class body, or 2) wrap the type in `torch.jit.Attribute`.\n",
      "  warnings.warn(\n",
      "/home/ICN2/alapena/miniconda3/envs/graph2mat/lib/python3.12/site-packages/torch/jit/_check.py:178: UserWarning: The TorchScript type system doesn't support instance-level annotations on empty non-base types in `__init__`. Instead, either 1) use a type annotation in the class body, or 2) wrap the type in `torch.jit.Attribute`.\n",
      "  warnings.warn(\n",
      "/home/ICN2/alapena/miniconda3/envs/graph2mat/lib/python3.12/site-packages/torch/jit/_check.py:178: UserWarning: The TorchScript type system doesn't support instance-level annotations on empty non-base types in `__init__`. Instead, either 1) use a type annotation in the class body, or 2) wrap the type in `torch.jit.Attribute`.\n",
      "  warnings.warn(\n",
      "/home/ICN2/alapena/miniconda3/envs/graph2mat/lib/python3.12/site-packages/torch/jit/_check.py:178: UserWarning: The TorchScript type system doesn't support instance-level annotations on empty non-base types in `__init__`. Instead, either 1) use a type annotation in the class body, or 2) wrap the type in `torch.jit.Attribute`.\n",
      "  warnings.warn(\n",
      "/home/ICN2/alapena/miniconda3/envs/graph2mat/lib/python3.12/site-packages/torch/jit/_check.py:178: UserWarning: The TorchScript type system doesn't support instance-level annotations on empty non-base types in `__init__`. Instead, either 1) use a type annotation in the class body, or 2) wrap the type in `torch.jit.Attribute`.\n",
      "  warnings.warn(\n",
      "/home/ICN2/alapena/miniconda3/envs/graph2mat/lib/python3.12/site-packages/torch/jit/_check.py:178: UserWarning: The TorchScript type system doesn't support instance-level annotations on empty non-base types in `__init__`. Instead, either 1) use a type annotation in the class body, or 2) wrap the type in `torch.jit.Attribute`.\n",
      "  warnings.warn(\n",
      "/home/ICN2/alapena/miniconda3/envs/graph2mat/lib/python3.12/site-packages/torch/jit/_check.py:178: UserWarning: The TorchScript type system doesn't support instance-level annotations on empty non-base types in `__init__`. Instead, either 1) use a type annotation in the class body, or 2) wrap the type in `torch.jit.Attribute`.\n",
      "  warnings.warn(\n",
      "/home/ICN2/alapena/miniconda3/envs/graph2mat/lib/python3.12/site-packages/torch/jit/_check.py:178: UserWarning: The TorchScript type system doesn't support instance-level annotations on empty non-base types in `__init__`. Instead, either 1) use a type annotation in the class body, or 2) wrap the type in `torch.jit.Attribute`.\n",
      "  warnings.warn(\n",
      "/home/ICN2/alapena/miniconda3/envs/graph2mat/lib/python3.12/site-packages/torch/jit/_check.py:178: UserWarning: The TorchScript type system doesn't support instance-level annotations on empty non-base types in `__init__`. Instead, either 1) use a type annotation in the class body, or 2) wrap the type in `torch.jit.Attribute`.\n",
      "  warnings.warn(\n",
      "/home/ICN2/alapena/miniconda3/envs/graph2mat/lib/python3.12/site-packages/torch/jit/_check.py:178: UserWarning: The TorchScript type system doesn't support instance-level annotations on empty non-base types in `__init__`. Instead, either 1) use a type annotation in the class body, or 2) wrap the type in `torch.jit.Attribute`.\n",
      "  warnings.warn(\n",
      "/home/ICN2/alapena/miniconda3/envs/graph2mat/lib/python3.12/site-packages/torch/jit/_check.py:178: UserWarning: The TorchScript type system doesn't support instance-level annotations on empty non-base types in `__init__`. Instead, either 1) use a type annotation in the class body, or 2) wrap the type in `torch.jit.Attribute`.\n",
      "  warnings.warn(\n",
      "/home/ICN2/alapena/miniconda3/envs/graph2mat/lib/python3.12/site-packages/torch/jit/_check.py:178: UserWarning: The TorchScript type system doesn't support instance-level annotations on empty non-base types in `__init__`. Instead, either 1) use a type annotation in the class body, or 2) wrap the type in `torch.jit.Attribute`.\n",
      "  warnings.warn(\n",
      "/home/ICN2/alapena/miniconda3/envs/graph2mat/lib/python3.12/site-packages/torch/jit/_check.py:178: UserWarning: The TorchScript type system doesn't support instance-level annotations on empty non-base types in `__init__`. Instead, either 1) use a type annotation in the class body, or 2) wrap the type in `torch.jit.Attribute`.\n",
      "  warnings.warn(\n",
      "/home/ICN2/alapena/miniconda3/envs/graph2mat/lib/python3.12/site-packages/torch/jit/_check.py:178: UserWarning: The TorchScript type system doesn't support instance-level annotations on empty non-base types in `__init__`. Instead, either 1) use a type annotation in the class body, or 2) wrap the type in `torch.jit.Attribute`.\n",
      "  warnings.warn(\n",
      "/home/ICN2/alapena/miniconda3/envs/graph2mat/lib/python3.12/site-packages/torch/jit/_check.py:178: UserWarning: The TorchScript type system doesn't support instance-level annotations on empty non-base types in `__init__`. Instead, either 1) use a type annotation in the class body, or 2) wrap the type in `torch.jit.Attribute`.\n",
      "  warnings.warn(\n",
      "/home/ICN2/alapena/miniconda3/envs/graph2mat/lib/python3.12/site-packages/torch/jit/_check.py:178: UserWarning: The TorchScript type system doesn't support instance-level annotations on empty non-base types in `__init__`. Instead, either 1) use a type annotation in the class body, or 2) wrap the type in `torch.jit.Attribute`.\n",
      "  warnings.warn(\n",
      "/home/ICN2/alapena/miniconda3/envs/graph2mat/lib/python3.12/site-packages/torch/jit/_check.py:178: UserWarning: The TorchScript type system doesn't support instance-level annotations on empty non-base types in `__init__`. Instead, either 1) use a type annotation in the class body, or 2) wrap the type in `torch.jit.Attribute`.\n",
      "  warnings.warn(\n"
     ]
    }
   ],
   "source": [
    "# The basis\n",
    "point_1 = PointBasis(\"A\", R=2, basis=\"0e\", basis_convention=\"spherical\")\n",
    "point_2 = PointBasis(\"B\", R=5, basis=\"2x0e + 1o\", basis_convention=\"spherical\")\n",
    "\n",
    "basis = [point_1, point_2]\n",
    "\n",
    "# The basis table.\n",
    "table = BasisTableWithEdges(basis)\n",
    "\n",
    "# The data processor.\n",
    "processor = MatrixDataProcessor(\n",
    "    basis_table=table, symmetric_matrix=True, sub_point_matrix=False\n",
    ")\n",
    "\n",
    "positions = np.array([[0, 0, 0], [6.0, 0, 0], [12, 0, 0]])\n",
    "\n",
    "# The shape of the node features.\n",
    "node_feats_irreps = o3.Irreps(\"0e + 1o\")\n",
    "\n",
    "\n",
    "# The fake environment representation function that we will use\n",
    "# to compute node features.\n",
    "def get_environment_representation(data, irreps):\n",
    "    \"\"\"Function that mocks a true calculation of an environment representation.\n",
    "\n",
    "    Computes a random array and then ensures that the numbers obey our particular\n",
    "    system's symmetries.\n",
    "    \"\"\"\n",
    "    import torch\n",
    "\n",
    "    torch.manual_seed(0)\n",
    "\n",
    "    node_features = irreps.randn(data.num_nodes, -1)\n",
    "    # The point in the middle sees the same in -X and +X directions\n",
    "    # therefore its representation must be 0.\n",
    "    # In principle the +/- YZ are also equivalent, but let's say that there\n",
    "    # is something breaking the symmetry to make the numbers more interesting.\n",
    "    # Note that the spherical harmonics convention is YZX.\n",
    "    node_features[1, 3] = 0\n",
    "    # We make both A points have equivalent features except in the X direction,\n",
    "    # where the features are opposite\n",
    "    node_features[2::3, :3] = node_features[0::3, :3]\n",
    "    node_features[2::3, 3] = -node_features[0::3, 3]\n",
    "    return node_features\n",
    "\n",
    "\n",
    "# The matrix readout function\n",
    "model = E3nnGraph2Mat(\n",
    "    unique_basis=basis,\n",
    "    irreps=dict(node_feats_irreps=node_feats_irreps),\n",
    "    symmetric=True,\n",
    ")"
   ]
  },
  {
   "cell_type": "markdown",
   "id": "3f63b226-d70e-4550-b073-232e2ef7b4f5",
   "metadata": {},
   "source": [
    "Including target matrices in the data\n",
    "-------------------------------------\n",
    "\n",
    "We will now create our data. The difference between this notebook and the previous notebooks is that **each configuration will have an associated matrix**, which is what we will try to fit.\n",
    "\n",
    "Usually, this matrix would be computed by the algorithm we are trying to substitute with ML (e.g. DFT for atomic systems) or experimental observations, but here we will just take random matrices.\n",
    "\n",
    "We create a function to compute random symmetric matrices:"
   ]
  },
  {
   "cell_type": "code",
   "execution_count": 3,
   "id": "4bfec6f2-e126-42d9-9303-8a37209bd19c",
   "metadata": {},
   "outputs": [],
   "source": [
    "def true_matrix(size):\n",
    "    \"\"\"Mocks the algorithm that provides the training matrices.\n",
    "\n",
    "    It just computes a random matrix\n",
    "    \"\"\"\n",
    "    matrix = np.random.random((size, size)) * 2 - 1\n",
    "    matrix += matrix.T\n",
    "    return matrix"
   ]
  },
  {
   "cell_type": "markdown",
   "id": "e69bf9b0-3c6a-4cc2-b4cf-2d35055e71a9",
   "metadata": {},
   "source": [
    "And then initialize the configurations as we have done in the previous notebooks, except that in this case we use the `matrix` argument to pass the matrix associated with the configuration:"
   ]
  },
  {
   "cell_type": "code",
   "execution_count": 4,
   "id": "4c22dfc0-c3f9-4ee5-9fdf-cae85e6e018d",
   "metadata": {},
   "outputs": [],
   "source": [
    "positions = np.array([[0, 0, 0], [6.0, 0, 0], [12, 0, 0]])\n",
    "\n",
    "config1 = BasisConfiguration(\n",
    "    point_types=[\"A\", \"B\", \"A\"],\n",
    "    positions=positions,\n",
    "    basis=basis,\n",
    "    cell=np.eye(3) * 100,\n",
    "    pbc=(False, False, False),\n",
    "    matrix=true_matrix(size=7),\n",
    ")\n",
    "\n",
    "config2 = BasisConfiguration(\n",
    "    point_types=[\"B\", \"A\", \"B\"],\n",
    "    positions=positions,\n",
    "    basis=basis,\n",
    "    cell=np.eye(3) * 100,\n",
    "    pbc=(False, False, False),\n",
    "    matrix=true_matrix(size=11),\n",
    ")\n",
    "\n",
    "configs = [config1, config2]\n",
    "\n",
    "# Create the dataset\n",
    "dataset = TorchBasisMatrixDataset(configs, data_processor=processor)"
   ]
  },
  {
   "cell_type": "markdown",
   "id": "069038ce-873f-4577-88af-6e89f723689e",
   "metadata": {},
   "source": [
    "We can take one example from the dataset and check that it now has `point_labels` and `edge_labels`, which contain the values of the matrix organized in the same way that are returned by `Graph2Mat`:"
   ]
  },
  {
   "cell_type": "code",
   "execution_count": 5,
   "id": "85607363-ba18-4207-bd09-bef25ced2e7d",
   "metadata": {},
   "outputs": [
    {
     "data": {
      "text/plain": [
       "(tensor([-0.2792,  1.0594,  1.0965, -0.3683, -0.9192,  0.3157,  1.0965, -0.2830,\n",
       "          0.0799, -1.3392,  1.3171, -0.3683,  0.0799,  0.3708, -1.3965, -0.1590,\n",
       "         -0.9192, -1.3392, -1.3965,  0.9177,  0.1818,  0.3157,  1.3171, -0.1590,\n",
       "          0.1818, -1.4488,  0.5076]),\n",
       " tensor([ 1.2387,  0.4418,  0.4915,  1.3470, -0.1131,  1.1013,  0.2015, -0.1118,\n",
       "         -0.0134,  0.2232]))"
      ]
     },
     "execution_count": 5,
     "metadata": {},
     "output_type": "execute_result"
    }
   ],
   "source": [
    "data_example = dataset[0]\n",
    "data_example.point_labels, data_example.edge_labels"
   ]
  },
  {
   "cell_type": "markdown",
   "id": "198e3cd3-8262-4387-81fe-f2325d462123",
   "metadata": {},
   "source": [
    "During training, we will compare these to the output of `Graph2Mat`.\n",
    "\n",
    "We can also plot the target matrices from the data example:"
   ]
  },
  {
   "cell_type": "code",
   "execution_count": 6,
   "id": "3a92e192-4b9b-4b3f-b359-a6f56096acde",
   "metadata": {},
   "outputs": [
    {
     "data": {
      "application/vnd.plotly.v1+json": {
       "config": {
        "plotlyServerURL": "https://plot.ly"
       },
       "data": [
        {
         "coloraxis": "coloraxis",
         "hovertemplate": "x: %{x}<br>y: %{y}<br>color: %{z}<extra></extra>",
         "name": "0",
         "texttemplate": "%{z:.2f}",
         "type": "heatmap",
         "xaxis": "x",
         "yaxis": "y",
         "z": {
          "bdata": "2vmOvtKNnj9bLuI+q6j7Pv5orD/JtOe9AADAf9KNnj/bmYc/tVmMP6eMvL6bUGu/Fp6hPuL1jD9bLuI+tVmMP4nokL5JnqM9CGurv6GWqD8mSk4+q6j7PqeMvL5JnqM9rd69PpPAsr8DxiK+b+Xkvf5orD+bUGu/CGurv5PAsr+67Wo/NSk6PgzMW7zJtOe9Fp6hPqGWqD8DxiK+NSk6PiZyub/GkmQ+AADAf+L1jD8mSk4+b+XkvQzMW7zGkmQ+t/IBPw==",
          "dtype": "f4",
          "shape": "7, 7"
         }
        }
       ],
       "layout": {
        "coloraxis": {
         "cmid": 0,
         "colorscale": [
          [
           0,
           "rgb(0, 147, 146)"
          ],
          [
           0.16666666666666666,
           "rgb(57, 177, 133)"
          ],
          [
           0.3333333333333333,
           "rgb(156, 203, 134)"
          ],
          [
           0.5,
           "rgb(233, 226, 156)"
          ],
          [
           0.6666666666666666,
           "rgb(238, 180, 121)"
          ],
          [
           0.8333333333333334,
           "rgb(232, 132, 113)"
          ],
          [
           1,
           "rgb(207, 89, 126)"
          ]
         ]
        },
        "margin": {
         "t": 60
        },
        "shapes": [
         {
          "line": {
           "color": "black"
          },
          "type": "line",
          "x0": 0,
          "x1": 1,
          "xref": "x domain",
          "y0": 0.5,
          "y1": 0.5,
          "yref": "y"
         },
         {
          "line": {
           "color": "black"
          },
          "type": "line",
          "x0": 0.5,
          "x1": 0.5,
          "xref": "x",
          "y0": 0,
          "y1": 1,
          "yref": "y domain"
         },
         {
          "line": {
           "color": "black"
          },
          "type": "line",
          "x0": 0,
          "x1": 1,
          "xref": "x domain",
          "y0": 5.5,
          "y1": 5.5,
          "yref": "y"
         },
         {
          "line": {
           "color": "black"
          },
          "type": "line",
          "x0": 5.5,
          "x1": 5.5,
          "xref": "x",
          "y0": 0,
          "y1": 1,
          "yref": "y domain"
         },
         {
          "line": {
           "color": "blue",
           "dash": "dot"
          },
          "type": "line",
          "x0": 0,
          "x1": 1,
          "xref": "x domain",
          "y0": 1.5,
          "y1": 1.5,
          "yref": "y"
         },
         {
          "line": {
           "color": "blue",
           "dash": "dot"
          },
          "type": "line",
          "x0": 1.5,
          "x1": 1.5,
          "xref": "x",
          "y0": 0,
          "y1": 1,
          "yref": "y domain"
         },
         {
          "line": {
           "color": "blue",
           "dash": "dot"
          },
          "type": "line",
          "x0": 0,
          "x1": 1,
          "xref": "x domain",
          "y0": 2.5,
          "y1": 2.5,
          "yref": "y"
         },
         {
          "line": {
           "color": "blue",
           "dash": "dot"
          },
          "type": "line",
          "x0": 2.5,
          "x1": 2.5,
          "xref": "x",
          "y0": 0,
          "y1": 1,
          "yref": "y domain"
         }
        ],
        "template": {
         "layout": {
          "hovermode": "closest",
          "paper_bgcolor": "white",
          "plot_bgcolor": "white",
          "scene": {
           "xaxis": {
            "color": "black",
            "gridcolor": "#ccc",
            "gridwidth": 1,
            "linewidth": 1,
            "mirror": true,
            "showgrid": false,
            "showline": true,
            "ticklen": 5,
            "ticks": "outside",
            "ticksuffix": " ",
            "visible": true,
            "zeroline": false,
            "zerolinecolor": "#ccc",
            "zerolinewidth": 1
           },
           "yaxis": {
            "color": "black",
            "gridcolor": "#ccc",
            "gridwidth": 1,
            "linewidth": 1,
            "mirror": true,
            "showgrid": false,
            "showline": true,
            "ticklen": 5,
            "ticks": "outside",
            "ticksuffix": " ",
            "visible": true,
            "zeroline": false,
            "zerolinecolor": "#ccc",
            "zerolinewidth": 1
           },
           "zaxis": {
            "color": "black",
            "gridcolor": "#ccc",
            "gridwidth": 1,
            "linewidth": 1,
            "mirror": true,
            "showgrid": false,
            "showline": true,
            "ticklen": 5,
            "ticks": "outside",
            "ticksuffix": " ",
            "visible": true,
            "zeroline": false,
            "zerolinecolor": "#ccc",
            "zerolinewidth": 1
           }
          },
          "xaxis": {
           "color": "black",
           "gridcolor": "#ccc",
           "gridwidth": 1,
           "linewidth": 1,
           "mirror": true,
           "showgrid": false,
           "showline": true,
           "ticklen": 5,
           "ticks": "outside",
           "ticksuffix": " ",
           "visible": true,
           "zeroline": false,
           "zerolinecolor": "#ccc",
           "zerolinewidth": 1
          },
          "yaxis": {
           "color": "black",
           "gridcolor": "#ccc",
           "gridwidth": 1,
           "linewidth": 1,
           "mirror": true,
           "showgrid": false,
           "showline": true,
           "ticklen": 5,
           "ticks": "outside",
           "ticksuffix": " ",
           "visible": true,
           "zeroline": false,
           "zerolinecolor": "#ccc",
           "zerolinewidth": 1
          }
         }
        },
        "title": {
         "text": "Labels [0]"
        },
        "xaxis": {
         "anchor": "y",
         "constrain": "domain",
         "domain": [
          0,
          1
         ],
         "scaleanchor": "y",
         "ticktext": [
          "0: (0, 0)",
          "1: (0, 0)",
          "1: (0, 0)",
          "1: (1, -1)",
          "1: (1, 0)",
          "1: (1, 1)",
          "2: (0, 0)"
         ],
         "tickvals": {
          "bdata": "AAECAwQFBg==",
          "dtype": "i1"
         }
        },
        "yaxis": {
         "anchor": "x",
         "autorange": "reversed",
         "constrain": "domain",
         "domain": [
          0,
          1
         ],
         "ticktext": [
          "0: (0, 0)",
          "1: (0, 0)",
          "1: (0, 0)",
          "1: (1, -1)",
          "1: (1, 0)",
          "1: (1, 1)",
          "2: (0, 0)"
         ],
         "tickvals": {
          "bdata": "AAECAwQFBg==",
          "dtype": "i1"
         }
        }
       }
      }
     },
     "metadata": {},
     "output_type": "display_data"
    }
   ],
   "source": [
    "def plot_matrices(data, predictions=None, title=\"\", show=True):\n",
    "    \"\"\"Helper function to plot (possibly batched) matrices\"\"\"\n",
    "\n",
    "    matrices = processor.matrix_from_data(data, predictions=predictions)\n",
    "\n",
    "    if not isinstance(matrices, (tuple, list)):\n",
    "        matrices = (matrices,)\n",
    "\n",
    "    for i, (config, matrix) in enumerate(zip(configs, matrices)):\n",
    "        if show is True or show == i:\n",
    "            plot_basis_matrix(\n",
    "                matrix,\n",
    "                config,\n",
    "                point_lines={\"color\": \"black\"},\n",
    "                basis_lines={\"color\": \"blue\"},\n",
    "                colorscale=\"temps\",\n",
    "                text=\".2f\",\n",
    "                basis_labels=True,\n",
    "            ).update_layout(title=f\"{title} [{i}]\").show()\n",
    "\n",
    "\n",
    "plot_matrices(data_example, title=\"Labels\")"
   ]
  },
  {
   "cell_type": "markdown",
   "id": "8d352232-09b1-4138-bccd-c98b32762781",
   "metadata": {},
   "source": [
    "The simplest training loop\n",
    "--------------------------"
   ]
  },
  {
   "cell_type": "markdown",
   "id": "57087fa4-1dba-452e-ba4e-b0cae54edb99",
   "metadata": {},
   "source": [
    "Below we just create a simple `pytorch` training loop that:\n",
    "\n",
    "1. Uses the model to **compute predictions** for the matrix\n",
    "2. **Computes the loss** (error).\n",
    "3. Computes the gradients and **updates the model parameters**.\n",
    "4. **Goes back** to 1.\n",
    "\n",
    "While doing so we store the errors at each step so that we can plot their evolution later.\n",
    "\n",
    "There is just one last thing that we need to introduce: `graph2mat`'s metrics. The `metrics` module contains several functions that compare matrices in different ways. They can be used as loss functions. In this case, we will use `elementwise_mse`, which just computes the [Mean Squared Error](https://en.wikipedia.org/wiki/Mean_squared_error) of all the matrix elements."
   ]
  },
  {
   "cell_type": "code",
   "execution_count": 7,
   "id": "f5c1eb06-2e2f-4ca5-b298-25064bf8ef12",
   "metadata": {},
   "outputs": [],
   "source": [
    "# Create the data loader\n",
    "from torch_geometric.loader import DataLoader\n",
    "\n",
    "loader = DataLoader(dataset, batch_size=2)\n",
    "\n",
    "# Number of training steps\n",
    "n_steps = 4000\n",
    "# Initialize an optimizer\n",
    "optimizer = torch.optim.Adam(model.parameters())\n",
    "\n",
    "# Initialize arrays to store errors\n",
    "losses = np.zeros(n_steps)\n",
    "node_rmse = np.zeros(n_steps)\n",
    "edge_rmse = np.zeros(n_steps)\n",
    "\n",
    "# The loss function, which we get from graph2mat's metrics functions\n",
    "from graph2mat import metrics\n",
    "\n",
    "loss_fn = metrics.elementwise_mse\n",
    "\n",
    "# Loop\n",
    "for i in range(n_steps):\n",
    "    for data in loader:\n",
    "        # Reset gradients\n",
    "        optimizer.zero_grad()\n",
    "\n",
    "        # Get the node feats. Since this function is not learnable, it could be\n",
    "        # outside the loop, but we keep it here to show how things could work\n",
    "        # with a learnable environment representation.\n",
    "        node_feats = get_environment_representation(data, node_feats_irreps)\n",
    "\n",
    "        # Make predictions for this batch\n",
    "        step_predictions = model(data, node_feats=node_feats)\n",
    "\n",
    "        # Compute the loss\n",
    "        loss, info = loss_fn(\n",
    "            nodes_pred=step_predictions[0],\n",
    "            nodes_ref=data.point_labels,\n",
    "            edges_pred=step_predictions[1],\n",
    "            edges_ref=data.edge_labels,\n",
    "        )\n",
    "\n",
    "        # Store errors\n",
    "        losses[i] = loss\n",
    "        node_rmse[i] = info[\"node_rmse\"]\n",
    "        edge_rmse[i] = info[\"edge_rmse\"]\n",
    "\n",
    "        # Compute gradients\n",
    "        loss.backward()\n",
    "\n",
    "        # Update weights\n",
    "        optimizer.step()"
   ]
  },
  {
   "cell_type": "markdown",
   "id": "f409b16e-ed88-407f-b867-53a82ec861bc",
   "metadata": {},
   "source": [
    "Checking results\n",
    "----------------"
   ]
  },
  {
   "cell_type": "markdown",
   "id": "e30c4b20-84d7-49bc-9895-7b5fd1ad072b",
   "metadata": {},
   "source": [
    "After training, we store all the errors in a dataframe:"
   ]
  },
  {
   "cell_type": "code",
   "execution_count": 8,
   "id": "11a8e695-de12-4f3b-aac3-06bca144ab95",
   "metadata": {},
   "outputs": [],
   "source": [
    "df = pd.DataFrame(\n",
    "    np.array([losses, node_rmse, edge_rmse]).T,\n",
    "    columns=[\"loss\", \"node_rmse\", \"edge_rmse\"],\n",
    ")"
   ]
  },
  {
   "cell_type": "markdown",
   "id": "508a0322-26fe-4431-a5aa-89e3df240701",
   "metadata": {},
   "source": [
    "And plot them:"
   ]
  },
  {
   "cell_type": "code",
   "execution_count": 9,
   "id": "d7c992cf-fbfc-4eb6-9208-ebdb60cd3353",
   "metadata": {},
   "outputs": [
    {
     "data": {
      "application/vnd.plotly.v1+json": {
       "config": {
        "plotlyServerURL": "https://plot.ly"
       },
       "data": [
        {
         "hovertemplate": "variable=loss<br>index=%{x}<br>value=%{y}<extra></extra>",
         "legendgroup": "loss",
         "line": {
          "color": "#1F77B4",
          "dash": "solid"
         },
         "marker": {
          "symbol": "circle"
         },
         "mode": "lines",
         "name": "loss",
         "showlegend": true,
         "type": "scattergl",
         "x": {
          "bdata": "AAABAAIAAwAEAAUABgAHAAgACQAKAAsADAANAA4ADwAQABEAEgATABQAFQAWABcAGAAZABoAGwAcAB0AHgAfACAAIQAiACMAJAAlACYAJwAoACkAKgArACwALQAuAC8AMAAxADIAMwA0ADUANgA3ADgAOQA6ADsAPAA9AD4APwBAAEEAQgBDAEQARQBGAEcASABJAEoASwBMAE0ATgBPAFAAUQBSAFMAVABVAFYAVwBYAFkAWgBbAFwAXQBeAF8AYABhAGIAYwBkAGUAZgBnAGgAaQBqAGsAbABtAG4AbwBwAHEAcgBzAHQAdQB2AHcAeAB5AHoAewB8AH0AfgB/AIAAgQCCAIMAhACFAIYAhwCIAIkAigCLAIwAjQCOAI8AkACRAJIAkwCUAJUAlgCXAJgAmQCaAJsAnACdAJ4AnwCgAKEAogCjAKQApQCmAKcAqACpAKoAqwCsAK0ArgCvALAAsQCyALMAtAC1ALYAtwC4ALkAugC7ALwAvQC+AL8AwADBAMIAwwDEAMUAxgDHAMgAyQDKAMsAzADNAM4AzwDQANEA0gDTANQA1QDWANcA2ADZANoA2wDcAN0A3gDfAOAA4QDiAOMA5ADlAOYA5wDoAOkA6gDrAOwA7QDuAO8A8ADxAPIA8wD0APUA9gD3APgA+QD6APsA/AD9AP4A/wAAAQEBAgEDAQQBBQEGAQcBCAEJAQoBCwEMAQ0BDgEPARABEQESARMBFAEVARYBFwEYARkBGgEbARwBHQEeAR8BIAEhASIBIwEkASUBJgEnASgBKQEqASsBLAEtAS4BLwEwATEBMgEzATQBNQE2ATcBOAE5AToBOwE8AT0BPgE/AUABQQFCAUMBRAFFAUYBRwFIAUkBSgFLAUwBTQFOAU8BUAFRAVIBUwFUAVUBVgFXAVgBWQFaAVsBXAFdAV4BXwFgAWEBYgFjAWQBZQFmAWcBaAFpAWoBawFsAW0BbgFvAXABcQFyAXMBdAF1AXYBdwF4AXkBegF7AXwBfQF+AX8BgAGBAYIBgwGEAYUBhgGHAYgBiQGKAYsBjAGNAY4BjwGQAZEBkgGTAZQBlQGWAZcBmAGZAZoBmwGcAZ0BngGfAaABoQGiAaMBpAGlAaYBpwGoAakBqgGrAawBrQGuAa8BsAGxAbIBswG0AbUBtgG3AbgBuQG6AbsBvAG9Ab4BvwHAAcEBwgHDAcQBxQHGAccByAHJAcoBywHMAc0BzgHPAdAB0QHSAdMB1AHVAdYB1wHYAdkB2gHbAdwB3QHeAd8B4AHhAeIB4wHkAeUB5gHnAegB6QHqAesB7AHtAe4B7wHwAfEB8gHzAfQB9QH2AfcB+AH5AfoB+wH8Af0B/gH/AQACAQICAgMCBAIFAgYCBwIIAgkCCgILAgwCDQIOAg8CEAIRAhICEwIUAhUCFgIXAhgCGQIaAhsCHAIdAh4CHwIgAiECIgIjAiQCJQImAicCKAIpAioCKwIsAi0CLgIvAjACMQIyAjMCNAI1AjYCNwI4AjkCOgI7AjwCPQI+Aj8CQAJBAkICQwJEAkUCRgJHAkgCSQJKAksCTAJNAk4CTwJQAlECUgJTAlQCVQJWAlcCWAJZAloCWwJcAl0CXgJfAmACYQJiAmMCZAJlAmYCZwJoAmkCagJrAmwCbQJuAm8CcAJxAnICcwJ0AnUCdgJ3AngCeQJ6AnsCfAJ9An4CfwKAAoECggKDAoQChQKGAocCiAKJAooCiwKMAo0CjgKPApACkQKSApMClAKVApYClwKYApkCmgKbApwCnQKeAp8CoAKhAqICowKkAqUCpgKnAqgCqQKqAqsCrAKtAq4CrwKwArECsgKzArQCtQK2ArcCuAK5AroCuwK8Ar0CvgK/AsACwQLCAsMCxALFAsYCxwLIAskCygLLAswCzQLOAs8C0ALRAtIC0wLUAtUC1gLXAtgC2QLaAtsC3ALdAt4C3wLgAuEC4gLjAuQC5QLmAucC6ALpAuoC6wLsAu0C7gLvAvAC8QLyAvMC9AL1AvYC9wL4AvkC+gL7AvwC/QL+Av8CAAMBAwIDAwMEAwUDBgMHAwgDCQMKAwsDDAMNAw4DDwMQAxEDEgMTAxQDFQMWAxcDGAMZAxoDGwMcAx0DHgMfAyADIQMiAyMDJAMlAyYDJwMoAykDKgMrAywDLQMuAy8DMAMxAzIDMwM0AzUDNgM3AzgDOQM6AzsDPAM9Az4DPwNAA0EDQgNDA0QDRQNGA0cDSANJA0oDSwNMA00DTgNPA1ADUQNSA1MDVANVA1YDVwNYA1kDWgNbA1wDXQNeA18DYANhA2IDYwNkA2UDZgNnA2gDaQNqA2sDbANtA24DbwNwA3EDcgNzA3QDdQN2A3cDeAN5A3oDewN8A30DfgN/A4ADgQOCA4MDhAOFA4YDhwOIA4kDigOLA4wDjQOOA48DkAORA5IDkwOUA5UDlgOXA5gDmQOaA5sDnAOdA54DnwOgA6EDogOjA6QDpQOmA6cDqAOpA6oDqwOsA60DrgOvA7ADsQOyA7MDtAO1A7YDtwO4A7kDugO7A7wDvQO+A78DwAPBA8IDwwPEA8UDxgPHA8gDyQPKA8sDzAPNA84DzwPQA9ED0gPTA9QD1QPWA9cD2APZA9oD2wPcA90D3gPfA+AD4QPiA+MD5APlA+YD5wPoA+kD6gPrA+wD7QPuA+8D8APxA/ID8wP0A/UD9gP3A/gD+QP6A/sD/AP9A/4D/wMABAEEAgQDBAQEBQQGBAcECAQJBAoECwQMBA0EDgQPBBAEEQQSBBMEFAQVBBYEFwQYBBkEGgQbBBwEHQQeBB8EIAQhBCIEIwQkBCUEJgQnBCgEKQQqBCsELAQtBC4ELwQwBDEEMgQzBDQENQQ2BDcEOAQ5BDoEOwQ8BD0EPgQ/BEAEQQRCBEMERARFBEYERwRIBEkESgRLBEwETQROBE8EUARRBFIEUwRUBFUEVgRXBFgEWQRaBFsEXARdBF4EXwRgBGEEYgRjBGQEZQRmBGcEaARpBGoEawRsBG0EbgRvBHAEcQRyBHMEdAR1BHYEdwR4BHkEegR7BHwEfQR+BH8EgASBBIIEgwSEBIUEhgSHBIgEiQSKBIsEjASNBI4EjwSQBJEEkgSTBJQElQSWBJcEmASZBJoEmwScBJ0EngSfBKAEoQSiBKMEpASlBKYEpwSoBKkEqgSrBKwErQSuBK8EsASxBLIEswS0BLUEtgS3BLgEuQS6BLsEvAS9BL4EvwTABMEEwgTDBMQExQTGBMcEyATJBMoEywTMBM0EzgTPBNAE0QTSBNME1ATVBNYE1wTYBNkE2gTbBNwE3QTeBN8E4AThBOIE4wTkBOUE5gTnBOgE6QTqBOsE7ATtBO4E7wTwBPEE8gTzBPQE9QT2BPcE+AT5BPoE+wT8BP0E/gT/BAAFAQUCBQMFBAUFBQYFBwUIBQkFCgULBQwFDQUOBQ8FEAURBRIFEwUUBRUFFgUXBRgFGQUaBRsFHAUdBR4FHwUgBSEFIgUjBSQFJQUmBScFKAUpBSoFKwUsBS0FLgUvBTAFMQUyBTMFNAU1BTYFNwU4BTkFOgU7BTwFPQU+BT8FQAVBBUIFQwVEBUUFRgVHBUgFSQVKBUsFTAVNBU4FTwVQBVEFUgVTBVQFVQVWBVcFWAVZBVoFWwVcBV0FXgVfBWAFYQViBWMFZAVlBWYFZwVoBWkFagVrBWwFbQVuBW8FcAVxBXIFcwV0BXUFdgV3BXgFeQV6BXsFfAV9BX4FfwWABYEFggWDBYQFhQWGBYcFiAWJBYoFiwWMBY0FjgWPBZAFkQWSBZMFlAWVBZYFlwWYBZkFmgWbBZwFnQWeBZ8FoAWhBaIFowWkBaUFpgWnBagFqQWqBasFrAWtBa4FrwWwBbEFsgWzBbQFtQW2BbcFuAW5BboFuwW8Bb0FvgW/BcAFwQXCBcMFxAXFBcYFxwXIBckFygXLBcwFzQXOBc8F0AXRBdIF0wXUBdUF1gXXBdgF2QXaBdsF3AXdBd4F3wXgBeEF4gXjBeQF5QXmBecF6AXpBeoF6wXsBe0F7gXvBfAF8QXyBfMF9AX1BfYF9wX4BfkF+gX7BfwF/QX+Bf8FAAYBBgIGAwYEBgUGBgYHBggGCQYKBgsGDAYNBg4GDwYQBhEGEgYTBhQGFQYWBhcGGAYZBhoGGwYcBh0GHgYfBiAGIQYiBiMGJAYlBiYGJwYoBikGKgYrBiwGLQYuBi8GMAYxBjIGMwY0BjUGNgY3BjgGOQY6BjsGPAY9Bj4GPwZABkEGQgZDBkQGRQZGBkcGSAZJBkoGSwZMBk0GTgZPBlAGUQZSBlMGVAZVBlYGVwZYBlkGWgZbBlwGXQZeBl8GYAZhBmIGYwZkBmUGZgZnBmgGaQZqBmsGbAZtBm4GbwZwBnEGcgZzBnQGdQZ2BncGeAZ5BnoGewZ8Bn0GfgZ/BoAGgQaCBoMGhAaFBoYGhwaIBokGigaLBowGjQaOBo8GkAaRBpIGkwaUBpUGlgaXBpgGmQaaBpsGnAadBp4GnwagBqEGogajBqQGpQamBqcGqAapBqoGqwasBq0GrgavBrAGsQayBrMGtAa1BrYGtwa4BrkGuga7BrwGvQa+Br8GwAbBBsIGwwbEBsUGxgbHBsgGyQbKBssGzAbNBs4GzwbQBtEG0gbTBtQG1QbWBtcG2AbZBtoG2wbcBt0G3gbfBuAG4QbiBuMG5AblBuYG5wboBukG6gbrBuwG7QbuBu8G8AbxBvIG8wb0BvUG9gb3BvgG+Qb6BvsG/Ab9Bv4G/wYABwEHAgcDBwQHBQcGBwcHCAcJBwoHCwcMBw0HDgcPBxAHEQcSBxMHFAcVBxYHFwcYBxkHGgcbBxwHHQceBx8HIAchByIHIwckByUHJgcnBygHKQcqBysHLActBy4HLwcwBzEHMgczBzQHNQc2BzcHOAc5BzoHOwc8Bz0HPgc/B0AHQQdCB0MHRAdFB0YHRwdIB0kHSgdLB0wHTQdOB08HUAdRB1IHUwdUB1UHVgdXB1gHWQdaB1sHXAddB14HXwdgB2EHYgdjB2QHZQdmB2cHaAdpB2oHawdsB20HbgdvB3AHcQdyB3MHdAd1B3YHdwd4B3kHegd7B3wHfQd+B38HgAeBB4IHgweEB4UHhgeHB4gHiQeKB4sHjAeNB44HjweQB5EHkgeTB5QHlQeWB5cHmAeZB5oHmwecB50HngefB6AHoQeiB6MHpAelB6YHpweoB6kHqgerB6wHrQeuB68HsAexB7IHswe0B7UHtge3B7gHuQe6B7sHvAe9B74HvwfAB8EHwgfDB8QHxQfGB8cHyAfJB8oHywfMB80HzgfPB9AH0QfSB9MH1AfVB9YH1wfYB9kH2gfbB9wH3QfeB98H4AfhB+IH4wfkB+UH5gfnB+gH6QfqB+sH7AftB+4H7wfwB/EH8gfzB/QH9Qf2B/cH+Af5B/oH+wf8B/0H/gf/BwAIAQgCCAMIBAgFCAYIBwgICAkICggLCAwIDQgOCA8IEAgRCBIIEwgUCBUIFggXCBgIGQgaCBsIHAgdCB4IHwggCCEIIggjCCQIJQgmCCcIKAgpCCoIKwgsCC0ILggvCDAIMQgyCDMINAg1CDYINwg4CDkIOgg7CDwIPQg+CD8IQAhBCEIIQwhECEUIRghHCEgISQhKCEsITAhNCE4ITwhQCFEIUghTCFQIVQhWCFcIWAhZCFoIWwhcCF0IXghfCGAIYQhiCGMIZAhlCGYIZwhoCGkIaghrCGwIbQhuCG8IcAhxCHIIcwh0CHUIdgh3CHgIeQh6CHsIfAh9CH4IfwiACIEIggiDCIQIhQiGCIcIiAiJCIoIiwiMCI0IjgiPCJAIkQiSCJMIlAiVCJYIlwiYCJkImgibCJwInQieCJ8IoAihCKIIowikCKUIpginCKgIqQiqCKsIrAitCK4IrwiwCLEIsgizCLQItQi2CLcIuAi5CLoIuwi8CL0Ivgi/CMAIwQjCCMMIxAjFCMYIxwjICMkIygjLCMwIzQjOCM8I0AjRCNII0wjUCNUI1gjXCNgI2QjaCNsI3AjdCN4I3wjgCOEI4gjjCOQI5QjmCOcI6AjpCOoI6wjsCO0I7gjvCPAI8QjyCPMI9Aj1CPYI9wj4CPkI+gj7CPwI/Qj+CP8IAAkBCQIJAwkECQUJBgkHCQgJCQkKCQsJDAkNCQ4JDwkQCREJEgkTCRQJFQkWCRcJGAkZCRoJGwkcCR0JHgkfCSAJIQkiCSMJJAklCSYJJwkoCSkJKgkrCSwJLQkuCS8JMAkxCTIJMwk0CTUJNgk3CTgJOQk6CTsJPAk9CT4JPwlACUEJQglDCUQJRQlGCUcJSAlJCUoJSwlMCU0JTglPCVAJUQlSCVMJVAlVCVYJVwlYCVkJWglbCVwJXQleCV8JYAlhCWIJYwlkCWUJZglnCWgJaQlqCWsJbAltCW4JbwlwCXEJcglzCXQJdQl2CXcJeAl5CXoJewl8CX0Jfgl/CYAJgQmCCYMJhAmFCYYJhwmICYkJigmLCYwJjQmOCY8JkAmRCZIJkwmUCZUJlgmXCZgJmQmaCZsJnAmdCZ4JnwmgCaEJogmjCaQJpQmmCacJqAmpCaoJqwmsCa0JrgmvCbAJsQmyCbMJtAm1CbYJtwm4CbkJugm7CbwJvQm+Cb8JwAnBCcIJwwnECcUJxgnHCcgJyQnKCcsJzAnNCc4JzwnQCdEJ0gnTCdQJ1QnWCdcJ2AnZCdoJ2wncCd0J3gnfCeAJ4QniCeMJ5AnlCeYJ5wnoCekJ6gnrCewJ7QnuCe8J8AnxCfIJ8wn0CfUJ9gn3CfgJ+Qn6CfsJ/An9Cf4J/wkACgEKAgoDCgQKBQoGCgcKCAoJCgoKCwoMCg0KDgoPChAKEQoSChMKFAoVChYKFwoYChkKGgobChwKHQoeCh8KIAohCiIKIwokCiUKJgonCigKKQoqCisKLAotCi4KLwowCjEKMgozCjQKNQo2CjcKOAo5CjoKOwo8Cj0KPgo/CkAKQQpCCkMKRApFCkYKRwpICkkKSgpLCkwKTQpOCk8KUApRClIKUwpUClUKVgpXClgKWQpaClsKXApdCl4KXwpgCmEKYgpjCmQKZQpmCmcKaAppCmoKawpsCm0KbgpvCnAKcQpyCnMKdAp1CnYKdwp4CnkKegp7CnwKfQp+Cn8KgAqBCoIKgwqECoUKhgqHCogKiQqKCosKjAqNCo4KjwqQCpEKkgqTCpQKlQqWCpcKmAqZCpoKmwqcCp0KngqfCqAKoQqiCqMKpAqlCqYKpwqoCqkKqgqrCqwKrQquCq8KsAqxCrIKswq0CrUKtgq3CrgKuQq6CrsKvAq9Cr4KvwrACsEKwgrDCsQKxQrGCscKyArJCsoKywrMCs0KzgrPCtAK0QrSCtMK1ArVCtYK1wrYCtkK2grbCtwK3QreCt8K4ArhCuIK4wrkCuUK5grnCugK6QrqCusK7ArtCu4K7wrwCvEK8grzCvQK9Qr2CvcK+Ar5CvoK+wr8Cv0K/gr/CgALAQsCCwMLBAsFCwYLBwsICwkLCgsLCwwLDQsOCw8LEAsRCxILEwsUCxULFgsXCxgLGQsaCxsLHAsdCx4LHwsgCyELIgsjCyQLJQsmCycLKAspCyoLKwssCy0LLgsvCzALMQsyCzMLNAs1CzYLNws4CzkLOgs7CzwLPQs+Cz8LQAtBC0ILQwtEC0ULRgtHC0gLSQtKC0sLTAtNC04LTwtQC1ELUgtTC1QLVQtWC1cLWAtZC1oLWwtcC10LXgtfC2ALYQtiC2MLZAtlC2YLZwtoC2kLagtrC2wLbQtuC28LcAtxC3ILcwt0C3ULdgt3C3gLeQt6C3sLfAt9C34LfwuAC4ELgguDC4QLhQuGC4cLiAuJC4oLiwuMC40LjguPC5ALkQuSC5MLlAuVC5YLlwuYC5kLmgubC5wLnQueC58LoAuhC6ILowukC6ULpgunC6gLqQuqC6sLrAutC64LrwuwC7ELsguzC7QLtQu2C7cLuAu5C7oLuwu8C70Lvgu/C8ALwQvCC8MLxAvFC8YLxwvIC8kLygvLC8wLzQvOC88L0AvRC9IL0wvUC9UL1gvXC9gL2QvaC9sL3AvdC94L3wvgC+EL4gvjC+QL5QvmC+cL6AvpC+oL6wvsC+0L7gvvC/AL8QvyC/ML9Av1C/YL9wv4C/kL+gv7C/wL/Qv+C/8LAAwBDAIMAwwEDAUMBgwHDAgMCQwKDAsMDAwNDA4MDwwQDBEMEgwTDBQMFQwWDBcMGAwZDBoMGwwcDB0MHgwfDCAMIQwiDCMMJAwlDCYMJwwoDCkMKgwrDCwMLQwuDC8MMAwxDDIMMww0DDUMNgw3DDgMOQw6DDsMPAw9DD4MPwxADEEMQgxDDEQMRQxGDEcMSAxJDEoMSwxMDE0MTgxPDFAMUQxSDFMMVAxVDFYMVwxYDFkMWgxbDFwMXQxeDF8MYAxhDGIMYwxkDGUMZgxnDGgMaQxqDGsMbAxtDG4MbwxwDHEMcgxzDHQMdQx2DHcMeAx5DHoMewx8DH0Mfgx/DIAMgQyCDIMMhAyFDIYMhwyIDIkMigyLDIwMjQyODI8MkAyRDJIMkwyUDJUMlgyXDJgMmQyaDJsMnAydDJ4MnwygDKEMogyjDKQMpQymDKcMqAypDKoMqwysDK0MrgyvDLAMsQyyDLMMtAy1DLYMtwy4DLkMugy7DLwMvQy+DL8MwAzBDMIMwwzEDMUMxgzHDMgMyQzKDMsMzAzNDM4MzwzQDNEM0gzTDNQM1QzWDNcM2AzZDNoM2wzcDN0M3gzfDOAM4QziDOMM5AzlDOYM5wzoDOkM6gzrDOwM7QzuDO8M8AzxDPIM8wz0DPUM9gz3DPgM+Qz6DPsM/Az9DP4M/wwADQENAg0DDQQNBQ0GDQcNCA0JDQoNCw0MDQ0NDg0PDRANEQ0SDRMNFA0VDRYNFw0YDRkNGg0bDRwNHQ0eDR8NIA0hDSINIw0kDSUNJg0nDSgNKQ0qDSsNLA0tDS4NLw0wDTENMg0zDTQNNQ02DTcNOA05DToNOw08DT0NPg0/DUANQQ1CDUMNRA1FDUYNRw1IDUkNSg1LDUwNTQ1ODU8NUA1RDVINUw1UDVUNVg1XDVgNWQ1aDVsNXA1dDV4NXw1gDWENYg1jDWQNZQ1mDWcNaA1pDWoNaw1sDW0Nbg1vDXANcQ1yDXMNdA11DXYNdw14DXkNeg17DXwNfQ1+DX8NgA2BDYINgw2EDYUNhg2HDYgNiQ2KDYsNjA2NDY4Njw2QDZENkg2TDZQNlQ2WDZcNmA2ZDZoNmw2cDZ0Nng2fDaANoQ2iDaMNpA2lDaYNpw2oDakNqg2rDawNrQ2uDa8NsA2xDbINsw20DbUNtg23DbgNuQ26DbsNvA29Db4Nvw3ADcENwg3DDcQNxQ3GDccNyA3JDcoNyw3MDc0Nzg3PDdAN0Q3SDdMN1A3VDdYN1w3YDdkN2g3bDdwN3Q3eDd8N4A3hDeIN4w3kDeUN5g3nDegN6Q3qDesN7A3tDe4N7w3wDfEN8g3zDfQN9Q32DfcN+A35DfoN+w38Df0N/g3/DQAOAQ4CDgMOBA4FDgYOBw4IDgkOCg4LDgwODQ4ODg8OEA4RDhIOEw4UDhUOFg4XDhgOGQ4aDhsOHA4dDh4OHw4gDiEOIg4jDiQOJQ4mDicOKA4pDioOKw4sDi0OLg4vDjAOMQ4yDjMONA41DjYONw44DjkOOg47DjwOPQ4+Dj8OQA5BDkIOQw5EDkUORg5HDkgOSQ5KDksOTA5NDk4OTw5QDlEOUg5TDlQOVQ5WDlcOWA5ZDloOWw5cDl0OXg5fDmAOYQ5iDmMOZA5lDmYOZw5oDmkOag5rDmwObQ5uDm8OcA5xDnIOcw50DnUOdg53DngOeQ56DnsOfA59Dn4Ofw6ADoEOgg6DDoQOhQ6GDocOiA6JDooOiw6MDo0Ojg6PDpAOkQ6SDpMOlA6VDpYOlw6YDpkOmg6bDpwOnQ6eDp8OoA6hDqIOow6kDqUOpg6nDqgOqQ6qDqsOrA6tDq4Orw6wDrEOsg6zDrQOtQ62DrcOuA65DroOuw68Dr0Ovg6/DsAOwQ7CDsMOxA7FDsYOxw7IDskOyg7LDswOzQ7ODs8O0A7RDtIO0w7UDtUO1g7XDtgO2Q7aDtsO3A7dDt4O3w7gDuEO4g7jDuQO5Q7mDucO6A7pDuoO6w7sDu0O7g7vDvAO8Q7yDvMO9A71DvYO9w74DvkO+g77DvwO/Q7+Dv8OAA8BDwIPAw8EDwUPBg8HDwgPCQ8KDwsPDA8NDw4PDw8QDxEPEg8TDxQPFQ8WDxcPGA8ZDxoPGw8cDx0PHg8fDyAPIQ8iDyMPJA8lDyYPJw8oDykPKg8rDywPLQ8uDy8PMA8xDzIPMw80DzUPNg83DzgPOQ86DzsPPA89Dz4PPw9AD0EPQg9DD0QPRQ9GD0cPSA9JD0oPSw9MD00PTg9PD1APUQ9SD1MPVA9VD1YPVw9YD1kPWg9bD1wPXQ9eD18PYA9hD2IPYw9kD2UPZg9nD2gPaQ9qD2sPbA9tD24Pbw9wD3EPcg9zD3QPdQ92D3cPeA95D3oPew98D30Pfg9/D4APgQ+CD4MPhA+FD4YPhw+ID4kPig+LD4wPjQ+OD48PkA+RD5IPkw+UD5UPlg+XD5gPmQ+aD5sPnA+dD54Pnw8=",
          "dtype": "i2"
         },
         "xaxis": "x",
         "y": {
          "bdata": "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",
          "dtype": "f8"
         },
         "yaxis": "y"
        },
        {
         "hovertemplate": "variable=node_rmse<br>index=%{x}<br>value=%{y}<extra></extra>",
         "legendgroup": "node_rmse",
         "line": {
          "color": "#FF7F0E",
          "dash": "solid"
         },
         "marker": {
          "symbol": "circle"
         },
         "mode": "lines",
         "name": "node_rmse",
         "showlegend": true,
         "type": "scattergl",
         "x": {
          "bdata": "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",
          "dtype": "i2"
         },
         "xaxis": "x",
         "y": {
          "bdata": "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",
          "dtype": "f8"
         },
         "yaxis": "y"
        },
        {
         "hovertemplate": "variable=edge_rmse<br>index=%{x}<br>value=%{y}<extra></extra>",
         "legendgroup": "edge_rmse",
         "line": {
          "color": "#2CA02C",
          "dash": "solid"
         },
         "marker": {
          "symbol": "circle"
         },
         "mode": "lines",
         "name": "edge_rmse",
         "showlegend": true,
         "type": "scattergl",
         "x": {
          "bdata": "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",
          "dtype": "i2"
         },
         "xaxis": "x",
         "y": {
          "bdata": "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",
          "dtype": "f8"
         },
         "yaxis": "y"
        }
       ],
       "layout": {
        "legend": {
         "title": {
          "text": "variable"
         },
         "tracegroupgap": 0
        },
        "margin": {
         "t": 60
        },
        "template": {
         "layout": {
          "hovermode": "closest",
          "paper_bgcolor": "white",
          "plot_bgcolor": "white",
          "scene": {
           "xaxis": {
            "color": "black",
            "gridcolor": "#ccc",
            "gridwidth": 1,
            "linewidth": 1,
            "mirror": true,
            "showgrid": false,
            "showline": true,
            "ticklen": 5,
            "ticks": "outside",
            "ticksuffix": " ",
            "visible": true,
            "zeroline": false,
            "zerolinecolor": "#ccc",
            "zerolinewidth": 1
           },
           "yaxis": {
            "color": "black",
            "gridcolor": "#ccc",
            "gridwidth": 1,
            "linewidth": 1,
            "mirror": true,
            "showgrid": false,
            "showline": true,
            "ticklen": 5,
            "ticks": "outside",
            "ticksuffix": " ",
            "visible": true,
            "zeroline": false,
            "zerolinecolor": "#ccc",
            "zerolinewidth": 1
           },
           "zaxis": {
            "color": "black",
            "gridcolor": "#ccc",
            "gridwidth": 1,
            "linewidth": 1,
            "mirror": true,
            "showgrid": false,
            "showline": true,
            "ticklen": 5,
            "ticks": "outside",
            "ticksuffix": " ",
            "visible": true,
            "zeroline": false,
            "zerolinecolor": "#ccc",
            "zerolinewidth": 1
           }
          },
          "xaxis": {
           "color": "black",
           "gridcolor": "#ccc",
           "gridwidth": 1,
           "linewidth": 1,
           "mirror": true,
           "showgrid": false,
           "showline": true,
           "ticklen": 5,
           "ticks": "outside",
           "ticksuffix": " ",
           "visible": true,
           "zeroline": false,
           "zerolinecolor": "#ccc",
           "zerolinewidth": 1
          },
          "yaxis": {
           "color": "black",
           "gridcolor": "#ccc",
           "gridwidth": 1,
           "linewidth": 1,
           "mirror": true,
           "showgrid": false,
           "showline": true,
           "ticklen": 5,
           "ticks": "outside",
           "ticksuffix": " ",
           "visible": true,
           "zeroline": false,
           "zerolinecolor": "#ccc",
           "zerolinewidth": 1
          }
         }
        },
        "title": {
         "text": "Error evolution during training"
        },
        "xaxis": {
         "anchor": "y",
         "domain": [
          0,
          1
         ],
         "showgrid": true,
         "title": {
          "text": "Training step"
         }
        },
        "yaxis": {
         "anchor": "x",
         "domain": [
          0,
          1
         ],
         "showgrid": true,
         "title": {
          "text": "Value"
         },
         "type": "log"
        }
       }
      }
     },
     "metadata": {},
     "output_type": "display_data"
    }
   ],
   "source": [
    "df.plot(backend=\"plotly\").update_layout(\n",
    "    yaxis_type=\"log\", yaxis_showgrid=True, xaxis_showgrid=True\n",
    ").update_layout(\n",
    "    yaxis_title=\"Value\",\n",
    "    xaxis_title=\"Training step\",\n",
    "    title=\"Error evolution during training\",\n",
    ")"
   ]
  },
  {
   "cell_type": "markdown",
   "id": "0f92157c-51ec-4b0e-b45d-5ccedaa54d65",
   "metadata": {},
   "source": [
    "The model has learned something, but still the errors are quite high.\n",
    "\n",
    "We can plot the first target matrix and the corresponding prediction:"
   ]
  },
  {
   "cell_type": "code",
   "execution_count": 10,
   "id": "ed60b52d-e64c-4b73-85ec-7690fa59deef",
   "metadata": {},
   "outputs": [
    {
     "data": {
      "application/vnd.plotly.v1+json": {
       "config": {
        "plotlyServerURL": "https://plot.ly"
       },
       "data": [
        {
         "coloraxis": "coloraxis",
         "hovertemplate": "x: %{x}<br>y: %{y}<br>color: %{z}<extra></extra>",
         "name": "0",
         "texttemplate": "%{z:.2f}",
         "type": "heatmap",
         "xaxis": "x",
         "yaxis": "y",
         "z": {
          "bdata": "2vmOvtKNnj9bLuI+q6j7Pv5orD/JtOe9AADAf9KNnj/bmYc/tVmMP6eMvL6bUGu/Fp6hPuL1jD9bLuI+tVmMP4nokL5JnqM9CGurv6GWqD8mSk4+q6j7PqeMvL5JnqM9rd69PpPAsr8DxiK+b+Xkvf5orD+bUGu/CGurv5PAsr+67Wo/NSk6PgzMW7zJtOe9Fp6hPqGWqD8DxiK+NSk6PiZyub/GkmQ+AADAf+L1jD8mSk4+b+XkvQzMW7zGkmQ+t/IBPw==",
          "dtype": "f4",
          "shape": "7, 7"
         }
        }
       ],
       "layout": {
        "coloraxis": {
         "cmid": 0,
         "colorscale": [
          [
           0,
           "rgb(0, 147, 146)"
          ],
          [
           0.16666666666666666,
           "rgb(57, 177, 133)"
          ],
          [
           0.3333333333333333,
           "rgb(156, 203, 134)"
          ],
          [
           0.5,
           "rgb(233, 226, 156)"
          ],
          [
           0.6666666666666666,
           "rgb(238, 180, 121)"
          ],
          [
           0.8333333333333334,
           "rgb(232, 132, 113)"
          ],
          [
           1,
           "rgb(207, 89, 126)"
          ]
         ]
        },
        "margin": {
         "t": 60
        },
        "shapes": [
         {
          "line": {
           "color": "black"
          },
          "type": "line",
          "x0": 0,
          "x1": 1,
          "xref": "x domain",
          "y0": 0.5,
          "y1": 0.5,
          "yref": "y"
         },
         {
          "line": {
           "color": "black"
          },
          "type": "line",
          "x0": 0.5,
          "x1": 0.5,
          "xref": "x",
          "y0": 0,
          "y1": 1,
          "yref": "y domain"
         },
         {
          "line": {
           "color": "black"
          },
          "type": "line",
          "x0": 0,
          "x1": 1,
          "xref": "x domain",
          "y0": 5.5,
          "y1": 5.5,
          "yref": "y"
         },
         {
          "line": {
           "color": "black"
          },
          "type": "line",
          "x0": 5.5,
          "x1": 5.5,
          "xref": "x",
          "y0": 0,
          "y1": 1,
          "yref": "y domain"
         },
         {
          "line": {
           "color": "blue",
           "dash": "dot"
          },
          "type": "line",
          "x0": 0,
          "x1": 1,
          "xref": "x domain",
          "y0": 1.5,
          "y1": 1.5,
          "yref": "y"
         },
         {
          "line": {
           "color": "blue",
           "dash": "dot"
          },
          "type": "line",
          "x0": 1.5,
          "x1": 1.5,
          "xref": "x",
          "y0": 0,
          "y1": 1,
          "yref": "y domain"
         },
         {
          "line": {
           "color": "blue",
           "dash": "dot"
          },
          "type": "line",
          "x0": 0,
          "x1": 1,
          "xref": "x domain",
          "y0": 2.5,
          "y1": 2.5,
          "yref": "y"
         },
         {
          "line": {
           "color": "blue",
           "dash": "dot"
          },
          "type": "line",
          "x0": 2.5,
          "x1": 2.5,
          "xref": "x",
          "y0": 0,
          "y1": 1,
          "yref": "y domain"
         }
        ],
        "template": {
         "layout": {
          "hovermode": "closest",
          "paper_bgcolor": "white",
          "plot_bgcolor": "white",
          "scene": {
           "xaxis": {
            "color": "black",
            "gridcolor": "#ccc",
            "gridwidth": 1,
            "linewidth": 1,
            "mirror": true,
            "showgrid": false,
            "showline": true,
            "ticklen": 5,
            "ticks": "outside",
            "ticksuffix": " ",
            "visible": true,
            "zeroline": false,
            "zerolinecolor": "#ccc",
            "zerolinewidth": 1
           },
           "yaxis": {
            "color": "black",
            "gridcolor": "#ccc",
            "gridwidth": 1,
            "linewidth": 1,
            "mirror": true,
            "showgrid": false,
            "showline": true,
            "ticklen": 5,
            "ticks": "outside",
            "ticksuffix": " ",
            "visible": true,
            "zeroline": false,
            "zerolinecolor": "#ccc",
            "zerolinewidth": 1
           },
           "zaxis": {
            "color": "black",
            "gridcolor": "#ccc",
            "gridwidth": 1,
            "linewidth": 1,
            "mirror": true,
            "showgrid": false,
            "showline": true,
            "ticklen": 5,
            "ticks": "outside",
            "ticksuffix": " ",
            "visible": true,
            "zeroline": false,
            "zerolinecolor": "#ccc",
            "zerolinewidth": 1
           }
          },
          "xaxis": {
           "color": "black",
           "gridcolor": "#ccc",
           "gridwidth": 1,
           "linewidth": 1,
           "mirror": true,
           "showgrid": false,
           "showline": true,
           "ticklen": 5,
           "ticks": "outside",
           "ticksuffix": " ",
           "visible": true,
           "zeroline": false,
           "zerolinecolor": "#ccc",
           "zerolinewidth": 1
          },
          "yaxis": {
           "color": "black",
           "gridcolor": "#ccc",
           "gridwidth": 1,
           "linewidth": 1,
           "mirror": true,
           "showgrid": false,
           "showline": true,
           "ticklen": 5,
           "ticks": "outside",
           "ticksuffix": " ",
           "visible": true,
           "zeroline": false,
           "zerolinecolor": "#ccc",
           "zerolinewidth": 1
          }
         }
        },
        "title": {
         "text": "Target matrix [0]"
        },
        "xaxis": {
         "anchor": "y",
         "constrain": "domain",
         "domain": [
          0,
          1
         ],
         "scaleanchor": "y",
         "ticktext": [
          "0: (0, 0)",
          "1: (0, 0)",
          "1: (0, 0)",
          "1: (1, -1)",
          "1: (1, 0)",
          "1: (1, 1)",
          "2: (0, 0)"
         ],
         "tickvals": {
          "bdata": "AAECAwQFBg==",
          "dtype": "i1"
         }
        },
        "yaxis": {
         "anchor": "x",
         "autorange": "reversed",
         "constrain": "domain",
         "domain": [
          0,
          1
         ],
         "ticktext": [
          "0: (0, 0)",
          "1: (0, 0)",
          "1: (0, 0)",
          "1: (1, -1)",
          "1: (1, 0)",
          "1: (1, 1)",
          "2: (0, 0)"
         ],
         "tickvals": {
          "bdata": "AAECAwQFBg==",
          "dtype": "i1"
         }
        }
       }
      }
     },
     "metadata": {},
     "output_type": "display_data"
    },
    {
     "data": {
      "application/vnd.plotly.v1+json": {
       "config": {
        "plotlyServerURL": "https://plot.ly"
       },
       "data": [
        {
         "coloraxis": "coloraxis",
         "hovertemplate": "x: %{x}<br>y: %{y}<br>color: %{z}<extra></extra>",
         "name": "0",
         "texttemplate": "%{z:.2f}",
         "type": "heatmap",
         "xaxis": "x",
         "yaxis": "y",
         "z": {
          "bdata": "LNzqPQzSlT/WI5M+uC4MPo6kVz7+Mhw+AADAfwzSlT+B12E/BMgPP0qZND7G8aS9AADAfwzSlT/WI5M+BMgPP8BKVb4x4jA/Ho2hvgAAwH/WI5M+uC4MPkqZND4x4jA/EEs6PrMXMb4AAMB/uC4MPo6kVz7G8aS9Ho2hvrMXMb5hRfG9AADAf46kVz7+Mhw+AADAfwAAwH8AAMB/AADAf66BSb7+Mhy+AADAfwzSlT/WI5M+uC4MPo6kVz7+Mhy+LNzqPQ==",
          "dtype": "f4",
          "shape": "7, 7"
         }
        }
       ],
       "layout": {
        "coloraxis": {
         "cmid": 0,
         "colorscale": [
          [
           0,
           "rgb(0, 147, 146)"
          ],
          [
           0.16666666666666666,
           "rgb(57, 177, 133)"
          ],
          [
           0.3333333333333333,
           "rgb(156, 203, 134)"
          ],
          [
           0.5,
           "rgb(233, 226, 156)"
          ],
          [
           0.6666666666666666,
           "rgb(238, 180, 121)"
          ],
          [
           0.8333333333333334,
           "rgb(232, 132, 113)"
          ],
          [
           1,
           "rgb(207, 89, 126)"
          ]
         ]
        },
        "margin": {
         "t": 60
        },
        "shapes": [
         {
          "line": {
           "color": "black"
          },
          "type": "line",
          "x0": 0,
          "x1": 1,
          "xref": "x domain",
          "y0": 0.5,
          "y1": 0.5,
          "yref": "y"
         },
         {
          "line": {
           "color": "black"
          },
          "type": "line",
          "x0": 0.5,
          "x1": 0.5,
          "xref": "x",
          "y0": 0,
          "y1": 1,
          "yref": "y domain"
         },
         {
          "line": {
           "color": "black"
          },
          "type": "line",
          "x0": 0,
          "x1": 1,
          "xref": "x domain",
          "y0": 5.5,
          "y1": 5.5,
          "yref": "y"
         },
         {
          "line": {
           "color": "black"
          },
          "type": "line",
          "x0": 5.5,
          "x1": 5.5,
          "xref": "x",
          "y0": 0,
          "y1": 1,
          "yref": "y domain"
         },
         {
          "line": {
           "color": "blue",
           "dash": "dot"
          },
          "type": "line",
          "x0": 0,
          "x1": 1,
          "xref": "x domain",
          "y0": 1.5,
          "y1": 1.5,
          "yref": "y"
         },
         {
          "line": {
           "color": "blue",
           "dash": "dot"
          },
          "type": "line",
          "x0": 1.5,
          "x1": 1.5,
          "xref": "x",
          "y0": 0,
          "y1": 1,
          "yref": "y domain"
         },
         {
          "line": {
           "color": "blue",
           "dash": "dot"
          },
          "type": "line",
          "x0": 0,
          "x1": 1,
          "xref": "x domain",
          "y0": 2.5,
          "y1": 2.5,
          "yref": "y"
         },
         {
          "line": {
           "color": "blue",
           "dash": "dot"
          },
          "type": "line",
          "x0": 2.5,
          "x1": 2.5,
          "xref": "x",
          "y0": 0,
          "y1": 1,
          "yref": "y domain"
         }
        ],
        "template": {
         "layout": {
          "hovermode": "closest",
          "paper_bgcolor": "white",
          "plot_bgcolor": "white",
          "scene": {
           "xaxis": {
            "color": "black",
            "gridcolor": "#ccc",
            "gridwidth": 1,
            "linewidth": 1,
            "mirror": true,
            "showgrid": false,
            "showline": true,
            "ticklen": 5,
            "ticks": "outside",
            "ticksuffix": " ",
            "visible": true,
            "zeroline": false,
            "zerolinecolor": "#ccc",
            "zerolinewidth": 1
           },
           "yaxis": {
            "color": "black",
            "gridcolor": "#ccc",
            "gridwidth": 1,
            "linewidth": 1,
            "mirror": true,
            "showgrid": false,
            "showline": true,
            "ticklen": 5,
            "ticks": "outside",
            "ticksuffix": " ",
            "visible": true,
            "zeroline": false,
            "zerolinecolor": "#ccc",
            "zerolinewidth": 1
           },
           "zaxis": {
            "color": "black",
            "gridcolor": "#ccc",
            "gridwidth": 1,
            "linewidth": 1,
            "mirror": true,
            "showgrid": false,
            "showline": true,
            "ticklen": 5,
            "ticks": "outside",
            "ticksuffix": " ",
            "visible": true,
            "zeroline": false,
            "zerolinecolor": "#ccc",
            "zerolinewidth": 1
           }
          },
          "xaxis": {
           "color": "black",
           "gridcolor": "#ccc",
           "gridwidth": 1,
           "linewidth": 1,
           "mirror": true,
           "showgrid": false,
           "showline": true,
           "ticklen": 5,
           "ticks": "outside",
           "ticksuffix": " ",
           "visible": true,
           "zeroline": false,
           "zerolinecolor": "#ccc",
           "zerolinewidth": 1
          },
          "yaxis": {
           "color": "black",
           "gridcolor": "#ccc",
           "gridwidth": 1,
           "linewidth": 1,
           "mirror": true,
           "showgrid": false,
           "showline": true,
           "ticklen": 5,
           "ticks": "outside",
           "ticksuffix": " ",
           "visible": true,
           "zeroline": false,
           "zerolinecolor": "#ccc",
           "zerolinewidth": 1
          }
         }
        },
        "title": {
         "text": "Prediction after 4000 training steps [0]"
        },
        "xaxis": {
         "anchor": "y",
         "constrain": "domain",
         "domain": [
          0,
          1
         ],
         "scaleanchor": "y",
         "ticktext": [
          "0: (0, 0)",
          "1: (0, 0)",
          "1: (0, 0)",
          "1: (1, -1)",
          "1: (1, 0)",
          "1: (1, 1)",
          "2: (0, 0)"
         ],
         "tickvals": {
          "bdata": "AAECAwQFBg==",
          "dtype": "i1"
         }
        },
        "yaxis": {
         "anchor": "x",
         "autorange": "reversed",
         "constrain": "domain",
         "domain": [
          0,
          1
         ],
         "ticktext": [
          "0: (0, 0)",
          "1: (0, 0)",
          "1: (0, 0)",
          "1: (1, -1)",
          "1: (1, 0)",
          "1: (1, 1)",
          "2: (0, 0)"
         ],
         "tickvals": {
          "bdata": "AAECAwQFBg==",
          "dtype": "i1"
         }
        }
       }
      }
     },
     "metadata": {},
     "output_type": "display_data"
    }
   ],
   "source": [
    "plot_matrices(data, title=f\"Target matrix\", show=0)\n",
    "plot_matrices(\n",
    "    data,\n",
    "    predictions={\n",
    "        \"node_labels\": step_predictions[0],\n",
    "        \"edge_labels\": step_predictions[1],\n",
    "    },\n",
    "    title=f\"Prediction after {n_steps} training steps\",\n",
    "    show=0,\n",
    ")"
   ]
  },
  {
   "cell_type": "markdown",
   "id": "8375352d-adc8-458e-ae07-8fd19c11c72f",
   "metadata": {},
   "source": [
    "As you can see, the matrices are very different. That is, the model has no idea how to predict the matrices!\n",
    "\n",
    "This could be shocking considering that it has only been tasked with fitting 2 matrices, a super simple problem that any model would overfit without any trouble. Well, you must take into account two things:\n",
    "\n",
    "- **The target matrix is random**, while **the model is designed to learn equivariant matrices!**. All operations are equivariant and therefore result into an equivariant predicted matrix. For example, symmetry determines that the scalar element for node blocks for points 0 and 2 (at the top-left and bottom-right corner of the matrix) must be exactly the same because the point are equivalent. The random matrix does not satisfy this condition so it is impossible to fit.\n",
    "\n",
    "- **The model is limited by the input node features**, which only contain one scalar and one vector. The combination possibilities are very small. If you increase the node feats irreps to `0e + 2x1o` (i.e. add one extra vector) and modify the `get_environment_representation` to still satisfy symmetries you should see some elements that have no symmetry problems (e.g. the 4 scalar elements at the top-left corner of node block for point 1) get very close to the target matrix.\n",
    "\n",
    "We could work very hard to make our fake environment and true matrix computing functions equivariant to see the model fit perfectly, but you will see this in other real-life examples in the tutorials. Also **it is nice to see how a random matrix can't be fitted by an equivariant model to understand the power of equivariant design**!"
   ]
  },
  {
   "cell_type": "code",
   "execution_count": null,
   "id": "59d1020c-9d8c-484c-b8aa-5bd211b9a9bd",
   "metadata": {},
   "outputs": [],
   "source": []
  },
  {
   "cell_type": "markdown",
   "id": "ca5f97e4",
   "metadata": {},
   "source": [
    "# Testing"
   ]
  },
  {
   "cell_type": "code",
   "execution_count": 11,
   "id": "139bb28c",
   "metadata": {},
   "outputs": [
    {
     "ename": "ValueError",
     "evalue": "\n    Invalid element(s) received for the 'data' property of \n        Invalid elements include: [Figure({\n    'data': [{'coloraxis': 'coloraxis',\n              'hovertemplate': 'x: %{x}<br>y: %{y}<br>color: %{z}<extra></extra>',\n              'name': '0',\n              'texttemplate': '%{z:.2f}',\n              'type': 'heatmap',\n              'xaxis': 'x',\n              'yaxis': 'y',\n              'z': {'bdata': ('2vmOvtKNnj9bLuI+q6j7Pv5orD/JtO' ... '8mSk4+b+XkvQzMW7zGkmQ+t/IBPw=='),\n                    'dtype': 'f4',\n                    'shape': '7, 7'}}],\n    'layout': {'coloraxis': {'cmid': 0,\n                             'colorscale': [[0.0, 'rgb(0, 147, 146)'],\n                                            [0.16666666666666666, 'rgb(57, 177,\n                                            133)'], [0.3333333333333333, 'rgb(156,\n                                            203, 134)'], [0.5, 'rgb(233, 226,\n                                            156)'], [0.6666666666666666, 'rgb(238,\n                                            180, 121)'], [0.8333333333333334,\n                                            'rgb(232, 132, 113)'], [1.0, 'rgb(207,\n                                            89, 126)']]},\n               'margin': {'t': 60},\n               'shapes': [{'line': {'color': 'black'},\n                           'type': 'line',\n                           'x0': 0,\n                           'x1': 1,\n                           'xref': 'x domain',\n                           'y0': 0.5,\n                           'y1': 0.5,\n                           'yref': 'y'},\n                          {'line': {'color': 'black'},\n                           'type': 'line',\n                           'x0': 0.5,\n                           'x1': 0.5,\n                           'xref': 'x',\n                           'y0': 0,\n                           'y1': 1,\n                           'yref': 'y domain'},\n                          {'line': {'color': 'black'},\n                           'type': 'line',\n                           'x0': 0,\n                           'x1': 1,\n                           'xref': 'x domain',\n                           'y0': 5.5,\n                           'y1': 5.5,\n                           'yref': 'y'},\n                          {'line': {'color': 'black'},\n                           'type': 'line',\n                           'x0': 5.5,\n                           'x1': 5.5,\n                           'xref': 'x',\n                           'y0': 0,\n                           'y1': 1,\n                           'yref': 'y domain'},\n                          {'line': {'color': 'blue', 'dash': 'dot'},\n                           'type': 'line',\n                           'x0': 0,\n                           'x1': 1,\n                           'xref': 'x domain',\n                           'y0': 1.5,\n                           'y1': 1.5,\n                           'yref': 'y'},\n                          {'line': {'color': 'blue', 'dash': 'dot'},\n                           'type': 'line',\n                           'x0': 1.5,\n                           'x1': 1.5,\n                           'xref': 'x',\n                           'y0': 0,\n                           'y1': 1,\n                           'yref': 'y domain'},\n                          {'line': {'color': 'blue', 'dash': 'dot'},\n                           'type': 'line',\n                           'x0': 0,\n                           'x1': 1,\n                           'xref': 'x domain',\n                           'y0': 2.5,\n                           'y1': 2.5,\n                           'yref': 'y'},\n                          {'line': {'color': 'blue', 'dash': 'dot'},\n                           'type': 'line',\n                           'x0': 2.5,\n                           'x1': 2.5,\n                           'xref': 'x',\n                           'y0': 0,\n                           'y1': 1,\n                           'yref': 'y domain'}],\n               'template': '...',\n               'xaxis': {'anchor': 'y',\n                         'constrain': 'domain',\n                         'domain': [0.0, 1.0],\n                         'scaleanchor': 'y',\n                         'ticktext': [0: (0, 0), 1: (0, 0), 1: (0, 0), 1: (1, -1),\n                                      1: (1, 0), 1: (1, 1), 2: (0, 0)],\n                         'tickvals': {'bdata': 'AAECAwQFBg==', 'dtype': 'i1'}},\n               'yaxis': {'anchor': 'x',\n                         'autorange': 'reversed',\n                         'constrain': 'domain',\n                         'domain': [0.0, 1.0],\n                         'ticktext': [0: (0, 0), 1: (0, 0), 1: (0, 0), 1: (1, -1),\n                                      1: (1, 0), 1: (1, 1), 2: (0, 0)],\n                         'tickvals': {'bdata': 'AAECAwQFBg==', 'dtype': 'i1'}}}\n})]\n\n    The 'data' property is a tuple of trace instances\n    that may be specified as:\n      - A list or tuple of trace instances\n        (e.g. [Scatter(...), Bar(...)])\n      - A single trace instance\n        (e.g. Scatter(...), Bar(...), etc.)\n      - A list or tuple of dicts of string/value properties where:\n        - The 'type' property specifies the trace type\n            One of: ['bar', 'barpolar', 'box', 'candlestick',\n                     'carpet', 'choropleth', 'choroplethmap',\n                     'choroplethmapbox', 'cone', 'contour',\n                     'contourcarpet', 'densitymap',\n                     'densitymapbox', 'funnel', 'funnelarea',\n                     'heatmap', 'histogram', 'histogram2d',\n                     'histogram2dcontour', 'icicle', 'image',\n                     'indicator', 'isosurface', 'mesh3d', 'ohlc',\n                     'parcats', 'parcoords', 'pie', 'sankey',\n                     'scatter', 'scatter3d', 'scattercarpet',\n                     'scattergeo', 'scattergl', 'scattermap',\n                     'scattermapbox', 'scatterpolar',\n                     'scatterpolargl', 'scattersmith',\n                     'scatterternary', 'splom', 'streamtube',\n                     'sunburst', 'surface', 'table', 'treemap',\n                     'violin', 'volume', 'waterfall']\n\n        - All remaining properties are passed to the constructor of\n          the specified trace type\n\n        (e.g. [{'type': 'scatter', ...}, {'type': 'bar, ...}])",
     "output_type": "error",
     "traceback": [
      "\u001b[31m---------------------------------------------------------------------------\u001b[39m",
      "\u001b[31mValueError\u001b[39m                                Traceback (most recent call last)",
      "\u001b[36mCell\u001b[39m\u001b[36m \u001b[39m\u001b[32mIn[11]\u001b[39m\u001b[32m, line 165\u001b[39m\n\u001b[32m    163\u001b[39m true_matrix = processor.matrix_from_data(data)[\u001b[32m0\u001b[39m]\n\u001b[32m    164\u001b[39m predicted_matrix = matrices[\u001b[32m0\u001b[39m]\n\u001b[32m--> \u001b[39m\u001b[32m165\u001b[39m \u001b[43mplot_error_matrices_interactive\u001b[49m\u001b[43m(\u001b[49m\u001b[43mtrue_matrix\u001b[49m\u001b[43m,\u001b[49m\u001b[43m \u001b[49m\u001b[43mpredicted_matrix\u001b[49m\u001b[43m,\u001b[49m\u001b[43m \u001b[49m\u001b[43mconfigs\u001b[49m\u001b[43m[\u001b[49m\u001b[32;43m0\u001b[39;49m\u001b[43m]\u001b[49m\u001b[43m)\u001b[49m\n",
      "\u001b[36mCell\u001b[39m\u001b[36m \u001b[39m\u001b[32mIn[11]\u001b[39m\u001b[32m, line 61\u001b[39m, in \u001b[36mplot_error_matrices_interactive\u001b[39m\u001b[34m(true_matrix, predicted_matrix, config_matrix, matrix_label, figure_title, predicted_matrix_text, filepath, n_atoms, absolute_error_cbar_limit)\u001b[39m\n\u001b[32m     48\u001b[39m \u001b[38;5;28;01mfor\u001b[39;00m i, matrix \u001b[38;5;129;01min\u001b[39;00m \u001b[38;5;28menumerate\u001b[39m(matrices):\n\u001b[32m     49\u001b[39m     \u001b[38;5;66;03m# row = i // 2 + 1\u001b[39;00m\n\u001b[32m     50\u001b[39m     \u001b[38;5;66;03m# col = i % 2 + 1\u001b[39;00m\n\u001b[32m     52\u001b[39m     heatmap = plot_basis_matrix(\n\u001b[32m     53\u001b[39m         matrix,\n\u001b[32m     54\u001b[39m         config_matrix,\n\u001b[32m   (...)\u001b[39m\u001b[32m     59\u001b[39m         basis_labels=\u001b[38;5;28;01mTrue\u001b[39;00m,\n\u001b[32m     60\u001b[39m     )\n\u001b[32m---> \u001b[39m\u001b[32m61\u001b[39m     \u001b[43mfig\u001b[49m\u001b[43m.\u001b[49m\u001b[43madd_trace\u001b[49m\u001b[43m(\u001b[49m\u001b[43mheatmap\u001b[49m\u001b[43m,\u001b[49m\u001b[43m \u001b[49m\u001b[43mrow\u001b[49m\u001b[43m=\u001b[49m\u001b[43mi\u001b[49m\u001b[43m,\u001b[49m\u001b[43m \u001b[49m\u001b[43mcol\u001b[49m\u001b[43m=\u001b[49m\u001b[32;43m1\u001b[39;49m\u001b[43m)\u001b[49m\n\u001b[32m     63\u001b[39m \u001b[38;5;66;03m# === Subplot titles ===\u001b[39;00m\n\u001b[32m     64\u001b[39m fig.update_layout(\n\u001b[32m     65\u001b[39m     xaxis1=\u001b[38;5;28mdict\u001b[39m(side=\u001b[33m\"\u001b[39m\u001b[33mtop\u001b[39m\u001b[33m\"\u001b[39m, title_text=titles[\u001b[32m0\u001b[39m]), yaxis1=\u001b[38;5;28mdict\u001b[39m(autorange=\u001b[33m\"\u001b[39m\u001b[33mreversed\u001b[39m\u001b[33m\"\u001b[39m),\n\u001b[32m     66\u001b[39m     xaxis2=\u001b[38;5;28mdict\u001b[39m(side=\u001b[33m\"\u001b[39m\u001b[33mtop\u001b[39m\u001b[33m\"\u001b[39m, title_text=titles[\u001b[32m1\u001b[39m]), yaxis2=\u001b[38;5;28mdict\u001b[39m(autorange=\u001b[33m\"\u001b[39m\u001b[33mreversed\u001b[39m\u001b[33m\"\u001b[39m),\n\u001b[32m   (...)\u001b[39m\u001b[32m     72\u001b[39m             \u001b[33m\"\u001b[39m\u001b[33mb\u001b[39m\u001b[33m\"\u001b[39m:\u001b[32m0\u001b[39m}\n\u001b[32m     73\u001b[39m )\n",
      "\u001b[36mFile \u001b[39m\u001b[32m~/miniconda3/envs/graph2mat/lib/python3.12/site-packages/plotly/graph_objs/_figure.py:344\u001b[39m, in \u001b[36mFigure.add_trace\u001b[39m\u001b[34m(self, trace, row, col, secondary_y, exclude_empty_subplots)\u001b[39m\n\u001b[32m    269\u001b[39m \u001b[38;5;28;01mdef\u001b[39;00m\u001b[38;5;250m \u001b[39m\u001b[34madd_trace\u001b[39m(\n\u001b[32m    270\u001b[39m     \u001b[38;5;28mself\u001b[39m, trace, row=\u001b[38;5;28;01mNone\u001b[39;00m, col=\u001b[38;5;28;01mNone\u001b[39;00m, secondary_y=\u001b[38;5;28;01mNone\u001b[39;00m, exclude_empty_subplots=\u001b[38;5;28;01mFalse\u001b[39;00m\n\u001b[32m    271\u001b[39m ) -> \u001b[33m\"\u001b[39m\u001b[33mFigure\u001b[39m\u001b[33m\"\u001b[39m:\n\u001b[32m    272\u001b[39m \u001b[38;5;250m    \u001b[39m\u001b[33;03m\"\"\"\u001b[39;00m\n\u001b[32m    273\u001b[39m \n\u001b[32m    274\u001b[39m \u001b[33;03m    Add a trace to the figure\u001b[39;00m\n\u001b[32m   (...)\u001b[39m\u001b[32m    342\u001b[39m \n\u001b[32m    343\u001b[39m \u001b[33;03m    \"\"\"\u001b[39;00m\n\u001b[32m--> \u001b[39m\u001b[32m344\u001b[39m     \u001b[38;5;28;01mreturn\u001b[39;00m \u001b[38;5;28;43msuper\u001b[39;49m\u001b[43m(\u001b[49m\u001b[43m)\u001b[49m\u001b[43m.\u001b[49m\u001b[43madd_trace\u001b[49m\u001b[43m(\u001b[49m\u001b[43mtrace\u001b[49m\u001b[43m,\u001b[49m\u001b[43m \u001b[49m\u001b[43mrow\u001b[49m\u001b[43m,\u001b[49m\u001b[43m \u001b[49m\u001b[43mcol\u001b[49m\u001b[43m,\u001b[49m\u001b[43m \u001b[49m\u001b[43msecondary_y\u001b[49m\u001b[43m,\u001b[49m\u001b[43m \u001b[49m\u001b[43mexclude_empty_subplots\u001b[49m\u001b[43m)\u001b[49m\n",
      "\u001b[36mFile \u001b[39m\u001b[32m~/miniconda3/envs/graph2mat/lib/python3.12/site-packages/plotly/basedatatypes.py:2129\u001b[39m, in \u001b[36mBaseFigure.add_trace\u001b[39m\u001b[34m(self, trace, row, col, secondary_y, exclude_empty_subplots)\u001b[39m\n\u001b[32m   2120\u001b[39m         \u001b[38;5;28mself\u001b[39m.add_trace(\n\u001b[32m   2121\u001b[39m             trace,\n\u001b[32m   2122\u001b[39m             row=r,\n\u001b[32m   (...)\u001b[39m\u001b[32m   2125\u001b[39m             exclude_empty_subplots=exclude_empty_subplots,\n\u001b[32m   2126\u001b[39m         )\n\u001b[32m   2127\u001b[39m     \u001b[38;5;28;01mreturn\u001b[39;00m \u001b[38;5;28mself\u001b[39m\n\u001b[32m-> \u001b[39m\u001b[32m2129\u001b[39m \u001b[38;5;28;01mreturn\u001b[39;00m \u001b[38;5;28;43mself\u001b[39;49m\u001b[43m.\u001b[49m\u001b[43madd_traces\u001b[49m\u001b[43m(\u001b[49m\n\u001b[32m   2130\u001b[39m \u001b[43m    \u001b[49m\u001b[43mdata\u001b[49m\u001b[43m=\u001b[49m\u001b[43m[\u001b[49m\u001b[43mtrace\u001b[49m\u001b[43m]\u001b[49m\u001b[43m,\u001b[49m\n\u001b[32m   2131\u001b[39m \u001b[43m    \u001b[49m\u001b[43mrows\u001b[49m\u001b[43m=\u001b[49m\u001b[43m[\u001b[49m\u001b[43mrow\u001b[49m\u001b[43m]\u001b[49m\u001b[43m \u001b[49m\u001b[38;5;28;43;01mif\u001b[39;49;00m\u001b[43m \u001b[49m\u001b[43mrow\u001b[49m\u001b[43m \u001b[49m\u001b[38;5;129;43;01mis\u001b[39;49;00m\u001b[43m \u001b[49m\u001b[38;5;129;43;01mnot\u001b[39;49;00m\u001b[43m \u001b[49m\u001b[38;5;28;43;01mNone\u001b[39;49;00m\u001b[43m \u001b[49m\u001b[38;5;28;43;01melse\u001b[39;49;00m\u001b[43m \u001b[49m\u001b[38;5;28;43;01mNone\u001b[39;49;00m\u001b[43m,\u001b[49m\n\u001b[32m   2132\u001b[39m \u001b[43m    \u001b[49m\u001b[43mcols\u001b[49m\u001b[43m=\u001b[49m\u001b[43m[\u001b[49m\u001b[43mcol\u001b[49m\u001b[43m]\u001b[49m\u001b[43m \u001b[49m\u001b[38;5;28;43;01mif\u001b[39;49;00m\u001b[43m \u001b[49m\u001b[43mcol\u001b[49m\u001b[43m \u001b[49m\u001b[38;5;129;43;01mis\u001b[39;49;00m\u001b[43m \u001b[49m\u001b[38;5;129;43;01mnot\u001b[39;49;00m\u001b[43m \u001b[49m\u001b[38;5;28;43;01mNone\u001b[39;49;00m\u001b[43m \u001b[49m\u001b[38;5;28;43;01melse\u001b[39;49;00m\u001b[43m \u001b[49m\u001b[38;5;28;43;01mNone\u001b[39;49;00m\u001b[43m,\u001b[49m\n\u001b[32m   2133\u001b[39m \u001b[43m    \u001b[49m\u001b[43msecondary_ys\u001b[49m\u001b[43m=\u001b[49m\u001b[43m[\u001b[49m\u001b[43msecondary_y\u001b[49m\u001b[43m]\u001b[49m\u001b[43m \u001b[49m\u001b[38;5;28;43;01mif\u001b[39;49;00m\u001b[43m \u001b[49m\u001b[43msecondary_y\u001b[49m\u001b[43m \u001b[49m\u001b[38;5;129;43;01mis\u001b[39;49;00m\u001b[43m \u001b[49m\u001b[38;5;129;43;01mnot\u001b[39;49;00m\u001b[43m \u001b[49m\u001b[38;5;28;43;01mNone\u001b[39;49;00m\u001b[43m \u001b[49m\u001b[38;5;28;43;01melse\u001b[39;49;00m\u001b[43m \u001b[49m\u001b[38;5;28;43;01mNone\u001b[39;49;00m\u001b[43m,\u001b[49m\n\u001b[32m   2134\u001b[39m \u001b[43m    \u001b[49m\u001b[43mexclude_empty_subplots\u001b[49m\u001b[43m=\u001b[49m\u001b[43mexclude_empty_subplots\u001b[49m\u001b[43m,\u001b[49m\n\u001b[32m   2135\u001b[39m \u001b[43m\u001b[49m\u001b[43m)\u001b[49m\n",
      "\u001b[36mFile \u001b[39m\u001b[32m~/miniconda3/envs/graph2mat/lib/python3.12/site-packages/plotly/graph_objs/_figure.py:422\u001b[39m, in \u001b[36mFigure.add_traces\u001b[39m\u001b[34m(self, data, rows, cols, secondary_ys, exclude_empty_subplots)\u001b[39m\n\u001b[32m    346\u001b[39m \u001b[38;5;28;01mdef\u001b[39;00m\u001b[38;5;250m \u001b[39m\u001b[34madd_traces\u001b[39m(\n\u001b[32m    347\u001b[39m     \u001b[38;5;28mself\u001b[39m,\n\u001b[32m    348\u001b[39m     data,\n\u001b[32m   (...)\u001b[39m\u001b[32m    352\u001b[39m     exclude_empty_subplots=\u001b[38;5;28;01mFalse\u001b[39;00m,\n\u001b[32m    353\u001b[39m ) -> \u001b[33m\"\u001b[39m\u001b[33mFigure\u001b[39m\u001b[33m\"\u001b[39m:\n\u001b[32m    354\u001b[39m \u001b[38;5;250m    \u001b[39m\u001b[33;03m\"\"\"\u001b[39;00m\n\u001b[32m    355\u001b[39m \n\u001b[32m    356\u001b[39m \u001b[33;03m    Add traces to the figure\u001b[39;00m\n\u001b[32m   (...)\u001b[39m\u001b[32m    420\u001b[39m \n\u001b[32m    421\u001b[39m \u001b[33;03m    \"\"\"\u001b[39;00m\n\u001b[32m--> \u001b[39m\u001b[32m422\u001b[39m     \u001b[38;5;28;01mreturn\u001b[39;00m \u001b[38;5;28;43msuper\u001b[39;49m\u001b[43m(\u001b[49m\u001b[43m)\u001b[49m\u001b[43m.\u001b[49m\u001b[43madd_traces\u001b[49m\u001b[43m(\u001b[49m\n\u001b[32m    423\u001b[39m \u001b[43m        \u001b[49m\u001b[43mdata\u001b[49m\u001b[43m,\u001b[49m\u001b[43m \u001b[49m\u001b[43mrows\u001b[49m\u001b[43m,\u001b[49m\u001b[43m \u001b[49m\u001b[43mcols\u001b[49m\u001b[43m,\u001b[49m\u001b[43m \u001b[49m\u001b[43msecondary_ys\u001b[49m\u001b[43m,\u001b[49m\u001b[43m \u001b[49m\u001b[43mexclude_empty_subplots\u001b[49m\n\u001b[32m    424\u001b[39m \u001b[43m    \u001b[49m\u001b[43m)\u001b[49m\n",
      "\u001b[36mFile \u001b[39m\u001b[32m~/miniconda3/envs/graph2mat/lib/python3.12/site-packages/plotly/basedatatypes.py:2213\u001b[39m, in \u001b[36mBaseFigure.add_traces\u001b[39m\u001b[34m(self, data, rows, cols, secondary_ys, exclude_empty_subplots)\u001b[39m\n\u001b[32m   2145\u001b[39m \u001b[38;5;250m\u001b[39m\u001b[33;03m\"\"\"\u001b[39;00m\n\u001b[32m   2146\u001b[39m \u001b[33;03mAdd traces to the figure\u001b[39;00m\n\u001b[32m   2147\u001b[39m \n\u001b[32m   (...)\u001b[39m\u001b[32m   2209\u001b[39m \u001b[33;03mFigure(...)\u001b[39;00m\n\u001b[32m   2210\u001b[39m \u001b[33;03m\"\"\"\u001b[39;00m\n\u001b[32m   2212\u001b[39m \u001b[38;5;66;03m# Validate traces\u001b[39;00m\n\u001b[32m-> \u001b[39m\u001b[32m2213\u001b[39m data = \u001b[38;5;28;43mself\u001b[39;49m\u001b[43m.\u001b[49m\u001b[43m_data_validator\u001b[49m\u001b[43m.\u001b[49m\u001b[43mvalidate_coerce\u001b[49m\u001b[43m(\u001b[49m\u001b[43mdata\u001b[49m\u001b[43m)\u001b[49m\n\u001b[32m   2215\u001b[39m \u001b[38;5;66;03m# Set trace indexes\u001b[39;00m\n\u001b[32m   2216\u001b[39m \u001b[38;5;28;01mfor\u001b[39;00m ind, new_trace \u001b[38;5;129;01min\u001b[39;00m \u001b[38;5;28menumerate\u001b[39m(data):\n",
      "\u001b[36mFile \u001b[39m\u001b[32m~/miniconda3/envs/graph2mat/lib/python3.12/site-packages/_plotly_utils/basevalidators.py:2712\u001b[39m, in \u001b[36mBaseDataValidator.validate_coerce\u001b[39m\u001b[34m(self, v, skip_invalid, _validate)\u001b[39m\n\u001b[32m   2709\u001b[39m             invalid_els.append(v_el)\n\u001b[32m   2711\u001b[39m \u001b[38;5;28;01mif\u001b[39;00m invalid_els:\n\u001b[32m-> \u001b[39m\u001b[32m2712\u001b[39m     \u001b[38;5;28;43mself\u001b[39;49m\u001b[43m.\u001b[49m\u001b[43mraise_invalid_elements\u001b[49m\u001b[43m(\u001b[49m\u001b[43minvalid_els\u001b[49m\u001b[43m)\u001b[49m\n\u001b[32m   2714\u001b[39m v = to_scalar_or_list(res)\n\u001b[32m   2716\u001b[39m \u001b[38;5;66;03m# Set new UIDs\u001b[39;00m\n",
      "\u001b[36mFile \u001b[39m\u001b[32m~/miniconda3/envs/graph2mat/lib/python3.12/site-packages/_plotly_utils/basevalidators.py:315\u001b[39m, in \u001b[36mBaseValidator.raise_invalid_elements\u001b[39m\u001b[34m(self, invalid_els)\u001b[39m\n\u001b[32m    313\u001b[39m     \u001b[38;5;28;01mdef\u001b[39;00m\u001b[38;5;250m \u001b[39m\u001b[34mraise_invalid_elements\u001b[39m(\u001b[38;5;28mself\u001b[39m, invalid_els):\n\u001b[32m    314\u001b[39m         \u001b[38;5;28;01mif\u001b[39;00m invalid_els:\n\u001b[32m--> \u001b[39m\u001b[32m315\u001b[39m             \u001b[38;5;28;01mraise\u001b[39;00m \u001b[38;5;167;01mValueError\u001b[39;00m(\n\u001b[32m    316\u001b[39m \u001b[38;5;250m                \u001b[39m\u001b[33;03m\"\"\"\u001b[39;00m\n\u001b[32m    317\u001b[39m \u001b[33;03m    Invalid element(s) received for the '{name}' property of {pname}\u001b[39;00m\n\u001b[32m    318\u001b[39m \u001b[33;03m        Invalid elements include: {invalid}\u001b[39;00m\n\u001b[32m    319\u001b[39m \n\u001b[32m    320\u001b[39m \u001b[33;03m{valid_clr_desc}\"\"\"\u001b[39;00m.format(\n\u001b[32m    321\u001b[39m                     name=\u001b[38;5;28mself\u001b[39m.plotly_name,\n\u001b[32m    322\u001b[39m                     pname=\u001b[38;5;28mself\u001b[39m.parent_name,\n\u001b[32m    323\u001b[39m                     invalid=invalid_els[:\u001b[32m10\u001b[39m],\n\u001b[32m    324\u001b[39m                     valid_clr_desc=\u001b[38;5;28mself\u001b[39m.description(),\n\u001b[32m    325\u001b[39m                 )\n\u001b[32m    326\u001b[39m             )\n",
      "\u001b[31mValueError\u001b[39m: \n    Invalid element(s) received for the 'data' property of \n        Invalid elements include: [Figure({\n    'data': [{'coloraxis': 'coloraxis',\n              'hovertemplate': 'x: %{x}<br>y: %{y}<br>color: %{z}<extra></extra>',\n              'name': '0',\n              'texttemplate': '%{z:.2f}',\n              'type': 'heatmap',\n              'xaxis': 'x',\n              'yaxis': 'y',\n              'z': {'bdata': ('2vmOvtKNnj9bLuI+q6j7Pv5orD/JtO' ... '8mSk4+b+XkvQzMW7zGkmQ+t/IBPw=='),\n                    'dtype': 'f4',\n                    'shape': '7, 7'}}],\n    'layout': {'coloraxis': {'cmid': 0,\n                             'colorscale': [[0.0, 'rgb(0, 147, 146)'],\n                                            [0.16666666666666666, 'rgb(57, 177,\n                                            133)'], [0.3333333333333333, 'rgb(156,\n                                            203, 134)'], [0.5, 'rgb(233, 226,\n                                            156)'], [0.6666666666666666, 'rgb(238,\n                                            180, 121)'], [0.8333333333333334,\n                                            'rgb(232, 132, 113)'], [1.0, 'rgb(207,\n                                            89, 126)']]},\n               'margin': {'t': 60},\n               'shapes': [{'line': {'color': 'black'},\n                           'type': 'line',\n                           'x0': 0,\n                           'x1': 1,\n                           'xref': 'x domain',\n                           'y0': 0.5,\n                           'y1': 0.5,\n                           'yref': 'y'},\n                          {'line': {'color': 'black'},\n                           'type': 'line',\n                           'x0': 0.5,\n                           'x1': 0.5,\n                           'xref': 'x',\n                           'y0': 0,\n                           'y1': 1,\n                           'yref': 'y domain'},\n                          {'line': {'color': 'black'},\n                           'type': 'line',\n                           'x0': 0,\n                           'x1': 1,\n                           'xref': 'x domain',\n                           'y0': 5.5,\n                           'y1': 5.5,\n                           'yref': 'y'},\n                          {'line': {'color': 'black'},\n                           'type': 'line',\n                           'x0': 5.5,\n                           'x1': 5.5,\n                           'xref': 'x',\n                           'y0': 0,\n                           'y1': 1,\n                           'yref': 'y domain'},\n                          {'line': {'color': 'blue', 'dash': 'dot'},\n                           'type': 'line',\n                           'x0': 0,\n                           'x1': 1,\n                           'xref': 'x domain',\n                           'y0': 1.5,\n                           'y1': 1.5,\n                           'yref': 'y'},\n                          {'line': {'color': 'blue', 'dash': 'dot'},\n                           'type': 'line',\n                           'x0': 1.5,\n                           'x1': 1.5,\n                           'xref': 'x',\n                           'y0': 0,\n                           'y1': 1,\n                           'yref': 'y domain'},\n                          {'line': {'color': 'blue', 'dash': 'dot'},\n                           'type': 'line',\n                           'x0': 0,\n                           'x1': 1,\n                           'xref': 'x domain',\n                           'y0': 2.5,\n                           'y1': 2.5,\n                           'yref': 'y'},\n                          {'line': {'color': 'blue', 'dash': 'dot'},\n                           'type': 'line',\n                           'x0': 2.5,\n                           'x1': 2.5,\n                           'xref': 'x',\n                           'y0': 0,\n                           'y1': 1,\n                           'yref': 'y domain'}],\n               'template': '...',\n               'xaxis': {'anchor': 'y',\n                         'constrain': 'domain',\n                         'domain': [0.0, 1.0],\n                         'scaleanchor': 'y',\n                         'ticktext': [0: (0, 0), 1: (0, 0), 1: (0, 0), 1: (1, -1),\n                                      1: (1, 0), 1: (1, 1), 2: (0, 0)],\n                         'tickvals': {'bdata': 'AAECAwQFBg==', 'dtype': 'i1'}},\n               'yaxis': {'anchor': 'x',\n                         'autorange': 'reversed',\n                         'constrain': 'domain',\n                         'domain': [0.0, 1.0],\n                         'ticktext': [0: (0, 0), 1: (0, 0), 1: (0, 0), 1: (1, -1),\n                                      1: (1, 0), 1: (1, 1), 2: (0, 0)],\n                         'tickvals': {'bdata': 'AAECAwQFBg==', 'dtype': 'i1'}}}\n})]\n\n    The 'data' property is a tuple of trace instances\n    that may be specified as:\n      - A list or tuple of trace instances\n        (e.g. [Scatter(...), Bar(...)])\n      - A single trace instance\n        (e.g. Scatter(...), Bar(...), etc.)\n      - A list or tuple of dicts of string/value properties where:\n        - The 'type' property specifies the trace type\n            One of: ['bar', 'barpolar', 'box', 'candlestick',\n                     'carpet', 'choropleth', 'choroplethmap',\n                     'choroplethmapbox', 'cone', 'contour',\n                     'contourcarpet', 'densitymap',\n                     'densitymapbox', 'funnel', 'funnelarea',\n                     'heatmap', 'histogram', 'histogram2d',\n                     'histogram2dcontour', 'icicle', 'image',\n                     'indicator', 'isosurface', 'mesh3d', 'ohlc',\n                     'parcats', 'parcoords', 'pie', 'sankey',\n                     'scatter', 'scatter3d', 'scattercarpet',\n                     'scattergeo', 'scattergl', 'scattermap',\n                     'scattermapbox', 'scatterpolar',\n                     'scatterpolargl', 'scattersmith',\n                     'scatterternary', 'splom', 'streamtube',\n                     'sunburst', 'surface', 'table', 'treemap',\n                     'violin', 'volume', 'waterfall']\n\n        - All remaining properties are passed to the constructor of\n          the specified trace type\n\n        (e.g. [{'type': 'scatter', ...}, {'type': 'bar, ...}])"
     ]
    }
   ],
   "source": [
    "from plotly.subplots import make_subplots\n",
    "\n",
    "def plot_error_matrices_interactive(true_matrix, predicted_matrix, config_matrix, matrix_label=None, figure_title=None, predicted_matrix_text=None, filepath=None, n_atoms=None, absolute_error_cbar_limit=None):\n",
    "    \"\"\"Interactive Plotly visualization of error matrices.\"\"\"\n",
    "\n",
    "    # === Error matrices computation ===\n",
    "    absolute_error_matrix = true_matrix - predicted_matrix\n",
    "    epsilon = 0.001\n",
    "    # relative_error_matrix = absolute_error_matrix / (true_matrix + epsilon)*100\n",
    "    relative_error_matrix = absolute_error_matrix\n",
    "\n",
    "    # === Colorbar limits ===\n",
    "    vmin = np.min([np.min(true_matrix), np.min(predicted_matrix)])\n",
    "    vmax = np.max([np.max(true_matrix), np.max(predicted_matrix)])\n",
    "    lim_data = max(abs(vmin), abs(vmax))\n",
    "\n",
    "    if absolute_error_cbar_limit is None:\n",
    "        lim_abs = np.max(np.abs(absolute_error_matrix))\n",
    "    else:\n",
    "        lim_abs = absolute_error_cbar_limit\n",
    "\n",
    "    lim_rel = 100.0  # %\n",
    "\n",
    "    cbar_limits = [lim_data, lim_data, lim_abs, lim_rel]\n",
    "\n",
    "    # === Titles ===\n",
    "    if matrix_label is None:\n",
    "        matrix_label = ''\n",
    "    titles = [\n",
    "        \"True \" + matrix_label,\n",
    "        \"Predicted \" + matrix_label,\n",
    "        \"Absolute error (A-B)\",\n",
    "        f\"Relative error (A-B)/(A+{epsilon})\"\n",
    "    ]\n",
    "    cbar_titles = [\"eV\", \"eV\", \"eV\", \"%\"]\n",
    "\n",
    "    # === Figure ===\n",
    "    # cbar_positions = [0.44, 1, 0.44, 1]\n",
    "    matrices = [true_matrix, predicted_matrix, absolute_error_matrix, relative_error_matrix]\n",
    "\n",
    "    fig = make_subplots(\n",
    "        rows=4, cols=1,\n",
    "        # subplot_titles=titles,\n",
    "        # horizontal_spacing=0.15,\n",
    "        vertical_spacing=0.17\n",
    "    )\n",
    "\n",
    "    for i, matrix in enumerate(matrices):\n",
    "        # row = i // 2 + 1\n",
    "        # col = i % 2 + 1\n",
    "\n",
    "        heatmap = plot_basis_matrix(\n",
    "            matrix,\n",
    "            config_matrix,\n",
    "            point_lines={\"color\": \"black\"},\n",
    "            basis_lines={\"color\": \"blue\"},\n",
    "            colorscale=\"temps\",\n",
    "            text=\".2f\",\n",
    "            basis_labels=True,\n",
    "        )\n",
    "        fig.add_trace(heatmap, row=i, col=1)\n",
    "\n",
    "    # === Subplot titles ===\n",
    "    fig.update_layout(\n",
    "        xaxis1=dict(side=\"top\", title_text=titles[0]), yaxis1=dict(autorange=\"reversed\"),\n",
    "        xaxis2=dict(side=\"top\", title_text=titles[1]), yaxis2=dict(autorange=\"reversed\"),\n",
    "        xaxis3=dict(side=\"top\", title_text=titles[2]), yaxis3=dict(autorange=\"reversed\"),\n",
    "        xaxis4=dict(side=\"top\", title_text=titles[3]), yaxis4=dict(autorange=\"reversed\"),\n",
    "        margin={\"l\":0,\n",
    "                \"r\":0,\n",
    "                \"t\":0,\n",
    "                \"b\":0}\n",
    "    )\n",
    "\n",
    "    # # === Atomic orbitals blocks grid ===\n",
    "    # if n_atoms is not None:\n",
    "    #     n_orbitals = 13\n",
    "    #     minor_ticks = np.arange(-0.5, n_orbitals * n_atoms, n_orbitals)\n",
    "\n",
    "    #     for i, matrix in enumerate(matrices):\n",
    "    #         row = i // 2 + 1\n",
    "    #         col = i % 2 + 1  # Ensure shapes are added to the correct subplot\n",
    "\n",
    "    #         grid_lines = [\n",
    "    #             # Vertical grid lines\n",
    "    #             dict(type=\"line\", x0=x, x1=x, y0=-0.5, y1=n_orbitals * n_atoms - 0.5, line=dict(color=\"black\", width=1))\n",
    "    #             for x in minor_ticks\n",
    "    #         ] + [\n",
    "    #             # Horizontal grid lines\n",
    "    #             dict(type=\"line\", y0=y, y1=y, x0=-0.5, x1=n_orbitals * n_atoms - 0.5, line=dict(color=\"black\", width=1))\n",
    "    #             for y in minor_ticks\n",
    "    #         ]\n",
    "\n",
    "    #         # Add each grid line to the corresponding subplot\n",
    "    #         for line in grid_lines:\n",
    "    #             fig.add_shape(line, row=row, col=col)\n",
    "\n",
    "    # === Text annotations ===\n",
    "\n",
    "    # Text under predicted matrix\n",
    "    if predicted_matrix_text:\n",
    "        fig.add_annotation(\n",
    "            text=predicted_matrix_text,\n",
    "            xref='x2 domain', yref='y2 domain',\n",
    "            x=1.1, y=-0.15,\n",
    "            showarrow=False,\n",
    "            font=dict(size=12),\n",
    "            align='right'\n",
    "        )\n",
    "\n",
    "    # Absolute error stats\n",
    "    max_absolute_error = np.max(absolute_error_matrix)\n",
    "    min_absolute_error = np.min(absolute_error_matrix)\n",
    "    fig.add_annotation(\n",
    "        text=f\"max = {max_absolute_error:.2f} eV, min = {min_absolute_error:.2f} eV\",\n",
    "        xref='x3 domain', yref='y3 domain',\n",
    "        x=0.5, y=-0.07,\n",
    "        showarrow=False,\n",
    "        font=dict(size=12),\n",
    "        align='center'\n",
    "    )\n",
    "\n",
    "    # Relative error stats\n",
    "    max_relative_error = np.max(relative_error_matrix)\n",
    "    min_relative_error = np.min(relative_error_matrix)\n",
    "    fig.add_annotation(\n",
    "        text=f\"max = {max_relative_error:.2f}%, min = {min_relative_error:.2f}%\",\n",
    "        xref='x4 domain', yref='y4 domain',\n",
    "        x=0.5, y=-0.07,\n",
    "        showarrow=False,\n",
    "        font=dict(size=12),\n",
    "        align='center'\n",
    "    )\n",
    "\n",
    "    # === Layout of the whole figure ===\n",
    "    fig.update_layout(\n",
    "        height=1700,\n",
    "        width=800,\n",
    "        title_text=figure_title if figure_title else \"Matrix Comparison and Errors\",\n",
    "        title_x=0.5,\n",
    "        title_y=0.99,\n",
    "        margin=dict(t=100, b=20)\n",
    "    )\n",
    "\n",
    "    # === Output ===\n",
    "    if filepath:\n",
    "        fig.write_html(filepath)\n",
    "    else:\n",
    "        fig.show()\n",
    "\n",
    "\n",
    "\n",
    "predictions={\n",
    "    \"node_labels\": step_predictions[0],\n",
    "    \"edge_labels\": step_predictions[1],\n",
    "}\n",
    "\n",
    "data_example = dataset[0]\n",
    "matrices = processor.matrix_from_data(data, predictions=predictions)\n",
    "if not isinstance(matrices, (tuple, list)):\n",
    "    matrices = (matrices,)\n",
    "\n",
    "true_matrix = processor.matrix_from_data(data)[0]\n",
    "predicted_matrix = matrices[0]\n",
    "plot_error_matrices_interactive(true_matrix, predicted_matrix, configs[0])"
   ]
  },
  {
   "cell_type": "code",
   "execution_count": null,
   "id": "d5bc6859",
   "metadata": {},
   "outputs": [
    {
     "data": {
      "text/plain": [
       "(<Compressed Sparse Row sparse array of dtype 'float32'\n",
       " \twith 47 stored elements and shape (7, 7)>,\n",
       " <Compressed Sparse Row sparse array of dtype 'float32'\n",
       " \twith 71 stored elements and shape (11, 11)>)"
      ]
     },
     "execution_count": 22,
     "metadata": {},
     "output_type": "execute_result"
    }
   ],
   "source": [
    "true_matrix"
   ]
  },
  {
   "cell_type": "code",
   "execution_count": null,
   "id": "935c4364",
   "metadata": {},
   "outputs": [
    {
     "ename": "TypeError",
     "evalue": "plot_basis_matrix() got an unexpected keyword argument 'return_plotly'",
     "output_type": "error",
     "traceback": [
      "\u001b[31m---------------------------------------------------------------------------\u001b[39m",
      "\u001b[31mTypeError\u001b[39m                                 Traceback (most recent call last)",
      "\u001b[36mCell\u001b[39m\u001b[36m \u001b[39m\u001b[32mIn[27]\u001b[39m\u001b[32m, line 14\u001b[39m\n\u001b[32m     12\u001b[39m \u001b[38;5;66;03m# Plot each sparse matrix using plot_basis_matrix with Plotly\u001b[39;00m\n\u001b[32m     13\u001b[39m \u001b[38;5;28;01mfor\u001b[39;00m i, mat \u001b[38;5;129;01min\u001b[39;00m \u001b[38;5;28menumerate\u001b[39m(matrices):\n\u001b[32m---> \u001b[39m\u001b[32m14\u001b[39m     fig_i = \u001b[43mplot_basis_matrix\u001b[49m\u001b[43m(\u001b[49m\u001b[43mmat\u001b[49m\u001b[43m,\u001b[49m\u001b[43m \u001b[49m\u001b[43mreturn_plotly\u001b[49m\u001b[43m=\u001b[49m\u001b[38;5;28;43;01mTrue\u001b[39;49;00m\u001b[43m)\u001b[49m  \u001b[38;5;66;03m# Get plotly figure\u001b[39;00m\n\u001b[32m     15\u001b[39m     \u001b[38;5;28;01mfor\u001b[39;00m trace \u001b[38;5;129;01min\u001b[39;00m fig_i.data:\n\u001b[32m     16\u001b[39m         fig.add_trace(trace, row=i+\u001b[32m1\u001b[39m, col=\u001b[32m1\u001b[39m)\n",
      "\u001b[31mTypeError\u001b[39m: plot_basis_matrix() got an unexpected keyword argument 'return_plotly'"
     ]
    }
   ],
   "source": [
    "import scipy.sparse as sp\n",
    "import numpy as np\n",
    "from graph2mat.tools.viz.sparse_plot import plot_basis_matrix\n",
    "from plotly.subplots import make_subplots\n",
    "\n",
    "# Create dummy sparse matrices\n",
    "matrices = [sp.random(10, 10, density=0.1, format='csr', random_state=i) for i in range(4)]\n",
    "\n",
    "# Create a 4x1 subplot figure\n",
    "fig = make_subplots(rows=4, cols=1, subplot_titles=[f\"Matrix {i+1}\" for i in range(4)])\n",
    "\n",
    "# Plot each sparse matrix using plot_basis_matrix with Plotly\n",
    "for i, mat in enumerate(matrices):\n",
    "    fig_i = plot_basis_matrix(mat, return_plotly=True)  # Get plotly figure\n",
    "    for trace in fig_i.data:\n",
    "        fig.add_trace(trace, row=i+1, col=1)\n",
    "\n",
    "fig.update_layout(height=1200, showlegend=False)\n",
    "fig.show()\n",
    "\n"
   ]
  },
  {
   "cell_type": "code",
   "execution_count": 21,
   "id": "c11942e3",
   "metadata": {},
   "outputs": [
    {
     "data": {
      "application/vnd.plotly.v1+json": {
       "config": {
        "plotlyServerURL": "https://plot.ly"
       },
       "data": [
        {
         "colorbar": {
          "len": 0.475,
          "title": {
           "text": "eV"
          },
          "x": 1,
          "y": 0.807,
          "yanchor": "middle"
         },
         "colorscale": [
          [
           0,
           "rgb(165,0,38)"
          ],
          [
           0.1,
           "rgb(215,48,39)"
          ],
          [
           0.2,
           "rgb(244,109,67)"
          ],
          [
           0.3,
           "rgb(253,174,97)"
          ],
          [
           0.4,
           "rgb(254,224,144)"
          ],
          [
           0.5,
           "rgb(255,255,191)"
          ],
          [
           0.6,
           "rgb(224,243,248)"
          ],
          [
           0.7,
           "rgb(171,217,233)"
          ],
          [
           0.8,
           "rgb(116,173,209)"
          ],
          [
           0.9,
           "rgb(69,117,180)"
          ],
          [
           1,
           "rgb(49,54,149)"
          ]
         ],
         "type": "heatmap",
         "xaxis": "x",
         "yaxis": "y",
         "z": {
          "bdata": "2vmOvtKNnj9bLuI+q6j7Pv5orD/JtOe9AAAAANKNnj/bmYc/tVmMP6eMvL6bUGu/Fp6hPuL1jD9bLuI+tVmMP4nokL5JnqM9CGurv6GWqD8mSk4+q6j7PqeMvL5JnqM9rd69PpPAsr8DxiK+b+Xkvf5orD+bUGu/CGurv5PAsr+67Wo/NSk6PgzMW7zJtOe9Fp6hPqGWqD8DxiK+NSk6PiZyub/GkmQ+AAAAAOL1jD8mSk4+b+XkvQzMW7zGkmQ+t/IBPw==",
          "dtype": "f4",
          "shape": "7, 7"
         },
         "zmax": 1.448796,
         "zmin": -1.448796
        },
        {
         "colorbar": {
          "len": 0.475,
          "title": {
           "text": "eV"
          },
          "x": 1,
          "y": 0.2220000000000001,
          "yanchor": "middle"
         },
         "colorscale": [
          [
           0,
           "rgb(165,0,38)"
          ],
          [
           0.1,
           "rgb(215,48,39)"
          ],
          [
           0.2,
           "rgb(244,109,67)"
          ],
          [
           0.3,
           "rgb(253,174,97)"
          ],
          [
           0.4,
           "rgb(254,224,144)"
          ],
          [
           0.5,
           "rgb(255,255,191)"
          ],
          [
           0.6,
           "rgb(224,243,248)"
          ],
          [
           0.7,
           "rgb(171,217,233)"
          ],
          [
           0.8,
           "rgb(116,173,209)"
          ],
          [
           0.9,
           "rgb(69,117,180)"
          ],
          [
           1,
           "rgb(49,54,149)"
          ]
         ],
         "type": "heatmap",
         "xaxis": "x2",
         "yaxis": "y2",
         "z": {
          "bdata": "2vmOvtKNnj9bLuI+q6j7Pv5orD/JtOe9AAAAANKNnj/bmYc/tVmMP6eMvL6bUGu/Fp6hPuL1jD9bLuI+tVmMP4nokL5JnqM9CGurv6GWqD8mSk4+q6j7PqeMvL5JnqM9rd69PpPAsr8DxiK+b+Xkvf5orD+bUGu/CGurv5PAsr+67Wo/NSk6PgzMW7zJtOe9Fp6hPqGWqD8DxiK+NSk6PiZyub/GkmQ+AAAAAOL1jD8mSk4+b+XkvQzMW7zGkmQ+t/IBPw==",
          "dtype": "f4",
          "shape": "7, 7"
         },
         "zmax": 1.448796,
         "zmin": -1.448796
        },
        {
         "colorbar": {
          "len": 0.475,
          "title": {
           "text": "eV"
          },
          "x": 1,
          "y": -0.3629999999999999,
          "yanchor": "middle"
         },
         "colorscale": [
          [
           0,
           "rgb(165,0,38)"
          ],
          [
           0.1,
           "rgb(215,48,39)"
          ],
          [
           0.2,
           "rgb(244,109,67)"
          ],
          [
           0.3,
           "rgb(253,174,97)"
          ],
          [
           0.4,
           "rgb(254,224,144)"
          ],
          [
           0.5,
           "rgb(255,255,191)"
          ],
          [
           0.6,
           "rgb(224,243,248)"
          ],
          [
           0.7,
           "rgb(171,217,233)"
          ],
          [
           0.8,
           "rgb(116,173,209)"
          ],
          [
           0.9,
           "rgb(69,117,180)"
          ],
          [
           1,
           "rgb(49,54,149)"
          ]
         ],
         "type": "heatmap",
         "xaxis": "x3",
         "yaxis": "y3",
         "z": {
          "bdata": "AAAAAAAAAAAAAAAAAAAAAAAAAAAAAAAAAAAAAAAAAAAAAAAAAAAAAAAAAAAAAAAAAAAAAAAAAAAAAAAAAAAAAAAAAAAAAAAAAAAAAAAAAAAAAAAAAAAAAAAAAAAAAAAAAAAAAAAAAAAAAAAAAAAAAAAAAAAAAAAAAAAAAAAAAAAAAAAAAAAAAAAAAAAAAAAAAAAAAAAAAAAAAAAAAAAAAAAAAAAAAAAAAAAAAAAAAAAAAAAAAAAAAAAAAAAAAAAAAAAAAA==",
          "dtype": "f4",
          "shape": "7, 7"
         },
         "zmax": 0,
         "zmin": 0
        },
        {
         "colorbar": {
          "len": 0.475,
          "title": {
           "text": "%"
          },
          "x": 1,
          "y": -0.9479999999999998,
          "yanchor": "middle"
         },
         "colorscale": [
          [
           0,
           "rgb(165,0,38)"
          ],
          [
           0.1,
           "rgb(215,48,39)"
          ],
          [
           0.2,
           "rgb(244,109,67)"
          ],
          [
           0.3,
           "rgb(253,174,97)"
          ],
          [
           0.4,
           "rgb(254,224,144)"
          ],
          [
           0.5,
           "rgb(255,255,191)"
          ],
          [
           0.6,
           "rgb(224,243,248)"
          ],
          [
           0.7,
           "rgb(171,217,233)"
          ],
          [
           0.8,
           "rgb(116,173,209)"
          ],
          [
           0.9,
           "rgb(69,117,180)"
          ],
          [
           1,
           "rgb(49,54,149)"
          ]
         ],
         "type": "heatmap",
         "xaxis": "x4",
         "yaxis": "y4",
         "z": {
          "bdata": "AAAAgAAAAAAAAAAAAAAAAAAAAAAAAACAAAAAAAAAAAAAAAAAAAAAAAAAAIAAAACAAAAAAAAAAAAAAAAAAAAAAAAAAIAAAAAAAAAAgAAAAAAAAAAAAAAAAAAAAIAAAAAAAAAAAAAAAIAAAACAAAAAgAAAAAAAAACAAAAAgAAAAIAAAAAAAAAAAAAAAIAAAACAAAAAAAAAAAAAAACAAAAAAAAAAIAAAAAAAAAAAAAAAAAAAAAAAAAAgAAAAIAAAAAAAAAAAA==",
          "dtype": "f4",
          "shape": "7, 7"
         },
         "zmax": 100,
         "zmin": -100
        }
       ],
       "layout": {
        "annotations": [
         {
          "align": "center",
          "font": {
           "size": 12
          },
          "showarrow": false,
          "text": "max = 0.00 eV, min = 0.00 eV",
          "x": 0.5,
          "xref": "x3 domain",
          "y": -0.07,
          "yref": "y3 domain"
         },
         {
          "align": "center",
          "font": {
           "size": 12
          },
          "showarrow": false,
          "text": "max = 0.00%, min = 0.00%",
          "x": 0.5,
          "xref": "x4 domain",
          "y": -0.07,
          "yref": "y4 domain"
         }
        ],
        "height": 850,
        "margin": {
         "b": 20,
         "l": 0,
         "r": 0,
         "t": 100
        },
        "template": {
         "layout": {
          "hovermode": "closest",
          "paper_bgcolor": "white",
          "plot_bgcolor": "white",
          "scene": {
           "xaxis": {
            "color": "black",
            "gridcolor": "#ccc",
            "gridwidth": 1,
            "linewidth": 1,
            "mirror": true,
            "showgrid": false,
            "showline": true,
            "ticklen": 5,
            "ticks": "outside",
            "ticksuffix": " ",
            "visible": true,
            "zeroline": false,
            "zerolinecolor": "#ccc",
            "zerolinewidth": 1
           },
           "yaxis": {
            "color": "black",
            "gridcolor": "#ccc",
            "gridwidth": 1,
            "linewidth": 1,
            "mirror": true,
            "showgrid": false,
            "showline": true,
            "ticklen": 5,
            "ticks": "outside",
            "ticksuffix": " ",
            "visible": true,
            "zeroline": false,
            "zerolinecolor": "#ccc",
            "zerolinewidth": 1
           },
           "zaxis": {
            "color": "black",
            "gridcolor": "#ccc",
            "gridwidth": 1,
            "linewidth": 1,
            "mirror": true,
            "showgrid": false,
            "showline": true,
            "ticklen": 5,
            "ticks": "outside",
            "ticksuffix": " ",
            "visible": true,
            "zeroline": false,
            "zerolinecolor": "#ccc",
            "zerolinewidth": 1
           }
          },
          "xaxis": {
           "color": "black",
           "gridcolor": "#ccc",
           "gridwidth": 1,
           "linewidth": 1,
           "mirror": true,
           "showgrid": false,
           "showline": true,
           "ticklen": 5,
           "ticks": "outside",
           "ticksuffix": " ",
           "visible": true,
           "zeroline": false,
           "zerolinecolor": "#ccc",
           "zerolinewidth": 1
          },
          "yaxis": {
           "color": "black",
           "gridcolor": "#ccc",
           "gridwidth": 1,
           "linewidth": 1,
           "mirror": true,
           "showgrid": false,
           "showline": true,
           "ticklen": 5,
           "ticks": "outside",
           "ticksuffix": " ",
           "visible": true,
           "zeroline": false,
           "zerolinecolor": "#ccc",
           "zerolinewidth": 1
          }
         }
        },
        "title": {
         "text": "Matrix Comparison and Errors",
         "x": 0.5,
         "y": 0.99
        },
        "width": 800,
        "xaxis": {
         "anchor": "y",
         "domain": [
          0,
          1
         ],
         "side": "top",
         "title": {
          "text": "True "
         }
        },
        "xaxis2": {
         "anchor": "y2",
         "domain": [
          0,
          1
         ],
         "side": "top",
         "title": {
          "text": "Predicted "
         }
        },
        "xaxis3": {
         "anchor": "y3",
         "domain": [
          0,
          1
         ],
         "side": "top",
         "title": {
          "text": "Absolute error (A-B)"
         }
        },
        "xaxis4": {
         "anchor": "y4",
         "domain": [
          0,
          1
         ],
         "side": "top",
         "title": {
          "text": "Relative error (A-B)/(A+0.001)"
         }
        },
        "yaxis": {
         "anchor": "x",
         "autorange": "reversed",
         "domain": [
          0.8775,
          1
         ]
        },
        "yaxis2": {
         "anchor": "x2",
         "autorange": "reversed",
         "domain": [
          0.585,
          0.7075
         ]
        },
        "yaxis3": {
         "anchor": "x3",
         "autorange": "reversed",
         "domain": [
          0.2925,
          0.415
         ]
        },
        "yaxis4": {
         "anchor": "x4",
         "autorange": "reversed",
         "domain": [
          0,
          0.1225
         ]
        }
       }
      }
     },
     "metadata": {},
     "output_type": "display_data"
    }
   ],
   "source": [
    "matrix = processor.matrix_from_data(data)[0].todense()\n",
    "\n",
    "# plot_basis_matrix(\n",
    "#     matrix,\n",
    "#     config1,\n",
    "#     point_lines={\"color\": \"black\"},\n",
    "#     basis_lines={\"color\": \"blue\"},\n",
    "#     colorscale=\"temps\",\n",
    "#     text=\".2f\",\n",
    "#     basis_labels=True,\n",
    "# )\n",
    "\n",
    "plot_error_matrices_interactive(matrix, matrix)"
   ]
  },
  {
   "cell_type": "code",
   "execution_count": 20,
   "id": "ccd4bc1e",
   "metadata": {},
   "outputs": [],
   "source": [
    "import plotly.graph_objects as go\n",
    "\n",
    "def plot_error_matrices_interactive(true_matrix, predicted_matrix, matrix_label=None, figure_title=None, predicted_matrix_text=None, filepath=None, n_atoms=None, absolute_error_cbar_limit=None):\n",
    "    \"\"\"Interactive Plotly visualization of error matrices.\"\"\"\n",
    "\n",
    "    # === Error matrices computation ===\n",
    "    absolute_error_matrix = true_matrix - predicted_matrix\n",
    "    epsilon = 0.001\n",
    "    relative_error_matrix = absolute_error_matrix / (true_matrix + epsilon)*100\n",
    "\n",
    "    # === Colorbar limits ===\n",
    "    vmin = np.min([np.min(true_matrix), np.min(predicted_matrix)])\n",
    "    vmax = np.max([np.max(true_matrix), np.max(predicted_matrix)])\n",
    "    lim_data = max(abs(vmin), abs(vmax))\n",
    "\n",
    "    if absolute_error_cbar_limit is None:\n",
    "        lim_abs = np.max(np.abs(absolute_error_matrix))\n",
    "    else:\n",
    "        lim_abs = absolute_error_cbar_limit\n",
    "\n",
    "    lim_rel = 100.0  # %\n",
    "\n",
    "    cbar_limits = [lim_data, lim_data, lim_abs, lim_rel]\n",
    "\n",
    "    # === Titles ===\n",
    "    if matrix_label is None:\n",
    "        matrix_label = ''\n",
    "    titles = [\n",
    "        \"True \" + matrix_label,\n",
    "        \"Predicted \" + matrix_label,\n",
    "        \"Absolute error (A-B)\",\n",
    "        f\"Relative error (A-B)/(A+{epsilon})\"\n",
    "    ]\n",
    "    cbar_titles = [\"eV\", \"eV\", \"eV\", \"%\"]\n",
    "\n",
    "    # === Figure ===\n",
    "    cbar_positions = [1, 1, 1, 1]\n",
    "    matrices = [true_matrix, predicted_matrix, absolute_error_matrix, relative_error_matrix]\n",
    "\n",
    "    fig = make_subplots(\n",
    "        rows=4, cols=1,\n",
    "        # subplot_titles=titles,\n",
    "        # horizontal_spacing=0.15,\n",
    "        vertical_spacing=0.17\n",
    "    )\n",
    "\n",
    "    for i, matrix in enumerate(matrices):\n",
    "        row = i + 1\n",
    "        col = 1\n",
    "\n",
    "        heatmap = go.Heatmap(\n",
    "            z=matrix,\n",
    "            colorscale='RdYlBu',\n",
    "            zmin=-cbar_limits[i],\n",
    "            zmax=cbar_limits[i],\n",
    "            colorbar=dict(title=cbar_titles[i], len=0.475, yanchor=\"middle\", y=0.807 - 0.585*(row-1)),\n",
    "            colorbar_x = cbar_positions[i]\n",
    "        )\n",
    "        fig.add_trace(heatmap, row=row, col=col)\n",
    "\n",
    "    # === Subplot titles ===\n",
    "    fig.update_layout(\n",
    "        xaxis1=dict(side=\"top\", title_text=titles[0]), yaxis1=dict(autorange=\"reversed\"),\n",
    "        xaxis2=dict(side=\"top\", title_text=titles[1]), yaxis2=dict(autorange=\"reversed\"),\n",
    "        xaxis3=dict(side=\"top\", title_text=titles[2]), yaxis3=dict(autorange=\"reversed\"),\n",
    "        xaxis4=dict(side=\"top\", title_text=titles[3]), yaxis4=dict(autorange=\"reversed\"),\n",
    "        margin={\"l\":0,\n",
    "                \"r\":0,\n",
    "                \"t\":0,\n",
    "                \"b\":0}\n",
    "    )\n",
    "\n",
    "    # === Atomic orbitals blocks grid ===\n",
    "    if n_atoms is not None:\n",
    "        n_orbitals = 13\n",
    "        minor_ticks = np.arange(-0.5, n_orbitals * n_atoms, n_orbitals)\n",
    "\n",
    "        for i, matrix in enumerate(matrices):\n",
    "            row = i // 2 + 1\n",
    "            col = i % 2 + 1  # Ensure shapes are added to the correct subplot\n",
    "\n",
    "            grid_lines = [\n",
    "                # Vertical grid lines\n",
    "                dict(type=\"line\", x0=x, x1=x, y0=-0.5, y1=n_orbitals * n_atoms - 0.5, line=dict(color=\"black\", width=1))\n",
    "                for x in minor_ticks\n",
    "            ] + [\n",
    "                # Horizontal grid lines\n",
    "                dict(type=\"line\", y0=y, y1=y, x0=-0.5, x1=n_orbitals * n_atoms - 0.5, line=dict(color=\"black\", width=1))\n",
    "                for y in minor_ticks\n",
    "            ]\n",
    "\n",
    "            # Add each grid line to the corresponding subplot\n",
    "            for line in grid_lines:\n",
    "                fig.add_shape(line, row=row, col=col)\n",
    "\n",
    "    # === Text annotations ===\n",
    "\n",
    "    # Text under predicted matrix\n",
    "    if predicted_matrix_text:\n",
    "        fig.add_annotation(\n",
    "            text=predicted_matrix_text,\n",
    "            xref='x2 domain', yref='y2 domain',\n",
    "            x=1.1, y=-0.15,\n",
    "            showarrow=False,\n",
    "            font=dict(size=12),\n",
    "            align='right'\n",
    "        )\n",
    "\n",
    "    # Absolute error stats\n",
    "    max_absolute_error = np.max(absolute_error_matrix)\n",
    "    min_absolute_error = np.min(absolute_error_matrix)\n",
    "    fig.add_annotation(\n",
    "        text=f\"max = {max_absolute_error:.2f} eV, min = {min_absolute_error:.2f} eV\",\n",
    "        xref='x3 domain', yref='y3 domain',\n",
    "        x=0.5, y=-0.07,\n",
    "        showarrow=False,\n",
    "        font=dict(size=12),\n",
    "        align='center'\n",
    "    )\n",
    "\n",
    "    # Relative error stats\n",
    "    max_relative_error = np.max(relative_error_matrix)\n",
    "    min_relative_error = np.min(relative_error_matrix)\n",
    "    fig.add_annotation(\n",
    "        text=f\"max = {max_relative_error:.2f}%, min = {min_relative_error:.2f}%\",\n",
    "        xref='x4 domain', yref='y4 domain',\n",
    "        x=0.5, y=-0.07,\n",
    "        showarrow=False,\n",
    "        font=dict(size=12),\n",
    "        align='center'\n",
    "    )\n",
    "\n",
    "    # === Layout of the whole figure ===\n",
    "    fig.update_layout(\n",
    "        height=850,\n",
    "        width=800,\n",
    "        title_text=figure_title if figure_title else \"Matrix Comparison and Errors\",\n",
    "        title_x=0.5,\n",
    "        title_y=0.99,\n",
    "        margin=dict(t=100, b=20)\n",
    "    )\n",
    "\n",
    "    # === Output ===\n",
    "    if filepath:\n",
    "        fig.write_html(filepath)\n",
    "    else:\n",
    "        fig.show()"
   ]
  },
  {
   "cell_type": "code",
   "execution_count": null,
   "id": "435bdc9a",
   "metadata": {},
   "outputs": [],
   "source": []
  }
 ],
 "metadata": {
  "kernelspec": {
   "display_name": "graph2mat",
   "language": "python",
   "name": "python3"
  },
  "language_info": {
   "codemirror_mode": {
    "name": "ipython",
    "version": 3
   },
   "file_extension": ".py",
   "mimetype": "text/x-python",
   "name": "python",
   "nbconvert_exporter": "python",
   "pygments_lexer": "ipython3",
   "version": "3.12.11"
  }
 },
 "nbformat": 4,
 "nbformat_minor": 5
}
