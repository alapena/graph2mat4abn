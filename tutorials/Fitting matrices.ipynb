{
 "cells": [
  {
   "cell_type": "markdown",
   "id": "97658521-39cc-4b66-b82a-e533a8d78901",
   "metadata": {},
   "source": [
    "# Fitting matrices\n",
    "\n",
    "**This notebook shows how you can fit your function to predict matrices for configurations**. We create the target matrices synthetically.\n",
    "\n",
    "<div class=\"alert alert-info\">\n",
    "\n",
    "Note\n",
    "\n",
    "This tutorial shows the rawest possible training workflow. Notice that we provide tools to easily perform training with ``pytorch_lightning`` (including a CLI). Look for \"Lightning\" in the API documentation to understand the tools that we provide, or go to the CLI tutorials to understand how train with the CLI.\n",
    "\n",
    "</div>\n",
    "\n",
    "Prerequisites\n",
    "-------------\n",
    "\n",
    "Before reading this notebook, **make sure you have read the [notebook on computing a matrix](<./Computing a matrix.ipynb>) and [the notebook on batching](./Batching.ipynb)**, which introduce the basic concepts of `graph2mat` that we are going to assume are already known. Also **we will use exactly the same setup as in the batching notebook**, with the only difference that we will compute add target matrices to each structure.\n",
    "\n",
    "In this notebook we will:\n",
    "\n",
    "- Introduce the **addition of a target matrix** to a configuration.\n",
    "- **Introduce the metrics** that can be used as loss functions.\n",
    "- **Introduce the simplest training loop**.\n",
    "\n",
    "It is **specially useful if you are quite new to machine learning**, because it goes step by step. It also serves as a minimal example from which you can expand to create training flows different from the ones we propose."
   ]
  },
  {
   "cell_type": "code",
   "execution_count": 1,
   "id": "cb3ffe9a-000b-4661-b7c4-b9bbfcc31575",
   "metadata": {
    "scrolled": true
   },
   "outputs": [
    {
     "name": "stderr",
     "output_type": "stream",
     "text": [
      "/home/angel/miniconda3/envs/g2m_upd/lib/python3.12/site-packages/e3nn/o3/_wigner.py:10: FutureWarning: You are using `torch.load` with `weights_only=False` (the current default value), which uses the default pickle module implicitly. It is possible to construct malicious pickle data which will execute arbitrary code during unpickling (See https://github.com/pytorch/pytorch/blob/main/SECURITY.md#untrusted-models for more details). In a future release, the default value for `weights_only` will be flipped to `True`. This limits the functions that could be executed during unpickling. Arbitrary objects will no longer be allowed to be loaded via this mode unless they are explicitly allowlisted by the user via `torch.serialization.add_safe_globals`. We recommend you start setting `weights_only=True` for any use case where you don't have full control of the loaded file. Please open an issue on GitHub for any issues related to this experimental feature.\n",
      "  _Jd, _W3j_flat, _W3j_indices = torch.load(os.path.join(os.path.dirname(__file__), 'constants.pt'))\n"
     ]
    }
   ],
   "source": [
    "import numpy as np\n",
    "import pandas as pd\n",
    "import torch\n",
    "\n",
    "# To load plotly templates for sisl visualization\n",
    "import sisl.viz\n",
    "\n",
    "from e3nn import o3\n",
    "\n",
    "from graph2mat import (\n",
    "    BasisConfiguration,\n",
    "    PointBasis,\n",
    "    BasisTableWithEdges,\n",
    "    MatrixDataProcessor,\n",
    ")\n",
    "from graph2mat.bindings.torch import TorchBasisMatrixDataset, TorchBasisMatrixData\n",
    "\n",
    "from graph2mat.bindings.e3nn import E3nnGraph2Mat\n",
    "\n",
    "from graph2mat.tools.viz import plot_basis_matrix"
   ]
  },
  {
   "cell_type": "markdown",
   "id": "9af6f1b7-3385-4dbd-ae4a-8419dcb0bb16",
   "metadata": {},
   "source": [
    "Setting up the model\n",
    "--------------------"
   ]
  },
  {
   "cell_type": "markdown",
   "id": "5db61cc2-6a99-4f0a-960b-a9be74af86fb",
   "metadata": {},
   "source": [
    "As usual, let's create our model:"
   ]
  },
  {
   "cell_type": "code",
   "execution_count": 2,
   "id": "4f93af94-0193-41d2-aeeb-879801e15812",
   "metadata": {
    "scrolled": true
   },
   "outputs": [
    {
     "name": "stderr",
     "output_type": "stream",
     "text": [
      "/home/angel/miniconda3/envs/g2m_upd/lib/python3.12/site-packages/torch/jit/_check.py:178: UserWarning: The TorchScript type system doesn't support instance-level annotations on empty non-base types in `__init__`. Instead, either 1) use a type annotation in the class body, or 2) wrap the type in `torch.jit.Attribute`.\n",
      "  warnings.warn(\n",
      "/home/angel/miniconda3/envs/g2m_upd/lib/python3.12/site-packages/torch/jit/_check.py:178: UserWarning: The TorchScript type system doesn't support instance-level annotations on empty non-base types in `__init__`. Instead, either 1) use a type annotation in the class body, or 2) wrap the type in `torch.jit.Attribute`.\n",
      "  warnings.warn(\n",
      "/home/angel/miniconda3/envs/g2m_upd/lib/python3.12/site-packages/torch/jit/_check.py:178: UserWarning: The TorchScript type system doesn't support instance-level annotations on empty non-base types in `__init__`. Instead, either 1) use a type annotation in the class body, or 2) wrap the type in `torch.jit.Attribute`.\n",
      "  warnings.warn(\n",
      "/home/angel/miniconda3/envs/g2m_upd/lib/python3.12/site-packages/torch/jit/_check.py:178: UserWarning: The TorchScript type system doesn't support instance-level annotations on empty non-base types in `__init__`. Instead, either 1) use a type annotation in the class body, or 2) wrap the type in `torch.jit.Attribute`.\n",
      "  warnings.warn(\n",
      "/home/angel/miniconda3/envs/g2m_upd/lib/python3.12/site-packages/torch/jit/_check.py:178: UserWarning: The TorchScript type system doesn't support instance-level annotations on empty non-base types in `__init__`. Instead, either 1) use a type annotation in the class body, or 2) wrap the type in `torch.jit.Attribute`.\n",
      "  warnings.warn(\n",
      "/home/angel/miniconda3/envs/g2m_upd/lib/python3.12/site-packages/torch/jit/_check.py:178: UserWarning: The TorchScript type system doesn't support instance-level annotations on empty non-base types in `__init__`. Instead, either 1) use a type annotation in the class body, or 2) wrap the type in `torch.jit.Attribute`.\n",
      "  warnings.warn(\n",
      "/home/angel/miniconda3/envs/g2m_upd/lib/python3.12/site-packages/torch/jit/_check.py:178: UserWarning: The TorchScript type system doesn't support instance-level annotations on empty non-base types in `__init__`. Instead, either 1) use a type annotation in the class body, or 2) wrap the type in `torch.jit.Attribute`.\n",
      "  warnings.warn(\n",
      "/home/angel/miniconda3/envs/g2m_upd/lib/python3.12/site-packages/torch/jit/_check.py:178: UserWarning: The TorchScript type system doesn't support instance-level annotations on empty non-base types in `__init__`. Instead, either 1) use a type annotation in the class body, or 2) wrap the type in `torch.jit.Attribute`.\n",
      "  warnings.warn(\n",
      "/home/angel/miniconda3/envs/g2m_upd/lib/python3.12/site-packages/torch/jit/_check.py:178: UserWarning: The TorchScript type system doesn't support instance-level annotations on empty non-base types in `__init__`. Instead, either 1) use a type annotation in the class body, or 2) wrap the type in `torch.jit.Attribute`.\n",
      "  warnings.warn(\n",
      "/home/angel/miniconda3/envs/g2m_upd/lib/python3.12/site-packages/torch/jit/_check.py:178: UserWarning: The TorchScript type system doesn't support instance-level annotations on empty non-base types in `__init__`. Instead, either 1) use a type annotation in the class body, or 2) wrap the type in `torch.jit.Attribute`.\n",
      "  warnings.warn(\n",
      "/home/angel/miniconda3/envs/g2m_upd/lib/python3.12/site-packages/torch/jit/_check.py:178: UserWarning: The TorchScript type system doesn't support instance-level annotations on empty non-base types in `__init__`. Instead, either 1) use a type annotation in the class body, or 2) wrap the type in `torch.jit.Attribute`.\n",
      "  warnings.warn(\n",
      "/home/angel/miniconda3/envs/g2m_upd/lib/python3.12/site-packages/torch/jit/_check.py:178: UserWarning: The TorchScript type system doesn't support instance-level annotations on empty non-base types in `__init__`. Instead, either 1) use a type annotation in the class body, or 2) wrap the type in `torch.jit.Attribute`.\n",
      "  warnings.warn(\n",
      "/home/angel/miniconda3/envs/g2m_upd/lib/python3.12/site-packages/torch/jit/_check.py:178: UserWarning: The TorchScript type system doesn't support instance-level annotations on empty non-base types in `__init__`. Instead, either 1) use a type annotation in the class body, or 2) wrap the type in `torch.jit.Attribute`.\n",
      "  warnings.warn(\n",
      "/home/angel/miniconda3/envs/g2m_upd/lib/python3.12/site-packages/torch/jit/_check.py:178: UserWarning: The TorchScript type system doesn't support instance-level annotations on empty non-base types in `__init__`. Instead, either 1) use a type annotation in the class body, or 2) wrap the type in `torch.jit.Attribute`.\n",
      "  warnings.warn(\n",
      "/home/angel/miniconda3/envs/g2m_upd/lib/python3.12/site-packages/torch/jit/_check.py:178: UserWarning: The TorchScript type system doesn't support instance-level annotations on empty non-base types in `__init__`. Instead, either 1) use a type annotation in the class body, or 2) wrap the type in `torch.jit.Attribute`.\n",
      "  warnings.warn(\n",
      "/home/angel/miniconda3/envs/g2m_upd/lib/python3.12/site-packages/torch/jit/_check.py:178: UserWarning: The TorchScript type system doesn't support instance-level annotations on empty non-base types in `__init__`. Instead, either 1) use a type annotation in the class body, or 2) wrap the type in `torch.jit.Attribute`.\n",
      "  warnings.warn(\n",
      "/home/angel/miniconda3/envs/g2m_upd/lib/python3.12/site-packages/torch/jit/_check.py:178: UserWarning: The TorchScript type system doesn't support instance-level annotations on empty non-base types in `__init__`. Instead, either 1) use a type annotation in the class body, or 2) wrap the type in `torch.jit.Attribute`.\n",
      "  warnings.warn(\n",
      "/home/angel/miniconda3/envs/g2m_upd/lib/python3.12/site-packages/torch/jit/_check.py:178: UserWarning: The TorchScript type system doesn't support instance-level annotations on empty non-base types in `__init__`. Instead, either 1) use a type annotation in the class body, or 2) wrap the type in `torch.jit.Attribute`.\n",
      "  warnings.warn(\n",
      "/home/angel/miniconda3/envs/g2m_upd/lib/python3.12/site-packages/torch/jit/_check.py:178: UserWarning: The TorchScript type system doesn't support instance-level annotations on empty non-base types in `__init__`. Instead, either 1) use a type annotation in the class body, or 2) wrap the type in `torch.jit.Attribute`.\n",
      "  warnings.warn(\n",
      "/home/angel/miniconda3/envs/g2m_upd/lib/python3.12/site-packages/torch/jit/_check.py:178: UserWarning: The TorchScript type system doesn't support instance-level annotations on empty non-base types in `__init__`. Instead, either 1) use a type annotation in the class body, or 2) wrap the type in `torch.jit.Attribute`.\n",
      "  warnings.warn(\n",
      "/home/angel/miniconda3/envs/g2m_upd/lib/python3.12/site-packages/torch/jit/_check.py:178: UserWarning: The TorchScript type system doesn't support instance-level annotations on empty non-base types in `__init__`. Instead, either 1) use a type annotation in the class body, or 2) wrap the type in `torch.jit.Attribute`.\n",
      "  warnings.warn(\n",
      "/home/angel/miniconda3/envs/g2m_upd/lib/python3.12/site-packages/torch/jit/_check.py:178: UserWarning: The TorchScript type system doesn't support instance-level annotations on empty non-base types in `__init__`. Instead, either 1) use a type annotation in the class body, or 2) wrap the type in `torch.jit.Attribute`.\n",
      "  warnings.warn(\n",
      "/home/angel/miniconda3/envs/g2m_upd/lib/python3.12/site-packages/torch/jit/_check.py:178: UserWarning: The TorchScript type system doesn't support instance-level annotations on empty non-base types in `__init__`. Instead, either 1) use a type annotation in the class body, or 2) wrap the type in `torch.jit.Attribute`.\n",
      "  warnings.warn(\n",
      "/home/angel/miniconda3/envs/g2m_upd/lib/python3.12/site-packages/torch/jit/_check.py:178: UserWarning: The TorchScript type system doesn't support instance-level annotations on empty non-base types in `__init__`. Instead, either 1) use a type annotation in the class body, or 2) wrap the type in `torch.jit.Attribute`.\n",
      "  warnings.warn(\n",
      "/home/angel/miniconda3/envs/g2m_upd/lib/python3.12/site-packages/torch/jit/_check.py:178: UserWarning: The TorchScript type system doesn't support instance-level annotations on empty non-base types in `__init__`. Instead, either 1) use a type annotation in the class body, or 2) wrap the type in `torch.jit.Attribute`.\n",
      "  warnings.warn(\n"
     ]
    }
   ],
   "source": [
    "# The basis\n",
    "point_1 = PointBasis(\"A\", R=2, basis=\"0e\", basis_convention=\"spherical\")\n",
    "point_2 = PointBasis(\"B\", R=5, basis=\"2x0e + 1o\", basis_convention=\"spherical\")\n",
    "\n",
    "basis = [point_1, point_2]\n",
    "\n",
    "# The basis table.\n",
    "table = BasisTableWithEdges(basis)\n",
    "\n",
    "# The data processor.\n",
    "processor = MatrixDataProcessor(\n",
    "    basis_table=table, symmetric_matrix=True, sub_point_matrix=False\n",
    ")\n",
    "\n",
    "positions = np.array([[0, 0, 0], [6.0, 0, 0], [12, 0, 0]])\n",
    "\n",
    "# The shape of the node features.\n",
    "node_feats_irreps = o3.Irreps(\"0e + 1o\")\n",
    "\n",
    "\n",
    "# The fake environment representation function that we will use\n",
    "# to compute node features.\n",
    "def get_environment_representation(data, irreps):\n",
    "    \"\"\"Function that mocks a true calculation of an environment representation.\n",
    "\n",
    "    Computes a random array and then ensures that the numbers obey our particular\n",
    "    system's symmetries.\n",
    "    \"\"\"\n",
    "    import torch\n",
    "\n",
    "    torch.manual_seed(0)\n",
    "\n",
    "    node_features = irreps.randn(data.num_nodes, -1)\n",
    "    # The point in the middle sees the same in -X and +X directions\n",
    "    # therefore its representation must be 0.\n",
    "    # In principle the +/- YZ are also equivalent, but let's say that there\n",
    "    # is something breaking the symmetry to make the numbers more interesting.\n",
    "    # Note that the spherical harmonics convention is YZX.\n",
    "    node_features[1, 3] = 0\n",
    "    # We make both A points have equivalent features except in the X direction,\n",
    "    # where the features are opposite\n",
    "    node_features[2::3, :3] = node_features[0::3, :3]\n",
    "    node_features[2::3, 3] = -node_features[0::3, 3]\n",
    "    return node_features\n",
    "\n",
    "\n",
    "# The matrix readout function\n",
    "model = E3nnGraph2Mat(\n",
    "    unique_basis=basis,\n",
    "    irreps=dict(node_feats_irreps=node_feats_irreps),\n",
    "    symmetric=True,\n",
    ")"
   ]
  },
  {
   "cell_type": "markdown",
   "id": "3f63b226-d70e-4550-b073-232e2ef7b4f5",
   "metadata": {},
   "source": [
    "Including target matrices in the data\n",
    "-------------------------------------\n",
    "\n",
    "We will now create our data. The difference between this notebook and the previous notebooks is that **each configuration will have an associated matrix**, which is what we will try to fit.\n",
    "\n",
    "Usually, this matrix would be computed by the algorithm we are trying to substitute with ML (e.g. DFT for atomic systems) or experimental observations, but here we will just take random matrices.\n",
    "\n",
    "We create a function to compute random symmetric matrices:"
   ]
  },
  {
   "cell_type": "code",
   "execution_count": 3,
   "id": "4bfec6f2-e126-42d9-9303-8a37209bd19c",
   "metadata": {},
   "outputs": [],
   "source": [
    "def true_matrix(size):\n",
    "    \"\"\"Mocks the algorithm that provides the training matrices.\n",
    "\n",
    "    It just computes a random matrix\n",
    "    \"\"\"\n",
    "    matrix = np.random.random((size, size)) * 2 - 1\n",
    "    matrix += matrix.T\n",
    "    return matrix"
   ]
  },
  {
   "cell_type": "markdown",
   "id": "e69bf9b0-3c6a-4cc2-b4cf-2d35055e71a9",
   "metadata": {},
   "source": [
    "And then initialize the configurations as we have done in the previous notebooks, except that in this case we use the `matrix` argument to pass the matrix associated with the configuration:"
   ]
  },
  {
   "cell_type": "code",
   "execution_count": 4,
   "id": "4c22dfc0-c3f9-4ee5-9fdf-cae85e6e018d",
   "metadata": {},
   "outputs": [],
   "source": [
    "positions = np.array([[0, 0, 0], [6.0, 0, 0], [12, 0, 0]])\n",
    "\n",
    "config1 = BasisConfiguration(\n",
    "    point_types=[\"A\", \"B\", \"A\"],\n",
    "    positions=positions,\n",
    "    basis=basis,\n",
    "    cell=np.eye(3) * 100,\n",
    "    pbc=(False, False, False),\n",
    "    matrix=true_matrix(size=7),\n",
    ")\n",
    "\n",
    "config2 = BasisConfiguration(\n",
    "    point_types=[\"B\", \"A\", \"B\"],\n",
    "    positions=positions,\n",
    "    basis=basis,\n",
    "    cell=np.eye(3) * 100,\n",
    "    pbc=(False, False, False),\n",
    "    matrix=true_matrix(size=11),\n",
    ")\n",
    "\n",
    "configs = [config1, config2]\n",
    "\n",
    "# Create the dataset\n",
    "dataset = TorchBasisMatrixDataset(configs, data_processor=processor)"
   ]
  },
  {
   "cell_type": "markdown",
   "id": "069038ce-873f-4577-88af-6e89f723689e",
   "metadata": {},
   "source": [
    "We can take one example from the dataset and check that it now has `point_labels` and `edge_labels`, which contain the values of the matrix organized in the same way that are returned by `Graph2Mat`:"
   ]
  },
  {
   "cell_type": "code",
   "execution_count": 5,
   "id": "85607363-ba18-4207-bd09-bef25ced2e7d",
   "metadata": {},
   "outputs": [
    {
     "data": {
      "text/plain": [
       "(tensor([ 0.6320,  0.1859, -0.7938, -1.0064,  0.4885,  0.9780, -0.7938,  0.1581,\n",
       "         -0.0566, -0.5110, -0.2140, -1.0064, -0.0566, -1.7870,  0.9891,  0.8343,\n",
       "          0.4885, -0.5110,  0.9891, -0.0554, -0.6922,  0.9780, -0.2140,  0.8343,\n",
       "         -0.6922,  1.5023,  1.0342]),\n",
       " tensor([-0.1414, -0.6112, -0.0345, -0.6786, -0.8516,  0.9754, -0.3153,  0.7807,\n",
       "          0.4183,  1.5186]))"
      ]
     },
     "execution_count": 5,
     "metadata": {},
     "output_type": "execute_result"
    }
   ],
   "source": [
    "data_example = dataset[0]\n",
    "data_example.point_labels, data_example.edge_labels"
   ]
  },
  {
   "cell_type": "markdown",
   "id": "198e3cd3-8262-4387-81fe-f2325d462123",
   "metadata": {},
   "source": [
    "During training, we will compare these to the output of `Graph2Mat`.\n",
    "\n",
    "We can also plot the target matrices from the data example:"
   ]
  },
  {
   "cell_type": "code",
   "execution_count": 6,
   "id": "3a92e192-4b9b-4b3f-b359-a6f56096acde",
   "metadata": {},
   "outputs": [
    {
     "data": {
      "application/vnd.plotly.v1+json": {
       "config": {
        "plotlyServerURL": "https://plot.ly"
       },
       "data": [
        {
         "coloraxis": "coloraxis",
         "hovertemplate": "x: %{x}<br>y: %{y}<br>color: %{z}<extra></extra>",
         "name": "0",
         "texttemplate": "%{z:.2f}",
         "type": "heatmap",
         "xaxis": "x",
         "yaxis": "y",
         "z": {
          "bdata": "0cchP1XHEL5gdhy/Fz4NvdK1Lb9f/1m/AADAf1XHEL4+Wj4+TzNLv47SgL/yG/o+b1x6P++weT9gdhy/TzNLvznvIT79ume9NtECv8ksW77baaG+Fz4NvY7SgL/9ume9Lr3kvzgzfT9Kk1U/ztxHP9K1Lb/yG/o+NtECvzgzfT8LFGO9QjcxvzAm1j5f/1m/b1x6P8ksW75Kk1U/Qjcxv3JMwD8QYcI/AADAf++weT/baaG+ztxHPzAm1j4QYcI/tV+EPw==",
          "dtype": "f4",
          "shape": "7, 7"
         }
        }
       ],
       "layout": {
        "coloraxis": {
         "cmid": 0,
         "colorscale": [
          [
           0,
           "rgb(0, 147, 146)"
          ],
          [
           0.16666666666666666,
           "rgb(57, 177, 133)"
          ],
          [
           0.3333333333333333,
           "rgb(156, 203, 134)"
          ],
          [
           0.5,
           "rgb(233, 226, 156)"
          ],
          [
           0.6666666666666666,
           "rgb(238, 180, 121)"
          ],
          [
           0.8333333333333334,
           "rgb(232, 132, 113)"
          ],
          [
           1,
           "rgb(207, 89, 126)"
          ]
         ]
        },
        "margin": {
         "t": 60
        },
        "shapes": [
         {
          "line": {
           "color": "black"
          },
          "type": "line",
          "x0": 0,
          "x1": 1,
          "xref": "x domain",
          "y0": 0.5,
          "y1": 0.5,
          "yref": "y"
         },
         {
          "line": {
           "color": "black"
          },
          "type": "line",
          "x0": 0.5,
          "x1": 0.5,
          "xref": "x",
          "y0": 0,
          "y1": 1,
          "yref": "y domain"
         },
         {
          "line": {
           "color": "black"
          },
          "type": "line",
          "x0": 0,
          "x1": 1,
          "xref": "x domain",
          "y0": 5.5,
          "y1": 5.5,
          "yref": "y"
         },
         {
          "line": {
           "color": "black"
          },
          "type": "line",
          "x0": 5.5,
          "x1": 5.5,
          "xref": "x",
          "y0": 0,
          "y1": 1,
          "yref": "y domain"
         },
         {
          "line": {
           "color": "blue",
           "dash": "dot"
          },
          "type": "line",
          "x0": 0,
          "x1": 1,
          "xref": "x domain",
          "y0": 1.5,
          "y1": 1.5,
          "yref": "y"
         },
         {
          "line": {
           "color": "blue",
           "dash": "dot"
          },
          "type": "line",
          "x0": 1.5,
          "x1": 1.5,
          "xref": "x",
          "y0": 0,
          "y1": 1,
          "yref": "y domain"
         },
         {
          "line": {
           "color": "blue",
           "dash": "dot"
          },
          "type": "line",
          "x0": 0,
          "x1": 1,
          "xref": "x domain",
          "y0": 2.5,
          "y1": 2.5,
          "yref": "y"
         },
         {
          "line": {
           "color": "blue",
           "dash": "dot"
          },
          "type": "line",
          "x0": 2.5,
          "x1": 2.5,
          "xref": "x",
          "y0": 0,
          "y1": 1,
          "yref": "y domain"
         }
        ],
        "template": {
         "layout": {
          "hovermode": "closest",
          "paper_bgcolor": "white",
          "plot_bgcolor": "white",
          "scene": {
           "xaxis": {
            "color": "black",
            "gridcolor": "#ccc",
            "gridwidth": 1,
            "linewidth": 1,
            "mirror": true,
            "showgrid": false,
            "showline": true,
            "ticklen": 5,
            "ticks": "outside",
            "ticksuffix": " ",
            "visible": true,
            "zeroline": false,
            "zerolinecolor": "#ccc",
            "zerolinewidth": 1
           },
           "yaxis": {
            "color": "black",
            "gridcolor": "#ccc",
            "gridwidth": 1,
            "linewidth": 1,
            "mirror": true,
            "showgrid": false,
            "showline": true,
            "ticklen": 5,
            "ticks": "outside",
            "ticksuffix": " ",
            "visible": true,
            "zeroline": false,
            "zerolinecolor": "#ccc",
            "zerolinewidth": 1
           },
           "zaxis": {
            "color": "black",
            "gridcolor": "#ccc",
            "gridwidth": 1,
            "linewidth": 1,
            "mirror": true,
            "showgrid": false,
            "showline": true,
            "ticklen": 5,
            "ticks": "outside",
            "ticksuffix": " ",
            "visible": true,
            "zeroline": false,
            "zerolinecolor": "#ccc",
            "zerolinewidth": 1
           }
          },
          "xaxis": {
           "color": "black",
           "gridcolor": "#ccc",
           "gridwidth": 1,
           "linewidth": 1,
           "mirror": true,
           "showgrid": false,
           "showline": true,
           "ticklen": 5,
           "ticks": "outside",
           "ticksuffix": " ",
           "visible": true,
           "zeroline": false,
           "zerolinecolor": "#ccc",
           "zerolinewidth": 1
          },
          "yaxis": {
           "color": "black",
           "gridcolor": "#ccc",
           "gridwidth": 1,
           "linewidth": 1,
           "mirror": true,
           "showgrid": false,
           "showline": true,
           "ticklen": 5,
           "ticks": "outside",
           "ticksuffix": " ",
           "visible": true,
           "zeroline": false,
           "zerolinecolor": "#ccc",
           "zerolinewidth": 1
          }
         }
        },
        "title": {
         "text": "Labels [0]"
        },
        "xaxis": {
         "anchor": "y",
         "domain": [
          0,
          1
         ],
         "ticktext": [
          "0: (0, 0)",
          "1: (0, 0)",
          "1: (0, 0)",
          "1: (1, -1)",
          "1: (1, 0)",
          "1: (1, 1)",
          "2: (0, 0)"
         ],
         "tickvals": {
          "bdata": "AAECAwQFBg==",
          "dtype": "i1"
         }
        },
        "yaxis": {
         "anchor": "x",
         "autorange": "reversed",
         "domain": [
          0,
          1
         ],
         "ticktext": [
          "0: (0, 0)",
          "1: (0, 0)",
          "1: (0, 0)",
          "1: (1, -1)",
          "1: (1, 0)",
          "1: (1, 1)",
          "2: (0, 0)"
         ],
         "tickvals": {
          "bdata": "AAECAwQFBg==",
          "dtype": "i1"
         }
        }
       }
      }
     },
     "metadata": {},
     "output_type": "display_data"
    }
   ],
   "source": [
    "def plot_matrices(data, predictions=None, title=\"\", show=True):\n",
    "    \"\"\"Helper function to plot (possibly batched) matrices\"\"\"\n",
    "\n",
    "    matrices = processor.matrix_from_data(data, predictions=predictions)\n",
    "\n",
    "    if not isinstance(matrices, (tuple, list)):\n",
    "        matrices = (matrices,)\n",
    "\n",
    "    for i, (config, matrix) in enumerate(zip(configs, matrices)):\n",
    "        if show is True or show == i:\n",
    "            plot_basis_matrix(\n",
    "                matrix,\n",
    "                config,\n",
    "                point_lines={\"color\": \"black\"},\n",
    "                basis_lines={\"color\": \"blue\"},\n",
    "                colorscale=\"temps\",\n",
    "                text=\".2f\",\n",
    "                basis_labels=True,\n",
    "            ).update_layout(title=f\"{title} [{i}]\").show()\n",
    "\n",
    "\n",
    "plot_matrices(data_example, title=\"Labels\")"
   ]
  },
  {
   "cell_type": "markdown",
   "id": "8d352232-09b1-4138-bccd-c98b32762781",
   "metadata": {},
   "source": [
    "The simplest training loop\n",
    "--------------------------"
   ]
  },
  {
   "cell_type": "markdown",
   "id": "57087fa4-1dba-452e-ba4e-b0cae54edb99",
   "metadata": {},
   "source": [
    "Below we just create a simple `pytorch` training loop that:\n",
    "\n",
    "1. Uses the model to **compute predictions** for the matrix\n",
    "2. **Computes the loss** (error).\n",
    "3. Computes the gradients and **updates the model parameters**.\n",
    "4. **Goes back** to 1.\n",
    "\n",
    "While doing so we store the errors at each step so that we can plot their evolution later.\n",
    "\n",
    "There is just one last thing that we need to introduce: `graph2mat`'s metrics. The `metrics` module contains several functions that compare matrices in different ways. They can be used as loss functions. In this case, we will use `elementwise_mse`, which just computes the [Mean Squared Error](https://en.wikipedia.org/wiki/Mean_squared_error) of all the matrix elements."
   ]
  },
  {
   "cell_type": "code",
   "execution_count": 7,
   "id": "f5c1eb06-2e2f-4ca5-b298-25064bf8ef12",
   "metadata": {},
   "outputs": [],
   "source": [
    "# Create the data loader\n",
    "from torch_geometric.loader import DataLoader\n",
    "\n",
    "loader = DataLoader(dataset, batch_size=2)\n",
    "\n",
    "# Number of training steps\n",
    "n_steps = 4000\n",
    "# Initialize an optimizer\n",
    "optimizer = torch.optim.Adam(model.parameters())\n",
    "\n",
    "# Initialize arrays to store errors\n",
    "losses = np.zeros(n_steps)\n",
    "node_rmse = np.zeros(n_steps)\n",
    "edge_rmse = np.zeros(n_steps)\n",
    "\n",
    "# The loss function, which we get from graph2mat's metrics functions\n",
    "from graph2mat import metrics\n",
    "\n",
    "loss_fn = metrics.elementwise_mse\n",
    "\n",
    "# Loop\n",
    "for i in range(n_steps):\n",
    "    for data in loader:\n",
    "        # Reset gradients\n",
    "        optimizer.zero_grad()\n",
    "\n",
    "        # Get the node feats. Since this function is not learnable, it could be\n",
    "        # outside the loop, but we keep it here to show how things could work\n",
    "        # with a learnable environment representation.\n",
    "        node_feats = get_environment_representation(data, node_feats_irreps)\n",
    "\n",
    "        # Make predictions for this batch\n",
    "        step_predictions = model(data, node_feats=node_feats)\n",
    "\n",
    "        # Compute the loss\n",
    "        loss, info = loss_fn(\n",
    "            nodes_pred=step_predictions[0],\n",
    "            nodes_ref=data.point_labels,\n",
    "            edges_pred=step_predictions[1],\n",
    "            edges_ref=data.edge_labels,\n",
    "        )\n",
    "\n",
    "        # Store errors\n",
    "        losses[i] = loss\n",
    "        node_rmse[i] = info[\"node_rmse\"]\n",
    "        edge_rmse[i] = info[\"edge_rmse\"]\n",
    "\n",
    "        # Compute gradients\n",
    "        loss.backward()\n",
    "\n",
    "        # Update weights\n",
    "        optimizer.step()"
   ]
  },
  {
   "cell_type": "markdown",
   "id": "f409b16e-ed88-407f-b867-53a82ec861bc",
   "metadata": {},
   "source": [
    "Checking results\n",
    "----------------"
   ]
  },
  {
   "cell_type": "markdown",
   "id": "e30c4b20-84d7-49bc-9895-7b5fd1ad072b",
   "metadata": {},
   "source": [
    "After training, we store all the errors in a dataframe:"
   ]
  },
  {
   "cell_type": "code",
   "execution_count": 8,
   "id": "11a8e695-de12-4f3b-aac3-06bca144ab95",
   "metadata": {},
   "outputs": [],
   "source": [
    "df = pd.DataFrame(\n",
    "    np.array([losses, node_rmse, edge_rmse]).T,\n",
    "    columns=[\"loss\", \"node_rmse\", \"edge_rmse\"],\n",
    ")"
   ]
  },
  {
   "cell_type": "markdown",
   "id": "508a0322-26fe-4431-a5aa-89e3df240701",
   "metadata": {},
   "source": [
    "And plot them:"
   ]
  },
  {
   "cell_type": "code",
   "execution_count": 9,
   "id": "d7c992cf-fbfc-4eb6-9208-ebdb60cd3353",
   "metadata": {},
   "outputs": [
    {
     "data": {
      "application/vnd.plotly.v1+json": {
       "config": {
        "plotlyServerURL": "https://plot.ly"
       },
       "data": [
        {
         "hovertemplate": "variable=loss<br>index=%{x}<br>value=%{y}<extra></extra>",
         "legendgroup": "loss",
         "line": {
          "color": "#1F77B4",
          "dash": "solid"
         },
         "marker": {
          "symbol": "circle"
         },
         "mode": "lines",
         "name": "loss",
         "showlegend": true,
         "type": "scattergl",
         "x": {
          "bdata": "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",
          "dtype": "i2"
         },
         "xaxis": "x",
         "y": {
          "bdata": "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",
          "dtype": "f8"
         },
         "yaxis": "y"
        },
        {
         "hovertemplate": "variable=node_rmse<br>index=%{x}<br>value=%{y}<extra></extra>",
         "legendgroup": "node_rmse",
         "line": {
          "color": "#FF7F0E",
          "dash": "solid"
         },
         "marker": {
          "symbol": "circle"
         },
         "mode": "lines",
         "name": "node_rmse",
         "showlegend": true,
         "type": "scattergl",
         "x": {
          "bdata": "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",
          "dtype": "i2"
         },
         "xaxis": "x",
         "y": {
          "bdata": "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",
          "dtype": "f8"
         },
         "yaxis": "y"
        },
        {
         "hovertemplate": "variable=edge_rmse<br>index=%{x}<br>value=%{y}<extra></extra>",
         "legendgroup": "edge_rmse",
         "line": {
          "color": "#2CA02C",
          "dash": "solid"
         },
         "marker": {
          "symbol": "circle"
         },
         "mode": "lines",
         "name": "edge_rmse",
         "showlegend": true,
         "type": "scattergl",
         "x": {
          "bdata": "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",
          "dtype": "i2"
         },
         "xaxis": "x",
         "y": {
          "bdata": "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",
          "dtype": "f8"
         },
         "yaxis": "y"
        }
       ],
       "layout": {
        "legend": {
         "title": {
          "text": "variable"
         },
         "tracegroupgap": 0
        },
        "margin": {
         "t": 60
        },
        "template": {
         "layout": {
          "hovermode": "closest",
          "paper_bgcolor": "white",
          "plot_bgcolor": "white",
          "scene": {
           "xaxis": {
            "color": "black",
            "gridcolor": "#ccc",
            "gridwidth": 1,
            "linewidth": 1,
            "mirror": true,
            "showgrid": false,
            "showline": true,
            "ticklen": 5,
            "ticks": "outside",
            "ticksuffix": " ",
            "visible": true,
            "zeroline": false,
            "zerolinecolor": "#ccc",
            "zerolinewidth": 1
           },
           "yaxis": {
            "color": "black",
            "gridcolor": "#ccc",
            "gridwidth": 1,
            "linewidth": 1,
            "mirror": true,
            "showgrid": false,
            "showline": true,
            "ticklen": 5,
            "ticks": "outside",
            "ticksuffix": " ",
            "visible": true,
            "zeroline": false,
            "zerolinecolor": "#ccc",
            "zerolinewidth": 1
           },
           "zaxis": {
            "color": "black",
            "gridcolor": "#ccc",
            "gridwidth": 1,
            "linewidth": 1,
            "mirror": true,
            "showgrid": false,
            "showline": true,
            "ticklen": 5,
            "ticks": "outside",
            "ticksuffix": " ",
            "visible": true,
            "zeroline": false,
            "zerolinecolor": "#ccc",
            "zerolinewidth": 1
           }
          },
          "xaxis": {
           "color": "black",
           "gridcolor": "#ccc",
           "gridwidth": 1,
           "linewidth": 1,
           "mirror": true,
           "showgrid": false,
           "showline": true,
           "ticklen": 5,
           "ticks": "outside",
           "ticksuffix": " ",
           "visible": true,
           "zeroline": false,
           "zerolinecolor": "#ccc",
           "zerolinewidth": 1
          },
          "yaxis": {
           "color": "black",
           "gridcolor": "#ccc",
           "gridwidth": 1,
           "linewidth": 1,
           "mirror": true,
           "showgrid": false,
           "showline": true,
           "ticklen": 5,
           "ticks": "outside",
           "ticksuffix": " ",
           "visible": true,
           "zeroline": false,
           "zerolinecolor": "#ccc",
           "zerolinewidth": 1
          }
         }
        },
        "title": {
         "text": "Error evolution during training"
        },
        "xaxis": {
         "anchor": "y",
         "domain": [
          0,
          1
         ],
         "showgrid": true,
         "title": {
          "text": "Training step"
         }
        },
        "yaxis": {
         "anchor": "x",
         "domain": [
          0,
          1
         ],
         "showgrid": true,
         "title": {
          "text": "Value"
         },
         "type": "log"
        }
       }
      }
     },
     "metadata": {},
     "output_type": "display_data"
    }
   ],
   "source": [
    "df.plot(backend=\"plotly\").update_layout(\n",
    "    yaxis_type=\"log\", yaxis_showgrid=True, xaxis_showgrid=True\n",
    ").update_layout(\n",
    "    yaxis_title=\"Value\",\n",
    "    xaxis_title=\"Training step\",\n",
    "    title=\"Error evolution during training\",\n",
    ")"
   ]
  },
  {
   "cell_type": "markdown",
   "id": "0f92157c-51ec-4b0e-b45d-5ccedaa54d65",
   "metadata": {},
   "source": [
    "The model has learned something, but still the errors are quite high.\n",
    "\n",
    "We can plot the first target matrix and the corresponding prediction:"
   ]
  },
  {
   "cell_type": "code",
   "execution_count": 10,
   "id": "ed60b52d-e64c-4b73-85ec-7690fa59deef",
   "metadata": {},
   "outputs": [
    {
     "data": {
      "application/vnd.plotly.v1+json": {
       "config": {
        "plotlyServerURL": "https://plot.ly"
       },
       "data": [
        {
         "coloraxis": "coloraxis",
         "hovertemplate": "x: %{x}<br>y: %{y}<br>color: %{z}<extra></extra>",
         "name": "0",
         "texttemplate": "%{z:.2f}",
         "type": "heatmap",
         "xaxis": "x",
         "yaxis": "y",
         "z": {
          "bdata": "0cchP1XHEL5gdhy/Fz4NvdK1Lb9f/1m/AADAf1XHEL4+Wj4+TzNLv47SgL/yG/o+b1x6P++weT9gdhy/TzNLvznvIT79ume9NtECv8ksW77baaG+Fz4NvY7SgL/9ume9Lr3kvzgzfT9Kk1U/ztxHP9K1Lb/yG/o+NtECvzgzfT8LFGO9QjcxvzAm1j5f/1m/b1x6P8ksW75Kk1U/Qjcxv3JMwD8QYcI/AADAf++weT/baaG+ztxHPzAm1j4QYcI/tV+EPw==",
          "dtype": "f4",
          "shape": "7, 7"
         }
        }
       ],
       "layout": {
        "coloraxis": {
         "cmid": 0,
         "colorscale": [
          [
           0,
           "rgb(0, 147, 146)"
          ],
          [
           0.16666666666666666,
           "rgb(57, 177, 133)"
          ],
          [
           0.3333333333333333,
           "rgb(156, 203, 134)"
          ],
          [
           0.5,
           "rgb(233, 226, 156)"
          ],
          [
           0.6666666666666666,
           "rgb(238, 180, 121)"
          ],
          [
           0.8333333333333334,
           "rgb(232, 132, 113)"
          ],
          [
           1,
           "rgb(207, 89, 126)"
          ]
         ]
        },
        "margin": {
         "t": 60
        },
        "shapes": [
         {
          "line": {
           "color": "black"
          },
          "type": "line",
          "x0": 0,
          "x1": 1,
          "xref": "x domain",
          "y0": 0.5,
          "y1": 0.5,
          "yref": "y"
         },
         {
          "line": {
           "color": "black"
          },
          "type": "line",
          "x0": 0.5,
          "x1": 0.5,
          "xref": "x",
          "y0": 0,
          "y1": 1,
          "yref": "y domain"
         },
         {
          "line": {
           "color": "black"
          },
          "type": "line",
          "x0": 0,
          "x1": 1,
          "xref": "x domain",
          "y0": 5.5,
          "y1": 5.5,
          "yref": "y"
         },
         {
          "line": {
           "color": "black"
          },
          "type": "line",
          "x0": 5.5,
          "x1": 5.5,
          "xref": "x",
          "y0": 0,
          "y1": 1,
          "yref": "y domain"
         },
         {
          "line": {
           "color": "blue",
           "dash": "dot"
          },
          "type": "line",
          "x0": 0,
          "x1": 1,
          "xref": "x domain",
          "y0": 1.5,
          "y1": 1.5,
          "yref": "y"
         },
         {
          "line": {
           "color": "blue",
           "dash": "dot"
          },
          "type": "line",
          "x0": 1.5,
          "x1": 1.5,
          "xref": "x",
          "y0": 0,
          "y1": 1,
          "yref": "y domain"
         },
         {
          "line": {
           "color": "blue",
           "dash": "dot"
          },
          "type": "line",
          "x0": 0,
          "x1": 1,
          "xref": "x domain",
          "y0": 2.5,
          "y1": 2.5,
          "yref": "y"
         },
         {
          "line": {
           "color": "blue",
           "dash": "dot"
          },
          "type": "line",
          "x0": 2.5,
          "x1": 2.5,
          "xref": "x",
          "y0": 0,
          "y1": 1,
          "yref": "y domain"
         }
        ],
        "template": {
         "layout": {
          "hovermode": "closest",
          "paper_bgcolor": "white",
          "plot_bgcolor": "white",
          "scene": {
           "xaxis": {
            "color": "black",
            "gridcolor": "#ccc",
            "gridwidth": 1,
            "linewidth": 1,
            "mirror": true,
            "showgrid": false,
            "showline": true,
            "ticklen": 5,
            "ticks": "outside",
            "ticksuffix": " ",
            "visible": true,
            "zeroline": false,
            "zerolinecolor": "#ccc",
            "zerolinewidth": 1
           },
           "yaxis": {
            "color": "black",
            "gridcolor": "#ccc",
            "gridwidth": 1,
            "linewidth": 1,
            "mirror": true,
            "showgrid": false,
            "showline": true,
            "ticklen": 5,
            "ticks": "outside",
            "ticksuffix": " ",
            "visible": true,
            "zeroline": false,
            "zerolinecolor": "#ccc",
            "zerolinewidth": 1
           },
           "zaxis": {
            "color": "black",
            "gridcolor": "#ccc",
            "gridwidth": 1,
            "linewidth": 1,
            "mirror": true,
            "showgrid": false,
            "showline": true,
            "ticklen": 5,
            "ticks": "outside",
            "ticksuffix": " ",
            "visible": true,
            "zeroline": false,
            "zerolinecolor": "#ccc",
            "zerolinewidth": 1
           }
          },
          "xaxis": {
           "color": "black",
           "gridcolor": "#ccc",
           "gridwidth": 1,
           "linewidth": 1,
           "mirror": true,
           "showgrid": false,
           "showline": true,
           "ticklen": 5,
           "ticks": "outside",
           "ticksuffix": " ",
           "visible": true,
           "zeroline": false,
           "zerolinecolor": "#ccc",
           "zerolinewidth": 1
          },
          "yaxis": {
           "color": "black",
           "gridcolor": "#ccc",
           "gridwidth": 1,
           "linewidth": 1,
           "mirror": true,
           "showgrid": false,
           "showline": true,
           "ticklen": 5,
           "ticks": "outside",
           "ticksuffix": " ",
           "visible": true,
           "zeroline": false,
           "zerolinecolor": "#ccc",
           "zerolinewidth": 1
          }
         }
        },
        "title": {
         "text": "Target matrix [0]"
        },
        "xaxis": {
         "anchor": "y",
         "domain": [
          0,
          1
         ],
         "ticktext": [
          "0: (0, 0)",
          "1: (0, 0)",
          "1: (0, 0)",
          "1: (1, -1)",
          "1: (1, 0)",
          "1: (1, 1)",
          "2: (0, 0)"
         ],
         "tickvals": {
          "bdata": "AAECAwQFBg==",
          "dtype": "i1"
         }
        },
        "yaxis": {
         "anchor": "x",
         "autorange": "reversed",
         "domain": [
          0,
          1
         ],
         "ticktext": [
          "0: (0, 0)",
          "1: (0, 0)",
          "1: (0, 0)",
          "1: (1, -1)",
          "1: (1, 0)",
          "1: (1, 1)",
          "2: (0, 0)"
         ],
         "tickvals": {
          "bdata": "AAECAwQFBg==",
          "dtype": "i1"
         }
        }
       }
      }
     },
     "metadata": {},
     "output_type": "display_data"
    },
    {
     "data": {
      "application/vnd.plotly.v1+json": {
       "config": {
        "plotlyServerURL": "https://plot.ly"
       },
       "data": [
        {
         "coloraxis": "coloraxis",
         "hovertemplate": "x: %{x}<br>y: %{y}<br>color: %{z}<extra></extra>",
         "name": "0",
         "texttemplate": "%{z:.2f}",
         "type": "heatmap",
         "xaxis": "x",
         "yaxis": "y",
         "z": {
          "bdata": "fENVP0q4hz5KAAW/gCPivnwfar23DBS+AADAf0q4hz4gWj4+oJgBv9KhNb9g46U+AADAf0q4hz5KAAW/oJgBv0ZxHT5STDu+JBCrPQAAwH9KAAW/gCPivtKhNb9STDu++M1iv6Y+GT8AAMB/gCPivnwfar1g46U+JBCrPaY+GT8iKxs+AADAf3wfar23DBS+AADAfwAAwH8AAMB/AADAf6+L2T63DBQ+AADAf0q4hz5KAAW/gCPivnwfar23DBQ+fENVPw==",
          "dtype": "f4",
          "shape": "7, 7"
         }
        }
       ],
       "layout": {
        "coloraxis": {
         "cmid": 0,
         "colorscale": [
          [
           0,
           "rgb(0, 147, 146)"
          ],
          [
           0.16666666666666666,
           "rgb(57, 177, 133)"
          ],
          [
           0.3333333333333333,
           "rgb(156, 203, 134)"
          ],
          [
           0.5,
           "rgb(233, 226, 156)"
          ],
          [
           0.6666666666666666,
           "rgb(238, 180, 121)"
          ],
          [
           0.8333333333333334,
           "rgb(232, 132, 113)"
          ],
          [
           1,
           "rgb(207, 89, 126)"
          ]
         ]
        },
        "margin": {
         "t": 60
        },
        "shapes": [
         {
          "line": {
           "color": "black"
          },
          "type": "line",
          "x0": 0,
          "x1": 1,
          "xref": "x domain",
          "y0": 0.5,
          "y1": 0.5,
          "yref": "y"
         },
         {
          "line": {
           "color": "black"
          },
          "type": "line",
          "x0": 0.5,
          "x1": 0.5,
          "xref": "x",
          "y0": 0,
          "y1": 1,
          "yref": "y domain"
         },
         {
          "line": {
           "color": "black"
          },
          "type": "line",
          "x0": 0,
          "x1": 1,
          "xref": "x domain",
          "y0": 5.5,
          "y1": 5.5,
          "yref": "y"
         },
         {
          "line": {
           "color": "black"
          },
          "type": "line",
          "x0": 5.5,
          "x1": 5.5,
          "xref": "x",
          "y0": 0,
          "y1": 1,
          "yref": "y domain"
         },
         {
          "line": {
           "color": "blue",
           "dash": "dot"
          },
          "type": "line",
          "x0": 0,
          "x1": 1,
          "xref": "x domain",
          "y0": 1.5,
          "y1": 1.5,
          "yref": "y"
         },
         {
          "line": {
           "color": "blue",
           "dash": "dot"
          },
          "type": "line",
          "x0": 1.5,
          "x1": 1.5,
          "xref": "x",
          "y0": 0,
          "y1": 1,
          "yref": "y domain"
         },
         {
          "line": {
           "color": "blue",
           "dash": "dot"
          },
          "type": "line",
          "x0": 0,
          "x1": 1,
          "xref": "x domain",
          "y0": 2.5,
          "y1": 2.5,
          "yref": "y"
         },
         {
          "line": {
           "color": "blue",
           "dash": "dot"
          },
          "type": "line",
          "x0": 2.5,
          "x1": 2.5,
          "xref": "x",
          "y0": 0,
          "y1": 1,
          "yref": "y domain"
         }
        ],
        "template": {
         "layout": {
          "hovermode": "closest",
          "paper_bgcolor": "white",
          "plot_bgcolor": "white",
          "scene": {
           "xaxis": {
            "color": "black",
            "gridcolor": "#ccc",
            "gridwidth": 1,
            "linewidth": 1,
            "mirror": true,
            "showgrid": false,
            "showline": true,
            "ticklen": 5,
            "ticks": "outside",
            "ticksuffix": " ",
            "visible": true,
            "zeroline": false,
            "zerolinecolor": "#ccc",
            "zerolinewidth": 1
           },
           "yaxis": {
            "color": "black",
            "gridcolor": "#ccc",
            "gridwidth": 1,
            "linewidth": 1,
            "mirror": true,
            "showgrid": false,
            "showline": true,
            "ticklen": 5,
            "ticks": "outside",
            "ticksuffix": " ",
            "visible": true,
            "zeroline": false,
            "zerolinecolor": "#ccc",
            "zerolinewidth": 1
           },
           "zaxis": {
            "color": "black",
            "gridcolor": "#ccc",
            "gridwidth": 1,
            "linewidth": 1,
            "mirror": true,
            "showgrid": false,
            "showline": true,
            "ticklen": 5,
            "ticks": "outside",
            "ticksuffix": " ",
            "visible": true,
            "zeroline": false,
            "zerolinecolor": "#ccc",
            "zerolinewidth": 1
           }
          },
          "xaxis": {
           "color": "black",
           "gridcolor": "#ccc",
           "gridwidth": 1,
           "linewidth": 1,
           "mirror": true,
           "showgrid": false,
           "showline": true,
           "ticklen": 5,
           "ticks": "outside",
           "ticksuffix": " ",
           "visible": true,
           "zeroline": false,
           "zerolinecolor": "#ccc",
           "zerolinewidth": 1
          },
          "yaxis": {
           "color": "black",
           "gridcolor": "#ccc",
           "gridwidth": 1,
           "linewidth": 1,
           "mirror": true,
           "showgrid": false,
           "showline": true,
           "ticklen": 5,
           "ticks": "outside",
           "ticksuffix": " ",
           "visible": true,
           "zeroline": false,
           "zerolinecolor": "#ccc",
           "zerolinewidth": 1
          }
         }
        },
        "title": {
         "text": "Prediction after 4000 training steps [0]"
        },
        "xaxis": {
         "anchor": "y",
         "domain": [
          0,
          1
         ],
         "ticktext": [
          "0: (0, 0)",
          "1: (0, 0)",
          "1: (0, 0)",
          "1: (1, -1)",
          "1: (1, 0)",
          "1: (1, 1)",
          "2: (0, 0)"
         ],
         "tickvals": {
          "bdata": "AAECAwQFBg==",
          "dtype": "i1"
         }
        },
        "yaxis": {
         "anchor": "x",
         "autorange": "reversed",
         "domain": [
          0,
          1
         ],
         "ticktext": [
          "0: (0, 0)",
          "1: (0, 0)",
          "1: (0, 0)",
          "1: (1, -1)",
          "1: (1, 0)",
          "1: (1, 1)",
          "2: (0, 0)"
         ],
         "tickvals": {
          "bdata": "AAECAwQFBg==",
          "dtype": "i1"
         }
        }
       }
      }
     },
     "metadata": {},
     "output_type": "display_data"
    }
   ],
   "source": [
    "plot_matrices(data, title=f\"Target matrix\", show=0)\n",
    "plot_matrices(\n",
    "    data,\n",
    "    predictions={\n",
    "        \"node_labels\": step_predictions[0],\n",
    "        \"edge_labels\": step_predictions[1],\n",
    "    },\n",
    "    title=f\"Prediction after {n_steps} training steps\",\n",
    "    show=0,\n",
    ")"
   ]
  },
  {
   "cell_type": "markdown",
   "id": "8375352d-adc8-458e-ae07-8fd19c11c72f",
   "metadata": {},
   "source": [
    "As you can see, the matrices are very different. That is, the model has no idea how to predict the matrices!\n",
    "\n",
    "This could be shocking considering that it has only been tasked with fitting 2 matrices, a super simple problem that any model would overfit without any trouble. Well, you must take into account two things:\n",
    "\n",
    "- **The target matrix is random**, while **the model is designed to learn equivariant matrices!**. All operations are equivariant and therefore result into an equivariant predicted matrix. For example, symmetry determines that the scalar element for node blocks for points 0 and 2 (at the top-left and bottom-right corner of the matrix) must be exactly the same because the point are equivalent. The random matrix does not satisfy this condition so it is impossible to fit.\n",
    "\n",
    "- **The model is limited by the input node features**, which only contain one scalar and one vector. The combination possibilities are very small. If you increase the node feats irreps to `0e + 2x1o` (i.e. add one extra vector) and modify the `get_environment_representation` to still satisfy symmetries you should see some elements that have no symmetry problems (e.g. the 4 scalar elements at the top-left corner of node block for point 1) get very close to the target matrix.\n",
    "\n",
    "We could work very hard to make our fake environment and true matrix computing functions equivariant to see the model fit perfectly, but you will see this in other real-life examples in the tutorials. Also **it is nice to see how a random matrix can't be fitted by an equivariant model to understand the power of equivariant design**!"
   ]
  },
  {
   "cell_type": "code",
   "execution_count": null,
   "id": "59d1020c-9d8c-484c-b8aa-5bd211b9a9bd",
   "metadata": {},
   "outputs": [],
   "source": []
  },
  {
   "cell_type": "markdown",
   "id": "ca5f97e4",
   "metadata": {},
   "source": [
    "# Testing"
   ]
  },
  {
   "cell_type": "code",
   "execution_count": 25,
   "id": "139bb28c",
   "metadata": {},
   "outputs": [
    {
     "ename": "ValueError",
     "evalue": "\n    Invalid element(s) received for the 'data' property of \n        Invalid elements include: [Figure({\n    'data': [{'coloraxis': 'coloraxis',\n              'hovertemplate': 'x: %{x}<br>y: %{y}<br>color: %{z}<extra></extra>',\n              'name': '0',\n              'texttemplate': '%{z:.2f}',\n              'type': 'heatmap',\n              'xaxis': 'x',\n              'yaxis': 'y',\n              'z': {'bdata': ('0cchP1XHEL5gdhy/Fz4NvdK1Lb9f/1' ... '/baaG+ztxHPzAm1j4QYcI/tV+EPw=='),\n                    'dtype': 'f4',\n                    'shape': '7, 7'}}],\n    'layout': {'coloraxis': {'cmid': 0,\n                             'colorscale': [[0.0, 'rgb(0, 147, 146)'],\n                                            [0.16666666666666666, 'rgb(57, 177,\n                                            133)'], [0.3333333333333333, 'rgb(156,\n                                            203, 134)'], [0.5, 'rgb(233, 226,\n                                            156)'], [0.6666666666666666, 'rgb(238,\n                                            180, 121)'], [0.8333333333333334,\n                                            'rgb(232, 132, 113)'], [1.0, 'rgb(207,\n                                            89, 126)']]},\n               'margin': {'t': 60},\n               'shapes': [{'line': {'color': 'black'},\n                           'type': 'line',\n                           'x0': 0,\n                           'x1': 1,\n                           'xref': 'x domain',\n                           'y0': 0.5,\n                           'y1': 0.5,\n                           'yref': 'y'},\n                          {'line': {'color': 'black'},\n                           'type': 'line',\n                           'x0': 0.5,\n                           'x1': 0.5,\n                           'xref': 'x',\n                           'y0': 0,\n                           'y1': 1,\n                           'yref': 'y domain'},\n                          {'line': {'color': 'black'},\n                           'type': 'line',\n                           'x0': 0,\n                           'x1': 1,\n                           'xref': 'x domain',\n                           'y0': 5.5,\n                           'y1': 5.5,\n                           'yref': 'y'},\n                          {'line': {'color': 'black'},\n                           'type': 'line',\n                           'x0': 5.5,\n                           'x1': 5.5,\n                           'xref': 'x',\n                           'y0': 0,\n                           'y1': 1,\n                           'yref': 'y domain'},\n                          {'line': {'color': 'blue', 'dash': 'dot'},\n                           'type': 'line',\n                           'x0': 0,\n                           'x1': 1,\n                           'xref': 'x domain',\n                           'y0': 1.5,\n                           'y1': 1.5,\n                           'yref': 'y'},\n                          {'line': {'color': 'blue', 'dash': 'dot'},\n                           'type': 'line',\n                           'x0': 1.5,\n                           'x1': 1.5,\n                           'xref': 'x',\n                           'y0': 0,\n                           'y1': 1,\n                           'yref': 'y domain'},\n                          {'line': {'color': 'blue', 'dash': 'dot'},\n                           'type': 'line',\n                           'x0': 0,\n                           'x1': 1,\n                           'xref': 'x domain',\n                           'y0': 2.5,\n                           'y1': 2.5,\n                           'yref': 'y'},\n                          {'line': {'color': 'blue', 'dash': 'dot'},\n                           'type': 'line',\n                           'x0': 2.5,\n                           'x1': 2.5,\n                           'xref': 'x',\n                           'y0': 0,\n                           'y1': 1,\n                           'yref': 'y domain'}],\n               'template': '...',\n               'xaxis': {'anchor': 'y',\n                         'domain': [0.0, 1.0],\n                         'ticktext': [0: (0, 0), 1: (0, 0), 1: (0, 0), 1: (1, -1),\n                                      1: (1, 0), 1: (1, 1), 2: (0, 0)],\n                         'tickvals': {'bdata': 'AAECAwQFBg==', 'dtype': 'i1'}},\n               'yaxis': {'anchor': 'x',\n                         'autorange': 'reversed',\n                         'domain': [0.0, 1.0],\n                         'ticktext': [0: (0, 0), 1: (0, 0), 1: (0, 0), 1: (1, -1),\n                                      1: (1, 0), 1: (1, 1), 2: (0, 0)],\n                         'tickvals': {'bdata': 'AAECAwQFBg==', 'dtype': 'i1'}}}\n})]\n\n    The 'data' property is a tuple of trace instances\n    that may be specified as:\n      - A list or tuple of trace instances\n        (e.g. [Scatter(...), Bar(...)])\n      - A single trace instance\n        (e.g. Scatter(...), Bar(...), etc.)\n      - A list or tuple of dicts of string/value properties where:\n        - The 'type' property specifies the trace type\n            One of: ['bar', 'barpolar', 'box', 'candlestick',\n                     'carpet', 'choropleth', 'choroplethmap',\n                     'choroplethmapbox', 'cone', 'contour',\n                     'contourcarpet', 'densitymap',\n                     'densitymapbox', 'funnel', 'funnelarea',\n                     'heatmap', 'histogram', 'histogram2d',\n                     'histogram2dcontour', 'icicle', 'image',\n                     'indicator', 'isosurface', 'mesh3d', 'ohlc',\n                     'parcats', 'parcoords', 'pie', 'sankey',\n                     'scatter', 'scatter3d', 'scattercarpet',\n                     'scattergeo', 'scattergl', 'scattermap',\n                     'scattermapbox', 'scatterpolar',\n                     'scatterpolargl', 'scattersmith',\n                     'scatterternary', 'splom', 'streamtube',\n                     'sunburst', 'surface', 'table', 'treemap',\n                     'violin', 'volume', 'waterfall']\n\n        - All remaining properties are passed to the constructor of\n          the specified trace type\n\n        (e.g. [{'type': 'scatter', ...}, {'type': 'bar, ...}])",
     "output_type": "error",
     "traceback": [
      "\u001b[31m---------------------------------------------------------------------------\u001b[39m",
      "\u001b[31mValueError\u001b[39m                                Traceback (most recent call last)",
      "\u001b[36mCell\u001b[39m\u001b[36m \u001b[39m\u001b[32mIn[25]\u001b[39m\u001b[32m, line 165\u001b[39m\n\u001b[32m    163\u001b[39m true_matrix = processor.matrix_from_data(data)[\u001b[32m0\u001b[39m]\n\u001b[32m    164\u001b[39m predicted_matrix = matrices[\u001b[32m0\u001b[39m]\n\u001b[32m--> \u001b[39m\u001b[32m165\u001b[39m \u001b[43mplot_error_matrices_interactive\u001b[49m\u001b[43m(\u001b[49m\u001b[43mtrue_matrix\u001b[49m\u001b[43m,\u001b[49m\u001b[43m \u001b[49m\u001b[43mpredicted_matrix\u001b[49m\u001b[43m,\u001b[49m\u001b[43m \u001b[49m\u001b[43mconfigs\u001b[49m\u001b[43m[\u001b[49m\u001b[32;43m0\u001b[39;49m\u001b[43m]\u001b[49m\u001b[43m)\u001b[49m\n",
      "\u001b[36mCell\u001b[39m\u001b[36m \u001b[39m\u001b[32mIn[25]\u001b[39m\u001b[32m, line 61\u001b[39m, in \u001b[36mplot_error_matrices_interactive\u001b[39m\u001b[34m(true_matrix, predicted_matrix, config_matrix, matrix_label, figure_title, predicted_matrix_text, filepath, n_atoms, absolute_error_cbar_limit)\u001b[39m\n\u001b[32m     48\u001b[39m \u001b[38;5;28;01mfor\u001b[39;00m i, matrix \u001b[38;5;129;01min\u001b[39;00m \u001b[38;5;28menumerate\u001b[39m(matrices):\n\u001b[32m     49\u001b[39m     \u001b[38;5;66;03m# row = i // 2 + 1\u001b[39;00m\n\u001b[32m     50\u001b[39m     \u001b[38;5;66;03m# col = i % 2 + 1\u001b[39;00m\n\u001b[32m     52\u001b[39m     heatmap = plot_basis_matrix(\n\u001b[32m     53\u001b[39m         matrix,\n\u001b[32m     54\u001b[39m         config_matrix,\n\u001b[32m   (...)\u001b[39m\u001b[32m     59\u001b[39m         basis_labels=\u001b[38;5;28;01mTrue\u001b[39;00m,\n\u001b[32m     60\u001b[39m     )\n\u001b[32m---> \u001b[39m\u001b[32m61\u001b[39m     \u001b[43mfig\u001b[49m\u001b[43m.\u001b[49m\u001b[43madd_trace\u001b[49m\u001b[43m(\u001b[49m\u001b[43mheatmap\u001b[49m\u001b[43m,\u001b[49m\u001b[43m \u001b[49m\u001b[43mrow\u001b[49m\u001b[43m=\u001b[49m\u001b[43mi\u001b[49m\u001b[43m,\u001b[49m\u001b[43m \u001b[49m\u001b[43mcol\u001b[49m\u001b[43m=\u001b[49m\u001b[32;43m1\u001b[39;49m\u001b[43m)\u001b[49m\n\u001b[32m     63\u001b[39m \u001b[38;5;66;03m# === Subplot titles ===\u001b[39;00m\n\u001b[32m     64\u001b[39m fig.update_layout(\n\u001b[32m     65\u001b[39m     xaxis1=\u001b[38;5;28mdict\u001b[39m(side=\u001b[33m\"\u001b[39m\u001b[33mtop\u001b[39m\u001b[33m\"\u001b[39m, title_text=titles[\u001b[32m0\u001b[39m]), yaxis1=\u001b[38;5;28mdict\u001b[39m(autorange=\u001b[33m\"\u001b[39m\u001b[33mreversed\u001b[39m\u001b[33m\"\u001b[39m),\n\u001b[32m     66\u001b[39m     xaxis2=\u001b[38;5;28mdict\u001b[39m(side=\u001b[33m\"\u001b[39m\u001b[33mtop\u001b[39m\u001b[33m\"\u001b[39m, title_text=titles[\u001b[32m1\u001b[39m]), yaxis2=\u001b[38;5;28mdict\u001b[39m(autorange=\u001b[33m\"\u001b[39m\u001b[33mreversed\u001b[39m\u001b[33m\"\u001b[39m),\n\u001b[32m   (...)\u001b[39m\u001b[32m     72\u001b[39m             \u001b[33m\"\u001b[39m\u001b[33mb\u001b[39m\u001b[33m\"\u001b[39m:\u001b[32m0\u001b[39m}\n\u001b[32m     73\u001b[39m )\n",
      "\u001b[36mFile \u001b[39m\u001b[32m~/miniconda3/envs/g2m_upd/lib/python3.12/site-packages/plotly/graph_objs/_figure.py:344\u001b[39m, in \u001b[36mFigure.add_trace\u001b[39m\u001b[34m(self, trace, row, col, secondary_y, exclude_empty_subplots)\u001b[39m\n\u001b[32m    269\u001b[39m \u001b[38;5;28;01mdef\u001b[39;00m\u001b[38;5;250m \u001b[39m\u001b[34madd_trace\u001b[39m(\n\u001b[32m    270\u001b[39m     \u001b[38;5;28mself\u001b[39m, trace, row=\u001b[38;5;28;01mNone\u001b[39;00m, col=\u001b[38;5;28;01mNone\u001b[39;00m, secondary_y=\u001b[38;5;28;01mNone\u001b[39;00m, exclude_empty_subplots=\u001b[38;5;28;01mFalse\u001b[39;00m\n\u001b[32m    271\u001b[39m ) -> \u001b[33m\"\u001b[39m\u001b[33mFigure\u001b[39m\u001b[33m\"\u001b[39m:\n\u001b[32m    272\u001b[39m \u001b[38;5;250m    \u001b[39m\u001b[33;03m\"\"\"\u001b[39;00m\n\u001b[32m    273\u001b[39m \n\u001b[32m    274\u001b[39m \u001b[33;03m    Add a trace to the figure\u001b[39;00m\n\u001b[32m   (...)\u001b[39m\u001b[32m    342\u001b[39m \n\u001b[32m    343\u001b[39m \u001b[33;03m    \"\"\"\u001b[39;00m\n\u001b[32m--> \u001b[39m\u001b[32m344\u001b[39m     \u001b[38;5;28;01mreturn\u001b[39;00m \u001b[38;5;28;43msuper\u001b[39;49m\u001b[43m(\u001b[49m\u001b[43m)\u001b[49m\u001b[43m.\u001b[49m\u001b[43madd_trace\u001b[49m\u001b[43m(\u001b[49m\u001b[43mtrace\u001b[49m\u001b[43m,\u001b[49m\u001b[43m \u001b[49m\u001b[43mrow\u001b[49m\u001b[43m,\u001b[49m\u001b[43m \u001b[49m\u001b[43mcol\u001b[49m\u001b[43m,\u001b[49m\u001b[43m \u001b[49m\u001b[43msecondary_y\u001b[49m\u001b[43m,\u001b[49m\u001b[43m \u001b[49m\u001b[43mexclude_empty_subplots\u001b[49m\u001b[43m)\u001b[49m\n",
      "\u001b[36mFile \u001b[39m\u001b[32m~/miniconda3/envs/g2m_upd/lib/python3.12/site-packages/plotly/basedatatypes.py:2129\u001b[39m, in \u001b[36mBaseFigure.add_trace\u001b[39m\u001b[34m(self, trace, row, col, secondary_y, exclude_empty_subplots)\u001b[39m\n\u001b[32m   2120\u001b[39m         \u001b[38;5;28mself\u001b[39m.add_trace(\n\u001b[32m   2121\u001b[39m             trace,\n\u001b[32m   2122\u001b[39m             row=r,\n\u001b[32m   (...)\u001b[39m\u001b[32m   2125\u001b[39m             exclude_empty_subplots=exclude_empty_subplots,\n\u001b[32m   2126\u001b[39m         )\n\u001b[32m   2127\u001b[39m     \u001b[38;5;28;01mreturn\u001b[39;00m \u001b[38;5;28mself\u001b[39m\n\u001b[32m-> \u001b[39m\u001b[32m2129\u001b[39m \u001b[38;5;28;01mreturn\u001b[39;00m \u001b[38;5;28;43mself\u001b[39;49m\u001b[43m.\u001b[49m\u001b[43madd_traces\u001b[49m\u001b[43m(\u001b[49m\n\u001b[32m   2130\u001b[39m \u001b[43m    \u001b[49m\u001b[43mdata\u001b[49m\u001b[43m=\u001b[49m\u001b[43m[\u001b[49m\u001b[43mtrace\u001b[49m\u001b[43m]\u001b[49m\u001b[43m,\u001b[49m\n\u001b[32m   2131\u001b[39m \u001b[43m    \u001b[49m\u001b[43mrows\u001b[49m\u001b[43m=\u001b[49m\u001b[43m[\u001b[49m\u001b[43mrow\u001b[49m\u001b[43m]\u001b[49m\u001b[43m \u001b[49m\u001b[38;5;28;43;01mif\u001b[39;49;00m\u001b[43m \u001b[49m\u001b[43mrow\u001b[49m\u001b[43m \u001b[49m\u001b[38;5;129;43;01mis\u001b[39;49;00m\u001b[43m \u001b[49m\u001b[38;5;129;43;01mnot\u001b[39;49;00m\u001b[43m \u001b[49m\u001b[38;5;28;43;01mNone\u001b[39;49;00m\u001b[43m \u001b[49m\u001b[38;5;28;43;01melse\u001b[39;49;00m\u001b[43m \u001b[49m\u001b[38;5;28;43;01mNone\u001b[39;49;00m\u001b[43m,\u001b[49m\n\u001b[32m   2132\u001b[39m \u001b[43m    \u001b[49m\u001b[43mcols\u001b[49m\u001b[43m=\u001b[49m\u001b[43m[\u001b[49m\u001b[43mcol\u001b[49m\u001b[43m]\u001b[49m\u001b[43m \u001b[49m\u001b[38;5;28;43;01mif\u001b[39;49;00m\u001b[43m \u001b[49m\u001b[43mcol\u001b[49m\u001b[43m \u001b[49m\u001b[38;5;129;43;01mis\u001b[39;49;00m\u001b[43m \u001b[49m\u001b[38;5;129;43;01mnot\u001b[39;49;00m\u001b[43m \u001b[49m\u001b[38;5;28;43;01mNone\u001b[39;49;00m\u001b[43m \u001b[49m\u001b[38;5;28;43;01melse\u001b[39;49;00m\u001b[43m \u001b[49m\u001b[38;5;28;43;01mNone\u001b[39;49;00m\u001b[43m,\u001b[49m\n\u001b[32m   2133\u001b[39m \u001b[43m    \u001b[49m\u001b[43msecondary_ys\u001b[49m\u001b[43m=\u001b[49m\u001b[43m[\u001b[49m\u001b[43msecondary_y\u001b[49m\u001b[43m]\u001b[49m\u001b[43m \u001b[49m\u001b[38;5;28;43;01mif\u001b[39;49;00m\u001b[43m \u001b[49m\u001b[43msecondary_y\u001b[49m\u001b[43m \u001b[49m\u001b[38;5;129;43;01mis\u001b[39;49;00m\u001b[43m \u001b[49m\u001b[38;5;129;43;01mnot\u001b[39;49;00m\u001b[43m \u001b[49m\u001b[38;5;28;43;01mNone\u001b[39;49;00m\u001b[43m \u001b[49m\u001b[38;5;28;43;01melse\u001b[39;49;00m\u001b[43m \u001b[49m\u001b[38;5;28;43;01mNone\u001b[39;49;00m\u001b[43m,\u001b[49m\n\u001b[32m   2134\u001b[39m \u001b[43m    \u001b[49m\u001b[43mexclude_empty_subplots\u001b[49m\u001b[43m=\u001b[49m\u001b[43mexclude_empty_subplots\u001b[49m\u001b[43m,\u001b[49m\n\u001b[32m   2135\u001b[39m \u001b[43m\u001b[49m\u001b[43m)\u001b[49m\n",
      "\u001b[36mFile \u001b[39m\u001b[32m~/miniconda3/envs/g2m_upd/lib/python3.12/site-packages/plotly/graph_objs/_figure.py:422\u001b[39m, in \u001b[36mFigure.add_traces\u001b[39m\u001b[34m(self, data, rows, cols, secondary_ys, exclude_empty_subplots)\u001b[39m\n\u001b[32m    346\u001b[39m \u001b[38;5;28;01mdef\u001b[39;00m\u001b[38;5;250m \u001b[39m\u001b[34madd_traces\u001b[39m(\n\u001b[32m    347\u001b[39m     \u001b[38;5;28mself\u001b[39m,\n\u001b[32m    348\u001b[39m     data,\n\u001b[32m   (...)\u001b[39m\u001b[32m    352\u001b[39m     exclude_empty_subplots=\u001b[38;5;28;01mFalse\u001b[39;00m,\n\u001b[32m    353\u001b[39m ) -> \u001b[33m\"\u001b[39m\u001b[33mFigure\u001b[39m\u001b[33m\"\u001b[39m:\n\u001b[32m    354\u001b[39m \u001b[38;5;250m    \u001b[39m\u001b[33;03m\"\"\"\u001b[39;00m\n\u001b[32m    355\u001b[39m \n\u001b[32m    356\u001b[39m \u001b[33;03m    Add traces to the figure\u001b[39;00m\n\u001b[32m   (...)\u001b[39m\u001b[32m    420\u001b[39m \n\u001b[32m    421\u001b[39m \u001b[33;03m    \"\"\"\u001b[39;00m\n\u001b[32m--> \u001b[39m\u001b[32m422\u001b[39m     \u001b[38;5;28;01mreturn\u001b[39;00m \u001b[38;5;28;43msuper\u001b[39;49m\u001b[43m(\u001b[49m\u001b[43m)\u001b[49m\u001b[43m.\u001b[49m\u001b[43madd_traces\u001b[49m\u001b[43m(\u001b[49m\n\u001b[32m    423\u001b[39m \u001b[43m        \u001b[49m\u001b[43mdata\u001b[49m\u001b[43m,\u001b[49m\u001b[43m \u001b[49m\u001b[43mrows\u001b[49m\u001b[43m,\u001b[49m\u001b[43m \u001b[49m\u001b[43mcols\u001b[49m\u001b[43m,\u001b[49m\u001b[43m \u001b[49m\u001b[43msecondary_ys\u001b[49m\u001b[43m,\u001b[49m\u001b[43m \u001b[49m\u001b[43mexclude_empty_subplots\u001b[49m\n\u001b[32m    424\u001b[39m \u001b[43m    \u001b[49m\u001b[43m)\u001b[49m\n",
      "\u001b[36mFile \u001b[39m\u001b[32m~/miniconda3/envs/g2m_upd/lib/python3.12/site-packages/plotly/basedatatypes.py:2213\u001b[39m, in \u001b[36mBaseFigure.add_traces\u001b[39m\u001b[34m(self, data, rows, cols, secondary_ys, exclude_empty_subplots)\u001b[39m\n\u001b[32m   2145\u001b[39m \u001b[38;5;250m\u001b[39m\u001b[33;03m\"\"\"\u001b[39;00m\n\u001b[32m   2146\u001b[39m \u001b[33;03mAdd traces to the figure\u001b[39;00m\n\u001b[32m   2147\u001b[39m \n\u001b[32m   (...)\u001b[39m\u001b[32m   2209\u001b[39m \u001b[33;03mFigure(...)\u001b[39;00m\n\u001b[32m   2210\u001b[39m \u001b[33;03m\"\"\"\u001b[39;00m\n\u001b[32m   2212\u001b[39m \u001b[38;5;66;03m# Validate traces\u001b[39;00m\n\u001b[32m-> \u001b[39m\u001b[32m2213\u001b[39m data = \u001b[38;5;28;43mself\u001b[39;49m\u001b[43m.\u001b[49m\u001b[43m_data_validator\u001b[49m\u001b[43m.\u001b[49m\u001b[43mvalidate_coerce\u001b[49m\u001b[43m(\u001b[49m\u001b[43mdata\u001b[49m\u001b[43m)\u001b[49m\n\u001b[32m   2215\u001b[39m \u001b[38;5;66;03m# Set trace indexes\u001b[39;00m\n\u001b[32m   2216\u001b[39m \u001b[38;5;28;01mfor\u001b[39;00m ind, new_trace \u001b[38;5;129;01min\u001b[39;00m \u001b[38;5;28menumerate\u001b[39m(data):\n",
      "\u001b[36mFile \u001b[39m\u001b[32m~/miniconda3/envs/g2m_upd/lib/python3.12/site-packages/_plotly_utils/basevalidators.py:2712\u001b[39m, in \u001b[36mBaseDataValidator.validate_coerce\u001b[39m\u001b[34m(self, v, skip_invalid, _validate)\u001b[39m\n\u001b[32m   2709\u001b[39m             invalid_els.append(v_el)\n\u001b[32m   2711\u001b[39m \u001b[38;5;28;01mif\u001b[39;00m invalid_els:\n\u001b[32m-> \u001b[39m\u001b[32m2712\u001b[39m     \u001b[38;5;28;43mself\u001b[39;49m\u001b[43m.\u001b[49m\u001b[43mraise_invalid_elements\u001b[49m\u001b[43m(\u001b[49m\u001b[43minvalid_els\u001b[49m\u001b[43m)\u001b[49m\n\u001b[32m   2714\u001b[39m v = to_scalar_or_list(res)\n\u001b[32m   2716\u001b[39m \u001b[38;5;66;03m# Set new UIDs\u001b[39;00m\n",
      "\u001b[36mFile \u001b[39m\u001b[32m~/miniconda3/envs/g2m_upd/lib/python3.12/site-packages/_plotly_utils/basevalidators.py:315\u001b[39m, in \u001b[36mBaseValidator.raise_invalid_elements\u001b[39m\u001b[34m(self, invalid_els)\u001b[39m\n\u001b[32m    313\u001b[39m     \u001b[38;5;28;01mdef\u001b[39;00m\u001b[38;5;250m \u001b[39m\u001b[34mraise_invalid_elements\u001b[39m(\u001b[38;5;28mself\u001b[39m, invalid_els):\n\u001b[32m    314\u001b[39m         \u001b[38;5;28;01mif\u001b[39;00m invalid_els:\n\u001b[32m--> \u001b[39m\u001b[32m315\u001b[39m             \u001b[38;5;28;01mraise\u001b[39;00m \u001b[38;5;167;01mValueError\u001b[39;00m(\n\u001b[32m    316\u001b[39m \u001b[38;5;250m                \u001b[39m\u001b[33;03m\"\"\"\u001b[39;00m\n\u001b[32m    317\u001b[39m \u001b[33;03m    Invalid element(s) received for the '{name}' property of {pname}\u001b[39;00m\n\u001b[32m    318\u001b[39m \u001b[33;03m        Invalid elements include: {invalid}\u001b[39;00m\n\u001b[32m    319\u001b[39m \n\u001b[32m    320\u001b[39m \u001b[33;03m{valid_clr_desc}\"\"\"\u001b[39;00m.format(\n\u001b[32m    321\u001b[39m                     name=\u001b[38;5;28mself\u001b[39m.plotly_name,\n\u001b[32m    322\u001b[39m                     pname=\u001b[38;5;28mself\u001b[39m.parent_name,\n\u001b[32m    323\u001b[39m                     invalid=invalid_els[:\u001b[32m10\u001b[39m],\n\u001b[32m    324\u001b[39m                     valid_clr_desc=\u001b[38;5;28mself\u001b[39m.description(),\n\u001b[32m    325\u001b[39m                 )\n\u001b[32m    326\u001b[39m             )\n",
      "\u001b[31mValueError\u001b[39m: \n    Invalid element(s) received for the 'data' property of \n        Invalid elements include: [Figure({\n    'data': [{'coloraxis': 'coloraxis',\n              'hovertemplate': 'x: %{x}<br>y: %{y}<br>color: %{z}<extra></extra>',\n              'name': '0',\n              'texttemplate': '%{z:.2f}',\n              'type': 'heatmap',\n              'xaxis': 'x',\n              'yaxis': 'y',\n              'z': {'bdata': ('0cchP1XHEL5gdhy/Fz4NvdK1Lb9f/1' ... '/baaG+ztxHPzAm1j4QYcI/tV+EPw=='),\n                    'dtype': 'f4',\n                    'shape': '7, 7'}}],\n    'layout': {'coloraxis': {'cmid': 0,\n                             'colorscale': [[0.0, 'rgb(0, 147, 146)'],\n                                            [0.16666666666666666, 'rgb(57, 177,\n                                            133)'], [0.3333333333333333, 'rgb(156,\n                                            203, 134)'], [0.5, 'rgb(233, 226,\n                                            156)'], [0.6666666666666666, 'rgb(238,\n                                            180, 121)'], [0.8333333333333334,\n                                            'rgb(232, 132, 113)'], [1.0, 'rgb(207,\n                                            89, 126)']]},\n               'margin': {'t': 60},\n               'shapes': [{'line': {'color': 'black'},\n                           'type': 'line',\n                           'x0': 0,\n                           'x1': 1,\n                           'xref': 'x domain',\n                           'y0': 0.5,\n                           'y1': 0.5,\n                           'yref': 'y'},\n                          {'line': {'color': 'black'},\n                           'type': 'line',\n                           'x0': 0.5,\n                           'x1': 0.5,\n                           'xref': 'x',\n                           'y0': 0,\n                           'y1': 1,\n                           'yref': 'y domain'},\n                          {'line': {'color': 'black'},\n                           'type': 'line',\n                           'x0': 0,\n                           'x1': 1,\n                           'xref': 'x domain',\n                           'y0': 5.5,\n                           'y1': 5.5,\n                           'yref': 'y'},\n                          {'line': {'color': 'black'},\n                           'type': 'line',\n                           'x0': 5.5,\n                           'x1': 5.5,\n                           'xref': 'x',\n                           'y0': 0,\n                           'y1': 1,\n                           'yref': 'y domain'},\n                          {'line': {'color': 'blue', 'dash': 'dot'},\n                           'type': 'line',\n                           'x0': 0,\n                           'x1': 1,\n                           'xref': 'x domain',\n                           'y0': 1.5,\n                           'y1': 1.5,\n                           'yref': 'y'},\n                          {'line': {'color': 'blue', 'dash': 'dot'},\n                           'type': 'line',\n                           'x0': 1.5,\n                           'x1': 1.5,\n                           'xref': 'x',\n                           'y0': 0,\n                           'y1': 1,\n                           'yref': 'y domain'},\n                          {'line': {'color': 'blue', 'dash': 'dot'},\n                           'type': 'line',\n                           'x0': 0,\n                           'x1': 1,\n                           'xref': 'x domain',\n                           'y0': 2.5,\n                           'y1': 2.5,\n                           'yref': 'y'},\n                          {'line': {'color': 'blue', 'dash': 'dot'},\n                           'type': 'line',\n                           'x0': 2.5,\n                           'x1': 2.5,\n                           'xref': 'x',\n                           'y0': 0,\n                           'y1': 1,\n                           'yref': 'y domain'}],\n               'template': '...',\n               'xaxis': {'anchor': 'y',\n                         'domain': [0.0, 1.0],\n                         'ticktext': [0: (0, 0), 1: (0, 0), 1: (0, 0), 1: (1, -1),\n                                      1: (1, 0), 1: (1, 1), 2: (0, 0)],\n                         'tickvals': {'bdata': 'AAECAwQFBg==', 'dtype': 'i1'}},\n               'yaxis': {'anchor': 'x',\n                         'autorange': 'reversed',\n                         'domain': [0.0, 1.0],\n                         'ticktext': [0: (0, 0), 1: (0, 0), 1: (0, 0), 1: (1, -1),\n                                      1: (1, 0), 1: (1, 1), 2: (0, 0)],\n                         'tickvals': {'bdata': 'AAECAwQFBg==', 'dtype': 'i1'}}}\n})]\n\n    The 'data' property is a tuple of trace instances\n    that may be specified as:\n      - A list or tuple of trace instances\n        (e.g. [Scatter(...), Bar(...)])\n      - A single trace instance\n        (e.g. Scatter(...), Bar(...), etc.)\n      - A list or tuple of dicts of string/value properties where:\n        - The 'type' property specifies the trace type\n            One of: ['bar', 'barpolar', 'box', 'candlestick',\n                     'carpet', 'choropleth', 'choroplethmap',\n                     'choroplethmapbox', 'cone', 'contour',\n                     'contourcarpet', 'densitymap',\n                     'densitymapbox', 'funnel', 'funnelarea',\n                     'heatmap', 'histogram', 'histogram2d',\n                     'histogram2dcontour', 'icicle', 'image',\n                     'indicator', 'isosurface', 'mesh3d', 'ohlc',\n                     'parcats', 'parcoords', 'pie', 'sankey',\n                     'scatter', 'scatter3d', 'scattercarpet',\n                     'scattergeo', 'scattergl', 'scattermap',\n                     'scattermapbox', 'scatterpolar',\n                     'scatterpolargl', 'scattersmith',\n                     'scatterternary', 'splom', 'streamtube',\n                     'sunburst', 'surface', 'table', 'treemap',\n                     'violin', 'volume', 'waterfall']\n\n        - All remaining properties are passed to the constructor of\n          the specified trace type\n\n        (e.g. [{'type': 'scatter', ...}, {'type': 'bar, ...}])"
     ]
    }
   ],
   "source": [
    "from plotly.subplots import make_subplots\n",
    "\n",
    "def plot_error_matrices_interactive(true_matrix, predicted_matrix, config_matrix, matrix_label=None, figure_title=None, predicted_matrix_text=None, filepath=None, n_atoms=None, absolute_error_cbar_limit=None):\n",
    "    \"\"\"Interactive Plotly visualization of error matrices.\"\"\"\n",
    "\n",
    "    # === Error matrices computation ===\n",
    "    absolute_error_matrix = true_matrix - predicted_matrix\n",
    "    epsilon = 0.001\n",
    "    # relative_error_matrix = absolute_error_matrix / (true_matrix + epsilon)*100\n",
    "    relative_error_matrix = absolute_error_matrix\n",
    "\n",
    "    # === Colorbar limits ===\n",
    "    vmin = np.min([np.min(true_matrix), np.min(predicted_matrix)])\n",
    "    vmax = np.max([np.max(true_matrix), np.max(predicted_matrix)])\n",
    "    lim_data = max(abs(vmin), abs(vmax))\n",
    "\n",
    "    if absolute_error_cbar_limit is None:\n",
    "        lim_abs = np.max(np.abs(absolute_error_matrix))\n",
    "    else:\n",
    "        lim_abs = absolute_error_cbar_limit\n",
    "\n",
    "    lim_rel = 100.0  # %\n",
    "\n",
    "    cbar_limits = [lim_data, lim_data, lim_abs, lim_rel]\n",
    "\n",
    "    # === Titles ===\n",
    "    if matrix_label is None:\n",
    "        matrix_label = ''\n",
    "    titles = [\n",
    "        \"True \" + matrix_label,\n",
    "        \"Predicted \" + matrix_label,\n",
    "        \"Absolute error (A-B)\",\n",
    "        f\"Relative error (A-B)/(A+{epsilon})\"\n",
    "    ]\n",
    "    cbar_titles = [\"eV\", \"eV\", \"eV\", \"%\"]\n",
    "\n",
    "    # === Figure ===\n",
    "    # cbar_positions = [0.44, 1, 0.44, 1]\n",
    "    matrices = [true_matrix, predicted_matrix, absolute_error_matrix, relative_error_matrix]\n",
    "\n",
    "    fig = make_subplots(\n",
    "        rows=4, cols=1,\n",
    "        # subplot_titles=titles,\n",
    "        # horizontal_spacing=0.15,\n",
    "        vertical_spacing=0.17\n",
    "    )\n",
    "\n",
    "    for i, matrix in enumerate(matrices):\n",
    "        # row = i // 2 + 1\n",
    "        # col = i % 2 + 1\n",
    "\n",
    "        heatmap = plot_basis_matrix(\n",
    "            matrix,\n",
    "            config_matrix,\n",
    "            point_lines={\"color\": \"black\"},\n",
    "            basis_lines={\"color\": \"blue\"},\n",
    "            colorscale=\"temps\",\n",
    "            text=\".2f\",\n",
    "            basis_labels=True,\n",
    "        )\n",
    "        fig.add_trace(heatmap, row=i, col=1)\n",
    "\n",
    "    # === Subplot titles ===\n",
    "    fig.update_layout(\n",
    "        xaxis1=dict(side=\"top\", title_text=titles[0]), yaxis1=dict(autorange=\"reversed\"),\n",
    "        xaxis2=dict(side=\"top\", title_text=titles[1]), yaxis2=dict(autorange=\"reversed\"),\n",
    "        xaxis3=dict(side=\"top\", title_text=titles[2]), yaxis3=dict(autorange=\"reversed\"),\n",
    "        xaxis4=dict(side=\"top\", title_text=titles[3]), yaxis4=dict(autorange=\"reversed\"),\n",
    "        margin={\"l\":0,\n",
    "                \"r\":0,\n",
    "                \"t\":0,\n",
    "                \"b\":0}\n",
    "    )\n",
    "\n",
    "    # # === Atomic orbitals blocks grid ===\n",
    "    # if n_atoms is not None:\n",
    "    #     n_orbitals = 13\n",
    "    #     minor_ticks = np.arange(-0.5, n_orbitals * n_atoms, n_orbitals)\n",
    "\n",
    "    #     for i, matrix in enumerate(matrices):\n",
    "    #         row = i // 2 + 1\n",
    "    #         col = i % 2 + 1  # Ensure shapes are added to the correct subplot\n",
    "\n",
    "    #         grid_lines = [\n",
    "    #             # Vertical grid lines\n",
    "    #             dict(type=\"line\", x0=x, x1=x, y0=-0.5, y1=n_orbitals * n_atoms - 0.5, line=dict(color=\"black\", width=1))\n",
    "    #             for x in minor_ticks\n",
    "    #         ] + [\n",
    "    #             # Horizontal grid lines\n",
    "    #             dict(type=\"line\", y0=y, y1=y, x0=-0.5, x1=n_orbitals * n_atoms - 0.5, line=dict(color=\"black\", width=1))\n",
    "    #             for y in minor_ticks\n",
    "    #         ]\n",
    "\n",
    "    #         # Add each grid line to the corresponding subplot\n",
    "    #         for line in grid_lines:\n",
    "    #             fig.add_shape(line, row=row, col=col)\n",
    "\n",
    "    # === Text annotations ===\n",
    "\n",
    "    # Text under predicted matrix\n",
    "    if predicted_matrix_text:\n",
    "        fig.add_annotation(\n",
    "            text=predicted_matrix_text,\n",
    "            xref='x2 domain', yref='y2 domain',\n",
    "            x=1.1, y=-0.15,\n",
    "            showarrow=False,\n",
    "            font=dict(size=12),\n",
    "            align='right'\n",
    "        )\n",
    "\n",
    "    # Absolute error stats\n",
    "    max_absolute_error = np.max(absolute_error_matrix)\n",
    "    min_absolute_error = np.min(absolute_error_matrix)\n",
    "    fig.add_annotation(\n",
    "        text=f\"max = {max_absolute_error:.2f} eV, min = {min_absolute_error:.2f} eV\",\n",
    "        xref='x3 domain', yref='y3 domain',\n",
    "        x=0.5, y=-0.07,\n",
    "        showarrow=False,\n",
    "        font=dict(size=12),\n",
    "        align='center'\n",
    "    )\n",
    "\n",
    "    # Relative error stats\n",
    "    max_relative_error = np.max(relative_error_matrix)\n",
    "    min_relative_error = np.min(relative_error_matrix)\n",
    "    fig.add_annotation(\n",
    "        text=f\"max = {max_relative_error:.2f}%, min = {min_relative_error:.2f}%\",\n",
    "        xref='x4 domain', yref='y4 domain',\n",
    "        x=0.5, y=-0.07,\n",
    "        showarrow=False,\n",
    "        font=dict(size=12),\n",
    "        align='center'\n",
    "    )\n",
    "\n",
    "    # === Layout of the whole figure ===\n",
    "    fig.update_layout(\n",
    "        height=1700,\n",
    "        width=800,\n",
    "        title_text=figure_title if figure_title else \"Matrix Comparison and Errors\",\n",
    "        title_x=0.5,\n",
    "        title_y=0.99,\n",
    "        margin=dict(t=100, b=20)\n",
    "    )\n",
    "\n",
    "    # === Output ===\n",
    "    if filepath:\n",
    "        fig.write_html(filepath)\n",
    "    else:\n",
    "        fig.show()\n",
    "\n",
    "\n",
    "\n",
    "predictions={\n",
    "    \"node_labels\": step_predictions[0],\n",
    "    \"edge_labels\": step_predictions[1],\n",
    "}\n",
    "\n",
    "data_example = dataset[0]\n",
    "matrices = processor.matrix_from_data(data, predictions=predictions)\n",
    "if not isinstance(matrices, (tuple, list)):\n",
    "    matrices = (matrices,)\n",
    "\n",
    "true_matrix = processor.matrix_from_data(data)[0]\n",
    "predicted_matrix = matrices[0]\n",
    "plot_error_matrices_interactive(true_matrix, predicted_matrix, configs[0])"
   ]
  },
  {
   "cell_type": "code",
   "execution_count": 22,
   "id": "d5bc6859",
   "metadata": {},
   "outputs": [
    {
     "data": {
      "text/plain": [
       "(<Compressed Sparse Row sparse array of dtype 'float32'\n",
       " \twith 47 stored elements and shape (7, 7)>,\n",
       " <Compressed Sparse Row sparse array of dtype 'float32'\n",
       " \twith 71 stored elements and shape (11, 11)>)"
      ]
     },
     "execution_count": 22,
     "metadata": {},
     "output_type": "execute_result"
    }
   ],
   "source": [
    "true_matrix"
   ]
  },
  {
   "cell_type": "code",
   "execution_count": 27,
   "id": "935c4364",
   "metadata": {},
   "outputs": [
    {
     "ename": "TypeError",
     "evalue": "plot_basis_matrix() got an unexpected keyword argument 'return_plotly'",
     "output_type": "error",
     "traceback": [
      "\u001b[31m---------------------------------------------------------------------------\u001b[39m",
      "\u001b[31mTypeError\u001b[39m                                 Traceback (most recent call last)",
      "\u001b[36mCell\u001b[39m\u001b[36m \u001b[39m\u001b[32mIn[27]\u001b[39m\u001b[32m, line 14\u001b[39m\n\u001b[32m     12\u001b[39m \u001b[38;5;66;03m# Plot each sparse matrix using plot_basis_matrix with Plotly\u001b[39;00m\n\u001b[32m     13\u001b[39m \u001b[38;5;28;01mfor\u001b[39;00m i, mat \u001b[38;5;129;01min\u001b[39;00m \u001b[38;5;28menumerate\u001b[39m(matrices):\n\u001b[32m---> \u001b[39m\u001b[32m14\u001b[39m     fig_i = \u001b[43mplot_basis_matrix\u001b[49m\u001b[43m(\u001b[49m\u001b[43mmat\u001b[49m\u001b[43m,\u001b[49m\u001b[43m \u001b[49m\u001b[43mreturn_plotly\u001b[49m\u001b[43m=\u001b[49m\u001b[38;5;28;43;01mTrue\u001b[39;49;00m\u001b[43m)\u001b[49m  \u001b[38;5;66;03m# Get plotly figure\u001b[39;00m\n\u001b[32m     15\u001b[39m     \u001b[38;5;28;01mfor\u001b[39;00m trace \u001b[38;5;129;01min\u001b[39;00m fig_i.data:\n\u001b[32m     16\u001b[39m         fig.add_trace(trace, row=i+\u001b[32m1\u001b[39m, col=\u001b[32m1\u001b[39m)\n",
      "\u001b[31mTypeError\u001b[39m: plot_basis_matrix() got an unexpected keyword argument 'return_plotly'"
     ]
    }
   ],
   "source": [
    "import scipy.sparse as sp\n",
    "import numpy as np\n",
    "from graph2mat.tools.viz.sparse_plot import plot_basis_matrix\n",
    "from plotly.subplots import make_subplots\n",
    "\n",
    "# Create dummy sparse matrices\n",
    "matrices = [sp.random(10, 10, density=0.1, format='csr', random_state=i) for i in range(4)]\n",
    "\n",
    "# Create a 4x1 subplot figure\n",
    "fig = make_subplots(rows=4, cols=1, subplot_titles=[f\"Matrix {i+1}\" for i in range(4)])\n",
    "\n",
    "# Plot each sparse matrix using plot_basis_matrix with Plotly\n",
    "for i, mat in enumerate(matrices):\n",
    "    fig_i = plot_basis_matrix(mat, return_plotly=True)  # Get plotly figure\n",
    "    for trace in fig_i.data:\n",
    "        fig.add_trace(trace, row=i+1, col=1)\n",
    "\n",
    "fig.update_layout(height=1200, showlegend=False)\n",
    "fig.show()\n",
    "\n"
   ]
  }
 ],
 "metadata": {
  "kernelspec": {
   "display_name": "g2m_upd",
   "language": "python",
   "name": "python3"
  },
  "language_info": {
   "codemirror_mode": {
    "name": "ipython",
    "version": 3
   },
   "file_extension": ".py",
   "mimetype": "text/x-python",
   "name": "python",
   "nbconvert_exporter": "python",
   "pygments_lexer": "ipython3",
   "version": "3.12.11"
  }
 },
 "nbformat": 4,
 "nbformat_minor": 5
}
