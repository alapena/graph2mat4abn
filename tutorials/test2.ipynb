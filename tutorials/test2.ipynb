{
 "cells": [
  {
   "cell_type": "code",
   "execution_count": 1,
   "id": "cf9eabca",
   "metadata": {},
   "outputs": [
    {
     "name": "stdout",
     "output_type": "stream",
     "text": [
      "Maximum absolute difference: 5\n"
     ]
    }
   ],
   "source": [
    "from scipy.sparse import csr_matrix\n",
    "import numpy as np\n",
    "\n",
    "# Example CSR matrices\n",
    "a = csr_matrix([[0, 3, 0], [4, 0, 0]])\n",
    "b = csr_matrix([[1, 1, 0], [2, 0, 5]])\n",
    "\n",
    "# Step 1: Compute the difference (still sparse)\n",
    "diff = a - b  # result is a csr_matrix\n",
    "\n",
    "# Step 2: Compute absolute value\n",
    "abs_diff = abs(diff)  # sparse-aware abs\n",
    "\n",
    "# Step 3: Get the maximum absolute value\n",
    "max_val = abs_diff.data.max()  # sparse matrices store non-zeros in .data\n",
    "print(\"Maximum absolute difference:\", max_val)"
   ]
  },
  {
   "cell_type": "code",
   "execution_count": 6,
   "id": "8e0bc51b",
   "metadata": {},
   "outputs": [
    {
     "data": {
      "text/plain": [
       "array([-3, -4])"
      ]
     },
     "execution_count": 6,
     "metadata": {},
     "output_type": "execute_result"
    }
   ],
   "source": [
    "-np.abs(a).data"
   ]
  },
  {
   "cell_type": "code",
   "execution_count": null,
   "id": "f479d40c",
   "metadata": {},
   "outputs": [],
   "source": []
  }
 ],
 "metadata": {
  "kernelspec": {
   "display_name": "g2m_upd",
   "language": "python",
   "name": "python3"
  },
  "language_info": {
   "codemirror_mode": {
    "name": "ipython",
    "version": 3
   },
   "file_extension": ".py",
   "mimetype": "text/x-python",
   "name": "python",
   "nbconvert_exporter": "python",
   "pygments_lexer": "ipython3",
   "version": "3.12.11"
  }
 },
 "nbformat": 4,
 "nbformat_minor": 5
}
