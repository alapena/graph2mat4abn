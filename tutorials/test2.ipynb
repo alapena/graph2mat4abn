{
 "cells": [
  {
   "cell_type": "code",
   "execution_count": 1,
   "id": "cf9eabca",
   "metadata": {},
   "outputs": [
    {
     "name": "stdout",
     "output_type": "stream",
     "text": [
      "Maximum absolute difference: 5\n"
     ]
    }
   ],
   "source": [
    "from scipy.sparse import csr_matrix\n",
    "import numpy as np\n",
    "\n",
    "# Example CSR matrices\n",
    "a = csr_matrix([[0, 3, 0], [4, 0, 0]])\n",
    "b = csr_matrix([[1, 1, 0], [2, 0, 5]])\n",
    "\n",
    "# Step 1: Compute the difference (still sparse)\n",
    "diff = a - b  # result is a csr_matrix\n",
    "\n",
    "# Step 2: Compute absolute value\n",
    "abs_diff = abs(diff)  # sparse-aware abs\n",
    "\n",
    "# Step 3: Get the maximum absolute value\n",
    "max_val = abs_diff.data.max()  # sparse matrices store non-zeros in .data\n",
    "print(\"Maximum absolute difference:\", max_val)"
   ]
  },
  {
   "cell_type": "code",
   "execution_count": 6,
   "id": "8e0bc51b",
   "metadata": {},
   "outputs": [
    {
     "data": {
      "text/plain": [
       "array([-3, -4])"
      ]
     },
     "execution_count": 6,
     "metadata": {},
     "output_type": "execute_result"
    }
   ],
   "source": [
    "-np.abs(a).data"
   ]
  },
  {
   "cell_type": "markdown",
   "id": "dd027797",
   "metadata": {},
   "source": [
    "# Sliders in Plotly"
   ]
  },
  {
   "cell_type": "code",
   "execution_count": null,
   "id": "f479d40c",
   "metadata": {},
   "outputs": [
    {
     "data": {
      "application/vnd.plotly.v1+json": {
       "config": {
        "plotlyServerURL": "https://plot.ly"
       },
       "data": [
        {
         "mode": "markers",
         "type": "scatter",
         "x": {
          "bdata": "AAECAwQFBgcICQoLDA0ODxAREhM=",
          "dtype": "i1"
         },
         "y": {
          "bdata": "fDCpKCrK3z8qBd4FpbLBv2heJFDdueQ/K6oBjlRe+D9AplffvPjNvzvbcCYz+M2/CHRAqHRE+T/z1/BG047oP4ueeUveC96/fS1q4aZc4T9wG8Guoqjdv+fvFiuEzt2/cPmepZ74zj++Ne6+y5z+vxLk7nBDmfu/YzyhakL+4b95UaNnjjTwvx+GFtigHNQ/+QOLgYgO7b/HExTEy5j2vw==",
          "dtype": "f8"
         }
        }
       ],
       "frames": [
        {
         "data": [
          {
           "mode": "markers",
           "type": "scatter",
           "x": {
            "bdata": "AAECAwQFBgcICQoLDA0ODxAREhM=",
            "dtype": "i1"
           },
           "y": {
            "bdata": "fDCpKCrK3z8qBd4FpbLBv2heJFDdueQ/K6oBjlRe+D9AplffvPjNvzvbcCYz+M2/CHRAqHRE+T/z1/BG047oP4ueeUveC96/fS1q4aZc4T9wG8Guoqjdv+fvFiuEzt2/cPmepZ74zj++Ne6+y5z+vxLk7nBDmfu/YzyhakL+4b95UaNnjjTwvx+GFtigHNQ/+QOLgYgO7b/HExTEy5j2vw==",
            "dtype": "f8"
           }
          }
         ],
         "name": "Sample 0"
        },
        {
         "data": [
          {
           "mode": "markers",
           "type": "scatter",
           "x": {
            "bdata": "AAECAwQFBgcICQoLDA0ODxAREhM=",
            "dtype": "i1"
           },
           "y": {
            "bdata": "QQ2fH0xz9z/ZmGbhPObMv8Y1sUaHSbE/YicNwcTL9r8o+spRlWvhvzUGMT9sZbw/FfXOPXhq8r/o3X2zbwvYP9I7PaFuOOO/oNLzQhyr0r+n/ak5LkHjv1f2GHPuov0/hoOw1m6ki79GzIdLYuzwvzcuH7VJUuo/HHriWZOI87+1ae/SCrzKP8MwUA/PWv+//1qwA0BA9b9AOvS8vzLJPw==",
            "dtype": "f8"
           }
          }
         ],
         "name": "Sample 1"
        },
        {
         "data": [
          {
           "mode": "markers",
           "type": "scatter",
           "x": {
            "bdata": "AAECAwQFBgcICQoLDA0ODxAREhM=",
            "dtype": "i1"
           },
           "y": {
            "bdata": "vp1IqoSh5z8MLqRVZe/FP18xsjYgm72/4a9Qb0hF078GuLCsBqj3vyemqLj2COe/2a4iCht73b9iwtf++OnwP4hBAJHX/dU/ThUNmGk1/L84WG2wyr3UP0APKiYwpdi/TTmoU1ip5b/57Akn2pLjP9T89Fr5fvA/Hpzg9gvN7T9TFQ+13trqv88pc7QiytO/ikwPiWsz1T8AaBhqqjfvPw==",
            "dtype": "f8"
           }
          }
         ],
         "name": "Sample 2"
        },
        {
         "data": [
          {
           "mode": "markers",
           "type": "scatter",
           "x": {
            "bdata": "AAECAwQFBgcICQoLDA0ODxAREhM=",
            "dtype": "i1"
           },
           "y": {
            "bdata": "VWYobMqq3r8Tbn1grMPHvzBuPE2Ms/G/9PWajqkj87+w1UonNgDqP/3Ng74os/U/+iMrXUFvsr9qgA6DeA7wP0KkKG0LJdc/rwoBL9Kk5L+P6aQIGyHXPyBgEDvMm/g/UhmlZMpXor8x1znJxwj5P19fz+s89QTAv1gZewZN6j8hrkt3t0i2P8Dt4LnvItO/OIpGXqJ9tz/iHOwPFc3/vw==",
            "dtype": "f8"
           }
          }
         ],
         "name": "Sample 3"
        },
        {
         "data": [
          {
           "mode": "markers",
           "type": "scatter",
           "x": {
            "bdata": "AAECAwQFBgcICQoLDA0ODxAREhM=",
            "dtype": "i1"
           },
           "y": {
            "bdata": "wWwOWzUezL/Tieiv7trWPzfj0Tl0pfc/MDy/bKuV4L9Lcu75Ld/pv6F2l8lkDuC/kAbHYflK7T+AxSAYQgrVP/TavKvL8+C/A1zq0q9s4D86K6ADE9q4P1O8eMcj/+4/eEjIDDh35r+XkvGmavjUvxqljMtMGNm/EPR2po5q978jMGt2ovPSPxSBHSwhtdA/DTrIENnxdD+ETvSA8wbOvw==",
            "dtype": "f8"
           }
          }
         ],
         "name": "Sample 4"
        },
        {
         "data": [
          {
           "mode": "markers",
           "type": "scatter",
           "x": {
            "bdata": "AAECAwQFBgcICQoLDA0ODxAREhM=",
            "dtype": "i1"
           },
           "y": {
            "bdata": "BCaNylul9r90hh9c2uvavws0Ft4I79W/fDE0YUGs6b/Ac3WcAqXEvzMc/B/429k/GwJ+RNEt/j+RJ1zWkFjGP517TqK0e9A/YFWJNeMOs7/tciNySbP+vzhGxw90Jpu/rRjbe37Wrj+4CNpHuLQDQOSGYbpIn8i/cjBhOY1M0z8IMle3vcWhv88R8r3nsvK/XG9XkwBJ8j9WfwXd1Q/oPw==",
            "dtype": "f8"
           }
          }
         ],
         "name": "Sample 5"
        },
        {
         "data": [
          {
           "mode": "markers",
           "type": "scatter",
           "x": {
            "bdata": "AAECAwQFBgcICQoLDA0ODxAREhM=",
            "dtype": "i1"
           },
           "y": {
            "bdata": "0IPUOiJQ6T/8jTe4sxntvzTEh3LYcfY/GuRIYftt9r9LhymHiMfiP2mLYZkNhgFAafY9PHmy77+zLI5qHB/iv+ScDXrAgrk/b1yY+Xgc4L/agzh1hM/4v9YjgtZXjbE/rPfNLTL/8L8thU2gVk/eP4/jJV/sa+2/xu3HBIjM+D/fMGI1aRDpv8bT2eennNS/r71qQlUI6j8RWw7InrHzvw==",
            "dtype": "f8"
           }
          }
         ],
         "name": "Sample 6"
        },
        {
         "data": [
          {
           "mode": "markers",
           "type": "scatter",
           "x": {
            "bdata": "AAECAwQFBgcICQoLDA0ODxAREhM=",
            "dtype": "i1"
           },
           "y": {
            "bdata": "VTQjOmgdzT/Tik2FDur0P7jwFFdAuPm/cbUQEBWixz/Ow4Vx66HQPxSMMWaxBOk/2MMf1IzK878Gvg8dlyD1v3PsV8y+s+A/Ncm8AMwB0z/cggcqEwjQP20GYxw1LNY/AdZ0NMPC5b+dPtc4fbrNPyo+CwyzwdI/f8hIgffb5r/fO7FfNtr9P+BkxVBHU94/aYiBQZQP878M5qS2fALlPw==",
            "dtype": "f8"
           }
          }
         ],
         "name": "Sample 7"
        },
        {
         "data": [
          {
           "mode": "markers",
           "type": "scatter",
           "x": {
            "bdata": "AAECAwQFBgcICQoLDA0ODxAREhM=",
            "dtype": "i1"
           },
           "y": {
            "bdata": "U2I0nZcw779TSQgNzC/pPyEIkoSbifI/3Du3kAdD6r/tPhst+tPuP3e1ZrEAa9o/56rQG1FO6j/5fjyZQ1n+P92Zh7bgaM+/8kr3TZse6L+U+RH35nbsvwxYtSseG+q/vzZmCPC8s79JabMXb9XVP3p/jlNNtdE/chRNAUl46j/EwjZjvKCKPwoy0PKsQfc/auDaNiPw0L9MuFAN6MIFQA==",
            "dtype": "f8"
           }
          }
         ],
         "name": "Sample 8"
        },
        {
         "data": [
          {
           "mode": "markers",
           "type": "scatter",
           "x": {
            "bdata": "AAECAwQFBgcICQoLDA0ODxAREhM=",
            "dtype": "i1"
           },
           "y": {
            "bdata": "oWyah3cF5D9+eAqv1W3rv31ECyxgIvG/YkMs+9Pg3j8afmy1bZrMvw+CbpAX2eY/Le0xdoZJ3j+qgxBm6qSyv0P8sSPvGOu/+mSHcdA8+L8cYhNzs5PcvyiAvnGeZ+s/J6Gofmxnyz/e1B7Ji+7zv6YxaebKKsY/VQIhOgqp2D/B7dljj0jsv0waTqdDrcM/6KEifIjNrT/jtRc5m0nyvw==",
            "dtype": "f8"
           }
          }
         ],
         "name": "Sample 9"
        }
       ],
       "layout": {
        "sliders": [
         {
          "active": 0,
          "currentvalue": {
           "prefix": "Showing: "
          },
          "pad": {
           "t": 50
          },
          "steps": [
           {
            "args": [
             [
              "Sample 0"
             ],
             {
              "frame": {
               "duration": 0,
               "redraw": false
              },
              "mode": "immediate"
             }
            ],
            "label": "Sample 0",
            "method": "animate"
           },
           {
            "args": [
             [
              "Sample 1"
             ],
             {
              "frame": {
               "duration": 0,
               "redraw": false
              },
              "mode": "immediate"
             }
            ],
            "label": "Sample 1",
            "method": "animate"
           },
           {
            "args": [
             [
              "Sample 2"
             ],
             {
              "frame": {
               "duration": 0,
               "redraw": false
              },
              "mode": "immediate"
             }
            ],
            "label": "Sample 2",
            "method": "animate"
           },
           {
            "args": [
             [
              "Sample 3"
             ],
             {
              "frame": {
               "duration": 0,
               "redraw": false
              },
              "mode": "immediate"
             }
            ],
            "label": "Sample 3",
            "method": "animate"
           },
           {
            "args": [
             [
              "Sample 4"
             ],
             {
              "frame": {
               "duration": 0,
               "redraw": false
              },
              "mode": "immediate"
             }
            ],
            "label": "Sample 4",
            "method": "animate"
           },
           {
            "args": [
             [
              "Sample 5"
             ],
             {
              "frame": {
               "duration": 0,
               "redraw": false
              },
              "mode": "immediate"
             }
            ],
            "label": "Sample 5",
            "method": "animate"
           },
           {
            "args": [
             [
              "Sample 6"
             ],
             {
              "frame": {
               "duration": 0,
               "redraw": false
              },
              "mode": "immediate"
             }
            ],
            "label": "Sample 6",
            "method": "animate"
           },
           {
            "args": [
             [
              "Sample 7"
             ],
             {
              "frame": {
               "duration": 0,
               "redraw": false
              },
              "mode": "immediate"
             }
            ],
            "label": "Sample 7",
            "method": "animate"
           },
           {
            "args": [
             [
              "Sample 8"
             ],
             {
              "frame": {
               "duration": 0,
               "redraw": false
              },
              "mode": "immediate"
             }
            ],
            "label": "Sample 8",
            "method": "animate"
           },
           {
            "args": [
             [
              "Sample 9"
             ],
             {
              "frame": {
               "duration": 0,
               "redraw": false
              },
              "mode": "immediate"
             }
            ],
            "label": "Sample 9",
            "method": "animate"
           }
          ]
         }
        ],
        "template": {
         "data": {
          "bar": [
           {
            "error_x": {
             "color": "#2a3f5f"
            },
            "error_y": {
             "color": "#2a3f5f"
            },
            "marker": {
             "line": {
              "color": "#E5ECF6",
              "width": 0.5
             },
             "pattern": {
              "fillmode": "overlay",
              "size": 10,
              "solidity": 0.2
             }
            },
            "type": "bar"
           }
          ],
          "barpolar": [
           {
            "marker": {
             "line": {
              "color": "#E5ECF6",
              "width": 0.5
             },
             "pattern": {
              "fillmode": "overlay",
              "size": 10,
              "solidity": 0.2
             }
            },
            "type": "barpolar"
           }
          ],
          "carpet": [
           {
            "aaxis": {
             "endlinecolor": "#2a3f5f",
             "gridcolor": "white",
             "linecolor": "white",
             "minorgridcolor": "white",
             "startlinecolor": "#2a3f5f"
            },
            "baxis": {
             "endlinecolor": "#2a3f5f",
             "gridcolor": "white",
             "linecolor": "white",
             "minorgridcolor": "white",
             "startlinecolor": "#2a3f5f"
            },
            "type": "carpet"
           }
          ],
          "choropleth": [
           {
            "colorbar": {
             "outlinewidth": 0,
             "ticks": ""
            },
            "type": "choropleth"
           }
          ],
          "contour": [
           {
            "colorbar": {
             "outlinewidth": 0,
             "ticks": ""
            },
            "colorscale": [
             [
              0,
              "#0d0887"
             ],
             [
              0.1111111111111111,
              "#46039f"
             ],
             [
              0.2222222222222222,
              "#7201a8"
             ],
             [
              0.3333333333333333,
              "#9c179e"
             ],
             [
              0.4444444444444444,
              "#bd3786"
             ],
             [
              0.5555555555555556,
              "#d8576b"
             ],
             [
              0.6666666666666666,
              "#ed7953"
             ],
             [
              0.7777777777777778,
              "#fb9f3a"
             ],
             [
              0.8888888888888888,
              "#fdca26"
             ],
             [
              1,
              "#f0f921"
             ]
            ],
            "type": "contour"
           }
          ],
          "contourcarpet": [
           {
            "colorbar": {
             "outlinewidth": 0,
             "ticks": ""
            },
            "type": "contourcarpet"
           }
          ],
          "heatmap": [
           {
            "colorbar": {
             "outlinewidth": 0,
             "ticks": ""
            },
            "colorscale": [
             [
              0,
              "#0d0887"
             ],
             [
              0.1111111111111111,
              "#46039f"
             ],
             [
              0.2222222222222222,
              "#7201a8"
             ],
             [
              0.3333333333333333,
              "#9c179e"
             ],
             [
              0.4444444444444444,
              "#bd3786"
             ],
             [
              0.5555555555555556,
              "#d8576b"
             ],
             [
              0.6666666666666666,
              "#ed7953"
             ],
             [
              0.7777777777777778,
              "#fb9f3a"
             ],
             [
              0.8888888888888888,
              "#fdca26"
             ],
             [
              1,
              "#f0f921"
             ]
            ],
            "type": "heatmap"
           }
          ],
          "histogram": [
           {
            "marker": {
             "pattern": {
              "fillmode": "overlay",
              "size": 10,
              "solidity": 0.2
             }
            },
            "type": "histogram"
           }
          ],
          "histogram2d": [
           {
            "colorbar": {
             "outlinewidth": 0,
             "ticks": ""
            },
            "colorscale": [
             [
              0,
              "#0d0887"
             ],
             [
              0.1111111111111111,
              "#46039f"
             ],
             [
              0.2222222222222222,
              "#7201a8"
             ],
             [
              0.3333333333333333,
              "#9c179e"
             ],
             [
              0.4444444444444444,
              "#bd3786"
             ],
             [
              0.5555555555555556,
              "#d8576b"
             ],
             [
              0.6666666666666666,
              "#ed7953"
             ],
             [
              0.7777777777777778,
              "#fb9f3a"
             ],
             [
              0.8888888888888888,
              "#fdca26"
             ],
             [
              1,
              "#f0f921"
             ]
            ],
            "type": "histogram2d"
           }
          ],
          "histogram2dcontour": [
           {
            "colorbar": {
             "outlinewidth": 0,
             "ticks": ""
            },
            "colorscale": [
             [
              0,
              "#0d0887"
             ],
             [
              0.1111111111111111,
              "#46039f"
             ],
             [
              0.2222222222222222,
              "#7201a8"
             ],
             [
              0.3333333333333333,
              "#9c179e"
             ],
             [
              0.4444444444444444,
              "#bd3786"
             ],
             [
              0.5555555555555556,
              "#d8576b"
             ],
             [
              0.6666666666666666,
              "#ed7953"
             ],
             [
              0.7777777777777778,
              "#fb9f3a"
             ],
             [
              0.8888888888888888,
              "#fdca26"
             ],
             [
              1,
              "#f0f921"
             ]
            ],
            "type": "histogram2dcontour"
           }
          ],
          "mesh3d": [
           {
            "colorbar": {
             "outlinewidth": 0,
             "ticks": ""
            },
            "type": "mesh3d"
           }
          ],
          "parcoords": [
           {
            "line": {
             "colorbar": {
              "outlinewidth": 0,
              "ticks": ""
             }
            },
            "type": "parcoords"
           }
          ],
          "pie": [
           {
            "automargin": true,
            "type": "pie"
           }
          ],
          "scatter": [
           {
            "fillpattern": {
             "fillmode": "overlay",
             "size": 10,
             "solidity": 0.2
            },
            "type": "scatter"
           }
          ],
          "scatter3d": [
           {
            "line": {
             "colorbar": {
              "outlinewidth": 0,
              "ticks": ""
             }
            },
            "marker": {
             "colorbar": {
              "outlinewidth": 0,
              "ticks": ""
             }
            },
            "type": "scatter3d"
           }
          ],
          "scattercarpet": [
           {
            "marker": {
             "colorbar": {
              "outlinewidth": 0,
              "ticks": ""
             }
            },
            "type": "scattercarpet"
           }
          ],
          "scattergeo": [
           {
            "marker": {
             "colorbar": {
              "outlinewidth": 0,
              "ticks": ""
             }
            },
            "type": "scattergeo"
           }
          ],
          "scattergl": [
           {
            "marker": {
             "colorbar": {
              "outlinewidth": 0,
              "ticks": ""
             }
            },
            "type": "scattergl"
           }
          ],
          "scattermap": [
           {
            "marker": {
             "colorbar": {
              "outlinewidth": 0,
              "ticks": ""
             }
            },
            "type": "scattermap"
           }
          ],
          "scattermapbox": [
           {
            "marker": {
             "colorbar": {
              "outlinewidth": 0,
              "ticks": ""
             }
            },
            "type": "scattermapbox"
           }
          ],
          "scatterpolar": [
           {
            "marker": {
             "colorbar": {
              "outlinewidth": 0,
              "ticks": ""
             }
            },
            "type": "scatterpolar"
           }
          ],
          "scatterpolargl": [
           {
            "marker": {
             "colorbar": {
              "outlinewidth": 0,
              "ticks": ""
             }
            },
            "type": "scatterpolargl"
           }
          ],
          "scatterternary": [
           {
            "marker": {
             "colorbar": {
              "outlinewidth": 0,
              "ticks": ""
             }
            },
            "type": "scatterternary"
           }
          ],
          "surface": [
           {
            "colorbar": {
             "outlinewidth": 0,
             "ticks": ""
            },
            "colorscale": [
             [
              0,
              "#0d0887"
             ],
             [
              0.1111111111111111,
              "#46039f"
             ],
             [
              0.2222222222222222,
              "#7201a8"
             ],
             [
              0.3333333333333333,
              "#9c179e"
             ],
             [
              0.4444444444444444,
              "#bd3786"
             ],
             [
              0.5555555555555556,
              "#d8576b"
             ],
             [
              0.6666666666666666,
              "#ed7953"
             ],
             [
              0.7777777777777778,
              "#fb9f3a"
             ],
             [
              0.8888888888888888,
              "#fdca26"
             ],
             [
              1,
              "#f0f921"
             ]
            ],
            "type": "surface"
           }
          ],
          "table": [
           {
            "cells": {
             "fill": {
              "color": "#EBF0F8"
             },
             "line": {
              "color": "white"
             }
            },
            "header": {
             "fill": {
              "color": "#C8D4E3"
             },
             "line": {
              "color": "white"
             }
            },
            "type": "table"
           }
          ]
         },
         "layout": {
          "annotationdefaults": {
           "arrowcolor": "#2a3f5f",
           "arrowhead": 0,
           "arrowwidth": 1
          },
          "autotypenumbers": "strict",
          "coloraxis": {
           "colorbar": {
            "outlinewidth": 0,
            "ticks": ""
           }
          },
          "colorscale": {
           "diverging": [
            [
             0,
             "#8e0152"
            ],
            [
             0.1,
             "#c51b7d"
            ],
            [
             0.2,
             "#de77ae"
            ],
            [
             0.3,
             "#f1b6da"
            ],
            [
             0.4,
             "#fde0ef"
            ],
            [
             0.5,
             "#f7f7f7"
            ],
            [
             0.6,
             "#e6f5d0"
            ],
            [
             0.7,
             "#b8e186"
            ],
            [
             0.8,
             "#7fbc41"
            ],
            [
             0.9,
             "#4d9221"
            ],
            [
             1,
             "#276419"
            ]
           ],
           "sequential": [
            [
             0,
             "#0d0887"
            ],
            [
             0.1111111111111111,
             "#46039f"
            ],
            [
             0.2222222222222222,
             "#7201a8"
            ],
            [
             0.3333333333333333,
             "#9c179e"
            ],
            [
             0.4444444444444444,
             "#bd3786"
            ],
            [
             0.5555555555555556,
             "#d8576b"
            ],
            [
             0.6666666666666666,
             "#ed7953"
            ],
            [
             0.7777777777777778,
             "#fb9f3a"
            ],
            [
             0.8888888888888888,
             "#fdca26"
            ],
            [
             1,
             "#f0f921"
            ]
           ],
           "sequentialminus": [
            [
             0,
             "#0d0887"
            ],
            [
             0.1111111111111111,
             "#46039f"
            ],
            [
             0.2222222222222222,
             "#7201a8"
            ],
            [
             0.3333333333333333,
             "#9c179e"
            ],
            [
             0.4444444444444444,
             "#bd3786"
            ],
            [
             0.5555555555555556,
             "#d8576b"
            ],
            [
             0.6666666666666666,
             "#ed7953"
            ],
            [
             0.7777777777777778,
             "#fb9f3a"
            ],
            [
             0.8888888888888888,
             "#fdca26"
            ],
            [
             1,
             "#f0f921"
            ]
           ]
          },
          "colorway": [
           "#636efa",
           "#EF553B",
           "#00cc96",
           "#ab63fa",
           "#FFA15A",
           "#19d3f3",
           "#FF6692",
           "#B6E880",
           "#FF97FF",
           "#FECB52"
          ],
          "font": {
           "color": "#2a3f5f"
          },
          "geo": {
           "bgcolor": "white",
           "lakecolor": "white",
           "landcolor": "#E5ECF6",
           "showlakes": true,
           "showland": true,
           "subunitcolor": "white"
          },
          "hoverlabel": {
           "align": "left"
          },
          "hovermode": "closest",
          "mapbox": {
           "style": "light"
          },
          "paper_bgcolor": "white",
          "plot_bgcolor": "#E5ECF6",
          "polar": {
           "angularaxis": {
            "gridcolor": "white",
            "linecolor": "white",
            "ticks": ""
           },
           "bgcolor": "#E5ECF6",
           "radialaxis": {
            "gridcolor": "white",
            "linecolor": "white",
            "ticks": ""
           }
          },
          "scene": {
           "xaxis": {
            "backgroundcolor": "#E5ECF6",
            "gridcolor": "white",
            "gridwidth": 2,
            "linecolor": "white",
            "showbackground": true,
            "ticks": "",
            "zerolinecolor": "white"
           },
           "yaxis": {
            "backgroundcolor": "#E5ECF6",
            "gridcolor": "white",
            "gridwidth": 2,
            "linecolor": "white",
            "showbackground": true,
            "ticks": "",
            "zerolinecolor": "white"
           },
           "zaxis": {
            "backgroundcolor": "#E5ECF6",
            "gridcolor": "white",
            "gridwidth": 2,
            "linecolor": "white",
            "showbackground": true,
            "ticks": "",
            "zerolinecolor": "white"
           }
          },
          "shapedefaults": {
           "line": {
            "color": "#2a3f5f"
           }
          },
          "ternary": {
           "aaxis": {
            "gridcolor": "white",
            "linecolor": "white",
            "ticks": ""
           },
           "baxis": {
            "gridcolor": "white",
            "linecolor": "white",
            "ticks": ""
           },
           "bgcolor": "#E5ECF6",
           "caxis": {
            "gridcolor": "white",
            "linecolor": "white",
            "ticks": ""
           }
          },
          "title": {
           "x": 0.05
          },
          "xaxis": {
           "automargin": true,
           "gridcolor": "white",
           "linecolor": "white",
           "ticks": "",
           "title": {
            "standoff": 15
           },
           "zerolinecolor": "white",
           "zerolinewidth": 2
          },
          "yaxis": {
           "automargin": true,
           "gridcolor": "white",
           "linecolor": "white",
           "ticks": "",
           "title": {
            "standoff": 15
           },
           "zerolinecolor": "white",
           "zerolinewidth": 2
          }
         }
        },
        "title": {
         "text": "Sample 0"
        }
       }
      }
     },
     "metadata": {},
     "output_type": "display_data"
    }
   ],
   "source": [
    "import plotly.graph_objects as go\n",
    "import numpy as np\n",
    "\n",
    "# Generate 10 samples, each with 20 random y-values\n",
    "np.random.seed(42)\n",
    "num_points = 20\n",
    "samples = {f\"Sample {i}\": np.random.randn(num_points) for i in range(10)}\n",
    "x = np.arange(num_points)\n",
    "\n",
    "# Build the figure\n",
    "fig = go.Figure(\n",
    "    # start with sample 0 visible\n",
    "    data=[go.Scatter(x=x, y=samples[\"Sample 0\"], mode=\"markers\")],\n",
    "    layout=go.Layout(\n",
    "        title=\"Sample 0\",\n",
    "        sliders=[{\n",
    "            \"active\": 0,\n",
    "            \"pad\": {\"t\": 50},\n",
    "            \"currentvalue\": {\"prefix\": \"Showing: \"},\n",
    "            \"steps\": [\n",
    "                {\n",
    "                    \"label\": name,\n",
    "                    \"method\": \"animate\",\n",
    "                    \"args\": [\n",
    "                        [name],  # frame name to display\n",
    "                        {\"frame\": {\"duration\": 0, \"redraw\": True},\n",
    "                         \"mode\": \"immediate\"}\n",
    "                    ]\n",
    "                }\n",
    "                for name in samples.keys()\n",
    "            ]\n",
    "        }]\n",
    "    ),\n",
    "    frames=[\n",
    "        go.Frame(\n",
    "            data=[go.Scatter(x=x, y=y, mode=\"markers\")],\n",
    "            name=name\n",
    "        )\n",
    "        for name, y in samples.items()\n",
    "    ]\n",
    ")\n",
    "\n",
    "fig.show()\n"
   ]
  },
  {
   "cell_type": "code",
   "execution_count": null,
   "id": "8b67b68b",
   "metadata": {},
   "outputs": [],
   "source": []
  }
 ],
 "metadata": {
  "kernelspec": {
   "display_name": "g2m_upd",
   "language": "python",
   "name": "python3"
  },
  "language_info": {
   "codemirror_mode": {
    "name": "ipython",
    "version": 3
   },
   "file_extension": ".py",
   "mimetype": "text/x-python",
   "name": "python",
   "nbconvert_exporter": "python",
   "pygments_lexer": "ipython3",
   "version": "3.12.11"
  }
 },
 "nbformat": 4,
 "nbformat_minor": 5
}
