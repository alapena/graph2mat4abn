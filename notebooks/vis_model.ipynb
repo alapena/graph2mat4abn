{
 "cells": [
  {
   "cell_type": "code",
   "execution_count": null,
   "id": "464ce8e4",
   "metadata": {},
   "outputs": [],
   "source": [
    "import sys\n",
    "sys.path.insert(0, '/home/alapena/GitHub/graph2mat4abn')\n",
    "import os\n",
    "os.chdir('/home/ICN2/alapena/GitHub/graph2mat4abn') # Change to the root directory of the project\n",
    "\n",
    "from graph2mat4abn.tools.import_utils import load_config, get_object_from_module\n",
    "from graph2mat4abn.tools.tools import get_basis_from_structures_paths, get_kwargs, load_model\n",
    "from graph2mat4abn.tools.scripts_utils import get_model_dataset, init_mace_g2m_model\n",
    "from graph2mat4abn.tools.script_plots import update_loss_plots, plot_grad_norms\n",
    "from pathlib import Path\n",
    "from e3nn import o3\n",
    "from mace.modules import MACE, RealAgnosticResidualInteractionBlock\n",
    "from graph2mat.models import MatrixMACE\n",
    "from graph2mat.bindings.e3nn import E3nnGraph2Mat\n",
    "import torch\n",
    "import warnings\n",
    "from graph2mat import BasisTableWithEdges\n",
    "\n",
    "warnings.filterwarnings(\"ignore\", message=\"The TorchScript type system doesn't support\")\n",
    "warnings.filterwarnings(\"ignore\", message=\".*is not a known matrix type key.*\")"
   ]
  },
  {
   "cell_type": "code",
   "execution_count": null,
   "id": "bace8549",
   "metadata": {},
   "outputs": [],
   "source": [
    "# The current model:\n",
    "model_dir = Path(\"results/h_crystalls_13\")\n",
    "filename = \"train_best_model.tar\"\n",
    "config = load_config(model_dir / \"config.yaml\")\n",
    "\n",
    "# Basis generation (needed to initialize the model)\n",
    "train_paths, val_paths = get_model_dataset(model_dir, verbose=False)\n",
    "paths = train_paths + val_paths\n",
    "basis = get_basis_from_structures_paths(paths, verbose=True, num_unique_z=config[\"dataset\"].get(\"num_unique_z\", None))\n",
    "table = BasisTableWithEdges(basis)\n",
    "\n",
    "print(\"Initializing model...\")\n",
    "model, optimizer, lr_scheduler, loss_fn = init_mace_g2m_model(config, table)"
   ]
  },
  {
   "cell_type": "code",
   "execution_count": null,
   "id": "0091df55",
   "metadata": {},
   "outputs": [],
   "source": [
    "# Load the model\n",
    "model_path = model_dir / filename\n",
    "model, checkpoint, optimizer, lr_scheduler = load_model(model, optimizer, model_path, lr_scheduler=None, initial_lr=None, device='cpu')\n",
    "history = checkpoint[\"history\"]\n",
    "print(f\"Loaded model in epoch {checkpoint[\"epoch\"]} with training loss {checkpoint[\"train_loss\"]} and validation loss {checkpoint[\"val_loss\"]}.\")"
   ]
  },
  {
   "cell_type": "markdown",
   "id": "59777db6",
   "metadata": {},
   "source": [
    "# Plots"
   ]
  },
  {
   "cell_type": "markdown",
   "id": "e5da00a1",
   "metadata": {},
   "source": [
    "## Loss curves"
   ]
  },
  {
   "cell_type": "code",
   "execution_count": null,
   "id": "2d05ff22",
   "metadata": {},
   "outputs": [],
   "source": [
    "update_loss_plots(history)\n"
   ]
  },
  {
   "cell_type": "markdown",
   "id": "c482cf8b",
   "metadata": {},
   "source": [
    "## Gradients"
   ]
  },
  {
   "cell_type": "code",
   "execution_count": null,
   "id": "75a7d84b",
   "metadata": {},
   "outputs": [],
   "source": [
    "plot_grad_norms(history['grad_norms'])"
   ]
  },
  {
   "cell_type": "markdown",
   "id": "c820abf6",
   "metadata": {},
   "source": [
    "Good! It does not seem that there is any vanishing gradients problem. All the gradients remainet ~ctt during the training, and the model is still learning."
   ]
  },
  {
   "cell_type": "markdown",
   "id": "1f70916d",
   "metadata": {},
   "source": []
  }
 ],
 "metadata": {
  "kernelspec": {
   "display_name": "graph2mat_upt",
   "language": "python",
   "name": "python3"
  },
  "language_info": {
   "codemirror_mode": {
    "name": "ipython",
    "version": 3
   },
   "file_extension": ".py",
   "mimetype": "text/x-python",
   "name": "python",
   "nbconvert_exporter": "python",
   "pygments_lexer": "ipython3",
   "version": "3.12.11"
  }
 },
 "nbformat": 4,
 "nbformat_minor": 5
}
