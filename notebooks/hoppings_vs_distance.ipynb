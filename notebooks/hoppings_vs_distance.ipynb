{
 "cells": [
  {
   "cell_type": "code",
   "execution_count": 2,
   "id": "de1c5e32",
   "metadata": {},
   "outputs": [],
   "source": [
    "from graph2mat4abn.tools.import_utils import load_config, get_object_from_module\n",
    "from graph2mat4abn.tools.tools import get_basis_from_structures_paths, get_kwargs, load_model\n",
    "from graph2mat4abn.tools.scripts_utils import get_model_dataset, init_mace_g2m_model\n",
    "from graph2mat4abn.tools.script_plots import update_loss_plots, plot_grad_norms\n",
    "from torch_geometric.data import DataLoader\n",
    "from graph2mat4abn.tools.scripts_utils import generate_g2m_dataset_from_paths\n",
    "from graph2mat4abn.tools.notebook_utils import add_dotdot_to_str\n",
    "from pathlib import Path\n",
    "from mace.modules import MACE, RealAgnosticResidualInteractionBlock\n",
    "from graph2mat.models import MatrixMACE\n",
    "from graph2mat.bindings.e3nn import E3nnGraph2Mat\n",
    "import torch\n",
    "import warnings\n",
    "from graph2mat import BasisTableWithEdges\n",
    "\n",
    "warnings.filterwarnings(\"ignore\", message=\"The TorchScript type system doesn't support\")\n",
    "warnings.filterwarnings(\"ignore\", message=\".*is not a known matrix type key.*\")\n",
    "\n",
    "from joblib import dump, load\n",
    "from pathlib import Path\n",
    "import numpy as np\n",
    "import matplotlib.pyplot as plt\n",
    "import sisl"
   ]
  },
  {
   "cell_type": "code",
   "execution_count": 8,
   "id": "ea4ec37d",
   "metadata": {},
   "outputs": [],
   "source": [
    "# Load model, generate prediction and save it (so that we don't have to load the model again and again)\n",
    "\n",
    "model_dir = Path(\"../results/h_crystalls_8\")\n",
    "model_name = \"train_best_model.tar\"\n",
    "savedir = Path(\"./hoppings_vs_distance\")"
   ]
  },
  {
   "cell_type": "code",
   "execution_count": 5,
   "id": "07df2e31",
   "metadata": {},
   "outputs": [
    {
     "name": "stdout",
     "output_type": "stream",
     "text": [
      "============================================================\n",
      "Basis computation.\n",
      "Number of structures to look on: 582\n",
      "Looking for unique atoms in each structure...\n"
     ]
    },
    {
     "name": "stderr",
     "output_type": "stream",
     "text": [
      "1it [00:00, 72.23it/s]"
     ]
    },
    {
     "name": "stdout",
     "output_type": "stream",
     "text": [
      "Found enough basis points. Breaking the search...\n",
      "Found enough basis points. Breaking the search...\n",
      "Found the following atomic numbers: [5, 7]\n",
      "Corresponding path indices: [0, 0]\n",
      "Basis with 2 elements built!\n",
      "\n",
      "Basis for atom 0.\n",
      "\tAtom type: 5\n",
      "\tBasis: ((2, 0, 1), (2, 1, -1), (1, 2, 1))\n",
      "\tBasis convention: siesta_spherical\n",
      "\tR: [3.02420918 2.02341372 3.73961942 3.73961942 3.73961942 2.51253945\n",
      " 2.51253945 2.51253945 3.73961942 3.73961942 3.73961942 3.73961942\n",
      " 3.73961942]\n",
      "\n",
      "Basis for atom 1.\n",
      "\tAtom type: 7\n",
      "\tBasis: ((2, 0, 1), (2, 1, -1), (1, 2, 1))\n",
      "\tBasis convention: siesta_spherical\n",
      "\tR: [2.25704422 1.4271749  2.78012609 2.78012609 2.78012609 1.75309697\n",
      " 1.75309697 1.75309697 2.78012609 2.78012609 2.78012609 2.78012609\n",
      " 2.78012609]\n",
      "Initializing model...\n"
     ]
    },
    {
     "name": "stderr",
     "output_type": "stream",
     "text": [
      "\n",
      "/home/ICN2/alapena/miniconda3/envs/graph2mat_upt/lib/python3.12/site-packages/mace/modules/blocks.py:187: UserWarning: To copy construct from a tensor, it is recommended to use sourceTensor.clone().detach() or sourceTensor.clone().detach().requires_grad_(True), rather than torch.tensor(sourceTensor).\n",
      "  torch.tensor(atomic_energies, dtype=torch.get_default_dtype()),\n"
     ]
    },
    {
     "name": "stdout",
     "output_type": "stream",
     "text": [
      "Using Optimizer Adam (\n",
      "Parameter Group 0\n",
      "    amsgrad: False\n",
      "    betas: (0.9, 0.999)\n",
      "    capturable: False\n",
      "    differentiable: False\n",
      "    eps: 1e-08\n",
      "    foreach: None\n",
      "    fused: None\n",
      "    lr: 0.0001\n",
      "    maximize: False\n",
      "    weight_decay: 0\n",
      ")\n",
      "LR Scheduler:  ReduceLROnPlateau\n",
      "Arguments:  None\n",
      "Keyword arguments:  {'cooldown': 0, 'eps': 0.0, 'factor': 0.9, 'min_lr': 1e-09, 'mode': 'min', 'patience': 100}\n",
      "LOSS FN SELECTED:  block_type_mse\n",
      "Using Loss function <class 'graph2mat.core.data.metrics.block_type_mse'>\n",
      "Loaded model in epoch 110870 with training loss 350.75750732421875 and validation loss 39898.26953125.\n"
     ]
    }
   ],
   "source": [
    "config = load_config(model_dir / \"config.yaml\")\n",
    "\n",
    "# Basis generation (needed to initialize the model)\n",
    "train_paths, val_paths = get_model_dataset(model_dir, verbose=False)\n",
    "\n",
    "# We have to add \"../\" to the relative paths because we are in notebooks/\n",
    "train_paths = [Path(add_dotdot_to_str(p)) for p in train_paths]\n",
    "val_paths = [Path(add_dotdot_to_str(p)) for p in val_paths]\n",
    "\n",
    "paths = train_paths + val_paths\n",
    "basis = get_basis_from_structures_paths(paths, verbose=True, num_unique_z=config[\"dataset\"].get(\"num_unique_z\", None))\n",
    "table = BasisTableWithEdges(basis)\n",
    "\n",
    "print(\"Initializing model...\")\n",
    "model, optimizer, lr_scheduler, loss_fn = init_mace_g2m_model(config, table)\n",
    "\n",
    "# Load the model\n",
    "model_path = model_dir / model_name\n",
    "model, checkpoint, optimizer, lr_scheduler = load_model(model, optimizer, model_path, lr_scheduler=None, initial_lr=None, device='cpu')\n",
    "history = checkpoint[\"history\"]\n",
    "print(f\"Loaded model in epoch {checkpoint[\"epoch\"]} with training loss {checkpoint[\"train_loss\"]} and validation loss {checkpoint[\"val_loss\"]}.\")"
   ]
  },
  {
   "cell_type": "code",
   "execution_count": 22,
   "id": "4671fec6",
   "metadata": {},
   "outputs": [
    {
     "name": "stderr",
     "output_type": "stream",
     "text": [
      "1it [00:00, 14.75it/s]\n",
      "/home/ICN2/alapena/miniconda3/envs/graph2mat_upt/lib/python3.12/site-packages/torch_geometric/deprecation.py:26: UserWarning: 'data.DataLoader' is deprecated, use 'loader.DataLoader' instead\n",
      "  warnings.warn(out)\n"
     ]
    },
    {
     "name": "stdout",
     "output_type": "stream",
     "text": [
      "Keeping all the dataset in memory.\n"
     ]
    }
   ],
   "source": [
    "paths = [\n",
    "    Path('../dataset/SHARE_OUTPUTS_8_ATOMS/11ad-ba95-4a26-8f92-5267f5787553'), # Cubic. Train of val?\n",
    "]\n",
    "\n",
    "for i, path in enumerate(paths):\n",
    "    \n",
    "    # Inference\n",
    "    dataset, processor = generate_g2m_dataset_from_paths(config, basis, table, [path], verbose=False)\n",
    "    dataloader = DataLoader(dataset, 1)\n",
    "    model.eval()\n",
    "\n",
    "    data = next(iter(dataloader))\n",
    "\n",
    "    with torch.no_grad():\n",
    "        model_predictions = model(data=data)\n",
    "\n",
    "        h_pred = processor.matrix_from_data(data, predictions={\"node_labels\": model_predictions[\"node_labels\"], \"edge_labels\": model_predictions[\"edge_labels\"]})[0]\n",
    "        h_true = processor.matrix_from_data(data)[0]\n",
    "\n",
    "    # Save results\n",
    "    n_atoms = path.parent.name.split(\"_\")[-2]\n",
    "    savedir_result = savedir / f\"inference_{n_atoms}atm_{path.name}\"\n",
    "    savedir_result.mkdir(parents=True, exist_ok=True)\n",
    "\n",
    "    np.save(savedir_result / \"h_true.npy\", h_true)\n",
    "    np.save(savedir_result / \"h_pred.npy\", h_pred)"
   ]
  },
  {
   "cell_type": "code",
   "execution_count": null,
   "id": "1e5d9ed9",
   "metadata": {},
   "outputs": [],
   "source": [
    "# Load the inference\n",
    "name = \"8atm_11ad-ba95-4a26-8f92-5267f5787553\"\n",
    "\n",
    "loaddir = Path(f\"./hoppings_vs_distance/inference_{name}\")\n",
    "h_true = np.load(loaddir / \"h_true.npy\", allow_pickle=True)\n",
    "h_pred = np.load(loaddir / \"h_pred.npy\", allow_pickle=True)"
   ]
  },
  {
   "cell_type": "code",
   "execution_count": null,
   "id": "82a0e390",
   "metadata": {},
   "outputs": [],
   "source": [
    "# TODO: plot hoppings vs distance"
   ]
  }
 ],
 "metadata": {
  "kernelspec": {
   "display_name": "graph2mat_upt",
   "language": "python",
   "name": "python3"
  },
  "language_info": {
   "codemirror_mode": {
    "name": "ipython",
    "version": 3
   },
   "file_extension": ".py",
   "mimetype": "text/x-python",
   "name": "python",
   "nbconvert_exporter": "python",
   "pygments_lexer": "ipython3",
   "version": "3.12.11"
  }
 },
 "nbformat": 4,
 "nbformat_minor": 5
}
