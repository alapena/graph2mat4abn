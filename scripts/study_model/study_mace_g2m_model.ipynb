{
 "cells": [
  {
   "cell_type": "markdown",
   "id": "e22c0cf7",
   "metadata": {},
   "source": [
    "# Study of the model\n",
    "\n",
    "The model is currently overfitting. Let's load it and study how many parameters it has and other things."
   ]
  },
  {
   "cell_type": "code",
   "execution_count": 1,
   "id": "aa046bfc",
   "metadata": {},
   "outputs": [
    {
     "name": "stderr",
     "output_type": "stream",
     "text": [
      "/home/alapena/miniconda3/envs/g2m_upd/lib/python3.12/site-packages/e3nn/o3/_wigner.py:10: FutureWarning: You are using `torch.load` with `weights_only=False` (the current default value), which uses the default pickle module implicitly. It is possible to construct malicious pickle data which will execute arbitrary code during unpickling (See https://github.com/pytorch/pytorch/blob/main/SECURITY.md#untrusted-models for more details). In a future release, the default value for `weights_only` will be flipped to `True`. This limits the functions that could be executed during unpickling. Arbitrary objects will no longer be allowed to be loaded via this mode unless they are explicitly allowlisted by the user via `torch.serialization.add_safe_globals`. We recommend you start setting `weights_only=True` for any use case where you don't have full control of the loaded file. Please open an issue on GitHub for any issues related to this experimental feature.\n",
      "  _Jd, _W3j_flat, _W3j_indices = torch.load(os.path.join(os.path.dirname(__file__), 'constants.pt'))\n"
     ]
    }
   ],
   "source": [
    "import sys\n",
    "sys.path.insert(0, '/home/alapena/GitHub/graph2mat4abn')\n",
    "import os\n",
    "os.chdir('/home/alapena/GitHub/graph2mat4abn') # Change to the root directory of the project\n",
    "\n",
    "from graph2mat4abn.tools.import_utils import load_config, get_object_from_module\n",
    "from graph2mat4abn.tools.tools import get_basis_from_structures_paths, get_kwargs\n",
    "from graph2mat4abn.tools.scripts_utils import get_model_dataset\n",
    "from pathlib import Path\n",
    "from e3nn import o3\n",
    "from mace.modules import MACE, RealAgnosticResidualInteractionBlock\n",
    "from graph2mat.models import MatrixMACE\n",
    "from graph2mat.bindings.e3nn import E3nnGraph2Mat\n",
    "import torch\n",
    "import warnings\n",
    "from graph2mat import BasisTableWithEdges\n",
    "\n",
    "warnings.filterwarnings(\"ignore\", message=\"The TorchScript type system doesn't support\")\n",
    "warnings.filterwarnings(\"ignore\", message=\".*is not a known matrix type key.*\")"
   ]
  },
  {
   "cell_type": "code",
   "execution_count": 2,
   "id": "ead61fd5",
   "metadata": {},
   "outputs": [],
   "source": [
    "# load config file:\n",
    "model_dir = Path(\"results/h_crystalls_8\")\n",
    "config = load_config(model_dir / \"config.yaml\")\n"
   ]
  },
  {
   "cell_type": "code",
   "execution_count": 3,
   "id": "1c3067a6",
   "metadata": {},
   "outputs": [
    {
     "name": "stdout",
     "output_type": "stream",
     "text": [
      "============================================================\n",
      "Basis computation.\n",
      "Number of structures to look on: 582\n",
      "Looking for unique atoms in each structure...\n"
     ]
    },
    {
     "name": "stderr",
     "output_type": "stream",
     "text": [
      "1it [00:00, 56.82it/s]"
     ]
    },
    {
     "name": "stdout",
     "output_type": "stream",
     "text": [
      "Found enough basis points. Breaking the search...\n",
      "Found enough basis points. Breaking the search...\n",
      "Found the following atomic numbers: [5, 7]\n",
      "Corresponding path indices: [0, 0]\n",
      "Basis with 2 elements built!\n",
      "\n",
      "Basis for atom 0.\n",
      "\tAtom type: 5\n",
      "\tBasis: ((2, 0, 1), (2, 1, -1), (1, 2, 1))\n",
      "\tBasis convention: siesta_spherical\n",
      "\tR: [3.02420918 2.02341372 3.73961942 3.73961942 3.73961942 2.51253945\n",
      " 2.51253945 2.51253945 3.73961942 3.73961942 3.73961942 3.73961942\n",
      " 3.73961942]\n",
      "\n",
      "Basis for atom 1.\n",
      "\tAtom type: 7\n",
      "\tBasis: ((2, 0, 1), (2, 1, -1), (1, 2, 1))\n",
      "\tBasis convention: siesta_spherical\n",
      "\tR: [2.25704422 1.4271749  2.78012609 2.78012609 2.78012609 1.75309697\n",
      " 1.75309697 1.75309697 2.78012609 2.78012609 2.78012609 2.78012609\n",
      " 2.78012609]\n",
      "Initializing model...\n"
     ]
    },
    {
     "name": "stderr",
     "output_type": "stream",
     "text": [
      "\n",
      "/home/alapena/miniconda3/envs/g2m_upd/lib/python3.12/site-packages/mace/modules/blocks.py:187: UserWarning: To copy construct from a tensor, it is recommended to use sourceTensor.clone().detach() or sourceTensor.clone().detach().requires_grad_(True), rather than torch.tensor(sourceTensor).\n",
      "  torch.tensor(atomic_energies, dtype=torch.get_default_dtype()),\n"
     ]
    }
   ],
   "source": [
    "# Basis generation (needed to initialize the model)\n",
    "train_paths, val_paths = get_model_dataset(model_dir, verbose=False)\n",
    "paths = train_paths + val_paths\n",
    "basis = get_basis_from_structures_paths(paths, verbose=True, num_unique_z=config[\"dataset\"].get(\"num_unique_z\", None))\n",
    "table = BasisTableWithEdges(basis)\n",
    "\n",
    "print(\"Initializing model...\")\n",
    "# === Enviroment descriptor initialization ===\n",
    "env_config = config[\"environment_representation\"]\n",
    "\n",
    "num_interactions = env_config[\"num_interactions\"]\n",
    "hidden_irreps = o3.Irreps(env_config[\"hidden_irreps\"])\n",
    "\n",
    "# ! This operation is somehow time-consuming:\n",
    "mace_descriptor = MACE(\n",
    "    r_max=env_config[\"r_max\"],\n",
    "    num_bessel=env_config[\"num_bessel\"],\n",
    "    num_polynomial_cutoff=env_config[\"num_polynomial_cutoff\"],\n",
    "    max_ell=env_config[\"max_ell\"],\n",
    "    interaction_cls=RealAgnosticResidualInteractionBlock,\n",
    "    interaction_cls_first=RealAgnosticResidualInteractionBlock,\n",
    "    num_interactions=num_interactions,\n",
    "    num_elements=env_config[\"num_elements\"],\n",
    "    hidden_irreps=hidden_irreps,\n",
    "    MLP_irreps=o3.Irreps(env_config[\"MLP_irreps\"]),\n",
    "    atomic_energies=torch.tensor(env_config[\"atomic_energies\"]),\n",
    "    avg_num_neighbors=env_config[\"avg_num_neighbors\"],\n",
    "    atomic_numbers=env_config[\"atomic_numbers\"],\n",
    "    correlation=env_config[\"correlation\"],\n",
    "    gate=get_object_from_module(env_config[\"gate\"], \"torch.nn.functional\"),\n",
    ")\n",
    "\n",
    "\n",
    "\n",
    "# === Model initialization ===\n",
    "model_config = config[\"model\"]\n",
    "\n",
    "# === Glue between MACE and E3nnGraph2Mat init ===\n",
    "model = MatrixMACE(\n",
    "    mace = mace_descriptor,\n",
    "    readout_per_interaction=model_config.get(\"readout_per_interaction\", False),\n",
    "    graph2mat_cls = E3nnGraph2Mat,\n",
    "    \n",
    "    # Readout-specific arguments\n",
    "    unique_basis = table,\n",
    "    symmetric = True,\n",
    "\n",
    "    # Preprocessing\n",
    "    preprocessing_edges = get_object_from_module(\n",
    "        model_config[\"preprocessing_edges\"], \n",
    "        'graph2mat.bindings.e3nn.modules'\n",
    "    ),\n",
    "    preprocessing_edges_kwargs = get_kwargs(model_config[\"preprocessing_edges\"], config),\n",
    "\n",
    "    preprocessing_nodes = get_object_from_module(\n",
    "        model_config[\"preprocessing_nodes\"], \n",
    "        'graph2mat.bindings.e3nn.modules'\n",
    "    ),\n",
    "    preprocessing_nodes_kwargs = get_kwargs(model_config[\"preprocessing_nodes\"], config),\n",
    "\n",
    "    # Operations\n",
    "    node_operation = get_object_from_module(\n",
    "        model_config[\"node_operation\"], \n",
    "        'graph2mat.bindings.e3nn.modules'\n",
    "    ),\n",
    "    node_operation_kwargs = get_kwargs(model_config[\"node_operation\"], config),\n",
    "\n",
    "    edge_operation = get_object_from_module(\n",
    "        model_config[\"edge_operation\"], \n",
    "        'graph2mat.bindings.e3nn.modules'\n",
    "    ),\n",
    "    edge_operation_kwargs = get_kwargs(model_config[\"edge_operation\"], config),\n",
    ")"
   ]
  },
  {
   "cell_type": "markdown",
   "id": "2b7e1e10",
   "metadata": {},
   "source": [
    "Great! We already have our model initialized. Let's study it."
   ]
  },
  {
   "cell_type": "code",
   "execution_count": 4,
   "id": "f66cfe70",
   "metadata": {},
   "outputs": [
    {
     "name": "stdout",
     "output_type": "stream",
     "text": [
      "MatrixMACE(\n",
      "  (mace): MACE(\n",
      "    (node_embedding): LinearNodeEmbeddingBlock(\n",
      "      (linear): Linear(2x0e -> 10x0e | 20 weights)\n",
      "    )\n",
      "    (radial_embedding): RadialEmbeddingBlock(\n",
      "      (bessel_fn): BesselBasis(r_max=10.0, num_basis=15, trainable=False)\n",
      "      (cutoff_fn): PolynomialCutoff(p=8, r_max=10.0)\n",
      "    )\n",
      "    (spherical_harmonics): SphericalHarmonics()\n",
      "    (atomic_energies_fn): AtomicEnergiesBlock(energies=[[0.0000, 0.0000]])\n",
      "    (interactions): ModuleList(\n",
      "      (0): RealAgnosticResidualInteractionBlock(\n",
      "        (linear_up): Linear(10x0e -> 10x0e | 100 weights)\n",
      "        (conv_tp): TensorProduct(10x0e x 1x0e+1x1o+1x2e+1x3o -> 10x0e+10x1o+10x2e+10x3o | 40 paths | 40 weights)\n",
      "        (conv_tp_weights): FullyConnectedNet[15, 64, 64, 64, 40]\n",
      "        (linear): Linear(10x0e+10x1o+10x2e+10x3o -> 10x0e+10x1o+10x2e+10x3o | 400 weights)\n",
      "        (skip_tp): FullyConnectedTensorProduct(10x0e x 2x0e -> 10x0e+10x1o+10x2e+10x3o | 200 paths | 200 weights)\n",
      "        (reshape): reshape_irreps()\n",
      "      )\n",
      "      (1): RealAgnosticResidualInteractionBlock(\n",
      "        (linear_up): Linear(10x0e+10x1o+10x2e+10x3o -> 10x0e+10x1o+10x2e+10x3o | 400 weights)\n",
      "        (conv_tp): TensorProduct(10x0e+10x1o+10x2e+10x3o x 1x0e+1x1o+1x2e+1x3o -> 40x0e+60x1o+70x2e+60x3o | 230 paths | 230 weights)\n",
      "        (conv_tp_weights): FullyConnectedNet[15, 64, 64, 64, 230]\n",
      "        (linear): Linear(10x0e+10x0e+10x0e+10x0e+10x1o+10x1o+10x1o+10x1o+10x1o+10x1o+10x2e+10x2e+10x2e+10x2e+10x2e+10x2e+10x2e+10x3o+10x3o+10x3o+10x3o+10x3o+10x3o -> 10x0e+10x1o+10x2e+10x3o | 2300 weights)\n",
      "        (skip_tp): FullyConnectedTensorProduct(10x0e+10x1o+10x2e+10x3o x 2x0e -> 10x0e | 200 paths | 200 weights)\n",
      "        (reshape): reshape_irreps()\n",
      "      )\n",
      "    )\n",
      "    (products): ModuleList(\n",
      "      (0): EquivariantProductBasisBlock(\n",
      "        (symmetric_contractions): SymmetricContraction(\n",
      "          (contractions): ModuleList(\n",
      "            (0): Contraction(\n",
      "              (contractions_weighting): ModuleList(\n",
      "                (0-1): 2 x GraphModule()\n",
      "              )\n",
      "              (contractions_features): ModuleList(\n",
      "                (0-1): 2 x GraphModule()\n",
      "              )\n",
      "              (weights): ParameterList(\n",
      "                  (0): Parameter containing: [torch.float32 of size 2x4x10]\n",
      "                  (1): Parameter containing: [torch.float32 of size 2x1x10]\n",
      "              )\n",
      "              (graph_opt_main): GraphModule()\n",
      "            )\n",
      "            (1): Contraction(\n",
      "              (contractions_weighting): ModuleList(\n",
      "                (0-1): 2 x GraphModule()\n",
      "              )\n",
      "              (contractions_features): ModuleList(\n",
      "                (0-1): 2 x GraphModule()\n",
      "              )\n",
      "              (weights): ParameterList(\n",
      "                  (0): Parameter containing: [torch.float32 of size 2x6x10]\n",
      "                  (1): Parameter containing: [torch.float32 of size 2x1x10]\n",
      "              )\n",
      "              (graph_opt_main): GraphModule()\n",
      "            )\n",
      "            (2): Contraction(\n",
      "              (contractions_weighting): ModuleList(\n",
      "                (0-1): 2 x GraphModule()\n",
      "              )\n",
      "              (contractions_features): ModuleList(\n",
      "                (0-1): 2 x GraphModule()\n",
      "              )\n",
      "              (weights): ParameterList(\n",
      "                  (0): Parameter containing: [torch.float32 of size 2x7x10]\n",
      "                  (1): Parameter containing: [torch.float32 of size 2x1x10]\n",
      "              )\n",
      "              (graph_opt_main): GraphModule()\n",
      "            )\n",
      "            (3): Contraction(\n",
      "              (contractions_weighting): ModuleList(\n",
      "                (0-1): 2 x GraphModule()\n",
      "              )\n",
      "              (contractions_features): ModuleList(\n",
      "                (0-1): 2 x GraphModule()\n",
      "              )\n",
      "              (weights): ParameterList(\n",
      "                  (0): Parameter containing: [torch.float32 of size 2x6x10]\n",
      "                  (1): Parameter containing: [torch.float32 of size 2x1x10]\n",
      "              )\n",
      "              (graph_opt_main): GraphModule()\n",
      "            )\n",
      "          )\n",
      "        )\n",
      "        (linear): Linear(10x0e+10x1o+10x2e+10x3o -> 10x0e+10x1o+10x2e+10x3o | 400 weights)\n",
      "      )\n",
      "      (1): EquivariantProductBasisBlock(\n",
      "        (symmetric_contractions): SymmetricContraction(\n",
      "          (contractions): ModuleList(\n",
      "            (0): Contraction(\n",
      "              (contractions_weighting): ModuleList(\n",
      "                (0-1): 2 x GraphModule()\n",
      "              )\n",
      "              (contractions_features): ModuleList(\n",
      "                (0-1): 2 x GraphModule()\n",
      "              )\n",
      "              (weights): ParameterList(\n",
      "                  (0): Parameter containing: [torch.float32 of size 2x4x10]\n",
      "                  (1): Parameter containing: [torch.float32 of size 2x1x10]\n",
      "              )\n",
      "              (graph_opt_main): GraphModule()\n",
      "            )\n",
      "          )\n",
      "        )\n",
      "        (linear): Linear(10x0e -> 10x0e | 100 weights)\n",
      "      )\n",
      "    )\n",
      "    (readouts): ModuleList(\n",
      "      (0): LinearReadoutBlock(\n",
      "        (linear): Linear(10x0e+10x1o+10x2e+10x3o -> 1x0e | 10 weights)\n",
      "      )\n",
      "      (1): NonLinearReadoutBlock(\n",
      "        (linear_1): Linear(10x0e -> 20x0e | 200 weights)\n",
      "        (non_linearity): Activation [x] (20x0e -> 20x0e)\n",
      "        (linear_2): Linear(20x0e -> 1x0e | 20 weights)\n",
      "      )\n",
      "    )\n",
      "  )\n",
      "  (matrix_readouts): E3nnGraph2Mat(\n",
      "    (preprocessing_nodes): E3nnInteraction(\n",
      "      (linear_up): Linear(10x0e+10x1o+10x2e+10x3o+10x0e -> 10x0e+10x1o+10x2e+10x3o+10x0e | 700 weights)\n",
      "      (conv_tp): TensorProduct(10x0e+10x1o+10x2e+10x3o+10x0e x 1x0e+1x1o+1x2e+1x3o -> 50x0e+70x1o+80x2e+70x3o | 270 paths | 270 weights)\n",
      "      (conv_tp_weights): FullyConnectedNet[15, 64, 64, 64, 270]\n",
      "      (linear): Linear(50x0e+70x1o+80x2e+70x3o -> 10x0e+10x1o+10x2e+10x3o+10x0e | 3200 weights)\n",
      "    )\n",
      "    (preprocessing_edges): E3nnEdgeMessageBlock(\n",
      "      (linear_up): Linear(10x0e+10x1o+10x2e+10x3o+10x0e -> 10x0e+10x1o+10x2e+10x3o+10x0e | 700 weights)\n",
      "      (conv_tp): TensorProduct(10x0e+10x1o+10x2e+10x3o+10x0e x 1x0e+1x1o+1x2e+1x3o -> 50x0e+70x1o+80x2e+70x3o | 270 paths | 270 weights)\n",
      "      (conv_tp_weights): FullyConnectedNet[15, 64, 64, 64, 270]\n",
      "      (linear): Linear(50x0e+70x1o+80x2e+70x3o -> 10x0e+10x1o+10x2e+10x3o+10x0e | 3200 weights)\n",
      "    )\n",
      "    (self_interactions): ModuleList(\n",
      "      (0-1): 2 x E3nnIrrepsMatrixBlock(\n",
      "        (operation): E3nnSimpleNodeBlock(\n",
      "          (tsq): TensorSquare(10x0e+10x1o+10x2e+10x3o+10x0e -> 7x0e+6x1o+1x1e+2x2o+6x2e+2x3o+1x4e | 9360 paths | 9360 weights)\n",
      "        )\n",
      "      )\n",
      "    )\n",
      "    (interactions): ModuleDict(\n",
      "      ((0, 0, 0)): E3nnIrrepsMatrixBlock(\n",
      "        (operation): E3nnSimpleEdgeBlock(\n",
      "          (tensor_products): ModuleList(\n",
      "            (0-1): 2 x FullyConnectedTensorProduct(10x0e+10x1o+10x2e+10x3o+10x0e x 10x0e+10x1o+10x2e+10x3o+10x0e -> 9x0e+12x1o+5x1e+4x2o+9x2e+4x3o+1x3e+1x4e | 31100 paths | 31100 weights)\n",
      "          )\n",
      "        )\n",
      "      )\n",
      "      ((0, 1, 1)): E3nnIrrepsMatrixBlock(\n",
      "        (operation): E3nnSimpleEdgeBlock(\n",
      "          (tensor_products): ModuleList(\n",
      "            (0-1): 2 x FullyConnectedTensorProduct(10x0e+10x1o+10x2e+10x3o+10x0e x 10x0e+10x1o+10x2e+10x3o+10x0e -> 9x0e+12x1o+5x1e+4x2o+9x2e+4x3o+1x3e+1x4e | 31100 paths | 31100 weights)\n",
      "          )\n",
      "        )\n",
      "      )\n",
      "      ((1, 1, 2)): E3nnIrrepsMatrixBlock(\n",
      "        (operation): E3nnSimpleEdgeBlock(\n",
      "          (tensor_products): ModuleList(\n",
      "            (0-1): 2 x FullyConnectedTensorProduct(10x0e+10x1o+10x2e+10x3o+10x0e x 10x0e+10x1o+10x2e+10x3o+10x0e -> 9x0e+12x1o+5x1e+4x2o+9x2e+4x3o+1x3e+1x4e | 31100 paths | 31100 weights)\n",
      "          )\n",
      "        )\n",
      "      )\n",
      "    )\n",
      "  )\n",
      ")\n"
     ]
    }
   ],
   "source": [
    "print(model)"
   ]
  },
  {
   "cell_type": "markdown",
   "id": "03f15d19",
   "metadata": {},
   "source": [
    "Our model consists in two parts: \n",
    "\n",
    "1. The MACE atomic enviroment descriptor (with learnable layers)\n",
    "\n",
    "2. The Graph2Mat matrix readouts.\n",
    "\n",
    "Let's study each model separately."
   ]
  },
  {
   "cell_type": "code",
   "execution_count": 5,
   "id": "d3e7a6ac",
   "metadata": {},
   "outputs": [
    {
     "name": "stdout",
     "output_type": "stream",
     "text": [
      "+---------------------------------------------------------------------------+------------+\n",
      "|                                  Modules                                  | Parameters |\n",
      "+---------------------------------------------------------------------------+------------+\n",
      "|                     mace.node_embedding.linear.weight                     |     20     |\n",
      "|                    mace.interactions.0.linear_up.weight                   |    100     |\n",
      "|             mace.interactions.0.conv_tp_weights.layer0.weight             |    960     |\n",
      "|             mace.interactions.0.conv_tp_weights.layer1.weight             |    4096    |\n",
      "|             mace.interactions.0.conv_tp_weights.layer2.weight             |    4096    |\n",
      "|             mace.interactions.0.conv_tp_weights.layer3.weight             |    2560    |\n",
      "|                     mace.interactions.0.linear.weight                     |    400     |\n",
      "|                     mace.interactions.0.skip_tp.weight                    |    200     |\n",
      "|                    mace.interactions.1.linear_up.weight                   |    400     |\n",
      "|             mace.interactions.1.conv_tp_weights.layer0.weight             |    960     |\n",
      "|             mace.interactions.1.conv_tp_weights.layer1.weight             |    4096    |\n",
      "|             mace.interactions.1.conv_tp_weights.layer2.weight             |    4096    |\n",
      "|             mace.interactions.1.conv_tp_weights.layer3.weight             |   14720    |\n",
      "|                     mace.interactions.1.linear.weight                     |    2300    |\n",
      "|                     mace.interactions.1.skip_tp.weight                    |    200     |\n",
      "|     mace.products.0.symmetric_contractions.contractions.0.weights_max     |    460     |\n",
      "|      mace.products.0.symmetric_contractions.contractions.0.weights.0      |     80     |\n",
      "|      mace.products.0.symmetric_contractions.contractions.0.weights.1      |     20     |\n",
      "|     mace.products.0.symmetric_contractions.contractions.1.weights_max     |    1020    |\n",
      "|      mace.products.0.symmetric_contractions.contractions.1.weights.0      |    120     |\n",
      "|      mace.products.0.symmetric_contractions.contractions.1.weights.1      |     20     |\n",
      "|     mace.products.0.symmetric_contractions.contractions.2.weights_max     |    1300    |\n",
      "|      mace.products.0.symmetric_contractions.contractions.2.weights.0      |    140     |\n",
      "|      mace.products.0.symmetric_contractions.contractions.2.weights.1      |     20     |\n",
      "|     mace.products.0.symmetric_contractions.contractions.3.weights_max     |    1300    |\n",
      "|      mace.products.0.symmetric_contractions.contractions.3.weights.0      |    120     |\n",
      "|      mace.products.0.symmetric_contractions.contractions.3.weights.1      |     20     |\n",
      "|                       mace.products.0.linear.weight                       |    400     |\n",
      "|     mace.products.1.symmetric_contractions.contractions.0.weights_max     |    460     |\n",
      "|      mace.products.1.symmetric_contractions.contractions.0.weights.0      |     80     |\n",
      "|      mace.products.1.symmetric_contractions.contractions.0.weights.1      |     20     |\n",
      "|                       mace.products.1.linear.weight                       |    100     |\n",
      "|                       mace.readouts.0.linear.weight                       |     10     |\n",
      "|                      mace.readouts.1.linear_1.weight                      |    200     |\n",
      "|                      mace.readouts.1.linear_2.weight                      |     20     |\n",
      "|            matrix_readouts.preprocessing_nodes.linear_up.weight           |    700     |\n",
      "|     matrix_readouts.preprocessing_nodes.conv_tp_weights.layer0.weight     |    960     |\n",
      "|     matrix_readouts.preprocessing_nodes.conv_tp_weights.layer1.weight     |    4096    |\n",
      "|     matrix_readouts.preprocessing_nodes.conv_tp_weights.layer2.weight     |    4096    |\n",
      "|     matrix_readouts.preprocessing_nodes.conv_tp_weights.layer3.weight     |   17280    |\n",
      "|             matrix_readouts.preprocessing_nodes.linear.weight             |    3200    |\n",
      "|            matrix_readouts.preprocessing_edges.linear_up.weight           |    700     |\n",
      "|     matrix_readouts.preprocessing_edges.conv_tp_weights.layer0.weight     |    960     |\n",
      "|     matrix_readouts.preprocessing_edges.conv_tp_weights.layer1.weight     |    4096    |\n",
      "|     matrix_readouts.preprocessing_edges.conv_tp_weights.layer2.weight     |    4096    |\n",
      "|     matrix_readouts.preprocessing_edges.conv_tp_weights.layer3.weight     |   17280    |\n",
      "|             matrix_readouts.preprocessing_edges.linear.weight             |    3200    |\n",
      "|          matrix_readouts.self_interactions.0.operation.tsq.weight         |    9360    |\n",
      "|          matrix_readouts.self_interactions.1.operation.tsq.weight         |    9360    |\n",
      "| matrix_readouts.interactions.(0, 0, 0).operation.tensor_products.0.weight |   31100    |\n",
      "| matrix_readouts.interactions.(0, 0, 0).operation.tensor_products.1.weight |   31100    |\n",
      "| matrix_readouts.interactions.(0, 1, 1).operation.tensor_products.0.weight |   31100    |\n",
      "| matrix_readouts.interactions.(0, 1, 1).operation.tensor_products.1.weight |   31100    |\n",
      "| matrix_readouts.interactions.(1, 1, 2).operation.tensor_products.0.weight |   31100    |\n",
      "| matrix_readouts.interactions.(1, 1, 2).operation.tensor_products.1.weight |   31100    |\n",
      "+---------------------------------------------------------------------------+------------+\n",
      "Total Trainable Params: 311098\n"
     ]
    },
    {
     "data": {
      "text/plain": [
       "311098"
      ]
     },
     "execution_count": 5,
     "metadata": {},
     "output_type": "execute_result"
    }
   ],
   "source": [
    "from prettytable import PrettyTable\n",
    "\n",
    "def count_parameters(model):\n",
    "    table = PrettyTable([\"Modules\", \"Parameters\"])\n",
    "    total_params = 0\n",
    "    for name, parameter in model.named_parameters():\n",
    "        if not parameter.requires_grad:\n",
    "            continue\n",
    "        params = parameter.numel()\n",
    "        table.add_row([name, params])\n",
    "        total_params += params\n",
    "    print(table)\n",
    "    print(f\"Total Trainable Params: {total_params}\")\n",
    "    return total_params\n",
    "    \n",
    "count_parameters(model)"
   ]
  },
  {
   "cell_type": "code",
   "execution_count": 6,
   "id": "a9d2d949",
   "metadata": {},
   "outputs": [
    {
     "name": "stdout",
     "output_type": "stream",
     "text": [
      "+--------------------------------------------------------------+------------+\n",
      "|                           Modules                            | Parameters |\n",
      "+--------------------------------------------------------------+------------+\n",
      "|                 node_embedding.linear.weight                 |     20     |\n",
      "|               interactions.0.linear_up.weight                |    100     |\n",
      "|         interactions.0.conv_tp_weights.layer0.weight         |    960     |\n",
      "|         interactions.0.conv_tp_weights.layer1.weight         |    4096    |\n",
      "|         interactions.0.conv_tp_weights.layer2.weight         |    4096    |\n",
      "|         interactions.0.conv_tp_weights.layer3.weight         |    2560    |\n",
      "|                 interactions.0.linear.weight                 |    400     |\n",
      "|                interactions.0.skip_tp.weight                 |    200     |\n",
      "|               interactions.1.linear_up.weight                |    400     |\n",
      "|         interactions.1.conv_tp_weights.layer0.weight         |    960     |\n",
      "|         interactions.1.conv_tp_weights.layer1.weight         |    4096    |\n",
      "|         interactions.1.conv_tp_weights.layer2.weight         |    4096    |\n",
      "|         interactions.1.conv_tp_weights.layer3.weight         |   14720    |\n",
      "|                 interactions.1.linear.weight                 |    2300    |\n",
      "|                interactions.1.skip_tp.weight                 |    200     |\n",
      "| products.0.symmetric_contractions.contractions.0.weights_max |    460     |\n",
      "|  products.0.symmetric_contractions.contractions.0.weights.0  |     80     |\n",
      "|  products.0.symmetric_contractions.contractions.0.weights.1  |     20     |\n",
      "| products.0.symmetric_contractions.contractions.1.weights_max |    1020    |\n",
      "|  products.0.symmetric_contractions.contractions.1.weights.0  |    120     |\n",
      "|  products.0.symmetric_contractions.contractions.1.weights.1  |     20     |\n",
      "| products.0.symmetric_contractions.contractions.2.weights_max |    1300    |\n",
      "|  products.0.symmetric_contractions.contractions.2.weights.0  |    140     |\n",
      "|  products.0.symmetric_contractions.contractions.2.weights.1  |     20     |\n",
      "| products.0.symmetric_contractions.contractions.3.weights_max |    1300    |\n",
      "|  products.0.symmetric_contractions.contractions.3.weights.0  |    120     |\n",
      "|  products.0.symmetric_contractions.contractions.3.weights.1  |     20     |\n",
      "|                   products.0.linear.weight                   |    400     |\n",
      "| products.1.symmetric_contractions.contractions.0.weights_max |    460     |\n",
      "|  products.1.symmetric_contractions.contractions.0.weights.0  |     80     |\n",
      "|  products.1.symmetric_contractions.contractions.0.weights.1  |     20     |\n",
      "|                   products.1.linear.weight                   |    100     |\n",
      "|                   readouts.0.linear.weight                   |     10     |\n",
      "|                  readouts.1.linear_1.weight                  |    200     |\n",
      "|                  readouts.1.linear_2.weight                  |     20     |\n",
      "+--------------------------------------------------------------+------------+\n",
      "Total Trainable Params: 45114\n"
     ]
    },
    {
     "data": {
      "text/plain": [
       "45114"
      ]
     },
     "execution_count": 6,
     "metadata": {},
     "output_type": "execute_result"
    }
   ],
   "source": [
    "count_parameters(mace_descriptor)"
   ]
  },
  {
   "cell_type": "markdown",
   "id": "38377c36",
   "metadata": {},
   "source": [
    "So there is a total of 311098 parameters, which 45114 are from Mace and the rest (85%) are from the matrix readouts.\n",
    "\n",
    "As the readouts are basically MACE layers, we need first to understand what is MACE."
   ]
  },
  {
   "cell_type": "markdown",
   "id": "3ffaae1c",
   "metadata": {},
   "source": [
    "# What is the shape of the MACE descriptor?"
   ]
  },
  {
   "cell_type": "code",
   "execution_count": 86,
   "id": "01a23542",
   "metadata": {},
   "outputs": [
    {
     "name": "stdout",
     "output_type": "stream",
     "text": [
      "Generating dataset...\n",
      "Generating split 0...\n"
     ]
    },
    {
     "name": "stderr",
     "output_type": "stream",
     "text": [
      "10it [00:00, 27.91it/s]\n"
     ]
    },
    {
     "name": "stdout",
     "output_type": "stream",
     "text": [
      "Generating split 1...\n"
     ]
    },
    {
     "name": "stderr",
     "output_type": "stream",
     "text": [
      "2it [00:00, 24.58it/s]\n"
     ]
    },
    {
     "name": "stdout",
     "output_type": "stream",
     "text": [
      "Keeping all the dataset in memory.\n"
     ]
    },
    {
     "name": "stderr",
     "output_type": "stream",
     "text": [
      "/home/alapena/miniconda3/envs/g2m_upd/lib/python3.12/site-packages/torch_geometric/deprecation.py:26: UserWarning:\n",
      "\n",
      "'data.DataLoader' is deprecated, use 'loader.DataLoader' instead\n",
      "\n"
     ]
    },
    {
     "name": "stdout",
     "output_type": "stream",
     "text": [
      "tensor([[ 0.1141,  0.0440,  0.0510,  ..., -0.1767, -0.0942, -0.0275],\n",
      "        [-0.3939, -0.7888, -0.1775,  ..., -0.1010, -0.3878, -0.0420],\n",
      "        [ 0.1138,  0.0436,  0.0512,  ..., -0.1772, -0.0953, -0.0278],\n",
      "        ...,\n",
      "        [ 0.1133,  0.0427,  0.0513,  ..., -0.1769, -0.0956, -0.0279],\n",
      "        [-0.3940, -0.7887, -0.1775,  ..., -0.1009, -0.3878, -0.0420],\n",
      "        [ 0.1139,  0.0425,  0.0509,  ..., -0.1775, -0.0958, -0.0274]],\n",
      "       grad_fn=<CatBackward0>)\n"
     ]
    }
   ],
   "source": [
    "# Let's test the output of the mace model\n",
    "from graph2mat4abn.tools.scripts_utils import generate_g2m_dataset_from_paths\n",
    "from torch_geometric.data import DataLoader\n",
    "train_dataset, val_dataset, processor = generate_g2m_dataset_from_paths(config, basis, table, train_paths[:10], val_paths[:2], device='cpu', verbose=True)\n",
    "loader = DataLoader(train_dataset, batch_size=1)\n",
    "data = next(iter(loader))\n",
    "\n",
    "mace_output = mace_descriptor(data)\n",
    "print(mace_output[\"node_feats\"])"
   ]
  },
  {
   "cell_type": "code",
   "execution_count": 16,
   "id": "9d1a0683",
   "metadata": {},
   "outputs": [
    {
     "name": "stdout",
     "output_type": "stream",
     "text": [
      "torch.Size([8, 170])\n",
      "tensor(0.5288, grad_fn=<MaxBackward1>)\n",
      "tensor(-0.7914, grad_fn=<MinBackward1>)\n"
     ]
    }
   ],
   "source": [
    "print(mace_output[\"node_feats\"].shape)\n",
    "print(mace_output[\"node_feats\"].max())\n",
    "print(mace_output[\"node_feats\"].min())"
   ]
  },
  {
   "cell_type": "code",
   "execution_count": 38,
   "id": "d0962500",
   "metadata": {},
   "outputs": [
    {
     "data": {
      "image/png": "[encoded data removed]",
      "text/plain": [
       "<Figure size 640x480 with 1 Axes>"
      ]
     },
     "metadata": {},
     "output_type": "display_data"
    }
   ],
   "source": [
    "import matplotlib.pyplot as plt\n",
    "flatdata = mace_output[\"node_feats\"].flatten()\n",
    "# Convert to numpy for plotting\n",
    "x_np = flatdata.detach().numpy()\n",
    "\n",
    "def plot_histogram(x_np):\n",
    "    plt.hist(x_np, bins=100)\n",
    "    plt.xlabel(\"Value\")\n",
    "    plt.ylabel(\"Counts\")\n",
    "    plt.title(\"Distribution of Tensor Values\")\n",
    "    plt.show()\n",
    "\n",
    "plot_histogram(x_np)\n",
    "None"
   ]
  },
  {
   "cell_type": "markdown",
   "id": "54862b5b",
   "metadata": {},
   "source": [
    "Great news! The common values of the descriptor are in the range of (-1,1). This means that I do not need to normalize anything (or at least I don't expect it to be important). Although most of the valeus are around zero."
   ]
  },
  {
   "cell_type": "markdown",
   "id": "4f7ddba5",
   "metadata": {},
   "source": [
    "# And what is the shape of the whole model?"
   ]
  },
  {
   "cell_type": "code",
   "execution_count": 30,
   "id": "a0d3c53d",
   "metadata": {},
   "outputs": [],
   "source": [
    "y = model(data)"
   ]
  },
  {
   "cell_type": "code",
   "execution_count": 105,
   "id": "9b271c45",
   "metadata": {},
   "outputs": [
    {
     "name": "stdout",
     "output_type": "stream",
     "text": [
      "torch.Size([1352])\n",
      "torch.Size([76050])\n"
     ]
    },
    {
     "data": {
      "text/plain": [
       "TorchBasisMatrixDataBatch(\n",
       "  metadata={\n",
       "    device=[1],\n",
       "    atom_types=[8],\n",
       "    path=[1],\n",
       "    data_processor=[1],\n",
       "  },\n",
       "  edge_index=[2, 900],\n",
       "  num_nodes=8,\n",
       "  neigh_isc=[900],\n",
       "  n_edges=[1],\n",
       "  positions=[8, 3],\n",
       "  shifts=[900, 3],\n",
       "  cell=[3, 3],\n",
       "  nsc=[1, 3],\n",
       "  node_attrs=[8, 2],\n",
       "  point_labels=[1352],\n",
       "  edge_labels=[76050],\n",
       "  point_types=[8],\n",
       "  edge_types=[900],\n",
       "  batch=[8],\n",
       "  ptr=[2]\n",
       ")"
      ]
     },
     "execution_count": 105,
     "metadata": {},
     "output_type": "execute_result"
    }
   ],
   "source": [
    "print(data.point_labels.shape)\n",
    "print(data.edge_labels.shape)\n",
    "data"
   ]
  },
  {
   "cell_type": "code",
   "execution_count": 39,
   "id": "067f7f7f",
   "metadata": {},
   "outputs": [
    {
     "name": "stdout",
     "output_type": "stream",
     "text": [
      "tensor([-1.7957e-04,  5.0642e-06, -7.2421e-06,  ..., -8.3151e-05,\n",
      "         5.6578e-07, -3.4271e-04], grad_fn=<IndexBackward0>)\n",
      "tensor([-8.8787e+00, -7.2973e+00, -1.3642e-01,  ..., -1.0455e+00,\n",
      "        -5.5454e-03,  2.5290e+00])\n"
     ]
    },
    {
     "data": {
      "image/png": "[encoded data removed]",
      "text/plain": [
       "<Figure size 640x480 with 1 Axes>"
      ]
     },
     "metadata": {},
     "output_type": "display_data"
    }
   ],
   "source": [
    "print(y[\"node_labels\"])\n",
    "print(data.point_labels)\n",
    "plot_histogram(y[\"node_labels\"].flatten().detach().numpy())"
   ]
  },
  {
   "cell_type": "code",
   "execution_count": 44,
   "id": "7e8be7a4",
   "metadata": {},
   "outputs": [
    {
     "data": {
      "image/png": "[encoded data removed]",
      "text/plain": [
       "<Figure size 640x480 with 1 Axes>"
      ]
     },
     "metadata": {},
     "output_type": "display_data"
    }
   ],
   "source": [
    "# Let's try to normalize\n",
    "x = data.point_labels   \n",
    "x_min = x.min()\n",
    "x_max = x.max()\n",
    "x_norm = (x - x_min) / (x_max - x_min + 1e-8)\n",
    "plot_histogram(x_norm.flatten().detach().numpy())"
   ]
  },
  {
   "cell_type": "markdown",
   "id": "0f22fc19",
   "metadata": {},
   "source": [
    "I don't like it. Now there are even more zeroes and it is less homogeneous"
   ]
  },
  {
   "cell_type": "code",
   "execution_count": 45,
   "id": "35f0eab2",
   "metadata": {},
   "outputs": [
    {
     "data": {
      "image/png": "[encoded data removed]",
      "text/plain": [
       "<Figure size 640x480 with 1 Axes>"
      ]
     },
     "metadata": {},
     "output_type": "display_data"
    }
   ],
   "source": [
    "mean = x.mean()\n",
    "std = x.std()\n",
    "\n",
    "# Avoid division by zero\n",
    "x_standardized = (x - mean) / (std + 1e-8)\n",
    "plot_histogram(x_standardized.flatten().detach().numpy())"
   ]
  },
  {
   "cell_type": "markdown",
   "id": "aa9e902c",
   "metadata": {},
   "source": [
    "More or less the same result."
   ]
  },
  {
   "cell_type": "code",
   "execution_count": 46,
   "id": "bd868041",
   "metadata": {},
   "outputs": [
    {
     "data": {
      "image/png": "[encoded data removed]",
      "text/plain": [
       "<Figure size 640x480 with 1 Axes>"
      ]
     },
     "metadata": {},
     "output_type": "display_data"
    }
   ],
   "source": [
    "x = data.point_labels\n",
    "\n",
    "median = x.median()\n",
    "q1 = x.kthvalue(int(0.25 * x.numel()))[0]\n",
    "q3 = x.kthvalue(int(0.75 * x.numel()))[0]\n",
    "iqr = q3 - q1 + 1e-8  # avoid zero\n",
    "\n",
    "x_robust = (x - median) / iqr\n",
    "plot_histogram(x_robust.flatten().detach().numpy())"
   ]
  },
  {
   "cell_type": "code",
   "execution_count": 52,
   "id": "68e40383",
   "metadata": {},
   "outputs": [
    {
     "name": "stdout",
     "output_type": "stream",
     "text": [
      "tensor(1.1621)\n"
     ]
    },
    {
     "data": {
      "text/plain": [
       "torch.Size([1352])"
      ]
     },
     "execution_count": 52,
     "metadata": {},
     "output_type": "execute_result"
    }
   ],
   "source": [
    "# Mean\n",
    "print(x.abs().mean())\n",
    "x.shape"
   ]
  },
  {
   "cell_type": "code",
   "execution_count": 114,
   "id": "c9a9e7bb",
   "metadata": {},
   "outputs": [
    {
     "data": {
      "image/png": "[encoded data removed]",
      "text/plain": [
       "<Figure size 640x480 with 1 Axes>"
      ]
     },
     "metadata": {},
     "output_type": "display_data"
    }
   ],
   "source": [
    "x = data.point_labels\n",
    "nonzero_mask = x > 0.1\n",
    "mean_nonzero = x[nonzero_mask].mean()\n",
    "\n",
    "x_scaled = x / (mean_nonzero + 1e-8)\n",
    "plot_histogram(x.flatten().detach().numpy())"
   ]
  },
  {
   "cell_type": "code",
   "execution_count": 118,
   "id": "f4878fc7",
   "metadata": {},
   "outputs": [
    {
     "data": {
      "text/plain": [
       "tensor([2.1939e-09, 0.0000e+00, 5.4589e-10,  ..., 3.6036e-02, 5.7013e-02,\n",
       "        1.2233e-02])"
      ]
     },
     "execution_count": 118,
     "metadata": {},
     "output_type": "execute_result"
    }
   ],
   "source": [
    "data.edge_labels.abs()"
   ]
  }
 ],
 "metadata": {
  "kernelspec": {
   "display_name": "g2m_upd",
   "language": "python",
   "name": "python3"
  },
  "language_info": {
   "codemirror_mode": {
    "name": "ipython",
    "version": 3
   },
   "file_extension": ".py",
   "mimetype": "text/x-python",
   "name": "python",
   "nbconvert_exporter": "python",
   "pygments_lexer": "ipython3",
   "version": "3.12.11"
  }
 },
 "nbformat": 4,
 "nbformat_minor": 5
}
