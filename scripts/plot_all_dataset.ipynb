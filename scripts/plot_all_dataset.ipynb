{
 "cells": [
  {
   "cell_type": "markdown",
   "id": "5afbac98",
   "metadata": {},
   "source": [
    "# Execute always to load the data"
   ]
  },
  {
   "cell_type": "code",
   "execution_count": 22,
   "id": "d573ddf2",
   "metadata": {},
   "outputs": [],
   "source": [
    "from pathlib import Path\n",
    "import numpy as np\n",
    "import torch\n",
    "from tools.import_utils import load_config\n",
    "from tools.scripts_utils import generate_g2m_dataset_from_paths, get_model_dataset, init_mace_g2m_model\n",
    "from tools.tools import get_basis_from_structures_paths, load_model\n",
    "from torch_geometric.loader import DataLoader\n",
    "from tqdm import tqdm\n",
    "import warnings\n",
    "import sisl\n",
    "from tools.debug import create_sparse_matrix\n",
    "from joblib import dump, load\n",
    "\n",
    "from graph2mat import (\n",
    "    BasisTableWithEdges,\n",
    ")"
   ]
  },
  {
   "cell_type": "markdown",
   "id": "a00820bb",
   "metadata": {},
   "source": [
    "Load all data"
   ]
  },
  {
   "cell_type": "code",
   "execution_count": 25,
   "id": "252f7540",
   "metadata": {},
   "outputs": [
    {
     "name": "stdout",
     "output_type": "stream",
     "text": [
      "Loaded 582 training paths and 47 validation paths.\n",
      "Loading the results...\n",
      "Results loaded!\n"
     ]
    }
   ],
   "source": [
    "debug_mode = False\n",
    "# *********************************** #\n",
    "# * VARIABLES TO CHANGE BY THE USER * #\n",
    "# *********************************** #\n",
    "model_dir = Path(\"../results/h_crystalls_1\") # Results directory\n",
    "filename = \"train_best_model.tar\" # Model name (or relative path to the results directory)\n",
    "compute_calculations = False # Save or Load calculations.\n",
    "\n",
    "# *********************************** #\n",
    "\n",
    "# Hide some warnings\n",
    "warnings.filterwarnings(\"ignore\", message=\"The TorchScript type system doesn't support\")\n",
    "warnings.filterwarnings(\"ignore\", message=\".*is not a known matrix type key.*\")\n",
    "if debug_mode:\n",
    "    print(\"**************************************************\")\n",
    "    print(\"*                                                *\")\n",
    "    print(\"*              DEBUG MODE ACTIVATED              *\")\n",
    "    print(\"*                                                *\")\n",
    "    print(\"**************************************************\")\n",
    "\n",
    "savedir = model_dir / \"results\"\n",
    "savedir.mkdir(exist_ok=True, parents=True)\n",
    "calculations_path = savedir / \"alldataset/calculations_alldataset.joblib\"\n",
    "\n",
    "# Define orbital labels (for now we will assume that all atoms have the same orbitals). Use the same order as appearance in the hamiltonian.\n",
    "orbitals = {\n",
    "    0: \"s1\",\n",
    "    1: \"s2\",\n",
    "    2: \"py1\",\n",
    "    3: \"pz1\",\n",
    "    4: \"px1\",\n",
    "    5: \"py2\",\n",
    "    6: \"pz2\",\n",
    "    7: \"px2\",\n",
    "    8: \"Pdxy\",\n",
    "    9: \"Pdyz\",\n",
    "    10: \"Pdz2\",\n",
    "    11: \"Pdxz\",\n",
    "    12: \"Pdx2-y2\",\n",
    "}\n",
    "n_orbs = len(orbitals)\n",
    "\n",
    "# Load the config of the model\n",
    "config = load_config(model_dir / \"config.yaml\")\n",
    "device = torch.device(\"cpu\")\n",
    "\n",
    "# Load the same dataset used to train/validate the model (paths)\n",
    "train_paths, val_paths = get_model_dataset(model_dir, verbose=True)\n",
    "\n",
    "# Load the results\n",
    "print(\"Loading the results...\")\n",
    "try:\n",
    "    data = load(calculations_path)\n",
    "    print(\"Results loaded!\")\n",
    "except FileNotFoundError:\n",
    "    raise FileNotFoundError(f\"Could not find the saved calculations at {calculations_path}\")\n",
    "\n",
    "# Reconstruct your tuples and labels\n",
    "train_data   = (data['train_true'],   data['train_pred'])\n",
    "val_data     = (data['val_true'],     data['val_pred'])\n",
    "train_labels = data['train_labels']\n",
    "val_labels   = data['val_labels']\n",
    "\n",
    "\n",
    "# Unpack for clarity\n",
    "train_true, train_pred = train_data\n",
    "val_true,   val_pred   = val_data\n",
    "\n",
    "# Means\n",
    "train_means = (\n",
    "    np.array([m.mean() for m in train_true]),\n",
    "    np.array([m.mean() for m in train_pred])\n",
    ")\n",
    "val_means = (\n",
    "    np.array([m.mean() for m in val_true]),\n",
    "    np.array([m.mean() for m in val_pred])\n",
    ")\n",
    "\n",
    "# Standard deviations (ddof=1)\n",
    "train_stds = (\n",
    "    np.array([np.std(m.toarray(), ddof=0) for m in train_true]),\n",
    "    np.array([np.std(m.toarray(), ddof=0) for m in train_pred])\n",
    ")\n",
    "val_stds = (\n",
    "    np.array([np.std(m.toarray(), ddof=0) for m in val_true]),\n",
    "    np.array([np.std(m.toarray(), ddof=0) for m in val_pred])\n",
    ")\n",
    "\n",
    "# Max absolute error\n",
    "maxae_train = np.array([\n",
    "    np.max(np.abs(t - p))\n",
    "    for t, p in zip(train_true, train_pred)\n",
    "])\n",
    "maxae_val = np.array([\n",
    "    np.max(np.abs(t - p))\n",
    "    for t, p in zip(val_true, val_pred)\n",
    "])\n",
    "\n",
    "maxaes = ([maxae_train, maxae_val])\n",
    "labels = ([path.parts[-2][14:] +\"/\"+ path.parts[-1] for path in train_paths], [path.parts[-2][14:] +\"/\"+ path.parts[-1] for path in val_paths])\n",
    "\n",
    "colors = [\n",
    "    '#1f77b4',  # muted blue\n",
    "    '#ff7f0e',  # safety orange\n",
    "    '#2ca02c',  # cooked asparagus green\n",
    "    '#d62728',  # brick red\n",
    "    '#9467bd',  # muted purple\n",
    "    '#8c564b',  # chestnut brown\n",
    "    '#e377c2',  # raspberry yogurt pink\n",
    "    '#7f7f7f',  # medium gray\n",
    "    '#bcbd22',  # curry yellow-green\n",
    "    '#17becf',  # blue-teal\n",
    "    '#fdae61',  # sandy orange\n",
    "    '#66c2a5',  # seafoam green\n",
    "    '#fc8d62',  # coral\n",
    "    '#a6d854',  # light lime\n",
    "    '#ffd92f',  # sunflower\n",
    "    '#e5c494',  # beige\n",
    "    '#b3b3b3'   # soft gray\n",
    "]"
   ]
  },
  {
   "cell_type": "markdown",
   "id": "430d3e40",
   "metadata": {},
   "source": [
    "# Blablabla"
   ]
  },
  {
   "cell_type": "code",
   "execution_count": null,
   "id": "21eca0a8",
   "metadata": {},
   "outputs": [],
   "source": [
    "import plotly.graph_objects as go\n",
    "\n",
    "def plot_dataset_results(\n",
    "        train_data, val_data,\n",
    "        colors, title,\n",
    "        train_labels, val_labels,\n",
    "        train_means, val_means,\n",
    "        train_stds, val_stds,\n",
    "        maxaes, maxaes_labels,\n",
    "        filepath\n",
    "):\n",
    "    fig = go.Figure()\n",
    "    n_train_samples = len(train_data[0])\n",
    "    n_val_samples = len(val_data[0])\n",
    "\n",
    "    train_data = [[train_data[k][i].data for i in range(n_train_samples)] for k in range(len(train_data))]\n",
    "    val_data = [[val_data[k][i].data for i in range(n_val_samples)] for k in range(len(val_data))]\n",
    "    \n",
    "\n",
    "    # ====== TRAINING DATA ======\n",
    "    matrix_traces = []\n",
    "    mean_traces = []\n",
    "    std_traces = []\n",
    "    for i in range(n_train_samples):\n",
    "        # Training matrix elements\n",
    "        # print(\"It\", i)\n",
    "        # print(\"True=\",train_data[0][i])\n",
    "        # print(\"Pred=\",train_data[1][i])\n",
    "        trace = go.Scatter(\n",
    "            x=train_data[0][i],\n",
    "            y=train_data[1][i],\n",
    "            mode='markers',\n",
    "            marker=dict(\n",
    "                # symbol='dash',\n",
    "                size=5,\n",
    "                color=colors[i % len(colors)],\n",
    "                line=dict(width=0)\n",
    "            ),\n",
    "            name=f'Training sample {i}',\n",
    "            text=train_labels[i],\n",
    "            # hovertemplate='True: %{x:.2f}<br>Pred: %{y:.2f}<br>%{text}',\n",
    "            legendgroup='training',\n",
    "            # legendgrouptitle=\"Training samples\",\n",
    "            showlegend=True\n",
    "        )\n",
    "        matrix_traces.append(trace)\n",
    "\n",
    "        # Training means\n",
    "        trace = go.Scatter(\n",
    "            x=[train_means[0][i]],\n",
    "            y=[train_means[1][i]],\n",
    "            mode='markers',\n",
    "            marker=dict(\n",
    "                symbol='square',\n",
    "                size=5,\n",
    "                color=colors[i % len(colors)],\n",
    "                line=dict(width=0)\n",
    "            ),\n",
    "            name=f'Mean training {i}',\n",
    "            text=maxaes_labels[0][i],\n",
    "            # hovertemplate='True: %{x:.2f}<br>Pred: %{y:.2f}<br>%{text}',\n",
    "            legendgroup='training_mean',\n",
    "            visible=False,\n",
    "            showlegend=True,\n",
    "        )\n",
    "        mean_traces.append(trace)\n",
    "\n",
    "        # Training std\n",
    "        trace = go.Scatter(\n",
    "            x=[train_stds[0][i]],\n",
    "            y=[train_stds[1][i]],\n",
    "            mode='markers',\n",
    "            marker=dict(\n",
    "                symbol='triangle-up',\n",
    "                size=5,\n",
    "                color=colors[i % len(colors)],\n",
    "                line=dict(width=0)\n",
    "            ),\n",
    "            name=f'Std training {i}',\n",
    "            text=maxaes_labels[0][i],\n",
    "            # hovertemplate='True: %{x:.2f}<br>Pred: %{y:.2f}<br>%{text}',\n",
    "            legendgroup='training_std',\n",
    "            visible=False,\n",
    "            showlegend=True,\n",
    "        )\n",
    "        std_traces.append(trace)\n",
    "\n",
    "    # === Validation ===\n",
    "    for i in range(n_val_samples):\n",
    "        trace = go.Scatter(\n",
    "            x=val_data[0][i],\n",
    "            y=val_data[1][i],\n",
    "            mode='markers',\n",
    "            marker=dict(\n",
    "                symbol='circle-open',\n",
    "                size=5,\n",
    "                color=colors[i % len(colors)],\n",
    "                line=dict(width=1,)\n",
    "            ),\n",
    "            name=f'Validation sample {i}',\n",
    "            text=val_labels[i],\n",
    "            # hovertemplate='True: %{x:.2f}<br>Pred: %{y:.2f}<br>%{text}',\n",
    "            legendgroup='validation',\n",
    "            # legendgrouptitle=\"Validation samples\",\n",
    "            showlegend=True\n",
    "        )\n",
    "        matrix_traces.append(trace)\n",
    "\n",
    "        # Val means\n",
    "        trace = go.Scatter(\n",
    "            x=[val_means[0][i]],\n",
    "            y=[val_means[1][i]],\n",
    "            mode='markers',\n",
    "            marker=dict(\n",
    "                symbol='square-open',\n",
    "                size=5,\n",
    "                color=colors[i % len(colors)],\n",
    "                line=dict(width=1,)\n",
    "            ),\n",
    "            name=f'Mean val {i}',\n",
    "            text=maxaes_labels[1][i],\n",
    "            # hovertemplate='True: %{x:.2f}<br>Pred: %{y:.2f}<br>%{text}',\n",
    "            legendgroup='val_mean',\n",
    "            visible=False,\n",
    "            showlegend=True,\n",
    "        )\n",
    "        mean_traces.append(trace)\n",
    "\n",
    "        # Validation std\n",
    "        trace = go.Scatter(\n",
    "            x=[val_stds[0][i]],\n",
    "            y=[val_stds[1][i]],\n",
    "            mode='markers',\n",
    "            marker=dict(\n",
    "                symbol='triangle-up-open',\n",
    "                size=5,\n",
    "                color=colors[i % len(colors)],\n",
    "                line=dict(width=0)\n",
    "            ),\n",
    "            name=f'Std validation {i}',\n",
    "            text=maxaes_labels[1][i],\n",
    "            # hovertemplate='True: %{x:.2f}<br>Pred: %{y:.2f}<br>%{text}',\n",
    "            legendgroup='val_std',\n",
    "            visible=False,\n",
    "            showlegend=True,\n",
    "        )\n",
    "        std_traces.append(trace)\n",
    "        \n",
    "\n",
    "\n",
    "    # Add identity line\n",
    "    train_flattened_data = ([np.min(train_data[0][i]) for i in range(n_train_samples)], [np.max(train_data[0][i]) for i in range(n_val_samples)]) # [min, max]\n",
    "    # print((train_flattened_data[0]))\n",
    "    train_flattened_data = [train_flattened_data[k] for k in range(len(train_flattened_data))]\n",
    "    # print(len(train_flattened_data))\n",
    "\n",
    "    min, max = np.min(train_flattened_data[0]), np.max(train_flattened_data[1])\n",
    "    diagonal_trace = go.Scatter(\n",
    "        x=[min, max],\n",
    "        y=[min, max],\n",
    "        mode='lines',\n",
    "        line=dict(color='black', dash='solid'),\n",
    "        name='Ideal'\n",
    "    )\n",
    "\n",
    "\n",
    "    # Last dropdown: Max Absolute error\n",
    "    error_trace_train = go.Scatter(\n",
    "        x=maxaes[0],\n",
    "        y=maxaes_labels[0],\n",
    "        mode='markers',\n",
    "        marker=dict(\n",
    "            symbol='x',\n",
    "            size=6,\n",
    "            color=\"blue\"\n",
    "        ),\n",
    "        name='Training',\n",
    "        showlegend=False  # optional: hide legend for this simple plot\n",
    "    )\n",
    "    # Last dropdown: Max Absolute error\n",
    "    error_trace_val = go.Scatter(\n",
    "        x=maxaes[1],\n",
    "        y=maxaes_labels[1],\n",
    "        mode='markers',\n",
    "        marker=dict(\n",
    "            symbol='x',\n",
    "            size=6,\n",
    "            color=\"red\"\n",
    "        ),\n",
    "        name='Validation',\n",
    "        showlegend=False  # optional: hide legend for this simple plot\n",
    "    )\n",
    "    # zero_line_trace = go.Scatter(\n",
    "    #     x=[0, 0],\n",
    "    #     y=[maxaes_labels[1][-1], maxaes_labels[0][-1]],  # or your preferred Y range\n",
    "    #     mode='lines',\n",
    "    #     line=dict(color='black', dash='dash'),\n",
    "    #     name='zero',\n",
    "    #     showlegend=False\n",
    "    # )\n",
    "\n",
    "\n",
    "\n",
    "\n",
    "\n",
    "\n",
    "    # Create figure and update layout\n",
    "    traces = matrix_traces + mean_traces + std_traces + [error_trace_train] + [error_trace_val] + [diagonal_trace]\n",
    "    fig = go.Figure(data=traces)\n",
    "    fig.update_layout(\n",
    "        width=1000,\n",
    "        height=1000,\n",
    "        title=title,\n",
    "        # xaxis_title='True Values',\n",
    "        # yaxis_title='Predicted Values',\n",
    "        legend_title='Legend',\n",
    "        # hovermode='closest',\n",
    "        # template='plotly_white',\n",
    "        xaxis=dict(\n",
    "            title='True Values',\n",
    "            tickformat=\".2f\"\n",
    "        ),\n",
    "        yaxis=dict(\n",
    "            title='Predicted Values',\n",
    "            tickformat=\".2f\"\n",
    "        )\n",
    "    )\n",
    "\n",
    "    # Add dropdown\n",
    "    data_true = np.concatenate(train_data[0] + val_data[0], axis=0)\n",
    "    data_pred = np.concatenate(train_data[1] + val_data[1], axis=0)\n",
    "    min_x_data = data_true.min()\n",
    "    max_x_data = data_true.max()\n",
    "    min_y_data = data_pred.min()\n",
    "    max_y_data = data_pred.max()\n",
    "\n",
    "    min_x_mean = np.min([train_means[0].min(), val_means[0].min()])\n",
    "    max_x_mean = np.max([train_means[0].max(), val_means[0].max()])\n",
    "    min_y_mean = np.min([train_means[1].min(), val_means[1].min()])\n",
    "    max_y_mean = np.max([train_means[1].max(), val_means[1].max()])\n",
    "\n",
    "    min_x_std = np.min([train_stds[0].min(), val_stds[0].min()])\n",
    "    max_x_std = np.max([train_stds[0].max(), val_stds[0].max()])\n",
    "    min_y_std = np.min([train_stds[1].min(), val_stds[1].min()])\n",
    "    max_y_std = np.max([train_stds[1].max(), val_stds[1].max()])\n",
    "\n",
    "    fig.update_layout(\n",
    "        updatemenus=[\n",
    "            dict(\n",
    "                buttons=[\n",
    "                    dict(\n",
    "                        label=\"SISL Hamiltonian elements\",\n",
    "                        method=\"update\",\n",
    "                        args=[{\"visible\": [True]*len(matrix_traces) + [False]*len(mean_traces) + [False]*len(std_traces) + [False]*2 + [True]},\n",
    "                            {\n",
    "                                \"xaxis\": {\"range\": [min_x_data-0.05*min_x_data, max_x_data+0.05*max_x_data]},\n",
    "                                \"yaxis\": {\"range\": [min_y_data-0.05*min_y_data, max_y_data+0.05*max_y_data]},\n",
    "                            }]\n",
    "                    ),\n",
    "                    dict(\n",
    "                        label=\"Mean\",\n",
    "                        method=\"update\",\n",
    "                        args=[\n",
    "                            {\"visible\": [False]*len(matrix_traces) + [True]*len(mean_traces) + [False]*len(std_traces) + [False]*2 + [True]},\n",
    "                            {\n",
    "                                \"xaxis\": {\"range\": [min_x_mean-0.0005*min_x_mean, max_x_mean+0.0005*max_x_mean]},\n",
    "                                \"yaxis\": {\"range\": [min_y_mean-0.0005*min_y_mean, max_y_mean+0.0005*max_y_mean]},\n",
    "                            }\n",
    "\n",
    "                        ]\n",
    "                    ),\n",
    "                    dict(\n",
    "                        label=\"Std\",\n",
    "                        method=\"update\",\n",
    "                        args=[\n",
    "                            {\"visible\": [False]*len(matrix_traces) + [False]*len(mean_traces) + [True]*len(std_traces) + [False]*2 + [True]},\n",
    "                            {\n",
    "                                \"xaxis\": {\"range\": [min_x_std-0.0005*min_x_std, max_x_std+0.0005*max_x_std]},\n",
    "                                \"yaxis\": {\"range\": [min_y_std-0.0005*min_y_std, max_y_std+0.0005*max_y_std]},\n",
    "                            }\n",
    "\n",
    "                        ]\n",
    "                    ),\n",
    "                    dict(\n",
    "                        label=\"Max Absolute Error\",\n",
    "                        method=\"update\",\n",
    "                        args=[\n",
    "                            {\"visible\": [False]*len(matrix_traces) + [False]*len(mean_traces) + [False]*len(std_traces) + [True]*2 + [False]},\n",
    "                            {\"xaxis\": {\"title\": \"Max Absolute Error\"},\n",
    "                            \"yaxis\": {\n",
    "                                \"title\": \"Structures\",\n",
    "                                \"type\": \"category\",\n",
    "                                #  \"categoryorder\": \"array\",\n",
    "                                \"categoryarray\": maxaes_labels,\n",
    "                                \"autorange\": \"reversed\"\n",
    "                            },\n",
    "                            \"showlegend\": [False]*len(matrix_traces + mean_traces + std_traces) + [False]*2 + [False]}\n",
    "                        ]\n",
    "                    )\n",
    "\n",
    "\n",
    "                ],\n",
    "                direction=\"down\",\n",
    "                pad={\"r\": 10, \"t\": 10},\n",
    "                showactive=True,\n",
    "                x=0.3,\n",
    "                xanchor=\"left\",\n",
    "                y=1.1,\n",
    "                yanchor=\"top\"\n",
    "            ),\n",
    "        ]\n",
    "    )\n",
    "\n",
    "    # Save to HTML if path is provided\n",
    "    if filepath:\n",
    "        f = open(filepath, \"w\")\n",
    "        f.close()\n",
    "        with open(filepath, 'a') as f:\n",
    "            f.write(fig.to_html(full_html=False, include_plotlyjs='cdn'))\n",
    "        f.close()\n",
    "        \n",
    "        with open(f\"{str(filepath)[:-4]}.json\", \"w\") as f:\n",
    "            f.write(fig.to_json())\n",
    "\n",
    "    else:\n",
    "        fig.show()\n",
    "\n",
    "    \n",
    "    return fig"
   ]
  },
  {
   "cell_type": "code",
   "execution_count": null,
   "id": "0ff5a7e5",
   "metadata": {},
   "outputs": [],
   "source": [
    "filepath= savedir / \"dataset_analysis.html\"\n",
    "title = f\"Dataset analysis. Used model {model_dir.parts[-1]}\"\n",
    "print(\"Generating results...\")\n",
    "plot_dataset_results(\n",
    "    train_data=train_data, val_data=val_data,\n",
    "    colors=colors, title=title,\n",
    "    train_labels=train_labels, val_labels=val_labels,\n",
    "    train_means=train_means, val_means=val_means,\n",
    "    train_stds=train_stds, val_stds=val_stds,\n",
    "    maxaes=values, maxaes_labels=labels,\n",
    "    filepath=None\n",
    ")\n",
    "print(f\"Results saved at {filepath}!\")"
   ]
  },
  {
   "cell_type": "markdown",
   "id": "fb431695",
   "metadata": {},
   "source": [
    "# Loading the json"
   ]
  },
  {
   "cell_type": "code",
   "execution_count": null,
   "id": "dc0b0159",
   "metadata": {},
   "outputs": [],
   "source": [
    "import plotly.io as pio\n",
    "fig = pio.read_json(savedir / \"dataset_analysis..json\")\n",
    "fig.show()"
   ]
  },
  {
   "cell_type": "markdown",
   "id": "34688dc9",
   "metadata": {},
   "source": [
    "# Testing to plot only matrix elements"
   ]
  },
  {
   "cell_type": "code",
   "execution_count": 68,
   "id": "92d5b136",
   "metadata": {},
   "outputs": [],
   "source": [
    "import plotly.graph_objects as go\n",
    "    \n",
    "def plot_diagonal(\n",
    "    true_values, pred_values, labels, # 1D array of elements.\n",
    "    title=\"Default title\", title_x=\"X axis\", title_y=\"Y axis\", colors=None,\n",
    "    filepath=None\n",
    "):\n",
    "    # Define default values\n",
    "    # if colors is None:\n",
    "    #     colors = [\n",
    "    #         '#1f77b4',  # muted blue\n",
    "    #         '#ff7f0e',  # safety orange\n",
    "    #         '#2ca02c',  # cooked asparagus green\n",
    "    #         '#d62728',  # brick red\n",
    "    #         '#9467bd',  # muted purple\n",
    "    #         '#8c564b',  # chestnut brown\n",
    "    #         '#e377c2',  # raspberry yogurt pink\n",
    "    #         '#7f7f7f',  # medium gray\n",
    "    #         '#bcbd22',  # curry yellow-green\n",
    "    #         '#17becf',  # blue-teal\n",
    "    #         '#fdae61',  # sandy orange\n",
    "    #         '#66c2a5',  # seafoam green\n",
    "    #         '#fc8d62',  # coral\n",
    "    #         '#a6d854',  # light lime\n",
    "    #         '#ffd92f',  # sunflower\n",
    "    #         '#e5c494',  # beige\n",
    "    #         '#b3b3b3'   # soft gray\n",
    "    #     ]\n",
    "\n",
    "\n",
    "    fig = go.Figure()\n",
    "    \n",
    "    # ====== TRAINING DATA ======\n",
    "    traces = []\n",
    "    # Training matrix elements\n",
    "    trace = go.Scattergl(\n",
    "        x=true_values,\n",
    "        y=pred_values,\n",
    "        mode='markers',\n",
    "        marker=dict(\n",
    "            # symbol='dash',\n",
    "            size=5,\n",
    "            # color=colors[i % len(colors)],\n",
    "            line=dict(width=0)\n",
    "        ),\n",
    "        name=f'Matrix elements',\n",
    "        text=labels,\n",
    "        # hovertemplate='True: %{x:.2f}<br>Pred: %{y:.2f}<br>%{text}',\n",
    "        # legendgroup='training',\n",
    "        # legendgrouptitle=\"Training samples\",\n",
    "        # showlegend=True\n",
    "    )\n",
    "    traces.append(trace)\n",
    "        \n",
    "\n",
    "    # Add identity line\n",
    "    all_data = np.concatenate([true_values, pred_values])\n",
    "    vmin, vmax = np.min(all_data), np.max(all_data)\n",
    "    diagonal_trace = go.Scatter(\n",
    "        x=[vmin, vmax],\n",
    "        y=[vmin, vmax],\n",
    "        mode='lines',\n",
    "        line=dict(color='black', dash='dash'),\n",
    "        name='Ideal'\n",
    "    )\n",
    "    traces.append(diagonal_trace)\n",
    "\n",
    "\n",
    "    # Create figure and update layout\n",
    "    fig = go.Figure(data=traces)\n",
    "    fig.update_layout(\n",
    "        width=900,\n",
    "        height=900,\n",
    "        title=title,\n",
    "        # xaxis_title=title_x,\n",
    "        # yaxis_title=title_y,\n",
    "        # legend_title='Legend',\n",
    "        # hovermode='closest',\n",
    "        # template='plotly_white',\n",
    "        xaxis=dict(\n",
    "            title=title_x,\n",
    "            tickformat=\".2f\"\n",
    "        ),\n",
    "        yaxis=dict(\n",
    "            title=title_y,\n",
    "            tickformat=\".2f\"\n",
    "        )\n",
    "    )\n",
    "\n",
    "    # Save to HTML if path is provided\n",
    "    if filepath:\n",
    "        f = open(filepath, \"w\")\n",
    "        f.close()\n",
    "        with open(filepath, 'a') as f:\n",
    "            f.write(fig.to_html(full_html=False, include_plotlyjs='cdn'))\n",
    "        f.close()\n",
    "        \n",
    "        with open(f\"{str(filepath)[:-4]}.json\", \"w\") as f:\n",
    "            f.write(fig.to_json())\n",
    "\n",
    "    else:\n",
    "        fig.show()\n"
   ]
  },
  {
   "cell_type": "code",
   "execution_count": 69,
   "id": "01420c3f",
   "metadata": {},
   "outputs": [],
   "source": [
    "def plot_pred_vs_true_mean(\n",
    "        colors, title,\n",
    "        train_means, val_means,\n",
    "        train_stds, val_stds,\n",
    "        labels,\n",
    "        n_train_samples, n_val_samples=None,\n",
    "        filepath=None\n",
    "):\n",
    "\n",
    "    fig = go.Figure()\n",
    "\n",
    "    # ====== TRAINING DATA ======\n",
    "    mean_traces = []\n",
    "    std_traces = []\n",
    "    for i in range(n_train_samples):\n",
    "\n",
    "        # Training means\n",
    "        trace = go.Scatter(\n",
    "            x=[train_means[0][i]],\n",
    "            y=[train_means[1][i]],\n",
    "            mode='markers',\n",
    "            marker=dict(\n",
    "                symbol='square',\n",
    "                size=5,\n",
    "                color=colors[i % len(colors)],\n",
    "                line=dict(width=0)\n",
    "            ),\n",
    "            name=f'Mean training {i}',\n",
    "            # text=labels[0][i],\n",
    "            # hovertemplate='True: %{x:.2f}<br>Pred: %{y:.2f}<br>%{text}',\n",
    "            legendgroup='training_mean',\n",
    "            visible=True,\n",
    "            showlegend=True,\n",
    "        )\n",
    "        mean_traces.append(trace)\n",
    "\n",
    "        # Training std\n",
    "        trace = go.Scatter(\n",
    "            x=[train_stds[0][i]],\n",
    "            y=[train_stds[1][i]],\n",
    "            mode='markers',\n",
    "            marker=dict(\n",
    "                symbol='triangle-up',\n",
    "                size=5,\n",
    "                color=colors[i % len(colors)],\n",
    "                line=dict(width=0)\n",
    "            ),\n",
    "            name=f'Std training {i}',\n",
    "            text=labels[0][i],\n",
    "            # hovertemplate='True: %{x:.2f}<br>Pred: %{y:.2f}<br>%{text}',\n",
    "            legendgroup='training_std',\n",
    "            visible=False,\n",
    "            showlegend=True,\n",
    "        )\n",
    "        std_traces.append(trace)\n",
    "\n",
    "    # === Validation ===\n",
    "    for i in range(n_val_samples):\n",
    "\n",
    "        # Val means\n",
    "        trace = go.Scatter(\n",
    "            x=[val_means[0][i]],\n",
    "            y=[val_means[1][i]],\n",
    "            mode='markers',\n",
    "            marker=dict(\n",
    "                symbol='square-open',\n",
    "                size=5,\n",
    "                color=colors[i % len(colors)],\n",
    "                line=dict(width=1,)\n",
    "            ),\n",
    "            name=f'Mean val {i}',\n",
    "            text=labels[1][i],\n",
    "            # hovertemplate='True: %{x:.2f}<br>Pred: %{y:.2f}<br>%{text}',\n",
    "            legendgroup='val_mean',\n",
    "            visible=True,\n",
    "            showlegend=True,\n",
    "        )\n",
    "        mean_traces.append(trace)\n",
    "\n",
    "        # Validation std\n",
    "        trace = go.Scatter(\n",
    "            x=[val_stds[0][i]],\n",
    "            y=[val_stds[1][i]],\n",
    "            mode='markers',\n",
    "            marker=dict(\n",
    "                symbol='triangle-up-open',\n",
    "                size=5,\n",
    "                color=colors[i % len(colors)],\n",
    "                line=dict(width=0)\n",
    "            ),\n",
    "            name=f'Std validation {i}',\n",
    "            text=labels[1][i],\n",
    "            # hovertemplate='True: %{x:.2f}<br>Pred: %{y:.2f}<br>%{text}',\n",
    "            legendgroup='val_std',\n",
    "            visible=False,\n",
    "            showlegend=True,\n",
    "        )\n",
    "        std_traces.append(trace)\n",
    "        \n",
    "\n",
    "\n",
    "    # Add identity line\n",
    "    all_x = np.concatenate([train_means[0], val_means[0],\n",
    "                            train_stds[0],  val_stds[0]])\n",
    "    vmin, vmax = all_x.min(), all_x.max()\n",
    "\n",
    "    # use this for the diagonal\n",
    "    diagonal_trace = go.Scatter(\n",
    "        x=[vmin, vmax], y=[vmin, vmax],\n",
    "        mode='lines', line=dict(color='black'),\n",
    "        name='Ideal', visible=True, showlegend=True\n",
    "    )\n",
    "\n",
    "    # Create figure and update layout\n",
    "    min_x_mean = np.min([train_means[0].min(), val_means[0].min()])\n",
    "    max_x_mean = np.max([train_means[0].max(), val_means[0].max()])\n",
    "    min_y_mean = np.min([train_means[1].min(), val_means[1].min()])\n",
    "    max_y_mean = np.max([train_means[1].max(), val_means[1].max()])\n",
    "\n",
    "    min_x_std = np.min([train_stds[0].min(), val_stds[0].min()])\n",
    "    max_x_std = np.max([train_stds[0].max(), val_stds[0].max()])\n",
    "    min_y_std = np.min([train_stds[1].min(), val_stds[1].min()])\n",
    "    max_y_std = np.max([train_stds[1].max(), val_stds[1].max()])\n",
    "\n",
    "    traces = mean_traces + std_traces + [diagonal_trace]\n",
    "    fig = go.Figure(data=traces)\n",
    "    fig.update_layout(\n",
    "        width=1000,\n",
    "        height=1000,\n",
    "        title=title,\n",
    "        # xaxis_title='True Values',\n",
    "        # yaxis_title='Predicted Values',\n",
    "        legend_title='Legend',\n",
    "        # hovermode='closest',\n",
    "        # template='plotly_white',\n",
    "        xaxis=dict(\n",
    "            title='True Values',\n",
    "            tickformat=\".2f\",\n",
    "            range = [min_x_mean, max_x_mean]\n",
    "        ),\n",
    "        yaxis=dict(\n",
    "            title='Predicted Values',\n",
    "            tickformat=\".2f\",\n",
    "            range = [min_y_mean, max_y_mean]\n",
    "        )\n",
    "    )\n",
    "\n",
    "    # Add dropdown\n",
    "    fig.update_layout(\n",
    "        updatemenus=[\n",
    "            dict(\n",
    "                buttons=[\n",
    "                    dict(\n",
    "                        label=\"Mean\",\n",
    "                        method=\"update\",\n",
    "                        args=[\n",
    "                            {\"visible\": [True]*len(mean_traces) + [False]*len(std_traces) + [True]},\n",
    "                            {\n",
    "                                \"xaxis\": {\"range\": [min_x_mean-0.0005*min_x_mean, max_x_mean+0.0005*max_x_mean]},\n",
    "                                \"yaxis\": {\"range\": [min_y_mean-0.0005*min_y_mean, max_y_mean+0.0005*max_y_mean]},\n",
    "                            }\n",
    "\n",
    "                        ]\n",
    "                    ),\n",
    "                    dict(\n",
    "                        label=\"Std\",\n",
    "                        method=\"update\",\n",
    "                        args=[\n",
    "                            {\"visible\": [False]*len(mean_traces) + [True]*len(std_traces) + [True]},\n",
    "                            {\n",
    "                                \"xaxis\": {\"range\": [min_x_std-0.0005*min_x_std, max_x_std+0.0005*max_x_std]},\n",
    "                                \"yaxis\": {\"range\": [min_y_std-0.0005*min_y_std, max_y_std+0.0005*max_y_std]},\n",
    "                            }\n",
    "\n",
    "                        ]\n",
    "                    ),\n",
    "                ],\n",
    "                direction=\"down\",\n",
    "                pad={\"r\": 10, \"t\": 10},\n",
    "                showactive=True,\n",
    "                x=0.75,\n",
    "                xanchor=\"left\",\n",
    "                y=1.1,\n",
    "                yanchor=\"top\"\n",
    "            ),\n",
    "        ]\n",
    "    )\n",
    "\n",
    "    # Save to HTML if path is provided\n",
    "    if filepath:\n",
    "        f = open(filepath, \"w\")\n",
    "        f.close()\n",
    "        with open(filepath, 'a') as f:\n",
    "            f.write(fig.to_html(full_html=False, include_plotlyjs='cdn'))\n",
    "        f.close()\n",
    "        \n",
    "        with open(f\"{str(filepath)[:-4]}.json\", \"w\") as f:\n",
    "            f.write(fig.to_json())\n",
    "\n",
    "    \n",
    "    return fig"
   ]
  },
  {
   "cell_type": "code",
   "execution_count": 70,
   "id": "15d044b9",
   "metadata": {},
   "outputs": [],
   "source": [
    "import plotly.graph_objects as go\n",
    "import numpy as np\n",
    "\n",
    "def plot_alldataset_struct_vs_scalar(\n",
    "    title, title_x,\n",
    "    values_train, labels_train, n_train_samples,\n",
    "    values_val=None, labels_val=None, n_val_samples=None,\n",
    "    filepath=None\n",
    "):\n",
    "    # 1) Build a master list of unique labels in the order you want them\n",
    "    all_labels = list(dict.fromkeys(\n",
    "        labels_train + (labels_val if n_val_samples else [])\n",
    "    ))\n",
    "\n",
    "    # 2) Map each label to its integer position\n",
    "    idx_map = {lab: i for i, lab in enumerate(all_labels)}\n",
    "\n",
    "    # 3) Convert your y-arrays to numeric\n",
    "    y_train = [idx_map[l] for l in labels_train]\n",
    "    y_val   = [idx_map[l] for l in (labels_val if n_val_samples else [])]\n",
    "\n",
    "    # 4) Build your traces using numeric y\n",
    "    traces = [\n",
    "        go.Scatter(\n",
    "            x=values_train, y=y_train,\n",
    "            mode='markers',\n",
    "            marker=dict(symbol='x', size=6, color='blue'),\n",
    "            name='Training',\n",
    "            showlegend=True\n",
    "        )\n",
    "    ]\n",
    "\n",
    "    # Dummy trace to show x axis on top\n",
    "    traces.append(go.Scatter(\n",
    "        x=[min(values_train), max(values_train)],\n",
    "        y=[-1, -1],  # Place out of view\n",
    "        xaxis='x2',\n",
    "        mode='markers',\n",
    "        marker=dict(opacity=0),\n",
    "        visible=True,\n",
    "        showlegend=False\n",
    "    ))\n",
    "\n",
    "    if n_val_samples:\n",
    "        traces.append(\n",
    "            go.Scatter(\n",
    "                x=values_val, y=y_val,\n",
    "                mode='markers',\n",
    "                marker=dict(symbol='x', size=6, color='red'),\n",
    "                name='Validation',\n",
    "                showlegend=True\n",
    "            )\n",
    "        )\n",
    "\n",
    "    fig = go.Figure(traces)\n",
    "\n",
    "    # 5) Set the axis so categories sit exactly at integer ticks from 0…N-1\n",
    "    fig.update_layout(\n",
    "        width=800,\n",
    "        height=(n_train_samples + (n_val_samples or 0)) * 15 + 100,\n",
    "        title={\n",
    "            'text': title,\n",
    "            'y':1,\n",
    "            'x':0.01,\n",
    "            'xanchor': 'left',\n",
    "            'yanchor': 'top',\n",
    "            \"pad\": dict(t=10),\n",
    "        },\n",
    "        yaxis=dict(\n",
    "            tickmode='array',\n",
    "            tickvals=list(range(len(all_labels))),\n",
    "            ticktext=all_labels,\n",
    "            range=[-0.5, len(all_labels) - 0.5],\n",
    "            autorange=False\n",
    "        ),\n",
    "        xaxis=dict(\n",
    "            title=title_x,\n",
    "            title_standoff=0,\n",
    "            side=\"bottom\",\n",
    "            showline=True,\n",
    "            exponentformat='power',   # use 'e' for scientific, 'E' for capital E, or 'power' for 10^x\n",
    "            showexponent='last',   # always show exponent\n",
    "        ),\n",
    "        xaxis2=dict(\n",
    "            title=title_x,\n",
    "            title_standoff=0,\n",
    "            overlaying=\"x\",   # share the same data range as xaxis\n",
    "            side=\"top\",       # draw it at the top\n",
    "            exponentformat='power',   # use 'e' for scientific, 'E' for capital E, or 'power' for 10^x\n",
    "            showexponent='last',   # always show exponent\n",
    "        ),\n",
    "        margin=dict(l=40, r=20, t=65, b=45)\n",
    "    )\n",
    "\n",
    "    # 6) Save or show\n",
    "    if filepath:\n",
    "        fig.write_html(filepath, include_plotlyjs='cdn', full_html=False)\n",
    "        fig.write_json(filepath.replace('.html', '.json'))\n",
    "    else:\n",
    "        fig.show()\n",
    "\n",
    "    return fig\n"
   ]
  },
  {
   "cell_type": "code",
   "execution_count": 184,
   "id": "62c94d80",
   "metadata": {},
   "outputs": [
    {
     "data": {
      "application/vnd.plotly.v1+json": {
       "config": {
        "plotlyServerURL": "https://plot.ly"
       },
       "data": [
        {
         "marker": {
          "color": "blue",
          "size": 6,
          "symbol": "x"
         },
         "mode": "markers",
         "name": "Training",
         "showlegend": true,
         "type": "scatter",
         "x": {
          "bdata": "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",
          "dtype": "f4"
         },
         "y": [
          0,
          1,
          2,
          3,
          4,
          5,
          6,
          7,
          8,
          9,
          10,
          11,
          12,
          13,
          14,
          15,
          16,
          17,
          18,
          19,
          20,
          21,
          22,
          23,
          24,
          25,
          26,
          27,
          28,
          29,
          30,
          31,
          32,
          33,
          34,
          35,
          36,
          37,
          38,
          39,
          40,
          41,
          42,
          43,
          44,
          45,
          46,
          47,
          48,
          49,
          50,
          51,
          52,
          53,
          54,
          55,
          56,
          57,
          58,
          59,
          60,
          61,
          62,
          63,
          64,
          65,
          66,
          67,
          68,
          69,
          70,
          71,
          72,
          73,
          74,
          75,
          76,
          77,
          78,
          79,
          80,
          81,
          82,
          83,
          84,
          85,
          86,
          87,
          88,
          89,
          90,
          91,
          92,
          93,
          94,
          95,
          96,
          97,
          98,
          99,
          100,
          101,
          102,
          103,
          104,
          105,
          106,
          107,
          108,
          109,
          110,
          111,
          112,
          113,
          114,
          115,
          116,
          117,
          118,
          119,
          120,
          121,
          122,
          123,
          124,
          125,
          126,
          127,
          128,
          129,
          130,
          131,
          132,
          133,
          134,
          135,
          136,
          137,
          138,
          139,
          140,
          141,
          142,
          143,
          144,
          145,
          146,
          147,
          148,
          149,
          150,
          151,
          152,
          153,
          154,
          155,
          156,
          157,
          158,
          159,
          160,
          161,
          162,
          163,
          164,
          165,
          166,
          167,
          168,
          169,
          170,
          171,
          172,
          173,
          174,
          175,
          176,
          177,
          178,
          179,
          180,
          181,
          182,
          183,
          184,
          185,
          186,
          187,
          188,
          189,
          190,
          191,
          192,
          193,
          194,
          195,
          196,
          197,
          198,
          199,
          200,
          201,
          202,
          203,
          204,
          205,
          206,
          207,
          208,
          209,
          210,
          211,
          212,
          213,
          214,
          215,
          216,
          217,
          218,
          219,
          220,
          221,
          222,
          223,
          224,
          225,
          226,
          227,
          228,
          229,
          230,
          231,
          232,
          233,
          234,
          235,
          236,
          237,
          238,
          239,
          240,
          241,
          242,
          243,
          244,
          245,
          246,
          247,
          248,
          249,
          250,
          251,
          252,
          253,
          254,
          255,
          256,
          257,
          258,
          259,
          260,
          261,
          262,
          263,
          264,
          265,
          266,
          267,
          268,
          269,
          270,
          271,
          272,
          273,
          274,
          275,
          276,
          277,
          278,
          279,
          280,
          281,
          282,
          283,
          284,
          285,
          286,
          287,
          288,
          289,
          290,
          291,
          292,
          293,
          294,
          295,
          296,
          297,
          298,
          299,
          300,
          301,
          302,
          303,
          304,
          305,
          306,
          307,
          308,
          309,
          310,
          311,
          312,
          313,
          314,
          315,
          316,
          317,
          318,
          319,
          320,
          321,
          322,
          323,
          324,
          325,
          326,
          327,
          328,
          329,
          330,
          331,
          332,
          333,
          334,
          335,
          336,
          337,
          338,
          339,
          340,
          341,
          342,
          343,
          344,
          345,
          346,
          347,
          348,
          349,
          350,
          351,
          352,
          353,
          354,
          355,
          356,
          357,
          358,
          359,
          360,
          361,
          362,
          363,
          364,
          365,
          366,
          367,
          368,
          369,
          370,
          371,
          372,
          373,
          374,
          375,
          376,
          377,
          378,
          379,
          380,
          381,
          382,
          383,
          384,
          385,
          386,
          387,
          388,
          389,
          390,
          391,
          392,
          393,
          394,
          395,
          396,
          397,
          398,
          399,
          400,
          401,
          402,
          403,
          404,
          405,
          406,
          407,
          408,
          409,
          410,
          411,
          412,
          413,
          414,
          415,
          416,
          417,
          418,
          419,
          420,
          421,
          422,
          423,
          424,
          425,
          426,
          427,
          428,
          429,
          430,
          431,
          432,
          433,
          434,
          435,
          436,
          437,
          438,
          439,
          440,
          441,
          442,
          443,
          444,
          445,
          446,
          447,
          448,
          449,
          450,
          451,
          452,
          453,
          454,
          455,
          456,
          457,
          458,
          459,
          460,
          461,
          462,
          463,
          464,
          465,
          466,
          467,
          468,
          469,
          470,
          471,
          472,
          473,
          474,
          475,
          476,
          477,
          478,
          479,
          480,
          481,
          482,
          483,
          484,
          485,
          486,
          487,
          488,
          489,
          490,
          491,
          492,
          493,
          494,
          495,
          496,
          497,
          498,
          499,
          500,
          501,
          502,
          503,
          504,
          505,
          506,
          507,
          508,
          509,
          510,
          511,
          512,
          513,
          514,
          515,
          516,
          517,
          518,
          519,
          520,
          521,
          522,
          523,
          524,
          525,
          526,
          527,
          528,
          529,
          530,
          531,
          532,
          533,
          534,
          535,
          536,
          537,
          538,
          539,
          540,
          541,
          542,
          543,
          544,
          545,
          546,
          547,
          548,
          549,
          550,
          551,
          552,
          553,
          554,
          555,
          556,
          557,
          558,
          559,
          560,
          561,
          562,
          563,
          564,
          565,
          566,
          567,
          568,
          569,
          570,
          571,
          572,
          573,
          574,
          575,
          576,
          577,
          578,
          579,
          580,
          581
         ]
        },
        {
         "marker": {
          "opacity": 0
         },
         "mode": "markers",
         "showlegend": false,
         "type": "scatter",
         "visible": true,
         "x": [
          0.07548505067825317,
          1.4492638111114502
         ],
         "xaxis": "x2",
         "y": [
          -1,
          -1
         ]
        }
       ],
       "layout": {
        "height": 8830,
        "margin": {
         "b": 45,
         "l": 40,
         "r": 20,
         "t": 65
        },
        "template": {
         "data": {
          "bar": [
           {
            "error_x": {
             "color": "#2a3f5f"
            },
            "error_y": {
             "color": "#2a3f5f"
            },
            "marker": {
             "line": {
              "color": "#E5ECF6",
              "width": 0.5
             },
             "pattern": {
              "fillmode": "overlay",
              "size": 10,
              "solidity": 0.2
             }
            },
            "type": "bar"
           }
          ],
          "barpolar": [
           {
            "marker": {
             "line": {
              "color": "#E5ECF6",
              "width": 0.5
             },
             "pattern": {
              "fillmode": "overlay",
              "size": 10,
              "solidity": 0.2
             }
            },
            "type": "barpolar"
           }
          ],
          "carpet": [
           {
            "aaxis": {
             "endlinecolor": "#2a3f5f",
             "gridcolor": "white",
             "linecolor": "white",
             "minorgridcolor": "white",
             "startlinecolor": "#2a3f5f"
            },
            "baxis": {
             "endlinecolor": "#2a3f5f",
             "gridcolor": "white",
             "linecolor": "white",
             "minorgridcolor": "white",
             "startlinecolor": "#2a3f5f"
            },
            "type": "carpet"
           }
          ],
          "choropleth": [
           {
            "colorbar": {
             "outlinewidth": 0,
             "ticks": ""
            },
            "type": "choropleth"
           }
          ],
          "contour": [
           {
            "colorbar": {
             "outlinewidth": 0,
             "ticks": ""
            },
            "colorscale": [
             [
              0,
              "#0d0887"
             ],
             [
              0.1111111111111111,
              "#46039f"
             ],
             [
              0.2222222222222222,
              "#7201a8"
             ],
             [
              0.3333333333333333,
              "#9c179e"
             ],
             [
              0.4444444444444444,
              "#bd3786"
             ],
             [
              0.5555555555555556,
              "#d8576b"
             ],
             [
              0.6666666666666666,
              "#ed7953"
             ],
             [
              0.7777777777777778,
              "#fb9f3a"
             ],
             [
              0.8888888888888888,
              "#fdca26"
             ],
             [
              1,
              "#f0f921"
             ]
            ],
            "type": "contour"
           }
          ],
          "contourcarpet": [
           {
            "colorbar": {
             "outlinewidth": 0,
             "ticks": ""
            },
            "type": "contourcarpet"
           }
          ],
          "heatmap": [
           {
            "colorbar": {
             "outlinewidth": 0,
             "ticks": ""
            },
            "colorscale": [
             [
              0,
              "#0d0887"
             ],
             [
              0.1111111111111111,
              "#46039f"
             ],
             [
              0.2222222222222222,
              "#7201a8"
             ],
             [
              0.3333333333333333,
              "#9c179e"
             ],
             [
              0.4444444444444444,
              "#bd3786"
             ],
             [
              0.5555555555555556,
              "#d8576b"
             ],
             [
              0.6666666666666666,
              "#ed7953"
             ],
             [
              0.7777777777777778,
              "#fb9f3a"
             ],
             [
              0.8888888888888888,
              "#fdca26"
             ],
             [
              1,
              "#f0f921"
             ]
            ],
            "type": "heatmap"
           }
          ],
          "histogram": [
           {
            "marker": {
             "pattern": {
              "fillmode": "overlay",
              "size": 10,
              "solidity": 0.2
             }
            },
            "type": "histogram"
           }
          ],
          "histogram2d": [
           {
            "colorbar": {
             "outlinewidth": 0,
             "ticks": ""
            },
            "colorscale": [
             [
              0,
              "#0d0887"
             ],
             [
              0.1111111111111111,
              "#46039f"
             ],
             [
              0.2222222222222222,
              "#7201a8"
             ],
             [
              0.3333333333333333,
              "#9c179e"
             ],
             [
              0.4444444444444444,
              "#bd3786"
             ],
             [
              0.5555555555555556,
              "#d8576b"
             ],
             [
              0.6666666666666666,
              "#ed7953"
             ],
             [
              0.7777777777777778,
              "#fb9f3a"
             ],
             [
              0.8888888888888888,
              "#fdca26"
             ],
             [
              1,
              "#f0f921"
             ]
            ],
            "type": "histogram2d"
           }
          ],
          "histogram2dcontour": [
           {
            "colorbar": {
             "outlinewidth": 0,
             "ticks": ""
            },
            "colorscale": [
             [
              0,
              "#0d0887"
             ],
             [
              0.1111111111111111,
              "#46039f"
             ],
             [
              0.2222222222222222,
              "#7201a8"
             ],
             [
              0.3333333333333333,
              "#9c179e"
             ],
             [
              0.4444444444444444,
              "#bd3786"
             ],
             [
              0.5555555555555556,
              "#d8576b"
             ],
             [
              0.6666666666666666,
              "#ed7953"
             ],
             [
              0.7777777777777778,
              "#fb9f3a"
             ],
             [
              0.8888888888888888,
              "#fdca26"
             ],
             [
              1,
              "#f0f921"
             ]
            ],
            "type": "histogram2dcontour"
           }
          ],
          "mesh3d": [
           {
            "colorbar": {
             "outlinewidth": 0,
             "ticks": ""
            },
            "type": "mesh3d"
           }
          ],
          "parcoords": [
           {
            "line": {
             "colorbar": {
              "outlinewidth": 0,
              "ticks": ""
             }
            },
            "type": "parcoords"
           }
          ],
          "pie": [
           {
            "automargin": true,
            "type": "pie"
           }
          ],
          "scatter": [
           {
            "fillpattern": {
             "fillmode": "overlay",
             "size": 10,
             "solidity": 0.2
            },
            "type": "scatter"
           }
          ],
          "scatter3d": [
           {
            "line": {
             "colorbar": {
              "outlinewidth": 0,
              "ticks": ""
             }
            },
            "marker": {
             "colorbar": {
              "outlinewidth": 0,
              "ticks": ""
             }
            },
            "type": "scatter3d"
           }
          ],
          "scattercarpet": [
           {
            "marker": {
             "colorbar": {
              "outlinewidth": 0,
              "ticks": ""
             }
            },
            "type": "scattercarpet"
           }
          ],
          "scattergeo": [
           {
            "marker": {
             "colorbar": {
              "outlinewidth": 0,
              "ticks": ""
             }
            },
            "type": "scattergeo"
           }
          ],
          "scattergl": [
           {
            "marker": {
             "colorbar": {
              "outlinewidth": 0,
              "ticks": ""
             }
            },
            "type": "scattergl"
           }
          ],
          "scattermap": [
           {
            "marker": {
             "colorbar": {
              "outlinewidth": 0,
              "ticks": ""
             }
            },
            "type": "scattermap"
           }
          ],
          "scattermapbox": [
           {
            "marker": {
             "colorbar": {
              "outlinewidth": 0,
              "ticks": ""
             }
            },
            "type": "scattermapbox"
           }
          ],
          "scatterpolar": [
           {
            "marker": {
             "colorbar": {
              "outlinewidth": 0,
              "ticks": ""
             }
            },
            "type": "scatterpolar"
           }
          ],
          "scatterpolargl": [
           {
            "marker": {
             "colorbar": {
              "outlinewidth": 0,
              "ticks": ""
             }
            },
            "type": "scatterpolargl"
           }
          ],
          "scatterternary": [
           {
            "marker": {
             "colorbar": {
              "outlinewidth": 0,
              "ticks": ""
             }
            },
            "type": "scatterternary"
           }
          ],
          "surface": [
           {
            "colorbar": {
             "outlinewidth": 0,
             "ticks": ""
            },
            "colorscale": [
             [
              0,
              "#0d0887"
             ],
             [
              0.1111111111111111,
              "#46039f"
             ],
             [
              0.2222222222222222,
              "#7201a8"
             ],
             [
              0.3333333333333333,
              "#9c179e"
             ],
             [
              0.4444444444444444,
              "#bd3786"
             ],
             [
              0.5555555555555556,
              "#d8576b"
             ],
             [
              0.6666666666666666,
              "#ed7953"
             ],
             [
              0.7777777777777778,
              "#fb9f3a"
             ],
             [
              0.8888888888888888,
              "#fdca26"
             ],
             [
              1,
              "#f0f921"
             ]
            ],
            "type": "surface"
           }
          ],
          "table": [
           {
            "cells": {
             "fill": {
              "color": "#EBF0F8"
             },
             "line": {
              "color": "white"
             }
            },
            "header": {
             "fill": {
              "color": "#C8D4E3"
             },
             "line": {
              "color": "white"
             }
            },
            "type": "table"
           }
          ]
         },
         "layout": {
          "annotationdefaults": {
           "arrowcolor": "#2a3f5f",
           "arrowhead": 0,
           "arrowwidth": 1
          },
          "autotypenumbers": "strict",
          "coloraxis": {
           "colorbar": {
            "outlinewidth": 0,
            "ticks": ""
           }
          },
          "colorscale": {
           "diverging": [
            [
             0,
             "#8e0152"
            ],
            [
             0.1,
             "#c51b7d"
            ],
            [
             0.2,
             "#de77ae"
            ],
            [
             0.3,
             "#f1b6da"
            ],
            [
             0.4,
             "#fde0ef"
            ],
            [
             0.5,
             "#f7f7f7"
            ],
            [
             0.6,
             "#e6f5d0"
            ],
            [
             0.7,
             "#b8e186"
            ],
            [
             0.8,
             "#7fbc41"
            ],
            [
             0.9,
             "#4d9221"
            ],
            [
             1,
             "#276419"
            ]
           ],
           "sequential": [
            [
             0,
             "#0d0887"
            ],
            [
             0.1111111111111111,
             "#46039f"
            ],
            [
             0.2222222222222222,
             "#7201a8"
            ],
            [
             0.3333333333333333,
             "#9c179e"
            ],
            [
             0.4444444444444444,
             "#bd3786"
            ],
            [
             0.5555555555555556,
             "#d8576b"
            ],
            [
             0.6666666666666666,
             "#ed7953"
            ],
            [
             0.7777777777777778,
             "#fb9f3a"
            ],
            [
             0.8888888888888888,
             "#fdca26"
            ],
            [
             1,
             "#f0f921"
            ]
           ],
           "sequentialminus": [
            [
             0,
             "#0d0887"
            ],
            [
             0.1111111111111111,
             "#46039f"
            ],
            [
             0.2222222222222222,
             "#7201a8"
            ],
            [
             0.3333333333333333,
             "#9c179e"
            ],
            [
             0.4444444444444444,
             "#bd3786"
            ],
            [
             0.5555555555555556,
             "#d8576b"
            ],
            [
             0.6666666666666666,
             "#ed7953"
            ],
            [
             0.7777777777777778,
             "#fb9f3a"
            ],
            [
             0.8888888888888888,
             "#fdca26"
            ],
            [
             1,
             "#f0f921"
            ]
           ]
          },
          "colorway": [
           "#636efa",
           "#EF553B",
           "#00cc96",
           "#ab63fa",
           "#FFA15A",
           "#19d3f3",
           "#FF6692",
           "#B6E880",
           "#FF97FF",
           "#FECB52"
          ],
          "font": {
           "color": "#2a3f5f"
          },
          "geo": {
           "bgcolor": "white",
           "lakecolor": "white",
           "landcolor": "#E5ECF6",
           "showlakes": true,
           "showland": true,
           "subunitcolor": "white"
          },
          "hoverlabel": {
           "align": "left"
          },
          "hovermode": "closest",
          "mapbox": {
           "style": "light"
          },
          "paper_bgcolor": "white",
          "plot_bgcolor": "#E5ECF6",
          "polar": {
           "angularaxis": {
            "gridcolor": "white",
            "linecolor": "white",
            "ticks": ""
           },
           "bgcolor": "#E5ECF6",
           "radialaxis": {
            "gridcolor": "white",
            "linecolor": "white",
            "ticks": ""
           }
          },
          "scene": {
           "xaxis": {
            "backgroundcolor": "#E5ECF6",
            "gridcolor": "white",
            "gridwidth": 2,
            "linecolor": "white",
            "showbackground": true,
            "ticks": "",
            "zerolinecolor": "white"
           },
           "yaxis": {
            "backgroundcolor": "#E5ECF6",
            "gridcolor": "white",
            "gridwidth": 2,
            "linecolor": "white",
            "showbackground": true,
            "ticks": "",
            "zerolinecolor": "white"
           },
           "zaxis": {
            "backgroundcolor": "#E5ECF6",
            "gridcolor": "white",
            "gridwidth": 2,
            "linecolor": "white",
            "showbackground": true,
            "ticks": "",
            "zerolinecolor": "white"
           }
          },
          "shapedefaults": {
           "line": {
            "color": "#2a3f5f"
           }
          },
          "ternary": {
           "aaxis": {
            "gridcolor": "white",
            "linecolor": "white",
            "ticks": ""
           },
           "baxis": {
            "gridcolor": "white",
            "linecolor": "white",
            "ticks": ""
           },
           "bgcolor": "#E5ECF6",
           "caxis": {
            "gridcolor": "white",
            "linecolor": "white",
            "ticks": ""
           }
          },
          "title": {
           "x": 0.05
          },
          "xaxis": {
           "automargin": true,
           "gridcolor": "white",
           "linecolor": "white",
           "ticks": "",
           "title": {
            "standoff": 15
           },
           "zerolinecolor": "white",
           "zerolinewidth": 2
          },
          "yaxis": {
           "automargin": true,
           "gridcolor": "white",
           "linecolor": "white",
           "ticks": "",
           "title": {
            "standoff": 15
           },
           "zerolinecolor": "white",
           "zerolinewidth": 2
          }
         }
        },
        "title": {
         "pad": {
          "t": 10
         },
         "text": "Max Absolute Error Dataset analysis. Used model h_crystalls_1",
         "x": 0.01,
         "xanchor": "left",
         "y": 1,
         "yanchor": "top"
        },
        "width": 700,
        "xaxis": {
         "showline": true,
         "side": "bottom",
         "title": {
          "standoff": 0,
          "text": "|True-Pred| (eV)"
         }
        },
        "xaxis2": {
         "overlaying": "x",
         "side": "top",
         "title": {
          "standoff": 0,
          "text": "|True-Pred| (eV)"
         }
        },
        "yaxis": {
         "autorange": false,
         "range": [
          -0.5,
          581.5
         ],
         "tickmode": "array",
         "ticktext": [
          "2_ATOMS/db65-6186-4188-b955-0dca4cd7daa1",
          "2_ATOMS/4130-44f6-445e-8a26-4f6afcdd73ea",
          "2_ATOMS/c185-8b61-445e-8068-be370e3617c6",
          "2_ATOMS/45fa-290d-448f-aab5-51f41046d60d",
          "8_ATOMS/88bd-ed8a-4749-bad7-033e9549713c",
          "8_ATOMS/bca3-f473-4c5e-8407-cbdc2d7c68a1",
          "8_ATOMS/2723-7128-46f7-958d-c89608e72fa6",
          "8_ATOMS/6b54-07f6-4e80-b536-06e02853b9f5",
          "8_ATOMS/255c-455e-477d-96d7-bb1b063687fd",
          "2_ATOMS/c924-ac64-4837-a960-ff786d6c6836",
          "8_ATOMS/0a2a-fbca-4649-8012-f5aa640bfd1d",
          "8_ATOMS/59bc-dacc-4405-b7b4-195e66bd1481",
          "8_ATOMS/cc91-e1ae-431e-b6ed-dd85971886c4",
          "2_ATOMS/385a-c065-4b42-b1a7-2da0d3457e37",
          "8_ATOMS/9c50-0c92-4eff-b6ec-06fbde4ba6df",
          "2_ATOMS/b557-c804-44da-80fe-a0b7ae301a65",
          "8_ATOMS/082f-4ab7-4856-8085-d231905035e6",
          "8_ATOMS/d8ec-29f1-4d8d-a1b9-7496fa6135d1",
          "8_ATOMS/848a-19bd-414b-9ef2-40f39b1e2027",
          "8_ATOMS/7651-acf9-490f-81d6-a8a9d1c2de76",
          "2_ATOMS/dd60-9d02-4692-bd99-b6de70ff4521",
          "8_ATOMS/94d7-9cd2-462f-bf18-5633bf27093f",
          "8_ATOMS/9ce2-0e9f-4d90-a296-7cc042624675",
          "2_ATOMS/b515-30c8-4e2a-88df-efe21ee4615a",
          "2_ATOMS/7d8d-b17b-45e7-8d50-388b4ecb953e",
          "8_ATOMS/ec36-00e2-4393-841f-bf67370db865",
          "8_ATOMS/5280-7091-440b-99d2-40ef7e8ce196",
          "8_ATOMS/0d07-2495-447a-8e28-76be0fde6b7e",
          "8_ATOMS/9709-8eb4-4a0e-b522-e0a3820e22c7",
          "8_ATOMS/9e91-813e-45de-858c-cd404df19017",
          "8_ATOMS/5739-d3d6-4517-874f-5bacb8158457",
          "2_ATOMS/41f7-3b57-4367-959e-f7b2cc71bc23",
          "8_ATOMS/df8b-81e8-4cb5-bd6d-44757054e5a9",
          "8_ATOMS/c79b-4665-4e79-b140-440378e01ab6",
          "2_ATOMS/c08e-faed-4358-ad34-7f3dce952e5e",
          "8_ATOMS/ff0d-e0ad-4307-b04b-8be91de51543",
          "8_ATOMS/f980-0604-4608-b493-c98c4b11a3b8",
          "8_ATOMS/c4f7-306c-4a7c-af25-e94e004ec249",
          "2_ATOMS/ac69-3c79-4241-a7b2-5d6819186b27",
          "8_ATOMS/1c41-4a17-40e0-9257-79aa2f4ddff5",
          "8_ATOMS/4d80-715f-4d15-b2a0-264c56a848b6",
          "8_ATOMS/3838-4b3e-41f5-a401-d9a4fe784ce3",
          "2_ATOMS/6088-d26a-44c7-a338-31903cfa001f",
          "2_ATOMS/8856-4603-4d6e-be33-33b4c2d6c5e2",
          "8_ATOMS/9a68-f0dd-436f-b875-7200ed614b33",
          "8_ATOMS/9ac7-7fe7-4bd2-9dc5-acf5d3ddda5a",
          "8_ATOMS/886e-5f60-41f0-8f65-42bb97fd5902",
          "8_ATOMS/727f-16a3-4fbd-98c1-96ec66f6e5c8",
          "2_ATOMS/6ab1-b9ab-4faa-9c05-0a6871bfa641",
          "8_ATOMS/cac1-8428-4cf2-abdf-65c7e13af354",
          "2_ATOMS/bd9c-aae8-4dc0-b769-81e61fb9e8c0",
          "2_ATOMS/d249-97ce-4fdf-8948-cfce4078c8ac",
          "8_ATOMS/7b9f-b5be-49a4-beda-26d909223e98",
          "8_ATOMS/2541-53fb-4552-ae97-333d05572552",
          "8_ATOMS/cc7d-9eab-4f1a-a5dd-4fe7bf41d6bb",
          "8_ATOMS/e7f4-30ee-4ad3-82d7-088fa11a3f33",
          "2_ATOMS/0a4c-6759-46e6-bf5e-6439eefcaad2",
          "2_ATOMS/02d4-f3b5-412b-b61e-053157584cbe",
          "8_ATOMS/7544-c32e-4b78-9149-bf5a4997a78b",
          "2_ATOMS/cd6e-7357-4868-b521-63e9bad68413",
          "8_ATOMS/15eb-06bf-46c0-928b-724772606c34",
          "8_ATOMS/879f-61c4-4acc-a699-32684152ae14",
          "8_ATOMS/2dfe-f34a-4816-a11a-295aafa099bd",
          "2_ATOMS/2d88-a572-4395-b881-72fa67e0a6bd",
          "8_ATOMS/ffeb-6a4e-4523-a7d2-eb572bfaccd6",
          "8_ATOMS/f3fd-f009-46fc-ad94-fc4ebf116390",
          "8_ATOMS/b05a-2bc5-4f47-8c55-03787b943376",
          "2_ATOMS/02a4-2c2f-4381-b074-ee6aa682941f",
          "8_ATOMS/e6ff-0ee3-4e51-a37a-6833377a357a",
          "2_ATOMS/4e09-b876-46d0-bf93-88ba14da0d0c",
          "8_ATOMS/4ace-c25d-47f4-a857-087c5b32580b",
          "8_ATOMS/d4f5-6b48-494f-b1de-c7e944c09f38",
          "2_ATOMS/51b5-4b06-443e-90f9-b51201f9bc0b",
          "8_ATOMS/6539-8a72-43ef-8c28-476bd9f582dd",
          "8_ATOMS/e8bf-d2ca-4349-ae97-15474ababdc0",
          "8_ATOMS/4a44-c03e-4982-ae3e-2a3586ef6ccf",
          "2_ATOMS/fadc-9b9e-4808-9115-e5bb73aeea1d",
          "8_ATOMS/33ef-ca33-4bf0-a36e-6e852deab7b5",
          "8_ATOMS/502c-1720-4c00-8929-317a65ca4d5a",
          "8_ATOMS/9720-18fd-4744-9540-60be6f5c707a",
          "8_ATOMS/f3cf-184c-4990-8a4b-7778cdeec8d4",
          "8_ATOMS/0f36-3820-48bc-a22a-2f1ed278795c",
          "8_ATOMS/fa25-6194-4dc3-9999-0534970004d1",
          "2_ATOMS/a8da-c1e8-44c1-8806-06d596be09be",
          "2_ATOMS/db76-d13f-40a0-a277-caf1e90819e6",
          "8_ATOMS/0071-22cd-4c2a-bfd6-4d8b96180f42",
          "8_ATOMS/f3ab-10fb-44d7-b10b-240c296a77d6",
          "8_ATOMS/8676-2dd0-4904-844c-edbfe9e5927f",
          "2_ATOMS/cc16-b388-4e1f-8496-7ad875025368",
          "2_ATOMS/4fab-3d88-4e57-a9a6-956729ef0dab",
          "8_ATOMS/b023-9f28-4ec2-9991-a845c17563d0",
          "8_ATOMS/bcb5-2392-41ae-9071-8d0720b7e53a",
          "8_ATOMS/547d-f427-4995-b959-5a550cf1043c",
          "8_ATOMS/3398-7a17-4b32-95dc-3dd2e72c465f",
          "8_ATOMS/7979-eeb8-43f8-8b85-ffe87cf3680b",
          "8_ATOMS/265c-7786-45d8-97b1-57fd577e686c",
          "2_ATOMS/0953-8dcf-411e-ae7b-00f794981cc5",
          "2_ATOMS/91dc-c45e-4096-8e0e-04e28f21a44c",
          "8_ATOMS/4059-8564-43cb-86db-2f8370d5fe4a",
          "8_ATOMS/3a2a-cffb-4ce3-9822-e73a16327c0b",
          "8_ATOMS/9fae-3a87-40de-91a5-4a2f0103ab85",
          "8_ATOMS/8390-4e6c-46ac-9e07-7c1219d04522",
          "2_ATOMS/a2eb-bf31-4aa9-8a0e-05a9734df668",
          "8_ATOMS/dea0-e004-4eb3-8ca3-b1f00697f7a2",
          "8_ATOMS/708d-2e27-4631-9b68-445515cc038b",
          "8_ATOMS/0b9e-8905-4d8f-aee8-92b8c892c484",
          "8_ATOMS/4b9b-20df-4fe5-a669-88ff91902e97",
          "8_ATOMS/f5d2-7c25-417a-8d7f-d583aff27126",
          "8_ATOMS/02a2-5055-428f-a82b-47740046aab0",
          "8_ATOMS/5721-4d12-41f2-9f31-f7ee4fcf1096",
          "2_ATOMS/b6d2-9ae2-41e0-8f33-ea06949232c6",
          "8_ATOMS/a19c-b380-4924-8cf3-42160a16b896",
          "2_ATOMS/1aac-d867-4e35-940e-f177a4fe34ee",
          "2_ATOMS/91f3-f6bb-488c-84ec-0a0f016608e4",
          "2_ATOMS/18a7-265b-4fbf-aae4-52fb83b4760f",
          "8_ATOMS/2333-41f1-4ce0-8682-a912b9bb432f",
          "8_ATOMS/986a-69c1-4486-9fca-a2b8308f2e58",
          "8_ATOMS/907c-7487-46bd-8ad3-65b031f7f12b",
          "8_ATOMS/30c6-37a6-4261-ab32-a6ad034c2457",
          "8_ATOMS/c3d6-1944-4013-a9f3-753926411dfc",
          "8_ATOMS/67c8-1d5a-4c9a-8ae5-e20383dbf14b",
          "8_ATOMS/ea47-9de9-4e02-9453-e1bfc1ef6949",
          "2_ATOMS/4540-3dda-47f3-be58-2d4185e8e863",
          "2_ATOMS/c254-d9f1-4259-856e-9663457160bb",
          "2_ATOMS/0d7e-cef0-46a3-8807-9fdf9ecc90dc",
          "8_ATOMS/733a-87a5-41e1-ba00-3b6357909650",
          "2_ATOMS/89a5-8528-4eac-8f51-bc4cac771309",
          "8_ATOMS/7b1d-081c-4501-9a67-d39467f421c3",
          "8_ATOMS/2a69-ab57-455e-b7c8-283bff6eea94",
          "2_ATOMS/c8a7-3eaa-4fae-8698-ab33ecdddf28",
          "8_ATOMS/5424-a616-4e22-8dee-e00d57ca533f",
          "8_ATOMS/8cdf-ae3b-4a99-a75e-a96bbd042251",
          "2_ATOMS/9b13-4a57-4de9-b863-1b35209370c4",
          "2_ATOMS/04e3-35bf-497f-9bbc-220009079f8b",
          "2_ATOMS/81d3-7a3c-4870-aa35-7e7a1ac226f6",
          "2_ATOMS/2e65-1feb-4df2-8836-e5513b9bade0",
          "2_ATOMS/0d70-cb9c-4f83-99f9-ecd04ba56c74",
          "8_ATOMS/ba29-1e0e-4072-8660-b1365a6ae489",
          "2_ATOMS/2aa6-e839-4ca4-9e63-0cc27be5f76f",
          "8_ATOMS/510e-4ddd-414c-aca5-ca201bbf4db4",
          "8_ATOMS/7322-4ae4-4735-95ff-447c287e78c8",
          "8_ATOMS/b120-8fbd-4233-a20a-c0078648c73a",
          "8_ATOMS/d92d-506f-4564-8d76-31311af3e3e5",
          "8_ATOMS/1651-4e29-4200-8be8-18e878b2e83d",
          "8_ATOMS/ec59-7a2a-4d4d-9b88-1bc032d7aa2f",
          "8_ATOMS/bce8-baa8-4968-89e5-dc49e8a3e9ea",
          "8_ATOMS/3e94-dcd5-463c-962e-9d60323fc20f",
          "8_ATOMS/a01e-7164-4399-a30d-30a65d844d86",
          "8_ATOMS/5b9b-27b0-4c32-b1da-966e1749630c",
          "2_ATOMS/6e40-a82a-4341-955d-6769dc05a6dc",
          "8_ATOMS/1d28-be94-41e9-9105-c5b03e1f96e6",
          "2_ATOMS/38e0-4d0f-42ff-8161-b0a23437f2c7",
          "8_ATOMS/f60e-4567-4142-8443-43fc17f8d580",
          "8_ATOMS/1204-1efd-4a41-a8f6-088edff35473",
          "2_ATOMS/4b91-2f3d-4be9-b41f-26b24985a4bb",
          "8_ATOMS/94f2-cf36-421c-b6bb-9bec3cfb4e9e",
          "2_ATOMS/643d-768d-4fea-8f56-149f02f1331f",
          "2_ATOMS/66ea-aa33-4cd1-a2b0-7f530e6788d4",
          "2_ATOMS/9647-499c-4466-8faa-b5d189881ca0",
          "2_ATOMS/7041-23cc-47cf-a182-1b2ff6bd0483",
          "8_ATOMS/9339-beec-4272-aef3-3fee8d34cc96",
          "8_ATOMS/d9b3-c142-4851-9bcf-cfb4ad424cda",
          "2_ATOMS/5d57-8e3e-48b1-988c-21e37f067560",
          "8_ATOMS/2065-3c23-4409-bf6a-d9ec080c20b5",
          "8_ATOMS/f2b9-d7cc-4f42-9ccc-13dd371d22a5",
          "2_ATOMS/7586-153a-4dd5-9283-e289fe1366b3",
          "2_ATOMS/7eb6-b121-4101-8a46-627c7a95f3f9",
          "8_ATOMS/044a-ad24-49e4-9ab7-51d51132cc0c",
          "8_ATOMS/0787-2f38-4815-91fc-a738c0488a76",
          "2_ATOMS/dbab-2a15-47b0-86d0-324378eaf8fa",
          "8_ATOMS/a39c-f19a-4be9-a5bb-572725c32a98",
          "8_ATOMS/74f6-ada8-4fcd-b69f-4ca3b0ddc30e",
          "8_ATOMS/c872-d51e-46c5-87d7-77da65e9814e",
          "2_ATOMS/5e58-d45e-4e8b-8abe-3100b4445aa4",
          "8_ATOMS/9118-c2b8-48cc-a915-e23491042497",
          "8_ATOMS/e6f2-484c-4f50-a1a7-02b1107ca275",
          "8_ATOMS/11ad-ba95-4a26-8f92-5267f5787553",
          "8_ATOMS/f205-cdce-4e5e-96d7-d53400d0fbb0",
          "8_ATOMS/107a-eac2-4f06-bc69-4b4ec1073c8c",
          "8_ATOMS/7e0a-843d-4cca-9a0c-a21df59013db",
          "8_ATOMS/99f2-9f14-4f5a-a5e2-00443da07324",
          "8_ATOMS/261a-53e7-4a38-b7ad-571a210d767a",
          "8_ATOMS/a0d1-7565-4b85-9dc5-6d9481565e91",
          "8_ATOMS/5968-45fa-44ee-8e10-e17eeec3f89c",
          "8_ATOMS/f6e1-5db7-4b2b-b8f9-d80329dadccf",
          "8_ATOMS/50df-bebe-4dad-aad0-74863702f38a",
          "2_ATOMS/de11-c9a3-457f-8745-72245e90599d",
          "8_ATOMS/173e-fad7-4f78-8350-6759a5471596",
          "2_ATOMS/09a7-3147-4ee9-a360-72faa9bf3765",
          "8_ATOMS/1a5a-972d-4db3-81a6-b1222b724447",
          "8_ATOMS/dd94-3032-4018-9a6d-0e8aa7089ca5",
          "8_ATOMS/f5d2-6e04-4e1f-9d65-8c1760565ae5",
          "8_ATOMS/4afc-f1fa-44f8-b159-50cdb0c2020b",
          "8_ATOMS/b90b-5931-448a-b3cb-f605d58cfb78",
          "8_ATOMS/7752-ee78-4616-961a-d08fe633f307",
          "8_ATOMS/2800-0707-4395-86fa-85a2b8ed818b",
          "8_ATOMS/8766-a69c-42f7-af5e-d30bb6f76f56",
          "2_ATOMS/f7bc-fcea-4f67-9e15-4bd1ef5678df",
          "2_ATOMS/5e09-a331-440e-ae00-9941c9fd0e7b",
          "2_ATOMS/f837-a23d-4687-958d-779b6e4e59fd",
          "2_ATOMS/fc1c-6ab6-4c0e-921e-99710e6fe41b",
          "2_ATOMS/8ff7-f30f-4735-b581-be52392a2375",
          "2_ATOMS/b684-4f57-474b-9762-b3416b5e7985",
          "8_ATOMS/6459-266a-4939-8217-0fd9af42d13f",
          "8_ATOMS/6b6c-691a-41f5-b602-75e466592e19",
          "2_ATOMS/d5a2-51b8-4318-8470-959265ac5bef",
          "8_ATOMS/085c-aa27-45ef-b057-4291c5609360",
          "8_ATOMS/eda5-8292-4a7a-b0f8-145a070025a2",
          "8_ATOMS/b69b-c5d7-44b8-9205-9b64903208f1",
          "8_ATOMS/3a63-8a73-4390-9a3a-c894145e905d",
          "8_ATOMS/dd2a-f903-4e50-828c-31a7f2433f0c",
          "8_ATOMS/4ed6-914e-4aa3-923a-53c873f0cc31",
          "8_ATOMS/d19c-e73a-4d75-8774-a23153675bcf",
          "8_ATOMS/cca5-7a6f-4d1a-9d8d-9db99d3b9ad9",
          "8_ATOMS/db44-6e40-4bae-a2ac-cd867484409a",
          "8_ATOMS/8bfa-ca36-41f1-a041-14ad17494d59",
          "8_ATOMS/6d58-84e7-4e35-9212-912933e19a4b",
          "2_ATOMS/c0a3-2e8a-4977-bf34-294319b3b08a",
          "8_ATOMS/ce27-3a5c-47d4-9bbe-b49ab6f7661c",
          "2_ATOMS/ae0c-77e9-485f-945b-9f577bdde5ba",
          "8_ATOMS/1cf4-2059-418c-8863-4d420c27cce9",
          "8_ATOMS/f678-cc19-4a58-bfc0-4e1eb96ba1df",
          "2_ATOMS/d13d-c927-4b66-91a3-2eeb24c0e5ed",
          "8_ATOMS/e68c-70b9-48ed-81ed-ac5ca5410623",
          "8_ATOMS/c3a7-7dea-4d2d-9bf4-4bb67bfae598",
          "8_ATOMS/26c7-a545-4f61-8c23-b943fe43379d",
          "2_ATOMS/6953-d703-46af-85c2-b25ff69ab230",
          "2_ATOMS/c0e0-7549-496d-82e7-c3f6b1d81e58",
          "8_ATOMS/5c36-1c4c-4df8-8632-df1781b38753",
          "8_ATOMS/79f2-ba83-46ee-901b-8dc73d760382",
          "2_ATOMS/ea88-6da9-40cd-a518-934259fb69ef",
          "8_ATOMS/3541-ec35-4a86-b4de-5c554aa677e8",
          "8_ATOMS/b2fa-0169-4f14-92df-dbe1d9580be4",
          "8_ATOMS/2a68-331d-4fd7-814e-50a66d1f7fb3",
          "8_ATOMS/3e1a-7228-4379-831c-e9b3aed4a6f3",
          "2_ATOMS/90d7-6f26-499f-8a74-ff6195ba8bfd",
          "2_ATOMS/1cc2-6a59-4a92-85c5-20513877aa83",
          "8_ATOMS/c194-5d71-482e-a7d3-ee64f5d3d2f7",
          "2_ATOMS/ab72-cf42-49f9-9f3d-e87b849ae8f8",
          "8_ATOMS/0bd4-c222-4bba-be67-5a44463285f3",
          "2_ATOMS/1414-4998-4e19-a363-b75b38af229c",
          "8_ATOMS/2e86-ee22-443f-a656-3031ac87c4cf",
          "8_ATOMS/9de5-3839-496b-a5e7-f23a758769d9",
          "8_ATOMS/16bc-916a-47bb-9ce7-0d114ff0321e",
          "2_ATOMS/d323-f7ca-40e6-959c-30a5e5fd9920",
          "2_ATOMS/0d6b-1449-4daa-8812-b02ab6e548f4",
          "8_ATOMS/da88-e1b4-461f-b8e2-ecceaf198d59",
          "8_ATOMS/b9c1-1778-4006-b04e-d38f64f463fd",
          "8_ATOMS/551a-934e-4d9f-8d56-f8ae1d61bb30",
          "8_ATOMS/413a-a642-4263-b202-46fbe7306bc2",
          "8_ATOMS/04d2-e3d5-437c-995d-27869e00264f",
          "8_ATOMS/1d18-288a-4c0f-abcd-41854c8184e7",
          "8_ATOMS/5d0f-3b62-4490-8bbd-3aad11180ace",
          "8_ATOMS/17e4-ba59-43ff-b012-082b8b3662ea",
          "8_ATOMS/72f5-effe-42c4-bc67-12314ba36f5e",
          "8_ATOMS/d843-19fe-4a31-85d3-65f2bdb6d4bf",
          "8_ATOMS/5cf9-7d20-47f2-963c-5947c4c70bc1",
          "8_ATOMS/b5d4-ab7d-4311-88cc-f84cb526982c",
          "8_ATOMS/4511-ce63-40a9-818d-2460221f8f39",
          "2_ATOMS/544e-70b1-4187-bdfd-f445afbafb8c",
          "8_ATOMS/96a0-7316-4a64-a9c9-6ceab5385c2b",
          "2_ATOMS/1f9c-2663-4b33-a8d4-de414395690b",
          "8_ATOMS/6c11-8190-470e-9b99-b0b4f9c6a85a",
          "8_ATOMS/6bb6-c076-4ea9-a0b5-5a019a983ce2",
          "8_ATOMS/0ce0-cb79-452b-ad99-8c06db291bac",
          "8_ATOMS/9f67-a54a-43c7-aa0d-fbe09da6248b",
          "8_ATOMS/83b9-c5d8-453c-a3e7-58de211c4ed4",
          "8_ATOMS/e3fd-ba43-41c3-b53f-997c4a89dbfb",
          "8_ATOMS/509e-5392-403c-8dd2-8abab93606e6",
          "8_ATOMS/0fbe-18d9-48de-8521-cd50ca495d1b",
          "2_ATOMS/7abf-c0c4-4241-bd4e-9e8723d91b34",
          "8_ATOMS/3884-c103-432c-b80b-49ad03b30785",
          "2_ATOMS/dafc-2e7a-493b-9f2c-7e3d03075913",
          "8_ATOMS/195f-63a5-46e2-8d3c-827ba0b7e64d",
          "8_ATOMS/f943-e977-42d7-85bd-27c98fd7cc36",
          "2_ATOMS/a336-0306-4301-b0eb-6bbde7121b8e",
          "8_ATOMS/bcb4-59cf-47df-80fd-671c1111ff0d",
          "8_ATOMS/ace1-5569-4f73-b342-25b0117ec761",
          "8_ATOMS/bf53-c7cc-495a-a537-55068d54072d",
          "8_ATOMS/6e18-4d01-4df8-bb39-cebff567d06f",
          "8_ATOMS/04de-3b8b-47b2-8218-06a6180cae4b",
          "8_ATOMS/cb5c-6600-4702-a24d-fcc9879bdf25",
          "2_ATOMS/22a5-245d-4c46-b616-5b3b474ee0c1",
          "8_ATOMS/3802-7d47-46bf-94d5-91e5f4d8fc0d",
          "8_ATOMS/aa78-859c-4de1-92a2-39441a057b29",
          "2_ATOMS/73e8-5841-4f10-9f47-3db7535e01b9",
          "2_ATOMS/c8ce-475a-431c-b659-39b166ea3959",
          "8_ATOMS/3e12-d0ca-45fc-82f0-1ffe1bc11ef0",
          "2_ATOMS/b5da-3ad1-43d6-8db8-34c63eb32b38",
          "2_ATOMS/17f5-9b5b-4f25-bc83-ef21ad099938",
          "8_ATOMS/67c8-77cf-421f-b4aa-aafe539bb52f",
          "2_ATOMS/427a-33e4-40d4-9fbf-7d55d341bc33",
          "8_ATOMS/5741-1680-40df-b22c-30fb383946ba",
          "2_ATOMS/ab48-f618-4d86-8aef-70b5d2909cde",
          "8_ATOMS/ba61-4261-4b25-8279-1dc9c4a29234",
          "8_ATOMS/fa9b-3444-4ad0-b584-d1fd5321c143",
          "2_ATOMS/e9fa-338a-455e-b89b-e54a3e88dfdc",
          "2_ATOMS/0d73-8db6-47ac-a9af-c7a18cc34b67",
          "2_ATOMS/d574-002a-41f3-b25f-ea1736930981",
          "2_ATOMS/eeef-db9e-46b6-bee4-42ef8982b67a",
          "8_ATOMS/448f-8b12-4098-b563-d01a2d58831a",
          "8_ATOMS/4da6-62c4-44f2-aca8-15105e23ff8f",
          "8_ATOMS/4666-1cff-4b3f-b135-df49feb8397d",
          "8_ATOMS/f4e6-0678-4606-873c-7fd696c2d87f",
          "8_ATOMS/c41a-6105-459b-847f-08c5655b349b",
          "8_ATOMS/d1cd-3661-45e3-84c3-a8809b576649",
          "8_ATOMS/0d1d-5898-4d98-bc00-8575765b8763",
          "2_ATOMS/c7d9-e2cb-4e90-944e-66c004df6e86",
          "8_ATOMS/aec2-37eb-48ae-aff2-2813096ce12a",
          "8_ATOMS/3cc8-af3a-4d68-8849-e80109863642",
          "2_ATOMS/b90c-4646-47b0-9453-b0c9a8acd434",
          "8_ATOMS/653b-d929-44ce-ad92-a814c60c5814",
          "8_ATOMS/c01e-7d90-45aa-94f9-0d8391ecfe99",
          "2_ATOMS/7bbb-6d51-41eb-9de4-329298202ebf",
          "8_ATOMS/5121-fd0e-49b1-9372-c39d6862adbe",
          "2_ATOMS/9717-2053-4ea6-817f-c0014b258251",
          "2_ATOMS/3176-bf58-478a-a097-3de1d017dff4",
          "2_ATOMS/f71b-111a-49b0-8d4f-7519eaed5a56",
          "8_ATOMS/3faa-8f76-4e94-bb10-b02fd9befad3",
          "2_ATOMS/a8a9-4619-41d6-89cb-e5f0a19cce56",
          "8_ATOMS/a020-98e8-4d1c-8351-83eca46c29af",
          "2_ATOMS/392a-0f98-418f-b6f9-e33dee4890b6",
          "2_ATOMS/2f5b-a12e-4508-aa48-cf355b2303e5",
          "8_ATOMS/b8d5-a4d7-460e-830b-2cd6fdff77a2",
          "2_ATOMS/6d69-12f4-459d-ba19-f7951a3299dc",
          "8_ATOMS/6227-5d41-410f-a4b2-07ca829f3776",
          "2_ATOMS/b908-9d2a-4e27-96e6-c1f6f75a76f7",
          "8_ATOMS/a906-f1e6-464b-8557-b9c3095e511e",
          "8_ATOMS/2c8d-8760-4548-bb71-90b9365ce5bd",
          "2_ATOMS/0c9b-0f56-4c21-b69b-6147764120fa",
          "8_ATOMS/113a-9bba-47b7-9233-88124676c81e",
          "8_ATOMS/d972-1e26-4112-a6f0-7e806bc1c05c",
          "2_ATOMS/6d1a-578f-478c-a320-d8be012039e6",
          "8_ATOMS/eced-d657-4b03-800b-e453bd38135f",
          "8_ATOMS/31df-1793-4a97-8ad4-a14bb9bef379",
          "2_ATOMS/bd35-53fd-4a80-bb8b-10e9f11df634",
          "8_ATOMS/4bd0-b884-4c29-9452-d77eb042a615",
          "8_ATOMS/b21a-b539-4a97-9bf8-d7301e5c237a",
          "8_ATOMS/da48-fee7-4d13-a72b-bc4fa6fc4a82",
          "8_ATOMS/7641-d278-4b88-8dea-2b730aba6e42",
          "2_ATOMS/a4f7-5d3f-4e50-9eda-87df3bf9ba58",
          "2_ATOMS/f24e-9309-4793-a7db-191fe3749b47",
          "8_ATOMS/9623-63ed-444a-993a-c685def98b53",
          "2_ATOMS/2b8e-3c4f-47eb-b267-01ff9c624f56",
          "8_ATOMS/92f6-6b62-435f-8105-ac09a0d4b17b",
          "2_ATOMS/7e20-9cdf-4b2c-8134-6cadc8f64c34",
          "2_ATOMS/78dd-127d-46dd-9fcb-055e973f65e7",
          "8_ATOMS/4236-add8-4e6e-a53f-803237169e5e",
          "8_ATOMS/2043-eabe-45ad-82cd-6771ec01425e",
          "2_ATOMS/af08-63de-4132-b743-85aba30f078b",
          "8_ATOMS/e84c-005c-4672-8d63-61876b569f15",
          "8_ATOMS/7b57-1410-4da3-8535-5183ac1f2f61",
          "8_ATOMS/f9a5-eab6-44b5-af9b-576344e2d01e",
          "8_ATOMS/2606-f104-4cf9-a28f-8db93f5fdeb0",
          "8_ATOMS/697b-cb4f-498f-8e90-606cf201cbac",
          "8_ATOMS/2281-8663-47f8-91fa-a1c0391d9ead",
          "2_ATOMS/4786-d149-4efe-a849-8864cab52d41",
          "8_ATOMS/7b4c-15ed-4de2-a484-3bb7ef611778",
          "8_ATOMS/ca67-894a-467d-9dc6-b3e06204de26",
          "2_ATOMS/0baa-2e39-4ee6-92a8-677752f4dfab",
          "8_ATOMS/716d-0a43-4da5-9caf-062a28407cb9",
          "2_ATOMS/015c-36a2-442f-9368-e9eff0f2bc1e",
          "8_ATOMS/9bbd-7547-47e3-9dba-07b7bb4886e7",
          "2_ATOMS/585b-29ea-497e-abc2-5d0c0a14ce35",
          "8_ATOMS/0174-03d1-4ba8-81e1-a0fb3768772d",
          "8_ATOMS/d813-c55d-4172-90b8-417a2ee8994d",
          "2_ATOMS/81db-3671-4c4a-9ea4-696b8d440e2c",
          "8_ATOMS/7028-321c-44bd-a990-96edaa143ca9",
          "8_ATOMS/3a54-08b3-4cf4-803f-612c040be33e",
          "8_ATOMS/d566-c2ca-4ed8-b661-82ba425bfb70",
          "8_ATOMS/0eee-1046-4339-b30e-3d15903f3475",
          "2_ATOMS/52b6-d4b4-4aa1-bf10-8c7d44c978d3",
          "2_ATOMS/ca9e-7cea-439e-8ea2-9c941f637e64",
          "2_ATOMS/504a-71cd-4d25-a04a-b7fa45b92200",
          "8_ATOMS/03e7-69bd-43f2-8232-e67f1b04566c",
          "2_ATOMS/8fd0-caf0-4102-bb43-4aadc950f18f",
          "8_ATOMS/a929-4090-476e-956f-599bf8e97d8b",
          "2_ATOMS/c575-ecea-4fa1-a973-d050a4073ed5",
          "8_ATOMS/bdf2-80b6-4448-93ef-d3ed518e8519",
          "8_ATOMS/4881-1a75-4dc9-9de9-712039fc561a",
          "2_ATOMS/4cc1-6263-48b4-9a54-d06ac88f4c85",
          "8_ATOMS/1acd-25e0-40ee-9dd2-04b2c96c3356",
          "8_ATOMS/deb2-d742-4fd8-be83-cc54ac6fb197",
          "8_ATOMS/35fd-d22c-4a67-8781-41deb8034784",
          "2_ATOMS/8301-0bfc-40d7-9f86-53e2ed6270ad",
          "2_ATOMS/f2c2-b00b-468e-aa75-0a57f0bbac0c",
          "8_ATOMS/fb73-c0c2-42b3-be24-3f36cda66aeb",
          "8_ATOMS/5795-86d0-492f-a506-ac06fc0fe492",
          "8_ATOMS/807c-f894-4054-8ea4-da19dab86b43",
          "2_ATOMS/9f85-2c07-4c47-9756-127477c43c9c",
          "2_ATOMS/9b66-b574-4792-89d5-30f2717531d2",
          "2_ATOMS/b3e7-303c-470d-af56-c01169162fa7",
          "8_ATOMS/d15e-55f2-4e59-945d-276999e38471",
          "8_ATOMS/689f-2772-4546-9744-b08de54a56e3",
          "8_ATOMS/7f49-aa43-4b92-a2b2-a3bf11e36f26",
          "8_ATOMS/367b-7efd-41b4-b64f-95ee56078ec3",
          "8_ATOMS/331f-5a01-4163-8a76-76a1abea1e9c",
          "8_ATOMS/2e2c-7271-4bc4-96c9-f85b0c5021dc",
          "8_ATOMS/f84b-708e-416b-9af3-611f8bcf9c7f",
          "8_ATOMS/d0af-186e-40c4-88e6-29174efc2927",
          "8_ATOMS/855c-69df-4d31-89da-f10fbdd38700",
          "2_ATOMS/aeac-8391-4502-9a60-b94f97291cf6",
          "2_ATOMS/1c62-8f2c-4ebd-aa02-6633d42c6b31",
          "2_ATOMS/f016-fb0e-4d5c-b584-4f8987eb5676",
          "8_ATOMS/f538-1913-4bba-9cef-daa731e8395a",
          "8_ATOMS/0386-83c0-40ba-b640-5ba82ffebb33",
          "8_ATOMS/9b42-49dc-4b59-8350-6c0110680fd1",
          "8_ATOMS/9889-bd78-4e77-9a83-24ec084f5b0c",
          "8_ATOMS/d35d-a43c-402d-b06f-84ebab4ac933",
          "2_ATOMS/c8f1-37f0-45f2-a599-3cf112fc064d",
          "8_ATOMS/2ee8-0024-4547-9fd8-260307cd2e73",
          "2_ATOMS/1bbe-56b7-4a4e-a93b-636799eadb28",
          "8_ATOMS/18fc-314b-486a-84db-e1307b7a0d2d",
          "2_ATOMS/a4a5-71a5-463a-a02e-acd977e1dcda",
          "8_ATOMS/e0f4-41e6-4ebc-a38b-f41adc8a7e1f",
          "8_ATOMS/2ae5-71bc-41dc-ba88-4d4c98346b33",
          "8_ATOMS/5e7e-591c-42d8-be1b-7d3cf8f23e7d",
          "8_ATOMS/0e6c-43a3-49b5-a3e5-1b97dfd43c2b",
          "8_ATOMS/5e9e-df50-4bd8-861a-b544fa2116fe",
          "2_ATOMS/ae6a-00fa-4663-8380-96e5c56d21c0",
          "8_ATOMS/0fbb-edee-406e-8f54-25d8ad4be142",
          "8_ATOMS/b4d2-6b41-4e31-bba9-0defc9a44bb2",
          "8_ATOMS/1479-3df6-4004-a152-52add2bc8c83",
          "2_ATOMS/6780-94b9-4ee5-b18c-74a7abd5d391",
          "8_ATOMS/3afc-4b8e-4fff-9011-7830071d5763",
          "2_ATOMS/8da9-708f-4ce4-842c-40181e097f16",
          "8_ATOMS/7bfb-955a-4018-9899-677802339868",
          "8_ATOMS/39a7-8701-4b92-a6c9-75bc7781272e",
          "8_ATOMS/b4a9-9312-4f83-b021-6e4195bd9d88",
          "8_ATOMS/3bb1-a382-43b0-8f9c-2747fe4e64a3",
          "8_ATOMS/f220-57ef-407a-85bd-aebec2e9f118",
          "2_ATOMS/7492-f5cd-4523-b2ec-cf6b9977b453",
          "8_ATOMS/81bd-2478-40e4-b1cb-1d69d424a7cb",
          "8_ATOMS/f263-f716-4e8f-a88a-db338221714c",
          "8_ATOMS/b3e0-7e4e-458a-b888-48aeb7ec6914",
          "8_ATOMS/ee7c-d7fa-471e-85a1-796d083bc2bf",
          "2_ATOMS/f42a-df85-4da8-9960-efbedeb2d8b1",
          "2_ATOMS/ce81-05d6-40c9-8c2b-7a586d09140c",
          "2_ATOMS/69fe-d92c-491f-b567-e914a3fcb587",
          "8_ATOMS/5343-119f-42b7-a6c5-5076a52e195d",
          "2_ATOMS/194a-8bc3-475a-94aa-7230bf70b5fe",
          "8_ATOMS/b10c-59df-431c-ae6c-b40c0eee9cb9",
          "8_ATOMS/b384-594f-4de2-9819-e3a9c8808c16",
          "8_ATOMS/ee48-bb57-470a-aa76-579c265e2621",
          "8_ATOMS/82b3-4886-4447-b723-43a3ec6aa15c",
          "2_ATOMS/f3fd-c4c7-4d16-9d07-3cc6b451c775",
          "2_ATOMS/5bf9-72cf-43e7-97d0-12c4513fad3c",
          "8_ATOMS/0603-845d-4f2e-9343-fe69be891221",
          "2_ATOMS/7950-e060-4280-bb2f-9c1f559360b9",
          "8_ATOMS/cd00-138f-4083-b983-338698ba4f5c",
          "2_ATOMS/8601-2a77-4b0c-8897-5c61674ca074",
          "8_ATOMS/fc2c-86e8-4bca-82a9-903fad323e18",
          "8_ATOMS/a1a1-260e-4b75-969d-8ae95c0f6898",
          "8_ATOMS/df96-39c4-4210-9319-df25dd4eafbe",
          "8_ATOMS/6034-4690-47e5-b43d-6183191ce146",
          "2_ATOMS/f7af-d57a-4ea0-b708-c161297834a8",
          "8_ATOMS/7cee-6db4-4b30-92e5-427758763813",
          "2_ATOMS/ac9c-4fa8-4de1-9f2d-d5d2ceca6ce7",
          "8_ATOMS/535e-b118-4415-b555-519c2116e35e",
          "8_ATOMS/2445-3ab6-41a1-b25a-30b7723e983b",
          "2_ATOMS/6e3b-50c7-4f27-83c6-91008a6dfdd2",
          "8_ATOMS/e58c-d759-440d-985f-808d173490a5",
          "2_ATOMS/a4e4-2f64-4e68-a37a-9e84eb767a0c",
          "8_ATOMS/fcf2-c300-43c4-a560-b6eb8c9fc7f5",
          "8_ATOMS/50f1-59bf-4d7c-98ed-b83f71a89226",
          "2_ATOMS/ad1b-a3bf-4e7e-9f21-d6b28e150664",
          "8_ATOMS/a936-0223-46fd-a9bd-7431f15ae05e",
          "2_ATOMS/b23f-84f7-4970-845d-134491448a0a",
          "8_ATOMS/6e31-7158-464a-9a5e-a01bfd1b1feb",
          "8_ATOMS/3e67-dd35-48d6-954b-b712b65913bc",
          "2_ATOMS/9a8e-d5f2-4285-aef2-903da276e7fd",
          "8_ATOMS/01ec-d88d-468d-995c-fe2cb53a0f20",
          "2_ATOMS/054a-5bb6-4f0d-8841-6d2bc0a637e2",
          "8_ATOMS/d8c7-b0b4-4d41-895a-c014cdbd8416",
          "8_ATOMS/6097-8f14-44f8-ab2e-d5fa95cd8ed4",
          "8_ATOMS/e00a-9856-435d-b201-519f3c5f0e1c",
          "8_ATOMS/849c-7d59-4aea-afcd-3ef4f8a9364b",
          "2_ATOMS/ea42-862a-49ae-ba6c-c76cc48b5992",
          "8_ATOMS/9b70-417c-48c0-8850-db305a0cc7e8",
          "8_ATOMS/206b-84a4-448e-9bff-c353efe48997",
          "8_ATOMS/ffb8-6623-4c32-9320-49b359a920b6",
          "2_ATOMS/e465-cb91-43be-a4ba-c1c1c555eb35",
          "8_ATOMS/aeac-5eff-4c95-a087-3183efdaac59",
          "8_ATOMS/8fb0-5187-4844-ab5b-f005e5a16194",
          "8_ATOMS/770f-ff32-4bf0-8bd4-a5287eed58bb",
          "8_ATOMS/c8ab-700b-4b49-ba7e-cbba86f038f4",
          "8_ATOMS/0e3d-d113-4cae-8fb5-efbb31693cc6",
          "8_ATOMS/abc9-80f1-4b07-bef7-6961cdbb2646",
          "8_ATOMS/426a-3ace-45d7-b487-4fd14dd8156f",
          "2_ATOMS/9c5a-5235-4a0b-a232-2530a97994af",
          "2_ATOMS/16e8-c072-4b7f-a083-a2d26360dd5b",
          "8_ATOMS/1cac-378b-407b-8003-fbdabc186469",
          "2_ATOMS/6abb-7800-4e97-9f2a-6ba41244f7d6",
          "2_ATOMS/1b68-4e91-43d0-9dae-1b5248b8401a",
          "2_ATOMS/c580-0447-4510-bf6d-8dc278a7c3cf",
          "2_ATOMS/427d-bd91-4408-9c90-df9bf3d3f8d6",
          "8_ATOMS/f5b4-3472-40a6-a729-5ff76a6622ec",
          "8_ATOMS/af96-ff37-4319-a44b-8829b32c47c5",
          "8_ATOMS/a35d-6628-4c39-bb7e-af0c4ebc3b3c",
          "8_ATOMS/a0ba-40ee-4487-89ad-7dc8c73dfcd2",
          "2_ATOMS/d072-0939-4fbc-b570-87f5ec163a01",
          "2_ATOMS/8f7b-867e-4e9d-a027-997b50ee2ba6",
          "2_ATOMS/abf6-ddbd-4c06-b266-c1d188d0f599",
          "8_ATOMS/1cc7-af18-4909-949c-4e21a77d7117",
          "8_ATOMS/8b5d-1b10-4533-9692-4fa8612513be",
          "8_ATOMS/43b2-42d3-45ea-8d51-af0ba66cc534",
          "8_ATOMS/02e5-66b7-491e-a2a9-492390da1112",
          "8_ATOMS/ee88-a286-4342-ae83-0465e23e5d17",
          "2_ATOMS/d2e2-51e3-40ca-a3bd-4dcb70c095c2",
          "8_ATOMS/63f1-a091-4816-a6ba-bb15b5c0fd0a",
          "8_ATOMS/10d5-373d-43db-aceb-7a879e282249",
          "8_ATOMS/c763-90b3-424a-b625-0c4bdf1304c8",
          "8_ATOMS/5528-5003-46cd-a20f-e6aab5a89130",
          "8_ATOMS/e3cc-6ad0-4feb-9a57-e0890c10108a",
          "8_ATOMS/b4c0-ed55-40d0-ad37-5d549e326606",
          "8_ATOMS/c14d-82da-4a46-b4d6-faf510f2f863",
          "2_ATOMS/09e2-94d3-40c8-8573-8333bf3bf7a0",
          "8_ATOMS/3fa8-fd98-4945-8ed6-0c5abd4db0d7",
          "2_ATOMS/c2af-c30a-48f9-8b5f-985a238d5c8f",
          "8_ATOMS/39cf-a27b-42dd-a62e-62556132a798",
          "8_ATOMS/fd58-2809-45d6-99ad-a1c8d5d17205",
          "8_ATOMS/f7d0-8cff-4f38-86f7-2776a4722eae",
          "8_ATOMS/0d4c-9d42-477f-aee8-6f10efe7cab4",
          "8_ATOMS/e1df-2940-4ada-b9c0-d210a6bb2a19",
          "8_ATOMS/7a7d-4767-4a9f-85b6-ff969a2a95fa",
          "8_ATOMS/8749-524f-4288-bfd4-7fde36df2752",
          "8_ATOMS/37d2-3ae6-4173-bb6a-6109db59ffd2",
          "2_ATOMS/bed8-e0eb-4387-a261-9cadbe64ed5e",
          "8_ATOMS/07fa-c660-4f16-a9ce-1291001f24d7",
          "8_ATOMS/5cca-75fa-491a-923c-636d2bfea976",
          "8_ATOMS/14b7-c7be-4ccd-add1-ca45b8e47812",
          "8_ATOMS/da46-6889-48ff-ba59-868be4618d85",
          "8_ATOMS/9832-261b-41b8-849d-b3da65a062b3",
          "8_ATOMS/b213-0d6f-40ff-83df-a23dfb1c35f6",
          "8_ATOMS/67f7-4488-45f3-966f-02f44c226820",
          "8_ATOMS/cf45-8fab-49ce-bb09-48460be55180",
          "8_ATOMS/295b-f377-4136-adc5-8651a6872583",
          "2_ATOMS/adff-8cce-4139-b492-6c499fdeb6f0",
          "8_ATOMS/1d46-3566-4fcd-bd04-d5e44d2d01c3",
          "8_ATOMS/3202-8acb-4c85-85c0-67b01f7a6ec9",
          "8_ATOMS/26af-afe4-46ff-bb3d-c994b43b9f06",
          "2_ATOMS/7db0-d916-4b3e-acab-1ccc15aeb55d",
          "2_ATOMS/d94b-fd60-484d-9374-5e75296b3db3",
          "8_ATOMS/9eb6-4318-4a1c-9426-c1add063e5b3",
          "8_ATOMS/252e-6563-4655-9072-1c83c24a0042",
          "8_ATOMS/40ef-6ecb-46f2-bf96-24ade3b1e7b5",
          "8_ATOMS/1d30-db03-466f-b7aa-1ea30834c64d",
          "8_ATOMS/9d03-edd2-4e78-a319-dd3ffc6b5b20",
          "8_ATOMS/0be5-3c47-4f11-94b3-8b660682042f",
          "8_ATOMS/d442-0648-403c-9c89-d9c16c9ac166",
          "8_ATOMS/05ab-7a77-4f9a-b108-60d85e05bb8f",
          "8_ATOMS/4b84-4bfb-4799-8554-698d9a829ac7",
          "8_ATOMS/21a4-7d0f-4645-8252-ee2e1fe6090c",
          "8_ATOMS/89d0-2e38-49a5-9311-e1674de78de1",
          "8_ATOMS/1f2a-4b3d-4cd5-873a-c81ed8e732fb",
          "8_ATOMS/e65d-4965-49b8-b158-22b21b6b6000",
          "8_ATOMS/15d6-d312-4dbb-872a-d03db2325226",
          "2_ATOMS/e486-4f49-4560-a4d2-0363fd9b5157",
          "8_ATOMS/be92-4a5f-4598-8d66-8a35ecce05df",
          "2_ATOMS/aa48-a92e-45ac-8fc6-a04a1de61cc5",
          "8_ATOMS/ec1d-0a39-4fd1-ba0a-59f4ffdad637",
          "2_ATOMS/7802-3151-4e8b-b6a9-dca3830e686b",
          "8_ATOMS/0888-cde8-4bbf-8840-bbd0accf1d6c",
          "2_ATOMS/f187-a1f7-4fdf-8984-9551cc50970b",
          "8_ATOMS/c281-c1cc-4513-a249-c0e8622bea04",
          "8_ATOMS/c731-b638-49c8-8d2d-e3fff8e4a776",
          "8_ATOMS/de99-8ac4-4d56-854b-f6570a3404ad",
          "8_ATOMS/32a4-f97d-4df0-8173-677ec3c26caa",
          "8_ATOMS/6e63-0e79-468b-b5b0-9aadee993e3c",
          "2_ATOMS/5bc4-c7a6-4074-be4f-f983d5dbdbcb",
          "8_ATOMS/1d71-00ad-42da-b7f8-2da102188fe1",
          "2_ATOMS/3ffa-2174-4501-ae9d-2d80f44f8c00",
          "8_ATOMS/b7d2-671f-4acd-a96e-0b6416940db0",
          "8_ATOMS/0ea5-5705-4196-830f-2aeaac644c9d",
          "8_ATOMS/ca0c-26e1-431d-9f68-74e21fc36f48",
          "8_ATOMS/e5b1-ad38-4e6d-a7c0-e2f181ef7795",
          "8_ATOMS/1ebe-fbcf-4bfc-a6bb-302425263cf2",
          "8_ATOMS/3cdc-77cd-4685-860f-5dc90e0ee7d4",
          "8_ATOMS/b5f1-87ae-481c-a4b2-058274105e7f",
          "64_ATOMS/dcd8-ab99-4e8b-81ba-401f6739412e",
          "64_ATOMS/348a-4ea5-4c95-8d6b-7d32485b3156",
          "64_ATOMS/342f-eb3b-4268-820f-747c3936102b"
         ],
         "tickvals": [
          0,
          1,
          2,
          3,
          4,
          5,
          6,
          7,
          8,
          9,
          10,
          11,
          12,
          13,
          14,
          15,
          16,
          17,
          18,
          19,
          20,
          21,
          22,
          23,
          24,
          25,
          26,
          27,
          28,
          29,
          30,
          31,
          32,
          33,
          34,
          35,
          36,
          37,
          38,
          39,
          40,
          41,
          42,
          43,
          44,
          45,
          46,
          47,
          48,
          49,
          50,
          51,
          52,
          53,
          54,
          55,
          56,
          57,
          58,
          59,
          60,
          61,
          62,
          63,
          64,
          65,
          66,
          67,
          68,
          69,
          70,
          71,
          72,
          73,
          74,
          75,
          76,
          77,
          78,
          79,
          80,
          81,
          82,
          83,
          84,
          85,
          86,
          87,
          88,
          89,
          90,
          91,
          92,
          93,
          94,
          95,
          96,
          97,
          98,
          99,
          100,
          101,
          102,
          103,
          104,
          105,
          106,
          107,
          108,
          109,
          110,
          111,
          112,
          113,
          114,
          115,
          116,
          117,
          118,
          119,
          120,
          121,
          122,
          123,
          124,
          125,
          126,
          127,
          128,
          129,
          130,
          131,
          132,
          133,
          134,
          135,
          136,
          137,
          138,
          139,
          140,
          141,
          142,
          143,
          144,
          145,
          146,
          147,
          148,
          149,
          150,
          151,
          152,
          153,
          154,
          155,
          156,
          157,
          158,
          159,
          160,
          161,
          162,
          163,
          164,
          165,
          166,
          167,
          168,
          169,
          170,
          171,
          172,
          173,
          174,
          175,
          176,
          177,
          178,
          179,
          180,
          181,
          182,
          183,
          184,
          185,
          186,
          187,
          188,
          189,
          190,
          191,
          192,
          193,
          194,
          195,
          196,
          197,
          198,
          199,
          200,
          201,
          202,
          203,
          204,
          205,
          206,
          207,
          208,
          209,
          210,
          211,
          212,
          213,
          214,
          215,
          216,
          217,
          218,
          219,
          220,
          221,
          222,
          223,
          224,
          225,
          226,
          227,
          228,
          229,
          230,
          231,
          232,
          233,
          234,
          235,
          236,
          237,
          238,
          239,
          240,
          241,
          242,
          243,
          244,
          245,
          246,
          247,
          248,
          249,
          250,
          251,
          252,
          253,
          254,
          255,
          256,
          257,
          258,
          259,
          260,
          261,
          262,
          263,
          264,
          265,
          266,
          267,
          268,
          269,
          270,
          271,
          272,
          273,
          274,
          275,
          276,
          277,
          278,
          279,
          280,
          281,
          282,
          283,
          284,
          285,
          286,
          287,
          288,
          289,
          290,
          291,
          292,
          293,
          294,
          295,
          296,
          297,
          298,
          299,
          300,
          301,
          302,
          303,
          304,
          305,
          306,
          307,
          308,
          309,
          310,
          311,
          312,
          313,
          314,
          315,
          316,
          317,
          318,
          319,
          320,
          321,
          322,
          323,
          324,
          325,
          326,
          327,
          328,
          329,
          330,
          331,
          332,
          333,
          334,
          335,
          336,
          337,
          338,
          339,
          340,
          341,
          342,
          343,
          344,
          345,
          346,
          347,
          348,
          349,
          350,
          351,
          352,
          353,
          354,
          355,
          356,
          357,
          358,
          359,
          360,
          361,
          362,
          363,
          364,
          365,
          366,
          367,
          368,
          369,
          370,
          371,
          372,
          373,
          374,
          375,
          376,
          377,
          378,
          379,
          380,
          381,
          382,
          383,
          384,
          385,
          386,
          387,
          388,
          389,
          390,
          391,
          392,
          393,
          394,
          395,
          396,
          397,
          398,
          399,
          400,
          401,
          402,
          403,
          404,
          405,
          406,
          407,
          408,
          409,
          410,
          411,
          412,
          413,
          414,
          415,
          416,
          417,
          418,
          419,
          420,
          421,
          422,
          423,
          424,
          425,
          426,
          427,
          428,
          429,
          430,
          431,
          432,
          433,
          434,
          435,
          436,
          437,
          438,
          439,
          440,
          441,
          442,
          443,
          444,
          445,
          446,
          447,
          448,
          449,
          450,
          451,
          452,
          453,
          454,
          455,
          456,
          457,
          458,
          459,
          460,
          461,
          462,
          463,
          464,
          465,
          466,
          467,
          468,
          469,
          470,
          471,
          472,
          473,
          474,
          475,
          476,
          477,
          478,
          479,
          480,
          481,
          482,
          483,
          484,
          485,
          486,
          487,
          488,
          489,
          490,
          491,
          492,
          493,
          494,
          495,
          496,
          497,
          498,
          499,
          500,
          501,
          502,
          503,
          504,
          505,
          506,
          507,
          508,
          509,
          510,
          511,
          512,
          513,
          514,
          515,
          516,
          517,
          518,
          519,
          520,
          521,
          522,
          523,
          524,
          525,
          526,
          527,
          528,
          529,
          530,
          531,
          532,
          533,
          534,
          535,
          536,
          537,
          538,
          539,
          540,
          541,
          542,
          543,
          544,
          545,
          546,
          547,
          548,
          549,
          550,
          551,
          552,
          553,
          554,
          555,
          556,
          557,
          558,
          559,
          560,
          561,
          562,
          563,
          564,
          565,
          566,
          567,
          568,
          569,
          570,
          571,
          572,
          573,
          574,
          575,
          576,
          577,
          578,
          579,
          580,
          581
         ]
        }
       }
      }
     },
     "metadata": {},
     "output_type": "display_data"
    },
    {
     "name": "stdout",
     "output_type": "stream",
     "text": [
      "Rendered\n"
     ]
    }
   ],
   "source": [
    "filepath= savedir / \"alldataset_matrix_elements.html\"\n",
    "title = f\"Dataset analysis. Used model {model_dir.parts[-1]}\"\n",
    "# plot_pred_vs_true_matrix_elements(\n",
    "#     train_data=train_data, val_data=val_data,\n",
    "#     colors=colors, title=title,\n",
    "#     train_labels=train_labels, val_labels=val_labels,\n",
    "#     filepath=filepath\n",
    "# )\n",
    "\n",
    "n_train_samples = len(train_data[0])\n",
    "n_val_samples = len(val_data[0])\n",
    "filepath= savedir / \"alldataset_mean.html\"\n",
    "title = f\"Mean Dataset analysis. Used model {model_dir.parts[-1]}\"\n",
    "# plot_pred_vs_true_mean(\n",
    "#     colors=colors, title=title,\n",
    "#     train_means=train_means, val_means=val_means,\n",
    "#     train_stds=train_stds, val_stds=val_stds,\n",
    "#     labels=labels,\n",
    "#     n_train_samples=n_train_samples, n_val_samples=n_val_samples,\n",
    "#     filepath=filepath\n",
    "# )\n",
    "\n",
    "\n",
    "n_train_samples = len(train_data[0])\n",
    "n_val_samples = len(val_data[0])\n",
    "filepath= savedir / \"alldataset_maxae.html\"\n",
    "title = f\"Max Absolute Error Dataset analysis. Used model {model_dir.parts[-1]}\"\n",
    "title_x=\"|True-Pred| (eV)\"\n",
    "plot_alldataset_struct_vs_scalar(\n",
    "    title=title, title_x=title_x,\n",
    "    values_train=maxaes[0], values_val=None,\n",
    "    labels_train=labels[0], labels_val=None,\n",
    "    n_train_samples=len(maxaes[0]), n_val_samples=None,\n",
    "    filepath=None\n",
    ")\n",
    "print(\"Rendered\")"
   ]
  },
  {
   "cell_type": "code",
   "execution_count": null,
   "id": "42ae8f9e",
   "metadata": {},
   "outputs": [
    {
     "data": {
      "application/vnd.plotly.v1+json": {
       "config": {
        "plotlyServerURL": "https://plot.ly"
       },
       "data": [
        {
         "marker": {
          "color": "blue",
          "size": 6,
          "symbol": "x"
         },
         "mode": "markers",
         "name": "Training",
         "showlegend": true,
         "type": "scatter",
         "x": [
          -0.000057578199630370364,
          0.000107758300146088,
          -0.00026777508901432157,
          0.00001578261435497552,
          0.000005274435352475848,
          -0.000002488080099283252,
          0.000034879227314377204,
          0.00001379210880259052,
          6.998061508056708e-7,
          0.000015326133507187478
         ],
         "y": [
          0,
          1,
          2,
          3,
          4,
          5,
          6,
          7,
          8,
          9
         ]
        },
        {
         "marker": {
          "opacity": 0
         },
         "mode": "markers",
         "showlegend": false,
         "type": "scatter",
         "visible": true,
         "x": [
          -0.00026777508901432157,
          0.000107758300146088
         ],
         "xaxis": "x2",
         "y": [
          -1,
          -1
         ]
        }
       ],
       "layout": {
        "height": 250,
        "margin": {
         "b": 45,
         "l": 40,
         "r": 20,
         "t": 65
        },
        "template": {
         "data": {
          "bar": [
           {
            "error_x": {
             "color": "#2a3f5f"
            },
            "error_y": {
             "color": "#2a3f5f"
            },
            "marker": {
             "line": {
              "color": "#E5ECF6",
              "width": 0.5
             },
             "pattern": {
              "fillmode": "overlay",
              "size": 10,
              "solidity": 0.2
             }
            },
            "type": "bar"
           }
          ],
          "barpolar": [
           {
            "marker": {
             "line": {
              "color": "#E5ECF6",
              "width": 0.5
             },
             "pattern": {
              "fillmode": "overlay",
              "size": 10,
              "solidity": 0.2
             }
            },
            "type": "barpolar"
           }
          ],
          "carpet": [
           {
            "aaxis": {
             "endlinecolor": "#2a3f5f",
             "gridcolor": "white",
             "linecolor": "white",
             "minorgridcolor": "white",
             "startlinecolor": "#2a3f5f"
            },
            "baxis": {
             "endlinecolor": "#2a3f5f",
             "gridcolor": "white",
             "linecolor": "white",
             "minorgridcolor": "white",
             "startlinecolor": "#2a3f5f"
            },
            "type": "carpet"
           }
          ],
          "choropleth": [
           {
            "colorbar": {
             "outlinewidth": 0,
             "ticks": ""
            },
            "type": "choropleth"
           }
          ],
          "contour": [
           {
            "colorbar": {
             "outlinewidth": 0,
             "ticks": ""
            },
            "colorscale": [
             [
              0,
              "#0d0887"
             ],
             [
              0.1111111111111111,
              "#46039f"
             ],
             [
              0.2222222222222222,
              "#7201a8"
             ],
             [
              0.3333333333333333,
              "#9c179e"
             ],
             [
              0.4444444444444444,
              "#bd3786"
             ],
             [
              0.5555555555555556,
              "#d8576b"
             ],
             [
              0.6666666666666666,
              "#ed7953"
             ],
             [
              0.7777777777777778,
              "#fb9f3a"
             ],
             [
              0.8888888888888888,
              "#fdca26"
             ],
             [
              1,
              "#f0f921"
             ]
            ],
            "type": "contour"
           }
          ],
          "contourcarpet": [
           {
            "colorbar": {
             "outlinewidth": 0,
             "ticks": ""
            },
            "type": "contourcarpet"
           }
          ],
          "heatmap": [
           {
            "colorbar": {
             "outlinewidth": 0,
             "ticks": ""
            },
            "colorscale": [
             [
              0,
              "#0d0887"
             ],
             [
              0.1111111111111111,
              "#46039f"
             ],
             [
              0.2222222222222222,
              "#7201a8"
             ],
             [
              0.3333333333333333,
              "#9c179e"
             ],
             [
              0.4444444444444444,
              "#bd3786"
             ],
             [
              0.5555555555555556,
              "#d8576b"
             ],
             [
              0.6666666666666666,
              "#ed7953"
             ],
             [
              0.7777777777777778,
              "#fb9f3a"
             ],
             [
              0.8888888888888888,
              "#fdca26"
             ],
             [
              1,
              "#f0f921"
             ]
            ],
            "type": "heatmap"
           }
          ],
          "histogram": [
           {
            "marker": {
             "pattern": {
              "fillmode": "overlay",
              "size": 10,
              "solidity": 0.2
             }
            },
            "type": "histogram"
           }
          ],
          "histogram2d": [
           {
            "colorbar": {
             "outlinewidth": 0,
             "ticks": ""
            },
            "colorscale": [
             [
              0,
              "#0d0887"
             ],
             [
              0.1111111111111111,
              "#46039f"
             ],
             [
              0.2222222222222222,
              "#7201a8"
             ],
             [
              0.3333333333333333,
              "#9c179e"
             ],
             [
              0.4444444444444444,
              "#bd3786"
             ],
             [
              0.5555555555555556,
              "#d8576b"
             ],
             [
              0.6666666666666666,
              "#ed7953"
             ],
             [
              0.7777777777777778,
              "#fb9f3a"
             ],
             [
              0.8888888888888888,
              "#fdca26"
             ],
             [
              1,
              "#f0f921"
             ]
            ],
            "type": "histogram2d"
           }
          ],
          "histogram2dcontour": [
           {
            "colorbar": {
             "outlinewidth": 0,
             "ticks": ""
            },
            "colorscale": [
             [
              0,
              "#0d0887"
             ],
             [
              0.1111111111111111,
              "#46039f"
             ],
             [
              0.2222222222222222,
              "#7201a8"
             ],
             [
              0.3333333333333333,
              "#9c179e"
             ],
             [
              0.4444444444444444,
              "#bd3786"
             ],
             [
              0.5555555555555556,
              "#d8576b"
             ],
             [
              0.6666666666666666,
              "#ed7953"
             ],
             [
              0.7777777777777778,
              "#fb9f3a"
             ],
             [
              0.8888888888888888,
              "#fdca26"
             ],
             [
              1,
              "#f0f921"
             ]
            ],
            "type": "histogram2dcontour"
           }
          ],
          "mesh3d": [
           {
            "colorbar": {
             "outlinewidth": 0,
             "ticks": ""
            },
            "type": "mesh3d"
           }
          ],
          "parcoords": [
           {
            "line": {
             "colorbar": {
              "outlinewidth": 0,
              "ticks": ""
             }
            },
            "type": "parcoords"
           }
          ],
          "pie": [
           {
            "automargin": true,
            "type": "pie"
           }
          ],
          "scatter": [
           {
            "fillpattern": {
             "fillmode": "overlay",
             "size": 10,
             "solidity": 0.2
            },
            "type": "scatter"
           }
          ],
          "scatter3d": [
           {
            "line": {
             "colorbar": {
              "outlinewidth": 0,
              "ticks": ""
             }
            },
            "marker": {
             "colorbar": {
              "outlinewidth": 0,
              "ticks": ""
             }
            },
            "type": "scatter3d"
           }
          ],
          "scattercarpet": [
           {
            "marker": {
             "colorbar": {
              "outlinewidth": 0,
              "ticks": ""
             }
            },
            "type": "scattercarpet"
           }
          ],
          "scattergeo": [
           {
            "marker": {
             "colorbar": {
              "outlinewidth": 0,
              "ticks": ""
             }
            },
            "type": "scattergeo"
           }
          ],
          "scattergl": [
           {
            "marker": {
             "colorbar": {
              "outlinewidth": 0,
              "ticks": ""
             }
            },
            "type": "scattergl"
           }
          ],
          "scattermap": [
           {
            "marker": {
             "colorbar": {
              "outlinewidth": 0,
              "ticks": ""
             }
            },
            "type": "scattermap"
           }
          ],
          "scattermapbox": [
           {
            "marker": {
             "colorbar": {
              "outlinewidth": 0,
              "ticks": ""
             }
            },
            "type": "scattermapbox"
           }
          ],
          "scatterpolar": [
           {
            "marker": {
             "colorbar": {
              "outlinewidth": 0,
              "ticks": ""
             }
            },
            "type": "scatterpolar"
           }
          ],
          "scatterpolargl": [
           {
            "marker": {
             "colorbar": {
              "outlinewidth": 0,
              "ticks": ""
             }
            },
            "type": "scatterpolargl"
           }
          ],
          "scatterternary": [
           {
            "marker": {
             "colorbar": {
              "outlinewidth": 0,
              "ticks": ""
             }
            },
            "type": "scatterternary"
           }
          ],
          "surface": [
           {
            "colorbar": {
             "outlinewidth": 0,
             "ticks": ""
            },
            "colorscale": [
             [
              0,
              "#0d0887"
             ],
             [
              0.1111111111111111,
              "#46039f"
             ],
             [
              0.2222222222222222,
              "#7201a8"
             ],
             [
              0.3333333333333333,
              "#9c179e"
             ],
             [
              0.4444444444444444,
              "#bd3786"
             ],
             [
              0.5555555555555556,
              "#d8576b"
             ],
             [
              0.6666666666666666,
              "#ed7953"
             ],
             [
              0.7777777777777778,
              "#fb9f3a"
             ],
             [
              0.8888888888888888,
              "#fdca26"
             ],
             [
              1,
              "#f0f921"
             ]
            ],
            "type": "surface"
           }
          ],
          "table": [
           {
            "cells": {
             "fill": {
              "color": "#EBF0F8"
             },
             "line": {
              "color": "white"
             }
            },
            "header": {
             "fill": {
              "color": "#C8D4E3"
             },
             "line": {
              "color": "white"
             }
            },
            "type": "table"
           }
          ]
         },
         "layout": {
          "annotationdefaults": {
           "arrowcolor": "#2a3f5f",
           "arrowhead": 0,
           "arrowwidth": 1
          },
          "autotypenumbers": "strict",
          "coloraxis": {
           "colorbar": {
            "outlinewidth": 0,
            "ticks": ""
           }
          },
          "colorscale": {
           "diverging": [
            [
             0,
             "#8e0152"
            ],
            [
             0.1,
             "#c51b7d"
            ],
            [
             0.2,
             "#de77ae"
            ],
            [
             0.3,
             "#f1b6da"
            ],
            [
             0.4,
             "#fde0ef"
            ],
            [
             0.5,
             "#f7f7f7"
            ],
            [
             0.6,
             "#e6f5d0"
            ],
            [
             0.7,
             "#b8e186"
            ],
            [
             0.8,
             "#7fbc41"
            ],
            [
             0.9,
             "#4d9221"
            ],
            [
             1,
             "#276419"
            ]
           ],
           "sequential": [
            [
             0,
             "#0d0887"
            ],
            [
             0.1111111111111111,
             "#46039f"
            ],
            [
             0.2222222222222222,
             "#7201a8"
            ],
            [
             0.3333333333333333,
             "#9c179e"
            ],
            [
             0.4444444444444444,
             "#bd3786"
            ],
            [
             0.5555555555555556,
             "#d8576b"
            ],
            [
             0.6666666666666666,
             "#ed7953"
            ],
            [
             0.7777777777777778,
             "#fb9f3a"
            ],
            [
             0.8888888888888888,
             "#fdca26"
            ],
            [
             1,
             "#f0f921"
            ]
           ],
           "sequentialminus": [
            [
             0,
             "#0d0887"
            ],
            [
             0.1111111111111111,
             "#46039f"
            ],
            [
             0.2222222222222222,
             "#7201a8"
            ],
            [
             0.3333333333333333,
             "#9c179e"
            ],
            [
             0.4444444444444444,
             "#bd3786"
            ],
            [
             0.5555555555555556,
             "#d8576b"
            ],
            [
             0.6666666666666666,
             "#ed7953"
            ],
            [
             0.7777777777777778,
             "#fb9f3a"
            ],
            [
             0.8888888888888888,
             "#fdca26"
            ],
            [
             1,
             "#f0f921"
            ]
           ]
          },
          "colorway": [
           "#636efa",
           "#EF553B",
           "#00cc96",
           "#ab63fa",
           "#FFA15A",
           "#19d3f3",
           "#FF6692",
           "#B6E880",
           "#FF97FF",
           "#FECB52"
          ],
          "font": {
           "color": "#2a3f5f"
          },
          "geo": {
           "bgcolor": "white",
           "lakecolor": "white",
           "landcolor": "#E5ECF6",
           "showlakes": true,
           "showland": true,
           "subunitcolor": "white"
          },
          "hoverlabel": {
           "align": "left"
          },
          "hovermode": "closest",
          "mapbox": {
           "style": "light"
          },
          "paper_bgcolor": "white",
          "plot_bgcolor": "#E5ECF6",
          "polar": {
           "angularaxis": {
            "gridcolor": "white",
            "linecolor": "white",
            "ticks": ""
           },
           "bgcolor": "#E5ECF6",
           "radialaxis": {
            "gridcolor": "white",
            "linecolor": "white",
            "ticks": ""
           }
          },
          "scene": {
           "xaxis": {
            "backgroundcolor": "#E5ECF6",
            "gridcolor": "white",
            "gridwidth": 2,
            "linecolor": "white",
            "showbackground": true,
            "ticks": "",
            "zerolinecolor": "white"
           },
           "yaxis": {
            "backgroundcolor": "#E5ECF6",
            "gridcolor": "white",
            "gridwidth": 2,
            "linecolor": "white",
            "showbackground": true,
            "ticks": "",
            "zerolinecolor": "white"
           },
           "zaxis": {
            "backgroundcolor": "#E5ECF6",
            "gridcolor": "white",
            "gridwidth": 2,
            "linecolor": "white",
            "showbackground": true,
            "ticks": "",
            "zerolinecolor": "white"
           }
          },
          "shapedefaults": {
           "line": {
            "color": "#2a3f5f"
           }
          },
          "ternary": {
           "aaxis": {
            "gridcolor": "white",
            "linecolor": "white",
            "ticks": ""
           },
           "baxis": {
            "gridcolor": "white",
            "linecolor": "white",
            "ticks": ""
           },
           "bgcolor": "#E5ECF6",
           "caxis": {
            "gridcolor": "white",
            "linecolor": "white",
            "ticks": ""
           }
          },
          "title": {
           "x": 0.05
          },
          "xaxis": {
           "automargin": true,
           "gridcolor": "white",
           "linecolor": "white",
           "ticks": "",
           "title": {
            "standoff": 15
           },
           "zerolinecolor": "white",
           "zerolinewidth": 2
          },
          "yaxis": {
           "automargin": true,
           "gridcolor": "white",
           "linecolor": "white",
           "ticks": "",
           "title": {
            "standoff": 15
           },
           "zerolinecolor": "white",
           "zerolinewidth": 2
          }
         }
        },
        "title": {
         "pad": {
          "t": 10
         },
         "text": "Mean of non-zero elements of (True-Pred) Dataset analysis. Used model h_crystalls_1",
         "x": 0.01,
         "xanchor": "left",
         "y": 1,
         "yanchor": "top"
        },
        "width": 800,
        "xaxis": {
         "exponentformat": "power",
         "showexponent": "last",
         "showline": true,
         "side": "bottom",
         "title": {
          "standoff": 0,
          "text": "Mean(True-Pred) (eV)"
         }
        },
        "xaxis2": {
         "exponentformat": "power",
         "overlaying": "x",
         "showexponent": "last",
         "side": "top",
         "title": {
          "standoff": 0,
          "text": "Mean(True-Pred) (eV)"
         }
        },
        "yaxis": {
         "autorange": false,
         "range": [
          -0.5,
          9.5
         ],
         "tickmode": "array",
         "ticktext": [
          "2_ATOMS/db65-6186-4188-b955-0dca4cd7daa1",
          "2_ATOMS/4130-44f6-445e-8a26-4f6afcdd73ea",
          "2_ATOMS/c185-8b61-445e-8068-be370e3617c6",
          "2_ATOMS/45fa-290d-448f-aab5-51f41046d60d",
          "8_ATOMS/88bd-ed8a-4749-bad7-033e9549713c",
          "8_ATOMS/bca3-f473-4c5e-8407-cbdc2d7c68a1",
          "8_ATOMS/2723-7128-46f7-958d-c89608e72fa6",
          "8_ATOMS/6b54-07f6-4e80-b536-06e02853b9f5",
          "8_ATOMS/255c-455e-477d-96d7-bb1b063687fd",
          "2_ATOMS/c924-ac64-4837-a960-ff786d6c6836"
         ],
         "tickvals": [
          0,
          1,
          2,
          3,
          4,
          5,
          6,
          7,
          8,
          9
         ]
        }
       }
      }
     },
     "metadata": {},
     "output_type": "display_data"
    }
   ],
   "source": [
    "# The mean\n",
    "labels_train = [path.parts[-2][14:] +\"/\"+ path.parts[-1] for path in train_paths][:10]\n",
    "labels_val = [path.parts[-2][14:] +\"/\"+ path.parts[-1] for path in val_paths][:10]\n",
    "\n",
    "# Mean of the absolute error\n",
    "diff_train = [t - p for t, p in zip(train_true, train_pred)][:10]\n",
    "diff_val = [t - p for t, p in zip(val_true, val_pred)][:10]\n",
    "values_train = [np.mean(diff_train[i].data) for i in range(len(diff_train))]\n",
    "values_val = [np.mean(diff_val[i].data) for i in range(len(diff_val))]\n",
    "\n",
    "filepath= savedir / \"alldataset_mean.html\"\n",
    "title = f\"Mean of non-zero elements of (True-Pred) Dataset analysis. Used model {model_dir.parts[-1]}\"\n",
    "title_x=\"Mean(True-Pred) (eV)\"\n",
    "plot_alldataset_struct_vs_scalar(\n",
    "    title, title_x,\n",
    "    values_train, labels_train, len(values_train),\n",
    "    values_val=None, labels_val=None, n_val_samples=None,\n",
    "    filepath=None\n",
    ")\n",
    "None"
   ]
  },
  {
   "cell_type": "code",
   "execution_count": 6,
   "id": "41fe0885",
   "metadata": {},
   "outputs": [
    {
     "data": {
      "application/vnd.plotly.v1+json": {
       "config": {
        "plotlyServerURL": "https://plot.ly"
       },
       "data": [
        {
         "marker": {
          "color": "blue",
          "size": 6,
          "symbol": "x"
         },
         "mode": "markers",
         "name": "Training",
         "showlegend": true,
         "type": "scatter",
         "x": [
          0.012584078125655651,
          0.015603394247591496,
          0.026987483724951744,
          0.011065482161939144,
          0.007051880471408367,
          0.009743493981659412,
          0.014716115780174732,
          0.01955079473555088,
          0.007559154648333788,
          0.0072062816470861435
         ],
         "y": [
          0,
          1,
          2,
          3,
          4,
          5,
          6,
          7,
          8,
          9
         ]
        },
        {
         "marker": {
          "opacity": 0
         },
         "mode": "markers",
         "showlegend": false,
         "type": "scatter",
         "visible": true,
         "x": [
          0.007051880471408367,
          0.026987483724951744
         ],
         "xaxis": "x2",
         "y": [
          -1,
          -1
         ]
        }
       ],
       "layout": {
        "height": 250,
        "margin": {
         "b": 45,
         "l": 40,
         "r": 20,
         "t": 65
        },
        "template": {
         "data": {
          "bar": [
           {
            "error_x": {
             "color": "#2a3f5f"
            },
            "error_y": {
             "color": "#2a3f5f"
            },
            "marker": {
             "line": {
              "color": "#E5ECF6",
              "width": 0.5
             },
             "pattern": {
              "fillmode": "overlay",
              "size": 10,
              "solidity": 0.2
             }
            },
            "type": "bar"
           }
          ],
          "barpolar": [
           {
            "marker": {
             "line": {
              "color": "#E5ECF6",
              "width": 0.5
             },
             "pattern": {
              "fillmode": "overlay",
              "size": 10,
              "solidity": 0.2
             }
            },
            "type": "barpolar"
           }
          ],
          "carpet": [
           {
            "aaxis": {
             "endlinecolor": "#2a3f5f",
             "gridcolor": "white",
             "linecolor": "white",
             "minorgridcolor": "white",
             "startlinecolor": "#2a3f5f"
            },
            "baxis": {
             "endlinecolor": "#2a3f5f",
             "gridcolor": "white",
             "linecolor": "white",
             "minorgridcolor": "white",
             "startlinecolor": "#2a3f5f"
            },
            "type": "carpet"
           }
          ],
          "choropleth": [
           {
            "colorbar": {
             "outlinewidth": 0,
             "ticks": ""
            },
            "type": "choropleth"
           }
          ],
          "contour": [
           {
            "colorbar": {
             "outlinewidth": 0,
             "ticks": ""
            },
            "colorscale": [
             [
              0,
              "#0d0887"
             ],
             [
              0.1111111111111111,
              "#46039f"
             ],
             [
              0.2222222222222222,
              "#7201a8"
             ],
             [
              0.3333333333333333,
              "#9c179e"
             ],
             [
              0.4444444444444444,
              "#bd3786"
             ],
             [
              0.5555555555555556,
              "#d8576b"
             ],
             [
              0.6666666666666666,
              "#ed7953"
             ],
             [
              0.7777777777777778,
              "#fb9f3a"
             ],
             [
              0.8888888888888888,
              "#fdca26"
             ],
             [
              1,
              "#f0f921"
             ]
            ],
            "type": "contour"
           }
          ],
          "contourcarpet": [
           {
            "colorbar": {
             "outlinewidth": 0,
             "ticks": ""
            },
            "type": "contourcarpet"
           }
          ],
          "heatmap": [
           {
            "colorbar": {
             "outlinewidth": 0,
             "ticks": ""
            },
            "colorscale": [
             [
              0,
              "#0d0887"
             ],
             [
              0.1111111111111111,
              "#46039f"
             ],
             [
              0.2222222222222222,
              "#7201a8"
             ],
             [
              0.3333333333333333,
              "#9c179e"
             ],
             [
              0.4444444444444444,
              "#bd3786"
             ],
             [
              0.5555555555555556,
              "#d8576b"
             ],
             [
              0.6666666666666666,
              "#ed7953"
             ],
             [
              0.7777777777777778,
              "#fb9f3a"
             ],
             [
              0.8888888888888888,
              "#fdca26"
             ],
             [
              1,
              "#f0f921"
             ]
            ],
            "type": "heatmap"
           }
          ],
          "histogram": [
           {
            "marker": {
             "pattern": {
              "fillmode": "overlay",
              "size": 10,
              "solidity": 0.2
             }
            },
            "type": "histogram"
           }
          ],
          "histogram2d": [
           {
            "colorbar": {
             "outlinewidth": 0,
             "ticks": ""
            },
            "colorscale": [
             [
              0,
              "#0d0887"
             ],
             [
              0.1111111111111111,
              "#46039f"
             ],
             [
              0.2222222222222222,
              "#7201a8"
             ],
             [
              0.3333333333333333,
              "#9c179e"
             ],
             [
              0.4444444444444444,
              "#bd3786"
             ],
             [
              0.5555555555555556,
              "#d8576b"
             ],
             [
              0.6666666666666666,
              "#ed7953"
             ],
             [
              0.7777777777777778,
              "#fb9f3a"
             ],
             [
              0.8888888888888888,
              "#fdca26"
             ],
             [
              1,
              "#f0f921"
             ]
            ],
            "type": "histogram2d"
           }
          ],
          "histogram2dcontour": [
           {
            "colorbar": {
             "outlinewidth": 0,
             "ticks": ""
            },
            "colorscale": [
             [
              0,
              "#0d0887"
             ],
             [
              0.1111111111111111,
              "#46039f"
             ],
             [
              0.2222222222222222,
              "#7201a8"
             ],
             [
              0.3333333333333333,
              "#9c179e"
             ],
             [
              0.4444444444444444,
              "#bd3786"
             ],
             [
              0.5555555555555556,
              "#d8576b"
             ],
             [
              0.6666666666666666,
              "#ed7953"
             ],
             [
              0.7777777777777778,
              "#fb9f3a"
             ],
             [
              0.8888888888888888,
              "#fdca26"
             ],
             [
              1,
              "#f0f921"
             ]
            ],
            "type": "histogram2dcontour"
           }
          ],
          "mesh3d": [
           {
            "colorbar": {
             "outlinewidth": 0,
             "ticks": ""
            },
            "type": "mesh3d"
           }
          ],
          "parcoords": [
           {
            "line": {
             "colorbar": {
              "outlinewidth": 0,
              "ticks": ""
             }
            },
            "type": "parcoords"
           }
          ],
          "pie": [
           {
            "automargin": true,
            "type": "pie"
           }
          ],
          "scatter": [
           {
            "fillpattern": {
             "fillmode": "overlay",
             "size": 10,
             "solidity": 0.2
            },
            "type": "scatter"
           }
          ],
          "scatter3d": [
           {
            "line": {
             "colorbar": {
              "outlinewidth": 0,
              "ticks": ""
             }
            },
            "marker": {
             "colorbar": {
              "outlinewidth": 0,
              "ticks": ""
             }
            },
            "type": "scatter3d"
           }
          ],
          "scattercarpet": [
           {
            "marker": {
             "colorbar": {
              "outlinewidth": 0,
              "ticks": ""
             }
            },
            "type": "scattercarpet"
           }
          ],
          "scattergeo": [
           {
            "marker": {
             "colorbar": {
              "outlinewidth": 0,
              "ticks": ""
             }
            },
            "type": "scattergeo"
           }
          ],
          "scattergl": [
           {
            "marker": {
             "colorbar": {
              "outlinewidth": 0,
              "ticks": ""
             }
            },
            "type": "scattergl"
           }
          ],
          "scattermap": [
           {
            "marker": {
             "colorbar": {
              "outlinewidth": 0,
              "ticks": ""
             }
            },
            "type": "scattermap"
           }
          ],
          "scattermapbox": [
           {
            "marker": {
             "colorbar": {
              "outlinewidth": 0,
              "ticks": ""
             }
            },
            "type": "scattermapbox"
           }
          ],
          "scatterpolar": [
           {
            "marker": {
             "colorbar": {
              "outlinewidth": 0,
              "ticks": ""
             }
            },
            "type": "scatterpolar"
           }
          ],
          "scatterpolargl": [
           {
            "marker": {
             "colorbar": {
              "outlinewidth": 0,
              "ticks": ""
             }
            },
            "type": "scatterpolargl"
           }
          ],
          "scatterternary": [
           {
            "marker": {
             "colorbar": {
              "outlinewidth": 0,
              "ticks": ""
             }
            },
            "type": "scatterternary"
           }
          ],
          "surface": [
           {
            "colorbar": {
             "outlinewidth": 0,
             "ticks": ""
            },
            "colorscale": [
             [
              0,
              "#0d0887"
             ],
             [
              0.1111111111111111,
              "#46039f"
             ],
             [
              0.2222222222222222,
              "#7201a8"
             ],
             [
              0.3333333333333333,
              "#9c179e"
             ],
             [
              0.4444444444444444,
              "#bd3786"
             ],
             [
              0.5555555555555556,
              "#d8576b"
             ],
             [
              0.6666666666666666,
              "#ed7953"
             ],
             [
              0.7777777777777778,
              "#fb9f3a"
             ],
             [
              0.8888888888888888,
              "#fdca26"
             ],
             [
              1,
              "#f0f921"
             ]
            ],
            "type": "surface"
           }
          ],
          "table": [
           {
            "cells": {
             "fill": {
              "color": "#EBF0F8"
             },
             "line": {
              "color": "white"
             }
            },
            "header": {
             "fill": {
              "color": "#C8D4E3"
             },
             "line": {
              "color": "white"
             }
            },
            "type": "table"
           }
          ]
         },
         "layout": {
          "annotationdefaults": {
           "arrowcolor": "#2a3f5f",
           "arrowhead": 0,
           "arrowwidth": 1
          },
          "autotypenumbers": "strict",
          "coloraxis": {
           "colorbar": {
            "outlinewidth": 0,
            "ticks": ""
           }
          },
          "colorscale": {
           "diverging": [
            [
             0,
             "#8e0152"
            ],
            [
             0.1,
             "#c51b7d"
            ],
            [
             0.2,
             "#de77ae"
            ],
            [
             0.3,
             "#f1b6da"
            ],
            [
             0.4,
             "#fde0ef"
            ],
            [
             0.5,
             "#f7f7f7"
            ],
            [
             0.6,
             "#e6f5d0"
            ],
            [
             0.7,
             "#b8e186"
            ],
            [
             0.8,
             "#7fbc41"
            ],
            [
             0.9,
             "#4d9221"
            ],
            [
             1,
             "#276419"
            ]
           ],
           "sequential": [
            [
             0,
             "#0d0887"
            ],
            [
             0.1111111111111111,
             "#46039f"
            ],
            [
             0.2222222222222222,
             "#7201a8"
            ],
            [
             0.3333333333333333,
             "#9c179e"
            ],
            [
             0.4444444444444444,
             "#bd3786"
            ],
            [
             0.5555555555555556,
             "#d8576b"
            ],
            [
             0.6666666666666666,
             "#ed7953"
            ],
            [
             0.7777777777777778,
             "#fb9f3a"
            ],
            [
             0.8888888888888888,
             "#fdca26"
            ],
            [
             1,
             "#f0f921"
            ]
           ],
           "sequentialminus": [
            [
             0,
             "#0d0887"
            ],
            [
             0.1111111111111111,
             "#46039f"
            ],
            [
             0.2222222222222222,
             "#7201a8"
            ],
            [
             0.3333333333333333,
             "#9c179e"
            ],
            [
             0.4444444444444444,
             "#bd3786"
            ],
            [
             0.5555555555555556,
             "#d8576b"
            ],
            [
             0.6666666666666666,
             "#ed7953"
            ],
            [
             0.7777777777777778,
             "#fb9f3a"
            ],
            [
             0.8888888888888888,
             "#fdca26"
            ],
            [
             1,
             "#f0f921"
            ]
           ]
          },
          "colorway": [
           "#636efa",
           "#EF553B",
           "#00cc96",
           "#ab63fa",
           "#FFA15A",
           "#19d3f3",
           "#FF6692",
           "#B6E880",
           "#FF97FF",
           "#FECB52"
          ],
          "font": {
           "color": "#2a3f5f"
          },
          "geo": {
           "bgcolor": "white",
           "lakecolor": "white",
           "landcolor": "#E5ECF6",
           "showlakes": true,
           "showland": true,
           "subunitcolor": "white"
          },
          "hoverlabel": {
           "align": "left"
          },
          "hovermode": "closest",
          "mapbox": {
           "style": "light"
          },
          "paper_bgcolor": "white",
          "plot_bgcolor": "#E5ECF6",
          "polar": {
           "angularaxis": {
            "gridcolor": "white",
            "linecolor": "white",
            "ticks": ""
           },
           "bgcolor": "#E5ECF6",
           "radialaxis": {
            "gridcolor": "white",
            "linecolor": "white",
            "ticks": ""
           }
          },
          "scene": {
           "xaxis": {
            "backgroundcolor": "#E5ECF6",
            "gridcolor": "white",
            "gridwidth": 2,
            "linecolor": "white",
            "showbackground": true,
            "ticks": "",
            "zerolinecolor": "white"
           },
           "yaxis": {
            "backgroundcolor": "#E5ECF6",
            "gridcolor": "white",
            "gridwidth": 2,
            "linecolor": "white",
            "showbackground": true,
            "ticks": "",
            "zerolinecolor": "white"
           },
           "zaxis": {
            "backgroundcolor": "#E5ECF6",
            "gridcolor": "white",
            "gridwidth": 2,
            "linecolor": "white",
            "showbackground": true,
            "ticks": "",
            "zerolinecolor": "white"
           }
          },
          "shapedefaults": {
           "line": {
            "color": "#2a3f5f"
           }
          },
          "ternary": {
           "aaxis": {
            "gridcolor": "white",
            "linecolor": "white",
            "ticks": ""
           },
           "baxis": {
            "gridcolor": "white",
            "linecolor": "white",
            "ticks": ""
           },
           "bgcolor": "#E5ECF6",
           "caxis": {
            "gridcolor": "white",
            "linecolor": "white",
            "ticks": ""
           }
          },
          "title": {
           "x": 0.05
          },
          "xaxis": {
           "automargin": true,
           "gridcolor": "white",
           "linecolor": "white",
           "ticks": "",
           "title": {
            "standoff": 15
           },
           "zerolinecolor": "white",
           "zerolinewidth": 2
          },
          "yaxis": {
           "automargin": true,
           "gridcolor": "white",
           "linecolor": "white",
           "ticks": "",
           "title": {
            "standoff": 15
           },
           "zerolinecolor": "white",
           "zerolinewidth": 2
          }
         }
        },
        "title": {
         "pad": {
          "t": 10
         },
         "text": "Std of non-zero elements of (True-Pred) Dataset analysis. Used model h_crystalls_1",
         "x": 0.01,
         "xanchor": "left",
         "y": 1,
         "yanchor": "top"
        },
        "width": 800,
        "xaxis": {
         "exponentformat": "power",
         "showexponent": "last",
         "showline": true,
         "side": "bottom",
         "title": {
          "standoff": 0,
          "text": "Std(True-Pred) (eV)"
         }
        },
        "xaxis2": {
         "exponentformat": "power",
         "overlaying": "x",
         "showexponent": "last",
         "side": "top",
         "title": {
          "standoff": 0,
          "text": "Std(True-Pred) (eV)"
         }
        },
        "yaxis": {
         "autorange": false,
         "range": [
          -0.5,
          9.5
         ],
         "tickmode": "array",
         "ticktext": [
          "2_ATOMS/db65-6186-4188-b955-0dca4cd7daa1",
          "2_ATOMS/4130-44f6-445e-8a26-4f6afcdd73ea",
          "2_ATOMS/c185-8b61-445e-8068-be370e3617c6",
          "2_ATOMS/45fa-290d-448f-aab5-51f41046d60d",
          "8_ATOMS/88bd-ed8a-4749-bad7-033e9549713c",
          "8_ATOMS/bca3-f473-4c5e-8407-cbdc2d7c68a1",
          "8_ATOMS/2723-7128-46f7-958d-c89608e72fa6",
          "8_ATOMS/6b54-07f6-4e80-b536-06e02853b9f5",
          "8_ATOMS/255c-455e-477d-96d7-bb1b063687fd",
          "2_ATOMS/c924-ac64-4837-a960-ff786d6c6836"
         ],
         "tickvals": [
          0,
          1,
          2,
          3,
          4,
          5,
          6,
          7,
          8,
          9
         ]
        }
       }
      }
     },
     "metadata": {},
     "output_type": "display_data"
    }
   ],
   "source": [
    "# The std\n",
    "labels_train = [path.parts[-2][14:] +\"/\"+ path.parts[-1] for path in train_paths][:10]\n",
    "labels_val = [path.parts[-2][14:] +\"/\"+ path.parts[-1] for path in val_paths][:10]\n",
    "\n",
    "diff_train = [t - p for t, p in zip(train_true, train_pred)][:10]\n",
    "diff_val = [t - p for t, p in zip(val_true, val_pred)][:10]\n",
    "values_train = [np.std(diff_train[i].data) for i in range(len(diff_train))]\n",
    "values_val = [np.std(diff_val[i].data) for i in range(len(diff_val))]\n",
    "\n",
    "filepath= savedir / \"alldataset_std.html\"\n",
    "title = f\"Std of non-zero elements of (True-Pred) Dataset analysis. Used model {model_dir.parts[-1]}\"\n",
    "title_x=\"Std(True-Pred) (eV)\"\n",
    "plot_alldataset_struct_vs_scalar(\n",
    "    title, title_x,\n",
    "    values_train, labels_train, len(values_train),\n",
    "    values_val=None, labels_val=None, n_val_samples=None,\n",
    "    filepath=None\n",
    ")\n",
    "None"
   ]
  },
  {
   "cell_type": "code",
   "execution_count": null,
   "id": "cf3a0e18",
   "metadata": {},
   "outputs": [],
   "source": [
    "# The matrix elements\n",
    "def read_structures_paths(filepath):\n",
    "    try:\n",
    "        with open(filepath, \"r\") as f:\n",
    "            return f.read().splitlines()\n",
    "    except FileNotFoundError:\n",
    "        print(f\"File not found: {filepath}\")\n",
    "        return None\n",
    "    \n",
    "def get_model_dataset(model_dir, verbose=False):\n",
    "    dataset_dir = model_dir / \"dataset\"\n",
    "    train_paths = [Path(path) for path in read_structures_paths(str(dataset_dir / f\"train_dataset.txt\"))]\n",
    "    val_paths = [Path(path) for path in read_structures_paths(str(dataset_dir / f\"val_dataset.txt\"))]\n",
    "\n",
    "    if verbose:\n",
    "        print(f\"Loaded {len(train_paths)} training paths and {len(val_paths)} validation paths.\")\n",
    "\n",
    "    return train_paths, val_paths\n",
    "\n",
    "\n",
    "train_paths, val_paths = get_model_dataset(model_dir, verbose=True)\n",
    "split_paths = (train_paths, val_paths)\n",
    "\n",
    "structures_train = [path.parts[-2][14:] +\"/\"+ path.parts[-1] for path in train_paths]\n",
    "structures_val = [path.parts[-2][14:] +\"/\"+ path.parts[-1] for path in val_paths]\n",
    "splits_structures = (structures_train, structures_val)\n",
    "\n",
    "title_x=\"True matrix elements (eV)\"\n",
    "title_y=\"Predicted matrix elements (eV)\"\n",
    "\n",
    "split_labels = (train_labels, val_labels)\n",
    "splits = [train_data, val_data]\n",
    "for j in range(len(splits)):\n",
    "    # if j !=1:\n",
    "    #     continue\n",
    "    true_matrices = splits[j][0]\n",
    "    pred_matrices = splits[j][1]\n",
    "    n_matrices = len(true_matrices)\n",
    "    labels = split_labels[j]\n",
    "    for i in range(n_matrices):\n",
    "        # if i != 9:\n",
    "        #     continue\n",
    "\n",
    "        # Compute labels\n",
    "        path = Path(\"../\") / split_paths[j][i]\n",
    "        geometry = sisl.get_sile(path / \"aiida.fdf\").read_geometry()\n",
    "        matrix_labels = []\n",
    "        for k in range(len(true_matrices[i].data)):\n",
    "            row = true_matrices[i].row[k]\n",
    "            col = true_matrices[i].col[k]\n",
    "            orb_in = orbitals[col % n_orbs]\n",
    "            orb_out = orbitals[row % n_orbs]\n",
    "            isc = str(geometry.o2isc(col))\n",
    "\n",
    "            # Join altogether\n",
    "            label = ''.join([orb_in, \" -> \", orb_out, \" \", isc])\n",
    "\n",
    "            # Store the labels \n",
    "            matrix_labels.append(label)\n",
    "\n",
    "        filepath= savedir / f\"nnz_elements_{Path(splits_structures[j][i]).parts[-2]}_{Path(splits_structures[j][i]).parts[-1]}.html\"\n",
    "        title = f\"Matrix elements of structure {splits_structures[j][i]}.<br>Used model {model_dir.parts[-1]}\"\n",
    "        true_values = true_matrices[i].data\n",
    "        pred_values = pred_matrices[i].data\n",
    "        plot_diagonal(\n",
    "            true_values, pred_values, matrix_labels, # 1D array of elements.\n",
    "            title=title, title_x=title_x, title_y=title_y, colors=None,\n",
    "            filepath=None\n",
    "        )\n",
    "        break   \n",
    "    break"
   ]
  },
  {
   "cell_type": "code",
   "execution_count": 5,
   "id": "c2b376fe",
   "metadata": {},
   "outputs": [
    {
     "name": "stdout",
     "output_type": "stream",
     "text": [
      "(26, 702)\n",
      "(26, 702)\n",
      "82600778\n"
     ]
    }
   ],
   "source": [
    "# test values\n",
    "matrix = 9\n",
    "print(train_data[0][matrix].shape) # True, matrix\n",
    "print(train_data[1][matrix].shape) # True, matrix\n",
    "# print(train_labels[matrix])\n",
    "print(len(train_labels))"
   ]
  },
  {
   "cell_type": "code",
   "execution_count": 60,
   "id": "5570a0fb",
   "metadata": {},
   "outputs": [
    {
     "data": {
      "text/plain": [
       "0"
      ]
     },
     "execution_count": 60,
     "metadata": {},
     "output_type": "execute_result"
    }
   ],
   "source": [
    "(25+1) % n_orbs"
   ]
  },
  {
   "cell_type": "code",
   "execution_count": 72,
   "id": "6975868d",
   "metadata": {},
   "outputs": [
    {
     "data": {
      "application/vnd.plotly.v1+json": {
       "config": {
        "plotlyServerURL": "https://plot.ly"
       },
       "data": [
        {
         "marker": {
          "line": {
           "width": 0
          },
          "size": 5
         },
         "mode": "markers",
         "name": "Matrix elements",
         "text": [
          "s1 -> s1 [0 0 0]",
          "s2 -> s2 [0 0 0]",
          "py1 -> py1 [0 0 0]",
          "pz1 -> pz1 [0 0 0]",
          "px1 -> px1 [0 0 0]",
          "py2 -> py2 [0 0 0]",
          "pz2 -> pz2 [0 0 0]",
          "px2 -> px2 [0 0 0]",
          "Pdxy -> Pdxy [0 0 0]",
          "Pdyz -> Pdyz [0 0 0]",
          "Pdz2 -> Pdz2 [0 0 0]",
          "Pdxz -> Pdxz [0 0 0]",
          "Pdx2-y2 -> Pdx2-y2 [0 0 0]",
          "s1 -> s1 [0 0 0]",
          "s2 -> s2 [0 0 0]",
          "py1 -> py1 [0 0 0]",
          "pz1 -> pz1 [0 0 0]",
          "px1 -> px1 [0 0 0]",
          "py2 -> py2 [0 0 0]",
          "pz2 -> pz2 [0 0 0]",
          "px2 -> px2 [0 0 0]",
          "Pdxy -> Pdxy [0 0 0]",
          "Pdyz -> Pdyz [0 0 0]",
          "Pdz2 -> Pdz2 [0 0 0]",
          "Pdxz -> Pdxz [0 0 0]",
          "Pdx2-y2 -> Pdx2-y2 [0 0 0]"
         ],
         "type": "scattergl",
         "x": [
          -11.859452247619629,
          -6.8373870849609375,
          0.23498646914958954,
          -2.837977647781372,
          0.23498646914958954,
          2.606365203857422,
          0.4566965103149414,
          2.606365203857422,
          27.924640655517578,
          24.540048599243164,
          22.543277740478516,
          24.540048599243164,
          27.846757888793945,
          -5.273629665374756,
          -2.253695011138916,
          1.938056230545044,
          -3.0166280269622803,
          1.938056230545044,
          3.1901557445526123,
          -0.7742210030555725,
          3.1901557445526123,
          15.0700101852417,
          12.550738334655762,
          5.883681297302246,
          12.550738334655762,
          14.193682670593262
         ],
         "y": [
          -11.859452247619629,
          -6.8373870849609375,
          0.23498646914958954,
          -2.837977647781372,
          0.23498646914958954,
          2.606365203857422,
          0.4566965103149414,
          2.606365203857422,
          27.924640655517578,
          24.540048599243164,
          22.543277740478516,
          24.540048599243164,
          27.846757888793945,
          -5.273629665374756,
          -2.253695011138916,
          1.938056230545044,
          -3.0166280269622803,
          1.938056230545044,
          3.1901557445526123,
          -0.7742210030555725,
          3.1901557445526123,
          15.0700101852417,
          12.550738334655762,
          5.883681297302246,
          12.550738334655762,
          14.193682670593262
         ]
        },
        {
         "line": {
          "color": "black",
          "dash": "dash"
         },
         "mode": "lines",
         "name": "Ideal",
         "type": "scatter",
         "x": [
          -11.859452247619629,
          27.924640655517578
         ],
         "y": [
          -11.859452247619629,
          27.924640655517578
         ]
        }
       ],
       "layout": {
        "height": 900,
        "template": {
         "data": {
          "bar": [
           {
            "error_x": {
             "color": "#2a3f5f"
            },
            "error_y": {
             "color": "#2a3f5f"
            },
            "marker": {
             "line": {
              "color": "#E5ECF6",
              "width": 0.5
             },
             "pattern": {
              "fillmode": "overlay",
              "size": 10,
              "solidity": 0.2
             }
            },
            "type": "bar"
           }
          ],
          "barpolar": [
           {
            "marker": {
             "line": {
              "color": "#E5ECF6",
              "width": 0.5
             },
             "pattern": {
              "fillmode": "overlay",
              "size": 10,
              "solidity": 0.2
             }
            },
            "type": "barpolar"
           }
          ],
          "carpet": [
           {
            "aaxis": {
             "endlinecolor": "#2a3f5f",
             "gridcolor": "white",
             "linecolor": "white",
             "minorgridcolor": "white",
             "startlinecolor": "#2a3f5f"
            },
            "baxis": {
             "endlinecolor": "#2a3f5f",
             "gridcolor": "white",
             "linecolor": "white",
             "minorgridcolor": "white",
             "startlinecolor": "#2a3f5f"
            },
            "type": "carpet"
           }
          ],
          "choropleth": [
           {
            "colorbar": {
             "outlinewidth": 0,
             "ticks": ""
            },
            "type": "choropleth"
           }
          ],
          "contour": [
           {
            "colorbar": {
             "outlinewidth": 0,
             "ticks": ""
            },
            "colorscale": [
             [
              0,
              "#0d0887"
             ],
             [
              0.1111111111111111,
              "#46039f"
             ],
             [
              0.2222222222222222,
              "#7201a8"
             ],
             [
              0.3333333333333333,
              "#9c179e"
             ],
             [
              0.4444444444444444,
              "#bd3786"
             ],
             [
              0.5555555555555556,
              "#d8576b"
             ],
             [
              0.6666666666666666,
              "#ed7953"
             ],
             [
              0.7777777777777778,
              "#fb9f3a"
             ],
             [
              0.8888888888888888,
              "#fdca26"
             ],
             [
              1,
              "#f0f921"
             ]
            ],
            "type": "contour"
           }
          ],
          "contourcarpet": [
           {
            "colorbar": {
             "outlinewidth": 0,
             "ticks": ""
            },
            "type": "contourcarpet"
           }
          ],
          "heatmap": [
           {
            "colorbar": {
             "outlinewidth": 0,
             "ticks": ""
            },
            "colorscale": [
             [
              0,
              "#0d0887"
             ],
             [
              0.1111111111111111,
              "#46039f"
             ],
             [
              0.2222222222222222,
              "#7201a8"
             ],
             [
              0.3333333333333333,
              "#9c179e"
             ],
             [
              0.4444444444444444,
              "#bd3786"
             ],
             [
              0.5555555555555556,
              "#d8576b"
             ],
             [
              0.6666666666666666,
              "#ed7953"
             ],
             [
              0.7777777777777778,
              "#fb9f3a"
             ],
             [
              0.8888888888888888,
              "#fdca26"
             ],
             [
              1,
              "#f0f921"
             ]
            ],
            "type": "heatmap"
           }
          ],
          "histogram": [
           {
            "marker": {
             "pattern": {
              "fillmode": "overlay",
              "size": 10,
              "solidity": 0.2
             }
            },
            "type": "histogram"
           }
          ],
          "histogram2d": [
           {
            "colorbar": {
             "outlinewidth": 0,
             "ticks": ""
            },
            "colorscale": [
             [
              0,
              "#0d0887"
             ],
             [
              0.1111111111111111,
              "#46039f"
             ],
             [
              0.2222222222222222,
              "#7201a8"
             ],
             [
              0.3333333333333333,
              "#9c179e"
             ],
             [
              0.4444444444444444,
              "#bd3786"
             ],
             [
              0.5555555555555556,
              "#d8576b"
             ],
             [
              0.6666666666666666,
              "#ed7953"
             ],
             [
              0.7777777777777778,
              "#fb9f3a"
             ],
             [
              0.8888888888888888,
              "#fdca26"
             ],
             [
              1,
              "#f0f921"
             ]
            ],
            "type": "histogram2d"
           }
          ],
          "histogram2dcontour": [
           {
            "colorbar": {
             "outlinewidth": 0,
             "ticks": ""
            },
            "colorscale": [
             [
              0,
              "#0d0887"
             ],
             [
              0.1111111111111111,
              "#46039f"
             ],
             [
              0.2222222222222222,
              "#7201a8"
             ],
             [
              0.3333333333333333,
              "#9c179e"
             ],
             [
              0.4444444444444444,
              "#bd3786"
             ],
             [
              0.5555555555555556,
              "#d8576b"
             ],
             [
              0.6666666666666666,
              "#ed7953"
             ],
             [
              0.7777777777777778,
              "#fb9f3a"
             ],
             [
              0.8888888888888888,
              "#fdca26"
             ],
             [
              1,
              "#f0f921"
             ]
            ],
            "type": "histogram2dcontour"
           }
          ],
          "mesh3d": [
           {
            "colorbar": {
             "outlinewidth": 0,
             "ticks": ""
            },
            "type": "mesh3d"
           }
          ],
          "parcoords": [
           {
            "line": {
             "colorbar": {
              "outlinewidth": 0,
              "ticks": ""
             }
            },
            "type": "parcoords"
           }
          ],
          "pie": [
           {
            "automargin": true,
            "type": "pie"
           }
          ],
          "scatter": [
           {
            "fillpattern": {
             "fillmode": "overlay",
             "size": 10,
             "solidity": 0.2
            },
            "type": "scatter"
           }
          ],
          "scatter3d": [
           {
            "line": {
             "colorbar": {
              "outlinewidth": 0,
              "ticks": ""
             }
            },
            "marker": {
             "colorbar": {
              "outlinewidth": 0,
              "ticks": ""
             }
            },
            "type": "scatter3d"
           }
          ],
          "scattercarpet": [
           {
            "marker": {
             "colorbar": {
              "outlinewidth": 0,
              "ticks": ""
             }
            },
            "type": "scattercarpet"
           }
          ],
          "scattergeo": [
           {
            "marker": {
             "colorbar": {
              "outlinewidth": 0,
              "ticks": ""
             }
            },
            "type": "scattergeo"
           }
          ],
          "scattergl": [
           {
            "marker": {
             "colorbar": {
              "outlinewidth": 0,
              "ticks": ""
             }
            },
            "type": "scattergl"
           }
          ],
          "scattermap": [
           {
            "marker": {
             "colorbar": {
              "outlinewidth": 0,
              "ticks": ""
             }
            },
            "type": "scattermap"
           }
          ],
          "scattermapbox": [
           {
            "marker": {
             "colorbar": {
              "outlinewidth": 0,
              "ticks": ""
             }
            },
            "type": "scattermapbox"
           }
          ],
          "scatterpolar": [
           {
            "marker": {
             "colorbar": {
              "outlinewidth": 0,
              "ticks": ""
             }
            },
            "type": "scatterpolar"
           }
          ],
          "scatterpolargl": [
           {
            "marker": {
             "colorbar": {
              "outlinewidth": 0,
              "ticks": ""
             }
            },
            "type": "scatterpolargl"
           }
          ],
          "scatterternary": [
           {
            "marker": {
             "colorbar": {
              "outlinewidth": 0,
              "ticks": ""
             }
            },
            "type": "scatterternary"
           }
          ],
          "surface": [
           {
            "colorbar": {
             "outlinewidth": 0,
             "ticks": ""
            },
            "colorscale": [
             [
              0,
              "#0d0887"
             ],
             [
              0.1111111111111111,
              "#46039f"
             ],
             [
              0.2222222222222222,
              "#7201a8"
             ],
             [
              0.3333333333333333,
              "#9c179e"
             ],
             [
              0.4444444444444444,
              "#bd3786"
             ],
             [
              0.5555555555555556,
              "#d8576b"
             ],
             [
              0.6666666666666666,
              "#ed7953"
             ],
             [
              0.7777777777777778,
              "#fb9f3a"
             ],
             [
              0.8888888888888888,
              "#fdca26"
             ],
             [
              1,
              "#f0f921"
             ]
            ],
            "type": "surface"
           }
          ],
          "table": [
           {
            "cells": {
             "fill": {
              "color": "#EBF0F8"
             },
             "line": {
              "color": "white"
             }
            },
            "header": {
             "fill": {
              "color": "#C8D4E3"
             },
             "line": {
              "color": "white"
             }
            },
            "type": "table"
           }
          ]
         },
         "layout": {
          "annotationdefaults": {
           "arrowcolor": "#2a3f5f",
           "arrowhead": 0,
           "arrowwidth": 1
          },
          "autotypenumbers": "strict",
          "coloraxis": {
           "colorbar": {
            "outlinewidth": 0,
            "ticks": ""
           }
          },
          "colorscale": {
           "diverging": [
            [
             0,
             "#8e0152"
            ],
            [
             0.1,
             "#c51b7d"
            ],
            [
             0.2,
             "#de77ae"
            ],
            [
             0.3,
             "#f1b6da"
            ],
            [
             0.4,
             "#fde0ef"
            ],
            [
             0.5,
             "#f7f7f7"
            ],
            [
             0.6,
             "#e6f5d0"
            ],
            [
             0.7,
             "#b8e186"
            ],
            [
             0.8,
             "#7fbc41"
            ],
            [
             0.9,
             "#4d9221"
            ],
            [
             1,
             "#276419"
            ]
           ],
           "sequential": [
            [
             0,
             "#0d0887"
            ],
            [
             0.1111111111111111,
             "#46039f"
            ],
            [
             0.2222222222222222,
             "#7201a8"
            ],
            [
             0.3333333333333333,
             "#9c179e"
            ],
            [
             0.4444444444444444,
             "#bd3786"
            ],
            [
             0.5555555555555556,
             "#d8576b"
            ],
            [
             0.6666666666666666,
             "#ed7953"
            ],
            [
             0.7777777777777778,
             "#fb9f3a"
            ],
            [
             0.8888888888888888,
             "#fdca26"
            ],
            [
             1,
             "#f0f921"
            ]
           ],
           "sequentialminus": [
            [
             0,
             "#0d0887"
            ],
            [
             0.1111111111111111,
             "#46039f"
            ],
            [
             0.2222222222222222,
             "#7201a8"
            ],
            [
             0.3333333333333333,
             "#9c179e"
            ],
            [
             0.4444444444444444,
             "#bd3786"
            ],
            [
             0.5555555555555556,
             "#d8576b"
            ],
            [
             0.6666666666666666,
             "#ed7953"
            ],
            [
             0.7777777777777778,
             "#fb9f3a"
            ],
            [
             0.8888888888888888,
             "#fdca26"
            ],
            [
             1,
             "#f0f921"
            ]
           ]
          },
          "colorway": [
           "#636efa",
           "#EF553B",
           "#00cc96",
           "#ab63fa",
           "#FFA15A",
           "#19d3f3",
           "#FF6692",
           "#B6E880",
           "#FF97FF",
           "#FECB52"
          ],
          "font": {
           "color": "#2a3f5f"
          },
          "geo": {
           "bgcolor": "white",
           "lakecolor": "white",
           "landcolor": "#E5ECF6",
           "showlakes": true,
           "showland": true,
           "subunitcolor": "white"
          },
          "hoverlabel": {
           "align": "left"
          },
          "hovermode": "closest",
          "mapbox": {
           "style": "light"
          },
          "paper_bgcolor": "white",
          "plot_bgcolor": "#E5ECF6",
          "polar": {
           "angularaxis": {
            "gridcolor": "white",
            "linecolor": "white",
            "ticks": ""
           },
           "bgcolor": "#E5ECF6",
           "radialaxis": {
            "gridcolor": "white",
            "linecolor": "white",
            "ticks": ""
           }
          },
          "scene": {
           "xaxis": {
            "backgroundcolor": "#E5ECF6",
            "gridcolor": "white",
            "gridwidth": 2,
            "linecolor": "white",
            "showbackground": true,
            "ticks": "",
            "zerolinecolor": "white"
           },
           "yaxis": {
            "backgroundcolor": "#E5ECF6",
            "gridcolor": "white",
            "gridwidth": 2,
            "linecolor": "white",
            "showbackground": true,
            "ticks": "",
            "zerolinecolor": "white"
           },
           "zaxis": {
            "backgroundcolor": "#E5ECF6",
            "gridcolor": "white",
            "gridwidth": 2,
            "linecolor": "white",
            "showbackground": true,
            "ticks": "",
            "zerolinecolor": "white"
           }
          },
          "shapedefaults": {
           "line": {
            "color": "#2a3f5f"
           }
          },
          "ternary": {
           "aaxis": {
            "gridcolor": "white",
            "linecolor": "white",
            "ticks": ""
           },
           "baxis": {
            "gridcolor": "white",
            "linecolor": "white",
            "ticks": ""
           },
           "bgcolor": "#E5ECF6",
           "caxis": {
            "gridcolor": "white",
            "linecolor": "white",
            "ticks": ""
           }
          },
          "title": {
           "x": 0.05
          },
          "xaxis": {
           "automargin": true,
           "gridcolor": "white",
           "linecolor": "white",
           "ticks": "",
           "title": {
            "standoff": 15
           },
           "zerolinecolor": "white",
           "zerolinewidth": 2
          },
          "yaxis": {
           "automargin": true,
           "gridcolor": "white",
           "linecolor": "white",
           "ticks": "",
           "title": {
            "standoff": 15
           },
           "zerolinecolor": "white",
           "zerolinewidth": 2
          }
         }
        },
        "title": {
         "text": "Default title"
        },
        "width": 900,
        "xaxis": {
         "tickformat": ".2f",
         "title": {
          "text": "X axis"
         }
        },
        "yaxis": {
         "tickformat": ".2f",
         "title": {
          "text": "Y axis"
         }
        }
       }
      }
     },
     "metadata": {},
     "output_type": "display_data"
    }
   ],
   "source": [
    "# Separate onsites from hoppings\n",
    "data = load(\"../scripts/coo_matrix_2atm.joblib\")\n",
    "matrix = data['coo_matrix']\n",
    "path = data[\"path\"][0]\n",
    "geometry = sisl.get_sile(\"..\"/ path / \"aiida.fdf\").read_geometry()\n",
    "\n",
    "onsite_values = []\n",
    "onsite_labels = []\n",
    "hopping_values = []\n",
    "hopping_labels = []\n",
    "labels = []\n",
    "for j in range(len(matrix.data)):\n",
    "    row = matrix.row[j]\n",
    "    col = matrix.col[j]\n",
    "    orb_in = orbitals[col % n_orbs]\n",
    "    orb_out = orbitals[row % n_orbs]\n",
    "    isc = str(geometry.o2isc(col))\n",
    "\n",
    "    # Join altogether\n",
    "    label = ''.join([orb_in, \" -> \", orb_out, \" \", isc])\n",
    "\n",
    "    # Store\n",
    "    if isc == '[0 0 0]' and row == col:\n",
    "        onsite_values.append(matrix.data[j])\n",
    "        onsite_labels.append(label)\n",
    "    else:\n",
    "        hopping_values.append(matrix.data[j])\n",
    "        hopping_labels.append(label)\n",
    "\n",
    "plot_diagonal(\n",
    "    onsite_values, onsite_values, onsite_labels, # 1D array of elements.\n",
    "    filepath=None\n",
    ")"
   ]
  },
  {
   "cell_type": "code",
   "execution_count": 51,
   "id": "42a5996d",
   "metadata": {},
   "outputs": [
    {
     "data": {
      "application/vnd.plotly.v1+json": {
       "config": {
        "plotlyServerURL": "https://plot.ly"
       },
       "data": [
        {
         "colorbar": {
          "len": 0.8,
          "title": {
           "text": "Value"
          },
          "y": 0.5
         },
         "colorscale": [
          [
           0,
           "rgb(103,0,31)"
          ],
          [
           0.1,
           "rgb(178,24,43)"
          ],
          [
           0.2,
           "rgb(214,96,77)"
          ],
          [
           0.3,
           "rgb(244,165,130)"
          ],
          [
           0.4,
           "rgb(253,219,199)"
          ],
          [
           0.5,
           "rgb(247,247,247)"
          ],
          [
           0.6,
           "rgb(209,229,240)"
          ],
          [
           0.7,
           "rgb(146,197,222)"
          ],
          [
           0.8,
           "rgb(67,147,195)"
          ],
          [
           0.9,
           "rgb(33,102,172)"
          ],
          [
           1,
           "rgb(5,48,97)"
          ]
         ],
         "type": "heatmap",
         "z": {
          "bdata": "UcA9wSo9KsFCQI8o5zS1v9Am/6Q3IIkoG9Oqv+WGayneVpqonqbqpwifG8AqdQOpvnypLvchIcCMDM2/Cd4IplRuhcDm6SsmPnUHJl9ZKMDKdsYli8sbppoa+STYk5bAWmD5J5XwbywAAAAAAAAAAAAAAAAAAAAAAAAAAAAAAAAAAAAAAAAAAAAAAAAAAAAAAAAAAAAAAAAAAAAAAAAAAAAAAAAAAAAAAAAAAAAAAAAAAAAAAAAAAAAAAAAAAAAAAAAAAAAAAAAAAAAAAAAAAAAAAAAAAAAAAAAAAAAAAAAAAAAAAAAAAAAAAAAAAAAAAAAAAAAAAAAAAAAAAAAAAAAAAAAAAAAAAAAAAAAAAAAAAAAAAAAAAAAAAAAAAAAAAAAAAAAAAAAAAAAAAAAAAAAAAAAAAAAAAAAAAAAAAAAAAAAAAAAAAAAAAAAAAAAAAAAAAAAAAAAAAAAAAAAAAAAAAAAAAAAAAAAAAAAAAAAAAAAAAAAAAAAAAAAAAAAAAAAAAAAAAAAAAAAAAAAAAAAAAAAAAAAAAAAAAAAAAAAAAAAAAAAAAAAAAAAAAAAAAAAAAAAAAAAAAAAAAAAAAAAAAAAAAAAAAAAAAAAAAAAAAAAAAAAAAAAAAAAAAAAAAAAAAAAAAAAAAAAAAAAAAAAAAAAAAAAAAAAAAAAAAAAAAAAAAAAAAAAAAAAAAAAAAAAAAAAAAAAAAAAAAAAAAAAAAAAAAAAAAAAAAAAAAAAAAAAAAAAAAAAAAAAAAAAAAAAAAAAAAAAAAAAAAAAAAAAAAAAAAAAAAAAAAAAAAAAAAAAAAAAAAAAAAAAAAAAAAAAAAAAAAAAAAAAAAAAAAAAAAAAAAAAAAAAAAAAAAAAAAAAAAAAAAAAAAAAAAAAAAAAAAAAAAAAAAAAAAAAAAAAAAAAAAAAAAAAAAAAAAAAAAAAAAAAAAAAAAAAAAAAAAAAAAAAAAAAAAAAAAAAAAAAAAAAAAAAAAAAAAAAAAAAAAAAAAAAAAAAAAAAAAAAAAAAAAAAAAAAAAAAAAAAAAAAAAAAAAAAAAAAAAAAAAAAAAAAAAAAAAAAAAAAAAAAAAAAAAAAAAAAAAAAAAAAAAAAAAAAAAAAAAAAAAAAAAAAAAAAAAAAAAAAAAAAAAAAAAAAAAAAAAAAAAAAAAAAAAAAAAAAAAAAAAAAAAAAAAAAAAAAAAAAAAAAAAAAAAAAAAAAAAAAAAAAAAAAAAAAAAAAAAAAAAAAAAAAAAAAAAAAAAAAAAAAAAAAAAAAAAAAAAAAAAAAAAAAAAAAAAAAAAAAAAAAAAAAAAAAAAAAAAAAAAAAAAAAAAAAAAAAAAAAAAAAAAAAAAAAAAAAAAAAAAAAAAAAAAAAAAAAAAAAAAAAAAAAAAAAAAAAAAAAAAAAAAAAAAAAAAAAAAAAAAAAAAAAAAAAAAAAAAAAAAAAAAAAAAAAAAAAAAAAAAAAAAAAAAAAAAAAAAAAAAAAAAAAAAAAAAAAAAAAAAAAAAAAAAAAAAAAAAAAAAAAAAAAAAAAAAAAAAAAAAAAAAAAAAAAAAAAAAAAAAAAAAAAAAAAAAAAAAAAAAAAAAAAAAAAAAAAAAAAAAAAAAAAAAAAAAAAAAAAAAAAAAAAAAAAAAAAAAAAAAAAAAAAAAAAAAAAAAAAAAAAAAAAAAAAAAAAAAAAAAAAAAAAAAAAAAAAAAAAAAAAAAAAAAAAAAAAAAAAAAAAAAAAAAAAAAAAAAAAAAAAAAAAAAAAAAAAAAAAAAAAAAAAAAAAAAAAAAAAAAAAAAAAAAAAAAAAAAAAAAAAAAAAAAAAAAAAAAAAAAAAAAAAAAAAAAAAAAAAAAAAAAAAAAAAAAAAAAAAAAAAAAAAAAAAAAAAAAAAAAAAAAAAAAAAAAAAAAAAAAAAAAAAAAAAAAAAAAAAAAAAAAAAAAAAAAAAAAAAAAAAAAAAAAAAAAAAAAAAAAAAAAAAAAAAAAAAAAAAAAAAAAAAAAAAAAAAAAAAAAAAAAAAAAAAAAAAAAAAAAAAAAAAAAAAAAAAAAAAAAAAAAAAAAAAAAAAAAAAAAAAAAAAAAAAAAAAAAAAAAAAAAAAAAAAAAAAAAAAAAAAAAAAAAAAAAAAAAAAAAAAAAAAAAAAAAAAAAAAAAAAAAAAAAAAAAAAAAAAAAAAAAAAAAAAAAAAAAAAAAAAAAAAAAAAAAAAAAAAAAAAAAAAAAAAAAAAAAAAAAAAAAAAAAAAAAAAAAAAAAAAAAAAAAAAAAAAAAAAAAAAAAAAAAAAAAAAAAAAAAAAAAAAAAAAAAAAAAAAAAAAAAAAAAAAAAAAAAAAAAAAAAAAAAAAAAAAAAAAAAAAAAAAAAAAAAAAAAAAAAAAAAAAAAAAAAAAAAAAAAAAAAAAAAAAAAAAAAAAAAAAAAAAAAAAAAAAAAAAAAAAAAAAAAAAAAAAAAAAAAAAAAAAAAAAAAAAAAAAAAAAAAAAAAAAAAAAAAAAAAAAAAAAAAAAAAAAAAAAAAAAAAAAAAAAAAAAAAAAAAAAAAAAAAAAAAAAAAAAAAAAAAAAAAAAAAAAAAAAAAAAAAAAAAAAAAAAAAAAAAAAAAAAAAAAAAAAAAAAAAAAAAAAAAAAAAAAAAAAAAAAAAAAAAAAAAAAAAAAAAAAAAAAAAAAAAAAAAAAAAAAAAAAAAAAAAAAAAAAAAAAAAAAAAAAAAAAAAAAAAAAAAAAAAAAAAAAAAAAAAAAAAAAAAAAAAAAAAAAAAAAAAAAAAAAAAAAAAAAAAAAAAAAAAAAAAAAAAAAAAAAAAAAAAAAAAAAAAAAAAAAAAAAAAAAAAAAAAAAAAAAAAAAAAAAAAAAAAAAAAAAAAAAAAAAAAAAAAAAAAAAAAAAAAAAAAAAAAAAAAAAAAAAAAAAAAAAAAAAAAAAAAAAAAAAAAAAAAAAAAAAAAAAAAAAAAAAAAAAAAAAAAAAAAAAAAAAAAAAAAAAAAAAAAAAAAAAAAAAAAAAAAAAAAAAAAAAAAAAAAAAAAAAAAAAAAAAAAAAAAAAAAAAAAAAAAAAAAAAAAAAAAAAAAAAAAAAAAAAAAAAAAAAAAAAAAAAAAAAAAAAAAAAAAAAAAAAAAAAAAAAAAAAAAAAAAAAAAAAAAAAAAAAAAAAAAAAAAAAAAAAAAAAAAAAAAAAAAAAAAAAAAAAAAAAAAAAAAAAAAAAAAAAAAAAAAAAAAAAAAAAAAAAAAAAAAAAAAAAAAAAAAAAAAAAAAAAAAAAAAAAAAAAAAAAAAAAAAAAAAAAAAAAAAAAAAAAAAAAAAAAAAAAAAAAAAAAAAAAAAAAAAAAAAAAAAAAAAAAAAAAAAAAAAAAAAAAAAAAAAAAAAAAAAAAAAAAAAAAAAAAAAAAAAAAAAAAAAAAAAAAAAAAAAAAAAAAAAAAAAAAAAAAAAAAAAAAAAAAAAAAAAAAAAAAAAAAAAAAAAAAAAAAAAAAAAAAAAAAAAAAAAAAAAAAAAAAAAAAAAAAAAAAAAAAAAAAAAAAAAAAAAAAAAAAAAAAAAAAAAAAAAAAAAAAAAAAAAAAAAAAAAAAAAAAAAAAAAAAAAAAAAAAAAAAAAAAAAAAAAAAAAAAAAAAAAAAAAAAAAAAAAAAAAAAAAAAAAAAAAAAAAAAAAAAAAAAAAAAAAAAAAAAAAAAAAAAAAAAAAAAAAAAAAAAAAAAAAAAAAAAAAAAAAAAAAAAAAAAAAAAAAAAAAAAAAAAAAAAAAAAAAAAAAAAAAAAAAAAAAAAAAAAAAAAAAAAAAAAAAAAAAAAAAAAAAAAAAAAAAAAAAAAAAAAAAAAAAAAAAAAAAAAAAAAAAAAAAAAAAAAAAAAAAAAAAAAAAAAAAAAAAAAAAAAAAAAAAAAAAAAAAAAAAAAAAAAAAAAAAAAAAAAAAAAAAAAAAAAAAAAAAAAAAAAAAAAAAAAAAAAAAAAAAAAAAAAAAAAAAAAAAAAAAAAAAAAAAAAAAAAAAAAAAAAAAAAAAAAAAAAAAAAAAAAAAAAAAAAAAAAAAAAAAAAAAAAAAAAAAAAAAAAAAAAAAAAAAAAAAAAAAAAAAAAAAAAAAAAAAAAAAAAAAAAAAAAAAAAAAAAAAAAAAAAAAAAAAAAAAAAAAAAAAAAAAAAAAAAAAAAAAAAAAAAAAAAAAAAAAAAAAAAAAAAAAAAAAAAAAAAAAAAAAAAAAAAAAAAAAAAAAAAAAAAAAAAAAAAAAAAAAAAAAAAAAAAAAAAAAAAAAAAAAAAAAAAAAAAAAAAAAAAAAAAAAAAAAAAAAAAAAAAAAAAAAAAAAAAAAAAAAAAAAAAAAAAAAAAAAAAAAAAAAAAAAAAAAAAAAAAAAAAAAAAAAAAAAAAAAAAAAAAAAAAAAAAAAAAAAAAAAAAAAAAAAAAAAAAAAAAAAAAAAAAAAAAAAAAAAAAAAAAAAAAAAAAAAAAAAAAAAAAAAAAAAAAAAAAAAAAAAAAAAAAAAAAAAAAAAAAAAAAAAAAAAAAAAAAAAAAAAAAAAAAAAAAAAAAAAAAAAAAAAAAAAAAAAAAAAAAAAAAAAAAAAAAAAAAAAAAAAAAAAAAAAAAAAAAAAAAAAAAAAAAAAAAAAAAAAAAAAAAAAAAAAAAAAAAAAAAAAAAAAAAAAAAAAAAAAAAAAAAAAAAAAAAAAAAAAAAAAAAAAAAAAAAAAAAAAAAAAAAAAAAAAAAAAAAAAAAAAAAAAAAAAAAAAAAAAAAAAAAAAAAAAAAAAAAAAAAAAAAAAAAAAAAAAAAAAAAAAAAAAAAAAAAAAAAAAAAAAAAAAAAAAAAAAAAAAAAAAAAAAAAAAAAAAAAAAAAAAAAAAAAAAAAAAAAAAAAAAAAAAAAAAAAAAAAAAAAAAAAAAAAAAAAAAAAAAAAAAAAAAAAAAAAAAAAAAAAAAAAAAAAAAAAAAAAAAAAAAAAAAAAAAAAAAAAAAAAAAAAAAAAAAAAAAAAAAAAAAAAAAAAAAAAAAAAAAAAAAAAAAAAAAAAAAAAAAAAAAAAAAAAAAAAAAAAAAAAAAAAAAAAAAAAAAAAAAAAAAAAAAAAAAAAAAAAAAAAAAAAAAAAAAAAAAAAAAAAAAAAAAAAAAAAAAAAAAAAAAAAAAAAAAAAAAAAAAAAAAAAAAAAAAAAAAAAAAAAAAAAAAAAAAAAAAAAAAAAAAAAAAAAAAAAAAAAAAAAAAAAAAAAAAAAAAAAAAAAAAAAAAAAAAAAAAAAAAAAAAAAAAAAAAAAAAAAAAAAAAAAAAAAAAAAAAAAAAAAAAAAAAAAAAAAAAAAAAAAAAFYQk7ythAw7mBlNo0Zd/L0R26ij/YX/Hw/L7jtqjQWgtaScoVxVq6SA5Ja+uAAZJFVmDicb+3UwAAAAACeaJhy0UgQ6uEw7nAAAAAAAAAAAAAAAAFL/NJpTJzwcfCKrOhdDACPT79GgAAAAAAAAAAAAAAAAAAAAAAAAAAAAAAAAAAAAAAAAAAAAAAAAAAAAAAAAAAAAAAAAAAAAAAAAAAAAAAAAAAAAAAAAAAAAAAAAAAAAAAAAAAAAAAAAAAAAAAAAAAAAAAAAAAAAAAAAAAAAAAAAAAAAAAAAAAAAAAAAAAAAAAAAAAAAAAAAAAAAAAAAAAAAAAAAAAAAAAAAAAAAAAAAAAAAAAAAAAAAAAAAAAAAAAAAAAAAAAAAAAAAAAAAAAAAAAAAAAAAAAAAAAAAAAAAAAAAAAAAAAAAAAAAAAAAAAAAAAAAAAAAAAAAAAAAAAAAAAAAAAAAAAAAAAAAAAAAAAAAAAAAAAAAAAAAAAAAAAAAAAAAAAAAAAAAAAAAAAAAAAAAAAAAAAAAAAAAAAAAAAAAAAAAAAAAAAAAAAAAAAAAAAAAAAAAAAAAAAAAAAAAAAAAAAAAAAAAAAAAAAAAAAAAAAAAAAAAAAAAAAAAAAAAAAAAAAAAAAAAAAAAAAAAAAAAAAAAAAAAAAAAAAAAAAAAAAAAAAAAAAAAAAAAAAAAAAAAAAAAAAAAAAAAAAAAAAAAAAAAAAAAAAAAAAAAAAAAAAAAAAAAAAAAAAAAAAAAAAAAAAAAAAAAAAAAAAAAAAAAAAAAAAAAAAAAAAAAAAAAAAAAAAAAAAAAAAAAAAAAAAAAAAAAAAAAAAAAAAAAAAAAAAAAAAAAAAAAAAAAAAAAAAAAAAAAAAAAAAAAAAAAAAAAAAAAAAAAAAAAAAAAAAAAAAAAAAAAAAAAAAAAAAAAAAAAAAAAAAAAAAAAAAAAAAAAAAAAAAAAAAAAAAAAAAAAAAAAAAAAAAAAAAAAAAAAAAAAAAAAAAAAAAAAAAAAAAAAAAAAAAAAAAAAAAAAAAAAAAAAAAAAAAAAAAAAAAAAAAAAAAAAAAAAAAAAAAAAAAAAAAAAAAAAAAAAAAAAAAAAAAAAAAAAAAAAAAAAAAAAAAAAAAAAAAAAAAAAAAAAAAAAAAAAAAAAAAAAAAAAAAAAAAAAAAAAAAAAAAAAAAAAAAAAAAAAAAAAAAAAAAAAAAAAAAAAAAAAAAAAAAAAAAAAAAAAAAAAAAAAAAAAAAAAAAAAAAAAAAAAAAAAAAAAAAAAAAAAAAAAAAAAAAAAAAAAAAAAAAAAAAAAAAAAAAAAAAAAAAAAAAAAAAAAAAAAAAAAAAAAAAAAAAAAAAAAAAAAAAAAAAAAAAAAAAAAAAAAAAAAAAAAAAAAAAAAAAAAAAAAAAAAAAAAAAAAAAAAAAAAAAAAAAAAAAAAAAAAAAAAAAAAAAAAAAAAAAAAAAAAAAAAAAAAAAAAAAAAAAAAAAAAAAAAAAAAAAAAAAAAAAAAAAAAAAAAAAAAAAAAAAAAAAAAAAAAAAAAAAAAAAAAAAAAAAAAAAAAAAAAAAAAAAAAAAAAAAAAAAAAAAAAAAAAAAAAAAAAAAAAAAAAAAAAAAAAAAAAAAAAAAAAAAAAAAAAAAAAAAAAAAAAAAAAAAAAAAAAAAAAAAAAAAAAAAAAAAAAAAAAAAAAAAAAAAAAAAAAAAAAAAAAAAAAAAAAAAAAAAAAAAAAAAAAAAAAAAAAAAAAAAAAAAAAAAAAAAAAAAAAAAAAAAAAAAAAAAAAAAAAAAAAAAAAAAAAAAAAAAAAAAAAAAAAAAAAAAAAAAAAAAAAAAAAAAAAAAAAAAAAAAAAAAAAAAAAAAAAAAAAAAAAAAAAAAAAAAAAAAAAAAAAAAAAAAAAAAAAAAAAAAAAAAAAAAAAAAAAAAAAAAAAAAAAAAAAAAAAAAAAAAAAAAAAAAAAAAAAAAAAAAAAAAAAAAAAAAAAAAAAAAAAAAAAAAAAAAAAAAAAAAAAAAAAAAAAAAAAAAAAAAAAAAAAAAAAAAAAAAAAAAAAAAAAAAAAAAAAAAAAAAAAAAAAAAAAAAAAAAAAAAAAAAAAAAAAAAAAAAAAAAAAAAAAAAAAAAAAAAAAAAAAAAAAAAAAAAAAAAAAAAAAAAAAAAAAAAAAAAAAAAAAAAAAAAAAAAAAAAAAAAAAAAAAAAAAAAAAAAAAAAAAAAAAAAAAAAAAAAAAAAAAAAAAAAAAAAAAAAAAAAAAAAAAAAAAAAAAAAAAAAAAAAAAAAAAAAAAAAAAAAAAAAAAAAAAAAAAAAAAAAAAAAAAAAAAAAAAAAAAAAAAAAAAAAAAAAAAAAAAAAAAAAAAAAAAAAAAAAAAAAAAAAAAAAAAAAAAAAAAAAAAAAAAAAAAAAAAAAAAAAAAAAAAAAAAAAAAAAAAAAAAAAAAAAAAAAAAAAAAAAAAAAAAAAAAAAAAAAAAAAAAAAAAAAAAAAAAAAAAAAAAAAAAAAAAAAAAAAAAAAAAAAAAAAAAAAAAAAAAAAAAAAAAAAAAAAAAAAAAAAAAAAAAAAAAAAAAAAAAAAAAAAAAAAAAAAAAAAAAAAAAAAAAAAAAAAAAAAAAAAAAAAAAAAAAAAAAAAAAAAAAAAAAAAAAAAAAAAAAAAAAAAAAAAAAAAAAAAAAAAAAAAAAAAAAAAAAAAAAAAAAAAAAAAAAAAAAAAAAAAAAAAAAAAAAAAAAo/+aOiHoNrqj/5o6AAAAAAAAAAAAAAAAYs5ju9BoBjtyeas60GgGOx32jaazrLi8Wfe4t5XkyD3nOW251YYWIbpAuzu3fpK0r1cQns1niyKMXoo6+IPXPQ50sCEOTzs+S33EvPOuh7f38wE+kueSvWiHSKIJIt47+QSDu0BJa5+KdoAjmmBoPpSXLT03uHgj2R9QPgAAAAAAAAAAAAAAAAAAAAAAAAAAAAAAAAAAAAAAAAAAAAAAAAAAAAAAAAAAAAAAAAAAAAAAAAAAAAAAAKP/mjoh6Da6o/+augAAAAAAAAAAAAAAAGLOYzvQaAY7cnmrOtBoBrsMxo2mAAAAAAAAAAAAAAAAAAAAAAAAAAAAAAAAAAAAAAAAAAAAAAAAAAAAAAAAAAAAAAAAAAAAAAAAAAAAAAAAAAAAAAAAAAAAAAAAAAAAAAAAAAAAAAAAAAAAAAAAAAAAAAAAAAAAAAAAAAAAAAAAAAAAAAAAAAAAAAAAAAAAAAAAAAAAAAAAAAAAAAAAAAAAAAAAAAAAAAAAAAAAAAAAAAAAAAAAAAAAAAAAAAAAAAAAAAAAAAAAAAAAAAAAAAAAAAAAAAAAAAAAAAAAAAAAAAAAALOsuLxZ97i3r5jEouc5bbmV5Mg9IVVuHbd+krS6QLs73uy3Ij3STiH4g9c9jF6KOg5PO75LfcS8866Ht2LSmKGS55K99/MBPm2MtJ35BIO7CSLeO6RGQqA6JcejlJctPZpgaD7ZH1C+s6y4vFn3uLf5cOih5zltuZXkyL39V0Wbt36StLpAu7uXnxwh798mIviD1z2MXoq6Dk87vkt9xLzzroe3n3/oIpLnkr338wG+sIrBnvkEg7sJIt67xQUGpCbyuiKUly09mmBovtkfUL4AAAAAAAAAAAAAAAAAAAAAAAAAAAAAAAAAAAAAAAAAAAAAAAAAAAAAAAAAAAAAAAAAAAAAAAAAAAAAAAAAAAAAAAAAAAAAAAAAAAAAAAAAAAAAAAAAAAAAAAAAAAAAAAAAAAAAAAAAAAAAAAAAAAAAAAAAAAAAAAAAAAAAAAAAAAAAAAAAAAAAAAAAAAAAAAAAAAAAAAAAAAAAAAAAAAAAAAAAAAAAAAAAAAAAAAAAAAAAAAAAAAAAAAAAAAAAAAAAAAAAAAAAAAAAAAAAAAAAAAAAAAAAAAAAAAAAAAAAAAAAAAAAAAAAAAAAAAAAAAAAAAAAAAAAAAAAAAAAAAAAAAAAAAAAAAAAAAAAo/+auiHoNrqj/5o6AAAAAAAAAAAAAAAAYs5jO9BoBrtyeas60GgGO9MnjqazrLi8Wfe4t5XkyL3nOW25BGeDobpAu7u3fpK0dfmGnogGqaOMXoq6+IPXPebVyCEOTzs+S33EvPOuh7f38wG+kueSva/WFKMJIt67+QSDuzjsZJ/jNxAjmmBovpSXLT38u6mj2R9QPgAAAAAAAAAAAAAAAAAAAAAAAAAAAAAAAAAAAAAAAAAAAAAAAAAAAAAAAAAAAAAAAAAAAAAAAAAAAAAAAKP/mroh6Da6o/+augAAAAAAAAAAAAAAAGLOY7vQaAa7cnmrOtBoBruG942mAAAAAAAAAAAAAAAAAAAAAAAAAAAAAAAAAAAAAAAAAAAAAAAAAAAAAAAAAAAAAAAAAAAAAAAAAAAAAAAAAAAAAAAAAAAAAAAAAAAAAAAAAAAAAAAAAAAAAAAAAAAAAAAAAAAAAAAAAAAAAAAAAAAAAAAAAAAAAAAAAAAAAAAAAAAAAAAAAAAAAAAAAAAAAAAAAAAAAAAAAAAAAAAAAAAAAAAAAAAAAAAAAAAAAAAAAAAAAAAAAAAAAAAAAAAAAAAAAAAAAAAAAAAAAAAAAAAAAAAAAAAAAAAAAAAAAAAAAAAAAAAAAAAAAAAAAAAAAAAAAAAAAAAAAAAAAAAAAAAAAAAAAAAAAAAAAAAAAAAAAAAAAAAAAAAAAAAAAAAAAAAAAAAAAAAAAAAAAAAAAAAAAAAAAAAAAAAAAAAAAAAAAAAAAAAAAAAAAAAAAAAAAAAAAAAAAAAAAAAAAAAAAAAAAAAAAAAAAAAAAAAAAAAAAAAAAAAAAAAAAAAAAAAAAAAAAAAAAAAAAAAAAAAAAAAAAAAAAAAAAAAAAAAAAAAAAAAAAAAAAAAAAAAAAAAAAAAAAAAAAAAAAAAAAAAAAAAAAAAAAAAAAAAAAAAAAAAAAAAAAAAAAAAAAAAAAAAAAAAAAAAAAAAAAAAAAAAAAAAAAAAAAAAAAAAAAAAAAAAAAAAAAAAAAAAAAAAAAAAAAAAAAAAAAAAAAAAAAAAAAAAAAAAAAAAAAAAAAAAAAAAAAAAAAAAAAAAAAAAAAAAAAAAAAAAAAAAAAAAAAAAAAAAAAAAAAAAAAAAAAAAAAAAAAAAAAAAAAAAAAAAAAAAAAAAAAAAAAAAAAAAAAAAAAAAAAAAAAAAAAAAAAAAAAAAAAAAAAAAAAAAAAAAAAAAAAAAAAAAAAAAAAAAAAAAAAAAAAAAAAAAAAAAAAAAAAAAAAAAAAAAAAAAAAAAAAAAAAAAAAAAAAAAAAAAAAAAAAAAAAAAAAAAAAAAAAAAAAAAAAAAAAAAAAAAAAAAAAAAAAAAAAAAAAAAAAAAAAAAAAAAAAAAAAAAAAAAAAAAAAAAAAAAAAAAAAAAAAAAAAAAAAAAAAAAAAAAAAAAAAAAAAAAAAAAAAAAAAAAAAAAAAAAAAAAAAAAAAAAAAAAAAAAAAAAAAAAAAAAAAAAAAAAAAAAAAAAAAAAAAAAAAAAAAAAAAAAAAAAAAAAAAAAAAAAAAAAAAAAAAAAAAAAAAAAAAAAAAAAAAAAAAAAAAAAAAAAAAAAAAAAAAAAAAAAAAAAAAAAAAAAAAAAAAAAAAAAAAAAAAAAAAAAAAAAAAAAAAAAAAAAAAAAAAAAAAAAAAAAAAAAAAAAAAAAAAAAAAAAAAAAAAAAAAAAAAAAAAAAAAAAAAAAAAAAAAAAAAAAAAAAAAAAAAAAAAAAAAAAAAAAAAAAAAAAAAAAAAAAAAAAAAAAAAAAAAAAAAAAAAAAAAAAAAAAAAAAAAAAAAAAAAAAAAAAAAAAAAAAAAAAAAAAAAAAAAAAAAAAAAAAAAAAAAAAAAAAAAAAAAAAAAAAAAAAAAAAAAAAAAAAAAAAAAAAAAAAAAAAAAAAAAAAAAAAAAAAAAAAAAAAAAAAAAAAAAAAAAAAAAAAAAAAAAAAAAAAAAAAAAAAAAAAAAAAAAAAAAAAAAAAAAAAAAAAAAAAAAAAAAAAAAAAAAAAAAAAAAAAAAAAAAAAAAAAAAAAAAAAAAAAAAAAAAAAAAAAAAAAAAAAAHNd7O4HqzToc13s7AAAAAAAAAAAAAAAAhcQ6vImxmLuzn7M7ibGYu59nWqgAAAAAAAAAAAAAAAAAAAAAAAAAAAAAAAAAAAAAAAAAAAAAAAAAAAAAAAAAAAAAAAAAAAAAw2xlvez1EbtDqYo+89XPPWw28CPRReo8TzM/PLMC1qBgJJkk0x2pvhjwPj6aAOSjp7vmPgAAAAAAAAAAAAAAAAAAAAAAAAAAAAAAAAAAAAAAAAAAAAAAAAAAAAAAAAAAAAAAAAAAAAAAAAAAAAAAABzXezuB6s06HNd7uwAAAAAAAAAAAAAAAIXEOjyJsZi7s5+zO4mxmDsqVFqoAAAAAAAAAAAAAAAAAAAAAAAAAAAAAAAAAAAAAAAAAAAAAAAAAAAAAAAAAAAAAAAAAAAAAAAAAAAAAAAAAAAAAAAAAAAAAAAAAAAAAAAAAAAAAAAAAAAAAAAAAAAAAAAAAAAAAAAAAAAAAAAAAAAAAAAAAAAAAAAAAAAAAAAAAAAAAAAAAAAAAAAAAAAAAAAAAAAAAAAAAAAAAAAAAAAAAAAAAAAAAAAAAAAAAAAAAAAAAAAAAAAAAAAAAAAAAAAAAAAAAAAAAAAAAAAAAAAAAAAAAAAAAAAAAAAAAAAAAAAAAAAAAAAAAAAAAAAAAAAAAAAAAAAAAAAAAAAAAAAAAAAAAADDbGW97PURu4DQmaLz1c89Q6mKPoroX59PMz880UXqPJng/aQvctEkGPA+PtMdqb6nu+a+VhCTvAixubedwKCjeyrTPTQiyKKwVQOfKTrEOwuY1Z3Jp8oji2XiJPFZY74U4bqj4sYEp4IGzMAPKLHAVorCp8pS+EDiufSnWpq7J8if3UAPbyoouJhTJ3ryZyhQ6a/Ac9ZSqLE0hC0AAAAAAAAAAAAAAAAAAAAAAAAAAAAAAAAAAAAAAAAAAAAAAAAAAAAAAAAAAAAAAAAAAAAAw2xlvez1EbuXyxAk89XPPUOpir530GegTzM/PNFF6rxsclGkw2DAoxjwPj7THak+p7vmvgAAAAAAAAAAAAAAAAAAAAAAAAAAAAAAAAAAAAAAAAAAAAAAAAAAAAAAAAAAAAAAAAAAAAAAAAAAAAAAAAAAAAAAAAAAAAAAAAAAAAAAAAAAAAAAAAAAAAAAAAAAAAAAAAAAAAAAAAAAAAAAAAAAAAAAAAAAAAAAAAAAAAAAAAAAAAAAAAAAAAAAAAAAAAAAAAAAAAAAAAAAAAAAAAAAAAAAAAAAAAAAAAAAAAAAAAAAAAAAAAAAAAAAAAAAAAAAAAAAAAAAAAAAAAAAAAAAAAAAAAAAAAAAAAAAAAAAAAAAAAAAAAAAAAAAAAAAAAAAAAAAAAAAAAAAAAAAAAAAAAAAAAAAAAAAAAAAAAAc13u7gerNOhzXezsAAAAAAAAAAAAAAACFxDo8ibGYO7OfszuJsZi78XtaqAAAAAAAAAAAAAAAAAAAAAAAAAAAAAAAAAAAAAAAAAAAAAAAAAAAAAAAAAAAAAAAAAAAAADDbGW97PURu0Opir7z1c89OT0HJNFF6rxPMz88zhs2oFzRoKXTHak+GPA+PrheuKKnu+Y+AAAAAAAAAAAAAAAAAAAAAAAAAAAAAAAAAAAAAAAAAAAAAAAAAAAAAAAAAAAAAAAAAAAAAAAAAAAAAAAAHNd7u4HqzToc13u7AAAAAAAAAAAAAAAAhcQ6vImxmDuzn7M7ibGYO4BoWqgAAAAAAAAAAAAAAAAAAAAAAAAAAAAAAAAAAAAAAAAAAAAAAAAAAAAAAAAAAAAAAAAAAAAAAAAAAAAAAAAAAAAAAAAAAAAAAAAAAAAAAAAAAAAAAAAAAAAAAAAAAAAAAAAAAAAAAAAAAAAAAAAAAAAAAAAAAAAAAAAAAAAAAAAAAAAAAAAAAAAAAAAAAAAAAAAAAAAAAAAAAAAAAAAAAAAAAAAAAAAAAAAAAAAAAAAAAAAAAAAAAAAAAAAAAAAAAAAAAAAAAAAAAAAAAAAAAAAAAAAAAAAAAAAAAAAAAAAAAAAAAAAAAAAAAAAAAAAAAAAAAAAAAAAAAAAAAAAAAAAAAAAAAAAAAAAAAAAAAAAAAAAAAAAAAAAAAAAAAAAAAAAAAAAAAAAAAAAAAAAAAAAAAAAAAAAAAAAAAAAAAAAAAAAAAAAAAAAAAAAAAAAAAAAAAAAAAAAAAAAAAAAAAAAAAAAAAAAAAAAAAAAAAAAAAAAAAAAAAAAAAAAAAAAAAAAAAAAAAAAAAAAAAAAAAAAAAAAAAAAAAAAAAAAAAAAAAAAAAAAAAAAAAAAAAAAAAAAAAAAAAAAAAAAAAAAAAAAAAAAAAAAAAAAAAAAAAAAAAAAAAAAAAAAAAAAAAAAAAAAAAAAAAAAAAAAAAAAAAAAAAAAAAAAAAAAAAAAAAAAAAAAAAAAAAAAAAAAAAAAAAAAAAAAAAAAAAAAAAAAAAAAAAAAAAAAAAAAAAAAAAAAAAAAAAAAAAAAAAAAAAAAAAAAAAAAAAAAAAAAAAAAAAAAAAAAAAAAAAAAAAAAAAAAAAAAAAAAAAAAAAAAAAAAAAAAAAAAAAAAAAAAAAAAAAAAAAAAAAAAAAAAAAAAAAAAAAAAAAAAAAAAAAAAAAAAAAAAAAAAAAAAAAAAAAAAAAAAAAAAAAAAAAAAAAAAAAAAAAAAAAAAAAAAAAAAAAAAAAAAAAAAAAAAAAAAAAAAAAAAAAAAAAAAAAAAAAAAAAAAAAAAAAAAAAAAAAAAAAAAAAAAAAAAAAAAAAAAAAAAAAAAAAAAAAAAAAAAAAAAAAAAAAAAAAAAAAAAAAAAAAAAAAAAAAAAAAAAAAAAAAAAAAAAAAAAAAAAAAAAAAAAAAAAAAAAAAAAAAAAAAAAAAAAAAAAAAAAAAAAAAAAAAAAAAAAAAAAAAAAAAAAAAAAAAAAAAAAAAAAAAAAAAAAAAAAAAAAAAAAAAAAAAAAAAAAAAAAAAAAAAAAAAAAAAAAAAAAAAAAAAAAAAAAAAAAAAAAAAAAAAAAAAAAAAAAAAAAAAAAAAAAAAAAAAAAAAAAAAAAAAAAAAAAAAAAAAAAAAAAAAAAAAAAAAAAAAAAAAAAAAAAAAAAAAAAAAAAAAAAAAAAAAAAAAAAAAAAAAAAAAAAAAAAAAAAAAAAAAAAAAAAAAAAAAAAAAAAAAAAAAAAAAAAAAAAAAAAAAAAAAAAAAAAAAAAAAAAAAAAAAAAAAAAAAAAAAAAAAAAAAAAAAAAAAAAAAAAAAAAAAAAAAAAAAAAAAAAAAAAAAAAAAAAAAAAAAAAAAAAAAAAAAAAAAAAAAAAAAAAAAAAAAAAAAAAAAAAAAAAAAAAAAAAAAAAAAAAAAAAAAAAAAAAAAAAAAAAAAAAAAAAAAAAAAAAAAAAAAAAAAAAAAAAAAAAAAAAAAAAAAAAAAAAAAAAAAAAAAAAAAAAAAAAAAAAAAAAAAAAAAAAAAAAAAAAAAAAAAAAAAAAAAAAAAAAAAAAAAAAAAAAAAAAAAAAAAAAAAAAAAAAAAAAAAAAAAAAAAAAAAAAAAAAAAAAAAAAAAAAAAAAAAAAAAAAAAAAAAAAAAAAAAAAAAAAAAAAAAAAAAAAAAAAAAAAAAAAAAAAAAAAAAAAAAAAAAAAAAAAAAAAAAAAAAAAAAAAAAAAAAAAAAAAAAAAAAAAAAAAAAAAAAAAAAAAAAAAAAAAAAAAAAAAAAAAAAAAAAAAAAAAAAAAAAAAAAAAAAAAAAAAAAAAAAAAAAAAAAAAAAAAAAAAAAAAAAAAAAAAAAAAAAAAAAAAAAAAAAAAAAAAAAAAAAAAAAAAAAAAAAAAAAAAAAAAAAAAAAAAAAAAAAAAAAAAAAAAAAAAAAAAAAAAAAAAAAAAAAAAAAAAAAAAAAAAAAAAAAAAAAAAAAAAAAAAAAAAAAAAAAAAAAAAAAAAAAAAAAAAAAAAAAAAAAAAAAAAAAAAAAAAAAAAAAAAAAAAAAAAAAAAAAAAAAAAAAAAAAAAAAAAAAAAAAAAAAAAAAAAAAAAAAAAAAAAAAAAAAAAAAAAAAAAAAAAAAAAAAAAAAAAAAAAAAAAAAAAAAAAAAAAAAAAAAAAAAAAAAAAAAAAAAAAAAAAAAAAAAAAAAAAAAAAAAAAAAAAAAAAAAAAAAAAAAAAAAAAAAAAAAAAAAAAAAAAAAAAAAAAAAAAAAAAAAAAAAAAAAAAAAAAAAAAAAAAAAAAAAAAAAAAAAAAAAAAAAAAAAAAAAAAAAAAAAAAAAAAAAAAAAAAAAAAAAAAAAAAAAAAAAAAAAAAAAAAAAAAAAAAAAAAAElL4uAAAAADxX9qgGFA6PF8JoKEAAAAAAAAAAAAAAADGm6igxHtqobnG3bzYQjCkgYNbpQAAAAAAAAAAAAAAAAAAAAAAAAAAAAAAAAAAAAAAAAAAAAAAAAAAAAAAAAAAAAAAAAAAAAAAAAAAAAAAAAAAAAAAAAAAAAAAAAAAAAAAAAAAAAAAAAAAAAAAAAAAAAAAAAAAAAAAAAAAAAAAAAAAAAAAAAAAAAAAAAAAAAAAAAAAAAAAAAAAAAAAAAAAAAAAAAAAAAAAAAAAAAAAAAAAAAAAAAAAAAAAAAAAAAAAAAAAAAAAAAAAAAAAAAAAAAAAAAAAAAAAAAAAAAAAAAAAAAAAAAAAAAAAAAAAAAAAAAAAAAAAAAAAAAAAAAAAAAAAAAAAAAAAAAAAAAAAAAAAAAAAAAAAAAAAAAAAAAAAAAAAAAAAAAAAAAAAAAAAAAAAAAAAAAAAAAAAAAAAAAAAAAAAAAAAAAAAAAAAAAAAAAAAAAAAAAAAAAAAAAAAAAAAAAAAAAAAAAAAAAAAAAAAAAAAAAAAAAAAAAAAAAAAAAAAAAAAAAAAAAAAAAAAAAAAAAAAAAAAAAAAAAAAAAAAAAAAAAAAAAAAAAAAAAAAAAAAAAAAAAAAAAAAAAAAAAAAAAAAAAAAAAAAAAAAAAAAAAAAAAAAAAAAAAAAAAAAAAAAAAAAAAAAAAAAAAAAAAAAAAAAAAAAAAAAAAAAAAAAAAAAAAAAAAAAAAAAAAAAAAAAAAAAAAAAAAAAAAAAAAAAAAAAAAAAAAAAAAAAAAAAAAAAAAAAAAAAAAAAAAAAAAAAAAAAAAAAAAAAAAAAAAAAAAAAAAAAAAAAAAAAAAAAAAAAAAAAAAAAAAAAAAAAAAAAAAAAAAAAAAAAAAAAAAAAAAAAAAAAAAAAAAAAAAAAAAAAAAAAAAAAAAAAAAAAAAAAAAAAAAAAAAAAAAAAAAAAAAAAAAAAAAAAAAAAAAAAAAAAAAAAAAAAAAAAAAAAAAAAAAAAAAAAAAAAAAAAAAAAAAAAAAAAAAAAAAAAAAAAAAAAAAAAAAAAAAAAAAAAAAAAAAAAAAAAAAAAAAAAAAAAAAAAAAAAAAAAAAAAAAAAAAAAAAAAAAAAAAAAAAAAAAAAAAAAAAAAAAAAAAAAAAAAAAAAAAAAAAAAAAAAAAAAAAAAAAAAAAAAAAAAAAAAAAAAAAAAAAAAAAAAAAAAAAAAAAAAAAAAAAAAAAAAAAAAAAAAAAAAAAAAAAAAAAAAAAAAAAAAAAAAAAAAAAAAAAAAAAAAAAAAAAAAAAAAAAAAAAAAAAAAAAAAAAAAAAAAAAAAAAAAAAAAAAAAAAAAAAAAAAAAAAAAAAAAAAAAAAAAAAAAAAAAAAAAAAAAAAAAAAAAAAAAAAAAAAAAAAAAAAAAAAAAAAAAAAAAAAAAAAAAAAAAAAAAAAAAAAAAAAAAAAAAAAAAAAAAAAAAAAAAAAAAAAAAAAAAAAAAAAAAAAAAAAAAAAAAAAAAAAAAAAAAAAAAAAAAAAAAAAAAAAAAAAAAAAAAAAAAAAAAAAAAAAAAAAAAAAAAAAAAAAAAAAAAAAAAAAAAAAAAAAAAAAAAAAAAAAAAAAAAAAAAAAAAAAAAAAAAAAAAAAAAAAAAAAAAAAAAAAAAAAAAAAAAAAAAAAAAAAAAAAAAAAAAAAAAAAAAAAAAAAAAAAAAAAAAAAAAAAAAAAAAAAAAAAAAAAAAAAAAACo9KsHgy9rAh9zSp48Oir8/Jr8o/kxXqGRdir8lzs0pBvzIpa/NdKhsKaW/KxORJm56oi4uARLAoSmRv+bL0SZoWpHAlqFWJflSaSWxFSnAQKMgJeNEIibYaJInaYDGwMOhBCdEOtorAAAAAAAAAAAAAAAAAAAAAAAAAAAAAAAAAAAAAAAAAAAAAAAAAAAAAAAAAAAAAAAAAAAAAAAAAAAAAAAAAAAAAAAAAAAAAAAAAAAAAAAAAAAAAAAAAAAAAAAAAAAAAAAAAAAAAAAAAAAAAAAAAAAAAAAAAAAAAAAAAAAAAAAAAAAAAAAAAAAAAAAAAAAAAAAAAAAAAAAAAAAAAAAAAAAAAAAAAAAAAAAAAAAAAAAAAAAAAAAAAAAAAAAAAAAAAAAAAAAAAAAAAAAAAAAAAAAAAAAAAAAAAAAAAAAAAAAAAAAAAAAAAAAAAAAAAAAAAAAAAAAAAAAAAAAAAAAAAAAAAAAAAAAAAAAAAAAAAAAAAAAAAAAAAAAAAAAAAAAAAAAAAAAAAAAAAAAAAAAAAAAAAAAAAAAAAAAAAAAAAAAAAAAAAAAAAAAAAAAAAAAAAAAAAAAAAAAAAAAAAAAAAAAAAAAAAAAAAAAAAAAAAAAAAAAAAAAAAAAAAAAAAAAAAAAAAAAAAAAAAAAAAAAAAAAAAAAAAAAAAAAAAAAAAAAAAAAAAAAAAAAAAAAAAAAAAAAAAAAAAAAAAAAAAAAAAAAAAAAAAAAAAAAAAAAAAAAAAAAAAAAAAAAAAAAAAAAAAAAAAAAAAAAAAAAAAAAAAAAAAAAAAAAAAAAAAAAAAAAAAAAAAAAAAAAAAAAAAAAAAAAAAAAAAAAAAAAAAAAAAAAAAAAAAAAAAAAAAAAAAAAAAAAAAAAAAAAAAAAAAAAAAAAAAAAAAAAAAAAAAAAAAAAAAAAAAAAAAAAAAAAAAAAAAAAAAAAAAAAAAAAAAAAAAAAAAAAAAAAAAAAAAAAAAAAAAAAAAAAAAAAAAAAAAAAAAAAAAAAAAAAAAAAAAAAAAAAAAAAAAAAAAAAAAAAAAAAAAAAAAAAAAAAAAAAAAAAAAAAAAAAAAAAAAAAAAAAAAAAAAAAAAAAAAAAAAAAAAAAAAAAAAAAAAAAAAAAAAAAAAAAAAAAAAAAAAAAAAAAAAAAAAAAAAAAAAAAAAAAAAAAAAAAAAAAAAAAAAAAAAAAAAAAAAAAAAAAAAAAAAAAAAAAAAAAAAAAAAAAAAAAAAAAAAAAAAAAAAAAAAAAAAAAAAAAAAAAAAAAAAAAAAAAAAAAAAAAAAAAAAAAAAAAAAAAAAAAAAAAAAAAAAAAAAAAAAAAAAAAAAAAAAAAAAAAAAAAAAAAAAAAAAAAAAAAAAAAAAAAAAAAAAAAAAAAAAAAAAAAAAAAAAAAAAAAAAAAAAAAAAAAAAAAAAAAAAAAAAAAAAAAAAAAAAAAAAAAAAAAAAAAAAAAAAAAAAAAAAAAAAAAAAAAAAAAAAAAAAAAAAAAAAAAAAAAAAAAAAAAAAAAAAAAAAAAAAAAAAAAAAAAAAAAAAAAAAAAAAAAAAAAAAAAAAAAAAAAAAAAAAAAAAAAAAAAAAAAAAAAAAAAAAAAAAAAAAAAAAAAAAAAAAAAAAAAAAAAAAAAAAAAAAAAAAAAAAAAAAAAAAAAAAAAAAAAAAAAAAAAAAAAAAAAAAAAAAAAAAAAAAAAAAAAAAAAAAAAAAAAAAAAAAAAAAAAAAAAAAAAAAAAAAAAAAAAAAAAAAAAAAAAAAAAAAAAAAAAAAAAAAAAAAAAAAAAAAAAAAAAAAAAAAAAAAAAAAAAAAAAAAAAAAAAAAAAAAAAAAAAAAAAAAAAAAAAAAAAAAAAAAAAAAAAAAAAAAAAAAAAAAAAAAAAAAAAAAAAAAAAAAAAAAAAAAAAAAAAAAAAAAAAAAAAAAAAAAAAAAAAAAAAAAAAAAAAAAAAAAAAAAAAAAAAAAAAAAAAAAAAAAAAAAAAAAAAAAAAAAAAAAAAAAAAAAAAAAAAAAAAAAAAAAAAAAAAAAAAAAAAAAAAAAAAAAAAAAAAAAAAAAAAAAAAAAAAAAAAAAAAAAAAAAAAAAAAAAAAAAAAAAAAAAAAAAAAAAAAAAAAAAAAAAAAAAAAAAAAAAAAAAAAAAAAAAAAAAAAAAAAAAAAAAAAAAAAAAAAAAAAAAAAAAAAAAAAAAAAAAAAAAAAAAAAAAAAAAAAAAAAAAAAAAAAAAAAAAAAAAAAAAAAAAAAAAAAAAAAAAAAAAAAAAAAAAAAAAAAAAAAAAAAAAAAAAAAAAAAAAAAAAAAAAAAAAAAAAAAAAAAAAAAAAAAAAAAAAAAAAAAAAAAAAAAAAAAAAAAAAAAAAAAAAAAAAAAAAAAAAAAAAAAAAAAAAAAAAAAAAAAAAAAAAAAAAAAAAAAAAAAAAAAAAAAAAAAAAAAAAAAAAAAAAAAAAAAAAAAAAAAAAAAAAAAAAAAAAAAAAAAAAAAAAAAAAAAAAAAAAAAAAAAAAAAAAAAAAAAAAAAAAAAAAAAAAAAAAAAAAAAAAAAAAAAAAAAAAAAAAAAAAAAAAAAAAAAAAAAAAAAAAAAAAAAAAAAAAAAAAAAAAAAAAAAAAAAAAAAAAAAAAAAAAAAAAAAAAAAAAAAAAAAAAAAAAAAAAAAAAAAAAAAAAAAAAAAAAAAAAAAAAAAAAAAAAAAAAAAAAAAAAAAAAAAAAAAAAAAAAAAAAAAAAAAAAAAAAAAAAAAAAAAAAAAAAAAAAAAAAAAAAAAAAAAAAAAAAAAAAAAAAAAAAAAAAAAAAAAAAAAAAAAAAAAAAAAAAAAAAAAAAAAAAAAAAAAAAAAAAAAAAAAAAAAAAAAAAAAAAAAAAAAAAAAAAAAAAAAAAAAAAAAAAAAAAAAAAAAAAAAAAAAAAAAAAAAAAAAAAAAAAAAAAAAAAAAAAAAAAAAAAAAAAAAAAAAAAAAAAAAAAAAAAAAAAAAAAAAAAAAAAAAAAAAAAAAAAAAAAAAAAAAAAAAAAAAAAAAAAAAAAAAAAAAAAAAAAAAAAAAAAAAAAAAAAAAAAAAAAAAAAAAAAAAAAAAAAAAAAAAAAAAAAAAAAAAAAAAAAAAAAAAAAAAAAAAAAAAAAAAAAAAAAAAAAAAAAAAAAAAAAAAAAAAAAAAAAAAAAAAAAAAAAAAAAAAAAAAAAAAAAAAAAAAAAAAAAAAAAAAAAAAAAAAAAAAAAAAAAAAAAAAAAAAAAAAAAAAAAAAAAAAAAAAAAAAAAAAAAAAAAAAAAAAAAAAAAAAAAAAAAAAAAAAAAAAAAAAAAAAAAAAAAAAAAAAAAAAAAAAAAAAAAAAAAAAAAAAAAAAAAAAAAAAAAAAAAAAAAAAAAAAAAAAAAAAAAAAAAAAAAAAAAAAAAAAAAAAAAAAAAAAAAAAAAAAAAAAAAAAAAAAAAAAAAAAAAAAAAAAAAAAAAAAAAAAAAAAAAAAAAAAAAAAAAAAAAAAAAAAAAAAAAAAAAAAAAAAAAAAAAAAAAAAAAAAAAAAAAAAAAAAAAAAAAAAAAAAAAAAAAAAAAAAAAAAAAAAAAAAAAAAAAAAAAAAAAAAAAAAAAAAAAAAAAAAAAAAAAAAAAAAAAAAAAAAAAAAAAAAAAAAAAAAAAAAAAAAAAAAAAAAAAAAAAAAAAAAAAAAAAAAAAAAAAAAAAAAAAAAAAAAAAAAAAAAAAAAAAAAAAAAAAAAAAAAAAAAAAAAAAAAAAAAAAAAAAAAAAAAAAAAAAAAAAAAAAAAAAAAAAAAAAAAAAAAAAAAAAAAAAAAAAAAAAAAAAAAAAAAAAAAAAAAAAAAAAAAAAAAAAAAAAAAAAAAAAAAAAAAAAAAAAAAAAAAAAAAAAAAAAAAAAAAAAAAAAAAAAAAAAAAAAAAAAAAAAAAAAAAAAAAAAAAAAAAAAAAAAAAAAAAAAAAAAAAAAAAAAAAAAAAAAAAAAAAAAAAAAAAAAAAAAAAAAAAAAAAAAAAAAAAAAAAAAAAAAAAAAAAAAAAAAAAAAAAAAAAAAAAAAAAAAAAAAAAAAAAAAAAAAAAAAAAAAAAAAAAAAAAAAAAAAAAAAAAAAAAAAAAAAAAAAAAAAAAAAAAAAAAAAAAAAAAAAAAAAAAAAAAAAAAAAAAAAAAAAAAAAAAAAAAAAAAAAAAAAAAAAAAAAAAAAAAAAAAAAAAAAAAAAAAAAAAAAAAAAAAAAAAAAAAAAAAAAAAAAAAAAAAAAAAAAAAAAAAAAAAAAAAAAAAAAAAAAAAAAAAAAAAAAAAAAAAAAAAAAAAAAAAAAAAAAAAAAAAAAAAAAAAAAAAAAAAAAAAAAAAAAAAAAAAAAAAAAAAAAAAAAAAAAAAAAAAAAAAAAAAAAAAAAAAAAAAAAAAAAAAAAAAAAAAAAAAAAAAAAAAAAAAAAAAAAAAAAAAAAAAAAAAAAAAAAAAAAAAAAAAAAAAAAAAAAAAAAAAAAAAAAAAAAAAAAAAAAAAAAAAAAAAAAAAAAAAAAAAAAAAAAAAAAAAAAAAAAAAAAAAAAAAAAAAAAAAAAAAAAAAAAAAAAAAAAAAAAAAAAAAAAAAAAAAAAAAAAAAAAAAAAAAAAAAAAAAAAAAAAAAAAAAAAAAAAAAAAAAAAAAAAAAAAAAAAAAAAAAAAAAAAAAAAAAAAAAAAAAAAAAAAAAAAAAAAAAAAAAAAAAAAAAAAAAAAAAAAAAAAAAAAAAAAAAAAAAAAAAAAAAAAAAAAAAAAAAAAAAAAAAAAAAAAAAAAAAAAAAAAAAAAAAAAAAAAAAAAAAAAAAAAAAAAAAAAAAAAAAAAAAAAAAAAAAAAAAAAAAAAAAAAAAAAAAAAAAAAAAAAAAAAAAAAAAAAAAAAAAAAAAAAAAAAAAAAAAAAAAAAAAAAAAAAAAAAAAAAAAAAAAAAAAAAAAAAAAAAAAAAAAAAAAAAAAAAAAAAAAAAAAAAAAAAAAAAAAAAAAAAAAAAAAAAAAAAAAAAAAAAAAAAAAAAAAAAAAAAAAAAAAAAAAAAAAAAAAAAAAAAAAAAAAAAAAAAAAAAAAAAAAAAAAAAAAAAAAAAAAAAAAAAAAAAAAAAAAAAAAAAAAAAAAAAAAAAAAAAAAAAAAAAAAAAAAAAAAAAAAAAAAAAAAAAAAAAAAAAAAAAAAAAAAAAAAAAAAAAAAAAAAAAAAAAAAAAAAAAAAAAAAAAAAAAAAAAAAAAAAAAAAAAAAAAAAAAAAAAAAAAAAAAAAAAAAAAAAAAAAAAAAAAAAAAAAAAAAAAAAAAAAAAAAAAAAAAAAAAAAIsbm3AAAAAD8wGCBz7u28CGOBIAAAAAAAAAAAAAAAAKF5rp/t3EWhTmCsvVU/PaLp7wElAAAAAAAAAAAAAAAAAAAAAAAAAAAAAAAAAAAAAAAAAAAAAAAAAAAAAAAAAAAAAAAAAAAAAAAAAAAAAAAAAAAAAAAAAAAAAAAAAAAAAAAAAAAAAAAAAAAAAAAAAAAAAAAAAAAAAAAAAAAAAAAAAAAAAAAAAAAAAAAAAAAAAAAAAAAAAAAAAAAAAAAAAAAAAAAAAAAAAAAAAAAAAAAAAAAAAAAAAAAAAAAAAAAAAAAAAAAAAAAAAAAAAAAAAAAAAAAAAAAAAAAAAAAAAAAAAAAAAAAAAAAAAAAAAAAAAAAAAAAAAAAAAAAAAAAAAAAAAAAAAAAAAAAAAAAAAAAAAAAAAAAAAAAAAAAAAAAAAAAAAAAAAAAAAAAAAAAAAAAAAAAAAAAAAAAAAAAAAAAAAAAAAAAAAAAAAAAAAAAAAAAAAAAAAAAAAAAAAAAAAAAAAAAAAAAAAAAAAAAAAAAAAAAAAAAAAAAAAAAAAAAAAAAAAAAAAAAAAAAAAAAAAAAAAAAAAAAAAAAAAAAAAAAAAAAAAAAAAAAAAAAAAAAAAAAAAAAAAAAAAAAAAAAAAAAAAAAAAAAAAAAAAAAAAAAAAAAAAAAAAAAAAAAAAAAAAAAAAAAAAAAAAAAAAAAAAAAAAAAAAAAAAAAAAAAAAAAAAAAAAAAAAAAAAAAAAAAAAAAAAAAAAAAAAAAAAAAAAAAAAAAAAAAAAAAAAAAAAAAAAAAAAAAAAAAAAAAAAAAAAAAAAAAAAAAAAAAAAAAAAAAAAAAAAAAAAAAAAAAAAAAAAAAAAAAAAAAAAAAAAAAAAAAAAAAAAAAAAAAAAAAAAAAAAAAAAAAAAAAAAAAAAAAAAAAAAAAAAAAAAAAAAAAAAAAAAAAAAAAAAAAAAAAAAAAAAAAAAAAAAAAAAAAAAAAAAAAAAAAAAAAAAAAAAAAAAAAAAAAAAAAAAAAAAAAAAAAAAAAAAAAAAAAAAAAAAAAAAAAAAAAAAAAAAAAAAAAAAAAAAAAAAAAAAAAAAAAAAAAAAAAAAAAAAAAAAAAAAAAAAAAAAAAAAAAAAAAAAAAAAAAAAAAAAAAAAAAAAAAAAAAAAAAAAAAAAAAAAAAAAAAAAAAAAAAAAAAAAAAAAAAAAAAAAAAAAAAAAAAAAAAAAAAAAAAAAAAAAAAAAAAAAAAAAAAAAAAAAAAAAAAAAAAAAAAAAAAAAAAAAAAAAAAAAAAAAAAAAAAAAAAAAAAAAAAAAAAAAAAAAAAAAAAAAAAAAAAAAAAAAAAAAAAAAAAAAAAAAAAAAAAAAAAAAAAAAAAAAAAAAAAAAAAAAAAAAAAAAAAAAAAAAAAAAAAAAAAAAAAAAAAAAAAAAAAAAAAAAAAAAAAAAAAAAAAAAAAAAAAAAAAAAAAAAAAAAAAAAAAAAAAAAAAAAAAAAAAAAAAAAAAAAAAAAAAAAAAAAAAAAAAAAAAAAAAAAAAAAAAAAAAAAAAAAAAAAAAAAAAAAAAAAAAAAAAAAAAAAAAAAAAAAAAAAAAAAAAAAAAAAAAAAAAAAAAAAAAAAAAAAAAAAAAAAAAAAAAAAAAAAAAAAAAAAAAAAAAAAAAAAAAAAAAAAAAAAAAAAAAAAAAAAAAAAAAAAAAAAAAAAAAAAAAAAAAAAAAAAAAAAAAAAAAAAAAAAAAAAAAAAAAAAAAAAAAAAAAAAAAAAAAAAAAAAAAAAAAAAAAAAAAAAAAAAAAAAAAAAAAAAAAAAAAAAAAAAAAAAAAAAAAAAAAAAAAAAAAAAAAAAAAAAAAAAAAAAAAAAAAAAAAAAAAAAAAAAAAAAAAAAAAAAAAAAAAAAAAAAAAAAAAAAAAAAAAAAAAAAAAAAAAAAAAAAAAAAAAAAAAAAAAAAAAAAAAAAAAAAAAAAAAAAAAAAAAAAAAAAAAAAAAAAAAAAAAAAAAAAAAAAAAAAAAAAAAAAAAAAAAAAAAAAAAAAAAAAAAAAAAAAAAAAAAAAAAAAAAAAAAAAAAAAAAAAAAAAAAAAAAAAAAAAAAAAAAAAAAAAAAAAAAAAAAAAAAAAAAAAAAAAAAAAAAAAAAAAAAAAAAAAAAAAAAAAAAAAAAAAAAAAAAAAAAAAAAAAAAAAAAAAAAAAAAAAAAAAAAAAAAAAAAAAAAAAAAAAAAAAAAAAAAAAAAAAAAAAAAAAAAAAAAAAAAAAAAAAAAAAAAAAAAAAAAAAAAAAAAAAAAAAAAAAAAAAAAAAAAAAAAAAAAAAAAAAAAAAAAAAAAAAAAAAAAAAAAAAAAAAAAAAAAAAAAAAAAAAAAAAAAAAAAAAAAAAAAAAAAAAAAAAAAAAAAAAAAAAAAAAAAAAAAAAAAAAAAAAAAAAAAAAAAAAAAAAAAAAAAAAAAAAAAAAAAAAAAAAAAAAAAAAAAAAAAAAAAAAAAAAAAAAAAAAAAAAAAAAAAAAAAAAAAAAAAAAAAAAAAAAAAAAAAAAAAAAAAAAAAAAAAAAAAAAAAAAAAAAAAAAAAAAAAAAAAAAAAAAAAAAAAAAAAAAAAAAAAAAAAAAAAAAAAAAAAAAAAAAAAAAAAAAAAAAAAAAAAAAAAAAAAAAAAAAAAAAAAAAAAAAAAAAAAAAAAAAAAAAAAAAAAAAAAAAAAAAAAAAAAAAAAAAAAAAAAAAAAAAAAAAAAAAAAAAAAAAAAAAAAAAAAAAAAAAAAAAAAAAAAAAAAAAAAAAAAAAAAAAAAAAAAAAAAAWfe4twAAAADkr+Y81wdatiERgB8AAAAAAAAAAAAAAACGiGGgZtGMN0r+Jj14UiyfqqCQPcfjRroAAAAAaH2YPZWNM718e9shAAAAAAAAAAAAAAAACg4powaIJz6tmsk8i4DIoYJRDj4AAAAAAAAAAAAAAAAAAAAAAAAAAAAAAAAAAAAAAAAAAAAAAAAAAAAAAAAAAAAAAAAAAAAAAAAAAAAAAAAAAAAAAAAAAAAAAAAAAAAAAAAAAAAAAAAAAAAAAAAAAAAAAAAAAAAAAAAAAAAAAAAAAAAAAAAAAAAAAAAAAAAAAAAAAAAAAAAAAAAAAAAAAAAAAAAAAAAAAAAAAAAAAAAAAAAAAAAAAAAAAAAAAAAAAAAAAAAAAAAAAAAAAAAAAAAAAAAAAAAAAAAAAAAAAAAAAAAAAAAAAAAAAAAAAAAAAAAAAAAAAAAAAAAAAAAAAAAAAAAAAAAAAAAAAAAAAAAAAAAAAAAAAAAAAAAAAAAAAAAAAAAAAAAAAAAAAAAAAAAAAAAAAAAAAAAAAAAAAAAAAAAAAAAAAAAAAABZ97i3AAAAAJ3NNJ/XB1q25K/mPAAAAAAAAAAAAAAAAKYasR+HaDgeSv4mPWbRjDeqoJC9x+NGugAAAAAjd82glY0zvWh9mD0AAAAAAAAAAAAAAABsWQQjjYJ3oq2ayTwGiCc+glEOvln3uLcAAAAAEtPUH9cHWrbkr+a8AAAAAAAAAAAAAAAA/G3BIHlalR1K/iY9ZtGMt6qgkL3H40a6AAAAAFPqxyCVjTO9aH2YvQAAAAAAAAAAAAAAAB95G5/aAY+hrZrJPAaIJ76CUQ6+AAAAAAAAAAAAAAAAAAAAAAAAAAAAAAAAAAAAAAAAAAAAAAAAAAAAAAAAAAAAAAAAAAAAAAAAAAAAAAAAAAAAAAAAAAAAAAAAAAAAAAAAAAAAAAAAAAAAAAAAAAAAAAAAAAAAAAAAAAAAAAAAAAAAAAAAAAAAAAAAAAAAAAAAAAAAAAAAAAAAAAAAAAAAAAAAAAAAAAAAAAAAAAAAAAAAAAAAAAAAAAAAAAAAAAAAAAAAAAAAAAAAAAAAAAAAAAAAAAAAAAAAAAAAAAAAAAAAAAAAAAAAAAAAAAAAAAAAAAAAAAAAAAAAAAAAAAAAAAAAAAAAAAAAAAAAAAAAAAAAAAAAAAAAAAAAAAAAAAAAAAAAAAAAAAAAAAAAAAAAAAAAAAAAAAAAAAAAAAAAAAAAAAAAAAAAAAAAWfe4twAAAADkr+a81wdatpjq8R8AAAAAAAAAAAAAAAAtoxAhZtGMt0r+Jj035OGeqqCQPcfjRroAAAAAaH2YvZWNM72t4DMiAAAAAAAAAAAAAAAAng+aIwaIJ76tmsk8+cwEI4JRDj4AAAAAAAAAAAAAAAAAAAAAAAAAAAAAAAAAAAAAAAAAAAAAAAAAAAAAAAAAAAAAAAAAAAAAAAAAAAAAAAAAAAAAAAAAAAAAAAAAAAAAAAAAAAAAAAAAAAAAAAAAAAAAAAAAAAAAAAAAAAAAAAAAAAAAAAAAAAAAAAAAAAAAAAAAAAAAAAAAAAAAAAAAAAAAAAAAAAAAAAAAAAAAAAAAAAAAAAAAAAAAAAAAAAAAAAAAAAAAAAAAAAAAAAAAAAAAAAAAAAAAAAAAAAAAAAAAAAAAAAAAAAAAAAAAAAAAAAAAAAAAAAAAAAAAAAAAAAAAAAAAAAAAAAAAAAAAAAAAAAAAAAAAAAAAAAAAAAAAAAAAAAAAAAAAAAAAAAAAAAAAAAAAAAAAAAAAAAAAAAAAAAAAAAAAAAAAAAAAAAAAAAAAAAAAAAAAAAAAAAAAAAAAAAAAAAAAAAAAAAAAAAAAAAAAAAAAAAAAAAAAAAAAAAAAAAAAAAAAAAAAAAAAAAAAAAAAAAAAAAAAAAAAAAAAAAAAAAAAAAAAAAAAAAAAAAAAAAAAAAAAAAAAAAAAAAAAAAAAAAAAAAAAAAAAAAAAAAAAAAAAAAAAAAAAAAAAAAAAAAAAAAAAAAAAAAAAAAAAAAAAAAAAAAAAAAAAAAAAAAAAAAAAAAAAAAAAAAAAAAAAAAAAAAAAAAAAAAAAAAAAAAAAAAAAAAAAAAAAAAAAAAAAAAAAAAAAAAAAAAAAAAAAAAAAAAAAAAAAAAAAAAAAAAAAAAAAAAAAAAAAAAAAAAAAAAAAAAAAAAAAAAAAAAAAAAAAAAAAAAAAAAAAAAAAAAAAAAAAAAAAAAAAAAAAAAAAAAAAAAAAAAAAAAAAAAAAAAAAAAAAAAAAAAAAAAAAAAAAAAAAAAAAAAAAAAAAAAAAAAAAAAAAAAAAAAAAAAAAAAAAAAAAAAAAAAAAAAAAAAAAAAAAAAAAAAAAAAAAAAAAAAAAAAAAAAAAAAAAAAAAAAAAAAAAAAAAAAAAAAAAAAAAAAAAAAAAAAAAAAAAAAAAAAAAAAAAAAAAAAAAAAAAAAAAAAAAAAAAAAAAAAAAAAAAAAAAAAAAAAAAAAAAAAAAAAAAAAAAAAAAAAAAAAAAAAAAAAAAAAAAAAAAAAAAAAAAAAAAAAAAAAAAAAAAAAAAAAAAAAAAAAAAAAAAAAAAAAAAAAAAAAAAAAAAAAAAAAAAAAAAAAAAAAAAAAAAAAAAAAAAAAAAAAAAAAAAAAAAAAAAAAAAAAAAAAAAAAAAAAAAAAAAAAAAAAAAAAAAAAAAAAAAAAAAAAAAAAAAAAAAAAAAAAAAAAAAAAAAAAAAAAAAAAAAAAAAAAAAAAAAAAAAAAAAAAAAAAAAAAAAAAAAAAAAAAAAAAAAAAAAAAAAAAAAAAAAAAAAAAAAAAAAAAAAAAAAAAAAAAAAAAAAAAAAAAAAAAAAAAAAAAAAAAAAAAAAAAAAAAAAAAAAAAAAAAAAAAAAAAAAAAAAAAAAAAAAAAAAAAAAAAAAAAAAAAAAAAAAAAAAAAAAAAAAAAAAAAAAAAAAAAAAAAAAAAAAAAAAAAAAAAAAAAAAAAAAAAAAAAAAAAAAAAAAAAAAAAAAAAAAAAAAAAAAAAAAAAAAAAAAAAAAAAAAAAAAAAAAAAAAAAAAAAAAAAAAAAAAAAAAAAAAAAAAAAAAAAAAAAAAAAAAAAAAAAAAAAAAAAAAAAAAAAAAAAAAAAAAAAAAAAAAAAAAAAAAAAAAAAAAAAAAAAAAAAAAAAAAAAAAAAAAAAAAAAAAAAAAAAAAAAAAAAAAAAAAAAAAAAAAAAAAAAAAAAAAAAAAAAAAAAAAAAAAAAAAAAAAAAAAAAAAAAAAAAAAAAAAAAAAAAAAAAAAAAAAAAAAAAAAAAAAAAAAAAAAAAAAAAAAAAAAAAAAAAAAAAAAAAAAAAAAAAAAAAAAAAAAAAAAAAAAAAAAAAAAAAAAAAAAAAAAAAAAAAAAAAAAAAAAAAAAAAAAAPkQPrwAAAAAogBNPhaGpT0X1Y0jAjq2NdFTFTWMNTeUVfKfo03Nn74mVBo+1aS8oms+xj4AAAAAAAAAAAAAAAAAAAAAAAAAAAAAAAAAAAAAAAAAAAAAAAAAAAAAAAAAAAAAAAAAAAAAAAAAAAAAAAAAAAAAAAAAAAAAAAAAAAAAAAAAAAAAAAAAAAAAAAAAAAAAAAAAAAAAAAAAAAAAAAAAAAAAAAAAAAAAAAAAAAAAAAAAAAAAAAAAAAAAAAAAAAAAAAAAAAAAAAAAAAAAAAAAAAAAAAAAAAAAAAAAAAAAAAAAAAAAAAAAAAAAAAAAAAAAAAAAAAAAAAAAAAAAAAAAAAAAAAAAAAAAAAAAAAAAAAAAAAAAAAAAAAAAAAAAAAAAAAAAAAAAAAAAAAAAAAAAAAAAAAAAAAAAAAAAAAAAAAAAAAAAAAAAAAAAAAAAAAAAAAAAAAAAAAAAAAAAAAAAAAAAAAAAAAAAAAAAAAAAAAAAAAAAAAAAAAAAAAAAAAAAAAAAAAAAAAAAAAAAAAAAAAAAAAAAAAAAAAAAAAAA+RA+vAAAAABkvU6iFoalPaIATT7r2JQT0VMVNQI6tjVRjhcj4yqWoyZUGj5NzZ++az7Gvq2EDDsAAAAAoj+qoPW4vjyYyY+fAAAAAPO4p7gAAAAAIz78n09aHyKJAZK9R6ZnpL1xziX9U8zAdZuowETa5CYbsAxBXirqJinG/qZ/7PJABmbZJ/q2kab8eLcmeN3PwLE07CT46wEtAAAAAAAAAAAAAAAAAAAAAAAAAAAAAAAAAAAAAAAAAAAAAAAAAAAAAAAAAAAAAAAAAAAAAPkQPrwAAAAA8WRiohaGpT2iAE2+BvcBFdFTFTUCOra1SAMipE9B46ImVBo+Tc2fPms+xr4AAAAAAAAAAAAAAAAAAAAAAAAAAAAAAAAAAAAAAAAAAAAAAAAAAAAAAAAAAAAAAAAAAAAAAAAAAAAAAAAAAAAAAAAAAAAAAAAAAAAAAAAAAAAAAAAAAAAAAAAAAAAAAAAAAAAAAAAAAAAAAAAAAAAAAAAAAAAAAAAAAAAAAAAAAAAAAAAAAAAAAAAAAAAAAAAAAAAAAAAAAAAAAAAAAAAAAAAAAAAAAAAAAAAAAAAAAAAAAAAAAAAAAAAAAAAAAAAAAAAAAAAAAAAAAAAAAAAAAAAAAAAAAAAAAAAAAAAAAAAAAAAAAAAAAAAAAAAAAAAAAAAAAAAAAAAAAAAAAAAAAAAAAAAAAAAAAAAAAAAAAAAAAAAAAAAAAAAAAAAAAAAAAAAAAAAAAAAAAAAAAAAAAAAAAAAAAAAAAAAAAAAAAAAAAAAAAAAAAAAAAAAAAAAAAAAAAAAAAAAAAAAAAAAAAAAAAAAAAAAAAAAA+RA+vAAAAACiAE2+FoalPbRcWCMCOra10VMVNbBQ+xMMZ6AhTc2fPiZUGj5Ld7ijaz7GPgAAAAAAAAAAAAAAAAAAAAAAAAAAAAAAAAAAAAAAAAAAAAAAAAAAAAAAAAAAAAAAAAAAAAAAAAAAAAAAAAAAAAAAAAAAAAAAAAAAAAAAAAAAAAAAAAAAAAAAAAAAAAAAAAAAAAAAAAAAAAAAAAAAAAAAAAAAAAAAAAAAAAAAAAAAAAAAAAAAAAAAAAAAAAAAAAAAAAAAAAAAAAAAAAAAAAAAAAAAAAAAAAAAAAAAAAAAAAAAAAAAAAAAAAAAAAAAAAAAAAAAAAAAAAAAAAAAAAAAAAAAAAAAAAAAAAAAAAAAAAAAAAAAAAAAAAAAAAAAAAAAAAAAAAAAAAAAAAAAAAAAAAAAAAAAAAAAAAAAAAAAAAAAAAAAAAAAAAAAAAAAAAAAAAAAAAAAAAAAAAAAAAAAAAAAAAAAAAAAAAAAAAAAAAAAAAAAAAAAAAAAAAAAAAAAAAAAAAAAAAAAAAAAAAAAAAAAAAAAAAAAAAAAAAAAAAAAAAAAAAAAAAAAAAAAAAAAAAAAAAAAAAAAAAAAAAAAAAAAAAAAAAAAAAAAAAAAAAAAAAAAAAAAAAAAAAAAAAAAAAAAAAAAAAAAAAAAAAAAAAAAAAAAAAAAAAAAAAAAAAAAAAAAAAAAAAAAAAAAAAAAAAAAAAAAAAAAAAAAAAAAAAAAAAAAAAAAAAAAAAAAAAAAAAAAAAAAAAAAAAAAAAAAAAAAAAAAAAAAAAAAAAAAAAAAAAAAAAAAAAAAAAAAAAAAAAAAAAAAAAAAAAAAAAAAAAAAAAAAAAAAAAAAAAAAAAAAAAAAAAAAAAAAAAAAAAAAAAAAAAAAAAAAAAAAAAAAAAAAAAAAAAAAAAAAAAAAAAAAAAAAAAAAAAAAAAAAAAAAAAAAAAAAAAAAAAAAAAAAAAAAAAAAAAAAAAAAAAAAAAAAAAAAAAAAAAAAAAAAAAAAAAAAAAAAAAAAAAAAAAAAAAAAAAAAAAAAAAAAAAAAAAAAAAAAAAAAAAAAAAAAAAAAAAAAAAAAAAAAAAAAAAAAAAAAAAAAAAAAAAAAAAAAAAAAAAAAAAAAAAAAAAAAAAAAAAAAAAAAAAAAAAAAAAAAAAAAAAAAAAAAAAAAAAAAAAAAAAAAAAAAAAAAAAAAAAAAAAAAAAAAAAAAAAAAAAAAAAAAAAAAAAAAAAAAAAAAAAAAAAAAAAAAAAAAAAAAAAAAAAAAAAAAAAAAAAAAAAAAAAAAAAAAAAAAAAAAAAAAAAAAAAAAAAAAAAAAAAAAAAAAAAAAAAAAAAAAAAAAAAAAAAAAAAAAAAAAAAAAAAAAAAAAAAAAAAAAAAAAAAAAAAAAAAAAAAAAAAAAAAAAAAAAAAAAAAAAAAAAAAAAAAAAAAAAAAAAAAAAAAAAAAAAAAAAAAAAAAAAAAAAAAAAAAAAAAAAAAAAAAAAAAAAAAAAAAAAAAAAAAAAAAAAAAAAAAAAAAAAAAAAAAAAAAAAAAAAAAAAAAAAAAAAAAAAAAAAAAAAAAAAAAAAAAAAAAAAAAAAAAAAAAAAAAAAAAAAAAAAAAAAAAAAAAAAAAAAAAAAAAAAAAAAAAAAAAAAAAAAAAAAAAAAAAAAAAAAAAAAAAAAAAAAAAAAAAAAAAAAAAAAAAAAAAAAAAAAAAAAAAAAAAAAAAAAAAAAAAAAAAAAAAAAAAAAAAAAAAAAAAAAAAAAAAAAAAAAAAAAAAAAAAAAAAAAAAAAAAAAAAAAAAAAAAAAAAAAAAAAAAAAAAAAAAAAAAAAAAAAAAAAAAAAAAAAAAAAAAAAAAAAAAAAAAAAAAAAAAAAAAAAAAAAAAAAAAAAAAAAAAAAAAAAAAAAAAAAAAAAAAAAAAAAAAAAAAAAAAAAAAAAAAAAAAAAAAAAAAAAAAAAAAAAAAAAAAAAAAAAAAAAAAAAAAAAAAAAAAAAAAAAAAAAAAAAAAAAAAAAAAAAAAAAAAAAAAAAAAAAAAAAAAAAAAAAAAAAAAAAAAAAAAAAAAAAAAAAAAAAAAAAAAAAAAAAAAAAAAAAAAAAAAAAAAAAAAAAAAAAAAAAAAAAAAAAAAAAAAAAAAAAAAAAAAAAAAAAAAAAAAAAAAAAAAAAAAAAAAAAAAAAAAAAAAAAAAAAAAAAAAAAAAAAAAAAAAAAAAAAAAAAAAAAAAAAAAAAAAAAAAAAAAAAAAAAAAAAAAAAAAAAAAAAAAAAAAAAAAAAAAAAAAAAAAAAAAAAAAAAAAAAAAAAAAAAAAAAAAAAAAAAAAAAAAAAAAAAAAAAAAAAAAAAAAAAAAAAAAAAAAAAAAAAAAAAAAAAAAAAAAAAAAAAAAAAAAAAAAAAAAAAAAAAAAAAAAAAAAAAAAAAAAAAAAAAAAAAAAAAAAAAAAAAAAAAAAAAAAAAAAAAAAAAAAAAAAAAAAAAAAAAAAAAAAAAAAAAAAAAAAAAAAAAAAAAAAAAAAAAAAAAAAAAAAAAAAAAAAAAAAAAAAAAAAAAAAAAAAAAAAAAAAAAAAAAAAAAAAAAAAAAAAAAAAAAAAAAAAAAAAAAAAAAAAAAAAAAAAAAAAAAAAAAAAAAAAAAAAAAAAAAAAAAAAAAAAAAAAAAAAAAAAAAAAAAAAAAAAAAAAAAAAAAAAAAAAAAAAAAAAAAAAAAAAAAAAAAAAAAAAAAAAAAAAAAAAAAAAAAAAAAAAAAAAAAAAAAAAAAAAAAAAAAAAAAAAAAAAAAAAAAAKfyADIAAAAAFEr1FhNXkbrR/ZGXAAAAAAAAAAAAAAAA/6o5FUXZI5n6KTw78rgWoxl44BoAAAAAAAAAAAAAAAAAAAAAAAAAAAAAAAAAAAAAAAAAAAAAAAAAAAAAAAAAAAAAAAAAAAAAAAAAAAAAAAAAAAAAAAAAAAAAAAAAAAAAAAAAAAAAAAAAAAAAAAAAAAAAAAAAAAAAAAAAAAAAAAAAAAAAAAAAAAAAAAAAAAAAAAAAAAAAAAAAAAAAAAAAAAAAAAAAAAAAAAAAAAAAAAAAAAAAAAAAAAAAAAAAAAAAAAAAAAAAAAAAAAAAAAAAAAAAAAAAAAAAAAAAAAAAAAAAAAAAAAAAAAAAAAAAAAAAAAAAAAAAAAAAAAAAAAAAAAAAAAAAAAAAAAAAAAAAAAAAAAAAAAAAAAAAAAAAAAAAAAAAAAAAAAAAAAAAAAAAAAAAAAAAAAAAAAAAAAAAAAAAAAAAAAAAAAAAAAAAAAAAAAAAAAAAAAAAAAAAAAAAAAAAAAAAAAAAAAAAAAAAAAAAAAAAAAAAAAAAAAAAAAAAAAAAAAAAAAAAAAAAAAAAAAAAAAAAAAAAAAAAAAAAAAAAAAAAAAAAAAAAAAAAAAAAAAAAAAAAAAAAAAAAAAAAAAAAAAAAAAAAAAAAAAAAAAAAAAAAAAAAAAAAAAAAAAAAAAAAAAAAAAAAAAAAAAAAAAAAAAAAAAAAAAAAAAAAAAAAAAAAAAAAAAAAAAAAAAAAAAAAAAAAAAAAAAAAAAAAAAAAAAAAAAAAAAAAAAAAAAAAAAAAAAAAAAAAAAAAAAAAAAAAAAAAAAAAAAAAAAAAAAAAAAAAAAAAAAAAAAAAAAAAAAAAAAAAAAAAAAAAAAAAAAAAAAAAAAAAAAAAAAAAAAAAAAAAAAAAAAAAAAAAAAAAAAAAAAAAAAAAAAAAAAAAAAAAAAAAAAAAAAAAAAAAAAAAAAAAAAAAAAAAAAAAAAAAAAAAAAAAAAAAAAAAAAAAAAAAAAAAAAAAAAAAAAAAAAAAAAAAAAAAAAAAAAAAAAAAAAAAAAAAAAAAAAAAAAAAAAAAAAAAAAAAAAAAAAAAAAAAAAAAAAAAAAAAAAAAAAAAAAAAAAAAAAAAAAAAAAAAAAAAAAAAAAAAAAAAAAAAAAAAAAAAAAAAAAAAAAAAAAAAAAAAAAAAAAAAAAAAAAAAAAAAAAAAAAAAAAAAAAAAAAAAAAAAAAAAAAAAAAAAAAAAAAAAAAAAAAAAAAAAAAAAAAAAAAAAAAAAAAAAAAAAAAAAAAAAAAAAAAAAAAAAAAAAAAAAAAAAAAAAAAAAAAAAAAAAAAAAAAAAAAAAAAAAAAAAAAAAAAAAAAAAAAAAAAAAAAAAAAAAAAAAAAAAAAAAAAAAAAAAAAAAAAAAAAAAAAAAAAAAAAAAAAAAAAAAAAAAAAAAAAAAAAAAAAAAAAAAAAAAAAAAAAAAAAAAAAAAAAAAAAAAAAAAAAAAAAAAAAAAAAAAAAAAAAAAAAAAAAAAAAAAAAAAAAAAAAAAAAAAAAAAAAAAAAAAAAAAAAAAAAAAAAAAAAAAAAAAAAAAAAAAAAAAAAAAAAAAAAAAAAAAAAAAAAAAAAAAAAAAAAAAAAAAAAAAAAAAAAAAAAAAAAAAAAAAAAAAAAAAAAAAAAAAAAAAAAAAAAAAAAAAAAAAAAAAAAAAAAAAAAAAAAAAAAAAAAAAAAAAAAAAAAAAAAAAAAAAAADF2I8oNo+UqEugcD5MsfknaoK/qKBLGD8Gr5aoy5iNKLY1tai0QXe/zG/jJxaIaSf3k4io6TUzKAoQwqZxSzS/jGTUJujHLSaScSO/x6xzJvsTaSaSniwpcRD4vh9ggyhGLdgnXYvGJAAAAAAAAAAAAAAAAAAAAAAAAAAAAAAAAAAAAAAAAAAAAAAAAAAAAAAAAAAAAAAAAAAAAAAAAAAAAAAAAAAAAAAAAAAAAAAAAAAAAAAAAAAAAAAAAAAAAAAAAAAAAAAAAAAAAAAAAAAAAAAAAAAAAAAAAAAAAAAAAAAAAAAAAAAAAAAAAAAAAAAAAAAAAAAAAAAAAAAAAAAAAAAAAAAAAAAAAAAAAAAAAAAAAAAAAAAAAAAAAAAAAAAAAAAAAAAAAAAAAAAAAAAAAAAAAAAAAAAAAAAAAAAAAAAAAAAAAAAAAAAAAAAAAAAAAAAAAAAAAAAAAAAAAAAAAAAAAAAAAAAAAAAAAAAAAAAAAAAAAAAAAAAAAAAAAAAAAAAAAAAAAAAAAAAAAAAAAAAAAAAAAAAAAAAAAAAAAAAAAAAAAAAAAAAAAAAAAAAAAAAAAAAAAAAAAAAAAAAAAAAAAAAAAAAAAAAAAAAAAAAAAAAAAAAAAAAAAAAAAAAAAAAAAAAAAAAAAAAAAAAAAAAAAAAAAAAAAAAAAAAAAAAAAAAAAAAAAAAAAAAAAAAAAAAAAAAAAAAAAAAAAAAAAAAAAAAAAAAAAAAAAAAAAAAAAAAAAAAAAAAAAAAAAAAAAAAAAAAAAAAAAAAAAAAAAAAAAAAAAAAAAAAAAAAAAAAAAAAAAAAAAAAAAAAAAAAAAAAAAAAAAAAAAAAAAAAAAAAAAAAAAAAAAAAAAAAAAAAAAAAAAAAAAAAAAAAAAAAAAAAAAAAAAAAAAAAAAAAAAAAAAAAAAAAAAAAAAAAAAAAAAAAAAAAAAAAAAAAAAAAAAAAAAAAAAAAAAAAAAAAAAAAAAAAAAAAAAAAAAAAAAAAAAAAAAAAAAAAAAAAAAAAAAAAAAAAAAAAAAAAAAAAAAAAAAAAAAAAAAAAAAAAAAAAAAAAAAAAAAAAAAAAAAAAAAAAAAAAAAAAAAAAAAAAAAAAAAAAAAAAAAAAAAAAAAAAAAAAAAAAAAAAAAAAAAAAAAAAAAAAAAAAAAAAAAAAAAAAAAAAAAAAAAAAAAAAAAAAAAAAAAAAAAAAAAAAAAAAAAAAAAAAAAAAAAAAAAAAAAAAAAAAAAAAAAAAAAAAAAAAAAAAAAAAAAAAAAAAAAAAAAAAAAAAAAAAAAAAAAAAAAAAAAAAAAAAAAAAAAAAAAAAAAAAAAAAAAAAAAAAAAAAAAAAAAAAAAAAAAAAAAAAAAAAAAAAAAAAAAAAAAAAAAAAAAAAAAAAAAAAAAAAAAAAAAAAAAAAAAAAAAAAAAAAAAAAAAAAAAAAAAAAAAAAAAAAAAAAAAAAAAAAAAAAAAAAAAAAAAAAAAAAAAAAAAAAAAAAAAAAAAAAAAAAAAAAAAAAAAAAAAAAAAAAAAAAAAAAAAAAAAAAAAAAAAAAAAAAAAAAAAAAAAAAAAAAAAAAAAAAAAAAAAAAAAAAAAAAAAAAAAAAAAAAAAAAAAAAAAAAAAAAAAAAAAAAAAAAAAAAAAAAAAAAAAAAAAAAAAAAAAAAAAAAAAAAAAAAAAAAAAAAAAAAAAAAAAAAAAAAAAAAAAAAAAAAAAAAAAAAAAAAAAAAAAAAAAAAAAAAAAAAAAAAAAAAAAAAAAAAAAAAAAAAAAAAAAAAAAAAAAAAAAAAAAAAAAAAAAAAAAAAAAAAAAAAAAAAAAAAAAAAAAAAAAAAAAAAAAAAAAAAAAAAAAAAAAAAAAAAAAAAAAAAAAAAAAAAAAAAAAAAAAAAAAAAAAAAAAAAAAAAAAAAAAAAAAAAAAAAAAAAAAAAAAAAAAAAAAAAAAAAAAAAAAAAAAAAAAAAAAAAAAAAAAAAAAAAAAAAAAAAAAAAAAAAAAAAAAAAAAAAAAAAAAAAAAAAAAAAAAAAAAAAAAAAAAAAAAAAAAAAAAAAAAAAAAAAAAAAAAAAAAAAAAAAAAAAAAAAAAAAAAAAAAAAAAAAAAAAAAAAAAAAAAAAAAAAAAAAAAAAAAAAAAAAAAAAAAAAAAAAAAAAAAAAAAAAAAAAAAAAAAAAAAAAAAAAAAAAAAAAAAAAAAAAAAAAAAAAAAAAAAAAAAAAAAAAAAAAAAAAAAAAAAAAAAAAAAAAAAAAAAAAAAAAAAAAAAAAAAAAAAAAAAAAAAAAAAAAAAAAAAAAAAAAAAAAAAAAAAAAAAAAAAAAAAAAAAAAAAAAAAAAAAAAAAAAAAAAAAAAAAAAAAAAAAAAAAAAAAAAAAAAAAAAAAAAAAAAAAAAAAAAAAAAAAAAAAAAAAAAAAAAAAAAAAAAAAAAAAAAAAAAAAAAAAAAAAAAAAAAAAAAAAAAAAAAAAAAAAAAAAAAAAAAAAAAAAAAAAAAAAAAAAAAAAAAAAAAAAAAAAAAAAAAAAAAAAAAAAAAAAAAAAAAAAAAAAAAAAAAAAAAAAAAAAAAAAAAAAAAAAAAAAAAAAAAAAAAAAAAAAAAAAAAAAAAAAAAAAAAAAAAAAAAAAAAAAAAAAAAAAAAAAAAAAAAAAAAAAAAAAAAAAAAAAAAAAAAAAAAAAAAAAAAAAAAAAAAAAAAAAAAAAAAAAAAAAAAAAAAAAAAAAAAAAAAAAAAAAAAAAAAAAAAAAAAAAAAAAAAAAAAAAAAAAAAAAAAAAAAAAAAAAAAAAAAAAAAAAAAAAAAAAAAAAAAAAAAAAAAAAAAAAAAAAAAAAAAAAAAAAAAAAAAAAAAAAAAAAAAAAAAAAAAAAAAAAAAAAAAAAAAAAAAAAAAAAAAAAAAAAAAAAAAAAAAAAAAAAAAAAAAAAAAAAAAAAAAAAAAAAAAAAAAAAAAAAAAAAAAAAAAAAAAAAAAAAAAAAAAAAAAAAAAAAAAAAAAAAAAAAAAAAAAAAAAAAAAAAAAAAAAAAAAAAAAAAAAAAAAAAAAAAAAAAAAAAAAAAAAAAAAAAAAAAAAAAAAAAAAAAAAAAAAAAAAAAAAAAAAAAAAAAAAAAAAAAAAAAAAAAAAAAAAAAAAAAAAAAAAAAAAAAAAAAAAAAAAAAAAAAAAAAAAAAAAAAAAAAAAAAAAAAAAAAAAAAAAAAAAAAAAAAAAAAAAAAAAAAAAAAAAAAAAAAAAAAAAAAAAAAAAAAAAAAAAAAAAAAAAAAAAAAAAAAAAAAAAAAAAAAAAAAAAAAAAAAAAAAAAAAAAAAAAAAAAAAAAAAAAAAAAAAAAAAAAAAAAAAAAAAAAAAAAAAAAAAAAAAAAAAAAAAAAAAAAAAAAAAAAAAAAAAAAAAAAAAAAAAAAAAAAAAAAAAAAAAAAAAAAAAAAAAAAAAAAAAAAAAAAAAAAAAAAAAAAAAAAAAAAAAAAAAAAAAAAAAAAAAAAAAAAAAAAAAAAAAAAAAAAAAAAAAAAAAAAAAAAAAAAAAAAAAAAAAAAAAAAAAAAAAAAAAAAAAAAAAAAAAAAAAAAAAAAAAAAAAAAAAAAAAAAAAAAAAAAAAAAAAAAAAAAAAAAAAAAAAAAAAAAAAAAAAAAAAAAAAAAAAAAAAAAAAAAAAAAAAAAAAAAAAAAAAAAAAAAAAAAAAAAAAAAAAAAAAAAAAAAAAAAAAAAAAAAAAAAAAAAAAAAAAAAAAAAAAAAAAAAAAAAAAAAAAAAAAAAAAAAAAAAAAAAAAAAAAAAAAAAAAAAAAAAAAAAAAAAAAAAAAAAAAAAAAAAAAAAAAAAAAAAAAAAAAAAAAAAAAAAAAAAAAAAAAAAAAAAAAAAAAAAAAAAAAAAAAAAAAAAAAAAAAAAAAAAAAAAAAAAAAAAAAAAAAAAAAAAAAAAAAAAAAAAAAAAAAAAAAAAAAAAAAAAAAAAAAAAAAAAAAAAAAAAAAAAAAAAAAAAAAAAAAAAAAAAAAAAAAAAAAAAAAAAAAAAAAAAAAAAAAAAAAAAAAAAAAAAAAAAAAAAAAAAAAAAAAAAAAAAAAAAAAAAAAAAAAAAAAAAAAAAAAAAAAAAAAAAAAAAAAAAAAAAAAAAAAAAAAAAAAAAAAAAAAAAAAAAAAAAAAAAAAAAAAAAAAAAAAAAAAAAAAAAAAAAAAAAAAAAAAAAAAAAAAAAAAAAAAAAAAAAAAAAAAAAAAAAAAAAAAAAAAAAAAAAAAAAAAAAAAAAAAAAAAAAAAAAAAAAAAAAAAAAAAAAAAAAAAAAAAAAAAAAAAAAAAAAAAAAAAAAAAAAAAAAAAAAAAAAAAAAAAAAAAAAAAAAAAAAAAAAAAAAAAAAAAAAAAAAAAAAAAAAAAAAAAAAAAAAAAAAAAAAAAAAAAAAAAAAAAAAAAAAAAAAAAAAAAAAAAAAAAAAAAAAAAAAAAAAAAAAAAAAAAAAAAAAAAAAAAAAAAAAAAAAAAAAAAAAAAAAAAAAAAAAAAAAAAAAAAAAAAAAAAAAAAAAAAAAAAAAAAAAAAAAAAAAAAAAAAAAAAAAAAAAAAAAAAAAAAAAAAAAAAAAAAAAAAAAAAAAAAAAAAAAAAAAAAAAAAAAAAF9S1jpnGOC6w3WRnQAAAAAAAAAAAAAAAJKx8B3nnME7W/n9utq6vJ7j2jg7AAAAAAAAAAAAAAAAAAAAAAAAAAAAAAAAAAAAAAAAAAAAAAAAAAAAAAAAAAAAAAAAAAAAAAAAAAAAAAAAAAAAAAAAAAAAAAAAAAAAAAAAAAAAAAAAAAAAAAAAAAAAAAAAAAAAAAAAAAAAAAAAAAAAAAAAAAAAAAAAAAAAAAAAAAAAAAAAAAAAAAAAAAAAAAAAAAAAAAAAAAAAAAAAAAAAAAAAAAAAAAAAAAAAAAAAAAAAAAAAAAAAAAAAAAAAAAAAAAAAAAAAAAAAAAAAAAAAAAAAAAAAAAAAAAAAAAAAAAAAAAAAAAAAAAAAAAAAAAAAAAAAAAAAAAAAAAAAAAAAAAAAAAAAAAAAAAAAAAAAAAAAAAAAAAAAAAAAAAAAAAAAAAAAAAAAAAAAAAAAAAAAAAAAAAAAAAAAAAAAAAAAAAAAAAAAAAAAAAAAAAAAAAAAAAAAAAAAAAAAAAAAAAAAAAAAAAAAAAAAAAAAAAAAAAAAAAAAtROduDksjRzkkpadAAAAAAAAAAAAAAAAqwaNORoBjblncQwdPU0PnkvRaJ0AAAAAAAAAAAAAAAAAAAAAAAAAAAAAAAAAAAAAAAAAAAAAAAAAAAAAAAAAAAAAAAAAAAAAncCgo6I/qqBjPi699o2EJJYuSCOKv927CN10IQeBOiG6IjimKg0UvmSWKiX+aIGk80vFImkjNRcAAAAAKvm2uRxNQyFIYJkeAAAAAAAAAAAAAAAAe4pzow52ybpDEQ8iqwWXH0Efxh0AAAAAAAAAALUTnbjc3QgdNBBgHQAAAAAAAAAAAAAAAKsGjbkaAY25lPB6HbrqMB7jrHqeAAAAAAAAAAAAAAAAAAAAAAAAAAAAAAAAAAAAAAAAAAAAAAAAAAAAAAAAAAAAAAAAAAAAAAAAAAAAAAAAAAAAAAAAAAAAAAAAAAAAAAAAAAAAAAAAAAAAAAAAAAAAAAAAAAAAAAAAAAAAAAAAAAAAAAAAAAAAAAAAAAAAAAAAAAAAAAAAAAAAAAAAAAAAAAAAAAAAAAAAAAAAAAAAAAAAAAAAAAAAAAAAAAAAAAAAAAAAAAAAAAAAAAAAAAAAAAAAAAAAAAAAAAAAAAAAAAAAAAAAAAAAAAAAAAAAAAAAAAAAAAAAAAAAAAAAAAAAAAAAAAAAAAAAAAAAAAAAAAAAAAAAAAAAAAAAAAAAAAAAAAAAAAAAAAAAAAAAAAAAAAAAAAAAAAAAAAAAAAAAAAAAAAAAAAAAAAAAAAAAAAAAAAAAAAAAAAAAAAAAAAAAAAAAAAAAAAAAAAAAAAAAAAAAAAAAAAAAAAAAAAAAAAAAAAAAAAAAX1LWOmcY4Dpnia0dAAAAAAAAAAAAAAAAQ5xNHuecwTtb+f06Ep6THuPaOLsAAAAAAAAAAAAAAAAAAAAAAAAAAAAAAAAAAAAAAAAAAAAAAAAAAAAAAAAAAAAAAAAAAAAAAAAAAAAAAAAAAAAAAAAAAAAAAAAAAAAAAAAAAAAAAAAAAAAAAAAAAAAAAAAAAAAAAAAAAAAAAAAAAAAAAAAAAAAAAAAAAAAAAAAAAAAAAAAAAAAAAAAAAAAAAAAAAAAAAAAAAAAAAAAAAAAAAAAAAAAAAAAAAAAAAAAAAAAAAAAAAAAAAAAAAAAAAAAAAAAAAAAAAAAAAAAAAAAAAAAAAAAAAAAAAAAAAAAAAAAAAAAAAAAAAAAAAAAAAAAAAAAAAAAAAAAAAAAAAAAAAAAAAAAAAAAAAAAAAAAAAAAAAAAAAAAAAAAAAAAAAAAAAAAAAAAAAAAAAAAAAAAAAAAAAAAAAAAAAAAAAAAAAAAAAAAAAAAAAAAAAAAAAAAAAAAAAAAAAAAAAAAAAAAAAAAAAAAAAAAAAAAAAAAAAAAAAAAAAAAAAAAAAAAAAAAAAAAAAAAAAAAAAAAAAAAAAAAAAAAAAAAAAAAAAAAAAAAAAAAAAAAAAAAAAAAAAAAAAAAAAAAAAAAAAAAAAAAAAAAAAAAAAAAAAAAAAAAAAAAAAAAAAAAAAAAAAAAAAAAAAAAAAAAAAAAAAAAAAAAAAAAAAAAAAAAAAAAAAAAAAAAAAAAAAAAAAAAAAAAAAAAAAAAAAAAAAAAAAAAAAAAAAAAAAAAAAAAAAAAAAAAAAAAAAAAAAAAAAAAAAAAAAAAAAAAAAAAAAAAAAAAAAAAAAAAAAAAAAAAAAAAAAAAAAAAAAAAAAAAAAAAAAAAAAAAAAAAAAAAAAAAAAAAAAAAAAAAAAAAAAAAAAAAAAAAAAAAAAAAAAAAAAAAAAAAAAAAAAAAAAAAAAAAAAAAAAAAAAAAAAAAAAAAAAAAAAAAAAAAAAAAAAAAAAAAAAAAAAAAAAAAAAAAAAAAAAAAAAAAAAAAAAAAAAAAAAAAAAAAAAAAAAAAAAAAAAAAAAAAAAAAAAAAAAAAAAAAAAAAAAAAAAAAAAAAAAAAAAAAAAAAAAAAAAAAAAAAAAAAAAAAAAAAAAAAAAAAAAAAAAAAAAAAAAAAAAAAAAAAAAAAAAAAAAAAAAAAAAAAAAAAAAAAAAAAAAAAAAAAAAAAAAAAAAAAAAAAAAAAAAAAAAAAAAAAAAAAAAAAAAAAAAAAAAAAAAAAAAAAAAAAAAAAAAAAAAAAAAAAAAAAAAAAAAAAAAAAAAAAAAAAAAAAAAAAAAAAAAAAAAAAAAAAAAAAAAAAAAAAAAAAAAAAAAAAAAAAAAAAAAAAAAAAAAAAAAAAAAAAAAAAAAAAAAAAAAAAAAAAAAAAAAAAAAAAAAAAAAAAAAAAAAAAAAAAAAAAAAAAAAAAAAAAAAAAAAAAAAAAAAAAAAAAAAAAAAAAAAAAAAAAAAAAAAAAAAAAAAAAAAAAAAAAAAAAAAAAAAAAAAAAAAAAAAAAAAAAAAAAAAAAAAAAAAAAAAAAAAAAAAAAAAAAAAAAAAAAAAAAAAAAAAAAAAAAAAAAAAAAAAAAAAAAAAAAAAAAAAAAAAAAAAAAAAAAAAAAAAAAAAAAAAAAAAAAAAAAAAAAAAAAAAAAAAAAAAAAAAAAAAAAAAAAAAAAAAAAAAAAAAAAAAAAAAAAAAAAAAAAAAAAAAAAAAAAAAAAAAAAAAAAAAAAAAAAAAAAAAAAAAAAAAAAAAAAAAAAAAAAAAAAAAAAAAAAAAAAAAAAAAAAAAAAAAAAAAAAAAAAAAAAAAAAAAAAAAAAAAAAAAAAAAAAAAAAAAAAAAAAAAAAAAAAAAAAAAAAAAAAAAAAAAAAAAAAAAAAAAAAAAAAAAAAAAAAAAAAAAAAAAPZI0zqAGSy0EAndOgAAAAAAAAAAAAAAAK3XvrsuMhw112FcO1D4HTUgCYy59Q2AuQAAAADt+9E7qUeKu3Rv6zsAAAAAAAAAAAAAAABpdJO8qCItPGgo0Tse+0E8KIYNu5XkyL3kr+a8sh9GPppvxLrFKQGjKBe1PQvqyLghS8MiM9YfJVqUxDsk7+E9aurqoqP2ST7YboG9DNMqvIIKDD6e/re97f7tosdpQT0tE/i8LHivoWp7GaRskkM+fWQRPILKA6SJzBg+AAAAAAAAAAD2SNM6gBkstBAJ3boAAAAAAAAAAAAAAACt1747LjIcNddhXDtQ+B21IAmMufUNgLkAAAAA7fvRO6lHirt0b+u7AAAAAAAAAAAAAAAAaXSTPKgiLTxoKNE7HvtBvCiGDbsAAAAAAAAAAAAAAAAAAAAAAAAAAAAAAAAAAAAAAAAAAAAAAAAAAAAAAAAAAAAAAAAAAAAAAAAAAAAAAAAAAAAAAAAAAAAAAAAAAAAAAAAAAAAAAAAAAAAAAAAAAAAAAAAAAAAAAAAAAAAAAAAAAAAAAAAAAAAAAAAAAAAAAAAAAAAAAAAAAAAAAAAAAAAAAAAAAAAAAAAAAAAAAAAAAAAAAAAAAAAAAAAAAAAAAAAAAAAAAAAAAAAAAAAAAAAAAAAAAAAAAAAAAAAAAAAAAAAA+XDooRLT1B/ARNK8FjyVH8hWsaH4hbG79g4+HzJsSyEFopw9wRLfuVCz8iMc/aWi4IhrpI76R6H1XsWe0h7UvEYKnCIIB+0k2YqFuw+oyR9QI9ifaeOSPT+dIb1BoT2kIij7JJvuHSWvmMSinc00n8BE0rxKHhqhRelApPiFsbudFrogPq04IAWinL3BEt+5SleiIpXKWaLSr2GkXozVIRAgFx/SHtS8Ui+fI29DlaTZioW7zBWHn6O/LSFp45K9P50hvW08nSMJHkckbUoOJAAAAAAAAAAAAAAAAAAAAAAAAAAAAAAAAAAAAAAAAAAAAAAAAAAAAAAAAAAAAAAAAAAAAAAAAAAAAAAAAAAAAAAAAAAAAAAAAAAAAAAAAAAAAAAAAAAAAAAAAAAAAAAAAAAAAAAAAAAAAAAAAAAAAAAAAAAAAAAAAAAAAAAAAAAAAAAAAAAAAAAAAAAAAAAAAAAAAAAAAAAAAAAAAAAAAAAAAAAAAAAAAAAAAAAAAAAAAAAAAAAAAAAAAAAAAAAAAAAAAAAAAAAAAAAAAAAAAAAAAAAAAAAAAPZI0zqAGSw0EAndugAAAAAAAAAAAAAAAK3XvrsuMhw112Fcu1D4HbUgCYw59Q2AOQAAAADt+9E7qUeKO3Rv67sAAAAAAAAAAAAAAABpdJO8qCItPGgo0bse+0G8KIYNO5XkyD3kr+Y8sh9GPppvxDqo1z0jKBe1PQvqyDgX+5uh0vQZI1qUxDsk7+G9V12eoqP2Sb7YboE9DNMqPIIKDD6e/rc9DprjocdpQT0tE/g8oVd9IaZkFyVskkM+fWQRvNprqSSJzBi+AAAAAAAAAAD2SNM6gBksNBAJ3ToAAAAAAAAAAAAAAACt1747LjIcNddhXLtQ+B01IAmMOfUNgDkAAAAA7fvRO6lHijt0b+s7AAAAAAAAAAAAAAAAaXSTPKgiLTxoKNG7HvtBPCiGDTsAAAAAAAAAAAAAAAAAAAAAAAAAAAAAAAAAAAAAAAAAAAAAAAAAAAAAAAAAAAAAAAAAAAAAAAAAAAAAAAAAAAAAAAAAAAAAAAAAAAAAAAAAAAAAAAAAAAAAAAAAAAAAAAAAAAAAAAAAAAAAAAAAAAAAAAAAAAAAAAAAAAAAAAAAAAAAAAAAAAAAAAAAAAAAAAAAAAAAAAAAAAAAAAAAAAAAAAAAAAAAAAAAAAAAAAAAAAAAAAAAAAAAAAAAAAAAAAAAAAAAAAAAAAAAAAAAAAAAAAAAAAAAAAAAAAAAAAAAAAAAAAAAAAAAAAAAAAAAAAAAAAAAAAAAAAAAAAAAAAAAAAAAAAAAAAAAAAAAAAAAAAAAAAAAAAAAAAAAAAAAAAAAAAAAAAAAAAAAAAAAAAAAAAAAAAAAAAAAAAAAAAAAAAAAAAAAAAAAAAAAAAAAAAAAAAAAAAAAAAAAAAAAAAAAAAAAAAAAAAAAAAAAAAAAAAAAAAAAAAAAAAAAAAAAAAAAAAAAAAAAAAAAAAAAAAAAAAAAAAAAAAAAAAAAAAAAAAAAAAAAAAAAAAAAAAAAAAAAAAAAAAAAAAAAAAAAAAAAAAAAAAAAAAAAAAAAAAAAAAAAAAAAAAAAAAAAAAAAAAAAAAAAAAAAAAAAAAAAAAAAAAAAAAAAAAAAAAAAAAAAAAAAAAAAAAAAAAAAAAAAAAAAAAAAAAAAAAAAAAAAAAAAAAAAAAAAAAAAAAAAAAAAAAAAAAAAAAAAAAAAAAAAAAAAAAAAAAAAAAAAAAAAAAAAAAAAAAAAAAAAAAAAAAAAAAAAAAAAAAAAAAAAAAAAAAAAAAAAAAAAAAAAAAAAAAAAAAAAAAAAAAAAAAAAAAAAAAAAAAAAAAAAAAAAAAAAAAAAAAAAAAAAAAAAAAAAAAAAAAAAAAAAAAAAAAAAAAAAAAAAAAAAAAAAAAAAAAAAAAAAAAAAAAAAAAAAAAAAAAAAAAAAAAAAAAAAAAAAAAAAAAAAAAAAAAAAAAAAAAAAAAAAAAAAAAAAAAAAAAAAAAAAAAAAAAAAAAAAAAAAAAAAAAAAAAAAAAAAAAAAAAAAAAAAAAAAAAAAAAAAAAAAAAAAAAAAAAAAAAAAAAAAAAAAAAAAAAAAAAAAAAAAAAAAAAAAAAAAAAAAAAAAAAAAAAAAAAAAAAAAAAAAAAAAAAAAAAAAAAAAAAAAAAAAAAAAAAAAAAAAAAAAAAAAAAAAAAAAAAAAAAAAAAAAAAAAAAAAAAAAAAAAAAAAAAAAAAAAAAAAAAAAAAAAAAAAAAAAAAAAAAAAAAAAAAAAAAAAAAAAAAAAAAAAAAAAAAAAAAAAAAAAAAAAAAAAAAAAAAAAAAAAAAAAAAAAAAAAAAAAAAAAAAAAAAAAAAAAAAAAAAAAAAAAAAAAAAAAAAAAAAAAAAAAAAAAAAAAAAAAAAAAAAAAAAAAAAAAAAAAAAAAAAAAAAAAAAAAAAAAAAAAAAAAAAAAAAAAAAAAAAAAAAAAAAAAAAAAAAAAAAAAAAAAAAAAAAAAAAAAAAAAAAAAAAAAAAAAAAAAAAAAAAAAAAAAAAAAAAAAAAAAAAAAAAAAAAAAAAAAAAAAAAAAAAAAAAAAAAAAAAAAAAAAAAAAAAAAAAAAAAAAAAAAAAAAAAAAAAAAAAAAAAAAAAAAAAAAAAAAAAAAAAAAAAAAAAAAAAAAAAAAAAAAAAAAAAAAAAAAAAAAAAAAAAAAjZDKugAAAAC0wD88dtexO3nFWzwAAAAAAAAAAAAAAAAURge9ep9avNpmfjzblnq8c+acuwAAAAAAAAAAX1LWOgc54DrSpnmdAAAAAAAAAAAAAAAAo8mLHk6rwbsRcv66JbgUH2fMODupXfe9M5YsvRDNfz4M4NY9c6zGo8Ya6T3Hp1I9kpkoo1+riiU2tFC+xeTLPRYdgCSaDYo+AAAAAAAAAAAAAAAAAAAAAAAAAAAAAAAAAAAAAAAAAAAAAAAAAAAAAAAAAAAAAAAAAAAAAI2QyroAAAAAtMA/PHbXsTt5xVu8AAAAAAAAAAAAAAAAFEYHPXqfWrzaZn4825Z6PHPmnLsAAAAAAAAAAAAAAAAAAAAAAAAAAAAAAAAAAAAAAAAAAAAAAAAAAAAAAAAAAAAAAAAAAAAAAAAAAAAAAAAAAAAAAAAAAAAAAAAAAAAAAAAAAAAAAAAAAAAAAAAAAAAAAAAAAAAAAAAAAAAAAAAAAAAAAAAAAAAAAAAAAAAAAAAAAAAAAAAAAAAAAAAAAAAAAAAAAAAAAAAAAAAAAAAAAAAAAAAAAAAAAAAAAAAAAAAAAAAAAAAAAAAAAAAAAAAAAAAAAAAAAAAAAAAAAAAAAAAAAAAAAAAAAAC1E524QsWhHd6ukpsAAAAAAAAAAAAAAAAVAY05yQaNOTmNW53i+ZEdFAnwHZKOOqKJeqQgwkg7vaGYxiSRiIslFmQ9vCkjvSCQEqgi723/PdHZND3H+Esl59rDpDoDFyWYGU2jPzAYIGM+Lr26nSSlv85Qox4GvruaNgShBktEn3G6ECZuNRo+2bHPpba7faQdkh0jLP/UJy8zNSijmve/k8qcp/AAzKfIkwDAM2YIKBruvSdWAc0pWt8sP6jweyi9myMoiY2aJwAAAAAAAAAAtROduJbkBJwSUxSdAAAAAAAAAAAAAAAAFQGNuckGjTmOLeYcYvcxnsTWwp0eSiSi5bQRIcJIO721iOojlJicJBZkPbyxJtqg1bETIO9t/73R2TQ9bQTlJJj27iKDMO8kAAAAAAAAAAAAAAAAAAAAAAAAAAAAAAAAAAAAAAAAAAAAAAAAAAAAAAAAAAAAAAAAAAAAAAAAAAAAAAAAAAAAAAAAAAAAAAAAAAAAAAAAAAAAAAAAAAAAAAAAAAAAAAAAAAAAAAAAAAAAAAAAAAAAAAAAAAAAAAAAAAAAAAAAAAAAAAAAAAAAAAAAAAAAAAAAAAAAAAAAAAAAAAAAAAAAAAAAAAAAAAAAAAAAAAAAAAAAAAAAAAAAAAAAAAAAAAAAAAAAAAAAAAAAAAAAAAAAAAAAAAAAAAAAAAAAAAAAAAAAAAAAAAAAAAAAAAAAAAAAAAAAAAAAAAAAAAAAAAAAAAAAAACNkMo6AAAAALTAPzx217G7ecVbvAAAAAAAAAAAAAAAABRGB716n1q82mZ+vNuWejxz5pw7AAAAAAAAAABfUtY6BzngumgsgR0AAAAAAAAAAAAAAACP8VseTqvBuxFy/jrV4oueZ8w4u6ld9z0zliw9EM1/Pgzg1r3ZHlWkxhrpPcenUr1zxhQiqOlKpDa0UL7F5Mu9u/9YJJoNir4AAAAAAAAAAAAAAAAAAAAAAAAAAAAAAAAAAAAAAAAAAAAAAAAAAAAAAAAAAAAAAAAAAAAAjZDKOgAAAAC0wD88dtexu3nFWzwAAAAAAAAAAAAAAAAURgc9ep9avNpmfrzblnq8c+acOwAAAAAAAAAAAAAAAAAAAAAAAAAAAAAAAAAAAAAAAAAAAAAAAAAAAAAAAAAAAAAAAAAAAAAAAAAAAAAAAAAAAAAAAAAAAAAAAAAAAAAAAAAAAAAAAAAAAAAAAAAAAAAAAAAAAAAAAAAAAAAAAAAAAAAAAAAAAAAAAAAAAAAAAAAAAAAAAAAAAAAAAAAAAAAAAAAAAAAAAAAAAAAAAAAAAAAAAAAAAAAAAAAAAAAAAAAAAAAAAAAAAAAAAAAAAAAAAAAAAAAAAAAAAAAAAAAAAAAAAAAAAAAAAAAAAAAAAAAAAAAAAAAAAAAAAAAAAAAAAAAAAAAAAAAAAAAAAAAAAAAAAAAAAAAAAAAAAAAAAAAAAAAAAAAAAAAAAAAAAAAAAAAAAAAAAAAAAAAAAAAAAAAAAAAAAAAAAAAAAAAAAAAAAAAAAAAAAAAAAAAAAAAAAAAAAAAAAAAAAAAAAAAAAAAAAAAAAAAAAAAAAAAAAAAAAAAAAAAAAAAAAAAAAAAAAAAAAAAAAAAAAAAAAAAAAAAAAAAAAAAAAAAAAAAAAAAAAAAAAAAAAAAAAAAAAAAAAAAAAAAAAAAAAAAAAAAAAAAAAAAAAAAAAAAAAAAAAAAAAAAAAAAAAAAAAAAAAAAAAAAAAAAAAAAAAAAAAAAAAAAAAAAAAAAAAAAAAAAAAAAAAAAAAAAAAAAAAAAAAAAAAAAAAAAAAAAAAAAAAAAAAAAAAAAAAAAAAAAAAAAAAAAAAAAAAAAAAAAAAAAAAAAAAAAAAAAAAAAAAAAAAAAAAAAAAAAAAAAAAAAAAAAAAAAAAAAAAAAAAAAAAAAAAAAAAAAAAAAAAAAAAAAAAAAAAAAAAAAAAAAAAAAAAAAAAAAAAAAAAAAAAAAAAAAAAAAAAAAAAAAAAAAAAAAAAAAAAAAAAAAAAAAAAAAAAAAAAAAAAAAAAAAAAAAAAAAAAAAAAAAAAAAAAAAAAAAAAAAAAAAAAAAAAAAAAAAAAAAAAAAAAAAAAAAAAAAAAAAAAAAAAAAAAAAAAAAAAAAAAAAAAAAAAAAAAAAAAAAAAAAAAAAAAAAAAAAAAAAAAAAAAAAAAAAAAAAAAAAAAAAAAAAAAAAAAAAAAAAAAAAAAAAAAAAAAAAAAAAAAAAAAAAAAAAAAAAAAAAAAAAAAAAAAAAAAAAAAAAAAAAAAAAAAAAAAAAAAAAAAAAAAAAAAAAAAAAAAAAAAAAAAAAAAAAAAAAAAAAAAAAAAAAAAAAAAAAAAAAAAAAAAAAAAAAAAAAAAAAAAAAAAAAAAAAAAAAAAAAAAAAAAAAAAAAAAAAAAAAAAAAAAAAAAAAAAAAAAAAAAAAAAAAAAAAAAAAAAAAAAAAAAAAAAAAAAAAAAAAAAAAAAAAAAAAAAAAAAAAAAAAAAAAAAAAAAAAAAAAAAAAAAAAAAAAAAAAAAAAAAAAAAAAAAAAAAAAAAAAAAAAAAAAAAAAAAAAAAAAAAAAAAAAAAAAAAAAAAAAAAAAAAAAAAAAAAAAAAAAAAAAAAAAAAAAAAAAAAAAAAAAAAAAAAAAAAAAAAAAAAAAAAAAAAAAAAAAAAAAAAAAAAAAAAAAAAAAAAAAAAAAAAAAAAAAAAAAAAAAAAAAAAAAAAAAAAAAAAAAAAAAAAAAAAAAAAAAAAAAAAAAAAAAAAAAAAAAAAAAAAAAAAAAAAAAAAAAAAAAAAAAAAAAAAAAAAAAAAAAAAAAAAAAAAAAAAAAAAAAAAAAAAAAAAAAAAAAAAAAAAAAAAAAAAAAAAAAAAAAAAAAAAAAAAAAAAAAAAAAAAAAAAAAAAAAAAAAAAAAAAAAAAAAAAAAAAAAAAAAAAAAAAAAAAAAAAAAAAAAAAAAAAAAAAAAAAAAAAAAAAAAA5mkEORueQDmnv4KaAAAAAAAAAAAAAAAAlRgdG0If/bkHcKK5pRE2G23PLTkAAAAAAAAAAAAAAAAAAAAAAAAAAAAAAAAAAAAAAAAAAAAAAAAAAAAAAAAAAAAAAAAAAAAAAAAAAAAAAAAAAAAAAAAAAAAAAAAAAAAAAAAAAAAAAAAAAAAAAAAAAAAAAAAAAAAAAAAAAAAAAAAAAAAAAAAAAAAAAAAAAAAAAAAAAAAAAAAAAAAAAAAAAAAAAAAAAAAAAAAAAAAAAAAAAAAAAAAAAAAAAAAAAAAAAAAAAAAAAAAAAAAAAAAAAAAAAAAAAAAAAAAAAAAAAAAAAAAAAAAAAAAAAAAAAAAAAAAAAAAAAAAAAAAAAAAAAAAAAAAAAAAAAAAAAAAAAAAAAAAAAAAAAAAAAAAAAAAAAAAAAAAAAAAAAAAAAAAAAAAAAAAAAAAAAAAAAAAAAAAAAAAAAAAAAAAAAAAAAAAAAAAAAAAAAAAAAAAAAAAAAAAAAAAAAAAAAAAAAAAAAAAAAAAAAAAAAAAAAAAAAAAAAAAAAAAAAAAJTYe2BRHwmiPtSJoAAAAAAAAAAAAAAABWNjg3tNaBN07pMxmlCZkbmzBuGgAAAAAAAAAAAAAAAAAAAAAAAAAAAAAAAAAAAAAAAAAAAAAAAAAAAAAAAAAAAAAAAAAAAADIDgufAAAAAKTFirvn3H8iWGDgIPaqFrZtNWCaKcNal1JgDKV9QYw8Wn+tI8KmEiJNq7WgAAAAAAAAAAAAAAAAAAAAAAAAAAAAAAAAAAAAAAAAAAAAAAAAAAAAAAAAAAAAAAAAAAAAAAAAAAAAAAAACU2Htn2E/JrtKQkaAAAAAAAAAAAAAAAAVjY4t7TWgTfbmT0bUPh1mzOFxxkAAAAAAAAAAAAAAAAAAAAAAAAAAAAAAAAAAAAAAAAAAAAAAAAAAAAAAAAAAAAAAAAAAAAAAAAAAAAAAAAAAAAAAAAAAAAAAAAAAAAAAAAAAAAAAAAAAAAAAAAAAAAAAAAAAAAAAAAAAAAAAAAAAAAAAAAAAAAAAAAAAAAAAAAAAAAAAAAAAAAAAAAAAAAAAAAAAAAAAAAAAAAAAAAAAAAAAAAAAAAAAAAAAAAAAAAAAAAAAAAAAAAAAAAAAAAAAAAAAAAAAAAAAAAAAAAAAAAAAAAAAAAAAAAAAAAAAAAAAAAAAAAAAAAAAAAAAAAAAAAAAAAAAAAAAAAAAAAAAAAAAAAAAAAAAAAAAAAAAAAAAAAAAAAAAAAAAAAAAAAAAAAAAAAAAAAAAAAAAAAAAAAAAAAAAAAAAAAAAAAAAAAAAAAAAAAAAAAAAAAAAAAAAAAAAAAAAAAAAAAAAAAAAAAAAAAAAAAAAAAAAAAAAAAAAAAAAADmaQQ5G55AucKTeRkAAAAAAAAAAAAAAADThIYbQh/9uQdwojnl6Qubbc8tuQAAAAAAAAAAAAAAAAAAAAAAAAAAAAAAAAAAAAAAAAAAAAAAAAAAAAAAAAAAAAAAAAAAAAAAAAAAAAAAAAAAAAAAAAAAAAAAAAAAAAAAAAAAAAAAAAAAAAAAAAAAAAAAAAAAAAAAAAAAAAAAAAAAAAAAAAAAAAAAAAAAAAAAAAAAAAAAAAAAAAAAAAAAAAAAAAAAAAAAAAAAAAAAAAAAAAAAAAAAAAAAAAAAAAAAAAAAAAAAAAAAAAAAAAAAAAAAAAAAAAAAAAAAAAAAAAAAAAAAAAAAAAAAAAAAAAAAAAAAAAAAAAAAAAAAAAAAAAAAAAAAAAAAAAAAAAAAAAAAAAAAAAAAAAAAAAAAAAAAAAAAAAAAAAAAAAAAAAAAAAAAAAAAAAAAAAAAAAAAAAAAAAAAAAAAAAAAAAAAAAAAAAAAAAAAAAAAAAAAAAAAAAAAAAAAAAAAAAAAAAAAAAAAAAAAAAAAAAAAAAAAAAAAAAAAAAAAAAAAAAAAAAAAAAAAAAAAAAAAAAAAAAAAAAAAAAAAAAAAAAAAAAAAAAAAAAAAAAAAAAAAAAAAAAAAAAAAAAAAAAAAAAAAAAAAAAAAAAAAAAAAAAAAAAAAAAAAAAAAAAAAAAAAAAAAAAAAAAAAAAAAAAAAAAAAAAAAAAAAAAAAAAAAAAAAAAAAAAAAAAAAAAAAAAAAAAAAAAAAAAAAAAAAAAAAAAAAAAAAAAAAAAAAAAAAAAAAAAAAAAAAAAAAAAAAAAAAAAAAAAAAAAAAAAAAAAAAAAAAAAAAAAAAAAAAAAAAAAAAAAAAAAAAAAAAAAAAAAAAAAAAAAAAAAAAAAAAAAAAAAAAAAAAAAAAAAAAAAAAAAAAAAAAAAAAAAAAAAAAAAAAAAAAAAAAAAAAAAAAAAAAAAAAAAAAAAAAAAAAAAAAAAAAAAAAAAAAAAAAAAAAAAAAAAAAAAAAAAAAAAAAAAAAAAAA5zS1v48Oir9eIPYnbaE1wIk60Cj2XUmpee7ev5Z8ICmpRIOo2iozKV7I27/+oWio3A5BLeE/B0B0IQ1AKCoUJwuN0T8SOwsntwbWpk6A/T/ko9Um1+Aap5VJOSeJ0O+94yoBqgLi/awAAAAAAAAAAAAAAAAAAAAAAAAAAAAAAAAAAAAAAAAAAAAAAAAAAAAAAAAAAAAAAAAAAAAAAAAAAAAAAAAAAAAAAAAAAAAAAAAAAAAAAAAAAAAAAAAAAAAAAAAAAAAAAAAAAAAAAAAAAAAAAAAAAAAAAAAAAAAAAAAAAAAAAAAAAAAAAAAAAAAAAAAAAAAAAAAAAAAAAAAAAAAAAAAAAAAAAAAAAAAAAAAAAAAAAAAAAAAAAAAAAAAAAAAAAAAAAAAAAAAAAAAAAAAAAAAAAAAAAAAAAAAAAAAAAAAAAAAAAAAAAAAAAAAAAAAAAAAAAAAAAAAAAAAAAAAAAAAAAAAAAAAAAAAAAAAAAAAAAAAAAAAAAAAAAAAAAAAAAAAAAAAAAAAAAAAAAAAAAAAAAAAAAAAAAAAAAAAAAAAAAAAAAAAAAAAAAAAAAAAAAAAAAAAAAAAAAAAAAAAAAAAAAAAAAAAAAAAAAAAAAAAAAAAAAAAAAAAAAAAAAAAAAAAAAAAAAAAAAAAAAAAAAAAAAAAAAAAAAAAAAAAAAAAAAAAAAAAAAAAAAAAAAAAAAAAAAAAAAAAAAAAAAAAAAAAAAAAAAAAAAAAAAAAAAAAAAAAAAAAAAAAAAAAAAAAAAAAAAAAAAAAAAAAAAAAAAAAAAAAAAAAAAAAAAAAAAAAAAAAAAAAAAAAAAAAAAAAAAAAAAAAAAAAAAAAAAAAAAAAAAAAAAAAAAAAAAAAAAAAAAAAAAAAAAAAAAAAAAAAAAAAAAAAAAAAAAAAAAAAAAAAAAAAAAAAAAAAAAAAAAAAAAAAAAAAAAAAAAAAAAAAAAAAAAAAAAAAAAAAAAAAAAAAAAAAAAAAAAAAAAAAAAAAAAAAAAAAAAAAAAAAAAAAAAAAAAAAAAAAAAAAAAAAAAAAAAAAAAAAAAAAAAAAAAAAAAAAAAAAAAAAAAAAAAAAAAAAAAAAAAAAAAAAAAAAAAAAAAAAAAAAAAAAAAAAAAAAAAAAAAAAAAAAAAAAAAAAAAAAAAAAAAAAAAAAAAAAAAAAAAAAAAAAAAAAAAAAAAAAAAAAAAAAAAAAAAAAAAAAAAAAAAAAAAAAAAAAAAAAAAAAAAAAAAAAAAAAAAAAAAAAAAAAAAAAAAAAAAAAAAAAAAAAAAAAAAAAAAAAAAAAAAAAAAAAAAAAAAAAAAAAAAAAAAAAAAAAAAAAAAAAAAAAAAAAAAAAAAAAAAAAAAAAAAAAAAAAAAAAAAAAAAAAAAAAAAAAAAAAAAAAAAAAAAAAAAAAAAAAAAAAAAAAAAAAAAAAAAAAAAAAAAAAAAAAAAAAAAAAAAAAAAAAAAAAAAAAAAAAAAAAAAAAAAAAAAAAAAAAAAAAAAAAAAAAAAAAAAAAAAAAAAAAAAAAAAAAAAAAAAAAAAAAAAAAAAAAAAAAAAAAAAAAAAAAAAAAAAAAAAAAAAAAAAAAAAAAAAAAAAAAAAAAAAAAAAAAAAAAAAAAAAAAAAAAAAAAAAAAAAAAAAAAAAAAAAAAAAAAAAAAAAAAAAAAAAAAAAAAAAAAAAAAAAAAAAAAAAAAAAAAAAAAAAAAAAAAAAAAAAAAAAAAAAAAAAAAAAAAAAAAAAAAAAAAAAAAAAAAAAAAAAAAAAAAAAAAAAAAAAAAAAAAAAAAAAAAAAAAAAAAAAAAAAAAAAAAAAAAAAAAAAAAAAAAAAAAAAAAAAAAAAAAAAAAAAAAAAAAAAAAAAAAAAAAAAAAAAAAAAAAAAAAAAAAAAAAAAAAAAAAAAAAAAAAAAAAAAAAAAAAAAAAAAAAAAAAAAAAAAAAAAAAAAAAAAAAAAAAAAAAAAAAAAAAAAAAAAAAAAAAAAAAAAAAAAAAAAAAAAAAAAAAAAAAAAAAAAAAAAAAAAAAAAAAAAAAAAAAAAAAAAAAAAAAAAAAAAAAAAAAAAAAAAAAAAAAAAAAAAAAAAAAAAAAAAAAAAAAAAAAAAAAAAAAAAAAAAAAAAAAAAAAAAAAAAAAAAAAAAAAAAAAAAAAAAAAAAAAAAAAAAAAAAAAAAAAAAAAAAAAAAAAAAAAAAAAAAAAAAAAAAAAAAAAAAAAAAAAAAAAAAAAAAAAAAAAAAAAAAAAAAAAAAAAAAAAAAAAAAAAAAAAAAAAAAAAAAAAAAAAAAAAAAAAAAAAAAAAAAAAAAAAAAAAAAAAAAAAAAAAAAAAAAAAAAAAAAAAAAAAAAAAAAAAAAAAAAAAAAAAAAAAAAAAAAAAAAAAAAAAAAAAAAAAAAAAAAAAAAAAAAAAAAAAAAAAAAAAAAAAAAAAAAAAAAAAAAAAAAAAAAAAAAAAAAAAAAAAAAAAAAAAAAAAAAAAAAAAAAAAAAAAAAAAAAAAAAAAAAAAAAAAAAAAAAAAAAAAAAAAAAAAAAAAAAAAAAAAAAAAAAAAAAAAAAAAAAAAAAAAAAAAAAAAAAAAAAAAAAAAAAAAAAAAAAAAAAAAAAAAAAAAAAAAAAAAAAAAAAAAAAAAAAAAAAAAAAAAAAAAAAAAAAAAAAAAAAAAAAAAAAAAAAAAAAAAAAAAAAAAAAAAAAAAAAAAAAAAAAAAAAAAAAAAAAAAAAAAAAAAAAAAAAAAAAAAAAAAAAAAAAAAAAAAAAAAAAAAAAAAAAAAAAAAAAAAAAAAAAAAAAAAAAAAAAAAAAAAAAAAAAAAAAAAAAAAAAAAAAAAAAAAAAAAAAAAAAAAAAAAAAAAAAAAAAAAAAAAAAAAAAAAAAAAAAAAAAAAAAAAAAAAAAAAAAAAAAAAAAAAAAAAAAAAAAAAAAAAAAAAAAAAAAAAAAAAAAAAAAAAAAAAAAAAAAAAAAAAAAAAAAAAAAAAAAAAAAAAAAAAAAAAAAAAAAAAAAAAAAAAAAAAAAAAAAAAAAAAAAAAAAAAAAAAAAAAAAAAAAAAAAAAAAAAAAAAAAAAAAAAAAAAAAAAAAAAAAAAAAAAAAAAAAAAAAAAAAAAAAAAAAAAAAAAAAAAAAAAAAAAAAAAAAAAAAAAAAAAAAAAAAAAAAAAAAAAAAAAAAAAAAAAAAAAAAAAAAAAAAAAAAAAAAAAAAAAAAAAAAAAAAAAAAAAAAAAAAAAAAAAAAAAAAAAAAAAAAAAAAAAAAAAAAAAAAAAAAAAAAAAAAAAAAAAAAAAAAAAAAAAAAAAAAAAAAAAAAAAAAAAAAAAAAAAAAAAAAAAAAAAAAAAAAAAAAAAAAAAAAAAAAAAAAAAAAAAAAAAAAAAAAAAAAAAAAAAAAAAAAAAAAAAAAAAAAAAAAAAAAAAAAAAAAAAAAAAAAAAAAAAAAAAAAAAAAAAAAAAAAAAAAAAAAAAAAAAAAAAAAAAAAAAAAAAAAAAAAAAAAAAAAAAAAAAAAAAAAAAAAAAAAAAAAAAAAAAAAAAAAAAAAAAAAAAAAAAAAAAAAAAAAAAAAAAAAAAAAAAAAAAAAAAAAAAAAAAAAAAAAAAAAAAAAAAAAAAAAAAAAAAAAAAAAAAAAAAAAAAAAAAAAAAAAAAAAAAAAAAAAAAAAAAAAAAAAAAAAAAAAAAAAAAAAAAAAAAAAAAAAAAAAAAAAAAAAAAAAAAAAAAAAAAAAAAAAAAAAAAAAAAAAAAAAAAAAAAAAAAAAAAAAAAAAAAAAAAAAAAAAAAAAAAAAAAAAAAAAAAAAAAAAAAAAAAAAAAAAAAAAAAAAAAAAAAAAAAAAAAAAAAAAAAAAAAAAAAAAAAAAAAAAAAAAAAAAAAAAAAAAAAAAAAAAAAAAAAAAAAAAAAAAAAAAAAAAAAAAAAAAAAAAAAAAAAAAAAAAAAAAAAAAAAAAAAAAAAAAAAAAAAAAAAAAAAAAAAAAAAAAAAAAAAAAAAAAAAAAAAAAAAAAAAAAAAAAAAAAAAAAAAAAAAAAAAAAAAAAAAAAAAAAAAAAAAAAAAAAAAAAAAAAAAAAAAAAAAAAAAAAAAAAAAAAAAAAAAAAAAAAAAAAAAAAAAAAAAAAAAAAAAAAAAAAAAAAAAAAAAAAAAAAAAAAAAAAAAAAAAAAAAAAAAAAAAAAAAAAAAAAAAAAAAAAAAAAAAAAAAAAAAAAAAAAAAAAAAAAAAAAAAAAAAAAAAAAAAAAAAAAAAAAAAAAAAAAAAAAAAAAAAAAAAAAAAAAAAAAAAAAAAAAAAAAAAAAAAAAAAAAAAAAAAAAAAAAAAAAAAAAAAAAAAAAAAAAAAAAAAAAAAAAAAAAAAAAAAAAAAAAAAAAAAAAAAAAAAAAAAAAAAAAAAAAAAAAAAAAAAAAAAAAAAAAAAAAAAAAAAAAAAAAAAAAAAAAAAAAAAAAAAAAAAAAAAAAAAAAAAAAAAAAAAAAAAAAAAAAAAAAAAAAAAAAAAAAAAAAAAAAAAAAAAAAAAAAAAAAAAAAAAAAAAAAAAAAAAAAAAAAAAAAAAAAAAAAAAAAAAAAAAAAAAAAAAAAAAAAAAAAAAAAAAAAAAAAAAAAAAAAAAAAAAHOeC6+FLWOg3qYR0AAAAAAAAAAAAAAAB/hEGeg6vBu0rdwDp66Bkei5NKuwAAAAAAAAAAAAAAAAAAAAAAAAAAAAAAAAAAAAAAAAAAAAAAAAAAAAAAAAAAAAAAAAAAAAAAAAAAAAAAAAAAAAAAAAAAAAAAAAAAAAAAAAAAAAAAAAAAAAAAAAAAAAAAAAAAAAAAAAAAAAAAAAAAAAAAAAAAAAAAAAAAAAAAAAAAAAAAAAAAAAAAAAAAAAAAAAAAAAAAAAAAAAAAAAAAAAAAAAAAAAAAAAAAAAAAAAAAAAAAAAAAAAAAAAAAAAAAAAAAAAAAAAAAAAAAAAAAAAAAAAAAAAAAAAAAAAAAAAAAAAAAAAAAAAAAAAAAAAAAAAAAAAAAAAAAAAAAAAAAAAAAAAAAAAAAAAAAAAAAAAAAAAAAAAAAAAAAAAAAAAAAAAAAAAAAAAAAAAAAAAAAAAAAAAAAAAAAAAAAAAAAAAAAAAAAAAAAAAAAAAAAAAAAAAAAAAAAAAAAAAAAAAAAAAAAAAAAAAAAAAAAAAAAAAAAAAAAAJbkBJz4UtY6BzngugAAAAAAAAAAAAAAAELgmh0a37sdSt3AOoOrwbuLk0o7AAAAAAAAAAAAAAAAAAAAAAAAAAAAAAAAAAAAAAAAAAAAAAAAAAAAAAAAAAAAAAAAAAAAAHsq0z31uL48up0kpU7WnT62evYkhuBiosaZXT0Jxz0jsH97JIkpciXaEwY/27ALJ78K6qldtq42AAAAAOpUzyBRgPM7JOekoAAAAAAAAAAAAAAAAGQ9XZ+Q048hjG2TPPo7yyUsrxulAAAAAAAAAABCxaEd+FLWOgc54DoAAAAAAAAAAAAAAAAKL/wdEhqEnkrdwDqDq8E7i5NKOwAAAAAAAAAAAAAAAAAAAAAAAAAAAAAAAAAAAAAAAAAAAAAAAAAAAAAAAAAAAAAAAAAAAAAAAAAAAAAAAAAAAAAAAAAAAAAAAAAAAAAAAAAAAAAAAAAAAAAAAAAAAAAAAAAAAAAAAAAAAAAAAAAAAAAAAAAAAAAAAAAAAAAAAAAAAAAAAAAAAAAAAAAAAAAAAAAAAAAAAAAAAAAAAAAAAAAAAAAAAAAAAAAAAAAAAAAAAAAAAAAAAAAAAAAAAAAAAAAAAAAAAAAAAAAAAAAAAAAAAAAAAAAAAAAAAAAAAAAAAAAAAAAAAAAAAAAAAAAAAAAAAAAAAAAAAAAAAAAAAAAAAAAAAAAAAAAAAAAAAAAAAAAAAAAAAAAAAAAAAAAAAAAAAAAAAAAAAAAAAAAAAAAAAAAAAAAAAAAAAAAAAAAAAAAAAAAAAAAAAAAAAAAAAAAAAAAAAAAAAAAAAAAAAAAAAAAAAAAAAAAAAAAAAAAAAAAAAAc54Dr4UtY6q+4NHgAAAAAAAAAAAAAAAJkCIR6Dq8E7St3AOrHLuR6Lk0q7AAAAAAAAAAAAAAAAAAAAAAAAAAAAAAAAAAAAAAAAAAAAAAAAAAAAAAAAAAAAAAAAAAAAAAAAAAAAAAAAAAAAAAAAAAAAAAAAAAAAAAAAAAAAAAAAAAAAAAAAAAAAAAAAAAAAAAAAAAAAAAAAAAAAAAAAAAAAAAAAAAAAAAAAAAAAAAAAAAAAAAAAAAAAAAAAAAAAAAAAAAAAAAAAAAAAAAAAAAAAAAAAAAAAAAAAAAAAAAAAAAAAAAAAAAAAAAAAAAAAAAAAAAAAAAAAAAAAAAAAAAAAAAAAAAAAAAAAAAAAAAAAAAAAAAAAAAAAAAAAAAAAAAAAAAAAAAAAAAAAAAAAAAAAAAAAAAAAAAAAAAAAAAAAAAAAAAAAAAAAAAAAAAAAAAAAAAAAAAAAAAAAAAAAAAAAAAAAAAAAAAAAAAAAAAAAAAAAAAAAAAAAAAAAAAAAAAAAAAAAAAAAAAAAAAAAAAAAAAAAAAAAAAAAAAAAAAAAAAAAAAAAAAAAAAAAAAAAAAAAAAAAAAAAAAAAAAAAAAAAAAAAAAAAAAAAAAAAAAAAAAAAAAAAAAAAAAAAAAAAAAAAAAAAAAAAAAAAAAAAAAAAAAAAAAAAAAAAAAAAAAAAAAAAAAAAAAAAAAAAAAAAAAAAAAAAAAAAAAAAAAAAAAAAAAAAAAAAAAAAAAAAAAAAAAAAAAAAAAAAAAAAAAAAAAAAAAAAAAAAAAAAAAAAAAAAAAAAAAAAAAAAAAAAAAAAAAAAAAAAAAAAAAAAAAAAAAAAAAAAAAAAAAAAAAAAAAAAAAAAAAAAAAAAAAAAAAAAAAAAAAAAAAAAAAAAAAAAAAAAAAAAAAAAAAAAAAAAAAAAAAAAAAAAAAAAAAAAAAAAAAAAAAAAAAAAAAAAAAAAAAAAAAAAAAAAAAAAAAAAAAAAAAAAAAAAAAAAAAAAAAAAAAAAAAAAAAAAAAAAAAAAAAAAAAAAAAAAAAAAAAAAAAAAAAAAAAAAAAAAAAAAAAAAAAAAAAAAAAAAAAAAAAAAAAAAAAAAAAAAAAAAAAAAAAAAAAAAAAAAAAAAAAAAAAAAAAAAAAAAAAAAAAAAAAAAAAAAAAAAAAAAAAAAAAAAAAAAAAAAAAAAAAAAAAAAAAAAAAAAAAAAAAAAAAAAAAAAAAAAAAAAAAAAAAAAAAAAAAAAAAAAAAAAAAAAAAAAAAAAAAAAAAAAAAAAAAAAAAAAAAAAAAAAAAAAAAAAAAAAAAAAAAAAAAAAAAAAAAAAAAAAAAAAAAAAAAAAAAAAAAAAAAAAAAAAAAAAAAAAAAAAAAAAAAAAAAAAAAAAAAAAAAAAAAAAAAAAAAAAAAAAAAAAAAAAAAAAAAAAAAAAAAAAAAAAAAAAAAAAAAAAAAAAAAAAAAAAAAAAAAAAAAAAAAAAAAAAAAAAAAAAAAAAAAAAAAAAAAAAAAAAAAAAAAAAAAAAAAAAAAAAAAAAAAAAAAAAAAAAAAAAAAAAAAAAAAAAAAAAAAAAAAAAAAAAAAAAAAAAAAAAAAAAAAAAAAAAAAAAAAAAAAAAAAAAAAAAAAAAAAAAAAAAAAAAAAAAAAAAAAAAAAAAAAAAAAAAAAAAAAAAAAAAAAAAAAAAAAAAAAAAAAAAAAAAAAAAAAAAAAAAAAAAAAAAAAAAAAAAAAAAAAAAAAAAAAAAAAAAAAAAAAAAAAAAAAAAAAAAAAAAAAAAAAAAAAAAAAAAAAAAAAAAAAAAAAAAAAAAAAAAAAAAAAAAAAAAAAAAAAAAAAAAAAAAAAAAAAAAAAAAAAAAAAAAAAAAAAAAAAAAAAAAAAAAAAAAAAAAAAAAAAAAAAAAAAAAAAAAAAAAAAAAAAAAAAAAAAAAAAAAAAAAAAAAAAAAAAAAAACAGSw0TMKbuIAZLDQAAAAAAAAAAAAAAADPNxy1g8+LOU/bpTSDz4s5WGO9IJQxFzkAAAAAwOOLu0Zb4zrA44u7AAAAAAAAAAAAAAAAuD1EPMsSoLsOYcS7yxKgu/dh2ijnOW251wdatppvxDoYYt68WosnovRUSjj6grK7WF0LoPj+fiJ586g9Pl6eOqOwQqOVtUM7dd4dPZ+eyTsfb/S9/boCPVrMTyL6rvi8b3FhPNZ0USFwOJukIYGxvf/M0b3rvmIks1s1vgAAAAAAAAAAgBksNEzCm7iAGSy0AAAAAAAAAAAAAAAAzzccNYPPizlP26U0g8+LuT4kuiCUMRc5AAAAAMDji7tGW+M6wOOLOwAAAAAAAAAAAAAAALg9RLzLEqC7DmHEu8sSoDtJVtooAAAAAAAAAAAAAAAAAAAAAAAAAAAAAAAAAAAAAAAAAAAAAAAAAAAAAAAAAAAAAAAAAAAAAAAAAAAAAAAAAAAAAAAAAAAAAAAAAAAAAAAAAAAAAAAAAAAAAAAAAAAAAAAAAAAAAAAAAAAAAAAAAAAAAAAAAAAAAAAAAAAAAAAAAAAAAAAAAAAAAAAAAAAAAAAAAAAAAAAAAAAAAAAAAAAAAAAAAAAAAAAAAAAAAAAAAAAAAAAAAAAAAAAAAAAAAAAAAAAAAAAAAAAAAAAAAAAAAOc5bbnXB1q2Sh4aoRhi3ryab8Q6wzudn/qCsrv0VEo4e6/wI1SA6qI+Xp46efOoPZW1Q7t13h09n57JO+vIbaL9ugI9H2/0vazJvh9vcWE8+q74vFGLUqRqN1gk/8zRvSGBsb2zWzU+5zltudcHWrYWPJUfGGLevJpvxLrabG0g+oKyu/RUSrj9JfwhN35xoj5enjp586i9lbVDu3XeHT2fnsk76Z2KI/26Aj0fb/Q9pJJDIG9xYTz6rvg8oF/kI0fh1qP/zNG9IYGxPbNbNT4AAAAAAAAAAAAAAAAAAAAAAAAAAAAAAAAAAAAAAAAAAAAAAAAAAAAAAAAAAAAAAAAAAAAAAAAAAAAAAAAAAAAAAAAAAAAAAAAAAAAAAAAAAAAAAAAAAAAAAAAAAAAAAAAAAAAAAAAAAAAAAAAAAAAAAAAAAAAAAAAAAAAAAAAAAAAAAAAAAAAAAAAAAAAAAAAAAAAAAAAAAAAAAAAAAAAAAAAAAAAAAAAAAAAAAAAAAAAAAAAAAAAAAAAAAAAAAAAAAAAAAAAAAAAAAAAAAAAAAAAAAAAAAACAGSy0TMKbuIAZLDQAAAAAAAAAAAAAAADPNxw1g8+LuU/bpTSDz4s5Ga+8IJQxFzkAAAAAwOOLO0Zb4zrA44u7AAAAAAAAAAAAAAAAuD1EvMsSoDsOYcS7yxKgu9Zo2ijnOW251wdatppvxLoYYt68sIkuIvRUSrj6grK7GT8wICJjDyN586i9Pl6eOpw6eCCVtUM7dd4dPZ+eyTsfb/Q9/boCPQJ0tCP6rvg8b3FhPNKSjSG4kf+iIYGxPf/M0b3Gcoijs1s1vgAAAAAAAAAAgBkstEzCm7iAGSy0AAAAAAAAAAAAAAAAzzcctYPPi7lP26U0g8+LuQl6uSCUMRc5AAAAAMDjiztGW+M6wOOLOwAAAAAAAAAAAAAAALg9RDzLEqA7DmHEu8sSoDtWYNooAAAAAAAAAAAAAAAAAAAAAAAAAAAAAAAAAAAAAAAAAAAAAAAAAAAAAAAAAAAAAAAAAAAAAAAAAAAAAAAAAAAAAAAAAAAAAAAAAAAAAAAAAAAAAAAAAAAAAAAAAAAAAAAAAAAAAAAAAAAAAAAAAAAAAAAAAAAAAAAAAAAAAAAAAAAAAAAAAAAAAAAAAAAAAAAAAAAAAAAAAAAAAAAAAAAAAAAAAAAAAAAAAAAAAAAAAAAAAAAAAAAAAAAAAAAAAAAAAAAAAAAAAAAAAAAAAAAAAAAAAAAAAAAAAAAAAAAAAAAAAAAAAAAAAAAAAAAAAAAAAAAAAAAAAAAAAAAAAAAAAAAAAAAAAAAAAAAAAAAAAAAAAAAAAAAAAAAAAAAAAAAAAAAAAAAAAAAAAAAAAAAAAAAAAAAAAAAAAAAAAAAAAAAAAAAAAAAAAAAAAAAAAAAAAAAAAAAAAAAAAAAAAAAAAAAAAAAAAAAAAAAAAAAAAAAAAAAAAAAAAAAAAAAAAAAAAAAAAAAAAAAAAAAAAAAAAAAAAAAAAAAAAAAAAAAAAAAAAAAAAAAAAAAAAAAAAAAAAAAAAAAAAAAAAAAAAAAAAAAAAAAAAAAAAAAAAAAAAAAAAAAAAAAAAAAAAAAAAAAAAAAAAAAAAAAAAAAAAAAAAAAAAAAAAAAAAAAAAAAAAAAAAAAAAAAAAAAAAAAAAAAAAAAAAAAAAAAAAAAAAAAAAAAAAAAAAAAAAAAAAAAAAAAAAAAAAAAAAAAAAAAAAAAAAAAAAAAAAAAAAAAAAAAAAAAAAAAAAAAAAAAAAAAAAAAAAAAAAAAAAAAAAAAAAAAAAAAAAAAAAAAAAAAAAAAAAAAAAAAAAAAAAAAAAAAAAAAAAAAAAAAAAAAAAAAAAAAAAAAAAAAAAAAAAAAAAAAAAAAAAAAAAAAAAAAAAAAAAAAAAAAAAAAAAAAAAAAAAAAAAAAAAAAAAAAAAAAAAAAAAAAAAAAAAAAAAAAAAAAAAAAAAAAAAAAAAAAAAAAAAAAAAAAAAAAAAAAAAAAAAAAAAAAAAAAAAAAAAAAAAAAAAAAAAAAAAAAAAAAAAAAAAAAAAAAAAAAAAAAAAAAAAAAAAAAAAAAAAAAAAAAAAAAAAAAAAAAAAAAAAAAAAAAAAAAAAAAAAAAAAAAAAAAAAAAAAAAAAAAAAAAAAAAAAAAAAAAAAAAAAAAAAAAAAAAAAAAAAAAAAAAAAAAAAAAAAAAAAAAAAAAAAAAAAAAAAAAAAAAAAAAAAAAAAAAAAAAAAAAAAAAAAAAAAAAAAAAAAAAAAAAAAAAAAAAAAAAAAAAAAAAAAAAAAAAAAAAAAAAAAAAAAAAAAAAAAAAAAAAAAAAAAAAAAAAAAAAAAAAAAAAAAAAAAAAAAAAAAAAAAAAAAAAAAAAAAAAAAAAAAAAAAAAAAAAAAAAAAAAAAAAAAAAAAAAAAAAAAAAAAAAAAAAAAAAAAAAAAAAAAAAAAAAAAAAAAAAAAAAAAAAAAAAAAAAAAAAAAAAAAAAAAAAAAAAAAAAAAAAAAAAAAAAAAAAAAAAAAAAAAAAAAAAAAAAAAAAAAAAAAAAAAAAAAAAAAAAAAAAAAAAAAAAAAAAAAAAAAAAAAAAAAAAAAAAAAAAAAAAAAAAAAAAAAAAAAAAAAAAAAAAAAAAAAAAAAAAAAAAAAAAAAAAAAAAAAAAAAAAAAAAAAAAAAAAAAAAAAAAAAAAAAAAAAAAAAHkbJroAAAAAfxO3O8/sFjp/E7c7AAAAAAAAAAAAAAAAXACBvC+t2LqtFiE8L63Yuv2fj6kAAAAAAAAAAGcY4Dr4UtY6Uiy4nQAAAAAAAAAAAAAAAMFHn51cncG7CzPBul8/Ch7MZko7RgFZvS0wjbx8uDM+nHihO6bs2KOyhlM9060YPGsPkKIt3g2kyFBAvPztPT4fnYEk0HGKPgAAAAAAAAAAAAAAAAAAAAAAAAAAAAAAAAAAAAAAAAAAAAAAAAAAAAAAAAAAAAAAAAAAAAB5Gya6AAAAAH8TtzvP7BY6fxO3uwAAAAAAAAAAAAAAAFwAgTwvrdi6rRYhPC+t2DrHm4+pAAAAAAAAAAAAAAAAAAAAAAAAAAAAAAAAAAAAAAAAAAAAAAAAAAAAAAAAAAAAAAAAAAAAAAAAAAAAAAAAAAAAAAAAAAAAAAAAAAAAAAAAAAAAAAAAAAAAAAAAAAAAAAAAAAAAAAAAAAAAAAAAAAAAAAAAAAAAAAAAAAAAAAAAAAAAAAAAAAAAAAAAAAAAAAAAAAAAAAAAAAAAAAAAAAAAAAAAAAAAAAAAAAAAAAAAAAAAAAAAAAAAAAAAAAAAAAAAAAAAAAAAAAAAAAAAAAAAAAAAAAAAAAAA3N0IHfhS1jpnGOA6AAAAAAAAAAAAAAAANNndHb6Pmp4LM8G6XJ3Bu8xmSrtGAVm9LTCNvJFntCOceKE7fLgzPnoPAqLTrRg8soZTPWvCciOmgoQj/O09PshQQLzQcYq+Rl38vXPu7bz2jYQkTtadPmFtwKXpSxmiB+TNPVZMRaEKTvQkHrgHprjh7b5rGHWmGMHuKViAhMC1nJTAOpuBKDWJN0B99LUo70fMqHCwZkCPCBuoPPVGJmoyLCd/HQM8PJ4VqnOGoy0AAAAAAAAAADksjRz4UtY6ZxjgugAAAAAAAAAAAAAAAHKVVR674LydCzPBulydwTvMZkq7RgFZvS0wjbwElQelnHihO3y4M77NXZGd060YPLKGU70yWaMlm9/jo/ztPT7IUEA80HGKvgAAAAAAAAAAAAAAAAAAAAAAAAAAAAAAAAAAAAAAAAAAAAAAAAAAAAAAAAAAAAAAAAAAAAAAAAAAAAAAAAAAAAAAAAAAAAAAAAAAAAAAAAAAAAAAAAAAAAAAAAAAAAAAAAAAAAAAAAAAAAAAAAAAAAAAAAAAAAAAAAAAAAAAAAAAAAAAAAAAAAAAAAAAAAAAAAAAAAAAAAAAAAAAAAAAAAAAAAAAAAAAAAAAAAAAAAAAAAAAAAAAAAAAAAAAAAAAAAAAAAAAAAAAAAAAAAAAAAAAAAAAAAAAAAAAAAAAAAAAAAAAAAAAAAAAAAAAAAAAAAAAAAAAAAAAAAAAAAAAAAAAAAAAeRsmugAAAAB/E7e7z+wWOn8TtzsAAAAAAAAAAAAAAABcAIE8L63YOq0WITwvrdi6NKSPqQAAAAAAAAAAZxjguvhS1jqEBhqdAAAAAAAAAAAAAAAAmLJ/nlydwTsLM8G6Q54LH8xmSjtGAVm9LTCNvHy4M76ceKE7Q9kQJLKGU73TrRg8O2p9omsZGqTIUEA8/O09PndKfiPQcYo+AAAAAAAAAAAAAAAAAAAAAAAAAAAAAAAAAAAAAAAAAAAAAAAAAAAAAAAAAAAAAAAAAAAAAHkbJroAAAAAfxO3u8/sFjp/E7e7AAAAAAAAAAAAAAAAXACBvC+t2DqtFiE8L63YOvifj6kAAAAAAAAAAAAAAAAAAAAAAAAAAAAAAAAAAAAAAAAAAAAAAAAAAAAAAAAAAAAAAAAAAAAAAAAAAAAAAAAAAAAAAAAAAAAAAAAAAAAAAAAAAAAAAAAAAAAAAAAAAAAAAAAAAAAAAAAAAAAAAAAAAAAAAAAAAAAAAAAAAAAAAAAAAAAAAAAAAAAAAAAAAAAAAAAAAAAAAAAAAAAAAAAAAAAAAAAAAAAAAAAAAAAAAAAAAAAAAAAAAAAAAAAAAAAAAAAAAAAAAAAAAAAAAAAAAAAAAAAAAAAAAAAAAAAAAAAAAAAAAAAAAAAAAAAAAAAAAAAAAAAAAAAAAAAAAAAAAAAAAAAAAAAAAAAAAAAAAAAAAAAAAAAAAAAAAAAAAAAAAAAAAAAAAAAAAAAAAAAAAAAAAAAAAAAAAAAAAAAAAAAAAAAAAAAAAAAAAAAAAAAAAAAAAAAAAAAAAAAAAAAAAAAAAAAAAAAAAAAAAAAAAAAAAAAAAAAAAAAAAAAAAAAAAAAAAAAAAAAAAAAAAAAAAAAAAAAAAAAAAAAAAAAAAAAAAAAAAAAAAAAAAAAAAAAAAAAAAAAAAAAAAAAAAAAAAAAAAAAAAAAAAAAAAAAAAAAAAAAAAAAAAAAAAAAAAAAAAAAAAAAAAAAAAAAAAAAAAAAAAAAAAAAAAAAAAAAAAAAAAAAAAAAAAAAAAAAAAAAAAAAAAAAAAAAAAAAAAAAAAAAAAAAAAAAAAAAAAAAAAAAAAAAAAAAAAAAAAAAAAAAAAAAAAAAAAAAAAAAAAAAAAAAAAAAAAAAAAAAAAAAAAAAAAAAAAAAAAAAAAAAAAAAAAAAAAAAAAAAAAAAAAAAAAAAAAAAAAAAAAAAAAAAAAAAAAAAAAAAAAAAAAAAAAAAAAAAAAAAAAAAAAAAAAAAAAAAAAAAAAAAAAAAAAAAAAAAAAAAAAAAAAAAAAAAAAAAAAAAAAAAAAAAAAAAAAAAAAAAAAAAAAAAAAAAAAAAAAAAAAAAAAAAAAAAAAAAAAAAAAAAAAAAAAAAAAAAAAAAAAAAAAAAAAAAAAAAAAAAAAAAAAAAAAAAAAAAAAAAAAAAAAAAAAAAAAAAAAAAAAAAAAAAAAAAAAAAAAAAAAAAAAAAAAAAAAAAAAAAAAAAAAAAAAAAAAAAAAAAAAAAAAAAAAAAAAAAAAAAAAAAAAAAAAAAAAAAAAAAAAAAAAAAAAAAAAAAAAAAAAAAAAAAAAAAAAAAAAAAAAAAAAAAAAAAAAAAAAAAAAAAAAAAAAAAAAAAAAAAAAAAAAAAAAAAAAAAAAAAAAAAAAAAAAAAAAAAAAAAAAAAAAAAAAAAAAAAAAAAAAAAAAAAAAAAAAAAAAAAAAAAAAAAAAAAAAAAAAAAAAAAAAAAAAAAAAAAAAAAAAAAAAAAAAAAAAAAAAAAAAAAAAAAAAAAAAAAAAAAAAAAAAAAAAAAAAAAAAAAAAAAAAAAAAAAAAAAAAAAAAAAAAAAAAAAAAAAAAAAAAAAAAAAAAAAAAAAAAAAAAAAAAAAAAAAAAAAAAAAAAAAAAAAAAAAAAAAAAAAAAAAAAAAAAAAAAAAAAAAAAAAAAAAAAAAAAAAAAAAAAAAAAAAAAAAAAAAAAAAAAAAAAAAAAAAAAAAAAAAAAAAAAAAAAAAAAAAAAAAAAAAAAAAAAAAAAAAAAAAAAAAAAAAAAAAAAAAAAAAAAAAAAAAAAAAAAAAAAAAAAAAAAAAAAAAAAAAAAAAAAAAAAAAAAAAAAAAAAAAAAAAAAAAAAAAAAAAAAAAAAAAAAAAAAAAAAAAAAAAAAAAAAAAAAAAAAAAAAAAAAAAAAAAAAAAAAAAAAAAAAAAAAAAAAAAAAAAAAAAAAAAAAAAAAAAAAAAAAAAAAN+mQDn+qoU5kUZMGQAAAAAAAAAAAAAAAAkuERvFRzW6u/PWubipZRzUpYI5AAAAAAAAAAAAAAAAAAAAAAAAAAAAAAAAAAAAAAAAAAAAAAAAAAAAAAAAAAAAAAAAAAAAAAAAAAAAAAAAAAAAAAAAAAAAAAAAAAAAAAAAAAAAAAAAAAAAAAAAAAAAAAAAAAAAAAAAAAAAAAAAAAAAAAAAAAAAAAAAAAAAAAAAAAAAAAAAAAAAAAAAAAAAAAAAAAAAAAAAAAAAAAAAAAAAAAAAAAAAAAAAAAAAAAAAAAAAAAAAAAAAAAAAAAAAAAAAAAAAAAAAAAAAAAAAAAAAAAAAAAAAAAAAAAAAAAAAAAAAAAAAAAAAAAAAAAAAAAAAAAAAAAAAAAAAAAAAAAAAAAAAAAAAAAAAAAAAAAAAAAAAAAAAAAAAAAAAAAAAAAAAAAAAAAAAAAAAAAAAAAAAAAAAAAAAAAAAAAAAAAAAAAAAAAAAAAAAAAAAAAAAAAAAAAAAAAAAAAAAAAAAAAAAAAAAAAAAAAAAAAAAAAAAAAAAAAAAkQkgmv6qhTnfpkA5AAAAAAAAAAAAAAAAKYLZGAIL35u789a5xUc1utSlgrkAAAAAAAAAAAAAAAAAAAAAAAAAAAAAAAAAAAAAAAAAAAAAAAAAAAAAAAAAAAAAAAAAAAAA5IvwuwAAAABvyDsi6Qh1PQNhD6MqjQEaBfd+OVfPqBkMrSci+46hovujBb7CJ84m/1KgJwAAAAAAAAAAAAAAAAAAAAAAAAAAAAAAAAAAAAAAAAAAAAAAAAAAAAAAAAAAAAAAAAAAAAAAAAAAAAAAAP71EBv+qoU536ZAuQAAAAAAAAAAAAAAAFJzDxt+xHmbu/PWucVHNTrUpYK5AAAAAAAAAAAAAAAAAAAAAAAAAAAAAAAAAAAAAAAAAAAAAAAAAAAAAAAAAAAAAAAAAAAAAAAAAAAAAAAAAAAAAAAAAAAAAAAAAAAAAAAAAAAAAAAAAAAAAAAAAAAAAAAAAAAAAAAAAAAAAAAAAAAAAAAAAAAAAAAAAAAAAAAAAAAAAAAAAAAAAAAAAAAAAAAAAAAAAAAAAAAAAAAAAAAAAAAAAAAAAAAAAAAAAAAAAAAAAAAAAAAAAAAAAAAAAAAAAAAAAAAAAAAAAAAAAAAAAAAAAAAAAAAAAAAAAAAAAAAAAAAAAAAAAAAAAAAAAAAAAAAAAAAAAAAAAAAAAAAAAAAAAAAAAAAAAAAAAAAAAAAAAAAAAAAAAAAAAAAAAAAAAAAAAAAAAAAAAAAAAAAAAAAAAAAAAAAAAAAAAAAAAAAAAAAAAAAAAAAAAAAAAAAAAAAAAAAAAAAAAAAAAAAAAAAAAAAAAAAAAAAAAAAAAAAAAAAA36ZAuf6qhTkJ0XeYAAAAAAAAAAAAAAAA8Uiwm8VHNTq789a53XAMGtSlgjkAAAAAAAAAAAAAAAAAAAAAAAAAAAAAAAAAAAAAAAAAAAAAAAAAAAAAAAAAAAAAAAAAAAAAAAAAAAAAAAAAAAAAAAAAAAAAAAAAAAAAAAAAAAAAAAAAAAAAAAAAAAAAAAAAAAAAAAAAAAAAAAAAAAAAAAAAAAAAAAAAAAAAAAAAAAAAAAAAAAAAAAAAAAAAAAAAAAAAAAAAAAAAAAAAAAAAAAAAAAAAAAAAAAAAAAAAAAAAAAAAAAAAAAAAAAAAAAAAAAAAAAAAAAAAAAAAAAAAAAAAAAAAAAAAAAAAAAAAAAAAAAAAAAAAAAAAAAAAAAAAAAAAAAAAAAAAAAAAAAAAAAAAAAAAAAAAAAAAAAAAAAAAAAAAAAAAAAAAAAAAAAAAAAAAAAAAAAAAAAAAAAAAAAAAAAAAAAAAAAAAAAAAAAAAAAAAAAAAAAAAAAAAAAAAAAAAAAAAAAAAAAAAAAAAAAAAAAAAAAAAAAAAAAAAAAAAAAAAAAAAAAAAAAAAAAAAAAAAAAAAAAAAAAAAAAAAAAAAAAAAAAAAAAAAAAAAAAAAAAAAAAAAAAAAAAAAAAAAAAAAAAAAAAAAAAAAAAAAAAAAAAAAAAAAAAAAAAAAAAAAAAAAAAAAAAAAAAAAAAAAAAAAAAAAAAAAAAAAAAAAAAAAAAAAAAAAAAAAAAAAAAAAAAAAAAAAAAAAAAAAAAAAAAAAAAAAAAAAAAAAAAAAAAAAAAAAAAAAAAAAAAAAAAAAAAAAAAAAAAAAAAAAAAAAAAAAAAAAAAAAAAAAAAAAAAAAAAAAAAAAAAAAAAAAAAAAAAAAAAAAAAAAAAAAAAAAAAAAAAAAAAAAAAAAAAAAAAAAAAAAAAAAAAAAAAAAAAAAAAAAAAAAAAAAAAAAAAAAAAAAAAAAAAAAAAAAAAAAAAAAAAAAAAAAAAAAAAAAAAAAAAAAAAAAAAAAAAAAAAAAAAAAAAAAADkBZ6eROSspxTaxqPKO+ihLoHA+6EGAKOC+SCigSxg/nx2uJk6YiaemtD6otEF3vwCgwiimYt2nc83sIy2AzCZPlzEocUs0v9ehXqXLsK8nknEjv37MuKYoV6SmF5zPqXEQ+L7P6TUpAAAAAAAAAAAAAAAAAAAAAAAAAAAAAAAAAAAAAAAAAAAAAAAAAAAAAAAAAAAAAAAAAAAAAAAAAAAAAAAAAAAAAAAAAAAAAAAAAAAAAAAAAAAAAAAAAAAAAAAAAAAAAAAAAAAAAAAAAAAAAAAAAAAAAAAAAAAAAAAAAAAAAAAAAAAAAAAAAAAAAAAAAAAAAAAAAAAAAAAAAAAAAAAAAAAAAAAAAAAAAAAAAAAAAAAAAAAAAAAAAAAAAAAAAAAAAAAAAAAAAAAAAAAAAAAAAAAAAAAAAAAAAAAAAAAAAAAAAAAAAAAAAAAAAAAAAAAAAAAAAAAAAAAAAAAAAAAAAAAAAAAAAAAAAAAAAAAAAAAAAAAAAAAAAAAAAAAAAAAAAAAAAAAAAAAAAAAAAAAAAAAAAAAAAAAAAAAAAAAAAAAAAAAAAAAAAAAAAAAAAAAAAAAAAAAAAAAAAAAAAAAAAAAAAAAAAAAAAAAAAAAAAAAAAAAAAAAAAAAAAAAAAAAAAAAAAAAAAAAAAAAAAAAAAAAAAAAAAAAAAAAAAAAAAAAAAAAAAAAAAAAAAAAAAAAAAAAAAAAAAAAAAAAAAAAAAAAAAAAAAAAAAAAAAAAAAAAAAAAAAAAAAAAAAAAAAAAAAAAAAAAAAAAAAAAAAAAAAAAAAAAAAAAAAAAAAAAAAAAAAAAAAAAAAAAAAAAAAAAAAAAAAAAAAAAAAAAAAAAAAAAAAAAAAAAAAAAAAAAAAAAAAAAAAAAAAAAAAAAAAAAAAAAAAAAAAAAAAAAAAAAAAAAAAAAAAAAAAAAAAAAAAAAAAAAAAAAAAAAAAAAAAAAAAAAAAAAAAAAAAAAAAAAAAAAAAAAAAAAAAAAAAAAAAAAAAAAAAAAAAAAAAAAAAAAAAAAAAAAAAAAAAAAAAAAAAAAAAAAAAAAAAAAAAAAAAAAAAAAAAAAAAAAAAAAAAAAAAAAAAAAAAAAAAAAAAAAAAAAAAAAAAAAAAAAAAAAAAAAAAAAAAAAAAAAAAAAAAAAAAAAAAAAAAAAAAAAAAAAAAAAAAAAAAAAAAAAAAAAAAAAAAAAAAAAAAAAAAAAAAAAAAAAAAAAAAAAAAAAAAAAAAAAAAAAAAAAAAAAAAAAAAAAAAAAAAAAAAAAAAAAAAAAAAAAAAAAAAAAAAAAAAAAAAAAAAAAAAAAAAAAAAAAAAAAAAAAAAAAAAAAAAAAAAAAAAAAAAAAAAAAAAAAAAAAAAAAAAAAAAAAAAAAAAAAAAAAAAAAAAAAAAAAAAAAAAAAAAAAAAAAAAAAAAAAAAAAAAAAAAAAAAAAAAAAAAAAAAAAAAAAAAAAAAAAAAAAAAAAAAAAAAAAAAAAAAAAAAAAAAAAAAAAAAAAAAAAAAAAAAAAAAAAAAAAAAAAAAAAAAAAAAAAAAAAAAAAAAAAAAAAAAAAAAAAAAAAAAAAAAAAAAAAAAAAAAAAAAAAAAAAAAAAAAAAAAAAAAAAAAAAAAAAAAAAAAAAAAAAAAAAAAAAAAAAAAAAAAAAAAAAAAAAAAAAAAAAAAAAAAAAAAAAAAAAAAAAAAAAAAAAAAAAAAAAAAAAAAAAAAAAAAAAAAAAAAAAAAAAAAAAAAAAAAAAAAAAAAAAAAAAAAAAAAAAAAAAAAAAAAAAAAAAAAAAAAAAAAAAAAAAAAAAAAAAAAAAAAAAAAAAAAAAAAAAAAAAAAAAAAAAAAAAAAAAAAAAAAAAAAAAAAAAAAAAAAAAAAAAAAAAAAAAAAAAAAAAAAAAAAAAAAAAAAAAAAAAAAAAAAAAAAAAAAAAAAAAAAAAAAAAAAAAAAAAAAAAAAAAAAAAAAAAAAAAAAAAAAAAAAAAAAAAAAAAAAAAAAAAAAAAAAAAAAAAAAAAAAAAAAAAAAAAAAAAAAAAAAAAAAAAAAAAAAAAAAAAAAAAAAAAAAAAAAAAAAAAAAAAAAAAAAAAAAAAAAAAAAAAAAAAAAAAAAAAAAAAAAAAAAAAAAAAAAAAAAAAAAAAAAAAAAAAAAAAAAAAAAAAAAAAAAAAAAAAAAAAAAAAAAAAAAAAAAAAAAAAAAAAAAAAAAAAAAAAAAAAAAAAAAAAAAAAAAAAAAAAAAAAAAAAAAAAAAAAAAAAAAAAAAAAAAAAAAAAAAAAAAAAAAAAAAAAAAAAAAAAAAAAAAAAAAAAAAAAAAAAAAAAAAAAAAAAAAAAAAAAAAAAAAAAAAAAAAAAAAAAAAAAAAAAAAAAAAAAAAAAAAAAAAAAAAAAAAAAAAAAAAAAAAAAAAAAAAAAAAAAAAAAAAAAAAAAAAAAAAAAAAAAAAAAAAAAAAAAAAAAAAAAAAAAAAAAAAAAAAAAAAAAAAAAAAAAAAAAAAAAAAAAAAAAAAAAAAAAAAAAAAAAAAAAAAAAAAAAAAAAAAAAAAAAAAAAAAAAAAAAAAAAAAAAAAAAAAAAAAAAAAAAAAAAAAAAAAAAAAAAAAAAAAAAAAAAAAAAAAAAAAAAAAAAAAAAAAAAAAAAAAAAAAAAAAAAAAAAAAAAAAAAAAAAAAAAAAAAAAAAAAAAAAAAAAAAAAAAAAAAAAAAAAAAAAAAAAAAAAAAAAAAAAAAAAAAAAAAAAAAAAAAAAAAAAAAAAAAAAAAAAAAAAAAAAAAAAAAAAAAAAAAAAAAAAAAAAAAAAAAAAAAAAAAAAAAAAAAAAAAAAAAAAAAAAAAAAAAAAAAAAAAAAAAAAAAAAAAAAAAAAAAAAAAAAAAAAAAAAAAAAAAAAAAAAAAAAAAAAAAAAAAAAAAAAAAAAAAAAAAAAAAAAAAAAAAAAAAAAAAAAAAAAAAAAAAAAAAAAAAAAAAAAAAAAAAAAAAAAAAAAAAAAAAAAAAAAAAAAAAAAAAAAAAAAAAAAAAAAAAAAAAAAAAAAAAAAAAAAAAAAAAAAAAAAAAAAAAAAAAAAAAAAAAAAAAAAAAAAAAAAAAAAAAAAAAAAAAAAAAAAAAAAAAAAAAAAAAAAAAAAAAAAAAAAAAAAAAAAAAAAAAAAAAAAAAAAAAAAAAAAAAAAAAAAAAAAAAAAAAAAAAAAAAAAAAAAAAAAAAAAAAAAAAAAAAAAAAAAAAAAAAAAAAAAAAAAAAAAAAAAAAAAAAAAAAAAAAAAAAAAAAAAAAAAAAAAAAAAAAAAAAAAAAAAAAAAAAAAAAAAAAAAAAAAAAAAAAAAAAAAAAAAAAAAAAAAAAAAAAAAAAAAAAAAAAAAAAAAAAAAAAAAAAAAAAAAAAAAAAAAAAAAAAAAAAAAAAAAAAAAAAAAAAAAAAAAAAAAAAAAAAAAAAAAAAAAAAAAAAAAAAAAAAAAAAAAAAAAAAAAAAAAAAAAAAAAAAAAAAAAAAAAAAAAAAAAAAAAAAAAAAAAAAAAAAAAAAAAAAAAAAAAAAAAAAAAAAAAAAAAAAAAAAAAAAAAAAAAAAAAAAAAAAAAAAAAAAAAAAAAAAAAAAAAAAAAAAAAAAAAAAAAAAAAAAAAAAAAAAAAAAAAAAAAAAAAAAAAAAAAAAAAAAAAAAAAAAAAAAAAAAAAAAAAAAAAAAAAAAAAAAAAAAAAAAAAAAAAAAAAAAAAAAAAAAAAAAAAAAAAAAAAAAAAAAAAAAAAAAAAAAAAAAAAAAAAAAAAAAAAAAAAAAAAAAAAAAAAAAAAAAAAAAAAAAAAAAAAAAAAAAAAAAAAAAAAAAAAAAAAAAAAAAAAAAAAAAAAAAAAAAAAAAAAAAAAAAAAAAAAAAAAAAAAAAAAAAAAAAAAAAAAAAAAAAAAAAAAAAAAAAAAAAAAAAAAAAAAAAAAAAAAAAAAAAAAAAAAAAAAAAAAAAAAAAAAAAAAAAAAAAAAAAAAAAAAAAAAAAAAAAAAAAAAAAAAAAAAAAAAAAAAAAAAAAAAAAAAAAAAAAAAAAAAAAAAAAAAAAAAAAAAAAAAAAAAAAAAAAAAAAAAAAAAAAAAAAAAAAAAAAAAAAAAAAAAAAAAAAAAAAAAAAAAAAAAAAAAAAAAAAAAAAAAAAAAAAAAAAAAAAAAAAAAAAAAAAAAAAAAAAAAAAAAAAAAAAAAAAAAAAAAAAAAAAAAAAAAAAAAAAAAAAAAAAAAAAAAAAAAAAAAAAAAAAAAAAAAAAAAAAAAAAAAAAAAAAAAAAAAAAAAAAAAAAAAAAAAAAAAAAAAAAAAAAAAAAAAAAAAAAAAAAAAAAAAAAAAAAAAAAAAAAAAAAAAAAAAAAAAAAAAAAAAAAAAAAAAAAAAAAAAAAAAAAAAAAAAAAAAAAAAAAAAAAAAAAAAAAAAAAAAAAAAAAAAAAAAAAAAAAAAAAAAAAAAAAAAAAAAAAAAAAAAAAAAAAAAAAAAAAAAAAAAAAAAAAAAAAAAAAAAAAAAAAAAAAAAAAAAAAAAAAAAAAAAAAAAAAAAAAAAAAAAAAAAAAAAAAAAAAAAAAAAAAAAAAAAAAAAAAAAAAAAAAAAAAAAAAAAAAAAAAAAAAAaCyBHYQGGp21E524AAAAAAAAAAAAAAAAqwaNOS10DB4hhZydGgGNucqRMx4AAAAAAAAAAAAAAAAAAAAAAAAAAAAAAAAAAAAAAAAAAAAAAAAAAAAAAAAAAAAAAAAAAAAAAAAAAAAAAAAAAAAAAAAAAAAAAAAAAAAAAAAAAAAAAAAAAAAAAAAAAAAAAAAAAAAAAAAAAAAAAAAAAAAAAAAAAAAAAAAAAAAAAAAAAAAAAAAAAAAAAAAAAAAAAAAAAAAAAAAAAAAAAAAAAAAAAAAAAAAAAAAAAAAAAAAAAAAAAAAAAAAAAAAAAAAAAAAAAAAAAAAAAAAAAAAAAAAAAAAAAAAAAAAAAAAAAAAAAAAAAAAAAAAAAAAAAAAAAAAAAAAAAAAAAAAAAAAAAAAAAAAAAAAAAAAAAAAAAAAAAAAAAAAAAAAAAAAAAAAAAAAAAAAAAAAAAAAAAAAAAAAAAAAAAAAAAAAAAAAAAAAAAAAAAAAAAAAAAAAAAAAAAAAAAAAAAAAAAAAAAAAAAAAAAAAAAAAAAAAAAAAAAAAAAAAAAAASUxSdZxjgul9S1joAAAAAAAAAAAAAAAAvlPGejeeenVv5/brnnME749o4uwAAAAAAAAAAAAAAAAAAAAAAAAAAAAAAAAAAAAAAAAAAAAAAAAAAAAAAAAAAAAAAAAAAAAA0IsiimMmPn7/OUKNhbcClYz4uvev1oCHHIgUiir/du1EevSOXKeekGMn0JioNFL7epS2mfVM8lwAAAACpRAkeHbKsoCr5trkAAAAAAAAAAAAAAAC11rse1THWH2OBhSUOdsm6n59zowAAAAAAAAAA3q6Sm2cY4DpfUtY6AAAAAAAAAAAAAAAAjGZiHQ58LJ5b+f0655zBO+PaODsAAAAAAAAAAAAAAAAAAAAAAAAAAAAAAAAAAAAAAAAAAAAAAAAAAAAAAAAAAAAAAAAAAAAAAAAAAAAAAAAAAAAAAAAAAAAAAAAAAAAAAAAAAAAAAAAAAAAAAAAAAAAAAAAAAAAAAAAAAAAAAAAAAAAAAAAAAAAAAAAAAAAAAAAAAAAAAAAAAAAAAAAAAAAAAAAAAAAAAAAAAAAAAAAAAAAAAAAAAAAAAAAAAAAAAAAAAAAAAAAAAAAAAAAAAAAAAAAAAAAAAAAAAAAAAAAAAAAAAAAAAAAAAAAAAAAAAAAAAAAAAAAAAAAAAAAAAAAAAAAAAAAAAAAAAAAAAAAAAAAAAAAAAAAAAAAAAAAAAAAAAAAAAAAAAAAAAAAAAAAAAAAAAAAAAAAAAAAAAAAAAAAAAAAAAAAAAAAAAAAAAAAAAAAAAAAAAAAAAAAAAAAAAAAAAAAAAAAAAAAAAAAAAAAAAAAAAAAAAAAAAAAAAAAAAAAAAADSpnmdUiy4nbUTnbgAAAAAAAAAAAAAAACrBo25kmc2nfPVD54aAY25eQ9rHQAAAAAAAAAAAAAAAAAAAAAAAAAAAAAAAAAAAAAAAAAAAAAAAAAAAAAAAAAAAAAAAAAAAAAAAAAAAAAAAAAAAAAAAAAAAAAAAAAAAAAAAAAAAAAAAAAAAAAAAAAAAAAAAAAAAAAAAAAAAAAAAAAAAAAAAAAAAAAAAAAAAAAAAAAAAAAAAAAAAAAAAAAAAAAAAAAAAAAAAAAAAAAAAAAAAAAAAAAAAAAAAAAAAAAAAAAAAAAAAAAAAAAAAAAAAAAAAAAAAAAAAAAAAAAAAAAAAAAAAAAAAAAAAAAAAAAAAAAAAAAAAAAAAAAAAAAAAAAAAAAAAAAAAAAAAAAAAAAAAAAAAAAAAAAAAAAAAAAAAAAAAAAAAAAAAAAAAAAAAAAAAAAAAAAAAAAAAAAAAAAAAAAAAAAAAAAAAAAAAAAAAAAAAAAAAAAAAAAAAAAAAAAAAAAAAAAAAAAAAAAAAAAAAAAAAAAAAAAAAAAAAAAAAAAAAAAAAAAAAAAAAAAAAAAAAAAAAAAAAAAAAAAAAAAAAAAAAAAAAAAAAAAAAAAAAAAAAAAAAAAAAAAAAAAAAAAAAAAAAAAAAAAAAAAAAAAAAAAAAAAAAAAAAAAAAAAAAAAAAAAAAAAAAAAAAAAAAAAAAAAAAAAAAAAAAAAAAAAAAAAAAAAAAAAAAAAAAAAAAAAAAAAAAAAAAAAAAAAAAAAAAAAAAAAAAAAAAAAAAAAAAAAAAAAAAAAAAAAAAAAAAAAAAAAAAAAAAAAAAAAAAAAAAAAAAAAAAAAAAAAAAAAAAAAAAAAAAAAAAAAAAAAAAAAAAAAAAAAAAAAAAAAAAAAAAAAAAAAAAAAAAAAAAAAAAAAAAAAAAAAAAAAAAAAAAAAAAAAAAAAAAAAAAAAAAAAAAAAAAAAAAAAAAAAAAAAAAAAAAAAAAAAAAAAAAAAAAAAAAAAAAAAAAAAAAAAAAAAAAAAAAAAAAAAAAAAAAAAAAAAAAAAAAAAAAAAAAAAAAAAAAAAAAAAAAAAAAAAAAAAAAAAAAAAAAAAAAAAAAAAAAAAAAAAAAAAAAAAAAAAAAAAAAAAAAAAAAAAAAAAAAAAAAAAAAAAAAAAAAAAAAAAAAAAAAAAAAAAAAAAAAAAAAAAAAAAAAAAAAAAAAAAAAAAAAAAAAAAAAAAAAAAAAAAAAAAAAAAAAAAAAAAAAAAAAAAAAAAAAAAAAAAAAAAAAAAAAAAAAAAAAAAAAAAAAAAAAAAAAAAAAAAAAAAAAAAAAAAAAAAAAAAAAAAAAAAAAAAAAAAAAAAAAAAAAAAAAAAAAAAAAAAAAAAAAAAAAAAAAAAAAAAAAAAAAAAAAAAAAAAAAAAAAAAAAAAAAAAAAAAAAAAAAAAAAAAAAAAAAAAAAAAAAAAAAAAAAAAAAAAAAAAAAAAAAAAAAAAAAAAAAAAAAAAAAAAAAAAAAAAAAAAAAAAAAAAAAAAAAAAAAAAAAAAAAAAAAAAAAAAAAAAAAAAAAAAAAAAAAAAAAAAAAAAAAAAAAAAAAAAAAAAAAAAAAAAAAAAAAAAAAAAAAAAAAAAAAAAAAAAAAAAAAAAAAAAAAAAAAAAAAAAAAAAAAAAAAAAAAAAAAAAAAAAAAAAAAAAAAAAAAAAAAAAAAAAAAAAAAAAAAAAAAAAAAAAAAAAAAAAAAAAAAAAAAAAAAAAAAAAAAAAAAAAAAAAAAAAAAAAAAAAAAAAAAAAAAAAAAAAAAAAAAAAAAAAAAAAAAAAAAAAAAAAAAAAAAAAAAAAAAAAAAAAAAAAAAAAAAAAAAAAAAAAAAAAAAAAAAAAAAAAAAAAAAAAAAAAAAAAAAAAAAAAAAAAAAAAAAAAAAAAAAAAAAAAAAAAAAAAAAAAAAAAAAAAAAAAAAAAAEAndOoAZLLT2SNM6AAAAAAAAAAAAAAAArde+u1D4HTXXYVw7LjIcNSAJjDn1DYC5AAAAAHRv6zupR4q77fvROwAAAAAAAAAAAAAAAGl0k7we+0E8aCjRO6giLTwohg07BGeDoZjq8R+o1z0jsIkuIsBE0rx5Bi4hrOAeIPiFsbsFopw9qCKgI1OH7SPBEt+5txEpJBH2IaOugOqes/T5ofm4l6LSHtS8t7D3IQSjRqHZioW7aeOSPbCCJ6TerVojP50hvcYObSQAAAAAAAAAABAJ3bqAGSw09kjTOgAAAAAAAAAAAAAAAK3XvrtQ+B2112Fcuy4yHDUgCYy59Q2AOQAAAAB0b+u7qUeKO+370TsAAAAAAAAAAAAAAABpdJO8HvtBvGgo0buoIi08KIYNuwAAAAAAAAAAAAAAAAAAAAAAAAAAAAAAAAAAAAAAAAAAAAAAAAAAAAAAAAAAAAAAAAAAAAAAAAAAAAAAAAAAAAAAAAAAAAAAAAAAAAAAAAAAAAAAAAAAAAAAAAAAAAAAAAAAAAAAAAAAAAAAAAAAAAAAAAAAAAAAAAAAAAAAAAAAAAAAAAAAAAAAAAAAAAAAAAAAAAAAAAAAAAAAAAAAAAAAAAAAAAAAAAAAAAAAAAAAAAAAAAAAAAAAAAAAAAAAAAAAAAAAAAAAAAAAAAAAAACV5Mi95K/mvEXpQKSab8S6sh9GPrkpeCEL6si4KBe1PWNOcSRXdZ2hJO/hPVqUxDuj9km+2G6BvQzTKrxzyc4inv63vYIKDD7As+SgLRP4vMdpQT10AUwiIkS0on1kETxskkM+icwYvpXkyD3kr+Y8yFaxoZpvxDqyH0Y+8X65oQvqyDgoF7U93hm0JFfO9iIk7+G9WpTEO6P2ST7YboE9DNMqPGNMFiSe/rc9ggoMPknhs6AtE/g8x2lBPQXijyOW62GifWQRvGySQz6JzBg+AAAAAAAAAAAAAAAAAAAAAAAAAAAAAAAAAAAAAAAAAAAAAAAAAAAAAAAAAAAAAAAAAAAAAAAAAAAAAAAAAAAAAAAAAAAAAAAAAAAAAAAAAAAAAAAAAAAAAAAAAAAAAAAAAAAAAAAAAAAAAAAAAAAAAAAAAAAAAAAAAAAAAAAAAAAAAAAAAAAAAAAAAAAAAAAAAAAAAAAAAAAAAAAAAAAAAAAAAAAAAAAAAAAAAAAAAAAAAAAAAAAAAAAAAAAAAAAAAAAAAAAAAAAAAAAAAAAAAAAAAAAAAAAAEAnduoAZLLT2SNM6AAAAAAAAAAAAAAAArde+O1D4HbXXYVw7LjIcNSAJjDn1DYC5AAAAAHRv67upR4q77fvROwAAAAAAAAAAAAAAAGl0kzwe+0G8aCjRO6giLTwohg071YYWISERgB/FKQGjWosnosBE0ryMnY0gblaKoPiFsbsFopy9wc0jIwNnJCTBEt+5+ZMVJNNAsaLgl5efLLvTI7HpLqTSHtS8cLXHoVhWjKHZioW7aeOSve2zMKRAVOsjP50hvV+ePSMAAAAAAAAAABAJ3TqAGSw09kjTOgAAAAAAAAAAAAAAAK3XvjtQ+B0112Fcuy4yHDUgCYy59Q2AOQAAAAB0b+s7qUeKO+370TsAAAAAAAAAAAAAAABpdJM8HvtBPGgo0buoIi08KIYNuwAAAAAAAAAAAAAAAAAAAAAAAAAAAAAAAAAAAAAAAAAAAAAAAAAAAAAAAAAAAAAAAAAAAAAAAAAAAAAAAAAAAAAAAAAAAAAAAAAAAAAAAAAAAAAAAAAAAAAAAAAAAAAAAAAAAAAAAAAAAAAAAAAAAAAAAAAAAAAAAAAAAAAAAAAAAAAAAAAAAAAAAAAAAAAAAAAAAAAAAAAAAAAAAAAAAAAAAAAAAAAAAAAAAAAAAAAAAAAAAAAAAAAAAAAAAAAAAAAAAAAAAAAAAAAAAAAAAAAAAAAAAAAAAAAAAAAAAAAAAAAAAAAAAAAAAAAAAAAAAAAAAAAAAAAAAAAAAAAAAAAAAAAAAAAAAAAAAAAAAAAAAAAAAAAAAAAAAAAAAAAAAAAAAAAAAAAAAAAAAAAAAAAAAAAAAAAAAAAAAAAAAAAAAAAAAAAAAAAAAAAAAAAAAAAAAAAAAAAAAAAAAAAAAAAAAAAAAAAAAAAAAAAAAAAAAAAAAAAAAAAAAAAAAAAAAAAAAAAAAAAAAAAAAAAAAAAAAAAAAAAAAAAAAAAAAAAAAAAAAAAAAAAAAAAAAAAAAAAAAAAAAAAAAAAAAAAAAAAAAAAAAAAAAAAAAAAAAAAAAAAAAAAAAAAAAAAAAAAAAAAAAAAAAAAAAAAAAAAAAAAAAAAAAAAAAAAAAAAAAAAAAAAAAAAAAAAAAAAAAAAAAAAAAAAAAAAAAAAAAAAAAAAAAAAAAAAAAAAAAAAAAAAAAAAAAAAAAAAAAAAAAAAAAAAAAAAAAAAAAAAAAAAAAAAAAAAAAAAAAAAAAAAAAAAAAAAAAAAAAAAAAAAAAAAAAAAAAAAAAAAAAAAAAAAAAAAAAAAAAAAAAAAAAAAAAAAAAAAAAAAAAAAAAAAAAAAAAAAAAAAAAAAAAAAAAAAAAAAAAAAAAAAAAAAAAAAAAAAAAAAAAAAAAAAAAAAAAAAAAAAAAAAAAAAAAAAAAAAAAAAAAAAAAAAAAAAAAAAAAAAAAAAAAAAAAAAAAAAAAAAAAAAAAAAAAAAAAAAAAAAAAAAAAAAAAAAAAAAAAAAAAAAAAAAAAAAAAAAAAAAAAAAAAAAAAAAAAAAAAAAAAAAAAAAAAAAAAAAAAAAAAAAAAAAAAAAAAAAAAAAAAAAAAAAAAAAAAAAAAAAAAAAAAAAAAAAAAAAAAAAAAAAAAAAAAAAAAAAAAAAAAAAAAAAAAAAAAAAAAAAAAAAAAAAAAAAAAAAAAAAAAAAAAAAAAAAAAAAAAAAAAAAAAAAAAAAAAAAAAAAAAAAAAAAAAAAAAAAAAAAAAAAAAAAAAAAAAAAAAAAAAAAAAAAAAAAAAAAAAAAAAAAAAAAAAAAAAAAAAAAAAAAAAAAAAAAAAAAAAAAAAAAAAAAAAAAAAAAAAAAAAAAAAAAAAAAAAAAAAAAAAAAAAAAAAAAAAAAAAAAAAAAAAAAAAAAAAAAAAAAAAAAAAAAAAAAAAAAAAAAAAAAAAAAAAAAAAAAAAAAAAAAAAAAAAAAAAAAAAAAAAAAAAAAAAAAAAAAAAAAAAAAAAAAAAAAAAAAAAAAAAAAAAAAAAAAAAAAAAAAAAAAAAAAAAAAAAAAAAAAAAAAAAAAAAAAAAAAAAAAAAAAAAAAAAAAAAAAAAAAAAAAAAAAAAAAAAAAAAAAAAAAAAAAAAAAAAAAAAAAAAAAAAAAAAAAAAAAAAAAAAAAAAAAAAAAAAAAAAAAAAAAAAAAAAACNkMq6AAAAAHnFWzx217E7tMA/PAAAAAAAAAAAAAAAABRGB73blnq82mZ+PHqfWrxz5pw7AAAAAAAAAABnia0dq+4NHrUTnbgAAAAAAAAAAAAAAAAVAY053cYBn8zatJ3JBo05f5tRHj+v6aPmM1uh3SS6JJSYTSTCSDu9vR4poWm3m6EWZD28723/PW8sriMASZEl0dk0PWAw2SQAAAAAAAAAAAAAAAAAAAAAAAAAAAAAAAAAAAAAAAAAAAAAAAAAAAAAAAAAAAAAAAAAAAAAjZDKOgAAAAB5xVu8dtexu7TAPzwAAAAAAAAAAAAAAAAURge925Z6PNpmfrx6n1q8c+acuwAAAAAAAAAAAAAAAAAAAAAAAAAAAAAAAAAAAAAAAAAAAAAAAAAAAAAAAAAAAAAAAAAAAAAAAAAAAAAAAAAAAAAAAAAAAAAAAAAAAAAAAAAAAAAAAAAAAAAAAAAAAAAAAAAAAAAAAAAAAAAAAAAAAAAAAAAAAAAAAAAAAAAAAAAAAAAAAAAAAAAAAAAAAAAAAAAAAAAAAAAAAAAAAAAAAAAAAAAAAAAAAAAAAAAAAAAAAAAAAAAAAAAAAAAAAAAAAAAAAAAAAAAAAAAAAAAAAAAAAAAAAAAAADQQYB0HOeA6X1LWOgAAAAAAAAAAAAAAAIHR2Ztf95adEXL+uk6rwbtnzDi7qV33vTOWLL1na+QkDODWPRDNfz45Ks6ix6dSPcYa6T1iKpQlImoZJcXkyz02tFC+mg2KvhHbqKMIY4Egli5II7Z69iRjPi698jPGoK9vCSIeBr67yFD7ok+VvaSBH+imbjUaPi6NGiatd9WnydXwpnQmgyZM7y6oo5r3v7I8UqZy2wCnyJMAwKAOiCdBr0Wna25LqlrfLD8tAswpAAAAAAAAAADkkpadBzngul9S1joAAAAAAAAAAAAAAADiV82dSuyNnBFy/jpOq8G7Z8w4O6ld9z0zliw9swOFJAzg1r0QzX8+scllIcenUr3GGuk9obKYJYLHxqTF5Mu9NrRQvpoNij4AAAAAAAAAAAAAAAAAAAAAAAAAAAAAAAAAAAAAAAAAAAAAAAAAAAAAAAAAAAAAAAAAAAAAAAAAAAAAAAAAAAAAAAAAAAAAAAAAAAAAAAAAAAAAAAAAAAAAAAAAAAAAAAAAAAAAAAAAAAAAAAAAAAAAAAAAAAAAAAAAAAAAAAAAAAAAAAAAAAAAAAAAAAAAAAAAAAAAAAAAAAAAAAAAAAAAAAAAAAAAAAAAAAAAAAAAAAAAAAAAAAAAAAAAAAAAAAAAAAAAAAAAAAAAAAAAAAAAAAAAAAAAAAAAAAAAAAAAAAAAAAAAAAAAAAAAAAAAAAAAAAAAAAAAAAAAAAAAAAAAAAAAAI2QyroAAAAAecVbvHbXsTu0wD88AAAAAAAAAAAAAAAAFEYHPduWejzaZn48ep9avHPmnDsAAAAAAAAAAMN1kZ0N6mEdtROduAAAAAAAAAAAAAAAABUBjbnvROgeuZXWnckGjTmk0MQdUCdxIzvCcKG9aRSle+gLo8JIO72u5iKiK4RyIRZkPbzvbf+9tLCepUE+CSXR2TQ9WfI4JQAAAAAAAAAAAAAAAAAAAAAAAAAAAAAAAAAAAAAAAAAAAAAAAAAAAAAAAAAAAAAAAAAAAACNkMo6AAAAAHnFWzx217G7tMA/PAAAAAAAAAAAAAAAABRGBz3blnq82mZ+vHqfWrxz5py7AAAAAAAAAAAAAAAAAAAAAAAAAAAAAAAAAAAAAAAAAAAAAAAAAAAAAAAAAAAAAAAAAAAAAAAAAAAAAAAAAAAAAAAAAAAAAAAAAAAAAAAAAAAAAAAAAAAAAAAAAAAAAAAAAAAAAAAAAAAAAAAAAAAAAAAAAAAAAAAAAAAAAAAAAAAAAAAAAAAAAAAAAAAAAAAAAAAAAAAAAAAAAAAAAAAAAAAAAAAAAAAAAAAAAAAAAAAAAAAAAAAAAAAAAAAAAAAAAAAAAAAAAAAAAAAAAAAAAAAAAAAAAAAAAAAAAAAAAAAAAAAAAAAAAAAAAAAAAAAAAAAAAAAAAAAAAAAAAAAAAAAAAAAAAAAAAAAAAAAAAAAAAAAAAAAAAAAAAAAAAAAAAAAAAAAAAAAAAAAAAAAAAAAAAAAAAAAAAAAAAAAAAAAAAAAAAAAAAAAAAAAAAAAAAAAAAAAAAAAAAAAAAAAAAAAAAAAAAAAAAAAAAAAAAAAAAAAAAAAAAAAAAAAAAAAAAAAAAAAAAAAAAAAAAAAAAAAAAAAAAAAAAAAAAAAAAAAAAAAAAAAAAAAAAAAAAAAAAAAAAAAAAAAAAAAAAAAAAAAAAAAAAAAAAAAAAAAAAAAAAAAAAAAAAAAAAAAAAAAAAAAAAAAAAAAAAAAAAAAAAAAAAAAAAAAAAAAAAAAAAAAAAAAAAAAAAAAAAAAAAAAAAAAAAAAAAAAAAAAAAAAAAAAAAAAAAAAAAAAAAAAAAAAAAAAAAAAAAAAAAAAAAAAAAAAAAAAAAAAAAAAAAAAAAAAAAAAAAAAAAAAAAAAAAAAAAAAAAAAAAAAAAAAAAAAAAAAAAAAAAAAAAAAAAAAAAAAAAAAAAAAAAAAAAAAAAAAAAAAAAAAAAAAAAAAAAAAAAAAAAAAAAAAAAAAAAAAAAAAAAAAAAAAAAAAAAAAAAAAAAAAAAAAAAAAAAAAAAAAAAAAAAAAAAAAAAAAAAAAAAAAAAAAAAAAAAAAAAAAAAAAAAAAAAAAAAAAAAAAAAAAAAAAAAAAAAAAAAAAAAAAAAAAAAAAAAAAAAAAAAAAAAAAAAAAAAAAAAAAAAAAAAAAAAAAAAAAAAAAAAAAAAAAAAAAAAAAAAAAAAAAAAAAAAAAAAAAAAAAAAAAAAAAAAAAAAAAAAAAAAAAAAAAAAAAAAAAAAAAAAAAAAAAAAAAAAAAAAAAAAAAAAAAAAAAAAAAAAAAAAAAAAAAAAAAAAAAAAAAAAAAAAAAAAAAAAAAAAAAAAAAAAAAAAAAAAAAAAAAAAAAAAAAAAAAAAAAAAAAAAAAAAAAAAAAAAAAAAAAAAAAAAAAAAAAAAAAAAAAAAAAAAAAAAAAAAAAAAAAAAAAAAAAAAAAAAAAAAAAAAAAAAAAAAAAAAAAAAAAAAAAAAAAAAAAAAAAAAAAAAAAAAAAAAAAAAAAAAAAAAAAAAAAAAAAAAAAAAAAAAAAAAAAAAAAAAAAAAAAAAAAAAAAAAAAAAAAAAAAAAAAAAAAAAAAAAAAAAAAAAAAAAAAAAAAAAAAAAAAAAAAAAAAAAAAAAAAAAAAAAAAAAAAAAAAAAAAAAAAAAAAAAAAAAAAAAAAAAAAAAAAAAAAAAAAAAAAAAAAAAAAAAAAAAAAAAAAAAAAAAAAAAAAAAAAAAAAAAAAAAAAAAAAAAAAAAAAAAAAAAAAAAAAAAAAAAAAAAAAAAAAAAAAAAAAAAAAAAAAAAAAAAAAAAAAAAAAAAAAAAAAAAAAAAAAAAAAAAAAAAAAAAAAAAAAAAAAAAAAAAAAAAAAAAAAAAAAAAAAAAAAAAAAAAAAAAAAAAAAAAAAAAAAAAAAAAAAAAAAAAAAAAAAAAAAAAAAAAAAAAAAAAAAAAAAAAAAAAAAAAAArVsyZrhVsGwlNh7YAAAAAAAAAAAAAAABWNjg30bgomypJu5q01oE3ypw5GwAAAAAAAAAAAAAAAAAAAAAAAAAAAAAAAAAAAAAAAAAAAAAAAAAAAAAAAAAAAAAAAAAAAAAAAAAAAAAAAAAAAAAAAAAAAAAAAAAAAAAAAAAAAAAAAAAAAAAAAAAAAAAAAAAAAAAAAAAAAAAAAAAAAAAAAAAAAAAAAAAAAAAAAAAAAAAAAAAAAAAAAAAAAAAAAAAAAAAAAAAAAAAAAAAAAAAAAAAAAAAAAAAAAAAAAAAAAAAAAAAAAAAAAAAAAAAAAAAAAAAAAAAAAAAAAAAAAAAAAAAAAAAAAAAAAAAAAAAAAAAAAAAAAAAAAAAAAAAAAAAAAAAAAAAAAAAAAAAAAAAAAAAAAAAAAAAAAAAAAAAAAAAAAAAAAAAAAAAAAAAAAAAAAAAAAAAAAAAAAAAAAAAAAAAAAAAAAAAAAAAAAAAAAAAAAAAAAAAAAAAAAAAAAAAAAAAAAAAAAAAAAAAAAAAAAAAAAAAAAAAAAAAAAAAAAAAAALfePhobnkA55mkEOQAAAAAAAAAAAAAAAJoORJtyuBSbB3CiuUIf/bltzy25AAAAAAAAAAAAAAAAAAAAAAAAAAAAAAAAAAAAAAAAAAAAAAAAAAAAAAAAAAAAAAAAAAAAAOjopqAAAAAA6o0HITXbMSKkxYq7aajlF3kWHJr1qha25pHHoIYi/KE5KYwmfUGMPIKaDKUAAAAAAAAAAAAAAAAAAAAAAAAAAAAAAAAAAAAAAAAAAAAAAAAAAAAAAAAAAAAAAAAAAAAAAAAAAAAAAACM7IuaG55AueZpBDkAAAAAAAAAAAAAAAD7RQcaeYYCmgdwojlCH/25bc8tOQAAAAAAAAAAAAAAAAAAAAAAAAAAAAAAAAAAAAAAAAAAAAAAAAAAAAAAAAAAAAAAAAAAAAAAAAAAAAAAAAAAAAAAAAAAAAAAAAAAAAAAAAAAAAAAAAAAAAAAAAAAAAAAAAAAAAAAAAAAAAAAAAAAAAAAAAAAAAAAAAAAAAAAAAAAAAAAAAAAAAAAAAAAAAAAAAAAAAAAAAAAAAAAAAAAAAAAAAAAAAAAAAAAAAAAAAAAAAAAAAAAAAAAAAAAAAAAAAAAAAAAAAAAAAAAAAAAAAAAAAAAAAAAAAAAAAAAAAAAAAAAAAAAAAAAAAAAAAAAAAAAAAAAAAAAAAAAAAAAAAAAAAAAAAAAAAAAAAAAAAAAAAAAAAAAAAAAAAAAAAAAAAAAAAAAAAAAAAAAAAAAAAAAAAAAAAAAAAAAAAAAAAAAAAAAAAAAAAAAAAAAAAAAAAAAAAAAAAAAAAAAAAAAAAAAAAAAAAAAAAAAAAAAAAAAAAAAAJ2C/pp/x7AaCU2HtgAAAAAAAAAAAAAAAFY2OLdrfKKYGocsGrTWgTc6twobAAAAAAAAAAAAAAAAAAAAAAAAAAAAAAAAAAAAAAAAAAAAAAAAAAAAAAAAAAAAAAAAAAAAAAAAAAAAAAAAAAAAAAAAAAAAAAAAAAAAAAAAAAAAAAAAAAAAAAAAAAAAAAAAAAAAAAAAAAAAAAAAAAAAAAAAAAAAAAAAAAAAAAAAAAAAAAAAAAAAAAAAAAAAAAAAAAAAAAAAAAAAAAAAAAAAAAAAAAAAAAAAAAAAAAAAAAAAAAAAAAAAAAAAAAAAAAAAAAAAAAAAAAAAAAAAAAAAAAAAAAAAAAAAAAAAAAAAAAAAAAAAAAAAAAAAAAAAAAAAAAAAAAAAAAAAAAAAAAAAAAAAAAAAAAAAAAAAAAAAAAAAAAAAAAAAAAAAAAAAAAAAAAAAAAAAAAAAAAAAAAAAAAAAAAAAAAAAAAAAAAAAAAAAAAAAAAAAAAAAAAAAAAAAAAAAAAAAAAAAAAAAAAAAAAAAAAAAAAAAAAAAAAAAAAAAAAAAAAAAAAAAAAAAAAAAAAAAAAAAAAAAAAAAAAAAAAAAAAAAAAAAAAAAAAAAAAAAAAAAAAAAAAAAAAAAAAAAAAAAAAAAAAAAAAAAAAAAAAAAAAAAAAAAAAAAAAAAAAAAAAAAAAAAAAAAAAAAAAAAAAAAAAAAAAAAAAAAAAAAAAAAAAAAAAAAAAAAAAAAAAAAAAAAAAAAAAAAAAAAAAAAAAAAAAAAAAAAAAAAAAAAAAAAAAAAAAAAAAAAAAAAAAAAAAAAAAAAAAAAAAAAAAAAAAAAAAAAAAAAAAAAAAAAAAAAAAAAAAAAAAAAAAAAAAAAAAAAAAAAAAAAAAAAAAAAAAAAAAAAAAAAAAAAAAAAAAAAAAAAAAAAAAAAAAAAAAAAAAAAAAAAAAAAAAAAAAAAAAAAAAAAAAAAAAAAAAAAAAAAAAAAAAAAAAAAAAAAAAAAAAAAAAAAAAAAAAAAAAAAAAAAAAAAAADopIgoZ+WrqKBLGD+XTU2p0dWQKLDOJkCJ7SCpFILCqPs4sinZ6i2/0lSsJ3RmqKifELSnYpVIpniLu6QrDmG/n6HUJ2QvXqaL5g2/R7dVJxYIxqRq3Kgo77fvv7RQjijuduAnTmldpQAAAAAAAAAAAAAAAAAAAAAAAAAAAAAAAAAAAAAAAAAAAAAAAAAAAAAAAAAAAAAAAAAAAAAAAAAAAAAAAAAAAAAAAAAAAAAAAAAAAAAAAAAAAAAAAAAAAAAAAAAAAAAAAAAAAAAAAAAAAAAAAAAAAAAAAAAAAAAAAAAAAAAAAAAAAAAAAAAAAAAAAAAAAAAAAAAAAAAAAAAAAAAAAAAAAAAAAAAAAAAAAAAAAAAAAAAAAAAAAAAAAAAAAAAAAAAAAAAAAAAAAAAAAAAAAAAAAAAAAAAAAAAAAAAAAAAAAAAAAAAAAAAAAAAAAAAAAAAAAAAAAAAAAAAAAAAAAAAAAAAAAAAAAAAAAAAAAAAAAAAAAAAAAAAAAAAAAAAAAAAAAAAAAAAAAAAAAAAAAAAAAAAAAAAAAAAAAAAAAAAAAAAAAAAAAAAAAAAAAAAAAAAAAAAAAAAAAAAAAAAAAAAAAAAAAAAAAAAAAAAAAAAAAAAAAAAAAAAAAAAAAAAAAAAAAAAAAAAAAAAAAAAAAAAAAAAAAAAAAAAAAAAAAAAAAAAAAAAAAAAAAAAAAAAAAAAAAAAAAAAAAAAAAAAAAAAAAAAAAAAAAAAAAAAAAAAAAAAAAAAAAAAAAAAAAAAAAAAAAAAAAAAAAAAAAAAAAAAAAAAAAAAAAAAAAAAAAAAAAAAAAAAAAAAAAAAAAAAAAAAAAAAAAAAAAAAAAAAAAAAAAAAAAAAAAAAAAAAAAAAAAAAAAAAAAAAAAAAAAAAAAAAAAAAAAAAAAAAAAAAAAAAAAAAAAAAAAAAAAAAAAAAAAAAAAAAAAAAAAAAAAAAAAAAAAAAAAAAAAAAAAAAAAAAAAAAAAAAAAAAAAAAAAAAAAAAAAAAAAAAAAAAAAAAAAAAAAAAAAAAAAAAAAAAAAAAAAAAAAAAAAAAAAAAAAAAAAAAAAAAAAAAAAAAAAAAAAAAAAAAAAAAAAAAAAAAAAAAAAAAAAAAAAAAAAAAAAAAAAAAAAAAAAAAAAAAAAAAAAAAAAAAAAAAAAAAAAAAAAAAAAAAAAAAAAAAAAAAAAAAAAAAAAAAAAAAAAAAAAAAAAAAAAAAAAAAAAAAAAAAAAAAAAAAAAAAAAAAAAAAAAAAAAAAAAAAAAAAAAAAAAAAAAAAAAAAAAAAAAAAAAAAAAAAAAAAAAAAAAAAAAAAAAAAAAAAAAAAAAAAAAAAAAAAAAAAAAAAAAAAAAAAAAAAAAAAAAAAAAAAAAAAAAAAAAAAAAAAAAAAAAAAAAAAAAAAAAAAAAAAAAAAAAAAAAAAAAAAAAAAAAAAAAAAAAAAAAAAAAAAAAAAAAAAAAAAAAAAAAAAAAAAAAAAAAAAAAAAAAAAAAAAAAAAAAAAAAAAAAAAAAAAAAAAAAAAAAAAAAAAAAAAAAAAAAAAAAAAAAAAAAAAAAAAAAAAAAAAAAAAAAAAAAAAAAAAAAAAAAAAAAAAAAAAAAAAAAAAAAAAAAAAAAAAAAAAAAAAAAAAAAAAAAAAAAAAAAAAAAAAAAAAAAAAAAAAAAAAAAAAAAAAAAAAAAAAAAAAAAAAAAAAAAAAAAAAAAAAAAAAAAAAAAAAAAAAAAAAAAAAAAAAAAAAAAAAAAAAAAAAAAAAAAAAAAAAAAAAAAAAAAAAAAAAAAAAAAAAAAAAAAAAAAAAAAAAAAAAAAAAAAAAAAAAAAAAAAAAAAAAAAAAAAAAAAAAAAAAAAAAAAAAAAAAAAAAAAAAAAAAAAAAAAAAAAAAAAAAAAAAAAAAAAAAAAAAAAAAAAAAAAAAAAAAAAAAAAAAAAAAAAAAAAAAAAAAAAAAAAAAAAAAAAAAAAAAAAAAAAAAAAAAAAAAAAAAAAAAAAAAAAAAAAAAAAAAAAAAAAAAAAAAAAAAAAAAAAAAAAAAAAAAAAAAAAAAAAAAAAAAAAAAAAAAAAAAAAAAAAAAAAAAAAAAAAAAAAAAAAAAAAAAAAAAAAAAAAAAAAAAAAAAAAAAAAAAAAAAAAAAAAAAAAAAAAAAAAAAAAAAAAAAAAAAAAAAAAAAAAAAAAAAAAAAAAAAAAAAAAAAAAAAAAAAAAAAAAAAAAAAAAAAAAAAAAAAAAAAAAAAAAAAAAAAAAAAAAAAAAAAAAAAAAAAAAAAAAAAAAAAAAAAAAAAAAAAAAAAAAAAAAAAAAAAAAAAAAAAAAAAAAAAAAAAAAAAAAAAAAAAAAAAAAAAAAAAAAAAAAAAAAAAAAAAAAAAAAAAAAAAAAAAAAAAAAAAAAAAAAAAAAAAAAAAAAAAAAAAAAAAAAAAAAAAAAAAAAAAAAAAAAAAAAAAAAAAAAAAAAAAAAAAAAAAAAAAAAAAAAAAAAAAAAAAAAAAAAAAAAAAAAAAAAAAAAAAAAAAAAAAAAAAAAAAAAAAAAAAAAAAAAAAAAAAAAAAAAAAAAAAAAAAAAAAAAAAAAAAAAAAAAAAAAAAAAAAAAAAAAAAAAAAAAAAAAAAAAAAAAAAAAAAAAAAAAAAAAAAAAAAAAAAAAAAAAAAAAAAAAAAAAAAAAAAAAAAAAAAAAAAAAAAAAAAAAAAAAAAAAAAAAAAAAAAAAAAAAAAAAAAAAAAAAAAAAAAAAAAAAAAAAAAAAAAAAAAAAAAAAAAAAAAAAAAAAAAAAAAAAAAAAAAAAAAAAAAAAAAAAAAAAAAAAAAAAAAAAAAAAAAAAAAAAAAAAAAAAAAAAAAAAAAAAAAAAAAAAAAAAAAAAAAAAAAAAAAAAAAAAAAAAAAAAAAAAAAAAAAAAAAAAAAAAAAAAAAAAAAAAAAAAAAAAAAAAAAAAAAAAAAAAAAAAAAAAAAAAAAAAAAAAAAAAAAAAAAAAAAAAAAAAAAAAAAAAAAAAAAAAAAAAAAAAAAAAAAAAAAAAAAAAAAAAAAAAAAAAAAAAAAAAAAAAAAAAAAAAAAAAAAAAAAAAAAAAAAAAAAAAAAAAAAAAAAAAAAAAAAAAAAAAAAAAAAAAAAAAAAAAAAAAAAAAAAAAAAAAAAAAAAAAAAAAAAAAAAAAAAAAAAAAAAAAAAAAAAAAAAAAAAAAAAAAAAAAAAAAAAAAAAAAAAAAAAAAAAAAAAAAAAAAAAAAAAAAAAAAAAAAAAAAAAAAAAAAAAAAAAAAAAAAAAAAAAAAAAAAAAAAAAAAAAAAAAAAAAAAAAAAAAAAAAAAAAAAAAAAAAAAAAAAAAAAAAAAAAAAAAAAAAAAAAAAAAAAAAAAAAAAAAAAAAAAAAAAAAAAAAAAAAAAAAAAAAAAAAAAAAAAAAAAAAAAAAAAAAAAAAAAAAAAAAAAAAAAAAAAAAAAAAAAAAAAAAAAAAAAAAAAAAAAAAAAAAAAAAAAAAAAAAAAAAAAAAAAAAAAAAAAAAAAAAAAAAAAAAAAAAAAAAAAAAAAAAAAAAAAAAAAAAAAAAAAAAAAAAAAAAAAAAAAAAAAAAAAAAAAAAAAAAAAAAAAAAAAAAAAAAAAAAAAAAAAAAAAAAAAAAAAAAAAAAAAAAAAAAAAAAAAAAAAAAAAAAAAAAAAAAAAAAAAAAAAAAAAAAAAAAAAAAAAAAAAAAAAAAAAAAAAAAAAAAAAAAAAAAAAAAAAAAAAAAAAAAAAAAAAAAAAAAAAAAAAAAAAAAAAAAAAAAAAAAAAAAAAAAAAAAAAAAAAAAAAAAAAAAAAAAAAAAAAAAAAAAAAAAAAAAAAAAAAAAAAAAAAAAAAAAAAAAAAAAAAAAAAAAAAAAAAAAAAAAAAAAAAAAAAAAAAAAAAAAAAAAAAAAAAAAAAAAAAAAAAAAAAAAAAAAAAAAAAAAAAAAAAAAAAAAAAAAAAAAAAAAAAAAAAAAAAAAAAAAAAAAAAAAAAAAAAAAAAAAAAAAAAAAAAAAAAAAAAAAAAAAAAAAAAAAAAAAAAAAAAAAAAAAAAAAAAAAAAAAAAAAAAAAAAAAAAAAAAAAAAAAAAAAAAAAAAAAAAAAAAAAAAAAAAAAAAAAAAAAAAAAAAAAAAAAAAAAAAAAAAAAAAAAAAAAAAAAAAAAAAAAAAAAAAAAAAAAAAAAAAAAAAAAAAAAAAAAAAAAAAAAAAAAAAAAAAAAAAAAAAAAAAAAAAAAAAAAAAAAAAAAAAAAAAAAAAAAAAAAAAAAAAAAAAAAAAAAAAAAAAAAAAAAAAAAAAAAAAAAAAAAAAAAAAAAAAAAAAAAAAAAAAAAAAAAAAAAAAAAAAAAAAAAAAAAAAAAAAAAAAAAAAAAAAAAAAAAAAAAAAAAAAAAAAAAAAAAAAAAAAAAAAAAAAAAAAAAAAAAAAAAAAAAAAAAAAAAAAAAAAAAAAAAAAAAAAAAAAAAAAAAAAAAAAAAAAAAAAAAAAAAAAAAAAAAAAAAAAAAAAAAAAAAAAAAAAAAAAAAAAAAAAAAAAAAAAAAAAAAAAAAAAAAAAAAAAAAAAAAAAAAAAAAAAAAAAAAAAAAAAAAAAAAAAAAAAAAAAAAAAAAAAAAAAAAAAAAAAAAAAAAAAAAAAAAAAAAAAAAAAAAAAAAAAAAAAAAAAAAAAAAAAAAAAAAAAAAAAAAAAAAAAAAAAAAAAAAAAAAAAAAAAAAAAAAAAAAAAAAAAAAAAAAAAAAAAAAAAAAAAAAAAAAAAAAAAAAAAAAAAAAAAAAAAAAAAAAAAAAAAAAAAAAAAAAAAAAAAAAAAAAAAAAAAAAAAAAAAAAAAAAAAAAAAAAAAAAAAAAAAAAAAAAAAAAAAAAAAAAAAAAAAAAAAAAAAAAAAAAAAAAAAAAAAAAAAAAAAAAAAAAAAAAAAAAAAAAAAAAAAAAAAAAAAAAAAAAAAAAAAAAAAAAAAAAAAAAAAAAAAAAAAAAAAAAAAAAAAAAAAAAAAAAAAAAAAAAAAAAAAAAAAAAAAAAAAAAAAAAAAAAAAAAAAAAAAAAAAAAAAAAAAAAAAAAAAAAAAAAAAAAAAAAAAAAAAAAAAAAAAAAAAAAAAAAAAAAAAAAAAAAAAAAAAAAAAAAAAAAAAAAAAAAAAAAAAAAAAAAAAAAAAAAAAAAAAAAAAAAAAAAAAAAAAAAAAAAAAAAAAAAAAAAAAAAAAAAAAAAAAAAAAAAAAAAAAAAAAAAAAAAAAAAAAAAAAAAAAAAAAAAAAAAAAAAAAAAAAAAAAAAAAAAAAAAAAAAAAAAAAAAAsFUDnwAAAAAeBr676UsZovIzxqBkOUA0AAAAAAAAAAA5Yo+ljablvLK5QaOshsihrmp4oAAAAAAAAAAAtk+AMQAAAAAAAAAAAAAAAAAAAAAAAAAA0DxQGzH2kzIAAAAAAAAAAAAAAAAAAAAAAAAAAAAAAAAAAAAAAAAAAAAAAAAAAAAAAAAAAAAAAAAAAAAAAAAAAAAAAAAAAAAAAAAAAAAAAAAAAAAAAAAAAAAAAAAAAAAAAAAAAAAAAAAAAAAAAAAAAAAAAAAAAAAAAAAAAAAAAAAAAAAAAAAAAAAAAAAAAAAAAAAAAAAAAAAAAAAAAAAAAAAAAAAAAAAAAAAAAAAAAAAAAAAAAAAAAAAAAAAAAAAAAAAAAAAAAAAAAAAAAAAAAAAAAAAAAAAAAAAAAAAAAAAAAAAAAAAAAAAAAAAAAAAAAAAAAAAAAAAAAAAAAAAAAAAAAAAAAAAAAAAAAAAAAAAAAAAAAAAAAAAAAAAAAAAAAAAAAAAAAAAAAAAAAAAAAAAAAAAAAAAAAAAAAAAAAAAAAAAAAAAAAAAAAAAAAAAAAAAAAAAAAAAAAAAAAAAAAAAAAAAAAAAAAAAAAAAAAAAAAAAAAAAAAAAAAAAAAAAAAAAAAAAAAAAAAAAAAAAAAAAAAAAAAAAAAAAAAAAAAAAAAAAAAAAAAAAAAAAAAAAAAAAAAAAAAAAAAAAAAAAAAAAAAAAAAAAAAAAAAAAAAAAAAAAAAAAAAAAAAAAAAAAAAAAAAAAAAAAAAAAAAAAAAAAAAAAAAAAAAAAAAAAAAAAAAAAAAAAAAAAAAAAAAAAAAAAAAAAAAAAAAAAAAAAAAAAAAAAAAAAAAAAAAAAAAAAAAAAAAAAAAAAAAAAAAAAAAAAAAAAAAAAAAAAAAAAAAAAAAAAAAAAAAAAAAAAAAAAAAAAAAAAAAAAAAAAAAAAAAAAAAAAAAAAAAAAAAAAAAAAAAAAAAAAAAAAAAAAAAAAAAAAAAAAAAAAAAAAAAAAAAAAAAAAAAAAAAAAAAAAAAAAAAAAAAAAAAAAAAAAAAAAAAAAAAAAAAAAAAAAAAAAAAAAAAAAAAAAAAAAAAAAAAAAAAAAAAAAAAAAAAAAAAAAAAAAAAAAAAAAAAAAAAAAAAAAAAAAAAAAAAAAAAAAAAAAAAAAAAAAAAAAAAAAAAAAAAAAAAAAAAAAAAAAAAAAAAAAAAAAAAAAAAAAAAAAAAAAAAAAAAAAAAAAAAAAAAAAAAAAAAAAAAAAAAAAAAAAAAAAAAAAAAAAAAAAAAAAAAAAAAAAAAAAAAAAAAAAAAAAAAAAAAAAAAAAAAAAAAAAAAAAAAAAAAAAAAAAAAAAAAAAAAAAAAAAAAAAAAAAAAAAAAAAAAAAAAAAAAAAAAAAAAAAAAAAAAAAAAAAAAAAAAAAAAAAAAAAAAAAAAAAAAAAAAAAAAAAAAAAAAAAAAAAAAAAAAAAAAAAAAAAAAAAAAAAAAAAAAAAAAAAAAAAAAAAAAAAAAAAAAAAAAAAAAAAAAAAAAAAAAAAAAAAAAAAAAAAAAAAAAAAAAAAAAAAAAAAAAAAAAAAAAAAAAAAAAAAAAAAAAAAAAAAAAAAAAAAAAAAAAAAAAAAAAAAAAAAAAAAAAAAAAAAAAAAAAAAAAAAAAAAAAAAAAAAAAAAAAAAAAAAAAAAAAAAAAAAAAAAAAAAAAAAAAAAAAAAAAAAAAAAAAAAAAAAAAAAAAAAAAAAAAAAAAAAAAAAAAAAAAAAAAAAAAAAAAAAAAAAAAAAAAAAAAAAAAAAAAAAAAAAAAAAAAAAAAAAAAAAAAAAAAAAAAAAAAAAAAAAAAAAAAAAAAAAAAAAAAAAAAAAAAAAAAAAAAAAAAAAAAAAAAAAAAAAAAAAAAAAAAAAAAAAAAAAAAAAAAAAAAAAAAAAAAAAAAAAAAAAAAAAAAAAAAAAAAAAAAAAAAAAAAAAAAAAAAAAAAAAAAAAAAAAAAAAAAAAAAAAAAAAAAAAAAAAAAAAAAAAAAAAAAAAAAAAAAAAAAAAAAAAAAAAAAAAAAAAAAAAAAAAAAAAAAAAAAAAAAAAAAAAAAAAAAAAAAAAAAAAAAAAAAAAAAAAAAAAAAAAAAAAAAAAAAAAAAAAAAAAAAAAAAAAAAAAAAAAAAAAAAAAAAAAAAAAAAAAAAAAAAAAAAAAAAAAAAAAAAAAAAAAAAAAAAAAAAAAAAAAAAAAAAAAAAAAAAAAAAAAAAAAAAAAAAAAAAAAAAAAAAAAAAAAAAAAAAAAAAAAAAAAAAAAAAAAAAAAAAAAAAAAAAAAAAAAAAAAAAAAAAAAAAAAAAAAAAAAAAAAAAAAAAAAAAAAAAAAAAAAAAAAAAAAAAAAAAAAAAAAAAAAAAAAAAAAAAAAAAAAAAAAAAAAAAAAAAAAAAAAAAAAAAAAAAAAAAAAAAAAAAAAAAAAAAAAAAAAAAAAAAAAAAAAAAAAAAAAAAAAAAAAAAAAAAAAAAAAAAAAAAAAAAAAAAAAAAAAAAAAAAAAAAAAAAAAAAAAAAAAAAAAAAAAAAAAAAAAAAAAAAAAAAAAAAAAAAAAAAAAAAAAAAAAAAAAAAAAAAAAAAAAAAAAAAAAAAAAAAAAAAAAAAAAAAAAAAAAAAAAAAAAAAAAAAAAAAAAAAAAAAAAAAAAAAAAAAAAAAAAAAAAAAAAAAAAAAAAAAAAAAAAAAAAAAAAAAAAAAAAAAAAAAAAAAAAAAAAAAAAAAAAAAAAAAAAAAAAAAAAAAAAAAAAAAAAAAAAAAAAAAAAAALpAu7sAAAAAKBe1PfRUSriMnY0gAAAAAAAAAAAAAAAANRuAogYbfjlRKfI9GTzbn6/LUT7VlSO8AAAAAP6n0j1Sboi9cCHmIRuPGjfpd7e2/f6AlXY0E6JjgGg+k/GBPK99GyMsfzI+AAAAAAAAAAAAAAAAAAAAAAAAAAAAAAAAAAAAAAAAAAAAAAAAAAAAAAAAAAAAAAAAAAAAAAAAAAAAAAAAAAAAAAAAAAAAAAAAAAAAAAAAAAAAAAAAAAAAAAAAAAAAAAAAAAAAAAAAAAAAAAAAAAAAAAAAAAAAAAAAAAAAAAAAAAAAAAAAAAAAAAAAAAAAAAAAAAAAAAAAAAAAAAAAAAAAAAAAAAAAAAAAAAAAAAAAAAAAAAAAAAAAAAAAAAAAAAAAAAAAAAAAAAAAAAAAAAAAAAAAAAAAAAAAAAAAAAAAAAAAAAAAAAAAAAAAAAAAAAAAAAAAAAAAAAAAAAAAAAAAAAAAAAAAAAAAAAAAAAAAAAAAAAAAAAAAAAAAAAAAAAAAAAAAAAAAAAAAAAAAAAAAAAAAAAAAAAAA/VdFmwAAAAD4hbG72mxtIPF+uaEAAAAAAAAAAAAAAACmA9Y8bAgGt0lo7SH6ygehwWCBIOzz2Z4AAAAA+nYyvFMi4CJp4L8j8Rdas/6MWJZQXKIWiGIiPTWhvrxbuVwiFWZMpDgtm6MhVW4dAAAAAPiFsbvDO52fuSl4IQAAAAAAAAAAAAAAAKYD1rxsCAa3EMUkoYI+syFGHkGipVfmHgAAAAD6djK8aTYEI1QFEaTxF1qzlRS4liF7CpeIYiK9NaG+vNJIKyJBneIjCOLiowAAAAAAAAAAAAAAAAAAAAAAAAAAAAAAAAAAAAAAAAAAAAAAAAAAAAAAAAAAAAAAAAAAAAAAAAAAAAAAAAAAAAAAAAAAAAAAAAAAAAAAAAAAAAAAAAAAAAAAAAAAAAAAAAAAAAAAAAAAAAAAAAAAAAAAAAAAAAAAAAAAAAAAAAAAAAAAAAAAAAAAAAAAAAAAAAAAAAAAAAAAAAAAAAAAAAAAAAAAAAAAAAAAAAAAAAAAAAAAAAAAAAAAAAAAAAAAAAAAAAAAAAAAAAAAAAAAAAAAAAAAAAAAAAAAAAAAAAAAAAAAAAAAAAAAAAAAAAAAAAAAAAAAAAAAAAAAAAAAAAAAAAAAAAAAAAAAAAAAAAAAAAAAAAAAAAAAAAAAAAAAAAAAAAAAAAAAAAAAAAAAAAAAAAAAAAAAALpAuzsAAAAAKBe1PfRUSjh5Bi4hAAAAAAAAAAAAAAAAInzGoAYbfjlRKfK9Zd4MIK/LUb7VlSM8AAAAAP6n0j1Sbog9jrHcohuPGjfpd7c2AeKWlh8iDaNjgGg+k/GBvEQxoiIsfzK+AAAAAAAAAAAAAAAAAAAAAAAAAAAAAAAAAAAAAAAAAAAAAAAAAAAAAAAAAAAAAAAAAAAAAAAAAAAAAAAAAAAAAAAAAAAAAAAAAAAAAAAAAAAAAAAAAAAAAAAAAAAAAAAAAAAAAAAAAAAAAAAAAAAAAAAAAAAAAAAAAAAAAAAAAAAAAAAAAAAAAAAAAAAAAAAAAAAAAAAAAAAAAAAAAAAAAAAAAAAAAAAAAAAAAAAAAAAAAAAAAAAAAAAAAAAAAAAAAAAAAAAAAAAAAAAAAAAAAAAAAAAAAAAAAAAAAAAAAAAAAAAAAAAAAAAAAAAAAAAAAAAAAAAAAAAAAAAAAAAAAAAAAAAAAAAAAAAAAAAAAAAAAAAAAAAAAAAAAAAAAAAAAAAAAAAAAAAAAAAAAAAAAAAAAAAAAAAAAAAAAAAAAAAAAAAAAAAAAAAAAAAAAAAAAAAAAAAAAAAAAAAAAAAAAAAAAAAAAAAAAAAAAAAAAAAAAAAAAAAAAAAAAAAAAAAAAAAAAAAAAAAAAAAAAAAAAAAAAAAAAAAAAAAAAAAAAAAAAAAAAAAAAAAAAAAAAAAAAAAAAAAAAAAAAAAAAAAAAAAAAAAAAAAAAAAAAAAAAAAAAAAAAAAAAAAAAAAAAAAAAAAAAAAAAAAAAAAAAAAAAAAAAAAAAAAAAAAAAAAAAAAAAAAAAAAAAAAAAAAAAAAAAAAAAAAAAAAAAAAAAAAAAAAAAAAAAAAAAAAAAAAAAAAAAAAAAAAAAAAAAAAAAAAAAAAAAAAAAAAAAAAAAAAAAAAAAAAAAAAAAAAAAAAAAAAAAAAAAAAAAAAAAAAAAAAAAAAAAAAAAAAAAAAAAAAAAAAAAAAAAAAAAAAAAAAAAAAAAAAAAAAAAAAAAAAAAAAAAAAAAAAAAAAAAAAAAAAAAAAAAAAAAAAAAAAAAAAAAAAAAAAAAAAAAAAAAAAAAAAAAAAAAAAAAAAAAAAAAAAAAAAAAAAAAAAAAAAAAAAAAAAAAAAAAAAAAAAAAAAAAAAAAAAAAAAAAAAAAAAAAAAAAAAAAAAAAAAAAAAAAAAAAAAAAAAAAAAAAAAAAAAAAAAAAAAAAAAAAAAAAAAAAAAAAAAAAAAAAAAAAAAAAAAAAAAAAAAAAAAAAAAAAAAAAAAAAAAAAAAAAAAAAAAAAAAAAAAAAAAAAAAAAAAAAAAAAAAAAAAAAAAAAAAAAAAAAAAAAAAAAAAAAAAAAAAAAAAAAAAAAAAAAAAAAAAAAAAAAAAAAAAAAAAAAAAAAAAAAAAAAAAAAAAAAAAAAAAAAAAAAAAAAAAAAAAAAAAAAAAAAAAAAAAAAAAAAAAAAAAAAAAAAAAAAAAAAAAAAAAAAAAAAAAAAAAAAAAAAAAAAAAAAAAAAAAAAAAAAAAAAAAAAAAAAAAAAAAAAAAAAAAAAAAAAAAAAAAAAAAAAAAAAAAAAAAAAAAAAAAAAAAAAAAAAAAAAAAAAAAAAAAAAAAAAAAAAAAAAAAAAAAAAAAAAAAAAAAAAAAAAAAAAAAAAAAAAAAAAAAAAAAAAAAAAAAAAAAAAAAAAAAAAAAAAAAAAAAAAAAAAAAAAAAAAAAAAAAAAAAAAAAAAAAAAAAAAAAAAAAAAAAAAAAAAAAAAAAAAAAAAAAAAAAAAAAAAAAAAAAAAAAAAAAAAAAAAAAAAAAAAAAAAAAAAAAAAAAAAAAAAAAAAAAAAAAAAAAAAAAAAAAAAAAAAAAAAAAAAAAAAAAAAAAAAAAAAAAAAAAAAAAAAAAAAAAAAAAAAAAAAAAAAAAAAAAAAAAAAAAAAAAAAAAAAAAAAAAAAAAAAAAAAAAAAAAAAAAAAAAAAAAAAAAAAAAAAAAAAAAAAAAAAAAAAAAAAAAAAAAAAABnKpc4keL7NwSymTgAAAAAAAAAAAAAAACuqXi54cLLuAEe7jgmNM+4dW6GtgAAAAAAAAAAAAAAAAAAAAAAAAAAAAAAAAAAAAAAAAAAAAAAAAAAAAAAAAAAAAAAAAAAAAC/tCW9AAAAAOGlYj72osg9GocDok+7czuAO8w69eSGnd+tS6NJIK6+eNkIPodbJSPUccQ+AAAAAAAAAAAAAAAAAAAAAAAAAAAAAAAAAAAAAAAAAAAAAAAAAAAAAAAAAAAAAAAAAAAAAAAAAAAAAAAAZyqXOJHi+zcEspm4AAAAAAAAAAAAAAAArql4OeHCy7gBHu44JjTPOHVuhrYAAAAAAAAAAAAAAAAAAAAAAAAAAAAAAAAAAAAAAAAAAAAAAAAAAAAAAAAAAAAAAAAAAAAAAAAAAAAAAAAAAAAAAAAAAAAAAAAAAAAAAAAAAAAAAAAAAAAAAAAAAAAAAAAAAAAAAAAAAAAAAAAAAAAAAAAAAAAAAAAAAAAAAAAAAAAAAAAAAAAAAAAAAAAAAAAAAAAAAAAAAAAAAAAAAAAAAAAAAAAAAAAAAAAAAAAAAAAAAAAAAAAAAAAAAAAAAAAAAAAAAAAAAAAAAAAAAAAAAAAAAAAAAAAAAAAAAAAAAAAAAAAAAAAAAAAAAAAAAAAAAAAAAAAAAAAAAAAAAAAAAAAAAFy1k6AAAAAAfd3bvFp5OCMNsial7/ayuHdUehu3oX2dudfOPZwvJT2wYhCk+eKPJYBlDCX9hf8fAAAAAIq/3buG4GKi6/WgIWQ5QDQAAAAAAAAAAEmZiiXAtgY9ogGSJA5+myHgG7wg3AKvp0bUbSY2Jh/A88OVp678UieLiwzA/BZqqO8jJKeJi44pMG4uQGofDKnG/vOmb1y4IwAAAAAAAAAAAAAAAAAAAAAAAAAAAAAAAAAAAAAAAAAAAAAAAAAAAAAAAAAAAAAAAAAAAAB+7V4hAAAAAH3d27wh2oGiIV64pO/2srgMONSbadsrG7nXzr2cLyU92DQ9JCodEyQJfaMkAAAAAAAAAAAAAAAAAAAAAAAAAAAAAAAAAAAAAAAAAAAAAAAAAAAAAAAAAAAAAAAAAAAAAAAAAAAAAAAAAAAAAAAAAAAAAAAAAAAAAAAAAAAAAAAAAAAAAAAAAAAAAAAAAAAAAAAAAAAAAAAAAAAAAAAAAAAAAAAAAAAAAAAAAAAAAAAAAAAAAAAAAAAAAAAAAAAAAAAAAAAAAAAAAAAAAAAAAAAAAAAAAAAAAAAAAAAAAAAAAAAAAAAAAAAAAAAAAAAAAAAAAAAAAAAAAAAAAAAAAAAAAAAAAAAAAAAAAAAAAAAAAAAAAAAAAAAAAAAAAAAAAAAAAAAAAAAAAAAAAAAAAAAAAAAAAAAAAGcqlziR4vu3BLKZuAAAAAAAAAAAAAAAAK6peLnhwsu4AR7uuCY0zzh1boY2AAAAAAAAAAAAAAAAAAAAAAAAAAAAAAAAAAAAAAAAAAAAAAAAAAAAAAAAAAAAAAAAAAAAAL+0JT0AAAAA4aViPvaiyL3WcyWjT7tzO4A7zLqXws8dpWEBpUkgrr542Qi+zufAotRxxL4AAAAAAAAAAAAAAAAAAAAAAAAAAAAAAAAAAAAAAAAAAAAAAAAAAAAAAAAAAAAAAAAAAAAAAAAAAAAAAABnKpc4keL7twSymTgAAAAAAAAAAAAAAACuqXg54cLLuAEe7rgmNM+4dW6GNgAAAAAAAAAAAAAAAAAAAAAAAAAAAAAAAAAAAAAAAAAAAAAAAAAAAAAAAAAAAAAAAAAAAAAAAAAAAAAAAAAAAAAAAAAAAAAAAAAAAAAAAAAAAAAAAAAAAAAAAAAAAAAAAAAAAAAAAAAAAAAAAAAAAAAAAAAAAAAAAAAAAAAAAAAAAAAAAAAAAAAAAAAAAAAAAAAAAAAAAAAAAAAAAAAAAAAAAAAAAAAAAAAAAAAAAAAAAAAAAAAAAAAAAAAAAAAAAAAAAAAAAAAAAAAAAAAAAAAAAAAAAAAAAAAAAAAAAAAAAAAAAAAAAAAAAAAAAAAAAAAAAAAAAAAAAAAAAAAAAAAAAAAAAAAAAAAAAAAAAAAAAAAAAAAAAAAAAAAAAAAAAAAAAAAAAAAAAAAAAAAAAAAAAAAAAAAAAAAAAAAAAAAAAAAAAAAAAAAAAAAAAAAAAAAAAAAAAAAAAAAAAAAAAAAAAAAAAAAAAAAAAAAAAAAAAAAAAAAAAAAAAAAAAAAAAAAAAAAAAAAAAAAAAAAAAAAAAAAAAAAAAAAAAAAAAAAAAAAAAAAAAAAAAAAAAAAAAAAAAAAAAAAAAAAAAAAAAAAAAAAAAAAAAAAAAAAAAAAAAAAAAAAAAAAAAAAAAAAAAAAAAAAAAAAAAAAAAAAAAAAAAAAAAAAAAAAAAAAAAAAAAAAAAAAAAAAAAAAAAAAAAAAAAAAAAAAAAAAAAAAAAAAAAAAAAAAAAAAAAAAAAAAAAAAAAAAAAAAAAAAAAAAAAAAAAAAAAAAAAAAAAAAAAAAAAAAAAAAAAAAAAAAAAAAAAAAAAAAAAAAAAAAAAAAAAAAAAAAAAAAAAAAAAAAAAAAAAAAAAAAAAAAAAAAAAAAAAAAAAAAAAAAAAAAAAAAAAAAAAAAAAAAAAAAAAAAAAAAAAAAAAAAAAAAAAAAAAAAAAAAAAAAAAAAAAAAAAAAAAAAAAAAAAAAAAAAAAAAAAAAAAAAAAAAAAAAAAAAAAAAAAAAAAAAAAAAAAAAAAAAAAAAAAAAAAAAAAAAAAAAAAAAAAAAAAAAAAAAAAAAAAAAAAAAAAAAAAAAAAAAAAAAAAAAAAAAAAAAAAAAAAAAAAAAAAAAAAAAAAAAAAAAAAAAAAAAAAAAAAAAAAAAAAAAAAAAAAAAAAAAAAAAAAAAAAAAAAAAAAAAAAAAAAAAAAAAAAAAAAAAAAAAAAAAAAAAAAAAAAAAAAAAAAAAAAAAAAAAAAAAAAAAAAAAAAAAAAAAAAAAAAAAAAAAAAAAAAAAAAAAAAAAAAAAAAAAAAAAAAAAAAAAAAAAAAAAAAAAAAAAAAAAAAAAAAAAAAAAAAAAAAAAAAAAAAAAAAAAAAAAAAAAAAAAAAAAAAAAAAAAAAAAAAAAAAAAAAAAAAAAAAAAAAAAAAAAAAAAAAAAAAAAAAAAAAAAAAAAAAAAAAAAAAAAAAAAAAAAAAAAAAAAAAAAAAAAAAAAAAAAAAAAAAAAAAAAAAAAAAAAAAAAAAAAAAAAAAAAAAAAAAAAAAAAAAAAAAAAAAAAAAAAAAAAAAAAAAAAAAAAAAAAAAAAAAAAAAAAAAAAAAAAAAAAAAAAAAAAAAAAAAAAAAAAAAAAAAAAAAAAAAAAAAAAAAAAAAAAAAAAAAAAAAAAAAAAAAAAAAAAAAAAAAAAAAAAAAAAAAAAAAAAAAAAAAAAAAAAAAAAAAAAAAAAAAAAAAAAAAAAAAAAAAAAAAAAAAAAAAAAAAAAAAAAAAAAAAAAAAAAAAAAAAAAAAAAAAAAAAAAAAAAAAAAAAAAAAAAAAAAAAAAAAAAAAAAAAAAAAAAAAAAAAAAAAAAAAAAAAAAAAAAAAAAAAAAAAAAAAAAAAAAAAAAAAAAAAAAAAAAAAAAAAAAAAAAAAAAAAAAAAAAAAAAAAAAAAAAAAAAAAAAAAAAAAAAAAAAAAAAAAAAAAAAAAAAAAAAAAAAAAAAAAAAAAAAAAAAAAAAAAAAAAAAAAAAAAAAAAAAAAAAAAAAAAAAAAAAAAAAAAAAAAAAAAAAAAAAAAAAAAAAAAAAAAAAAAAAAAAAAAAAAAAAAAAAAAAAAAAAAAAAAAAAAAAAAAAAAAAAAAAAAAAAAAAAAAAAAAAAAAAAAAAAAAAAAAAAAAAAAAAAAAAAAAAAAAAAAAAAAAAAAAAAAAAAAAAAAAAAAAAAAAAAAAAAAAAAAAAAAAAAAAAAAAAAAAAAAAAAAAAAAAAAAAAAAAAAAAAAAAAAAAAAAAAAAAAAAAAAAAAAAAAAAAAAAAAAAAAAAAAAAAAAAAAAAAAAAAAAAAAAAAAAAAAAAAAAAAAAAAAAAAAAAAAAAAAAAAAAAAAAAAAAAAAAAAAAAAAAAAAAAAAAAAAAAAAAAAAAAAAAAAAAAAAAAAAAAAAAAAAAAAAAAAAAAAAAAAAAAAAAAAAAAAAAAAAAAAAAAAAAAAAAAAAAAAAAAAAAAAAAAAAAAAAAAAAAAAAAAAAAAAAAAAAAAAAAAAAAAAAAAAAAAAAAAAAAAAAAAAAAAAAAAAAAAAAAAAAAAAAAAAAAAAAAAAAAAAAAAAAAAAAAAAAAAAAZAgbjNjNod+2IaHAAAAAAAAAAAAAAAAC89RqLnMpY5xNmqH8CXp5tAThYbAAAAAAAAAAAAAAAAAAAAAAAAAAAAAAAAAAAAAAAAAAAAAAAAAAAAAAAAAAAAAAAAAAAAAAAAAAAAAAAAAAAAAAAAAAAAAAAAAAAAAAAAAAAAAAAAAAAAAAAAAAAAAAAAAAAAAAAAAAAAAAAAAAAAAAAAAAAAAAAAAAAAAAAAAAAAAAAAAAAAAAAAAAAAAAAAAAAAAAAAAAAAAAAAAAAAAAAAAAAAAAAAAAAAAAAAAAAAAAAAAAAAAAAAAAAAAAAAAAAAAAAAAAAAAAAAAAAAAAAAAAAAAAAAAAAAAAAAAAAAAAAAAAAAAAAAAAAAAAAAAAAAAAAAAAAAAAAAAAAAAAAAAAAAAAAAAAAAAAAAAAAAAAAAAAAAAAAAAAAAAAAAAAAAAAAAAAAAAAAAAAAAAAAAAAAAAAAAAAAAAAAAAAAAAAAAAAAAAAAAAAAAAAAAAAAAAAAAAAAAAAAAAAAAAAAAAAAAAAAAAAAAAAAAAAAAAAAAAAAAAAAAAAAAAAAAAAAAAAAAAAAAAAAAAAAAAAAAAAAAAAAAAAAAAAAAAAAAAAAAAAAAAAAAAAAAAAAAAAAAAAAAAAAAAAAAAAAAAAAAAAAAAAAAAAAAAAAAAAAAAAAAAAAAAAAAAAAAAAAAAAAAAAAAAAAAAAAAAAAAAAAAAAAAAAAAAAAAAAAAAAAAAAAAAAAAAAAAAAAAAAAAAAAAAAAAAAAAAAAAAAAAAAAAAAAAAAAAAAAAAAAAAAAAAAAAAAAAAAAAAAAAAAAAAAAAAAAAAAAAAAAAAAAAAAAAAAAAAAAAAAAAAAAAAAAAAAAAAAAAAAAAAAAAAAAAAAAAAAAAAAAAAAAAAAAAAAAAAAAAAAAAAAAAAAAAAAAAAAAAAAAAAAAAAAAAAAAAAAAAAAAAAAAAAAAAAAAAAAAAAAAAAAAAAAAAAAAAAAAAAAAAAAAAAAAAAAAAAAAAAAAAAAAAAAAAAAAAAAAAAAAAAAAAAAAAAAAAAAAAAAAAAAAAAAAAAAAAAAAAAAAAAAAAAAAAAAAAAAAAAAAAAAAAAAAAAAAAAAAAAAAAAAAAAAAAAAAAAAAAAAAAAAAAAAAAAAAAAAAAAAAAAAAAAAAAAAAAAAAAAAAAAAAAAAAAAAAAAAAAAAAAAAAAAAAAAAAAAAAAAAAAAAAAAAAAAAAAAAAAAAAAAAAAAAAAAAAAAAAAAAAAAAAAAAAAAAAAAAAAAAAAAAAAAAAAAAAAAAAAAAAAAAAAAAAAAAAAAAAAAAAAAAAAAAAAAAAAAAAAAAAAAAAAAAAAAAAAAAAAAAAAAAAAAAAAAAAAAAAAAAAAAAAAAAAAAAAAAAAAAAAAAAAAAAAAAAAAAAAAAAAAAAAAAAAAAAAAAAAAAAAAAAAAAAAAAAAAAAAAAAAAAAAAAAAAAAAAAAAAAAAAAAAAAAAAAAAAAAAAAAAAAAAAAAAAAAAAAAAAAAAAAAAAAAAAAAAAAAAAAAAAAAAAAAAAAAAAAAAAAAAAAAAAAAAAAAAAAAAAAAAAAAAAAAAAAAAAAAAAAAAAAAAAAAAAAAAAAAAAAAAAAAAAAAAAAAAAAAAAAAAAAAAAAAAAAAAAAAAAAAAAAAAAAAAAAAAAAAAAAAAAAAAAAAAAAAAAAAAAAAAAAAAAAAAAAAAAAAAAAAAAG9Oqv2Rdir9T86Goee7ev5PFNijd/xOpINTpPt0WH6mqDnOoR/OUJ7fL3r+TA9YoCIgPLZdr6T/8utA/ZgNwJoPvCkD16H2m3RLxJvbyE0Bsqb8mAo/wIztr06ayG2M/cf+tqestF6oAAAAAAAAAAAAAAAAAAAAAAAAAAAAAAAAAAAAAAAAAAAAAAAAAAAAAAAAAAAAAAAAAAAAAAAAAAAAAAAAAAAAAAAAAAAAAAAAAAAAAAAAAAAAAAAAAAAAAAAAAAAAAAAAAAAAAAAAAAAAAAAAAAAAAAAAAAAAAAAAAAAAAAAAAAAAAAAAAAAAAAAAAAAAAAAAAAAAAAAAAAAAAAAAAAAAAAAAAAAAAAAAAAAAAAAAAAAAAAAAAAAAAAAAAAAAAAAAAAAAAAAAAAAAAAAAAAAAAAAAAAAAAAAAAAAAAAAAAAAAAAAAAAAAAAAAAAAAAAAAAAAAAAAAAAAAAAAAAAAAAAAAAAAAAAAAAAAAAAAAAAAAAAAAAAAAAAAAAAAAAAAAAAAAAAAAAAAAAAAAAAAAAAAAAAAAAAAAAAAAAAAAAAAAAAAAAAAAAAAAAAAAAAAAAAAAAAAAAAAAAAAAAAAAAAAAAAAAAAAAAAAAAAAAAAAAAAAAAAAAAAAAAAAAAAAAAAAAAAAAAAAAAAAAAAAAAAAAAAAAAAAAAAAAAAAAAAAAAAAAAAAAAAAAAAAAAAAAAAAAAAAAAAAAAAAAAAAAAAAAAAAAAAAAAAAAAAAAAAAAAAAAAAAAAAAAAAAAAAAAAAAAAAAAAAAAAAAAAAAAAAAAAAAAAAAAAAAAAAAAAAAAAAAAAAAAAAAAAAAAAAAAAAAAAAAAAAAAAAAAAAAAAAAAAAAAAAAAAAAAAAAAAAAAAAAAAAAAAAAAAAAAAAAAAAAAAAAAAAAAAAAAAAAAAAAAAAAAAAAAAAAAAAAAAAAAAAAAAAAAAAAAAAAAAAAAAAAAAAAAAAAAAAAAAAAAAAAAAAAAAAAAAAAAAAAAAAAAAAAAAAAAAAAAAAAAAAAAAAAAAAAAAAAAAAAAAAAAAAAAAAAAAAAAAAAAAAAAAAAAAAAAAAAAAAAAAAAAAAAAAAAAAAAAAAAAAAAAAAAAAAAAAAAAAAAAAAAAAAAAAAAAAAAAAAAAAAAAAAAAAAAAAAAAAAAAAAAAAAAAAAAAAAAAAAAAAAAAAAAAAAAAAAAAAAAAAAAAAAAAAAAAAAAAAAAAAAAAAAAAAAAAAAAAAAAAAAAAAAAAAAAAAAAAAAAAAAAAAAAAAAAAAAAAAAAAAAAAAAAAAAAAAAAAAAAAAAAAAAAAAAAAAAAAAAAAAAAAAAAAAAAAAAAAAAAAAAAAAAAAAAAAAAAAAAAAAAAAAAAAAAAAAAAAAAAAAAAAAAAAAAAAAAAAAAAAAAAAAAAAAAAAAAAAAAAAAAAAAAAAAAAAAAAAAAAAAAAAAAAAAAAAAAAAAAAAAAAAAAAAAAAAAAAAAAAAAAAAAAAAAAAAAAAAAAAAAAAAAAAAAAAAAAAAAAAAAAAAAAAAAAAAAAAAAAAAAAAAAAAAAAAAAAAAAAAAAAAAAAAAAAAAAAAAAAAAAAAAAAAAAAAAAAAAAAAAAAAAAAAAAAAAAAAAAAAAAAAAAAAAAAAAAAAAAAAAAAAAAAAAAAAAAAAAAAAAAAAAAAAAAAAAAAAAAAAAAAAAAAAAAAAAAAAAAAAAAAAAAAAAAAAAAAAAAAAAAAAAAAAAAAAAAAAAAAAAAAAAAAAAAAAAAAAAAAAAAAAAAAAAAAAAAAAAAAAAAAAAAAAAAAAAAAAAAAAAAAAAAAAAAAAAAAAAAAAAAAAAAAAAAAAAAAAAAAAAAAAAAAAAAAAAAAAAAAAAAAAAAAAAAAAAAAAAAAAAAAAAAAAAAAAAAAAAAAAAAAAAAAAAAAAAAAAAAAAAAAAAAAAAAAAAAAAAAAAAAAAAAAAAAAAAAAAAAAAAAAAAAAAAAAAAAAAAAAAAAAAAAAAAAAAAAAAAAAAAAAAAAAAAAAAAAAAAAAAAAAAAAAAAAAAAAAAAAAAAAAAAAAAAAAAAAAAAAAAAAAAAAAAAAAAAAAAAAAAAAAAAAAAAAAAAAAAAAAAAAAAAAAAAAAAAAAAAAAAAAAAAAAAAAAAAAAAAAAAAAAAAAAAAAAAAAAAAAAAAAAAAAAAAAAAAAAAAAAAAAAAAAAAAAAAAAAAAAAAAAAAAAAAAAAAAAAAAAAAAAAAAAAAAAAAAAAAAAAAAAAAAAAAAAAAAAAAAAAAAAAAAAAAAAAAAAAAAAAAAAAAAAAAAAAAAAAAAAAAAAAAAAAAAAAAAAAAAAAAAAAAAAAAAAAAAAAAAAAAAAAAAAAAAAAAAAAAAAAAAAAAAAAAAAAAAAAAAAAAAAAAAAAAAAAAAAAAAAAAAAAAAAAAAAAAAAAAAAAAAAAAAAAAAAAAAAAAAAAAAAAAAAAAAAAAAAAAAAAAAAAAAAAAAAAAAAAAAAAAAAAAAAAAAAAAAAAAAAAAAAAAAAAAAAAAAAAAAAAAAAAAAAAAAAAAAAAAAAAAAAAAAAAAAAAAAAAAAAAAAAAAAAAAAAAAAAAAAAAAAAAAAAAAAAAAAAAAAAAAAAAAAAAAAAAAAAAAAAAAAAAAAAAAAAAAAAAAAAAAAAAAAAAAAAAAAAAAAAAAAAAAAAAAAAAAAAAAAAAAAAAAAAAAAAAAAAAAAAAAAAAAAAAAAAAAAAAAAAAAAAAAAAAAAAAAAAAAAAAAAAAAAAAAAAAAAAAAAAAAAAAAAAAAAAAAAAAAAAAAAAAAAAAAAAAAAAAAAAAAAAAAAAAAAAAAAAAAAAAAAAAAAAAAAAAAAAAAAAAAAAAAAAAAAAAAAAAAAAAAAAAAAAAAAAAAAAAAAAAAAAAAAAAAAAAAAAAAAAAAAAAAAAAAAAAAAAAAAAAAAAAAAAAAAAAAAAAAAAAAAAAAAAAAAAAAAAAAAAAAAAAAAAAAAAAAAAAAAAAAAAAAAAAAAAAAAAAAAAAAAAAAAAAAAAAAAAAAAAAAAAAAAAAAAAAAAAAAAAAAAAAAAAAAAAAAAAAAAAAAAAAAAAAAAAAAAAAAAAAAAAAAAAAAAAAAAAAAAAAAAAAAAAAAAAAAAAAAAAAAAAAAAAAAAAAAAAAAAAAAAAAAAAAAAAAAAAAAAAAAAAAAAAAAAAAAAAAAAAAAAAAAAAAAAAAAAAAAAAAAAAAAAAAAAAAAAAAAAAAAAAAAAAAAAAAAAAAAAAAAAAAAAAAAAAAAAAAAAAAAAAAAAAAAAAAAAAAAAAAAAAAAAAAAAAAAAAAAAAAAAAAAAAAAAAAAAAAAAAAAAAAAAAAAAAAAAAAAAAAAAAAAAAAAAAAAAAAAAAAAAAAAAAAAAAAAAAAAAAAAAAAAAAAAAAAAAAAAAAAAAAAAAAAAAAAAAAAAAAAAAAAAAAAAAAAAAAAAAAAAAAAAAAAAAAAAAAAAAAAAAAAAAAAAAAAAAAAAAAAAAAAAAAAAAAAAAAAAAAAAAAAAAAAAAAAAAAAAAAAAAAAAAAAAAAAAAAAAAAAAAAAAAAAAAAAAAAAAAAAAAAAAAAAAAAAAAAAAAAAAAAAAAAAAAAAAAAAAAAAAAAAAAAAAAAAAAAAAAAAAAAAAAAAAAAAAAAAAAAAAAAAAAAAAAAAAAAAAAAAAAAAAAAAAAAAAAAAAAAAAAAAAAAAAAAAAAAAAAAAAAAAAAAAAAAAAAAAAAAAAAAAAAAAAAAAAAAAAAAAAAAAAAAAAAAAAAAAAAAAAAAAAAAAAAAAAAAAAAAAAAAAAAAAAAAAAAAAAAAAAAAAAAAAAAAAAAAAAAAAAAAAAAAAAAAAAAAAAAAAAAAAAAAAAAAAAAAAAAAAAAAAAAAAAAAAAAAAAAAAAAAAAAAAAAAAAAAAAAAAAAAAAAAAAAAAAAAAAAAAAAAAAAAAAAAAAAAAAAAAAAAAAAAAAAAAAAAAAAAAAAAAAAAAAAAAAAAAAAAAAAAAAAAAAAAAAAAAAAAAAAAAAAAAAAAAAAAAAAAAAAAAAAAAAAAAAAAAAAAAAAAAAAAAAAAAAAAAAAAAAAAAAAAAAAAAAAAAAAAAAAAAAAAAAAAAAAAAAAAAAAAAAAAAAAAAAAAAAAAAAAAAAAAAAAAAAAAAAAAAAAAAAAAAAAAAAAAAAAAAAAAAAAAAAAAAAAAAAAAAAAAAAAAAAAAAAAAAAAAAAAAAAAAAAAAAAAAAAAAAAAAAAAAAAAAAAAAAAAAAAAAAAAAAAAAAAAAAAAAAAAAAAAAAAAAAAAAAAAAAAAAAAAAAAAAAAAAAAAAAAAAAAAAAAAAAAAAAAAAAAAAAAAAAAAAAAAAAAAAAAAAAAAAAAAAAAAAAAAAAAAAAAAAAAAAAAAAAAAAAAAAAAAAAAAAAAAAAAAAAAAAAAAAAAAAAAAAAAAAAAAAAAAAAAAAAAAAAAAAAAAAAAAAAAAAAAAAAAAAAAAAAAAAAAAAAAAAAAAAAAAAAAAAAAAAAAAAAAAAAAAAAAAAAAAAAAAAAAAAAAAAAAAAAAAAAAAAAAAAAAAAAAAAAAAAAAAAAAAAAAAAAAAAAAAAAAAAAAAAAAAAAAAAAAAAAAAAAAAAAAAAAAAAAAAAAAAAAAAAAAAAAAAAAAAAAAAAAAAAAAAAAAAAAAAAAAAAAAAAAAAAAAAAAAAAAAAAAAAAAAAAAAAAAAAAAAAAAAAAAAAAAAAAAAAAAAAAAAAAAAAAAAAAAAAAAAAAAAAAAAAAAAAAAAAAAAAAAAAAAAAAAAAAAAAAAAAAAAAAAAAAAAAAAAAAAAAAAAAAAAAAAAAAAAAAAAAAAAAAAAAAAAAAAAAAAAAAAAAAAAAAAAAAAAAAAAAAAAAAAAAAAAAAAAAAAAAAAAAAAAAAAAAAAAAAAAAAAAAAAAAAAAAAAAAAAAAAAAAAAAAAAAAAAAAAAAAAAAAAAAAAAAAAAAAAAAAAAAAAAAAAAAAAAAAAAAAAAAAAAAAAAAAAAAAAAAAAAAAAAAAAAAAAAAAAAAAAAAAAAAAAAAAAAAAAAAAAAAAAAAAAAAAAAAAAAAAAAAAAAAAAAAAAAAAAAAAAAAAAAAAAAAAAAAAAAAAAAAAAAAAAAAAAAAAAAAAAAAAAAAAAAAAAAAAAAAAAAAAAAAAAAAAAAAAAAAAAAAAAAAAAAAAAAAAAAAAAAAAAAAAAAAAAAAAAAAAAAAAAAAAAAAAAAAAAAAAAAAAAAAAAAAAAAAAAAAAAAAAAAAAAAAAAAAAAAAAAAAAAACk6xDvzuKe4mjYEoQfkzT2vbwkiAAAAAI8t5LgAAAAAgGPqoQG/M6JD6Io+d7yQJ01+Rqa9dOevAAAAAAAAAAACoC+3AAAAAAAAAAAAAAAAAAAAAAAAAAAAAAAAI+fZtxv2RiDbBJEIAAAAAAAAAAAAAAAAAAAAAAAAAAAAAAAAAAAAAAAAAAAAAAAAAAAAAAAAAAAAAAAAAAAAAAAAAAAAAAAAAAAAAAAAAAAAAAAAAAAAAAAAAAAAAAAAAAAAAAAAAAAAAAAAAAAAAAAAAAAAAAAAAAAAAAAAAAAAAAAAAAAAAAAAAAAAAAAAAAAAAAAAAAAAAAAAAAAAAAAAAAAAAAAAAAAAAAAAAAAAAAAAAAAAAAAAAAAAAAAAAAAAAAAAAAAAAAAAAAAAAAAAAAAAAAAAAAAAAAAAAAAAAAAAAAAAAAAAAAAAAAAAAAAAAAAAAAAAAAAAAAAAAAAAAAAAAAAAAAAAAAAAAAAAAAAAAAAAAAAAAAAAAAAAAAAAAAAAAAAAAAAAAAAAAAAAAAAAAAAAAAAAAAAAAAAAAAAAAAAAAAAAAAAAAAAAAAAAAAAAAAAAAAAAAAAAAAAAAAAAAAAAAAAAAAAAAAAAAAAAAAAAAAAAAAAAAAAAAAAAAAAAAAAAAAAAAAAAAAAAAAAAAAAAAAAAAAAAAAAAAAAAAAAAAAAAAAAAAAAAAAAAAAAAAAAAAAAAAAAAAAAAAAAAAAAAAAAAAAAAAAAAAAAAAAAAAAAAAAAAAAAAAAAAAAAAAAAAAAAAAAAAAAAAAAAAAAAAAAAAAAAAAAAAAAAAAAAAAAAAAAAAAAAAAAAAAAAAAAAAAAAAAAAAAAAAAAAAAAAAAAAAAAAAAAAAAAAAAAAAAAAAAAAAAAAAAAAAAAAAAAAAAAAAAAAAAAAAAAAAAAAAAAAAAAAAAAAAAAAAAAAAAAAAAAAAAAAAAAAAAAAAAAAAAAAAAAAAAAAAAAAAAAAAAAAAAAAAAAAAAAAAAAAAAAAAAAAAAAAAAAAAAAAAAAAAAAAAAAAAAAAAAAAAAAAAAAAAAAAAAAAAAAAAAAAAAAAAAAAAAAAAAAAAAAAAAAAAAAAAAAAAAAAAAAAAAAAAAAAAAAAAAAAAAAAAAAAAAAAAAAAAAAAAAAAAAAAAAAAAAAAAAAAAAAAAAAAAAAAAAAAAAAAAAAAAAAAAAAAAAAAAAAAAAAAAAAAAAAAAAAAAAAAAAAAAAAAAAAAAAAAAAAAAAAAAAAAAAAAAAAAAAAAAAAAAAAAAAAAAAAAAAAAAAAAAAAAAAAAAAAAAAAAAAAAAAAAAAAAAAAAAAAAAAAAAAAAAAAAAAAAAAAAAAAAAAAAAAAAAAAAAAAAAAAAAAAAAAAAAAAAAAAAAAAAAAAAAAAAAAAAAAAAAAAAAAAAAAAAAAAAAAAAAAAAAAAAAAAAAAAAAAAAAAAAAAAAAAAAAAAAAAAAAAAAAAAAAAAAAAAAAAAAAAAAAAAAAAAAAAAAAAAAAAAAAAAAAAAAAAAAAAAAAAAAAAAAAAAAAAAAAAAAAAAAAAAAAAAAAAAAAAAAAAAAAAAAAAAAAAAAAAAAAAAAAAAAAAAAAAAAAAAAAAAAAAAAAAAAAAAAAAAAAAAAAAAAAAAAAAAAAAAAAAAAAAAAAAAAAAAAAAAAAAAAAAAAAAAAAAAAAAAAAAAAAAAAAAAAAAAAAAAAAAAAAAAAAAAAAAAAAAAAAAAAAAAAAAAAAAAAAAAAAAAAAAAAAAAAAAAAAAAAAAAAAAAAAAAAAAAAAAAAAAAAAAAAAAAAAAAAAAAAAAAAAAAAAAAAAAAAAAAAAAAAAAAAAAAAAAAAAAAAAAAAAAAAAAAAAAAAAAAAAAAAAAAAAAAAAAAAAAAAAAAAAAAAAAAAAAAAAAAAAAAAAAAAAAAAAAAAAAAAAAAAAAAAAAAAAAAAAAAAAAAAAAAAAAAAAAAAAAAAAAAAAAAAAAAAAAAAAAAAAAAAAAAAAAAAAAAAAAAAAAAAAAAAAAAAAAAAAAAAAAAAAAAAAAAAAAAAAAAAAAAAAAAAAAAAAAAAAAAAAAAAAAAAAAAAAAAAAAAAAAAAAAAAAAAAAAAAAAAAAAAAAAAAAAAAAAAAAAAAAAAAAAAAAAAAAAAAAAAAAAAAAAAAAAAAAAAAAAAAAAAAAAAAAAAAAAAAAAAAAAAAAAAAAAAAAAAAAAAAAAAAAAAAAAAAAAAAAAAAAAAAAAAAAAAAAAAAAAAAAAAAAAAAAAAAAAAAAAAAAAAAAAAAAAAAAAAAAAAAAAAAAAAAAAAAAAAAAAAAAAAAAAAAAAAAAAAAAAAAAAAAAAAAAAAAAAAAAAAAAAAAAAAAAAAAAAAAAAAAAAAAAAAAAAAAAAAAAAAAAAAAAAAAAAAAAAAAAAAAAAAAAAAAAAAAAAAAAAAAAAAAAAAAAAAAAAAAAAAAAAAAAAAAAAAAAAAAAAAAAAAAAAAAAAAAAAAAAAAAAAAAAAAAAAAAAAAAAAAAAAAAAAAAAAAAAAAAAAAAAAAAAAAAAAAAAAAAAAAAAAAAAAAAAAAAAAAAAAAAAAAAAAAAAAAAAAAAAAAAAAAAAAAAAAAAAAAAAAAAAAAAAAAAAAAAAAAAAAAAAAAAAAAAAAAAAAAAAAAAAAAAAAAAAAAAAAAAAAAAAAAAAAAAAAAAAAAAAAAAAAAAAAAAAAAAAAAAAAAAAAAAAAAAAAAAAAAAAAAAAAAAAAAAAAAAAAAAAAAAAAAAAAAAAAAAAAAAAAAAAAAAAAAC3fpK0AAAAAAvqyDj6grK7blaKoAAAAAAAAAAAAAAAAESAuiEuQNc8UmkCOXCuMSDe8Hg58JbBOwAAAAA3eI69H+zwPLqghKIweLe2Ti9VNiYoqhUKbbYhN6Dlvci3U71ZO7eiD2EGvgAAAAAAAAAAAAAAAAAAAAAAAAAAAAAAAAAAAAAAAAAAAAAAAAAAAAAAAAAAAAAAAAAAAAAAAAAAAAAAAAAAAAAAAAAAAAAAAAAAAAAAAAAAAAAAAAAAAAAAAAAAAAAAAAAAAAAAAAAAAAAAAAAAAAAAAAAAAAAAAAAAAAAAAAAAAAAAAAAAAAAAAAAAAAAAAAAAAAAAAAAAAAAAAAAAAAAAAAAAAAAAAAAAAAAAAAAAAAAAAAAAAAAAAAAAAAAAAAAAAAAAAAAAAAAAAAAAAAAAAAAAAAAAAAAAAAAAAAAAAAAAAAAAAAAAAAAAAAAAAAAAAAAAAAAAAAAAAAAAAAAAAAAAAAAAAAAAAAAAAAAAAAAAAAAAAAAAAAAAAAAAAAAAAAAAAAAAAAAAAAAAAAAAAAAAAAAAALd+krQAAAAAnRa6IPqCsrsL6sg4AAAAAAAAAAAAAAAApHwkosTTCSBSaQI5LkDXPN7weLnwlsE7AAAAAFZbmiEf7PA8N3iOvdwOAxZOL1U2MHi3tulkHCKmy7OiyLdTvTeg5b0PYQY+t36StAAAAAD2Dj4f+oKyuwvqyLgAAAAAAAAAAAAAAABb54sg7IKCn1JpAjkuQNe83vB4ufCWwTsAAAAApqndoh/s8Dw3eI49mdR+Fk4vVTYweLc2hBgYI833TiPIt1O9N6DlPQ9hBj4AAAAAAAAAAAAAAAAAAAAAAAAAAAAAAAAAAAAAAAAAAAAAAAAAAAAAAAAAAAAAAAAAAAAAAAAAAAAAAAAAAAAAAAAAAAAAAAAAAAAAAAAAAAAAAAAAAAAAAAAAAAAAAAAAAAAAAAAAAAAAAAAAAAAAAAAAAAAAAAAAAAAAAAAAAAAAAAAAAAAAAAAAAAAAAAAAAAAAAAAAAAAAAAAAAAAAAAAAAAAAAAAAAAAAAAAAAAAAAAAAAAAAAAAAAAAAAAAAAAAAAAAAAAAAAAAAAAAAAAAAAAAAAAAAAAAAAAAAAAAAAAAAAAAAAAAAAAAAAAAAAAAAAAAAAAAAAAAAAAAAAAAAAAAAAAAAAAAAAAAAAAAAAAAAAAAAAAAAAAAAAAAAAAAAAAAAAAAAAAAAAAAAAAAAAAAAAAC3fpK0AAAAAAvqyLj6grK7rOAeIAAAAAAAAAAAAAAAAK1t2aEuQNe8UmkCOXXJvx3e8Hg58JbBOwAAAAA3eI49H+zwPG2JASEweLc2Ti9VNk4UvpWCwcWiN6DlPci3U732vBijD2EGvgAAAAAAAAAAAAAAAAAAAAAAAAAAAAAAAAAAAAAAAAAAAAAAAAAAAAAAAAAAAAAAAAAAAAAAAAAAAAAAAAAAAAAAAAAAAAAAAAAAAAAAAAAAAAAAAAAAAAAAAAAAAAAAAAAAAAAAAAAAAAAAAAAAAAAAAAAAAAAAAAAAAAAAAAAAAAAAAAAAAAAAAAAAAAAAAAAAAAAAAAAAAAAAAAAAAAAAAAAAAAAAAAAAAAAAAAAAAAAAAAAAAAAAAAAAAAAAAAAAAAAAAAAAAAAAAAAAAAAAAAAAAAAAAAAAAAAAAAAAAAAAAAAAAAAAAAAAAAAAAAAAAAAAAAAAAAAAAAAAAAAAAAAAAAAAAAAAAAAAAAAAAAAAAAAAAAAAAAAAAAAAAAAAAAAAAAAAAAAAAAAAAAAAAAAAAAAAAAAAAAAAAAAAAAAAAAAAAAAAAAAAAAAAAAAAAAAAAAAAAAAAAAAAAAAAAAAAAAAAAAAAAAAAAAAAAAAAAAAAAAAAAAAAAAAAAAAAAAAAAAAAAAAAAAAAAAAAAAAAAAAAAAAAAAAAAAAAAAAAAAAAAAAAAAAAAAAAAAAAAAAAAAAAAAAAAAAAAAAAAAAAAAAAAAAAAAAAAAAAAAAAAAAAAAAAAAAAAAAAAAAAAAAAAAAAAAAAAAAAAAAAAAAAAAAAAAAAAAAAAAAAAAAAAAAAAAAAAAAAAAAAAAAAAAAAAAAAAAAAAAAAAAAAAAAAAAAAAAAAAAAAAAAAAAAAAAAAAAAAAAAAAAAAAAAAAAAAAAAAAAAAAAAAAAAAAAAAAAAAAAAAAAAAAAAAAAAAAAAAAAAAAAAAAAAAAAAAAAAAAAAAAAAAAAAAAAAAAAAAAAAAAAAAAAAAAAAAAAAAAAAAAAAAAAAAAAAAAAAAAAAAAAAAAAAAAAAAAAAAAAAAAAAAAAAAAAAAAAAAAAAAAAAAAAAAAAAAAAAAAAAAAAAAAAAAAAAAAAAAAAAAAAAAAAAAAAAAAAAAAAAAAAAAAAAAAAAAAAAAAAAAAAAAAAAAAAAAAAAAAAAAAAAAAAAAAAAAAAAAAAAAAAAAAAAAAAAAAAAAAAAAAAAAAAAAAAAAAAAAAAAAAAAAAAAAAAAAAAAAAAAAAAAAAAAAAAAAAAAAAAAAAAAAAAAAAAAAAAAAAAAAAAAAAAAAAAAAAAAAAAAAAAAAAAAAAAAAAAAAAAAAAAAAAAAAAAAAAAAAAAAAAAAAAAAAAAAAAAAAAAAAAAAAAAAAAAAAAAAAAAAAAAAAAAAAAAAAAAAAAAAAAAAAAAAAAAAAAAAAAAAAAAAAAAAAAAAAAAAAAAAAAAAAAAAAAAAAAAAAAAAAAAAAAAAAAAAAAAAAAAAAAAAAAAAAAAAAAAAAAAAAAAAAAAAAAAAAAAAAAAAAAAAAAAAAAAAAAAAAAAAAAAAAAAAAAAAAAAAAAAAAAAAAAAAAAAAAAAAAAAAAAAAAAAAAAAAAAAAAAAAAAAAAAAAAAAAAAAAAAAAAAAAAAAAAAAAAAAAAAAAAAAAAAAAAAAAAAAAAAAAAAAAAAAAAAAAAAAAAAAAAAAAAAAAAAAAAAAAAAAAAAAAAAAAAAAAAAAAAAAAAAAAAAAAAAAAAAAAAAAAAAAAAAAAAAAAAAAAAAAAAAAAAAAAAAAAAAAAAAAAAAAAAAAAAAAAAAAAAAAAAAAAAAAAAAAAAAAAAAAAAAAAAAAAAAAAAAAAAAAAAAAAAAAAAAAAAAAAAAAAAAAAAAAAAAAAAAAAAAAAAAAAAAAAAAAAAAAAAAAAAAAAAAAAAAAAAAAAAAAAAAAAAAAAAAAAAAAAAAAAAAAAAAAAAAAAAAAAAAAAAAAAAAAAAAAAAAAAAAAAAAAAAAAAAAAAAAAAAAAAAcur7NyEwOjdy6vs3AAAAAAAAAAAAAAAA4DrPuEcBGbgXEk84RwEZuLGG1R8AAAAAAAAAAAAAAAAAAAAAAAAAAAAAAAAAAAAAAAAAAAAAAAAAAAAAAAAAAAAAAAAAAAAA+SiKvAAAAAAAbfA9EVCSPDJtDSJyb8w6ThQROreNEp3vjCajq0iYveBhET6PXReiI/5sPgAAAAAAAAAAAAAAAAAAAAAAAAAAAAAAAAAAAAAAAAAAAAAAAAAAAAAAAAAAAAAAAAAAAAAAAAAAAAAAAHLq+zchMDo3cur7twAAAAAAAAAAAAAAAOA6zzhHARm4FxJPOEcBGThnuCMgAAAAAAAAAAAAAAAAAAAAAAAAAAAAAAAAAAAAAAAAAAAAAAAAAAAAAAAAAAAAAAAAAAAAAAAAAAAAAAAAAAAAAAAAAAAAAAAAAAAAAAAAAAAAAAAAAAAAAAAAAAAAAAAAAAAAAAAAAAAAAAAAAAAAAAAAAAAAAAAAAAAAAAAAAAAAAAAAAAAAAAAAAAAAAAAAAAAAAAAAAAAAAAAAAAAAAAAAAAAAAAAAAAAAAAAAAAAAAAAAAAAAAAAAAAAAAAAAAAAAAAAAAAAAAAAAAAAAAAAAAAAAAAAAAAAAAAAAAAAAAAAAAAAAAAAAAAAAAAAAAAAAAAAAAAAAAAAAAAAAAAAAAAD5KIq8AAAAAMKCMyMRUJI8AG3wPfyBrBpOFBE6cm/MOjStlCMWiyoj4GERPqtImL0j/my+D8vuOwAAAAAI3XQhxpldPcciBSIAAAAAjy3kuAAAAADS/RIhGP7vIt3yHb7PvpynoFEAJ7cTg8A+VI7AyJIvJyZYZUCp7vOnKwi4p4QVjkDqAG4nXmS6pqJFUqcM12U/nlsqqjTC1CwAAAAAAAAAAAAAAAAAAAAAAAAAAAAAAAAAAAAAAAAAAAAAAAAAAAAAAAAAAAAAAAAAAAAA+SiKvAAAAAAJmwmjEVCSPABt8L3i2a+cThQROnJvzLrisdAjBVWMIuBhET6rSJg9I/5svgAAAAAAAAAAAAAAAAAAAAAAAAAAAAAAAAAAAAAAAAAAAAAAAAAAAAAAAAAAAAAAAAAAAAAAAAAAAAAAAAAAAAAAAAAAAAAAAAAAAAAAAAAAAAAAAAAAAAAAAAAAAAAAAAAAAAAAAAAAAAAAAAAAAAAAAAAAAAAAAAAAAAAAAAAAAAAAAAAAAAAAAAAAAAAAAAAAAAAAAAAAAAAAAAAAAAAAAAAAAAAAAAAAAAAAAAAAAAAAAAAAAAAAAAAAAAAAAAAAAAAAAAAAAAAAAAAAAAAAAAAAAAAAAAAAAAAAAAAAAAAAAAAAAAAAAAAAAAAAAAAAAAAAAAAAAAAAAAAAAAAAAAAAAAAAAAAAAABy6vu3ITA6N3Lq+zcAAAAAAAAAAAAAAADgOs84RwEZOBcSTzhHARm4jBRlHwAAAAAAAAAAAAAAAAAAAAAAAAAAAAAAAAAAAAAAAAAAAAAAAAAAAAAAAAAAAAAAAAAAAAD5KIq8AAAAAABt8L0RUJI8/Y4YI3JvzLpOFBE662M9nI6YoyOrSJg94GERPl6WYiIj/mw+AAAAAAAAAAAAAAAAAAAAAAAAAAAAAAAAAAAAAAAAAAAAAAAAAAAAAAAAAAAAAAAAAAAAAAAAAAAAAAAAcur7tyEwOjdy6vu3AAAAAAAAAAAAAAAA4DrPuEcBGTgXEk84RwEZODp35B8AAAAAAAAAAAAAAAAAAAAAAAAAAAAAAAAAAAAAAAAAAAAAAAAAAAAAAAAAAAAAAAAAAAAAAAAAAAAAAAAAAAAAAAAAAAAAAAAAAAAAAAAAAAAAAAAAAAAAAAAAAAAAAAAAAAAAAAAAAAAAAAAAAAAAAAAAAAAAAAAAAAAAAAAAAAAAAAAAAAAAAAAAAAAAAAAAAAAAAAAAAAAAAAAAAAAAAAAAAAAAAAAAAAAAAAAAAAAAAAAAAAAAAAAAAAAAAAAAAAAAAAAAAAAAAAAAAAAAAAAAAAAAAAAAAAAAAAAAAAAAAAAAAAAAAAAAAAAAAAAAAAAAAAAAAAAAAAAAAAAAAAAAAAAAAAAAAAAAAAAAAAAAAAAAAAAAAAAAAAAAAAAAAAAAAAAAAAAAAAAAAAAAAAAAAAAAAAAAAAAAAAAAAAAAAAAAAAAAAAAAAAAAAAAAAAAAAAAAAAAAAAAAAAAAAAAAAAAAAAAAAAAAAAAAAAAAAAAAAAAAAAAAAAAAAAAAAAAAAAAAAAAAAAAAAAAAAAAAAAAAAAAAAAAAAAAAAAAAAAAAAAAAAAAAAAAAAAAAAAAAAAAAAAAAAAAAAAAAAAAAAAAAAAAAAAAAAAAAAAAAAAAAAAAAAAAAAAAAAAAAAAAAAAAAAAAAAAAAAAAAAAAAAAAAAAAAAAAAAAAAAAAAAAAAAAAAAAAAAAAAAAAAAAAAAAAAAAAAAAAAAAAAAAAAAAAAAAAAAAAAAAAAAAAAAAAAAAAAAAAAAAAAAAAAAAAAAAAAAAAAAAAAAAAAAAAAAAAAAAAAAAAAAAAAAAAAAAAAAAAAAAAAAAAAAAAAAAAAAAAAAAAAAAAAAAAAAAAAAAAAAAAAAAAAAAAAAAAAAAAAAAAAAAAAAAAAAAAAAAAAAAAAAAAAAAAAAAAAAAAAAAAAAAAAAAAAAAAAAAAAAAAAAAAAAAAAAAAAAAAAAAAAAAAAAAAAAAAAAAAAAAAAAAAAAAAAAAAAAAAAAAAAAAAAAAAAAAAAAAAAAAAAAAAAAAAAAAAAAAAAAAAAAAAAAAAAAAAAAAAAAAAAAAAAAAAAAAAAAAAAAAAAAAAAAAAAAAAAAAAAAAAAAAAAAAAAAAAAAAAAAAAAAAAAAAAAAAAAAAAAAAAAAAAAAAAAAAAAAAAAAAAAAAAAAAAAAAAAAAAAAAAAAAAAAAAAAAAAAAAAAAAAAAAAAAAAAAAAAAAAAAAAAAAAAAAAAAAAAAAAAAAAAAAAAAAAAAAAAAAAAAAAAAAAAAAAAAAAAAAAAAAAAAAAAAAAAAAAAAAAAAAAAAAAAAAAAAAAAAAAAAAAAAAAAAAAAAAAAAAAAAAAAAAAAAAAAAAAAAAAAAAAAAAAAAAAAAAAAAAAAAAAAAAAAAAAAAAAAAAAAAAAAAAAAAAAAAAAAAAAAAAAAAAAAAAAAAAAAAAAAAAAAAAAAAAAAAAAAAAAAAAAAAAAAAAAAAAAAAAAAAAAAAAAAAAAAAAAAAAAAAAAAAAAAAAAAAAAAAAAAAAAAAAAAAAAAAAAAAAAAAAAAAAAAAAAAAAAAAAAAAAAAAAAAAAAAAAAAAAAAAAAAAAAAAAAAAAAAAAAAAAAAAAAAAAAAAAAAAAAAAAAAAAAAAAAAAAAAAAAAAAAAAAAAAAAAAAAAAAAAAAAAAAAAAAAAAAAAAAAAAAAAAAAAAAAAAAAAAAAAAAAAAAAAAAAAAAAAAAAAAAAAAAAAAAAAAAAAAAAAAAAAAAAAAAAAAAAAAAAAAAAAAAAAAAAAAAAAAAAAAAAAAAAAAAAAAAAAAAAAAAAAAAAAAAAAAAAAAAAAAAAAAAAAAAAAAAAAAAAAAAAAAAAAAAAAAAAAAAAAAAAAAAAAAAAAAAAAAAAAAAAAAAAAAAAAAAAAAAAAAAAAAAAAAAAAAAAAAAAAAAAAAAAAAAAAAAAAAAAAAAAAAAAAAAAAAAAAAAAAAAAAAAAAAAAAAAAAAAAAAAAAAAAAAAAAAAAAAAAAAAAAAAAAAAAAAAAAAAAAAAAAAAAAAAAAAAAAAAAAAAAAAAAAAAAAAAAAAAAAAAAAAAAAAAAAAAAAAAAAAAAAAAAAAAAAAAAAAAAAAAAAAAAAAAAAAAAAAAAAAAAAAAAAAAAAAAAAAAAAAAAAAAAAAAAAAAAAAAAAAAAAAAAAAAAAAAAAAAAAAAAAAAAAAAAAAAAAAAAAAAAAAAAAAAAAAAAAAAAAAAAAAAAAAAAAAAAAAAAAAAAAAAAAAAAAAAAAAAAAAAAAAAAAAAAAAAAAAAAAAAAAAAAAAAAAAAAAAAAAAAAAAAAAAAAAAAAAAAAAAAAAAAAAAAAAAAAAAAAAAAAAAAAAAAAAAAAAAAAAAAAAAAAAAAAAAAAAAAAAAAAAAAAAAAAAAAAAAAAAAAAAAAAAAAAAAAAAAAAAAAAAAAAAAAAAAAAAAAAAAAAAAAAAAAAAAAAAAAAAAAAAAAAAAAAAAAAAAAAAAAAAAAAAAAAAAAAAAAAAAAAAAAAAAAAAAAAAAAAAAAAAAAAAAAAAAAAAAAAAAAAAAAAAAAAAAAAAAAAAAAAW/bhLwAAAADLYOce2dlfu5DDGB0AAAAAAAAAAAAAAAAp8aIdzoH+n47cETydcMMkRfBCowAAAAAAAAAAAAAAAAAAAAAAAAAAAAAAAAAAAAAAAAAAAAAAAAAAAAAAAAAAAAAAAAAAAAAAAAAAAAAAAAAAAAAAAAAAAAAAAAAAAAAAAAAAAAAAAAAAAAAAAAAAAAAAAAAAAAAAAAAAAAAAAAAAAAAAAAAAAAAAAAAAAAAAAAAAAAAAAAAAAAAAAAAAAAAAAAAAAAAAAAAAAAAAAAAAAAAAAAAAAAAAAAAAAAAAAAAAAAAAAAAAAAAAAAAAAAAAAAAAAAAAAAAAAAAAAAAAAAAAAAAAAAAAAAAAAAAAAAAAAAAAAAAAAAAAAAAAAAAAAAAAAAAAAAAAAAAAAAAAAAAAAAAAAAAAAAAAAAAAAAAAAAAAAAAAAAAAAAAAAAAAAAAAAAAAAAAAAAAAAAAAAAAAAAAAAAAAAAAAAAAAAAAAAAAAAAAAAAAAAAAAAAAAAAAAAAAAAAAAAAAAAAAAAAAAAAAAAAAAAAAAAAAAAAAAAAAAAAAAAAAAAAAAAAAAAAAAAAAAAAAAAAAAAAAAAAAAAAAAAAAAAAAAAAAAAAAAAAAAAAAAAAAAAAAAAAAAAAAAAAAAAAAAAAAAAAAAAAAAAAAAAAAAAAAAAAAAAAAAAAAAAAAAAAAAAAAAAAAAAAAAAAAAAAAAAAAAAAAAAAAAAAAAAAAAAAAAAAAAAAAAAAAAAAAAAAAAAAAAAAAAAAAAAAAAAAAAAAAAAAAAAAAAAAAAAAAAAAAAAAAAAAAAAAAAAAAAAAAAAAAAAAAAAAAAAAAAAAAAAAAAAAAAAAAAAAAAAAAAAAAAAAAAAAAAAAAAAAAAAAAAAAAAAAAAAAAAAAAAAAAAAAAAAAAAAAAAAAAAAAAAAAAAAAAAAAAAAAAAAAAAAAAAAAAAAAAAAAAAAAAAAAAAAAAAAAAAAAAAAAAAAAAAAAAAAAAAAAAAAAAAAAAAAAAAAAAAAAAAAAAAAAAAAAAAAAAAAAAAAAAAAAAAAAAAAAAAAAAAAAAAAAAAAAAAAAAAAAAAAAAAAAAAAAAAAAAAAAAAAAAAAAAAAAAAAAAAAAAAAAAAAAAAAAAAAAAAAAAAAAAAAAAAAAAAAAAAAAAAAAAAAAAAAAAAAAAAAAAAAAAAAAAAAAAAAAAAAAAAAAAAAAAAAAAAAAAAAAAAAAAAAAAAAAAAAAAAAAAAAAAAAAAAAAAAAAAAAAAAAAAAAAAAAAAAAAAAAAAAAAAAAAAAAAAAAAAAAAAAAAAAAAAAAAAAAAAAAAAAAAAAAAAAAAAAAAAAAAAAAAAAAAAAAAAAAAAAAAAAAAAAAAAAAAAAAAAAAAAAAAAAAAAAAAAAAAAAAAAAAAAAAAAAAAAAAAAAAAAAAAAAAAAAAAAAAAAAAAAAAAAAAAAAAAAAAAAAAAAAAAAAAAAAAAAAAAAAAAAAAAAAAAAAAAAAAAAAAAAAAAAAAAAAAAAAAAAAAAAAAAAAAAAAAAAAAAAAAAAAAAAAAAAAAAAAAAAAAAAAAAAAAAAAAAAAAAAAAAAAAAAAAAAAAAAAAAAAAAAAAAAAAAAAAAAAAAAAAAAAAAAAAAAAAAAAAAAAAAAAAAAAAAAAAAAAAAAAAAAAAAAAAAAAAAAAAAAAAAAAAAAAAAAAAAAAAAAAAAAAAAAAAAAAAAAAAAAAAAAAAAAAAKDmmSmeh+4p1TKdKMWoHCmgSxg/rO/kqHBBIqmwziZABDcCKaoViSejwG+o2eotv5Jrcykq9Zcn1ai6pUmAXCTEwRYoKw5hvxMf3CXjuOkmi+YNv6vhVybCLienl2+1qe+3779XNqsoAAAAAAAAAAAAAAAAAAAAAAAAAAAAAAAAAAAAAAAAAAAAAAAAAAAAAAAAAAAAAAAAAAAAAAAAAAAAAAAAAAAAAAAAAAAAAAAAAAAAAAAAAAAAAAAAAAAAAAAAAAAAAAAAAAAAAAAAAAAAAAAAAAAAAAAAAAAAAAAAAAAAAAAAAAAAAAAAAAAAAAAAAAAAAAAAAAAAAAAAAAAAAAAAAAAAAAAAAAAAAAAAAAAAAAAAAAAAAAAAAAAAAAAAAAAAAAAAAAAAAAAAAAAAAAAAAAAAAAAAAAAAAAAAAAAAAAAAAAAAAAAAAAAAAAAAAAAAAAAAAAAAAAAAAAAAAAAAAAAAAAAAAAAAAAAAAAAAAAAAAAAAAAAAAAAAAAAAAAAAAAAAAAAAAAAAAAAAAAAAAAAAAAAAAAAAAAAAAAAAAAAAAAAAAAAAAAAAAAAAAAAAAAAAAAAAAAAAAAAAAAAAAAAAAAAAAAAAAAAAAAAAAAAAAAAAAAAAAAAAAAAAAAAAAAAAAAAAAAAAAAAAAAAAAAAAAAAAAAAAAAAAAAAAAAAAAAAAAAAAAAAAAAAAAAAAAAAAAAAAAAAAAAAAAAAAAAAAAAAAAAAAAAAAAAAAAAAAAAAAAAAAAAAAAAAAAAAAAAAAAAAAAAAAAAAAAAAAAAAAAAAAAAAAAAAAAAAAAAAAAAAAAAAAAAAAAAAAAAAAAAAAAAAAAAAAAAAAAAAAAAAAAAAAAAAAAAAAAAAAAAAAAAAAAAAAAAAAAAAAAAAAAAAAAAAAAAAAAAAAAAAAAAAAAAAAAAAAAAAAAAAAAAAAAAAAAAAAAAAAAAAAAAAAAAAAAAAAAAAAAAAAAAAAAAAAAAAAAAAAAAAAAAAAAAAAAAAAAAAAAAAAAAAAAAAAAAAAAAAAAAAAAAAAAAAAAAAAAAAAAAAAAAAAAAAAAAAAAAAAAAAAAAAAAAAAAAAAAAAAAAAAAAAAAAAAAAAAAAAAAAAAAAAAAAAAAAAAAAAAAAAAAAAAAAAAAAAAAAAAAAAAAAAAAAAAAAAAAAAAAAAAAAAAAAAAAAAAAAAAAAAAAAAAAAAAAAAAAAAAAAAAAAAAAAAAAAAAAAAAAAAAAAAAAAAAAAAAAAAAAAAAAAAAAAAAAAAAAAAAAAAAAAAAAAAAAAAAAAAAAAAAAAAAAAAAAAAAAAAAAAAAAAAAAAAAAAAAAAAAAAAAAAAAAAAAAAAAAAAAAAAAAAAAAAAAAAAAAAAAAAAAAAAAAAAAAAAAAAAAAAAAAAAAAAAAAAAAAAAAAAAAAAAAAAAAAAAAAAAAAAAAAAAAAAAAAAAAAAAAAAAAAAAAAAAAAAAAAAAAAAAAAAAAAAAAAAAAAAAAAAAAAAAAAAAAAAAAAAAAAAAAAAAAAAAAAAAAAAAAAAAAAAAAAAAAAAAAAAAAAAAAAAAAAAAAAAAAAAAAAAAAAAAAAAAAAAAAAAAAAAAAAAAAAAAAAAAAAAAAAAAAAAAAAAAAAAAAAAAAAAAAAAAAAAAAAAAAAAAAAAAAAAAAAAAAAAAAAAAAAAAAAAAAAAAAAAAAAAAAAAAAAAAAAAAAAAAAAAAAAAAAAAAAAAAAAAAAAAAAAAAAAAAAAAAAAAAAAAAAAAAAAAAAAAAAAAAAAAAAAAAAAAAAAAAAAAAAAAAAAAAAAAAAAAAAAAAAAAAAAAAAAAAAAAAAAAAAAAAAAAAAAAAAAAAAAAAAAAAAAAAAAAAAAAAAAAAAAAAAAAAAAAAAAAAAAAAAAAAAAAAAAAAAAAAAAAAAAAAAAAAAAAAAAAAAAAAAAAAAAAAAAAAAAAAAAAAAAAAAAAAAAAAAAAAAAAAAAAAAAAAAAAAAAAAAAAAAAAAAAAAAAAAAAAAAAAAAAAAAAAAAAAAAAAAAAAAAAAAAAAAAAAAAAAAAAAAAAAAAAAAAAAAAAAAAAAAAAAAAAAAAAAAAAAAAAAAAAAAAAAAAAAAAAAAAAAAAAAAAAAAAAAAAAAAAAAAAAAAAAAAAAAAAAAAAAAAAAAAAAAAAAAAAAAAAAAAAAAAAAAAAAAAAAAAAAAAAAAAAAAAAAAAAAAAAAAAAAAAAAAAAAAAAAAAAAAAAAAAAAAAAAAAAAAAAAAAAAAAAAAAAAAAAAAAAAAAAAAAAAAAAAAAAAAAAAAAAAAAAAAAAAAAAAAAAAAAAAAAAAAAAAAAAAAAAAAAAAAAAAAAAAAAAAAAAAAAAAAAAAAAAAAAAAAAAAAAAAAAAAAAAAAAAAAAAAAAAAAAAAAAAAAAAAAAAAAAAAAAAAAAAAAAAAAAAAAAAAAAAAAAAAAAAAAAAAAAAAAAAAAAAAAAAAAAAAAAAAAAAAAAAAAAAAAAAAAAAAAAAAAAAAAAAAAAAAAAAAAAAAAAAAAAAAAAAAAAAAAAAAAAAAAAAAAAAAAAAAAAAAAAAAAAAAAAAAAAAAAAAAAAAAAAAAAAAAAAAAAAAAAAAAAAAAAAAAAAAAAAAAAAAAAAAAAAAAAAAAAAAAAAAAAAAAAAAAAAAAAAAAAAAAAAAAAAAAAAAAAAAAAAAAAAAAAAAAAAAAAAAAAAAAAAAAAAAAAAAAAAAAAAAAAAAAAAAAAAAAAAAAAAAAAAAAAAAAAAAAAAAAAAAAAAAAAAAAAAAAAAAAAAAAAAAAAAAAAAAAAAAAAAAAAAAAAAAAAAAAAAAAAAAAAAAAAAAAAAAAAAAAAAAAAAAAAAAAAAAAAAAAAAAAAAAAAAAAAAAAAAAAAAAAAAAAAAAAAAAAAAAAAAAAAAAAAAAAAAAAAAAAAAAAAAAAAAAAAAAAAAAAAAAAAAAAAAAAAAAAAAAAAAAAAAAAAAAAAAAAAAAAAAAAAAAAAAAAAAAAAAAAAAAAAAAAAAAAAAAAAAAAAAAAAAAAAAAAAAAAAAAAAAAAAAAAAAAAAAAAAAAAAAAAAAAAAAAAAAAAAAAAAAAAAAAAAAAAAAAAAAAAAAAAAAAAAAAAAAAAAAAAAAAAAAAAAAAAAAAAAAAAAAAAAAAAAAAAAAAAAAAAAAAAAAAAAAAAAAAAAAAAAAAAAAAAAAAAAAAAAAAAAAAAAAAAAAAAAAAAAAAAAAAAAAAAAAAAAAAAAAAAAAAAAAAAAAAAAAAAAAAAAAAAAAAAAAAAAAAAAAAAAAAAAAAAAAAAAAAAAAAAAAAAAAAAAAAAAAAAAAAAAAAAAAAAAAAAAAAAAAAAAAAAAAAAAAAAAAAAAAAAAAAAAAAAAAAAAAAAAAAAAAAAAAAAAAAAAAAAAAAAAAAAAAAAAAAAAAAAAAAAAAAAAAAAAAAAAAAAAAAAAAAAAAAAAAAAAAAAAAAAAAAAAAAAAAAAAAAAAAAAAAAAAAAAAAAAAAAAAAAAAAAAAAAAAAAAAAAAAAAAAAAAAAAAAAAAAAAAAAAAAAAAAAAAAAAAAAAAAAAAAAAAAAAAAAAAAAAAAAAAAAAAAAAAAAAAAAAAAAAAAAAAAAAAAAAAAAAAAAAAAAAAAAAAAAAAAAAAAAAAAAAAAAAAAAAAAAAAAAAAAAAAAAAAAAAAAAAAAAAAAAAAAAAAAAAAAAAAAAAAAAAAAAAAAAAAAAAAAAAAAAAAAAAAAAAAAAAAAAAAAAAAAAAAAAAAAAAAAAAAAAAAAAAAAAAAAAAAAAAAAAAAAAAAAAAAAAAAAAAAAAAAAAAAAAAAAAAAAAAAAAAAAAAAAAAAAAAAAAAAAAAAAAAAAAAAAAAAAAAAAAAAAAAAAAAAAAAAAAAAAAAAAAAAAAAAAAAAAAAAAAAAAAAAAAAAAAAAAAAAAAAAAAAAAAAAAAAAAAAAAAAAAAAAAAAAAAAAAAAAAAAAAAAAAAAAAAAAAAAAAAAAAAAAAAAAAAAAAAAAAAAAAAAAAAAAAAAAAAAAAAAAAAAAAAAAAAAAAAAAAAAAAAAAAAAAAAAAAAAAAAAAAAAAAAAAAAAAAAAAAAAAAAAAAAAAAAAAAAAAAAAAAAAAAAAAAAAAAAAAAAAAAAAAAAAAAAAAAAAAAAAAAAAAAAAAAAAAAAAAAAAAAAAAAAAAAAAAAAAAAAAAAAAAAAAAAAAAAAAAAAAAAAAAAAAAAAAAAAAAAAAAAAAAAAAAAAAAAAAAAAAAAAAAAAAAAAAAAAAAAAAAAAAAAAAAAAAAAAAAAAAAAAAAAAAAAAAAAAAAAAAAAAAAAAAAAAAAAAAAAAAAAAAAAAAAAAAAAAAAAAAAAAAAAAAAAAAAAAAAAAAAAAAAAAAAAAAAAAAAAAAAAAAAAAAAAAAAAAAAAAAAAAAAAAAAAAAAAAAAAAAAAAAAAAAAAAAAAAAAAAAAAAAAAAAAAAAAAAAAAAAAAAAAAAAAAAAAAAAAAAAAAAAAAAAAAAAAAAAAAAAAAAAAAAAAAAAAAAAAAAAAAAAAAAAAAAAAAAAAAAAAAAAAAAAAAAAAAAAAAAAAAAAAAAAAAAAAAAAAAAAAAAAAAAAAAAAAAAAAAAAAAAAAAAAAAAAAAAAAAAAAAAAAAAAAAAAAAAAAAAAAAAAAAAAAAAAAAAAAAAAAAAAAAAAAAAAAAAAAAAAAAAAAAAAAAAAAAAAAAAAAAAAAAAAAAAAAAAAAAAAAAAAAAAAAAAAAAAAAAAAAAAAAAAAAAAAAAAAAAAAAAAAAAAAAAAAAAAAAAAAAAAAAAAAAAAAAAAAAAAAAAAAAAAAAAAAAAAAAAAAAAAAAAAAAAAAAAAAAAAAAAAAAAAAAAAAAAAAAAAAAAAAAAAAAAAAAAAAAAAAAAAAAAAAAAAAAAAAAAAAAAAAAAAAAAAAAAAAAAAAAAAAAAAAAAAAAAAAAAAAAAAAAAAAAAAAAAAAAAAAAAAAAAAAAAAAAAAAAAAAAAAAAAAAAAAAAAAAAAAAAAAAAAAAAAAAAAAAAAAAAAAAAAAAAAAAAAAAAAAAAAAAAAAAAAAAAAAAAAAAAAAAAAAAAAAAAAAAAAAAAAAAAAAAAAAAAAAAAAAAAAAAAAAAAAAAAAAAAAAAAAAAAAAAAAAAAAAAAAAAAAAAAAAAAAAAAAAAAAAAAAAAAAAAAAAAAAAAAAAAAAAAAAAAAAAAAAAAAAAAAAAAAAAAAAAAAAAAAAAAAAAAAAAAAAAAAAAAAAAAAAAAAAAAAAAAAAAAAAAAAAAAAAALmNWdAAAAAAZLRJ9WTEWhHga+uwAAAAAAAAAAZDlANJGZsJ9pPq0h3hY7J42m5bzGV4+lAAAAAAAAAAAAAAAAAAAAALZPgDEAAAAAAAAAAAAAAAAAAAAAAAAAAPHOTZ0x9pMy0DxQGwAAAAAAAAAAAAAAAAAAAAAAAAAAAAAAAAAAAAAAAAAAAAAAAAAAAAAAAAAAAAAAAAAAAAAAAAAAAAAAAAAAAAAAAAAAAAAAAAAAAAAAAAAAAAAAAAAAAAAAAAAAAAAAAAAAAAAAAAAAAAAAAAAAAAAAAAAAAAAAAAAAAAAAAAAAAAAAAAAAAAAAAAAAAAAAAAAAAAAAAAAAAAAAAAAAAAAAAAAAAAAAAAAAAAAAAAAAAAAAAAAAAAAAAAAAAAAAAAAAAAAAAAAAAAAAAAAAAAAAAAAAAAAAAAAAAAAAAAAAAAAAAAAAAAAAAAAAAAAAAAAAAAAAAAAAAAAAAAAAAAAAAAAAAAAAAAAAAAAAAAAAAAAAAAAAAAAAAAAAAAAAAAAAAAAAAAAAAAAAAAAAAAAAAAAAAAAAAAAAAAAAAAAAAAAAAAAAAAAAAAAAAAAAAAAAAAAAAAAAAAAAAAAAAAAAAAAAAAAAAAAAAAAAAAAAAAAAAAAAAAAAAAAAAAAAAAAAAAAAAAAAAAAAAAAAAAAAAAAAAAAAAAAAAAAAAAAAAAAAAAAAAAAAAAAAAAAAAAAAAAAAAAAAAAAAAAAAAAAAAAAAAAAAAAAAAAAAAAAAAAAAAAAAAAAAAAAAAAAAAAAAAAAAAAAAAAAAAAAAAAAAAAAAAAAAAAAAAAAAAAAAAAAAAAAAAAAAAAAAAAAAAAAAAAAAAAAAAAAAAAAAAAAAAAAAAAAAAAAAAAAAAAAAAAAAAAAAAAAAAAAAAAAAAAAAAAAAAAAAAAAAAAAAAAAAAAAAAAAAAAAAAAAAAAAAAAAAAAAAAAAAAAAAAAAAAAAAAAAAAAAAAAAAAAAAAAAAAAAAAAAAAAAAAAAAAAAAAAAAAAAAAAAAAAAAAAAAAAAAAAAAAAAAAAAAAAAAAAAAAAAAAAAAAAAAAAAAAAAAAAAAAAAAAAAAAAAAAAAAAAAAAAAAAAAAAAAAAAAAAAAAAAAAAAAAAAAAAAAAAAAAAAAAAAAAAAAAAAAAAAAAAAAAAAAAAAAAAAAAAAAAAAAAAAAAAAAAAAAAAAAAAAAAAAAAAAAAAAAAAAAAAAAAAAAAAAAAAAAAAAAAAAAAAAAAAAAAAAAAAAAAAAAAAAAAAAAAAAAAAAAAAAAAAAAAAAAAAAAAAAAAAAAAAAAAAAAAAAAAAAAAAAAAAAAAAAAAAAAAAAAAAAAAAAAAAAAAAAAAAAAAAAAAAAAAAAAAAAAAAAAAAAAAAAAAAAAAAAAAAAAAAAAAAAAAAAAAAAAAAAAAAAAAAAAAAAAAAAAAAAAAAAAAAAAAAAAAAAAAAAAAAAAAAAAAAAAAAAAAAAAAAAAAAAAAAAAAAAAAAAAAAAAAAAAAAAAAAAAAAAAAAAAAAAAAAAAAAAAAAAAAAAAAAAAAAAAAAAAAAAAAAAAAAAAAAAAAAAAAAAAAAAAAAAAAAAAAAAAAAAAAAAAAAAAAAAAAAAAAAAAAAAAAAAAAAAAAAAAAAAAAAAAAAAAAAAAAAAAAAAAAAAAAAAAAAAAAAAAAAAAAAAAAAAAAAAAAAAAAAAAAAAAAAAAAAAAAAAAAAAAAAAAAAAAAAAAAAAAAAAAAAAAAAAAAAAAAAAAAAAAAAAAAAAAAAAAAAAAAAAAAAAAAAAAAAAAAAAAAAAAAAAAAAAAAAAAAAAAAAAAAAAAAAAAAAAAAAAAAAAAAAAAAAAAAAAAAAAAAAAAAAAAAAAAAAAAAAAAAAAAAAAAAAAAAAAAAAAAAAAAAAAAAAAAAAAAAAAAAAAAAAAAAAAAAAAAAAAAAAAAAAAAAAAAAAAAAAAAAAAAAAAAAAAAAAAAAAAAAAAAAAAAAAAAAAAAAAAAAAAAAAAAAAAAAAAAAAAAAAAAAAAAAAAAAAAAAAAAAAAAAAAAAAAAAAAAAAAAAAAAAAAAAAAAAAAAAAAAAAAAAAAAAAAAAAAAAAAAAAAAAAAAAAAAAAAAAAAAAAAAAAAAAAAAAAAAAAAAAAAAAAAAAAAAAAAAAAAAAAAAAAAAAAAAAAAAAAAAAAAAAAAAAAAAAAAAAAAAAAAAAAAAAAAAAAAAAAAAAAAAAAAAAAAAAAAAAAAAAAAAAAAAAAAAAAAAAAAAAAAAAAAAAAAAAAAAAAAAAAAAAAAAAAAAAAAAAAAAAAAAAAAAAAAAAAAAAAAAAAAAAAAAAAAAAAAAAAAAAAAAAAAAAAAAAAAAAAAAAAAAAAAAAAAAAAAAAAAAAAAAAAAAAAAAAAAAAAAAAAAAAAAAAAAAAAAAAAAAAAAAAAAAAAAAAAAAAAAAAAAAAAAAAAAAAAAAAAAAAAAAAAAAAAAAAAAAAAAAAAAAAAAAAAAAAAAAAAAAAAAAAAAAAAAAAAAAAAAAAAAAAAAAAAAAAAAAAAAAAAAAAAAAAAAAAAAAAAAAAAAAAAAAAAAAAAAAAAAAAAAAAAAAAAAAAAAAAAAAAAAAAAAAAAAAAAAAAAAAAAAAAAAAAAAAAAAAAAAAAAAAAAAAAAAAAAAAAAAAAAAAAAAAAAAAAAAAAAAAAAAAAAAAAAAAAAAAAAAAAAAAAAAAAAAAAAAAAAAAAAAAAAAAAAAAAAAAAAAAAAAAAAAAAAAAAAAAAAAAAAAAAAAAAAAAAAAAAdfmGngAAAAAX+5uhGT8wIPiFsbsAAAAAAAAAAAAAAACmA9Y8EHhFIE4G/qFsCAa3R+28oO5QAh8AAAAAysOlIollkSP6djK8Mp4HlAbVHBXxF1qziGIiPbmEcaToTRCjNaG+vAoLsaMAAAAAAAAAAAAAAAAAAAAAAAAAAAAAAAAAAAAAAAAAAAAAAAAAAAAAAAAAAAAAAAAAAAAAAAAAAAAAAAAAAAAAAAAAAAAAAAAAAAAAAAAAAAAAAAAAAAAAAAAAAAAAAAAAAAAAAAAAAAAAAAAAAAAAAAAAAAAAAAAAAAAAAAAAAAAAAAAAAAAAAAAAAAAAAAAAAAAAAAAAAAAAAAAAAAAAAAAAAAAAAAAAAAAAAAAAAAAAAAAAAAAAAAAAAAAAAAAAAAAAAAAAAAAAAAAAAAAAAAAAAAAAAAAAAAAAAAAAAAAAAAAAAAAAAAAAAAAAAAAAAAAAAAAAAAAAAAAAAAAAAAAAAAAAAAAAAAAAAAAAAAAAAAAAAAAAAAAAAAAAAAAAAAAAAAAAAAAAAAAAAAAAAAAAAAAAAAC6QLu7AAAAAD6tOCD0VEq4KBe1PQAAAAAAAAAAAAAAAILGyCLF51whUSnyPQYbfjmvy1G+1ZUjvAAAAACX4LciUm6Ivf6n0j3mbHyW6Xe3thuPGjeQcqUjHrQjopPxgTxjgGg+LH8yvrpAuzsAAAAAMmxLIfRUSjgoF7U9AAAAAAAAAAAAAAAAsxQzIfaNZCBRKfK9Bht+Oa/LUT7VlSM8AAAAAD7e2qFSbog9/qfSPXXj3hbpd7c2G48aN5JKxyJ6KWSjk/GBvGOAaD4sfzI+AAAAAAAAAAAAAAAAAAAAAAAAAAAAAAAAAAAAAAAAAAAAAAAAAAAAAAAAAAAAAAAAAAAAAAAAAAAAAAAAAAAAAAAAAAAAAAAAAAAAAAAAAAAAAAAAAAAAAAAAAAAAAAAAAAAAAAAAAAAAAAAAAAAAAAAAAAAAAAAAAAAAAAAAAAAAAAAAAAAAAAAAAAAAAAAAAAAAAAAAAAAAAAAAAAAAAAAAAAAAAAAAAAAAAAAAAAAAAAAAAAAAAAAAAAAAAAAAAAAAAAAAAAAAAAAAAAAAAAAAAAAAAAAAAAAAAAAAAAAAAAAAAAAAAAAAAAAAAAAAAAAAAAAAAAAAAAAAAAAAAAAAAAAAAAAAAAAAAAAAAAAAAAAAAAAAAAAAAAAAAAAAAAAAAAAAAAAAAAAAAAAAAAAAAAAAAAAAr1cQngAAAAAhS8MiWF0LoPiFsbsAAAAAAAAAAAAAAACmA9a8cvQjIdId4SBsCAa3VwCEoSmv3p0AAAAA6rXOIy+zKCP6djK8hCWUFtj6UBbxF1qziGIivcVrCiSSka2iNaG+vOJbpKMAAAAAAAAAAAAAAAAAAAAAAAAAAAAAAAAAAAAAAAAAAAAAAAAAAAAAAAAAAAAAAAAAAAAAAAAAAAAAAAAAAAAAAAAAAAAAAAAAAAAAAAAAAAAAAAAAAAAAAAAAAAAAAAAAAAAAAAAAAAAAAAAAAAAAAAAAAAAAAAAAAAAAAAAAAAAAAAAAAAAAAAAAAAAAAAAAAAAAAAAAAAAAAAAAAAAAAAAAAAAAAAAAAAAAAAAAAAAAAAAAAAAAAAAAAAAAAAAAAAAAAAAAAAAAAAAAAAAAAAAAAAAAAAAAAAAAAAAAAAAAAAAAAAAAAAAAAAAAAAAAAAAAAAAAAAAAAAAAAAAAAAAAAAAAAAAAAAAAAAAAAAAAAAAAAAAAAAAAAAAAAAAAAAAAAAAAAAAAAAAAAAAAAAAAAAAAAAAAAAAAAAAAAAAAAAAAAAAAAAAAAAAAAAAAAAAAAAAAAAAAAAAAAAAAAAAAAAAAAAAAAAAAAAAAAAAAAAAAAAAAAAAAAAAAAAAAAAAAAAAAAAAAAAAAAAAAAAAAAAAAAAAAAAAAAAAAAAAAAAAAAAAAAAAAAAAAAAAAAAAAAAAAAAAAAAAAAAAAAAAAAAAAAAAAAAAAAAAAAAAAAAAAAAAAAAAAAAAAAAAAAAAAAAAAAAAAAAAAAAAAAAAAAAAAAAAAAAAAAAAAAAAAAAAAAAAAAAAAAAAAAAAAAAAAAAAAAAAAAAAAAAAAAAAAAAAAAAAAAAAAAAAAAAAAAAAAAAAAAAAAAAAAAAAAAAAAAAAAAAAAAAAAAAAAAAAAAAAAAAAAAAAAAAAAAAAAAAAAAAAAAAAAAAAAAAAAAAAAAAAAAAAAAAAAAAAAAAAAAAAAAAAAAAAAAAAAAAAAAAAAAAAAAAAAAAAAAAAAAAAAAAAAAAAAAAAAAAAAAAAAAAAAAAAAAAAAAAAAAAAAAAAAAAAAAAAAAAAAAAAAAAAAAAAAAAAAAAAAAAAAAAAAAAAAAAAAAAAAAAAAAAAAAAAAAAAAAAAAAAAAAAAAAAAAAAAAAAAAAAAAAAAAAAAAAAAAAAAAAAAAAAAAAAAAAAAAAAAAAAAAAAAAAAAAAAAAAAAAAAAAAAAAAAAAAAAAAAAAAAAAAAAAAAAAAAAAAAAAAAAAAAAAAAAAAAAAAAAAAAAAAAAAAAAAAAAAAAAAAAAAAAAAAAAAAAAAAAAAAAAAAAAAAAAAAAAAAAAAAAAAAAAAAAAAAAAAAAAAAAAAAAAAAAAAAAAAAAAAAAAAAAAAAAAAAAAAAAAAAAAAAAAAAAAAAAAAAAAAAAAAAAAAAAAAAAAAAAAAAAAAAAAAAAAAAAAAAAAAAAAAAAAAAAAAAAAAAAAAAAAAAAAAAAAAAAAAAAAAAAAAAAAAAAAAAAAAAAAAAAAAAAAAAAAAAAAAAAAAAAAAAAAAAAAAAAAAAAAAAAAAAAAAAAAAAAAAAAAAAAAAAAAAAAAAAAAAAAAAAAAAAAAAAAAAAAAAAAAAAAAAAAAAAAAAAAAAAAAAAAAAAAAAAAAAAAAAAAAAAAAAAAAAAAAAAAAAAAAAAAAAAAAAAAAAAAAAAAAAAAAAAAAAAAAAAAAAAAAAAAAAAAAAAAAAAAAAAAAAAAAAAAAAAAAAAAAAAAAAAAAAAAAAAAAAAAAAAAAAAAAAAAAAAAAAAAAAAAAAAAAAAAAAAAAAAAAAAAAAAAAAAAAAAAAAAAAAAAAAAAAAAAAAAAAAAAAAAAAAAAAAAAAAAAAAAAAAAAAAAAAAAAAAAAAAAAAAAAAAAAAAAAAAAAAAAAAAAAAAAAAAAAAAAAAAAAAAAAAAAAAAAAAAAAAAAAAAAAAAAAAAAAAAAAAAAAAAAAAAAAAAAAAAAAAAAAAAAAAAAAAAAASymTiR4vs3ZyqXOAAAAAAAAAAAAAAAAK6peLkmNM+4AR7uOOHCy7h1boY2AAAAAAAAAAAAAAAAAAAAAAAAAAAAAAAAAAAAAAAAAAAAAAAAAAAAAAAAAAAAAAAAAAAAADCG7pwAAAAAI1QjpZ+uvqN93du8R96mHciLQx3v9rK4udfOPT0zxSRvjVqknC8lPcNicaUAAAAAAAAAAAAAAAAAAAAAAAAAAAAAAAAAAAAAAAAAAAAAAAAAAAAAAAAAAAAAAAAAAAAAAAAAAAAAAAAEspm4keL7t2cqlzgAAAAAAAAAAAAAAACuqXi5JjTPOAEe7rjhwsu4dW6GtgAAAAAAAAAAAAAAAAAAAAAAAAAAAAAAAAAAAAAAAAAAAAAAAAAAAAAAAAAAAAAAAAAAAAAAAAAAAAAAAAAAAAAAAAAAAAAAAAAAAAAAAAAAAAAAAAAAAAAAAAAAAAAAAAAAAAAAAAAAAAAAAAAAAAAAAAAAAAAAAAAAAAAAAAAAAAAAAAAAAAAAAAAAAAAAAAAAAAAAAAAAAAAAAAAAAAAAAAAAAAAAAAAAAAAAAAAAAAAAAAAAAAAAAAAAAAAAAAAAAAAAAAAAAAAAAAAAAAAAAAAAAAAAAAAAAAAAAAAAAAAAAAAAAAAAAAAAAAAAAAAAAAAAAAAAAAAAAAAAAAAAAAAAv7QlvQAAAAD8DHeg9qLIPeGlYj5w4SYcgDvMOk+7czv282OkTFoNo3jZCD5JIK6+1HHEvmqNBaAAAAAAB4E6IQnHPSOKv927AAAAAAAAAABkOUA0SuiDHxHfkSH9VjenwLYGPWjdiiXma7knNf81Jy0Tm6a91XOoNiYfwM9aLieZPm2li4sMwIH68yXiweUmrfVEqjBuLkDU0I8pAAAAAAAAAAAAAAAAAAAAAAAAAAAAAAAAAAAAAAAAAAAAAAAAAAAAAAAAAAAAAAAAAAAAAL+0JT0AAAAAjXOvIfaiyL3hpWI+UasoHIA7zLpPu3M7XY2QpPSYmyN42Qi+SSCuvtRxxD4AAAAAAAAAAAAAAAAAAAAAAAAAAAAAAAAAAAAAAAAAAAAAAAAAAAAAAAAAAAAAAAAAAAAAAAAAAAAAAAAAAAAAAAAAAAAAAAAAAAAAAAAAAAAAAAAAAAAAAAAAAAAAAAAAAAAAAAAAAAAAAAAAAAAAAAAAAAAAAAAAAAAAAAAAAAAAAAAAAAAAAAAAAAAAAAAAAAAAAAAAAAAAAAAAAAAAAAAAAAAAAAAAAAAAAAAAAAAAAAAAAAAAAAAAAAAAAAAAAAAAAAAAAAAAAAAAAAAAAAAAAAAAAAAAAAAAAAAAAAAAAAAAAAAAAAAAAAAAAAAAAAAAAAAAAAAAAAAAAAAAAAAAAAAAAAAAAAAABLKZuJHi+zdnKpc4AAAAAAAAAAAAAAAArql4OSY0zzgBHu444cLLuHVuhjYAAAAAAAAAAAAAAAAAAAAAAAAAAAAAAAAAAAAAAAAAAAAAAAAAAAAAAAAAAAAAAAAAAAAAZ8HGoQAAAAAVY0ikqFO6I33d27xWJYCdF1VZHe/2sri51869hISlJLuMp6ScLyU9Uz+nowAAAAAAAAAAAAAAAAAAAAAAAAAAAAAAAAAAAAAAAAAAAAAAAAAAAAAAAAAAAAAAAAAAAAAAAAAAAAAAAASymTiR4vu3ZyqXOAAAAAAAAAAAAAAAAK6peDkmNM+4AR7uuOHCy7h1boa2AAAAAAAAAAAAAAAAAAAAAAAAAAAAAAAAAAAAAAAAAAAAAAAAAAAAAAAAAAAAAAAAAAAAAAAAAAAAAAAAAAAAAAAAAAAAAAAAAAAAAAAAAAAAAAAAAAAAAAAAAAAAAAAAAAAAAAAAAAAAAAAAAAAAAAAAAAAAAAAAAAAAAAAAAAAAAAAAAAAAAAAAAAAAAAAAAAAAAAAAAAAAAAAAAAAAAAAAAAAAAAAAAAAAAAAAAAAAAAAAAAAAAAAAAAAAAAAAAAAAAAAAAAAAAAAAAAAAAAAAAAAAAAAAAAAAAAAAAAAAAAAAAAAAAAAAAAAAAAAAAAAAAAAAAAAAAAAAAAAAAAAAAAAAAAAAAAAAAAAAAAAAAAAAAAAAAAAAAAAAAAAAAAAAAAAAAAAAAAAAAAAAAAAAAAAAAAAAAAAAAAAAAAAAAAAAAAAAAAAAAAAAAAAAAAAAAAAAAAAAAAAAAAAAAAAAAAAAAAAAAAAAAAAAAAAAAAAAAAAAAAAAAAAAAAAAAAAAAAAAAAAAAAAAAAAAAAAAAAAAAAAAAAAAAAAAAAAAAAAAAAAAAAAAAAAAAAAAAAAAAAAAAAAAAAAAAAAAAAAAAAAAAAAAAAAAAAAAAAAAAAAAAAAAAAAAAAAAAAAAAAAAAAAAAAAAAAAAAAAAAAAAAAAAAAAAAAAAAAAAAAAAAAAAAAAAAAAAAAAAAAAAAAAAAAAAAAAAAAAAAAAAAAAAAAAAAAAAAAAAAAAAAAAAAAAAAAAAAAAAAAAAAAAAAAAAAAAAAAAAAAAAAAAAAAAAAAAAAAAAAAAAAAAAAAAAAAAAAAAAAAAAAAAAAAAAAAAAAAAAAAAAAAAAAAAAAAAAAAAAAAAAAAAAAAAAAAAAAAAAAAAAAAAAAAAAAAAAAAAAAAAAAAAAAAAAAAAAAAAAAAAAAAAAAAAAAAAAAAAAAAAAAAAAAAAAAAAAAAAAAAAAAAAAAAAAAAAAAAAAAAAAAAAAAAAAAAAAAAAAAAAAAAAAAAAAAAAAAAAAAAAAAAAAAAAAAAAAAAAAAAAAAAAAAAAAAAAAAAAAAAAAAAAAAAAAAAAAAAAAAAAAAAAAAAAAAAAAAAAAAAAAAAAAAAAAAAAAAAAAAAAAAAAAAAAAAAAAAAAAAAAAAAAAAAAAAAAAAAAAAAAAAAAAAAAAAAAAAAAAAAAAAAAAAAAAAAAAAAAAAAAAAAAAAAAAAAAAAAAAAAAAAAAAAAAAAAAAAAAAAAAAAAAAAAAAAAAAAAAAAAAAAAAAAAAAAAAAAAAAAAAAAAAAAAAAAAAAAAAAAAAAAAAAAAAAAAAAAAAAAAAAAAAAAAAAAAAAAAAAAAAAAAAAAAAAAAAAAAAAAAAAAAAAAAAAAAAAAAAAAAAAAAAAAAAAAAAAAAAAAAAAAAAAAAAAAAAAAAAAAAAAAAAAAAAAAAAAAAAAAAAAAAAAAAAAAAAAAAAAAAAAAAAAAAAAAAAAAAAAAAAAAAAAAAAAAAAAAAAAAAAAAAAAAAAAAAAAAAAAAAAAAAAAAAAAAAAAAAAAAAAAAAAAAAAAAAAAAAAAAAAAAAAAAAAAAAAAAAAAAAAAAAAAAAAAAAAAAAAAAAAAAAAAAAAAAAAAAAAAAAAAAAAAAAAAAAAAAAAAAAAAAAAAAAAAAAAAAAAAAAAAAAAAAAAAAAAAAAAAAAAAAAAAAAAAAAAAAAAAAAAAAAAAAAAAAAAAAAAAAAAAAAAAAAAAAAAAAAAAAAAAAAAAAAAAAAAAAAAAAAAAAAAAAAAAAAAAAAAAAAAAAAAAAAAAAAAAAAAAAAAAAAAAAAAAAAAAAAAAAAAAAAAAAAAAAAAAAAAAAAAAAAAAAAAAAAAAAAAAAAAAAAAAAAAAAAAAAAAAAAAAAAAAAAAAAAAAAAAAAAAAAAAAAAAAAAAAAAAAAAAAAAAAAAAAAAAAAAAAAAAAAAAAAAAAAAAAAAAAAAAAAAAAAAAAAAAAAAAAAAAAAAAAAAAAAAAAAAAAAAAAAAAAAAAAAAAAAAAAAAAAAAAAAAAAAAAAAAAAAAAAAAAAAAAAAAAAAAAAAAAAAAAAAAAAAAAAAAAAAAAAAAAAAAAAAAAAAAAAAAAAAAAAAAAAAAAAAAAAAAAAAAAAAAAAAAAAAAAAAAAAAAAAAAAAAAAAAAAAAAAAAAAAAAAAAAAAAAAAAAAAAAAAAAAAAAAAAAAAAAAAAAAAAAAAAAAAAAAAAAAAAAAAAAAAAAAAAAAAAAAAAAAAAAAAAAAAAAAAAAAAAAAAAAAAAAAAAAAAAAAAAAAAAAAAAAAAAAAAAAAAAAAAAAAAAAAAAAAAAAAAAAAAAAAAAAAAAAAAAAAAAAAAAAAAAAAAAAAAAAAAAAAAAAAAAAAAAAAAAAAAAAAAAAAAAAAAAAAAAAAAAAAAAAAAAAAAAAAAAAAAAAAAAAAAAAAAAAAAAAAAAAAAAAAAAAAAAAAAAAAAAAAAAAAAAAAAAAAAAAAAAAAAAAAAAAAAAAAAAAAAAAAAAAAAAAAAAAAAAAAAAAAAAAAAAAAAAAAAAAAAAAAAAAAAAAAAAAAAAAAAAAAAAAAAAAAAqgNqHDmWPB8GQIG4AAAAAAAAAAAAAAAAfoygmRjtmp3XTM4k5zKWOY8yRqIAAAAAAAAAAAAAAAAAAAAAAAAAAAAAAAAAAAAAAAAAAAAAAAAAAAAAAAAAAAAAAAAAAAAAAAAAAAAAAAAAAAAAAAAAAAAAAAAAAAAAAAAAAAAAAAAAAAAAAAAAAAAAAAAAAAAAAAAAAAAAAAAAAAAAAAAAAAAAAAAAAAAAAAAAAAAAAAAAAAAAAAAAAAAAAAAAAAAAAAAAAAAAAAAAAAAAAAAAAAAAAAAAAAAAAAAAAAAAAAAAAAAAAAAAAAAAAAAAAAAAAAAAAAAAAAAAAAAAAAAAAAAAAAAAAAAAAAAAAAAAAAAAAAAAAAAAAAAAAAAAAAAAAAAAAAAAAAAAAAAAAAAAAAAAAAAAAAAAAAAAAAAAAAAAAAAAAAAAAAAAAAAAAAAAAAAAAAAAAAAAAAAAAAAAAAAAAAAAAAAAAAAAAAAAAAAAAAAAAAAAAAAAAAAAAAAAAAAAAAAAAAAAAAAAAAAAAAAAAAAAAAAAAAAAAAAAAAAAAAAAAAAAAAAAAAAAAAAAAAAAAAAAAAAAAAAAAAAAAAAAAAAAAAAAAAAAAAAAAAAAAAAAAAAAAAAAAAAAAAAAAAAAAAAAAAAAAAAAAAAAAAAAAAAAAAAAAAAAAAAAAAAAAAAAAAAAAAAAAAAAAAAAAAAAAAAAAAAAAAAAAAAAAAAAAAAAAAAAAAAAAAAAAAAAAAAAAAAAAAAAAAAAAAAAAAAAAAAAAAAAAAAAAAAAAAAAAAAAAAAAAAAAAAAAAAAAAAAAAAAAAAAAAAAAAAAAAAAAAAAAAAAAAAAAAAAAAAAAAAAAAAAAAAAAAAAAAAAAAAAAAAAAAAAAAAAAAAAAAAAAAAAAAAAAAAAAAAAAAAAAAAAAAAAAAAAAAAAAAAAAAAAAAAAAAAAAAAAAAAAAAAAAAAAAAAAAAAAAAAAAAAAAAAAAAAAAAAAAAAAAAAAAAAAAAAAAAAAAAAAAAAAAAAAAAAAAAAAAAAAAAAAAAAAAAAAAAAAAAAAAAAAAAAAAAAAAAAAAAAAAAAAAAAAAAAAAAAAAAAAAAAAAAAAAAAAAAAAAAAAAAAAAAAAAAAAAAAAAAAAAAAAAAAAAAAAAAAAAAAAAAAAAAAAAAAAAAAAAAAAAAAAAAAAAAAAAAAAAAAAAAAAAAAAAAAAAAAAAAAAAAAAAAAAAAAAAAAAAAAAAAAAAAAAAAAAAAAAAAAAAAAAAAAAAAAAAAAAAAAAAAAAAAAAAAAAAAAAAAAAAAAAAAAAAAAAAAAAAAAAAAAAAAAAAAAAAAAAAAAAAAAAAAAAAAAAAAAAAAAAAAAAAAAAAAAAAAAAAAAAAAAAAAAAAAAAAAAAAAAAAAAAAAAAAAAAAAAAAAAAAAAAAAAAAAAAAAAAAAAAAAAAAAAAAAAAAAAAAAAAAAAAAAAAAAAAAAAAAAAAAAAAAAAAAAAAAAAAAAAAAAAAAAAAAAAAAAAAAAAAAAAAAAAAAAAAAAAAAAAAAAAAAAAAAAAAAAAAAAAAAAAAAAAAAAAAAAAAAAAAAAAAAAAAAAAAAAAAAAAAAAAAAAAAAAAAAAAAAAAAAAAAAAAAAAAAAAAAAAAAAAAAAAAAAAAAAAAAAAAAAAAAAAAAAAAAAAAAAAAAAAAAAAAAAAAAAAAAAAAAAAAAAAAAAAAAAAAAAAAAAAAAQSfOo8PELJycpCagA/o2o3JLFJwSmvym06ZCoe+bTKKpl30EKoDUm/oEXpzXdpifxowQkCHEHJxdn6CUu+B6pL7isJ1nkHSa3hQepXlIvp6SvtCZjIps/shzfqdPThCeuh6+mYL1PJQAAAAAAAAAAAAAAAAAAAAAAAAAAAAAAAAAAAAAAAAAAAAAAAAAAAAAAAAAAAAAAAAAAAAAAAAAAAAAAAAAAAAAAAAAAAAAAAAAAAAAAAAAAAAAAAAAAAAAAAAAAAAAAAAAAAAAAAAAAAAAAAAAAAAAAAAAAAAAAAAAAAAAAAAAAAAAAAAAAAAAAAAAAAAAAAAAAAAAAAAAAAAAAAAAAAAAAAAAAAAAAAAAAAAAAAAAAAAAAAAAAAAAAAAAAAAAAAAAAAAAAAAAAAAAAAAAAAAAAAAAAAAAAAAAAAAAAAAAAAAAAAAAAAAAAAAAAAAAAAAAAAAAAAAAAAAAAAAAAAAAAAAAAAAAAAAAAAAAAAAAAAAAAAAAAAAAAAAAAAAAAAAAAAAAAAAAAAAAAAAAAAAAAAAAAAAAAAAAAAAAAAAAAAAAAAAAAAAAAAAAAAAAAAAAAAAAAAAAAAAAAAAAAAAAAAAAAAAAAAAAAAAAAAAAAAAAAAAAAAAAAAAAAAAAAAAAAAAAAAAAAAAAAAAAAAAAAAAAAAAAAAAAAAAAAAAAAAAAAAAAAAAAAAAAAAAAAAAAAAAAAAAAAAAAAAAAAAAAAAAAAAAAAAAAAAAAAAAAAAAAAAAAAAAAAAAAAAAAAAAAAAAAAAAAAAAAAAAAAAAAAAAAAAAAAAAAAAAAAAAAAAAAAAAAAAAAAAAAAAAAAAAAAAAAAAAAAAAAAAAAAAAAAAAAAAAAAAAAAAAAAAAAAAAAAAAAAAAAAAAAAAAAAAAAAAAAAAAAAAAAAAAAAAAAAAAAAAAAAAAAAAAAAAAAAAAAAAAAAAAAAAAAAAAAAAAAAAAAAAAAAAAAAAAAAAAAAAAAAAAAAAAAAAAAAAAAAAAAAAAAAAAAAAAAAAAAAAAAAAAAAAAAAAAAAAAAAAAAAAAAAAAAAAAAAAAAAAAAAAAAAAAAAAAAAAAAAAAAAAAAAAAAAAAAAAAAAAAAAAAAAAAAAAAAAAAAAAAAAAAAAAAAAAAAAAAAAAAAAAAAAAAAAAAAAAAAAAAAAAAAAAAAAAAAAAAAAAAAAAAAAAAAAAAAAAAAAAAAAAAAAAAAAAAAAAAAAAAAAAAAAAAAAAAAAAAAAAAAAAAAAAAAAAAAAAAAAAAAAAAAAAAAAAAAAAAAAAAAAAAAAAAAAAAAAAAAAAAAAAAAAAAAAAAAAAAAAAAAAAAAAAAAAAAAAAAAAAAAAAAAAAAAAAAAAAAAAAAAAAAAAAAAAAAAAAAAAAAAAAAAAAAAAAAAAAAAAAAAAAAAAAAAAAAAAAAAAAAAAAAAAAAAAAAAAAAAAAAAAAAAAAAAAAAAAAAAAAAAAAAAAAAAAAAAAAAAAAAAAAAAAAAAAAAAAAAAAAAAAAAAAAAAAAAAAAAAAAAAAAAAAAAAAAAAAAAAAAAAAAAAAAAAAAAAAAAAAAAAAAAAAAAAAAAAAAAAAAAAAAAAAAAAAAAAAAAAAAAAAAAAAAAAAAAAAAAAAAAAAAAAAAAAAAAAAAAAAAAAAAAAAAAAAAAAAAAAAAAAAAAAAAAAAAAAAAAAAAAAAAAAAAAAAAAAAAAAAAAAAAAAAAAAAAAAAAAAAAAAAAAAAAAAAAAAAAAAAAAAAAAAAAAAAAAAAAAAAAAAAAAAAAAAAAAAAAAAAAAAAAAAAAAAAAAAAAAAAAAAAAAAAAAAAAAAAAAAAAAAAAAAAAAAAAAAAAAAAAAAAAAAAAAAAAAAAAAAAAAAAAAAAAAAAAAAAAAAAAAAAAAAAAAAAAAAAAAAAAAAAAAAAAAAAAAAAAAAAAAAAAAAAAAAAAAAAAAAAAAAAAAAAAAAAAAAAAAAAAAAAAAAAAAAAAAAAAAAAAAAAAAAAAAAAAAAAAAAAAAAAAAAAAAAAAAAAAAAAAAAAAAAAAAAAAAAAAAAAAAAAAAAAAAAAAAAAAAAAAAAAAAAAAAAAAAAAAAAAAAAAAAAAAAAAAAAAAAAAAAAAAAAAAAAAAAAAAAAAAAAAAAAAAAAAAAAAAAAAAAAAAAAAAAAAAAAAAAAAAAAAAAAAAAAAAAAAAAAAAAAAAAAAAAAAAAAAAAAAAAAAAAAAAAAAAAAAAAAAAAAAAAAAAAAAAAAAAAAAAAAAAAAAAAAAAAAAAAAAAAAAAAAAAAAAAAAAAAAAAAAAAAAAAAAAAAAAAAAAAAAAAAAAAAAAAAAAAAAAAAAAAAAAAAAAAAAAAAAAAAAAAAAAAAAAAAAAAAAAAAAAAAAAAAAAAAAAAAAAAAAAAAAAAAAAAAAAAAAAAAAAAAAAAAAAAAAAAAAAAAAAAAAAAAAAAAAAAAAAAAAAAAAAAAAAAAAAAAAAAAAAAAAAAAAAAAAAAAAAAAAAAAAAAAAAAAAAAAAAAAAAAAAAAAAAAAAAAAAAAAAAAAAAAAAAAAAAAAAAAAAAAAAAAAAAAAAAAAAAAAAAAAAAAAAAAAAAAAAAAAAAAAAAAAAAAAAAAAAAAAAAAAAAAAAAAAAAAAAAAAAAAAAAAAAAAAAAAAAAAAAAAAAAAAAAAAAAAAAAAAAAAAAAAAAAAAAAAAAAAAAAAAAAAAAAAAAAAAAAAAAAAAAAAAAAAAAAAAAAAAAAAAAAAAAAAAAAAAAAAAAAAAAAAAAAAAAAAAAAAAAAAAAAAAAAAAAAAAAAAAAAAAAAAAAAAAAAAAAAAAAAAAAAAAAAAAAAAAAAAAAAAAAAAAAAAAAAAAAAAAAAAAAAAAAAAAAAAAAAAAAAAAAAAAAAAAAAAAAAAAAAAAAAAAAAAAAAAAAAAAAAAAAAAAAAAAAAAAAAAAAAAAAAAAAAAAAAAAAAAAAAAAAAAAAAAAAAAAAAAAAAAAAAAAAAAAAAAAAAAAAAAAAAAAAAAAAAAAAAAAAAAAAAAAAAAAAAAAAAAAAAAAAAAAAAAAAAAAAAAAAAAAAAAAAAAAAAAAAAAAAAAAAAAAAAAAAAAAAAAAAAAAAAAAAAAAAAAAAAAAAAAAAAAAAAAAAAAAAAAAAAAAAAAAAAAAAAAAAAAAAAAAAAAAAAAAAAAAAAAAAAAAAAAAAAAAAAAAAAAAAAAAAAAAAAAAAAAAAAAAAAAAAAAAAAAAAAAAAAAAAAAAAAAAAAAAAAAAAAAAAAAAAAAAAAAAAAAAAAAAAAAAAAAAAAAAAAAAAAAAAAAAAAAAAAAAAAAAAAAAAAAAAAAAAAAAAAAAAAAAAAAAAAAAAAAAAAAAAAAAAAAAAAAAAAAAAAAAAAAAAAAAAAAAAAAAAAAAAAAAAAAAAAAAAAAAAAAAAAAAAAAAAAAAAAAAAAAAAAAAAAAAAAAAAAAAAAAAAAAAAAAAAAAAAAAAAAAAAAAAAAAAAAAAAAAAAAAAAAAAAAAAAAAAAAAAAAAAAAAAAAAAAAAAAAAAAAAAAAAAAAAAAAAAAAAAAAAAAAAAAAAAAAAAAAAAAAAAAAAAAAAAAAAAAAAAAAAAAAAAAAAAAAAAAAAAAAAAAAAAAAAAAAAAAAAAAAAAAAAAAAAAAAAAAAAAAAAAAAAAAAAAAAAAAAAAAAAAAAAAAAAAAAAAAAAAAAAAAAAAAAAAAAAAAAAAAAAAAAAAAAAAAAAAAAAAAAAAAAAAAAAAAAAAAAAAAAAAAAAAAAAAAAAAAAAAAAAAAAAAAAAAAAAAAAAAAAAAAAAAAAAAAAAAAAAAAAAAAAAAAAAAAAAAAAAAAAAAAAAAAAAAAAAAAAAAAAAAAAAAAAAAAAAAAAAAAAAAAAAAAAAAAAAAAAAAAAAAAAAAAAAAAAAAAAAAAAAAAAAAAAAAAAAAAAAAAAAAAAAAAAAAAAAAAAAAAAAAAAAAAAAAAAAAAAAAAAAAAAAAAAAAAAAAAAAAAAAAAAAAAAAAAAAAAAAAAAAAAAAAAAAAAAAAAAAAAAAAAAAAAAAAAAAAAAAAAAAAAAAAAAAAAAAAAAAAAAAAAAAAAAAAAAAAAAAAAAAAAAAAAAAAAAAAAAAAAAAAAAAAAAAAAAAAAAAAAAAAAAAAAAAAAAAAAAAAAAAAAAAAAAAAAAAAAAAAAAAAAAAAAAAAAAAAAAAAAAAAAAAAAAAAAAAAAAAAAAAAAAAAAAAAAAAAAAAAAAAAAAAAAAAAAAAAAAAAAAAAAAAAAAAAAAAAAAAAAAAAAAAAAAAAAAAAAAAAAAAAAAAAAAAAAAAAAAAAAAAAAAAAAAAAAAAAAAAAAAAAAAAAAAAAAAAAAAAAAAAAAAAAAAAAAAAAAAAAAAAAAAAAAAAAAAAAAAAAAAAAAAAAAAAAAAAAAAAAAAAAAAAAAAAAAAAAAAAAAAAAAAAAAAAAAAAAAAAAAAAAAAAAAAAAAAAAAAAAAAAAAAAAAAAAAAAAAAAAAAAAAAAAAAAAAAAAAAAAAAAAAAAAAAAAAAAAAAAAAAAAAAAAAAAAAAAAAAAAAAAAAAAAAAAAAAAAAAAAAAAAAAAAAAAAAAAAAAAI/xWx6Ysn+eFQGNuQAAAAAAAAAAAAAAAB2teDqrho4ecRF+ncrRgLqMYgEfAAAAAAAAAAAAAAAAAAAAAAAAAAAAAAAAAAAAAAAAAAAAAAAAAAAAAAAAAAAAAAAAAAAAAAAAAAAAAAAAAAAAAAAAAAAAAAAAAAAAAAAAAAAAAAAAAAAAAAAAAAAAAAAAAAAAAAAAAAAAAAAAAAAAAAAAAAAAAAAAAAAAAAAAAAAAAAAAAAAAAAAAAAAAAAAAAAAAAAAAAAAAAAAAAAAAAAAAAAAAAAAAAAAAAAAAAAAAAAAAAAAAAAAAAAAAAAAAAAAAAAAAAAAAAAAAAAAAAAAAAAAAAAAAAAAAAAAAAAAAAAAAAAAAAAAAAAAAAAAAAAAAAAAAAAAAAAAAAAAAAAAAAAAAAAAAAAAAAAAAAAAAAAAAAAAAAAAAAAAAAAAAAAAAAAAAAAAAAAAAAAAAAAAAAAAAAAAAAAAAAAAAAAAAAAAAAAAAAAAAAAAAAAAAAAAAAAAAAAAAAAAAAAAAAAAAAAAAAAAAAAAAAAAAAAAAAAAAFQGNuXKVVR7iV82dAAAAAAAAAAAAAAAAHa14OsrRgLqZZTMeqa9Yn5fca54AAAAAAAAAAAAAAAAAAAAAAAAAAAAAAAAAAAAAAAAAAAAAAAAAAAAAAAAAAAAAAAAAAAAAyafKIyM+/J9xuhAmCk70JMhQ+6JJmYol0v0SIUrogx/fRjm9WGqcJpfLEaTS/LukuYeco3TJJ5QAAAAAUGaBI9d+9aCBNjMfAAAAAAAAAAAAAAAA37hGuVBJkSQYaYSgRu5vIDgxNB0AAAAAAAAAABUBjTk02d0dgdHZmwAAAAAAAAAAAAAAAB2teDrK0YA6gz/2nSCjER6kIy8eAAAAAAAAAAAAAAAAAAAAAAAAAAAAAAAAAAAAAAAAAAAAAAAAAAAAAAAAAAAAAAAAAAAAAAAAAAAAAAAAAAAAAAAAAAAAAAAAAAAAAAAAAAAAAAAAAAAAAAAAAAAAAAAAAAAAAAAAAAAAAAAAAAAAAAAAAAAAAAAAAAAAAAAAAAAAAAAAAAAAAAAAAAAAAAAAAAAAAAAAAAAAAAAAAAAAAAAAAAAAAAAAAAAAAAAAAAAAAAAAAAAAAAAAAAAAAAAAAAAAAAAAAAAAAAAAAAAAAAAAAAAAAAAAAAAAAAAAAAAAAAAAAAAAAAAAAAAAAAAAAAAAAAAAAAAAAAAAAAAAAAAAAAAAAAAAAAAAAAAAAAAAAAAAAAAAAAAAAAAAAAAAAAAAAAAAAAAAAAAAAAAAAAAAAAAAAAAAAAAAAAAAAAAAAAAAAAAAAAAAAAAAAAAAAAAAAAAAAAAAAAAAAAAAAAAAAAAAAAAAAAAAAAAAAAAAAAAAo8mLHsFHn50VAY05AAAAAAAAAAAAAAAAHa14OtGsMR5417EeytGAOi5h3J4AAAAAAAAAAAAAAAAAAAAAAAAAAAAAAAAAAAAAAAAAAAAAAAAAAAAAAAAAAAAAAAAAAAAAAAAAAAAAAAAAAAAAAAAAAAAAAAAAAAAAAAAAAAAAAAAAAAAAAAAAAAAAAAAAAAAAAAAAAAAAAAAAAAAAAAAAAAAAAAAAAAAAAAAAAAAAAAAAAAAAAAAAAAAAAAAAAAAAAAAAAAAAAAAAAAAAAAAAAAAAAAAAAAAAAAAAAAAAAAAAAAAAAAAAAAAAAAAAAAAAAAAAAAAAAAAAAAAAAAAAAAAAAAAAAAAAAAAAAAAAAAAAAAAAAAAAAAAAAAAAAAAAAAAAAAAAAAAAAAAAAAAAAAAAAAAAAAAAAAAAAAAAAAAAAAAAAAAAAAAAAAAAAAAAAAAAAAAAAAAAAAAAAAAAAAAAAAAAAAAAAAAAAAAAAAAAAAAAAAAAAAAAAAAAAAAAAAAAAAAAAAAAAAAAAAAAAAAAAAAAAAAAAAAAAAAAAAAAAAAAAAAAAAAAAAAAAAAAAAAAAAAAAAAAAAAAAAAAAAAAAAAAAAAAAAAAAAAAAAAAAAAAAAAAAAAAAAAAAAAAAAAAAAAAAAAAAAAAAAAAAAAAAAAAAAAAAAAAAAAAAAAAAAAAAAAAAAAAAAAAAAAAAAAAAAAAAAAAAAAAAAAAAAAAAAAAAAAAAAAAAAAAAAAAAAAAAAAAAAAAAAAAAAAAAAAAAAAAAAAAAAAAAAAAAAAAAAAAAAAAAAAAAAAAAAAAAAAAAAAAAAAAAAAAAAAAAAAAAAAAAAAAAAAAAAAAAAAAAAAAAAAAAAAAAAAAAAAAAAAAAAAAAAAAAAAAAAAAAAAAAAAAAAAAAAAAAAAAAAAAAAAAAAAAAAAAAAAAAAAAAAAAAAAAAAAAAAAAAAAAAAAAAAAAAAAAAAAAAAAAAAAAAAAAAAAAAAAAAAAAAAAAAAAAAAAAAAAAAAAAAAAAAAAAAAAAAAAAAAAAAAAAAAAAAAAAAAAAAAAAAAAAAAAAAAAAAAAAAAAAAAAAAAAAAAAAAAAAAAAAAAAAAAAAAAAAAAAAAAAAAAAAAAAAAAAAAAAAAAAAAAAAAAAAAAAAAAAAAAAAAAAAAAAAAAAAAAAAAAAAAAAAAAAAAAAAAAAAAAAAAAAAAAAAAAAAAAAAAAAAAAAAAAAAAAAAAAAAAAAAAAAAAAAAAAAAAAAAAAAAAAAAAAAAAAAAAAAAAAAAAAAAAAAAAAAAAAAAAAAAAAAAAAAAAAAAAAAAAAAAAAAAAAAAAAAAAAAAAAAAAAAAAAAAAAAAAAAAAAAAAAAAAAAAAAAAAAAAAAAAAAAAAAAAAAAAAAAAAAAAAAAAAAAAAAAAAAAAAAAAAAAAAAAAAAAAAAAAAAAAAAAAAAAAAAAAAAAAAAAAAAAAAAAAAAAAAAAAAAAAAAAAAAAAAAAAAAAAAAAAAAAAAAAAAAAAAAAAAAAAAAAAAAAAAAAAAAAAAAAAAAAAAAAAAAAAAAAAAAAAAAAAAAAAAAAAAAAAAAAAAAAAAAAAAAAAAAAAAAAAAAAAAAAAAAAAAAAAAAAAAAAAAAAAAAAAAAAAAAAAAAAAAAAAAAAAAAAAAAAAAAAAAAAAAAAAAAAAAAAAAAAAAAAAAAAAAAAAAAAAAAAAAAAAAAAAAAAAAAAAAAAAAAAAAAAAAAAAAAAAAAAAAAAAAAAAAAAAAAAAAAAAAAAAAAAAAAAAAAAAAAAAAAAAAAAAAAAAAAAAAAAAAAAAAAAAAAAAAAAAAAAAAAAAAAAAAAAAAAAAAAAAAAAAAAAAAAAAAAAAAAAAAAAAAAAAAAAAAAAAAAAAAAAAAAAAAAAAAAAAAAAAAAAAAAAAAAAAAAAAAAAAAAAAAAAAAAAAAAAAAK3XvjvPNxy1rde+OwAAAAAAAAAAAAAAAMGcqLyhnQ42ZGNCPKGdDjbrJiYlHllXugAAAABQr5U8zrhFvFCvlTwAAAAAAAAAAAAAAAAFW0O9rxMBPSaJeTyvEwE9IMr/qYgGqaMtoxAh0vQZIyJjDyMFopy9InzGoK1t2aGmA9a8YfIvPpwZHqQcWWGkWHnlusOCiiXMxAqkA5sQn9HoWyG9NvSkoJQpvaoSriLJ3QuiaU2DvClFjj04MVIlsPc6ouMBSr3VF+ejAAAAAAAAAACt1767zzccNa3XvjsAAAAAAAAAAAAAAADBnKi8oZ0OtmRjQryhnQ42l5gypR5ZVzoAAAAAUK+VvM64RTxQr5U8AAAAAAAAAAAAAAAABVtDva8TAb0miXm8rxMBPbu9/ykAAAAAAAAAAAAAAAAAAAAAAAAAAAAAAAAAAAAAAAAAAAAAAAAAAAAAAAAAAAAAAAAAAAAAAAAAAAAAAAAAAAAAAAAAAAAAAAAAAAAAAAAAAAAAAAAAAAAAAAAAAAAAAAAAAAAAAAAAAAAAAAAAAAAAAAAAAAAAAAAAAAAAAAAAAAAAAAAAAAAAAAAAAAAAAAAAAAAAAAAAAAAAAAAAAAAAAAAAAAAAAAAAAAAAAAAAAAAAAAAAAAAAAAAAAAAAAAAAAAAAAAAAAAAAAAAAAAAAl58cIfxtwSAFopy9/SX8Id4ZtCSmA9a8W+eLILMUMyFh8i8+WHnluq27yyTYCo4jrMompR14jaMdWUIfoJQpvenRE6SiBLgkaU2DvP4ZqyFGbs6gKUWOPeMBSr1VBkckdCoPJYntL6Xe7LciphqxHwWinD17r/AjY05xJKYD1jykfCSigsbIImHyLz5YeeU6of6kpAE+SaRdNV8kF7EqI/lu+R+glCk9Y4NRJObb9CRpTYM88qmmoTFRVqIpRY494wFKPfmiL6SHewSiORdxpQAAAAAAAAAAAAAAAAAAAAAAAAAAAAAAAAAAAAAAAAAAAAAAAAAAAAAAAAAAAAAAAAAAAAAAAAAAAAAAAAAAAAAAAAAAAAAAAAAAAAAAAAAAAAAAAAAAAAAAAAAAAAAAAAAAAAAAAAAAAAAAAAAAAAAAAAAAAAAAAAAAAAAAAAAAAAAAAAAAAAAAAAAAAAAAAAAAAAAAAAAAAAAAAAAAAAAAAAAAAAAAAAAAAAAAAAAAAAAAAAAAAAAAAAAAAAAAAAAAAAAAAAAAAAAAAAAAAAAAAAAAAAAAAK3XvjvPNxw1rde+uwAAAAAAAAAAAAAAAMGcqLyhnQ42ZGNCvKGdDrbGxzGlHllXOgAAAABQr5U8zrhFPFCvlbwAAAAAAAAAAAAAAAAFW0O9rxMBPSaJebyvEwG9ytT/Kc1niyKGiGGgM9YfJfj+fiIFopw9NRuAokSAuiGmA9Y8YfIvPg+QZ6T2VWokWHnlOtcAQKXnVwIkBJCrIOPVOyQ4grEioJQpPXh3ciKkDiwiaU2DPClFjj2kzJQlCbpDpOMBSj2Mm5KlAAAAAAAAAACt1767zzccta3XvrsAAAAAAAAAAAAAAADBnKi8oZ0OtmRjQjyhnQ62r1EmJR5ZV7oAAAAAUK+VvM64RbxQr5W8AAAAAAAAAAAAAAAABVtDva8TAb0miXk8rxMBvVbI/6kAAAAAAAAAAAAAAAAAAAAAAAAAAAAAAAAAAAAAAAAAAAAAAAAAAAAAAAAAAAAAAAAAAAAAAAAAAAAAAAAAAAAAAAAAAAAAAAAAAAAAAAAAAAAAAAAAAAAAAAAAAAAAAAAAAAAAAAAAAAAAAAAAAAAAAAAAAAAAAAAAAAAAAAAAAAAAAAAAAAAAAAAAAAAAAAAAAAAAAAAAAAAAAAAAAAAAAAAAAAAAAAAAAAAAAAAAAAAAAAAAAAAAAAAAAAAAAAAAAAAAAAAAAAAAAAAAAAAAAAAAAAAAAAAAAAAAAAAAAAAAAAAAAAAAAAAAAAAAAAAAAAAAAAAAAAAAAAAAAAAAAAAAAAAAAAAAAAAAAAAAAAAAAAAAAAAAAAAAAAAAAAAAAAAAAAAAAAAAAAAAAAAAAAAAAAAAAAAAAAAAAAAAAAAAAAAAAAAAAAAAAAAAAAAAAAAAAAAAAAAAAAAAAAAAAAAAAAAAAAAAAAAAAAAAAAAAAAAAAAAAAAAAAAAAAAAAAAAAAAAAAAAAAAAAAAAAAAAAAAAAAAAAAAAAAAAAAAAAAAAAAAAAAAAAAAAAAAAAAAAAAAAAAAAAAAAAAAAAAAAAAAAAAAAAAAAAAAAAAAAAAAAAAAAAAAAAAAAAAAAAAAAAAAAAAAAAAAAAAAAAAAAAAAAAAAAAAAAAAAAAAAAAAAAAAAAAAAAAAAAAAAAAAAAAAAAAAAAAAAAAAAAAAAAAAAAAAAAAAAAAAAAAAAAAAAAAAAAAAAAAAAAAAAAAAAAAAAAAAAAAAAAAAAAAAAAAAAAAAAAAAAAAAAAAAAAAAAAAAAAAAAAAAAAAAAAAAAAAAAAAAAAAAAAAAAAAAAAAAAAAAAAAAAAAAAAAAAAAAAAAAAAAAAAAAAAAAAAAAAAAAAAAAAAAAAAAAAAAAAAAAAAAAAAAAAAAAAAAAAAAAAAAAAAAAAAAAAAAAAAAAAAAAAAAAAAAAAAAAAAAAAAAAAAAAAAAAAAAAAAAAAAAAAAAAAAAAAAAAAAAAAAAAAAAAAAAAAAAAAAAAAAAAAAAAAAAAAAAAAAAAAAAAAAAAAAAAAAAAAAAAAAAAAAAAAAAAAAAAAAAAAAAAAAAAAAAAAAAAAAAAAAAAAAAAAAAAAAAAAAAAAAAAAAAAAAAAAAAAAAAAAAAAAAAAAAAAAAAAAAAAAAAAAAAAAAAAAAAAAAAAAAAAAAAAAAAAAAAAAAAAAAAAAAAAAAAAAAAAAAAAAAAAAAAAAAAAAAAAAAAAAAAAAAAAAAAAAAAAAAAAAAAAAAAAAAAAAAAAAAAAAAAAAAAAAAAAAAAAAAAAAAAAAAAAAAAAAAAAAAAAAAAAAAAAAAAAAAAAAAAAAAAAAAAAAAAAAAAAAAAAAAAAAAAAAAAAAAAAAAAAAAAAAAAAAAAAAAAAAAAAAAAAAAAAAAAAAAAAAAAAAAAAAAAAAAAAAAAAAAAAAAAAAAAAAAAAAAAAAAAAAAAAAAAAAAAAAAAAAAAAAAAAAAAAAAAAAAAAAAAAAAAAAAAAAAAAAAAAAAAAAAAAAAAAAAAAAAAAAAAAAAAAAAAAAAAAAAAAAAAAAAAAAAAAAAAAAAAAAAAAAAAAAAAAAAAAAAAAAAAAAAAAAAAAAAAAAAAAAAAAAAAAAAAAAAAAAAAAAAAAAAAAAAAAAAAAAAAAAAAAAAAAAAAAAAAAAAAAAAAAAAAAAAAAAAAAAAAAAAAAAAAAAAAAAAAA2qquwAAAADBVgA9z3xvPMFWAD0AAAAAAAAAAAAAAAAbr6S9HM8ZvaymET0czxm9EhryqgAAAAAAAAAAQ5xNHpkCIR6rBo25AAAAAAAAAAAAAAAAHa14OvO3rJ+99fmeAtyAOhHCbh9qGL8jYEMCoUmAwiQ28pejiipJvYFHvKIKvBsjroI4vYKGSDw6skiltEnEJEqOYjsv7CUmAAAAAAAAAAAAAAAAAAAAAAAAAAAAAAAAAAAAAAAAAAAAAAAAAAAAAAAAAAAAAAAAAAAAAANqqjsAAAAAwVYAvc98b7zBVgA9AAAAAAAAAAAAAAAAG6+kvRzPGT2sphG9HM8ZvcoS8ioAAAAAAAAAAAAAAAAAAAAAAAAAAAAAAAAAAAAAAAAAAAAAAAAAAAAAAAAAAAAAAAAAAAAAAAAAAAAAAAAAAAAAAAAAAAAAAAAAAAAAAAAAAAAAAAAAAAAAAAAAAAAAAAAAAAAAAAAAAAAAAAAAAAAAAAAAAAAAAAAAAAAAAAAAAAAAAAAAAAAAAAAAAAAAAAAAAAAAAAAAAAAAAAAAAAAAAAAAAAAAAAAAAAAAAAAAAAAAAAAAAAAAAAAAAAAAAAAAAAAAAAAAAAAAAAAAAAAAAAAAAAAAAACrBo25Ci/8HYxmYh0AAAAAAAAAAAAAAAAdrXg6AtyAOliOxR5V+9WejI5fHo5YASPkU0eiiipJvcecgiXY1NAlroI4vW/tIiPjz+kjgoZIPEqOYjtnwuElCa4lpDXWZKK1pJyhoXmun7oiOKawf3skUR69Izlij6WAY+qhkZmwn99GOb0fYLkmIXmWJMsuuyRy8TSiDOd8p3H9t6cNAdKp4L26qFoBJCeCzgqqnCo1KGE4rydbsWtAq4QrKn7I2yfV8j+lc8dUJQAAAAAAAAAAqwaNOULgmh0vlPGeAAAAAAAAAAAAAAAAHa14OgLcgLoSsvyefdEwnyBHBp+FwI8jTuBuoYoqST3YBAClfM2dJa6COD3+Ys4icd/YoYKGSDxKjmK75JY3pRiAGaYNkpIlAAAAAAAAAAAAAAAAAAAAAAAAAAAAAAAAAAAAAAAAAAAAAAAAAAAAAAAAAAAAAAAAAAAAAAAAAAAAAAAAAAAAAAAAAAAAAAAAAAAAAAAAAAAAAAAAAAAAAAAAAAAAAAAAAAAAAAAAAAAAAAAAAAAAAAAAAAAAAAAAAAAAAAAAAAAAAAAAAAAAAAAAAAAAAAAAAAAAAAAAAAAAAAAAAAAAAAAAAAAAAAAAAAAAAAAAAAAAAAAAAAAAAAAAAAAAAAAAAAAAAAAAAAAAAAAAAAAAAAAAAAAAAAAAAAAAAAAAAAAAAAAAAAAAAAAAAAAAAAAAAAAAAAAAAAAAAAAAAAAAAAAAAAADaqo7AAAAAMFWAD3PfG+8wVYAvQAAAAAAAAAAAAAAABuvpL0czxm9rKYRvRzPGT19IvIqAAAAAAAAAACSsfAdf4RBnqsGjTkAAAAAAAAAAAAAAAAdrXg68lQhnw7bKx4C3IC6khminmNqt6PzyTghnqK/JVRKx6SKKkk9ssMcI1jAyyKugjg9goZIPPh8GCb+hC+lSo5iu6yqLSYAAAAAAAAAAAAAAAAAAAAAAAAAAAAAAAAAAAAAAAAAAAAAAAAAAAAAAAAAAAAAAAAAAAAAA2qquwAAAADBVgC9z3xvPMFWAL0AAAAAAAAAAAAAAAAbr6S9HM8ZPaymET0czxk90xryqgAAAAAAAAAAAAAAAAAAAAAAAAAAAAAAAAAAAAAAAAAAAAAAAAAAAAAAAAAAAAAAAAAAAAAAAAAAAAAAAAAAAAAAAAAAAAAAAAAAAAAAAAAAAAAAAAAAAAAAAAAAAAAAAAAAAAAAAAAAAAAAAAAAAAAAAAAAAAAAAAAAAAAAAAAAAAAAAAAAAAAAAAAAAAAAAAAAAAAAAAAAAAAAAAAAAAAAAAAAAAAAAAAAAAAAAAAAAAAAAAAAAAAAAAAAAAAAAAAAAAAAAAAAAAAAAAAAAAAAAAAAAAAAAAAAAAAAAAAAAAAAAAAAAAAAAAAAAAAAAAAAAAAAAAAAAAAAAAAAAAAAAAAAAAAAAAAAAAAAAAAAAAAAAAAAAAAAAAAAAAAAAAAAAAAAAAAAAAAAAAAAAAAAAAAAAAAAAAAAAAAAAAAAAAAAAAAAAAAAAAAAAAAAAAAAAAAAAAAAAAAAAAAAAAAAAAAAAAAAAAAAAAAAAAAAAAAAAAAAAAAAAAAAAAAAAAAAAAAAAAAAAAAAAAAAAAAAAAAAAAAAAAAAAAAAAAAAAAAAAAAAAAAAAAAAAAAAAAAAAAAAAAAAAAAAAAAAAAAAAAAAAAAAAAAAAAAAAAAAAAAAAAAAAAAAAAAAAAAAAAAAAAAAAAAAAAAAAAAAAAAAAAAAAAAAAAAAAAAAAAAAAAAAAAAAAAAAAAAAAAAAAAAAAAAAAAAAAAAAAAAAAAAAAAAAAAAAAAAAAAAAAAAAAAAAAAAAAAAAAAAAAAAAAAAAAAAAAAAAAAAAAAAAAAAAAAAAAAAAAAAAAAAAAAAAAAAAAAAAAAAAAAAAAAAAAAAAAAAAAAAAAAAAAAAAAAAAAAAAAAAAAAAAAAAAAAAAAAAAAAAAAAAAAAAAAAAAAAAAAAAAAAAAAAAAAAAAAAAAAAAAAAAAAAAAAAAAAAAAAAAAAAAAAAAAAAAAAAAAAAAAAAAAAAAAAAAAAAAAAAAAAAAAAAAAAAAAAAAAAAAAAAAAAAAAAAAAAAAAAAAAAAAAAAAAAAAAAAAAAAAAAAAAAAAAAAAAAAAAAAAAAAAAAAAAAAAAAAAAAAAAAAAAAAAAAAAAAAAAAAAAAAAAAAAAAAAAAAAAAAAAAAAAAAAAAAAAAAAAAAAAAAAAAAAAAAAAAAAAAAAAAAAAAAAAAAAAAAAAAAAAAAAAAAAAAAAAAAAAAAAAAAAAAAAAAAAAAAAAAAAAAAAAAAAAAAAAAAAAAAAAAAAAAAAAAAAAAAAAAAAAAAAAAAAAAAAAAAAAAAAAAAAAAAAAAAAAAAAAAAAAAAAAAAAAAAAAAAAAAAAAAAAAAAAAAAAAAAAAAAAAAAAAAAAAAAAAAAAAAAAAAAAAAAAAAAAAAAAAAAAAAAAAAAAAAAAAAAAAAAAAAAAAAAAAAAAAAAAAAAAAAAAAAAAAAAAAAAAAAAAAAAAAAAAAAAAAAAAAAAAAAAAAAAAAAAAAAAAAAAAAAAAAAAAAAAAAAAAAAAAAAAAAAAAAAAAAAAAAAAAAAAAAAAAAAAAAAAAAAAAAAAAAAAAAAAAAAAAAAAAAAAAAAAAAAAAAAAAAAAAAAAAAAAAAAAAAAAAAAAAAAAAAAAAAAAAAAAAAAAAAAAAAAAAAAAAAAAAAAAAAAAAAAAAAAAAAAAAAAAAAAAAAAAAAAAAAAAAAAAAAAAAAAAAAAAAAAAAAAAAAAAAAAAAAAAAAAAAAAAAAAAAAAAAAAAAAAAAAAAAAAAAAAAAAAAAAAAAAAAAAAAAAAAAAAAAAAAAAAAAAAAAAAAAAAAAAAAAAAAAAAAAAAAAAAAAAAAAAAAAAAAAAAAAAAAAAAAAAAAAAAAAAAAAAAAAAAAAAAAAAAAAAAAAAAAAAAAAAAAAAW+wOG5fW/RvrkUq3AAAAAAAAAAAAAAAAXHUHOO5sN5zP0zCcPghEOOYWGxsAAAAAAAAAAAAAAAAAAAAAAAAAAAAAAAAAAAAAAAAAAAAAAAAAAAAAAAAAAAAAAAAAAAAAAAAAAAAAAAAAAAAAAAAAAAAAAAAAAAAAAAAAAAAAAAAAAAAAAAAAAAAAAAAAAAAAAAAAAAAAAAAAAAAAAAAAAAAAAAAAAAAAAAAAAAAAAAAAAAAAAAAAAAAAAAAAAAAAAAAAAAAAAAAAAAAAAAAAAAAAAAAAAAAAAAAAAAAAAAAAAAAAAAAAAAAAAAAAAAAAAAAAAAAAAAAAAAAAAAAAAAAAAAAAAAAAAAAAAAAAAAAAAAAAAAAAAAAAAAAAAAAAAAAAAAAAAAAAAAAAAAAAAAAAAAAAAAAAAAAAAAAAAAAAAAAAAAAAAAAAAAAAAAAAAAAAAAAAAAAAAAAAAAAAAAAAAAAAAAAAAAAAAAAAAAAAAAAAAAAAAAAAAAAAAAAAAAAAAAAAAAAAAAAAAAAAAAAAAAAAAAAAAAAAAAAAAADrkUq3eYvBGb4Es5sAAAAAAAAAAAAAAABcdQc4PghEOFpJYxzKSs4cQVYKHAAAAAAAAAAAAAAAAAAAAAAAAAAAAAAAAAAAAAAAAAAAAAAAAAAAAAAAAAAAAAAAAAAAAACEUDsfAAAAAHshAyUtlYWiQ32DoKUHCiDtcJ4ZOJ70FreUdbvFrAem7NvWImL/E6Jg+DsfAAAAAAAAAAAAAAAAAAAAAAAAAAAAAAAAAAAAAAAAAAAAAAAAAAAAAAAAAAAAAAAAAAAAAAAAAAAAAAAA65FKN8Vj3Bt7A7ObAAAAAAAAAAAAAAAAXHUHOD4IRLgKktObiYDNHHgBx5kAAAAAAAAAAAAAAAAAAAAAAAAAAAAAAAAAAAAAAAAAAAAAAAAAAAAAAAAAAAAAAAAAAAAAAAAAAAAAAAAAAAAAAAAAAAAAAAAAAAAAAAAAAAAAAAAAAAAAAAAAAAAAAAAAAAAAAAAAAAAAAAAAAAAAAAAAAAAAAAAAAAAAAAAAAAAAAAAAAAAAAAAAAAAAAAAAAAAAAAAAAAAAAAAAAAAAAAAAAAAAAAAAAAAAAAAAAAAAAAAAAAAAAAAAAAAAAAAAAAAAAAAAAAAAAAAAAAAAAAAAAAAAAAAAAAAAAAAAAAAAAAAAAAAAAAAAAAAAAAAAAAAAAAAAAAAAAAAAAAAAAAAAAAAAAAAAAAAAAAAAAAAAAAAAAAAAAAAAAAAAAAAAAAAAAAAAAAAAAAAAAAAAAAAAAAAAAAAAAAAAAAAAAAAAAAAAAAAAAAAAAAAAAAAAAAAAAAAAAAAAAAAAAAAAAAAAAAAAAAAAAAAAAAAAAAAAAACVN9Ib8yfgmuuRSjcAAAAAAAAAAAAAAABcdQc4TSRcnNDbKxw+CES4qPsZnAAAAAAAAAAAAAAAAAAAAAAAAAAAAAAAAAAAAAAAAAAAAAAAAAAAAAAAAAAAAAAAAAAAAAAAAAAAAAAAAAAAAAAAAAAAAAAAAAAAAAAAAAAAAAAAAAAAAAAAAAAAAAAAAAAAAAAAAAAAAAAAAAAAAAAAAAAAAAAAAAAAAAAAAAAAAAAAAAAAAAAAAAAAAAAAAAAAAAAAAAAAAAAAAAAAAAAAAAAAAAAAAAAAAAAAAAAAAAAAAAAAAAAAAAAAAAAAAAAAAAAAAAAAAAAAAAAAAAAAAAAAAAAAAAAAAAAAAAAAAAAAAAAAAAAAAAAAAAAAAAAAAAAAAAAAAAAAAAAAAAAAAAAAAAAAAAAAAAAAAAAAAAAAAAAAAAAAAAAAAAAAAAAAAAAAAAAAAAAAAAAAAAAAAAAAAAAAAAAAAAAAAAAAAAAAAAAAAAAAAAAAAAAAAAAAAAAAAAAAAAAAAAAAAAAAAAAAAAAAAAAAAAAAAAAAAAAAAAAAAAAAAAAAAAAAAAAAAAAAAAAAAAAAAAAAAAAAAAAAAAAAAAAAAAAAAAAAAAAAAAAAAAAAAAAAAAAAAAAAAAAAAAAAAAAAAAAAAAAAAAAAAAAAAAAAAAAAAAAAAAAAAAAAAAAAAAAAAAAAAAAAAAAAAAAAAAAAAAAAAAAAAAAAAAAAAAAAAAAAAAAAAAAAAAAAAAAAAAAAAAAAAAAAAAAAAAAAAAAAAAAAAAAAAAAAAAAAAAAAAAAAAAAAAAAAAAAAAAAAAAAAAAAAAAAAAAAAAAAAAAAAAAAAAAAAAAAAAAAAAAAAAAAAAAAAAAAAAAAAAAAAAAAAAAAAAAAAAAAAAAAAAAAAAAAAAAAAAAAAAAAAAAAAAAAAAAAAAAAAAAAAAAAAAAAAAAAAAAAAAAAAAAAAAAAAAAAAAAAAAAAAAAAAAAAAAAAAAAAAAAAAAAAAAAAAAAAAAAAAAAAAAAAAAAAA9Yenpz4Kdqi0QXe/bRJKKbgcKajZ6i2/pcPlpyFEBig/1AUmBVLEQdJghCd3Xm6madYMqLYyfSY7x9+m9JlavjrxvKd2gYonrDR6Ps0xoiZH36ImyynjqRzvbcBTIbUnGGmfJ8fzhKYAAAAAAAAAAAAAAAAAAAAAAAAAAAAAAAAAAAAAAAAAAAAAAAAAAAAAAAAAAAAAAAAAAAAAAAAAAAAAAAAAAAAAAAAAAAAAAAAAAAAAAAAAAAAAAAAAAAAAAAAAAAAAAAAAAAAAAAAAAAAAAAAAAAAAAAAAAAAAAAAAAAAAAAAAAAAAAAAAAAAAAAAAAAAAAAAAAAAAAAAAAAAAAAAAAAAAAAAAAAAAAAAAAAAAAAAAAAAAAAAAAAAAAAAAAAAAAAAAAAAAAAAAAAAAAAAAAAAAAAAAAAAAAAAAAAAAAAAAAAAAAAAAAAAAAAAAAAAAAAAAAAAAAAAAAAAAAAAAAAAAAAAAAAAAAAAAAAAAAAAAAAAAAAAAAAAAAAAAAAAAAAAAAAAAAAAAAAAAAAAAAAAAAAAAAAAAAAAAAAAAAAAAAAAAAAAAAAAAAAAAAAAAAAAAAAAAAAAAAAAAAAAAAAAAAAAAAAAAAAAAAAAAAAAAAAAAAAAAAAAAAAAAAAAAAAAAAAAAAAAAAAAAAAAAAAAAAAAAAAAAAAAAAAAAAAAAAAAAAAAAAAAAAAAAAAAAAAAAAAAAAAAAAAAAAAAAAAAAAAAAAAAAAAAAAAAAAAAAAAAAAAAAAAAAAAAAAAAAAAAAAAAAAAAAAAAAAAAAAAAAAAAAAAAAAAAAAAAAAAAAAAAAAAAAAAAAAAAAAAAAAAAAAAAAAAAAAAAAAAAAAAAAAAAAAAAAAAAAAAAAAAAAAAAAAAAAAAAAAAAAAAAAAAAAAAAAAAAAAAAAAAAAAAAAAAAAAAAAAAAAAAAAAAAAAAAAAAAAAAAAAAAAAAAAAAAAAAAAAAAAAAAAAAAAAAAAAAAAAAAAAAAAAAAAAAAAAAAAAAAAAAAAAAAAAAAAAAAAAAAAAAAAAAAAAAAAAAAAAAAAAAAAAAAAAAAAAAAAAAAAAAAAAAAAAAAAAAAAAAAAAAAAAAAAAAAAAAAAAAAAAAAAAAAAAAAAAAAAAAAAAAAAAAAAAAAAAAAAAAAAAAAAAAAAAAAAAAAAAAAAAAAAAAAAAAAAAAAAAAAAAAAAAAAAAAAAAAAAAAAAAAAAAAAAAAAAAAAAAAAAAAAAAAAAAAAAAAAAAAAAAAAAAAAAAAAAAAAAAAAAAAAAAAAAAAAAAAAAAAAAAAAAAAAAAAAAAAAAAAAAAAAAAAAAAAAAAAAAAAAAAAAAAAAAAAAAAAAAAAAAAAAAAAAAAAAAAAAAAAAAAAAAAAAAAAAAAAAAAAAAAAAAAAAAAAAAAAAAAAAAAAAAAAAAAAAAAAAAAAAAAAAAAAAAAAAAAAAAAAAAAAAAAAAAAAAAAAAAAAAAAAAAAAAAAAAAAAAAAAAAAAAAAAAAAAAAAAAAAAAAAAAAAAAAAAAAAAAAAAAAAAAAAAAAAAAAAAAAAAAAAAAAAAAAAAAAAAAAAAAAAAAAAAAAAAAAAAAAAAAAAAAAAAAAAAAAAAAAAAAAAAAAAAAAAAAAAAAAAAAAAAAAAAAAAAAAAAAAAAAAAAAAAAAAAAAAAAAAAAAAAAAAAAAAAAAAAAAAAAAAAAAAAAAAAAAAAAAAAAAAAAAAAAAAAAAAAAAAAAAAAAAAAAAAAAAAAAAAAAAAAAAAAAAAAAAAAAAAAAAAAAAAAAAAAAAAAAAAAAAAAAAAAAAAAAAAAAAAAAAAAAAAAAAAAAAAAAAAAAAAAAAAAAAAAAAAAAAAAAAAAAAAAAAAAAAAAAAAAAAAAAAAAAAAAAAAAAAAAAAAAAAAAAAAAAAAAAAAAAAAAAAAAAAAAAAAAAAAAAAAAAAAAAAAAAAAAAAAAAAAAAAAAAAAAAAAAAAAAAAAAAAAAAAAAAAAAAAAAAAAAAAAAAAAAAAAAAAAAAAAAAAAAAAAAAAAAAAAAAAAAAAAAAAAAAAAAAAAAAAAAAAAAAAAAAAAAAAAAAAAAAAAAAAAAAAAAAAAAAAAAAAAAAAAAAAAAAAAAAAAAAAAAAAAAAAAAAAAAAAAAAAAAAAAAAAAAAAAAAAAAAAAAAAAAAAAAAAAAAAAAAAAAAAAAAAAAAAAAAAAAAAAAAAAAAAAAAAAAAAAAAAAAAAAAAAAAAAAAAAAAAAAAAAAAAAAAAAAAAAAAAAAAAAAAAAAAAAAAAAAAAAAAAAAAAAAAAAAAAAAAAAAAAAAAAAAAAAAAAAAAAAAAAAAAAAAAAAAAAAAAAAAAAAAAAAAAAAAAAAAAAAAAAAAAAAAAAAAAAAAAAAAAAAAAAAAAAAAAAAAAAAAAAAAAAAAAAAAAAAAAAAAAAAAAAAAAAAAAAAAAAAAAAAAAAAAAAAAAAAAAAAAAAAAAAAAAAAAAAAAAAAAAAAAAAAAAAAAAAAAAAAAAAAAAAAAAAAAAAAAAAAAAAAAAAAAAAAAAAAAAAAAAAAAAAAAAAAAAAAAAAAAAAAAAAAAAAAAAAAAAAAAAAAAAAAAAAAAAAAAAAAAAAAAAAAAAAAAAAAAAAAAAAAAAAAAAAAAAAAAAAAAAAAAAAAAAAAAAAAAAAAAAAAAAAAAAAAAAAAAAAAAAAAAAAAAAAAAAAAAAAAAAAAAAAAAAAAAAAAAAAAAAAAAAAAAAAAAAAAAAAAAAAAAAAAAAAAAAAAAAAAAAAAAAAAAAAAAAAAAAAAAAAAAAAAAAAAAAAAAAAAAAAAAAAAAAAAAAAAAAAAAAAAAAAAAAAAAAAAAAAAAAAAAAAAAAAAAAAAAAAAAAAAAAAAAAAAAAAAAAAAAAAAAAAAAAAAAAAAAAAAAAAAAAAAAAAAAAAAAAAAAAAAAAAAAAAAAAAAAAAAAAAAAAAAAAAAAAAAAAAAAAAAAAAAAAAAAAAAAAAAAAAAAAAAAAAAAAAAAAAAAAAAAAAAAAAAAAAAAAAAAAAAAAAAAAAAAAAAAAAAAAAAAAAAAAAAAAAAAAAAAAAAAAAAAAAAAAAAAAAAAAAAAAAAAAAAAAAAAAAAAAAAAAAAAAAAAAAAAAAAAAAAAAAAAAAAAAAAAAAAAAAAAAAAAAAAAAAAAAAAAAAAAAAAAAAAAAAAAAAAAAAAAAAAAAAAAAAAAAAAAAAAAAAAAAAAAAAAAAAAAAAAAAAAAAAAAAAAAAAAAAAAAAAAAAAAAAAAAAAAAAAAAAAAAAAAAAAAAAAAAAAAAAAAAAAAAAAAAAAAAAAAAAAAAAAAAAAAAAAAAAAAAAAAAAAAAAAAAAAAAAAAAAAAAAAAAAAAAAAAAAAAAAAAAAAAAAAAAAAAAAAAAAAAAAAAAAAAAAAAAAAAAAAAAAAAAAAAAAAAAAAAAAAAAAAAAAAAAAAAAAAAAAAAAAAAAAAAAAAAAAAAAAAAAAAAAAAAAAAAAAAAAAAAAAAAAAAAAAAAAAAAAAAAAAAAAAAAAAAAAAAAAAAAAAAAAAAAAAAAAAAAAAAAAAAAAAAAAAAAAAAAAAAAAAAAAAAAAAAAAAAAAAAAAAAAAAAAAAAAAAAAAAAAAAAAAAAAAAAAAAAAAAAAAAAAAAAAAAAAAAAAAAAAAAAAAAAAAAAAAAAAAAAAAAAAAAAAAAAAAAAAAAAAAAAAAAAAAAAAAAAAAAAAAAAAAAAAAAAAAAAAAAAAAAAAAAAAAAAAAAAAAAAAAAAAAAAAAAAAAAAAAAAAAAAAAAAAAAAAAAAAAAAAAAAAAAAAAAAAAAAAAAAAAAAAAAAAAAAAAAAAAAAAAAAAAAAAAAAAAAAAAAAAAAAAAAAAAAAAAAAAAAAAAAAAAAAAAAAAAAAAAAAAAAAAAAAAAAAAAAAAAAAAAAAAAAAAAAAAAAAAAAAAAAAAAAAAAAAAAAAAAAAAAAAAAAAAAAAAAAAAAAAAAAAAAAAAAAAAAAAAAAAAAAAAAAAAAAAAAAAAAAAAAAAAAAAAAAAAAAAAAAAAAAAAAAAAAAAAAAAAAAAAAAAAAAAAAAAAAAAAAAAAAAAAAAAAAAAAAAAAAAAAAAAAAAAAAAAAAAAAAAAAAAAAAAAAAAAAAAAAAAAAAAAAAAAAAAAAAAAAAAAAAAAAAAAAAAAAAAAAAAAAAAAAAAAAAAAAAAAAAAAAAAAAAAAAAAAAAAAAAAAAAAAAAAAAAAAAAAAAAAAAAAAAAAAAAAAAAAAAAAAAAAAAAAAAAAAAAAAAAAAAAAAAAAAAAAAAAAAAAAAAAAAAAAAAAAAAAAAAAAAAAAAAAAAAAAAAAAAAAAAAAAAAAAAAAAAAAAAAAAAAAAAAAAAAAAAAAAAAAAAAAAAAAAAAAAAAAAAAAAAAAAAAAAAAAAAAAAAAAAAAAAAAAAAAAAAAAAAAAAAAAAAAAAAAAAAAAAAAAAAAAAAAAAAAAAAAAAAAAAAAAAAAAAAAAAAAAAAAAAAAAAAAAAAAAAAAAAAAAAAAAAAAAAAAAAAAAAAAAAAAAAAAAAAAAAAAAAAAAAAAAAAAAAAAAAAAAAAAAAAAAAAAAAAAAAAAAAABOq8G7XJ3BO+9E6B4AAAAAAAAAAAAAAADyVCGfRSirvKonxTvypXsfz/AqvAAAAAAAAAAAAAAAAAAAAAAAAAAAAAAAAAAAAAAAAAAAAAAAAAAAAAAAAAAAAAAAAAAAAAAAAAAAAAAAAAAAAAAAAAAAAAAAAAAAAAAAAAAAAAAAAAAAAAAAAAAAAAAAAAAAAAAAAAAAAAAAAAAAAAAAAAAAAAAAAAAAAAAAAAAAAAAAAAAAAAAAAAAAAAAAAAAAAAAAAAAAAAAAAAAAAAAAAAAAAAAAAAAAAAAAAAAAAAAAAAAAAAAAAAAAAAAAAAAAAAAAAAAAAAAAAAAAAAAAAAAAAAAAAAAAAAAAAAAAAAAAAAAAAAAAAAAAAAAAAAAAAAAAAAAAAAAAAAAAAAAAAAAAAAAAAAAAAAAAAAAAAAAAAAAAAAAAAAAAAAAAAAAAAAAAAAAAAAAAAAAAAAAAAAAAAAAAAAAAAAAAAAAAAAAAAAAAAAAAAAAAAAAAAAAAAAAAAAAAAAAAAAAAAAAAAAAAAAAAAAAAAAAAAAAAAAAAAMkGjTm74LydSuyNnAAAAAAAAAAAAAAAAALcgLpprXg6mO06np07CB87NtIeAAAAAAAAAAAAAAAAAAAAAAAAAAAAAAAAAAAAAAAAAAAAAAAAAAAAAAAAAAAAAAAAAAAAAItl4iRPWh8ibjUaPh64B6ZPlb2kwLYGPRj+7yIR35EhH2C5Jjn37j7jR3UlJ8o0IipEAaND5oKYAAAAAGyL2zpHhJWie4E8nwAAAAAAAAAAAAAAAAxelSRce/E7RocgorC45yEKKSkfAAAAAAAAAADJBo05vo+anl/3lp0AAAAAAAAAAAAAAAAC3IA6aa14OjXTRJ64aNgekgV2ngAAAAAAAAAAAAAAAAAAAAAAAAAAAAAAAAAAAAAAAAAAAAAAAAAAAAAAAAAAAAAAAAAAAAAAAAAAAAAAAAAAAAAAAAAAAAAAAAAAAAAAAAAAAAAAAAAAAAAAAAAAAAAAAAAAAAAAAAAAAAAAAAAAAAAAAAAAAAAAAAAAAAAAAAAAAAAAAAAAAAAAAAAAAAAAAAAAAAAAAAAAAAAAAAAAAAAAAAAAAAAAAAAAAAAAAAAAAAAAAAAAAAAAAAAAAAAAAAAAAAAAAAAAAAAAAAAAAAAAAAAAAAAAAAAAAAAAAAAAAAAAAAAAAAAAAAAAAAAAAAAAAAAAAAAAAAAAAAAAAAAAAAAAAAAAAAAAAAAAAAAAAAAAAAAAAAAAAAAAAAAAAAAAAAAAAAAAAAAAAAAAAAAAAAAAAAAAAAAAAAAAAAAAAAAAAAAAAAAAAAAAAAAAAAAAAAAAAAAAAAAAAAAAAAAAAAAAAAAAAAAAAAAAAAAAAAAAAE6rwbtcncG73cYBnwAAAAAAAAAAAAAAAPO3rJ9FKKu8qifFuxyGmZ/P8Co8AAAAAAAAAAAAAAAAAAAAAAAAAAAAAAAAAAAAAAAAAAAAAAAAAAAAAAAAAAAAAAAAAAAAAAAAAAAAAAAAAAAAAAAAAAAAAAAAAAAAAAAAAAAAAAAAAAAAAAAAAAAAAAAAAAAAAAAAAAAAAAAAAAAAAAAAAAAAAAAAAAAAAAAAAAAAAAAAAAAAAAAAAAAAAAAAAAAAAAAAAAAAAAAAAAAAAAAAAAAAAAAAAAAAAAAAAAAAAAAAAAAAAAAAAAAAAAAAAAAAAAAAAAAAAAAAAAAAAAAAAAAAAAAAAAAAAAAAAAAAAAAAAAAAAAAAAAAAAAAAAAAAAAAAAAAAAAAAAAAAAAAAAAAAAAAAAAAAAAAAAAAAAAAAAAAAAAAAAAAAAAAAAAAAAAAAAAAAAAAAAAAAAAAAAAAAAAAAAAAAAAAAAAAAAAAAAAAAAAAAAAAAAAAAAAAAAAAAAAAAAAAAAAAAAAAAAAAAAAAAAAAAAAAAAAAAAAAAAAAAAAAAAAAAAAAAAAAAAAAAAAAAAAAAAAAAAAAAAAAAAAAAAAAAAAAAAAAAAAAAAAAAAAAAAAAAAAAAAAAAAAAAAAAAAAAAAAAAAAAAAAAAAAAAAAAAAAAAAAAAAAAAAAAAAAAAAAAAAAAAAAAAAAAAAAAAAAAAAAAAAAAAAAAAAAAAAAAAAAAAAAAAAAAAAAAAAAAAAAAAAAAAAAAAAAAAAAAAAAAAAAAAAAAAAAAAAAAAAAAAAAAAAAAAAAAAAAAAAAAAAAAAAAAAAAAAAAAAAAAAAAAAAAAAAAAAAAAAAAAAAAAAAAAAAAAAAAAAAAAAAAAAAAAAAAAAAAAAAAAAAAAAAAAAAAAAAAAAAAAAAAAAAAAAAAAAAAAAAAAAAAAAAAAAAAAAAAAAAAAAAAAAAAAAAAAAAAAAAAAAAAAAAAAAAAAAAAAAAAAAAAAAAAAAAAAAAAAAAAAAAAAAAAAAAAAAAAAAAAAAAAAAAAAAAAAAAAAAAAAAAAAAAAAAAAAAAAAAAAAAAAAAAAAAAAAAAAAAAAAAAAAAAAAAAAAAAAAAAAAAAAAAAAAAAAAAAAAAAAAAAAAAAAAAAAAAAAAAAAAAAAAAAAAAAAAAAAAAAAAAAAAAAAAAAAAAAAAAAAAAAAAAAAAAAAAAAAAAAAAAAAAAAAAAAAAAAAAAAAAAAAAAAAAAAAAAAAAAAAAAAAAAAAAAAAAAAAAAAAAAAAAAAAAAAAAAAAAAAAAAAAAAAAAAAAAAAAAAAAAAAAAAAAAAAAAAAAAAAAAAAAAAAAAAAAAAAAAAAAAAAAAAAAAAAAAAAAAAAAAAAAAAAAAAAAAAAAAAAAAAAAAAAAAAAAAAAAAAAAAAAAAAAAAAAAAAAAAAAAAAAAAAAAAAAAAAAAAAAAAAAAAAAAAAAAAAAAAAAAAAAAAAAAAAAAAAAAAAAAAAAAAAAAAAAAAAAAAAAAAAAAAAAAAAAAAAAAAAAAAAAAAAAAAAAAAAAAAAAAAAAAAAAAAAAAAAAAAAAAAAAAAAAAAAAAAAAAAAAAAAAAAAAAAAAAAAAAAAAAAAAAAAAAAAAAAAAAAAAAAAAAAAAAAAAAAAAAAAAAAAAAAAAAAAAAAAAAAAAAAAAAAAAAAAAAAAAAAAAAAAAAAAAAAAAAAAAAAAAAAAAAAAAAAAAAAAAAAAAAAAAAAAAAAAAAAAAAAAAAAAAAAAAAAAAAAAAAAAAAAAAAAAAAAAAAAAAAAAAAAAAAAAAAAAAAAAAAAAAAAAAAAAAAAAAAAAAAAAAAAAAAAAAAAAAAAAAAAAAAAAAAAAAAAAAAAAAAAAAAAAAAAAAAAAAAAAAAAAAAAAAAAAAAAAAAAAAAAAAAAAAAAAAAAAAAAAAAAAAAAAAAAuMhw1g8+LuVD4HTUAAAAAAAAAAAAAAAChnQ62EoB2Oox+lzVcc386+gfNslVD/jkAAAAARjAyvJ+soDuTY0i8AAAAAAAAAAAAAAAA/eUCPQdAUbzmO4G8uIltvIt1fzuMXoq6ZtGMt1qUxDt586i9wc0jIwYbfjkuQNe8cvQjIQ+QZ6TFoUg+owuXO8JDEaRePj889JDMPde41jzSb8C9l1SJOyd4/iSs7uC9ZsBdPSCVdiLxCvSl8dTnPfnTs71HNg4ljOKIvAAAAAAAAAAALjIcNYPPi7lQ+B21AAAAAAAAAAAAAAAAoZ0ONhKAdjqMfpc1XHN/uvoHzbJVQ/45AAAAAEYwMryfrKA7k2NIPAAAAAAAAAAAAAAAAP3lAr0HQFG85juBvLiJbTyLdX87AAAAAAAAAAAAAAAAAAAAAAAAAAAAAAAAAAAAAAAAAAAAAAAAAAAAAAAAAAAAAAAAAAAAAAAAAAAAAAAAAAAAAAAAAAAAAAAAAAAAAAAAAAAAAAAAAAAAAAAAAAAAAAAAAAAAAAAAAAAAAAAAAAAAAAAAAAAAAAAAAAAAAAAAAAAAAAAAAAAAAAAAAAAAAAAAAAAAAAAAAAAAAAAAAAAAAAAAAAAAAAAAAAAAAAAAAAAAAAAAAAAAAAAAAAAAAAAAAAAAAAAAAAAAAAAAAAAAAO/fJiJ5WpUdwRLfuTd+caJXzvYibAgGt+yCgp/2jWQgWHnlOuikAb05coghylp6ov6vsCNdpVmjsBMiHwHa7jzxJd8jQ/6+pLElGzyMK6ufiCk8oRo0l70ZXig8YtGkpALNo6T1GRwlPdJOIYdoOB7BEt+5VIDqold1naFsCAa3xNMJIMXnXCFYeeW66KQBvSQHcyNEGRKj/drWIv7kryJFC3MfAdruPBGGr6LG2vmksSUbPOo+raEFuCGiGjSXPRleKDy9TqIk+DKZJB3FtqQAAAAAAAAAAAAAAAAAAAAAAAAAAAAAAAAAAAAAAAAAAAAAAAAAAAAAAAAAAAAAAAAAAAAAAAAAAAAAAAAAAAAAAAAAAAAAAAAAAAAAAAAAAAAAAAAAAAAAAAAAAAAAAAAAAAAAAAAAAAAAAAAAAAAAAAAAAAAAAAAAAAAAAAAAAAAAAAAAAAAAAAAAAAAAAAAAAAAAAAAAAAAAAAAAAAAAAAAAAAAAAAAAAAAAAAAAAAAAAAAAAAAAAAAAAAAAAAAAAAAAAAAAAAAAAAAAAAAAAAAAAAAAAAAuMhw1g8+LOVD4HbUAAAAAAAAAAAAAAAChnQ62EoB2Oox+l7Vcc3+6+gfNMlVD/rkAAAAARjAyvJ+soLuTY0g8AAAAAAAAAAAAAAAA/eUCPQdAUbzmO4E8uIltPIt1f7uMXoo6ZtGMN1qUxDt586g9qCKgIwYbfjkuQNc8EHhFIJwZHqTFoUg+owuXu6wpkyNePj+89JDMvde41rzSb8C9l1SJu6KTuaSs7uC9ZsBdvb8YuaJFECOl8dTnPfnTsz0M5gmljOKIPAAAAAAAAAAALjIcNYPPizlQ+B01AAAAAAAAAAAAAAAAoZ0ONhKAdjqMfpe1XHN/OvoHzTJVQ/65AAAAAEYwMryfrKC7k2NIvAAAAAAAAAAAAAAAAP3lAr0HQFG85juBPLiJbbyLdX+7AAAAAAAAAAAAAAAAAAAAAAAAAAAAAAAAAAAAAAAAAAAAAAAAAAAAAAAAAAAAAAAAAAAAAAAAAAAAAAAAAAAAAAAAAAAAAAAAAAAAAAAAAAAAAAAAAAAAAAAAAAAAAAAAAAAAAAAAAAAAAAAAAAAAAAAAAAAAAAAAAAAAAAAAAAAAAAAAAAAAAAAAAAAAAAAAAAAAAAAAAAAAAAAAAAAAAAAAAAAAAAAAAAAAAAAAAAAAAAAAAAAAAAAAAAAAAAAAAAAAAAAAAAAAAAAAAAAAAAAAAAAAAAAAAAAAAAAAAAAAAAAAAAAAAAAAAAAAAAAAAAAAAAAAAAAAAAAAAAAAAAAAAAAAAAAAAAAAAAAAAAAAAAAAAAAAAAAAAAAAAAAAAAAAAAAAAAAAAAAAAAAAAAAAAAAAAAAAAAAAAAAAAAAAAAAAAAAAAAAAAAAAAAAAAAAAAAAAAAAAAAAAAAAAAAAAAAAAAAAAAAAAAAAAAAAAAAAAAAAAAAAAAAAAAAAAAAAAAAAAAAAAAAAAAAAAAAAAAAAAAAAAAAAAAAAAAAAAAAAAAAAAAAAAAAAAAAAAAAAAAAAAAAAAAAAAAAAAAAAAAAAAAAAAAAAAAAAAAAAAAAAAAAAAAAAAAAAAAAAAAAAAAAAAAAAAAAAAAAAAAAAAAAAAAAAAAAAAAAAAAAAAAAAAAAAAAAAAAAAAAAAAAAAAAAAAAAAAAAAAAAAAAAAAAAAAAAAAAAAAAAAAAAAAAAAAAAAAAAAAAAAAAAAAAAAAAAAAAAAAAAAAAAAAAAAAAAAAAAAAAAAAAAAAAAAAAAAAAAAAAAAAAAAAAAAAAAAAAAAAAAAAAAAAAAAAAAAAAAAAAAAAAAAAAAAAAAAAAAAAAAAAAAAAAAAAAAAAAAAAAAAAAAAAAAAAAAAAAAAAAAAAAAAAAAAAAAAAAAAAAAAAAAAAAAAAAAAAAAAAAAAAAAAAAAAAAAAAAAAAAAAAAAAAAAAAAAAAAAAAAAAAAAAAAAAAAAAAAAAAAAAAAAAAAAAAAAAAAAAAAAAAAAAAAAAAAAAAAAAAAAAAAAAAAAAAAAAAAAAAAAAAAAAAAAAAAAAAAAAAAAAAAAAAAAAAAAAAAAAAAAAAAAAAAAAAAAAAAAAAAAAAAAAAAAAAAAAAAAAAAAAAAAAAAAAAAAAAAAAAAAAAAAAAAAAAAAAAAAAAAAAAAAAAAAAAAAAAAAAAAAAAAAAAAAAAAAAAAAAAAAAAAAAAAAAAAAAAAAAAAAAAAAAAAAAAAAAAAAAAAAAAAAAAAAAAAAAAAAAAAAAAAAAAAAAAAAAAAAAAAAAAAAAAAAAAAAAAAAAAAAAAAAAAAAAAAAAAAAAAAAAAAAAAAAAAAAAAAAAAAAAAAAAAAAAAAAAAAAAAAAAAAAAAAAAAAAAAAAAAAAAAAAAAAAAAAAAAAAAAAAAAAAAAAAAAAAAAAAAAAAAAAAAAAAAAAAAAAAAAAAAAAAAAAAAAAAAAAAAAAAAAAAAAAAAAAAAAAAAAAAAAAAAAAAAAAAAAAAAAAAAAAAAAAAAAAAAAAAAAAAAAAAAAAAAAAAAAAAAAAAAAAAAAAAAAAAAAAAAAAAAAAAAAAAAAAAAAAAAAAAAAAAAAAAAAAAAAAAAAAAAAAAAAAAAAAAAAAAAAAAAAAAAAAAAAAAAAAAAAAAAAAAAAAAAAAAAAAAAAAAAAAAAAAAAAAAAAAAAAAAAAAAAAAAAAAO/AC7sAAAAA2T5XPIXuqjpdZHg8AAAAAAAAAAAAAAAAZ+wfvZG0T7vYX8w89QmGu3BjwbsAAAAAAAAAAOecwTuDq8E7kmc2nQAAAAAAAAAAAAAAANGsMR5FKKu87YHFu32GJCDG1io89a30vcDpl73gyuI9EFcovfVmjqWLuTY+zewNPbDFNSPtShgiGpVgPisYTT1ArZYj2VUsvQAAAAAAAAAAAAAAAAAAAAAAAAAAAAAAAAAAAAAAAAAAAAAAAAAAAAAAAAAAAAAAAAAAAADvwAu7AAAAANk+VzyF7qo6XWR4vAAAAAAAAAAAAAAAAGfsHz2RtE+72F/MPPUJhjtwY8G7AAAAAAAAAAAAAAAAAAAAAAAAAAAAAAAAAAAAAAAAAAAAAAAAAAAAAAAAAAAAAAAAAAAAAAAAAAAAAAAAAAAAAAAAAAAAAAAAAAAAAAAAAAAAAAAAAAAAAAAAAAAAAAAAAAAAAAAAAAAAAAAAAAAAAAAAAAAAAAAAAAAAAAAAAAAAAAAAAAAAAAAAAAAAAAAAAAAAAAAAAAAAAAAAAAAAAAAAAAAAAAAAAAAAAAAAAAAAAAAAAAAAAAAAAAAAAAAAAAAAAAAAAAAAAAAAAAAAAAAAAAAAAAAAGgGNuRIahJ4OfCyeAAAAAAAAAAAAAAAAytGAOmmteDr9ACSc/62uHQD9Ix/fOJWimEoEouqDAr3EAgej5tUsJZGMl7xN5oshBOUtI77LhD27JLS8hNYUJY6cSaQ/fjimXFWrpO3cRaEqDRS+iSlyJZcp56SNpuW8Ab8zomk+rSFYapwmOffuPo3l9SY38tKl1JqpI5i+C6eSmH8oC2TjPmbSdqjF2lCoBBAaPy1Lh6h2PQSnQssyKtbricCzYh8oQjO9prYVmqcAAAAAAAAAABoBjbka37sdjeeenQAAAAAAAAAAAAAAAMrRgLpprXg6980gHt7/L59azhMfnUoSpFTahSDqgwK9f+FlJLUeIKWRjJe8pqFFIo2KMSK+y4S9uyS0vEtFOqR71aGlYBYSJgAAAAAAAAAAAAAAAAAAAAAAAAAAAAAAAAAAAAAAAAAAAAAAAAAAAAAAAAAAAAAAAAAAAAAAAAAAAAAAAAAAAAAAAAAAAAAAAAAAAAAAAAAAAAAAAAAAAAAAAAAAAAAAAAAAAAAAAAAAAAAAAAAAAAAAAAAAAAAAAAAAAAAAAAAAAAAAAAAAAAAAAAAAAAAAAAAAAAAAAAAAAAAAAAAAAAAAAAAAAAAAAAAAAAAAAAAAAAAAAAAAAAAAAAAAAAAAAAAAAAAAAAAAAAAAAAAAAAAAAAAAAAAAAAAAAAAAAAAAAAAAAAAAAAAAAAAAAAAAAAAAAAAAAAAAAAAAAAAAAAAAAAAA78ALOwAAAADZPlc8he6qul1keLwAAAAAAAAAAAAAAABn7B+9kbRPu9hfzLz1CYY7cGPBOwAAAAAAAAAA55zBO4OrwbstdAweAAAAAAAAAAAAAAAAq4aOHkUoq7ztgcU7pRAzn8bWKrz1rfQ9wOmXPeDK4j0QVyg9PJmQJIu5Nj7N7A298+Obov6esqQalWA+KxhNveEIpKHZVSw9AAAAAAAAAAAAAAAAAAAAAAAAAAAAAAAAAAAAAAAAAAAAAAAAAAAAAAAAAAAAAAAAAAAAAO/ACzsAAAAA2T5XPIXuqrpdZHg8AAAAAAAAAAAAAAAAZ+wfPZG0T7vYX8y89QmGu3BjwTsAAAAAAAAAAAAAAAAAAAAAAAAAAAAAAAAAAAAAAAAAAAAAAAAAAAAAAAAAAAAAAAAAAAAAAAAAAAAAAAAAAAAAAAAAAAAAAAAAAAAAAAAAAAAAAAAAAAAAAAAAAAAAAAAAAAAAAAAAAAAAAAAAAAAAAAAAAAAAAAAAAAAAAAAAAAAAAAAAAAAAAAAAAAAAAAAAAAAAAAAAAAAAAAAAAAAAAAAAAAAAAAAAAAAAAAAAAAAAAAAAAAAAAAAAAAAAAAAAAAAAAAAAAAAAAAAAAAAAAAAAAAAAAAAAAAAAAAAAAAAAAAAAAAAAAAAAAAAAAAAAAAAAAAAAAAAAAAAAAAAAAAAAAAAAAAAAAAAAAAAAAAAAAAAAAAAAAAAAAAAAAAAAAAAAAAAAAAAAAAAAAAAAAAAAAAAAAAAAAAAAAAAAAAAAAAAAAAAAAAAAAAAAAAAAAAAAAAAAAAAAAAAAAAAAAAAAAAAAAAAAAAAAAAAAAAAAAAAAAAAAAAAAAAAAAAAAAAAAAAAAAAAAAAAAAAAAAAAAAAAAAAAAAAAAAAAAAAAAAAAAAAAAAAAAAAAAAAAAAAAAAAAAAAAAAAAAAAAAAAAAAAAAAAAAAAAAAAAAAAAAAAAAAAAAAAAAAAAAAAAAAAAAAAAAAAAAAAAAAAAAAAAAAAAAAAAAAAAAAAAAAAAAAAAAAAAAAAAAAAAAAAAAAAAAAAAAAAAAAAAAAAAAAAAAAAAAAAAAAAAAAAAAAAAAAAAAAAAAAAAAAAAAAAAAAAAAAAAAAAAAAAAAAAAAAAAAAAAAAAAAAAAAAAAAAAAAAAAAAAAAAAAAAAAAAAAAAAAAAAAAAAAAAAAAAAAAAAAAAAAAAAAAAAAAAAAAAAAAAAAAAAAAAAAAAAAAAAAAAAAAAAAAAAAAAAAAAAAAAAAAAAAAAAAAAAAAAAAAAAAAAAAAAAAAAAAAAAAAAAAAAAAAAAAAAAAAAAAAAAAAAAAAAAAAAAAAAAAAAAAAAAAAAAAAAAAAAAAAAAAAAAAAAAAAAAAAAAAAAAAAAAAAAAAAAAAAAAAAAAAAAAAAAAAAAAAAAAAAAAAAAAAAAAAAAAAAAAAAAAAAAAAAAAAAAAAAAAAAAAAAAAAAAAAAAAAAAAAAAAAAAAAAAAAAAAAAAAAAAAAAAAAAAAAAAAAAAAAAAAAAAAAAAAAAAAAAAAAAAAAAAAAAAAAAAAAAAAAAAAAAAAAAAAAAAAAAAAAAAAAAAAAAAAAAAAAAAAAAAAAAAAAAAAAAAAAAAAAAAAAAAAAAAAAAAAAAAAAAAAAAAAAAAAAAAAAAAAAAAAAAAAAAAAAAAAAAAAAAAAAAAAAAAAAAAAAAAAAAAAAAAAAAAAAAAAAAAAAAAAAAAAAAAAAAAAAAAAAAAAAAAAAAAAAAAAAAAAAAAAAAAAAAAAAAAAAAAAAAAAAAAAAAAAAAAAAAAAAAAAAAAAAAAAAAAAAAAAAAAAAAAAAAAAAAAAAAAAAAAAAAAAAAAAAAAAAAAAAAAAAAAAAAAAAAAAAAAAAAAAAAAAAAAAAAAAAAAAAAAAAAAAAAAAAAAAAAAAAAAAAAAAAAAAAAAAAAAAAAAAAAAAAAAAAAAAAAAAAAAAAAAAAAAAAAAAAAAAAAAAAAAAAAAAAAAAAAAAAAAAAAAAAAAAAAAAAAAAAAAAAAAAAAAAAAAAAAAAAAAAAAAAAAAAAAAAAAAAAAAAAAAAAAAAAAAAAAAAAAAAAAAAAAAAAAAAAAAAAAAAAAAAAAAAAAAAAAAAAAAAAAAAAAAAAAAAAAAAAAAAAAAAAAAAAAAAAAAAAAAAAAAAAAAAAAAAAAAAAAAAAAAAAAAAAAAAAAAAAAAAAAAAAAAAAAAAAAAAAAAAAAALQ/DDpK00g6+S7XmgAAAAAAAAAAAAAAANrpMBuiUgW7H7WmutrmFxvsCTo6AAAAAAAAAAAAAAAAAAAAAAAAAAAAAAAAAAAAAAAAAAAAAAAAAAAAAAAAAAAAAAAAAAAAAAAAAAAAAAAAAAAAAAAAAAAAAAAAAAAAAAAAAAAAAAAAAAAAAAAAAAAAAAAAAAAAAAAAAAAAAAAAAAAAAAAAAAAAAAAAAAAAAAAAAAAAAAAAAAAAAAAAAAAAAAAAAAAAAAAAAAAAAAAAAAAAAAAAAAAAAAAAAAAAAAAAAAAAAAAAAAAAAAAAAAAAAAAAAAAAAAAAAAAAAAAAAAAAAAAAAAAAAAAAAAAAAAAAAAAAAAAAAAAAAAAAAAAAAAAAAAAAAAAAAAAAAAAAAAAAAAAAAAAAAAAAAAAAAAAAAAAAAAAAAAAAAAAAAAAAAAAAAAAAAAAAAAAAAAAAAAAAAAAAAAAAAAAAAAAAAAAAAAAAAAAAAAAAAAAAAAAAAAAAAAAAAAAAAAAAAAAAAAAAAAAAAAAAAAAAAAAAAAAAAAAAAAAAF8uOt66Ak5ppeRuaAAAAAAAAAAAAAAAAzw1EOAFiiDgoCbwbmIwnHMATt5kAAAAAAAAAAAAAAAAAAAAAAAAAAAAAAAAAAAAAAAAAAAAAAAAAAAAAAAAAAAAAAAAAAAAAk5/pIAAAAAB/Hoq8MAusI8z2MqEtSEW3myR0G0UeiRgXlgumpOqJPaNRmqO4FckiaVO/oQAAAAAAAAAAAAAAAAAAAAAAAAAAAAAAAAAAAAAAAAAAAAAAAAAAAAAAAAAAAAAAAAAAAAAAAAAAAAAAABfLjrdqewKcYH0rHAAAAAAAAAAAAAAAAM8NRLgBYog4c0tZHE3PuZwcNgCbAAAAAAAAAAAAAAAAAAAAAAAAAAAAAAAAAAAAAAAAAAAAAAAAAAAAAAAAAAAAAAAAAAAAAAAAAAAAAAAAAAAAAAAAAAAAAAAAAAAAAAAAAAAAAAAAAAAAAAAAAAAAAAAAAAAAAAAAAAAAAAAAAAAAAAAAAAAAAAAAAAAAAAAAAAAAAAAAAAAAAAAAAAAAAAAAAAAAAAAAAAAAAAAAAAAAAAAAAAAAAAAAAAAAAAAAAAAAAAAAAAAAAAAAAAAAAAAAAAAAAAAAAAAAAAAAAAAAAAAAAAAAAAAAAAAAAAAAAAAAAAAAAAAAAAAAAAAAAAAAAAAAAAAAAAAAAAAAAAAAAAAAAAAAAAAAAAAAAAAAAAAAAAAAAAAAAAAAAAAAAAAAAAAAAAAAAAAAAAAAAAAAAAAAAAAAAAAAAAAAAAAAAAAAAAAAAAAAAAAAAAAAAAAAAAAAAAAAAAAAAAAAAAAAAAAAAAAAAAAAAAAAAAAAAAAAAAAAtD8MOkrTSLoCiq8bAAAAAAAAAAAAAAAACtBFHKJSBbsftaY6egkcnOwJOroAAAAAAAAAAAAAAAAAAAAAAAAAAAAAAAAAAAAAAAAAAAAAAAAAAAAAAAAAAAAAAAAAAAAAAAAAAAAAAAAAAAAAAAAAAAAAAAAAAAAAAAAAAAAAAAAAAAAAAAAAAAAAAAAAAAAAAAAAAAAAAAAAAAAAAAAAAAAAAAAAAAAAAAAAAAAAAAAAAAAAAAAAAAAAAAAAAAAAAAAAAAAAAAAAAAAAAAAAAAAAAAAAAAAAAAAAAAAAAAAAAAAAAAAAAAAAAAAAAAAAAAAAAAAAAAAAAAAAAAAAAAAAAAAAAAAAAAAAAAAAAAAAAAAAAAAAAAAAAAAAAAAAAAAAAAAAAAAAAAAAAAAAAAAAAAAAAAAAAAAAAAAAAAAAAAAAAAAAAAAAAAAAAAAAAAAAAAAAAAAAAAAAAAAAAAAAAAAAAAAAAAAAAAAAAAAAAAAAAAAAAAAAAAAAAAAAAAAAAAAAAAAAAAAAAAAAAAAAAAAAAAAAAAAAAAAAAAAAAAAAAAAAAAAAAAAAAAAAAAAAAAAAAAAAAAAAAAAAAAAAAAAAAAAAAAAAAAAAAAAAAAAAAAAAAAAAAAAAAAAAAAAAAAAAAAAAAAAAAAAAAAAAAAAAAAAAAAAAAAAAAAAAAAAAAAAAAAAAAAAAAAAAAAAAAAAAAAAAAAAAAAAAAAAAAAAAAAAAAAAAAAAAAAAAAAAAAAAAAAAAAAAAAAAAAAAAAAAAAAAAAAAAAAAAAAAAAAAAAAAAAAAAAAAAAAAAAAAAAAAAAAAAAAAAAAAAAAAAAAAAAAAAAAAAAAAAAAAAAAAAAAAAAAAAAAAAAAAAAAAAAAAAAAAAAAAAAAAAAAAAAAAAAAAAAAAAAAAAAAAAAAAAAAAAAAAAAAAAAAAAAAAAAAAAAAAAAAAAAAAAAAAAAAAAAAAAAAAAAAAAAAAAAAAAAAAAAAAAAAAAAAAAAAAAAAAAAAAAAAAAAAAAAAAAAAifG8BsKaW/RQdhJ17I27/mYH+omvnHJ7fL3r9FK3eoYsZGpmJDiCeiWLRB8wQgqaBona6NAY+/PnOlvximPCf0o16+e/oCKlDiGCW+f1w/UvkhKmrcziZAxKCnH4U3PxTmRCrfQGStAAAAAAAAAAAAAAAAAAAAAAAAAAAAAAAAAAAAAAAAAAAAAAAAAAAAAAAAAAAAAAAAAAAAAAAAAAAAAAAAAAAAAAAAAAAAAAAAAAAAAAAAAAAAAAAAAAAAAAAAAAAAAAAAAAAAAAAAAAAAAAAAAAAAAAAAAAAAAAAAAAAAAAAAAAAAAAAAAAAAAAAAAAAAAAAAAAAAAAAAAAAAAAAAAAAAAAAAAAAAAAAAAAAAAAAAAAAAAAAAAAAAAAAAAAAAAAAAAAAAAAAAAAAAAAAAAAAAAAAAAAAAAAAAAAAAAAAAAAAAAAAAAAAAAAAAAAAAAAAAAAAAAAAAAAAAAAAAAAAAAAAAAAAAAAAAAAAAAAAAAAAAAAAAAAAAAAAAAAAAAAAAAAAAAAAAAAAAAAAAAAAAAAAAAAAAAAAAAAAAAAAAAAAAAAAAAAAAAAAAAAAAAAAAAAAAAAAAAAAAAAAAAAAAAAAAAAAAAAAAAAAAAAAAAAAAAAAAAAAAAAAAAAAAAAAAAAAAAAAAAAAAAAAAAAAAAAAAAAAAAAAAAAAAAAAAAAAAAAAAAAAAAAAAAAAAAAAAAAAAAAAAAAAAAAAAAAAAAAAAAAAAAAAAAAAAAAAAAAAAAAAAAAAAAAAAAAAAAAAAAAAAAAAAAAAAAAAAAAAAAAAAAAAAAAAAAAAAAAAAAAAAAAAAAAAAAAAAAAAAAAAAAAAAAAAAAAAAAAAAAAAAAAAAAAAAAAAAAAAAAAAAAAAAAAAAAAAAAAAAAAAAAAAAAAAAAAAAAAAAAAAAAAAAAAAAAAAAAAAAAAAAAAAAAAAAAAAAAAAAAAAAAAAAAAAAAAAAAAAAAAAAAAAAAAAAAAAAAAAAAAAAAAAAAAAAAAAAAAAAAAAAAAAAAAAAAAAAAAAAAAAAAAAAAAAAAAAAAAAAAAAAAAAAAAAAAAAAAAAAAAAAAAAAAAAAAAAAAAAAAAAAAAAAAAAAAAAAAAAAAAAAAAAAAAAAAAAAAAAAAAAAAAAAAAAAAAAAAAAAAAAAAAAAAAAAAAAAAAAAAAAAAAAAAAAAAAAAAAAAAAAAAAAAAAAAAAAAAAAAAAAAAAAAAAAAAAAAAAAAAAAAAAAAAAAAAAAAAAAAAAAAAAAAAAAAAAAAAAAAAAAAAAAAAAAAAAAAAAAAAAAAAAAAAAAAAAAAAAAAAAAAAAAAAAAAAAAAAAAAAAAAAAAAAAAAAAAAAAAAAAAAAAAAAAAAAAAAAAAAAAAAAAAAAAAAAAAAAAAAAAAAAAAAAAAAAAAAAAAAAAAAAAAAAAAAAAAAAAAAAAAAAAAAAAAAAAAAAAAAAAAAAAAAAAAAAAAAAAAAAAAAAAAAAAAAAAAAAAAAAAAAAAAAAAAAAAAAAAAAAAAAAAAAAAAAAAAAAAAAAAAAAAAAAAAAAAAAAAAAAAAAAAAAAAAAAAAAAAAAAAAAAAAAAAAAAAAAAAAAAAAAAAAAAAAAAAAAAAAAAAAAAAAAAAAAAAAAAAAAAAAAAAAAAAAAAAAAAAAAAAAAAAAAAAAAAAAAAAAAAAAAAAAAAAAAAAAAAAAAAAAAAAAAAAAAAAAAAAAAAAAAAAAAAAAAAAAAAAAAAAAAAAAAAAAAAAAAAAAAAAAAAAAAAAAAAAAAAAAAAAAAAAAAAAAAAAAAAAAAAAAAAAAAAAAAAAAAAAAAAAAAAAAAAAAAAAAAAAAAAAAAAAAAAAAAAAAAAAAAAAAAAAAAAAAAAAAAAAAAAAAAAAAAAAAAAAAAAAAAAAAAAAAAAAAAAAAAAAAAAAAAAAAAAAAAAAAAAAAAAAAAAAAAAAAAAAAAAAAAAAAAAAAAAAAAAAAAAAAAAAAAAAAAAAAAAAAAAAAAAAAAAAAAAAAAAAAAAAAAAAAAAAAAAAAAAAAAAAAAAAAAAAAAAAAAAAAAAAAAAAAAAAAAAAAAAAAAAAAAAAAAAAAAAAAAAAAAAAAAAAAAAAAAAAAAAAAAAAAAAAAAAAAAAAAAAAAAAAAAAAAAAAAAAAAAAAAAAAAAAAAAAAAAAAAAAAAAAAAAAAAAAAAAAAAAAAAAAAAAAAAAAAAAAAAAAAAAAAAAAAAAAAAAAAAAAAAAAAAAAAAAAAAAAAAAAAAAAAAAAAAAAAAAAAAAAAAAAAAAAAAAAAAAAAAAAAAAAAAAAAAAAAAAAAAAAAAAAAAAAAAAAAAAAAAAAAAAAAAAAAAAAAAAAAAAAAAAAAAAAAAAAAAAAAAAAAAAAAAAAAAAAAAAAAAAAAAAAAAAAAAAAAAAAAAAAAAAAAAAAAAAAAAAAAAAAAAAAAAAAAAAAAAAAAAAAAAAAAAAAAAAAAAAAAAAAAAAAAAAAAAAAAAAAAAAAAAAAAAAAAAAAAAAAAAAAAAAAAAAAAAAAAAAAAAAAAAAAAAAAAAAAAAAAAAAAAAAAAAAAAAAAAAAAAAAAAAAAAAAAAAAAAAAAAAAAAAAAAAAAAAAAAAAAAAAAAAAAAAAAAAAAAAAAAAAAAAAAAAAAAAAAAAAAAAAAAAAAAAAAAAAAAAAAAAAAAAAAAAAAAAAAAAAAAAAAAAAAAAAAAAAAAAAAAAAAAAAAAAAAAAAAAAAAAAAAAAAAAAAAAAAAAAAAAAAAAAAAAAAAAAAAAAAAAAAAAAAAAAAAAAAAAAAAAAAAAAAAAAAAAAAAAAAAAAAAAAAAAAAAAAAAAAAAAAAAAAAAAAAAAAAAAAAAAAAAAAAAAAAAAAAAAAAAAAAAAAAAAAAAAAAAAAAAAAAAAAAAAAAAAAAAAAAAAAAAAAAAAAAAAAAAAAAAAAAAAAAAAAAAAAAAAAAAAAAAAAAAAAAAAAAAAAAAAAAAAAAAAAAAAAAAAAAAAAAAAAAAAAAAAAAAAAAAAAAAAAAAAAAAAAAAAAAAAAAAAAAAAAAAAAAAAAAAAAAAAAAAAAAAAAAAAAAAAAAAAAAAAAAAAAAAAAAAAAAAAAAAAAAAAAAAAAAAAAAAAAAAAAAAAAAAAAAAAAAAAAAAAAAAAAAAAAAAAAAAAAAAAAAAAAAAAAAAAAAAAAAAAAAAAAAAAAAAAAAAAAAAAAAAAAAAAAAAAAAAAAAAAAAAAAAAAAAAAAAAAAAAAAAAAAAAAAAAAAAAAAAAAAAAAAAAAAAAAAAAAAAAAAAAAAAAAAAAAAAAAAAAAAAAAAAAAAAAAAAAAAAAAAAAAAAAAAAAAAAAAAAAAAAAAAAAAAAAAAAAAAAAAAAAAAAAAAAAAAAAAAAAAAAAAAAAAAAAAAAAAAAAAAAAAAAAAAAAAAAAAAAAAAAAAAAAAAAAAAAAAAAAAAAAAAAAAAAAAAAAAAAAAAAAAAAAAAAAAAAAAAAAAAAAAAAAAAAAAAAAAAAAAAAAAAAAAAAAAAAAAAAAAAAAAAAAAAAAAAAAAAAAAAAAAAAAAAAAAAAAAAAAAAAAAAAAAAAAAAAAAAAAAAAAAAAAAAAAAAAAAAAAAAAAAAAAAAAAAAAAAAAAAAAAAAAAAAAAAAAAAAAAAAAAAAAAAAAAAAAAAAAAAAAAAAAAAAAAAAAAAAAAAAAAAAAAAAAAAAAAAAAAAAAAAAAAAAAAAAAAAAAAAAAAAAAAAAAAAAAAAAAAAAAAAAAAAAAAAAAAAAAAAAAAAAAAAAAAAAAAAAAAAAAAAAAAAAAAAAAAAAAAAAAAAAAAAAAAAAAAAAAAAAAAAAAAAAAAAAAAAAAAAAAAAAAAAAAAAAAAAAAAAAAAAAAAAAAAAAAAAAAAAAAAAAAAAAAAAAAAAAAAAAAAAAAAAAAAAAAAAAAAAAAAAAAAAAAAAAAAAAAAAAAAAAAAAAAAAAAAAAAAAAAAAAAAAAAAAAAAAAAAAAAAAAAAAAAAAAAAAAAAAAAAAAAAAAAAAAAAAAAAAAAAAAAAAAAAAAAAAAAAAAAAAAAAAAAAAAAAAAAAAAAAAAAAAAAAAAAAAAAAAAAAAAAAAAAAAAAAAAAAAAAAAAAAAAAAAAAAAAAAAAAAAAAAAAAAAAAAAAAAAAAAAAAAAAAAAAAAAAAAAAAAAAAAAAAAAAAAAAAAAAAAAAAAAAAAAAAAAAAAAAAAAAAAAAAAAAAAAAAAAAAAAAAAAAAAAAAAAAAAAAAAAAAAAAAAAAAAAAAAAAAAAAAAAAAAAAAAAAAAAAAAAAAAAAAAAAAAAAAAAAAAAAAAAAAAAAAAAAAAAAAAAAAAAAAAAAAAAAAAAAAAAAAAAAAAAAAAAAAAAAAAAAAAAAAAAAAAAAAAAAAAAAAAAAAAAAAAAAAAAAAAAAAAAAAAAAAAAAAAAAAAAAAAAAAAAAAAAAAAAAAAAAAAAAAAAAAAAAAAAAAAAAAAAAAAAAAAAAAAAAAAAAAAAAAAAAAAAAAAAAAAAAAAAAAAAAAAAAAAAAAAAAAAAAAAAAAAAAAAAAAAAAAAAAAAAAAAAAAAAAAAAAAAAAAAAAAAAAAAAAAAAAAAAAAEXL+Ogszwbq5ldadAAAAAAAAAAAAAAAADtsrHu2BxTssBJu5n6uongZ+fTsAAAAAAAAAAAAAAAAAAAAAAAAAAAAAAAAAAAAAAAAAAAAAAAAAAAAAAAAAAAAAAAAAAAAAAAAAAAAAAAAAAAAAAAAAAAAAAAAAAAAAAAAAAAAAAAAAAAAAAAAAAAAAAAAAAAAAAAAAAAAAAAAAAAAAAAAAAAAAAAAAAAAAAAAAAAAAAAAAAAAAAAAAAAAAAAAAAAAAAAAAAAAAAAAAAAAAAAAAAAAAAAAAAAAAAAAAAAAAAAAAAAAAAAAAAAAAAAAAAAAAAAAAAAAAAAAAAAAAAAAAAAAAAAAAAAAAAAAAAAAAAAAAAAAAAAAAAAAAAAAAAAAAAAAAAAAAAAAAAAAAAAAAAAAAAAAAAAAAAAAAAAAAAAAAAAAAAAAAAAAAAAAAAAAAAAAAAAAAAAAAAAAAAAAAAAAAAAAAAAAAAAAAAAAAAAAAAAAAAAAAAAAAAAAAAAAAAAAAAAAAAAAAAAAAAAAAAAAAAAAAAAAAAAAAAAAAAACOLeYcCzPBuhFy/joAAAAAAAAAAAAAAAASsvye980gHiwEm7ntgcU7Bn59uwAAAAAAAAAAAAAAAAAAAAAAAAAAAAAAAAAAAAAAAAAAAAAAAAAAAAAAAAAAAAAAAAAAAADxWWO+iQGSvdmxz6W44e2+gR/opqIBkiTd8h2+/VY3pyF5liSN5fUmE6gPvyP6xyfHiiMqaRuFtwAAAACm8W0hA3+lvMyzjKUAAAAAAAAAAAAAAAARv8Cg/G+pollYSL0Mio+mPeTeJQAAAAAAAAAAOY1bnQszwboRcv66AAAAAAAAAAAAAAAAWI7FHv0AJJwsBJu57YHFuwZ+fbsAAAAAAAAAAAAAAAAAAAAAAAAAAAAAAAAAAAAAAAAAAAAAAAAAAAAAAAAAAAAAAAAAAAAAAAAAAAAAAAAAAAAAAAAAAAAAAAAAAAAAAAAAAAAAAAAAAAAAAAAAAAAAAAAAAAAAAAAAAAAAAAAAAAAAAAAAAAAAAAAAAAAAAAAAAAAAAAAAAAAAAAAAAAAAAAAAAAAAAAAAAAAAAAAAAAAAAAAAAAAAAAAAAAAAAAAAAAAAAAAAAAAAAAAAAAAAAAAAAAAAAAAAAAAAAAAAAAAAAAAAAAAAAAAAAAAAAAAAAAAAAAAAAAAAAAAAAAAAAAAAAAAAAAAAAAAAAAAAAAAAAAAAAAAAAAAAAAAAAAAAAAAAAAAAAAAAAAAAAAAAAAAAAAAAAAAAAAAAAAAAAAAAAAAAAAAAAAAAAAAAAAAAAAAAAAAAAAAAAAAAAAAAAAAAAAAAAAAAAAAAAAAAAAAAAAAAAAAAAAAAAAAAAAAAAAAAAAARcv66CzPBuszatJ0AAAAAAAAAAAAAAAC99fme7YHFuywEm7mXRnKeBn59OwAAAAAAAAAAAAAAAAAAAAAAAAAAAAAAAAAAAAAAAAAAAAAAAAAAAAAAAAAAAAAAAAAAAAAAAAAAAAAAAAAAAAAAAAAAAAAAAAAAAAAAAAAAAAAAAAAAAAAAAAAAAAAAAAAAAAAAAAAAAAAAAAAAAAAAAAAAAAAAAAAAAAAAAAAAAAAAAAAAAAAAAAAAAAAAAAAAAAAAAAAAAAAAAAAAAAAAAAAAAAAAAAAAAAAAAAAAAAAAAAAAAAAAAAAAAAAAAAAAAAAAAAAAAAAAAAAAAAAAAAAAAAAAAAAAAAAAAAAAAAAAAAAAAAAAAAAAAAAAAAAAAAAAAAAAAAAAAAAAAAAAAAAAAAAAAAAAAAAAAAAAAAAAAAAAAAAAAAAAAAAAAAAAAAAAAAAAAAAAAAAAAAAAAAAAAAAAAAAAAAAAAAAAAAAAAAAAAAAAAAAAAAAAAAAAAAAAAAAAAAAAAAAAAAAAAAAAAAAAAAAAAAAAAAAAAAAAAAAAAAAAAAAAAAAAAAAAAAAAAAAAAAAAAAAAAAAAAAAAAAAAAAAAAAAAAAAAAAAAAAAAAAAAAAAAAAAAAAAAAAAAAAAAAAAAAAAAAAAAAAAAAAAAAAAAAAAAAAAAAAAAAAAAAAAAAAAAAAAAAAAAAAAAAAAAAAAAAAAAAAAAAAAAAAAAAAAAAAAAAAAAAAAAAAAAAAAAAAAAAAAAAAAAAAAAAAAAAAAAAAAAAAAAAAAAAAAAAAAAAAAAAAAAAAAAAAAAAAAAAAAAAAAAAAAAAAAAAAAAAAAAAAAAAAAAAAAAAAAAAAAAAAAAAAAAAAAAAAAAAAAAAAAAAAAAAAAAAAAAAAAAAAAAAAAAAAAAAAAAAAAAAAAAAAAAAAAAAAAAAAAAAAAAAAAAAAAAAAAAAAAAAAAAAAAAAAAAAAAAAAAAAAAAAAAAAAAAAAAAAAAAAAAAAAAAAAAAAAAAAAAAAAAAAAAAAAAAAAAAAAAAAAAAAAAAAAAAAAAAAAAAAAAAAAAAAAAAAAAAAAAAAAAAAAAAAAAAAAAAAAAAAAAAAAAAAAAAAAAAAAAAAAAAAAAAAAAAAAAAAAAAAAAAAAAAAAAAAAAAAAAAAAAAAAAAAAAAAAAAAAAAAAAAAAAAAAAAAAAAAAAAAAAAAAAAAAAAAAAAAAAAAAAAAAAAAAAAAAAAAAAAAAAAAAAAAAAAAAAAAAAAAAAAAAAAAAAAAAAAAAAAAAAAAAAAAAAAAAAAAAAAAAAAAAAAAAAAAAAAAAAAAAAAAAAAAAAAAAAAAAAAAAAAAAAAAAAAAAAAAAAAAAAAAAAAAAAAAAAAAAAAAAAAAAAAAAAAAAAAAAAAAAAAAAAAAAAAAAAAAAAAAAAAAAAAAAAAAAAAAAAAAAAAAAAAAAAAAAAAAAAAAAAAAAAAAAAAAAAAAAAAAAAAAAAAAAAAAAAAAAAAAAAAAAAAAAAAAAAAAAAAAAAAAAAAAAAAAAAAAAAAAAAAAAAAAAAAAAAAAAAAAAAAAAAAAAAAAAAAAAAAAAAAAAAAAAAAAAAAAAAAAAAAAAAAAAAAAAAAAAAAAAAAAAAAAAAAAAAAAAAAAAAAAAAAAAAAAAAAAAAAAAAAAAAAAAAAAAAAAAAAAAAAAAAAAAAAAAAAAAAAAAAAAAAAAAAAAAAAAAAAAAAAAAAAAAAAAAAAAAAAAAAAAAAAAAAAAAAAAAAAAAAAAAAAAAAAAAAAAAAAAAAAAAAAAAAAAAAAAAAAAAAAAAAAAAAAAAAAAAAAAAAAAAAAAAAAAAAAAAAAAAAAAAAAAAAAAAAAAAAAAAAAAAAAAAAAAAAAAAAAAAAAAAAAAAAAAAAAAAAAAAAAAAAAAAAAAAAAAAAAAAAAAAAAAAAAAAAAAAAA12Fcu0/bpTTXYVy7AAAAAAAAAAAAAAAAZGNCPIx+l7VjmOG7jH6XtWs6v6SsAKI5AAAAAEFU0LthxsY7QVTQuwAAAAAAAAAAAAAAANhpdDz3aX28t8vZuvdpfbxKBVAp+IPXPUr+Jj0k7+G9Pl6eOgNnJCRRKfK9UmkCOdId4SD2VWokowuXu/IWy7uONi0iXKodPTsTKjxE9H47lwqfPapgwTw0tlGhZrgEvOySrzxX+L8fVCMzJD++qzx9Gfw9T7hLo8tEQD4AAAAAAAAAANdhXLtP26U012FcOwAAAAAAAAAAAAAAAGRjQryMfpe1Y5jhu4x+lzVDYMukrACiOQAAAABBVNC7YcbGO0FU0DsAAAAAAAAAAAAAAADYaXS892l9vLfL2br3aX08JP1PKQAAAAAAAAAAAAAAAAAAAAAAAAAAAAAAAAAAAAAAAAAAAAAAAAAAAAAAAAAAAAAAAAAAAAAAAAAAAAAAAAAAAAAAAAAAAAAAAAAAAAAAAAAAAAAAAAAAAAAAAAAAAAAAAAAAAAAAAAAAAAAAAAAAAAAAAAAAAAAAAAAAAAAAAAAAAAAAAAAAAAAAAAAAAAAAAAAAAAAAAAAAAAAAAAAAAAAAAAAAAAAAAAAAAAAAAAAAAAAAAAAAAAAAAAAAAAAAAAAAAAAAAAAAAAAAAAAAAAD4g9c9Sv4mPUpXoiI+Xp46JO/hvRDFJKFSaQI5USnyvaH+pKQkB3Mj8hbLu6MLl7tcqh29OxMqPET0fjsEzzciqmDBPJcKnz3Di9Ah7JKvPGa4BLw+gaEkclwKo30Z/D0/vqs8y0RAvviD1z1K/iY9ULPyIz5enjok7+E9SWjtIVJpAjlRKfI9rbvLJDlyiCHyFsu7owuXO1yqHb07Eyo8RPR+O6A6p6KqYME8lwqfvYWQLyDskq88ZrgEPKYbNKRnbwAkfRn8PT++q7zLREC+AAAAAAAAAAAAAAAAAAAAAAAAAAAAAAAAAAAAAAAAAAAAAAAAAAAAAAAAAAAAAAAAAAAAAAAAAAAAAAAAAAAAAAAAAAAAAAAAAAAAAAAAAAAAAAAAAAAAAAAAAAAAAAAAAAAAAAAAAAAAAAAAAAAAAAAAAAAAAAAAAAAAAAAAAAAAAAAAAAAAAAAAAAAAAAAAAAAAAAAAAAAAAAAAAAAAAAAAAAAAAAAAAAAAAAAAAAAAAAAAAAAAAAAAAAAAAAAAAAAAAAAAAAAAAAAAAAAAAAAAAAAAAAAA12FcO0/bpTTXYVy7AAAAAAAAAAAAAAAAZGNCvIx+lzVjmOG7jH6Xtb1hyqSsAKI5AAAAAEFU0DthxsY7QVTQuwAAAAAAAAAAAAAAANhpdLz3aX08t8vZuvdpfbzYClAp+IPXPUr+Jj0k7+E9Pl6eOlOH7SNRKfI9UmkCOU4G/qEcWWGkowuXO/IWy7sWABajXKodPTsTKjxE9H47lwqfvapgwTy7D5ojZrgEPOySrzybQecejPboIz++q7x9Gfw9qp6XJMtEQD4AAAAAAAAAANdhXDtP26U012FcOwAAAAAAAAAAAAAAAGRjQjyMfpc1Y5jhu4x+lzWrZb+krACiOQAAAABBVNA7YcbGO0FU0DsAAAAAAAAAAAAAAADYaXQ892l9PLfL2br3aX08wANQKQAAAAAAAAAAAAAAAAAAAAAAAAAAAAAAAAAAAAAAAAAAAAAAAAAAAAAAAAAAAAAAAAAAAAAAAAAAAAAAAAAAAAAAAAAAAAAAAAAAAAAAAAAAAAAAAAAAAAAAAAAAAAAAAAAAAAAAAAAAAAAAAAAAAAAAAAAAAAAAAAAAAAAAAAAAAAAAAAAAAAAAAAAAAAAAAAAAAAAAAAAAAAAAAAAAAAAAAAAAAAAAAAAAAAAAAAAAAAAAAAAAAAAAAAAAAAAAAAAAAAAAAAAAAAAAAAAAAAAAAAAAAAAAAAAAAAAAAAAAAAAAAAAAAAAAAAAAAAAAAAAAAAAAAAAAAAAAAAAAAAAAAAAAAAAAAAAAAAAAAAAAAAAAAAAAAAAAAAAAAAAAAAAAAAAAAAAAAAAAAAAAAAAAAAAAAAAAAAAAAAAAAAAAAAAAAAAAAAAAAAAAAAAAAAAAAAAAAAAAAAAAAAAAAAAAAAAAAAAAAAAAAAAAAAAAAAAAAAAAAAAAAAAAAAAAAAAAAAAAAAAAAAAAAAAAAAAAAAAAAAAAAAAAAAAAAAAAAAAAAAAAAAAAAAAAAAAAAAAAAAAAAAAAAAAAAAAAAAAAAAAAAAAAAAAAAAAAAAAAAAAAAAAAAAAAAAAAAAAAAAAAAAAAAAAAAAAAAAAAAAAAAAAAAAAAAAAAAAAAAAAAAAAAAAAAAAAAAAAAAAAAAAAAAAAAAAAAAAAAAAAAAAAAAAAAAAAAAAAAAAAAAAAAAAAAAAAAAAAAAAAAAAAAAAAAAAAAAAAAAAAAAAAAAAAAAAAAAAAAAAAAAAAAAAAAAAAAAAAAAAAAAAAAAAAAAAAAAAAAAAAAAAAAAAAAAAAAAAAAAAAAAAAAAAAAAAAAAAAAAAAAAAAAAAAAAAAAAAAAAAAAAAAAAAAAAAAAAAAAAAAAAAAAAAAAAAAAAAAAAAAAAAAAAAAAAAAAAAAAAAAAAAAAAAAAAAAAAAAAAAAAAAAAAAAAAAAAAAAAAAAAAAAAAAAAAAAAAAAAAAAAAAAAAAAAAAAAAAAAAAAAAAAAAAAAAAAAAAAAAAAAAAAAAAAAAAAAAAAAAAAAAAAAAAAAAAAAAAAAAAAAAAAAAAAAAAAAAAAAAAAAAAAAAAAAAAAAAAAAAAAAAAAAAAAAAAAAAAAAAAAAAAAAAAAAAAAAAAAAAAAAAAAAAAAAAAAAAAAAAAAAAAAAAAAAAAAAAAAAAAAAAAAAAAAAAAAAAAAAAAAAAAAAAAAAAAAAAAAAAAAAAAAAAAAAAAAAAAAAAAAAAAAAAAAAAAAAAAAAAAAAAAAAAAAAAAAAAAAAAAAAAAAAAAAAAAAAAAAAAAAAAAAAAAAAAAAAAAAAAAAAAAAAAAAAAAAAAAAAAAAAAAAAAAAAAAAAAAAAAAAAAAAAAAAAAAAAAAAAAAAAAAAAAAAAAAAAAAAAAAAAAAAAAAAAAAAAAAAAAAAAAAAAAAAAAAAAAAAAAAAAAAAAAAAAAAAAAAAAAAAAAAAAAAAAAAAAAAAAAAAAAAAAAAAAAAAAAAAAAAAAAAAAAAAAAAAAAAAAAAAAAAAAAAAAAAAAAAAAAAAAAAAAAAAAAAAAAAAAAAAAAAAAAAAAAAAAAAAAAAAAAAAAAAAAAAAAAAAAAAAAAAAAAAAAAAAAAAAAAAAAAAAAAAAAAAAAAAAAAAAAAAAAAAAAAAAAAAAAAAAAAAAAAAAAAAAAAAAAAAAAAAAAAAAAAAB0tiM7AAAAAABpbbw0Nxi8AGltvAAAAAAAAAAAAAAAAJPlDj2VXsU8JTVgvJVexTyO6H4qAAAAAAAAAABb+f06St3AOvPVD54AAAAAAAAAAAAAAAB417EeqifFuywEm7lKdZkei/58O0xSMD1Ppw49EQIKPpGdd7wEwVUideCEvVsPc70gJM0iC5ewpY+iC77Teyg+A2gfIo0NwD4AAAAAAAAAAAAAAAAAAAAAAAAAAAAAAAAAAAAAAAAAAAAAAAAAAAAAAAAAAAAAAAAAAAAAdLYjOwAAAAAAaW28NDcYvABpbTwAAAAAAAAAAAAAAACT5Q69lV7FPCU1YLyVXsW8xuJ+KgAAAAAAAAAAAAAAAAAAAAAAAAAAAAAAAAAAAAAAAAAAAAAAAAAAAAAAAAAAAAAAAAAAAAAAAAAAAAAAAAAAAAAAAAAAAAAAAAAAAAAAAAAAAAAAAAAAAAAAAAAAAAAAAAAAAAAAAAAAAAAAAAAAAAAAAAAAAAAAAAAAAAAAAAAAAAAAAAAAAAAAAAAAAAAAAAAAAAAAAAAAAAAAAAAAAAAAAAAAAAAAAAAAAAAAAAAAAAAAAAAAAAAAAAAAAAAAAAAAAAAAAAAAAAAAAAAAAAAAAAAAAAAAAJTweh1K3cA6W/n9OgAAAAAAAAAAAAAAAIM/9p0100SeLASbuaonxbuL/ny7TFIwPU+nDj1oxomjkZ13vBECCj5cYAEjWw9zvXXghL3iW6CkXMPVpNN7KD6Pogu+jQ3AvoDklr5OYKy9ZJYqJdoTBj8YyfQmsrlBo0Poij7eFjsnl8sRpONHdSUTqA+/FfO5J0CvLSoaea+/vkEiPh8e8CgCvBg/KQiIKvMmySdgXQ6/D1OWKo3sgyj+Lv+lTzBlv6jVM6pm/guuAAAAAAAAAABncQwdSt3AOlv5/boAAAAAAAAAAAAAAACZZTMemO06niwEm7mqJ8U7i/58u0xSMD1Ppw490gzZJJGdd7wRAgq+hXLoolsPc7114IQ9Xk2XJXv9N6XTeyg+j6ILPo0NwL4AAAAAAAAAAAAAAAAAAAAAAAAAAAAAAAAAAAAAAAAAAAAAAAAAAAAAAAAAAAAAAAAAAAAAAAAAAAAAAAAAAAAAAAAAAAAAAAAAAAAAAAAAAAAAAAAAAAAAAAAAAAAAAAAAAAAAAAAAAAAAAAAAAAAAAAAAAAAAAAAAAAAAAAAAAAAAAAAAAAAAAAAAAAAAAAAAAAAAAAAAAAAAAAAAAAAAAAAAAAAAAAAAAAAAAAAAAAAAAAAAAAAAAAAAAAAAAAAAAAAAAAAAAAAAAAAAAAAAAAAAAAAAAAAAAAAAAAAAAAAAAAAAAAAAAAAAAAAAAAAAAAAAAAAAAAAAAAAAAAAAAAAAAHS2IzsAAAAAAGltPDQ3GLwAaW28AAAAAAAAAAAAAAAAk+UOvZVexbwlNWC8lV7FPDPufioAAAAAAAAAAFv5/bpK3cA6IYWcnQAAAAAAAAAAAAAAAHERfp2qJ8U7LASbudHfFh+L/nw7TFIwPU+nDj0RAgq+kZ13vKCWaSR14IQ9Ww9zvekK5iJ17M8lj6ILPtN7KD5OTlKkjQ3APgAAAAAAAAAAAAAAAAAAAAAAAAAAAAAAAAAAAAAAAAAAAAAAAAAAAAAAAAAAAAAAAAAAAAB0tiM7AAAAAABpbTw0Nxi8AGltPAAAAAAAAAAAAAAAAJPlDj2VXsW8JTVgvJVexbyg6H4qAAAAAAAAAAAAAAAAAAAAAAAAAAAAAAAAAAAAAAAAAAAAAAAAAAAAAAAAAAAAAAAAAAAAAAAAAAAAAAAAAAAAAAAAAAAAAAAAAAAAAAAAAAAAAAAAAAAAAAAAAAAAAAAAAAAAAAAAAAAAAAAAAAAAAAAAAAAAAAAAAAAAAAAAAAAAAAAAAAAAAAAAAAAAAAAAAAAAAAAAAAAAAAAAAAAAAAAAAAAAAAAAAAAAAAAAAAAAAAAAAAAAAAAAAAAAAAAAAAAAAAAAAAAAAAAAAAAAAAAAAAAAAAAAAAAAAAAAAAAAAAAAAAAAAAAAAAAAAAAAAAAAAAAAAAAAAAAAAAAAAAAAAAAAAAAAAAAAAAAAAAAAAAAAAAAAAAAAAAAAAAAAAAAAAAAAAAAAAAAAAAAAAAAAAAAAAAAAAAAAAAAAAAAAAAAAAAAAAAAAAAAAAAAAAAAAAAAAAAAAAAAAAAAAAAAAAAAAAAAAAAAAAAAAAAAAAAAAAAAAAAAAAAAAAAAAAAAAAAAAAAAAAAAAAAAAAAAAAAAAAAAAAAAAAAAAAAAAAAAAAAAAAAAAAAAAAAAAAAAAAAAAAAAAAAAAAAAAAAAAAAAAAAAAAAAAAAAAAAAAAAAAAAAAAAAAAAAAAAAAAAAAAAAAAAAAAAAAAAAAAAAAAAAAAAAAAAAAAAAAAAAAAAAAAAAAAAAAAAAAAAAAAAAAAAAAAAAAAAAAAAAAAAAAAAAAAAAAAAAAAAAAAAAAAAAAAAAAAAAAAAAAAAAAAAAAAAAAAAAAAAAAAAAAAAAAAAAAAAAAAAAAAAAAAAAAAAAAAAAAAAAAAAAAAAAAAAAAAAAAAAAAAAAAAAAAAAAAAAAAAAAAAAAAAAAAAAAAAAAAAAAAAAAAAAAAAAAAAAAAAAAAAAAAAAAAAAAAAAAAAAAAAAAAAAAAAAAAAAAAAAAAAAAAAAAAAAAAAAAAAAAAAAAAAAAAAAAAAAAAAAAAAAAAAAAAAAAAAAAAAAAAAAAAAAAAAAAAAAAAAAAAAAAAAAAAAAAAAAAAAAAAAAAAAAAAAAAAAAAAAAAAAAAAAAAAAAAAAAAAAAAAAAAAAAAAAAAAAAAAAAAAAAAAAAAAAAAAAAAAAAAAAAAAAAAAAAAAAAAAAAAAAAAAAAAAAAAAAAAAAAAAAAAAAAAAAAAAAAAAAAAAAAAAAAAAAAAAAAAAAAAAAAAAAAAAAAAAAAAAAAAAAAAAAAAAAAAAAAAAAAAAAAAAAAAAAAAAAAAAAAAAAAAAAAAAAAAAAAAAAAAAAAAAAAAAAAAAAAAAAAAAAAAAAAAAAAAAAAAAAAAAAAAAAAAAAAAAAAAAAAAAAAAAAAAAAAAAAAAAAAAAAAAAAAAAAAAAAAAAAAAAAAAAAAAAAAAAAAAAAAAAAAAAAAAAAAAAAAAAAAAAAAAAAAAAAAAAAAAAAAAAAAAAAAAAAAAAAAAAAAAAAAAAAAAAAAAAAAAAAAAAAAAAAAAAAAAAAAAAAAAAAAAAAAAAAAAAAAAAAAAAAAAAAAAAAAAAAAAAAAAAAAAAAAAAAAAAAAAAAAAAAAAAAAAAAAAAAAAAAAAAAAAAAAAAAAAAAAAAAAAAAAAAAAAAAAAAAAAAAAAAAAAAAAAAAAAAAAAAAAAAAAAAAAAAAAAAAAAAAAAAAAAAAAAAAAAAAAAAAAAAAAAAAAAAAAAAAAAAAAAAAAAAAAAAAAAAAAAAAAAAAAAAAAAAAAAAAAAAAAAAAAAAAAAAAAAAAAAAAAAAAAAAAAAAAAAAAAAAAAAAAAAAAAAAAAAAAAAAAAAAAAAAAAAAAAAAAAAAAAAAAAAAAAAAAAAAAAAAAAAAAAAAAAAAAAAAAAAAAAAAAAAAAAAAAAAAAAAAAACE/bM5ZUDuOZhWlpsAAAAAAAAAAAAAAACiBBEcpsKmuqe5NbrvmFkbL6z7OQAAAAAAAAAAAAAAAAAAAAAAAAAAAAAAAAAAAAAAAAAAAAAAAAAAAAAAAAAAAAAAAAAAAAAAAAAAAAAAAAAAAAAAAAAAAAAAAAAAAAAAAAAAAAAAAAAAAAAAAAAAAAAAAAAAAAAAAAAAAAAAAAAAAAAAAAAAAAAAAAAAAAAAAAAAAAAAAAAAAAAAAAAAAAAAAAAAAAAAAAAAAAAAAAAAAAAAAAAAAAAAAAAAAAAAAAAAAAAAAAAAAAAAAAAAAAAAAAAAAAAAAAAAAAAAAAAAAAAAAAAAAAAAAAAAAAAAAAAAAAAAAAAAAAAAAAAAAAAAAAAAAAAAAAAAAAAAAAAAAAAAAAAAAAAAAAAAAAAAAAAAAAAAAAAAAAAAAAAAAAAAAAAAAAAAAAAAAAAAAAAAAAAAAAAAAAAAAAAAAAAAAAAAAAAAAAAAAAAAAAAAAAAAAAAAAAAAAAAAAAAAAAAAAAAAAAAAAAAAAAAAAAAAAAAAAAAAACo9xxtlQO45hP2zOQAAAAAAAAAAAAAAACEHdRvd8pWcp7k1uqbCprovrPu5AAAAAAAAAAAAAAAAAAAAAAAAAAAAAAAAAAAAAAAAAAAAAAAAAAAAAAAAAAAAAAAAAAAAAGQao7wAAAAAqqWXo0QJBT7v2HWmr5Dwmj0BQDp5qAmj/WWDooKwKaJGOo++N5ZTJ60TESgAAAAAAAAAAAAAAAAAAAAAAAAAAAAAAAAAAAAAAAAAAAAAAAAAAAAAAAAAAAAAAAAAAAAAAAAAAAAAAADb3gEaZUDuOYT9s7kAAAAAAAAAAAAAAADWD0EcW24OnKe5NbqmwqY6L6z7uQAAAAAAAAAAAAAAAAAAAAAAAAAAAAAAAAAAAAAAAAAAAAAAAAAAAAAAAAAAAAAAAAAAAAAAAAAAAAAAAAAAAAAAAAAAAAAAAAAAAAAAAAAAAAAAAAAAAAAAAAAAAAAAAAAAAAAAAAAAAAAAAAAAAAAAAAAAAAAAAAAAAAAAAAAAAAAAAAAAAAAAAAAAAAAAAAAAAAAAAAAAAAAAAAAAAAAAAAAAAAAAAAAAAAAAAAAAAAAAAAAAAAAAAAAAAAAAAAAAAAAAAAAAAAAAAAAAAAAAAAAAAAAAAAAAAAAAAAAAAAAAAAAAAAAAAAAAAAAAAAAAAAAAAAAAAAAAAAAAAAAAAAAAAAAAAAAAAAAAAAAAAAAAAAAAAAAAAAAAAAAAAAAAAAAAAAAAAAAAAAAAAAAAAAAAAAAAAAAAAAAAAAAAAAAAAAAAAAAAAAAAAAAAAAAAAAAAAAAAAAAAAAAAAAAAAAAAAAAAAAAAAAAAAAAAAAAAAIT9s7llQO4554+GmwAAAAAAAAAAAAAAAHNnCpymwqY6p7k1uhnGdRwvrPs5AAAAAAAAAAAAAAAAAAAAAAAAAAAAAAAAAAAAAAAAAAAAAAAAAAAAAAAAAAAAAAAAAAAAAAAAAAAAAAAAAAAAAAAAAAAAAAAAAAAAAAAAAAAAAAAAAAAAAAAAAAAAAAAAAAAAAAAAAAAAAAAAAAAAAAAAAAAAAAAAAAAAAAAAAAAAAAAAAAAAAAAAAAAAAAAAAAAAAAAAAAAAAAAAAAAAAAAAAAAAAAAAAAAAAAAAAAAAAAAAAAAAAAAAAAAAAAAAAAAAAAAAAAAAAAAAAAAAAAAAAAAAAAAAAAAAAAAAAAAAAAAAAAAAAAAAAAAAAAAAAAAAAAAAAAAAAAAAAAAAAAAAAAAAAAAAAAAAAAAAAAAAAAAAAAAAAAAAAAAAAAAAAAAAAAAAAAAAAAAAAAAAAAAAAAAAAAAAAAAAAAAAAAAAAAAAAAAAAAAAAAAAAAAAAAAAAAAAAAAAAAAAAAAAAAAAAAAAAAAAAAAAAAAAAAAAAAAAAAAAAAAAAAAAAAAAAAAAAAAAAAAAAAAAAAAAAAAAAAAAAAAAAAAAAAAAAAAAAAAAAAAAAAAAAAAAAAAAAAAAAAAAAAAAAAAAAAAAAAAAAAAAAAAAAAAAAAAAAAAAAAAAAAAAAAAAAAAAAAAAAAAAAAAAAAAAAAAAAAAAAAAAAAAAAAAAAAAAAAAAAAAAAAAAAAAAAAAAAAAAAAAAAAAAAAAAAAAAAAAAAAAAAAAAAAAAAAAAAAAAAAAAAAAAAAAAAAAAAAAAAAAAAAAAAAAAAAAAAAAAAAAAAAAAAAAAAAAAAAAAAAAAAAAAAAAAAAAAAAAAAAAAAAAAAAAAAAAAAAAAAAAAAAAAAAAAAAAAAAAAAAAAAAAAAAAAAAAAAAAAAAAAAAAAAAAAAAAAAAAAAAAAAAAAAAAAAAAAAAAAAAAAAAAAAAAAAAAAAAAAAAAAAAAAAAAAAAAAAAAAAAAAAAAAAAAQfQ+poryVJ9vH8ie1r0qotEF3v22pwagLcJgo2eotv5OIByan9Aynn5wiqQVSxEHh4DckRx0NKK8fdSbs9Z2kh5YXKvSZWr73qS0nKGY3Kqw0ej7MSRynubd9Jp9kSyoc723Ap0jgqQAAAAAAAAAAAAAAAAAAAAAAAAAAAAAAAAAAAAAAAAAAAAAAAAAAAAAAAAAAAAAAAAAAAAAAAAAAAAAAAAAAAAAAAAAAAAAAAAAAAAAAAAAAAAAAAAAAAAAAAAAAAAAAAAAAAAAAAAAAAAAAAAAAAAAAAAAAAAAAAAAAAAAAAAAAAAAAAAAAAAAAAAAAAAAAAAAAAAAAAAAAAAAAAAAAAAAAAAAAAAAAAAAAAAAAAAAAAAAAAAAAAAAAAAAAAAAAAAAAAAAAAAAAAAAAAAAAAAAAAAAAAAAAAAAAAAAAAAAAAAAAAAAAAAAAAAAAAAAAAAAAAAAAAAAAAAAAAAAAAAAAAAAAAAAAAAAAAAAAAAAAAAAAAAAAAAAAAAAAAAAAAAAAAAAAAAAAAAAAAAAAAAAAAAAAAAAAAAAAAAAAAAAAAAAAAAAAAAAAAAAAAAAAAAAAAAAAAAAAAAAAAAAAAAAAAAAAAAAAAAAAAAAAAAAAAAAAAAAAAAAAAAAAAAAAAAAAAAAAAAAAAAAAAAAAAAAAAAAAAAAAAAAAAAAAAAAAAAAAAAAAAAAAAAAAAAAAAAAAAAAAAAAAAAAAAAAAAAAAAAAAAAAAAAAAAAAAAAAAAAAAAAAAAAAAAAAAAAAAAAAAAAAAAAAAAAAAAAAAAAAAAAAAAAAAAAAAAAAAAAAAAAAAAAAAAAAAAAAAAAAAAAAAAAAAAAAAAAAAAAAAAAAAAAAAAAAAAAAAAAAAAAAAAAAAAAAAAAAAAAAAAAAAAAAAAAAAAAAAAAAAAAAAAAAAAAAAAAAAAAAAAAAAAAAAAAAAAAAAAAAAAAAAAAAAAAAAAAAAAAAAAAAAAAAAAAAAAAAAAAAAAAAAAAAAAAAAAAAAAAAAAAAAAAAAAAAAAAAAAAAAAAAAAAAAAAAAAAAAAAAAAAAAAAAAAAAAAAAAAAAAAAAAAAAAAAAAAAAAAAAAAAAAAAAAAAAAAAAAAAAAAAAAAAAAAAAAAAAAAAAAAAAAAAAAAAAAAAAAAAAAAAAAAAAAAAAAAAAAAAAAAAAAAAAAAAAAAAAAAAAAAAAAAAAAAAAAAAAAAAAAAAAAAAAAAAAAAAAAAAAAAAAAAAAAAAAAAAAAAAAAAAAAAAAAAAAAAAAAAAAAAAAAAAAAAAAAAAAAAAAAAAAAAAAAAAAAAAAAAAAAAAAAAAAAAAAAAAAAAAAAAAAAAAAAAAAAAAAAAAAAAAAAAAAAAAAAAAAAAAAAAAAAAAAAAAAAAAAAAAAAAAAAAAAAAAAAAAAAAAAAAAAAAAAAAAAAAAAAAAAAAAAAAAAAAAAAAAAAAAAAAAAAAAAAAAAAAAAAAAAAAAAAAAAAAAAAAAAAAAAAAAAAAAAAAAAAAAAAAAAAAAAAAAAAAAAAAAAAAAAAAAAAAAAAAAAAAAAAAAAAAAAAAAAAAAAAAAAAAAAAAAAAAAAAAAAAAAAAAAAAAAAAAAAAAAAAAAAAAAAAAAAAAAAAAAAAAAAAAAAAAAAAAAAAAAAAAAAAAAAAAAAAAAAAAAAAAAAAAAAAAAAAAAAAAAAAAAAAAAAAAAAAAAAAAAAAAAAAAAAAAAAAAAAAAAAAAAAAAAAAAAAAAAAAAAAAAAAAAAAAAAAAAAAAAAAAAAAAAAAAAAAAAAAAAAAAAAAAAAAAAAAAAAAAAAAAAAAAAAAAAAAAAAAAAAAAAAAAAAAAAAAAAAAAAAAAAAAAAAAAAAAAAAAAAAAAAAAAAAAAAAAAAAAAAAAAAAAAAAAAAAAAAAAAAAAAAAAAAAAAAAAAAAAAAAAAAAAAAAAAAAAAAAAAAAAAAAAAAAAAAAAAAAAAAAAAAAAAAAAAAAAAAAAAAAAAAAAAAAAAAAAAAAAAAAAAAAAAAAAAAAAAAAAAAAAAAAAAAAAAAAAAAAAAAAAAAAAAAAAAAAAAAAAAAAAAAAAAAAAAAAAAAAAAAAAAAAAAAAAAAAAAAAAAAAAAAAAAAAAAAAAAAAAAAAAAAAAAAAAAAAAAAAAAAAAAAAAAAAAAAAAAAAAAAAAAAAAAAAAAAAAAAAAAAAAAAAAAAAAAAAAAAAAAAAAAAAAAAAAAAAAAAAAAAAAAAAAAAAAAAAAAAAAAAAAAAAAAAAAAAAAAAAAAAAAAAAAAAAAAAAAAAAAAAAAAAAAAAAAAAAAAAAAAAAAAAAAAAAAAAAAAAAAAAAAAAAAAAAAAAAAAAAAAAAAAAAAAAAAAAAAAAAAAAAAAAAAAAAAAAAAAAAAAAAAAAAAAAAAAAAAAAAAAAAAAAAAAAAAAAAAAAAAAAAAAAAAAAAAAAAAAAAAAAAAAAAAAAAAAAAAAAAAAAAAAAAAAAAAAAAAAAAAAAAAAAAAAAAAAAAAAAAAAAAAAAAAAAAAAAAAAAAAAAAAAAAAAAAAAAAAAAAAAAAAAAAAAAAAAAAAAAAAAAAAAAAAAAAAAAAAAAAAAAAAAAAAAAAAAAAAAAAAAAAAAAAAAAAAAAAAAAAAAAAAAAAAAAAAAAAAAAAAAAAAAAAAAAAAAAAAAAAAAAAAAAAAAAAAAAAAAAAAAAAAAAAAAAAAAAAAAAAAAAAAAAAAAAAAAAAAAAAAAAAAAAAAAAAAAAAAAAAAAAAAAAAAAAAAAAAAAAAAAAAAAAAAAAAAAAAAAAAAAAAAAAAAAAAAAAAAAAAAAAAAAAAAAAAAAAAAAAAAAAAAAAAAAAAAAAAAAAAAAAAAAAAAAAAAAAAAAAAAAAAAAAAAAAAAAAAAAAAAAAAAAAAAAAAAAAAAAAAAAAAAAAAAAAAAAAAAAAAAAAAAAAAAAAAAAAAAAAAAAAAAAAAAAAAAAAAAAAAAAAAAAAAAAAAAAAAAAAAAAAAAAAAAAAAAAAAAAAAAAAAAAAAAAAAAAAAAAAAAAAAAAAAAAAAAAAAAAAAAAAAAAAAAAAAAAAAAAAAAAAAAAAAAAAAAAAAAAAAAAAAAAAAAAAAAAAAAAAAAAAAAAAAAAAAAAAAAAAAAAAAAAAAAAAAAAAAAAAAAAAAAAAAAAAAAAAAAAAAAAAAAAAAAAAAAAAAAAAAAAAAAAAAAAAAAAAAAAAAAAAAAAAAAAAAAAAAAAAAAAAAAAAAAAAAAAAAAAAAAAAAAAAAAAAAAAAAAAAAAAAAAAAAAAAAAAAAAAAAAAAAAAAAAAAAAAAAAAAAAAAAAAAAAAAAAAAAAAAAAAAAAAAAAAAAAAAAAAAAAAAAAAAAAAAAAAAAAAAAAAAAAAAAAAAAAAAAAAAAAAAAAAAAAAAAAAAAAAAAAAAAAAAAAAAAAAAAAAAAAAAAAAAAAAAAAAAAAAAAAAAAAAAAAAAAAAAAAAAAAAAAAAAAAAAAAAAAAAAAAAAAAAAAAAAAAAAAAAAAAAAAAAAAAAAAAAAAAAAAAAAAAAAAAAAAAAAAAAAAAAAAAAAAAAAAAAAAAAAAAAAAAAAAAAAAAAAAAAAAAAAAAAAAAAAAAAAAAAAAAAAAAAAAAAAAAAAAAAAAAAAAAAAAAAAAAAAAAAAAAAAAAAAAAAAAAAAAAAAAAAAAAAAAAAAAAAAAAAAAAAAAAAAAAAAAAAAAAAAAAAAAAAAAAAAAAAAAAAAAAAAAAAAAAAAAAAAAAAAAAAAAAAAAAAAAAAAAAAAAAAAAAAAAAAAAAAAAAAAAAAAAAAAAAAAAAAAAAAAAAAAAAAAAAAAAAAAAAAAAAAAAAAAAAAAAAAAAAAAAAAAAAAAAAAAAAAAAAAAAAAAAAAAAAAAAAAAAAAAAAAAAAAAAAAAAAAAAAAAAAAAAAAAAAAAAAAAAAAAAAAAAAAAAAAAAAAAAAAAAAAAAAAAAAAAAAAAAAAAAAAAAAAAAAAAAAAAAAAAAAAAAAAAAAAAAAAAAAAAAAAAAAAAAAAAAAAAAAAAAAAAAAAAAAAAAAAAAAAAAAAAAAAAAAAAAAAAAAAAAAAAAAAAAAAAAAAAAAAAAAAAAAAAAAAAAAAAAAAAAAAAAAAAAAAAAAAAAAAAAAAAAAAAAAAAAAAAAAAAAAAAAAAAAAAAAAAAAAAAAAAAAAAAAAAAAAAAAAAAAAAAAAAAAAAAAAAAAAAAAAAAAAAAAAAAAAAAAAAAAAAAAAAAAAAAAAAAAAAAAAAAAAAAAAAAAAAAAAAAAAAAAAAAAAAAAAAAAAAAAAAAAAAAAAAAAAAAAAAAAAAAAAAAAAAAAAAAAAAAAAAAAAAAAAAAAAAAAAAAAAAAAAAAAAAAAAAAAAAAAAAAAAAAAAAAAAAAAAAAAAAAAAAAAAAAAAAAAAAAAAAAAAAAAAAAAAAAAAAAAAAAAAAAAAAAAAAAAAAAAAAAAAAAAAAAAAAAAAAAAAAAAAAAAAAAAAAAAAAAAAAAAAAAAAAAAAAAAAAAAAAAAAAAAAAAAAAAAAAAAAAAAAAAAAAAAAAAAAAAAAAAAAAAAAAAAAAAAAAAAAAAAAAAAAAAAAAAAAAANXii55DngsfyQaNOQAAAAAAAAAAAAAAAALcgLqlEDOf0d8WH2mteDrIaAOfAAAAAAAAAAAAAAAAAAAAAAAAAAAAAAAAAAAAAAAAAAAAAAAAAAAAAAAAAAAAAAAAAAAAAAAAAAAAAAAAAAAAAAAAAAAAAAAAAAAAAAAAAAAAAAAAAAAAAAAAAAAAAAAAAAAAAAAAAAAAAAAAAAAAAAAAAAAAAAAAAAAAAAAAAAAAAAAAAAAAAAAAAAAAAAAAAAAAAAAAAAAAAAAAAAAAAAAAAAAAAAAAAAAAAAAAAAAAAAAAAAAAAAAAAAAAAAAAAAAAAAAAAAAAAAAAAAAAAAAAAAAAAAAAAAAAAAAAAAAAAAAAAAAAAAAAAAAAAAAAAAAAAAAAAAAAAAAAAAAAAAAAAAAAAAAAAAAAAAAAAAAAAAAAAAAAAAAAAAAAAAAAAAAAAAAAAAAAAAAAAAAAAAAAAAAAAAAAAAAAAAAAAAAAAAAAAAAAAAAAAAAAAAAAAAAAAAAAAAAAAAAAAAAAAAAAAAAAAAAAAAAAAAAAAAAAAAAAYvcxnlydwTtOq8G7AAAAAAAAAAAAAAAAfdEwn97/L5+qJ8U7RSirvM/wKjwAAAAAAAAAAAAAAAAAAAAAAAAAAAAAAAAAAAAAAAAAAAAAAAAAAAAAAAAAAAAAAAAAAAAAFOG6o0emZ6S2u32kaxh1pm41Gj4Ofpshz76cp8C2Bj3LLrskN/LSpRXzuSc59+4+TxTCJnnvqBsAAAAAez4xIPBS8KVsi9s6AAAAAAAAAAAAAAAAL1Ejnyl3myGb76CmXHvxO7fklCQAAAAAAAAAAOL5kR1cncG7TqvBuwAAAAAAAAAAAAAAAFX71Z7/ra4dqifFu0Uoq7zP8Cq8AAAAAAAAAAAAAAAAAAAAAAAAAAAAAAAAAAAAAAAAAAAAAAAAAAAAAAAAAAAAAAAAAAAAAAAAAAAAAAAAAAAAAAAAAAAAAAAAAAAAAAAAAAAAAAAAAAAAAAAAAAAAAAAAAAAAAAAAAAAAAAAAAAAAAAAAAAAAAAAAAAAAAAAAAAAAAAAAAAAAAAAAAAAAAAAAAAAAAAAAAAAAAAAAAAAAAAAAAAAAAAAAAAAAAAAAAAAAAAAAAAAAAAAAAAAAAAAAAAAAAAAAAAAAAAAAAAAAAAAAAAAAAAAAAAAAAAAAAAAAAAAAAAAAAAAAAAAAAAAAAAAAAAAAAAAAAAAAAAAAAAAAAAAAAAAAAAAAAAAAAAAAAAAAAAAAAAAAAAAAAAAAAAAAAAAAAAAAAAAAAAAAAAAAAAAAAAAAAAAAAAAAAAAAAAAAAAAAAAAAAAAAAAAAAAAAAAAAAAAAAAAAAAAAAAAAAAAAAAAAAAAAAAAAAAAAAAAAJbgUH18/Ch7JBo05AAAAAAAAAAAAAAAAAtyAOn2GJCBKdZkeaa14OsFqUZ8AAAAAAAAAAAAAAAAAAAAAAAAAAAAAAAAAAAAAAAAAAAAAAAAAAAAAAAAAAAAAAAAAAAAAAAAAAAAAAAAAAAAAAAAAAAAAAAAAAAAAAAAAAAAAAAAAAAAAAAAAAAAAAAAAAAAAAAAAAAAAAAAAAAAAAAAAAAAAAAAAAAAAAAAAAAAAAAAAAAAAAAAAAAAAAAAAAAAAAAAAAAAAAAAAAAAAAAAAAAAAAAAAAAAAAAAAAAAAAAAAAAAAAAAAAAAAAAAAAAAAAAAAAAAAAAAAAAAAAAAAAAAAAAAAAAAAAAAAAAAAAAAAAAAAAAAAAAAAAAAAAAAAAAAAAAAAAAAAAAAAAAAAAAAAAAAAAAAAAAAAAAAAAAAAAAAAAAAAAAAAAAAAAAAAAAAAAAAAAAAAAAAAAAAAAAAAAAAAAAAAAAAAAAAAAAAAAAAAAAAAAAAAAAAAAAAAAAAAAAAAAAAAAAAAAAAAAAAAAAAAAAAAAAAAAAAAAAAAAAAAAAAAAAAAAAAAAAAAAAAAAAAAAAAAAAAAAAAAAAAAAAAAAAAAAAAAAAAAAAAAAAAAAAAAAAAAAAAAAAAAAAAAAAAAAAAAAAAAAAAAAAAAAAAAAAAAAAAAAAAAAAAAAAAAAAAAAAAAAAAAAAAAAAAAAAAAAAAAAAAAAAAAAAAAAAAAAAAAAAAAAAAAAAAAAAAAAAAAAAAAAAAAAAAAAAAAAAAAAAAAAAAAAAAAAAAAAAAAAAAAAAAAAAAAAAAAAAAAAAAAAAAAAAAAAAAAAAAAAAAAAAAAAAAAAAAAAAAAAAAAAAAAAAAAAAAAAAAAAAAAAAAAAAAAAAAAAAAAAAAAAAAAAAAAAAAAAAAAAAAAAAAAAAAAAAAAAAAAAAAAAAAAAAAAAAAAAAAAAAAAAAAAAAAAAAAAAAAAAAAAAAAAAAAAAAAAAAAAAAAAAAAAAAAAAAAAAAAAAAAAAAAAAAAAAAAAAAAAAAAAAAAAAAAAAAAAAAAAAAAAAAAAAAAAAAAAAAAAAAAAAAAAAAAAAAAAAAAAAAAAAAAAAAAAAAAAAAAAAAAAAAAAAAAAAAAAAAAAAAAAAAAAAAAAAAAAAAAAAAAAAAAAAAAAAAAAAAAAAAAAAAAAAAAAAAAAAAAAAAAAAAAAAAAAAAAAAAAAAAAAAAAAAAAAAAAAAAAAAAAAAAAAAAAAAAAAAAAAAAAAAAAAAAAAAAAAAAAAAAAAAAAAAAAAAAAAAAAAAAAAAAAAAAAAAAAAAAAAAAAAAAAAAAAAAAAAAAAAAAAAAAAAAAAAAAAAAAAAAAAAAAAAAAAAAAAAAAAAAAAAAAAAAAAAAAAAAAAAAAAAAAAAAAAAAAAAAAAAAAAAAAAAAAAAAAAAAAAAAAAAAAAAAAAAAAAAAAAAAAAAAAAAAAAAAAAAAAAAAAAAAAAAAAAAAAAAAAAAAAAAAAAAAAAAAAAAAAAAAAAAAAAAAAAAAAAAAAAAAAAAAAAAAAAAAAAAAAAAAAAAAAAAAAAAAAAAAAAAAAAAAAAAAAAAAAAAAAAAAAAAAAAAAAAAAAAAAAAAAAAAAAAAAAAAAAAAAAAAAAAAAAAAAAAAAAAAAAAAAAAAAAAAAAAAAAAAAAAAAAAAAAAAAAAAAAAAAAAAAAAAAAAAAAAAAAAAAAAAAAAAAAAAAAAAAAAAAAAAAAAAAAAAAAAAAAAAAAAAAAAAAAAAAAAAAAAAAAAAAAAAAAAAAAAAAAAAAAAAAAAAAAAAAAAAAAAAAAAAAAAAAAAAAAAAAAAAAAAAAAAAAAAAAAAAAAAAAAAAAAAAAAAAAAAAAAAAAAAAAAAAAAAAAAAAAAAAAAAAAAAAAAAAAAAAAAAAAAAAAAAAAAAAAAAAAAAAAAAAAAAAAFD4HTWDz4u5LjIcNQAAAAAAAAAAAAAAAKGdDrZcc386jH6XNRKAdjr6B80yVUP+OQAAAACTY0i8n6ygO0YwMrwAAAAAAAAAAAAAAAD95QI9uIltvOY7gbwHQFG8i3V/u+bVyCE35OGeV12eopw6eCDBEt+5Zd4MIHXJvx1sCAa3WHnlOqwpkyMWABaj6KQBvajirJ+wHrIiqTEIIOLVo6T6W2YkAdruPHpvUKLDaGAhsSUbPBo0l720/4alyk/8JBleKDyY1G2lAAAAAAAAAABQ+B21g8+LOS4yHDUAAAAAAAAAAAAAAAChnQ62XHN/uox+l7USgHY6+gfNslVD/rkAAAAAk2NIPJ+soLtGMDK8AAAAAAAAAAAAAAAA/eUCPbiJbTzmO4E8B0BRvIt1fzsAAAAAAAAAAAAAAAAAAAAAAAAAAAAAAAAAAAAAAAAAAAAAAAAAAAAAAAAAAAAAAAAAAAAAAAAAAAAAAAAAAAAAAAAAAAAAAAAAAAAAAAAAAAAAAAAAAAAAAAAAAAAAAAAAAAAAAAAAAAAAAAAAAAAAAAAAAAAAAAAAAAAAAAAAAAAAAAAAAAAAAAAAAAAAAAAAAAAAAAAAAAAAAAAAAAAAAAAAAAAAAAAAAAAAAAAAAAAAAAAAAAAAAAAAAAAAAAAAAAAAAAAAAAAAAAAAAAAAjF6KumbRjLeVylmiefOovVqUxDuCPrMhLkDXvAYbfjkBPkmkRBkSo6MLlzvFoUg+Xj4/vPSQzD3XuNY8t2CEJJdUiTvSb8C9hB2DIWbAXT2s7uC9q9WVpb2DvyT507O98dTnPYziiDyMXoo6ZtGMNxz9paJ586g9WpTEO/rKB6EuQNc8Bht+OdgKjiPKWnqiowuXu8WhSD5ePj889JDMvde41rwxFz+kl1SJu9JvwL0w5dAhZsBdvazu4L1Qa5kj1+EZJfnTsz3x1Oc9jOKIvAAAAAAAAAAAAAAAAAAAAAAAAAAAAAAAAAAAAAAAAAAAAAAAAAAAAAAAAAAAAAAAAAAAAAAAAAAAAAAAAAAAAAAAAAAAAAAAAAAAAAAAAAAAAAAAAAAAAAAAAAAAAAAAAAAAAAAAAAAAAAAAAAAAAAAAAAAAAAAAAAAAAAAAAAAAAAAAAAAAAAAAAAAAAAAAAAAAAAAAAAAAAAAAAAAAAAAAAAAAAAAAAAAAAAAAAAAAAAAAAAAAAAAAAAAAAAAAAAAAAAAAAAAAAAAAAAAAAAAAAAAAAAAAAFD4HbWDz4u5LjIcNQAAAAAAAAAAAAAAAKGdDjZcc3+6jH6XNRKAdjr6B80yVUP+OQAAAACTY0g8n6ygO0YwMrwAAAAAAAAAAAAAAAD95QK9uIltPOY7gbwHQFG8i3V/uw50sCF4UiyfaurqoqOwQqPBEt+5GTzbn3CuMSBsCAa3WHnlusJDEaSONi0i6KQBvcBpOiMsbaMiHq26H7CIvSQwj3gkAdruPJSmMyKDj2IisSUbPBo0lz14IpAjsRvmpBleKDz5quujAAAAAAAAAABQ+B01g8+LOS4yHDUAAAAAAAAAAAAAAAChnQ42XHN/Oox+l7USgHY6+gfNslVD/rkAAAAAk2NIvJ+soLtGMDK8AAAAAAAAAAAAAAAA/eUCvbiJbbzmO4E8B0BRvIt1fzsAAAAAAAAAAAAAAAAAAAAAAAAAAAAAAAAAAAAAAAAAAAAAAAAAAAAAAAAAAAAAAAAAAAAAAAAAAAAAAAAAAAAAAAAAAAAAAAAAAAAAAAAAAAAAAAAAAAAAAAAAAAAAAAAAAAAAAAAAAAAAAAAAAAAAAAAAAAAAAAAAAAAAAAAAAAAAAAAAAAAAAAAAAAAAAAAAAAAAAAAAAAAAAAAAAAAAAAAAAAAAAAAAAAAAAAAAAAAAAAAAAAAAAAAAAAAAAAAAAAAAAAAAAAAAAAAAAAAAAAAAAAAAAAAAAAAAAAAAAAAAAAAAAAAAAAAAAAAAAAAAAAAAAAAAAAAAAAAAAAAAAAAAAAAAAAAAAAAAAAAAAAAAAAAAAAAAAAAAAAAAAAAAAAAAAAAAAAAAAAAAAAAAAAAAAAAAAAAAAAAAAAAAAAAAAAAAAAAAAAAAAAAAAAAAAAAAAAAAAAAAAAAAAAAAAAAAAAAAAAAAAAAAAAAAAAAAAAAAAAAAAAAAAAAAAAAAAAAAAAAAAAAAAAAAAAAAAAAAAAAAAAAAAAAAAAAAAAAAAAAAAAAAAAAAAAAAAAAAAAAAAAAAAAAAAAAAAAAAAAAAAAAAAAAAAAAAAAAAAAAAAAAAAAAAAAAAAAAAAAAAAAAAAAAAAAAAAAAAAAAAAAAAAAAAAAAAAAAAAAAAAAAAAAAAAAAAAAAAAAAAAAAAAAAAAAAAAAAAAAAAAAAAAAAAAAAAAAAAAAAAAAAAAAAAAAAAAAAAAAAAAAAAAAAAAAAAAAAAAAAAAAAAAAAAAAAAAAAAAAAAAAAAAAAAAAAAAAAAAAAAAAAAAAAAAAAAAAAAAAAAAAAAAAAAAAAAAAAAAAAAAAAAAAAAAAAAAAAAAAAAAAAAAAAAAAAAAAAAAAAAAAAAAAAAAAAAAAAAAAAAAAAAAAAAAAAAAAAAAAAAAAAAAAAAAAAAAAAAAAAAAAAAAAAAAAAAAAAAAAAAAAAAAAAAAAAAAAAAAAAAAAAAAAAAAAAAAAAAAAAAAAAAAAAAAAAAAAAAAAAAAAAAAAAAAAAAAAAAAAAAAAAAAAAAAAAAAAAAAAAAAAAAAAAAAAAAAAAAAAAAAAAAAAAAAAAAAAAAAAAAAAAAAAAAAAAAAAAAAAAAAAAAAAAAAAAAAAAAAAAAAAAAAAAAAAAAAAAAAAAAAAAAAAAAAAAAAAAAAAAAAAAAAAAAAAAAAAAAAAAAAAAAAAAAAAAAAAAAAAAAAAAAAAAAAAAAAAAAAAAAAAAAAAAAAAAAAAAAAAAAAAAAAAAAAAAAAAAAAAAAAAAAAAAAAAAAAAAAAAAAAAAAAAAAAAAAAAAAAAAAAAAAAAAAAAAAAAAAAAAAAAAAAAAAAAAAAAAAAAAAAAAAAAAAAAAAAAAAAAAAAAAAAAAAAAAAAAAAAAAAAAAAAAAAAAAAAAAAAAAAAAAAAAAAAAAAAAAAAAAAAAAAAAAAAAAAAAAAAAAAAAAAAAAAAAAAAAAAAAAAAAAAAAAAAAAAAAAAAAAAAAAAAAAAAAAAAAAAAAAAAAAAAAAAAAAAAAAAAAAAAAAAAAAAAAAAAAAAAAAAAAAAAAAAAAAAAAAAAAAAAAAAAAAAAAAAAAAAAAAAAAAAAAAAAAAAAAAAAAAAAAAAAAAAAAAAAAAAAAAAAAAAAAAAAAAAAAAAAAAAAAAAAAAAAAAAAAAAAAAAAAAAAAAAAAAAAAAAAAAAAAAAAAAAAAAA78ALuwAAAABdZHg8he6qOtk+VzwAAAAAAAAAAAAAAABn7B+99QmGu9hfzDyRtE+7cGPBOwAAAAAAAAAAEp6THrHLuR4aAY25AAAAAAAAAAAAAAAAytGAOhyGmZ+XRnKeaa14Oru6Sx8kVRoki58HonaQFSaQEJ+j6oMCvQrUhiLG2nUikYyXvL7LhD0H9b4ldX1bJbsktLy8QD0mAAAAAAAAAAAAAAAAAAAAAAAAAAAAAAAAAAAAAAAAAAAAAAAAAAAAAAAAAAAAAAAAAAAAAO/ACzsAAAAAXWR4vIXuqrrZPlc8AAAAAAAAAAAAAAAAZ+wfvfUJhjvYX8y8kbRPu3BjwbsAAAAAAAAAAAAAAAAAAAAAAAAAAAAAAAAAAAAAAAAAAAAAAAAAAAAAAAAAAAAAAAAAAAAAAAAAAAAAAAAAAAAAAAAAAAAAAAAAAAAAAAAAAAAAAAAAAAAAAAAAAAAAAAAAAAAAAAAAAAAAAAAAAAAAAAAAAAAAAAAAAAAAAAAAAAAAAAAAAAAAAAAAAAAAAAAAAAAAAAAAAAAAAAAAAAAAAAAAAAAAAAAAAAAAAAAAAAAAAAAAAAAAAAAAAAAAAAAAAAAAAAAAAAAAAAAAAAAAAAAAAAAAAAC66jAeg6vBO+ecwTsAAAAAAAAAAAAAAAAgoxEeuGjYHu2BxbtFKKu8xtYqvPWt9L3A6Ze9I5X0JBBXKL3gyuI9kPwOo83sDT2LuTY+kZFEJmt2YyQrGE09GpVgPtlVLD24ABkkVT89ov5ogaTbsAsnKg0UvqyGyKF3vJAnjablvNL8u6QnyjQiI/rHJzn37j6sHpkmaKWwqCaxjCds0bGnujFKKgtk4z5KAVMoveKPKgQQGj/Lh3+oVSi1J48EPqrW64nAiN87KgAAAAAAAAAAPU0PnoOrwbvnnME7AAAAAAAAAAAAAAAAqa9Yn507CB/tgcU7RSirvMbWKjz1rfQ9wOmXPac0kyUQVyg94MriPUKLYyPN7A29i7k2PlWFkyLnROykKxhNvRqVYD7ZVSy9AAAAAAAAAAAAAAAAAAAAAAAAAAAAAAAAAAAAAAAAAAAAAAAAAAAAAAAAAAAAAAAAAAAAAAAAAAAAAAAAAAAAAAAAAAAAAAAAAAAAAAAAAAAAAAAAAAAAAAAAAAAAAAAAAAAAAAAAAAAAAAAAAAAAAAAAAAAAAAAAAAAAAAAAAAAAAAAAAAAAAAAAAAAAAAAAAAAAAAAAAAAAAAAAAAAAAAAAAAAAAAAAAAAAAAAAAAAAAAAAAAAAAAAAAAAAAAAAAAAAAAAAAAAAAAAAAAAAAAAAAAAAAAAAAAAAAAAAAAAAAAAAAAAAAAAAAAAAAAAAAAAAAAAAAAAAAAAAAAAAAAAAAADvwAu7AAAAAF1keLyF7qo62T5XPAAAAAAAAAAAAAAAAGfsHz31CYY72F/MPJG0T7twY8E7AAAAAAAAAADauryeeugZHhoBjbkAAAAAAAAAAAAAAADK0YC68qV7H5+rqJ5prXg6oy89Hgl6a6PNcggianPApYINciTqgwK9CPrXojGpgqGRjJe8vsuEvbPA6yVzgMYluyS0vO8JgSYAAAAAAAAAAAAAAAAAAAAAAAAAAAAAAAAAAAAAAAAAAAAAAAAAAAAAAAAAAAAAAAAAAAAA78ALOwAAAABdZHg8he6qutk+VzwAAAAAAAAAAAAAAABn7B899QmGu9hfzLyRtE+7cGPBuwAAAAAAAAAAAAAAAAAAAAAAAAAAAAAAAAAAAAAAAAAAAAAAAAAAAAAAAAAAAAAAAAAAAAAAAAAAAAAAAAAAAAAAAAAAAAAAAAAAAAAAAAAAAAAAAAAAAAAAAAAAAAAAAAAAAAAAAAAAAAAAAAAAAAAAAAAAAAAAAAAAAAAAAAAAAAAAAAAAAAAAAAAAAAAAAAAAAAAAAAAAAAAAAAAAAAAAAAAAAAAAAAAAAAAAAAAAAAAAAAAAAAAAAAAAAAAAAAAAAAAAAAAAAAAAAAAAAAAAAAAAAAAAAAAAAAAAAAAAAAAAAAAAAAAAAAAAAAAAAAAAAAAAAAAAAAAAAAAAAAAAAAAAAAAAAAAAAAAAAAAAAAAAAAAAAAAAAAAAAAAAAAAAAAAAAAAAAAAAAAAAAAAAAAAAAAAAAAAAAAAAAAAAAAAAAAAAAAAAAAAAAAAAAAAAAAAAAAAAAAAAAAAAAAAAAAAAAAAAAAAAAAAAAAAAAAAAAAAAAAAAAAAAAAAAAAAAAAAAAAAAAAAAAAAAAAAAAAAAAAAAAAAAAAAAAAAAAAAAAAAAAAAAAAAAAAAAAAAAAAAAAAAAAAAAAAAAAAAAAAAAAAAAAAAAAAAAAAAAAAAAAAAAAAAAAAAAAAAAAAAAAAAAAAAAAAAAAAAAAAAAAAAAAAAAAAAAAAAAAAAAAAAAAAAAAAAAAAAAAAAAAAAAAAAAAAAAAAAAAAAAAAAAAAAAAAAAAAAAAAAAAAAAAAAAAAAAAAAAAAAAAAAAAAAAAAAAAAAAAAAAAAAAAAAAAAAAAAAAAAAAAAAAAAAAAAAAAAAAAAAAAAAAAAAAAAAAAAAAAAAAAAAAAAAAAAAAAAAAAAAAAAAAAAAAAAAAAAAAAAAAAAAAAAAAAAAAAAAAAAAAAAAAAAAAAAAAAAAAAAAAAAAAAAAAAAAAAAAAAAAAAAAAAAAAAAAAAAAAAAAAAAAAAAAAAAAAAAAAAAAAAAAAAAAAAAAAAAAAAAAAAAAAAAAAAAAAAAAAAAAAAAAAAAAAAAAAAAAAAAAAAAAAAAAAAAAAAAAAAAAAAAAAAAAAAAAAAAAAAAAAAAAAAAAAAAAAAAAAAAAAAAAAAAAAAAAAAAAAAAAAAAAAAAAAAAAAAAAAAAAAAAAAAAAAAAAAAAAAAAAAAAAAAAAAAAAAAAAAAAAAAAAAAAAAAAAAAAAAAAAAAAAAAAAAAAAAAAAAAAAAAAAAAAAAAAAAAAAAAAAAAAAAAAAAAAAAAAAAAAAAAAAAAAAAAAAAAAAAAAAAAAAAAAAAAAAAAAAAAAAAAAAAAAAAAAAAAAAAAAAAAAAAAAAAAAAAAAAAAAAAAAAAAAAAAAAAAAAAAAAAAAAAAAAAAAAAAAAAAAAAAAAAAAAAAAAAAAAAAAAAAAAAAAAAAAAAAAAAAAAAAAAAAAAAAAAAAAAAAAAAAAAAAAAAAAAAAAAAAAAAAAAAAAAAAAAAAAAAAAAAAAAAAAAAAAAAAAAAAAAAAAAAAAAAAAAAAAAAAAAAAAAAAAAAAAAAAAAAAAAAAAAAAAAAAAAAAAAAAAAAAAAAAAAAAAAAAAAAAAAAAAAAAAAAAAAAAAAAAAAAAAAAAAAAAAAAAAAAAAAAAAAAAAAAAAAAAAAAAAAAAAAAAAAAAAAAAAAAAAAAAAAAAAAAAAAAAAAAAAAAAAAAAAAAAAAAAAAAAAAAAAAAAAAAAAAAAAAAAAAAAAAAAAAAAAAAAAAAAAAAAAAAAAAAAAAAAAAAAAAAAAAAAAAAAAAAAAAAAAAAAAAAAAAAAAAAAAAAAAAAAAAAAAAAAAAAAAAAAAAAAAAAAAAAAAAAAAAAAAAAAAAAAAAAAAAAAAAAAAAAAAAAAAAAAAAAAAAAAAAA/6rlG+DrghwXy463AAAAAAAAAAAAAAAAzw1EONNLuJwlyYwZAWKIOItReBwAAAAAAAAAAAAAAAAAAAAAAAAAAAAAAAAAAAAAAAAAAAAAAAAAAAAAAAAAAAAAAAAAAAAAAAAAAAAAAAAAAAAAAAAAAAAAAAAAAAAAAAAAAAAAAAAAAAAAAAAAAAAAAAAAAAAAAAAAAAAAAAAAAAAAAAAAAAAAAAAAAAAAAAAAAAAAAAAAAAAAAAAAAAAAAAAAAAAAAAAAAAAAAAAAAAAAAAAAAAAAAAAAAAAAAAAAAAAAAAAAAAAAAAAAAAAAAAAAAAAAAAAAAAAAAAAAAAAAAAAAAAAAAAAAAAAAAAAAAAAAAAAAAAAAAAAAAAAAAAAAAAAAAAAAAAAAAAAAAAAAAAAAAAAAAAAAAAAAAAAAAAAAAAAAAAAAAAAAAAAAAAAAAAAAAAAAAAAAAAAAAAAAAAAAAAAAAAAAAAAAAAAAAAAAAAAAAAAAAAAAAAAAAAAAAAAAAAAAAAAAAAAAAAAAAAAAAAAAAAAAAAAAAAAAAAAAAAA/ou4aStNIOrQ/DDoAAAAAAAAAAAAAAAAGqA0cdswAnR+1prqiUgW77Ak6ugAAAAAAAAAAAAAAAAAAAAAAAAAAAAAAAAAAAAAAAAAAAAAAAAAAAAAAAAAAAAAAAAAAAAD8NSuhAAAAAIHsh6Jlgb6mfx6KvMMMr5nTHGqjLUhFt+fZ8KDyvu4idLhTJ6TqiT1oXQumAAAAAAAAAAAAAAAAAAAAAAAAAAAAAAAAAAAAAAAAAAAAAAAAAAAAAAAAAAAAAAAAAAAAAAAAAAAAAAAAme4Sm0rTSLq0Pww6AAAAAAAAAAAAAAAAkRUsnIz/khwftaY6olIFu+wJOjoAAAAAAAAAAAAAAAAAAAAAAAAAAAAAAAAAAAAAAAAAAAAAAAAAAAAAAAAAAAAAAAAAAAAAAAAAAAAAAAAAAAAAAAAAAAAAAAAAAAAAAAAAAAAAAAAAAAAAAAAAAAAAAAAAAAAAAAAAAAAAAAAAAAAAAAAAAAAAAAAAAAAAAAAAAAAAAAAAAAAAAAAAAAAAAAAAAAAAAAAAAAAAAAAAAAAAAAAAAAAAAAAAAAAAAAAAAAAAAAAAAAAAAAAAAAAAAAAAAAAAAAAAAAAAAAAAAAAAAAAAAAAAAAAAAAAAAAAAAAAAAAAAAAAAAAAAAAAAAAAAAAAAAAAAAAAAAAAAAAAAAAAAAAAAAAAAAAAAAAAAAAAAAAAAAAAAAAAAAAAAAAAAAAAAAAAAAAAAAAAAAAAAAAAAAAAAAAAAAAAAAAAAAAAAAAAAAAAAAAAAAAAAAAAAAAAAAAAAAAAAAAAAAAAAAAAAAAAAAAAAAAAAAAAAAAAAAAAXF8OaofKEHBfLjrcAAAAAAAAAAAAAAADPDUS4JOfPHNHdxZwBYog4cLLLGwAAAAAAAAAAAAAAAAAAAAAAAAAAAAAAAAAAAAAAAAAAAAAAAAAAAAAAAAAAAAAAAAAAAAAAAAAAAAAAAAAAAAAAAAAAAAAAAAAAAAAAAAAAAAAAAAAAAAAAAAAAAAAAAAAAAAAAAAAAAAAAAAAAAAAAAAAAAAAAAAAAAAAAAAAAAAAAAAAAAAAAAAAAAAAAAAAAAAAAAAAAAAAAAAAAAAAAAAAAAAAAAAAAAAAAAAAAAAAAAAAAAAAAAAAAAAAAAAAAAAAAAAAAAAAAAAAAAAAAAAAAAAAAAAAAAAAAAAAAAAAAAAAAAAAAAAAAAAAAAAAAAAAAAAAAAAAAAAAAAAAAAAAAAAAAAAAAAAAAAAAAAAAAAAAAAAAAAAAAAAAAAAAAAAAAAAAAAAAAAAAAAAAAAAAAAAAAAAAAAAAAAAAAAAAAAAAAAAAAAAAAAAAAAAAAAAAAAAAAAAAAAAAAAAAAAAAAAAAAAAAAAAAAAAAAAAAAAAAAAAAAAAAAAAAAAAAAAAAAAAAAAAAAAAAAAAAAAAAAAAAAAAAAAAAAAAAAAAAAAAAAAAAAAAAAAAAAAAAAAAAAAAAAAAAAAAAAAAAAAAAAAAAAAAAAAAAAAAAAAAAAAAAAAAAAAAAAAAAAAAAAAAAAAAAAAAAAAAAAAAAAAAAAAAAAAAAAAAAAAAAAAAAAAAAAAAAAAAAAAAAAAAAAAAAAAAAAAAAAAAAAAAAAAAAAAAAAAAAAAAAAAAAAAAAAAAAAAAAAAAAAAAAAAAAAAAAAAAAAAAAAAAAAAAAAAAAAAAAAAAAAAAAAAAAAAAAAAAAAAAAAAAAAAAAAAAAAAAAAAAAAAAAAAAAAAAAAAAAAAAAAAAAAAAAAAAAAAAAAAAAAAAAAAAAAAAAAAAAAAAAAAAAAAAAAAAAAAAAAAAAAAAAAAAAAAAAAAAAAAAAAAAAAAAAAAAAAAAAAAAAAAAAAAAAAvHypLjx6oi4kiZWoKg9BLWDPwyhJvRGnRYgPLULgbCleYpolcL71p5Vona7U+70mKcbeQb33TS0m/QsrgCpepmaqBC4BPxep58gzpc07aCx5OQipp8YjpftxMacf2+ItQ0zcqT+UlT8AAAAAAAAAAAAAAAAAAAAAAAAAAAAAAAAAAAAAAAAAAAAAAAAAAAAAAAAAAAAAAAAAAAAAAAAAAAAAAAAAAAAAAAAAAAAAAAAAAAAAAAAAAAAAAAAAAAAAAAAAAAAAAAAAAAAAAAAAAAAAAAAAAAAAAAAAAAAAAAAAAAAAAAAAAAAAAAAAAAAAAAAAAAAAAAAAAAAAAAAAAAAAAAAAAAAAAAAAAAAAAAAAAAAAAAAAAAAAAAAAAAAAAAAAAAAAAAAAAAAAAAAAAAAAAAAAAAAAAAAAAAAAAAAAAAAAAAAAAAAAAAAAAAAAAAAAAAAAAAAAAAAAAAAAAAAAAAAAAAAAAAAAAAAAAAAAAAAAAAAAAAAAAAAAAAAAAAAAAAAAAAAAAAAAAAAAAAAAAAAAAAAAAAAAAAAAAAAAAAAAAAAAAAAAAAAAAAAAAAAAAAAAAAAAAAAAAAAAAAAAAAAAAAAAAAAAAAAAAAAAAAAAAAAAAAAAAAAAAAAAAAAAAAAAAAAAAAAAAAAAAAAAAAAAAAAAAAAAAAAAAAAAAAAAAAAAAAAAAAAAAAAAAAAAAAAAAAAAAAAAAAAAAAAAAAAAAAAAAAAAAAAAAAAAAAAAAAAAAAAAAAAAAAAAAAAAAAAAAAAAAAAAAAAAAAAAAAAAAAAAAAAAAAAAAAAAAAAAAAAAAAAAAAAAAAAAAAAAAAAAAAAAAAAAAAAAAAAAAAAAAAAAAAAAAAAAAAAAAAAAAAAAAAAAAAAAAAAAAAAAAAAAAAAAAAAAAAAAAAAAAAAAAAAAAAAAAAAAAAAAAAAAAAAAAAAAAAAAAAAAAAAAAAAAAAAAAAAAAAAAAAAAAAAAAAAAAAAAAAAAAAAAAAAAAAAAAAAAAAAAAAAAAAAAAAAAAAAAAAAAAAAAAAAAAAAAAAAAAAAAAAAAAAAAAAAAAAAAAAAAAAAAAAAAAAAAAAAAAAAAAAAAAAAAAAAAAAAAAAAAAAAAAAAAAAAAAAAAAAAAAAAAAAAAAAAAAAAAAAAAAAAAAAAAAAAAAAAAAAAAAAAAAAAAAAAAAAAAAAAAAAAAAAAAAAAAAAAAAAAAAAAAAAAAAAAAAAAAAAAAAAAAAAAAAAAAAAAAAAAAAAAAAAAAAAAAAAAAAAAAAAAAAAAAAAAAAAAAAAAAAAAAAAAAAAAAAAAAAAAAAAAAAAAAAAAAAAAAAAAAAAAAAAAAAAAAAAAAAAAAAAAAAAAAAAAAAAAAAAAAAAAAAAAAAAAAAAAAAAAAAAAAAAAAAAAAAAAAAAAAAAAAAAAAAAAAAAAAAAAAAAAAAAAAAAAAAAAAAAAAAAAAAAAAAAAAAAAAAAAAAAAAAAAAAAAAAAAAAAAAAAAAAAAAAAAAAAAAAAAAAAAAAAAAAAAAAAAAAAAAAAAAAAAAAAAAAAAAAAAAAAAAAAAAAAAAAAAAAAAAAAAAAAAAAAAAAAAAAAAAAAAAAAAAAAAAAAAAAAAAAAAAAAAAAAAAAAAAAAAAAAAAAAAAAAAAAAAAAAAAAAAAAAAAAAAAAAAAAAAAAAAAAAAAAAAAAAAAAAAAAAAAAAAAAAAAAAAAAAAAAAAAAAAAAAAAAAAAAAAAAAAAAAAAAAAAAAAAAAAAAAAAAAAAAAAAAAAAAAAAAAAAAAAAAAAAAAAAAAAAAAAAAAAAAAAAAAAAAAAAAAAAAAAAAAAAAAAAAAAAAAAAAAAAAAAAAAAAAAAAAAAAAAAAAAAAAAAAAAAAAAAAAAAAAAAAAAAAAAAAAAAAAAAAAAAAAAAAAAAAAAAAAAAAAAAAAAAAAAAAAAAAAAAAAAAAAAAAAAAAAAAAAAAAAAAAAAAAAAAAAAAAAAAAAAAAAAAAAAAAAAAAAAAAAAAAAAAAAAAAAAAAAAAAAAAAAAAAAAAAAAAAAAAAAAAAAAAAAAAAAAAAAAAAAAAAAAAAAAAAAAAAAAAAAAAAAAAAAAAAAAAAAAAAAAAAAAAAAAAAAAAAAAAAAAAAAAAAAAAAAAAAAAAAAAAAAAAAAAAAAAAAAAAAAAAAAAAAAAAAAAAAAAAAAAAAAAAAAAAAAAAAAAAAAAAAAAAAAAAAAAAAAAAAAAAAAAAAAAAAAAAAAAAAAAAAAAAAAAAAAAAAAAAAAAAAAAAAAAAAAAAAAAAAAAAAAAAAAAAAAAAAAAAAAAAAAAAAAAAAAAAAAAAAAAAAAAAAAAAAAAAAAAAAAAAAAAAAAAAAAAAAAAAAAAAAAAAAAAAAAAAAAAAAAAAAAAAAAAAAAAAAAAAAAAAAAAAAAAAAAAAAAAAAAAAAAAAAAAAAAAAAAAAAAAAAAAAAAAAAAAAAAAAAAAAAAAAAAAAAAAAAAAAAAAAAAAAAAAAAAAAAAAAAAAAAAAAAAAAAAAAAAAAAAAAAAAAAAAAAAAAAAAAAAAAAAAAAAAAAAAAAAAAAAAAAAAAAAAAAAAAAAAAAAAAAAAAAAAAAAAAAAAAAAAAAAAAAAAAAAAAAAAAAAAAAAAAAAAAAAAAAAAAAAAAAAAAAAAAAAAAAAAAAAAAAAAAAAAAAAAAAAAAAAAAAAAAAAAAAAAAAAAAAAAAAAAAAAAAAAAAAAAAAAAAAAAAAAAAAAAAAAAAAAAAAAAAAAAAAAAAAAAAAAAAAAAAAAAAAAAAAAAAAAAAAAAAAAAAAAAAAAAAAAAAAAAAAAAAAAAAAAAAAAAAAAAAAAAAAAAAAAAAAAAAAAAAAAAAAAAAAAAAAAAAAAAAAAAAAAAAAAAAAAAAAAAAAAAAAAAAAAAAAAAAAAAAAAAAAAAAAAAAAAAAAAAAAAAAAAAAAAAAAAAAAAAAAAAAAAAAAAAAAAAAAAAAAAAAAAAAAAAAAAAAAAAAAAAAAAAAAAAAAAAAAAAAAAAAAAAAAAAAAAAAAAAAAAAAAAAAAAAAAAAAAAAAAAAAAAAAAAAAAAAAAAAAAAAAAAAAAAAAAAAAAAAAAAAAAAAAAAAAAAAAAAAAAAAAAAAAAAAAAAAAAAAAAAAAAAAAAAAAAAAAAAAAAAAAAAAAAAAAAAAAAAAAAAAAAAAAAAAAAAAAAAAAAAAAAAAAAAAAAAAAAAAAAAAAAAAAAAAAAAAAAAAAAAAAAAAAAAAAAAAAAAAAAAAAAAAAAAAAAAAAAAAAAAAAAAAAAAAAAAAAAAAAAAAAAAAAAAAAAAAAAAAAAAAAAAAAAAAAAAAAAAAAAAAAAAAAAAAAAAAAAAAAAAAAAAAAAAAAAAAAAAAAAAAAAAAAAAAAAAAAAAAAAAAAAAAAAAAAAAAAAAAAAAAAAAAAAAAAAAAAAAAAAAAAAAAAAAAAAAAAAAAAAAAAAAAAAAAAAAAAAAAAAAAAAAAAAAAAAAAAAAAAAAAAAAAAAAAAAAAAAAAAAAAAAAAAAAAAAAAAAAAAAAAAAAAAAAAAAAAAAAAAAAAAAAAAAAAAAAAAAAAAAAAAAAAAAAAAAAAAAAAAAAAAAAAAAAAAAAAAAAAAAAAAAAAAAAAAAAAAAAAAAAAAAAAAAAAAAAAAAAAAAAAAAAAAAAAAAAAAAAAAAAAAAAAAAAAAAAAAAAAAAAAAAAAAAAAAAAAAAAAAAAAAAAAAAAAAAAAAAAAAAAAAAAAAAAAAAAAAAAAAAAAAAAAAAAAAAAAAAAAAAAAAAAAAAAAAAAAAAAAAAAAAAAAAAAAAAAAAAAAAAAAAAAAAAAAAAAAAAAAAAAAAAAAAAAAAAAAAAAAAAAAAAAAAAAAAAAAAAAAAAAAAAAAAAAAAAAAAAAAAAAAAAAAAAAAAAAAAAAAAAAAAAAAAAAAAAAAAAAAAAAAAAAAAAAAAAAAAAAAAAAAAAAAAAAAAAAAAAAAAAAAAAAAAAAAAAAAAAAAAAAAAAAAAAAAAAAAAAAAAAAAAAAAAAAAAAAAAAAAAAAAAAAAAAAAAAAAAAAAAAAAAAAAAAAAAAAAAAAAAAAAAAAAAAAAAAAAAAAAAAAAAAAAAAAAAAAAAAAAAAAAAAAAAAAAAAAAAAAAAAAAAAAAAAAAAAAAAAAAAAAAAAAAAAAAAAAAAAAAAAAAAAAAAAAAAAAAAAAAAAAAAAAAAAAAAAAAAAAAAAAAAAAAAAAAAAAAAAAAAAAAAAAAAAAAAAAAAAAAAAAAAAAAAAAAAAAAAAAAAAAAAAAAAAAAAAAAAAAAAAAAAAAAAAAAAAAAAAAAAAAAAAAAAAAAAAAAAAAAAAAAAAAAAAAAAAAAAAAAAAAAAAAAAAAAAAAAAAAAAAAAAAAAAAAAAAAAAAAAAAAAAAAAAAAAAAAAAAAAAAAAAAAAAAAAAAAAAAAAAAAAAAAAAAAAAAAAAAAAAAAAAAAAAAAAAAAAAAAAAAAAAAAAAAAAAAAAAAAAAAAAAAAAAAAAAAAAAAAAAAAAAAAAAAAAAAAAAAAAAAAAAAAAAAAAAAAAAAAAAAAAAAAAAAAAAAAAAAAAAAAAAAAAAAAABnzDi7zGZKO6TQxB0AAAAAAAAAAAAAAACSGaKextYqvIv+fDujLz0evOSbuwAAAAAAAAAAAAAAAAAAAAAAAAAAAAAAAAAAAAAAAAAAAAAAAAAAAAAAAAAAAAAAAAAAAAAAAAAAAAAAAAAAAAAAAAAAAAAAAAAAAAAAAAAAAAAAAAAAAAAAAAAAAAAAAAAAAAAAAAAAAAAAAAAAAAAAAAAAAAAAAAAAAAAAAAAAAAAAAAAAAAAAAAAAAAAAAAAAAAAAAAAAAAAAAAAAAAAAAAAAAAAAAAAAAAAAAAAAAAAAAAAAAAAAAAAAAAAAAAAAAAAAAAAAAAAAAAAAAAAAAAAAAAAAAAAAAAAAAAAAAAAAAAAAAAAAAAAAAAAAAAAAAAAAAAAAAAAAAAAAAAAAAAAAAAAAAAAAAAAAAAAAAAAAAAAAAAAAAAAAAAAAAAAAAAAAAAAAAAAAAAAAAAAAAAAAAAAAAAAAAAAAAAAAAAAAAAAAAAAAAAAAAAAAAAAAAAAAAAAAAAAAAAAAAAAAAAAAAAAAAAAAAAAAAAAAAAAAAMTWwp3MZkq7Z8w4OwAAAAAAAAAAAAAAACBHBp9azhMfi/58u8bWKjy85Ju7AAAAAAAAAAAAAAAAAAAAAAAAAAAAAAAAAAAAAAAAAAAAAAAAAAAAAAAAAAAAAAAAAAAAAOLGBKe9cc4lHZIdIxjB7ikujRom4Bu8IKBRACdo3YolcvE0otSaqSNAry0qrB6ZJtWmOb0KJgkcAAAAAOIQlB7P55ElhoSBIwAAAAAAAAAAAAAAAE2EPxwHrMwfWJI2JoKDkSQAuUa5AAAAAAAAAAAUCfAdzGZKu2fMOLsAAAAAAAAAAAAAAACMjl8eAP0jH4v+fLvG1iq8vOSbuwAAAAAAAAAAAAAAAAAAAAAAAAAAAAAAAAAAAAAAAAAAAAAAAAAAAAAAAAAAAAAAAAAAAAAAAAAAAAAAAAAAAAAAAAAAAAAAAAAAAAAAAAAAAAAAAAAAAAAAAAAAAAAAAAAAAAAAAAAAAAAAAAAAAAAAAAAAAAAAAAAAAAAAAAAAAAAAAAAAAAAAAAAAAAAAAAAAAAAAAAAAAAAAAAAAAAAAAAAAAAAAAAAAAAAAAAAAAAAAAAAAAAAAAAAAAAAAAAAAAAAAAAAAAAAAAAAAAAAAAAAAAAAAAAAAAAAAAAAAAAAAAAAAAAAAAAAAAAAAAAAAAAAAAAAAAAAAAAAAAAAAAAAAAAAAAAAAAAAAAAAAAAAAAAAAAAAAAAAAAAAAAAAAAAAAAAAAAAAAAAAAAAAAAAAAAAAAAAAAAAAAAAAAAAAAAAAAAAAAAAAAAAAAAAAAAAAAAAAAAAAAAAAAAAAAAAAAAAAAAAAAAAAAAAAAAAAAAGfMODvMZko7f5tRHgAAAAAAAAAAAAAAABHCbh/G1io8i/58O7u6Sx+85Ju7AAAAAAAAAAAAAAAAAAAAAAAAAAAAAAAAAAAAAAAAAAAAAAAAAAAAAAAAAAAAAAAAAAAAAAAAAAAAAAAAAAAAAAAAAAAAAAAAAAAAAAAAAAAAAAAAAAAAAAAAAAAAAAAAAAAAAAAAAAAAAAAAAAAAAAAAAAAAAAAAAAAAAAAAAAAAAAAAAAAAAAAAAAAAAAAAAAAAAAAAAAAAAAAAAAAAAAAAAAAAAAAAAAAAAAAAAAAAAAAAAAAAAAAAAAAAAAAAAAAAAAAAAAAAAAAAAAAAAAAAAAAAAAAAAAAAAAAAAAAAAAAAAAAAAAAAAAAAAAAAAAAAAAAAAAAAAAAAAAAAAAAAAAAAAAAAAAAAAAAAAAAAAAAAAAAAAAAAAAAAAAAAAAAAAAAAAAAAAAAAAAAAAAAAAAAAAAAAAAAAAAAAAAAAAAAAAAAAAAAAAAAAAAAAAAAAAAAAAAAAAAAAAAAAAAAAAAAAAAAAAAAAAAAAAAAAAAAAAAAAAAAAAAAAAAAAAAAAAAAAAAAAAAAAAAAAAAAAAAAAAAAAAAAAAAAAAAAAAAAAAAAAAAAAAAAAAAAAAAAAAAAAAAAAAAAAAAAAAAAAAAAAAAAAAAAAAAAAAAAAAAAAAAAAAAAAAAAAAAAAAAAAAAAAAAAAAAAAAAAAAAAAAAAAAAAAAAAAAAAAAAAAAAAAAAAAAAAAAAAAAAAAAAAAAAAAAAAAAAAAAAAAAAAAAAAAAAAAAAAAAAAAAAAAAAAAAAAAAAAAAAAAAAAAAAAAAAAAAAAAAAAAAAAAAAAAAAAAAAAAAAAAAAAAAAAAAAAAAAAAAAAAAAAAAAAAAAAAAAAAAAAAAAAAAAAAAAAAAAAAAAAAAAAAAAAAAAAAAAAAAAAAAAAAAAAAAAAAAAAAAAAAAAAAAAAAAAAAAAAAAAAAAAAAAAAAAAAAAAAAAAAAAAAAAAAAAAAAAAAAAAAAAAAAAAAAAAAAAAAAAAAAAAAAAAAAAAAAAAAAAAAAAAAAAAAAAAAAAAAAAAAAAAAAAAAAAAAAAAAAAAAAAAAAAAAAAAAAAAAAAAAAAAAAAAAAAAAAAAAAAAAAAAAAAAAAAAAAAAAAAAAAAAAAAAAAAAAAAAAAAAAAAAAAAAAAAAAAAAAAAAAAAAAAAAAAAAAAAAAAAAAAAAAAAAAAAAAAAAAAAAAAAAAAAAAAAAAAAAAAAAAAAAAAAAAAAAAAAAAAAAAAAAAAAAAAAAAAAAAAAAAAAAAAAAAAAAAAAAAAAAAAAAAAAAAAAAAAAAAAAAAAAAAAAAAAAAAAAAAAAAAAAAAAAAAAAAAAAAAAAAAAAAAAAAAAAAAAAAAAAAAAAAAAAAAAAAAAAAAAAAAAAAAAAAAAAAAAAAAAAAAAAAAAAAAAAAAAAAAAAAAAAAAAAAAAAAAAAAAAAAAAAAAAAAAAAAAAAAAAAAAAAAAAAAAAAAAAAAAAAAAAAAAAAAAAAAAAAAAAAAAAAAAAAAAAAAAAAAAAAAAAAAAAAAAAAAAAAAAAAAAAAAAAAAAAAAAAAAAAAAAAAAAAAAAAAAAAAAAAAAAAAAAAAAAAAAAAAAAAAAAAAAAAAAAAAAAAAAAAAAAAAAAAAAAAAAAAAAAAAAAAAAAAAAAAAAAAAAAAAAAAAAAAAAAAAAAAAAAAAAAAAAAAAAAAAAAAAAAAAAAAAAAAAAAAAAAAAAAAAAAAAAAAAAAAAAAAAAAAAAAAAAAAAAAAAAAAAAAAAAAAAAAAAAAAAAAAAAAAAAAAAAAAAAAAAAAAAAAAAAAAAAAAAAAAAAAAAAAAAAAAAAAAAAAAAAAAAAAAAAAAAAAAAAAAAAAAAAAAAAAAAAAAAAAAAAAAAAAAAAAAAAAAAAAAAAAAAAAAAAAgCYw5CXq5ICAJjLkAAAAAAAAAAAAAAACvUSYl+gfNMqtlv6T6B82ykGL7OhUPoSMAAAAAPQcWO1KsKCk9Bxa7AAAAAAAAAAAAAAAAHc1IKrpDfjum952pukN+uyh0TjwOTzs+qqCQPaP2Sb6VtUM7+ZMVJK/LUb7e8Hg5VwCEodcAQKVePj+8XKodPcBpOiO4ecg8DGioPQDxtTx4qKm8AVMNPYbszCKiyq29B1B0PZaBxp8aRVmkjQK5PWmeWj0ZP5MkuRWyPQAAAAAAAAAAIAmMORmvvCAgCYw5AAAAAAAAAAAAAAAAxscxpfoHzTK9Ycqk+gfNMpBi+zrD6qMjAAAAAD0HFjtJrygpPQcWOwAAAAAAAAAAAAAAABvRSKq6Q347q/mdqbpDfjsodE48AAAAAAAAAAAAAAAAAAAAAAAAAAAAAAAAAAAAAAAAAAAAAAAAAAAAAAAAAAAAAAAAAAAAAAAAAAAAAAAAAAAAAAAAAAAAAAAAAAAAAAAAAAAAAAAAAAAAAAAAAAAAAAAAAAAAAAAAAAAAAAAAAAAAAAAAAAAAAAAAAAAAAAAAAAAAAAAAAAAAAAAAAAAAAAAAAAAAAAAAAAAAAAAAAAAAAAAAAAAAAAAAAAAAAAAAAAAAAAAAAAAAAAAAAAAAAAAAAAAAAAAAAAAAAAAAAAAAAA5PO76qoJC90q9hpJW1Q7uj9kk+Rh5Bot7weLmvy1E+XTVfJP3a1iJcqh29Xj4/PLh5yDwMaKi9APG1vBUksqMBUw29eKipPCvDDaEHUHS9osqtPRR0ryOMZy+kaZ5avY0Cub25FbI9Dk87vqqgkL3giGuklbVDu6P2Sb7BYIEg3vB4ua/LUb6syial/q+wI1yqHb1ePj+8uHnIPAxoqL0A8bW88qHDIwFTDb14qKm8s2mtoQdQdL2iyq29WzI8I8CGkiNpnlq9jQK5PbkVsj0AAAAAAAAAAAAAAAAAAAAAAAAAAAAAAAAAAAAAAAAAAAAAAAAAAAAAAAAAAAAAAAAAAAAAAAAAAAAAAAAAAAAAAAAAAAAAAAAAAAAAAAAAAAAAAAAAAAAAAAAAAAAAAAAAAAAAAAAAAAAAAAAAAAAAAAAAAAAAAAAAAAAAAAAAAAAAAAAAAAAAAAAAAAAAAAAAAAAAAAAAAAAAAAAAAAAAAAAAAAAAAAAAAAAAAAAAAAAAAAAAAAAAAAAAAAAAAAAAAAAAAAAAAAAAAAAAAAAAAAAAAAAAAAAgCYy5PiS6ICAJjLkAAAAAAAAAAAAAAACXmDKl+gfNskNgy6T6B82ykGL7OrUYniMAAAAAPQcWu8+oKCk9Bxa7AAAAAAAAAAAAAAAA3MhIqrpDfrtC9Z2pukN+uyh0TjwOTzs+qqCQPaP2ST6VtUM7txEpJK/LUT7e8Hg5R+28oMOCiiVePj88XKodPajirJ+4ecg8DGioPQDxtTx4qKk8AVMNPUu6+SOiyq09B1B0PYwXJyI+OlwkjQK5vWmeWj3qyJ4kuRWyPQAAAAAAAAAAIAmMuVhjvSAgCYw5AAAAAAAAAAAAAAAA6yYmJfoHzbJrOr+k+gfNMpBi+zoP9aAjAAAAAD0HFrsaqygpPQcWOwAAAAAAAAAAAAAAAMLLSCq6Q367VPadqbpDfjsodE48AAAAAAAAAAAAAAAAAAAAAAAAAAAAAAAAAAAAAAAAAAAAAAAAAAAAAAAAAAAAAAAAAAAAAAAAAAAAAAAAAAAAAAAAAAAAAAAAAAAAAAAAAAAAAAAAAAAAAAAAAAAAAAAAAAAAAAAAAAAAAAAAAAAAAAAAAAAAAAAAAAAAAAAAAAAAAAAAAAAAAAAAAAAAAAAAAAAAAAAAAAAAAAAAAAAAAAAAAAAAAAAAAAAAAAAAAAAAAAAAAAAAAAAAAAAAAAAAAAAAAAAAAAAAAAAAAAAAAAAAAAAAAAAAAAAAAAAAAAAAAAAAAAAAAAAAAAAAAAAAAAAAAAAAAAAAAAAAAAAAAAAAAAAAAAAAAAAAAAAAAAAAAAAAAAAAAAAAAAAAAAAAAAAAAAAAAAAAAAAAAAAAAAAAAAAAAAAAAAAAAAAAAAAAAAAAAAAAAAAAAAAAAAAAAAAAAAAAAAAAAAAAAAAAAAAAAAAAAAAAAAAAAAAAAAAAAAAAAAAAAAAAAAAAAAAAAAAAAAAAAAAAAAAAAAAAAAAAAAAAAAAAAAAAAAAAAAAAAAAAAAAAAAAAAAAAAAAAAAAAAAAAAAAAAAAAAAAAAAAAAAAAAAAAAAAAAAAAAAAAAAAAAAAAAAAAAAAAAAAAAAAAAAAAAAAAAAAAAAAAAAAAAAAAAAAAAAAAAAAAAAAAAAAAAAAAAAAAAAAAAAAAAAAAAAAAAAAAAAAAAAAAAAAAAAAAAAAAAAAAAAAAAAAAAAAAAAAAAAAAAAAAAAAAAAAAAAAAAAAAAAAAAAAAAAAAAAAAAAAAAAAAAAAAAAAAAAAAAAAAAAAAAAAAAAAAAAAAAAAAAAAAAAAAAAAAAAAAAAAAAAAAAAAAAAAAAAAAAAAAAAAAAAAAAAAAAAAAAAAAAAAAAAAAAAAAAAAAAAAAAAAAAAAAAAAAAAAAAAAAAAAAAAAAAAAAAAAAAAAAAAAAAAAAAAAAAAAAAAAAAAAAAAAAAAAAAAAAAAAAAAAAAAAAAAAAAAAAAAAAAAAAAAAAAAAAAAAAAAAAAAAAAAAAAAAAAAAAAAAAAAAAAAAAAAAAAAAAAAAAAAAAAAAAAAAAAAAAAAAAAAAAAAAAAAAAAAAAAAAAAAAAAAAAAAAAAAAAAAAAAAAAAAAAAAAAAAAAAAAAAAAAAAAAAAAAAAAAAAAAAAAAAAAAAAAAAAAAAAAAAAAAAAAAAAAAAAAAAAAAAAAAAAAAAAAAAAAAAAAAAAAAAAAAAAAAAAAAAAAAAAAAAAAAAAAAAAAAAAAAAAAAAAAAAAAAAAAAAAAAAAAAAAAAAAAAAAAAAAAAAAAAAAAAAAAAAAAAAAAAAAAAAAAAAAAAAAAAAAAAAAAAAAAAAAAAAAAAAAAAAAAAAAAAAAAAAAAAAAAAAAAAAAAAAAAAAAAAAAAAAAAAAAAAAAAAAAAAAAAAAAAAAAAAAAAAAAAAAAAAAAAAAAAAAAAAAAAAAAAAAAAAAAAAAAAAAAAAAAAAAAAAAAAAAAAAAAAAAAAAAAAAAAAAAAAAAAAAAAAAAAAAAAAAAAAAAAAAAAAAAAAAAAAAAAAAAAAAAAAAAAAAAAAAAAAAAAAAAAAAAAAAAAAAAAAAAAAAAAAAAAAAAAAAAAAAAAAAAAAAAAAAAAAAAAAAAAAAAAAAAAAAAAAAAAAAAAAAAAAAAAAAAAAAAAAAAAAAAAAAAAAAAAAAAAAAAAAAAAAAAAAAAAAAAAAAADdUDyYAAAAAO22gO8zF4qk7baC7AAAAAAAAAAAAAAAAEDRFK6ecvrsfW8Sqp5y+O/jQ3TwAAAAAAAAAAOPaOLuLk0q7eQ9rHQAAAAAAAAAAAAAAAC5h3J7P8Co8Bn59O8FqUZ+85Ju7Z7EJPjrIuT3dofw8jmkFO+5AHKTPDke+tNTJvUbkxSKErfkkxZOjvv6jCT6Ay8AjaX+nPgAAAAAAAAAAAAAAAAAAAAAAAAAAAAAAAAAAAAAAAAAAAAAAAAAAAAAAAAAAAAAAAAAAAACx6Q8mAAAAADttoDvUyOKpO22gOwAAAAAAAAAAAAAAABM3RaunnL67Ol3Eqqecvrv40N08AAAAAAAAAAAAAAAAAAAAAAAAAAAAAAAAAAAAAAAAAAAAAAAAAAAAAAAAAAAAAAAAAAAAAAAAAAAAAAAAAAAAAAAAAAAAAAAAAAAAAAAAAAAAAAAAAAAAAAAAAAAAAAAAAAAAAAAAAAAAAAAAAAAAAAAAAAAAAAAAAAAAAAAAAAAAAAAAAAAAAAAAAAAAAAAAAAAAAAAAAAAAAAAAAAAAAAAAAAAAAAAAAAAAAAAAAAAAAAAAAAAAAAAAAAAAAAAAAAAAAAAAAAAAAAAAAAAAAAAAAAAAAAAA46x6nouTSjvj2jg7AAAAAAAAAAAAAAAApCMvHpIFdp4Gfn27z/AqvLzkm7tnsQm+Osi5veFMFCSOaQW73aH8vEaNhCK01Mk9zw5HPtCU/KR7P5gj/qMJvsWToz5pf6c+VWYOJ+nvASXzS8Uivwrqqd6lLaauanigTX5GpsZXj6W5h5yjKkQBo8eKIypPFMIm1aY5vS2JNy7v83st59+PJgCdgq70M8WpKVasJhoeA65pt+qpp34lph85+iZ0Oo0t3+w9Kke0ZUAAAAAAAAAAAEvRaJ2Lk0o749o4uwAAAAAAAAAAAAAAAJfca547NtIeBn59u8/wKjy85Ju7Z7EJvjrIub34sN+jjmkFu92h/DzKYviitNTJPc8OR74qRXakBIeRpP6jCb7Fk6O+aX+nPgAAAAAAAAAAAAAAAAAAAAAAAAAAAAAAAAAAAAAAAAAAAAAAAAAAAAAAAAAAAAAAAAAAAAAAAAAAAAAAAAAAAAAAAAAAAAAAAAAAAAAAAAAAAAAAAAAAAAAAAAAAAAAAAAAAAAAAAAAAAAAAAAAAAAAAAAAAAAAAAAAAAAAAAAAAAAAAAAAAAAAAAAAAAAAAAAAAAAAAAAAAAAAAAAAAAAAAAAAAAAAAAAAAAAAAAAAAAAAAAAAAAAAAAAAAAAAAAAAAAAAAAAAAAAAAAAAAAAAAAAAAAAAAAAAAAAAAAAAAAAAAAAAAAAAAAAAAAAAAAAAAAAAAAAAAAAAAAAAAAAAAAAAAXcUOJgAAAAA7baC7k8TiqTttoLsAAAAAAAAAAAAAAABDMkWrp5y+OxdaxKqnnL47+NDdPAAAAAAAAAAA49o4O4uTSrvKkTMeAAAAAAAAAAAAAAAAjGIBH8/wKrwGfn07yGgDn7zkm7tnsQk+Osi5Pd2h/LyOaQU7UdinIs8ORz601Mm9op30IqRPQCXFk6M+/qMJPrb0r6Rpf6c+AAAAAAAAAAAAAAAAAAAAAAAAAAAAAAAAAAAAAAAAAAAAAAAAAAAAAAAAAAAAAAAAAAAAACJaDyYAAAAAO22gu9/G4qk7baA7AAAAAAAAAAAAAAAA8jRFK6ecvjs/XMSqp5y+u/jQ3TwAAAAAAAAAAAAAAAAAAAAAAAAAAAAAAAAAAAAAAAAAAAAAAAAAAAAAAAAAAAAAAAAAAAAAAAAAAAAAAAAAAAAAAAAAAAAAAAAAAAAAAAAAAAAAAAAAAAAAAAAAAAAAAAAAAAAAAAAAAAAAAAAAAAAAAAAAAAAAAAAAAAAAAAAAAAAAAAAAAAAAAAAAAAAAAAAAAAAAAAAAAAAAAAAAAAAAAAAAAAAAAAAAAAAAAAAAAAAAAAAAAAAAAAAAAAAAAAAAAAAAAAAAAAAAAAAAAAAAAAAAAAAAAAAAAAAAAAAAAAAAAAAAAAAAAAAAAAAAAAAAAAAAAAAAAAAAAAAAAAAAAAAAAAAAAAAAAAAAAAAAAAAAAAAAAAAAAAAAAAAAAAAAAAAAAAAAAAAAAAAAAAAAAAAAAAAAAAAAAAAAAAAAAAAAAAAAAAAAAAAAAAAAAAAAAAAAAAAAAAAAAAAAAAAAAAAAAAAAAAAAAAAAAAAAAAAAAAAAAAAAAAAAAAAAAAAAAAAAAAAAAAAAAAAAAAAAAAAAAAAAAAAAAAAAAAAAAAAAAAAAAAAAAAAAAAAAAAAAAAAAAAAAAAAAAAAAAAAAAAAAAAAAAAAAAAAAAAAAAAAAAAAAAAAAAAAAAAAAAAAAAAAAAAAAAAAAAAAAAAAAAAAAAAAAAAAAAAAAAAAAAAAAAAAAAAAAAAAAAAAAAAAAAAAAAAAAAAAAAAAAAAAAAAAAAAAAAAAAAAAAAAAAAAAAAAAAAAAAAAAAAAAAAAAAAAAAAAAAAAAAAAAAAAAAAAAAAAAAAAAAAAAAAAAAAAAAAAAAAAAAAAAAAAAAAAAAAAAAAAAAAAAAAAAAAAAAAAAAAAAAAAAAAAAAAAAAAAAAAAAAAAAAAAAAAAAAAAAAAAAAAAAAAAAAAAAAAAAAAAAAAAAAAAAAAAAAAAAAAAAAAAAAAAAAAAAAAAAAAAAAAAAAAAAAAAAAAAAAAAAAAAAAAAAAAAAAAAAAAAAAAAAAAAAAAAAAAAAAAAAAAAAAAAAAAAAAAAAAAAAAAAAAAAAAAAAAAAAAAAAAAAAAAAAAAAAAAAAAAAAAAAAAAAAAAAAAAAAAAAAAAAAAAAAAAAAAAAAAAAAAAAAAAAAAAAAAAAAAAAAAAAAAAAAAAAAAAAAAAAAAAAAAAAAAAAAAAAAAAAAAAAAAAAAAAAAAAAAAAAAAAAAAAAAAAAAAAAAAAAAAAAAAAAAAAAAAAAAAAAAAAAAAAAAAAAAAAAAAAAAAAAAAAAAAAAAAAAAAAAAAAAAAAAAAAAAAAAAAAAAAAAAAAAAAAAAAAAAAAAAAAAAAAAAAAAAAAAAAAAAAAAAAAAAAAAAAAAAAAAAAAAAAAAAAAAAAAAAAAAAAAAAAAAAAAAAAAAAAAAAAAAAAAAAAAAAAAAAAAAAAAAAAAAAAAAAAAAAAAAAAAAAAAAAAAAAAAAAAAAAAAAAAAAAAAAAAAAAAAAAAAAAAAAAAAAAAAAAAAAAAAAAAAAAAAAAAAAAAAAAAAAAAAAAAAAAAAAAAAAAAAAAAAAAAAAAAAAAAAAAAAAAAAAAAAAAAAAAAAAAAAAAAAAAAAAAAAAAAAAAAAAAAAAAAAAAAAAAAAAAAAAAAAAAAAAAAAAAAAAAAAAAAAAAAAAAAAAAAAAAAAAAAAAAAAAAAAAAAAAAAAAAAAAAAAAAAAAAAAAAAAAAAAAAAAAAAAAAAAAAAAAAAAAAAAAAAAAAAAAAAAAAAAAAAAAAAAAAAAAAAAAAAAAAAAAAAAAAAAAAAAAAAAAAAAAAAAAAAAAAAAAAAAAAAAAAAAAAAAAAAAAAAAAAAAAAAAAAAAAAAAAAAAAAAAAAAAAAAAAAAAAAAAAAAAAAAAAAAAAAAAHOfQLk3sZC5iYt4GwAAAAAAAAAAAAAAAJu325t5ATo6z437OVcK85uZa3e5AAAAAAAAAAAAAAAAAAAAAAAAAAAAAAAAAAAAAAAAAAAAAAAAAAAAAAAAAAAAAAAAAAAAAAAAAAAAAAAAAAAAAAAAAAAAAAAAAAAAAAAAAAAAAAAAAAAAAAAAAAAAAAAAAAAAAAAAAAAAAAAAAAAAAAAAAAAAAAAAAAAAAAAAAAAAAAAAAAAAAAAAAAAAAAAAAAAAAAAAAAAAAAAAAAAAAAAAAAAAAAAAAAAAAAAAAAAAAAAAAAAAAAAAAAAAAAAAAAAAAAAAAAAAAAAAAAAAAAAAAAAAAAAAAAAAAAAAAAAAAAAAAAAAAAAAAAAAAAAAAAAAAAAAAAAAAAAAAAAAAAAAAAAAAAAAAAAAAAAAAAAAAAAAAAAAAAAAAAAAAAAAAAAAAAAAAAAAAAAAAAAAAAAAAAAAAAAAAAAAAAAAAAAAAAAAAAAAAAAAAAAAAAAAAAAAAAAAAAAAAAAAAAAAAAAAAAAAAAAAAAAAAAAAAAAAAAAA+74wGjexkDlzn0A5AAAAAAAAAAAAAAAAXwfBGjdgU5vPjfu5eQE6uplrd7kAAAAAAAAAAAAAAAAAAAAAAAAAAAAAAAAAAAAAAAAAAAAAAAAAAAAAAAAAAAAAAAAAAAAAaM0jIwAAAACiv1Mh8KkxqPwiBCWBSbqXQ9m5n4AHCiCyNLYfs11foeWNtyigsgim7r51uwAAAAAAAAAAAAAAAAAAAAAAAAAAAAAAAAAAAAAAAAAAAAAAAAAAAAAAAAAAAAAAAAAAAAAAAAAAAAAAAH9uZBo3sZA5c59AuQAAAAAAAAAAAAAAAFxQsBqvZMEZz437uXkBOjqZa3e5AAAAAAAAAAAAAAAAAAAAAAAAAAAAAAAAAAAAAAAAAAAAAAAAAAAAAAAAAAAAAAAAAAAAAAAAAAAAAAAAAAAAAAAAAAAAAAAAAAAAAAAAAAAAAAAAAAAAAAAAAAAAAAAAAAAAAAAAAAAAAAAAAAAAAAAAAAAAAAAAAAAAAAAAAAAAAAAAAAAAAAAAAAAAAAAAAAAAAAAAAAAAAAAAAAAAAAAAAAAAAAAAAAAAAAAAAAAAAAAAAAAAAAAAAAAAAAAAAAAAAAAAAAAAAAAAAAAAAAAAAAAAAAAAAAAAAAAAAAAAAAAAAAAAAAAAAAAAAAAAAAAAAAAAAAAAAAAAAAAAAAAAAAAAAAAAAAAAAAAAAAAAAAAAAAAAAAAAAAAAAAAAAAAAAAAAAAAAAAAAAAAAAAAAAAAAAAAAAAAAAAAAAAAAAAAAAAAAAAAAAAAAAAAAAAAAAAAAAAAAAAAAAAAAAAAAAAAAAAAAAAAAAAAAAAAAAAAAc59AOTexkLk15f0aAAAAAAAAAAAAAAAA2totGnkBOrrPjfs5p6xSm5lrd7kAAAAAAAAAAAAAAAAAAAAAAAAAAAAAAAAAAAAAAAAAAAAAAAAAAAAAAAAAAAAAAAAAAAAAAAAAAAAAAAAAAAAAAAAAAAAAAAAAAAAAAAAAAAAAAAAAAAAAAAAAAAAAAAAAAAAAAAAAAAAAAAAAAAAAAAAAAAAAAAAAAAAAAAAAAAAAAAAAAAAAAAAAAAAAAAAAAAAAAAAAAAAAAAAAAAAAAAAAAAAAAAAAAAAAAAAAAAAAAAAAAAAAAAAAAAAAAAAAAAAAAAAAAAAAAAAAAAAAAAAAAAAAAAAAAAAAAAAAAAAAAAAAAAAAAAAAAAAAAAAAAAAAAAAAAAAAAAAAAAAAAAAAAAAAAAAAAAAAAAAAAAAAAAAAAAAAAAAAAAAAAAAAAAAAAAAAAAAAAAAAAAAAAAAAAAAAAAAAAAAAAAAAAAAAAAAAAAAAAAAAAAAAAAAAAAAAAAAAAAAAAAAAAAAAAAAAAAAAAAAAAAAAAAAAAAAAAAAAAAAAAAAAAAAAAAAAAAAAAAAAAAAAAAAAAAAAAAAAAAAAAAAAAAAAAAAAAAAAAAAAAAAAAAAAAAAAAAAAAAAAAAAAAAAAAAAAAAAAAAAAAAAAAAAAAAAAAAAAAAAAAAAAAAAAAAAAAAAAAAAAAAAAAAAAAAAAAAAAAAAAAAAAAAAAAAAAAAAAAAAAAAAAAAAAAAAAAAAAAAAAAAAAAAAAAAAAAAAAAAAAAAAAAAAAAAAAAAAAAAAAAAAAAAAAAAAAAAAAAAAAAAAAAAAAAAAAAAAAAAAAAAAAAAAAAAAAAAAAAAAAAAAAAAAAAAAAAAAAAAAAAAAAAAAAAAAAAAAAAAAAAAAAAAAAAAAAAAAAAAAAAAAAAAAAAAAAAAAAAAAAAAAAAAAAAAAAAAAAAAAAAAAAAAAAAAAAAAAAAAAAAAAAAAAAAAAAAAAAAAAAAAAAAAAAAAAAAAAAAAAAAAAAAAAAAPchIcAuARLA6TUzKOE/B0CmYt2nYpVIppdr6T8q9ZcnCHEHJ7YyfSaNAY+/Rx0NKL33TS2TwajA7baTwPndAKh53t4/QShSp2pAjSnDneU/YbFTqLEDFyguPMono+RuwKSTBiUJdKguAAAAAAAAAAAAAAAAAAAAAAAAAAAAAAAAAAAAAAAAAAAAAAAAAAAAAAAAAAAAAAAAAAAAAAAAAAAAAAAAAAAAAAAAAAAAAAAAAAAAAAAAAAAAAAAAAAAAAAAAAAAAAAAAAAAAAAAAAAAAAAAAAAAAAAAAAAAAAAAAAAAAAAAAAAAAAAAAAAAAAAAAAAAAAAAAAAAAAAAAAAAAAAAAAAAAAAAAAAAAAAAAAAAAAAAAAAAAAAAAAAAAAAAAAAAAAAAAAAAAAAAAAAAAAAAAAAAAAAAAAAAAAAAAAAAAAAAAAAAAAAAAAAAAAAAAAAAAAAAAAAAAAAAAAAAAAAAAAAAAAAAAAAAAAAAAAAAAAAAAAAAAAAAAAAAAAAAAAAAAAAAAAAAAAAAAAAAAAAAAAAAAAAAAAAAAAAAAAAAAAAAAAAAAAAAAAAAAAAAAAAAAAAAAAAAAAAAAAAAAAAAAAAAAAAAAAAAAAAAAAAAAAAAAAAAAAAAAAAAAAAAAAAAAAAAAAAAAAAAAAAAAAAAAAAAAAAAAAAAAAAAAAAAAAAAAAAAAAAAAAAAAAAAAAAAAAAAAAAAAAAAAAAAAAAAAAAAAAAAAAAAAAAAAAAAAAAAAAAAAAAAAAAAAAAAAAAAAAAAAAAAAAAAAAAAAAAAAAAAAAAAAAAAAAAAAAAAAAAAAAAAAAAAAAAAAAAAAAAAAAAAAAAAAAAAAAAAAAAAAAAAAAAAAAAAAAAAAAAAAAAAAAAAAAAAAAAAAAAAAAAAAAAAAAAAAAAAAAAAAAAAAAAAAAAAAAAAAAAAAAAAAAAAAAAAAAAAAAAAAAAAAAAAAAAAAAAAAAAAAAAAAAAAAAAAAAAAAAAAAAAAAAAAAAAAAAAAAAAAAAAAAAAAAAAAAAAAAAAAAAAAAAAAAAAAAAAAAAAAAAAAAAAAAAAAAAAAAAAAAAAAAAAAAAAAAAAAAAAAAAAAAAAAAAAAAAAAAAAAAAAAAAAAAAAAAAAAAAAAAAAAAAAAAAAAAAAAAAAAAAAAAAAAAAAAAAAAAAAAAAAAAAAAAAAAAAAAAAAAAAAAAAAAAAAAAAAAAAAAAAAAAAAAAAAAAAAAAAAAAAAAAAAAAAAAAAAAAAAAAAAAAAAAAAAAAAAAAAAAAAAAAAAAAAAAAAAAAAAAAAAAAAAAAAAAAAAAAAAAAAAAAAAAAAAAAAAAAAAAAAAAAAAAAAAAAAAAAAAAAAAAAAAAAAAAAAAAAAAAAAAAAAAAAAAAAAAAAAAAAAAAAAAAAAAAAAAAAAAAAAAAAAAAAAAAAAAAAAAAAAAAAAAAAAAAAAAAAAAAAAAAAAAAAAAAAAAAAAAAAAAAAAAAAAAAAAAAAAAAAAAAAAAAAAAAAAAAAAAAAAAAAAAAAAAAAAAAAAAAAAAAAAAAAAAAAAAAAAAAAAAAAAAAAAAAAAAAAAAAAAAAAAAAAAAAAAAAAAAAAAAAAAAAAAAAAAAAAAAAAAAAAAAAAAAAAAAAAAAAAAAAAAAAAAAAAAAAAAAAAAAAAAAAAAAAAAAAAAAAAAAAAAAAAAAAAAAAAAAAAAAAAAAAAAAAAAAAAAAAAAAAAAAAAAAAAAAAAAAAAAAAAAAAAAAAAAAAAAAAAAAAAAAAAAAAAAAAAAAAAAAAAAAAAAAAAAAAAAAAAAAAAElL4uKfyADLIDguf5Ivwu+jopqAAAAAAW/bhLwAAAACEUDsfk5/pIGQao7z8NSuhaM0jI4y1pCkAAAAAAAAAAMa3JDAAAAAAAAAAAAAAAAAAAAAAAAAAAAAAAAArV74wQBRUmqIenIIAAAAAAAAAAAAAAAAAAAAAAAAAAAAAAAAAAAAAAAAAAAAAAAAAAAAAAAAAAAAAAAAAAAAAAAAAAAAAAAAAAAAAAAAAAAAAAAAAAAAAAAAAAAAAAAAAAAAAAAAAAAAAAAAAAAAAAAAAAAAAAAAAAAAAAAAAAAAAAAAAAAAAAAAAAAAAAAAAAAAAAAAAAAAAAAAAAAAAAAAAAAAAAAAAAAAAAAAAAAAAAAAAAAAAAAAAAAAAAAAAAAAAAAAAAAAAAAAAAAAAAAAAAAAAAAAAAAAAAAAAAAAAAAAAAAAAAAAAAAAAAAAAAAAAAAAAAAAAAAAAAAAAAAAAAAAAAAAAAAAAAAAAAAAAAAAAAAAAAAAAAAAAAAAAAAAAAAAAAAAAAAAAAAAAAAAAAAAAAAAAAAAAAAAAAAAAAAAAAAAAAAAAAAAAAAAAAAAAAAAAAAAAAAAAAAAAAAAAAAAAAAAAAAAAAAAAAAAAAAAAAAAAAAAAAAAAAAAAAAAAAAAAAAAAAAAAAAAAAAAAAAAAAAAAAAAAAAAAAAAAAAAAAAAAAAAAAAAAAAAAAAAAAAAAAAAAAAAAAAAAAAAAAAAAAAAAAAAAAAAAAAAAAAAAAAAAAAAAAAAAAAAAAAAAAAAAAAAAAAAAAAAAAAAAAAAAAAAAAAAAAAAAAAAAAAAAAAAAAAAAAAAAAAAAAAAAAAAAAAAAAAAAAAAAAAAAAAAAAAAAAAAAAAAAAAAAAAAAAAAAAAAAAAAAAAAAAAAAAAAAAAAAAAAAAAAAAAAAAAAAAAAAAAAAAAAAAAAAAAAAAAAAAAAAAAAAAAAAAAAAAAAAAAAAAAAAAAAAAAAAAAAAAAAAAAAAAAAAAAAAAAAAAAAAAAAAAAAAAAAAAAAAAAAAAAAAAAAAAAAAAAAAAAAAAAAAAAAAAAAAAAAAAAAAAAAAAAAAAAAAAAAAAAAAAAAAAAAAAAAAAAAAAAAAAAAAAAAAAAAAAAAAAAAAAAAAAAAAAAAAAAAAAAAAAAAAAAAAAAAAAAAAAAAAAAAAAAAAAAAAAAAAAAAAAAAAAAAAAAAAAAAAAAAAAAAAAAAAAAAAAAAAAAAAAAAAAAAAAAAAAAAAAAAAAAAAAAAAAAAAAAAAAAAAAAAAAAAAAAAAAAAAAAAAAAAAAAAAAAAAAAAAAAAAAAAAAAAAAAAAAAAAAAAAAAAAAAAAAAAAAAAAAAAAAAAAAAAAAAAAAAAAAAAAAAAAAAAAAAAAAAAAAAAAAAAAAAAAAAAAAAAAAAAAAAAAAAAAAAAAAAAAAAAAAAAAAAAAAAAAAAAAAAAAAAAAAAAAAAAAAAAAAAAAAAAAAAAAAAAAAAAAAAAAAAAAAAAAAAAAAAAAAAAAAAAAAAAAAAAAAAAAAAAAAAAAAAAAAAAAAAAAAAAAAAAAAAAAAAAAAAAAAAAAAAAAAAAAAAAAAAAAAAAAAAAAAAAAAAAAAAAAAAAAAAAAAAAAAAAAAAAAAAAAAAAAAAAAAAAAAAAAAAAAAAAAAAAAAAAAAAAAAAAAAAAAAAAAAAAAAAAAAAAAAAAAAAAAAAAAAAAAAAAAAAAAAAAAAAAAAAAAAAAAAAAAAAAAAAAAAAAAAAAAAAAAAAAAAAAAAAAAAAAAAAAAAAAAAAAAAAAAAAAAAAAAAAAAAAAAAAAAAAAAAAAAAAAAAAAAAAAAAAAAAAAAAAAAAAAAAAAAAAAAAAAAAAAAAAAAAAAAAAAAAAAAAAAAAAAAAAAAAAAAAAAAAAAAAAAAAAAAAAAAAAAAAAAAAAAAAAAAAAAAAAAAAAAAAAAAAAAAAAAAAAAAAAAAAAAAAAAAAAAAAAAAAAAAAAAAAAAAAAAAAAAAAAAAAAAAAAAAAAAAAAAAAAAAAAAAAAAAAAAAAAAAAAAAAAAAAAAAAAAAAAAAAAAAAAAAAAAAAAAAAAAAAAAAAAAAAAAAAAAAAAAAAAAAAAAAAAAAAAAAAAAAAAAAAAAAAAAAAAAAAAAAAAAAAAAAAAAAAAAAAAAAAAAAAAAAAAAAAAAAAAAAAAAAAAAAAAAAAAAAAAAAAAAAAAAAAAAAAAAAAAAAAAAAAAAAAAAAAAAAAAAAAAAAAAAAAAAAAAAAAAAAAAAAAAAAAAAAAAAAAAAAAAAAAAAAAAAAAAAAAAAAAAAAAAAAAAAAAAAAAAAAAAAAAAAAAAAAAAAAAAAAAAAAAAAAAAAAAAAAAAAAAAAAAAAAAAAAAAAAAAAAAAAAAAAAAAAAAAAAAAAAAAAAAAAAAAAAAAAAAAAAAAAAAAAAAAAAAAAAAAAAAAAAAAAAAAAAAAAAAAAAAAAAAAAAAAAAAAAAAAAAAAAAAAAAAAAAAAAAAAAAAAAAAAAAAAAAAAAAAAAAAAAAAAAAAAAAAAAAAAAAAAAAAAAAAAAAAAAAAAAAAAAAAAAAAAAAAAAAAAAAAAAAAAAAAAAAAAAAAAAAAAAAAAAAAAAAAAAAAAAAAAAAAAAAAAAAAAAAAAAAAAAAAAAAAAAAAI2Qyjp5Gya6jZDKOgAAAAAAAAAAAAAAAANqqrvvwAs7dLYjO+/ACzsiWg8mAAAAAAAAAABIamA6YlxgukhqYDoAAAAAAAAAAAAAAADjcxC7XWsQO8XmMzVdaxA7EQmBpsNsZb35ED68qV33PUYBWb1QJ3Ejv7QlPfkoirxnwcahY2q3o/Wt9D1MUjA9CXpro2exCT64zxC8AAAAAGcUET17Hw69QnP9ITirnzrLt5+6XF7yG8iqWyKHsbA9Mzq/vIQ5FaIpAjg9AAAAAAAAAACNkMo6eRsmuo2QyroAAAAAAAAAAAAAAAADaqo778ALO3S2IzvvwAu7XcUOJgAAAAAAAAAASGpgOmJcYLpIamC6AAAAAAAAAAAAAAAA43MQO11rEDvF5jM1XWsQuzTpgKYAAAAAAAAAAAAAAAAAAAAAAAAAAAAAAAAAAAAAAAAAAAAAAAAAAAAAAAAAAAAAAAAAAAAAAAAAAAAAAAAAAAAAAAAAAAAAAAAAAAAAAAAAAAAAAAAAAAAAAAAAAAAAAAAAAAAAAAAAAAAAAAAAAAAAAAAAAAAAAAAAAAAAAAAAAAAAAAAAAAAAAAAAAAAAAAAAAAAAAAAAAAAAAAAAAAAAAAAAAAAAAAAAAAAAAAAAAAAAAAAAAAAAAAAAAAAAAAAAAAAAAAAAAAAAAAAAAAAAw2xlvfkQPrweSiSiRgFZvald9z1+7V4h+SiKvL+0JT2FwI8jnUoSpExSMD31rfQ9Z7EJvrjPELwAAAAAmVW0onsfDr1nFBE9gMgGncu3n7o4q5860+KWoi4JwqIzOr+8h7GwPSkCOL2CBszA/VPMwCz/1CdYgITArXfVp9wCr6e3E4PA5mu5JwznfKeYvgunGnmvv2ilsKgtiTcurjPuvuTYJb6HaAol6/KNv4NgAyS3UemjE4HJvsX5liM8AaSiBCvBJjly37/CnWClc2IgLMNsZb35ED68ko46okYBWb2pXfe9XLWToPkoiry/tCW9jlgBI984laJMUjA99a30vWexCb64zxC8AAAAALUDBKJ7Hw69ZxQRvfYfj53Lt5+6OKufuiASSKPMCCijMzq/vIexsL0pAji9AAAAAAAAAAAAAAAAAAAAAAAAAAAAAAAAAAAAAAAAAAAAAAAAAAAAAAAAAAAAAAAAAAAAAAAAAAAAAAAAAAAAAAAAAAAAAAAAAAAAAAAAAAAAAAAAAAAAAAAAAAAAAAAAAAAAAAAAAAAAAAAAAAAAAAAAAAAAAAAAAAAAAAAAAAAAAAAAAAAAAAAAAAAAAAAAAAAAAAAAAAAAAAAAAAAAAAAAAAAAAAAAAAAAAAAAAAAAAAAAAAAAAAAAAAAAAAAAAAAAAAAAAAAAAAAAAAAAAAAAAAAAAAAAjZDKunkbJrqNkMo6AAAAAAAAAAAAAAAAA2qqO+/AC7t0tiM778ALO7HpDyYAAAAAAAAAAEhqYLpiXGC6SGpgOgAAAAAAAAAAAAAAAONzEDtdaxC7xeYzNV1rEDuoKYGmw2xlvfkQPrypXfe9RgFZvT+v6aO/tCW9+SiKvDCG7pxqGL8j9a30vUxSMD0kVRokZ7EJPrjPELwAAAAAZxQRvXsfDr1Fd3CiOKufusu3n7r3ta2ZjP2ZIYexsL0zOr+8nb0aoykCOD0AAAAAAAAAAI2Qyrp5Gya6jZDKugAAAAAAAAAAAAAAAANqqrvvwAu7dLYjO+/AC7s3VA8mAAAAAAAAAABIamC6YlxgukhqYLoAAAAAAAAAAAAAAADjcxC7XWsQu8XmMzVdaxC7vwmBpgAAAAAAAAAAAAAAAAAAAAAAAAAAAAAAAAAAAAAAAAAAAAAAAAAAAAAAAAAAAAAAAAAAAAAAAAAAAAAAAAAAAAAAAAAAAAAAAAAAAAAAAAAAAAAAAAAAAAAAAAAAAAAAAAAAAAAAAAAAAAAAAAAAAAAAAAAAAAAAAAAAAAAAAAAAAAAAAAAAAAAAAAAAAAAAAAAAAAAAAAAAAAAAAAAAAAAAAAAAAAAAAAAAAAAAAAAAAAAAAAAAAAAAAAAAAAAAAAAAAAAAAAAAAAAAAAAAAAAAAAAAAAAAAAAAAAAAAAAAAAAAAAAAAAAAAAAAAAAAAAAAAAAAAAAAAAAAAAAAAAAAAAAAAAAAAAAAAAAAAAAAAAAAAAAAAAAAAAAAAAAAAAAAAAAAAAAAAAAAAAAAAAAAAAAAAAAAAAAAAAAAAAAAAAAAAAAAAAAAAAAAAAAAAAAAAAAAAAAAAAAAAAAAAAAAAAAAAAAAAAAAAAAAAAAAAAAAAAAAAAAAAAAAAAAAAAAAAAAAAAAAAAAAAAAAAAAAAAAAAAAAAAAAAAAAAAAAAAAAAAAAAAAAAAAAAAAAAAAAAAAAAAAAAAAAAAAAAAAAAAAAAAAAAAAAAAAAAAAAAAAAAAAAAAAAAAAAAAAAAAAAAAAAAAAAAAAAAAAAAAAAAAAAAAAAAAAAAAAAAAAAAAAAAAAAAAAAAAAAAAAAAAAAAAAAAAAAAAAAAAAAAAAAAAAAAAAAAAAAAAAAAAAAAAAAAAAAAAAAAAAAAAAAAAAAAAAAAAAAAAAAAAAAAAAAAAAAAAAAAAAAAAAAAAAAAAAAAAAAAAAAAAAAAAAAAAAAAAAAAAAAAAAAAAAAAAAAAAAAAAAAAAAAAAAAAAAAAAAAAAAAAAAAAAAAAAAAAAAAAAAAAAAAAAAAAAAAAAAAAAAAAAAAAAAAAAAAAAAAAAAAAAAAAAAAAAAAAAAAAAAAAAAAAAAAAAAAAAAAAAAAAAAAAAAAAAAAAAAAAAAAAAAAAAAAAAAAAAAAAAAAAAAAAAAAAAAAAAAAAAAAAAAAAAAAAAAAAAAAAAAAAAAAAAAAAAAAAAAAAAAAAAAAAAAAAAAAAAAAAAAAAAAAAAAAAAAAAAAAAAAAAAAAAAAAAAAAAAAAAAAAAAAAAAAAAAAAAAAAAAAAAAAAAAAAAAAAAAAAjLWkKQAAAADGtySwAAAAAAAAAAAAAAAAAAAAAAAAAAAAAAAAAAAAACtXPrAAAAAA+NaksAAAAAAAAAAAAAAAAAAAAAAAAAAAAAAAAAAAAAAAAAAAAAAAAAAAAAAAAAAAAAAAAAAAAAAAAAAAAAAAAAAAAAAAAAAAAAAAAAAAAAAAAAAAAAAAAAAAAAAAAAAAAAAAAAAAAAAAAAAAAAAAAAAAAAAAAAAAAAAAAAAAAAAAAAAAAAAAAAAAAAAAAAAAAAAAAAAAAAAAAAAAAAAAAAAAAAAAAAAAAAAAAAAAAAAAAAAAAAAAAAAAAAAAAAAAAAAAAAAAAAAAAAAAAAAAAAAAAAAAAAAAAAAAAAAAAAAAAAAAAAAAAAAAAAAAAAAAAAAAAAAAAAAAAAAAAAAAAAAAAAAAAAAAAAAAAAAAAAAAAAAAAAAAAAAAAAAAAAAAAAAAAAAAAAAAAAAAAAAAAAAAAAAAAAAAAAAAAAAAAAAAAAAA9Q2AOZQxFzn1DYA5AAAAAAAAAAAAAAAAHllXulVD/rmsAKI5VUP+uQ/1oCMXHA68AAAAABZ7Az2Pa4+2FnsDPdkdnzowu5az2R2fOlEAn702hjc33dY5PTaGNzeE1uaqS33EvMfjRrrYboE9dd4dPdNAsaLVlSM88JbBOymv3p3nVwIk9JDMvTsTKjwsbaMiDGioPWNAcb4+aQu+tVLyPoQbrTs/C84kd691Pg5Aljglfn8jClfuJiRpsbw4N4E+u04TpFE17T4AAAAAAAAAAPUNgDmUMRc59Q2AuQAAAAAAAAAAAAAAAB5ZVzpVQ/65rACiOVVD/jm1GJ4jFxwOvAAAAAAWewM9j2uPthZ7A73ZHZ86MLuWs9kdn7pRAJ89NoY3N93WOT02hje3WNPmqgAAAAAAAAAAAAAAAAAAAAAAAAAAAAAAAAAAAAAAAAAAAAAAAAAAAAAAAAAAAAAAAAAAAAAAAAAAAAAAAAAAAAAAAAAAAAAAAAAAAAAAAAAAAAAAAAAAAAAAAAAAAAAAAAAAAAAAAAAAAAAAAAAAAAAAAAAAAAAAAAAAAAAAAAAAAAAAAAAAAAAAAAAAAAAAAAAAAAAAAAAAAAAAAIy1pCkAAAAAAAAAAAAAAADGtySwAAAAAAAAAAAAAAAAAAAAAAAAAAArVz6wAAAAAPjWpDBLfcS8x+NGul6M1SF13h092G6BPaVX5h7wlsE71ZUjPBexKiP+5K8iOxMqPPSQzL0MaKi9Y0Bxvj5pC74shrYjhButO7VS8j6jyKajDkCWOHevdT4KSuYk/8fUpDg3gT4kabG8UTXtvkt9xLzH40a6jvpHoXXeHT3YboG97PPZnvCWwTvVlSO8HXiNo12lWaM7Eyo89JDMPQxoqL1jQHG+PmkLvthyUCWEG607tVLyvrsxYqMOQJY4d691vrHyrKXUY4skODeBPiRpsTxRNe2+AAAAAAAAAAAAAAAAAAAAAAAAAAAAAAAAAAAAAAAAAAAAAAAAAAAAAAAAAAAAAAAAAAAAAIy1pCkAAAAAAAAAAAAAAADGtyQwAAAAAAAAAAAAAAAAAAAAAAAAAAArVz6wAAAAAPjWpDAAAAAAAAAAAAAAAAAAAAAAAAAAAAAAAAAAAAAAAAAAAAAAAAAAAAAAAAAAAAAAAAAAAAAAAAAAAAAAAAAAAAAAAAAAAAAAAAAAAAAAAAAAAAAAAAAAAAAAAAAAAAAAAAAAAAAAAAAAAAAAAAAAAAAA9Q2AuZQxFzn1DYA5AAAAAAAAAAAAAAAAHllXOlVD/jmsAKI5VUP+ucPqoyMXHA68AAAAABZ7A72Pa4+2FnsDPdkdn7owu5az2R2fOlEAnz02hje33dY5PTaGNzdo1OaqS33EvMfjRrrYboG9dd4dPRH2IaPVlSO88JbBO+5QAh/MxAqk9JDMPTsTKjywHrIiDGioPWNAcb4+aQu+tVLyvoQbrTtrJ+Skd691vg5Aljgkr4AjgBeDpiRpsTw4N4E+dNSVpFE17T4AAAAAAAAAAPUNgLmUMRc59Q2AuQAAAAAAAAAAAAAAAB5ZV7pVQ/45rACiOVVD/jkVD6EjFxwOvAAAAAAWewO9j2uPthZ7A73ZHZ+6MLuWs9kdn7pRAJ+9NoY3t93WOT02hje3B9nmqgAAAAAAAAAAAAAAAAAAAAAAAAAAAAAAAAAAAAAAAAAAAAAAAAAAAAAAAAAAAAAAAAAAAAAAAAAAAAAAAAAAAAAAAAAAAAAAAAAAAAAAAAAAAAAAAAAAAAAAAAAAAAAAAAAAAAAAAAAAAAAAAAAAAAAAAAAAAAAAAAAAAAAAAAAAAAAAAAAAAAAAAAAAAAAAAAAAAAAAAAAAAAAAAAAAAAAAAAAAAAAAAAAAAAAAAAAAAAAAAAAAAAAAAAAAAAAAAAAAAAAAAAAAAAAAAAAAAAAAAAAAAAAAAAAAAAAAAAAAAAAAAAAAAAAAAAAAAAAAAAAAAAAAAAAAAAAAAAAAAAAAAAAAAAAAAAAAAAAAAAAAAAAAAAAAAAAAAAAAAAAAAAAAAAAAAAAAAAAAAAAAAAAAAAAAAAAAAAAAAAAAAAAAAAAAAAAAAAAAAAAAAAAAAAAAAAAAAAAAAAAAAAAAAAAAAAAAAAAAAAAAAACMtaQpAAAAAMa3JDAAAAAAAAAAAAAAAAAAAAAAAAAAAAAAAAAAAAAAK1c+sAAAAAD41qSwAAAAAAAAAAAAAAAAAAAAAAAAAAAAAAAAAAAAAAAAAAAAAAAAAAAAAAAAAAAAAAAAAAAAAAAAAAAAAAAAAAAAAAAAAAAAAAAAAAAAAAAAAAAAAAAAAAAAAAAAAAAAAAAAAAAAAAAAAAAAAAAAAAAAAAAAAAAAAAAAAAAAAAAAAAAAAAAAAAAAAAAAAAAAAAAAAAAAAAAAAAAAAAAAAAAAAAAAAAAAAAAAAAAAAAAAAAAAAAAAAAAAAAAAAAAAAAAAAAAAAAAAAAAAAAAAAAAAAAAAAAAAAAAAAAAAAAAAAAAAAAAAAAAAAAAAAAAAAAAAAAAAAAAAAAAAAAAAAAAAAAAAAAAAAAAAAAAAAAAAAAAAAAAAAAAAAAAAAAAAAAAAAAAAAAAAAAAAAAAAAAAAAAAAAAAAAAAAAAAAAAAAAAAAAAAAAAAAAAAAAAAAAAAAAAAAAAAAAAAAAAAAAAAAAAAAAAAAAAAAAAAAAAAAAAAAAAAAAAAAAAAAAAAAAAAAAAAAAAAAAAAAAAAAAAAAAAAAAAAAAAAAAAAAAAAAAAAAAAAAAAAAAAAAAAAAAAAAAAAAAAAAAAAAAAAAAAAAAAAAAAAAAAAAAAAAAAAAAAAAAAAAAAAAAAAAAAAAAAAAAAAAAAAAAAAAAAAAAAAAAAAAAAAAAAAAAAAAAAAAAAAAAAAAAAAAAAAAAAAAAAAAAAAAAAAAAAAAAAAAAAAAAAAAAAAAAAAAAAAAAAAAAAAAAAAAAAAAAAAAAAAAAAAAAAAAAAAAAAAAAAAAAAAAAAAAAAAAAAAAAAAAAAAAAAAAAAAAAAAAAAAAAAAAAAAAAAAAAAAAAAAAAAAAAAAAAAAAAAAAAAAAAAAAAAAAAAAAAAAAAAAAAAAAAAAAAAAAAAAAAAAAAAAAAAAAAAAAAAAAAAAAAAAAAAAAAAAAAAAAAAAAAAAAAAAAAAAAAAAAAAAAAAAAAAAAAAAAAAAAAAAAAAAAAAAAAAAAAAAAAAAAAAAAAAAAAAAAAAAAAAAAAAAAAAAAAAAAAAAAAAAAAAAAAAAAAAAAAAAAAAAAAAAAAAAAAAAAAAAAAAAAAAAAAAAAAAAAAAAAAAAAAAAAAAAAAAAAAAAAAAAAAAAAAAAAAAAAAAAAAAAAAAAAAAAAAAAAAAAAAAAAAAAAAAAAAAAAAAAAAAAAAAAAAEVfYDqCTWA6RV9gOgAAAAAAAAAAAAAAAGhtELtVYhC7cGhjNVViELtpH3GmAAAAAAAAAAAAAAAAAAAAAAAAAAAAAAAAAAAAAAAAAAAAAAAAAAAAAAAAAAAAAAAAAAAAALjPELwAAAAAxrkUPYj4Dj172NahjqefOh6ynzqWE64aiAc5I98is70xi7W8aC6MIqcAQD0AAAAAAAAAAAAAAAAAAAAAAAAAAAAAAAAAAAAAAAAAAAAAAAAAAAAAAAAAAAAAAAAAAAAAAAAAAAAAAABFX2A6gk1gOkVfYLoAAAAAAAAAAAAAAABobRA7VWIQu3BoYzVVYhA7mltxpgAAAAAAAAAAAAAAAAAAAAAAAAAAAAAAAAAAAAAAAAAAAAAAAAAAAAAAAAAAAAAAAAAAAAAAAAAAAAAAAAAAAAAAAAAAAAAAAAAAAAAAAAAAAAAAAAAAAAAAAAAAAAAAAAAAAAAAAAAAAAAAAAAAAAAAAAAAAAAAAAAAAAAAAAAAAAAAAAAAAAAAAAAAAAAAAAAAAAAAAAAAAAAAAAAAAAAAAAAAAAAAAAAAAAAAAAAAAAAAAAAAAAAAAAAAAAAAAAAAAAAAAAAAAAAAAAAAAAAAAAAAAAAAAAAAAAAAAAAAAAAAAAAAAAAAAAAAAAAAAAAAAAAAAAAAAAAAAAAAAAAAAAAAuM8QvAAAAACdbvohiPgOPca5FD2wmqmcHrKfOo6nnzpObpqiNtnfIjGLtbzfIrO9pwBAvRv7dTAAAAAAaSM1F122rjZ9UzyXAAAAAL10568AAAAAdMknlEPmgphpG4W3ee+oGwomCRyuM+6+aL5JvsbgoCXJynE/QzQYJvZi/CQ4n/k+424cJSTGJiUuNQSmGq6jv8UxECVuIxcsAAAAAAAAAAAAAAAAAAAAAAAAAAAAAAAAAAAAAAAAAAAAAAAAAAAAAAAAAAAAAAAAAAAAALjPELwAAAAABn9Gooj4Dj3GuRS9668lnR6ynzqOp5+6CkPMoLY4ISExi7W83yKzPacAQL0AAAAAAAAAAAAAAAAAAAAAAAAAAAAAAAAAAAAAAAAAAAAAAAAAAAAAAAAAAAAAAAAAAAAAAAAAAAAAAAAAAAAAAAAAAAAAAAAAAAAAAAAAAAAAAAAAAAAAAAAAAAAAAAAAAAAAAAAAAAAAAAAAAAAAAAAAAAAAAAAAAAAAAAAAAAAAAAAAAAAAAAAAAAAAAAAAAAAAAAAAAAAAAAAAAAAAAAAAAAAAAAAAAAAAAAAAAAAAAAAAAAAAAAAAAAAAAAAAAAAAAAAAAAAAAAAAAAAAAAAAAAAAAAAAAAAAAAAAAAAAAAAAAAAAAAAAAAAAAAAAAAAAAAAAAAAAAAAAAAAAAAAAAAAAAAAAAAAARV9guoJNYDpFX2A6AAAAAAAAAAAAAAAAaG0QO1ViEDtwaGM1VWIQu0jhcKYAAAAAAAAAAAAAAAAAAAAAAAAAAAAAAAAAAAAAAAAAAAAAAAAAAAAAAAAAAAAAAAAAAAAAuM8QvAAAAADGuRS9iPgOPZe6Q6KOp5+6HrKfOj7DgZyQFaOi3yKzPTGLtbwGINkhpwBAPQAAAAAAAAAAAAAAAAAAAAAAAAAAAAAAAAAAAAAAAAAAAAAAAAAAAAAAAAAAAAAAAAAAAAAAAAAAAAAAAEVfYLqCTWA6RV9gugAAAAAAAAAAAAAAAGhtELtVYhA7cGhjNVViEDtdHXGmAAAAAAAAAAAAAAAAAAAAAAAAAAAAAAAAAAAAAAAAAAAAAAAAAAAAAAAAAAAAAAAAAAAAAAAAAAAAAAAAAAAAAAAAAAAAAAAAAAAAAAAAAAAAAAAAAAAAAAAAAAAAAAAAAAAAAAAAAAAAAAAAAAAAAAAAAAAAAAAAAAAAAAAAAAAAAAAAAAAAAAAAAAAAAAAAAAAAAAAAAAAAAAAAAAAAAAAAAAAAAAAAAAAAAAAAAAAAAAAAAAAAAAAAAAAAAAAAAAAAAAAAAAAAAAAAAAAAAAAAAAAAAAAAAAAAAAAAAAAAAAAAAAAAAAAAAAAAAAAAAAAAAAAAAAAAAAAAAAAAAAAAAAAAAAAAAAAAAAAAAAAAAAAAAAAAAAAAAAAAAAAAAAAAAAAAAAAAAAAAAAAAAAAAAAAAAAAAAAAAAAAAAAAAAAAAAAAAAAAAAAAAAAAAAAAAAAAAAAAAAAAAAAAAAAAAAAAAAAAAAAAAAAAAAAAAAAAAAAAAAAAAAAAAAAAAAAAAAAAAAAAAAAAAAAAAAAAAAAAAAAAAAAAAAAAAAAAAAAAAAAAAAAAAAAAAAAAAAAAAAAAAAAAAAAAAAAAAAAAAAAAAAAAAAAAAAAAAAAAAAAAAAAAAAAAAAAAAAAAAAAAAAAAAAAAAAAAAAAAAAAAAAAAAAAAAAAAAAAAAAAAAAAAAAAAAAAAAAAAAAAAAAAAAAAAAAAAAAAAAAAAAAAAAAAAAAAAAAAAAAAAAAAAAAAAAAAAAAAAAAAAAAAAAAAAAAAAAAAAAAAAAAAAAAAAAAAAAAAAAAAAAAAAAAAAAAAAAAAAAAAAAAAAAAAAAAAAAAAAAAAAAAAAAAAAAAAAAAAAAAAAAAAAAAAAAAAAAAAAAAAAAAAAAAAAAAAAAAAAAAAAAAAAAAAAAAAAAAAAAAAAAAAAAAAAAAAAAAAAAAAAAAAAAAAAAAAAAAAAAAAAAAAAAAAAAAAAAAAAAAAAAAAAAAAAAAAAAAAAAAAAAAAAAAAAAAAAAAAAAAAAAAAAAAAAAAAAAAAAAAAAAAAAAAAAAAAAAAAAAAAAAAAAAAAAAAAAAAAAAAAAAAAAAAAAAAAAAAAAAAAAAAAAAAAAAAAAAAAAAAAAAAAAAAAAAAAAAAAAAAAAAAAAAAAAAAAAAAAAAAAAAAAAAAAAAAAAAAAAAAAAAAAAAAAAAAAAAAAAAAAAAAAAAAAAAAAAAAAAAAAAAAAAAAAAAAAAAAAAAAAAAAAAAAAAAAAAAAAAAAAAAAAAAAAAAAAAAAAAAAAAAAAAAAAAAAAAAAAAAAAAAAAAAAAAAAAAAAAAAAAAAAAAAAAAAAAAAAAAAAAAAAAAAAAAAAAAAAAAAAAAAAAAAAAAAAAAAAAAAAAAAAAAAAAAAAAAAAAAAAAAAAAAAAAAAAAAAAAAAAAAAAAAAAAAAAAAAAAAAAAAAAAAAAAAAAAAAAAAAAAAAAAAAAAAAAAAAAAAAAAAAAAAAAAAAAAAAAAAAAAAAAAAAAAAAAAAAAAAAAAAAAAAAAAAAAAAAAAAAAAAAAAAAAAAAAAAAAAAAAAAAAAAAAAAAAAAAAAAAAAAAAAAAAAAAAAAAAAAAAAAAAAAAAAAAAAAAAAAAAAAAAAAAAAAAAAAAAAAAAAAAAAAAAAAAAAAAAAAAAAAAAAAAAAAAAAAAAAAAAAAAAAAAAAAAAAAAAAAAAAAAAAAAAAAAAAAAAAAAAAAAAAAAAAAAAAAAAAAAAAAAAAAAAAAAAAAAAAAAAAAAAAAAAAAAAAAAAAAAAAAAAAAAAAAAAAAAAAAAAAAAAAAAAAAAAAAAAAAAAAAAAAAAAAAAAAAAAAAAAAAAAAAAAAAAAAAAAAAAAAAAAAAAAAAAAAAAAAAAAAAAAAAAAAAAAAAAAAAAAAAAAAAAAAAAAAAAAAAAAAAAAAAAAAAAAAAAAAAAAAAAAAAAAAAAAAAAAAAAAAAAAAAAAAAAAAAAAAAAAAAAAAAAAAAAAAAAAAAAAAAAAAAAAAAAAAAAAAAAAAAAAAAAAAAAAAAAAAAAAAAAAAAAAAAAAAAAAAAAAAAAAAAAAAAAAAAAAAAAAAAAAAAAAAAAAAAAAAAAAAAAAAAAAAAAAAAAAAAAAAAAAAAAAAAAAAAAAAAAAAAAAAAAAAAAAAAAAAAAAAAAAAAAAAAAAAAAAAAAAAAAAAAAAAAAAAAAAAAAAAAAAAAAAAAAAAAAAAAAAAAAAAAAAAAAAAAAAAAAAAAAAAAAAAAAAAAAAAAAAAAAAAAAAAAAAAAAAAAAAAAAAAAAAAAAAAAAAAAAAAAAAAAAAAAAAAAAAAAAAAAAAAAAAAAAAAAAAAAAAAAAAAAAAAAAAAAAAAAAAAAAAAAAAAAAAAAAAAAAAAAAAAAAAAAAAAAAAAAAAAAAAAAAAAAAAAAAAAAAAAAAAAAAAAAAAAAAAAAAAAAAAAAAAAAAAAAAAAAAAAAAAAAAAAAAAAAAAAAAAAAAAAAAAAAAAAAAAAAAAAAAAAAAAAAAAAAAAAAAAAAAAAAAAAAAAAAAAAAAAAAAAAAAAAAAAAAAAAAAAAAAAIy1pCkAAAAAAAAAAMa3JLAAAAAAAAAAAAAAAAAAAAAAAAAAAAAAAAArV74wQBRUGqIenIIAAAAAAAAAAAAAAAAAAAAAAAAAAAAAAAAAAAAAAAAAAAAAAAAAAAAAAAAAAAAAAAAAAAAAAAAAAAAAAAAAAAAAAAAAAAAAAAAAAAAAAAAAAAAAAAAAAAAAAAAAAAAAAAAAAAAAAAAAAAAAAAAAAAAAAAAAAAAAAAAAAAAAAAAAAAAAAAAAAAAAAAAAAAAAAAAAAAAAAAAAAAAAAAAAAAAAAAAAAAAAAAAAAAAAAAAAAAAAAAAAAAAAAAAAAAAAAAAAAAAAAAAAAAAAAAAAAAAAAAAAAAAAAAAAAAAAAAAAAAAAAAAAAAAAAAAAAAAAAAAAAAAAAAAAAAAAAAAAAAAAAAAAAAAAAAAAAAAAAAAAAAAAAAAAAAAAAAAAAAAAAAAAAAAAAAAAAAAAAAAAAAAAAAAAAAAAAAAAAAAAAAAAAAAAAAAAAAAAAAAAAAAAAAAAAAAAAAAAAAAAAAAAAAAAAAAAAAAAAAAAAAAAAAAAAAAAAAAAAAAAAAAAAAAAAAAAAAAAAAAAAAAAAAAAAAAAAAAAAAAAAAAAAAAAAAAAAAAAAAAAAAAAAAAAAAAAAAAAAAAAAAAAAAAAAAAAAAAAAAAAAAAAAAAAAAAAAAAAAAAAAAAAAAAAAAAAAAAAAAAAAAAAAAAAAAAAAAAAAAAAAAAAAAAAAAAAAAAAAAAAAAAAAAAAAAAAAAAAAAAAAAAAAAAAAAAAAAAAAAAAAAAAAAAAAAAAAAAAAAAAAAAAAAAAAAAAAAAAAAAAAAAAAAAAAAAAAAAAAAAAAAAAAAAAAAAAAAAAAAAAAAAAAAAAAAAAAAAAAAAAAAAAAAAAAAAAAAAAAAAAAAAAAAAAAAAAAAAAAAAAAAAAAAAAAAAAAAAAAAAAAAAAAAAAAAAAAAAAAAAAAAAAAAAAAAAAAAAAAAAAAAAAAAAAAAAAAAAAAAAAAAAAAAAAAAAAAAAAAAAAAAAAAAAAAAAAAAAAAAAAAAAAAAAAAAAAAAAAAAAAAAAAAAAAAAAAAAAAAAAAAAAAAAAAAAAAAAAAAAAAAAAAAAAAAAAAAAAAAAAAAAAAAAAAAAAAAAAAAAAAAAAAAAAAAAAAAAAAAAAAAAAAAAAAAAAAAAAAAAAAAAAAAAAAAAAAAAAAAAAAAAAAAAAAAAAAAAAAAAAAAAAAAAAAAAAAAAAAAAAAAAAAAAAAAAAAAAAAAAAAAAAAAAAAAAAAAAAAAAAAAAAAAAAAAAAAAAAAAAAAAAAAAAAAAAAAAAAAAAAAAAAAAAAAAAAAAAAAAAAAAAAAAAAAAAAAAAAAAAAAAAAAAAAAAAAAAAAAAAAAAAAAAAAAAAAAAAAAAAAAAAAAAAAAAAAAAAAAAAAAAAAAAAAAAAAAAAAAAAAAAAAAAAAAAAAAAAAAAAAAAAAAAAAAAAAAAAAAAAAAAAAAAAAAAAAAAAAAAAAAAAAAAAAAAAAAAAAAAAAAAAAAAAAAAAAAAAAAAAAAAAAAAAAAAAAAAAAAAAAAAAAAAAAAAAAAAAAAAAAAAAAAAAAAAAAAAAAAAAAAAAAAAAAAAAAAAAAAAAAAAAAAAAAAAAAAAAAAAAAAAAAAAAAAAAAAAAAAAAAAAAAAAAAAAAAAAAAAAAAAAAAAAAAAAAAAAAAAAAAAAAAAAAAAAAAAAAAAAAAAAACMDM2/oSmRvwoQwqZ0IQ1Ac83sI3iLu6T8utA/1ai6pRdn6CU7x9+mPnOlv68fdSYm/Qsr7baTwIo8EMA2BBaog2/IP5BM6ij60z6oo3vSP4EVZaltBKMoI1kxqHL2EsCWCmcnZwVMLQAAAAAAAAAAAAAAAAAAAAAAAAAAAAAAAAAAAAAAAAAAAAAAAAAAAAAAAAAAAAAAAAAAAAAAAAAAAAAAAAAAAAAAAAAAAAAAAAAAAAAAAAAAAAAAAAAAAAAAAAAAAAAAAAAAAAAAAAAAAAAAAAAAAAAAAAAAAAAAAAAAAAAAAAAAAAAAAAAAAAAAAAAAAAAAAAAAAAAAAAAAAAAAAAAAAAAAAAAAAAAAAAAAAAAAAAAAAAAAAAAAAAAAAAAAAAAAAAAAAAAAAAAAAAAAAAAAAAAAAAAAAAAAAAAAAAAAAAAAAAAAAAAAAAAAAAAAAAAAAAAAAAAAAAAAAAAAAAAAAAAAAAAAAAAAAAAAAAAAAAAAAAAAAAAAAAAAAAAAAAAAAAAAAAAAAAAAAAAAAAAAAAAAAAAAAAAAAAAAAAAAAAAAAAAAAAAAAAAAAAAAAAAAAAAAAAAAAAAAAAAAAAAAAAAAAAAAAAAAAAAAAAAAAAAAAAAAAAAAAAAAAAAAAAAAAAAAAAAAAAAAAAAAAAAAAAAAAAAAAAAAAAAAAAAAAAAAAAAAAAAAAAAAAAAAAAAAAAAAAAAAAAAAAAAAAAAAAAAAAAAAAAAAAAAAAAAAAAAAAAAAAAAAAAAAAAAAAAAAAAAAAAAAAAAAAAAAAAAAAAAAAAAAAAAAAAAAAAAAAAAAAAAAAAAAAAAAAAAAAAAAAAAAAAAAAAAAAAAAAAAAAAAAAAAAAAAAAAAAAAAAAAAAAAAAAAAAAAAAAAAAAAAAAAAAAAAAAAAAAAAAAAAAAAAAAAAAAAAAAAAAAAAAAAAAAAAAAAAAAAAAAAAAAAAAAAAAAAAAAAAAAAAAAAAAAAAAAAAAAAAAAAAAAAAAAAAAAAAAAAAAAAAAAAAAAAAAAAAAAAAAAAAAAAAAAAAAAAAAAAAAAAAAAAAAAAAAAAAAAAAAAAAAAAAAAAAAAAAAAAAAAAAAAAAAAAAAAAAAAAAAAAAAAAAAAAAAAAAAAAAAAAAAAAAAAAAAAAAAAAAAAAAAAAAAAAAAAAAAAAAAAAAAAAAAAAAAAAAAAAAAAAAAAAAAAAAAAAAAAAAAAAAAAAAAAAAAAAAAAAAAAAAAAAAAAAAAAAAAAAAAAAAAAAAAAAAAAAAAAAAAAAAAAAAAAAAAAAAAAAAAAAAAAAAAAAAAAAAAAAAAAAAAAAAAAAAAAAAAAAAAAAAAAAAAAAAAAAAAAAAAAAAAAAAAAAAAAAAAAAAAAAAAAAAAAAAAAAAAAAAAAAAAAAAAAAAAAAAAAAAAAAAAAAAAAAAAAAAAAAAAAAAAAAAAAAAAAAAAAAAAAAAAAAAAAAAAAAAAAAAAAAAAAAAAAAAAAAAAAAAAAAAAAAAAAAAAAAAAAAAAAAAAAAAAAAAAAAAAAAAAAAAAAAAAAAAAAAAAAAAAAAAAAAAAAAAAAAAAAAAAAAAAAAAAAAAAAAAAAAAAAAAAAAAAAAAAAAAAAAAAAAAAAAAAAAAAAAAAAAAAAAAAAAAAAAAAAAAAAAAAAAAAAAAAAAAAAAAAAAAAAAAAAAAAAAAAAAAAAAAAAAAAAAAAAAAAAAAAAAAAAAAAAAAAAAAAAAAAAAAAAAAAAAAAAAAAAAAAAAAAAAAAAAAAAAAAAAAAAAAAAAAAAAAAAAAAAAAAAAAAAAAAAAAAAAAAAAAAAAAAAAAAAAAAAAAAAAAAAAAAAAAAAAAAAAAAAAAAAAAAAAAAAAAAAAAAAAAAAAAAAAAAAAAAAAAAAAAAAAAAAAAAAAAAAAAAAAAAAAAAAAAAAAAAAAAAAAAAAAAAAAAAAAAAAAAAAAAAAAAAAAAAAAAAAAAAAAAAAAAAAAAAAAAAAAAAAAAAAAAAAAAAAAAAAAAAAAAAAAAAAAAAAAAAAAAAAAAAAAAAAAAAAAAAAAAAAAAAAAAAAAAAAAAAAAAAAAAAAAAAAAAAAAAAAAAAAAAAAAAAAAAAAAAAAAAAAAAAAAAAAAAAAAAAAAAAAAAAAAAAAAAAAAAAAAAAAAAAAAAAAAAAAAAAAAAAAAAAAAAAAAAAAAAAAAAAAAAAAAAAAAAAAAAAAAAAAAAAAAAAAAAAAAAAAAAAAAAAAAAAAAAAAAAAAAAAAAAAAAAAAAAAAAAAAAAAAAAAAAAAAAAAAAAAAAAAAAAAAAAAAAAAAAAAAAAAAAAAAAAAAAAAAAAAAAAAAAAAAAAAAAAAAAAAAAAAAAAAAAAAAAAAAAAAAAAAAAAAAAAAAAAAAAAAAAAAAAAAAAAAAAAAAAAAAAAAAAAAAAAAAAAAAAAAAAAAAAAAAAAAAAAAAAAAAAAAAAAAAAAAAAAAAAAAAAAAAAAAAAAAAAAAAAAAAAAAAAAAAAAAAAAAAAAAAAAAAAAAAAAAAAAAAAAAAAAAAAAAAAAAAAAAAAAAAAAAAAAAAAAAAAAAAAAAAAAAAAAAAAAAAAAAAAAAAAAAAAAAAAAAAAAAAAAAAAAAAAAAAAAAAAAAAAAAAAAAAAAAAAAAAAAAAAAAAAAAAAAAAAAAAAAAAAAAAAAAAAAAAAAAAAAAAAAAAAAAAAAAAAAAAAAAAAAAAAAAAAAAAAAAAAAAAAAAAAAAAAAAAAAAAAAAAAAAAAAAAAAAAAAAAAAAAAAAAAAAAAAAAAAAAAAAAAAAAAAAAAAAAAAAAAAAAAAAAAAAAAAAAAAAAAAAAAAAAAAAAAAAAAAAAAAAAAAAAAAAAAAAAAAAAAAAAAAAAAAAAAAAAAAAAAAAAAAAAAAAAAAAAAAAAAAAAAAAAAAAAAAAAAAAAAAAAAAAAAAAAAAAAAAAAAAAAAAAAAAAAAAAAAAAAAAAAAAAAAAAAAAAAAAAAAAAAAAAAAAAAAAAAAAAAAAAAAAAAAAAAAAAAAAAAAAAAAAAAAAAAAAAAAAAAAAAAAAAAAAAAAAAAAAAAAAAAAAAAAAAAAAAAAAAAAAAAAAAAAAAAAAAAAAAAAAAAAAAAAAAAAAAAAAAAAAAAAAAAAAAAAAAAAAAAAAAAAAAAAAAAAAAAAAAAAAAAAAAAAAAAAAAAAAAAAAAAAAAAAAAAAAAAAAAAAAAAAAAAAAAAAAAAAAAAAAAAAAAAAAAAAAAAAAAAAAAAAAAAAAAAAAAAAAAAAAAAAAAAAAAAAAAAAAAAAAAAAAAAAAAAAAAAAAAAAAAAAAAAAAAAAAAAAAAAAAAAAAAAAAAAAAAAAAAAAAAAAAAAAAAAAAAAAAAAAAAAAAAAAAAAAAAAAAAAAAAAAAAAAAAAAAAAAAAAAAAAAAAAAAAAAAAAAAAAAAAAAAAAAAAAAAAAAAAAAAAAAAAAAAAAAAAAAAAAAAAAAAAAAAAAAAAAAAAAAAAAAAAAAAAAAAAAAAAAAAAAAAAAAAAAAAAAAAAAAAAAAAAAAAAAAAAAAAAAAAAAAAAAAAAAAAAAAAAAAAAAAAAAAAAAAAAAAAAAAAAAAAAAAAAAAAAAAAAAAAAAAAAAAAAAAAAAAAAAAAAAAAAAAAAAAAAAAAAAAAAAAAAAAAAAAAAAAAAAAAAAAAAAAAAAAAAAAAAAAAAAAAAAAAAAAAAAAAAAAAAAAAAAAAAAAAAAAAAAAAAAAAAAAAAAAAAAAAAAAAAAAAAAAAAAAAAAAAAAAAAAAAAAAAAAAAAAAAAAAAAAAAAAAAAAAAAAAAAAAAAAAAAAAAAAAAAAAAAAAAAAAAAAAAAAAAAAAAAAAAAAAAAAAAAAAAAAAAAAAAAAAAAAAAAAAAAAAAAAAAAAAAAAAAAAAAAAAAAAAAAAAAAAAAAAAAAAAAAAAAAAAAAAAAAAAAAAAAAAAAAAAAAAAAAAAAAAAAAAAAAAAAAAAAAAAAAAAAAAAAAAAAAAAAAAAAAAAAAAAAAAAAAAAAAAAAAAAAAAAAAAAAAAAAAAAAAAAAAAAAAAAAAAAAAAAAAAAAAAAAAAAAAAAAAAAAAAAAAAAAAAAAAAAAAAAAAAAAAAAAAAAAAAAAAAAAAAAAAAAAAAAAAAAAAAAAAAAAAAAAAAAAAAAAAAAAAAAAAAAAAAAAAAAAAAAAAAAAAAAAAAAAAAAAAAAAAAAAAAAAAAAAAAAAAAAAAAAAAAAAAAAAAAAAAAAAAAAAAAAAAAAAAAAAAAAAAAAAAAAAAAAAAAAAAAAAAAAAAAAAAAAAAAAAAAAAAAAAAAAAAAAAAAAAAAAAAAAAAAAAAAAAAAAAAAAAAAAAAAAAAAAAAAAAAAAAAAAAAAAAAAAAAAAAAAAAAAAAAAAAAAAAAAAAAAAAAAAAAAAAAAAAAAAAAAAAAAAAAAAAAAAAAAAAAAAAAAAAAAAAAAAAAAAAAAAAAAAAAAAAAAAAAAAAAAAAAAAAAAAAAAAAAAAAAAAAAAAAAAAAAAAAAAAAAAAAAAAAAAAAAAAAAAAAAAAAAAAAAAAAAAAAAAAAAAAAAAAAAAAAAAAAAAAAAAADs9RG7AAAAADOWLD0tMI28O8JwoQAAAAAAAAAAAAAAAPPJOCHA6Zc9T6cOPc1yCCI6yLk9AAAAAAAAAAAAtM07JtnMu9M8Kx4AAAAAAAAAAAAAAAB27sifcWuhPPQRuLtM9pKftDMiPAAAAAAAAAAAAAAAAAAAAAAAAAAAAAAAAAAAAAAAAAAAAAAAAAAAAAAAAAAAAAAAAAAAAAAAAAAAAAAAAAAAAAAAAAAAAAAAAAAAAAAAAAAAAAAAAAAAAAAAAAAAAAAAAAAAAAAAAAAAAAAAAAAAAAAAAAAAAAAAAAAAAAAAAAAAAAAAAAAAAAAAAAAAAAAAAAAAAAAAAAAAAAAAAAAAAAAAAAAAAAAAAAAAAAAAAAAAAAAAAAAAAAAAAAAAAAAAAAAAAAAAAAAAAAAAAAAAAAAAAAAAAAAAAAAAAAAAAAAAAAAAAAAAAAAAAAAAAAAAAAAAAAAAAAAAAAAAAAAAAAAAAAAAAAAAAAAAAAAAAAAAAAAAAAAAAAAAAAAAAAAAAAAAAAAAAAAAAAAAAAAAAAAAAAAAAAAAAOz1EbsAAAAA5bQRIS0wjbwzliw9AAAAAAAAAAAAAAAATuBuoVTahSBPpw49wOmXPTrIub0AAAAAAAAAALID5B4m2cy7ALTNOwAAAAAAAAAAAAAAAOs8tx5Ffbyf9BG4u3FroTy0MyK8DyixwHWbqMAvMzUotZyUwMnV8KZG1G0mPlSOwDX/NSdx/benkph/KL5BIj4msYwn7/N7LWi+Sb7yN4e7d/MkJaazPr/9Z6Wkd1yCIZlykb314YwhN6Fmo6dGi6TJkL2/YJ9TJqb2Fyrs9RG7AAAAAIl6pCAtMI28M5YsvQAAAAAAAAAAAAAAAORTR6KYSgSiT6cOPcDpl706yLm9AAAAAAAAAAD3qw+eJtnMuwC0zbsAAAAAAAAAAAAAAAAmDC8gl9csHvQRuLtxa6G8tDMivAAAAAAAAAAAAAAAAAAAAAAAAAAAAAAAAAAAAAAAAAAAAAAAAAAAAAAAAAAAAAAAAAAAAAAAAAAAAAAAAAAAAAAAAAAAAAAAAAAAAAAAAAAAAAAAAAAAAAAAAAAAAAAAAAAAAAAAAAAAAAAAAAAAAAAAAAAAAAAAAAAAAAAAAAAAAAAAAAAAAAAAAAAAAAAAAAAAAAAAAAAAAAAAAAAAAAAAAAAAAAAAAAAAAAAAAAAAAAAAAAAAAAAAAAAAAAAAAAAAAAAAAAAAAAAAAAAAAAAAAAAAAAAAAAAAAAAAAAAAAAAAAAAAAAAAAAAAAAAAAAAAAAAAAAAAAAAAAAAAAAAAAAAAAAAAAAAAAAAAAAAAAAAAAAAAAAAAAAAAAAAAAAAAAAAAAAAAAAAAAAAAAAAAAAAAAAAAAOz1EbsAAAAAM5YsvS0wjbzmM1uhAAAAAAAAAAAAAAAAYEMCocDpl71Ppw49i58HojrIuT0AAAAAAAAAAAC0zbsm2cy7w8swnwAAAAAAAAAAAAAAALaxFSBxa6G89BG4u0gB9B60MyI8AAAAAAAAAAAAAAAAAAAAAAAAAAAAAAAAAAAAAAAAAAAAAAAAAAAAAAAAAAAAAAAAAAAAAAAAAAAAAAAAAAAAAAAAAAAAAAAAAAAAAAAAAAAAAAAAAAAAAAAAAAAAAAAAAAAAAAAAAAAAAAAAAAAAAAAAAAAAAAAAAAAAAAAAAAAAAAAAAAAAAAAAAAAAAAAAAAAAAAAAAAAAAAAAAAAAAAAAAAAAAAAAAAAAAAAAAAAAAAAAAAAAAAAAAAAAAAAAAAAAAAAAAAAAAAAAAAAAAAAAAAAAAAAAAAAAAAAAAAAAAAAAAAAAAAAAAAAAAAAAAAAAAAAAAAAAAAAAAAAAAAAAAAAAAAAAAAAAAAAAAAAAAAAAAAAAAAAAAAAAAAAAAAAAAAAAAAAAAAAAAAAAAAAAAAAAAAAAAAAAAAAAAAAAAAAAAAAAAAAAAAAAAAAAAAAAAAAAAAAAAAAAAAAAAAAAAAAAAAAAAAAAAAAAAAAAAAAAAAAAAAAAAAAAAAAAAAAAAAAAAAAAAAAAAAAAAAAAAAAAAAAAAAAAAAAAAAAAAAAAAAAAAAAAAAAAAAAAAAAAAAAAAAAAAAAAAAAAAAAAAAAAAAAAAAAAAAAAAAAAAAAAAAAAAAAAAAAAAAAAAAAAAAAAAAAAAAAAAAAAAAAAAAAAAAAAAAAAAAAAAAAAAAAAAAAAAAAAAAAAAAAAAAAAAAAAAAAAAAAAAAAAAAAAAAAAAAAAAAAAAAAAAAAAAAAAAAAAAAAAAAAAAAAAAAAAAAAAAAAAAAAAAAAAAAAAAAAAAAAAAAAAAAAAAAAAAAAAAAAAAAAAAAAAAAAAAAAAAAAAAAAAAAAAAAAAAAAAAAAAAAAAAAAAAAAAAAAAAAAAAAAAAAAAAAAAAAAAAAAAAAAAAAAAAAAAAAAAAAAAAAAAAAAAAAAAAAAAAAAAAAAAAAAAAAAAAAAAAAAAAAAAAAAAAAAAAAAAAAAAAAAAAAAAAAAAAAAAAAAAAAAAAAAAAAAAAAAAAAAAAAAAAAAAAAAAAAAAAAAAAAAAAAAAAAAAAAAAAAAAAAAAAAAAAAAAAAAAAAAAAAAAAAAAAAAAAAAAAAAAAAAAAAAAAAAAAAAAAAAAAAAAAAAAAAAAAAAAAAAAAAAAAAAAAAAAAAAAAAAAAAAAAAAAAAAAAAAAAAAAAAAAAAAAAAAAAAAAAAAAAAAAAAAAAAAAAAAAAAAAAAAAAAAAAAAAAAAAAAAAAAAAAAAAAAAAAAAAAAAAAAAAAAAAAAAAAAAAAAAAAAAAAAAAAAAAAAAAAAAAAAAAAAAAAAAAAAAAAAAAAAAAAAAAAAAAAAAAAAAAAAAAAAAAAAAAAAAAAAAAAAAAAAAAAAAAAAAAAAAAAAAAAAAAAAAAAAAAAAAAAAAAAAAAAAAAAAAAAAAAAAAAAAAAAAAAAAAAAAAAAAAAAAAAAAAAAAAAAAAAAAAAAAAAAAAAAAAAAAAAAAAAAAAAAAAAAAAAAAAAAAAAAAAAAAAAAAAAAAAAAAAAAAAAAAAAAAAAAAAAAAAAAAAAAAAAAAAAAAAAAAAAAAAAAAAAAAAAAAAAAAAAAAAAAAAAAAAAAAAAAAAAAAAAAAAAAAAAAAAAAAAAAAAAAAAAAAAAAAAAAAAAAAAAAAAAAAAAAAAAAAAAAAAAAAAAAAAAAAAAAAAAAAAAAAAAAAAAAAAAAAAAAAAAAAAAAAAAAAAAAAAAAAAAAAAAAAAAAAAAAAAAAAAAAAAAAAAAAAAAAAAAAAAAAAAAAAAAAAAAAAAAAAAAAAAAAAAAAAAAAAAAAAAAAAAAAAAAAAAAAAAAAAAAAAAAAAAAAAAAAAAAAAAAAAAAAAAAAAAAAAAAAAAAAAAAAAAAAAAAAABkXsk7837pMmReyTsAAAAAAAAAAAAAAAB3SZ68rKKzs0bHNjysorOzOESqp/Ouh7cAAAAADNMqPJ+eyTvgl5efAAAAAAAAAAAAAAAABJCrINe41rxE9H47Hq26HwDxtTw+aQu+huyau6rD+z42Tlc7jck2pfA/mz0YAJK2IDmYIN/lBiYklmW8X+HoPgISh6OYsEs/AAAAAAAAAAAAAAAAAAAAAAAAAAAAAAAAAAAAAAAAAAAAAAAAAAAAAAAAAAAAAAAAAAAAAAAAAAAAAAAAZF7JO/N+6TJkXsm7AAAAAAAAAAAAAAAAd0mePKyis7NGxzY8rKKzM9kCqqcAAAAAAAAAAAAAAAAAAAAAAAAAAAAAAAAAAAAAAAAAAAAAAAAAAAAAAAAAAAAAAAAAAAAAAAAAAAAAAAAAAAAAAAAAAAAAAAAAAAAAAAAAAAAAAAAAAAAAAAAAAAAAAAAAAAAAAAAAAAAAAAAAAAAAAAAAAAAAAAAAAAAAAAAAAAAAAAAAAAAAAAAAAAAAAAAAAAAAAAAAAAAAAAAAAAAAAAAAAAAAAAAAAAAAAAAAAAAAAAAAAAAAAAAAAAAAAAAAAAAAAAAAAAAAAAAAAAAA866HtwAAAAAQIBcfn57JOwzTKjwAAAAAAAAAAAAAAAD5bvkfRQtzH0T0fjvXuNa8APG1vD5pC76G7Jq7EwjjozZOVzuqw/s+vAuLoRgAkrbwP5s9jeDjpLkiIKRf4eg+JJZlvJiwS7/zroe3AAAAAPVexZ6fnsk7DNMqvAAAAAAAAAAAAAAAAB1ZQh+wEyIfRPR+O9e41jwA8bW8PmkLvobsmrsJSOQkNk5XO6rD+75IDiyiGACStvA/m70muVMmW7+yol/h6D4klmU8mLBLvwAAAAAAAAAAAAAAAAAAAAAAAAAAAAAAAAAAAAAAAAAAAAAAAAAAAAAAAAAAAAAAAAAAAAAAAAAAAAAAAAAAAAAAAAAAAAAAAAAAAAAAAAAAAAAAAAAAAAAAAAAAAAAAAAAAAAAAAAAAAAAAAAAAAAAAAAAAAAAAAAAAAAAAAAAAAAAAAAAAAAAAAAAAAAAAAAAAAAAAAAAAAAAAAAAAAAAAAAAAAAAAAAAAAAAAAAAAAAAAAAAAAAAAAAAAAAAAAAAAAAAAAAAAAAAAAAAAAAAAAAAAAAAAAAAAAAAAAAAAAAAAAAAAAAAAAAAAAAAAAAAAAAAAAAAAAAAAAAAAAAAAAAAAAAAAAAAAAABkXsm7837pMmReyTsAAAAAAAAAAAAAAAB3SZ48rKKzM0bHNjysorOzcQCqp/Ouh7cAAAAADNMqvJ+eyTuugOqeAAAAAAAAAAAAAAAAA5sQn9e41jxE9H47qTEIIADxtTw+aQu+huyau6rD+742Tlc7xqcMJfA/m70YAJK2tbUeIHS+BaYklmU8X+HoPoAkaSSYsEs/AAAAAAAAAAAAAAAAAAAAAAAAAAAAAAAAAAAAAAAAAAAAAAAAAAAAAAAAAAAAAAAAAAAAAAAAAAAAAAAAZF7Ju/N+6TJkXsm7AAAAAAAAAAAAAAAAd0mevKyiszNGxzY8rKKzMx5EqqcAAAAAAAAAAAAAAAAAAAAAAAAAAAAAAAAAAAAAAAAAAAAAAAAAAAAAAAAAAAAAAAAAAAAAAAAAAAAAAAAAAAAAAAAAAAAAAAAAAAAAAAAAAAAAAAAAAAAAAAAAAAAAAAAAAAAAAAAAAAAAAAAAAAAAAAAAAAAAAAAAAAAAAAAAAAAAAAAAAAAAAAAAAAAAAAAAAAAAAAAAAAAAAAAAAAAAAAAAAAAAAAAAAAAAAAAAAAAAAAAAAAAAAAAAAAAAAAAAAAAAAAAAAAAAAAAAAAAAAAAAAAAAAAAAAAAAAAAAAAAAAAAAAAAAAAAAAAAAAAAAAAAAAAAAAAAAAAAAAAAAAAAAAAAAAAAAAAAAAAAAAAAAAAAAAAAAAAAAAAAAAAAAAAAAAAAAAAAAAAAAAAAAAAAAAAAAAAAAAAAAAAAAAAAAAAAAAAAAAAAAAAAAAAAAAAAAAAAAAAAAAAAAAAAAAAAAAAAAAAAAAAAAAAAAAAAAAAAAAAAAAAAAAAAAAAAAAAAAAAAAAAAAAAAAAAAAAAAAAAAAAAAAAAAAAAAAAAAAAAAAAAAAAAAAAAAAAAAAAAAAAAAAAAAAAAAAAAAAAAAAAAAAAAAAAAAAAAAAAAAAAAAAAAAAAAAAAAAAAAAAAAAAAAAAAAAAAAAAAAAAAAAAAAAAAAAAAAAAAAAAAAAAAAAAAAAAAAAAAAAAAAAAAAAAAAAAAAAAAAAAAAAAAAAAAAAAAAAAAAAAAAAAAAAAAAAAAAAAAAAAAAAAAAAAAAAAAAAAAAAAAAAAAAAAAAAAAAAAAAAAAAAAAAAAAAAAAAAAAAAAAAAAAAAAAAAAAAAAAAAAAAAAAAAAAAAAAAAAAAAAAAAAAAAAAAAAAAAAAAAAAAAAAAAAAAAAAAAAAAAAAAAAAAAAAAAAAAAAAAAAAAAAAAAAAAAAAAAAAAAAAAAAAAAAAAAAAAAAAAAAAAAAAAAAAAAAAAAAAAAAAAAAAAAAAAAAAAAAAAAAAAAAAAAAAAAAAAAAAAAAAAAAAAAAAAAAAAAAAAAAAAAAAAAAAAAAAAAAAAAAAAAAAAAAAAAAAAAAAAAAAAAAAAAAAAAAAAAAAAAAAAAAAAAAAAAAAAAAAAAAAAAAAAAAAAAAAAAAAAAAAAAAAAAAAAAAAAAAAAAAAAAAAAAAAAAAAAAAAAAAAAAAAAAAAAAAAAAAAAAAAAAAAAAAAAAAAAAAAAAAAAAAAAAAAAAAAAAAAAAAAAAAAAAAAAAAAAAAAAAAAAAAAAAAAAAAAAAAAAAAAAAAAAAAAAAAAAAAAAAAAAAAAAAAAAAAAAAAAAAAAAAAAAAAAAAAAAAAAAAAAAAAAAAAAAAAAAAAAAAAAAAAAAAAAAAAAAAAAAAAAAAAAAAAAAAAAAAAAAAAAAAAAAAAAAAAAAAAAAAAAAAAAAAAAAAAAAAAAAAAAAAAAAAAAAAAAAAAAAAAAAAAAAAAAAAAAAAAAAAAAAAAAAAAAAAAAAAAAAAAAAAAAAAAAAAAAAAAAAAAAAAAAAAAAAAAAAAAAAAAAAAAAAAAAAAAAAAAAAAAAAAAAAAAAAAAAAAAAAAAAAAAAAAAAAAAAAAAAAAAAAAAAAAAAAAAAAAAAAAAAAAAAAAAAAAAAAAAAAAAAAAAAAAAAAAAAAAAAAAAAAAAAAAAAAAAAAAAAAAAAAAAAAAAAAAAAAAAAAAAAAAAAAAAAAAAAAAAAAAAAAAAAAAAAAAAAAAAAAAAAAAAAAAAAAAAAAAAAAAAAAAAAAAAAAAAAAAAAAAAAAAAAAAAAAAAAAAAAAAAAAAAAAAAAAAAAAAAAAAAAAAAAAAAAAAAAAAAAAAAAAAAAAAAAAAAAAAAAAAAAAAAAAAAAAAAAAAAAAAAAFhDyzsyAss76/NlngAAAAAAAAAAAAAAAFK/iJ/mvJ+8iKy3u+r2vx/07x88AAAAAAAAAAAAAAAAAAAAAAAAAAAAAAAAAAAAAAAAAAAAAAAAAAAAAAAAAAAAAAAAAAAAAAAAAAAAAAAAAAAAAAAAAAAAAAAAAAAAAAAAAAAAAAAAAAAAAAAAAAAAAAAAAAAAAAAAAAAAAAAAAAAAAAAAAAAAAAAAAAAAAAAAAAAAAAAAAAAAAAAAAAAAAAAAAAAAAAAAAAAAAAAAAAAAAAAAAAAAAAAAAAAAAAAAAAAAAAAAAAAAAAAAAAAAAAAAAAAAAAAAAAAAAAAAAAAAAAAAAAAAAAAAAAAAAAAAAAAAAAAAAAAAAAAAAAAAAAAAAAAAAAAAAAAAAAAAAAAAAAAAAAAAAAAAAAAAAAAAAAAAAAAAAAAAAAAAAAAAAAAAAAAAAAAAAAAAAAAAAAAAAAAAAAAAAAAAAAAAAAAAAAAAAAAAAAAAAAAAAAAAAAAAAAAAAAAAAAAAAAAAAAAAAAAAAAAAAAAAAAAAAAAAAAAAAAAA4bFXnzICyztYQ8s7AAAAAAAAAAAAAAAAxv6LnsG4Kh+IrLe75ryfvPTvH7wAAAAAAAAAAAAAAAAAAAAAAAAAAAAAAAAAAAAAAAAAAAAAAAAAAAAAAAAAAAAAAAAAAAAA5NglvvI3h7tZVMwkHC0PPyAaDKR82PqhKru2PRmy9x7UJjWkIip8JdWvhr8VAQ4lJBw0KAAAAAAAAAAAAAAAAAAAAAAAAAAAAAAAAAAAAAAAAAAAAAAAAAAAAAAAAAAAAAAAAAAAAAAAAAAAAAAAANGxEp8yAss7WEPLuwAAAAAAAAAAAAAAAPa88p8XeOeeiKy3u+a8nzz07x+8AAAAAAAAAAAAAAAAAAAAAAAAAAAAAAAAAAAAAAAAAAAAAAAAAAAAAAAAAAAAAAAAAAAAAAAAAAAAAAAAAAAAAAAAAAAAAAAAAAAAAAAAAAAAAAAAAAAAAAAAAAAAAAAAAAAAAAAAAAAAAAAAAAAAAAAAAAAAAAAAAAAAAAAAAAAAAAAAAAAAAAAAAAAAAAAAAAAAAAAAAAAAAAAAAAAAAAAAAAAAAAAAAAAAAAAAAAAAAAAAAAAAAAAAAAAAAAAAAAAAAAAAAAAAAAAAAAAAAAAAAAAAAAAAAAAAAAAAAAAAAAAAAAAAAAAAAAAAAAAAAAAAAAAAAAAAAAAAAAAAAAAAAAAAAAAAAAAAAAAAAAAAAAAAAAAAAAAAAAAAAAAAAAAAAAAAAAAAAAAAAAAAAAAAAAAAAAAAAAAAAAAAAAAAAAAAAAAAAAAAAAAAAAAAAAAAAAAAAAAAAAAAAAAAAAAAAAAAAAAAAAAAAAAAAAAAAAAAWEPLuzICyzut2fIeAAAAAAAAAAAAAAAAt5w8n+a8nzyIrLe77p2sn/TvHzwAAAAAAAAAAAAAAAAAAAAAAAAAAAAAAAAAAAAAAAAAAAAAAAAAAAAAAAAAAAAAAAAAAAAAAAAAAAAAAAAAAAAAAAAAAAAAAAAAAAAAAAAAAAAAAAAAAAAAAAAAAAAAAAAAAAAAAAAAAAAAAAAAAAAAAAAAAAAAAAAAAAAAAAAAAAAAAAAAAAAAAAAAAAAAAAAAAAAAAAAAAAAAAAAAAAAAAAAAAAAAAAAAAAAAAAAAAAAAAAAAAAAAAAAAAAAAAAAAAAAAAAAAAAAAAAAAAAAAAAAAAAAAAAAAAAAAAAAAAAAAAAAAAAAAAAAAAAAAAAAAAAAAAAAAAAAAAAAAAAAAAAAAAAAAAAAAAAAAAAAAAAAAAAAAAAAAAAAAAAAAAAAAAAAAAAAAAAAAAAAAAAAAAAAAAAAAAAAAAAAAAAAAAAAAAAAAAAAAAAAAAAAAAAAAAAAAAAAAAAAAAAAAAAAAAAAAAAAAAAAAAAAAAAAAAAAAAAAAAAAAAAAAAAAAAAAAAAAAAAAAAAAAAAAAAAAAAAAAAAAAAAAAAAAAAAAAAAAAAAAAAAAAAAAAAAAAAAAAAAAAAAAAAAAAAAAAAAAAAAAAAAAAAAAAAAAAAAAAAAAAAAAAAAAAAAAAAAAAAAAAAAAAAAAAAAAAAAAAAAAAAAAAAAAAAAAAAAAAAAAAAAAAAAAAAAAAAAAAAAAAAAAAAAAAAAAAAAAAAAAAAAAAAAAAAAAAAAAAAAAAAAAAAAAAAAAAAAAAAAAAAAAAAAAAAAAAAAAAAAAAAAAAAAAAAAAAAAAAAAAAAAAAAAAAAAAAAAAAAAAAAAAAAAAAAAAAAAAAAAAAAAAAAAAAAAAAAAAAAAAAAAAAAAAAAAAAAAAAAAAAAAAAAAAAAAAAAAAAAAAAAAAAAAAAAAAAAAAAAAAAAAAAAAAAAAAAAAAAAAAAAAAAAAAAAAAAAAAAAAAAAAAAAAAAAAAAAAAAAAAAAAAAAAAAAAAAAAAAAAAAAAAAAAAAAAAAAAAAAAAAAAAAAAAAAAAAAAAAAAAAAAAAAAAAAAAAAAAAAAAAAAAAAAAAAAAAAAAAAAAAAAAAAAAAAAAAAAAAAAAAAAAAAAAAAAAAAAAAAAAAAAAAAAAAAAAAAAAAAAAAAAAAAAAAAAAAAAAAAAAAAAAAAAAAAAAAAAAAAAAAAAAAAAAAAAAAAAAAAAAAAAAAAAAAAAAAAAAAAAAAAAAAAAAAAAAAAAAAAAAAAAAAAAAAAAAAAAAAAAAAAAAAAAAAAAAAAAAAAAAAAAAAAAAAAAAAAAAAAAAAAAAAAAAAAAAAAAAAAAAAAAAAAAAAAAAAAAAAAAAAAAAAAAAAAAAAAAAAAAAAAAAAAAAAAAAAAAAAAAAAAAAAAAAAAAAAAAAAAAAAAAAAAAAAAAAAAAAAAAAAAAAAAAAAAAAAAAAAAAAAAAAAAAAAAAAAAAAAAAAAAAAAAAAAAAAAAAAAAAAAAAAAAAAAAAAAAAAAAAAAAAAAAAAAAAAAAAAAAAAAAAAAAAAAAAAAAAAAAAAAAAAAAAAAAAAAAAAAAAAAAAAAAAAAAAAAAAAAAAAAAAAAAAAAAAAAAAAAAAAAAAAAAAAAAAAAAAAAAAAAAAAAAAAAAAAAAAAAAAAAAAAAAAAAAAAAAAAAAAAAAAAAAAAAAAAAAAAAAAAAAAAAAAAAAAAAAAAAAAAAAAAAAAAAAAAAAAAAAAAAAAAAAAAAAAAAAAAAAAAAAAAAAAAAAAAAAAAAAAAAAAAAAAAAAAAAAAAAAAAAAAAAAAAAAAAAAAAAAAAAAAAAAAAAAAAAAAAAAAAAAAAAAAAAAAAAAAAAAAAAAAAAAAAAAAAAAAAAAAAAAAAAAAAAAAAAAAAAAAAAAAAAAAAAAAAAAAAAAAAAAAAAAAAAAAAAAAAAAAAAAAAAAAAAAAAAAAAAAAAAAAAAAAAAAAAAAAAAAAAAAAAAAAAAAAAAAAAAAAAAAAAAAAAAAAAAAAAAAAAAAAAAAAAAAAAAAAAAAAAAAAAAAAAAAAAAAAAAAAAAAAAAAAAAAAAAAAAAAAAAAAAAAAAAAAAAAAAAAAAAAAAAAAAAAAAAAAAAAAAAAAAAAAAAAAAAAAAAAAAAAAAAAAAAAAAAAAAAAAAAAAAAAAAAAAAAAAAAAAAAAAAAAAAAAAAAAAAAAAAAAAAAAAAAAAAAAAAAAAAAAAAAAAAAAAAAAAAAAAAAAAAAAAAAAAAAAAAAAAAAAAAAAAAAAAAAAAAAAAAAAAAAAAAAAAAAAAAAAAAAAAAAAAAAAAAAAAAAAAAAAAAAAAAAAAAAAAAAAAAAAAAAAAAAAAAAAAAAAAAAAAAAAAAAAAAAAAAAAAAAAAAAAAAAAAAAAAAAAAAAAAAAAAAAAAAAAAAAAAAAAAAAAAAAAAAAAAAAAAAAAAAAAAAAAAAAAAAAAAAAAAAAAAAAAAAAAAAAAAAAAAAAAAAAAAAAAAAAAAAAAAAAAAAAAAAAAAAAAAAAAAAAAAAAAAAAAAAAAAAAAAAAAAAAAAAAAAAAAAAAAAAAAAAAAAAAAAAAAAAAAAAAAAAAAAAAAAAAAAAAAAAAAAAAAAAAAAAAAAAAAAAAAAAAAAAAAAAAAAAAAAAAAAAAAAAAAAAAAAAAAAAAAAAAAAAAAAAAAAAAAAAAAAAAAAAAAAAAAAAAAAAAAAAAAAAAAAAAAAAAAAAAAAAAAAAAAAAAAAAAAAAAAAAAAAAAAAAAAAAAAAAAAAAAAAAAAAAAAAAAAAAAAAAAAAAAAAAAAAAAAAAAAAAAAAAAAAAAAAAAAAAAAAAAAAAAAAAAAAAAAAAAAAAAAAAAAAAAAAAAAAAAAAAAAAAAAAAAAAAAAAAAAAAAAAAAAAAAAAAAAAAAAAAAAAAAAAAAAAAAAAAAAAAAAAAAAAAAAAAAAAAAAAAAAAAAAAAAAAAAAAAAAAAAAAAAAAAAAAAAAAAAAAAAAAAAAAAAAAAAAAAAAAAAAAAAAAAAAAAAAAAAAAAAAAAAAAAAAAAAAAAAAAAAAAAAAAAAAAAAAAAAAAAAAAAAAAAAAAAAAAAAAAAAAAAAAAAAAAAAAAAAAAAAAAAAAAAAAAAAAAAAAAAAAAAAAAAAAAAAAAAAAAAAAAAAAAAAAAAAAAAAAAAAAAAAAAAAAAAAAAAAAAAAAAAAAAAAAAAAAAAAAAAAAAAAAAAAAAAAAAAAAAAAAAAAAAAAAAAAAAAAAAAAAAAAAAAAAAAAAAAAAAAAAAAAAAAAAAAAAAAAAAAAAAAAAAAAAAAAAAAAAAAAAAAAAAAAAAAAAAAAAAAAAAAAAAAAAAAAAAAAAAAAAAAAAAAAAAAAAAAAAAAAAAAAAAAAAAAAAAAAAAAAAAAAAAAAAAAAAAAAAAAAAAAAAAAAAAAAAAAAAAAAAAAAAAAAAAAAAAAAAAAAAAAAAAAAAAAAAAAAAAAAAAAAAAAAAAAAAAAAAAAAAAAAAAAAAAAAAAAAAAAAAAAAAAAAAAAAAAAAAAAAAAAAAAAAAAAAAAAAAAAAAAAAAAAAAAAAAAAAAAAAAAAAAAAAAAAAAAAAAAAAAAAAAAAAAAAAAAAAAAAAAAAAAAAAAAAAAAAAAAAAAAAAAAAAAAAAAAAAAAAAAAAAAAAAAAAAAAAAAAAAAAAAAAAAAAAAAAAAAAAAAAAAAAAAAAAAAAAAAAAAAAAAAAAAAAAAAAAAAAAAAAAAAAAAAAAAAAAAAAAAAAAAAAAAAAAAAAAAAAAAAAAAAAAAAAAAAAAAAAAAAAAAAAAAAAAAAAAAAAAAAAAAAAAAAAAAAAAAAAAAAAAAAAAAAAAAAAAAAAAAAAAAAAAAAAAAAAAAAAAAAAAAAAAAAAAAAAAAAAAAAAAAAAAAAAAAAAAAAAAAAAAAAAAAAAAAAAAAAAAAAAAAAAAAAAAAAAAAAAAAAAAAAAAAAAAAAAAAAAAAAAAAAAAAAAAAAAAAAAAAAAAAAAAAAAAAAAAAAAAAAAAAAAAAAAAAAAAAAAAAAAAAAAAAAAAAAAAAAAAAAAAAAAAAAAAAAAAAAAAAAAAAAAAAAAAAAAAAAAAAAAAAAAAAAAAAAAAAAAAAAAAAAAAAAAAAAAAAAAAAAAAAAAAAAAAAAAAAAAAAAAAAAAAAAAAAAAAAAAAAAAAAAAAAAAAAAAAAAAAAAAAAAAAAAAAAAAAAAAAAAAAAAAAAAAAAAAAAAAAAAAAAAAAAAAAAAAAAAAAAAAAAAAAAAAAAAAAAAAAAAAAAAAAAAAAAAAAAAAAAAAAAAAAAAAAAAAAAAAAAAAAAAAAAAAAAAAAAAAAAAAAAAAAAAAAAAAAAAAAAAAAAAAAAAAAAAAAAAAAAAAAAAAAAAAAAAAAAAAAAAAAAAAAAAAAAAAAAAAAAAAAAAAAAAAAAAAAAAAAAAAAAAAAAAAAAAAAAAAAAAAAAAAAACd4IpubL0SZxSzS/KCoUJy2AzCYrDmG/ZgNwJkmAXCQu+B6p9JlavhimPCfs9Z2kgCpephHrSKhhv/8nOhL4Pys6YSdYf6inpRz+P2E4l6fORFgoGDwVKECuCT/YNYmnJqeEpxD9QygAAAAAAAAAAAAAAAAAAAAAAAAAAAAAAAAAAAAAAAAAAAAAAAAAAAAAAAAAAAAAAAAAAAAAAAAAAAAAAAAAAAAAAAAAAAAAAAAAAAAAAAAAAAAAAAAAAAAAAAAAAAAAAAAAAAAAAAAAAAAAAAAAAAAAAAAAAAAAAAAAAAAAAAAAAAAAAAAAAAAAAAAAAAAAAAAAAAAAAAAAAAAAAAAAAAAAAAAAAAAAAAAAAAAAAAAAAAAAAAAAAAAAAAAAAAAAAAAAAAAAAAAAAAAAAAAAAAAAAAAAAAAAAAAAAAAAAAAAAAAAAAAAAAAAAAAAAAAAAAAAAAAAAAAAAAAAAAAAAAAAAAAAAAAAAAAAAAAAAAAAAAAAAAAAAAAAAAAAAAAAAAAAAAAAAAAAAAAAAAAAAAAAAAAAAAAAAAAAAAAAAAAAAAAAAAAAAAAAAAAAAAAAAAAAAAAAAAAAAAAAAAAAAAAAAAAAAAAAAAAAAAAAAAAAAAAAAAAAAAAAAAAAAAAAAAAAAAAAAAAAAAAAAAAAAAAAAAAAAAAAAAAAAAAAAAAAAAAAAAAAAAAAAAAAAAAAAAAAAAAAAAAAAAAAAAAAAAAAAAAAAAAAAAAAAAAAAAAAAAAAAAAAAAAAAAAAAAAAAAAAAAAAAAAAAAAAAAAAAAAAAAAAAAAAAAAAAAAAAAAAAAAAAAAAAAAAAAAAAAAAAAAAAAAAAAAAAAAAAAAAAAAAAAAAAAAAAAAAAAAAAAAAAAAAAAAAAAAAAAAAAAAAAAAAAAAAAAAAAAAAAAAAAAAAAAAAAAAAAAAAAAAAAAAAAAAAAAAAAAAAAAAAAAAAAAAAAAAAAAAAAAAAAAAAAAAAAAAAAAAAAAAAAAAAAAAAAAAAAAAAAAAAAAAAAAAAAAAAAAAAAAAAAAAAAAAAAAAAAAAAAAAAAAAAAAAAAAAAAAAAAAAAAAAAAAAAAAAAAAAAAAAAAAAAAAAAAAAAAAAA5mkEOd+mQLmdgv6aAAAAAAAAAAAAAAAAlTfSG7Q/DDqE/bO5FxfDmnOfQDkAAAAAAAAAAAAAAAAAAAAAAAAAAAAAAAAAAAAAAAAAAAAAAAAAAAAAAAAAAAAAAAAAAAAAAAAAAAAAAAAAAAAAAAAAAAAAAAAAAAAAAAAAAAAAAAAAAAAAAAAAAAAAAAAAAAAAAAAAAAAAAAAAAAAAAAAAAAAAAAAAAAAAAAAAAAAAAAAAAAAAAAAAAAAAAAAAAAAAAAAAAAAAAAAAAAAAAAAAAAAAAAAAAAAAAAAAAAAAAAAAAAAAAAAAAAAAAAAAAAAAAAAAAAAAAAAAAAAAAAAAAAAAAAAAAAAAAAAAAAAAAAAAAAAAAAAAAAAAAAAAAAAAAAAAAAAAAAAAAAAAAAAAAAAAAAAAAAAAAAAAAAAAAAAAAAAAAAAAAAAAAAAAAAAAAAAAAAAAAAAAAAAAAAAAAAAAAAAAAAAAAAAAAAAAAAAAAAAAAAAAAAAAAAAAAAAAAAAAAAAAAAAAAAAAAAAAAAAAAAAAAAAAAAAAAAAAAAAJTYe2/vUQG4zsi5oAAAAAAAAAAAAAAADrkUo3F8uOt9veARqZ7hKbf25kGgAAAAAAAAAAAAAAAAAAAAAAAAAAAAAAAAAAAAAAAAAAAAAAAAAAAAAAAAAAAAAAAAAAAADxX9qgFEr1FqTFirtvyDsi6o0HIQZAgbjLYOceqgNqHHshAyV/Hoq8qqWXo4Hsh6Kiv1MhAAAAAAAAAAB4HLK1ifXQGwbzjRkAAAAAAAAAAAAAAAAiu4+fr1LStp+wzJoiWQmZSubvFwAAAAAAAAAACU2HtpEJIJq33j4aAAAAAAAAAAAAAAAA65FKtxfLjrcqPccbP6LuGvu+MBoAAAAAAAAAAAAAAAAAAAAAAAAAAAAAAAAAAAAAAAAAAAAAAAAAAAAAAAAAAAAAAAAAAAAAAAAAAAAAAAAAAAAAAAAAAAAAAAAAAAAAAAAAAAAAAAAAAAAAAAAAAAAAAAAAAAAAAAAAAAAAAAAAAAAAAAAAAAAAAAAAAAAAAAAAAAAAAAAAAAAAAAAAAAAAAAAAAAAAAAAAAAAAAAAAAAAAAAAAAAAAAAAAAAAAAAAAAAAAAAAAAAAAAAAAAAAAAAAAAAAAAAAAAAAAAAAAAAAAAAAAAAAAAAAAAAAAAAAAAAAAAAAAAAAAAAAAAAAAAAAAAAAAAAAAAAAAAAAAAAAAAAAAAAAAAAAAAAAAAAAAAAAAAAAAAAAAAAAAAAAAAAAAAAAAAAAAAAAAAAAAAAAAAAAAAAAAAAAAAAAAAAAAAAAAAAAAAAAAAAAAAAAAAAAAAAAAAAAAAAAAAAAAAAAAAAAAAAAAAAAAAAAAAAAAAAAAAADmaQQ536ZAOStWzJkAAAAAAAAAAAAAAABb7A4btD8MOoT9szn/quUbc59AuQAAAAAAAAAAAAAAAAAAAAAAAAAAAAAAAAAAAAAAAAAAAAAAAAAAAAAAAAAAAAAAAAAAAAAAAAAAAAAAAAAAAAAAAAAAAAAAAAAAAAAAAAAAAAAAAAAAAAAAAAAAAAAAAAAAAAAAAAAAAAAAAAAAAAAAAAAAAAAAAAAAAAAAAAAAAAAAAAAAAAAAAAAAAAAAAAAAAAAAAAAAAAAAAAAAAAAAAAAAAAAAAAAAAAAAAAAAAAAAAAAAAAAAAAAAAAAAAAAAAAAAAAAAAAAAAAAAAAAAAAAAAAAAAAAAAAAAAAAAAAAAAAAAAAAAAAAAAAAAAAAAAAAAAAAAAAAAAAAAAAAAAAAAAAAAAAAAAAAAAAAAAAAAAAAAAAAAAAAAAAAAAAAAAAAAAAAAAAAAAAAAAAAAAAAAAAAAAAAAAAAAAAAAAAAAAAAAAAAAAAAAAAAAAAAAAAAAAAAAAAAAAAAAAAAAAAAAAAAAAAAAAAAAAAAAAAAAAAAAAAAAAAAAAAAAAAAAAAAAAAAAAAAAAAAAAAAAAAAAAAAAAAAAAAAAAAAAAAAAAAAAAAAAAAAAAAAAAAAAAAAAAAAAAAAAAAAAAAAAAAAAAAAAAAAAAAAAAAAAAAAAAAAAAAAAAAAAAAAAAAAAAAAAAAAAAAAAAAAAAAAAAAAAAAAAAAAAAAAAAAAAAAAAAAAAAAAAAAAAAAAAAAAAAAAAAAAAAAAAAAAAAAAAAAAAAAAAAAAAAAAAAAAAAAAAAAAAAAAAAAAAAAAAAAAAAAAAAAAAAAAAAAAAAAAAAAAAAAAAAAAAAAAAAAAAAAAAAAAAAAAAAAAAAAAAAAAAAAAAAAAAAAAAAAAAAAAAAAAAAAAAAAAAAAAAAAAAAAAAAAAAAAAAAAAAAAAAAAAAAAAAAAAAAAAAAAAAAAAAAAAAAAAAAAAAAAAAAAAAAAAAAAAAAAAAAAAAAAAAAAAAAAAAAAAAAAAAAAAAAAAAAAAAAAAAAAAAAAAAAAAAAAAAAAAAAAAAAAAAAAAAAAAAAAAAAAAAAAAAAAAAAAAAAAAAAAAAAAAAAAAAAAAAAAAAAAAAAAAAAAAAAAAAAAAAAAAAAAAAAAAAAAAAAAAAAAAAAAAAAAAAAAAAAAAAAAAAAAAAAAAAAAAAAAAAAAAAAAAAAAAAAAAAAAAAAAAAAAAAAAAAAAAAAAAAAAAAAAAAAAAAAAAAAAAAAAAAAAAAAAAAAAAAAAAAAAAAAAAAAAAAAAAAAAAAAAAAAAAAAAAAAAAAAAAAAAAAAAAAAAAAAAAAAAAAAAAAAAAAAAAAAAAAAAAAAAAAAAAAAAAAAAAAAAAAAAAAAAAAAAAAAAAAAAAAAAAAAAAAAAAAAAAAAAAAAAAAAAAAAAAAAAAAAAAAAAAAAAAAAAAAAAAAAAAAAAAAAAAAAAAAAAAAAAAAAAAAAAAAAAAAAAAAAAAAAAAAAAAAAAAAAAAAAAAAAAAAAAAAAAAAAAAAAAAAAAAAAAAAAAAAAAAAAAAAAAAAAAAAAAAAAAAAAAAAAAAAAAAAAAAAAAAAAAAAAAAAAAAAAAAAAAAAAAAAAAAAAAAAAAAAAAAAAAAAAAAAAAAAAAAAAAAAAAAAAAAAAAAAAAAAAAAAAAAAAAAAAAAAAAAAAAAAAAAAAAAAAAAAAAAAAAAAAAAAAAAAAAAAAAAAAAAAAAAAAAAAAAAAAAAAAAAAAAAAAAAAAAAAAAAAAAAAAAAAAAAAAAAAAAAAAAAAAAAAAAAAAAAAAAAAAAAAAAAAAAAAAAAAAAAAAAAAAAAAAAAAAAAAAAAAAAAAAAAAAAAAAAAAAAAAAAAAAAAAAAAAAAAAAAAAAAAAAAAAAAAAAAAAAAAAAAAAAAAAABzXe7sAAAAAtMA/PH8Tt7t5xVs8ZyqXOHLq+7cEspk4wVYAvdk+VzwAaW08XWR4PDttoLtFX2C6AAAAAMToqzuJbcu7l4bLOyPaTjGg8E6xn/BOMeDFRryN6UY8CrioujT/azxHPxS7Q6mKvqIATb4QzX8+fLgzvr1pFKXhpWI+AG3wvRVjSKSeor8l4MriPRECCr5qc8Cl3aH8vMa5FL1YQ8u7qjtMPZZdkr2ZGdKju8itPEnexrwkOtkfeeqEJDF7tz1BZpK9Ib/tox/99Dwc13u7AAAAALTAPzx/E7e7ecVbvGcqlzhy6vu3BLKZuMFWAD3ZPlc8AGltPF1keLw7baC7RV9gugAAAADE6Ks7iW3Lu5eGy7sj2k4xoPBOsZ/wTrHgxUY8jelGPAq4qLo0/2u8Rz8UuwAAAAAAAAAAAAAAAAAAAAAAAAAAAAAAAAAAAAAAAAAAAAAAAAAAAAAAAAAAAAAAAAAAAAAAAAAAAAAAAAAAAAAAAAAAAAAAAAAAAAAAAAAAAAAAAAAAAAAAAAAAAAAAAAAAAAAAAAAAAAAAAAAAAAAAAAAAAAAAAAAAAAAAAAAAAAAAAAAAAAAAAAAAAAAAAAAAAAAAAAAAAAAAAAAAAAAAAAAAAAAAAAAAAAAAAAAAAAAAAAAAAAAAAAAAAAAAAAAAAAAAAAAAAAAAAAAAAACXyxAk8WRiosJIO70ElQelswOFJH3d27wJmwmjjXOvIYoqST3qgwK90gzZJKc0kyX4sN+jBn9GotGxEp+MDFG8a+eOoxhShyMEdhq7kSQgoJ86xSDO09I87VzVvLJm/qP//6gjDN9Ho1aKwqdE2uQmo5r3vzqbgSh0JoMmNiYfwMiSLyctE5umDQHSqQtk4z4fHvAobNGxp+ffjybG4KAlWVTMJKrdIr6CpxWmw1xbpB7x2r0Hw2ykzsunpP+YtCftIGa+CESrpsDY76T1MQOkgNCZomS9TqLCSDu9kWe0I2dr5CR93du8woIzI/wMd6CKKkm96oMCvWjGiaMjlfQk4UwUJJ1u+iHhsVefjAxRvKPcaCGtgQQjBHYauzKNQaGKKoGgztPSvO1c1bxbDJSj5JXIo3W+vKMAAAAAAAAAAAAAAAAAAAAAAAAAAAAAAAAAAAAAAAAAAAAAAAAAAAAAAAAAAAAAAAAAAAAAAAAAAAAAAAAAAAAAAAAAAAAAAAAAAAAAAAAAAAAAAAAAAAAAAAAAAAAAAAAAAAAAAAAAAAAAAAAAAAAAAAAAAAAAAAAAAAAAAAAAAAAAAAAAAAAAAAAAAAAAAAAAAAAAAAAAAAAAAAAAAAAAAAAAAAAAAAAAAAAAAAAAAAAAAAAAAAAAAAAAAAAAAAAAAAAAAAAAAAAAAAAAAAAAHNd7OwAAAAC0wD88fxO3O3nFW7xnKpc4cur7NwSymbjBVgC92T5XPABpbbxdZHi8O22gO0VfYDoAAAAAxOirO4ltyzuXhsu7I9pOMaDwTjGf8E6x4MVGvI3pRjwKuKg6NP9rvEc/FDtDqYo+ogBNPhDNfz58uDM+3SS6JOGlYj4AbfA9I1QjpUmAwiTgyuI9EQIKPnaQFSbdofw8xrkUPVhDyzuqO0w9ll2SPVbZuCG7yK08Sd7GPPGKayH4CaUjMXu3PUFmkj1R9cciH/30vBzXezsAAAAAtMA/PH8Ttzt5xVs8ZyqXOHLq+zcEspk4wVYAPdk+VzwAaW28XWR4PDttoDtFX2A6AAAAAMToqzuJbcs7l4bLOyPaTjGg8E4xn/BOMeDFRjyN6UY8CrioOjT/azxHPxQ7AAAAAAAAAAAAAAAAAAAAAAAAAAAAAAAAAAAAAAAAAAAAAAAAAAAAAAAAAAAAAAAAAAAAAAAAAAAAAAAAAAAAAAAAAAAAAAAAAAAAAAAAAAAAAAAAAAAAAAAAAAAAAAAAAAAAAAAAAAAAAAAAAAAAAAAAAAAAAAAAAAAAAAAAAAAAAAAAAAAAAAAAAAAAAAAAAAAAAAAAAAAAAAAAAAAAAAAAAAAAAAAAAAAAAAAAAAAAAAAAAAAAAAAAAAAAAAAAAAAAAAAAAAAAAAAAAAAAAAAAAAAAAAAAAAAAAAAAAAAAAAAAAAAAAAAAAAAAAAAAAAAAAAAAAAAAAAAAAAAAAAAAAAAAAAAAAAAAAAAAAAAAAAAAAAAAAAAAAAAAAAAAAAAAAAAAAAAAAAAAAAAAAAAAAAAAAAAAAAAAAAAAAAAAAAAAAAAAAAAAAAAAAAAAAAAAAAAAAAAAAAAAAAAAAAAAAAAAAAAAAAAAAAAAAAAAAAAAAAAAAAAAAAAAAAAAAAAAAAAAAAAAAAAAAAAAAAAAAAAAAAAAAAAAAAAAAAAAAAAAAAAAAAAAAAAAAAAAAAAAAAAAAAAAAAAAAAAAAAAAAAAAAAAAAAAAAAAAAAAAAAAAAAAAAAAAAAAAAAAAAAAAAAAAAAAAAAAAAAAAAAAAAAAAAAAAAAAAAAAAAAAAAAAAAAAAAAAAAAAAAAAAAAAAAAAAAAAAAAAAAAAAAAAAAAAAAAAAAAAAAAAAAAAAAAAAAAAAAAAAAAAAAAAAAAAAAAAAAAAAAAAAAAAAAAAAAAAAAAAAAAAAAAAAAAAAAAAAAAAAAAAAAAAAAAAAAAAAAAAAAAAAAAAAAAAAAAAAAAAAAAAAAAAAAAAAAAAAAAAAAAAAAAAAAAAAAAAAAAAAAAAAAAAAAAAAAAAAAAAAAAAAAAAAAAAAAAAAAAAAAAAAAAAAAAAAAAAAAAAAAAAAAAAAAAAAAAAAAAAAAAAAAAAAAAAAAAAAAAAAAAAAAAAAAAAAAAAAAAAAAAAAAAAAAAAAAAAAAAAAAAAAAAAAAAAAAAAAAAAAAAAAAAAAAAAAAAAAAAAAAAAAAAAAAAAAAAAAAAAAAAAAAAAAAAAAAAAAAAAAAAAAAAAAAAAAAAAAAAAAAAAAAAAAAAAAAAAAAAAAAAAAAAAAAAAAAAAAAADGtyQwAAAAACCKgLkZfZq1edcanAAAAAAAAAAAAAAAALMfkh0XlaU2EBSlufECSJoBgw+6AAAAAAAAAAAAAAAAAAAAAAAAAAAAAAAAAAAAAAAAAAAAAAAAAAAAAAAAAAAAAAAAAAAAAAAAAAAAAAAAAAAAAAAAAAAAAAAAAAAAAAAAAAAAAAAAAAAAAAAAAAAAAAAAAAAAAAAAAAAAAAAAAAAAAAAAAAAAAAAAAAAAAAAAAAAAAAAAAAAAAAAAAAAAAAAAAAAAAAAAAAAAAAAAAAAAAAAAAAAAAAAAAAAAAAAAAAAAAAAAAAAAAAAAAAAAAAAAAAAAAAAAAAAAAAAAAAAAAAAAAAAAAAAAAAAAAAAAAAAAAAAAAAAAAAAAAAAAAAAAAAAAAAAAAAAAAAAAAAAAAAAAAAAAAAAAAAAAAAAAAAAAAAAAAAAAAAAAAAAAAAAAAAAAAAAAAAAAAAAAAAAAAAAAAAAAAAAAo/+augAAAADt+9E7wOOLO3Rv6zsAAAAAAAAAAAAAAABQr5W8RjAyvEFU0DuTY0i8PQcWuxZ7A71kXsm7X0IlPR1ApziBlGc9wxmnPGceOzbkQbo8x4x9vQMV6rhHBiw90h6Oueu5Dr338wG+aH2YvYIKDD4fb/Q9LLvTI/6n0j03eI496rXOI+PVOyTSb8C9lwqfvbCIvSR4qKk8tVLyvqrD+753poE+f53IPM7vnSXJ/OA+RMeXPHMJdqR3noqlOsQZve08kr4gWbCll+O8vqP/mroAAAAA7fvRO8Djizt0b+u7AAAAAAAAAAAAAAAAUK+VPEYwMrxBVNA7k2NIPD0HFrsWewO9ZF7Ju19CJT0dQKc4gZRnvcMZpzxnHjs25EG6vMeMfT0DFeq4RwYsPdIejjnruQ69AAAAAAAAAAAAAAAAAAAAAAAAAAAAAAAAAAAAAAAAAAAAAAAAAAAAAAAAAAAAAAAAAAAAAAAAAAAAAAAAAAAAAAAAAAAAAAAAAAAAAAAAAAAAAAAAAAAAAAAAAAAAAAAAAAAAAAAAAAAAAAAAAAAAAAAAAAAAAAAAAAAAAAAAAAAAAAAAAAAAAAAAAAAAAAAAAAAAAAAAAAAAAAAAAAAAAAAAAABPTbK14zdkGQg1mRsAAAAAAAAAAAAAAAC2idI2KiEWMY6bWpugeM0YLaNVHJ9/6CJT6scg0h7UvOmdiiNjTBYk+nYyvKap3aI+3tqhoJQpPQHa7jygOqeiMRc/pPKhwyPYclAlCUjkJGo9mb22fcAkoMCWpnWXr72I6hSi2c0VpfpfTb2T2i87BQaHphaT1SWKfGOmYtKYoSN3zaDSHtS868htonPJziL6djK8VluaIZfgtyKglCm9AdruPATPNyK3YIQkFSSyoyyGtiMTCOOjaj2ZvZWz6B+DiiqmdZevvaU6XKSMrQoj+l9NPZPaLzuDZgKng/iqpd/vuqYAAAAAAAAAAAAAAAAAAAAAAAAAAAAAAAAAAAAAAAAAAAAAAAAAAAAAAAAAAAAAAAAAAAAAAAAAAAAAAABPTbK1vY7GGJ6/xhsAAAAAAAAAAAAAAAC2idK2KiEWMWT/WBwTOicYMT2FHAAAAAAAAAAAAAAAAAAAAAAAAAAAAAAAAAAAAAAAAAAAAAAAAAAAAAAAAAAAAAAAAAAAAAAAAAAAAAAAAAAAAAAAAAAAAAAAAAAAAAAAAAAAAAAAAAAAAAAAAAAAAAAAAAAAAAAAAAAAo/+aOgAAAADt+9E7wOOLu3Rv67sAAAAAAAAAAAAAAABQr5W8RjAyvEFU0LuTY0g8PQcWOxZ7Az1kXsk7X0IlPR1Ap7iBlGe9wxmnPGceO7bkQbq8x4x9vQMV6rhHBiy90h6OOeu5Dj338wE+aH2YPYIKDD4fb/S9s/T5of6n0j03eI69ysOlItHoWyHSb8C9lwqfPeLVo6R4qKm8tVLyPqrD+z53poE+f53IvGsoqybJ/OA+RMeXvOKvo6aIyEGlOsQZve08kj4AxCwll+O8PqP/mjoAAAAA7fvRO8Dji7t0b+s7AAAAAAAAAAAAAAAAUK+VPEYwMrxBVNC7k2NIvD0HFjsWewM9ZF7JO19CJT0dQKe4gZRnPcMZpzxnHju25EG6PMeMfT0DFeq4RwYsvdIejrnruQ49AAAAAAAAAAAAAAAAAAAAAAAAAAAAAAAAAAAAAAAAAAAAAAAAAAAAAAAAAAAAAAAAAAAAAAAAAAAAAAAAAAAAAAAAAAAAAAAAAAAAAAAAAAAAAAAAAAAAAAAAAAAAAAAAAAAAAAAAAAAAAAAAAAAAAAAAAAAAAAAAAAAAAAAAAAAAAAAAAAAAAAAAAAAAAAAAAAAAAAAAAAAAAAAAAAAAAAAAAAAAAAAAAAAAAAAAAAAAAAAAAAAAAAAAAAAAAAAAAAAAAAAAAAAAAAAAAAAAAAAAAAAAAAAAAAAAAAAAAAAAAAAAAAAAAAAAAAAAAAAAAAAAAAAAAAAAAAAAAAAAAAAAAAAAAAAAAAAAAAAAAAAAAAAAAAAAAAAAAAAAAAAAAAAAAAAAAAAAAAAAAAAAAAAAAAAAAAAAAAAAAAAAAAAAAAAAAAAAAAAAAAAAAAAAAAAAAAAAAAAAAAAAAAAAAAAAAAAAAAAAAAAAAMa3JLAAAAAAIIqAuRl9mjVkM6scAAAAAAAAAAAAAAAAyf2MHReVpTYQFKU5Z6p+mgGDDzoAAAAAAAAAAAAAAAAAAAAAAAAAAAAAAAAAAAAAAAAAAAAAAAAAAAAAAAAAAAAAAAAAAAAAAAAAAAAAAAAAAAAAAAAAAAAAAAAAAAAAAAAAAAAAAAAAAAAAAAAAAAAAAAAAAAAAAAAAAAAAAAAAAAAAAAAAAAAAAAAAAAAAAAAAAAAAAAAAAAAAAAAAAAAAAAAAAAAAAAAAAAAAAAAAAAAAAAAAAAAAAAAAAAAAAAAAAAAAAAAAAAAAAAAAAAAAAAAAAAAAAAAAAAAAAAAAAAAAAAAAAAAAAAAAAAAAAAAAAAAAAAAAAAAAAAAAAAAAAAAAAAAAAAAAAAAAAAAAAAAAAAAAAAAAAAAAAAAAAAAAAAAAAAAAAAAAAAAAAAAAAAAAAAAAAAAAAAAAAAAAAAAAAAAAAAAAAAAAAAAAAAAAAAAAAAAAAAAAAAAAAAAAAAAAAAAAAAAAAAAAAAAAAAAAAAAAAAAAAAAAAAAAAAAAAAAAAAAAAAAAAAAAAAAAAAAAAAAAAAAAAAAAAAAAAAAAAAAAAAAAAAAAAAAAAAAAAAAAAAAAAAAAAAAAAAAAAAAAAAAAAAAAAAAAAAAAAAAAAAAAAAAAAAAAAAAAAAAAAAAAAAAAAAAAAAAAAAAAAAAAAAAAAAAAAAAAAAAAAAAAAAAAAAAAAAAAAAAAAAAAAAAAAAAAAAAAAAAAAAAAAAAAAAAAAAAAAAAAAAAAAAAAAAAAAAAAAAAAAAAAAAAAAAAAAAAAAAAAAAAAAAAAAAAAAAAAAAAAAAAAAAAAAAAAAAAAAAAAAAAAAAAAAAAAAAAAAAAAAAAAAAAAAAAAAAAAAAAAAAAAAAAAAAAAAAAAAAAAAAAAAAAAAAAAAAAAAAAAAAAAAAAAAAAAAAAAAAAAAAAAAAAAAAAAAAAAAAAAAAAAAAAAAAAAAAAAAAAAAAAAAAAAAAAAAAAAAAAAAAAAAAAAAAAAAAAAAAAAAAAAAAAAAAAAAAAAAAAAAAAAAAAAAAAAAAAAAAAAAAAAAAAAAAAAAAAAAAAAAAAAAAAAAAAAAAAAAAAAAAAAAAAAAAAAAAAAAAAAAAAAAAAAAAAAAAAAAAAAAAAAAAAAAAAAAAAAAAAAAAAAAAAAAAAAAAAAAAAAAAAAAAAAAAAAAAAAAAAAAAAAAAAAAAAAAAAAAAAAAEhqYLoAAAAAxOirO6I3yzuXhss7MdlOMa7vTjGu704xeNtGvAvARrwXS6a6nc1rvJRNFLsAAAAAAAAAAAAAAAAAAAAAAAAAAAAAAAAAAAAAAAAAAAAAAAAAAAAAAAAAAAAAAAAAAAAAZxQRvQC0zbuqO0w9S0OKPS3adaJR564807zHPJZt/h/+ktyi5c2xvRxZer1/Gb0jp80BPQAAAAAAAAAAAAAAAAAAAAAAAAAAAAAAAAAAAAAAAAAAAAAAAAAAAAAAAAAAAAAAAAAAAABIamC6AAAAAMToqzuiN8s7l4bLuzHZTjGu704xru9OsXjbRjwLwEa8F0umup3NazyUTRS7AAAAAAAAAAAAAAAAAAAAAAAAAAAAAAAAAAAAAAAAAAAAAAAAAAAAAAAAAAAAAAAAAAAAAAAAAAAAAAAAAAAAAAAAAAAAAAAAAAAAAAAAAAAAAAAAAAAAAAAAAAAAAAAAAAAAAAAAAAAAAAAAAAAAAAAAAAAAAAAAAAAAAAAAAAAAAAAAAAAAAAAAAAAAAAAAAAAAAAAAAAAAAAAAAAAAAAAAAAAAAAAAAAAAAAAAAAAAAAAAAAAAAAAAAAAAAAAAAAAAAAAAAAAAAAAAAAAAAAAAAAAAAAAAAAAAAAAAAAAAAAAAAAAAAAAAAAAAAAAAAAAAAAAAAAAAAAAAAAAAAAAAAAC1AwSi96sPnowMUbxQjuoiE+lFI3TyGrtCGHehWWmyH6L61Dy9gNM8cQFooQkxYSIdtUshJ5omHAAAAAAq+ba56lTPIKlECR62T4AxAAAAAAAAAABQZoEjbIvbOqbxbSF7PjEg4hCUHodoCiV38yQlqt0ivoDzSaVRm24lXV4FvgmNNCS6d3Ek1KPDpyfTOD6cZu2mU5F7pZsZZqQAAAAAAAAAAAAAAAAAAAAAAAAAAAAAAAAAAAAAAAAAAAAAAAAAAAAAAAAAAAAAAAAAAAAAmVW0orID5B6MDFG8fLe2Iw6UuKN08hq74tqBoQH4KaGi+tS8vYDTPG3sOaPrH5Ykl2feowAAAAAAAAAAAAAAAAAAAAAAAAAAAAAAAAAAAAAAAAAAAAAAAAAAAAAAAAAAAAAAAAAAAAAAAAAAAAAAAAAAAAAAAAAAAAAAAAAAAAAAAAAAAAAAAAAAAAAAAAAAAAAAAAAAAAAAAAAAAAAAAAAAAAAAAAAAAAAAAAAAAAAAAAAAAAAAAAAAAAAAAAAAAAAAAAAAAAAAAAAAAAAAAAAAAAAAAAAAAAAAAAAAAAAAAAAAAAAAAAAAAAAAAAAAAAAAAAAAAAAAAAAAAAAAAAAAAAAAAAAAAAAAAAAAAAAAAAAAAAAAAAAAAAAAAAAAAAAAAAAAAAAAAAAAAAAAAAAAAAAAAAAASGpgOgAAAADE6Ks7ojfLu5eGy7sx2U4xru9Osa7vTrF420a8C8BGvBdLpjqdzWs8lE0UOwAAAAAAAAAAAAAAAAAAAAAAAAAAAAAAAAAAAAAAAAAAAAAAAAAAAAAAAAAAAAAAAAAAAABnFBE9ALTNO6o7TD1LQ4q9XSpsIlHnrjzTvMe852a4oAi/0iPlzbG9HFl6PUZriaSnzQG9AAAAAAAAAAAAAAAAAAAAAAAAAAAAAAAAAAAAAAAAAAAAAAAAAAAAAAAAAAAAAAAAAAAAAEhqYDoAAAAAxOirO6I3y7uXhss7MdlOMa7vTrGu704xeNtGPAvARrwXS6Y6nc1rvJRNFDsAAAAAAAAAAAAAAAAAAAAAAAAAAAAAAAAAAAAAAAAAAAAAAAAAAAAAAAAAAAAAAAAAAAAAAAAAAAAAAAAAAAAAAAAAAAAAAAAAAAAAAAAAAAAAAAAAAAAAAAAAAAAAAAAAAAAAAAAAAAAAAAAAAAAAAAAAAAAAAAAAAAAAAAAAAAAAAAAAAAAAAAAAAAAAAAAAAAAAAAAAAAAAAAAAAAAAAAAAAAAAAAAAAAAAAAAAAAAAAAAAAAAAAAAAAAAAAAAAAAAAAAAAAAAAAAAAAAAAAAAAAAAAAAAAAAAAAAAAAAAAAAAAAAAAAAAAAAAAAAAAAAAAAAAAAAAAAAAAAAAAAAAAAAAAAAAAAAAAAAAAAAAAAAAAAAAAAAAAAAAAAAAAAAAAAAAAAAAAAAAAAAAAAAAAAAAAAAAAAAAAAAAAAAAAAAAAAAAAAAAAAAAAAAAAAAAAAAAAAAAAAAAAAAAAAAAAAAAAAAAAAAAAAAAAAAAAAAAAAAAAAAAAAAAAAAAAAAAAAAAAAAAAAAAAAAAAAAAAAAAAAAAAAAAAAAAAAAAAAAAAAAAAAAAAAAAAAAAAAAAAAAAAAAAAAAAAAAAAAAAAAAAAAAAAAAAAAAAAAAAAAAAAAAAAAAAAAAAAAAAAAAAAAAAAAAAAAAAAAAAAAAAAAAAAAAAAAAAAAAAAAAAAAAAAAAAAAAAAAAAAAAAAAAAAAAAAAAAAAAAAAAAAAAAAAAAAAAAAAAAAAAAAAAAAAAAAAAAAAAAAAAAAAAAAAAAAAAAAAAAAAAAAAAAAAAAAAAAAAAAAAAAAAAAAAAAAAAAAAAAAAAAAAAAAAAAAAAAAAAAAAAAAAAAAAAAAAAAAAAAAAAAAAAAAAAAAAAAAAAAAAAAAAAAAAAAAAAAAAAAAAAAAAAAAAAAAAAAAAAAAAAAAAAAAAAAAAAAAAAAAAAAAAAAAAAAAAAAAAAAAAAAAAAAAAAAAAAAAAAAAAAAAAAAAAAAAAAAAAAAAAAAAAAAAAAAAAAAAAAAAAAAAAAAAAAAAAAAAAAAAAAAAAAAAAAAAAAAAAAAAAAAAAAAAAAAAAAAAAAAAAAAAAAAAAAAAAAAAAAAAAAAAAAAAAAAAAAAAAAAAAAAAAAAAAAAAAAAAAAAAAAAAAAAAAAAAAAAAAAAAAAAAAAAAAAAAAAAAAAAAAAAAAAAAAAAAAAAAAAAAAAAAAAAAAAAAAAAAAAAAAAAAAAAAAAAAAAAAAAAAAAAAAAAAAAAAAAAAAAAAAAAAAAAAAAAAAAAAAAAAAAAAAAAAAAAAAAAAAAAAAAAAAAAAAAAAAAAAAAAAAAAAAAAAAAAAAAAAAAAAAAAAAAAAAAAAAAAAAAAAAAAAAAAAAAAAAAAAAAAAAAAAAAAAAAAAAAAAAAAAAAAAAAAAAAAAAAAAAAAAAAAAAAAAAAAAAAAAAAAAAAAAAAAAAAAAAAAAAAAAAAAAAAAAAAAAAAAAAAAAAAAAAAAAAAAAAAAAAAAAAAAAAAAAAAAAAAAAAAAAAAAAAAAAAAAAAAAAAAAAAAAAAAAAAAAAAAAAAAAAAAAAAAAAAAAAAAAAAAAAAAAAAAAAAAAAAAAAAAAAAAAAAAAAAAAAAAAAAAAAAAAAAAAAAAAAAAAAAAAAAAAAAAAAAAAAAAAAAAAAAAAAAAAAAAAAAAAAAAAAAAAAAAAAAAAAAAAAAAAAAAAAAAAAAAAAAAAAAAAAAAAAAAAAAAAAAAAAAAAAAAAAAAAAAAAAAAAAAAAAAAAAAAAAAAAAAAAAAAAAAAAAAAAAAAAAAAAAAAAAAAAAAAAAAAAAAAAAAAAAAAAAAAAAAAAAAAAAAAAAAAAAAAAAAAAAAAAAAAAAAAAAAAAAAAAAAAAAAAAAAAAAAAAAAAAAAAAAAAAAAAAAAAAAAAAAAAAAAAAAAAAAAAAAAAAAAAAAAAAAAAAAAAAAAAAAAAAAAAAAAAAAAAAAAAAAAAAAAAAAAAAAAAAAAAAAAAAAAAAAAAAAAAAAAAAAAAAAAAAAAAAAAAAAAAAAAAAAAAAAAAAAAAAAAAAAAAAAAAAAAAAAAAAAAAAAAAAAAAAAAAAAAAAAAAAAAAAAAAAAAAAAAAAAAAAAAAAAAAAAAAAAAAAAAAAAAAAAAAAAAAAAAAAAAAAAAAAAAAAAAAAAAAAAAAAAAAAAAAAAAAAAAAAAAAAAAAAAAAAAAAAAAAAAAAAAAAAAAAAAAAAAAAAAAAAAAAAAAAAAAAAAAAAAAAAAAAAAAAAAAAAAAAAAAAAAAAAAAAAAAAAAAAAAAAAAAAAAAAAAAAAAAAAAAAAAAAAAAAAAAAAAAAAAAAAAAAAAAAAAAAAAAAAAAAAAAAAAAAAAAAAAAAAAAAAAAAAAAAAAAAAAAAAAAAAAAAAAAAAAAAAAAAAAAAAAAAAAAAAAAAAAAAAAAAAAAAAAAAAAAAAAAAAAAAAAAAAAAAAAAAAAAAAAAAAAAAAAAAAAAAAAAAAAAAAAAAAAAAAAAAAAAAAAAAAAAAAAAAAAAAAAAAAAAAAAAAAAAAAAAAAAAAAAAAAAAAAAAAAAAAAAAAAAAAAAAAB4HLK16DwvGy78tZgAAAAAAAAAAAAAAABaIHEfblXSNi7EURxcPJKZQxiamAAAAAAAAAAAAAAAAAAAAAAAAAAAAAAAAAAAAAAAAAAAAAAAAAAAAAAAAAAAAAAAAAAAAAAAAAAAAAAAAAAAAAAAAAAAAAAAAAAAAAAAAAAAAAAAAAAAAAAAAAAAAAAAAAAAAAAAAAAAAAAAAAAAAAAAAAAAAAAAAAAAAAAAAAAAAAAAAAAAAAAAAAAAAAAAAAAAAAAAAAAAAAAAAAAAAAAAAAAAAAAAAAAAAAAAAAAAAAAAAAAAAAAAAAAAAAAAAAAAAAAAAAAAAAAAAAAAAAAAAAAAAAAAAAAAAAAAAAAAAAAAAAAAAAAAAAAAAAAAAAAAAAAAAAAAAAAAAAAAAAAAAAAAAAAAAAAAAAAAAAAAAAAAAAAAAAAAAAAAAAAAAAAAAAAAAAAAAAAAAAAAAAAAAAAAAAAAAAAAAAAAAAAAAAAAAAAAAAAAAAAAAAAAAAAAAAAAAAAAAAAAAAAAAAAAAAAAAAAAAAAAAAAAAAAAAAAAAAAAAAAAAAAAAAAAAAAAAAAAAAAAAAAAAAAAAAAAAAAAAAAAAAAAAAAAAAAAAAAAAAAAAAAAAAAAAAAAAAAAAAAAAAAAAAAAAAAAAAAAAAAAAAAAAAAAAAAAAAAAAAAAAAAAAAAAAAAAAAAAAAAAAAAAAAAAAAAAAAAAAAAAAAAAAAAAAAAAAAAAAAAAAAAAAAAAAAAAAAAAAAAAAAAAAAAAAAAAAAAAAAAAAAAAAAAAAAAAAAAAAAAAAAAAAAAAAAAAAAAAAAAAAAAAAAAAAAAAAAAAAAAAAAAAAAAAAAAAAAAAAAAAAAAAAAAAAAAAAAAAAAAAAAAAAAAAAAAAAAAAAAAAAAAAAAAAAAAAAAAAAAAAAAAAAAAAAAAAAAAAAAAAAAAAAAAAAAAAAAAAAAAAAAAAAAAAAAAAAAAAAAAAAAAAAAAAAAAAAAAAAAAAAAAAAAAAAAAAAAAAAAAAAAAAAAAAAAAAAAAAAAAAAAAAAAAAAAAAAAAAAAAAAAAAAAAAAAAAAAAAAAAAAAAAAAAAAAAAAAAAAAAAAAAAAAAAAAAAAAAAAAAAAAAAAAAAAAAAAAAAAAAAAAAAAAAAAAAAAAAAAAAAAAAAAAAAAAAAAAAAAAAAAAAAAAAAAAAAAAAAAAAAAAAAAAAAAAAAAAAAAAAAAAAAAAAAAAAAAAAAAAAAAAAAAAAAAAAAAAAAAAAAAAAAAAAAAAAAAAAAAAAAAAAAAAAAAAAAAAAAAAAAAAAAAAAAAAAAAAAAAAAAAAAAAAAAAAAAAAAAAAAAAAAAAAAAAAAAAAAAAAAAAAAAAAAAAAAAAAAAAAAAAAAAAAAAAAAAAAAAAAAAAAAAAAAAAAAAAAAAAAAAAAAAAAAAAAAAAAAAAAAAAAAAAAAAAAAAAAAAAAAAAAAAAAAAAAAAAAAAAAAAAAAAAAAAAAAAAAAAAAAAAAAAAAAAAAAAAAAAAAAAAAAAAAAAAAAAAAAAAAAAAAAAAAAAAAAAAAAAAAAAAAAAAAAAAAAAAAAAAAAAAAAAAAAAAAAAAAAAAAAAAAAAAAAAAAAAAAAAAAAAAAAAAAAAAAAAAAAAAAAAAAAAAAAAAAAAAAAAAAAAAAAAAAAAAAAAAAAAAAAAAAAAAAAAAAAAAAAAAAAAAAAAAAAAAAAAAAAAAAAAAFRuhcBoWpHAjGTUJguN0T9PlzEon6HUJ4PvCkDEwRYoL7isJzrxvKf0o16+h5YXKmaqBC553t4/g2/IP0q6IydvEEHAh8Gcp7kKIyiEUA3A+byuqESMRKgdc5ootaAhQLYQoCdvHoCtAAAAAAAAAAAAAAAAAAAAAAAAAAAAAAAAAAAAAAAAAAAAAAAAAAAAAAAAAAAAAAAAAAAAAAAAAAAAAAAAAAAAAAAAAAAAAAAAAAAAAAAAAAAAAAAAAAAAAAAAAAAAAAAAAAAAAAAAAAAAAAAAAAAAAAAAAAAAAAAAAAAAAAAAAAAAAAAAAAAAAAAAAAAAAAAAAAAAAAAAAAAAAAAAAAAAAAAAAAAAAAAAAAAAAAAAAAAAAAAAAAAAAAAAAAAAAAAAAAAAAAAAAAAAAAAAAAAAAAAAAAAAAAAAAAAAAAAAAAAAAAAAAAAAAAAAAAAAAAAAAAAAAAAAAAAAAAAAAAAAAAAAAAAAAAAAAAAAAAAAAAAAAAAAAAAAAAAAAAAAAAAAAAAAAAAAAAAAAAAAAAAAAAAAAAAAAAAAAAAAAAAAAAAAAAAAAAAAAAAAAAAAAAAAAAAAAAAAAAAAAAAAAAAAAAAAAAAAAAAAAAAAAAAAAAAAAAAAAAAAAAAAAAAAAAAAAAAAAAAAAAAAAAAAAAAAAAAAAAAAAAAAAAAAAAAAAAAAAAAAAAAAAAAAAAAAAAAAAAAAAAAAAAAAAAAAAAAAAAAAAAAAAAAAAAAAAAAAAAAAAAAAAAAAAAAAAAAAAAAAAAAAAAAAAAAAAAAAAAAAAAAAAAAAAAAAAAAAAAAAAAAAAAAAAAAAAAAAAAAAAAAAAAAAAAAAAAAAAAAAAAAAAAAAAAAAAAAAAAAAAAAAAAAAAAAAAAAAAAAAAAAAAAAAAAAAAAAAAAAAAAAAAAAAAAAAAAAAAAAAAAAAAAAAAAAAAAAAAAAAAAAAAAAAAAAAAAAAAAAAAAAAAAAAAAAAAAAAAAAAAAAAAAAAAAAAAAAAAAAAAAAAAAAAAAAAAAAAAAAAAAAAAAAAAAAAAAAAAAAAAAAAAAAAAAAAAAAAAAAAAAAAAAAAAAAAAAAAAAAAAAAAAAAAAAAAAAAAAAAAABueQLn+qoU5f8ewGgAAAAAAAAAAAAAAAPMn4JpK00i6ZUDuOaHyhBw3sZC5AAAAAAAAAAAAAAAAAAAAAAAAAAAAAAAAAAAAAAAAAAAAAAAAAAAAAAAAAAAAAAAAAAAAAAAAAAAAAAAAAAAAAAAAAAAAAAAAAAAAAAAAAAAAAAAAAAAAAAAAAAAAAAAAAAAAAAAAAAAAAAAAAAAAAAAAAAAAAAAAAAAAAAAAAAAAAAAAAAAAAAAAAAAAAAAAAAAAAAAAAAAAAAAAAAAAAAAAAAAAAAAAAAAAAAAAAAAAAAAAAAAAAAAAAAAAAAAAAAAAAAAAAAAAAAAAAAAAAAAAAAAAAAAAAAAAAAAAAAAAAAAAAAAAAAAAAAAAAAAAAAAAAAAAAAAAAAAAAAAAAAAAAAAAAAAAAAAAAAAAAAAAAAAAAAAAAAAAAAAAAAAAAAAAAAAAAAAAAAAAAAAAAAAAAAAAAAAAAAAAAAAAAAAAAAAAAAAAAAAAAAAAAAAAAAAAAAAAAAAAAAAAAAAAAAAAAAAAAAAAAAAAAAAAAAAAAAAAfYT8mv6qhTkbnkC5AAAAAAAAAAAAAAAAxWPcG2p7ApxlQO45StNIujexkDkAAAAAAAAAAAAAAAAAAAAAAAAAAAAAAAAAAAAAAAAAAAAAAAAAAAAAAAAAAAAAAAAAAAAAGFA6PBNXkbrn3H8i6Qh1PTXbMSLNjNod2dlfuzmWPB8tlYWiMAusI0QJBT5lgb6m8KkxqMa3JLAAAAAA6DwvGwxIfrmowysbAAAAAAAAAAAAAAAAndeUmYkxBh0W/yO6cDp1ImdzgCAAAAAAAAAAAAUR8Jr+qoU5G55AOQAAAAAAAAAAAAAAAHmLwRmugJOaZUDuOUrTSDo3sZA5AAAAAAAAAAAAAAAAAAAAAAAAAAAAAAAAAAAAAAAAAAAAAAAAAAAAAAAAAAAAAAAAAAAAAAAAAAAAAAAAAAAAAAAAAAAAAAAAAAAAAAAAAAAAAAAAAAAAAAAAAAAAAAAAAAAAAAAAAAAAAAAAAAAAAAAAAAAAAAAAAAAAAAAAAAAAAAAAAAAAAAAAAAAAAAAAAAAAAAAAAAAAAAAAAAAAAAAAAAAAAAAAAAAAAAAAAAAAAAAAAAAAAAAAAAAAAAAAAAAAAAAAAAAAAAAAAAAAAAAAAAAAAAAAAAAAAAAAAAAAAAAAAAAAAAAAAAAAAAAAAAAAAAAAAAAAAAAAAAAAAAAAAAAAAAAAAAAAAAAAAAAAAAAAAAAAAAAAAAAAAAAAAAAAAAAAAAAAAAAAAAAAAAAAAAAAAAAAAAAAAAAAAAAAAAAAAAAAAAAAAAAAAAAAAAAAAAAAAAAAAAAAAAAAAAAAAAAAAAAAAAAAAAAAAAAAAAAAG55AOf6qhTmuFWwbAAAAAAAAAAAAAAAAl9b9G0rTSDplQO454OuCHDexkLkAAAAAAAAAAAAAAAAAAAAAAAAAAAAAAAAAAAAAAAAAAAAAAAAAAAAAAAAAAAAAAAAAAAAAAAAAAAAAAAAAAAAAAAAAAAAAAAAAAAAAAAAAAAAAAAAAAAAAAAAAAAAAAAAAAAAAAAAAAAAAAAAAAAAAAAAAAAAAAAAAAAAAAAAAAAAAAAAAAAAAAAAAAAAAAAAAAAAAAAAAAAAAAAAAAAAAAAAAAAAAAAAAAAAAAAAAAAAAAAAAAAAAAAAAAAAAAAAAAAAAAAAAAAAAAAAAAAAAAAAAAAAAAAAAAAAAAAAAAAAAAAAAAAAAAAAAAAAAAAAAAAAAAAAAAAAAAAAAAAAAAAAAAAAAAAAAAAAAAAAAAAAAAAAAAAAAAAAAAAAAAAAAAAAAAAAAAAAAAAAAAAAAAAAAAAAAAAAAAAAAAAAAAAAAAAAAAAAAAAAAAAAAAAAAAAAAAAAAAAAAAAAAAAAAAAAAAAAAAAAAAAAAAAAAAAAAAAAAAAAAAAAAAAAAAAAAAAAAAAAAAAAAAAAAAAAAAAAAAAAAAAAAAAAAAAAAAAAAAAAAAAAAAAAAAAAAAAAAAAAAAAAAAAAAAAAAAAAAAAAAAAAAAAAAAAAAAAAAAAAAAAAAAAAAAAAAAAAAAAAAAAAAAAAAAAAAAAAAAAAAAAAAAAAAAAAAAAAAAAAAAAAAAAAAAAAAAAAAAAAAAAAAAAAAAAAAAAAAAAAAAAAAAAAAAAAAAAAAAAAAAAAAAAAAAAAAAAAAAAAAAAAAAAAAAAAAAAAAAAAAAAAAAAAAAAAAAAAAAAAAAAAAAAAAAAAAAAAAAAAAAAAAAAAAAAAAAAAAAAAAAAAAAAAAAAAAAAAAAAAAAAAAAAAAAAAAAAAAAAAAAAAAAAAAAAAAAAAAAAAAAAAAAAAAAAAAAAAAAAAAAAAAAAAAAAAAAAAAAAAAAAAAAAAAAAAAAAAAAAAAAAAAAAAAAAAAAAAAAAAAAAAAAAAAAAAAAAAAAAAAAAAAAAAAAAAAAAAAAAAAAAAAAAAAAAAAAAAAAAAAAAAAAAAAAAAAAAAAAAAAAAAAAAAAAAAAAAAAAAAAAAAAAAAAAAAAAAAAAAAAAAAAAAAAAAAAAAAAAAAAAAAAAAAAAAAAAAAAAAAAAAAAAAAAAAAAAAAAAAAAAAAAAAAAAAAAAAAAAAAAAAAAAAAAAAAAAAAAAAAAAAAAAAAAAAAAAAAAAAAAAAAAAAAAAAAAAAAAAAAAAAAAAAAAAAAAAAAAAAAAAAAAAAAAAAAAAAAAAAAAAAAAAAAAAAAAAAAAAAAAAAAAAAAAAAAAAAAAAAAAAAAAAAAAAAAAAAAAAAAAAAAAAAAAAAAAAAAAAAAAAAAAAAAAAAAAAAAAAAAAAAAAAAAAAAAAAAAAAAAAAAAAAAAAAAAAAAAAAAAAAAAAAAAAAAAAAAAAAAAAAAAAAAAAAAAAAAAAAAAAAAAAAAAAAAAAAAAAAAAAAAAAAAAAAAAAAAAAAAAAAAAAAAAAAAAAAAAAAAAAAAAAAAAAAAAAAAAAAAAAAAAAAAAAAAAAAAAAAAAAAAAAAAAAAAAAAAAAAAAAAAAAAAAAAAAAAAAAAAAAAAAAAAAAAAAAAAAAAAAAAAAAAAAAAAAAAAAAAAAAAAAAAAAAAAAAAAAAAAAAAAAAAAAAAAAAAAAAAAAAAAAAAAAAAAAAAAAAAAAAAAAAAAAAAAAAAAAAAAAAAAAAAAAAAAAAAAAAAAAAAAAAAAAAAAAAAAAAAAAAAAAAAAAAAAAAAAAAAAAAAAAAAAAAAAAAAAAAAAAAAAAAAAAAAAAAAAAAAAAAAAAAAAAAAAAAAAAAAAAAAAAAAAAAAAAAAAAAAAAAAAAAAAAAAACB6s06AAAAAHbXsbvP7BY6dtexu5Hi+7chMDo3keL7t898bzyF7qq6NDcYvIXuqrrfxuKpgk1gOgAAAACiN8u75i2sO6I3y7uf8E6xI9pOMZ/wTrHbM2s8OB1HvDWbKLs4HUe8rAFTKPPVzz0WhqU9DODWvZx4oTt76Auj9qLIvRFQkjyoU7ojVErHpBBXKD2RnXe8gg1yJI5pBTuI+A49MgLLO0tDir06+FU9AAOcoVJtv7xXyK88DSyIID0OjKQdLbq9Yl9COpMakCRNAo+9gerNOgAAAAB217G7z+wWOnbXsTuR4vu3ITA6N5Hi+zfPfG+8he6qujQ3GLyF7qo6k8TiqYJNYDoAAAAAojfLu+YtrDuiN8s7n/BOsSPaTjGf8E4x2zNrvDgdR7w1myi7OB1HPIrYUigAAAAAAAAAAAAAAAAAAAAAAAAAAAAAAAAAAAAAAAAAAAAAAAAAAAAAAAAAAAAAAAAAAAAAAAAAAAAAAAAAAAAAAAAAAAAAAAAAAAAAAAAAAAAAAAAAAAAAAAAAAAAAAAAAAAAAAAAAAAAAAAAAAAAAAAAAAAAAAAAAAAAAAAAAAAAAAAAAAAAAAAAAAAAAAAAAAAAAAAAAAAAAAAAAAAAAAAAAAAAAAAAAAAAAAAAAAAAAAAAAAAAAAAAAAAAAAAAAAAAAAAAAAAAAAAAAAAAA89XPPRaGpT21iOojnHihOwzg1r0h2oGiEVCSPPaiyL3YBAClf+FlJJGdd7wQVyg9jmkFu4j4Dj0yAss7fLe2Izr4VT1LQ4q9dtYVIVfIrzxSbb+8rM8LowSnmyRiX0I6HS26vU0Cjz3KUvhAG7AMQZPKnKc1iTdATO8uqPPDlacmWGVAvdVzqOC9uqhm0naoArwYP7oxSioAnYKuycpxPxwtDz+A80mljk/BPyp2/CT7WuelDoxSPxbNYqWEUG+masYhJyuc8T+t3W2pm1QjrfPVzz0WhqU9oZjGJJx4oTsM4NY9Wnk4IxFQkjz2osg9x5yCJcQCB6ORnXe8EFcovY5pBbuI+A49MgLLO1CO6iI6+FU9S0OKPRlkwZ9XyK88Um2/PKBmlKMcu0ckYl9COh0tuj1NAo89AAAAAAAAAAAAAAAAAAAAAAAAAAAAAAAAAAAAAAAAAAAAAAAAAAAAAAAAAAAAAAAAAAAAAAAAAAAAAAAAAAAAAAAAAAAAAAAAAAAAAAAAAAAAAAAAAAAAAAAAAAAAAAAAAAAAAAAAAAAAAAAAAAAAAAAAAAAAAAAAAAAAAAAAAAAAAAAAAAAAAAAAAAAAAAAAAAAAAAAAAAAAAAAAAAAAAAAAAAAAAAAAAAAAAAAAAAAAAAAAAAAAAAAAAAAAAAAAAAAAAAAAAAAAAAAAAAAAAIHqzToAAAAAdtexO8/sFjp217G7keL7NyEwOjeR4vu3z3xvvIXuqjo0Nxi8he6qutTI4qmCTWA6AAAAAKI3yzvmLaw7ojfLu5/wTjEj2k4xn/BOsdsza7w4HUc8NZsouzgdR7y5GlMo89XPPRaGpT0M4NY9nHihO5SYTST2osg9EVCSPJ+uvqM28pejEFcovZGdd7yQEJ+jjmkFO4j4Dj0yAss7S0OKPTr4VT3dACojUm2/PFfIrzwv2sghThMEJB0tuj1iX0I6YiL3I00Cj72B6s06AAAAAHbXsTvP7BY6dtexO5Hi+zchMDo3keL7N898bzyF7qo6NDcYvIXuqjrMxeKpgk1gOgAAAACiN8s75i2sO6I3yzuf8E4xI9pOMZ/wTjHbM2s8OB1HPDWbKLs4HUc8S/ZSKAAAAAAAAAAAAAAAAAAAAAAAAAAAAAAAAAAAAAAAAAAAAAAAAAAAAAAAAAAAAAAAAAAAAAAAAAAAAAAAAAAAAAAAAAAAAAAAAAAAAAAAAAAAAAAAAAAAAAAAAAAAAAAAAAAAAAAAAAAAAAAAAAAAAAAAAAAAAAAAAAAAAAAAAAAAAAAAAAAAAAAAAAAAAAAAAAAAAAAAAAAAAAAAAAAAAAAAAAAAAAAAAAAAAAAAAAAAAAAAAAAAAAAAAAAAAAAAAAAAAAAAAAAAAAAAAAAAAAAAAAAAAAAAAAAAAAAAAAAAAAAAAAAAAAAAAAAAAAAAAAAAAAAAAAAAAAAAAAAAAAAAAAAAAAAAAAAAAAAAAAAAAAAAAAAAAAAAAAAAAAAAAAAAAAAAAAAAAAAAAAAAAAAAAAAAAAAAAAAAAAAAAAAAAAAAAAAAAAAAAAAAAAAAAAAAAAAAAAAAAAAAAAAAAAAAAAAAAAAAAAAAAAAAAAAAAAAAAAAAAAAAAAAAAAAAAAAAAAAAAAAAAAAAAAAAAAAAAAAAAAAAAAAAAAAAAAAAAAAAAAAAAAAAAAAAAAAAAAAAAAAAAAAAAAAAAAAAAAAAAAAAAAAAAAAAAAAAAAAAAAAAAAAAAAAAAAAAAAAAAAAAAAAAAAAAAAAAAAAAAAAAAAAAAAAAAAAAAAAAAAAAAAAAAAAAAAAAAAAAAAAAAAAAAAAAAAAAAAAAAAAAAAAAAAAAAAAAAAAAAAAAAAAAAAAAAAAAAAAAAAAAAAAAAAAAAAAAAAAAAAAAAAAAAAAAAAAAAAAAAAAAAAAAAAAAAAAAAAAAAAAAAAAAAAAAAAAAAAAAAAAAAAAAAAAAAAAAAAAAAAAAAAAAAAAAAAAAAAAAAAAAAAAAAAAAAAAAAAAAAAAAAAAAAAAAAAAAAAAAAAAAAAAAAAAAAAAAAAAAAAAAAAAAAAAAAAAAAAAAAAAAAAAAAAAAAAAAAAAAAAAAAAAAAAAAAAAAAAAAAAAAAAAAAAAAAAAAAAAAAAAAAAAAAAAAAAAAAAAAAAAAAAAAAAAAAAAAAAAAAAAAAAAAAAAAAAAAAAAAAAAAAAAAAAAAAAAAAAAAAAAAAAAAAAAAAAAAAAAAAAAAAAAAAAAAAAAAAAAAAAAAAAAAAAAAAAAAAAAAAAAAAAAAAAAAAAAAAAAAAAAAAAAAAAAZfZo1oldhtetbYJcAAAAAAAAAAAAAAABhZwAaKjWMNuSKdTUy9F2XC3IlNgAAAAAAAAAAAAAAAAAAAAAAAAAAAAAAAAAAAAAAAAAAAAAAAAAAAAAAAAAAAAAAAAAAAAAAAAAAAAAAAAAAAAAAAAAAAAAAAAAAAAAAAAAAAAAAAAAAAAAAAAAAAAAAAAAAAAAAAAAAAAAAAAAAAAAAAAAAAAAAAAAAAAAAAAAAAAAAAAAAAAAAAAAAAAAAAAAAAAAAAAAAAAAAAAAAAAAAAAAAAAAAAAAAAAAAAAAAAAAAAAAAAAAAAAAAAAAAAAAAAAAAAAAAAAAAAAAAAAAAAAAAAAAAAAAAAAAAAAAAAAAAAAAAAAAAAAAAAAAAAAAAAAAAAAAAAAAAAAAAAAAAAAAAAAAAAAAAAAAAAAAAAAAAAAAAAAAAAAAAAAAAAAAAAAAAAAAAAAAAAAAAAAAAAAAAAAAAACHoNroAAAAAqUeKO0Zb4zqpR4o7AAAAAAAAAAAAAAAAzrhFvJ+soLthxsY7n6yguxqrKCmPa4+2837pMh1Ap7gpgUa8HUCnuC2My7VakBe7LYzLtVGR+Dg2osU8aoe8uDaixTxgkJAokueSvZWNM72e/rc9/boCPbHpLqRSbog9H+zwPC+zKCM4grEil1SJu6pgwTwwj3gkAVMNPYQbrTs2Tlc7f53IvM8u7r154gAjD9hau4AJyr1Q7oakiG30IoV+ej2r1Sa8up0hpRcpNb0h6Da6AAAAAKlHijtGW+M6qUeKuwAAAAAAAAAAAAAAAM64RTyfrKC7YcbGO5+soDvPqCgpj2uPtvN+6TIdQKe4KYFGvB1ApzgtjMu1WpAXuy2MyzVRkfi4NqLFPGqHvLg2osW8+YWQKAAAAAAAAAAAAAAAAAAAAAAAAAAAAAAAAAAAAAAAAAAAAAAAAAAAAAAAAAAAAAAAAAAAAAAAAAAAAAAAAAAAAAAAAAAAAAAAAAAAAAAAAAAAAAAAAAAAAAAAAAAAAAAAAAAAAAAAAAAAAAAAAAAAAAAAAAAAAAAAAAAAAAAAAAAAAAAAAAAAAAAAAAAAAAAAAAAAAAAAAAAAAAAAAAAAAAAAAAAAvY7GGKJXYbUZfZo1AAAAAAAAAAAAAAAA8tm8GrI2YpnkinU1KjWMNgtyJbaS55K9lY0zvVIvnyP9ugI9nv63PWk2BCMf7PA8Um6IPWODUSQRhq+iqmDBPJdUibsBUw29hButOzZOVzuVs+gfzy7uvX+dyLz2HAOjgAnKvQ/YWrvqP06khYkVpavVJryFfno9Fyk1PZLnkr2VjTO9RgqcIv26Aj2e/re9UyLgIh/s8DxSboi96dETpPEl3yOqYME8l1SJOwFTDb2EG607Nk5XO7Z9wCTPLu69f53IPFqKySGACcq9D9haO3HciiKODomlq9UmvIV+er0XKTU9AAAAAAAAAAAAAAAAAAAAAAAAAAAAAAAAAAAAAAAAAAAAAAAAAAAAAAAAAAAAAAAAAAAAAAAAAAAAAAAA4zdkGaJXYbUZfZq1AAAAAAAAAAAAAAAAUEJuGlRdSRjkinU1KjWMtgtyJbYAAAAAAAAAAAAAAAAAAAAAAAAAAAAAAAAAAAAAAAAAAAAAAAAAAAAAAAAAAAAAAAAAAAAAAAAAAAAAAAAAAAAAAAAAAAAAAAAAAAAAAAAAAAAAAAAAAAAAAAAAAAAAAAAAAAAAAAAAACHoNroAAAAAqUeKu0Zb4zqpR4o7AAAAAAAAAAAAAAAAzrhFPJ+soDthxsY7n6ygu0mvKCmPa4+2837pMh1ApzgpgUa8HUCnuC2MyzVakBe7LYzLtVGR+Lg2osW8aoe8uDaixTwEh5AokueSvZWNM72e/re9/boCPfm4l6JSboi9H+zwPIllkSO9NvSkl1SJO6pgwTz6W2YkAVMNPYQbrTs2Tlc7f53IPM8u7r2bG18jD9haO4AJyr2ww7ekbEAGpIV+er2r1Sa8Ic1tpRcpNb0h6Da6AAAAAKlHirtGW+M6qUeKuwAAAAAAAAAAAAAAAM64RbyfrKA7YcbGO5+soDtSrCgpj2uPtvN+6TIdQKc4KYFGvB1ApzgtjMs1WpAXuy2MyzVRkfg4NqLFvGqHvLg2osW8kJqQKAAAAAAAAAAAAAAAAAAAAAAAAAAAAAAAAAAAAAAAAAAAAAAAAAAAAAAAAAAAAAAAAAAAAAAAAAAAAAAAAAAAAAAAAAAAAAAAAAAAAAAAAAAAAAAAAAAAAAAAAAAAAAAAAAAAAAAAAAAAAAAAAAAAAAAAAAAAAAAAAAAAAAAAAAAAAAAAAAAAAAAAAAAAAAAAAAAAAAAAAAAAAAAAAAAAAAAAAAAAAAAAAAAAAAAAAAAAAAAAAAAAAAAAAAAAAAAAAAAAAAAAAAAAAAAAAAAAAAAAAAAAAAAAAAAAAAAAAAAAAAAAAAAAAAAAAAAAAAAAAAAAAAAAAAAAAAAAAAAAAAAAAAAAAAAAAAAAAAAAAAAAAAAAAAAAAAAAAAAAAAAAAAAAAAAAAAAAAAAAAAAAAAAAAAAAAAAAAAAAAAAAAAAAAAAAAAAAAAAAAAAAAAAAAAAAAAAAAAAAAAAAAAAAAAAAAAAAAAAAAAAAAAAAAAAAAAAAABl9mrWiV2G1aZiBFwAAAAAAAAAAAAAAAFx3NBcqNYy25Ip1NY3B3xYLciU2AAAAAAAAAAAAAAAAAAAAAAAAAAAAAAAAAAAAAAAAAAAAAAAAAAAAAAAAAAAAAAAAAAAAAAAAAAAAAAAAAAAAAAAAAAAAAAAAAAAAAAAAAAAAAAAAAAAAAAAAAAAAAAAAAAAAAAAAAAAAAAAAAAAAAAAAAAAAAAAAAAAAAAAAAAAAAAAAAAAAAAAAAAAAAAAAAAAAAAAAAAAAAAAAAAAAAAAAAAAAAAAAAAAAAAAAAAAAAAAAAAAAAAAAAAAAAAAAAAAAAAAAAAAAAAAAAAAAAAAAAAAAAAAAAAAAAAAAAAAAAAAAAAAAAAAAAAAAAAAAAAAAAAAAAAAAAAAAAAAAAAAAAAAAAAAAAAAAAAAAAAAAAAAAAAAAAAAAAAAAAAAAAAAAAAAAAAAAAAAAAAAAAAAAAAAAAAAAAAAAAAAAAAAAAAAAAAAAAAAAAAAAAAAAAAAAAAAAAAAAAAAAAAAAAAAAAAAAAAAAAAAAAAAAAAAAAAAAAAAAAAAAAAAAAAAAAAAAAAAAAAAAAAAAAAAAAAAAAAAAAAAAAAAAAAAAAAAAAAAAAAAAAAAAAAAAAAAAAAAAAAAAAAAAAAAAAAAAAAAAAAAAAAAAAAAAAAAAAAAAAAAAAAAAAAAAAAAAAAAAAAAAAAAAAAAAAAAAAAAAAAAAAAAAAAAAAAAAAAAAAAAAAAAAAAAAAAAAAAAAAAAAAAAAAAAAAAAAAAAAAAAAAAAAAAAAAAAAAAAAAAAAAAAAAAAAAAAAAAAAAAAAAAAAAAAAAAAAAAAAAAAAAAAAAAAAAAAAAAAAAAAAAAAAAAAAAAAAAAAAAAAAAAAAAAAAAAAAAAAAAAAAAAAAAAAAAAAAAAAAAAAAAAAAAAAAAAAAAAAAAAAAAAAAAAAAAAAAAAAAAAAAAAAAAAAAAAAAAAAAAAAAAAAAAAAAAAAAAAAAAAAAAAAAAAAAAAAAAAAAAAAAAAAAAAAAAAAAAAAAAAAAAAAAAAAAAAAAAAAAAAAAAAAAAAAAAAAAAAAAAAAAAAAAAAAAAAAAAAAAAAAAAAAAAAAAAAAAAAAAAAAAAAAAAAAAAAAAAAAAAAAAAAAAAAAAAAAAAAAAAAAAAAAAAAAAAAAAAAAAAAAAAAAAAAAAAAAAAAAAAAAAAAAAAAAAAAAAAAAAAAAAAAAAAAAAAAAAAABiXGC6AAAAAIltyzvmLaw7iW3LO67vTjEx2U4xru9OMZiIa7zyL0e8V9QpO/IvR7y5dd+oAAAAAAAAAAAAAAAAAAAAAAAAAAAAAAAAAAAAAAAAAAAAAAAAAAAAAAAAAAAAAAAAAAAAAHsfDr0m2cy7ll2SPTr4VT1ifOWjGJzAPAUVsTwqH5Kfz9PSo4YIxb15Mt87KP7VI5faoD0AAAAAAAAAAAAAAAAAAAAAAAAAAAAAAAAAAAAAAAAAAAAAAAAAAAAAAAAAAAAAAAAAAAAAYlxgugAAAACJbcs75i2sO4lty7uu704xMdlOMa7vTrGYiGs88i9HvFfUKTvyL0c81XnfqAAAAAAAAAAAAAAAAAAAAAAAAAAAAAAAAAAAAAAAAAAAAAAAAAAAAAAAAAAAAAAAAAAAAAAAAAAAAAAAAAAAAAAAAAAAAAAAAAAAAAAAAAAAAAAAAAAAAAAAAAAAAAAAAAAAAAAAAAAAAAAAAAAAAAAAAAAAAAAAAAAAAAAAAAAAAAAAAAAAAAAAAAAAAAAAAAAAAAAAAAAAAAAAAAAAAAAAAAAAAAAAAAAAAAAAAAAAAAAAAAAAAAAAAAAAAAAAAAAAAAAAAAAAAAAAAAAAAAAAAAAAAAAAAAAAAAAAAAAAAAAAAAAAAAAAAAAAAAAAAAAAAAAAAAAAAAAAAAAAAAAAAAAAex8OvSbZzLuj3GghOvhVPZZdkj2IM4OhBRWxPBicwDya45ejMKnWInky3zuGCMW9l9qgvbRSBDoAAAAAHE1DIVGA8zsdsqygAAAAAAKgL7cAAAAA1371oEeElaIDf6W88FLwpc/nkSXr8o2/prM+v4KnFaaOT8E/VvWVJUXuTSThVJs/C+KHJrePMyNhSvCmjvS2v2MAXymDgzMtAAAAAAAAAAAAAAAAAAAAAAAAAAAAAAAAAAAAAAAAAAAAAAAAAAAAAAAAAAAAAAAAAAAAAHsfDr0m2cy7a+eOozr4VT2WXZK9hFg7oAUVsTwYnMC8A3oOpB5lJSR5Mt87hgjFPZfaoL0AAAAAAAAAAAAAAAAAAAAAAAAAAAAAAAAAAAAAAAAAAAAAAAAAAAAAAAAAAAAAAAAAAAAAAAAAAAAAAAAAAAAAAAAAAAAAAAAAAAAAAAAAAAAAAAAAAAAAAAAAAAAAAAAAAAAAAAAAAAAAAAAAAAAAAAAAAAAAAAAAAAAAAAAAAAAAAAAAAAAAAAAAAAAAAAAAAAAAAAAAAAAAAAAAAAAAAAAAAAAAAAAAAAAAAAAAAAAAAAAAAAAAAAAAAAAAAAAAAAAAAAAAAAAAAAAAAAAAAAAAAAAAAAAAAAAAAAAAAAAAAAAAAAAAAAAAAAAAAAAAAAAAAAAAAAAAAAAAAAAAAAAAAGJcYLoAAAAAiW3Lu+YtrDuJbcs7ru9OsTHZTjGu704xmIhrPPIvRzxX1Ck78i9HvKpu36gAAAAAAAAAAAAAAAAAAAAAAAAAAAAAAAAAAAAAAAAAAAAAAAAAAAAAAAAAAAAAAAAAAAAAex8OvSbZzLuWXZK9OvhVPcUNmqMYnMC8BRWxPAip+KD9/rujhgjFPXky3zvBNlwkl9qgPQAAAAAAAAAAAAAAAAAAAAAAAAAAAAAAAAAAAAAAAAAAAAAAAAAAAAAAAAAAAAAAAAAAAABiXGC6AAAAAIlty7vmLaw7iW3Lu67vTrEx2U4xru9OsZiIa7zyL0c8V9QpO/IvRzxac9+oAAAAAAAAAAAAAAAAAAAAAAAAAAAAAAAAAAAAAAAAAAAAAAAAAAAAAAAAAAAAAAAAAAAAAAAAAAAAAAAAAAAAAAAAAAAAAAAAAAAAAAAAAAAAAAAAAAAAAAAAAAAAAAAAAAAAAAAAAAAAAAAAAAAAAAAAAAAAAAAAAAAAAAAAAAAAAAAAAAAAAAAAAAAAAAAAAAAAAAAAAAAAAAAAAAAAAAAAAAAAAAAAAAAAAAAAAAAAAAAAAAAAAAAAAAAAAAAAAAAAAAAAAAAAAAAAAAAAAAAAAAAAAAAAAAAAAAAAAAAAAAAAAAAAAAAAAAAAAAAAAAAAAAAAAAAAAAAAAAAAAAAAAAAAAAAAAAAAAAAAAAAAAAAAAAAAAAAAAAAAAAAAAAAAAAAAAAAAAAAAAAAAAAAAAAAAAAAAAAAAAAAAAAAAAAAAAAAAAAAAAAAAAAAAAAAAAAAAAAAAAAAAAAAAAAAAAAAAAAAAAAAAAAAAAAAAAAAAAAAAAAAAAAAAAAAAAAAAAAAAAAAAAAAAAAAAAAAAAAAAAAAAAAAAAAAAAAAAAAAAAAAAAAAAAAAAAAAAAAAAAAAAAAAAAAAAAAAAAAAAAAAAAAAAAAAAAAAAAAAAAAAAAAAAAAAAAAAAAAAAAAAAAAAAAAAAAAAAAAAAAAAAAAAAAAAAAAAAAAAAAAAAAAAAAAAAAAAAAAAAAAAAAAAAAAAAAAAAAAAAAAAAAAAAAAAAAAAAAAAAAAAAAAAAAAAAAAAAAAAAAAAAAAAAAAAAAAAAAAAAAAAAAAAAAAAAAAAAAAAAAAAAAAAAAAAAAAAAAAAAAAAAAAAAAAAAAAAAAAAAAAAAAAAAAAAAAAAAAAAAAAAAAAAAAAAAAAAAAAAAAAAAAAAAAAAAAAAAAAAAAAAAAAAAAAAAAAAAAAAAAAAAAAAAAAAAAAAAAAAAAAAAAAAAAAAAAAAAAAAAAAAAAAAAAAAAAAAAAAAAAAAAAAAAAAAAAAAAAAAAAAAAAAAAAAAAAAAAAAAAAAAAAAAAAAAAAAAAAAAAAAAAAAAAAAAAAAAAAAAAAAAAAAAAAAAAAAAAAAAAAAAAAAAAAAAAAAAAAAAAAAAAAAAAAAAAAAAAAAAAAAAAAAAAAAAAAAAAAAAAAAAAAAAAAAAAAAAAAAAAAAAAAAAAAAAAAAAAAAAAAAAAAAAAAAAAAAAAAAAAAAAAAAAAAAAAAAAAAAAAAAAAAAAAAAAAAAAAAAAAAAAAAAAAAAAAAAAAAAAAAAAAAAAAAAAAAAAAAAAAAAAAAAAAAAAAAAAAAAAAAAAAAAAAAAAAAAAAAAAAAAAAAAAAAAAAAAAAAAAAAAAAAAAAAAAAAAAAAAAAAAAAAAAAAAAAAAAAAAAAAAAAAAAAAAAAAAAAAAAAAAAAAAAAAAAAAAAAAAAAAAAAAAAAAAAAAAAAAAAAAAAAAAAAAAAAAAAAAAAAAAAAAAAAAAAAAAAAAAAAAAAAAAAAAAAAAAAAAAAAAAAAAAAAAAAAAAAAAAAAAAAAAAAAAAAAAAAAAAAAAAAAAAAAAAAAAAAAAAAAAAAAAAAAAAAAAAAAAAAAAAAAAAAAAAAAAAAAAAAAAAAAAAAAAAAAAAAAAAAAAAAAAAAAAAAAAAAAAAAAAAAAAAAAAAAAAAAAAAAAAAAAAAAAAAAAAAAAAAAAAAAAAAAAAAAAAAAAAAAAAAAAAAAAAAAAAAAAAAAAAAAAAAAAAAAAAAAAAAAAAAAAAAAAAAAAAAAAAAAAAAAAAAAAAAAAAAAAAAAAAAAAAAAAAAAAAAAAAAAAAAAAAAAAAAAAAAAAAAAAAAAAAAAAAAAAAAAAAAAAAAAAAAAAAAAAAAAAAAAAAAAAAAAAAAAAAAAAAAAAAAAAAAAAAAAAAAAAAAAAAAAAAAAAAAAAAAAAAAAAAAAAAAAAAAAAAAAAAAAAAAAAAAAAAAAAAAAAAAAAAAAAAAAAAAAAAAAAAAAAAAAAAAAAAAAAAAAAAAAAAAAAAAAAAAAAAAAAAAAAAAAAAAAAAAAAAAAAAAAAAAAAAAAAAAAAAAAAAAAAAAAAAAAAAAAAAAAAAAAAAAAAAAAAAAAAAAAAAAAAAAAAAAAAAAAAAAAAAAAAAAAAAAAAAAAAAAAAAAAAAAAAAAAAAAAAAAAAAAAAAAAAAAAAAAAAAAAAAAAAAAAAAAAAAAAAAAAAAAAAAAAAAAAAAAAAAAAAAAAAAAAAAAAAAAAAAAAAAAAAAAAAAAAAAAAAAAAAAAAAAAAAAAAAAAAAAAAAAAAAAAAAAAAAAAAAAAAAAAAAAAAAAAAAAAAAAAAAAAAAAAAAAAAAAAAAAAAAAAAAAAAAAAAAAAAAAAAAAAAAAAAAAAAAAAAAAAAAAAAAAAAAAAAAAAAAAAAAAAAAAAAAAAAAAAAAAAAAAAAAAAAAAAAAAAAAAAAAAAAAAAAAAAAAAAAAAAAAAAAAAAAAAAAAAAAAAAAAAAAAAAAAAAAAAAAAAAAAAAAAAAAAAAAAAAAAAAAAAAAAAAAAAAAAAAAAAAAAAAAAAAAAAAAAAAAAAAAAAAAAAAAAAMa3JDAAAAAAifXQGwxIfrnBdzGcAAAAAAAAAAAAAAAAMYsVmnwgNxuV+iM6WpQ+o5DVf6AAAAAAAAAAAAAAAAAAAAAAAAAAAAAAAAAAAAAAAAAAAAAAAAAAAAAAAAAAAAAAAAAAAAAAAAAAAAAAAAAAAAAAAAAAAAAAAAAAAAAAAAAAAAAAAAAAAAAAAAAAAAAAAAAAAAAAAAAAAAAAAAAAAAAAAAAAAAAAAAAAAAAAAAAAAAAAAAAAAAAAAAAAAAAAAAAAAAAAAAAAAAAAAAAAAAAAAAAAAAAAAAAAAAAAAAAAAAAAAAAAAAAAAAAAAAAAAAAAAAAAAAAAAAAAAAAAAAAAAAAAAAAAAAAAAAAAAAAAAAAAAAAAAAAAAAAAAAAAAAAAAAAAAAAAAAAAAAAAAAAAAAAAAAAAAAAAAAAAAAAAAAAAAAAAAAAAAAAAAAAAAAAAAAAAAAAAAAAAAAAAAAAAAAAAAAAAAAAAAAAAAAAAAAAAAAAAAAAAAAAAAAAAAAAAAAAAAAAAAAAAAAAAAAAAAAAAAAAAAAAAAAAAAAAAAAAAAAAAAAAAAAAAAAAAAAAAAAAAAAAAAAAAAAAAAAAAAAAAAAAAAAAAAAAAAAAAAAAAAAAAAAAAAAAAAAAAAAAAAAAAAAAAAAAAAAAAAAAAAAAAAAAAAAAAAAAAAAAAAAAAAAAAAAAAAAAAAAAAAAAAAAAAAAAAAAAAAAAAAAAAAAAAAAAAAAAAAAAAAAAAAAAAAAAAAAAAAAAAAAAAAAAAAAAAAAAAAAAAAAAAAAAAAAAAAAAAAAAAAAAAAAAAAAAAAAAAAAAAAAAAAAAAAAAAAAAAAAAAAAAAAAAAAAAAAAAAAAAAAAAAAAAAAAAAAAAAAAAAAAAAAAAAAAAAAAAAAAAAAAAAAAAAAAAAAAAAAAAAAAAAAAAAAAAAAAAAAAAAAAAAAAAAAAAAAAAAAAAAAAAAAAAAAAAAAAAAAAAAAAAAAAAAAAAAAAAAAAAAAAAAAAAAAAAAAAAAAAAAAAAAAAAAAAAAAAAAAAAAAAAAAAAAAAAAAAAAAAAAAAAAAAAAAAAAAAAAAAAAAAAAAAAAAAAAAAAAAAAAAAAAAAAAAAAAAAAAAAAAAAAAAAAAAAAAAAAAAAAAAAAAAAAAAAAAAAAAAAAAAAAAAAAAAAAAAAAAAAAAAAAAAAAAAAAAAAAAAAAAAAAAAAAAAAAAAAAAAAAAAAAAAAAAAAAAAAAAAAAAAAAAAAAAAAAAAAAAAAAAAAAAAAAAAAAAAAAAAAAAAAAAAAAAAAAAAAAAAAAAAAAAAAAAAAAAAAAAAAAAAAAAAAAAAAAAAAAAAAAAAAAAAAAAAAAAAAAAAAAAAAAAAAAAAAAAAAAAAAAAAAAAAAAAAAAAAAAAAAAAAAAAAAAAAAAAAAAAAAAAAAAAAAAAAAAAAAAAAAAAAAAAAAAAAAAAAAAAAAAAAAAAAAAAAAAAAAAAAAAAAAAAAAAAAAAAAAAAAAAAAAAAAAAAAAAAAAAAAAAAAAAAAAAAAAAAAAAAAAAAAAAAAAAAAAAAAAAAAAAAAAAAAAAAAAAAAAAAAAAAAAAAAAAAAAAAAAAAAAAAAAAAAAAAAAAAAAAAAAAAAAAAAAAAAAAAAAAAAAAAAAAAAAAAAAAAAAAAAAAAAAAAAAAAAAAAAAAAAAAAAAAAAAAAAAAAAAAAAAAAAAAAAAAAAAAAAAAAAAAAAAAAAADm6SsmlqFWJejHLSYSOwsncUs0v2QvXqb16H2mKw5hv1nkHSZ2gYone/oCKvSZWr4BPxepM7oeqMFC4CjfeKOn6zTApzoS+D9WT92nPS7ip6Uc/j9eRWwnPXvDJ+hShyhArgk/DboeqAAAAAAAAAAAAAAAAAAAAAAAAAAAAAAAAAAAAAAAAAAAAAAAAAAAAAAAAAAAAAAAAAAAAAAAAAAAAAAAAAAAAAAAAAAAAAAAAAAAAAAAAAAAAAAAAAAAAAAAAAAAAAAAAAAAAAAAAAAAAAAAAAAAAAAAAAAAAAAAAAAAAAAAAAAAAAAAAAAAAAAAAAAAAAAAAAAAAAAAAAAAAAAAAAAAAAAAAAAAAAAAAAAAAAAAAAAAAAAAAAAAAAAAAAAAAAAAAAAAAAAAAAAAAAAAAAAAAAAAAAAAAAAAAAAAAAAAAAAAAAAAAAAAAAAAAAAAAAAAAAAAAAAAAAAAAAAAAAAAAAAAAAAAAAAAAAAAAAAAAAAAAAAAAAAAAAAAAAAAAAAAAAAAAAAAAAAAAAAAAAAAAAAAAAAAAAAAAAAAAAAAAAAAAAAAAAAAAAAAAAAAAAAAAAAAAAAAAAAAAAAAAAAAAAAAAAAAAAAAAAAAAAAAAAAAAAAAAAAAAAAAAAAAAAAAAAAAAAAAAAAAAAAAAAAAAAAAAAAAAAAAAAAAAAAAAAAAAAAAAAAAAAAAAAAAAAAAAAAAAAAAAAAAAAAAAAAAAAAAAAAAAAAAAAAAAAAAAAAAAAAAAAAAAAAAAAAAAAAAAAAAAAAAAAAAAAAAAAAAAAAAAAAAAAAAAAAAAAAAAAAAAAAAAAAAAAAAAAAAAAAAAAAAAAAAAAAAAAAAAAAAAAAAAAAAAAAAAAAAAAAAAAAAAAAAAAAAAAAAAAAAAAAAAAAAAAAAAAAAAAAAAAAAAAAAAAAAAAAAAAAAAAAAAAAAAAAAAAAAAAAAAAAAAAAAAAAAAAAAAAAAAAAAAAAAAAAAAAAAAAAAAAAAAAAAAAAAAAAAAAAAAAAAAAAAAAAAAAAAAAAAAAAAAAAAAAAAAAAAAAAAAAAAAAAAAAAAAAAAAAAAAAAAAAAAAAAAAAAAAAAAAAAAAAAAAAAAAAAAAADCk3kZCdF3mAlNh7YAAAAAAAAAAAAAAADrkUo3AoqvG+ePhpsXy463NeX9GgAAAAAAAAAAAAAAAAAAAAAAAAAAAAAAAAAAAAAAAAAAAAAAAAAAAAAAAAAAAAAAAAAAAAAAAAAAAAAAAAAAAAAAAAAAAAAAAAAAAAAAAAAAAAAAAAAAAAAAAAAAAAAAAAAAAAAAAAAAAAAAAAAAAAAAAAAAAAAAAAAAAAAAAAAAAAAAAAAAAAAAAAAAAAAAAAAAAAAAAAAAAAAAAAAAAAAAAAAAAAAAAAAAAAAAAAAAAAAAAAAAAAAAAAAAAAAAAAAAAAAAAAAAAAAAAAAAAAAAAAAAAAAAAAAAAAAAAAAAAAAAAAAAAAAAAAAAAAAAAAAAAAAAAAAAAAAAAAAAAAAAAAAAAAAAAAAAAAAAAAAAAAAAAAAAAAAAAAAAAAAAAAAAAAAAAAAAAAAAAAAAAAAAAAAAAAAAAAAAAAAAAAAAAAAAAAAAAAAAAAAAAAAAAAAAAAAAAAAAAAAAAAAAAAAAAAAAAAAAAAAAAAAAAAAAAAAAAO0pCRrfpkC55mkEOQAAAAAAAAAAAAAAAHsDs5tgfSschP2zubQ/DDpzn0C5AAAAAAAAAAAAAAAAAAAAAAAAAAAAAAAAAAAAAAAAAAAAAAAAAAAAAAAAAAAAAAAAAAAAAF8JoKHR/ZGXWGDgIANhD6OkxYq7+2IaHJDDGB0GQIG4Q32DoMz2MqHv2HWmfx6KvPwiBCUAAAAAAAAAAC78tZjBdzGceByytQAAAAAAAAAAAAAAAJvX3RjCUSqZQ5+WIq9S0rYGvY+fAAAAAAAAAAAj7Uia36ZAOeZpBDkAAAAAAAAAAAAAAAC+BLObaXkbmoT9szm0Pww6c59AOQAAAAAAAAAAAAAAAAAAAAAAAAAAAAAAAAAAAAAAAAAAAAAAAAAAAAAAAAAAAAAAAAAAAAAAAAAAAAAAAAAAAAAAAAAAAAAAAAAAAAAAAAAAAAAAAAAAAAAAAAAAAAAAAAAAAAAAAAAAAAAAAAAAAAAAAAAAAAAAAAAAAAAAAAAAAAAAAAAAAAAAAAAAAAAAAAAAAAAAAAAAAAAAAAAAAAAAAAAAAAAAAAAAAAAAAAAAAAAAAAAAAAAAAAAAAAAAAAAAAAAAAAAAAAAAAAAAAAAAAAAAAAAAAAAAAAAAAAAAAAAAAAAAAAAAAAAAAAAAAAAAAAAAAAAAAAAAAAAAAAAAAAAAAAAAAAAAAAAAAAAAAAAAAAAAAAAAAAAAAAAAAAAAAAAAAAAAAAAAAAAAAAAAAAAAAAAAAAAAAAAAAAAAAAAAAAAAAAAAAAAAAAAAAAAAAAAAAAAAAAAAAAAAAAAAAAAAAAAAAAAAAAAAAAAAAAAAAKe/gpqRRkwZCU2HtgAAAAAAAAAAAAAAAOuRSrf5LteamFaWmxfLjreJi3gbAAAAAAAAAAAAAAAAAAAAAAAAAAAAAAAAAAAAAAAAAAAAAAAAAAAAAAAAAAAAAAAAAAAAAAAAAAAAAAAAAAAAAAAAAAAAAAAAAAAAAAAAAAAAAAAAAAAAAAAAAAAAAAAAAAAAAAAAAAAAAAAAAAAAAAAAAAAAAAAAAAAAAAAAAAAAAAAAAAAAAAAAAAAAAAAAAAAAAAAAAAAAAAAAAAAAAAAAAAAAAAAAAAAAAAAAAAAAAAAAAAAAAAAAAAAAAAAAAAAAAAAAAAAAAAAAAAAAAAAAAAAAAAAAAAAAAAAAAAAAAAAAAAAAAAAAAAAAAAAAAAAAAAAAAAAAAAAAAAAAAAAAAAAAAAAAAAAAAAAAAAAAAAAAAAAAAAAAAAAAAAAAAAAAAAAAAAAAAAAAAAAAAAAAAAAAAAAAAAAAAAAAAAAAAAAAAAAAAAAAAAAAAAAAAAAAAAAAAAAAAAAAAAAAAAAAAAAAAAAAAAAAAAAAAAAAAAAAAAAAAAAAAAAAAAAAAAAAAAAAAAAAAAAAAAAAAAAAAAAAAAAAAAAAAAAAAAAAAAAAAAAAAAAAAAAAAAAAAAAAAAAAAAAAAAAAAAAAAAAAAAAAAAAAAAAAAAAAAAAAAAAAAAAAAAAAAAAAAAAAAAAAAAAAAAAAAAAAAAAAAAAAAAAAAAAAAAAAAAAAAAAAAAAAAAAAAAAAAAAAAAAAAAAAAAAAAAAAAAAAAAAAAAAAAAAAAAAAAAAAAAAAAAAAAAAAAAAAAAAAAAAAAAAAAAAAAAAAAAAAAAAAAAAAAAAAAAAAAAAAAAAAAAAAAAAAAAAAAAAAAAAAAAAAAAAAAAAAAAAAAAAAAAAAAAAAAAAAAAAAAAAAAAAAAAAAAAAAAAAAAAAAAAAAAAAAAAAAAAAAAAAAAAAAAAAAAAAAAAAAAAAAAAAAAAAAAAAAAAAAAAAAAAAAAAAAAAAAAAAAAAAAAAAAAAAAAAAAAAAAAAAAAAAAAAAAAAAAAAAAAAAAAAAAAAAAAAAAAAAAAAAAAAAAAAAAAAAAAAAAAAAAAAAAAAAAAAAAAAAAAAAAAAAAAAAAAAAAAAAAAAAAAAAAAAAAAAAAAAAAAAAAAAAAAAAAAAAAAAAAAAAAAAAAAAAAAAAAAAAAAAAAAAAAAAAAAAAAAAAAAAAAAAAAAAAAAAAAAAAAAAAAAAAAAAAAAAAAAAAAAAAAAAAAAAAAAAAAAAAAAAAAAAAAAAAAAAAAAAAAAAAAAAAAAAAAAAAAAAAAAAAAAAAAAAAAAAAAAAAAAAAAAAAAAAAAAAAAAAAAAAAAAAAAAAAAAAAAAAAAAAAAAAAAAAAAAAAAAAAAAAAAAAAAAAAAAAAAAAAAAAAAAAAAAAAAAAAAAAAAAAAAAAAAAAAAAAAAAAAAAAAAAAAAAAAAAAAAAAAAAAAAAAAAAAAAAAAAAAAAAAAAAAAAAAAAAAAAAAAAAAAAAAAAAAAAAAAAAAAAAAAAAAAAAAAAAAAAAAAAAAAAAAAAAAAAAAAAAAAAAAAAAAAAAAAAAAAAAAAAAAAAAAAAAAAAAAAAAAAAAAAAAAAAAAAAAAAAAAAAAAAAAAAAAAAAAAAAAAAAAAAAAAAAAAAAAAAAAAAAAAAAAAAAAAAAAAAAAAAAAAAAAAAAAAAAAAAAAAAAAAAAAAAAAAAAAAAAAAAAAAAAAAAAAAAAAAAAAAAAAAAAAAAAAAAAAAAAAAAAAAAAAAAAAAAAAAAAAAAAAAAAAAAAAAAAAAAAAAAAAAAAAAAAAAAAAAAAAAAAAAAAAAAAAAAAAAAAAAAAAAAAAAAAAAAAAAAAAAAAAAAAAAAAAAAAAAAAAAAAAAAAAAAAAAAAAAAAAAAAAAAAAAAAAAAAHNd7uwAAAAB5xVs8fxO3u7TAPzwEspk4cur7t2cqlzjBVgC9XWR4PABpbTzZPlc8O22gO0VfYLoAAAAAl4bLO4lty7vE6Ks7oPBOMaDwTrEj2k4x4MVGvDT/azwKuKi6jelGPEc/FDs5PQcktFxYI9keVaRD2RAkwkg7vdZzJaP9jhgjfd3bvIoqST08mZAkoJZpJOqDAr1R2Kcil7pDoq3Z8h5dKmwixQ2ao4wMUbzbmHMgjUaooAR2GrvO09I8eb5QJDD5QKPtXNW8QptsIxzXezsAAAAAecVbvH8Ttzu0wD88BLKZuHLq+zdnKpc4wVYAvV1keLwAaW282T5XPDttoLtFX2A6AAAAAJeGy7uJbcs7xOirO6DwTrGg8E4xI9pOMeDFRrw0/2u8CrioOo3pRjxHPxS7AAAAAAAAAAAAAAAAAAAAAAAAAAAAAAAAAAAAAAAAAAAAAAAAAAAAAAAAAAAAAAAAAAAAAAAAAAAAAAAAAAAAAAAAAAAAAAAAAAAAAAAAAAAAAAAAAAAAAAAAAAAAAAAAAAAAAAAAAAAAAAAAAAAAAAAAAAAAAAAAAAAAAAAAAAAAAAAAAAAAAAAAAAAAAAAAAAAAAAAAAAAAAAAAAAAAAAAAAAAAAAAAAAAAAAAAAAAAAAAAAAAAAAAAAAAAAAAAAAAAAAAAAAAAAAAAAAAAAEOpir6iAE2+lJicJHy4M74QzX8+IV64pABt8L3hpWI+fM2dJbUeIKURAgq+4MriPd2h/DzGuRS9WEPLuw6UuKOWXZK9qjtMPThrXaJJ3sa8u8itPKp+nCPDYQUjQWaSvTF7tz0f/fS84rn0p14q6ibwAMynffS1KKOa97+u/FInqe7zpzYmH8BaASQnxdpQqCkIiCoLZOM+9DPFqUM0GCYgGgykUZtuJVb1lSWq3SK+D/AXJHSLWCQe8dq9Z8zEJMmJxiXCYBCp7SBmvkRVuidDqYo+ogBNPpGIiyV8uDM+EM1/Pg2yJqUAbfA94aViPtjU0CXm1SwlEQIKPuDK4j3dofy8xrkUPVhDyzsT6UUjll2SPao7TD3ccD4fSd7GPLvIrTxb/NAjomOdI0Fmkj0xe7c9H/30PAAAAAAAAAAAAAAAAAAAAAAAAAAAAAAAAAAAAAAAAAAAAAAAAAAAAAAAAAAAAAAAAAAAAAAAAAAAAAAAAAAAAAAAAAAAAAAAAAAAAAAAAAAAAAAAAAAAAAAAAAAAAAAAAAAAAAAAAAAAAAAAAAAAAAAAAAAAAAAAAAAAAAAAAAAAAAAAAAAAAAAAAAAAAAAAAAAAAAAAAAAAAAAAAAAAAAAAAAAAAAAAAAAAAAAAAAAAAAAAAAAAAAAAAAAAAAAAAAAAAAAAAAAAAAAAAAAAAAAc13u7AAAAAHnFW7x/E7e7tMA/PASymbhy6vu3ZyqXOMFWAD1dZHi8AGltPNk+Vzw7baA7RV9gugAAAACXhsu7iW3Lu8Toqzug8E6xoPBOsSPaTjHgxUY8NP9rvAq4qLqN6UY8Rz8UO2w28CMX1Y0jc6zGo6bs2KPCSDu9GocDojJtDSJ93du8iipJvfVmjqUEwVUi6oMCve5AHKR72Nah6/Nlni3adaJifOWjjAxRvEezoqDU+vaeBHYau87T0rxuVJqiNyqUo+1c1bxswesjHNd7OwAAAAB5xVs8fxO3O7TAPzwEspk4cur7N2cqlzjBVgA9XWR4PABpbbzZPlc8O22gu0VfYDoAAAAAl4bLO4ltyzvE6Ks7oPBOMaDwTjEj2k4x4MVGPDT/azwKuKg6jelGPEc/FLsAAAAAAAAAAAAAAAAAAAAAAAAAAAAAAAAAAAAAAAAAAAAAAAAAAAAAAAAAAAAAAAAAAAAAAAAAAAAAAAAAAAAAAAAAAAAAAAAAAAAAAAAAAAAAAAAAAAAAAAAAAAAAAAAAAAAAAAAAAAAAAAAAAAAAAAAAAAAAAAAAAAAAAAAAAAAAAAAAAAAAAAAAAAAAAAAAAAAAAAAAAAAAAAAAAAAAAAAAAAAAAAAAAAAAAAAAAAAAAAAAAAAAAAAAAAAAAAAAAAAAAAAAAAAAAAAAAAAAAAAAAAAAAAAAAAAAAAAAAAAAAAAAAAAAAAAAAAAAAAAAAAAAAAAAAAAAAAAAAAAAAAAAAAAAAAAAAAAAAAAAAAAAAAAAAAAAAAAAAAAAAAAAAAAAAAAAAAAAAAAAAAAAAAAAAAAAAAAAAAAAAAAAAAAAAAAAAAAAAAAAAAAAAAAAAAAAAAAAAAAAAAAAAAAAAAAAAAAAAAAAAAAAAAAAAAAAAAAAAAAAAAAAAAAAAAAAAAAAAAAAAAAAAAAAAAAAAAAAAAAAAAAAAAAAAAAAAAAAAAAAAAAAAAAAAAAAAAAAAAAAAAAAAAAAAAAAAAAAAAAAAAAAAAAAAAAAAAAAAAAAAAAAAAAAAAAAAAAAAAAAAAAAAAAAAAAAAAAAAAAAAAAAAAAAAAAAAAAAAAAAAAAAAAAAAAAAAAAAAAAAAAAAAAAAAAAAAAAAAAAAAAAAAAAAAAAAAAAAAAAAAAAAAAAAAAAAAAAAAAAAAAAAAAAAAAAAAAAAAAAAAAAAAAAAAAAAAAAAAAAAAAAAAAAAAAAAAAAAAAAAAAAAAAAAAAAAAAAAAAAAAAAAAAAAAAAAAAAAAAAAAAAAAAAAAAAAAAAAAAAAAAAAAAAAAAAAAAAAAAAAAAAAAAAAAAAAAAAAAAAAAAAAAAAAAAAAAAAAAAAAAAAAAAAAAAAAAAAAAAAAAAAAAAAAAAAAAAAAAAAAAAAAAAAAAAAAAAAAAAAAAAAAAAAAAAAAAAAAAAAAAAAAAAAAAAAAAAAAAAAAAAAAAAAAAAAAAAAAAAAAAAAAAAAAAAAAAAAAAAAAAAAAAAAAAAAAAAAAAAAAAAAAAAAAAAAAAAAAAAAAAAAAAAAAAAAAAAAAAAAAAAAAAAAAAAAAAAAAAAAAAAAAAAAAAAAAAAAAAAAAAAAAAAAAZDOrHGmYgRdPTbK1AAAAAAAAAAAAAAAAtonSNrbD+xkm/r0cKiEWMVvhGh0AAAAAAAAAAAAAAAAAAAAAAAAAAAAAAAAAAAAAAAAAAAAAAAAAAAAAAAAAAAAAAAAAAAAAAAAAAAAAAAAAAAAAAAAAAAAAAAAAAAAAAAAAAAAAAAAAAAAAAAAAAAAAAAAAAAAAAAAAAAAAAAAAAAAAAAAAAAAAAAAAAAAAAAAAAAAAAAAAAAAAAAAAAAAAAAAAAAAAAAAAAAAAAAAAAAAAAAAAAAAAAAAAAAAAAAAAAAAAAAAAAAAAAAAAAAAAAAAAAAAAAAAAAAAAAAAAAAAAAAAAAAAAAAAAAAAAAAAAAAAAAAAAAAAAAAAAAAAAAAAAAAAAAAAAAAAAAAAAAAAAAAAAAAAAAAAAAAAAAAAAAAAAAAAAAAAAAAAAAAAAAAAAAAAAAAAAAAAAAAAAAAAAAAAAAAAAAACj/5q6AAAAAHRv6zvA44s77fvROwAAAAAAAAAAAAAAAFCvlbyTY0i8QVTQO0YwMrw9BxY7FnsDvWReybuBlGc9HUCnOF9CJT3kQbo8Zx47NsMZpzzHjH290h6OuUcGLD0DFeq467kOPa/WFKOt4DMiDprjoQJ0tCPSHtS8jrHcom2JASH6djK8oJQpPaKTuaS7D5ojAdruPEu6+SNrJ+SkxqcMJWsoqyabG18jaj2ZvUDfiySPTGukdZevvfpfTb1HNfajYEpAppPaLzuN1VWmo/+aOgAAAAB0b+u7wOOLu+370TsAAAAAAAAAAAAAAABQr5W8k2NIPEFU0LtGMDK8PQcWuxZ7Az1kXsk7gZRnvR1Ap7hfQiU95EG6vGceO7bDGac8x4x9vdIejjlHBiy9AxXquOu5Dr0AAAAAAAAAAAAAAAAAAAAAAAAAAAAAAAAAAAAAAAAAAAAAAAAAAAAAAAAAAAAAAAAAAAAAAAAAAAAAAAAAAAAAAAAAAAAAAAAAAAAAAAAAAAAAAAAAAAAAAAAAAAAAAAAAAAAAAAAAAAAAAAAAAAAAAAAAAAAAAAAAAAAAAAAAAAAAAAAAAAAAAAAAAAAAAAAAAAAAAAAAAAAAAADGtyQwAAAAAJ6/xhsZfZq1IIqAuQAAAAAAAAAAAAAAAOSushxNV/0XEBSluReVpTYBgw869/MBvmh9mL1vQ5WkH2/0PYIKDD5UBRGkN3iOPf6n0j3m2/Qkxtr5pJcKn73Sb8C9eKipvLVS8r6qw/u+g4oqpn+dyDx3poE+MDYfpkTHlzzJ/OA+dt8qpc8/JCTtPJK+OsQZvZfjvD738wE+aH2YPQgH7SQfb/S9ggoMPmngvyM3eI69/qfSPaIEuCRD/r6klwqfPdJvwL14qKk8tVLyPqrD+z6gwJamf53IvHemgT6q6iOlRMeXvMn84D6KlJGmMeNeJe08kj46xBm9l+O8vgAAAAAAAAAAAAAAAAAAAAAAAAAAAAAAAAAAAAAAAAAAAAAAAAAAAAAAAAAAAAAAAAAAAADGtySwAAAAAAg1mRsZfZo1IIqAuQAAAAAAAAAAAAAAAAxTJR2m/NKXEBSlOReVpTYBgw+6AAAAAAAAAAAAAAAAAAAAAAAAAAAAAAAAAAAAAAAAAAAAAAAAAAAAAAAAAAAAAAAAAAAAAAAAAAAAAAAAAAAAAAAAAAAAAAAAAAAAAAAAAAAAAAAAAAAAAAAAAAAAAAAAAAAAAAAAAACj/5q6AAAAAHRv67vA44s77fvROwAAAAAAAAAAAAAAAFCvlTyTY0g8QVTQO0YwMrw9BxY7FnsDvWReybuBlGe9HUCnOF9CJT3kQbq8Zx47NsMZpzzHjH090h6OOUcGLD0DFeq467kOPWiHSKJ8e9sh7f7tolrMTyLSHtS8cCHmIbqghKL6djK8oJQpvSd4/iQ0tlGhAdruPIbszCI/C84kjck2pc7vnSV54gAjaj2ZvUx/2CRtMHajdZevvfpfTT1bzhumheE4JpPaLzvNZQclo/+aOgAAAAB0b+s7wOOLu+370TsAAAAAAAAAAAAAAABQr5U8k2NIvEFU0LtGMDK8PQcWuxZ7Az1kXsk7gZRnPR1Ap7hfQiU95EG6PGceO7bDGac8x4x9PdIejrlHBiy9AxXquOu5Dr0AAAAAAAAAAAAAAAAAAAAAAAAAAAAAAAAAAAAAAAAAAAAAAAAAAAAAAAAAAAAAAAAAAAAAAAAAAAAAAAAAAAAAAAAAAAAAAAAAAAAAAAAAAAAAAAAAAAAAAAAAAAAAAAAAAAAAAAAAAAAAAAAAAAAAAAAAAAAAAAAAAAAAAAAAAAAAAAAAAAAAAAAAAAAAAAAAAAAAAAAAAAAAAAAAAAAAAAAAAAAAAAAAAAAAAAAAAAAAAAAAAAAAAAAAAAAAAAAAAAAAAAAAAAAAAAAAAAAAAAAAAAAAAAAAAAAAAAAAAAAAAAAAAAAAAAAAAAAAAAAAAAAAAAAAAAAAAAAAAAAAAAAAAAAAAAAAAAAAAAAAAAAAAAAAAAAAAAAAAAAAAAAAAAAAAAAAAAAAAAAAAAAAAAAAAAAAAAAAAAAAAAAAAAAAAAAAAAAAAAAAAAAAAAAAAAAAAAAAAAAAAAAAAAAAAAAAAAAAAAAAAAAAAAAAAAAAAAB51xqc61tgl09NsrUAAAAAAAAAAAAAAAC2idK2tvzGmjs+NBwqIRYxrUQFHQAAAAAAAAAAAAAAAAAAAAAAAAAAAAAAAAAAAAAAAAAAAAAAAAAAAAAAAAAAAAAAAAAAAAAAAAAAAAAAAAAAAAAAAAAAAAAAAAAAAAAAAAAAAAAAAAAAAAAAAAAAAAAAAAAAAAAAAAAAAAAAAAAAAAAAAAAAAAAAAAAAAAAAAAAAAAAAAAAAAAAAAAAAAAAAAAAAAAAAAAAAAAAAAAAAAAAAAAAAAAAAAAAAAAAAAAAAAAAAAAAAAAAAAAAAAAAAAAAAAAAAAAAAAAAAAAAAAAAAAAAAAAAAAAAAAAAAAAAAAAAAAAAAAAAAAAAAAAAAAAAAAAAAAAAAAAAAAAAAAAAAAAAAAAAAAAAAAAAAAAAAAAAAAAAAAAAAAAAAAAAAAAAAAAAAAAAAAAAAAAAAAAAAAAAAAAAAAAAAAAAAAAAAAAAAAAAAAAAAAAAAAAAAAAAAAAAAAAAAAAAAAAAAAAAAAAAAAAAAAAAAAAAAAAAAAAAAAAAAAAAAAAAAAAAAAAAAAAAAAAAAAAAAAAAAAAAAAAAAAAAAAAAAAAAAAAAAAAAAAAAAAAAAAAAAAAAAAAAAAAAAAAAAAAAAAAAAAAAAAAAAAAAAAAAAAAAAAAAAAAAAAAAAAAAAAAAAAAAAAAAAAAAAAAAAAAAAAAAAAAAAAAAAAAAAAAAAAAAAAAAAAAAAAAAAAAAAAAAAAAAAAAAAAAAAAAAAAAAAAAAAAAAAAAAAAAAAAAAAAAAAAAAAAAAAAAAAAAAAAAAAAAAAAAAAAAAAAAAAAAAAAAAAAAAAAAAAAAAAAAAAAAAAAAAAAAAAAAAAAAAAAAAAAAAAAAAAAAAAAAAAAAAAAAAAAAAAAAAAAAAAAAAAAAAAAAAAAAAAAAAAAAAAAAAAAAAAAAAAAAAAAAAAAAAAAAAAAAAAAAAAAAAAAAAAAAAAAAAAAAAAAAAAAAAAAAAAAAAAAAAAAAAAAAAAAAAAAAAAAAAAAAAAAAAAAAAAAAAAAAAAAAAAAAAAAAAAAAAAAAAAAAAAAAAAAAAAAAAAAAAAAAAAAAAAAAAAAAAAAAAAAAAAAAAAAAAAAAAAAAAAAAAAAAAAAAAAAAAAAAAAAAAAAAAAAAAAAAAAAAAAAAAAAAAAAAAAAAAAAAAAAAAAAAAAAAAAAAAAAAAAAAAAAAAAAAAAAAAASGpgugAAAACXhss7ojfLO8Toqzuu704xru9OMTHZTjF420a8nc1rvBdLproLwEa8lE0UOwAAAAAAAAAAAAAAAAAAAAAAAAAAAAAAAAAAAAAAAAAAAAAAAAAAAAAAAAAAAAAAAAAAAABFd3Ciw8swn1bZuCHdACojjAxRvBfLUqA2DdygdPIau6L61Dx4aB2k+N+Vo72A0zzEVTIiAAAAAAAAAAAAAAAAAAAAAAAAAAAAAAAAAAAAAAAAAAAAAAAAAAAAAAAAAAAAAAAAAAAAAEhqYDoAAAAAl4bLu6I3y7vE6Ks7ru9Osa7vTrEx2U4xeNtGvJ3NazwXS6Y6C8BGvJRNFLsAAAAAAAAAAAAAAAAAAAAAAAAAAAAAAAAAAAAAAAAAAAAAAAAAAAAAAAAAAAAAAAAAAAAAAAAAAAAAAAAAAAAAAAAAAAAAAAAAAAAAAAAAAAAAAAAAAAAAAAAAAAAAAAAAAAAAAAAAAAAAAAAAAAAAAAAAAAAAAAAAAAAAAAAAAAAAAAAAAAAAAAAAAAAAAAAAAAAAAAAAAAAAAAAAAAAAAAAAAAAAAAAAAAAAAAAAAAAAAAAAAAAAAAAAAAAAAAAAAAAAAAAAAAAAAAAAAAAAAAAAAAAAAAAAAAAAAAAAAAAAAAAAAAAAAAAAAAAAAAAAAAAAAAAAAAAAAAAAAAAAAAAAAGcUEb0AtM27rYEEI0tDij2qO0w9GMyBIdO8xzxR5648VuRXJCCq5SQcWXq95c2xvafNAb24TDucAAAAAEhgmR4k56SgKvm2uQAAAAAAAAAAtk+AMYE2Mx97gTyfzLOMpWyL2zqGhIEjg2ADJP1npaTDXFukKnb8JKrdIr6AS3Mk0RMWpV1eBb4NTYaiYtrjJSgPCikn0zg+M1G/pwAAAAAAAAAAAAAAAAAAAAAAAAAAAAAAAAAAAAAAAAAAAAAAAAAAAAAAAAAAAAAAAAAAAABnFBE9ALTNOxhShyNLQ4q9qjtMPdxHSaHTvMe8UeeuPEhixyN6YAAkHFl6PeXNsb2nzQE9AAAAAAAAAAAAAAAAAAAAAAAAAAAAAAAAAAAAAAAAAAAAAAAAAAAAAAAAAAAAAAAAAAAAAAAAAAAAAAAAAAAAAAAAAAAAAAAAAAAAAAAAAAAAAAAAAAAAAAAAAAAAAAAAAAAAAAAAAAAAAAAAAAAAAAAAAAAAAAAAAAAAAAAAAAAAAAAAAAAAAAAAAAAAAAAAAAAAAAAAAAAAAAAAAAAAAAAAAAAAAAAAAAAAAAAAAAAAAAAAAAAAAAAAAAAAAAAAAAAAAAAAAAAAAAAAAAAAAAAAAAAAAAAAAAAAAAAAAAAAAAAAAAAAAAAAAAAAAAAAAAAAAAAAAAAAAAAAAAAAAAAAAABIamC6AAAAAJeGy7uiN8s7xOirO67vTrGu704xMdlOMXjbRjydzWs8F0umugvARryUTRQ7AAAAAAAAAAAAAAAAAAAAAAAAAAAAAAAAAAAAAAAAAAAAAAAAAAAAAAAAAAAAAAAAAAAAAEJz/SHTPCsemRnSowADnKGMDFG8qRm1n8YkyZ908hq7ovrUvGZNMKOr8OkgvYDTPIy3ESMAAAAAAAAAAAAAAAAAAAAAAAAAAAAAAAAAAAAAAAAAAAAAAAAAAAAAAAAAAAAAAAAAAAAASGpgOgAAAACXhss7ojfLu8Toqzuu704xru9OsTHZTjF420Y8nc1rvBdLpjoLwEa8lE0UuwAAAAAAAAAAAAAAAAAAAAAAAAAAAAAAAAAAAAAAAAAAAAAAAAAAAAAAAAAAAAAAAAAAAAAAAAAAAAAAAAAAAAAAAAAAAAAAAAAAAAAAAAAAAAAAAAAAAAAAAAAAAAAAAAAAAAAAAAAAAAAAAAAAAAAAAAAAAAAAAAAAAAAAAAAAAAAAAAAAAAAAAAAAAAAAAAAAAAAAAAAAAAAAAAAAAAAAAAAAAAAAAAAAAAAAAAAAAAAAAAAAAAAAAAAAAAAAAAAAAAAAAAAAAAAAAAAAAAAAAAAAAAAAAAAAAAAAAAAAAAAAAAAAAAAAAAAAAAAAAAAAAAAAAAAAAAAAAAAAAAAAAAAAAAAAAAAAAAAAAAAAAAAAAAAAAAAAAAAAAAAAAAAAAAAAAAAAAAAAAAAAAAAAAAAAAAAAAAAAAAAAAAAAAAAAAAAAAAAAAAAAAAAAAAAAAAAAAAAAAAAAAAAAAAAAAAAAAAAAAAAAAAAAAAAAAAAAAAAAAAAAAAAAAAAAAAAAAAAAAAAAAAAAAAAAAAAAAAAAAAAAAAAAAAAAAAAAAAAAAAAAAAAAAAAAAAAAAAAAAAAAAAAAAAAAAAAAAAAAAAAAAAAAAAAAAAAAAAAAAAAAAAAAAAAAAAAAAAAAAAAAAAAAAAAAAAAAAAAAAAAAAAAAAAAAAAAAAAAAAAAAAAAAAAAAAAAAAAAAAAAAAAAAAAAAAAAAAAAAAAAAAAAAAAAAAAAAAAAAAAAAAAAAAAAAAAAAAAAAAAAAAAAAAAAAAAAAAAAAAAAAAAAAAAAAAAAAAAAAAAAAAAAAAAAAAAAAAAAAAAAAAAAAAAAAAAAAAAAAAAAAAAAAAAAAAAAAAAAAAAAAAAAAAAAAAAAAAAAAAAAAAAAAAAAAAAAAAAAAAAAAAAAAAAAAAAAAAAAAAAAAAAAAAAAAAAAAAAAAAAAAAAAAAAAAAAAAAAAAAAAAAAAAAAAAAAAAAAAAAAAAAAAAAAAAAAAAAAAAAAAAAAAAAAAAAAAAAAAAAAAAAAAAAAAAAAAAAAAAAAAAAAAAAAAAAAAAAAAAAAAAAAAAAAAAAAAAAAAAAAAAAAAAAAAAAAAAAAAAAAAAAAAAAAAAAAAAAAAAAAAAAAAAAAAAAAAAAAAAAAAAAAAAAAAAAAAAAAAAAAAAAAAAAAAAAAAAAAAAAAAAAAAAAAAAAAAAAAAAAAAAAAAAAAAAAAAAAAAAAAAAAAAAAAAAAAAAAAAAAAAAAAAAAAAAAAAAAAAAAAAAAAAAAAAAAAAAAAAAAAAAAAAAAAAAAAAAAAAAAAAAAAAAAAAAAAAAAAAAAAAAAAAAAAAAAAAAAAAAAAAAAAAAAAAAAAAAAAAAAAAAAAAAAAAAAAAAAAAAAAAAAAAAAAAAAAAAAAAAAAAAAAAAAAAAAAAAAAAAAAAAAAAAAAAAAAAAAAAAAAAAAAAAAAAAAAAAAAAAAAAAAAAAAAAAAAAAAAAAAAAAAAAAAAAAAAAAAAAAAAAAAAAAAAAAAAAAAAAAAAAAAAAAAAAAAAAAAAAAAAAAAAAAAAAAAAAAAAAAAAAAAAAAAAAAAAAAAAAAAAAAAAAAAAAAAAAAAAAAAAAAAAAAAAAAAAAAAAAAAAAAAAAAAAAAAAAAAAAAAAAAAAAAAAAAAAAAAAAAAAAAAAAAAAAAAAAAAAAAAAAAAAAAAAAAAAAAAAAAAAAAAAAAAAAAAAAAAAAAAAAAAAAAAAAAAAAAAAAAAAAAAAAAAAAAAAAAAAAAAAAAAAAAAAAAAAAAAAAAAAAAAAAAAAAAAAAAAAAAAAAAAAAAAAAAAAAAAAAAAAAAAAAAAAAAAAAAAAAAAAAAAAAAAAAAAAAAAAAAAAAAAAAAAAAAAAAAAAAAAAAAAAAAAAAAAAAAAAAAAAAAAAAAAAAAAAAAAAAAAAAAAAAAAAAAAAAAAAAAAAAAAAAAAAAAAAAAAAAAAAAAAAAAAAAAAAAAAAAAAAAAAAAAAAAAAAAAAAAAAAAAAAAAAAAAAAAAAAAAAAAAAAAAAAAAAAAAAAAAAAAAAAAAAAAAAAAAAAAAAAAAAAAAAAAAAAAAAAAAAAAAAAAAAAAAAAAAAAAAAAAAAAAAAAAAAAAAAAAAAAAAAAAAAAAAAAAAAAAAAAAAAAAAAAAAAAAAAAAAAAAAAAAAAAAAAAAAAAAAAAAAAAAAAAAAAAAAAAAAAAAAAAAAAAAAAAAAAAAAAAAAAAAAAAAAAAAAAAAAAAAAAAAAAAAAAAAAAAAAAAAAAAAAAAAAAAAAAAAAAAAAAAAAAAAAAAAAAAAAAAAAAAAAAAAAAAAAAAAAAAAAAAAAAAAAAAAAAAAAAAAAAAAAAAAAAAAAAAAAAAAAAAAAAAAAAAAAAAAAAAAAAAAAAAAAAAAAAAAAAAAAAAAAAAAAAAAAAAAAAAAAAAAAAAAAAAAAAAAAAAAAAAAAAAAAAAAAAAAAAAAAAAAAAAAAAAAAAAAAAAAAAAAAAAAAAAAAAAAAAAAAAAAAAAAAAAAAAAAAAAAAAAAAAAAAAAAAAAAAAAAAAAAAAAAAAAAAAAAAAAAAAAAAAAAAAAAAAAbzjRmowysbeByytQAAAAAAAAAAAAAAAOO38Rdg7reag/KQom5V0jaCIHEfAAAAAAAAAAAAAAAAAAAAAAAAAAAAAAAAAAAAAAAAAAAAAAAAAAAAAAAAAAAAAAAAAAAAAAAAAAAAAAAAAAAAAAAAAAAAAAAAAAAAAAAAAAAAAAAAAAAAAAAAAAAAAAAAAAAAAAAAAAAAAAAAAAAAAAAAAAAAAAAAAAAAAAAAAAAAAAAAAAAAAAAAAAAAAAAAAAAAAAAAAAAAAAAAAAAAAAAAAAAAAAAAAAAAAAAAAAAAAAAAAAAAAAAAAAAAAAAAAAAAAAAAAAAAAAAAAAAAAAAAAAAAAAAAAAAAAAAAAAAAAAAAAAAAAAAAAAAAAAAAAAAAAAAAAAAAAAAAAAAAAAAAAAAAAAAAAAAAAAAAAAAAAAAAAAAAAAAAAAAAAAAAAAAAAAAAAAAAAAAAAAAAAAAAAAAAAAAAAAAAAAAAAAAAAAAAAAAAAAAAAAAAAAAAAAAAAAAAAAAAAAAAAAAAAAAAAAAAAAAAAAAAAAAAAAAAAAAAAAAAAAAAAAAAAAAAAAAAAAAAAAAAAAAAAAAAAAAAAAAAAAAAAAAAAAAAAAAAAAAAAAAAAAAAAAAAAAAAAAAAAAAAAAAAAAAAAAAAAAAAAAAAAAAAAAAAAAAAAAAAAAAAAAAAAAAAAAAAAAAAAAAAAAAAAAAAAAAAAAAAAAAAAAAAAAAAAAAAAAAAAAAAAAAAAAAAAAAAAAAAAAAAAAAAAAAAAAAAAAAAAAAAAAAAAAAAAAAAAAAAAAAAAAAAAAAAAAAAAAAAAAAAAAAAAAAAAAAAAAAAAAAAAAAAAAAAAAAAAAAAAAAAAAAAAAAAAAAAAAAAAAAAAAAAAAAAAAAAAAAAAAAAAAAAAAAAAAAAAAAAAAAAAAAAAAAAAAAAAAAAAAAAAAAAAAAAAAAAAAAAAAAAAAAAAAAAAAAAAAAAAAAAAAAAAAAAAAAAAAAAAAAAAAAAAAAAAAAAAAAAAAAAAAAAAAAAAAAAAAAAAAAAAAAAAAAAAAAAAAAAAAAAAAAAAAAAAAAAAAAAAAAAAAAAAAAAAAAAAAAAAAAAAAAAAAAAAAAAAAAAAAAAAAAAAAAAAAAAAAAAAAAAAAAAAAAAAAAAAAAAAAAAAAAAAAAAAAAAAAAAAAAAAAAAAAAAAAAAAAAAAAAAAAAAAAAAAAAAAAAAAAAAAAAAAAAAAAAAAAAAAAAAAAAAAAAAAAAAAAAAAAAAAAAAAAAAAAAAAAAAAAAAAAAAAAAAAAAAAAAAAAAAAAAAAAAAAAAAAAAAAAAAAAAAAAAAAAAAAAAAAAAAAAAAAAAAAAAAAAAAAAAAAAAAAAAAAAAAAAAAAAAAAAAAAAAAAAAAAAAAAAAAAAAAAAAAAAAAAAAAAAAAAAAAAAAAAAAAAAAAAAAAAAAAAAAAAAAAAAAAAAAAAAAAAAAAAAAAAAAAAAAAAAAAAAAAAAAAAAAAAAAAAAAAAAAAAAAAAAAAAAAAAAAAAAAAAAAAAAAAAAAAAAAAAAAAAAAAAAAAAAAAAAAAAAAAAAAAAAAAAAAAAAAAAAAAAAAAAAAAAAAAAAAAAAAAAAAAAAAAAAAAAAAAAAAAAAAAAAAAAAAAAAAAAAAAAAAAAAAAAAAAAAAAAAAAAAAAAAAAAAAAAAAAAAAAAAAAAAAAAAAAAAAAAAAAAAAAAAAAAAAAPnUHJvlSaSWScSO/twbWptehXqWL5g2/3RLxJhMf3CW3hQeprDR6PlDiGCX3qS0n58gzpTx7lylrU0OopRz+Pw7/KSgg7O6ngytMQA4V/yimYdOoP2mDqHhUAT+uhDioUzyhJz4l5CcAAAAAAAAAAAAAAAAAAAAAAAAAAAAAAAAAAAAAAAAAAAAAAAAAAAAAAAAAAAAAAAAAAAAAAAAAAAAAAAAAAAAAAAAAAAAAAAAAAAAAAAAAAAAAAAAAAAAAAAAAAAAAAAAAAAAAAAAAAAAAAAAAAAAAAAAAAAAAAAAAAAAAAAAAAAAAAAAAAAAAAAAAAAAAAAAAAAAAAAAAAAAAAAAAAAAAAAAAAAAAAAAAAAAAAAAAAAAAAAAAAAAAAAAAAAAAAAAAAAAAAAAAAAAAAAAAAAAAAAAAAAAAAAAAAAAAAAAAAAAAAAAAAAAAAAAAAAAAAAAAAAAAAAAAAAAAAAAAAAAAAAAAAAAAAAAAAAAAAAAAAAAAAAAAAAAAAAAAAAAAAAAAAAAAAAAAAAAAAAAAAAAAAAAAAAAAAAAAAAAAAAAAAAAAAAAAAAAAAAAAAAAAAAAAAAAAAAAAAAAAAAAAAAAAAAAAAAAAAAAAAAAAAAAAAAAAAAAAAAAAAAAAAAAAAAAAAAAAAAAAAAAAAAAAAAAAAAAAAAAAAAAAAAAAAAAAAAAAAAAAAAAAAAAAAAAAAAAAAAAAAAAAAAAAAAAAAAAAAAAAAAAAAAAAAAAAAAAAAAAAAAAAAAAAAAAAAAAAAAAAAAAAAAAAAAAAAAAAAAAAAAAAAAAAAAAAAAAAAAAAAAAAAAAAAAAAAAAAAAAAAAAAAAAAAAAAAAAAAAAAAAAAAAAAAAAAAAAAAAAAAAAAAAAAAAAAAAAAAAAAAAAAAAAAAAAAAAAAAAAAAAAAAAAAAAAAAAAAAAAAAAAAAAAAAAAAAAAAAAAAAAAAAAAAAAAAAAAAAAAAAAAAAAAAAAAAAAAAAAAAAAAAAAAAAAAAAAAAAAAAAAAAAAAAAAAAAAAAAAAAAAAAAAAAAAAAAAAAAAAAAAAAAAAAAAAAAAAAAAAAAAAAAAAAAAAAAAAAAAAAAAAAAAAAAAAAAAAAAAAAAAAAAAAAAAAAAAAAAAAAAAAAAAAAAAAAAAAAAAAAAAAAAAAAAAAAAAAAAAAAAAAAAAAAAAAAAAAAAAAAAAAAAAAAAAAAAAAAAAAAAAAAAAAAAAAAAAAAAAAAAAAAAAAAAAAAAAAAAAAAAAAAAAAAAAAAAAAAAAAAAAAAAAAAAAAAAAAAAAAAAAAAAAAAAAAAAAAAAAAAAAAAAAAAAAAAAAAAAAAAAAAAAAAAAAAAAAAAAAAAAAAAAAAAAAAAAAAAAAAAAAAAAAAAAAAAAAAAAAAAAAAAAAAAAAAAAAAAAAAAAAAAAAAAAAAAAAAAAAAAAAAAAAAAAAAAAAAAAAAAAAAAAAAAAAAAAAAAAAAAAAAAAAAAAAAAAAAAAAAAAAAAAAAAAAAAAAAAAAAAAAAAAAAAAAAAAAAAAAAAAAAAAAAAAAAAAAAAAAAAAAAAAAAAAAAAAAAAAAAAAAAAAAAAAAAAAAAAAAAAAAAAAAAAAAAAAAAAAAAAAAAAAAAAAAAAAAAAAAAAAAAAAAAAAAAAAAAAAAAAAAAAAAAAAAAAAAAAAAAAAAAAAAAAAAAAAAAAAAAAAAAAAAAAAAAAAAAAAAAAAAAAAAAAAAAAAAAAAAAAAAAAAAAAAAAAAAAAAAAAAAAAAAAAAAAAAAAAAAAAAAAAAAAAAAAAAAAAAAAAAAAAAAAAAAAAAPaqFrYqjQEaaajlFwAAAAAAAAAAAAAAAKUHCiAtSEW3r5DwmsMMr5mBSbqXAAAAAAAAAAAAAAAAAAAAAAAAAAAAAAAAAAAAAAAAAAAAAAAAAAAAAAAAAAAAAAAAAAAAAAAAAAAAAAAAAAAAAAAAAAAAAAAAAAAAAAAAAAAAAAAAAAAAAAAAAAAAAAAAAAAAAAAAAAAAAAAAAAAAAAAAAAAAAAAAAAAAAAAAAAAAAAAAAAAAAAAAAAAAAAAAAAAAAAAAAAAAAAAAAAAAAAAAAAAAAAAAAAAAAAAAAAAAAAAAAAAAAAAAAAAAAAAAAAAAAAAAAAAAAAAAAAAAAAAAAAAAAAAAAAAAAAAAAAAAAAAAAAAAAAAAAAAAAAAAAAAAAAAAAAAAAAAAAAAAAAAAAAAAAAAAAAAAAAAAAAAAAAAAAAAAAAAAAAAAAAAAAAAAAAAAAAAAAAAAAAAAAAAAAAAAAAAAAAAAAAAAAAAAAAAAAAAAAAAAAAAAAAAAAAAAAAAAAAAAAAAAAAAAAAAAAAAAAAAAAAAAAAAAAAAAAAAAAAAAAAAAAAAAAAAAAAAAAAAAAAAAAAAAAAAAAAAAAAAAAAAAAAAAAAAAAAAAAAAAAAAAAAAAAAAAAAAAAAAAAAAAAAAAAAAAAAAAAAAAAAAAAAAAAAAAAAAAAAAAAAAAAAAAAAAAAAAAAAAAAAAAAAAAAAAAAAAAAAAAAAAAAAAAAAAAAAAAAAAAAAAAAAAAAAAAAAAAAAAAAAAAAAAAAAAAAAAAAAAAAAAAAAAAAAAAAAAAAAAAAAAAAAAAAAAAAAAAAAAAAAAAAAAAAAAAAAAAAAAAAAAAAAAAAAAAAAAAAAAAAAAAAAAAAAAAAAAAAAAAAAAAAAAAAAAAAAAAAAAAAAAAAAAAAAAAAAAAAAAAAAAAAAAAAAAAAAAAAAAAAAAAAAAAAAAAAAAAAAAAAAAAAAAAAAAAAAAAAAAAAAAAAAAAAAAAAAAAAAAAAAAAAAAAAAAAAAAAAAAAAAAAAAAAAAAAAAAAAAAAAAAAAAAAAAAAAAAAAAAAAAAAAAAAAAAAAAAAAAAAAAAAAAAAAAAAAAAAAAAAAAAAAAAAAAAAAAAAAAAAAAAAAAAAAAAAAAAAAAAAAAAAAAAAAAAAAAAAAAAAAAAAAAAAAAAAAAAAAAAAAAAAAAAAAAAAAAAAAAAAAAAAAAAAAAAAAAAAAAAAAAAAAAAAAAAAAAAAAAAAAAAAAAAAAAAAAAAAAAAAAAAAAAAAAAAAAAAAAAAAAAAAAAAAAAAAAAAAAAAAAAAAAAAAAAAAAAAAAAAAAAAAAAAAAAAAAAAAAAAAAAAAAAAAAAAAAAAAAAAAAAAAAAAAAAAAAAAAAAAAAAAAAAAAAAAAAAAAAAAAAAAAAAAAAAAAAAAAAAAAAAAAAAAAAAAAAAAAAAAAAAAAAAAAAAAAAAAAAAAAAAAAAAAAAAAAAAAAAAAAAAAAAAAAAAAAAAAAAAAAAAAAAAAAAAAAAAAAAAAAAAAAAAAAAAAAAAAAAAAAAAAAAAAAAAAAAAAAAAAAAAAAAAAAAAAAAAAAAAAAAAAAAAAAAAAAAAAAAAAAAAAAAAAAAAAAAAAAAAAAAAAAAAAAAAAAAAAAAAAAAAAAAAAAAAAAAAAAAAAAAAAAAAAAAAAAAAAAAAAAAAAAAAAAAAAAAAAAAAAAAAAAAAAAAAAAAAAAAAAAAAAAAAAAAAAAAAAAAAAAAAAAAAAAAAAAAAAAAAAAAAAAAAAAAAAAAAAAAAAAAAAAAAAAAAAAAAAAAAAAAAAAAAAAAAAAAAAAAAAAAAAAAAAAAAAAAAAAAAAAAAAAAAAAAAAAAAAAAAAAAAAAAAAAAAAAAAAAAAAAAAAAAAAAAAAAAAAAAAAAAAAAAAAAAAAAAAAAAAAAAAAAAAAAAAAAAAAAAAAAAAAAAAAAAAAAAAAAAAAAAAAAAAAAAAAAAAAAAAAAAAAAAAAAAAAAAAAAAAAAAAAAAAAAAAAAAAAAAAAAAAAAAAAAAAAAAAAAAAAAAAAAAAAAAAAAAAAAAAAAAAAAAAAAAAAAAAAAAAAAAAAAAAAAAAAAAAAAAAAAAAAAAAAAAAAAAAAAAAAAAAAAAAAAAAAAAAAAAAAAAAAAAAAAAAAAAAAAAAAAAAAAAAAAAAAAAAAAAAAAAAAAAAAAAAAAAAAAAAAAAAAAAAAAAAAAAAAAAAAAAAAAAAAAAAAAAAAAAAAAAAAAAAAAAAAAAAAAAAAAAAAAAAAAAAAAAAAAAAAAAAAAAAAAAAAAAAAAAAAAAAAAAAAAAAAAAAAAAAAAAAAAAAAAAAAAAAAAAAAAAAAAAAAAAAAAAAAAAAAAAAAAAAAAAAAAAAAAAAAAAAAAAAAAAAAAAAAAAAAAAAAAAAAAAAAAAAAAAAAAAAAAAAAAAAAAAAAAAAAAAAAAAAAAAAAAAAAAAAAAAAAAAAAAAAAAAAAAAAAAAAAAAAAAAAAAAAAAAAAAAAAAAAAAAAAAAAAAAAAAAAAAAAAAAAAAAAAAAAAAAAAAAAAAAAAAAAAAAAAAAAAAAAAAAAAAAAAAAAAAAAAAAAAAAAAAAAAAAAAAAAAAAAAAAAAAAAAAAAAAAAAAAAAAAAAAAAAAAAAAAAAAAAAAAAAAAAAAAAAAAAAAAAAAAAAAAAAAAAAAAAAAAAAAAAAAAAAAAAAAAAAAADHZTjGu706xru9OMQAAAAAAAAAAAAAAAGNhQbJjYUEyDzMWrKVxQTK4E4Ks0UXqvAI6trXGGuk9soZTva7mIqJPu3M7cm/MulYlgJ2ywxwji7k2PnXghD0I+teizw5HPo6nn7oAAAAAUeeuPBicwLypGbWfAAAAAAAAAAAAAAAAr+QJoSkshT1p0Me87YdsodtM8DwAAAAAAAAAAAAAAAAAAAAAAAAAAAAAAAAAAAAAAAAAAAAAAAAAAAAAAAAAAAAAAAAAAAAAAAAAAAAAAAAx2U4xru9Osa7vTrEAAAAAAAAAAAAAAABjYUEyY2FBMg8zFqylcUGyuBOCrAAAAAAAAAAAAAAAAAAAAAAAAAAAAAAAAAAAAAAAAAAAAAAAAAAAAAAAAAAAAAAAAAAAAAAAAAAAAAAAAAAAAAAAAAAAAAAAAAAAAAAAAAAAAAAAAAAAAAAAAAAAAAAAAAAAAAAAAAAAAAAAAAAAAAAAAAAAAAAAAAAAAAAAAAAAAAAAAAAAAAAAAAAAAAAAAAAAAAAAAAAAAAAAAAAAAAAAAAAAAAAAAAAAAAAAAAAAAAAAAAAAAAAAAAAAAAAAAAAAAAAAAAAAAAAAAAAAAAB30GegBvcBFRZkPbzNXZGdscllIe/2srji2a+cUasoHK6COD2RjJe8hXLookKLYyPKYvii668lnQAAAAB08hq7hFg7oNxHSaEAAAAAAAAAAAAAAADFTuk74wjou8F8FKDuHqsiBhtPIVqauycpxv6myJMAwO9HzKiyPFKmi4sMwCsIuKfPWi4ngs4KqgQQGj/zJsknSgFTKClWrCb2YvwkfNj6oV1eBb5F7k0kgEtzJEMY9LyjNwskbr8Los3/OiXHuM2+d8JQpr3aVaSGWBkkiuhfn+vYlBMWZD28eg8CojkqzqLv9rK4/IGsGnDhJhyugji9kYyXvFxgASOQ/A6jRo2EIrCaqZwAAAAAdPIau4gzg6EYzIEhAAAAAAAAAAAAAAAAxU7pu+MI6Lt98HAgfaf2oej+96AAAAAAAAAAAAAAAAAAAAAAAAAAAAAAAAAAAAAAAAAAAAAAAAAAAAAAAAAAAAAAAAAAAAAAAAAAAAAAAAAAAAAAAAAAAAAAAAAAAAAAAAAAAAAAAAAAAAAAAAAAAAAAAAAAAAAAAAAAAAAAAAAAAAAAAAAAAAAAAAAAAAAAAAAAAAAAAAAAAAAAAAAAAAAAAAAAAAAAAAAAAAAAAAAAAAAAAAAAAAAAAAAAAAAAAAAAAAAAAAAAAAAAAAAAAAAAAAAAAAAAAAAAAAAAAAAAAAAAAAAAAAAAAAAAAAAAAAAAAAAAAAAAAAAAAAAAAAAAAAAAAAAAAAAAAAAAAAAAAAAAAAAAAAAAAAAAAAAAMdlOMa7vTjGu706xAAAAAAAAAAAAAAAAY2FBsmNhQTIPMxYspXFBsrgTgizRReo8Ajq2NcYa6T2yhlM9vR4poU+7cztyb8w6R96mHYFHvKKLuTY+deCEvQrUhiLPDke+jqefOgAAAABR5648GJzAPBfLUqAAAAAAAAAAAAAAAADz2fugKSyFPWnQxzzsZ0og20zwvAAAAAAAAAAAAAAAAAAAAAAAAAAAAAAAAAAAAAAAAAAAAAAAAAAAAAAAAAAAAAAAAAAAAAAAAAAAAAAAADHZTjGu704xru9OMQAAAAAAAAAAAAAAAGNhQTJjYUEyDzMWLKVxQTK4E4IsAAAAAAAAAAAAAAAAAAAAAAAAAAAAAAAAAAAAAAAAAAAAAAAAAAAAAAAAAAAAAAAAAAAAAAAAAAAAAAAAAAAAAAAAAAAAAAAAAAAAAAAAAAAAAAAAAAAAAAAAAAAAAAAAAAAAAAAAAAAAAAAAAAAAAAAAAAAAAAAAAAAAAAAAAAAAAAAAAAAAAAAAAAAAAAAAAAAAAAAAAAAAAAAAAAAAAAAAAAAAAAAAAAAAAAAAAAAAAAAAAAAAAAAAAAAAAAAAAAAAAAAAAAAAAAAAAAAAAAAAAAAAAAAAAAAAAAAAAAAAAAAAAAAAAAAAAAAAAAAAAAAAAAAAAAAAAAAAAAAAAAAAAAAAAAAAAAAAAAAAAAAAAAAAAAAAAAAAAAAAAAAAAAAAAAAAAAAAAAAAAAAAAAAAAAAAAAAAAAAAAAAAAAAAAAAAAAAAAAAAAAAAAAAAAAAAAAAAAAAAAAAAAAAAAAAAAAAAAAAAAAAAAAAAAAAAAAAAAAAAAAAAAAAAAAAAAAAAAAAAAAAAAAAAAAAAAAAAAAAAAAAAAAAAAAAAAAAAAAAAAAAAAAAAAAAAAAAAAAAAAAAAAAAAAAAAAAAAAAAAAAAAAAAAAAAAAAAAAAAAAAAAAAAAAAAAAAAAAAAAAAAAAAAAAAAAAAAAAAAAAAAAAAAAAAAAAAAAAAAAAAAAAAAAAAAAAAAAAAAAAAAAAAAAAAAAAAAAAAAAAAAAAAAAAAAAAAAAAAAAAAAAAAAAAAAAAAAAAAAAAAAAAAAAAAAAAAAAAAAAAAAAAAAAAAAAAAAAAAAAAAAAAAAAAAAAAAAAAAAAAAAAAAAAAAAAAAAAAAAAAAAAAAAAAAAAAAAAAAAAAAAAAAAAAAAAAAAAAAAAAAAAAAAAAAAAAAAAAAAAAAAAAAAAAAAAAAAAAAAAAAAAAAAAAAAAAAAAAAAAAAAAAAAAAAAAAAAAAAAAAAAAAAAAAAAAAAAAAAAAAAAAAAAAAAAAAAAAAAAAAAAAAAAAAAAAAAAAAAAAAAAAAAAAAAAAAAAAAAAAAAAAAAAAAAAAAAAAAAAAAAAAAAAAAAAAAAAAAAAAAAAAAAAAAAAAAAAAAAAAAAAAAAAAAAAAAAAAAAAAAAAAAAAAAAAAAAAAAAAAAAAAAAAAAAAAAAAAAAAAAAAAAAAAAAAAAAAAAAAAAAAAAAAAAAAAAAAAAAAAAAAAAAAAAAAAAAAAAAAAAAAAAAAAAAAAAAAAAAAAAAAAAAAAAAAAAAAAAAAAAAAAAAAAAAAAAAAAAAAAAAAAAAAAAAAAAAAAAAAAAAAAAAAAAAAAAAAAAAAAAAAAAAAAAAAAAAAAAAAAAAAAAAAAAAAAAAAAAAAAAAAAAAAAAAAAAAAAAAAAAAAAAAAAAAAAAAAAAAAAAAAAAAAAAAAAAAAAAAAAAAAAAAAAAAAAAAAAAAAAAAAAAAAAAAAAAAAAAAAAAAAAAAAAAAAAAAAAAAAAAAAAAAAAAAAAAAAAAAAAAAAAAAAAAAAAAAAAAAAAAAAAAAAAAAAAAAAAAAAAAAAAAAAAAAAAAAAAAAAAAAAAAAAAAAAAAAAAAAAAAAAAAAAAAAAAAAAAAAAAAAAAAAAAAAAAAAAAAAAAAAAAAAAAAAAAAAAAAAAAAAAAAAAAAAAAAAAAAAAAAAAAAAAAAAAAAAAAAAAAAAAAAAAAAAAAAAAAAAAAAAAAAAAAAAAAAAAAAAAAAAAAAAAAAAAAANkdn7oAAAAAwxmnPC2MyzXkQbo8AAAAAAAAAAAAAAAAWF9/vTcqmLaPjRM91D2ptlfz5bsJIt67AAAAAMdpQT36rvg8cLXHoRuPGjcweLc2hCWUFnh3ciKs7uC9ZrgEPJSmMyKiyq09d691vvA/m73J/OA+D9haO0x/2CTtjYY++4cguIPw+qKFlpykMc9jvNRcaT69lLQkQszQPgAAAAAAAAAAAAAAAAAAAAAAAAAAAAAAAAAAAAAAAAAAAAAAAAAAAAAAAAAAAAAAAAAAAADZHZ+6AAAAAMMZpzwtjMs15EG6vAAAAAAAAAAAAAAAAFhffz03Kpi2j40TPdQ9qTZX8+W7AAAAAAAAAAAAAAAAAAAAAAAAAAAAAAAAAAAAAAAAAAAAAAAAAAAAAAAAAAAAAAAAAAAAAAAAAAAAAAAAAAAAAAAAAAAAAAAAAAAAAAAAAAAAAAAAAAAAAAAAAAAAAAAAAAAAAAAAAAAAAAAAAAAAAAAAAAAAAAAAAAAAAAAAAAAAAAAAAAAAAAAAAAAAAAAAAAAAAAAAAAAAAAAAAAAAAAAAAAAAAAAAAAAAAAAAAAAAAAAAAAAAAAAAAAAAAAAAAAAAAAAAAAAAAAAAAAAAALCKwZ4AAAAA2YqFu6SSQyBJ4bOg8Rdas5nUfhZ1494WaU2DPLElGzyFkC8gMOXQIbNpraG7MWKjSA4sonWXr71aiskhquojpTbouby49a8hUhEHo3J4eT5TG3A6sI0Cpoz2sCSzlwEmbYy0nQAAAADZioW7rMm+H8Cz5KDxF1qz3A4DFuZsfJZpTYO8sSUbPMOL0CGEHYMhK8MNoaPIpqO8C4uhdZevvfYcA6MwNh+mNui5vHU2aCFFVDCjcnh5vlMbcDpG9rAl5AIuJYFJ2qUAAAAAAAAAAAAAAAAAAAAAAAAAAAAAAAAAAAAAAAAAAAAAAAAAAAAAAAAAAAAAAAAAAAAAAAAAAAAAAAAAAAAAAAAAAAAAAAAAAAAAAAAAAAAAAAAAAAAAAAAAAAAAAAAAAAAAAAAAAAAAAAAAAAAAAAAAAAAAAAAAAAAAAAAAAAAAAAAAAAAAAAAAAAAAAAAAAAAAAAAAAAAAAAAAAAAAAAAAAAAAAAAAAAAAAAAAAAAAAAAAAAAAAAAAAAAAAAAAAAAAAAAAAAAAAAAAAAAAAAAAAAAAAAAAAAAAAAAAAAAAAAAAAAAAAAAAAAAAAAAAAAAAAAAAAAAAAAAAAAAAAAAAANkdnzoAAAAAwxmnPC2My7XkQbq8AAAAAAAAAAAAAAAAWF9/vTcqmLaPjRO91D2pNlfz5TsJIt47AAAAAMdpQT36rvi8t7D3IRuPGjcweLe2Mp4HlKoSriKs7uC9ZrgEvHpvUKKiyq29d691PvA/mz3J/OA+D9hau0DfiyTtjYY++4cgODPdT6Lzc2elMc9jvNRcab5gYm2kQszQvgAAAAAAAAAAAAAAAAAAAAAAAAAAAAAAAAAAAAAAAAAAAAAAAAAAAAAAAAAAAAAAAAAAAADZHZ86AAAAAMMZpzwtjMu15EG6PAAAAAAAAAAAAAAAAFhffz03Kpi2j40TvdQ9qbZX8+U7AAAAAAAAAAAAAAAAAAAAAAAAAAAAAAAAAAAAAAAAAAAAAAAAAAAAAAAAAAAAAAAAAAAAAAAAAAAAAAAAAAAAAAAAAAAAAAAAAAAAAAAAAAAAAAAAAAAAAAAAAAAAAAAAAAAAAAAAAAAAAAAAAAAAAAAAAAAAAAAAAAAAAAAAAAAAAAAAAAAAAAAAAAAAAAAAAAAAAAAAAAAAAAAAAAAAAAAAAAAAAAAAAAAAAAAAAAAAAAAAAAAAAAAAAAAAAAAAAAAAAAAAAAAAAAAAAAAAAAAAAAAAAAAAAAAAAAAAAAAAAAAAAAAAAAAAAAAAAAAAAAAAAAAAAAAAAAAAAAAAAAAAAAAAAAAAAAAAAAAAAAAAAAAAAAAAAAAAAAAAAAAAAAAAAAAAAAAAAAAAAAAAAAAAAAAAAAAAAAAAAAAAAAAAAAAAAAAAAAAAAAAAAAAAAAAAAAAAAAAAAAAAAAAAAAAAAAAAAAAAAAAAAAAAAAAAAAAAAAAAAAAAAAAAAAAAAAAAAAAAAAAAAAAAAAAAAAAAAAAAAAAAAAAAAAAAAAAAAAAAAAAAAAAAAAAAAAAAAAAAAAAAAAAAAAAAAAAAAAAAAAAAAAAAAAAAAAAAAAAAAAAAAAAAAAAAAAAAAAAAAAAAAAAAAAAAAAAAAAAAAAAAAAAAAAAAAAAAAAAAAAAAAAAAAAAAAAAAAAAAAAAAAAAAAAAAAAAAAAAAAAAAAAAAAAAAAAAAAAAAAAAAAAAAAAAAAAAAAAAAAAAAAAAAAAAAAAAAAAAAAAAAAAAAAAAAAAAAAAAAAAAAAAAAAAAAAAAAAAAAAAAAAAAAAAAAAAAAAAAAAAAAAAAAAAAAAAAAAAAAAAAAAAAAAAAAAAAAAAAAAAAAAAAAAAAAAAAAAAAAAAAAAAAAAAAAAAAAAAAAAAAAAAAAAAAAAAAAAAAAAAAAAAAAAAAAAAAAAAAAAAAAAAAAAAAAAAAAAAAAAAAAAAAAAAAAAAAAAAAAAAAAAAAAAAAAAAAAAAAAAAAAAAAAAAAAAAAAAAAAAAAAAAAAAAAAAAAAAAAAAAAAAAAAAAAAAAAAAAAAAAAAAAAAAAAAAAAAAAAAAAAAAAAAAAAAAAAAAAAAAAAAAAAAAAAAAAAAAAAAAAAAAAAAAAAAAAAAAAAAAAAAAAAAAAAAAAAAAAAAAAAAAAAAAAAAAAAAAAAAAAAAAAAAAAAAAAAAAAAAAAAAAAAAAAAAAAAAAAAAAAAAAAAAAAAAAAAAAAAAAAAAAAAAAAAAAAAAAAAAAAAAAAAAAAAAAAAAAAAAAAAAAAAAAAAAAAAAAAAAAAAAAAAAAAAAAAAAAAAAAAAAAAAAAAAAAAAAAAAAAAAAAAAAAAAAAAAAAAAAAAAAAAAAAAAAAAAAAAAAAAAAAAAAAAAAAAAAAAAAAAAAAAAAAAAAAAAAAAAAAAAAAAAAAAAAAAAAAAAAAAAAAAAAAAAAAAAAAAAAAAAAAAAAAAAAAAAAAAAAAAAAAAAAAAAAAAAAAAAAAAAAAAAAAAAAAAAAAAAAAAAAAAAAAAAAAAAAAAAAAAAAAAAAAAAAAAAAAAAAAAAAAAAAAAAAAAAAAAAAAAAAAAAAAAAAAAAAAAAAAAAAAAAAAAAAAAAAAAAAAAAAAAAAAAAAAAAAAAAAAAAAAAAAAAAAAAAAAAAAAAAAAAAAAAAAAAAAAAAAAAAAAAAAAAAAAAAAAAAAAAAAAAAAAAAAAAAAAAAAAAAAI9pOMZ/wTjGg8E4xAAAAAAAAAAAAAAAAYGJBsmBiQbLCMBasonJBsiQVgqwAAAAAAAAAAAAAAAAAAAAAAAAAAAAAAAAAAAAAAAAAAAAAAAAAAAAAAAAAAAAAAAAAAAAAOKufugAAAAC7yK08Um2/PEezoqAAAAAAAAAAAAAAAAD0t94hKS+EvVKmxrwDBfIh8JXuPAAAAAAAAAAAAAAAAAAAAAAAAAAAAAAAAAAAAAAAAAAAAAAAAAAAAAAAAAAAAAAAAAAAAAAAAAAAAAAAACPaTjGf8E4xoPBOsQAAAAAAAAAAAAAAAGBiQTJgYkGywjAWrKJyQTIkFYKsAAAAAAAAAAAAAAAAAAAAAAAAAAAAAAAAAAAAAAAAAAAAAAAAAAAAAAAAAAAAAAAAAAAAAAAAAAAAAAAAAAAAAAAAAAAAAAAAAAAAAAAAAAAAAAAAAAAAAAAAAAAAAAAAAAAAAAAAAAAAAAAAAAAAAAAAAAAAAAAAAAAAAAAAAAAAAAAAAAAAAAAAAAAAAAAAAAAAAAAAAAAAAAAAAAAAAAAAAAAAAAAAAAAAAAAAAAAAAAAAAAAAAAAAAAAAAAAAAAAAAAAAAAAAAAAAAAAAAAAAAAAAAAAAAAAAAAAAAAAAAAAAAAAAAAAAAAAAAAAAAAAAAAAAAAAAAAAAAAAAAAAAAAD2H4+dAAAAAAR2GrsZZMGf3HA+HwAAAAAAAAAAAAAAAFGK6DtxNec76JOfn7QZPaK05cmhAAAAAAAAAAAAAAAAAAAAAAAAAAAAAAAAAAAAAAAAAAAAAAAAAAAAAAAAAAAAAAAAAAAAALdR6aN3XIIhHvHavfta56UP8BckQxj0vH7cWqMMxRAj+IOhpa2Anz5ds4AmWr8NI8b2lCMAAAAAAAAAAAAAAAAAAAAAAAAAAAAAAAAAAAAAAAAAAAAAAAAAAAAAAAAAAAAAAAAAAAAAgMgGnQAAAAAEdhq7dtYVIThrXaIAAAAAAAAAAAAAAABRiui7cTXnO/PimB14f2IiMHRpIQAAAAAAAAAAAAAAAAAAAAAAAAAAAAAAAAAAAAAAAAAAAAAAAAAAAAAAAAAAAAAAAAAAAAAAAAAAAAAAAAAAAAAAAAAAAAAAAAAAAAAAAAAAAAAAAAAAAAAAAAAAAAAAAAAAAAAAAAAAAAAAAAAAAAAAAAAAAAAAAAAAAAAAAAAAAAAAAAAAAAAAAAAAAAAAAAAAAAAAAAAAAAAAAAAAAAAAAAAAAAAAAAAAAAAAAAAAAAAAAAAAAAAAAAAAAAAAAAAAAAAAAAAAAAAAAAAAAAAAAAAAAAAAAAAAAAAAAAAAAAAAAAAAAAAAAAAAAAAAAAAAAAAAAAAAAAAAAAAAAAAAAAAAAAAAAAAAAAAj2k4xn/BOsaDwTrEAAAAAAAAAAAAAAABgYkGyYGJBssIwFiyickEyJBWCLAAAAAAAAAAAAAAAAAAAAAAAAAAAAAAAAAAAAAAAAAAAAAAAAAAAAAAAAAAAAAAAAAAAAAA4q586AAAAALvIrTxSbb+825hzIAAAAAAAAAAAAAAAAMeXSCEpL4S9UqbGPNdtcKHwle68AAAAAAAAAAAAAAAAAAAAAAAAAAAAAAAAAAAAAAAAAAAAAAAAAAAAAAAAAAAAAAAAAAAAAAAAAAAAAAAAI9pOMZ/wTrGg8E4xAAAAAAAAAAAAAAAAYGJBMmBiQbLCMBYsonJBsiQVgiwAAAAAAAAAAAAAAAAAAAAAAAAAAAAAAAAAAAAAAAAAAAAAAAAAAAAAAAAAAAAAAAAAAAAAAAAAAAAAAAAAAAAAAAAAAAAAAAAAAAAAAAAAAAAAAAAAAAAAAAAAAAAAAAAAAAAAAAAAAAAAAAAAAAAAAAAAAAAAAAAAAAAAAAAAAAAAAAAAAAAAAAAAAAAAAAAAAAAAAAAAAAAAAAAAAAAAAAAAAAAAAAAAAAAAAAAAAAAAAAAAAAAAAAAAAAAAAAAAAAAAAAAAAAAAAAAAAAAAAAAAAAAAAAAAAAAAAAAAAAAAAAAAAAAAAAAAAAAAAAAAAAAAAAAAAAAAAAAAAAAAAAAAAAAAAAAAAAAAAAAAAAAAAAAAAAAAAAAAAAAAAAAAAAAAAAAAAAAAAAAAAAAAAAAAAAAAAAAAAAAAAAAAAAAAAAAAAAAAAAAAAAAAAAAAAAAAAAAAAAAAAAAAAAAAAAAAAAAAAAAAAAAAAAAAAAAAAAAAAAAAAAAAAAAAAAAAAAAAAAAAAAAAAAAAAAAAAAAAAAAAAAAAAAAAAAAAAAAAAAAAAAAAAAAAAAAAAAAAAAAAAAAAAAAAAAAAAAAAAAAAAAAAAAAAAAAAAAAAAAAAAAAAAAAAAAAAAAAAAAAAAAAAAAAAAAAAAAAAAAAAAAAAAAAAAAAAAAAAAAAAAAAAAAAAAAAAAAAAAAAAAAAAAAAAAAAAAAAAAAAAAAAAAAAAAAAAAAAAAAAAAAAAAAAAAAAAAAAAAAAAAAAAAAAAAAAAAAAAAAAAAAAAAAAAAAAAAAAAAAAAAAAAAAAAAAAAAAAAAAAAAAAAAAAAAAAAAAAAAAAAAAAAAAAAAAAAAAAAAAAAAAAAAAAAAAAAAAAAAAAAAAAAAAAAAAAAAAAAAAAAAAAAAAAAAAAAAAAAAAAAAAAAAAAAAAAAAAAAAAAAAAAAAAAAAAAAAAAAAAAAAAAAAAAAAAAAAAAAAAAAAAAAAAAAAAAAAAAAAAAAAAAAAAAAAAAAAAAAAAAAAAAAAAAAAAAAAAAAAAAAAAAAAAAAAAAAAAAAAAAAAAAAAAAAAAAAAAAAAAAAAAAAAAAAAAAAAAAAAAAAAAAAAAAAAAAAAAAAAAAAAAAAAAAAAAAAAAAAAAAAAAAAAAAAAAAAAAAAAAAAAAAAAAAAAAAAAAAAAAAAAAAAAAAAAAAAAAAAAAAAAAAAAAAAAAAAAAAAAAAAAAAAAAAAAAAAAAAAAAAAAAAAAAAAAAAAAAAAAAAAAAAAAAAAAAAAAAAAAAAAAAAAAAAAAAAAAAAAAAAAAAAAAAAAAAAAAAAAAAAAAAAAAAAAAAAAAAAAAAAAAAAAAAAAAAAAAAAAAAAAAAAAAAAAAAAAAAAAAAAAAAAAAAAAAAAAAAAAAAAAAAAAAAAAAAAAAAAAAAAAAAAAAAAAAAAAAAAAAAAAAAAAAAAAAAAAAAAAAAAAAAAAAAAAAAAAAAAAAAAAAAAAAAAAAAAAAAAAAAAAAAAAAAAAAAAAAAAAAAAAAAAAAAAAAAAAAAAAAAAAAAAAAAAAAAAAAAAAAAAAAAAAAAAAAAAAAAAAAAAAAAAAAAAAAAAAAAAAAAAAAAAAAAAAAAAAAAAAAAAAAAAAAAAAAAAAAAAAAAAAAAAAAAAAAAAAAAAAAAAAAAAAAAAAAAAAAAAAAAAAAAAAAAAAAAAAAAAAAAAAAAAAAAAAAAAAAAAAAAAAAAAAAAAAAAAAAAAAAAAAAAAAAAAAAAAAAAAAAAAAAAAAAAAAAAAAAAAAAAAAAAAAAAAAAAAAAAAAAAAAAAAAAAAAAAAAAAAAAAAAAAAAAAAAAAAAAAAAAAAAAAAAAAAAAAAAAAAAAAAAAAAAAAAAAAAAAAAAAAAAAAAAAAAAAAAAAAAAAAAAAAAAAAAAAAAAAAAAAAAAAAAAAAAAAAAAAAAAAAAAAAAAAAAAAAAAAAAAAAAAAAAAAAAAAAAAAAAAAAAAAAAAAAAAAAAAAAAAAAAAAAAAAAAAAAAAAAAAAAAAAAAAAAAAAAAAAAAAAAAAAAAAAAAAAAAAAAAAAAAAAAAAAAAAAAAAAAAAAAAAAAAAAAAAAAAAAAAAAAAAAAAAAAAAAAAAAAAAAAAAAAAAAAAAAAAAAAAAAAAAAAAAAAAAAAAAAAAAAAAAAAAAAAAAAAAAAAAAAAAAAAAAAAAAAAAAAAAAAAAAAAAAAAAAAAAAAAAAAAAAAAAAAAAAAAAAAAAAAAAAAAAAAAAAAAAAAAAAAAAAAAAAAAAAAAAAAAAAAAAAAAAAAAAAAAAAAAAAAAAAAAAAAAAAAAAAAAAAAAAAAAAAAAAAAAAAAAAAAAAAAAAAAAAAAAAAAAAAAAAAAAAAAAAAAAAAAAAAAAAAAAAAAAAAAAAAAAAAAAAAAAAAAAAAAAAAAAAAAAAAAAAAAAAAAAAAAAAAAAAAAAAAAAAAAAAAAAAAAAAAAAAAAAAAAAAAAAAAAAAAAAAAAAAAAAAAAAAAAAAAAAAAAAAAAAAAAAAAAAAAAAAAAAAAAAAAAAAAAAAAAAAAAAAAAAAAAAAAAAAAAAAAAAAAAAAAAAAAAAAAAAAAAAAAAAAAAAAAAAAAAAAAAAAAAAAAAAAAAAAAAAAAAAAAAAAAAAAAAAAAAAAAAAAAAAAAAAAAAAAAAAAAAAAAAAAAAAAAAAAAAAAAAAAAAAAAAAAAAAAAAAAAAAAAAAAAAAAAAAAAAAAAAAAAAAAAAAAAAAAAAAAAAAAAAAAAAAAAAAAAAAAAAAAAAAAAAAAAAAAAAAAAAAAAAAAAAAAAAAAAAAAAAAAAAAAAAAAAAAAAAAAAAAAAAAAAAAAAAAAAAAAAAAAAAAAAAAAAAAAAAAAAAAAAAAAAAAAAAAAAAAAAAAAAAAAAAAAAAAAAAAAAAAAAAAAAAAAAAAAAAAAAAAAAAAAAAAAAAAAAAAAAAAAAAAAAAAAAAAAAAAAAAAAAAAAAAAAAAAAAAAAAAAAAAAAAAAAAAAAAAAAAAAAAAAAAAAAAAAAAAAAAAAAAAAAAAAAAAAAAAAAAAAAAAAAAAAAAAAAAAAAAAAAAAAAAAAAAAAAAAAAAAAAAAAAAAAAAAAAAAAAAAAAAAAAAAAAAAAAAAAAAAAAAAAAAAAAAAAAAAAAAAAAAAAAAAAAAAAAAAAAAAAAAAAAAAAAAAAAAAAAAAAAAAAAAAAAAAAAAAAAAAAAAAAAAAAAAAAAAAAAAAAAAAAAAAAAAAAAAAAAAAAAAAAAAAAAAAAAAAAAAAAAAAAAAAAAAAAAAAAAAAAAAAAAAAAAAAAAAAAAAAAAAAAAAAAAAAAAAAAAAAAAAAAAAAAAAAAAAAAAAAAAAAAAAAAAAAAAAAAAAAAAAAAAAAAAAAAAAAAAAAAAAAAAAAAAAAAAAAAAAAAAAAAAAAAAAAAAAAAAAAAAAAAAAAAAAAAAAAAAAAAAAAAAAAAAAAAAAAAAAAAAAAAAAAAAAAAAAAAAAAAAAAAAAAAAAAAAAAAAAAAAAAAAAAAAAAAAAAAAAAAAAAAAAAAAAAAAAAAAAAAAAAAAAAAAAAAAAAAAAAAAAAAAAAAAAAAAAAAAAAAAAAAAAAAAAAAAAAAAAAAAAAAAAAAAAAAAAAAAAAAAAAAAAAAAAAAAAAAAAAAAAAAAAAAAAAAAAAAAAAAAAAAAAAAAAAAAAAAAAAAAAAAAAAAAAAAAAAAAAAAAAAAAAAAAAAAAAAAAAAAAAAAAAAAAAAAAAAAAAAAAAAAAAAAAAAAAAAAAAAAAAAAAAAAAAAAAAAAAAAAAAAAAAAAAAAAAAAAAAAAAAAAAAAAAAAAAAAAAAAAAAAAAAAAAAAAAAAAAAAAAAAAAAAAAAAAAAAAAAAAAAAAAAAAAAAAAAAAAAAAAAAAAAAAAAAAAAAAAAAAAAAAAAAAAAAAAAAAAAAAAAAAAAAAAAAAAAAAAAAAAAAAAAAAAAAAAAAAAAAAAAAAAAAAAAAAAAAAAAAAAAAAAAAAAAAAAAAAAAAAAAAAAAAAAAAAAAAAAAAAAAAAAAAAAAAAAAAAAAAAAAAAAAAAAAAAAAAAAAAAAAAAAAAAAAAAAAAAAAAAAAAAAAAAAAAAAAAAAAAAAAAAAAAAAAAAAAAAAAAAAAAAAAAAAAAAAAAAAAAAAAAAAAAAAAAAAAAAAAAAAAAAAAAAAAAAAAAAAAAAAAAAAAAAAAAAAAAAAAAAAAAAAAAAAAAAAAAAAAAAAAAAAAAAAAAAAAAAAAAAAAAAAAAAAAAAAAAAAAAAAAAAAAAAAAAAAAAAAAAAAAAAAAAAAAAF9ZKMCxFSnAx6xzJk6A/T/LsK8nR7dVJ/byE0DjuOkmXlIvp80xoia+f1w/KGY3Ks07aCzDneU/o3vSPzZOf6eEUA3Ax0HTpz7r9ihZM0a/5lOZqOl8Nado85coSMwtQGHWJiedhVqtAAAAAAAAAAAAAAAAAAAAAAAAAAAAAAAAAAAAAAAAAAAAAAAAAAAAAAAAAAAAAAAAAAAAAAAAAAAAAAAAAAAAAAAAAAAAAAAAAAAAAAAAAAAAAAAAAAAAAAAAAAAAAAAAAAAAAAAAAAAAAAAAAAAAAAAAAAAAAAAAAAAAAAAAAAAAAAAAAAAAAAAAAAAAAAAAAAAAAAAAAAAAAAAAAAAAAAAAAAAAAAAAAAAAAAAAAAAAAAAAAAAAAAAAAAAAAAAAAAAAAAAAAAAAAAAAAAAAAAAAAAAAAAAAAAAAAAAAAAAAAAAAAAAAAAAAAAAAAAAAAAAAAAAAAAAAAAAAAAAAAAAAAAAAAAAAAAAAAAAAAAAAAAAAAAAAAAAAAAAAAAAAAAAAAAAAAAAAAAAAAAAAAAAAAAAAAAAAAAAAAAAAAAAAAAAAAAAAAAAAAAAAAAAAAAAAAAAAAAAAAAAAAAAAAAAAAAAAAAAAAAAAAAAAAAAAAAAAAAAAAAAAAAAAAAAAAAAAAAAAAAAAAAAAAAAAAAAAAAAAAAAAAAAAAAAAAAAAAAAAAAAAAAAAAAAAAAAAAAAAAAAAAAAAAAAAAAAAAAAAAAAAAAAAAAAAAAAAAAAAAAAAAAAAAAAAAAAAAAAAAAAAAAAAAAAAAAAAAAAAAAAAAAAAAAAAAAAAAAAAAAAAAAAAAAAAAAAAAAAAAAAAAAAAAAAAAAAAAAAAAAAAAAAAAAAAAAAAAAAAAAAAAAAAAAAAAAAAAAAAAAAAAAAAAAAAAAAAAAAAAAAAAAAAAAAAAAAAAAAAAAAAAAAAAAAAAAAAAAAAAAAAAAAAAAAAAAAAAAAAAAAAAAAAAAAAAAAAAAAAAAAAAAAAAAAAAAAAAAAAAAAAAAAAAAAAAAAAAAAAAAAAAAAAAAAAAAAAAAAAAAAAAAAAAAAAAAAAAAAAAAAAAAAAAAAAAAAAAAAAAAAAAAAAAAAAAAAAAAAAAAAAAAAAAAAAAAAAAAAAAAAAAAAAAAAAAAAAAAAAAAAAAAAAAAAAAAAAAAAAAAAAAAAAAAAAAAAAAAAAAAAAAAAAAAAAAAAAAAAAAAAAAAAAAAAAAAAAAAAAAAAAAAAAAAAAAAAAAAAAAAAAAAAAAAAAAAAAAAAAAAAAAAAAAAAAAAAAAAAAAAAAAAAAAAAAAAAAAAAAAAAAAAAAAAAAAAAAAAAAAAAAAAAAAAAAAAAAAAAAAAAAAAAAAAAAAAAAAAAAAAAAAAAAAAAAAAAAAAAAAAAAAAAAAAAAAAAAAAAAAAAAAAAAAAAAAAAAAAAAAAAAAAAAAAAAAAAAAAAAAAAAAAAAAAAAAAAAAAAAAAAAAAAAAAAAAAAAAAAAAAAAAAAAAAAAAAAAAAAAAAAAAAAAAAAAAAAAAAAAAAAAAAAAAAAAAAAAAAAAAAAAAAAAAAAAAAAAAAAAAAAAAAAAAAAAAAAAAAAAAAAAAAAAAAAAAAAAAAAAAAAAAAAAAAAAAAAAAAAAAAAAAAAAAAAAAAAAAAAAAAAAAAAAAAAAAAAAAAAAAAAAAAAAAAAAAAAAAAAAAAAAAAAAAAAAAAAAAAAAAAAAAAAAAAAAAAAAAAAAAAAAAAAAAAAAAAAAAAAAAAAAAAAAAAAAAAAAAAAAAAAAAAAAAAAAAAAAAAAAAAAAAAAAAAAAAABtNWCaBfd+OXkWHJoAAAAAAAAAAAAAAADtcJ4ZmyR0Gz0BQDrTHGqjQ9m5nwAAAAAAAAAAAAAAAAAAAAAAAAAAAAAAAAAAAAAAAAAAAAAAAAAAAAAAAAAAAAAAAAAAAAAAAAAAAAAAAAAAAAAAAAAAAAAAAAAAAAAAAAAAAAAAAAAAAAAAAAAAAAAAAAAAAAAAAAAAAAAAAAAAAAAAAAAAAAAAAAAAAAAAAAAAAAAAAAAAAAAAAAAAAAAAAAAAAAAAAAAAAAAAAAAAAAAAAAAAAAAAAAAAAAAAAAAAAAAAAAAAAAAAAAAAAAAAAAAAAAAAAAAAAAAAAAAAAAAAAAAAAAAAAAAAAAAAAAAAAAAAAAAAAAAAAAAAAAAAAAAAAAAAAAAAAAAAAAAAAAAAAAAAAAAAAAAAAAAAAAAAAAAAAAAAAAAAAAAAAAAAAAAAAAAAAAAAAAAAAAAAAAAAAAAAAAAAAAAAAAAAAAAAAAAAAAAAAAAAAAAAAAAAAAAAAAAAAAAAAAAAAAAAAAAAAAAAAAAAAAAAAAAAAAAAAAAAAAAAAAAAAAAAAAAAAAAAAAAAAAAAAAAAAAAAAAAAAAAAAAAAAAAAAAAAAAAAAAAAAAAAAAAAAAAAAAAAAAAAAAAAAAAAAAAAAAAAAAAAAAAAAAAAAAAAAAAAAAAAAAAAAAAAAAAAAAAAAAAAAAAAAAAAAAAAAAAAAAAAAAAAAAAAAAAAAAAAAAAAAAAAAAAAAAAAAAAAAAAAAAAAAAAAAAAAAAAAAAAAAAAAAAAAAAAAAAAAAAAAAAAAAAAAAAAAAAAAAAAAAAAAAAAAAAAAAAAAAAAAAAAAAAAAAAAAAAAAAAAAAAAAAAAAAAAAAAAAAAAAAAAAAAAAAAAAAAAAAAAAAAAAAAAAAAAAAAAAAAAAAAAAAAAAAAAAAAAAAAAAAAAAAAAAAAAAAAAAAAAAAAAAAAAAAAAAAAAAAAAAAAAAAAAAAAAAAAAAAAAAAAAAAAAAAAAAAAAAAAAAAAAAAAAAAAAAAAAAAAAAAAAAAAAAAAAAAAAAAAAAAAAAAAAAAAAAAAAAAAAAAAAAAAAAAAAAAAAAAAAAAAAAAAAAAAAAAAAAAAAAAAAAAAAAAAAAAAAAAAAAAAAAAAAAAAAAAAAAAAAAAAAAAAAAAAAAAAAAAAAAAAAAAAAAAAAAAAAAAAAAAAAAAAAAAAAAAAAAAAAAAAAAAAAAAAAAAAAAAAAAAAAAAAAAAAAAAAAAAAAAAAAAAAAAAAAAAAAAAAAAAAAAAAAAAAAAAAAAAAAAAAAAAAAAAAAAAAAAAAAAAAAAAAAAAAAAAAAAAAAAAAAAAAAAAAAAAAAAAAAAAAAAAAAAAAAAAAAAAAAAAAAAAAAAAAAAAAAAAAAAAAAAAAAAAAAAAAAAAAAAAAAAAAAAAAAAAAAAAAAAAAAAAAAAAAAAAAAAAAAAAAAAAAAAAAAAAAAAAAAAAAAAAAAAAAAAAAAAAAAAAAAAAAAAAAAAAAAAAAAAAAAAAAAAAAAAAAAAAAAAAAAAAAAAAAAAAAAAAAAAAAAAAAAAAAAAAAAAAAAAAAAAAAAAAAAAAAAAAAAAAAAAAAAAAAAAAAAAAAAAAAAAAAAAAAAAAAAAAAAAAAAAAAAAAAAAAAAAAAAAAAAAAAAAAAAAAAAAAAAAAAAAAAAAAAAAAAAAAAAAAAAAAAAAAAAAAAAAAAAAAAAAAAAAAAAAAAAAAAAAAAAAAAAAAAAAAAAAAAAAAAAAAAAAAAAAAAAAAAAAAAAAAAAAAAAAAAAAAAAAAAAAAAAAAAAAAAAAAAAAAAAAAAAAAAAAAAAAAAAAAAAAAAAAAAAAAAAAAAAAAAAAAAAAAAAAAAAAAAAAAAAAAAAAAAAAAAAAAAAAAAAAAAAAAAAAAAAAAAAAAAAAAAAAAAAAAAAAAAAAAAAAAAAAAAAAAAAAAAAAAAAAAAAAAAAAAAAAAAAAAAAAAAAAAAAAAAAAAAAAAAAAAAAAAAAAAAAAAAAAAAAAAAAAAAAAAAAAAAAAAAAAAAAAAAAAAAAAAAAAAAAAAAAAAAAAAAAAAAAAAAAAAAAAAAAAAAAAAAAAAAAAAAAAAAAAAAAAAAAAAAAAAAAAAAAAAAAAAAAAAAAAAAAAAAAAAAAAAAAAAAAAAAAAAAAAAAAAAAAAAAAAAAAAAAAAAAAAAAAAAAAAAAAAAAAAAAAAAAAAAAAAAAAAAAAAAAAAAAAAAAAAAAAAAAAAAAAAAAAAAAAAAAAAAAAAAAAAAAAAAAAAAAAAAAAAAAAAAAAAAAAAAAAAAAAAAAAAAAAAAAAAAAAAAAAAAAAAAAAAAAAAAAAAAAAAAAAAAAAAAAAAAAAAAAAAAAAAAAAAAAAAAAAAAAAAAAAAAAAAAAAAAAAAAAAAAAAAAAAAAAAAAAAAAAAAAAAAAAAAAAAAAAAAAAAAAAAAAAAAAAAAAAAAAAAAAAAAAAAAAAAAAAAAAAAAAAAAAAAAAAAAAAAAAAAAAAAAAAAAAAAAAAAAAAAAAAAAAAAAAAAAAAAAAAAAAAAAAAAAAAAAAAAAAAAAAAAAAAAAAAAAAAAAAAAAAAAAAAAAAAAAAAAAAAAAAAAAAAAAAAAAAAAAAAAAAAAAAAAAAAAAAAAAAAAAAAAAAAAAAAAAAAAAAAAAAAAAAAAAAAAAAAAAAAAAAAAAAAAAAAAAAACu706xMdlOMa7vTrEAAAAAAAAAAAAAAACmcUEyY2FBsu4ylqxjYUGyt+qbFk8zPzzRUxU1x6dSvdOtGDwrhHIhgDvMuk4UEToXVVkdWMDLIs3sDb1bD3O9MamCobTUyb0esp86AAAAANO8x7wFFbE8xiTJnwAAAAAAAAAAAAAAABVLdCKyr4i9AwtGPDzlqCHxTxq9AAAAAAAAAAAAAAAAAAAAAAAAAAAAAAAAAAAAAAAAAAAAAAAAAAAAAAAAAAAAAAAAAAAAAAAAAAAAAAAAru9OsTHZTjGu704xAAAAAAAAAAAAAAAApnFBsmNhQbLuMpasY2FBMrNem5gAAAAAAAAAAAAAAAAAAAAAAAAAAAAAAAAAAAAAAAAAAAAAAAAAAAAAAAAAAAAAAAAAAAAAAAAAAAAAAAAAAAAAAAAAAAAAAAAAAAAAAAAAAAAAAAAAAAAAAAAAAAAAAAAAAAAAAAAAAAAAAAAAAAAAAAAAAAAAAAAAAAAAAAAAAAAAAAAAAAAAAAAAAAAAAAAAAAAAAAAAAAAAAAAAAAAAAAAAAAAAAAAAAAAAAAAAAAAAAAAAAAAAAAAAAAAAAAAAAAAAAAAAAAAAAAAAAAAATzM/PNFTFTWxJtqg060YPMenUr0MONSbThQROoA7zLr+Ys4ipqFFIlsPc73N7A29tNTJPR6ynzoAAAAA4tqBoQUVsTzTvMe8AAAAAAAAAAAAAAAAJPakoWOljaEDC0Y8sq+IvfFPGj3In91Af+zyQDNmCChwsGZActsAp/wWaqiEFY5AmT5tpZwqNSgtS4eoYF0Ov73ijyoaHgOuOJ/5Piq7tj0JjTQk4VSbP9ETFqV+3FqjvU7EPuqqtiI6S1qlgczrpX9iAkAXMsCoxCItq08zPzzRUxU1KSO9INOtGDzHp1I9d1R6G04UETqAO8w6b+0iI03miyFbD3O9zewNPbTUyT0esp86AAAAAEIYd6EFFbE807zHPAAAAAAAAAAAAAAAAMZIOCEgj0ChAwtGPLKviD3xTxo9AAAAAAAAAAAAAAAAAAAAAAAAAAAAAAAAAAAAAAAAAAAAAAAAAAAAAAAAAAAAAAAAAAAAAAAAAAAAAAAAAAAAAAAAAAAAAAAAAAAAAAAAAAAAAAAAAAAAAAAAAAAAAAAAAAAAAAAAAAAAAAAAAAAAAAAAAAAAAAAAAAAAAAAAAAAAAAAAAAAAAAAAAAAAAAAAAAAAAAAAAAAAAAAAAAAAAAAAAAAAAAAAAAAAAAAAAAAAAAAAAAAAAAAAAAAAAAAAAAAAAAAAAAAAAAAAAAAAAAAAAAAAAAAAAAAAAAAAAAAAAAAAAAAAAAAAAAAAAAAAAAAAAAAAAAAAAAAAAAAAAAAAAAAAAAAAAAAAAK7vTjEx2U4xru9OsQAAAAAAAAAAAAAAAKZxQbJjYUEy7jKWrGNhQbLDh5IYTzM/PNFTFTXHp1I9060YPGm3m6GAO8w6ThQROsiLQx0KvBsjzewNPVsPc73G2nUitNTJvR6ynzoAAAAA07zHPAUVsTw2DdygAAAAAAAAAAAAAAAADGYqorKviD0DC0Y8XWsbIfFPGr0AAAAAAAAAAAAAAAAAAAAAAAAAAAAAAAAAAAAAAAAAAAAAAAAAAAAAAAAAAAAAAAAAAAAAAAAAAAAAAACu704xMdlOMa7vTjEAAAAAAAAAAAAAAACmcUEyY2FBMu4ylqxjYUEyt+qbFgAAAAAAAAAAAAAAAAAAAAAAAAAAAAAAAAAAAAAAAAAAAAAAAAAAAAAAAAAAAAAAAAAAAAAAAAAAAAAAAAAAAAAAAAAAAAAAAAAAAAAAAAAAAAAAAAAAAAAAAAAAAAAAAAAAAAAAAAAAAAAAAAAAAAAAAAAAAAAAAAAAAAAAAAAAAAAAAAAAAAAAAAAAAAAAAAAAAAAAAAAAAAAAAAAAAAAAAAAAAAAAAAAAAAAAAAAAAAAAAAAAAAAAAAAAAAAAAAAAAAAAAAAAAAAAAAAAAAAAAAAAAAAAAAAAAAAAAAAAAAAAAAAAAAAAAAAAAAAAAAAAAAAAAAAAAAAAAAAAAAAAAAAAAAAAAAAAAAAAAAAAAAAAAAAAAAAAAAAAAAAAAAAAAAAAAAAAAAAAAAAAAAAAAAAAAAAAAAAAAAAAAAAAAAAAAAAAAAAAAAAAAAAAAAAAAAAAAAAAAAAAAAAAAAAAAAAAAAAAAAAAAAAAAAAAAAAAAAAAAAAAAAAAAAAAAAAAAAAAAAAAAAAAAAAAAAAAAAAAAAAAAAAAAAAAAAAAAAAAAAAAAAAAAAAAAAAAAAAAAAAAAAAAAAAAAAAAAAAAAAAAAAAAAAAAAAAAAAAAAAAAAAAAAAAAAAAAAAAAAAAAAAAAAAAAAAAAAAAAAAAAAAAAAAAAAAAAAAAAAAAAAAAAAAAAAAAAAAAAAAAAAAAAAAAAAAAAAAAAAAAAAAAAAAAAAAAAAAAAAAAAAAAAAAAAAAAAAAAAAAAAAAAAAAAAAAAAAAAAAAAAAAAAAAAAAAAAAAAAAAAAAAAAAAAAAAAAAAAAAAAAAAAAAAAAAAAAAAAAAAAAAAAAAAAAAAAAAAAAAAAAAAAAAAAAAAAAAAAAAAAAAAAAAAAAAAAAAAAAAAAAAAAAAAAAAAAAAAAAAAAAAAAAAAAAAAAAAAAAAAAAAAAAAAAAAAAAAAAAAAAAAAAAAAAAAAAAAAAAAAAAAAAAAAAAAAAAAAAAAAAAAAAAAAAAAAAAAAAAAAAAAAAAAAAAAAAAAAAAAAAAAAAAAAAAAAAAAAAAAAAAAAAAAAAAAAAAAAAAAAAAAAAAAAAAAAAAAAAAAAAAAAAAAAAAAAAAAAAAAAAAAAAAAAAAAAAAAAAAAAAAAAAAAAAAAAAAAAAAAAAAAAAAAAAAAAAAAAAAAAAAAAAAAAAAAAAAAAAAAAAAAAAAAAAAAAAAAAAAAAAAAAAAAAAAAAAAAAAAAAAAAAAAAAAAAAAAAAAAAAAAAAAAAAAAAAAAAAAAAAAAAAAAAAAAAAAAAAAAAAAAAAAAAAAAAAAAAAAAAAAAAAAAAAAAAAAAAAAAAAAAAAAAAAAAAAAAAAAAAAAAAAAAAAAAAAAAAAAAAAAAAAAAAAAAAAAAAAAAAAAAAAAAAAAAAAAAAAAAAAAAAAAAAAAAAAAAAAAAAAAAAAAAAAAAAAAAAAAAAAAAAAAAAAAAAAAAAAAAAAAAAAAAAAAAAAAAAAAAAAAAAAAAAAAAAAAAAAAAAAAAAAAAAAAAAAAAAAAAAAAAAAAAAAAAAAAAAAAAAAAAAAAAAAAAAAAAAAAAAAAAAAAAAAAAAAAAAAAAAAAAAAAAAAAAAAAAAAAAAAAAAAAAAAAAAAAAAAAAAAAAAAAAAAAAAAAAAAAAAAAAAAAAAAAAAAAAAAAAAAAAAAAAAAAAAAAAAAAAAAAAAAAAAAAAAAAAAAAAAAAAAAAAAAAAAAAwu5azAAAAAGceO7ZakBe7Zx47tgAAAAAAAAAAAAAAAIQJDzfdV+M7ulqftt1X4zvqBE8o+QSDuwAAAAAtE/g8b3FhPFhWjKHpd7c2Ti9VNtj6UBakDiwiZsBdveySrzyDj2IiB1B0PQ5AljgYAJK2RMeXvIAJyr1tMHaj+4cgOBNJurwwooqhSCn5pTG2lz4usYe8UzyZJHEhH70AAAAAAAAAAAAAAAAAAAAAAAAAAAAAAAAAAAAAAAAAAAAAAAAAAAAAAAAAAAAAAAAAAAAAMLuWswAAAABnHju2WpAXu2ceOzYAAAAAAAAAAAAAAACECQ+33VfjO7pan7bdV+O7DQZPKAAAAAAAAAAAAAAAAAAAAAAAAAAAAAAAAAAAAAAAAAAAAAAAAAAAAAAAAAAAAAAAAAAAAAAAAAAAAAAAAAAAAAAAAAAAAAAAAAAAAAAAAAAAAAAAAAAAAAAAAAAAAAAAAAAAAAAAAAAAAAAAAAAAAAAAAAAAAAAAAAAAAAAAAAAAAAAAAAAAAAAAAAAAAAAAAAAAAAAAAAAAAAAAAAAAAAAAAAAAAAAAAAAAAAAAAAAAAAAAAAAAAAAAAAAAAAAAAAAAAAAAAAAAAAAAAAAAAAD5BIO7AAAAAMwVh59vcWE8LRP4PJUUuJZOL1U26Xe3NvKppqHqPq2h7JKvPGbAXb0HUHS9DkCWOBgAkralOlykgAnKvUTHl7x1NmghE0m6vPuHIDi8kgElkFq4Iy6xh7wxtpc+cSEfPfkEg7sAAAAAD6jJH29xYTwtE/i8/oxYlk4vVTbpd7e2/hmrIYwrq5/skq88ZsBdPQdQdL0OQJY4GACStojqFKKACcq9RMeXPLj1ryETSbq8+4cguLfrraQw0YKkLrGHvDG2l75xIR89AAAAAAAAAAAAAAAAAAAAAAAAAAAAAAAAAAAAAAAAAAAAAAAAAAAAAAAAAAAAAAAAAAAAAAAAAAAAAAAAAAAAAAAAAAAAAAAAAAAAAAAAAAAAAAAAAAAAAAAAAAAAAAAAAAAAAAAAAAAAAAAAAAAAAAAAAAAAAAAAAAAAAAAAAAAAAAAAAAAAAAAAAAAAAAAAAAAAAAAAAAAAAAAAAAAAAAAAAAAAAAAAAAAAAAAAAAAAAAAAAAAAAAAAAAAAAAAAAAAAAAAAAAAAAAAAAAAAAAAAAAAAAAAAAAAAAAAAAAAAAAAAAAAAAAAAAAAAAAAAAAAAAAAAAAAAAAAAAAAAAAAAAAAwu5azAAAAAGceOzZakBe7Zx47tgAAAAAAAAAAAAAAAIQJD7fdV+O7ulqftt1X4zvoBk8o+QSDuwAAAAAtE/i8b3FhPASjRqHpd7e2Ti9VNgbVHBXJ3QuiZsBdPeySrzzDaGAhB1B0PQ5AljgYAJK2RMeXPIAJyr2PTGuk+4cguBNJurxfwFWgh/R6pTG2l74usYe8LZAlpHEhH70AAAAAAAAAAAAAAAAAAAAAAAAAAAAAAAAAAAAAAAAAAAAAAAAAAAAAAAAAAAAAAAAAAAAAMLuWswAAAABnHjs2WpAXu2ceOzYAAAAAAAAAAAAAAACECQ833Vfju7pan7bdV+O7bgdPKAAAAAAAAAAAAAAAAAAAAAAAAAAAAAAAAAAAAAAAAAAAAAAAAAAAAAAAAAAAAAAAAAAAAAAAAAAAAAAAAAAAAAAAAAAAAAAAAAAAAAAAAAAAAAAAAAAAAAAAAAAAAAAAAAAAAAAAAAAAAAAAAAAAAAAAAAAAAAAAAAAAAAAAAAAAAAAAAAAAAAAAAAAAAAAAAAAAAAAAAAAAAAAAAAAAAAAAAAAAAAAAAAAAAAAAAAAAAAAAAAAAAAAAAAAAAAAAAAAAAAAAAAAAAAAAAAAAAAAAAAAAAAAAAAAAAAAAAAAAAAAAAAAAAAAAAAAAAAAAAAAAAAAAAAAAAAAAAAAAAAAAAAAAAAAAAAAAAAAAAAAAAAAAAAAAAAAAAAAAAAAAAAAAAAAAAAAAAAAAAAAAAAAAAAAAAAAAAAAAAAAAAAAAAAAAAAAAAAAAAAAAAAAAAAAAAAAAAAAAAAAAAAAAAAAAAAAAAAAAAAAAAAAAAAAAAAAAAAAAAAAAAAAAAAAAAAAAAAAAAAAAAAAAAAAAAAAAAAAAAAAAAAAAAAAAAAAAAAAAAAAAAAAAAAAAAAAAAAAAAAAAAAAAAAAAAAAAAAAAAAAAAAAAAAAAAAAAAAAAAAAAAAAAAAAAAAAAAAAAAAAAAAAAAAAAAAAAAAAAAAAAAAAAAAAAAAAAAAAAAAAAAAAAAAAAAAAAAAAAAAAAAAAAAAAAAAAAAAAAAAAAAAAAAAAAAAAAAAAAAAAAAAAAAAAAAAAAAAAAAAAAAAAAAAAAAAAAAAAAAAAAAAAAAAAAAAAAAAAAAAAAAAAAAAAAAAAAAAAAAAAAAAAAAAAAAAAAAAAAAAAAAAAAAAAAAAAAAAAAAAAAAAAAAAAAAAAAAAAAAAAAAAAAAAAAAAAAAAAAAAAAAAAAAAAAAAAAAAAAAAAAAAAAAAAAAAAAAAAAAAAAAAAAAAAAAAAAAAAAAAAAAAAAAAAAAAAAAAAAAAAAAAAAAAAAAAAAAAAAAAAAAAAAAAAAAAAAAAAAAAAAAAAAAAAAAAAAAAAAAAAAAAAAAAAAAAAAAAAAAAAAAAAAAAAAAAAAAAAAAAAAAAAAAAAAAAAAAAAAAAAAAAAAAAAAAAAAAAAAAAAAAAAAAAAAAAAAAAAAAAAAAAAAAAAAAAAAAAAAAAAAAAAAAAAAAAAAAAAAAAAAAAAAAAAAAAAAAAAAAAAAAAAAAAAAAAAAAAAAAAAAAAAAAAAAAAAAAAAAAAAAAAAAAAAAAAAAAAAAAAAAAAAAAAAAAAAAAAAAAAAAAAAAAAAAAAAAAAAAAAAAAAAAAAAAAAAAAAAAAAAAAAAAAAAAAAAAAAAAAAAAAAAAAAAAAAAAAAAAAAAAAAAAAAAAAAAAAAAAAAAAAAAAAAAAAAAAAAAAAAAAAAAAAAAAAAAAAAAAAAAAAAAAAAAAAAAAAAAAAAAAAAAAAAAAAAAAAAAAAAAAAAAAAAAAAAAAAAAAAAAAAAAAAAAAAAAAAAAAAAAAAAAAAAAAAAAAAAAAAAAAAAAAAAAAAAAAAAAAAAAAAAAAAAAAAAAAAAAAAAAAAAAAAAAAAAAAAAAAAAAAAAAAAAAAAAAAAAAAAAAAAAAAAAAAAAAAAAAAAAAAAAAAAAAAAAAAAAAAAAAAAAAAAAAAAAAAAAAAAAAAAAAAAAAAAAAAAAAAAAAAAAAAAAAAAAAAAAAAAAAAAAAAAAAAAAAAAAAAAAAAAAAAAAAAAAAAAAAAAAAAAKDwTjEj2k4xoPBOMQAAAAAAAAAAAAAAAKNyQbJgYkGygDaWLGBiQbLap12WAAAAAAAAAAAAAAAAAAAAAAAAAAAAAAAAAAAAAAAAAAAAAAAAAAAAAAAAAAAAAAAAAAAAAMu3n7oAAAAASd7GPFfIrzzU+vaeAAAAAAAAAAAAAAAAIqD8ofelh73RBEK8adUgoPjGGT0AAAAAAAAAAAAAAAAAAAAAAAAAAAAAAAAAAAAAAAAAAAAAAAAAAAAAAAAAAAAAAAAAAAAAAAAAAAAAAACg8E4xI9pOMaDwTrEAAAAAAAAAAAAAAACjckEyYGJBsoA2lixgYkEy7LGPmAAAAAAAAAAAAAAAAAAAAAAAAAAAAAAAAAAAAAAAAAAAAAAAAAAAAAAAAAAAAAAAAAAAAAAAAAAAAAAAAAAAAAAAAAAAAAAAAAAAAAAAAAAAAAAAAAAAAAAAAAAAAAAAAAAAAAAAAAAAAAAAAAAAAAAAAAAAAAAAAAAAAAAAAAAAAAAAAAAAAAAAAAAAAAAAAAAAAAAAAAAAAAAAAAAAAAAAAAAAAAAAAAAAAAAAAAAAAAAAAAAAAAAAAAAAAAAAAAAAAAAAAAAAAAAAAAAAAAAAAAAAAAAAAAAAAAAAAAAAAAAAAAAAAAAAAAAAAAAAAAAAAAAAAAAAAAAAAAAAAAAAAAAAy7efugAAAAAyjUGhV8ivPEnexjwAAAAAAAAAAAAAAAAZ3pqiUxORItEEQrz3pYe9+MYZvQAAAAAAAAAAAAAAAAAAAAAAAAAAAAAAAAAAAAAAAAAAAAAAAAAAAAAAAAAAAAAAAAAAAAATgcm+mXKRvQfDbKQOjFI/dItYJKM3CyS9TsQ+SlgCJUZhzCTEyBOmeFGXvxAvuSiw1ocqAAAAAAAAAAAAAAAAAAAAAAAAAAAAAAAAAAAAAAAAAAAAAAAAAAAAAAAAAAAAAAAAAAAAAMu3n7oAAAAAkSQgoFfIrzxJ3sa8AAAAAAAAAAAAAAAAtFRyobVkkqHRBEK896WHPfjGGb0AAAAAAAAAAAAAAAAAAAAAAAAAAAAAAAAAAAAAAAAAAAAAAAAAAAAAAAAAAAAAAAAAAAAAAAAAAAAAAAAAAAAAAAAAAAAAAAAAAAAAAAAAAAAAAAAAAAAAAAAAAAAAAAAAAAAAAAAAAAAAAAAAAAAAAAAAAAAAAAAAAAAAAAAAAAAAAAAAAAAAAAAAAAAAAAAAAAAAAAAAAAAAAAAAAAAAAAAAAAAAAAAAAAAAAAAAAAAAAAAAAAAAAAAAAAAAAAAAAAAAAAAAAAAAAAAAAAAAAAAAAAAAAAAAAAAAAAAAAAAAAAAAAAAAAAAAAAAAAAAAAAAAAAAAAAAAAAAAAAAAAAAAAAAAAAAAAAAAoPBOsSPaTjGg8E4xAAAAAAAAAAAAAAAAo3JBMmBiQTKANpYsYGJBsvIxnhgAAAAAAAAAAAAAAAAAAAAAAAAAAAAAAAAAAAAAAAAAAAAAAAAAAAAAAAAAAAAAAAAAAAAAy7efugAAAABJ3sa8V8ivPI1GqKAAAAAAAAAAAAAAAACl41Gi96WHPdEEQrw6202g+MYZPQAAAAAAAAAAAAAAAAAAAAAAAAAAAAAAAAAAAAAAAAAAAAAAAAAAAAAAAAAAAAAAAAAAAAAAAAAAAAAAAKDwTrEj2k4xoPBOsQAAAAAAAAAAAAAAAKNyQbJgYkEygDaWLGBiQTJ8DV2WAAAAAAAAAAAAAAAAAAAAAAAAAAAAAAAAAAAAAAAAAAAAAAAAAAAAAAAAAAAAAAAAAAAAAAAAAAAAAAAAAAAAAAAAAAAAAAAAAAAAAAAAAAAAAAAAAAAAAAAAAAAAAAAAAAAAAAAAAAAAAAAAAAAAAAAAAAAAAAAAAAAAAAAAAAAAAAAAAAAAAAAAAAAAAAAAAAAAAAAAAAAAAAAAAAAAAAAAAAAAAAAAAAAAAAAAAAAAAAAAAAAAAAAAAAAAAAAAAAAAAAAAAAAAAAAAAAAAAAAAAAAAAAAAAAAAAAAAAAAAAAAAAAAAAAAAAAAAAAAAAAAAAAAAAAAAAAAAAAAAAAAAAAAAAAAAAAAAAAAAAAAAAAAAAAAAAAAAAAAAAAAAAAAAAAAAAAAAAAAAAAAAAAAAAAAAAAAAAAAAAAAAAAAAAAAAAAAAAAAAAAAAAAAAAAAAAAAAAAAAAAAAAAAAAAAAAAAAAAAAAAAAAAAAAAAAAAAAAAAAAAAAAAAAAAAAAAAAAAAAAAAAAAAAAAAAAAAAAAAAAAAAAAAAAAAAAAAAAAAAAAAAAAAAAAAAAAAAAAAAAAAAAAAAAAAAAAAAAAAAAAAAAAAAAAAAAAAAAAAAAAAAAAAAAAAAAAAAAAAAAAAAAAAAAAAAAAAAAAAAAAAAAAAAAAAAAAAAAAAAAAAAAAAAAAAAAAAAAAAAAAAAAAAAAAAAAAAAAAAAAAAAAAAAAAAAAAAAAAAAAAAAAAAAAAAAAAAAAAAAAAAAAAAAAAAAAAAAAAAAAAAAAAAAAAAAAAAAAAAAAAAAAAAAAAAAAAAAAAAAAAAAAAAAAAAAAAAAAAAAAAAAAAAAAAAAAAAAAAAAAAAAAAAAAAAAAAAAAAAAAAAAAAAAAAAAAAAAAAAAAAAAAAAAAAAAAAAAAAAAAAAAAAAAAAAAAAAAAAAAAAAAAAAAAAAAAAAAAAAAAAAAAAAAAAAAAAAAAAAAAAAAAAAAAAAAAAAAAAAAAAAAAAAAAAAAAAAAAAAAAAAAAAAAAAAAAAAAAAAAAAAAAAAAAAAAAAAAAAAAAAAAAAAAAAAAAAAAAAAAAAAAAAAAAAAAAAAAAAAAAAAAAAAAAAAAAAAAAAAAAAAAAAAAAAAAAAAAAAAAAAAAAAAAAAAAAAAAAAAAAAAAAAAAAAAAAAAAAAAAAAAAAAAAAAAAAAAAAAAAAAAAAAAAAAAAAAAAAAAAAAAAAAAAAAAAAAAAAAAAAAAAAAAAAAAAAAAAAAAAAAAAAAAAAAAAAAAAAAAAAAAAAAAAAAAAAAAAAAAAAAAAAAAAAAAAAAAAAAAAAAAAAAAAAAAAAAAAAAAAAAAAAAAAAAAAAAAAAAAAAAAAAAAAAAAAAAAAAAAAAAAAAAAAAAAAAAAAAAAAAAAAAAAAAAAAAAAAAAAAAAAAAAAAAAAAAAAAAAAAAAAAAAAAAAAAAAAAAAAAAAAAAAAAAAAAAAAAAAAAAAAAAAAAAAAAAAAAAAAAAAAAAAAAAAAAAAAAAAAAAAAAAAAAAAAAAAAAAAAAAAAAAAAAAAAAAAAAAAAAAAAAAAAAAAAAAAAAAAAAAAAAAAAAAAAAAAAAAAAAAAAAAAAAAAAAAAAAAAAAAAAAAAAAAAAAAAAAAAAAAAAAAAAAAAAAAAAAAAAAAAAAAAAAAAAAAAAAAAAAAAAAAAAAAAAAAAAAAAAAAAAAAAAAAAAAAAAAAAAAAAAAAAAAAAAAAAAAAAAAAAAAAAAAAAAAAAAAAAAAAAAAAAAAAAAAAAAAAAAAAAAAAAAAAAAAAAAAAAAAAAAAAAAAAAAAAAAAAAAAAAAAAAAAAAAAAAAAAAAAAAAAAAAAAAAAAAAAAAAAAAAAAAAAAAAAAAAAAAAAAAAAAAAAAAAAAAAAAAAAAAAAAAAAAAAAAAAAAAAAAAAAAAAAAAAAAAAAAAAAAAAAAAAAAAAAAAAAAAAAAAAAAAAAAAAAAAAAAAAAAAAAAAAAAAAAAAAAAAAAAAAAAAAAAAAAAAAAAAAAAAAAAAAAAAAAAAAAAAAAAAAAAAAAAAAAAAAAAAAAAAAAAAAAAAAAAAAAAAAAAAAAAAAAAAAAAAAAAAAAAAAAAAAAAAAAAAAAAAAAAAAAAAAAAAAAAAAAAAAAAAAAAAAAAAAAAAAAAAAAAAAAAAAAAAAAAAAAAAAAAAAAAAAAAAAAAAAAAAAAAAAAAAAAAAAAAAAAAAAAAAAAAAAAAAAAAAAAAAAAAAAAAAAAAAAAAAAAAAAAAAAAAAAAAAAAAAAAAAAAAAAAAAAAAAAAAAAAAAAAAAAAAAAAAAAAAAAAAAAAAAAAAAAAAAAAAAAAAAAAAAAAAAAAAAAAAAAAAAAAAAAAAAAAAAAAAAAAAAAAAAAAAAAAAAAAAAAAAAAAAAAAAAAAAAAAAAAAAAAAAAAAAAAAAAAAAAAAAAAAAAAAAAAAAAAAAAAAAAAAAAAAAAAAAAAAAAAAAAAAAAAAAAAAAAAAAAAAAAAAAAAAAAAAAAAAAAAAAAAAAAAAAAAAAAAAAAAAAAAAAAAAAAAAAAAAAAAAAAAAAAAAAAAAAAAAAAAAAAAAAAAAAAAAAAAAAAAAAAAAAAAAAAAAAAAAAAAAAAAAAAAAAAAAAAAAAAAAAAAAAAAAAAAAAAAAAAAAAAAAAAAAAAAAAAAAAAAAAAAAAAAAAAAAAAAAAAAAAAAAAAAAAAAAAAAAAAAAAAAAAAAAAAAAAAAAAAAAAAAAAAAAAAAAAAAAAAAAAAAAAAAAAAAAAAAAAAAAAAAAAAAAAAAAAAAAAAAAAAAAAAAAAAAAAAAAAAAAAAAAAAAAAAAAAAAAAAAAAAAAAAAAAAAAAAAAAAAAAAAAAAAAAAAAAAAAAAAAAAAAAAAAAAAAAAAAAAAAAAAAAAAAAAAAAAAAAAAAAAAAAAAAAAAAAAAAAAAAAAAAAAAAAAAAAAAAAAAAAAAAAAAAAAAAAAAAAAAAAAAAAAAAAAAAAAAAAAAAAAAAAAAAAAAAAAAAAAAAAAAAAAAAAAAAAAAAAAAAAAAAAAAAAAAAAAAAAAAAAAAAAAAAAAAAAAAAAAAAAAAAAAAAAAAAAAAAAAAAAAAAAAAAAAAAAAAAAAAAAAAAAAAAAAAAAAAAAAAAAAAAAAAAAAAAAAAAAAAAAAAAAAAAAAAAAAAAAAAAAAAAAAAAAAAAAAAAAAAAAAAAAAAAAAAAAAAAAAAAAAAAAAAAAAAAAAAAAAAAAAAAAAAAAAAAAAAAAAAAAAAAAAAAAAAAAAAAAAAAAAAAAAAAAAAAAAAAAAAAAAAAAAAAAAAAAAAAAAAAAAAAAAAAAAAAAAAAAAAAAAAAAAAAAAAAAAAAAAAAAAAAAAAAAAAAAAAAAAAAAAAAAAAAAAAAAAAAAAAAAAAAAAAAAAAAAAAAAAAAAAAAAAAAAAAAAAAAAAAAAAAAAAAAAAAAAAAAAAAAAAAAAAAAAAAAAAAAAAAAAAAAAAAAAAAAAAAAAAAAAAAAAAAAAAAAAAAAAAAAAAAAAAAAAAAAAAAAAAAAAAAAAAAAAAAAAAAAAAAAAAAAAAAAAAAAAAAAAAAAAAAAAAAAAAAAAAAAAAAAAAAAAAAAAAAAAAAAAAAAAAAAAAAAAAAAAAAAAAAAAAAAAAAAAAAAAAAAAAAAAAAAAAAAAAAAAAAAAAAAAAAAAAAAAAAAAAAAAAAAAAAAAAAAAAAAAAAAAAAAAAAAAAAAAAAAAAAAAAAAAAAAAAAAAAAAAAAAAAAAAAAAAAAAAAAAAAAAAAAAAAAAAAAAAAAAAAAAAAAAAAAAAAAAAAAAAAAAAAAAAAAAAAAAAAAAAAAAAAAAAAAAAAAAAAAAAAAAAAAAAAAAAAAAAAAAAAAAAAAAAAAAAAAAAAAAAAAAAAAAAAAAAAAAAAAAAAAAAAAAAAAAAAAAAAAAAAAAAAAAAAAAAAAAAAAAAAAAAAAAAAAAAAAAAAAAAAAAAAAAAAAAAAAAAAAAAAAAAAAAAAAAAAAAAAAAAAAAAAAAAAAAAAAAAAAAAAAAAAAAAAAAAAAAAAAAAAAAAAAAAAAAAAAAAAAAAAAAAAAAAAAAAAAAAAAAAAAAAAAAAAAAAAAAAAAAAAAAAAAAAAAAAAAAAAAAAAAAAAAAAAAAAAAAAAAAAAAAAAAAAAAAAAAAAAAAAAAAAAAAAAAAAAAAAAAAAAAAAAAAAAAAAAAAAAAAAAAAAAAAAAAAAAAAAAAAAAAAAAAAAAAAAAAAAAAAAAAAAAAAAAAAAAAAAAAAAAAAAAAAAAAAAAAAAAAAAAAAAAAAAADKdsYlQKMgJfsTaSbko9UmknEjvxYIxqRsqb8mi+YNv6SvtCZH36ImUvkhKqw0ej55OQip63quqOpbX6mnS5gnbBexqKUc/j8dar2o4uSXqIMrTEDgqaIoYQyXJCA8Qyh4VAE/RGJbqAAAAAAAAAAAAAAAAAAAAAAAAAAAAAAAAAAAAAAAAAAAAAAAAAAAAAAAAAAAAAAAAAAAAAAAAAAAAAAAAAAAAAAAAAAAAAAAAAAAAAAAAAAAAAAAAAAAAAAAAAAAAAAAAAAAAAAAAAAAAAAAAAAAAAAAAAAAAAAAAAAAAAAAAAAAAAAAAAAAAAAAAAAAAAAAAAAAAAAAAAAAAAAAAAAAAAAAAAAAAAAAAAAAAAAAAAAAAAAAAAAAAAAAAAAAAAAAAAAAAAAAAAAAAAAAAAAAAAAAAAAAAAAAAAAAAAAAAAAAAAAAAAAAAAAAAAAAAAAAAAAAAAAAAAAAAAAAAAAAAAAAAAAAAAAAAAAAAAAAAAAAAAAAAAAAAAAAAAAAAAAAAAAAAAAAAAAAAAAAAAAAAAAAAAAAAAAAAAAAAAAAAAAAAAAAAAAAAAAAAAAAAAAAAAAAAAAAAAAAAAAAAAAAAAAAAAAAAAAAAAAAAAAAAAAAAAAAAAAAAAAAAAAAAAAAAAAAAAAAAAAAAAAAAAAAAAAAAAAAAAAAAAAAAAAAAAAAAAAAAAAAAAAAAAAAAAAAAAAAAAAAAAAAAAAAAAAAAAAAAAAAAAAAAAAAAAAAAAAAAAAAAAAAAAAAAAAAAAAAAAAAAAAAAAAAAAAAAAAAAAAAAAAAAAAAAAAAAAAAAAAAAAAAAAAAAAAAAAAAAAAAAAAAAAAAAAAAAAAAAAAAAAAAAAAAAAAAAAAAAAAAAAAAAAAAAAAAAAAAAAAAAAAAAAAAAAAAAAAAAAAAAAAAAAAAAAAAAAAAAAAAAAAAAAAAAAAAAAAAAAAAAAAAAAAAAAAAAAAAAAAAAAAAAAAAAAAAAAAAAAAAAAAAAAAAAAAAAAAAAAAAAAAAAAAAAAAAAAAAAAAAAAAAAAAAAAAAAAAAAAAAAAAAAAAAAAAAAAAAAAAAAAAAAAAAAAAAAAAAAAAAAAAAAAAAAAAAAAAAAAAAAAAAAAAAAAAAAAAAAAAAAAAAAAAAAAAAAAAAAAAAAAAAAAAAAAAAAAAAAAAAAAAAAAAAAAAAAAAAAAAAAAAAAAAAAAAAAAAAAAAAAAAAAAAAAAAAAAAAAAAAAAAAAAAAAAAAAAAAAAAAAAAAAAAAAAAAAAAAAAAAAAAAAAAAAAAAAAAAAAAAAAAAAAAAAAAAAAAAAAAAAAAAAAAAAAAAAAAAAAAAAAAAAAAAAAAAAAAAAAAAAAAAAAAAAAAAAAAAAAAAAAAAAAAAAAAAAAAAAAAAAAAAAAAAAAAAAAAAAAAAAAAAAAAAAAAAAAAAAAAAAAAAAAAAAAAAAAAAAAAAAAAAAAAAAAAAAAAAAAAAAAAAAAAAAAAAAAAAAAAAAAAAAAAAAAAAAAAAAAAAAAAAAAAAAAAAAAAAAAAAAAAAAAAAAAAAAAAAAAAAAAAAAAAAAAAAAAAAAAAAAAAAAAAAAAAAAAAAAAAAAAAAAAAAAAAAAAAAAAAAAAAAAAAAAAAAAAAAAAAAAAAAAAAAAAAAAAAAAAAAAAAAAAAAAAAAAAAAAAAAAAAAAAAAAAAAAAAAAAAAAAAAAAAAAAAAAAAAAAAAAAAAAAAAAAAAAAAAAAAAAAAAAAAAAAAAAAAAAAAAAAAAAAAAAAAAAAAAAAAAAAAAAAAAAAAAAAAAAAAAAAAAAAAAAAAAKcNal1fPqBn1qha2AAAAAAAAAAAAAAAAOJ70FkUeiRh5qAmjLUhFt4AHCiAAAAAAAAAAAAAAAAAAAAAAAAAAAAAAAAAAAAAAAAAAAAAAAAAAAAAAAAAAAAAAAAAAAAAAAAAAAAAAAAAAAAAAAAAAAAAAAAAAAAAAAAAAAAAAAAAAAAAAAAAAAAAAAAAAAAAAAAAAAAAAAAAAAAAAAAAAAAAAAAAAAAAAAAAAAAAAAAAAAAAAAAAAAAAAAAAAAAAAAAAAAAAAAAAAAAAAAAAAAAAAAAAAAAAAAAAAAAAAAAAAAAAAAAAAAAAAAAAAAAAAAAAAAAAAAAAAAAAAAAAAAAAAAAAAAAAAAAAAAAAAAAAAAAAAAAAAAAAAAAAAAAAAAAAAAAAAAAAAAAAAAAAAAAAAAAAAAAAAAAAAAAAAAAAAAAAAAAAAAAAAAAAAAAAAAAAAAAAAAAAAAAAAAAAAAAAAAAAAAAAAAAAAAAAAAAAAAAAAAAAAAAAAAAAAAAAAAAAAAAAAAAAAAAAAAAAAAAAAAAAAAAAAAAAAAAAAAAAAAAAAAAAAAAAAAAAAAAAAAAAAAAAAAAAAAAAAAAAAAAAAAAAAAAAAAAAAAAAAAAAAAAAAAAAAAAAAAAAAAAAAAAAAAAAAAAAAAAAAAAAAAAAAAAAAAAAAAAAAAAAAAAAAAAAAAAAAAAAAAAAAAAAAAAAAAAAAAAAAAAAAAAAAAAAAAAAAAAAAAAAAAAAAAAAAAAAAAAAAAAAAAAAAAAAAAAAAAAAAAAAAAAAAAAAAAAAAAAAAAAAAAAAAAAAAAAAAAAAAAAAAAAAAAAAAAAAAAAAAAAAAAAAAAAAAAAAAAAAAAAAAAAAAAAAAAAAAAAAAAAAAAAAAAAAAAAAAAAAAAAAAAAAAAAAAAAAAAAAAAAAAAAAAAAAAAAAAAAAAAAAAAAAAAAAAAAAAAAAAAAAAAAAAAAAAAAAAAAAAAAAAAAAAAAAAAAAAAAAAAAAAAAAAAAAAAAAAAAAAAAAAAAAAAAAAAAAAAAAAAAAAAAAAAAAAAAAAAAAAAAAAAAAAAAAAAAAAAAAAAAAAAAAAAAAAAAAAAAAAAAAAAAAAAAAAAAAAAAAAAAAAAAAAAAAAAAAAAAAAAAAAAAAAAAAAAAAAAAAAAAAAAAAAAAAAAAAAAAAAAAAAAAAAAAAAAAAAAAAAAAAAAAAAAAAAAAAAAAAAAAAAAAAAAAAAAAAAAAAAAAAAAAAAAAAAAAAAAAAAAAAAAAAAAAAAAAAAAAAAAAAAAAAAAAAAAAAAAAAAAAAAAAAAAAAAAAAAAAAAAAAAAAAAAAAAAAAAAAAAAAAAAAAAAAAAAAAAAAAAAAAAAAAAAAAAAAAAAAAAAAAAAAAAAAAAAAAAAAAAAAAAAAAAAAAAAAAAAAAAAAAAAAAAAAAAAAAAAAAAAAAAAAAAAAAAAAAAAAAAAAAAAAAAAAAAAAAAAAAAAAAAAAAAAAAAAAAAAAAAAAAAAAAAAAAAAAAAAAAAAAAAAAAAAAAAAAAAAAAAAAAAAAAAAAAAAAAAAAAAAAAAAAAAAAAAAAAAAAAAAAAAAAAAAAAAAAAAAAAAAAAAAAAAAAAAAAAAAAAAAAAAAAAAAAAAAAAAAAAAAAAAAAAAAAAAAAAAAAAAAAAAAAAAAAAAAAAAAAAAAAAAAAAAAAAAAAAAAAAAAAAAAAAAAAAAAAAAAAAAAAAAAAAAAAAAAAAAAAAAAAAAAAAAAAAAAAAAAAAAAAAAAAAAAAAAAAAAAAAAAAAAAAAAAAAAAAAAAAAAAAAAAAAAAAAAAAAAAAAAAAAAAAAAAAAAAAAAAAAAAAAAAAAAAAAAAAAAAAAAAAAAAAAAAAAAAAAAAAAAAAAAAAAAAAAAAAAAAAAAAAAAAAAAAAAAAAAAAAAAAAAAAAAAAAAAAAAAAAAAAAAAAAAAAAAAAAAAAAAAAAAAAAAAAAAAAAAAAAAAAAAAAAAAAAAAAAAAAAAAAAAAAAAAAAAAAAAAAAAAAAAAAAAAAAAAAAAAAAAAAAAAAAAAAAAAAAAAAAAAAAAAAAAAAAAAAAAAAAAAAAAAAAAAAAAAAAAAAAAAAAAAAAAAAAAAAAAAAAAAAAAAAAAAAAAAAAAAAAAAAAAAAAAAAAAAAAAAAAAAAAAAAAAAAAAAAAAAAAAAAAAAAAAAAAAAAAAAAAAAAAAAAAAAAAAAAAAAAAAAAAAAAAAAAAAAAAAAAAAAAAAAAAAAAAAAAAAAAAAAAAAAAAAAAAAAAAAAAAAAAAAAAAAAAAAAAAAAAAAAAAAAAAAAAAAAAAAAAAAAAAAAAAAAAAAAAAAAAAAAAAAAAAAAAAAAAAAAAAAAAAAAAAAAAAAAAAAAAAAAAAAAAAAAAAAAAAAAAAAAAAAAAAAAAAAAAAAAAAAAAAAAAAAAAAAAAAAAAAAAAAAAAAAAAAAAAAAAAAAAAAAAAAAAAAAAAAAAAAAAAAAAAAAAAAAAAAAAAAAAAAAAAAAAAAAAAAAAAAAAAAAAAAAAAAAAAAAAAAAAAAAAAAAAAAAAAAAAAAAAAAAAAAAAAAAAAAAAAAAAAAAAAAAAAAAAAAAAAAAAAAAAAAAAAAAAAAAAAAAAAAAAAAAAAAAAAAAAAAAAAAAAAAAAAAAAAAAAAAAAAAAAAAAAAAAAAAAAAAAAAAAAAAAAAAAAAAAAAAAAAAAAAAAAru9OMa7vTrEx2U4xAAAAAAAAAAAAAAAAY2FBsqVxQTIhMxasY2FBMkETgizOGzagsFD7E3PGFCI7an2iFmQ9vJfCzx3rYz2c7/ayuK6COD3z45ui6QrmIpGMl7yinfQiPsOBnAAAAADnZrigCKn4oHTyGrsAAAAAAAAAAAAAAADFTuk7Ed3BoUxTcKDjCOi7TiunoQAAAAAAAAAAAAAAAAAAAAAAAAAAAAAAAAAAAAAAAAAAAAAAAAAAAAAAAAAAAAAAAAAAAAAAAAAAAAAAAK7vTrGu704xMdlOMQAAAAAAAAAAAAAAAGNhQbKlcUGyITMWLGNhQTJBE4KsAAAAAAAAAAAAAAAAAAAAAAAAAAAAAAAAAAAAAAAAAAAAAAAAAAAAAAAAAAAAAAAAAAAAAAAAAAAAAAAAAAAAAAAAAAAAAAAAAAAAAAAAAAAAAAAAAAAAAAAAAAAAAAAAAAAAAAAAAAAAAAAAAAAAAAAAAAAAAAAAAAAAAAAAAAAAAAAAAAAAAAAAAAAAAAAAAAAAAAAAAAAAAAAAAAAAAAAAAAAAAAAAAAAAAAAAAAAAAAAAAAAAAAAAAAAAAAAAAAAAAAAAAAAAAAAAAAAAANFF6rwCOra11bETILKGU73GGuk9adsrG3JvzLpPu3M7cd/YoY2KMSJ14IQ9i7k2Ps8OR76Op5+6AAAAAAH4KaEYnMC8UeeuPAAAAAAAAAAAAAAAAFs/uqFFIcghadDHvCkshT3bTPC8D28qKAZm2Sca7r0njwgbqMiTAMDvIySn6gBuJ4uLDMBhOK8ndj0Epw9TlioEEBo/abfqqeNuHCUZsvceundxJAvihyZdXgW+DMUQI0pYAiVDGPS8DbAgJJUWeyXAUEeox7jNvi2mkSXRReo8Ajq2NZASqCKyhlM9xhrpPbehfZ1yb8w6T7tzO+PP6SME5S0jdeCEvYu5Nj7PDkc+jqefOgAAAABZabIfGJzAPFHnrjwAAAAAAAAAAAAAAABMnmihMM0coGnQxzwpLIU920zwPAAAAAAAAAAAAAAAAAAAAAAAAAAAAAAAAAAAAAAAAAAAAAAAAAAAAAAAAAAAAAAAAAAAAAAAAAAAAAAAAAAAAAAAAAAAAAAAAAAAAAAAAAAAAAAAAAAAAAAAAAAAAAAAAAAAAAAAAAAAAAAAAAAAAAAAAAAAAAAAAAAAAAAAAAAAAAAAAAAAAAAAAAAAAAAAAAAAAAAAAAAAAAAAAAAAAAAAAAAAAAAAAAAAAAAAAAAAAAAAAAAAAAAAAAAAAAAAAAAAAAAAAAAAAAAAAAAAAAAAAAAAAAAAAAAAAAAAAAAAAAAAAAAAAAAAAAAAAAAAAAAAAAAAAAAAAAAAAAAAAAAAAAAAAAAAAAAAAACu706xru9OsTHZTjEAAAAAAAAAAAAAAABjYUEypXFBsiEzFqxjYUEyQROCLLMC1qCMNTeUkpkoo2sPkKIWZD289eSGnbeNEp3v9rK4roI4vbDFNSMgJM0ikYyXvEbkxSKWE64aAAAAAJZt/h8qH5KfdPIauwAAAAAAAAAAAAAAAMVO6bv4bTwhdq+GoeMI6LtZpIShAAAAAAAAAAAAAAAAAAAAAAAAAAAAAAAAAAAAAAAAAAAAAAAAAAAAAAAAAAAAAAAAAAAAAAAAAAAAAAAAru9OMa7vTjEx2U4xAAAAAAAAAAAAAAAAY2FBMqVxQTIhMxYsY2FBMkETgqwAAAAAAAAAAAAAAAAAAAAAAAAAAAAAAAAAAAAAAAAAAAAAAAAAAAAAAAAAAAAAAAAAAAAAAAAAAAAAAAAAAAAAAAAAAAAAAAAAAAAAAAAAAAAAAAAAAAAAAAAAAAAAAAAAAAAAAAAAAAAAAAAAAAAAAAAAAAAAAAAAAAAAAAAAAAAAAAAAAAAAAAAAAAAAAAAAAAAAAAAAAAAAAAAAAAAAAAAAAAAAAAAAAAAAAAAAAAAAAAAAAAAAAAAAAAAAAAAAAAAAAAAAAAAAAAAAAAAAAAAAAAAAAAAAAAAAAAAAAAAAAAAAAAAAAAAAAAAAAAAAAAAAAAAAAAAAAAAAAAAAAAAAAAAAAAAAAAAAAAAAAAAAAAAAAAAAAAAAAAAAAAAAAAAAAAAAAAAAAAAAAAAAAAAAAAAAAAAAAAAAAAAAAAAAAAAAAAAAAAAAAAAAAAAAAAAAAAAAAAAAAAAAAAAAAAAAAAAAAAAAAAAAAAAAAAAAAAAAAAAAAAAAAAAAAAAAAAAAAAAAAAAAAAAAAAAAAAAAAAAAAAAAAAAAAAAAAAAAAAAAAAAAAAAAAAAAAAAAAAAAAAAAAAAAAAAAAAAAAAAAAAAAAAAAAAAAAAAAAAAAAAAAAAAAAAAAAAAAAAAAAAAAAAAAAAAAAAAAAAAAAAAAAAAAAAAAAAAAAAAAAAAAAAAAAAAAAAAAAAAAAAAAAAAAAAAAAAAAAAAAAAAAAAAAAAAAAAAAAAAAAAAAAAAAAAAAAAAAAAAAAAAAAAAAAAAAAAAAAAAAAAAAAAAAAAAAAAAAAAAAAAAAAAAAAAAAAAAAAAAAAAAAAAAAAAAAAAAAAAAAAAAAAAAAAAAAAAAAAAAAAAAAAAAAAAAAAAAAAAAAAAAAAAAAAAAAAAAAAAAAAAAAAAAAAAAAAAAAAAAAAAAAAAAAAAAAAAAAAAAAAAAAAAAAAAAAAAAAAAAAAAAAAAAAAAAAAAAAAAAAAAAAAAAAAAAAAAAAAAAAAAAAAAAAAAAAAAAAAAAAAAAAAAAAAAAAAAAAAAAAAAAAAAAAAAAAAAAAAAAAAAAAAAAAAAAAAAAAAAAAAAAAAAAAAAAAAAAAAAAAAAAAAAAAAAAAAAAAAAAAAAAAAAAAAAAAAAAAAAAAAAAAAAAAAAAAAAAAAAAAAAAAAAAAAAAAAAAAAAAAAAAAAAAAAAAAAAAAAAAAAAAAAAAAAAAAAAAAAAAAAAAAAAAAAAAAAAAAAAAAAAAAAAAAAAAAAAAAAAAAAAAAAAAAAAAAAAAAAAAAAAAAAAAAAAAAAAAAAAAAAAAAAAAAAAAAAAAAAAAAAAAAAAAAAAAAAAAAAAAAAAAAAAAAAAAAAAAAAAAAAAAAAAAAAAAAAAAAAAAAAAAAAAAAAAAAAAAAAAAAAAAAAAAAAAAAAAAAAAAAAAAAAAAAAAAAAAAAAAAAAAAAAAAAAAAAAAAAAAAAAAAAAAAAAAAAAAAAAAAAAAAAAAAAAAAAAAAAAAAAAAAAAAAAAAAAAAAAAAAAAAAAAAAAAAAAAAAAAAAAAAAAAAAAAAAAAAAAAAAAAAAAAAAAAAAAAAAAAAAAAAAAAAAAAAAAAAAAAAAAAAAAAAAAAAAAAAAAAAAAAAAAAAAAAAAAAAAAAAAAAAAAAAAAAAAAAAAAAAAAAAAAAAAAAAAAAAAAAAAAAAAAAAAAAAAAAAAAAAAAAAAAAAAAAAAAAAAAAAAAAAAAAAAAAAAA2R2fugAAAADkQbo8LYzLNcMZpzwAAAAAAAAAAAAAAABYX3+90z2pto+NEz03Kpi2V/PlOzjsZJ8AAAAAoVd9IdKSjSHZioW7AeKWlk4UvpXxF1qzaU2DPL8YuaKbQecesSUbPIwXJyIkr4AjtbUeIOKvo6aww7ekdZevvTPdT6JfwFWgNui5vHJ4eT7fc70kZdEUpVMbcDq4zIcmAAAAAAAAAAAAAAAAAAAAAAAAAAAAAAAAAAAAAAAAAAAAAAAAAAAAAAAAAAAAAAAAAAAAANkdnzoAAAAA5EG6vC2My7XDGac8AAAAAAAAAAAAAAAAWF9/vdM9qTaPjRO9NyqYtlfz5bsAAAAAAAAAAAAAAAAAAAAAAAAAAAAAAAAAAAAAAAAAAAAAAAAAAAAAAAAAAAAAAAAAAAAAAAAAAAAAAAAAAAAAAAAAAAAAAAAAAAAAAAAAAAAAAAAAAAAAAAAAAAAAAAAAAAAAAAAAAAAAAAAAAAAAAAAAAAAAAAAAAAAAAAAAAAAAAAAAAAAAAAAAAAAAAAAAAAAAAAAAAAAAAAAAAAAAAAAAAAAAAAAAAAAAAAAAAAAAAAAAAAAAAAAAAAAAAAAAAAAAAAAAAAAAAAAAAAAACSLeuwAAAACjvy0h+q74PMdpQT0hewqXMHi3NhuPGjcxUVaiBbghoma4BDys7uC9osqtvXevdb7wP5u9jK0KIw/YWjvJ/OA+RVQwo/uHILjtjYY+CeDTpZFk6qPUXGk+Mc9jvELM0L4JIt47AAAAAFAj2J/6rvi8x2lBPVBcohYweLe2G48aN0ZuzqCIKTyhZrgEvKzu4L2iyq09d691PvA/mz3ZzRWlD9hau8n84D5SEQej+4cgOO2Nhj5Cs4iloGWKpNRcab4xz2O8QszQPgAAAAAAAAAAAAAAAAAAAAAAAAAAAAAAAAAAAAAAAAAAAAAAAAAAAAAAAAAAAAAAAAAAAAAAAAAAAAAAAAAAAAAAAAAAAAAAAAAAAAAAAAAAAAAAAAAAAAAAAAAAAAAAAAAAAAAAAAAAAAAAAAAAAAAAAAAAAAAAAAAAAAAAAAAAAAAAAAAAAAAAAAAAAAAAAAAAAAAAAAAAAAAAAAAAAAAAAAAAAAAAAAAAAAAAAAAAAAAAAAAAAAAAAAAAAAAAAAAAAAAAAAAAAAAAAAAAAAAAAAAAAAAAAAAAAAAAAAAAAAAAAAAAAAAAAAAAAAAAAAAAAAAAAAAAAAAAAAAAAAAAAAAA2R2fugAAAADkQbq8LYzLNcMZpzwAAAAAAAAAAAAAAABYX3890z2pNo+NEz03Kpi2V/PlO0BJa58AAAAALHivodZ0USHZioW7/f6AlSYoqhXxF1qzaU2DvCCVdiJX+L8fsSUbPJaBxp8lfn8jIDmYIHMJdqRQ7oakdZevvYPw+qIwooqhNui5vHJ4eb7MMcuk3Y+JplMbcDoylOMmAAAAAAAAAAAAAAAAAAAAAAAAAAAAAAAAAAAAAAAAAAAAAAAAAAAAAAAAAAAAAAAAAAAAANkdnzoAAAAA5EG6PC2My7XDGac8AAAAAAAAAAAAAAAAWF9/PdM9qbaPjRO9NyqYtlfz5bsAAAAAAAAAAAAAAAAAAAAAAAAAAAAAAAAAAAAAAAAAAAAAAAAAAAAAAAAAAAAAAAAAAAAAAAAAAAAAAAAAAAAAAAAAAAAAAAAAAAAAAAAAAAAAAAAAAAAAAAAAAAAAAAAAAAAAAAAAAAAAAAAAAAAAAAAAAAAAAAAAAAAAAAAAAAAAAAAAAAAAAAAAAAAAAAAAAAAAAAAAAAAAAAAAAAAAAAAAAAAAAAAAAAAAAAAAAAAAAAAAAAAAAAAAAAAAAAAAAAAAAAAAAAAAAAAAAAAAAAAAAAAAAAAAAAAAAAAAAAAAAAAAAAAAAAAAAAAAAAAAAAAAAAAAAAAAAAAAAAAAAAAAAAAAAAAAAAAAAAAAAAAAAAAAAAAAAAAAAAAAAAAAAAAAAAAAAAAAAAAAAAAAAAAAAAAAAAAAAAAAAAAAAAAAAAAAAAAAAAAAAAAAAAAAAAAAAAAAAAAAAAAAAAAAAAAAAAAAAAAAAAAAAAAAAAAAAAAAAAAAAAAAAAAAAAAAAAAAAAAAAAAAAAAAAAAAAAAAAAAAAAAAAAAAAAAAAAAAAAAAAAAAAAAAAAAAAAAAAAAAAAAAAAAAAAAAAAAAAAAAAAAAAAAAAAAAAAAAAAAAAAAAAAAAAAAAAAAAAAAAAAAAAAAAAAAAAAAAAAAAAAAAAAAAAAAAAAAAAAAAAAAAAAAAAAAAAAAAAAAAAAAAAAAAAAAAAAAAAAAAAAAAAAAAAAAAAAAAAAAAAAAAAAAAAAAAAAAAAAAAAAAAAAAAAAAAAAAAAAAAAAAAAAAAAAAAAAAAAAAAAAAAAAAAAAAAAAAAAAAAAAAAAAAAAAAAAAAAAAAAAAAAAAAAAAAAAAAAAAAAAAAAAAAAAAAAAAAAAAAAAAAAAAAAAAAAAAAAAAAAAAAAAAAAAAAAAAAAAAAAAAAAAAAAAAAAAAAAAAAAAAAAAAAAAAAAAAAAAAAAAAAAAAAAAAAAAAAAAAAAAAAAAAAAAAAAAAAAAAAAAAAAAAAAAAAAAAAAAAAAAAAAAAAAAAAAAAAAAAAAAAAAAAAAAAAAAAAAAAAAAAAAAAAAAAAAAAAAAAAAAAAAAAAAAAAAAAAAAAAAAAAAAAAAAAAAAAAAAAAAAAAAAAAAAAAAAAAAAAAAAAAAAAAAAAAAAAAAAAAAAAAAAAAAAAAAAAAAAAAAAAAAAAAAAAAAAAAAAAAAAAAAAAAAAAAAAAAAAAAAAAAAAAAAAAAAAAAAAAAAAAAAAAAAAAAAAAAAAAAAAAAAAAAAAAAAAAAAAAAAAAAAAAAAAAAAAAAAAAAAAAAAAAAAAAAAAAAAAAAAAAAAAAAAAAAAAAAAAAAAAAAAAAAAAAAAAAAAAAAAAAAAAAAAAAAAAAAAAAAAAAAAAAAAAAAAAAAAAAAAAAAAAAAAAAAAAAAAAAAAAAAAAAAAAAAAAAAAAAAAAAAAAAAAAAAAAAAAAAAAAAAAAAAAAAAAAAAAAAAAAAAAAAAAAAAAAAAAAAAAAAAAAAAAAAAAAAAAAAAAAAAAAAAAAAAAAAAAAAAAAAAAAAAAAAAAAAAAAAAAAAAAAAAAAAAAAAAAAAAAAAAAAAAAAAAAAAAAAAAAAAAAAAAAAAAAAAAAAAAAAAAAAAAAAAAAAAAAAAAAAAAAAAAAAAAAAAAAAAAAAAAAAAAAAAAAAAAAAAAAAAAAAAAAAAAAAAAAAAAAAAAAAAAAAAAAAAAAAAAAAAAAAAAAAAAAAAAAAAAAAACf8E4xn/BOMSPaTjEAAAAAAAAAAAAAAABgYkGyonJBspQvFqxfYkGyQhSCLAAAAAAAAAAAAAAAAAAAAAAAAAAAAAAAAAAAAAAAAAAAAAAAAAAAAAAAAAAAAAAAAAAAAAD3ta2ZAAAAAPGKayEv2sghBHYauwAAAAAAAAAAAAAAAFGK6DvhOkwi6SWAoXE15zujMPQhAAAAAAAAAAAAAAAAAAAAAAAAAAAAAAAAAAAAAAAAAAAAAAAAAAAAAAAAAAAAAAAAAAAAAAAAAAAAAAAAn/BOsZ/wTrEj2k4xAAAAAAAAAAAAAAAAYGJBsqJyQTKULxYsX2JBskIUgqwAAAAAAAAAAAAAAAAAAAAAAAAAAAAAAAAAAAAAAAAAAAAAAAAAAAAAAAAAAAAAAAAAAAAAAAAAAAAAAAAAAAAAAAAAAAAAAAAAAAAAAAAAAAAAAAAAAAAAAAAAAAAAAAAAAAAAAAAAAAAAAAAAAAAAAAAAAAAAAAAAAAAAAAAAAAAAAAAAAAAAAAAAAAAAAAAAAAAAAAAAAAAAAAAAAAAAAAAAAAAAAAAAAAAAAAAAAAAAAAAAAAAAAAAAAAAAAAAAAAAAAAAAAAAAAAAAAAAAAAAAAAAAAAAAAAAAAAAAAAAAAAAAAAAAAAAAAAAAAAAAAAAAAAAAAAAAAAAAAAAAAAAAADirn7oAAAAAiiqBoFJtvzy7yK08AAAAAAAAAAAAAAAAeRusoFkDRiJSpsa8KS+EvfCV7rwAAAAAAAAAAAAAAAAAAAAAAAAAAAAAAAAAAAAAAAAAAAAAAAAAAAAAAAAAAAAAAAAAAAAAxfmWI/XhjCHOy6ekFs1ipR7x2r1uvwui6qq2IkMY9LzKOIqkZMx3pVFyVyitgJ8+uhW3pQAAAAAAAAAAAAAAAAAAAAAAAAAAAAAAAAAAAAAAAAAAAAAAAAAAAAAAAAAAAAAAAAAAAAA4q586AAAAAJ86xSBSbb+8u8itPAAAAAAAAAAAAAAAAPSngSEBZhgiUqbGPCkvhL3wle48AAAAAAAAAAAAAAAAAAAAAAAAAAAAAAAAAAAAAAAAAAAAAAAAAAAAAAAAAAAAAAAAAAAAAAAAAAAAAAAAAAAAAAAAAAAAAAAAAAAAAAAAAAAAAAAAAAAAAAAAAAAAAAAAAAAAAAAAAAAAAAAAAAAAAAAAAAAAAAAAAAAAAAAAAAAAAAAAAAAAAAAAAAAAAAAAAAAAAAAAAAAAAAAAAAAAAAAAAAAAAAAAAAAAAAAAAAAAAAAAAAAAAAAAAAAAAAAAAAAAAAAAAAAAAAAAAAAAAAAAAAAAAAAAAAAAAAAAAAAAAAAAAAAAAAAAAAAAAAAAAAAAAAAAAAAAAAAAAAAAAAAAAAAAAAAAAAAAAJ/wTrGf8E4xI9pOMQAAAAAAAAAAAAAAAGBiQTKickEylC8WrF9iQbJCFIIsAAAAAAAAAAAAAAAAAAAAAAAAAAAAAAAAAAAAAAAAAAAAAAAAAAAAAAAAAAAAAAAAAAAAAFxe8hsAAAAAJDrZHw0siCAEdhq7AAAAAAAAAAAAAAAAUYrou0HJEiK/2X6hcTXnO/+/6SAAAAAAAAAAAAAAAAAAAAAAAAAAAAAAAAAAAAAAAAAAAAAAAAAAAAAAAAAAAAAAAAAAAAAAAAAAAAAAAACf8E4xn/BOsSPaTjEAAAAAAAAAAAAAAABgYkEyonJBspQvFixfYkGyQhSCrAAAAAAAAAAAAAAAAAAAAAAAAAAAAAAAAAAAAAAAAAAAAAAAAAAAAAAAAAAAAAAAAAAAAAAAAAAAAAAAAAAAAAAAAAAAAAAAAAAAAAAAAAAAAAAAAAAAAAAAAAAAAAAAAAAAAAAAAAAAAAAAAAAAAAAAAAAAAAAAAAAAAAAAAAAAAAAAAAAAAAAAAAAAAAAAAAAAAAAAAAAAAAAAAAAAAAAAAAAAAAAAAAAAAAAAAAAAAAAAAAAAAAAAAAAAAAAAAAAAAAAAAAAAAAAAAAAAAAAAAAAAAAAAAAAAAAAAAAAAAAAAAAAAAAAAAAAAAAAAAAAAAAAAAAAAAAAAAAAAAAAAAAAAAAAAAAAAAAAAAAAAAAAAAAAAAAAAAAAAAAAAAAAAAAAAAAAAAAAAAAAAAAAAAAAAAAAAAAAAAAAAAAAAAAAAAAAAAAAAAAAAAAAAAAAAAAAAAAAAAAAAAAAAAAAAAAAAAAAAAAAAAAAAAAAAAAAAAAAAAAAAAAAAAAAAAAAAAAAAAAAAAAAAAAAAAAAAAAAAAAAAAAAAAAAAAAAAAAAAAAAAAAAAAAAAAAAAAAAAAAAAAAAAAAAAAAAAAAAAAAAAAAAAAAAAAAAAAAAAAAAAAAAAAAAAAAAAAAAAAAAAAAAAAAAAAAAAAAAAAAAAAAAAAAAAAAAAAAAAAAAAAAAAAAAAAAAAAAAAAAAAAAAAAAAAAAAAAAAAAAAAAAAAAAAAAAAAAAAAAAAAAAAAAAAAAAAAAAAAAAAAAAAAAAAAAAAAAAAAAAAAAAAAAAAAAAAAAAAAAAAAAAAAAAAAAAAAAAAAAAAAAAAAAAAAAAAAAAAAAAAAAAAAAAAAAAAAAAAAAAAAAAAAAAAAAAAAAAAAAAAAAAAAAAAAAAAAAAAAAAAAAAAAAAAAAAAAAAAAAAAAAAAAAAAAAAAAAAAAAAAAAAAAAAAAAAAAAAAAAAAAAAAAAAAAAAAAAAAAAAAAAAAAAAAAAAAAAAAAAAAAAAAAAAAAAAAAAAAAAAAAAAAAAAAAAAAAAAAAAAAAAAAAAAAAAAAAAAAAAAAAAAAAAAAAAAAAAAAAAAAAAAAAAAAAAAAAAAAAAAAAAAAAAAAAAAAAAAAAAAAAAAAAAAAAAAAAAAAAAAAAAAAAAAAAAAAAAAAAAAAAAAAAAAAAAAAAAAAAAAAAAAAAAAAAAAAAAAAAAAAAAAAAAAAAAAAAAAAAAAAAAAAAAAAAAAAAAAAAAAAAAAAAAAAAAAAAAAAAAAAAAAAAAAAAAAAAAAAAAAAAAAAAAAAAAAAAAAAAAAAAAAAAAAAAAAAAAAAAAAAAAAAAAAAAAAAAAAAAAAAAAAAAAAAAAAAAAAAAAAAAAAAAAAAAAAAAAAAAAAAAAAAAAAAAAAAAAAAAAAAAAAAAAAAAAAAAAAAAAAAAAAAAAAAAAAAAAAAAAAAAAAAAAAAAAAAAAAAAAAAAAAAAAAAAAAAAAAAAAAAAAAAAAAAAAAAAAAAAAAAAAAAAAAAAAAAAAAAAAAAAAAAAAAAAAAAAAAAAAAAAAAAAAAAAAAAAAAAAAAAAAAAAAAAAAAAAAAAAAAAAAAAAAAAAAAAAAAAAAAAAAAAAAAAAAAAAAAAAAAAAAAAAAAAAAAAAAAAAAAAAAAAAAAAAAAAAAAAAAAAAAAAAAAAAAAAAAAAAAAAAAAAAAAAAAAAAAAAAAAAAAAAAAAAAAAAAAAAAAAAAAAAAAAAAAAAAAAAAAAAAAAAAAAAAAAAAAAAAAAAAAAAAAAAAAAAAAAAAAAAAAAAAAAAAAAAAAAAAAAAAAAAAAAAAAAAAAAAAAAAAAAAAAAAAAAAAAAAAAAAAAAAAAAAAAAAAAAAAAAAAAAAAAAAAAAAAAAAAAAAAAAAAAAAAAAAAAAAAAAAAAAAAAAAAAAAAAAAAAAAAAAAAAAAAAAAAAAAAAAAAAAAAAAAAAAAAAAAAAAAAAAAAAAAAAAAAAAAAAAAAAAAAAAAAAAAAAAAAAAAAAAAAAAAAAAAAAAAAAAAAAAAAAAAAAAAAAAAAAAAAAAAAAAAAAAAAAAAAAAAAAAAAAAAAAAAAAAAAAAAAAAAAAAAAAAAAAAAAAAAAAAAAAAAAAAAAAAAAAAAAAAAAAAAAAAAAAAAAAAAAAAAAAAAAAAAAAAAAAAAAAAAAAAAAAAAAAAAAAAAAAAAAAAAAAAAAAAAAAAAAAAAAAAAAAAAAAAAAAAAAAAAAAAAAAAAAAAAAAAAAAAAAAAAAAAAAAAAAAAAAAAAAAAAAAAAAAAAAAAAAAAAAAAAAAAAAAAAAAAAAAAAAAAAAAAAAAAAAAAAAAAAAAAAAAAAAAAAAAAAAAAAAAAAAAAAAAAAAAAAAAAAAAAAAAAAAAAAAAAAAAAAAAAAAAAAAAAAAAAAAAAAAAAAAAAAAAAAAAAAAAAAAAAAAAAAAAAAAAAAAAAAAAAAAAAAAAAAAAAAAAAAAAAAAAAAAAAAAAAAAAAAAAAAAAAAAAAAAAAAAAAAAAAAAAAAAAAAAAAAAAAAAAAAAAAAAAAAAAAAAAAAAAAAAAAAAAAAAAAAAAAAAAAAAAAAAAAAAAAAAAAAAAAAAAAAAAAAAAAAAAAAAAAAAAAAAAAAAAAAAAAAAAAAAAAAAAAAAAAAAAAAAAAAAAAAAAAAAAAAAAAAAAAAAAAAAAAAAAAAAAAAAAAAAAAAAAAAAAAAAAAAAAAAAAAAAAAAAAAAAAAAAAAAAAAAAAAAAAAAAAAAAAAAAAAAAAAAAAAAAAAAAAAAAAAAAAAAAAAAAAAAAAAAAAAAAAAAAAAAAAAAAAAAAAAAAAAAAAAAAAAAAAAAAAAAAAAAAAAAAAAAAAAAAAAAAAAAAAAAAAAAAAAAAAAAAAAAAAAAAAAAAAAAAAAAAAAAAAAAAAAAAAAAAAAAAAAAAAAAAAAAAAAAAAAAAAAAAAAAAAAAAAAAAAAAAAAAAAAAAAAAAAAAAAAAAAAAAAAAAAAAAAAAAAAAAAAAAAAAAAAAAAAAAAAAAAAAAAAAAAAAAAAAAAAAAAAAAAAAAAAAAAAAAAAAAAAAAAAAAAAAAAAAAAAAAAAAAAAAAAAAAAAAAAAAAAAAAAAAAAAAAAAAAAAAAAAAAAAAAAAAAAAAAAAAAAAAAAAAAAAAAAAAAAAAAAAAAAAAAAAAAAAAAAAAAAAAAAAAAAAAAAAAAAAAAAAAAAAAAAAAAAAAAAAAAAAAAAAAAAAAAAAAAAAAAAAAAAAAAAAAAAAAAAAAAAAAAAAAAAAAAAAAAAAAAAAAAAAAAAAAAAAAAAAAAAAAAAAAAAAAAAAAAAAAAAAAAAAAAAAAAAAAAAAAAAAAAAAAAAAAAAAAAAAAAAAAAAAAAAAAAAAAAAAAAAAAAAAAAAAAAAAAAAAAAAAAAAAAAAAAAAAAAAAAAAAAAAAAAAAAAAAAAAAAAAAAAAAAAAAAAAAAAAAAAAAAAAAAAAAAAAAAAAAAAAAAAAAAAAAAAAAAAAAAAAAAAAAAAAAAAAAAAAAAAAAAAAAAAAAAAAAAAAAAAAAAAAAAAAAAAAAAAAAAAAAAAAAAAAAAAAAAAAAAAAAAAAAAAAAAAAAAAAAAAAAAAAAAAAAAAAAAAAAAAAAAAAAAAAAAAAAAAAAAAAAAAAAAAAAAAAAAAAAAAAAAAAAAAAAAAAAAAAAAAAAAAAAAAAAAAAAAAAAAAAAAAAAAAAAAAAAAAAAAAAAAAAAAAAAAAAAAAAAAAAAAAAAAAAAAAAAAAAAAAAAAAAAAAAAAAAAAAAAAAAAAAAAAAAAAAAAAAAAAAAAAAAAAAAAAAAAAAAAAAAAAAAAAAAAAAAAAAAAAAAAAAAAAAAAAAAAAAAAAAAAAAAAAAAAAAAAAAAAAAAAAAAAAAAAAAAAAAAAAAAAAAAAAAAAAAAAAAAAAAAAAAAAAAAAAAAAAAAAAAAAAAAAAAAAAAAAAAAAAAAAAAAAAAAAAAAAAAAAAAAAAAAAAAAAAAAAAAAAAAAAAAAAAAAAAAAAAAAAAAAAAAAAAAAAAAAAAAAAAAAAAAAAAAAAAAAAAAAAAAAAAAAAAAAAAAAAAAAAAAAAAAAAAAAAAAAAAAAAAAAAAAAAAAAAAAAAAAAAAAAAAAAAAAAAAAAAAAAAAAAAAAAAAAAAAAAAAAAAAAAAAAAAAAAAAAAAAAAAAAAAAAAAAAAAAAAAAAAAAAAAAAAAAAAAAAAAAAAAAAAAAAAAAAAAAAAAAAAAAAAAAAAAAAAAAAAAAAAAAAAAAAAAAAAAAAAAAAAAAAAAAAAAAAAAAAAAAAAAAAAAAAi8sbpuNEIiaSniwp1+Aap37MuKZq3KgoAo/wI6vhVyZjIps/yynjqWrczibMSRynp8YjpauGqSfhOnMoHrcDKE1hSKiuItonFu5sqGJNZ6d6oaQowx5xQVTzhCf8PTEoDzTJJxEYwKEAAAAAAAAAAAAAAAAAAAAAAAAAAAAAAAAAAAAAAAAAAAAAAAAAAAAAAAAAAAAAAAAAAAAAAAAAAAAAAAAAAAAAAAAAAAAAAAAAAAAAAAAAAAAAAAAAAAAAAAAAAAAAAAAAAAAAAAAAAAAAAAAAAAAAAAAAAAAAAAAAAAAAAAAAAAAAAAAAAAAAAAAAAAAAAAAAAAAAAAAAAAAAAAAAAAAAAAAAAAAAAAAAAAAAAAAAAAAAAAAAAAAAAAAAAAAAAAAAAAAAAAAAAAAAAAAAAAAAAAAAAAAAAAAAAAAAAAAAAAAAAAAAAAAAAAAAAAAAAAAAAAAAAAAAAAAAAAAAAAAAAAAAAAAAAAAAAAAAAAAAAAAAAAAAAAAAAAAAAAAAAAAAAAAAAAAAAAAAAAAAAAAAAAAAAAAAAAAAAAAAAAAAAAAAAAAAAAAAAAAAAAAAAAAAAAAAAAAAAAAAAAAAAAAAAAAAAAAAAAAAAAAAAAAAAAAAAAAAAAAAAAAAAAAAAAAAAAAAAAAAAAAAAAAAAAAAAAAAAAAAAAAAAAAAAAAAAAAAAAAAAAAAAAAAAAAAAAAAAAAAAAAAAAAAAAAAAAAAAAAAAAAAAAAAAAAAAAAAAAAAAAAAAAAAAAAAAAAAAAAAAAAAAAAAAAAAAAAAAAAAAAAAAAAAAAAAAAAAAAAAAAAAAAAAAAAAAAAAAAAAAAAAAAAAAAAAAAAAAAAAAAAAAAAAAAAAAAAAAAAAAAAAAAAAAAAAAAAAAAAAAAAAAAAAAAAAAAAAAAAAAAAAAAAAAAAAAAAAAAAAAAAAAAAAAAAAAAAAAAAAAAAAAAAAAAAAAAAAAAAAAAAAAAAAAAAAAAAAAAAAAAAAAAAAAAAAAAAAAAAAAAAAAAAAAAAAAAAAAAAAAAAAAAAAAAAAAAAAAAAAAAAAAAAAAAAAAAAAAAAAAAAAAAAAAAAAAAAAAAAAAAAAAAAAAAAAAAAAAAAA04SGG/FIsJtWNji3AAAAAAAAAAAAAAAAXHUHOArQRRxzZwqczw1EuNraLRoAAAAAAAAAAAAAAAAAAAAAAAAAAAAAAAAAAAAAAAAAAAAAAAAAAAAAAAAAAAAAAAAAAAAAAAAAAAAAAAAAAAAAAAAAAAAAAAAAAAAAAAAAAAAAAAAAAAAAAAAAAAAAAAAAAAAAAAAAAAAAAAAAAAAAAAAAAAAAAAAAAAAAAAAAAAAAAAAAAAAAAAAAAAAAAAAAAAAAAAAAAAAAAAAAAAAAAAAAAAAAAAAAAAAAAAAAAAAAAAAAAAAAAAAAAAAAAAAAAAAAAAAAAAAAAAAAAAAAAAAAAAAAAAAAAAAAAAAAAAAAAAAAAAAAAAAAAAAAAAAAAAAAAAAAAAAAAAAAAAAAAAAAAAAAAAAAAAAAAAAAAAAAAAAAAAAAAAAAAAAAAAAAAAAAAAAAAAAAAAAAAAAAAAAAAAAAAAAAAAAAAAAAAAAAAAAAAAAAAAAAAAAAAAAAAAAAAAAAAAAAAAAAAAAAAAAAAAAAAAAAAAAAAAAAAAAAAABWNji3UnMPG/tFBxoAAAAAAAAAAAAAAABcdQc4zw1EuNYPQRyRFSycXFCwGgAAAAAAAAAAAAAAAAAAAAAAAAAAAAAAAAAAAAAAAAAAAAAAAAAAAAAAAAAAAAAAAAAAAADGm6ig/6o5FVJgDKUMrSci5pHHoC89RqIp8aIdfoygmbeUdbsXlgum/WWDoufZ8KCyNLYfAAAAAAAAAABaIHEfMYsVmuO38RcAAAAAAAAAAAAAAADZ/0m0K8+PICe2rBY/jpSYl1DLlgAAAAAAAAAAVjY4NymC2RiaDkSbAAAAAAAAAAAAAAAAXHUHOM8NRDghB3UbBqgNHF8HwRoAAAAAAAAAAAAAAAAAAAAAAAAAAAAAAAAAAAAAAAAAAAAAAAAAAAAAAAAAAAAAAAAAAAAAAAAAAAAAAAAAAAAAAAAAAAAAAAAAAAAAAAAAAAAAAAAAAAAAAAAAAAAAAAAAAAAAAAAAAAAAAAAAAAAAAAAAAAAAAAAAAAAAAAAAAAAAAAAAAAAAAAAAAAAAAAAAAAAAAAAAAAAAAAAAAAAAAAAAAAAAAAAAAAAAAAAAAAAAAAAAAAAAAAAAAAAAAAAAAAAAAAAAAAAAAAAAAAAAAAAAAAAAAAAAAAAAAAAAAAAAAAAAAAAAAAAAAAAAAAAAAAAAAAAAAAAAAAAAAAAAAAAAAAAAAAAAAAAAAAAAAAAAAAAAAAAAAAAAAAAAAAAAAAAAAAAAAAAAAAAAAAAAAAAAAAAAAAAAAAAAAAAAAAAAAAAAAAAAAAAAAAAAAAAAAAAAAAAAAAAAAAAAAAAAAAAAAAAAAAAAAAAAAAAAAAAAAACVGB0bCS4RG1Y2ODcAAAAAAAAAAAAAAABcdQc42ukwG6IEERzPDUQ4m7fbmwAAAAAAAAAAAAAAAAAAAAAAAAAAAAAAAAAAAAAAAAAAAAAAAAAAAAAAAAAAAAAAAAAAAAAAAAAAAAAAAAAAAAAAAAAAAAAAAAAAAAAAAAAAAAAAAAAAAAAAAAAAAAAAAAAAAAAAAAAAAAAAAAAAAAAAAAAAAAAAAAAAAAAAAAAAAAAAAAAAAAAAAAAAAAAAAAAAAAAAAAAAAAAAAAAAAAAAAAAAAAAAAAAAAAAAAAAAAAAAAAAAAAAAAAAAAAAAAAAAAAAAAAAAAAAAAAAAAAAAAAAAAAAAAAAAAAAAAAAAAAAAAAAAAAAAAAAAAAAAAAAAAAAAAAAAAAAAAAAAAAAAAAAAAAAAAAAAAAAAAAAAAAAAAAAAAAAAAAAAAAAAAAAAAAAAAAAAAAAAAAAAAAAAAAAAAAAAAAAAAAAAAAAAAAAAAAAAAAAAAAAAAAAAAAAAAAAAAAAAAAAAAAAAAAAAAAAAAAAAAAAAAAAAAAAAAAAAAAAAAAAAAAAAAAAAAAAAAAAAAAAAAAAAAAAAAAAAAAAAAAAAAAAAAAAAAAAAAAAAAAAAAAAAAAAAAAAAAAAAAAAAAAAAAAAAAAAAAAAAAAAAAAAAAAAAAAAAAAAAAAAAAAAAAAAAAAAAAAAAAAAAAAAAAAAAAAAAAAAAAAAAAAAAAAAAAAAAAAAAAAAAAAAAAAAAAAAAAAAAAAAAAAAAAAAAAAAAAAAAAAAAAAAAAAAAAAAAAAAAAAAAAAAAAAAAAAAAAAAAAAAAAAAAAAAAAAAAAAAAAAAAAAAAAAAAAAAAAAAAAAAAAAAAAAAAAAAAAAAAAAAAAAAAAAAAAAAAAAAAAAAAAAAAAAAAAAAAAAAAAAAAAAAAAAAAAAAAAAAAAAAAAAAAAAAAAAAAAAAAAAAAAAAAAAAAAAAAAAAAAAAAAAAAAAAAAAAAAAAAAAAAAAAAAAAAAAAAAAAAAAAAAAAAAAAAAAAAAAAAAAAAAAAAAAAAAAAAAAAAAAAAAAAAAAAAAAAAAAAAAAAAAAAAAAAAAAAAAAAAAAAAAAAAAAAAAAAAAAAAAAAAAAAAAAAAAAAAAAAAAAAAAAAAAAAAAAAAAAAAAAAAAAAAAAAAAAAAAAAAAAAAAAAAAAAAAAAAAAAAAAAAAAAAAAAAAAAAAAAAAAAAAAAAAAAAAAAAAAAAAAAAAAAAAAAAAAAAAAAAAAAAAAAAAAAAAAAAAAAAAAAAAAAAAAAAAAAAAAAAAAAAAAAAAAAAAAAAAAAAAAAAAAAAAAAAAAAAAAAAAAAAAAAAAAAAAAAAAAAAAAAAAAAAAAAAAAAAAAAAAAAAAAAAAAAAAAAAAAAAAAAAAAAAAAAAAAAAAAAAAAAAAAAAAAAAAAAAAAAAAAAAAAAAAAAAAAAAAAAAAAAAAAAAAAAAAAAAAAAAAAAAAAAAAAAAAAAAAAAAAAAAAAAAAAAAAAAAAAAAAAAAAAAAAAAAAAAAAAAAAAAAAAAAAAAAAAAAAAAAAAAAAAAAAAAAAAAAAAAAAAAAAAAAAAAAAAAAAAAAAAAAAAAAAAAAAAAAAAAAAAAAAAAAAAAAAAAAAAAAAAAAAAAAAAAAAAAAAAAAAAAAAAAAAAAAAAAAAAAAAAAAAAAAAAAAAAAAAAAAAAAAAAAAAAAAAAAAAAAAAAAAAAAAAAAAAAAAAAAAAAAAAAAAAAAAAAAAAAAAAAAAAAAAAAAAAAAAAAAAAAAAAAAAAAAAAAAAAAAAAAAAAAAAAAAAAAAAAAAAAAAAAAAAAAAAAAAAAAAAAAAAAAAAAAAAAAAAAAAAAAAAAAAAAAAAAAAAAAAAAAAAAAAAAAAAAAAAAAAAAAAAAAAAAAAAAAAAAAAAAAAAAAAAAAAAAIXEOrwAAAAAFEYHPVwAgbwURgc9rql4OeA6z7iuqXg5G6+kvWfsHz2T5Q49Z+wfPfI0RStobRC7AAAAAHjbRjyYiGu8eNtGPGBiQTKjckGyYGJBMsRJyrxptfE8GUXNu2m18Ty7XB8pXNGgpQxnoCGo6UqkaxkapO9t/72lYQGljpijI7nXzr2Chkg8/p6ypHXszyW+y4S9pE9AJZAVo6K3nDyfCL/SI/3+u6Oi+tS8x5dIIaXjUaJRiui7kA8YPZqh2SQvJSCj8WhZvbXHhCSFxDo8AAAAABRGB71cAIE8FEYHPa6peLngOs84rql4ORuvpL1n7B+9k+UOvWfsHz1DMkWraG0QOwAAAAB420a8mIhrPHjbRjxgYkGyo3JBMmBiQTLEScq8abXxvBlFzTtptfE89m4fqQAAAAAAAAAAAAAAAAAAAAAAAAAAAAAAAAAAAAAAAAAAAAAAAAAAAAAAAAAAAAAAAAAAAAAAAAAAAAAAAAAAAAAAAAAAAAAAAAAAAAAAAAAAAAAAAAAAAAAAAAAAAAAAAAAAAAAAAAAAAAAAAAAAAAAAAAAAAAAAAAAAAAAAAAAAAAAAAAAAAAAAAAAAAAAAAAAAAAAAAAAAAAAAAAAAAAAAAAAAAAAAAAAAAAAAAAAAAAAAAAAAAAAAAAAAAAAAAAAAAAAAAAAAAAAAAAAAAABsclGkSAMipO9t/70yWaMlobKYJbnXzr3isdAjXY2QpIKGSDy+y4S9Xk2XJVWFkyIqRXakCkPMoPa88p+i+tS8A3oOpEhixyNRiui7tFRyofSngSGQDxg98WhZvTmiqaM3dPMjvCnApLiYUyf6tpGmVgHNKTz1RiagDogniYuOKV5kuqaB+vMlW7FrQELLMiqN7IMoy4d/qKd+JaYkxiYl1CY1pNSjw6e3jzMjDU2GoviDoaVGYcwkyjiKpEXIZT1Hvd6ojB2hJmv3AqY9UB6kmeD9pFGOFyPvbf89a8JyI2IqlCW51849NK2UI/bzY6SChkg8vsuEPeJboKSRkUQm0JT8pE5umqLG/oueovrUPJrjl6NW5FckUYroOxnemqJ5G6ygkA8YPfFoWT2/6mcjQWs+JHcjxCMAAAAAAAAAAAAAAAAAAAAAAAAAAAAAAAAAAAAAAAAAAAAAAAAAAAAAAAAAAAAAAAAAAAAAAAAAAAAAAAAAAAAAAAAAAAAAAAAAAAAAAAAAAAAAAAAAAAAAAAAAAAAAAAAAAAAAAAAAAAAAAAAAAAAAAAAAAAAAAAAAAAAAAAAAAAAAAAAAAAAAAAAAAAAAAAAAAAAAAAAAAAAAAAAAAAAAAAAAAAAAAAAAAAAAAAAAAAAAAAAAAAAAAAAAAAAAAAAAAAAAAAAAAAAAAAAAAAAAhcQ6PAAAAAAURgc9XACBPBRGB72uqXg54DrPOK6peLkbr6S9Z+wfPZPlDr1n7B+9EzdFq2htEDsAAAAAeNtGPJiIazx420a8YGJBMqNyQTJgYkGyxEnKvGm18TwZRc07abXxvGxLH6lgJJkkVfKfo1+riiUt3g2k723/Pd+tS6PvjCajudfOPYKGSDztShgiC5ewpb7LhD2ErfkkiAc5I1K/iJ/+ktyiz9PSo6L61Dz0t94hIqD8oVGK6DuQDxg93WbiJMrYSyTxaFk9nqcGpIXEOrwAAAAAFEYHvVwAgbwURge9rql4ueA6z7iuqXi5G6+kvWfsH72T5Q49Z+wfvRA0RStobRC7AAAAAHjbRryYiGu8eNtGvGBiQbKjckGyYGJBssRJyrxptfG8GUXNu2m18byUXx8pAAAAAAAAAAAAAAAAAAAAAAAAAAAAAAAAAAAAAAAAAAAAAAAAAAAAAAAAAAAAAAAAAAAAAAAAAAAAAAAAAAAAAAAAAAAAAAAAAAAAAAAAAAAAAAAAAAAAAAAAAAAAAAAAAAAAAAAAAAAAAAAAAAAAAAAAAAAAAAAAAAAAAAAAAAAAAAAAAAAAAAAAAAAAAAAAAAAAAAAAAAAAAAAAAAAAAAAAAAAAAAAAAAAAAAAAAAAAAAAAAAAAAAAAAAAAAAAAAAAAAAAAAAAAAAAAAAAAAAAAAAAAAAAAAAAAAAAAAAAAAAAAAAAAAAAAAAAAAAAAAAAAAAAAAAAAAAAAAAAAAAAAAAAAAAAAAAAAAAAAAAAAAAAAAAAAAAAAAAAAAAAAAAAAAAAAAAAAAAAAAAAAAAAAAAAAAAAAAAAAAAAAAAAAAAAAAAAAAAAAAAAAAAAAAAAAAAAAAAAAAAAAAAAAAAAAAAAAAAAAAAAAAAAAAAAAAAAAAAAAAAAAAAAAAAAAAAAAAAAAAAAAAAAAAAAAAAAAAAAAAAAAAAAAAAAAAAAAAAAAAAAAAAAAAAAAAAAAAAAAAAAAAAAAAAAAAAAAAAAAAAAAAAAAAAAAAAAAAAAAAAAAAAAAAAAAAAAAAAAAAAAAAAAAAAAAAAAAAAAAAAAAAAAAAAAAAAAAAAAAAAAAAAAAAAAAAAAAAAAAAAAAAAAAAAAAAAAAAAAAAAAAAAAAAAAAAAAAAAAAAAAAAAAAAAAAAAAAAAAAAAAAAAAAAAAAAAAAAAAAAAAAAAAAAAAAAAAAAAAAAAAAAAAAAAAAAAAAAAAAAAAAAAAAAAAAAAAAAAAAAAAAAAAAAAAAAAAAAAAAAAAAAAAAAAAAAAAAAAAAAAAAAAAAAAAAAAAAAAAAAAAAAAAAAAAAAAAAAAAAAAAAAAAAAAAAAAAAAAAAAAAAAAAAAAAAAAAAAAAAAAAAAAAAAAAAAAAAAAAAAAAAAAAAAAAAAAAAAAAAAAAAAAAAAAAAAAAAAAAAAAAAAAAAAAAAAAAAAAAAAAAAAAAAAAAAAAAAAAAAAAAAAAAAAAAAAAAAAAAAAAAAAAAAAAAAAAAAAAAAAAAAAAAAAAAAAAAAAAAAAAAAAAAAAAAAAAAAAAAAAAAAAAAAAAAAAAAAAAAAAAAAAAAAAAAAAAAAAAAAAAAAAAAAAMn9jB1cdzQXtonStgAAAAAAAAAAAAAAAJhn+DdU244a7sICHdhMIzL8WbIdAAAAAAAAAAAAAAAAAAAAAAAAAAAAAAAAAAAAAAAAAAAAAAAAAAAAAAAAAAAAAAAAAAAAAAAAAAAAAAAAAAAAAAAAAAAAAAAAAAAAAAAAAAAAAAAAAAAAAAAAAAAAAAAAAAAAAAAAAAAAAAAAAAAAAAAAAAAAAAAAAAAAAAAAAAAAAAAAAAAAAAAAAAAAAAAAAAAAAAAAAAAAAAAAAAAAAAAAAAAAAAAAAAAAAAAAAAAAAAAAAAAAAAAAAAAAAAAAAAAAAAAAAAAAAAAAAAAAAAAAAAAAAAAAAAAAAAAAAAAAAAAAAAAAAAAAAAAAAAAAAAAAAAAAAAAAAAAAAAAAAAAAAAAAAAAAAAAAAAAAAAAAAAAAAAAAAAAAAAAAAAAAAAAAAAAAAAAAAAAAAAAAAAAAAAAAAAAAYs5juwAAAABpdJM8uD1EPGl0kzwAAAAAAAAAAAAAAAAFW0O9/eUCvdhpdDz95QK9wstIKlEAn713SZ68x4x9PVGR+DjHjH09WF9/PYQJDzdYX389u1+gO6fTi7l8GOE6p9OLuZZmkCvjNxAjng+aI6ZkFyW4kf+iaeOSvR8iDaOCwcWiiGIivSlFjj1FECOljPboIxo0lz0+OlwkgBeDpnS+BaaIyEGlbEAGpPpfTT3zc2elh/R6pXJ4eb6GBJa/mSlwJOeBkiTSLPg7ytlOJ2LOYzsAAAAAaXSTvLg9RLxpdJM8AAAAAAAAAAAAAAAABVtDvf3lAj3YaXS8/eUCvdzISKpRAJ89d0mePMeMfb1Rkfi4x4x9PVhff72ECQ+3WF9/PbtfoDun04s5fBjhuqfTi7kKapCrAAAAAAAAAAAAAAAAAAAAAAAAAAAAAAAAAAAAAAAAAAAAAAAAAAAAAAAAAAAAAAAAAAAAAAAAAAAAAAAAAAAAAAAAAAAAAAAAAAAAAAAAAAAAAAAAAAAAAAAAAAAAAAAAAAAAAAAAAAAAAAAAAAAAAAAAAAAAAAAAAAAAAAAAAAAAAAAAAAAAAAAAAAAAAAAAAAAAAAAAAAAAAAAAAAAAAAAAAAC2idK2UEJuGgxTJR0AAAAAAAAAAAAAAACYZ/g32EwjMhlgNpw9KqKZlw8QncUFBqQfeRufaeOSvaBf5CMF4o8jiGIivYQYGCOSSsciKUWOPRo0lz2mGzSkUGuZI1syPCOx8qylJrlTJvpfTT1x3IoiipSRpnJ4eb63662kQrOIpYYElr/SLPg7RG5GpbS0EiZiasqlpEZCoGxZBCNp45I9UYtSpHQBTCKIYiI96WQcIpBypSMpRY49GjSXvT6BoSSr1ZWlFHSvIwpK5iSN4OOk+l9Nveo/TqR23yqlcnh5PrySASUJ4NOlhgSWv9Is+LstyYSmNoNQpvu2wyUAAAAAAAAAAAAAAAAAAAAAAAAAAAAAAAAAAAAAAAAAAAAAAAAAAAAAAAAAAAAAAAAAAAAAAAAAAAAAAAC2idI28tm8GuSushwAAAAAAAAAAAAAAACYZ/g32Ewjsp9JLxsqpTibmBr6HAAAAAAAAAAAAAAAAAAAAAAAAAAAAAAAAAAAAAAAAAAAAAAAAAAAAAAAAAAAAAAAAAAAAAAAAAAAAAAAAAAAAAAAAAAAAAAAAAAAAAAAAAAAAAAAAAAAAAAAAAAAAAAAAAAAAAAAAAAAYs5jOwAAAABpdJM8uD1EvGl0k7wAAAAAAAAAAAAAAAAFW0O9/eUCvdhpdLz95QI9G9FIqlEAnz13SZ48x4x9PVGR+LjHjH29WF9/PYQJD7dYX3+9u1+gO6fTi7l5GOG6p9OLOcxikKuKdoAjCg4po2p7GaRwOJukaeOSPXY0E6IKbbYhiGIiPSlFjj3xCvSlVCMzJBo0l70aRVmkClfuJt/lBiZ3noqliG30IvpfTb2FlpykSCn5pXJ4eT6GBJa/WAbhpSehp6TSLPi7W6qAp2LOY7sAAAAAaXSTvLg9RDxpdJO8AAAAAAAAAAAAAAAABVtDvf3lAj3YaXQ8/eUCPR3NSCpRAJ+9d0mevMeMfb1Rkfg4x4x9vVhff72ECQ83WF9/vbtfoDun04s5eRjhOqfTizmnXZArAAAAAAAAAAAAAAAAAAAAAAAAAAAAAAAAAAAAAAAAAAAAAAAAAAAAAAAAAAAAAAAAAAAAAAAAAAAAAAAAAAAAAAAAAAAAAAAAAAAAAAAAAAAAAAAAAAAAAAAAAAAAAAAAAAAAAAAAAAAAAAAAAAAAAAAAAAAAAAAAAAAAAAAAAAAAAAAAAAAAAAAAAAAAAAAAAAAAAAAAAAAAAAAAAAAAAAAAAAAAAAAAAAAAAAAAAAAAAAAAAAAAAAAAAAAAAAAAAAAAAAAAAAAAAAAAAAAAAAAAAAAAAAAAAAAAAAAAAAAAAAAAAAAAAAAAAAAAAAAAAAAAAAAAAAAAAAAAAAAAAAAAAAAAAAAAAAAAAAAAAAAAAAAAAAAAAAAAAAAAAAAAAAAAAAAAAAAAAAAAAAAAAAAAAAAAAAAAAAAAAAAAAAAAAAAAAAAAAAAAAAAAAAAAAAAAAAAAAAAAAAAAAAAAAAAAAAAAAAAAAAAAAAAAAAAAAAAAsx+SHWFnABq2idI2AAAAAAAAAAAAAAAAmGf4N1BeohstY0Kd2Ewjsqfz35wAAAAAAAAAAAAAAAAAAAAAAAAAAAAAAAAAAAAAAAAAAAAAAAAAAAAAAAAAAAAAAAAAAAAAAAAAAAAAAAAAAAAAAAAAAAAAAAAAAAAAAAAAAAAAAAAAAAAAAAAAAAAAAAAAAAAAAAAAAAAAAAAAAAAAAAAAAAAAAAAAAAAAAAAAAAAAAAAAAAAAAAAAAAAAAAAAAAAAAAAAAAAAAAAAAAAAAAAAAAAAAAAAAAAAAAAAAAAAAAAAAAAAAAAAAAAAAAAAAAAAAAAAAAAAAAAAAAAAAAAAAAAAAAAAAAAAAAAAAAAAAAAAAAAAAAAAAAAAAAAAAAAAAAAAAAAAAAAAAAAAAAAAAAAAAAAAAAAAAAAAAAAAAAAAAAAAAAAAAAAAAAAAAAAAAAAAAAAAAAAAAAAAAAAAAAAAAAAAAAAAAAAAAAAAAAAAAAAAAAAAAAAAAAAAAAAAAAAAAAAAAAAAAAAAAAAAAAAAAAAAAAAAAAAAAAAAAAAAAAAAAAAAAAAAAAAAAAAAAAAAAAAAAAAAAAAAAAAAAAAAAAAAAAAAAAAAAAAAAAAAAAAAAAAAAAAAAAAAAAAAAAAAAAAAAAAAAAAAAAAAAAAAAAAAAAAAAAAAAAAAAAAAAAAAAAAAAAAAAAAAAAAAAAAAAAAAAAAAAAAAAAAAAAAAAAAAAAAAAAAAAAAAAAAAAAAAAAAAAAAAAAAAAAAAAAAAAAAAAAAAAAAAAAAAAAAAAAAAAAAAAAAAAAAAAAAAAAAAAAAAAAAAAAAAAAAAAAAAAAAAAAAAAAAAAAAAAAAAAAAAAAAAAAAAAAAAAAAAAAAAAAAAAAAAAAAAAAAAAAAAAAAAAAAAAAAAAAAAAAAAAAAAAAAAAAAAAAAAAAAAAAAAAAAAAAAAAAAAAAAAAAAAAAAAAAAAAAAAAAAAAAAAAAAAAAAAAAAAAAAAAAAAAAAAAAAAAAAAAAAAAAAAAAAAAAAAAAAAAAAAAAAAAAAAAAAAAAAAAAAAAAAAAAAAAAAAAAAAAAAAAAAAAAAAAAAAAAAAAAAAAAAAAAAAAAAAAAAAAAAAAAAAAAAAAAAAAAAAAAAAAAAAAAAAAAAAAAAAAAAAAAAAAAAAAAAAAAAAAAAAAAAAAAAAAAAAAAAAAAAAAAAAAAAAAAAAAAAAAAAAAAAAAAAAAAAAAAAAAONzELsAAAAA4MVGPNszazzgxUY8Y2FBMqZxQTJjYUEyxEnKvHdm8bx02cu7d2bxvAN6CigAAAAAAAAAAAAAAAAAAAAAAAAAAAAAAAAAAAAAAAAAAAAAAAAAAAAAAAAAAAAAAAAAAAAAjP2ZIbaxFSD4CaUjThMEJM7T0rzz2fugDGYqosVO6buQDxg96HZLpTdUsiO1ElQ9u8HCIwAAAAAAAAAAAAAAAAAAAAAAAAAAAAAAAAAAAAAAAAAAAAAAAAAAAAAAAAAAAAAAAAAAAADjcxA7AAAAAODFRrzbM2u84MVGPGNhQbKmcUGyY2FBMsRJyrx3ZvE8dNnLO3dm8bykagqoAAAAAAAAAAAAAAAAAAAAAAAAAAAAAAAAAAAAAAAAAAAAAAAAAAAAAAAAAAAAAAAAAAAAAAAAAAAAAAAAAAAAAAAAAAAAAAAAAAAAAAAAAAAAAAAAAAAAAAAAAAAAAAAAAAAAAAAAAAAAAAAAAAAAAAAAAAAAAAAAAAAAAAAAAAAAAAAAAAAAAAAAAAAAAAAAAAAAAAAAAAAAAAAAAAAAAAAAAAAAAAAAAAAAAAAAAAAAAAAAAAAAAAAAAAAAAAAAAAAAAAAAAAAAAAAAAAAAAAAAAAAAAAAAAAAAAAAAAAAAAAAAAAAAAAAAAAAAAAAAAAAAAAAAAAAAAAAAAAAAAAAAAAAgEkijJgwvIM7T0rygZpSjW/zQI8VO6bvGSDghTJ5ooZAPGD21ElQ9UoyDpJANeKSPm0+jUv80mgAAAAB7inOjZD1dn7XWux7QPFAbAAAAAAAAAADfuEa5DF6VJBG/wKAvUSOfTYQ/HDwBpKI3oWaj/5i0J4RQb6ZnzMQkzf86JTpLWqUNsCAkRchlPZKZ2Kh6ifAlT7uxpNz6EyQAAAAAAAAAAAAAAAAAAAAAAAAAAAAAAAAAAAAAAAAAAAAAAAAAAAAAAAAAAAAAAAAAAAAA0+KWous8tx7O09I8rM8Lo6p+nCPFTuk7JPakoVs/uqGQDxg9tRJUvR6X2SIsQ/WkuJ9oJAAAAAAAAAAAAAAAAAAAAAAAAAAAAAAAAAAAAAAAAAAAAAAAAAAAAAAAAAAAAAAAAAAAAAAAAAAAAAAAAAAAAAAAAAAAAAAAAAAAAAAAAAAAAAAAAAAAAAAAAAAAAAAAAAAAAAAAAAAAAAAAAAAAAAAAAAAAAAAAAAAAAAAAAAAAAAAAAAAAAAAAAAAAAAAAAAAAAAAAAAAAAAAAAAAAAAAAAAAAAAAAAAAAAAAAAAAAAAAAAAAAAAAAAAAAAAAAAAAAAAAAAAAAAAAAAAAAAAAAAAAAAAAAAAAAAAAAAAAAAAAAAAAAAAAAAAAAAAAAAAAAAAAAAAAAAAAAAAAAAAAAAAAA43MQOwAAAADgxUY82zNrvODFRrxjYUEypnFBsmNhQbLEScq8d2bxvHTZyzt3ZvE8Dp8KqAAAAAAAAAAAAAAAAAAAAAAAAAAAAAAAAAAAAAAAAAAAAAAAAAAAAAAAAAAAAAAAAAAAAADIqlsidu7In3nqhCQ9DoykztPSPK/kCaEVS3QixU7pO5APGD22WD0jK6CqI7USVL0k156kAAAAAAAAAAAAAAAAAAAAAAAAAAAAAAAAAAAAAAAAAAAAAAAAAAAAAAAAAAAAAAAAAAAAAONzELsAAAAA4MVGvNszazzgxUa8Y2FBsqZxQTJjYUGyxEnKvHdm8Tx02cu7d2bxPEKCCigAAAAAAAAAAAAAAAAAAAAAAAAAAAAAAAAAAAAAAAAAAAAAAAAAAAAAAAAAAAAAAAAAAAAAAAAAAAAAAAAAAAAAAAAAAAAAAAAAAAAAAAAAAAAAAAAAAAAAAAAAAAAAAAAAAAAAAAAAAAAAAAAAAAAAAAAAAAAAAAAAAAAAAAAAAAAAAAAAAAAAAAAAAAAAAAAAAAAAAAAAAAAAAAAAAAAAAAAAAAAAAAAAAAAAAAAAAAAAAAAAAAAAAAAAAAAAAAAAAAAAAAAAAAAAAAAAAAAAAAAAAAAAAAAAAAAAAAAAAAAAAAAAAAAAAAAAAAAAAAAAAAAAAAAAAAAAAAAAAAAAAAAAAAAAAAAAAAAAAAAAAAAAAAAAAAAAAAAAAAAAAAAAAAAAAAAAAAAAAAAAAAAAAAAAAAAAAAAAAAAAAAAAAAAAAAAAAAAAAAAAAAAAAAAAAAAAAAAAAAAAAAAAAAAAAAAAAAAAAAAAAAAAAAAAAAAAAAAAAAAAAAAAAAAAAAAAAAAAAAAAAAAAAAAAAAAAAAAAAAAAAAAAAAAAAAAAAAAAAAAAAAAAAAAAAAAAAAAAAAAAAAAAAAAAAAAAAAAAAAAAAAAAAAAAAAAAAAAAAAAAAAAAAAAAAAAAAAAAAAAAAAAAAAAAAAAAAAAAAAAAAAAAAAAAAAAAAAAAAAAAAAAAAAAAAAAAAAAAAAAAAAAAAAAAAAAAAAAAAAAAAAAAAAAAAAAAAAAAAAAAAAAAAAAAAAAAAAAAAAAAAAAAAAAAAAAAAAAAAAAAAAAAAAAAAAAAAAAAAAAAAAAAAAAAAAAAAAAAAAAAAAAAAAAAAAAAAAAAAAAAAAAAAAAAAAAAAAAAAAAAAAAAAAAAAAAAAAAAAAAAAAAAAAAAAAAAAAAAAAAAAAAAAAAAAAAAAAAAAAAAAAAAAAAAAAAAAAAAAAAAAAAAAAAAAAAAAAAAAAAAAAAAAAAAAAAAAAAAAAAAAAAAAAAAAAAAAAAAAAAAAAAAAAAAAAAAAAAAAAAAAAAAAAAAAAAAAAAAAAAAAAAAAAAAAAAAAAAAAAAAAAAAAAAAAAAAAAAAAAAAAAAAAAAAAAAAAAAAAAAAAAAAAAAAAAAAAAAAAAAAAAAAAAAAAAAAAAAAAAAAAAAAAAAAAAAAAAAAAAAAAAAAAAAAAAAAAAAAAAAAAAAAAAAAAAAAAAAAAAAAAAAAAAAAAAAAAAAAAAAAAAAAAAAAAAAAAAAAAAAAAAAAAAAAAAAAAAAAAAAAAAAAAAAAAAAAAAAAAAAAAAAAAAAAAAAAAAAAAAAAAAAAAAAAAAAAAAAAAAAAAAAAAAAAAAAAAAAAAAAAAAAAAAAAAAAAAAAAAAAAAAAAAAAAAAAAAAAAAAAAAAAAAAAAAAAAAAAAAAAAAAAAAAAAAAAAAAAAAAAAAAAAAAAAAAAAAAAAAAAAAAAAAAAAAAAAAAAAAAAAAAAAAAAAAAAAAAAAAAAAAAAAAAAAAAAAAAAAAAAAAAAAAAAAAAAAAAAAAAAAAAAAAAAAAAAAAAAAAAAAAAAAAAAAAAAAAAAAAAAAAAAAAAAAAAAAAAAAAAAAAAAAAAAAAAAAAAAAAAAAAAAAAAAAAAAAAAAAAAAAAAAAAAAAAAAAAAAAAAAAAAAAAAAAAAAAAAAAAAAAAAAAAAAAAAAAAAAAAAAAAAAAAAAAAAAAAAAAAAAAAAAAAAAAAAAAAAAAAAAAAAAAAAAAAAAAAAAAAAAAAAAAAAAAAAAAAAAAAAAAAAAAAAAAAAAAAAAAAAAAAAAAAAAAAAAAAAAAAAAAAAAAAAAAAAAAAAAAAAAAAAAAAAAAAAAAAAAAAAAAAAAAAAAAAAAAAAAAAAAAAAAAAAAAAAAAAAAAAAAAAAAAAAAAAAAAAAAAAAAAAAAAAAAAAAAAAAAAAAAAAAAAAAAAAAAAAAAAAAAAAAAAAAAAAAAAAAAAAAAAAAAAAAAAAAAAAAAAAAAAAAAAAAAAAAAAAAAAAAAAAAAAAAAAAAAAAAAAAAAAAAAAAAAAAAAAAAAAAAAAAAAAAAAAAAAAAAAAAAAAAAAAAAAAAAAAAAAAAAAAAAAAAAAAAAAAAAAAAAAAAAAAAAAAAAAAAAAAAAAAAAAAAAAAAAAAAAAAAAAAAAAAAAAAAAAAAAAAAAAAAAAAAAAAAAAAAAAAAAAAAAAAAAAAAAAAAAAAAAAAAAAAAAAAAAAAAAAAAAAAAAAAAAAAAAAAAAAAAAAAAAAAAAAAAAAAAAAAAAAAAAAAAAAAAAAAAAAAAAAAAAAAAAAAAAAAAAAAAAAAAAAAAAAAAAAAAAAAAAAAAAAAAAAAAAAAAAAAAAAAAAAAAAAAAAAAAAAAAAAAAAAAAAAAAAAAAAAAAAAAAAAAAAAAAAAAAAAAAAAAAAAAAAAAAAAAAAAAAAAAAAAAAAAAAAAAAAAAAAAAAAAAAAAAAAAAAAAAAAAAAAAAAAAAAAAAAAAAAAAAAAAAAAAAAAAAAAAAAAAAAAAAAAAAAAAAAAAAAAAAAAAAAAAAAAAAAAAAAAAAAAAAAAAAAAAAAAAAAAAAAAAAAAAAAAAAAAAiu4+fndeUmZvX3RgAAAAAAAAAAAAAAADZ/0m0/5SqIKM5FxuBzEgZZuptlgAAAAAAAAAAAAAAAAAAAAAAAAAAAAAAAAAAAAAAAAAAAAAAAAAAAAAAAAAAAAAAAAAAAAAAAAAAAAAAAAAAAAAAAAAAAAAAAAAAAAAAAAAAAAAAAAAAAAAAAAAAAAAAAAAAAAAAAAAAAAAAAAAAAAAAAAAAAAAAAAAAAAAAAAAAAAAAAAAAAAAAAAAAAAAAAAAAAAAAAAAAAAAAAAAAAAAAAAAAAAAAAAAAAAAAAAAAAAAAAAAAAAAAAAAAAAAAAAAAAAAAAAAAAAAAAAAAAAAAAAAAAAAAAAAAAAAAAAAAAAAAAAAAAAAAAAAAAAAAAAAAAAAAAAAAAAAAAAAAAAAAAAAAAAAAAAAAAAAAAAAAAAAAAAAAAAAAAAAAAAAAAAAAAAAAAAAAAAAAAAAAAAAAAAAAAAAAAAAAAAAAAAAAAAAAAAAAAAAAAAAAAAAAAAAAAAAAAAAAAAAAAAAAAAAAAAAAAAAAAAAAAAAAAAAAAAAAAAAAAAAAAAAAAAAAAAAAAAAAAAAAAAAAAAAAAAAAAAAAAAAAAAAAAAAAAAAAAAAAAAAAAAAAAAAAAAAAAAAAAAAAAAAAAAAAAAAAAAAAAAAAAAAAAAAAAAAAAAAAAAAAAAAAAAAAAAAAAAAAAAAAAAAAAAAAAAAAAAAAAAAAAAAAAAAAAAAAAAAAAAAAAAAAAAAAAAAAAAAAAAAAAAAAAAAAAAAAAAAAAAAAAAAAAAAAAAAAAAAAAAAAAAAAAAAAAAAAAAAAAAAAAAAAAAAAAAAAAAAAAAAAAAAAAAAAAAAAAAAAAAAAAAAAAAAAAAAAAAAAAAAAAAAAAAAAAAAAAAAAAAAAAAAAAAAAAAAAAAAAAAAAAAAAAAAAAAAAAAAAAAAAAAAAAAAAAAAAAAAAAAAAAAAAAAAAAAAAAAAAAAAAAAAAAAAAAAAAAAAAAAAAAAAAAAAAAAAAAAAAAAAAAAAAAAAAAAAAAAAAAAAAAAAAAAAAAAAAAAAAAAAAAAAAAAAAAAAAAAAAAAAAAAAAAAAAAAAAAAAAAAAAAAAAAAAAAAAAAAAAAAAAAAAAAAAAAAAAAAAAAAAAAAAAAAAAAAAAAAAAAAAAAAAAAAAAAAAAAAAAAAAAAAAAAAAAAAAAAAAAAAAAAAAAAAAAAAAAAAAAAAAAAAAAAAAAAAAAAAAAAAAAAAAAAAAAAAAAAAAAAAAAAAAAAAAAAAAAAAAAAAAAAAAAAAAAAAAAAAAAAAAAAAAAAAAAAAAAAAAAAAAAAAAAAAAAAAAAAAAAAAAAAAAAAAAAAAAAAAAAAAAAAAAAAAAAAAAAAAAAAAAAAAAAAAAAAAAAAAAAAAAAAAAAAAAAAAAAAAAAAAAAAAAAAAAAAAAAAAAAAAAAAAAAAAAAAAAAAAAAAAAAAAAAAAAAAAAAAAAAAAAAAAAAAAAAAAAAAAAAAAAAAAAAAAAAAAAAAAAAAAAAAAAAAAAAAAAAAAAAAAAAAAAAAAAAAAAAAAAAAAAAAAAAAAAAAAAAAAAAAAAAAAAAAAAAAAAAAAAAAAAAAAAAAAAAAAAAAAAAAAAAAAAAAAAAAAAAAAAAAAAAAAAAAAAAAAAAAAAAAAAAAAAAAAAAAAAAAAAAAAAAAAAAAAAAAAAAAAAAAAAAAAAAAAAAAAAAAAAAAAAAAJoa+STYaJIncRD4vpVJOScoV6Sm77fvvztr06bCLienshzfqRzvbcBAxKCnubd9JvtxMady9rwnydI0qECuCT++gGMoEF2/J3hUAT+riasoBm1EpeENbyfTz0hBfTXpJc6hxaefXcmkAAAAAAAAAAAAAAAAAAAAAAAAAAAAAAAAAAAAAAAAAAAAAAAAAAAAAAAAAAAAAAAAAAAAAAAAAAAAAAAAAAAAAAAAAAAAAAAAAAAAAAAAAAAAAAAAAAAAAAAAAAAAAAAAAAAAAAAAAAAAAAAAAAAAAAAAAAAAAAAAAAAAAAAAAAAAAAAAAAAAAAAAAAAAAAAAAAAAAAAAAAAAAAAAAAAAAAAAAAAAAAAAAAAAAAAAAAAAAAAAAAAAAAAAAAAAAAAAAAAAAAAAAAAAAAAAAAAAAAAAAAAAAAAAAAAAAAAAAAAAAAAAAAAAAAAAAAAAAAAAAAAAAAAAAAAAAAAAAAAAAAAAAAAAAAAAAAAAAAAAAAAAAAAAAAAAAAAAAAAAAAAAAAAAAAAAAAAAAAAAAAAAAAAAAAAAAAAAAAAAAAAAAAAAAAAAAAAAAAAAAAAAAAAAAAAAAAAAAAAAAAAAAAAAAAAAAAAAAAAAAAAAAAAAAAAAAAAAAAAAAAAAAAAAAAAAAAAAAAAAAAAAAAAAAAAAAAAAAAAAAAAAAAAAAAAAAAAAAAAAAAAAAAAAAAAAAAAAAAAAAAAAAAAAAAAAAAAAAAAAAAAAAAAAAAAAAAAAAAAAAAAAAAAAAAAAAAAAAAAAAAAAAAAAAAAAAAAAAAAAAAAAAAAAAAAAAAAAAAAAAAAAAAAAAAAAAAAAAAAAAAAAAAAAAAAAAAAAAAAAAAAAAAAAAAAAAAAAAAAAAAAAAAAAAAAAAAAAAAAAAAAAAAAAAAAAAAAAAAAAAAAAAAAAAAAAAAAAAAAAAAAAAAAAAAAAAAAAAAAAAAAAAAAAAAAAAAAAAAAAAAAAAAAAAAAAAAAAAAAAAAAAAAAAAAAAAAAAAAAAAAAAAAAAAAAAAAAAAAAAAAAAAAAAAAAAAAAAAAAAAAAAAAAAAAAAAAAAAAAAAAAAAAAAAAAAAAAAAAAAAAAAAAAAAAAAAAAAAAAAAEIf/bnFRzU6a3yimAAAAAAAAAAAAAAAAE0kXJyiUgW7psKmOiTnzxx5ATq6AAAAAAAAAAAAAAAAAAAAAAAAAAAAAAAAAAAAAAAAAAAAAAAAAAAAAAAAAAAAAAAAAAAAAAAAAAAAAAAAAAAAAAAAAAAAAAAAAAAAAAAAAAAAAAAAAAAAAAAAAAAAAAAAAAAAAAAAAAAAAAAAAAAAAAAAAAAAAAAAAAAAAAAAAAAAAAAAAAAAAAAAAAAAAAAAAAAAAAAAAAAAAAAAAAAAAAAAAAAAAAAAAAAAAAAAAAAAAAAAAAAAAAAAAAAAAAAAAAAAAAAAAAAAAAAAAAAAAAAAAAAAAAAAAAAAAAAAAAAAAAAAAAAAAAAAAAAAAAAAAAAAAAAAAAAAAAAAAAAAAAAAAAAAAAAAAAAAAAAAAAAAAAAAAAAAAAAAAAAAAAAAAAAAAAAAAAAAAAAAAAAAAAAAAAAAAAAAAAAAAAAAAAAAAAAAAAAAAAAAAAAAAAAAAAAAAAAAAAAAAAAAAAAAAAAAAAAAAAAAAAAAAAAAAAAAAAAAtNaBN37EeZt5hgKaAAAAAAAAAAAAAAAAPghEuAFiiDhbbg6cjP+SHK9kwRkAAAAAAAAAAAAAAAAAAAAAAAAAAAAAAAAAAAAAAAAAAAAAAAAAAAAAAAAAAAAAAAAAAAAAxHtqoUXZI5l9QYw8+46hooYi/KHnMpY5zoH+nxjtmp3FrAempOqJPYKwKaLyvu4is11foQAAAAAAAAAAblXSNnwgNxtg7reaAAAAAAAAAAAAAAAA/5SqIIos+Dc9GRyer/03m+EYqxkAAAAAAAAAALTWgTcCC9+bcrgUmwAAAAAAAAAAAAAAAD4IRDgBYog43fKVnHbMAJ03YFObAAAAAAAAAAAAAAAAAAAAAAAAAAAAAAAAAAAAAAAAAAAAAAAAAAAAAAAAAAAAAAAAAAAAAAAAAAAAAAAAAAAAAAAAAAAAAAAAAAAAAAAAAAAAAAAAAAAAAAAAAAAAAAAAAAAAAAAAAAAAAAAAAAAAAAAAAAAAAAAAAAAAAAAAAAAAAAAAAAAAAAAAAAAAAAAAAAAAAAAAAAAAAAAAAAAAAAAAAAAAAAAAAAAAAAAAAAAAAAAAAAAAAAAAAAAAAAAAAAAAAAAAAAAAAAAAAAAAAAAAAAAAAAAAAAAAAAAAAAAAAAAAAAAAAAAAAAAAAAAAAAAAAAAAAAAAAAAAAAAAAAAAAAAAAAAAAAAAAAAAAAAAAAAAAAAAAAAAAAAAAAAAAAAAAAAAAAAAAAAAAAAAAAAAAAAAAAAAAAAAAAAAAAAAAAAAAAAAAAAAAAAAAAAAAAAAAAAAAAAAAAAAAAAAAAAAAAAAAAAAAAAAAAAAAAAAAAAAQh/9ucVHNbrRuCibAAAAAAAAAAAAAAAA7mw3nKJSBbumwqa600u4nHkBOjoAAAAAAAAAAAAAAAAAAAAAAAAAAAAAAAAAAAAAAAAAAAAAAAAAAAAAAAAAAAAAAAAAAAAAAAAAAAAAAAAAAAAAAAAAAAAAAAAAAAAAAAAAAAAAAAAAAAAAAAAAAAAAAAAAAAAAAAAAAAAAAAAAAAAAAAAAAAAAAAAAAAAAAAAAAAAAAAAAAAAAAAAAAAAAAAAAAAAAAAAAAAAAAAAAAAAAAAAAAAAAAAAAAAAAAAAAAAAAAAAAAAAAAAAAAAAAAAAAAAAAAAAAAAAAAAAAAAAAAAAAAAAAAAAAAAAAAAAAAAAAAAAAAAAAAAAAAAAAAAAAAAAAAAAAAAAAAAAAAAAAAAAAAAAAAAAAAAAAAAAAAAAAAAAAAAAAAAAAAAAAAAAAAAAAAAAAAAAAAAAAAAAAAAAAAAAAAAAAAAAAAAAAAAAAAAAAAAAAAAAAAAAAAAAAAAAAAAAAAAAAAAAAAAAAAAAAAAAAAAAAAAAAAAAAAAAAAAAAAAAAAAAAAAAAAAAAAAAAAAAAAAAAAAAAAAAAAAAAAAAAAAAAAAAAAAAAAAAAAAAAAAAAAAAAAAAAAAAAAAAAAAAAAAAAAAAAAAAAAAAAAAAAAAAAAAAAAAAAAAAAAAAAAAAAAAAAAAAAAAAAAAAAAAAAAAAAAAAAAAAAAAAAAAAAAAAAAAAAAAAAAAAAAAAAAAAAAAAAAAAAAAAAAAAAAAAAAAAAAAAAAAAAAAAAAAAAAAAAAAAAAAAAAAAAAAAAAAAAAAAAAAAAAAAAAAAAAAAAAAAAAAAAAAAAAAAAAAAAAAAAAAAAAAAAAAAAAAAAAAAAAAAAAAAAAAAAAAAAAAAAAAAAAAAAAAAAAAAAAAAAAAAAAAAAAAAAAAAAAAAAAAAAAAAAAAAAAAAAAAAAAAAAAAAAAAAAAAAAAAAAAAAAAAAAAAAAAAAAAAAAAAAAAAAAAAAAAAAAAAAAAAAAAAAAAAAAAAAAAAAAAAAAAAAAAAAAAAAAAAAAAAAAAAAAAAAAAAAAAAAAAAAAAAAAAAAAAAAAAAAAAAAAAAAAAAAAAAAAAAAAAAAAAAAAAAAAAAAAAAAAAAAAAAAAAAAAAAAAAAAAAAAAAAAAAAAAAAAAAAAAAAAAAAAAAAAAAAAAAAAAAAAAAAAAAAAAAAAAAAAAAAAAAAAAAAAAAAAAAAAAAAAAAAAAAAAAAAAAAAAAAAAAAAAAAAAAAAAAAAAAAAAAAAAAAAAAAAAAAAAAAAAAAAAAAAAAAAAAAAAAAAAAAAAAAAAAAAAAAAAAAAAAAAAAAAAAAAAAAAAAAAAAAAAAAAAAAAAAAAAAAAAAAAAAAAAAAAAAAAAAAAAAAAAAAAAAAAAAAAAAAAAAAAAAAAAAAAAAAAAAAAAAAAAAAAAAAAAAAAAAAAAAAAAAAAAAAAAAAAAAAAAAAAAAAAAAAAAAAAAAAAAAAAAAAAAAAAAAAAAAAAAAAAAAAAAAAAAAAAAAAAAAAAAAAAAAAAAAAAAAAAAAAAAAAAAAAAAAAAAAAAAAAAAAAAAAAAAAAAAAAAAAAAAAAAAAAAAAAAAAAAAAAAAAAAAAAAAAAAAAAAAAAAAAAAAAAAAAAAAAAAAAAAAAAAAAAAAAAAAAAAAAAAAAAAAAAAAAAAAAAAAAAAAAAAAAAAAAAAAAAAAAAAAAAAAAAAAAAAAAAAAAAAAAAAAAAAAAAAAAAAAAAAAAAAAAAAAAAAAAAAAAAAAAAAAAAAAAAAAAAAAAAAAAAAAAAAAAAAAAAAAAAAAAAAAAAAAAAAAAAAAAAAAAAAAAAAAAAAAAAAAAAAAAAAAAAAAAAAAAAAAAAAAAAAAAAAAAAAAAAAAAAAAAAAAAAAAAAAAAAAAAAAAAAACJsZg7AAAAAHqfWrwvrdg625Z6vOHCy7hHARk4JjTPuBzPGT2RtE+7lV7FvPUJhrunnL47VWIQOwAAAAALwEa88i9HPJ3Na7xgYkGyYGJBMqJyQbJ3ZvE8IaTKvEjNTLsqRPK8wDq0O9MdqT5NzZ8+NrRQvshQQDy0sJ6lSSCuvqtImD2EhKUk+HwYJhqVYD6Pogs+s8DrJcWToz7fIrM95ryfPOXNsb2GCMU9Zk0woykvhL33pYc9QckSIrZYPSMLr4S9RTUqPX9tKyNKyAO9ibGYOwAAAAB6n1q8L63YOtuWejzhwsu4RwEZOCY0zzgczxm9kbRPu5Vexbz1CYY7p5y+O1ViEDsAAAAAC8BGvPIvRzydzWs8YGJBsmBiQTKickEyd2bxvCGkyrxIzUy7KkTyPMA6tDsAAAAAAAAAAAAAAAAAAAAAAAAAAAAAAAAAAAAAAAAAAAAAAAAAAAAAAAAAAAAAAAAAAAAAAAAAAAAAAAAAAAAAAAAAAAAAAAAAAAAAAAAAAAAAAAAAAAAAAAAAAAAAAAAAAAAAAAAAAAAAAAAAAAAAAAAAAAAAAAAAAAAAAAAAAAAAAAAAAAAAAAAAAAAAAAAAAAAAAAAAAAAAAAAAAAAAAAAAAAAAAAAAAAAAAAAAAAAAAAAAAAAAAAAAAAAAAAAAAAAAAAAAAAAAAAAAAAAAw2DAo09B46LR2TQ9m9/jo4LHxqScLyU9BVWMIvSYmyNKjmK7uyS0vHv9N6XnROykBIeRpLY4ISEXeOeevYDTPB5lJSR6YAAkcTXnO7VkkqEBZhgitRJUvX3KGz1s0mkk2Uq6pDY7niR68mco/Hi3JlrfLD9qMiwnQa9FpzBuLkCiRVKn4sHlJquEKyrW64nA/i7/pVUotScfOfomLjUEpiIqfCUn0zg+YUrwpmLa4yWtgJ8+xMgTpmTMd6WSmdioqYHgvkrSGycg9Xmm7gmlJS9y0STjKpaj0dk0PaaChCMiahklnC8lPRaLKiNMWg2jSo5iO7sktLxcw9Wka3ZjJHs/mCM22d8iwbgqH72A0zwwqdYiIKrlJHE15ztTE5EiWQNGIrUSVD19yhs9ZY/OI7fv0iNYfEMhAAAAAAAAAAAAAAAAAAAAAAAAAAAAAAAAAAAAAAAAAAAAAAAAAAAAAAAAAAAAAAAAAAAAAAAAAAAAAAAAAAAAAAAAAAAAAAAAAAAAAAAAAAAAAAAAAAAAAAAAAAAAAAAAAAAAAAAAAAAAAAAAAAAAAAAAAAAAAAAAAAAAAAAAAAAAAAAAAAAAAAAAAAAAAAAAAAAAAAAAAAAAAAAAAAAAAAAAAAAAAAAAAAAAAAAAAAAAAAAAAAAAAAAAAAAAAAAAAAAAAAAAAAAAAAAAAAAAAImxmLsAAAAAep9avC+t2Lrblno84cLLuEcBGbgmNM84HM8ZPZG0T7uVXsU89QmGO6ecvrtVYhC7AAAAAAvARrzyL0e8nc1rPGBiQbJgYkGyonJBMndm8TwhpMq8SM1MOypE8jzAOrS70x2pvk3Nn742tFC+yFBAvG8sriNJIK6+q0iYvT0zxSQ6skilGpVgPo+iC74H9b4lxZOjvt8is73mvJ+85c2xvYYIxb14aB2kKS+Evfelh73hOkwi6HZLpQuvhL1FNSq9A8/mpErIAz2JsZi7AAAAAHqfWrwvrdi625Z6vOHCy7hHARm4JjTPuBzPGb2RtE+7lV7FPPUJhrunnL67VWIQuwAAAAALwEa88i9HvJ3Na7xgYkGyYGJBsqJyQbJ3ZvG8IaTKvEjNTDsqRPK8wDq0uwAAAAAAAAAAAAAAAAAAAAAAAAAAAAAAAAAAAAAAAAAAAAAAAAAAAAAAAAAAAAAAAAAAAAAAAAAAAAAAAAAAAAAAAAAAAAAAAAAAAAAAAAAAAAAAAAAAAAAAAAAAAAAAAAAAAAAAAAAAAAAAAAAAAAAAAAAAAAAAAAAAAAAAAAAAAAAAAAAAAAAAAAAAAAAAAAAAAAAAAAAAAAAAAAAAAAAAAAAAAAAAAAAAAAAAAAAAAAAAAAAAAAAAAAAAAAAAAAAAAAAAAAAAAAAAAAAAAAAAAAAAAAAAAAAAAAAAAAAAAAAAAAAAAAAAAAAAAAAAAAAAAAAAAAAAAAAAAAAAAAAAAAAAAAAAAAAAAAAAAAAAAAAAAAAAAAAAAAAAAAAAAAAAAAAAAAAAAAAAAAAAAAAAAAAAAAAAAAAAAAAAAAAAAAAAAAAAAAAAAAAAAAAAAAAAAAAAAAAAAAAAAAAAAAAAAAAAAAAAAAAAAAAAAAAAAAAAAAAAAAAAAAAAAAAAAAAAAAAAAAAAAAAAAAAAAAAAAAAAAAAAAAAAAAAAAAAAAAAAAAAAAAAAAAAAAAAAAAAAAAAAAAAAAAAAAAAAAAAAAAAAAAAAAAAAAAAAAAAAAAAAAAAAAAAAAAAAAAAAAAAAAAAAAAAAAAAAAAAAAAAAAAAAAAAAAAAAAAAAAAAAAAAAAAAAAAAAAAAAAAAAAAAAAAAAAAAAAAAAAAAAAAAAAAAAAAAAAAAAAAAAAAAAAAAAAAAAAAAAAAAAAAAAAAAAAAAAAAAAAAAAAAAAAAAAAAAAAAAAAAAAAAAAAAAAAAAAAAAAAAAAAAAAAAAAAAAAAAAAAAAAAAAAAAAAAAAAAAAAAAAAAAAAAAAAAAAAAAAAAAAAAAAAAAAAAAAAAAAAAAAAAAAAAAAAAAAAAAAAAAAAAAAAAAAAAAAAAAAAAAAAAAAAAAAAAAAAAAAAAAAAAAAAAAAAAAAAAAAAAAAAAAAAAAAAAAAAAAAAAAAAAAAAAAAAAAAAAAAAAAAAAAAAAAAAAAAAAAAAAAAAAAAAAAAAAAAAAAAAAAAAAAAAAAAAAAAAAAAAAAAAAAAAAAAAAAAAAAAAAAAAAAAAAAAAAAAAAAAAAAAAAAAAAAAAAAAAAAAAAAAAAAAAAAAAAAAAAAAAAAAAAAAAAAAAAAAAAAAAAAAAAAAAAAAXlaU2KjWMtrb8xpoAAAAAAAAAAAAAAABQXqIbqQKtN92bgzZPXG6ag2MxNwAAAAAAAAAAAAAAAAAAAAAAAAAAAAAAAAAAAAAAAAAAAAAAAAAAAAAAAAAAAAAAAAAAAAAAAAAAAAAAAAAAAAAAAAAAAAAAAAAAAAAAAAAAAAAAAAAAAAAAAAAAAAAAAAAAAAAAAAAAAAAAAAAAAAAAAAAAAAAAAAAAAAAAAAAAAAAAAAAAAAAAAAAAAAAAAAAAAAAAAAAAAAAAAAAAAAAAAAAAAAAAAAAAAAAAAAAAAAAAAAAAAAAAAAAAAAAAAAAAAAAAAAAAAAAAAAAAAAAAAAAAAAAAAAAAAAAAAAAAAAAAAAAAAAAAAAAAAAAAAAAAAAAAAAAAAAAAAAAAAAAAAAAAAAAAAAAAAAAAAAAAAAAAAAAAAAAAAAAAAAAAAAAAAAAAAAAAAAAAAAAAAAAAAAAAAAAAANBoBrsAAAAAqCItPMsSoDse+0E8AAAAAAAAAAAAAAAArxMBvQdAUbz3aX08uIltvLpDfrs2hje3rKKzMwMV6rg2osW80h6OuTcqmLbdV+O70z2ptqfTizkNtgY9W15WuWyWQj10JNI5mmBovgaIJ75skkM+IYGxPe2zMKRjgGg+N6DlPcVrCiSkzJQl8dTnPT++q7x4IpAjjQK5vSRpsTwklmU8OsQZvYV+er1bzhumMc9jvDG2l77MMcukWAbhpX11cb8hkHU8isJdpp5sS73QaAa7AAAAAKgiLTzLEqA7HvtBvAAAAAAAAAAAAAAAAK8TAT0HQFG892l9PLiJbTy6Q367NoY3t6yiszMDFeq4NqLFvNIejjk3Kpi23Vfju9M9qTan04u5DbYGPVteVrlslkK9dCTSOQAAAAAAAAAAAAAAAAAAAAAAAAAAAAAAAAAAAAAAAAAAAAAAAAAAAAAAAAAAAAAAAAAAAAAAAAAAAAAAAAAAAAAAAAAAAAAAAAAAAAAAAAAAAAAAAAAAAAAAAAAAAAAAAAAAAAAAAAAAAAAAAAAAAAAAAAAAAAAAAAAAAAAAAAAAAAAAAAAAAAAAAAAAAAAAAAAAAAAAAAAAAAAAAAAAAAAAAAAAKiEWMVRdSRim/NKXAAAAAAAAAAAAAAAA2EwjspVDTrTk5uoaQwUeGEpvxRkm8roi2gGPoT+dIb1H4dajluthojWhvrzN904jeilko+MBSj0ZXig8Z28AJNfhGSXAhpIj1GOLJFu/sqKT2i87jg6JpTHjXiVTG3A6MNGCpKBliqTSLPi7qJypPYeUWSQTquMkiqyvJDolx6ONgneiP50hvWo3WCQiRLSiNaG+vKbLs6IetCOi4wFKvRleKDxyXAqjvYO/JIxnL6T/x9SkuSIgpJPaLzuFiRWlzz8kJFMbcDqQWrgjkWTqo9Is+DuonKk9Z2MLpWK6w6WthV4mAAAAAAAAAAAAAAAAAAAAAAAAAAAAAAAAAAAAAAAAAAAAAAAAAAAAAAAAAAAAAAAAAAAAAAAAAAAAAAAAKiEWMbI2YplNV/0XAAAAAAAAAAAAAAAA2EwjMpVDTrRA2Z6ZUAU2mp0pC5sAAAAAAAAAAAAAAAAAAAAAAAAAAAAAAAAAAAAAAAAAAAAAAAAAAAAAAAAAAAAAAAAAAAAAAAAAAAAAAAAAAAAAAAAAAAAAAAAAAAAAAAAAAAAAAAAAAAAAAAAAAAAAAAAAAAAAAAAAANBoBjsAAAAAqCItPMsSoLse+0G8AAAAAAAAAAAAAAAArxMBvQdAUbz3aX28uIltPLpDfjs2hjc3rKKzswMV6rg2osU80h6OOTcqmLbdV+M70z2pNqfTizkNtgY9W15WOWyWQr10JNK5mmBoPgaIJz5skkM+IYGxvbCCJ6RjgGg+N6DlvbmEcaQ4MVIl8dTnPT++qzy0/4aljQK5PSRpsbwklmW8OsQZvYV+ej1HNfajMc9jvDG2lz7fc70kmSlwJH11cb8hkHW8A5REJp5sSz3QaAY7AAAAAKgiLTzLEqC7HvtBPAAAAAAAAAAAAAAAAK8TAT0HQFG892l9vLiJbby6Q347NoY3N6yis7MDFeq4NqLFPNIejrk3Kpi23VfjO9M9qban04u5DbYGPVteVjlslkI9dCTSuQAAAAAAAAAAAAAAAAAAAAAAAAAAAAAAAAAAAAAAAAAAAAAAAAAAAAAAAAAAAAAAAAAAAAAAAAAAAAAAAAAAAAAAAAAAAAAAAAAAAAAAAAAAAAAAAAAAAAAAAAAAAAAAAAAAAAAAAAAAAAAAAAAAAAAAAAAAAAAAAAAAAAAAAAAAAAAAAAAAAAAAAAAAAAAAAAAAAAAAAAAAAAAAAAAAAAAAAAAAAAAAAAAAAAAAAAAAAAAAAAAAAAAAAAAAAAAAAAAAAAAAAAAAAAAAAAAAAAAAAAAAAAAAAAAAAAAAAAAAAAAAAAAAAAAAAAAAAAAAAAAAAAAAAAAAAAAAAAAAAAAAAAAAAAAAAAAAAAAAAAAAAAAAAAAAAAAAAAAAAAAAAAAAAAAAAAAAAAAAAAAAAAAAAAAAAAAAAAAAAAAAAAAAAAAAAAAAAAAAAAAAAAAAAAAAAAAAAAAAAAAAAAAAAAAAAAAAAAAAAAAAAAAAAAAAAAAAABeVpTYqNYw2tsP7GQAAAAAAAAAAAAAAAFTbjhqpAq033ZuDtuUVSBqDYzG3AAAAAAAAAAAAAAAAAAAAAAAAAAAAAAAAAAAAAAAAAAAAAAAAAAAAAAAAAAAAAAAAAAAAAAAAAAAAAAAAAAAAAAAAAAAAAAAAAAAAAAAAAAAAAAAAAAAAAAAAAAAAAAAAAAAAAAAAAAAAAAAAAAAAAAAAAAAAAAAAAAAAAAAAAAAAAAAAAAAAAAAAAAAAAAAAAAAAAAAAAAAAAAAAAAAAAAAAAAAAAAAAAAAAAAAAAAAAAAAAAAAAAAAAAAAAAAAAAAAAAAAAAAAAAAAAAAAAAAAAAAAAAAAAAAAAAAAAAAAAAAAAAAAAAAAAAAAAAAAAAAAAAAAAAAAAAAAAAAAAAAAAAAAAAAAAAAAAAAAAAAAAAAAAAAAAAAAAAAAAAAAAAAAAAAAAAAAAAAAAAAAAAAAAAAAAAAAAAAAAAAAAAAAAAAAAAAAAAAAAAAAAAAAAAAAAAAAAAAAAAAAAAAAAAAAAAAAAAAAAAAAAAAAAAAAAAAAAAAAAAAAAAAAAAAAAAAAAAAAAAAAAAAAAAAAAAAAAAAAAAAAAAAAAAAAAAAAAAAAAAAAAAAAAAAAAAAAAAAAAAAAAAAAAAAAAAAAAAAAAAAAAAAAAAAAAAAAAAAAAAAAAAAAAAAAAAAAAAAAAAAAAAAAAAAAAAAAAAAAAAAAAAAAAAAAAAAAAAAAAAAAAAAAAAAAAAAAAAAAAAAAAAAAAAAAAAAAAAAAAAAAAAAAAAAAAAAAAAAAAAAAAAAAAAAAAAAAAAAAAAAAAAAAAAAAAAAAAAAAAAAAAAAAAAAAAAAAAAAAAAAAAAAAAAAAAAAAAAAAAAAAAAAAAAAAAAAAAAAAAAAAAAAAAAAAAAAAAAAAAAAAAAAAAAAAAAAAAAAAAAAAAAAAAAAAAAAAAAAAAAAAAAAAAAAAAAAAAAAAAAAAAAAAAAAAAAAAAAAAAAAAAAAAAAAAAAAAAAAAAAAAAAAAAAAAAAAAAAAAAAAAAAAAAAAAAAAAAAAAAAAAAAAAAAAAAAAAAAAAAAAAAAAAAAAAAAAAAAAAAAAAAAAAAAAAAAAAAAAAAAAAAAAAAAAAAAAAAAAAAAAAAAAAAAAAAAAAAAAAAAAAAAAAAAAAAAAAAAAAAAAAAAAAAAAAAAAAAAAAAAAAAAAAAAAAAAAAAAAAAAAAAAAAAAAAAAAAAAABdaxC7AAAAAI3pRjw4HUc8NP9rPGNhQTJjYUEypXFBMmm18bwhpMq8pbZPOypE8rzic7S7AAAAAAAAAAAAAAAAAAAAAAAAAAAAAAAAAAAAAAAAAAAAAAAAAAAAAAAAAAAAAAAAAAAAAIexsL1xa6G8MXu3PR0tuj1uVJqiKSyFPbKviD34bTwh3WbiJAuvhL0AOba8D7QXJBdfJT0AAAAAAAAAAAAAAAAAAAAAAAAAAAAAAAAAAAAAAAAAAAAAAAAAAAAAAAAAAAAAAAAAAAAAXWsQuwAAAACN6UY8OB1HPDT/a7xjYUEyY2FBMqVxQbJptfE8IaTKvKW2TzsqRPI84nO0uwAAAAAAAAAAAAAAAAAAAAAAAAAAAAAAAAAAAAAAAAAAAAAAAAAAAAAAAAAAAAAAAAAAAAAAAAAAAAAAAAAAAAAAAAAAAAAAAAAAAAAAAAAAAAAAAAAAAAAAAAAAAAAAAAAAAAAAAAAAAAAAAAAAAAAAAAAAAAAAAAAAAAAAAAAAAAAAAAAAAAAAAAAAAAAAAAAAAAAAAAAAAAAAAAAAAAAAAAAAAAAAAAAAAAAAAAAAAAAAAAAAAAAAAAAAAAAAAAAAAAAAAAAAAAAAAAAAAAAAAAAAAAAAAAAAAAAAAAAAAAAAAAAAAAAAAAAAAAAAAAAAAAAAAAAAAAAAAAAAAAAAAAAAzAgoo5fXLB7tXNW8HLtHJKJjnSPjCOi7II9AoTDNHKDxaFk9fcobPcd+riNpgAKlkFsBpVMnPBwAAAAADnbJupDTjyHVMdYfMfaTMgAAAAAAAAAAUEmRJFx78Tv8b6miKXebIQeszB8EK8Emp0aLpO0gZr5qxiEnyYnGJce4zb6BzOullRZ7JUe93qipgeC+ts7PJo/h+aVhM/OlAAAAAAAAAAAAAAAAAAAAAAAAAAAAAAAAAAAAAAAAAAAAAAAAAAAAAAAAAAAAAAAAAAAAAC4JwqJFfbyf7VzVvASnmyTDYQUj4wjou2OljaFFIcgh8WhZvX3KGz1jW8SioTerJCOTV6MAAAAAAAAAAAAAAAAAAAAAAAAAAAAAAAAAAAAAAAAAAAAAAAAAAAAAAAAAAAAAAAAAAAAAAAAAAAAAAAAAAAAAAAAAAAAAAAAAAAAAAAAAAAAAAAAAAAAAAAAAAAAAAAAAAAAAAAAAAAAAAAAAAAAAAAAAAAAAAAAAAAAAAAAAAAAAAAAAAAAAAAAAAAAAAAAAAAAAAAAAAAAAAAAAAAAAAAAAAAAAAAAAAAAAAAAAAAAAAAAAAAAAAAAAAAAAAAAAAAAAAAAAAAAAAAAAAAAAAAAAAAAAAAAAAAAAAAAAAAAAAAAAAAAAAAAAAAAAAAAAAAAAAAAAAAAAAAAAAAAAAAAAAF1rEDsAAAAAjelGPDgdR7w0/2u8Y2FBMmNhQbKlcUGyabXxvCGkyryltk+7KkTyPOJztDsAAAAAAAAAAAAAAAAAAAAAAAAAAAAAAAAAAAAAAAAAAAAAAAAAAAAAAAAAAAAAAAAAAAAAh7GwPXFroTwxe7c9HS26vXm+UCQpLIU9sq+IvRHdwaGaodkkC6+EvQA5tjwgoeCkF18lvQAAAAAAAAAAAAAAAAAAAAAAAAAAAAAAAAAAAAAAAAAAAAAAAAAAAAAAAAAAAAAAAAAAAABdaxA7AAAAAI3pRjw4HUe8NP9rPGNhQTJjYUGypXFBMmm18TwhpMq8pbZPuypE8rzic7Q7AAAAAAAAAAAAAAAAAAAAAAAAAAAAAAAAAAAAAAAAAAAAAAAAAAAAAAAAAAAAAAAAAAAAAAAAAAAAAAAAAAAAAAAAAAAAAAAAAAAAAAAAAAAAAAAAAAAAAAAAAAAAAAAAAAAAAAAAAAAAAAAAAAAAAAAAAAAAAAAAAAAAAAAAAAAAAAAAAAAAAAAAAAAAAAAAAAAAAAAAAAAAAAAAAAAAAAAAAAAAAAAAAAAAAAAAAAAAAAAAAAAAAAAAAAAAAAAAAAAAAAAAAAAAAAAAAAAAAAAAAAAAAAAAAAAAAAAAAAAAAAAAAAAAAAAAAAAAAAAAAAAAAAAAAAAAAAAAAAAAAAAAAAAAAAAAAAAAAAAAAAAAAAAAAAAAAAAAAAAAAAAAAAAAAAAAAAAAAAAAAAAAAAAAAAAAAAAAAAAAAAAAAAAAAAAAAAAAAAAAAAAAAAAAAAAAAAAAAAAAAAAAAAAAAAAAAAAAAAAAAAAAAAAAAAAAAAAAAAAAAAAAAAAAAAAAAAAAAAAAAAAAAAAAAAAAAAAAAAAAAAAAAAAAAAAAAAAAAAAAAAAAAAAAAAAAAAAAAAAAAAAAAAAAAAAAAAAAAAAAAAAAAAAAAAAAAAAAAAAAAAAAAAAAAAAAAAAAAAAAAAAAAAAAAAAAAAAAAAAAAAAAAAAAAAAAAAAAAAAAAAAAAAAAAAAAAAAAAAAAAAAAAAAAAAAAAAAAAAAAAAAAAAAAAAAAAAAAAAAAAAAAAAAAAAAAAAAAAAAAAAAAAAAAAAAAAAAAAAAAAAAAAAAAAAAAAAAAAAAAAAAAAAAAAAAAAAAAAAAAAAAAAAAAAAAAAAAAAAAAAAAAAAAAAAAAAAAAAAAAAAAAAAAAAAAAAAAAAAAAAAAAAAAAAAAAAAAAAAAAAAAAAAAAAAAAAAAAAAAAAAAAAAAAAAAAAAAAAAAAAAAAAAAAAAAAAAAAAAAAAAAAAAAAAAAAAAAAAAAAAAAAAAAAAAAAAAAAAAAAAAAAAAAAAAAAAAAAAAAAAAAAAAAAAAAAAAAAAAAAAAAAAAAAAAAAAAAAAAAAAAAAAAAAAAAAAAAAAAAAAAAAAAAAAAAAAAAAAAAAAAAAAAAAAAAAAAAAAAAAAAAAAAAAAAAAAAAAAAAAAAAAAAAAAAAAAAAAAAAAAAAAAAAAAAAAAAAAAAAAAAAAAAAAAAAAAAAAAAAAAAAAAAAAAAAAAAAAAAAAAAAAAAAAAAAAAAAAAAAAAAAAAAAAAAAAAAAAAAAAAAAAAAAAAAAAAAAAAAAAAAAAAAAAAAAAAAAAAAAAAAAAAAAAAAAAAAAAAAAAAAAAAAAAAAAAAAAAAAAAAAAAAAAAAAAAAAAAAAAAAAAAAAAAAAAAAAAAAAAAAAAAAAAAAAAAAAAAAAAAAAAAAAAAAAAAAAAAAAAAAAAAAAAAAAAAAAAAAAAAAAAAAAAAAAAAAAAAAAAAAAAAAAAAAAAAAAAAAAAAAAAAAAAAAAAAAAAAAAAAAAAAAAAAAAAAAAAAAAAAAAAAAAAAAAAAAAAAAAAAAAAAAAAAAAAAAAAAAAAAAAAAAAAAAAAAAAAAAAAAAAAAAAAAAAAAAAAAAAAAAAAAAAAAAAAAAAAAAAAAAAAAAAAAAAAAAAAAAAAAAAAAAAAAAAAAAAAAAAAAAAAAAAAAAAAAAAAAAAAAAAAAAAAAAAAAAAAAAAAAAAAAAAAAAAAAAAAAAAAAAAAAAAAAAAAAAAAAAAAAAAAAAAAAAAAAAAAAAAAAAAAAAAAAAAAAAAAAAAAAAAAAAAAAAAAAAAAAAAAAAAAAAAAAAAAAAAAAAAAAAAAAAAAAAAAAAAAAAAAAAAAAAAAAAAAAAAAAAAAAAAAAAAAAAAAAAAAAAAAAAAAAAAAAAAAAAAAAAAAAAAAAAAAAAAAAAAAAAAAAAAAAAAAAAAAAAAAAAAAAAAAAAAAAAAAAAAAAAAAAAAAAAAAAAAAAAAAAAAAAAAAAAAAAAAAAAAAAAAAAAAAAAAAAAAAAAAAAAAAAAAAAAAAAAAAAAAAAAAAAAAAAAAAAAAAAAAAAAAAAAAAAAAAAAAAAAAAAAAAAAAAAAAAAAAAAAAAAAAAAAAAAAAAAAAAAAAAAAAAAAAAAAAAAAAAAAAAAAAAAAAAAAAAAAAAAAAAAAAAAAAAAAAAAAAAAAAAAAAAAAAAAAAAAAAAAAAAAAAAAAAAAAAAAAAAAAAAAAAAAAAAAAAAAAAAAAAAAAAAAAAAAAAAAAAAAAAAAAAAAAAAAAAAAAAAAAAAAAAAAAAAAAAAAAAAAAAAAAAAAAAAAAAAAAAAAAAAAAAAAAAAAAAAAAAAAAAAAAAAAAAAAAAAAAAAAAAAAAAAAAAAAAAAAAAAAAAAAAAAAAAAAAAAAAAAAAAAAAAAAAAAAAAAAAAAAAAAAAAAAAAAAAAAAAAAAAAAAAAAAAAAAAAAAAAAAAAAAAAAAAAAAAAAAAAAAAAAAAAAAAAAAAAAAAAAAAAAAAAAAAAAAAAAAAAAAAAAAAAAAAAAAAAAAAAAAAAAAAAAAAAAAAAAAAAAAAAAAAAAAAAAAAAAAAAAAAAAAr1LStokxBh3CUSqZAAAAAAAAAAAAAAAAK8+PIIos+DeHjJecU/t9m2o80ZcAAAAAAAAAAAAAAAAAAAAAAAAAAAAAAAAAAAAAAAAAAAAAAAAAAAAAAAAAAAAAAAAAAAAAAAAAAAAAAAAAAAAAAAAAAAAAAAAAAAAAAAAAAAAAAAAAAAAAAAAAAAAAAAAAAAAAAAAAAAAAAAAAAAAAAAAAAAAAAAAAAAAAAAAAAAAAAAAAAAAAAAAAAAAAAAAAAAAAAAAAAAAAAAAAAAAAAAAAAAAAAAAAAAAAAAAAAAAAAAAAAAAAAAAAAAAAAAAAAAAAAAAAAAAAAAAAAAAAAAAAAAAAAAAAAAAAAAAAAAAAAAAAAAAAAAAAAAAAAAAAAAAAAAAAAAAAAAAAAAAAAAAAAAAAAAAAAAAAAAAAAAAAAAAAAAAAAAAAAAAAAAAAAAAAAAAAAAAAAAAAAAAAAAAAAAAAAAAAAAAAAAAAAAAAAAAAAAAAAAAAAAAAAAAAAAAAAAAAAAAAAAAAAAAAAAAAAAAAAAAAAAAAAAAAAAAAAAAAAAAAAAAAAAAAAAAAAAAAAAAAAAAAAAAAAAAAAAAAAAAAAAAAAAAAAAAAAAAAAAAAAAAAAAAAAAAAAAAAAAAAAAAAAAAAAAAAAAAAAAAAAAAAAAAAAAAAAAAAAAAAAAAAAAAAAAAAAAAAAAAAAAAAAAAAAAAAAAAAAAAAAAAAAAAAAAAAAAAAAAAAAAAAAAAAAAAAAAAAAAAAAAAAAAAAAAAAAAAAAAAAAAAAAAAAAAAAAAAAAAAAAAAAAAAAAAAAAAAAAAAAAAAAAAAAAAAAAAAAAAAAAAAAAAAAAAAAAAAAAAAAAAAAAAAAAAAAAAAAAAAAAAAAAAAAAAAAAAAAAAAAAAAAAAAAAAAAAAAAAAAAAAAAAAAAAAAAAAAAAAAAAAAAAAAAAAAAAAAAAAAAAAAAAAAAAAAAAAAAAAAAAAAAAAAAAAAAAAAAAAAAAAAAAAAAAAAAAAAAAAAAAAAAAAAAAAAAAAAAAAAAAAAAAAAAAAAAAAAAAAAAAAAAAAAAAAAAAAAAAAAAAAAAAAAAAAAAAAAAAAAAAAAAAAAAAAAAAAAAAAAAAAAAAAAAAAAAAAAAAAAAAAAAAAAAAAAAAAAAAAAAAAAAAAAAAAAAAAAAAAAAAAAAAAAAAAAAAAAAAAAAAAAAAAAAAAAAAAAAAAAAAAAAAAAAAAAAAAAAAAAAAAAAAAAAAAAAAAAAAAAAAAAAAAAAAAAAAAAAAAAAAAAAAAAAAAAAAAAAAAAAAAAAAAAAAAAAAAAAAAAAAAAAAAAAAAAAAAAAAAAAAAAAAAAAAAAAAAAAAAAAAAAAAAAAAAAAAAAAAAAAAAAAAAAAAAAAAAAAAAAAAAAAAAAAAAAAAAAAAAAAAAAAAAAAAAAAAAAAAAAAAAAAAAAAAAAAAAAAAAAAAAAAAAAAAAAAAAAAAAAAAAAAAAAAAAAAAAAAAAAAAAAAAAAAAAAAAAAAAAAAAAAAAAAAAAAAAAAAAAAAAAAAAAAAAAAAAAAAAAAAAAAAAAAAAAAAAAAAAAAAAAAAAAAAAAAAAAAAAAAAAAAAAAAAAAAAAAAAAAAAAAAAAAAAAAAAAAAAAAAAAAAAAAAAAAAAAAAAAAAAAAAAAAAAAAAAAAAAAAAAAAAAAAAAAAAAAAAAAAAAAAAAAAAAAAAAAAAAAAAAAADYk5bAaYDGwB9ggyiJ0O+9F5zPqbRQjiiyG2M/l2+1qdPThCdTIbUnH4U3P59kSyof2+Ito+RuwHL2EsBQqoantaAhQOE/higxfVeoSMwtQFXtLygaYjAo6IQwJh5HvEDjTq6nqdzUrgAAAAAAAAAAAAAAAAAAAAAAAAAAAAAAAAAAAAAAAAAAAAAAAAAAAAAAAAAAAAAAAAAAAAAAAAAAAAAAAAAAAAAAAAAAAAAAAAAAAAAAAAAAAAAAAAAAAAAAAAAAAAAAAAAAAAAAAAAAAAAAAAAAAAAAAAAAAAAAAAAAAAAAAAAAAAAAAAAAAAAAAAAAAAAAAAAAAAAAAAAAAAAAAAAAAAAAAAAAAAAAAAAAAAAAAAAAAAAAAAAAAAAAAAAAAAAAAAAAAAAAAAAAAAAAAAAAAAAAAAAAAAAAAAAAAAAAAAAAAAAAAAAAAAAAAAAAAAAAAAAAAAAAAAAAAAAAAAAAAAAAAAAAAAAAAAAAAAAAAAAAAAAAAAAAAAAAAAAAAAAAAAAAAAAAAAAAAAAAAAAAAAAAAAAAAAAAAAAAAAAAAAAAAAAAAAAAAAAAAAAAAAAAAAAAAAAAAAAAAAAAAAAAAAAAAAAAAAAAAAAAAAAAAAAAAAAAAAAAAAAAAAAAAAAAAAAAAAAAAAAAAAAAAAAAAAAAAAAAAAAAAAAAAAAAAAAAAAAAAAAAAAAAAAAAAAAAAAAAAAAAAAAAAAAAAAAAAAAAAAAAAAAAAAAAAAAAAAAAAAAAAAAAAAAAAAAAAAAAAAAAAAAAAAAAAAAAAAAAAAAAAAAAAAAAAAAAAAAAAAAAAAAAAAAAAAAAAAAAAAAAAAAAAAAAAAAAAAAAAAAAAAAAAAAAAAAAAAAAAAAAAAAAAAAAAAAAAAAAAAAAAAAAAAAAAAAAAAAAAAAAAAAAAAAAAAAAAAAAAAAAAAAAAAAAAAAAAAAAAAAAAAAAAAAAAAAAAAAAAAAAAAAAAAAAAAAAAAAAAAAAAAAAAAAAAAAAAAAAAAAAAAAAAAAAAAAAAAAAAAAAAAAAAAAAAAAAAAAAAAAAAAAAAAAAAAAAAAAAAAAAAAAAAAAAAAAAAAAAAAAAAAAAAAAAAAAAAAAAAAAHcKI5u/PWuRqHLBoAAAAAAAAAAAAAAADQ2yscH7WmOqe5NbrR3cWcz437OQAAAAAAAAAAAAAAAAAAAAAAAAAAAAAAAAAAAAAAAAAAAAAAAAAAAAAAAAAAAAAAAAAAAAAAAAAAAAAAAAAAAAAAAAAAAAAAAAAAAAAAAAAAAAAAAAAAAAAAAAAAAAAAAAAAAAAAAAAAAAAAAAAAAAAAAAAAAAAAAAAAAAAAAAAAAAAAAAAAAAAAAAAAAAAAAAAAAAAAAAAAAAAAAAAAAAAAAAAAAAAAAAAAAAAAAAAAAAAAAAAAAAAAAAAAAAAAAAAAAAAAAAAAAAAAAAAAAAAAAAAAAAAAAAAAAAAAAAAAAAAAAAAAAAAAAAAAAAAAAAAAAAAAAAAAAAAAAAAAAAAAAAAAAAAAAAAAAAAAAAAAAAAAAAAAAAAAAAAAAAAAAAAAAAAAAAAAAAAAAAAAAAAAAAAAAAAAAAAAAAAAAAAAAAAAAAAAAAAAAAAAAAAAAAAAAAAAAAAAAAAAAAAAAAAAAAAAAAAAAAAAAAAAAAAAAAAAANuZPRu789a5B3CiOQAAAAAAAAAAAAAAAAqS05tzS1kcp7k1uh+1pjrPjfu5AAAAAAAAAAAAAAAAAAAAAAAAAAAAAAAAAAAAAAAAAAAAAAAAAAAAAAAAAAAAAAAAAAAAALnG3bz6KTw7Wn+tI/ujBb45KYwmxNmqH47cETzXTM4k7NvWIqNRmqNGOo++dLhTJ+WNtygrV74wAAAAAC7EURyV+iM6g/KQogAAAAAAAAAAAAAAAKM5FxuHjJecRZjTOtf9JqOdgTChAAAAAAAAAABO6TMZu/PWuQdworkAAAAAAAAAAAAAAABaSWMcKAm8G6e5Nboftaa6z437uQAAAAAAAAAAAAAAAAAAAAAAAAAAAAAAAAAAAAAAAAAAAAAAAAAAAAAAAAAAAAAAAAAAAAAAAAAAAAAAAAAAAAAAAAAAAAAAAAAAAAAAAAAAAAAAAAAAAAAAAAAAAAAAAAAAAAAAAAAAAAAAAAAAAAAAAAAAAAAAAAAAAAAAAAAAAAAAAAAAAAAAAAAAAAAAAAAAAAAAAAAAAAAAAAAAAAAAAAAAAAAAAAAAAAAAAAAAAAAAAAAAAAAAAAAAAAAAAAAAAAAAAAAAAAAAAAAAAAAAAAAAAAAAAAAAAAAAAAAAAAAAAAAAAAAAAAAAAAAAAAAAAAAAAAAAAAAAAAAAAAAAAAAAAAAAAAAAAAAAAAAAAAAAAAAAAAAAAAAAAAAAAAAAAAAAAAAAAAAAAAAAAAAAAAAAAAAAAAAAAAAAAAAAAAAAAAAAAAAAAAAAAAAAAAAAAAAAAAAAAAAAAAAAAAAAAAAAAAAAAAAAAAAAAAAAAAAAAAdworm789a5Kkm7mgAAAAAAAAAAAAAAAM/TMJwftaa6p7k1uiXJjBnPjfs5AAAAAAAAAAAAAAAAAAAAAAAAAAAAAAAAAAAAAAAAAAAAAAAAAAAAAAAAAAAAAAAAAAAAAAAAAAAAAAAAAAAAAAAAAAAAAAAAAAAAAAAAAAAAAAAAAAAAAAAAAAAAAAAAAAAAAAAAAAAAAAAAAAAAAAAAAAAAAAAAAAAAAAAAAAAAAAAAAAAAAAAAAAAAAAAAAAAAAAAAAAAAAAAAAAAAAAAAAAAAAAAAAAAAAAAAAAAAAAAAAAAAAAAAAAAAAAAAAAAAAAAAAAAAAAAAAAAAAAAAAAAAAAAAAAAAAAAAAAAAAAAAAAAAAAAAAAAAAAAAAAAAAAAAAAAAAAAAAAAAAAAAAAAAAAAAAAAAAAAAAAAAAAAAAAAAAAAAAAAAAAAAAAAAAAAAAAAAAAAAAAAAAAAAAAAAAAAAAAAAAAAAAAAAAAAAAAAAAAAAAAAAAAAAAAAAAAAAAAAAAAAAAAAAAAAAAAAAAAAAAAAAAAAAAAAAAAAAAAAAAAAAAAAAAAAAAAAAAAAAAAAAAAAAAAAAAAAAAAAAAAAAAAAAAAAAAAAAAAAAAAAAAAAAAAAAAAAAAAAAAAAAAAAAAAAAAAAAAAAAAAAAAAAAAAAAAAAAAAAAAAAAAAAAAAAAAAAAAAAAAAAAAAAAAAAAAAAAAAAAAAAAAAAAAAAAAAAAAAAAAAAAAAAAAAAAAAAAAAAAAAAAAAAAAAAAAAAAAAAAAAAAAAAAAAAAAAAAAAAAAAAAAAAAAAAAAAAAAAAAAAAAAAAAAAAAAAAAAAAAAAAAAAAAAAAAAAAAAAAAAAAAAAAAAAAAAAAAAAAAAAAAAAAAAAAAAAAAAAAAAAAAAAAAAAAAAAAAAAAAAAAAAAAAAAAAAAAAAAAAAAAAAAAAAAAAAAAAAAAAAAAAAAAAAAAAAAAAAAAAAAAAAAAAAAAAAAAAAAAAAAAAAAAAAAAAAAAAAAAAAAAAAAAAAAAAAAAAAAAAAAAAAAAAAAAAAAAAAAAAAAAAAAAAAAAAAAAAAAAAAAAAAAAAAAAAAAAAAAAAAAAAAAAAAAAAAAAAAAAAAAAAAAAAAAAAAAAAAAAAAAAAAAAAAAAAAAAAAAAAAAAAAAAAAAAAAAAAAAAAAAAAAAAAAAAAAAAAAAAAAAAAAAAAAAAAAAAAAAAAAAAAAAAAAAAAAAAAAAAAAAAAAAAAAAAAAAAAAAAAAAAAAAAAAAAAAAAAAAAAAAAAAAAAAAAAAAAAAAAAAAAAAAAAAAAAAAAAAAAAAAAAAAAAAAAAAAAAAAAAAAAAAAAAAAAAAAAAAAAAAAAAAAAAAAAAAAAAAAAAAAAAAAAAAAAAAAAAAAAAAAAAAAAAAAAAAAAAAAAAAAAAAAAAAAAAAAAAAAAAAAAAAAAAAAAAAAAAAAAAAAAAAAAAAAAAAAAAAAAAAAAAAAAAAAAAAAAAAAAAAAAAAAAAAAAAAAAAAAAAAAAAAAAAAAAAAAAAAAAAAAAAAAAAAAAAAAAAAAAAAAAAAAAAAAAAAAAAAAAAAAAAAAAAAAAAAAAAAAAAAAAAAAAAAAAAAAAAAAAAAAAAAAAAAAAAAAAAAAAAAAAAAAAAAAAAAAAAAAAAAAAAAAAAAAAAAAAAAAAAAAAAAAAAAAAAAAAAAAAAAAAAAAAAAAAAAAAAAAAAAAAAAAAAAAAAAAAAAAAAAAAAAAAAAAAAAAAAAAAAAAAAAAAAAAAAAAAAAAAAAAAAAAAAAAAAAAAAAAAAAAAAAAAAAAAAAAAAAAAAAAAAAAAAAAAAAAAAAAAAAAAAAAAAAAAAAAAAAAAAAAAAAAAAAAAAAAAAAAAAAAAAAAAAAAAAAAAAAAAAAAAAAAAAAAAAAAAAAAAAAAAAAAAAAAAAs5+zOwAAAADaZn68rRYhPNpmfrwBHu64FxJPOAEe7risphE92F/MvCU1YLzYX8y8P1zEqnBoYzUAAAAAF0umOlfUKTsXS6Y6wjAWLIA2liyULxYsdNnLu6W2T7vkqSY8pbZPu28zcqkY8D4+JlQaPsXky7387T0+QT4JJXjZCL7gYRE+u4ynpP6EL6UrGE2903soPnOAxiX+owk+MYu1vIist7scWXo9eTLfO6vw6SBSpsY80QRCvL/ZfqEroKojADm2PIQ83j07cggjUDS3PbOfszsAAAAA2mZ+vK0WITzaZn48AR7uuBcSTzgBHu44rKYRvdhfzLwlNWC82F/MPBdaxKpwaGM1AAAAABdLpjpX1Ck7F0umusIwFiyANpYslC8WrHTZyzultk+75KkmPKW2TzvgL3KpAAAAAAAAAAAAAAAAAAAAAAAAAAAAAAAAAAAAAAAAAAAAAAAAAAAAAAAAAAAAAAAAAAAAAAAAAAAAAAAAAAAAAAAAAAAAAAAAAAAAAAAAAAAAAAAAAAAAAAAAAAAAAAAAAAAAAAAAAAAAAAAAAAAAAAAAAAAAAAAAAAAAAAAAAAAAAAAAAAAAAAAAAAAAAAAAAAAAAAAAAAAAAAAAAAAAAAAAAAAAAAAAAAAAAAAAAAAAAAAAAAAAAAAAAAAAAAAAAAAAAAAAAAAAAAAAAAAAABjwPj4mVBo+bQTlJPztPT7F5Mu92DQ9JOBhET542Qi+5JY3pUtFOqTTeyg+KxhNvf6jCb4xi7W8iKy3u23sOaN5Mt87HFl6PfPimB3RBEK8UqbGPB6X2SJjW8SihDzePQA5tjxQNLe9UOmvwHjdz8Co8Hsofx0DPGtuS6pqHwypDNdlP631RKp+yNsns2IfKE8wZb+PBD6qdDqNLRquo7/Vr4a/nGbtpo70tr8oDwopXbOAJnhRl79RclcoeonwJbbOzya824e/i8UBKm5nBy0Y8D4+JlQaPsf4SyX87T0+xeTLPbBiEKTgYRE+eNkIPmfC4SWE1hQl03soPisYTT3+owm+MYu1vIist7txAWiheTLfOxxZer3ok5+f0QRCvFKmxrxSjIOkx36uI4Q83j0AOba8UDS3vQAAAAAAAAAAAAAAAAAAAAAAAAAAAAAAAAAAAAAAAAAAAAAAAAAAAAAAAAAAAAAAAAAAAAAAAAAAAAAAAAAAAAAAAAAAAAAAAAAAAAAAAAAAAAAAAAAAAAAAAAAAAAAAAAAAAAAAAAAAAAAAAAAAAAAAAAAAAAAAAAAAAAAAAAAAAAAAAAAAAAAAAAAAAAAAAAAAAAAAAAAAAAAAAAAAAAAAAAAAAAAAAAAAAAAAAAAAAAAAAAAAAAAAAAAAAAAAAAAAAAAAAAAAAAAAAAAAAACzn7M7AAAAANpmfjytFiE82mZ+vAEe7jgXEk84AR7uuKymEb3YX8w8JTVgvNhfzLw6XcSqcGhjNQAAAAAXS6a6V9QpOxdLpjrCMBasgDaWLJQvFix02cs7pbZPO+SpJjyltk+7uzRyqRjwPj4mVBo+xeTLPfztPT4ASZEleNkIPuBhET5vjVqktEnEJCsYTT3Teyg+dX1bJf6jCT4xi7W8iKy3uxxZer15Mt87+N+Vo1KmxrzRBEK86SWAoTdUsiMAOba8hDzePeU/USJQNLc9s5+zOwAAAADaZn48rRYhPNpmfjwBHu44FxJPOAEe7jisphE92F/MPCU1YLzYX8w8H1vEqnBoYzUAAAAAF0umulfUKTsXS6a6wjAWrIA2liyULxasdNnLu6W2TzvkqSY8pbZPO+oxcqkAAAAAAAAAAAAAAAAAAAAAAAAAAAAAAAAAAAAAAAAAAAAAAAAAAAAAAAAAAAAAAAAAAAAAAAAAAAAAAAAAAAAAAAAAAAAAAAAAAAAAAAAAAAAAAAAAAAAAAAAAAAAAAAAAAAAAAAAAAAAAAAAAAAAAAAAAAAAAAAAAAAAAAAAAAAAAAAAAAAAAAAAAAAAAAAAAAAAAAAAAAAAAAAAAAAAAAAAAAAAAAAAAAAAAAAAAAAAAAAAAAAAAAAAAAAAAAAAAAAAAAAAAAAAAAAAAAAAAAAAAAAAAAAAAAAAAAAAAAAAAAAAAAAAAAAAAAAAAAAAAAAAAAAAAAAAAAAAAAAAAAAAAAAAAAAAAAAAAAAAAAAAAAAAAAAAAAAAAAAAAAAAAAAAAAAAAAAAAAAAAAAAAAAAAAAAAAAAAAAAAAAAAAAAAAAAAAAAAAAAAAAAAAAAAAAAAAAAAAAAAAAAAAAAAAAAAAAAAAAAAAAAAAAAAAAAAAAAAAAAAAAAAAAAAAAAAAAAAAAAAAAAAAAAAAAAAAAAAAAAAAAAAAAAAAAAAAAAAAAAAAAAAAAAAAAAAAAAAAAAAAAAAAAAAAAAAAAAAAAAAAAAAAAAAAAAAAAAAAAAAAAAAAAAAAAAAAAAAAAAAAAAAAAAAAAAAAAAAAAAAAAAAAAAAAAAAAAAAAAAAAAAAAAAAAAAAAAAAAAAAAAAAAAAAAAAAAAAAAAAAAAAAAAAAAAAAAAAAAAAAAAAAAAAAAAAAAAAAAAAAAAAAAAAAAAAAAAAAAAAAAAAAAAAAAAAAAAAAAAAAAAAAAAAAAAAAAAAAAAAAAAAAAAAAAAAAAAAAAAAAAAAAAAAAAAAAAAAAAAAAAAAAAAAAAAAAAAAAAAAAAAAAAAAAAAAAAAAAAAAAAAAAAAAAAAAAAAAAAAAAAAAAAAAAAAAAAAAAAAAAAAAAAAAAAAAAAAAAAAAAAAAAAAAAAAAAAAAAAAAAAAAAAAAAAAAAAAAAAAAAAAAAAAAAAAAAAAAAAAAAAAAAAAAAAAAAAAAAAAAAAAAAAAAAAAAAAAAAAAAAAAAAAAAAAAAAAAAAAAAAAAAAAAAAAAAAAAAAAAAAAAAAAAAAAAAAAAAAAAAAAAAAAAAAAAAAAAAAAAAAAAAAAAAAAAAAAAAAAAAAAAAAAAAAAAAAAAAAACtXPrAAAAAAEBSlOeSKdTU7PjQcAAAAAAAAAAAAAAAALWNCnd2bg7YDXNQ5zTSaGGluODoAAAAAAAAAAAAAAAAAAAAAAAAAAAAAAAAAAAAAAAAAAAAAAAAAAAAAAAAAAAAAAAAAAAAAAAAAAAAAAAAAAAAAAAAAAAAAAAAAAAAAAAAAAAAAAAAAAAAAAAAAAAAAAAAAAAAAAAAAAAAAAAAAAAAAAAAAAAAAAAAAAAAAAAAAAAAAAAAAAAAAAAAAAAAAAAAAAAAAAAAAAAAAAAAAAAAAAAAAAAAAAAAAAAAAAAAAAAAAAAAAAAAAAAAAAAAAAAAAAAAAAAAAAAAAAAAAAAAAAAAAAAAAAAAAAAAAAAAAAAAAAAAAAAAAAAAAAAAAAAAAAAAAAAAAAAAAAAAAAAAAAAAAAAAAAAAAAAAAAAAAAAAAAAAAAAAAAAAAAAAAAAAAAAAAAAAAAAAAAAAAAAAAAAAAAAAAAAByeas6AAAAAGgo0bsOYcS7aCjRuwAAAAAAAAAAAAAAACaJeTzmO4E8t8vZuuY7gTxU9p2p3dY5PUbHNjxHBiy9aoe8uEcGLL2PjRO9ulqfto+NE715GOE6W15WOY3jyLxbXlY5qOgqq5SXLT2tmsk8fWQRvP/M0b1AVOsjk/GBvMi3U72Ska2iCbpDpPnTsz19Gfw9sRvmpGmeWj04N4E+X+HoPu08kj6r1Sa8heE4JtRcab4usYe83Y+Jpiehp6QhkHW88Rc1Pxfy46XlvIY/cnmrOgAAAABoKNG7DmHEu2go0TsAAAAAAAAAAAAAAAAmiXm85juBPLfL2brmO4G8QvWdqd3WOT1GxzY8RwYsvWqHvLhHBiw9j40Tvbpan7aPjRM9eRjhulteVjmN48i8W15WuV35KqsAAAAAAAAAAAAAAAAAAAAAAAAAAAAAAAAAAAAAAAAAAAAAAAAAAAAAAAAAAAAAAAAAAAAAAAAAAAAAAAAAAAAAAAAAAAAAAAAAAAAAAAAAAAAAAAAAAAAAAAAAAAAAAAAAAAAAAAAAAAAAAAAAAAAAAAAAAAAAAAAAAAAAAAAAAAAAAAAAAAAAAAAAAAAAAAAAAAAAAAAAAAAAAAArVz6wAAAAAGT/WBzkinU1EBSlOQAAAAAAAAAAAAAAAJ9JLxtA2Z6ZA1zUOd2bg7Zpbji6lJctPa2ayTxtPJ0j/8zRvX1kEbzSSCsiyLdTvZPxgbz5oi+kvU6iJH0Z/D3507M9aZ5avTg3gT5f4eg+g2YCp6vVJrztPJI+RvawJS6xh7zUXGm+LcmEpmdjC6XxFzU/IZB1vOW8hr+Uly09rZrJPEGhPaT/zNG9fWQRPFu5XCLIt1O9k/GBPFUGRyRi0aSkfRn8PfnTs71pnlq9ODeBPl/h6D4FBoemq9UmvO08kr6wjQKmLrGHvNRcaT5Ebkalh5RZJPEXNT8hkHU85byGvwAAAAAAAAAAAAAAAAAAAAAAAAAAAAAAAAAAAAAAAAAAAAAAAAAAAAAAAAAAAAAAAAAAAAArVz6wAAAAAI6bWpvkinU1EBSluQAAAAAAAAAAAAAAABlgNpzk5uoaA1zUOd2bgzZpbji6AAAAAAAAAAAAAAAAAAAAAAAAAAAAAAAAAAAAAAAAAAAAAAAAAAAAAAAAAAAAAAAAAAAAAAAAAAAAAAAAAAAAAAAAAAAAAAAAAAAAAAAAAAAAAAAAAAAAAAAAAAAAAAAAAAAAAAAAAAByeas6AAAAAGgo0TsOYcS7aCjRuwAAAAAAAAAAAAAAACaJebzmO4G8t8vZuuY7gTyr+Z2p3dY5PUbHNjxHBiw9aoe8uEcGLL2PjRM9ulqfto+NE718GOG6W15WuY3jyLxbXlY5LuIqq5SXLT2tmsk8fWQRPP/M0b3erVojk/GBPMi3U73oTRCjsPc6ovnTs719Gfw9yk/8JGmeWj04N4E+X+HoPu08kr6r1Sa8YEpAptRcaT4usYe8ZdEUpeeBkiQhkHU88Rc1P/3z4SXlvIY/cnmrOgAAAABoKNE7DmHEu2go0TsAAAAAAAAAAAAAAAAmiXk85juBvLfL2brmO4G8pvedqd3WOT1GxzY8RwYsPWqHvLhHBiw9j40TPbpan7aPjRM9fBjhOlteVrmN48i8W15WufLsKqsAAAAAAAAAAAAAAAAAAAAAAAAAAAAAAAAAAAAAAAAAAAAAAAAAAAAAAAAAAAAAAAAAAAAAAAAAAAAAAAAAAAAAAAAAAAAAAAAAAAAAAAAAAAAAAAAAAAAAAAAAAAAAAAAAAAAAAAAAAAAAAAAAAAAAAAAAAAAAAAAAAAAAAAAAAAAAAAAAAAAAAAAAAAAAAAAAAAAAAAAAAAAAAAAAAAAAAAAAAAAAAAAAAAAAAAAAAAAAAAAAAAAAAAAAAAAAAAAAAAAAAAAAAAAAAAAAAAAAAAAAAAAAAAAAAAAAAAAAAAAAAAAAAAAAAAAAAAAAAAAAAAAAAAAAAAAAAAAAAAAAAAAAAAAAAAAAAAAAAAAAAAAAAAAAAAAAAAAAAAAAAAAAAAAAAAAAAAAAAAAAAAAAAAAAAAAAAAAAAAAAAAAAAAAAAAAAAAAAAAAAAAAAAAAAAAAAAAAAAAAAAAAAAAAAAAAAAAAAAAAAAAAAK1c+sAAAAAAQFKW55Ip1NSb+vRwAAAAAAAAAAAAAAADuwgId3ZuDNgNc1DmTm70ZaW44OgAAAAAAAAAAAAAAAAAAAAAAAAAAAAAAAAAAAAAAAAAAAAAAAAAAAAAAAAAAAAAAAAAAAAAAAAAAAAAAAAAAAAAAAAAAAAAAAAAAAAAAAAAAAAAAAAAAAAAAAAAAAAAAAAAAAAAAAAAAAAAAAAAAAAAAAAAAAAAAAAAAAAAAAAAAAAAAAAAAAAAAAAAAAAAAAAAAAAAAAAAAAAAAAAAAAAAAAAAAAAAAAAAAAAAAAAAAAAAAAAAAAAAAAAAAAAAAAAAAAAAAAAAAAAAAAAAAAAAAAAAAAAAAAAAAAAAAAAAAAAAAAAAAAAAAAAAAAAAAAAAAAAAAAAAAAAAAAAAAAAAAAAAAAAAAAAAAAAAAAAAAAAAAAAAAAAAAAAAAAAAAAAAAAAAAAAAAAAAAAAAAAAAAAAAAAAAAAAAAAAAAAAAAAAAAAAAAAAAAAAAAAAAAAAAAAAAAAAAAAAAAAAAAAAAAAAAAAAAAAAAAAAAAAAAAAAAAAAAAAAAAAAAAAAAAAAAAAAAAAAAAAAAAAAAAAAAAAAAAAAAAAAAAAAAAAAAAAAAAAAAAAAAAAAAAAAAAAAAAAAAAAAAAAAAAAAAAAAAAAAAAAAAAAAAAAAAAAAAAAAAAAAAAAAAAAAAAAAAAAAAAAAAAAAAAAAAAAAAAAAAAAAAAAAAAAAAAAAAAAAAAAAAAAAAAAAAAAAAAAAAAAAAAAAAAAAAAAAAAAAAAAAAAAAAAAAAAAAAAAAAAAAAAAAAAAAAAAAAAAAAAAAAAAAAAAAAAAAAAAAAAAAAAAAAAAAAAAAAAAAAAAAAAAAAAAAAAAAAAAAAAAAAAAAAAAAAAAAAAAAAAAAAAAAAAAAAAAAAAAAAAAAAAAAAAAAAAAAAAAAAAAAAAAAAAAAAAAAAAAAAAAAAAAAAAAAAAAAAAAAAAAAAAAAAAAAAAAAAAAAAAAAAAAAAAAAAAAAAAAAAAAAAAAAAAAAAAAAAAAAAAAAAAAAAAAAAAAAAAAAAAAAAAAAAAAAAAAAAAAAAAAAAAAAAAAAAAAAAAAAAAAAAAAAAAAAAAAAAAAAAAAAAAAAAAAAAAAAAAAAAAAAAAAAAAAAAAAAAAAAAAAAAAAAAAAAAAAAAAAAAAAAAAAAAAAAAAAAAAAAAAAAAAAAAAAAAAAAAAAAAAAAAAAAAAAAAAAAAAxeYzNQAAAAAKuKg6NZsouwq4qDoPMxYs7jKWrCEzFiwZRc27SM1MO+SpJjxIzUw7hK2DqQAAAAAAAAAAAAAAAAAAAAAAAAAAAAAAAAAAAAAAAAAAAAAAAAAAAAAAAAAAAAAAAAAAAAAzOr+89BG4u0Fmkj1iX0I6NyqUo2nQxzwDC0Y8dq+GocrYSyRFNSq9hDzePdt1oqOx0t49AAAAAAAAAAAAAAAAAAAAAAAAAAAAAAAAAAAAAAAAAAAAAAAAAAAAAAAAAAAAAAAAAAAAAMXmMzUAAAAACrioOjWbKLsKuKi6DzMWLO4ylqwhMxasGUXNO0jNTDvkqSY8SM1Mu8mug6kAAAAAAAAAAAAAAAAAAAAAAAAAAAAAAAAAAAAAAAAAAAAAAAAAAAAAAAAAAAAAAAAAAAAAAAAAAAAAAAAAAAAAAAAAAAAAAAAAAAAAAAAAAAAAAAAAAAAAAAAAAAAAAAAAAAAAAAAAAAAAAAAAAAAAAAAAAAAAAAAAAAAAAAAAAAAAAAAAAAAAAAAAAAAAAAAAAAAAAAAAAAAAAAAAAAAAAAAAAAAAAAAAAAAAAAAAAAAAAAAAAAAAAAAAAAAAAAAAAAAAAAAAAAAAAAAAAAAAAAAAAAAAAAAAAAAAAAAAAAAAAAAAAAAAAAAAAAAAAAAAAAAAAAAAAAAAAAAAAAAAAAAAADM6v7z0Ebi7WwyUo2JfQjpBZpI9ffBwIAMLRjxp0Mc8v+pnI2WPziOEPN49RTUqvbHS3r18Iqs6AAAAAEMRDyKMbZM8Y4GFJQAAAAAj59m38c5NnRhphKBGhyCiWVhIvZvvoKZYkjYmOXLfv8mQvb8IRKumK5zxP8JgEKl3wlCmf2ICQMBQR6iMHaEmStIbJ7zbh78z+vMpZQM1LQAAAAAAAAAAAAAAAAAAAAAAAAAAAAAAAAAAAAAAAAAAAAAAAAAAAAAAAAAAAAAAAAAAAAAzOr+89BG4u7Jm/qNiX0I6QWaSvcF8FKADC0Y8adDHvDmiqaNs0mkkhDzePUU1Kj2x0t69AAAAAAAAAAAAAAAAAAAAAAAAAAAAAAAAAAAAAAAAAAAAAAAAAAAAAAAAAAAAAAAAAAAAAAAAAAAAAAAAAAAAAAAAAAAAAAAAAAAAAAAAAAAAAAAAAAAAAAAAAAAAAAAAAAAAAAAAAAAAAAAAAAAAAAAAAAAAAAAAAAAAAAAAAAAAAAAAAAAAAAAAAAAAAAAAAAAAAAAAAAAAAAAAAAAAAAAAAAAAAAAAAAAAAAAAAAAAAAAAAAAAAAAAAAAAAAAAAAAAAAAAAAAAAAAAAAAAAAAAAAAAAAAAAAAAAAAAAAAAAAAAAAAAAAAAAAAAAAAAAAAAAAAAAAAAAAAAAAAAAAAAAADF5jM1AAAAAAq4qLo1myi7CrioOg8zFqzuMpasITMWLBlFzTtIzUy75KkmPEjNTDtGrIOpAAAAAAAAAAAAAAAAAAAAAAAAAAAAAAAAAAAAAAAAAAAAAAAAAAAAAAAAAAAAAAAAAAAAADM6v7z0Ebi7QWaSvWJfQjow+UCjadDHvAMLRjxMU3CgLyUgo0U1Kj2EPN495A8MpLHS3j0AAAAAAAAAAAAAAAAAAAAAAAAAAAAAAAAAAAAAAAAAAAAAAAAAAAAAAAAAAAAAAAAAAAAAxeYzNQAAAAAKuKi6NZsouwq4qLoPMxas7jKWrCEzFqwZRc27SM1Mu+SpJjxIzUy7za2DqQAAAAAAAAAAAAAAAAAAAAAAAAAAAAAAAAAAAAAAAAAAAAAAAAAAAAAAAAAAAAAAAAAAAAAAAAAAAAAAAAAAAAAAAAAAAAAAAAAAAAAAAAAAAAAAAAAAAAAAAAAAAAAAAAAAAAAAAAAAAAAAAAAAAAAAAAAAAAAAAAAAAAAAAAAAAAAAAAAAAAAAAAAAAAAAAAAAAAAAAAAAAAAAAAAAAAAAAAAAAAAAAAAAAAAAAAAAAAAAAAAAAAAAAAAAAAAAAAAAAAAAAAAAAAAAAAAAAAAAAAAAAAAAAAAAAAAAAAAAAAAAAAAAAAAAAAAAAAAAAAAAAAAAAAAAAAAAAAAAAAAAAAAAAAAAAAAAAAAAAAAAAAAAAAAAAAAAAAAAAAAAAAAAAAAAAAAAAAAAAAAAAAAAAAAAAAAAAAAAAAAAAAAAAAAAAAAAAAAAAAAAAAAAAAAAAAAAAAAAAAAAAAAAAAAAAAAAAAAAAAAAAAAAAAAAAAAAAAAAAAAAAAAAAAAAAAAAAAAAAAAAAAAAAAAAAAAAAAAAAAAAAAAAAAAAAAAAAAAAAAAAAAAAAAAAAAAAAAAAAAAAAAAAAAAAAAAAAAAAAAAAAAAAAAAAAAAAAAAAAAAAAAAAAAAAAAAAAAAAAAAAAAAAAAAAAAAAAAAAAAAAAAAAAAAAAAAAAAAAAAAAAAAAAAAAAAAAAAAAAAAAAAAAAAAAAAAAAAAAAAAAAAAAAAAAAAAAAAAAAAAAAAAAAAAAAAAAAAAAAAAAAAAAAAAAAAAAAAAAAAAAAAAAAAAAAAAAAAAAAAAAAAAAAAAAAAAAAAAAAAAAAAAAAAAAAAAAAAAAAAAAAAAAAAAAAAAAAAAAAAAAAAAAAAAAAAAAAAAAAAAAAAAAAAAAAAAAAAAAAAAAAAAAAAAAAAAAAAAAAAAAAAAAAAAAAAAAAAAAAAAAAAAAAAAAAAAAAAAAAAAAAAAAAAAAAAAAAAAAAAAAAAAAAAAAAAAAAAAAAAAAAAAAAAAAAAAAAAAAAAAAAAAAAAAAAAAAAAAAAAAAAAAAAAAAAAAAAAAAAAAAAAAAAAAAAAAAAAAAAAAAAAAAAAAAAAAAAAAAAAAAAAAAAAAAAAAAAAAAAAAAAAAAAAAAAAAAAAAAAAAAAAAAAAAAAAAAAAAAAAAAAAAAAAAAAAAAAAAAAAAAAAAAAAAAAAAAAAAAAAAAAAAAAAAAAAAAAAAAAAAAAAAAAAAAAAAAAAAAAAAAAAAAAAAAAAAAAAAAAAAAAAAAAAAAAAAAAAAAAAAAAAAAAAAAAAAAAAAAAAAAAAAAAAAAAAAAAAAAAAAAAAAAAAAAAAAAAAAAAAAAAAAAAAAAAAAAAAAAAAAAAAAAAAAAAAAAAAAAAAAAAAAAAAAAAAAAAAAAAAAAAAAAAAAAAAAAAAAAAAAAAAAAAAAAAAAAAAAAAAAAAAAAAAAAAAAAAAAAAAAAAAAAAAAAAAAAAAAAAAAAAAAAAAAAAAAAAAAAAAAAAAAAAAAAAAAAAAAAAAAAAAAAAAAAAAAAAAAAAAAAAAAAAAAAAAAAAAAAAAAAAAAAAAAAAAAAAAAAAAAAAAAAAAAAAAAAAAAAAAAAAAAAAAAAAAAAAAAAAAAAAAAAAAAAAAAAAAAAAAAAAAAAAAAAAAAAAAAAAAAAAAAAAAAAAAAAAAAAAAAAAAAAAAAAAAAAAAAAAAAAAAAAAAAAAAAAAAAAAAAAAAAAAAAAAAAAAAAAAAAAAAAAAAAAAAAAAAAAAAAAAAAAAAAAAAAAAAAAAAAAAAAAAAAAAAAAAAAAAAAAAAAAAAAAAAAAAAAAAAAAAAAAAAAAAAAAAAAAAAAAAAAAAAAAAAAAAAAAAAAAAAAAAAAAAAAAAAAAAAAAAAAAAAAAAAAAAAAAAAAAAAAAAAAAAAAAAAAAAAAAAAAAAAAAAAAAAAAAAAAAAAAAAAAAAAAAAAAAAAAAAAAAAAAAAAAAAAAAAAAAAAAAAAAAAAAAAAAAAAAAAAAAAAAAAAAAAAAAAAAAAAAAAAAAAAAAAAAAAAAAAAAAAAAAAAAAAAAAAAAAAAAAAAAAAAAAAAAAAAAAAAAAAAAAAAAAAAAAAAAAAAAAAAAAAAAAAAAAAAAAAAAAAAAAAAAAAAAAAAAAAAAAAAAAAAAAAAAAAAAAAAAAAAAAAAAAAAAAAAAAAAAAAAAAAAAAAAAAAAAAAAAAAAAAAAAAAAAAAAAAAAAAAAAAAAAAAAAAAAAAAAAAAAAAAAAAAAAAAAAAAAAAAAAAAAAAAAAAAAAAAAAAAAAAAAAAAAAAAAAAAAAAAAAAAAAAAAAAAAAAAAAAAAAAAAAAAAAAAAAAAAAAAAAAAAAAAAAAAAAAAAAAAAAAAAAAAAAAAAAAAAAAAAAAAAAAAAAAAAAAAAAAAAAAAAAAAAAAAAAAAAAAAAAAAAAAAAAAAAAAAAAAAAAAAAAAAAAAAAAAAAAAAAAAAAAAAAAAAAAAAAAAAAAAAAAAAAAAAAAAAAAAAAAAAAAAAAAAAAAAAAAAAAAAAAAAAAAAAAAAAAAAAAAAAAAAAAAAAAAAAAArV74wAAAAAJ+wzJoW/yO6Q5+WIgAAAAAAAAAAAAAAACe2rBY9GRyeRZjTOmBwAqTksTKhAAAAAAAAAAAAAAAAAAAAAAAAAAAAAAAAAAAAAAAAAAAAAAAAAAAAAAAAAAAAAAAAAAAAAAAAAAAAAAAAAAAAAAAAAAAAAAAAAAAAAAAAAAAAAAAAAAAAAAAAAAAAAAAAAAAAAAAAAAAAAAAAAAAAAAAAAAAAAAAAAAAAAAAAAAAAAAAAAAAAAAAAAAAAAAAAAAAAAAAAAAAAAAAAAAAAAAAAAAAAAAAAAAAAAAAAAAAAAAAAAAAAAAAAAAAAAAAAAAAAAAAAAAAAAAAAAAAAAAAAAAAAAAAAAAAAAAAAAAAAAAAAAAAAAAAAAAAAAAAAAAAAAAAAAAAAAAAAAAAAAAAAAAAAAAAAAAAAAAAAAAAAAAAAAAAAAAAAAAAAAAAAAAAAAAAAAAAAAAAAAAAAAAAAAAAAAAAAAAAAAAAAAAAAAAAAAAAAAAAAAAAAAAAAAAAAAAAAAAAAAAAAAAAAAAAAAAAAAAAAAAAAAAAAAAAAAAAAAAAAAAAAAAAAAAAAAAAAAAAAAAAAAAAAAAAAAAAAAAAAAAAAAAAAAAAAAAAAAAAAAAAAAAAAAAAAAAAAAAAAAAAAAAAAAAAAAAAAAAAAAAAAAAAAAAAAAAAAAAAAAAAAAAAAAAAAAAAAAAAAAAAAAAAAAAAAAAAAAAAAAAAAAAAAAAAAAAAAAAAAAAAAAAAAAAAAAAAAAAAAAAAAAAAAAAAAAAAAAAAAAAAAAAAAAAAAAAAAAAAAAAAAAAAAAAAAAAAAAAAAAAAAAAAAAAAAAAAAAAAAAAAAAAAAAAAAAAAAAAAAAAAAAAAAAAAAAAAAAAAAAAAAAAAAAAAAAAAAAAAAAAAAAAAAAAAAAAAAAAAAAAAAAAAAAAAAAAAAAAAAAAAAAAAAAAAAAAAAAAAAAAAAAAAAAAAAAAAAAAAAAAAAAAAAAAAAAAAAAAAAAAAAAAAAAAAAAAAAAAAAAAAAAAAAAAAAAAAAAAAAAAAAAAAAAAAAAAAAAAAAAAAAAAAAAAAAAAAAAAAAAAAAAAAAAAAAAAAAAAAAAAAAAAAAAAAAAAAAAAAAAAAAAAAAAAAAAAAAAAAAAAAAAAAAAAAAAAAAAAAAAAAAAAAAAAAAAAAAAAAAAAAAAAAAAAAAAAAAAAAAAAAAAAAAAAAAAAAAAAAAAAAAAAAAAAAAAAAAAAAAAAAAAAAAAAAAAAAAAAAAAAAAAAAAAAAAAAAAAAAAAAAAAAAAAAAAAAAAAAAAAAAAAAAAAAAAAAAAAAAAAAAAAAAAAAAAAAAAAAAAAAAAAAAAAAAAAAAAAAAAAAAAAAAAAAAAAAAAAAAAAAAAAAAAAAAAAAAAAAAAAAAAAAAAAAAAAAAAAAAAAAAAAAAAAAAAAAAAAAAAAAAAAAAAAAAAAAAAAAAAAAAAAAAAAAAAAAAAAAAAAAAAAAAAAAAAAAAAAAAAAAAAAAAAAAAAAAAAAAAAAAAAAAAAAAAAAAAAAAAAAAAAAAAAAAAAAAAAAAAAAAAAAAAAAAAAAAAAAAAAAAAAAAAAAAAAAAAAAAAAAAAAAAAAAAAAAAAAAAAAAAAAAAAAAAAAAAAAAAAAAAAAAAAAAAAAAAAAAAAAAAAAAAAAAAAAAAAAAAAAAAAAAAAAAAAAAAAAAAAAAAAAAAAAAAAAAAAAAAAAAAAAWmD5J8OhBCdGLdgn4yoBqnEQ+L7uduAncf+tqe+377+uh6+mGGmfJxTmRCoc723AQ0zcqZsQ8qV6fBsnaPiep+INGyhArgk/NPGXJ1rkCid4VAE/bYrEJ1thSKcz69mn089IQbLuDCcAAAAAAAAAAAAAAAAAAAAAAAAAAAAAAAAAAAAAAAAAAAAAAAAAAAAAAAAAAAAAAAAAAAAAAAAAAAAAAAAAAAAAAAAAAAAAAAAAAAAAAAAAAAAAAAAAAAAAAAAAAAAAAAAAAAAAAAAAAAAAAAAAAAAAAAAAAAAAAAAAAAAAAAAAAAAAAAAAAAAAAAAAAAAAAAAAAAAAAAAAAAAAAAAAAAAAAAAAAAAAAAAAAAAAAAAAAAAAAAAAAAAAAAAAAAAAAAAAAAAAAAAAAAAAAAAAAAAAAAAAAAAAAAAAAAAAAAAAAAAAAAAAAAAAAAAAAAAAAAAAAAAAAAAAAAAAAAAAAAAAAAAAAAAAAAAAAAAAAAAAAAAAAAAAAAAAAAAAAAAAAAAAAAAAAAAAAAAAAAAAAAAAAAAAAAAAAAAAAAAAAAAAAAAAAAAAAAAAAAAAAAAAAAAAAAAAAAAAAAAAAAAAAAAAAAAAAAAAAAAAAAAAAAAAAAAAAAAAAAAAAAAAAAAAAAAAAAAAAAAAAAAAAAAAAAAAAAAAAAAAAAAAAAAAAAAAAAAAAAAAAAAAAAAAAAAAAAAAAAAAAAAAAAAAAAAAAAAAAAAAAAAAAAAAAAAAAAAAAAAAAAAAAAAAAAAAAAAAAAAAAAAAAAAAAAAAAAAAAAAAAAAAAAAAAAAAAAAAAAAAAAAAAAAAAAAAAAAAAAAAAAAAAAAAAAAAAAAAAAAAAAAAAAAAAAAAAAAAAAAAAAAAAAAAAAAAAAAAAAAAAAAAAAAAAAAAAAAAAAAAAAAAAAAAAAAAAAAAAAAAAAAAAAAAAAAAAAAAAAAAAAAAAAAAAAAAAAAAAAAAAAAAAAAAAAAAAAAAAAAAAAAAAAAAAAAAAAAAAAAAAAAAAAAAAAAAAAAAAAAAAAAAAAAAAAAAAAAAAAAAAAAAAAAAAAAAAAAAAAAAAAAAAAAAAAAAAAAAAAAAAAAAAAAAAAAAAAAAAAAA5ekLm91wDBq01oE3AAAAAAAAAAAAAAAAPghEuHoJHJwZxnUcAWKIOKesUpsAAAAAAAAAAAAAAAAAAAAAAAAAAAAAAAAAAAAAAAAAAAAAAAAAAAAAAAAAAAAAAAAAAAAAAAAAAAAAAAAAAAAAAAAAAAAAAAAAAAAAAAAAAAAAAAAAAAAAAAAAAAAAAAAAAAAAAAAAAAAAAAAAAAAAAAAAAAAAAAAAAAAAAAAAAAAAAAAAAAAAAAAAAAAAAAAAAAAAAAAAAAAAAAAAAAAAAAAAAAAAAAAAAAAAAAAAAAAAAAAAAAAAAAAAAAAAAAAAAAAAAAAAAAAAAAAAAAAAAAAAAAAAAAAAAAAAAAAAAAAAAAAAAAAAAAAAAAAAAAAAAAAAAAAAAAAAAAAAAAAAAAAAAAAAAAAAAAAAAAAAAAAAAAAAAAAAAAAAAAAAAAAAAAAAAAAAAAAAAAAAAAAAAAAAAAAAAAAAAAAAAAAAAAAAAAAAAAAAAAAAAAAAAAAAAAAAAAAAAAAAAAAAAAAAAAAAAAAAAAAAAAAAAAAAAAAAAABQ+HWbxUc1OkIf/bkAAAAAAAAAAAAAAACJgM0cTc+5nKbCpjqiUgW7eQE6OgAAAAAAAAAAAAAAAAAAAAAAAAAAAAAAAAAAAAAAAAAAAAAAAAAAAAAAAAAAAAAAAAAAAADYQjCk8rgWo8KmEiLCJ84mfUGMPMCXp5udcMMk5zKWOWL/E6K4FckiN5ZTJ6TqiT2gsgimQBRUGgAAAABcPJKZWpQ+o25V0jYAAAAAAAAAAAAAAACBzEgZU/t9m2BwAqSJLPg3X46qIAAAAAAAAAAApQmZG8VHNbpCH/25AAAAAAAAAAAAAAAAykrOHJiMJxymwqa6olIFu3kBOroAAAAAAAAAAAAAAAAAAAAAAAAAAAAAAAAAAAAAAAAAAAAAAAAAAAAAAAAAAAAAAAAAAAAAAAAAAAAAAAAAAAAAAAAAAAAAAAAAAAAAAAAAAAAAAAAAAAAAAAAAAAAAAAAAAAAAAAAAAAAAAAAAAAAAAAAAAAAAAAAAAAAAAAAAAAAAAAAAAAAAAAAAAAAAAAAAAAAAAAAAAAAAAAAAAAAAAAAAAAAAAAAAAAAAAAAAAAAAAAAAAAAAAAAAAAAAAAAAAAAAAAAAAAAAAAAAAAAAAAAAAAAAAAAAAAAAAAAAAAAAAAAAAAAAAAAAAAAAAAAAAAAAAAAAAAAAAAAAAAAAAAAAAAAAAAAAAAAAAAAAAAAAAAAAAAAAAAAAAAAAAAAAAAAAAAAAAAAAAAAAAAAAAAAAAAAAAAAAAAAAAAAAAAAAAAAAAAAAAAAAAAAAAAAAAAAAAAAAAAAAAAAAAAAAAAAAAAAAAAAAAAAAAAAAAAAAAAClETYbuKllHLTWgTcAAAAAAAAAAAAAAAA+CEQ42uYXG++YWRsBYog4VwrzmwAAAAAAAAAAAAAAAAAAAAAAAAAAAAAAAAAAAAAAAAAAAAAAAAAAAAAAAAAAAAAAAAAAAAAAAAAAAAAAAAAAAAAAAAAAAAAAAAAAAAAAAAAAAAAAAAAAAAAAAAAAAAAAAAAAAAAAAAAAAAAAAAAAAAAAAAAAAAAAAAAAAAAAAAAAAAAAAAAAAAAAAAAAAAAAAAAAAAAAAAAAAAAAAAAAAAAAAAAAAAAAAAAAAAAAAAAAAAAAAAAAAAAAAAAAAAAAAAAAAAAAAAAAAAAAAAAAAAAAAAAAAAAAAAAAAAAAAAAAAAAAAAAAAAAAAAAAAAAAAAAAAAAAAAAAAAAAAAAAAAAAAAAAAAAAAAAAAAAAAAAAAAAAAAAAAAAAAAAAAAAAAAAAAAAAAAAAAAAAAAAAAAAAAAAAAAAAAAAAAAAAAAAAAAAAAAAAAAAAAAAAAAAAAAAAAAAAAAAAAAAAAAAAAAAAAAAAAAAAAAAAAAAAAAAAAAAAAAAAAAAAAAAAAAAAAAAAAAAAAAAAAAAAAAAAAAAAAAAAAAAAAAAAAAAAAAAAAAAAAAAAAAAAAAAAAAAAAAAAAAAAAAAAAAAAAAAAAAAAAAAAAAAAAAAAAAAAAAAAAAAAAAAAAAAAAAAAAAAAAAAAAAAAAAAAAAAAAAAAAAAAAAAAAAAAAAAAAAAAAAAAAAAAAAAAAAAAAAAAAAAAAAAAAAAAAAAAAAAAAAAAAAAAAAAAAAAAAAAAAAAAAAAAAAAAAAAAAAAAAAAAAAAAAAAAAAAAAAAAAAAAAAAAAAAAAAAAAAAAAAAAAAAAAAAAAAAAAAAAAAAAAAAAAAAAAAAAAAAAAAAAAAAAAAAAAAAAAAAAAAAAAAAAAAAAAAAAAAAAAAAAAAAAAAAAAAAAAAAAAAAAAAAAAAAAAAAAAAAAAAAAAAAAAAAAAAAAAAAAAAAAAAAAAAAAAAAAAAAAAAAAAAAAAAAAAAAAAAAAAAAAAAAAAAAAAAAAAAAAAAAAAAAAAAAAAAAAAAAAAAAAAAAAAAAAAAAAAAAAAAAAAAAAAAAAAAAAAAAAAAAAAAAAAAAAAAAAAAAAAAAAAAAAAAAAAAAAAAAAAAAAAAAAAAAAAAAAAAAAAAAAAAAAAAAAAAAAAAAAAAAAAAAAAAAAAAAAAAAAAAAAAAAAAAAAAAAAAAAAAAAAAAAAAAAAAAAAAAAAAAAAAAAAAAAAAAAAAAAAAAAAAAAAAAAAAAAAAAAAAAAAAAAAAAAAAAAAAAAAAAAAAAAAAAAAAAAAAAAAAAAAAAAAAAAAAAAAAAAAAAAAAAAAAAAAAAAAAAAAAAAAAAAAAAAAAAAAAAAAAAAAAAAAAAAAAAAAAAAAAAAAAAAAAAAAAAAAAAAAAAAAAAAAAAAAAAAAAAAAAAAAAAAAAAAAAAAAAAAAAAAAAAAAAAAAAAAAAAAAAAAAAAAAAAAAAAAAAAAAAAAAAAAAAAAAAAAAAAAAAAAAAAAAAAAAAAAAAAAAAAAAAAAAAAAAAAAAAAAAAAAAAAAAAAAAAAAAAAAAAAAAAAAAAAAAAAAAAAAAAAAAAAAAAAAAAAAAAAAAAAAAAAAAAAAAAAAAAAAAAAAAAAAAAAAAAAAAAAAAAAAAAAAAAAAAAAAAAAAAAAAAAAAAAAAAAAAAAAAAAAAAAAAAAAAAAAAAAAAAAAAAAAAAAAAAAAAAAAAAAAAAAAAAAAAAAAAAAAAAAAAAAAAAAAAAAAAAAAAAAAAAAAAAAAAAAAAAAAAAAAAAAAAAAAAAAAAAAAAAAAAAAAAAAAAAAAAAAAAAAAAAAAAAAAAAAAAAAAAAAAAAAAAAAAAAAAAAAAAAAAAAAAAAAAAAAAAAAAAAAAAAAAAAAAAAAImxmDsAAAAA25Z6vC+t2Dp6n1q8JjTPuEcBGTjhwsu4HM8ZPfUJhruVXsW8kbRPu6ecvrtVYhA7AAAAAJ3Na7zyL0c8C8BGvKJyQbJgYkEyX2JBsndm8TwqRPK8SM1MuyGkyrzAOrS7uF64okt3uKO7/1gkd0p+I9HZND3O58CiXpZiIpwvJT1KjmK74QikoU5OUqS7JLS8tvSvpAYg2SHunayfRmuJpME2XCS9gNM8121woTrbTaBxNec7tRJUvSCh4KTkDwykfcobPQs/SaSJsZi7AAAAANuWejwvrdi6ep9avCY0zzhHARm44cLLuBzPGT31CYY7lV7FPJG0T7unnL47VWIQuwAAAACdzWs88i9HvAvARryickEyYGJBsl9iQbJ3ZvE8KkTyPEjNTDshpMq8wDq0OwAAAAAAAAAAAAAAAAAAAAAAAAAAAAAAAAAAAAAAAAAAAAAAAAAAAAAAAAAAAAAAAAAAAAAAAAAAAAAAAAAAAAAAAAAAAAAAAAAAAAAAAAAAAAAAAAAAAAAAAAAAAAAAAAAAAAAAAAAAAAAAAAAAAAAAAAAAAAAAAAAAAAAAAAAAAAAAAAAAAAAAAAAAAAAAAAAAAAAAAAAAAAAAAAAAAAAAAAAAAAAAAAAAAAAAAAAAAAAAAAAAAAAAAAAAAAAAAAAAAAAAAAAAAAAAAAAAAADTHak+Tc2fPpj27iLIUEA8NrRQviodEySrSJg9SSCuvhiAGaZ71aGlj6ILPhqVYD7Fk6O+3yKzPea8nzzrH5YkhgjFPeXNsb14f2Ii96WHPSkvhL0sQ/WkoTerJEU1Kj0Lr4S9SsgDPXPWUqixNOwkvZsjKDyeFapa3yw/xv7zpp5bKqowbi5A1fI/pUIzvaao1TOq1uuJwN/sPSrFMRAlFQEOJVORe6VjAF8pJ9M4Plq/DSMQL7korYCfPk+7saSP4fmlM/rzKamB4L4nj9uo0x2pvk3Nn77n2sOkyFBAvDa0UL754o8lq0iYvUkgrr4JriWkjpxJpI+iC74alWA+xZOjPt8is73mvJ+8CTFhIoYIxb3lzbG9tBk9ovelh70pL4S9kA14pGmAAqVFNSq9C6+EvUrIA70AAAAAAAAAAAAAAAAAAAAAAAAAAAAAAAAAAAAAAAAAAAAAAAAAAAAAAAAAAAAAAAAAAAAAAAAAAAAAAAAAAAAAAAAAAAAAAAAAAAAAAAAAAAAAAAAAAAAAAAAAAAAAAAAAAAAAAAAAAAAAAAAAAAAAAAAAAAAAAAAAAAAAAAAAAAAAAAAAAAAAAAAAAAAAAAAAAAAAAAAAAAAAAAAAAAAAAAAAAAAAAAAAAAAAAAAAAAAAAAAAAAAAAAAAAAAAAAAAAAAAAAAAAAAAAAAAAAAAibGYOwAAAADblno8L63YOnqfWrwmNM84RwEZOOHCy7gczxm99QmGO5VexbyRtE+7p5y+u1ViEDsAAAAAnc1rPPIvRzwLwEa8onJBMmBiQTJfYkGyd2bxvCpE8jxIzUy7IaTKvMA6tLuaAOSj1aS8ohYdgCQfnYEk0dk0PYdbJSOPXReinC8lPUqOYjtArZYjA2gfIrsktLyAy8AjaC6MIur2vx9/Gb0jKP7VI72A0zwDBfIhadUgoHE15zu1ElQ9D7QXJNt1oqN9yhs9HVzZpImxmLsAAAAA25Z6vC+t2Lp6n1q8JjTPuEcBGbjhwsu4HM8ZvfUJhruVXsU8kbRPu6ecvjtVYhC7AAAAAJ3Na7zyL0e8C8BGvKJyQbJgYkGyX2JBsndm8bwqRPK8SM1MOyGkyrzAOrQ7AAAAAAAAAAAAAAAAAAAAAAAAAAAAAAAAAAAAAAAAAAAAAAAAAAAAAAAAAAAAAAAAAAAAAAAAAAAAAAAAAAAAAAAAAAAAAAAAAAAAAAAAAAAAAAAAAAAAAAAAAAAAAAAAAAAAAAAAAAAAAAAAAAAAAAAAAAAAAAAAAAAAAAAAAAAAAAAAAAAAAAAAAAAAAAAAAAAAAAAAAAAAAAAAAAAAAAAAAAAAAAAAAAAAAAAAAAAAAAAAAAAAAAAAAAAAAAAAAAAAAAAAAAAAAAAAAAAAAAAAAAAAAAAAAAAAAAAAAAAAAAAAAAAAAAAAAAAAAAAAAAAAAAAAAAAAAAAAAAAAAAAAAAAAAAAAAAAAAAAAAAAAAAAAAAAAAAAAAAAAAAAAAAAAAAAAAAAAAAAAAAAAAAAAAAAAAAAAAAAAAAAAAAAAAAAAAAAAAAAAAAAAAAAAAAAAAAAAAAAAAAAAAAAAAAAAAAAAAAAAAAAAAAAAAAAAAAAAAAAAAAAAAAAAAAAAAAAAAAAAAAAAAAAAAAAAAAAAAAAAAAAAAAAAAAAAAAAAAAAAAAAAAAAAAAAAAAAAAAAAAAAAAAAAAAAAAAAAAAAAAAAAAAAAAAAAAAAAAAAAAAAAAAAAAAAAAAAAAAAAAAAAAAAAAAAAAAAAAAAAAAAAAAAAAAAAAAAAAAAAAAAAAAAAAAAAAAAAAAAAAAAAAAAAAAAAAAAAAAAAAAAAAAAAAAAAAAAAAAAAAAAAAAAAAAAAAAAAAAAAAAAAAAAAAAAAAAAAAAAAAAAAAAAAAAAAAAAAAAAAAAAAAAAAAAAAAAAAAAAAAAAAAAAAAAAAAAAAAAAAAAAAAAAAAAAAAAAAAAAAAAAAAAAAAAAAAAAAAAAAAAAAAAAAAAAAAAAAAAAAAAAAAAAAAAAAAAAAAAAAAAAAAAAAAAAAAAAAAAAAAAAAAAAAAAAAAAAAAAAAAAAAAAAAAAAAAAAAAAAAAAAAAAAAAAAAAAAAAAAAAAAAAAAAAAAAAAAAAAAAAAAAAAAAAAAAAAAAAAAAAAAAAAAAAAAAAAAAAAAAAAAAAAAAAAAAAAAAAAAAAAAAAAAAAAAAAAAAAAAAAAAAAAAAAAAAAAAAAAAAAAAAAAAAAAAAAAAAAAAAAAAAAAAAAAAAAAAAAAAAAAAAAAAAAAAAAAAAAAAAAAAAAAAAAGeqfpqNwd8WKiEWMQAAAAAAAAAAAAAAANhMI7LlFUgak5u9GUBDTrTX0/IaAAAAAAAAAAAAAAAAAAAAAAAAAAAAAAAAAAAAAAAAAAAAAAAAAAAAAAAAAAAAAAAAAAAAAAAAAAAAAAAAAAAAAAAAAAAAAAAAAAAAAAAAAAAAAAAAAAAAAAAAAAAAAAAAAAAAAAAAAAAAAAAAAAAAAAAAAAAAAAAAAAAAAAAAAAAAAAAAAAAAAAAAAAAAAAAAAAAAAAAAAAAAAAAAAAAAAAAAAAAAAAAAAAAAAAAAAAAAAAAAAAAAAAAAAAAAAAAAAAAAAAAAAAAAAAAAAAAAAAAAAAAAAAAAAAAAAAAAAAAAAAAAAAAAAAAAAAAAAAAAAAAAAAAAAAAAAAAAAAAAAAAAAAAAAAAAAAAAAAAAAAAAAAAAAAAAAAAAAAAAAAAAAAAAAAAAAAAAAAAAAAAAAAAAAAAAAAAA0GgGuwAAAAAe+0E8yxKgO6giLTwAAAAAAAAAAAAAAACvEwG9uIltvPdpfTwHQFG8ukN+OzaGN7esorMz0h6OuTaixbwDFeq41D2ptt1X47s3Kpi2p9OLOWyWQj1bXla5DbYGPXQk0rn8u6mj+cwEI9prqSTGcoijP50hvUQxoiL2vBijNaG+vOMBSj0M5gmlqp6XJBleKDzqyJ4kdNSVpIAkaSQAxCwlIc1tpZPaLztgYm2kLZAlpFMbcDrSLPi7A5REJv3z4SWnnKk9hafNJdBoBjsAAAAAHvtBvMsSoLuoIi08AAAAAAAAAAAAAAAArxMBvbiJbTz3aX28B0BRvLpDfrs2hjc3rKKzs9Iejjk2osU8AxXquNQ9qTbdV+M7NyqYtqfTizlslkK9W15WOQ22Bj10JNI5AAAAAAAAAAAAAAAAAAAAAAAAAAAAAAAAAAAAAAAAAAAAAAAAAAAAAAAAAAAAAAAAAAAAAAAAAAAAAAAAAAAAAAAAAAAAAAAAAAAAAAAAAAAAAAAAAAAAAAAAAAAAAAAAAAAAAAAAAAAAAAAAAAAAAAAAAAAAAAAAAAAAAAAAAAAAAAAAAAAAAAAAAAAAAAAAAAAAAAAAAAAAAAAAAAAAAAAAAAATOicYKjWMtheVpTYAAAAAAAAAAAAAAAAqpTibUAU2mt2bgzaoAq03g2Mxt5pgaL4GiCe+CR5HJCGBsT1skkM+QZ3iIzeg5T1jgGg+h3sEovgymSQ/vqu88dTnPY0CuT0kabE8JJZlPIP4qqWFfnq9OsQZveQCLiUxtpe+Mc9jvDaDUKZiusOlIZB1PH11cb+ebEs9mmBoPgaIJz4iKPskIYGxvWySQz4VZkykN6DlvWOAaD50Kg8lAs2jpD++qzzx1Oc9jQK5vSRpsbwklmW8FpPVJYV+ej06xBm9jPawJDG2lz4xz2O8tLQSJhOq4yQhkHW8fXVxv55sS70AAAAAAAAAAAAAAAAAAAAAAAAAAAAAAAAAAAAAAAAAAAAAAAAAAAAAAAAAAAAAAAAAAAAAAAAAAAAAAACgeM0YKjWMNheVpTYAAAAAAAAAAAAAAAA9KqKZQwUeGN2bg7aoAq03g2MxNwAAAAAAAAAAAAAAAAAAAAAAAAAAAAAAAAAAAAAAAAAAAAAAAAAAAAAAAAAAAAAAAAAAAAAAAAAAAAAAAAAAAAAAAAAAAAAAAAAAAAAAAAAAAAAAAAAAAAAAAAAAAAAAAAAAAAAAAAAA0GgGuwAAAAAe+0G8yxKgO6giLTwAAAAAAAAAAAAAAACvEwE9uIltPPdpfTwHQFG8ukN+OzaGN7esorMz0h6OOTaixbwDFeq41D2pNt1X47s3Kpi2p9OLuWyWQr1bXla5DbYGPXQk0rk3uHgji4DIoYLKA6TrvmIkP50hva99GyNZO7eiNaG+vOMBSr1HNg4lT7hLoxleKDwZP5Mku04TpAISh6MgWbClup0hpZPaLzu9lLQkUzyZJFMbcDrSLPg7isJdphfy46WnnKk96RoMJtBoBjsAAAAAHvtBPMsSoLuoIi08AAAAAAAAAAAAAAAArxMBPbiJbbz3aX28B0BRvLpDfrs2hjc3rKKzs9Iejrk2osU8AxXquNQ9qbbdV+M7NyqYtqfTi7lslkI9W15WOQ22Bj10JNI5AAAAAAAAAAAAAAAAAAAAAAAAAAAAAAAAAAAAAAAAAAAAAAAAAAAAAAAAAAAAAAAAAAAAAAAAAAAAAAAAAAAAAAAAAAAAAAAAAAAAAAAAAAAAAAAAAAAAAAAAAAAAAAAAAAAAAAAAAAAAAAAAAAAAAAAAAAAAAAAAAAAAAAAAAAAAAAAAAAAAAAAAAAAAAAAAAAAAAAAAAAAAAAAAAAAAAAAAAAAAAAAAAAAAAAAAAAAAAAAAAAAAAAAAAAAAAAAAAAAAAAAAAAAAAAAAAAAAAAAAAAAAAAAAAAAAAAAAAAAAAAAAAAAAAAAAAAAAAAAAAAAAAAAAAAAAAAAAAAAAAAAAAAAAAAAAAAAAAAAAAAAAAAAAAAAAAAAAAAAAAAAAAAAAAAAAAAAAAAAAAAAAAAAAAAAAAAAAAAAAAAAAAAAAAAAAAAAAAAAAAAAAAAAAAAAAAAAAAAAAAAAAAAAAAAAAAAAAAAAAAAAAAAAAAAAAAAAA8QJImjL0XZcqIRYxAAAAAAAAAAAAAAAA2EwjMk9cbprNNJoYQENOtNPe/BoAAAAAAAAAAAAAAAAAAAAAAAAAAAAAAAAAAAAAAAAAAAAAAAAAAAAAAAAAAAAAAAAAAAAAAAAAAAAAAAAAAAAAAAAAAAAAAAAAAAAAAAAAAAAAAAAAAAAAAAAAAAAAAAAAAAAAAAAAAAAAAAAAAAAAAAAAAAAAAAAAAAAAAAAAAAAAAAAAAAAAAAAAAAAAAAAAAAAAAAAAAAAAAAAAAAAAAAAAAAAAAAAAAAAAAAAAAAAAAAAAAAAAAAAAAAAAAAAAAAAAAAAAAAAAAAAAAAAAAAAAAAAAAAAAAAAAAAAAAAAAAAAAAAAAAAAAAAAAAAAAAAAAAAAAAAAAAAAAAAAAAAAAAAAAAAAAAAAAAAAAAAAAAAAAAAAAAAAAAAAAAAAAAAAAAAAAAAAAAAAAAAAAAAAAAAAAAAAAAAAAAAAAAAAAAAAAAAAAAAAAAAAAAAAAAAAAAAAAAAAAAAAAAAAAAAAAAAAAAAAAAAAAAAAAAAAAAAAAAAAAAAAAAAAAAAAAAAAAAAAAAAAAAAAAAAAAAAAAAAAAAAAAAAAAAAAAAAAAAAAAAAAAAAAAAAAAAAAAAAAAAAAAAAAAAAAAAAAAAAAAAAAAAAAAAAAAAAAAAAAAAAAAAAAAAAAAAAAAAAAAAAAAAAAAAAAAAAAAAAAAAAAAAAAAAAAAAAAAAAAAAAAAAAAAAAAAAAAAAAAAAAAAAAAAAAAAAAAAAAAAAAAAAAAAAAAAAAAAAAAAAAAAAAAAAAAAAAAAAAAAAAAAAAAAAAAAAAAAAAAAAAAAAAAAAAAAAAAAAAAAAAAAAAAAAAAAAAAAAAAAAAAAAAAAAAAAAAAAAAAAAAAAAAAAAAAAAAAAAAAAAAAAAAAAAAAAAAAAAAAAAAAAAAAAAAAAAAAAAAAAAAAAAAAAAAAAAAAAAAAAAAAAAAAAAAAAAAAAAAAAAAAAAAAAAAAAAAAAAAAAAAAAAAAAAAAAAAAAAAAAAAAAAAAAAAAAAAAAAAAAAAAAAAAAAAAAAAAAAAAAAAAAAAAAAAAAAAAAAAAAAAAAAAAAAAAAAAAAAAAAAAAAAAAAAAAAAAAAAAAAAAAAAAAAAAAAAAAAAAAAAAAAAAAAAAAAAAAAAAAAAAAAAAAAAAAAAAAAAAAAAAAAAAAAAAAAAAAAAAAAAAAAAAAAAAAAAAAAAF1rELsAAAAANP9rPDgdRzyN6UY8pXFBMmNhQTJjYUEyabXxvCpE8ryltk87IaTKvOJztDsAAAAAAAAAAAAAAAAAAAAAAAAAAAAAAAAAAAAAAAAAAAAAAAAAAAAAAAAAAAAAAAAAAAAAnb0ao0gB9B5R9cciYiL3I+1c1bzsZ0ogXWsbIeMI6LvxaFk9A8/mpOU/USJ9yhs9g/7jowAAAAAAAAAAAAAAAAAAAAAAAAAAAAAAAAAAAAAAAAAAAAAAAAAAAAAAAAAAAAAAAAAAAABdaxA7AAAAADT/a7w4HUe8jelGPKVxQbJjYUGyY2FBMmm18bwqRPI8pbZPuyGkyrzic7S7AAAAAAAAAAAAAAAAAAAAAAAAAAAAAAAAAAAAAAAAAAAAAAAAAAAAAAAAAAAAAAAAAAAAAAAAAAAAAAAAAAAAAAAAAAAAAAAAAAAAAAAAAAAAAAAAAAAAAAAAAAAAAAAAAAAAAAAAAAAAAAAAAAAAAAAAAAAAAAAAAAAAAAAAAAAAAAAAAAAAAAAAAAAAAAAAAAAAAAAAAAAAAAAAAAAAAAAAAAAAAAAAAAAAAAAAAAAAAAAAAAAAAAAAAAAAAAAAAAAAAAAAAAAAAAAAAAAAAAAAAAAAAAAAAAAAAAAAAAAAAAAAAAAAAAAAAAAAAAAAAAAAAAAAAAAAAAAAAAAAAAAAAACHsbC9cWuhvOSVyKMdLbo9MXu3PX2n9qGyr4g9KSyFPUFrPiS379IjADm2vAuvhL0WXyW9F0MAIwAAAACrBZcf+jvLJQ52yboAAAAAG/ZGIDH2kzJG7m8gsLjnIQyKj6Zce/E7goORJMKdYKVgn1MmwNjvpK3dbantIGa+vdpVpBcywKjHuM2+a/cCpiD1eaaLxQEqqYHgvqg73qgAAAAAAAAAAAAAAAAAAAAAAAAAAAAAAAAAAAAAAAAAAAAAAAAAAAAAAAAAAAAAAAAAAAAAh7GwPXFroTz//6gjHS26vTF7tz3uHqsisq+IvSkshT03dPMj2Uq6pAA5tjwLr4S9Fl8lPQAAAAAAAAAAAAAAAAAAAAAAAAAAAAAAAAAAAAAAAAAAAAAAAAAAAAAAAAAAAAAAAAAAAAAAAAAAAAAAAAAAAAAAAAAAAAAAAAAAAAAAAAAAAAAAAAAAAAAAAAAAAAAAAAAAAAAAAAAAAAAAAAAAAAAAAAAAAAAAAAAAAAAAAAAAAAAAAAAAAAAAAAAAAAAAAAAAAAAAAAAAAAAAAAAAAAAAAAAAAAAAAAAAAAAAAAAAAAAAAAAAAAAAAAAAAAAAAAAAAAAAAAAAAAAAAAAAAAAAAAAAAAAAAAAAAAAAAAAAAAAAAAAAAAAAAAAAAAAAAAAAAAAAAAAAAAAAAAAAAAAAAAAAXWsQuwAAAAA0/2u8OB1HPI3pRjylcUGyY2FBMmNhQTJptfE8KkTyPKW2TzshpMq84nO0OwAAAAAAAAAAAAAAAAAAAAAAAAAAAAAAAAAAAAAAAAAAAAAAAAAAAAAAAAAAAAAAAAAAAACEORWiTPaSnyG/7aOTGpAk7VzVvO2HbKE85agh4wjou/FoWb1/bSsjO3III33KGz1lWDIkAAAAAAAAAAAAAAAAAAAAAAAAAAAAAAAAAAAAAAAAAAAAAAAAAAAAAAAAAAAAAAAAAAAAAF1rEDsAAAAANP9rPDgdR7yN6UY8pXFBMmNhQbJjYUEyabXxPCpE8ryltk+7IaTKvOJztLsAAAAAAAAAAAAAAAAAAAAAAAAAAAAAAAAAAAAAAAAAAAAAAAAAAAAAAAAAAAAAAAAAAAAAAAAAAAAAAAAAAAAAAAAAAAAAAAAAAAAAAAAAAAAAAAAAAAAAAAAAAAAAAAAAAAAAAAAAAAAAAAAAAAAAAAAAAAAAAAAAAAAAAAAAAAAAAAAAAAAAAAAAAAAAAAAAAAAAAAAAAAAAAAAAAAAAAAAAAAAAAAAAAAAAAAAAAAAAAAAAAAAAAAAAAAAAAAAAAAAAAAAAAAAAAAAAAAAAAAAAAAAAAAAAAAAAAAAAAAAAAAAAAAAAAAAAAAAAAAAAAAAAAAAAAAAAAAAAAAAAAAAAAAAAAAAAAAAAAAAAAAAAAAAAAAAAAAAAAAAAAAAAAAAAAAAAAAAAAAAAAAAAAAAAAAAAAAAAAAAAAAAAAAAAAAAAAAAAAAAAAAAAAAAAAAAAAAAAAAAAAAAAAAAAAAAAAAAAAAAAAAAAAAAAAAAAAAAAAAAAAAAAAAAAAAAAAAAAAAAAAAAAAAAAAAAAAAAAAAAAAAAAAAAAAAAAAAAAAAAAAAAAAAAAAAAAAAAAAAAAAAAAAAAAAAAAAAAAAAAAAAAAAAAAAAAAAAAAAAAAAAAAAAAAAAAAAAAAAAAAAAAAAAAAAAAAAAAAAAAAAAAAAAAAAAAAAAAAAAAAAAAAAAAAAAAAAAAAAAAAAAAAAAAAAAAAAAAAAAAAAAAAAAAAAAAAAAAAAAAAAAAAAAAAAAAAAAAAAAAAAAAAAAAAAAAAAAAAAAAAAAAAAAAAAAAAAAAAAAAAAAAAAAAAAAAAAAAAAAAAAAAAAAAAAAAAAAAAAAAAAAAAAAAAAAAAAAAAAAAAAAAAAAAAAAAAAAAAAAAAAAAAAAAAAAAAAAAAAAAAAAAAAAAAAAAAAAAAAAAAAAAAAAAAAAAAAAAAAAAAAAAAAAAAAAAAAAAAAAAAAAAAAAAAAAAAAAAAAAAAAAAAAAAAAAAAAAAAAAAAAAAAAAAAAAAAAAAAAAAAAAAAAAAAAAAAAAAAAAAAAAAAAAAAAAAAAAAAAAAAAAAAAAAAAAAAAAAAAAAAAAAAAAAAAAAAAAAAAAAAAAAAAAAAAAAAAAAAAAAAAAAAAAAAAAAAAAAAAAAAAAAAAAAAAAAAAAAAAAAAAAAAAAAAAAAAAAAAAAAAAAAAAAAAAAAAAAAAAAAAAAAAAAAAAAAAAAAAAAAAAAAAAAAAAAAAAAAAAAAAAAAAAAAAAAAAAAAAAAAAAAAAAAAAAAAAAAAAAAAAAAAAAAAAAAAAAAAAAAAAAAAAAAAAAAAAAAAAAAAAAAAAAAAAAAAAAAAAAAAAAAAAAAAAAAAAAAAAAAAAAAAAAAAAAAAAAAAAAAAAAAAAAAAAAAAAAAAAAAAAAAAAAAAAAAAAAAAAAAAAAAAAAAAAAAAAAAAAAAAAAAAAAAAAAAAAAAAAAAAAAAAAAAAAAAAAAAAAAAAAAAAAAAAAAAAAAAAAAAAAAAAAAAAAAAAAAAAAAAAAAAAAAAAAAAAAAAAAAAAAAAAAAAAAAAAAAAAAAAAAAAAAAAAAAAAAAAAAAAAAAAAAAAAAAAAAAAAAAAAAAAAAAAAAAAAAAAAAAAAAAAAAAAAAAAAAAAAAAAAAAAAAAAAAAAAAAAAAAAAAAAAAAAAAAAAAAAAAAAAAAAAAAAAAAAAAAAAAAAAAAAAAAAAAAAAAAAAAAAAAAAAAAAAAAAAAAAAAAAAAAAAAAAAAAAAAAAAAAAAAAAAAAAAAAAAAAAAAAAAAAAAAAAAAAAAAAAAAAAAAAAAAAAAAAAAAAAAAAAAAAAAAAAAAAAAAAAAAAAAAAAAAAAAAAAAAAAAAAAAAAAAAAAAAAAAAAAAAAAAAAAAAAAAAAAAAAAAAAAAAAAAAAAAAAAAAAAAAAAAAAAAAAAAAAAAAAAAAAAAAAAAAAAAAAAAAAAAAAAAAAAAAAAAAAAAAAAAAAAAAAAAAAAAAAAAAAAAAAAAAAAAAAAAAAAAAAAAAAAAAAAAAAAAAAAAAAAAAAAAAAAAAAAAAAAAAAAAAAAAAAAAAAAAAAAAAAAAAAAAAAAAAAAAAAAAAAAAAAAAAAAAAAAAAAAAAAAAAAAAAAAAAAAAAAAAAAAAAAAAAAAAAAAAAAAAAAAAAAAAAAAAAAAAAAAAAAAAAAAAAAAAAAAAAAAAAAAAAAAAAAAAAAAAAAAAAAAAAAAAAAAAAAAAAAAAAAAAAAAAAAAAAAAAAAAAAAAAAAAAAAAAAAAAAAAAAAAAAAAAAAAAAAAAAAAAAAAAAAAAAAAAAAAAAAAAAAAAAAAAAAAAAAAAAAAAAAAAAAAAAAAAAAAAAAAAAAAAAAAAAAAAAAAAAAAAAAAAAAAAAAAAAAAAAAAAAAAAAAAAAAAAAAAAAAAAAAAAAAAAAAAAAAAAAAAAAAAAAAAAAAAAAAAAAAAAAAAAAAAAAAAAAAAAAAAAAAAAAAAAAAAAAAAAAAAAAAAAAAAAAAAAAAAAAAAAAAAAAAAAAAAAAAAAAAAAAAAAAAAAAAAAAAAAAAAAAAAAAAAAAAAAAQBRUmgAAAAAiWQmZcDp1Iq9S0rYAAAAAAAAAAAAAAAA/jpSYr/03m9f9JqOJLPg3wc6PIAAAAAAAAAAAAAAAAAAAAAAAAAAAAAAAAAAAAAAAAAAAAAAAAAAAAAAAAAAAAAAAAAAAAAAAAAAAAAAAAAAAAAAAAAAAAAAAAAAAAAAAAAAAAAAAAAAAAAAAAAAAAAAAAAAAAAAAAAAAAAAAAAAAAAAAAAAAAAAAAAAAAAAAAAAAAAAAAAAAAAAAAAAAAAAAAAAAAAAAAAAAAAAAAAAAAAAAAAAAAAAAAAAAAAAAAAAAAAAAAAAAAAAAAAAAAAAAAAAAAAAAAAAAAAAAAAAAAAAAAAAAAAAAAAAAAAAAAAAAAAAAAAAAAAAAAAAAAAAAAAAAAAAAAAAAAAAAAAAAAAAAAAAAAAAAAAAAAAAAAAAAAAAAAAAAAAAAAAAAAAAAAAAAAAAAAAAAAAAAAAAAAAAAAAAAAAAAAAAAAAAAAAAAAAAAAAAAAAAAAAAAAAAAAAAAAAAAAAAAAAAAAAAAAAAAAAAAAAAAAAAAAAAAAAAAAAAAAAAAAAAAAAAAAAAAAAAAAAAAAAAAAAAAAAAAAAAAAAAAAAAAAAAAAAAAAAAAAAAAAAAAAAAAAAAAAAAAAAAAAAAAAAAAAAAAAAAAAAAAAAAAAAAAAAAAAAAAAAAAAAAAAAAAAAAAAAAAAAAAAAAAAAAAAAAAAAAAAAAAAAAAAAAAAAAAAAAAAAAAAAAAAAAAAAAAAAAAAAAAAAAAAAAAAAAAAAAAAAAAAAAAAAAAAAAAAAAAAAAAAAAAAAAAAAAAAAAAAAAAAAAAAAAAAAAAAAAAAAAAAAAAAAAAAAAAAAAAAAAAAAAAAAAAAAAAAAAAAAAAAAAAAAAAAAAAAAAAAAAAAAAAAAAAAAAAAAAAAAAAAAAAAAAAAAAAAAAAAAAAAAAAAAAAAAAAAAAAAAAAAAAAAAAAAAAAAAAAAAAAAAAAAAAAAAAAAAAAAAAAAAAAAAAAAAAAAAAAAAAAAAAAAAAAAAAAAAAAAAAAAAAAAAAAAAAAAAAAAAAAAAAAAAAAAAAAAAAAAAAAAAAAAAAAAAAAAAAAAAAAAAAAAAAAAAAAAAAAAAAAAAAAAAAAAAAAAAAAAAAAAAAAAAAAAAAAAAAAAAAAAAAAAAAAAAAAAAAAAAAAAAAAAAAAAAAAAAAAAAAAAAAAAAAAAAAAAAAAAAAAAAAAAAAAAAAAAAAAAAAAAAAAAAAAAAAAAAAAAAAAAAAAAAAAAAAAAAAAAAAAAAAAAAAAAAAAAAAAAAAAAAAAAAAAAAAAAAAAAAAAAAAAAAAAAAAAAAAAAAAAAAAAAAAAAAAAAAAAAAAAAAAAAAAAAAAAAAAAAAAAAAAAAAAAAAAAAAAAAAAAAAAAAAAAAAAAAAAAAAAAAAAAAAAAAAAAAAAAAAAAAAAAAAAAAAAAAAAAAAAAAAAAAAAAAAAAAAAAAAAAAAAAAAAAAAAAAAAAAAAAAAAAAAAAAAAAAAAAAAAAAAAAAAAAAAAAAAAAAAAAAAAAAAAAAAAAAAAAAAAAAAAAAAAAAAAAAAAAAAAAAAAAAAAAAAAAAAAAAAAAAAAAAAAAAAAAAAAAAAAAAAAAAAAAAAAAAAAAAAAAAAAAAAAAAAAAAAAAAAAAAAAAAAAAAAAAAAAAAAAAAAAAAAAAAAAAAAAAAAAAAAAAAAAAAAAAAAAAAAAAAAAAAJXwbyxEOtorXYvGJALi/azP6TUpTmldpestF6pXNqsoYL1PJcfzhKbfQGStp0jgqT+UlT9YdKgu8ANMLS5xNyh/HoCtssUFqMvz6Se9hVqtSjxxqCoeQaT0fX8lKN3UruLJ8CZTGWNBAAAAAAAAAAAAAAAAAAAAAAAAAAAAAAAAAAAAAAAAAAAAAAAAAAAAAAAAAAAAAAAAAAAAAAAAAAAAAAAAAAAAAAAAAAAAAAAAAAAAAAAAAAAAAAAAAAAAAAAAAAAAAAAAAAAAAAAAAAAAAAAAAAAAAAAAAAAAAAAAAAAAAAAAAAAAAAAAAAAAAAAAAAAAAAAAAAAAAAAAAAAAAAAAAAAAAAAAAAAAAAAAAAAAAAAAAAAAAAAAAAAAAAAAAAAAAAAAAAAAAAAAAAAAAAAAAAAAAAAAAAAAAAAAAAAAAAAAAAAAAAAAAAAAAAAAAAAAAAAAAAAAAAAAAAAAAAAAAAAAAAAAAAAAAAAAAAAAAAAAAAAAAAAAAAAAAAAAAAAAAAAAAAAAAAAAAAAAAAAAAAAAAAAAAAAAAAAAAAAAAAAAAAAAAAAAAAAAAAAAAAAAAAAAAAAAAAAAAAAAAAAAAAAAAAAAAAAAAAAAAAAAAAAAAAAAAAAAAAAAAAAAAAAAAAAAAAAAAAAAAAAAAAAAAAAAAAAAAAAAAAAAAAAAAAAAAAAAAAAAAAAAAAAAAAAAAAAAAAAAAAAAAAAAAAAAAAAAAAAAAAAAAAAAAAAAAAAAAAAAAAAAAAAAAAAAAAAAAAAAAAAAAAAAAAAAAAAAAAAAAAAAAAAAAAAAAAAAAAAAAAAAAAAAAAAAAAAAAAAAAAAAAAAAAAAAAAAAAAAAAAAAAAAAAAAAAAAAAAAAAAAAAAAAAAAAAAAAAAAAAAAAAAAAAAAAAAAAAAAAAAAAAAAAAAAAAAAAAAAAAAAAAAAAAAAAAAAAAAAAAAAAAAAAAAAAAAAAAAAAAAAAAAAAAAAAAAAAAAAAAAAAAAAAAAAAAAAAAAAAAAAAAAAAAAAAAAAAAAAAAAAAAAAAAAAAAAAAAAAAAAAAAAAAAAAAAAAAAAAAAAAAAAAAAAAAAAAAAAAAAAAAAAAAAAAAAAAAAAAAAG3PLbnUpYI5OrcKGwAAAAAAAAAAAAAAAKj7GZzsCTq6L6z7OXCyyxuZa3e5AAAAAAAAAAAAAAAAAAAAAAAAAAAAAAAAAAAAAAAAAAAAAAAAAAAAAAAAAAAAAAAAAAAAAAAAAAAAAAAAAAAAAAAAAAAAAAAAAAAAAAAAAAAAAAAAAAAAAAAAAAAAAAAAAAAAAAAAAAAAAAAAAAAAAAAAAAAAAAAAAAAAAAAAAAAAAAAAAAAAAAAAAAAAAAAAAAAAAAAAAAAAAAAAAAAAAAAAAAAAAAAAAAAAAAAAAAAAAAAAAAAAAAAAAAAAAAAAAAAAAAAAAAAAAAAAAAAAAAAAAAAAAAAAAAAAAAAAAAAAAAAAAAAAAAAAAAAAAAAAAAAAAAAAAAAAAAAAAAAAAAAAAAAAAAAAAAAAAAAAAAAAAAAAAAAAAAAAAAAAAAAAAAAAAAAAAAAAAAAAAAAAAAAAAAAAAAAAAAAAAAAAAAAAAAAAAAAAAAAAAAAAAAAAAAAAAAAAAAAAAAAAAAAAAAAAAAAAAAAAAAAAAAAAAAAAAAAAM4XHGdSlgrltzy05AAAAAAAAAAAAAAAAeAHHmRw2AJsvrPu57Ak6Oplrd7kAAAAAAAAAAAAAAAAAAAAAAAAAAAAAAAAAAAAAAAAAAAAAAAAAAAAAAAAAAAAAAAAAAAAAgYNbpRl44BpNq7Wg/1KgJ4KaDKVAThYbRfBCo48yRqJg+DsfaVO/oa0TEShoXQum7r51u6IenIIAAAAAQxiamJDVf6CCIHEfAAAAAAAAAAAAAAAAZuptlmo80ZfksTKhwc6PIHQASrQAAAAAAAAAAJswbhrUpYK5bc8tuQAAAAAAAAAAAAAAAEFWChzAE7eZL6z7uewJOrqZa3e5AAAAAAAAAAAAAAAAAAAAAAAAAAAAAAAAAAAAAAAAAAAAAAAAAAAAAAAAAAAAAAAAAAAAAAAAAAAAAAAAAAAAAAAAAAAAAAAAAAAAAAAAAAAAAAAAAAAAAAAAAAAAAAAAAAAAAAAAAAAAAAAAAAAAAAAAAAAAAAAAAAAAAAAAAAAAAAAAAAAAAAAAAAAAAAAAAAAAAAAAAAAAAAAAAAAAAAAAAAAAAAAAAAAAAAAAAAAAAAAAAAAAAAAAAAAAAAAAAAAAAAAAAAAAAAAAAAAAAAAAAAAAAAAAAAAAAAAAAAAAAAAAAAAAAAAAAAAAAAAAAAAAAAAAAAAAAAAAAAAAAAAAAAAAAAAAAAAAAAAAAAAAAAAAAAAAAAAAAAAAAAAAAAAAAAAAAAAAAAAAAAAAAAAAAAAAAAAAAAAAAAAAAAAAAAAAAAAAAAAAAAAAAAAAAAAAAAAAAAAAAAAAAAAAAAAAAAAAAAAAAAAAAAAAAAAAAAAAbc8tOdSlgjnKnDkbAAAAAAAAAAAAAAAA5hYbG+wJOjovrPs5i1F4HJlrd7kAAAAAAAAAAAAAAAAAAAAAAAAAAAAAAAAAAAAAAAAAAAAAAAAAAAAAAAAAAAAAAAAAAAAAAAAAAAAAAAAAAAAAAAAAAAAAAAAAAAAAAAAAAAAAAAAAAAAAAAAAAAAAAAAAAAAAAAAAAAAAAAAAAAAAAAAAAAAAAAAAAAAAAAAAAAAAAAAAAAAAAAAAAAAAAAAAAAAAAAAAAAAAAAAAAAAAAAAAAAAAAAAAAAAAAAAAAAAAAAAAAAAAAAAAAAAAAAAAAAAAAAAAAAAAAAAAAAAAAAAAAAAAAAAAAAAAAAAAAAAAAAAAAAAAAAAAAAAAAAAAAAAAAAAAAAAAAAAAAAAAAAAAAAAAAAAAAAAAAAAAAAAAAAAAAAAAAAAAAAAAAAAAAAAAAAAAAAAAAAAAAAAAAAAAAAAAAAAAAAAAAAAAAAAAAAAAAAAAAAAAAAAAAAAAAAAAAAAAAAAAAAAAAAAAAAAAAAAAAAAAAAAAAAAAAAAAAAAAAAAAAAAAAAAAAAAAAAAAAAAAAAAAAAAAAAAAAAAAAAAAAAAAAAAAAAAAAAAAAAAAAAAAAAAAAAAAAAAAAAAAAAAAAAAAAAAAAAAAAAAAAAAAAAAAAAAAAAAAAAAAAAAAAAAAAAAAAAAAAAAAAAAAAAAAAAAAAAAAAAAAAAAAAAAAAAAAAAAAAAAAAAAAAAAAAAAAAAAAAAAAAAAAAAAAAAAAAAAAAAAAAAAAAAAAAAAAAAAAAAAAAAAAAAAAAAAAAAAAAAAAAAAAAAAAAAAAAAAAAAAAAAAAAAAAAAAAAAAAAAAAAAAAAAAAAAAAAAAAAAAAAAAAAAAAAAAAAAAAAAAAAAAAAAAAAAAAAAAAAAAAAAAAAAAAAAAAAAAAAAAAAAAAAAAAAAAAAAAAAAAAAAAAAAAAAAAAAAAAAAAAAAAAAAAAAAAAAAAAAAAAAAAAAAAAAAAAAAAAAAAAAAAAAAAAAAAAAAAAAAAAAAAAAAAAAAAAAAAAAAAAAAAAAAAAAAAAAAAAAAAAAAAAAAAAAAAAAAAAAAAAAAAAAAAAAAAAAAAAAAAAAAAAAAAAAAAAAAAAAAAAAAAAAAAAAAAAAAAAAAAAAAAAAAAAAAAAAAAAAAAAAAAAAAAAAAAAAAAAAAAAAAAAAAAAAAAAAAAAAAAAAAAAAAAAAAAAAAAAAAAAAAAAAAAAAAAAAAAAAAAAAAAAAAAAAAAAAAAAAAAAAAAAAAAAAAAAAAAAAAAAAAAAAAAAAAAAAAAAAAAAAAAAAAAAAAAAAAAAAAAAAAAAAAAAAAAAAAAAAAAAAAAAAAAAAAAAAAAAAAAAAAAAAAAAAAAAAAAAAAAAAAAAAAAAAAAAAAAAAAAAAAAAAAAAAAAAAAAAAAAAAAAAAAAAAAAAAAAAAAAAAAAAAAAAAAAAAAAAAAAAAAAAAAAAAAAAAAAAAAAAAAAAAAAAAAAAAAAAAAAAAAAAAAAAAAAAAAAAAAAAAAAAAAAAAAAAAAAAAAAAAAAAAAAAAAAAAAAAAAAAAAAAAAAAAAAAAAAAAAAAAAAAAAAAAAAAAAAAAAAAAAAAAAAAAAAAAAAAAAAAAAAAAAAAAAAAAAAAAAAAAAAAAAAAAAAAAAAAAAAAAAAAAAAAAAAAAAAAAAAAAAAAAAAAAAAAAAAAAAAAAAAAAAAAAAAAAAAAAAAAAAAAAAAAAAAAAAAAAAAAAAAAAAAAAAAAAAAAAAAAAAAAAAAAAAAAAAAAAAAAAAAAAAAAAAAAAAAAAAAAAAAAAAAAAAAAAAAAAAAAAAAAAAAAAAAAAAAAAAAAAAAAAAAAAAAAAAAAAAAAAAAAAAAAAAAAAAAAAAAAAAAAAAAAAAAAAAAAAAAAAAAAAAAAAACAaFqoAAAAAHPmnDv4n4+pc+acu3VuhjY6d+QfdW6GttMa8qpwY8E7oOh+KnBjwbv40N08XR1xpgAAAACUTRQ7WnPfqJRNFLskFYIsfA1dlkIUgqxCggoo4nO0O82tg6nic7S74mspPKe75j5rPsY+mg2KvtBxij5Z8jgl1HHEviP+bD5TP6ejrKotJtlVLD2NDcA+7wmBJml/pz6nAEA99O8fPKfNAb2X2qA9jLcRI/CV7rz4xhk9/7/pICTXnqQXXyW9sdLePWVYMiSx93U78XtaqAAAAABz5pw7NKSPqXPmnDt1boY2jBRlH3VuhjZ9IvIqcGPBOzPufipwY8E7+NDdPEjhcKYAAAAAlE0UO6pu36iUTRQ7JBWCLPIxnhhCFIIsDp8KqOJztDtGrIOp4nO0O+JrKTwAAAAAAAAAAAAAAAAAAAAAAAAAAAAAAAAAAAAAAAAAAAAAAAAAAAAAAAAAAAAAAAAAAAAAAAAAAAAAAAAAAAAAAAAAAAAAAAAAAAAAAAAAAAAAAAAAAAAAAAAAAAAAAAAAAAAAAAAAAAAAAAAAAAAAAAAAAAAAAAAAAAAAAAAAAAAAAAAAAAAAAAAAAAAAAAAAAAAAAAAAAAAAAAAAAAAAAAAAAAAAAAAAAAAAAAAAAAAAAAAAAAAAAAAAAAAAAAAAAAAAAAAAAAAAAAAAAAAAp7vmvms+xr6DMO8k0HGKvpoNij4JfaMkI/5svtRxxD4NkpIlYBYSJo0NwL7ZVSy9aX+nPqcAQL307x+8l2feo5faoL2nzQE9MHRpIfjGGb3wle48uJ9oJCOTV6Ox0t69Fl8lPbH3dTuxNIQt+OsBLYmNmidzhqMtLQLMKW9cuCM0wtQs1NCPKXPHVCW2FZqnZv4LrojfOypHtGVAbiMXLCQcNCibGWakg4MzLTNRv6fG9pQjsNaHKroVt6Xc+hMkYTPzpWUDNS2oO96o9n0GPae75r5rPsa+OgMXJdBxir6aDYq+gGUMJSP+bL7UccS+NdZkoj9+OKaNDcC+2VUsPWl/pz6nAEC99O8fvB21SyGX2qC9p80BvbTlyaH4xhm98JXuvI+bT6OQWwGlsdLevRZfJb2x93U7AAAAAAAAAAAAAAAAAAAAAAAAAAAAAAAAAAAAAAAAAAAAAAAAAAAAAAAAAAAAAAAAAAAAAAAAAAAAAAAAAAAAAAAAAAAAAAAAAAAAAAAAAAAAAAAAAAAAAAAAAAAAAAAAAAAAAAAAAAAAAAAAAAAAAAAAAAAAAAAAAAAAAAAAAAAAAAAAAAAAAAAAAAAAAAAAAAAAAAAAAAAAAAAAAAAAAAAAAAAAAAAAAAAAAAAAAAAAAAAAAAAAAAAAAAAAAAAAAAAAAAAAAAAAAAAAAAAAACpUWqgAAAAAc+acu8ebj6lz5py7dW6Gtme4IyB1boa2yhLyKnBjwbvG4n4qcGPBu/jQ3TyaW3GmAAAAAJRNFLvVed+olE0UuyQVgqzssY+YQhSCrKRqCqjic7S7ya6DqeJztLviayk8p7vmPms+xj6aDYo+0HGKPmAw2STUccQ+I/5sPsNicaUv7CUm2VUsvY0NwD68QD0maX+nPqcAQD307x88p80BPZfaoD3EVTIi8JXuPPjGGT2jMPQhu8HCIxdfJT2x0t49g/7jo7H3dTufZ1qoAAAAAHPmnLv9n4+pc+acO3VuhraxhtUfdW6GNhIa8qpwY8G7juh+KnBjwTv40N08aR9xpgAAAACUTRS7uXXfqJRNFDskFYKs2qddlkIUgiwDegoo4nO0u4Stg6nic7Q74mspPAAAAAAAAAAAAAAAAAAAAAAAAAAAAAAAAAAAAAAAAAAAAAAAAAAAAAAAAAAAAAAAAAAAAAAAAAAAAAAAAAAAAAAAAAAAAAAAAAAAAAAAAAAAAAAAAAAAAAAAAAAAAAAAAAAAAAAAAAAAAAAAAAAAAAAAAAAAAAAAAAAAAAAAAAAAAAAAAAAAAAAAAAAAAAAAAAAAAAAAAAAAAAAAAAAAAAAAAAAAAAAAAAAAAAAAAAAAAAAAAAAAAAAAAAAAAAAAAAAAAAAAAAAAAAAAAAAAAAAAAAAAAAAAAAAAAAAAAAAAAAAAAAAAAAAAAAAAAAAAAAAAAAAAAAAAAAAAAAAAAAAAAAAAAAAAAAAAAAAAAAAAAAAAAAAAAAAAAAAAAAAAAAAAAAAAAAAAAAAAAAAAAAAAAAAAAAAAAAAAAAAAAAAAAAAAAAAAAAAAAAAAAAAAAAAAAAAAAAAAAAAAAAAAAAAAAAAAAAAAAAAAAAAAAAAAAAAAAAAAAAAAAAAAAAAAAAAAAAAAAAAAAAAAAAAAAAAAAAAAAAAAAAAAAAAAAAAAAAAAAAAAAAAAAAAAAAAAAAAAAAAAAAAAAAAAAAAAAAAAAAAAAAAAAAAAAAAAAAAAAAAAAAAAAAAAAAAAAAAAAAAAAAAAAAAAAAAAAAAAAAAAAAAAAAAAAAAAAAAAAAAAAAAAAAAAAAAAAAAAAAAAAAAAAAAAAAAAAAAAAAAAAAAAAAAAAAAAAAAAAAAAAAAAAAAAAAAAAAAAAAAAAAAAAAAAAAAAAAAAAAAAAAAAAAAAAAAAAAAAAAAAAAAAAAAAAAAAAAAAAAAAAAAAAAAAAAAAAAAAAAAAAAAAAAAAAAAAAAAAAAAAAAAAAAAAAAAAAAAAAAAAAAAAAAAAAAAAAAAAAAAAAAAAAAAAAAAAAAAAAAAAAAAAAAAAAAAAAAAAAAAAAAAAAAAAAAAAAAAAAAAAAAAAAAAAAAAAAAAAAAAAAAAAAAAAAAAAAAAAAAAAAAAAAAAAAAAAAAAAAAAAAAAAAAAAAAAAAAAAAAAAAAAAAAAAAAAAAAAAAAAAAAAAAAAAAAAAAAAAAAAAAAAAAAAAAAAAAAAAAAAAAAAAAAAAAAAAAAAAAAAAAAAAAAAAAAAAAAAAAAAAAAAAAAAAAAAAAAAAAAAAAAAAAAAAAAAAAAAA+NaksAAAAAABgw86C3IlNq1EBR0AAAAAAAAAAAAAAACn89+cg2Mxt2luODrT3vwaS0mgOgAAAAAAAAAAAAAAAAAAAAAAAAAAAAAAAAAAAAAAAAAAAAAAAAAAAAAAAAAAAAAAAAAAAAAAAAAAAAAAAAAAAAAAAAAAAAAAAAAAAAAAAAAAAAAAAAAAAAAAAAAAAAAAAAAAAAAAAAAAAAAAAAAAAAAAAAAAAAAAAAAAAAAAAAAAAAAAAAAAAAAAAAAAAAAAAAAAAAAAAAAAAAAAAAAAAAAAAAAAAAAAAAAAAAAAAAAAAAAAAAAAAAAAAAAAAAAAAAAAAAAAAAAAAAAAAAAAAAAAAAAAAAAAAAAAAAAAAAAAAAAAAAAAAAAAAAAAAAAAAAAAAAAAAAAAAAAAAAAAAAAAAAAAAAAAAAAAAAAAAAAAAAAAAAAAAAAAAAAAAAAAAAAAAAAAAAAAAAAAAAAAAAAAAAAAAAAAAIb3jaYAAAAAKIYNO1Zg2igohg27AAAAAAAAAAAAAAAAVsj/qYt1f7vAA1Api3V/Oyh0TjwH2eaqHkSqp+u5Dj2QmpAo67kOvVfz5TtuB08oV/Plu6ddkCt0JNK58uwqq3Qk0jm4uQs+2R9QPoJRDj6JzBi+s1s1vl+ePSMsfzK+D2EGvuJbpKOMm5KljOKIPMtEQD75quujuRWyPVE17T6YsEs/l+O8PhcpNb3NZQclQszQvnEhH70ylOMmW6qAp55sSz3lvIY/6RoMJvPu2T/TJ46mAAAAACiGDTvWaNooKIYNOwAAAAAAAAAAAAAAAMrU/ymLdX+72ApQKYt1f7sodE48aNTmqnEAqqfruQ49BIeQKOu5Dj1X8+U76AZPKFfz5TvMYpCrdCTSuS7iKqt0JNK5uLkLPgAAAAAAAAAAAAAAAAAAAAAAAAAAAAAAAAAAAAAAAAAAAAAAAAAAAAAAAAAAAAAAAAAAAAAAAAAAAAAAAAAAAAAAAAAAAAAAAAAAAAAAAAAAAAAAAAAAAAAAAAAAAAAAAAAAAAAAAAAAAAAAAAAAAAAAAAAAAAAAAAAAAAAAAAAAAAAAAAAAAAAAAAAAAAAAAAAAAAAAAAAAAAAAAPjWpDAAAAAAMT2FHAtyJbYBgw+6AAAAAAAAAAAAAAAAmBr6HJ0pC5tpbji6g2MxN0tJoDrZH1C+glEOvm1KDiSzWzU+icwYPgji4qMPYQY+LH8yPjkXcaUdxbaky0RAvoziiLy5FbI9UTXtvpiwS7/f77qmFyk1PZfjvL6BSdqlcSEfPULM0D77tsMlrYVeJuW8hr+ebEu98+7ZP9kfUL6CUQ6+m+4dJbNbNT6JzBi+OC2bow9hBj4sfzK+ie0vpfUZHCXLREC+jOKIPLkVsj1RNe2+mLBLv4p8Y6YXKTU9l+O8PrOXASZxIR89QszQvmJqyqWKrK8k5byGv55sSz3z7tk/AAAAAAAAAAAAAAAAAAAAAAAAAAAAAAAAAAAAAAAAAAAAAAAAAAAAAAAAAAAAAAAAAAAAAPjWpDAAAAAALaNVHAtyJbYBgw86AAAAAAAAAAAAAAAAlw8QnUpvxRlpbji6g2Mxt0tJoDoAAAAAAAAAAAAAAAAAAAAAAAAAAAAAAAAAAAAAAAAAAAAAAAAAAAAAAAAAAAAAAAAAAAAAAAAAAAAAAAAAAAAAAAAAAAAAAAAAAAAAAAAAAAAAAAAAAAAAAAAAAAAAAAAAAAAAAAAAAAzGjaYAAAAAKIYNu0lW2igohg27AAAAAAAAAAAAAAAAu73/KYt1fzsk/U8pi3V/Oyh0TjxY0+aq2QKqp+u5Dr35hZAo67kOvVfz5bsNBk8oV/PluwpqkKt0JNI5Xfkqq3Qk0jm4uQs+2R9QPoJRDj6JzBg+s1s1vsYObSQsfzI+D2EGvgoLsaPVF+ejjOKIvMtEQD6Y1G2luRWyPVE17T6YsEs/l+O8vhcpNb2N1VWmQszQPnEhH724zIcmytlOJ55sS73lvIY/hafNJfPu2T8d9o2mAAAAACiGDbv3YdooKIYNOwAAAAAAAAAAAAAAACDK/6mLdX87SgVQKYt1f7sodE48hNbmqjhEqqfruQ69YJCQKOu5Dj1X8+W76gRPKFfz5TuWZpArdCTSOajoKqt0JNK5uLkLPgAAAAAAAAAAAAAAAAAAAAAAAAAAAAAAAAAAAAAAAAAAAAAAAAAAAAAAAAAAAAAAAAAAAAAAAAAAAAAAAAAAAAAAAAAAAAAAAAAAAAAAAAAAAAAAAAAAAAAAAAAAAAAAAAAAAAAAAAAAAAAAAAAAAAAAAAAAAAAAAAAAAAAAAAAAAAAAAAAAAAAAAAAAAAAAAAAAAAAAAAAAAAAAAAAAAAAAAAAAAAAAAAAAAAAAAAAAAAAAAAAAAAAAAAAAAAAAAAAAAAAAAAAAAAAAAAAAAAAAAAAAAAAAAAAAAAAAAAAAAAAAAAAAAAAAAAAAAAAAAAAAAAAAAAAAAAAAAAAAAAAAAAAAAAAAAAAAAAAAAAAAAAAAAAAAAAAAAAAAAAAAAAAAAAAAAAAAAAAAAAAAAAAAAAAAAAAAAAAAAAAAAAAAAAAAAAAAAAAAAAAAAAAAAAAAAAAAAAAAAAAAAAAAAAAAAAAAAAAAAAAAAAD41qSwAAAAAAGDD7oLciU2W+EaHQAAAAAAAAAAAAAAAPxZsh2DYzE3aW44OtfT8hpLSaA6AAAAAAAAAAAAAAAAAAAAAAAAAAAAAAAAAAAAAAAAAAAAAAAAAAAAAAAAAAAAAAAAAAAAAAAAAAAAAAAAAAAAAAAAAAAAAAAAAAAAAAAAAAAAAAAAAAAAAAAAAAAAAAAAAAAAAAAAAAAAAAAAAAAAAAAAAAAAAAAAAAAAAAAAAAAAAAAAAAAAAAAAAAAAAAAAAAAAAAAAAAAAAAAAAAAAAAAAAAAAAAAAAAAAAAAAAAAAAAAAAAAAAAAAAAAAAAAAAAAAAAAAAAAAAAAAAAAAAAAAAAAAAAAAAAAAAAAAAAAAAAAAAAAAAAAAAAAAAAAAAAAAAAAAAAAAAAAAAAAAAAAAAAAAAAAAAAAAAAAAAAAAAAAAAAAAAAAAAAAAAAAAAAAAAAAAAAAAAAAAAAAAAAAAAAAAAAAAAAAAAAAAAAAAAAAAAAAAAAAAAAAAAAAAAAAAAAAAAAAAAAAAAAAAAAAAAAAAAAAAAAAAAAAAAAAAAAAAAAAAAAAAAAAAAAAAAAAAAAAAAAAAAAAAAAAAAAAAAAAAAAAAAAAAAAAAAAAAAAAAAAAAAAAAAAAAAAAAAAAAAAAAAAAAAAAAAAAAAAAAAAAAAAAAAAAAAAAAAAAAAAAAAAAAAAAAAAAAAAAAAAAAAAAAAAAAAAAAAAAAAAAAAAAAAAAAAAAAAAAAAAAAAAAAAAAAAAAAAAAAAAAAAAAAAAAAAAAAAAAAAAAAAAAAAAAAAAAAAAAAAAAAAAAAAAAAAAAAAAAAAAAAAAAAAAAAAAAAAAAAAAAAAAAAAAAAAAAAAAAAAAAAAAAAAAAAAAAAAAAAAAAAAAAAAAAAAAAAAAAAAAAAAAAAAAAAAAAAAAAAAAAAAAAAAAAAAAAAAAAAAAAAAAAAAAAAAAAAAAAAAAAAAAAAAAAAAAAAAAAAAAAAAAAAAAAAAAAAAAAAAAAAAAAAAAAAAAAAAAAAAAAAAAAAAAAAAAAAAAAAAAAAAAAAAAAAAAAAAAAAAAAAAAAAAAAAAAAAAAAAAAAAAAAAAAAAAAAAAAAAAAAAAAAAAAAAAAAAAAAAAAAAAAAAAAAAAAAAAAAAAAAAAAAAAAAAAAAAAAAAAAAAAAAAAAAAAAAAAAAAAAAAAAAAAAAAAAAAAAAAAAAAAAAAAAAAAAAAAAAAAAAAAAAAAAAAAAAAAAC/CYGmAAAAAEc/FDtL9lIoRz8Uu7gTgiy36psWQROCrJRfHynAOrS76jFyqcA6tDviayk8AAAAAAAAAAAAAAAAAAAAAAAAAAAAAAAAAAAAAAAAAAAAAAAAAAAAAAAAAAAAAAAAAAAAACkCOD20MyI8H/30vE0Cj71swesj20zwvPFPGr1ZpIShnqcGpErIAz1QNLc9HVzZpLH3dTsAAAAAAAAAAAAAAAAAAAAAAAAAAAAAAAAAAAAAAAAAAAAAAAAAAAAAAAAAAAAAAAAAAAAAqCmBpgAAAABHPxQ7uRpTKEc/FDu4E4Isw4eSGEETgixsSx+pwDq0u7s0cqnAOrS74mspPAAAAAAAAAAAAAAAAAAAAAAAAAAAAAAAAAAAAAAAAAAAAAAAAAAAAAAAAAAAAAAAAAAAAAAAAAAAAAAAAAAAAAAAAAAAAAAAAAAAAAAAAAAAAAAAAAAAAAAAAAAAAAAAAAAAAAAAAAAAAAAAAAAAAAAAAAAAAAAAAAAAAAAAAAAAAAAAAAAAAAAAAAAAAAAAAAAAAAAAAAAAAAAAAAAAAAAAAAAAAAAAAAAAAAAAAAAAAAAAAAAAAAAAAAAAAAAAAAAAAAAAAAAAAAAAAAAAAAAAAAAAAAAAAAAAAAAAAAAAAAAAAAAAAAAAAAAAAAAAAAAAAAAAAAAAAAAAAAAAAAAAAAAAKQI4vbQzIrx1vryjTQKPPR/99Dzo/veg8U8aPdtM8Dx3I8QjWHxDIVA0t71KyAO9sfd1O9Pv0aAAAAAAQR/GHSyvG6Wfn3OjAAAAANsEkQjQPFAbODE0HQopKR895N4lt+SUJAC5RrlzYiAspvYXKvUxA6SbVCOtRFW6J4ZYGSTEIi2rLaaRJT1QHqTuCaUlbmcHLSeP26j2fQY9AAAAAAAAAAAAAAAAAAAAAAAAAAAAAAAAAAAAAAAAAAAAAAAAAAAAAAAAAAAAAAAAAAAAACkCOL20MyK8DN9Ho00Cjz0f/fS8BhtPIfFPGj3bTPC8vCnApDY7niRQNLe9SsgDPbH3dTsAAAAAAAAAAAAAAAAAAAAAAAAAAAAAAAAAAAAAAAAAAAAAAAAAAAAAAAAAAAAAAAAAAAAAAAAAAAAAAAAAAAAAAAAAAAAAAAAAAAAAAAAAAAAAAAAAAAAAAAAAAAAAAAAAAAAAAAAAAAAAAAAAAAAAAAAAAAAAAAAAAAAAAAAAAAAAAAAAAAAAAAAAAAAAAAAAAAAAAAAAAAAAAAAAAAAAAAAAAAAAAAAAAAAAAAAAAAAAAAAAAAAAAAAAAAAAAAAAAAAAAAAAAAAAAAAAAAAAAAAAAAAAAAAAAAAAAAAAAAAAAAAAAAAAAAAAAAAAAAAAAAAAAAAAAAAAAAAAAAAAAAAAADTpgKYAAAAARz8Uu4rYUihHPxS7uBOCrLNem5hBE4Ks9m4fqcA6tDvgL3KpwDq0O+JrKTwAAAAAAAAAAAAAAAAAAAAAAAAAAAAAAAAAAAAAAAAAAAAAAAAAAAAAAAAAAAAAAAAAAAAAKQI4PbQzIjwf/fQ8TQKPvUKbbCPbTPA88U8avU4rp6G1x4QkSsgDvVA0tz0LP0mksfd1OwAAAAAAAAAAAAAAAAAAAAAAAAAAAAAAAAAAAAAAAAAAAAAAAAAAAAAAAAAAAAAAAAAAAAARCYGmAAAAAEc/FLusAVMoRz8UO7gTgqy36psWQROCLLtcHynAOrQ7bzNyqcA6tLviayk8AAAAAAAAAAAAAAAAAAAAAAAAAAAAAAAAAAAAAAAAAAAAAAAAAAAAAAAAAAAAAAAAAAAAAAAAAAAAAAAAAAAAAAAAAAAAAAAAAAAAAAAAAAAAAAAAAAAAAAAAAAAAAAAAAAAAAAAAAAAAAAAAAAAAAAAAAAAAAAAAAAAAAAAAAAAAAAAAAAAAAAAAAAAAAAAAAAAAAAAAAAAAAAAAAAAAAAAAAAAAAAAAAAAAAAAAAAAAAAAAAAAAAAAAAAAAAAAAAAAAAAAAAAAAAAAAAAAAAAAAAAAAAAAAAAAAAAAAAAAAAAAAAAAAAAAAAAAAAAAAAAAAAAAAAAAAAAAAAAAAAAAAAAAAAAAAAAAAAAAAAAAAAAAAAAAAAAAAAAAAAAAAAAAAAAAAAAAAAAAAAAAAAAAAAAAAAAAAAAAAAAAAAAAAAAAAAAAAAAAAAAAAAAAAAAAAAAAAAAAAAAAAAAAAAAAAAAAAAAAAAAAAAAAAAAAAAAAAAAAAAAAAAAAAAAAAAAAAAAAAAAAAAAAAAAAAAAAAAAAAAAAAAAAAAAAAAAAAAAAAAAAAAAAAAAAAAAAAAAAAAAAAAAAAAAAAAAAAAAAAAAAAAAAAAAAAAAAAAAAAAAAAAAAAAAAAAAAAAAAAAAAAAAAAAAAAAAAAAAAAAAAAAAAAAAAAAAAAAAAAAAAAAAAAAAAAAAAAAAAAAAAAAAAAAAAAAAAAAAAAAAAAAAAAAAAAAAAAAAAAAAAAAAAAAAAAAAAAAAAAAAAAAAAAAAAAAAAAAAAAAAAAAAAAAAAAAAAAAAAAAAAAAAAAAAAAAAAAAAAAAAAAAAAAAAAAAAAAAAAAAAAAAAAAAAAAAAAAAAAAAAAAAAAAAAAAAAAAAAAAAAAAAAAAAAAAAAAAAAAAAAAAAAAAAAAAAAAAAAAAAAAAAAAAAAAAAAAAAAAAAAAAAAAAAAAAAAAAAAAAAAAAAAAAAAAAAAAAAAAAAAAAAAAAAAAAAAAAAAAAAAAAAAAAAAAAAAAAAAAAAAAAAAAAAAAAAAAAAAAAAAAAAAAAAAAAAAAAAAAAAAAAAAAAAAAAAAAAAAAAAAAAAAAAAAAAAAAAAAAAAAAAAAAAAAAAAAAAAAAAAAAAAAAAAAAAAAAAAAAAAAAAAAAAAAAAAAAAAAAAAAAAAAAAAAAAAAAAAAAAAAAAAAAAAAAAAAAAAAAAAAAAAAAAAAAAAAAAAAAAAAAAAAAAAAAAAAAAAAAAAAAAAAAAAAAAAAAAAAAAAAAAAAAAAAAAAAAAAAAAAAAAAAAAAAAAAAAAAAAAAAAAAAAAAAAAAAAAAAAAAAAAAAAAAAAAAAAAAAAAAAAAAAAAAAAAAAAAAAAAAAAAAAAAAAAAAAAAAAAAAAAAAAAAAAAAAAAAAAAAAAAAAAAAAAAAAAAAAAAAAAAAAAAAAAAAAAAAAAAAAAAAAAAAAAAAAAAAAAAAAAAAAAAAAAAAAAAAAAAAAAAAAAAAAAAAAAAAAAAAAAAAAAAAAAAAAAAAAAAAAAAAAAAAAAAAAAAAAAAAAAAAAAAAAAAAAAAAAAAAAAAAAAAAAAAAAAAAAAAAAAAAAAAAAAAAAAAAAAAAAAAAAAAAAAAAAAAAAAAAAAAAAAAAAAAAAAAAAAAAAAAAAAAAAAAAAAAAAAAAAAAAAAAAAAAAAAAAAAAAAAAAAAAAAAAAAAAAAAAAAAAAAAAAAAAAAAAAAAAAAAAAAAAAAAAAAAAAAAAAAAAAAAAAAAAAAAAAAAAAAAAAAAAAAAAAAAAAAAAAAAAAAAAAAAAAAAAAAAAAAAAAAAAAAAAAAAAAAAAAAAAAAAAAAAAAAAAAAAAAAAAAAAAAAAAAAAAAAAAAAAAAAAAAAAAAAAAAAAAAAAAAAAAAAAAAAAAAAAAAAAAAAAAAAAAAAAAAAAAAAAAAAAAAAAAAAAAAAAAAAAAAAAAAAAAAAAAAAAAAAAAAAAAAAAAAAAAAAAAAAAAAAAAAAAAAAAAAAAAAAAAAAAAAAAAAAAAAAAAAAAAAAAAAAAAAAAAAAAAAAAAAAAAAAAAAAAAAAAAAAAAAAAAAAAAAAAAAAAAAAAAAAAAAAAAAAAAAAAAAAAAAAAAAAAAAAAAAAAAAAAAAAAAAAAAAAAAAAAAAAAAAAAAAAAAAAAAAAAAAAAAAAAAAAAAAAAAAAAAAAAAAAAAAAAAAAAAAAAAAAAAAAAAAAAAAAAAAAAAAAAAAAAAAAAAAAAAAAAAAAAAAAAAAAAAAAAAAAAAAAAAAAAAAAAAAAAAAAAAAAAAAAAAAAAAAAAAAAAAAAAAAAAAAAAAAAAAAAAAAAAAAAAAAAAAAAAAAAAAAAAAAAAAAAAAAAAAAAAAAAAAAAAAAAAAAAAAAAAAAAAAAAAAAAAAAAAAAAAAAAAAAAAAAAAAAAAAAAAAAAAAAAAAAAAAAAAAAAAAAAAAAAAAAAAAAAAAAAAAAAAAAAAAAAAAAAAAAAAAAAAAAAAAAAAAAAAAAAAAAAAAAAAAAAAAAAAAAAAAAAAAAAAAAAAAAAAAAAAAAAAAAAAAAAAAAAAAAAAAAAAAAAKIenIIAAAAASubvF2dzgCAGvY+fAAAAAAAAAAAAAAAAl1DLluEYqxmdgTChX46qIHQASrQAAAAAAAAAAAAAAAAAAAAAAAAAAAAAAAAAAAAAAAAAAAAAAAAAAAAAAAAAAAAAAAAAAAAAAAAAAAAAAAAAAAAAAAAAAAAAAAAAAAAAAAAAAAAAAAAAAAAAAAAAAAAAAAAAAAAAAAAAAAAAAAAAAAAAAAAAAAAAAAAAAAAAAAAAAAAAAAAAAAAAAAAAAAAAAAAAAAAAAAAAAAAAAAAAAAAAAAAAAAAAAAAAAAAAAAAAAAAAAAAAAAAAAAAAAAAAAAAAAAAAAAAAAAAAAAAAAAAAAAAAAAAAAAAAAAAAAAAAAAAAAAAAAAAAAAAAAAAAAAAAAAAAAAAAAAAAAAAAAAAAAAAAAAAAAAAAAAAAAAAAAAAAAAAAAAAAAAAAAAAAAAAAAAAAAAAAAAAAAAAAAAAAAAAAAAAAAAAAAAAAAAAAAAAAAAAAAAAAAAAAAAAAAAAAAAAAAAAAAAAAAAAAAAAAAAAAAAAAAAAAAAAAAAAAAAAAAAAAAAAAAAAAAAAAAAAAAAAAAAAAAAAAAAAAAAAAAAAAAAAAAAAAAAAAAAAAAAAAAAAAAAAAAAAAAAAAAAAAAAAAAAAAAAAAAAAAAAAAAAAAAAAAAAAAAAAAAAAAAAAAAAAAAAAAAAAAAAAAAAAAAAAAAAAAAAAAAAAAAAAAAAAAAAAAAAAAAAAAAAAAAAAAAAAAAAAAAAAAAAAAAAAAAAAAAAAAAAAAAAAAAAAAAAAAAAAAAAAAAAAAAAAAAAAAAAAAAAAAAAAAAAAAAAAAAAAAAAAAAAAAAAAAAAAAAAAAAAAAAAAAAAAAAAAAAAAAAAAAAAAAAAAAAAAAAAAAAAAAAAAAAAAAAAAAAAAAAAAAAAAAAAAAAAAAAAAAAAAAAAAAAAAAAAAAAAAAAAAAAAAAAAAAAAAAAAAAAAAAAAAAAAAAAAAAAAAAAAAAAAAAAAAAAAAAAAAAAAAAAAAAAAAAAAAAAAAAAAAAAAAAAAAAAAAAAAAAAAAAAAAAAAAAAAAAAAAAAAAAAAAAAAAAAAAAAAAAAAAAAAAAAAAAAAAAAAAAAAAAAAAAAAAAAAAAAAAAAAAAAAAAAAAAAAAAAAAAAAAAAAAAAAAAAAAAAAAAAAAAAAAAAAAAAAAAAAAAAAAAAAAAAAAAAAAAAAAAAAAAAAAAAAAAAAAAAAAAAAAAAAAAAAAAAAAAAAAAAAAAAAAAAAAAAAAAAAAAAAAAAAAAAAAAAAAAAAAAAAAAAAAAAAAAAAAAAAAAAAAAAAAAAAAAAAAAAAAAAAAAAAAAAAAAAAAAAAAAAAAAAAAAAAAAAAAAAAAAAAAAAAAAAAAAAAAAAAAAAAAAAAAAAAAAAAAAAAAAAAAAAAAAAAAAAAAAAAAAAAAAAAAAAAAAAAAAAAAAAAAAAAAAAAAAAAAAAAAAAAAAAAAAAAAAAAAAAAAAAAAAAAAAAAAAAAAAAAAAAAAAAAAAAAAAAAAAAAAAAAAAAAAAAAAAAAAAAAAAAAAAAAAAAAAAAAAAAAAAAAAAAAAAAAAAAAAAAAAAAAAAAAAAAAAAAAAAAAAAAAAAAAAAAAAAAAAAAAAAAAAAAAAAAAAAAAAAAAAAAAAAAAAAAAAAAAAAAAAAAAAAAAAAAAAAAAAAAAAAAAAAAAAAAAAAAAAAAAAAAAAAAAAAAAA=",
          "dtype": "f4",
          "shape": "26, 3250"
         },
         "zmax": 27.92464,
         "zmin": -27.92464
        }
       ],
       "layout": {
        "height": 300,
        "margin": {
         "b": 40,
         "l": 40,
         "r": 40,
         "t": 80
        },
        "template": {
         "data": {
          "bar": [
           {
            "error_x": {
             "color": "#2a3f5f"
            },
            "error_y": {
             "color": "#2a3f5f"
            },
            "marker": {
             "line": {
              "color": "#E5ECF6",
              "width": 0.5
             },
             "pattern": {
              "fillmode": "overlay",
              "size": 10,
              "solidity": 0.2
             }
            },
            "type": "bar"
           }
          ],
          "barpolar": [
           {
            "marker": {
             "line": {
              "color": "#E5ECF6",
              "width": 0.5
             },
             "pattern": {
              "fillmode": "overlay",
              "size": 10,
              "solidity": 0.2
             }
            },
            "type": "barpolar"
           }
          ],
          "carpet": [
           {
            "aaxis": {
             "endlinecolor": "#2a3f5f",
             "gridcolor": "white",
             "linecolor": "white",
             "minorgridcolor": "white",
             "startlinecolor": "#2a3f5f"
            },
            "baxis": {
             "endlinecolor": "#2a3f5f",
             "gridcolor": "white",
             "linecolor": "white",
             "minorgridcolor": "white",
             "startlinecolor": "#2a3f5f"
            },
            "type": "carpet"
           }
          ],
          "choropleth": [
           {
            "colorbar": {
             "outlinewidth": 0,
             "ticks": ""
            },
            "type": "choropleth"
           }
          ],
          "contour": [
           {
            "colorbar": {
             "outlinewidth": 0,
             "ticks": ""
            },
            "colorscale": [
             [
              0,
              "#0d0887"
             ],
             [
              0.1111111111111111,
              "#46039f"
             ],
             [
              0.2222222222222222,
              "#7201a8"
             ],
             [
              0.3333333333333333,
              "#9c179e"
             ],
             [
              0.4444444444444444,
              "#bd3786"
             ],
             [
              0.5555555555555556,
              "#d8576b"
             ],
             [
              0.6666666666666666,
              "#ed7953"
             ],
             [
              0.7777777777777778,
              "#fb9f3a"
             ],
             [
              0.8888888888888888,
              "#fdca26"
             ],
             [
              1,
              "#f0f921"
             ]
            ],
            "type": "contour"
           }
          ],
          "contourcarpet": [
           {
            "colorbar": {
             "outlinewidth": 0,
             "ticks": ""
            },
            "type": "contourcarpet"
           }
          ],
          "heatmap": [
           {
            "colorbar": {
             "outlinewidth": 0,
             "ticks": ""
            },
            "colorscale": [
             [
              0,
              "#0d0887"
             ],
             [
              0.1111111111111111,
              "#46039f"
             ],
             [
              0.2222222222222222,
              "#7201a8"
             ],
             [
              0.3333333333333333,
              "#9c179e"
             ],
             [
              0.4444444444444444,
              "#bd3786"
             ],
             [
              0.5555555555555556,
              "#d8576b"
             ],
             [
              0.6666666666666666,
              "#ed7953"
             ],
             [
              0.7777777777777778,
              "#fb9f3a"
             ],
             [
              0.8888888888888888,
              "#fdca26"
             ],
             [
              1,
              "#f0f921"
             ]
            ],
            "type": "heatmap"
           }
          ],
          "histogram": [
           {
            "marker": {
             "pattern": {
              "fillmode": "overlay",
              "size": 10,
              "solidity": 0.2
             }
            },
            "type": "histogram"
           }
          ],
          "histogram2d": [
           {
            "colorbar": {
             "outlinewidth": 0,
             "ticks": ""
            },
            "colorscale": [
             [
              0,
              "#0d0887"
             ],
             [
              0.1111111111111111,
              "#46039f"
             ],
             [
              0.2222222222222222,
              "#7201a8"
             ],
             [
              0.3333333333333333,
              "#9c179e"
             ],
             [
              0.4444444444444444,
              "#bd3786"
             ],
             [
              0.5555555555555556,
              "#d8576b"
             ],
             [
              0.6666666666666666,
              "#ed7953"
             ],
             [
              0.7777777777777778,
              "#fb9f3a"
             ],
             [
              0.8888888888888888,
              "#fdca26"
             ],
             [
              1,
              "#f0f921"
             ]
            ],
            "type": "histogram2d"
           }
          ],
          "histogram2dcontour": [
           {
            "colorbar": {
             "outlinewidth": 0,
             "ticks": ""
            },
            "colorscale": [
             [
              0,
              "#0d0887"
             ],
             [
              0.1111111111111111,
              "#46039f"
             ],
             [
              0.2222222222222222,
              "#7201a8"
             ],
             [
              0.3333333333333333,
              "#9c179e"
             ],
             [
              0.4444444444444444,
              "#bd3786"
             ],
             [
              0.5555555555555556,
              "#d8576b"
             ],
             [
              0.6666666666666666,
              "#ed7953"
             ],
             [
              0.7777777777777778,
              "#fb9f3a"
             ],
             [
              0.8888888888888888,
              "#fdca26"
             ],
             [
              1,
              "#f0f921"
             ]
            ],
            "type": "histogram2dcontour"
           }
          ],
          "mesh3d": [
           {
            "colorbar": {
             "outlinewidth": 0,
             "ticks": ""
            },
            "type": "mesh3d"
           }
          ],
          "parcoords": [
           {
            "line": {
             "colorbar": {
              "outlinewidth": 0,
              "ticks": ""
             }
            },
            "type": "parcoords"
           }
          ],
          "pie": [
           {
            "automargin": true,
            "type": "pie"
           }
          ],
          "scatter": [
           {
            "fillpattern": {
             "fillmode": "overlay",
             "size": 10,
             "solidity": 0.2
            },
            "type": "scatter"
           }
          ],
          "scatter3d": [
           {
            "line": {
             "colorbar": {
              "outlinewidth": 0,
              "ticks": ""
             }
            },
            "marker": {
             "colorbar": {
              "outlinewidth": 0,
              "ticks": ""
             }
            },
            "type": "scatter3d"
           }
          ],
          "scattercarpet": [
           {
            "marker": {
             "colorbar": {
              "outlinewidth": 0,
              "ticks": ""
             }
            },
            "type": "scattercarpet"
           }
          ],
          "scattergeo": [
           {
            "marker": {
             "colorbar": {
              "outlinewidth": 0,
              "ticks": ""
             }
            },
            "type": "scattergeo"
           }
          ],
          "scattergl": [
           {
            "marker": {
             "colorbar": {
              "outlinewidth": 0,
              "ticks": ""
             }
            },
            "type": "scattergl"
           }
          ],
          "scattermap": [
           {
            "marker": {
             "colorbar": {
              "outlinewidth": 0,
              "ticks": ""
             }
            },
            "type": "scattermap"
           }
          ],
          "scattermapbox": [
           {
            "marker": {
             "colorbar": {
              "outlinewidth": 0,
              "ticks": ""
             }
            },
            "type": "scattermapbox"
           }
          ],
          "scatterpolar": [
           {
            "marker": {
             "colorbar": {
              "outlinewidth": 0,
              "ticks": ""
             }
            },
            "type": "scatterpolar"
           }
          ],
          "scatterpolargl": [
           {
            "marker": {
             "colorbar": {
              "outlinewidth": 0,
              "ticks": ""
             }
            },
            "type": "scatterpolargl"
           }
          ],
          "scatterternary": [
           {
            "marker": {
             "colorbar": {
              "outlinewidth": 0,
              "ticks": ""
             }
            },
            "type": "scatterternary"
           }
          ],
          "surface": [
           {
            "colorbar": {
             "outlinewidth": 0,
             "ticks": ""
            },
            "colorscale": [
             [
              0,
              "#0d0887"
             ],
             [
              0.1111111111111111,
              "#46039f"
             ],
             [
              0.2222222222222222,
              "#7201a8"
             ],
             [
              0.3333333333333333,
              "#9c179e"
             ],
             [
              0.4444444444444444,
              "#bd3786"
             ],
             [
              0.5555555555555556,
              "#d8576b"
             ],
             [
              0.6666666666666666,
              "#ed7953"
             ],
             [
              0.7777777777777778,
              "#fb9f3a"
             ],
             [
              0.8888888888888888,
              "#fdca26"
             ],
             [
              1,
              "#f0f921"
             ]
            ],
            "type": "surface"
           }
          ],
          "table": [
           {
            "cells": {
             "fill": {
              "color": "#EBF0F8"
             },
             "line": {
              "color": "white"
             }
            },
            "header": {
             "fill": {
              "color": "#C8D4E3"
             },
             "line": {
              "color": "white"
             }
            },
            "type": "table"
           }
          ]
         },
         "layout": {
          "annotationdefaults": {
           "arrowcolor": "#2a3f5f",
           "arrowhead": 0,
           "arrowwidth": 1
          },
          "autotypenumbers": "strict",
          "coloraxis": {
           "colorbar": {
            "outlinewidth": 0,
            "ticks": ""
           }
          },
          "colorscale": {
           "diverging": [
            [
             0,
             "#8e0152"
            ],
            [
             0.1,
             "#c51b7d"
            ],
            [
             0.2,
             "#de77ae"
            ],
            [
             0.3,
             "#f1b6da"
            ],
            [
             0.4,
             "#fde0ef"
            ],
            [
             0.5,
             "#f7f7f7"
            ],
            [
             0.6,
             "#e6f5d0"
            ],
            [
             0.7,
             "#b8e186"
            ],
            [
             0.8,
             "#7fbc41"
            ],
            [
             0.9,
             "#4d9221"
            ],
            [
             1,
             "#276419"
            ]
           ],
           "sequential": [
            [
             0,
             "#0d0887"
            ],
            [
             0.1111111111111111,
             "#46039f"
            ],
            [
             0.2222222222222222,
             "#7201a8"
            ],
            [
             0.3333333333333333,
             "#9c179e"
            ],
            [
             0.4444444444444444,
             "#bd3786"
            ],
            [
             0.5555555555555556,
             "#d8576b"
            ],
            [
             0.6666666666666666,
             "#ed7953"
            ],
            [
             0.7777777777777778,
             "#fb9f3a"
            ],
            [
             0.8888888888888888,
             "#fdca26"
            ],
            [
             1,
             "#f0f921"
            ]
           ],
           "sequentialminus": [
            [
             0,
             "#0d0887"
            ],
            [
             0.1111111111111111,
             "#46039f"
            ],
            [
             0.2222222222222222,
             "#7201a8"
            ],
            [
             0.3333333333333333,
             "#9c179e"
            ],
            [
             0.4444444444444444,
             "#bd3786"
            ],
            [
             0.5555555555555556,
             "#d8576b"
            ],
            [
             0.6666666666666666,
             "#ed7953"
            ],
            [
             0.7777777777777778,
             "#fb9f3a"
            ],
            [
             0.8888888888888888,
             "#fdca26"
            ],
            [
             1,
             "#f0f921"
            ]
           ]
          },
          "colorway": [
           "#636efa",
           "#EF553B",
           "#00cc96",
           "#ab63fa",
           "#FFA15A",
           "#19d3f3",
           "#FF6692",
           "#B6E880",
           "#FF97FF",
           "#FECB52"
          ],
          "font": {
           "color": "#2a3f5f"
          },
          "geo": {
           "bgcolor": "white",
           "lakecolor": "white",
           "landcolor": "#E5ECF6",
           "showlakes": true,
           "showland": true,
           "subunitcolor": "white"
          },
          "hoverlabel": {
           "align": "left"
          },
          "hovermode": "closest",
          "mapbox": {
           "style": "light"
          },
          "paper_bgcolor": "white",
          "plot_bgcolor": "#E5ECF6",
          "polar": {
           "angularaxis": {
            "gridcolor": "white",
            "linecolor": "white",
            "ticks": ""
           },
           "bgcolor": "#E5ECF6",
           "radialaxis": {
            "gridcolor": "white",
            "linecolor": "white",
            "ticks": ""
           }
          },
          "scene": {
           "xaxis": {
            "backgroundcolor": "#E5ECF6",
            "gridcolor": "white",
            "gridwidth": 2,
            "linecolor": "white",
            "showbackground": true,
            "ticks": "",
            "zerolinecolor": "white"
           },
           "yaxis": {
            "backgroundcolor": "#E5ECF6",
            "gridcolor": "white",
            "gridwidth": 2,
            "linecolor": "white",
            "showbackground": true,
            "ticks": "",
            "zerolinecolor": "white"
           },
           "zaxis": {
            "backgroundcolor": "#E5ECF6",
            "gridcolor": "white",
            "gridwidth": 2,
            "linecolor": "white",
            "showbackground": true,
            "ticks": "",
            "zerolinecolor": "white"
           }
          },
          "shapedefaults": {
           "line": {
            "color": "#2a3f5f"
           }
          },
          "ternary": {
           "aaxis": {
            "gridcolor": "white",
            "linecolor": "white",
            "ticks": ""
           },
           "baxis": {
            "gridcolor": "white",
            "linecolor": "white",
            "ticks": ""
           },
           "bgcolor": "#E5ECF6",
           "caxis": {
            "gridcolor": "white",
            "linecolor": "white",
            "ticks": ""
           }
          },
          "title": {
           "x": 0.05
          },
          "xaxis": {
           "automargin": true,
           "gridcolor": "white",
           "linecolor": "white",
           "ticks": "",
           "title": {
            "standoff": 15
           },
           "zerolinecolor": "white",
           "zerolinewidth": 2
          },
          "yaxis": {
           "automargin": true,
           "gridcolor": "white",
           "linecolor": "white",
           "ticks": "",
           "title": {
            "standoff": 15
           },
           "zerolinecolor": "white",
           "zerolinewidth": 2
          }
         }
        },
        "title": {
         "text": "True matrix",
         "x": 0.5
        },
        "width": 900,
        "xaxis": {
         "showticklabels": false,
         "side": "top"
        },
        "yaxis": {
         "autorange": "reversed",
         "showticklabels": false
        }
       }
      }
     },
     "metadata": {},
     "output_type": "display_data"
    }
   ],
   "source": [
    "import numpy as np\n",
    "from pathlib import Path\n",
    "import plotly.graph_objects as go\n",
    "\n",
    "def plot_true_matrix(\n",
    "    true_matrix,\n",
    "    matrix_label=None,\n",
    "    figure_title=None,\n",
    "    filepath=None,\n",
    "    zmin=None,\n",
    "    zmax=None\n",
    "):\n",
    "    \"\"\"\n",
    "    Plot only the “True” matrix as a single heatmap.\n",
    "\n",
    "    Parameters\n",
    "    ----------\n",
    "    true_matrix : 2D array-like\n",
    "        The ground‐truth matrix to display.\n",
    "    matrix_label : str, optional\n",
    "        Label to append to the subplot title.\n",
    "    figure_title : str, optional\n",
    "        Overall figure title.\n",
    "    filepath : str or Path, optional\n",
    "        If given, write out to .html or .png; otherwise show().\n",
    "    zmin, zmax : float, optional\n",
    "        Override the colorbar limits. If None, computed from true_matrix.\n",
    "    \"\"\"\n",
    "    # Determine color limits\n",
    "    if zmin is None or zmax is None:\n",
    "        vmin, vmax = np.nanmin(true_matrix), np.nanmax(true_matrix)\n",
    "        lim = max(abs(vmin), abs(vmax))\n",
    "        zmin = -lim if zmin is None else zmin\n",
    "        zmax =  lim if zmax is None else zmax\n",
    "\n",
    "    # Subplot title\n",
    "    subtitle = (f\"True {matrix_label}\" if matrix_label else \"True matrix\")\n",
    "\n",
    "    # Build heatmap trace\n",
    "    heatmap = go.Heatmap(\n",
    "        z=true_matrix,\n",
    "        colorscale=\"RdBu\",\n",
    "        zmin=zmin,\n",
    "        zmax=zmax,\n",
    "        colorbar=dict(title=\"Value\", len=0.8, y=0.5)\n",
    "    )\n",
    "\n",
    "    # Create figure\n",
    "    fig = go.Figure(heatmap)\n",
    "    fig.update_layout(\n",
    "        width=900,\n",
    "        height=300,\n",
    "        title_text=figure_title or subtitle,\n",
    "        title_x=0.5,\n",
    "        margin=dict(t=80, b=40, l=40, r=40),\n",
    "        xaxis=dict(side=\"top\", showticklabels=False),\n",
    "        yaxis=dict(autorange=\"reversed\", showticklabels=False)\n",
    "    )\n",
    "\n",
    "    # Output\n",
    "    if filepath:\n",
    "        filepath = Path(filepath)\n",
    "        if filepath.suffix.lower() == \".html\":\n",
    "            fig.write_html(str(filepath), include_plotlyjs=\"cdn\")\n",
    "        elif filepath.suffix.lower() == \".png\":\n",
    "            fig.write_image(str(filepath), width=900, height=900)\n",
    "        else:\n",
    "            raise ValueError(f\"Unsupported extension {filepath.suffix}\")\n",
    "    else:\n",
    "        fig.show()\n",
    "\n",
    "    return fig\n",
    "\n",
    "plot_true_matrix(matrix.todense())\n",
    "None"
   ]
  },
  {
   "cell_type": "markdown",
   "id": "b4f559a6",
   "metadata": {},
   "source": [
    "# Separate onsites and hopps"
   ]
  },
  {
   "cell_type": "code",
   "execution_count": 34,
   "id": "98a0ee0d",
   "metadata": {},
   "outputs": [],
   "source": [
    "\n",
    "import numpy as np\n",
    "from pathlib import Path\n",
    "import plotly.graph_objects as go\n",
    "\n",
    "def plot_alldataset_struct_vs_scalar_onsites_hoppings(\n",
    "    title, title_x,\n",
    "    values_train_onsite, values_train_hop, labels_train, n_train_samples,\n",
    "    values_val_onsite=None, values_val_hop=None, labels_val=None, n_val_samples=None,\n",
    "    filepath=None\n",
    "):\n",
    "    # 1) Build a master list of unique labels in the order you want them\n",
    "    all_labels = list(dict.fromkeys(\n",
    "        labels_train + (labels_val if n_val_samples else [])\n",
    "    ))\n",
    "\n",
    "    # 2) Map each label to its integer position\n",
    "    idx_map = {lab: i for i, lab in enumerate(all_labels)}\n",
    "\n",
    "    # 3) Convert your y-arrays to numeric\n",
    "    y_train = [idx_map[l] for l in labels_train]\n",
    "    y_val   = [idx_map[l] for l in (labels_val if n_val_samples else [])]\n",
    "\n",
    "    # 4) Build your traces using numeric y\n",
    "    traces = [\n",
    "        go.Scatter(\n",
    "            x=values_train_onsite, y=y_train,\n",
    "            mode='markers',\n",
    "            marker=dict(symbol='0', size=6, color='blue'),\n",
    "            name='Training onsites',\n",
    "            showlegend=True\n",
    "        ),\n",
    "\n",
    "        go.Scatter(\n",
    "            x=values_train_hop, y=y_train,\n",
    "            mode='markers',\n",
    "            marker=dict(symbol='x', size=6, color='blue'),\n",
    "            name='Training hoppings',\n",
    "            showlegend=True\n",
    "        ),\n",
    "    ]\n",
    "\n",
    "    # # Dummy trace to show x axis on top\n",
    "    # traces.append(go.Scatter(\n",
    "    #     x=[min(values_train_onsite), max(values_train_onsite)],\n",
    "    #     y=[-1, -1],  # Place out of view\n",
    "    #     xaxis='x2',\n",
    "    #     mode='markers',\n",
    "    #     marker=dict(opacity=0),\n",
    "    #     visible=True,\n",
    "    #     showlegend=False\n",
    "    # ))\n",
    "\n",
    "    if n_val_samples:\n",
    "        traces.append(\n",
    "            go.Scatter(\n",
    "                x=values_val_onsite, y=y_val,\n",
    "                mode='markers',\n",
    "                marker=dict(symbol='0', size=6, color='red'),\n",
    "                name='Validation onsites',\n",
    "                showlegend=True\n",
    "            )\n",
    "        )\n",
    "\n",
    "        traces.append(\n",
    "            go.Scatter(\n",
    "                x=values_val_hop, y=y_val,\n",
    "                mode='markers',\n",
    "                marker=dict(symbol='x', size=6, color='red'),\n",
    "                name='Validation hoppings',\n",
    "                showlegend=True\n",
    "            )\n",
    "        )\n",
    "\n",
    "    fig = go.Figure(data=traces)\n",
    "\n",
    "    # 5) Set the axis so categories sit exactly at integer ticks from 0…N-1\n",
    "    fig.update_layout(\n",
    "        width=800,\n",
    "        height=(n_train_samples + (n_val_samples or 0)) * 15 + 100,\n",
    "        title={\n",
    "            'text': title,\n",
    "            'y':1,\n",
    "            'x':0.01,\n",
    "            'xanchor': 'left',\n",
    "            'yanchor': 'top',\n",
    "            \"pad\": dict(t=10),\n",
    "        },\n",
    "        yaxis=dict(\n",
    "            tickmode='array',\n",
    "            tickvals=list(range(len(all_labels))),\n",
    "            ticktext=all_labels,\n",
    "            range=[-0.5, len(all_labels) - 0.5],\n",
    "            autorange=False\n",
    "        ),\n",
    "        xaxis=dict(\n",
    "            title=title_x,\n",
    "            title_standoff=0,\n",
    "            side=\"bottom\",\n",
    "            showline=True,\n",
    "            exponentformat='power',   # use 'e' for scientific, 'E' for capital E, or 'power' for 10^x\n",
    "            showexponent='all',  \n",
    "            mirror=\"all\"\n",
    "        ),\n",
    "        # xaxis2=dict(\n",
    "        #     title=title_x,\n",
    "        #     title_standoff=0,\n",
    "        #     overlaying=\"x\",   # share the same data range as xaxis\n",
    "        #     side=\"top\",       # draw it at the top\n",
    "        #     showline=True,\n",
    "        #     exponentformat='power',   # use 'e' for scientific, 'E' for capital E, or 'power' for 10^x\n",
    "        #     showexponent='all',   \n",
    "        # ),\n",
    "        margin=dict(l=40, r=20, t=65, b=45)\n",
    "    )\n",
    "\n",
    "    # 6) Save or show\n",
    "    if filepath:\n",
    "        f = open(filepath, \"w\")\n",
    "        f.close()\n",
    "        with open(filepath, 'a') as f:\n",
    "            f.write(fig.to_html(full_html=False, include_plotlyjs='cdn'))\n",
    "        f.close()\n",
    "        \n",
    "        # with open(f\"{str(filepath)[:-4]}.json\", \"w\") as f:\n",
    "        #     f.write(fig.to_json())\n",
    "\n",
    "    else:\n",
    "        fig.show()\n",
    "\n",
    "    return fig"
   ]
  },
  {
   "cell_type": "code",
   "execution_count": 35,
   "id": "e9e3acdf",
   "metadata": {},
   "outputs": [
    {
     "data": {
      "application/vnd.plotly.v1+json": {
       "config": {
        "plotlyServerURL": "https://plot.ly"
       },
       "data": [
        {
         "marker": {
          "color": "blue",
          "size": 6,
          "symbol": "0"
         },
         "mode": "markers",
         "name": "Training onsites",
         "showlegend": true,
         "type": "scatter",
         "x": {
          "bdata": "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",
          "dtype": "f4"
         },
         "y": [
          0
         ]
        },
        {
         "marker": {
          "color": "blue",
          "size": 6,
          "symbol": "x"
         },
         "mode": "markers",
         "name": "Training hoppings",
         "showlegend": true,
         "type": "scatter",
         "x": {
          "bdata": "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",
          "dtype": "f4"
         },
         "y": [
          0
         ]
        }
       ],
       "layout": {
        "height": 115,
        "margin": {
         "b": 45,
         "l": 40,
         "r": 20,
         "t": 65
        },
        "template": {
         "data": {
          "bar": [
           {
            "error_x": {
             "color": "#2a3f5f"
            },
            "error_y": {
             "color": "#2a3f5f"
            },
            "marker": {
             "line": {
              "color": "#E5ECF6",
              "width": 0.5
             },
             "pattern": {
              "fillmode": "overlay",
              "size": 10,
              "solidity": 0.2
             }
            },
            "type": "bar"
           }
          ],
          "barpolar": [
           {
            "marker": {
             "line": {
              "color": "#E5ECF6",
              "width": 0.5
             },
             "pattern": {
              "fillmode": "overlay",
              "size": 10,
              "solidity": 0.2
             }
            },
            "type": "barpolar"
           }
          ],
          "carpet": [
           {
            "aaxis": {
             "endlinecolor": "#2a3f5f",
             "gridcolor": "white",
             "linecolor": "white",
             "minorgridcolor": "white",
             "startlinecolor": "#2a3f5f"
            },
            "baxis": {
             "endlinecolor": "#2a3f5f",
             "gridcolor": "white",
             "linecolor": "white",
             "minorgridcolor": "white",
             "startlinecolor": "#2a3f5f"
            },
            "type": "carpet"
           }
          ],
          "choropleth": [
           {
            "colorbar": {
             "outlinewidth": 0,
             "ticks": ""
            },
            "type": "choropleth"
           }
          ],
          "contour": [
           {
            "colorbar": {
             "outlinewidth": 0,
             "ticks": ""
            },
            "colorscale": [
             [
              0,
              "#0d0887"
             ],
             [
              0.1111111111111111,
              "#46039f"
             ],
             [
              0.2222222222222222,
              "#7201a8"
             ],
             [
              0.3333333333333333,
              "#9c179e"
             ],
             [
              0.4444444444444444,
              "#bd3786"
             ],
             [
              0.5555555555555556,
              "#d8576b"
             ],
             [
              0.6666666666666666,
              "#ed7953"
             ],
             [
              0.7777777777777778,
              "#fb9f3a"
             ],
             [
              0.8888888888888888,
              "#fdca26"
             ],
             [
              1,
              "#f0f921"
             ]
            ],
            "type": "contour"
           }
          ],
          "contourcarpet": [
           {
            "colorbar": {
             "outlinewidth": 0,
             "ticks": ""
            },
            "type": "contourcarpet"
           }
          ],
          "heatmap": [
           {
            "colorbar": {
             "outlinewidth": 0,
             "ticks": ""
            },
            "colorscale": [
             [
              0,
              "#0d0887"
             ],
             [
              0.1111111111111111,
              "#46039f"
             ],
             [
              0.2222222222222222,
              "#7201a8"
             ],
             [
              0.3333333333333333,
              "#9c179e"
             ],
             [
              0.4444444444444444,
              "#bd3786"
             ],
             [
              0.5555555555555556,
              "#d8576b"
             ],
             [
              0.6666666666666666,
              "#ed7953"
             ],
             [
              0.7777777777777778,
              "#fb9f3a"
             ],
             [
              0.8888888888888888,
              "#fdca26"
             ],
             [
              1,
              "#f0f921"
             ]
            ],
            "type": "heatmap"
           }
          ],
          "histogram": [
           {
            "marker": {
             "pattern": {
              "fillmode": "overlay",
              "size": 10,
              "solidity": 0.2
             }
            },
            "type": "histogram"
           }
          ],
          "histogram2d": [
           {
            "colorbar": {
             "outlinewidth": 0,
             "ticks": ""
            },
            "colorscale": [
             [
              0,
              "#0d0887"
             ],
             [
              0.1111111111111111,
              "#46039f"
             ],
             [
              0.2222222222222222,
              "#7201a8"
             ],
             [
              0.3333333333333333,
              "#9c179e"
             ],
             [
              0.4444444444444444,
              "#bd3786"
             ],
             [
              0.5555555555555556,
              "#d8576b"
             ],
             [
              0.6666666666666666,
              "#ed7953"
             ],
             [
              0.7777777777777778,
              "#fb9f3a"
             ],
             [
              0.8888888888888888,
              "#fdca26"
             ],
             [
              1,
              "#f0f921"
             ]
            ],
            "type": "histogram2d"
           }
          ],
          "histogram2dcontour": [
           {
            "colorbar": {
             "outlinewidth": 0,
             "ticks": ""
            },
            "colorscale": [
             [
              0,
              "#0d0887"
             ],
             [
              0.1111111111111111,
              "#46039f"
             ],
             [
              0.2222222222222222,
              "#7201a8"
             ],
             [
              0.3333333333333333,
              "#9c179e"
             ],
             [
              0.4444444444444444,
              "#bd3786"
             ],
             [
              0.5555555555555556,
              "#d8576b"
             ],
             [
              0.6666666666666666,
              "#ed7953"
             ],
             [
              0.7777777777777778,
              "#fb9f3a"
             ],
             [
              0.8888888888888888,
              "#fdca26"
             ],
             [
              1,
              "#f0f921"
             ]
            ],
            "type": "histogram2dcontour"
           }
          ],
          "mesh3d": [
           {
            "colorbar": {
             "outlinewidth": 0,
             "ticks": ""
            },
            "type": "mesh3d"
           }
          ],
          "parcoords": [
           {
            "line": {
             "colorbar": {
              "outlinewidth": 0,
              "ticks": ""
             }
            },
            "type": "parcoords"
           }
          ],
          "pie": [
           {
            "automargin": true,
            "type": "pie"
           }
          ],
          "scatter": [
           {
            "fillpattern": {
             "fillmode": "overlay",
             "size": 10,
             "solidity": 0.2
            },
            "type": "scatter"
           }
          ],
          "scatter3d": [
           {
            "line": {
             "colorbar": {
              "outlinewidth": 0,
              "ticks": ""
             }
            },
            "marker": {
             "colorbar": {
              "outlinewidth": 0,
              "ticks": ""
             }
            },
            "type": "scatter3d"
           }
          ],
          "scattercarpet": [
           {
            "marker": {
             "colorbar": {
              "outlinewidth": 0,
              "ticks": ""
             }
            },
            "type": "scattercarpet"
           }
          ],
          "scattergeo": [
           {
            "marker": {
             "colorbar": {
              "outlinewidth": 0,
              "ticks": ""
             }
            },
            "type": "scattergeo"
           }
          ],
          "scattergl": [
           {
            "marker": {
             "colorbar": {
              "outlinewidth": 0,
              "ticks": ""
             }
            },
            "type": "scattergl"
           }
          ],
          "scattermap": [
           {
            "marker": {
             "colorbar": {
              "outlinewidth": 0,
              "ticks": ""
             }
            },
            "type": "scattermap"
           }
          ],
          "scattermapbox": [
           {
            "marker": {
             "colorbar": {
              "outlinewidth": 0,
              "ticks": ""
             }
            },
            "type": "scattermapbox"
           }
          ],
          "scatterpolar": [
           {
            "marker": {
             "colorbar": {
              "outlinewidth": 0,
              "ticks": ""
             }
            },
            "type": "scatterpolar"
           }
          ],
          "scatterpolargl": [
           {
            "marker": {
             "colorbar": {
              "outlinewidth": 0,
              "ticks": ""
             }
            },
            "type": "scatterpolargl"
           }
          ],
          "scatterternary": [
           {
            "marker": {
             "colorbar": {
              "outlinewidth": 0,
              "ticks": ""
             }
            },
            "type": "scatterternary"
           }
          ],
          "surface": [
           {
            "colorbar": {
             "outlinewidth": 0,
             "ticks": ""
            },
            "colorscale": [
             [
              0,
              "#0d0887"
             ],
             [
              0.1111111111111111,
              "#46039f"
             ],
             [
              0.2222222222222222,
              "#7201a8"
             ],
             [
              0.3333333333333333,
              "#9c179e"
             ],
             [
              0.4444444444444444,
              "#bd3786"
             ],
             [
              0.5555555555555556,
              "#d8576b"
             ],
             [
              0.6666666666666666,
              "#ed7953"
             ],
             [
              0.7777777777777778,
              "#fb9f3a"
             ],
             [
              0.8888888888888888,
              "#fdca26"
             ],
             [
              1,
              "#f0f921"
             ]
            ],
            "type": "surface"
           }
          ],
          "table": [
           {
            "cells": {
             "fill": {
              "color": "#EBF0F8"
             },
             "line": {
              "color": "white"
             }
            },
            "header": {
             "fill": {
              "color": "#C8D4E3"
             },
             "line": {
              "color": "white"
             }
            },
            "type": "table"
           }
          ]
         },
         "layout": {
          "annotationdefaults": {
           "arrowcolor": "#2a3f5f",
           "arrowhead": 0,
           "arrowwidth": 1
          },
          "autotypenumbers": "strict",
          "coloraxis": {
           "colorbar": {
            "outlinewidth": 0,
            "ticks": ""
           }
          },
          "colorscale": {
           "diverging": [
            [
             0,
             "#8e0152"
            ],
            [
             0.1,
             "#c51b7d"
            ],
            [
             0.2,
             "#de77ae"
            ],
            [
             0.3,
             "#f1b6da"
            ],
            [
             0.4,
             "#fde0ef"
            ],
            [
             0.5,
             "#f7f7f7"
            ],
            [
             0.6,
             "#e6f5d0"
            ],
            [
             0.7,
             "#b8e186"
            ],
            [
             0.8,
             "#7fbc41"
            ],
            [
             0.9,
             "#4d9221"
            ],
            [
             1,
             "#276419"
            ]
           ],
           "sequential": [
            [
             0,
             "#0d0887"
            ],
            [
             0.1111111111111111,
             "#46039f"
            ],
            [
             0.2222222222222222,
             "#7201a8"
            ],
            [
             0.3333333333333333,
             "#9c179e"
            ],
            [
             0.4444444444444444,
             "#bd3786"
            ],
            [
             0.5555555555555556,
             "#d8576b"
            ],
            [
             0.6666666666666666,
             "#ed7953"
            ],
            [
             0.7777777777777778,
             "#fb9f3a"
            ],
            [
             0.8888888888888888,
             "#fdca26"
            ],
            [
             1,
             "#f0f921"
            ]
           ],
           "sequentialminus": [
            [
             0,
             "#0d0887"
            ],
            [
             0.1111111111111111,
             "#46039f"
            ],
            [
             0.2222222222222222,
             "#7201a8"
            ],
            [
             0.3333333333333333,
             "#9c179e"
            ],
            [
             0.4444444444444444,
             "#bd3786"
            ],
            [
             0.5555555555555556,
             "#d8576b"
            ],
            [
             0.6666666666666666,
             "#ed7953"
            ],
            [
             0.7777777777777778,
             "#fb9f3a"
            ],
            [
             0.8888888888888888,
             "#fdca26"
            ],
            [
             1,
             "#f0f921"
            ]
           ]
          },
          "colorway": [
           "#636efa",
           "#EF553B",
           "#00cc96",
           "#ab63fa",
           "#FFA15A",
           "#19d3f3",
           "#FF6692",
           "#B6E880",
           "#FF97FF",
           "#FECB52"
          ],
          "font": {
           "color": "#2a3f5f"
          },
          "geo": {
           "bgcolor": "white",
           "lakecolor": "white",
           "landcolor": "#E5ECF6",
           "showlakes": true,
           "showland": true,
           "subunitcolor": "white"
          },
          "hoverlabel": {
           "align": "left"
          },
          "hovermode": "closest",
          "mapbox": {
           "style": "light"
          },
          "paper_bgcolor": "white",
          "plot_bgcolor": "#E5ECF6",
          "polar": {
           "angularaxis": {
            "gridcolor": "white",
            "linecolor": "white",
            "ticks": ""
           },
           "bgcolor": "#E5ECF6",
           "radialaxis": {
            "gridcolor": "white",
            "linecolor": "white",
            "ticks": ""
           }
          },
          "scene": {
           "xaxis": {
            "backgroundcolor": "#E5ECF6",
            "gridcolor": "white",
            "gridwidth": 2,
            "linecolor": "white",
            "showbackground": true,
            "ticks": "",
            "zerolinecolor": "white"
           },
           "yaxis": {
            "backgroundcolor": "#E5ECF6",
            "gridcolor": "white",
            "gridwidth": 2,
            "linecolor": "white",
            "showbackground": true,
            "ticks": "",
            "zerolinecolor": "white"
           },
           "zaxis": {
            "backgroundcolor": "#E5ECF6",
            "gridcolor": "white",
            "gridwidth": 2,
            "linecolor": "white",
            "showbackground": true,
            "ticks": "",
            "zerolinecolor": "white"
           }
          },
          "shapedefaults": {
           "line": {
            "color": "#2a3f5f"
           }
          },
          "ternary": {
           "aaxis": {
            "gridcolor": "white",
            "linecolor": "white",
            "ticks": ""
           },
           "baxis": {
            "gridcolor": "white",
            "linecolor": "white",
            "ticks": ""
           },
           "bgcolor": "#E5ECF6",
           "caxis": {
            "gridcolor": "white",
            "linecolor": "white",
            "ticks": ""
           }
          },
          "title": {
           "x": 0.05
          },
          "xaxis": {
           "automargin": true,
           "gridcolor": "white",
           "linecolor": "white",
           "ticks": "",
           "title": {
            "standoff": 15
           },
           "zerolinecolor": "white",
           "zerolinewidth": 2
          },
          "yaxis": {
           "automargin": true,
           "gridcolor": "white",
           "linecolor": "white",
           "ticks": "",
           "title": {
            "standoff": 15
           },
           "zerolinecolor": "white",
           "zerolinewidth": 2
          }
         }
        },
        "title": {
         "pad": {
          "t": 10
         },
         "text": "Onsite Mean(Abs(T-P)). Used model",
         "x": 0.01,
         "xanchor": "left",
         "y": 1,
         "yanchor": "top"
        },
        "width": 800,
        "xaxis": {
         "exponentformat": "power",
         "mirror": "all",
         "showexponent": "all",
         "showline": true,
         "side": "bottom",
         "title": {
          "standoff": 0,
          "text": "Mean(Abs(T-P)) (eV)"
         }
        },
        "yaxis": {
         "autorange": false,
         "range": [
          -0.5,
          0.5
         ],
         "tickmode": "array",
         "ticktext": [
          "dataset/SHARE_OUTPUTS_2_ATOMS/0a4c-6759-46e6-bf5e-6439eefcaad2"
         ],
         "tickvals": [
          0
         ]
        }
       }
      }
     },
     "metadata": {},
     "output_type": "display_data"
    }
   ],
   "source": [
    "data = load(\"../scripts/coo_matrix_2atm.joblib\")\n",
    "matrix = data['coo_matrix']\n",
    "path = data[\"path\"][0]\n",
    "\n",
    "# filepath= savedir / \"alldataset_absmean_onsite.html\"\n",
    "title = f\"Onsite Mean(Abs(T-P)). Used model\"\n",
    "title_x=\"Mean(Abs(T-P)) (eV)\"\n",
    "plot_alldataset_struct_vs_scalar_onsites_hoppings(\n",
    "    title, title_x,\n",
    "    values_train_onsite=np.array(matrix.data), values_train_hop=np.array(matrix.data), labels_train=[str(path)], n_train_samples=1,\n",
    "    values_val_onsite=None, values_val_hop=None, labels_val=None, n_val_samples=None,\n",
    "    filepath=None\n",
    ")\n",
    "None"
   ]
  },
  {
   "cell_type": "markdown",
   "id": "9bc85604",
   "metadata": {},
   "source": [
    "All try"
   ]
  },
  {
   "cell_type": "code",
   "execution_count": 36,
   "id": "813b0c63",
   "metadata": {},
   "outputs": [
    {
     "name": "stderr",
     "output_type": "stream",
     "text": [
      "  1%|          | 5/582 [00:04<09:02,  1.06it/s]\n"
     ]
    },
    {
     "data": {
      "application/vnd.plotly.v1+json": {
       "config": {
        "plotlyServerURL": "https://plot.ly"
       },
       "data": [
        {
         "marker": {
          "color": "blue",
          "size": 6,
          "symbol": "0"
         },
         "mode": "markers",
         "name": "Training onsites",
         "showlegend": true,
         "type": "scatter",
         "x": [
          0.13225865364074707,
          0.15485891699790955,
          0.2462804764509201,
          0.20327001810073853,
          0.11113099753856659
         ],
         "y": [
          0,
          1,
          2,
          3,
          4
         ]
        },
        {
         "marker": {
          "color": "blue",
          "size": 6,
          "symbol": "x"
         },
         "mode": "markers",
         "name": "Training hoppings",
         "showlegend": true,
         "type": "scatter",
         "x": [
          0.0033919732086360455,
          0.003783849533647299,
          0.004090422298759222,
          0.003759214887395501,
          0.003459919011220336
         ],
         "y": [
          0,
          1,
          2,
          3,
          4
         ]
        }
       ],
       "layout": {
        "height": 175,
        "margin": {
         "b": 45,
         "l": 40,
         "r": 20,
         "t": 65
        },
        "template": {
         "data": {
          "bar": [
           {
            "error_x": {
             "color": "#2a3f5f"
            },
            "error_y": {
             "color": "#2a3f5f"
            },
            "marker": {
             "line": {
              "color": "#E5ECF6",
              "width": 0.5
             },
             "pattern": {
              "fillmode": "overlay",
              "size": 10,
              "solidity": 0.2
             }
            },
            "type": "bar"
           }
          ],
          "barpolar": [
           {
            "marker": {
             "line": {
              "color": "#E5ECF6",
              "width": 0.5
             },
             "pattern": {
              "fillmode": "overlay",
              "size": 10,
              "solidity": 0.2
             }
            },
            "type": "barpolar"
           }
          ],
          "carpet": [
           {
            "aaxis": {
             "endlinecolor": "#2a3f5f",
             "gridcolor": "white",
             "linecolor": "white",
             "minorgridcolor": "white",
             "startlinecolor": "#2a3f5f"
            },
            "baxis": {
             "endlinecolor": "#2a3f5f",
             "gridcolor": "white",
             "linecolor": "white",
             "minorgridcolor": "white",
             "startlinecolor": "#2a3f5f"
            },
            "type": "carpet"
           }
          ],
          "choropleth": [
           {
            "colorbar": {
             "outlinewidth": 0,
             "ticks": ""
            },
            "type": "choropleth"
           }
          ],
          "contour": [
           {
            "colorbar": {
             "outlinewidth": 0,
             "ticks": ""
            },
            "colorscale": [
             [
              0,
              "#0d0887"
             ],
             [
              0.1111111111111111,
              "#46039f"
             ],
             [
              0.2222222222222222,
              "#7201a8"
             ],
             [
              0.3333333333333333,
              "#9c179e"
             ],
             [
              0.4444444444444444,
              "#bd3786"
             ],
             [
              0.5555555555555556,
              "#d8576b"
             ],
             [
              0.6666666666666666,
              "#ed7953"
             ],
             [
              0.7777777777777778,
              "#fb9f3a"
             ],
             [
              0.8888888888888888,
              "#fdca26"
             ],
             [
              1,
              "#f0f921"
             ]
            ],
            "type": "contour"
           }
          ],
          "contourcarpet": [
           {
            "colorbar": {
             "outlinewidth": 0,
             "ticks": ""
            },
            "type": "contourcarpet"
           }
          ],
          "heatmap": [
           {
            "colorbar": {
             "outlinewidth": 0,
             "ticks": ""
            },
            "colorscale": [
             [
              0,
              "#0d0887"
             ],
             [
              0.1111111111111111,
              "#46039f"
             ],
             [
              0.2222222222222222,
              "#7201a8"
             ],
             [
              0.3333333333333333,
              "#9c179e"
             ],
             [
              0.4444444444444444,
              "#bd3786"
             ],
             [
              0.5555555555555556,
              "#d8576b"
             ],
             [
              0.6666666666666666,
              "#ed7953"
             ],
             [
              0.7777777777777778,
              "#fb9f3a"
             ],
             [
              0.8888888888888888,
              "#fdca26"
             ],
             [
              1,
              "#f0f921"
             ]
            ],
            "type": "heatmap"
           }
          ],
          "histogram": [
           {
            "marker": {
             "pattern": {
              "fillmode": "overlay",
              "size": 10,
              "solidity": 0.2
             }
            },
            "type": "histogram"
           }
          ],
          "histogram2d": [
           {
            "colorbar": {
             "outlinewidth": 0,
             "ticks": ""
            },
            "colorscale": [
             [
              0,
              "#0d0887"
             ],
             [
              0.1111111111111111,
              "#46039f"
             ],
             [
              0.2222222222222222,
              "#7201a8"
             ],
             [
              0.3333333333333333,
              "#9c179e"
             ],
             [
              0.4444444444444444,
              "#bd3786"
             ],
             [
              0.5555555555555556,
              "#d8576b"
             ],
             [
              0.6666666666666666,
              "#ed7953"
             ],
             [
              0.7777777777777778,
              "#fb9f3a"
             ],
             [
              0.8888888888888888,
              "#fdca26"
             ],
             [
              1,
              "#f0f921"
             ]
            ],
            "type": "histogram2d"
           }
          ],
          "histogram2dcontour": [
           {
            "colorbar": {
             "outlinewidth": 0,
             "ticks": ""
            },
            "colorscale": [
             [
              0,
              "#0d0887"
             ],
             [
              0.1111111111111111,
              "#46039f"
             ],
             [
              0.2222222222222222,
              "#7201a8"
             ],
             [
              0.3333333333333333,
              "#9c179e"
             ],
             [
              0.4444444444444444,
              "#bd3786"
             ],
             [
              0.5555555555555556,
              "#d8576b"
             ],
             [
              0.6666666666666666,
              "#ed7953"
             ],
             [
              0.7777777777777778,
              "#fb9f3a"
             ],
             [
              0.8888888888888888,
              "#fdca26"
             ],
             [
              1,
              "#f0f921"
             ]
            ],
            "type": "histogram2dcontour"
           }
          ],
          "mesh3d": [
           {
            "colorbar": {
             "outlinewidth": 0,
             "ticks": ""
            },
            "type": "mesh3d"
           }
          ],
          "parcoords": [
           {
            "line": {
             "colorbar": {
              "outlinewidth": 0,
              "ticks": ""
             }
            },
            "type": "parcoords"
           }
          ],
          "pie": [
           {
            "automargin": true,
            "type": "pie"
           }
          ],
          "scatter": [
           {
            "fillpattern": {
             "fillmode": "overlay",
             "size": 10,
             "solidity": 0.2
            },
            "type": "scatter"
           }
          ],
          "scatter3d": [
           {
            "line": {
             "colorbar": {
              "outlinewidth": 0,
              "ticks": ""
             }
            },
            "marker": {
             "colorbar": {
              "outlinewidth": 0,
              "ticks": ""
             }
            },
            "type": "scatter3d"
           }
          ],
          "scattercarpet": [
           {
            "marker": {
             "colorbar": {
              "outlinewidth": 0,
              "ticks": ""
             }
            },
            "type": "scattercarpet"
           }
          ],
          "scattergeo": [
           {
            "marker": {
             "colorbar": {
              "outlinewidth": 0,
              "ticks": ""
             }
            },
            "type": "scattergeo"
           }
          ],
          "scattergl": [
           {
            "marker": {
             "colorbar": {
              "outlinewidth": 0,
              "ticks": ""
             }
            },
            "type": "scattergl"
           }
          ],
          "scattermap": [
           {
            "marker": {
             "colorbar": {
              "outlinewidth": 0,
              "ticks": ""
             }
            },
            "type": "scattermap"
           }
          ],
          "scattermapbox": [
           {
            "marker": {
             "colorbar": {
              "outlinewidth": 0,
              "ticks": ""
             }
            },
            "type": "scattermapbox"
           }
          ],
          "scatterpolar": [
           {
            "marker": {
             "colorbar": {
              "outlinewidth": 0,
              "ticks": ""
             }
            },
            "type": "scatterpolar"
           }
          ],
          "scatterpolargl": [
           {
            "marker": {
             "colorbar": {
              "outlinewidth": 0,
              "ticks": ""
             }
            },
            "type": "scatterpolargl"
           }
          ],
          "scatterternary": [
           {
            "marker": {
             "colorbar": {
              "outlinewidth": 0,
              "ticks": ""
             }
            },
            "type": "scatterternary"
           }
          ],
          "surface": [
           {
            "colorbar": {
             "outlinewidth": 0,
             "ticks": ""
            },
            "colorscale": [
             [
              0,
              "#0d0887"
             ],
             [
              0.1111111111111111,
              "#46039f"
             ],
             [
              0.2222222222222222,
              "#7201a8"
             ],
             [
              0.3333333333333333,
              "#9c179e"
             ],
             [
              0.4444444444444444,
              "#bd3786"
             ],
             [
              0.5555555555555556,
              "#d8576b"
             ],
             [
              0.6666666666666666,
              "#ed7953"
             ],
             [
              0.7777777777777778,
              "#fb9f3a"
             ],
             [
              0.8888888888888888,
              "#fdca26"
             ],
             [
              1,
              "#f0f921"
             ]
            ],
            "type": "surface"
           }
          ],
          "table": [
           {
            "cells": {
             "fill": {
              "color": "#EBF0F8"
             },
             "line": {
              "color": "white"
             }
            },
            "header": {
             "fill": {
              "color": "#C8D4E3"
             },
             "line": {
              "color": "white"
             }
            },
            "type": "table"
           }
          ]
         },
         "layout": {
          "annotationdefaults": {
           "arrowcolor": "#2a3f5f",
           "arrowhead": 0,
           "arrowwidth": 1
          },
          "autotypenumbers": "strict",
          "coloraxis": {
           "colorbar": {
            "outlinewidth": 0,
            "ticks": ""
           }
          },
          "colorscale": {
           "diverging": [
            [
             0,
             "#8e0152"
            ],
            [
             0.1,
             "#c51b7d"
            ],
            [
             0.2,
             "#de77ae"
            ],
            [
             0.3,
             "#f1b6da"
            ],
            [
             0.4,
             "#fde0ef"
            ],
            [
             0.5,
             "#f7f7f7"
            ],
            [
             0.6,
             "#e6f5d0"
            ],
            [
             0.7,
             "#b8e186"
            ],
            [
             0.8,
             "#7fbc41"
            ],
            [
             0.9,
             "#4d9221"
            ],
            [
             1,
             "#276419"
            ]
           ],
           "sequential": [
            [
             0,
             "#0d0887"
            ],
            [
             0.1111111111111111,
             "#46039f"
            ],
            [
             0.2222222222222222,
             "#7201a8"
            ],
            [
             0.3333333333333333,
             "#9c179e"
            ],
            [
             0.4444444444444444,
             "#bd3786"
            ],
            [
             0.5555555555555556,
             "#d8576b"
            ],
            [
             0.6666666666666666,
             "#ed7953"
            ],
            [
             0.7777777777777778,
             "#fb9f3a"
            ],
            [
             0.8888888888888888,
             "#fdca26"
            ],
            [
             1,
             "#f0f921"
            ]
           ],
           "sequentialminus": [
            [
             0,
             "#0d0887"
            ],
            [
             0.1111111111111111,
             "#46039f"
            ],
            [
             0.2222222222222222,
             "#7201a8"
            ],
            [
             0.3333333333333333,
             "#9c179e"
            ],
            [
             0.4444444444444444,
             "#bd3786"
            ],
            [
             0.5555555555555556,
             "#d8576b"
            ],
            [
             0.6666666666666666,
             "#ed7953"
            ],
            [
             0.7777777777777778,
             "#fb9f3a"
            ],
            [
             0.8888888888888888,
             "#fdca26"
            ],
            [
             1,
             "#f0f921"
            ]
           ]
          },
          "colorway": [
           "#636efa",
           "#EF553B",
           "#00cc96",
           "#ab63fa",
           "#FFA15A",
           "#19d3f3",
           "#FF6692",
           "#B6E880",
           "#FF97FF",
           "#FECB52"
          ],
          "font": {
           "color": "#2a3f5f"
          },
          "geo": {
           "bgcolor": "white",
           "lakecolor": "white",
           "landcolor": "#E5ECF6",
           "showlakes": true,
           "showland": true,
           "subunitcolor": "white"
          },
          "hoverlabel": {
           "align": "left"
          },
          "hovermode": "closest",
          "mapbox": {
           "style": "light"
          },
          "paper_bgcolor": "white",
          "plot_bgcolor": "#E5ECF6",
          "polar": {
           "angularaxis": {
            "gridcolor": "white",
            "linecolor": "white",
            "ticks": ""
           },
           "bgcolor": "#E5ECF6",
           "radialaxis": {
            "gridcolor": "white",
            "linecolor": "white",
            "ticks": ""
           }
          },
          "scene": {
           "xaxis": {
            "backgroundcolor": "#E5ECF6",
            "gridcolor": "white",
            "gridwidth": 2,
            "linecolor": "white",
            "showbackground": true,
            "ticks": "",
            "zerolinecolor": "white"
           },
           "yaxis": {
            "backgroundcolor": "#E5ECF6",
            "gridcolor": "white",
            "gridwidth": 2,
            "linecolor": "white",
            "showbackground": true,
            "ticks": "",
            "zerolinecolor": "white"
           },
           "zaxis": {
            "backgroundcolor": "#E5ECF6",
            "gridcolor": "white",
            "gridwidth": 2,
            "linecolor": "white",
            "showbackground": true,
            "ticks": "",
            "zerolinecolor": "white"
           }
          },
          "shapedefaults": {
           "line": {
            "color": "#2a3f5f"
           }
          },
          "ternary": {
           "aaxis": {
            "gridcolor": "white",
            "linecolor": "white",
            "ticks": ""
           },
           "baxis": {
            "gridcolor": "white",
            "linecolor": "white",
            "ticks": ""
           },
           "bgcolor": "#E5ECF6",
           "caxis": {
            "gridcolor": "white",
            "linecolor": "white",
            "ticks": ""
           }
          },
          "title": {
           "x": 0.05
          },
          "xaxis": {
           "automargin": true,
           "gridcolor": "white",
           "linecolor": "white",
           "ticks": "",
           "title": {
            "standoff": 15
           },
           "zerolinecolor": "white",
           "zerolinewidth": 2
          },
          "yaxis": {
           "automargin": true,
           "gridcolor": "white",
           "linecolor": "white",
           "ticks": "",
           "title": {
            "standoff": 15
           },
           "zerolinecolor": "white",
           "zerolinewidth": 2
          }
         }
        },
        "title": {
         "pad": {
          "t": 10
         },
         "text": "Mean(Abs(T-P)). Used model h_crystalls_1",
         "x": 0.01,
         "xanchor": "left",
         "y": 1,
         "yanchor": "top"
        },
        "width": 800,
        "xaxis": {
         "exponentformat": "power",
         "mirror": "all",
         "showexponent": "all",
         "showline": true,
         "side": "bottom",
         "title": {
          "standoff": 0,
          "text": "Mean(Abs(T-P)) (eV)"
         }
        },
        "yaxis": {
         "autorange": false,
         "range": [
          -0.5,
          4.5
         ],
         "tickmode": "array",
         "ticktext": [
          "2_ATOMS/db65-6186-4188-b955-0dca4cd7daa1",
          "2_ATOMS/4130-44f6-445e-8a26-4f6afcdd73ea",
          "2_ATOMS/c185-8b61-445e-8068-be370e3617c6",
          "2_ATOMS/45fa-290d-448f-aab5-51f41046d60d",
          "8_ATOMS/88bd-ed8a-4749-bad7-033e9549713c"
         ],
         "tickvals": [
          0,
          1,
          2,
          3,
          4
         ]
        }
       }
      }
     },
     "metadata": {},
     "output_type": "display_data"
    },
    {
     "data": {
      "application/vnd.plotly.v1+json": {
       "config": {
        "plotlyServerURL": "https://plot.ly"
       },
       "data": [
        {
         "marker": {
          "color": "blue",
          "size": 6,
          "symbol": "0"
         },
         "mode": "markers",
         "name": "Training onsites",
         "showlegend": true,
         "type": "scatter",
         "x": [
          0.13225865364074707,
          0.15485891699790955,
          0.2462804764509201,
          0.20327001810073853,
          0.11113099753856659
         ],
         "y": [
          0,
          1,
          2,
          3,
          4
         ]
        },
        {
         "marker": {
          "color": "blue",
          "size": 6,
          "symbol": "x"
         },
         "mode": "markers",
         "name": "Training hoppings",
         "showlegend": true,
         "type": "scatter",
         "x": [
          0.0033919732086360455,
          0.003783849533647299,
          0.004090422298759222,
          0.003759214887395501,
          0.003459919011220336
         ],
         "y": [
          0,
          1,
          2,
          3,
          4
         ]
        }
       ],
       "layout": {
        "height": 175,
        "margin": {
         "b": 45,
         "l": 40,
         "r": 20,
         "t": 65
        },
        "template": {
         "data": {
          "bar": [
           {
            "error_x": {
             "color": "#2a3f5f"
            },
            "error_y": {
             "color": "#2a3f5f"
            },
            "marker": {
             "line": {
              "color": "#E5ECF6",
              "width": 0.5
             },
             "pattern": {
              "fillmode": "overlay",
              "size": 10,
              "solidity": 0.2
             }
            },
            "type": "bar"
           }
          ],
          "barpolar": [
           {
            "marker": {
             "line": {
              "color": "#E5ECF6",
              "width": 0.5
             },
             "pattern": {
              "fillmode": "overlay",
              "size": 10,
              "solidity": 0.2
             }
            },
            "type": "barpolar"
           }
          ],
          "carpet": [
           {
            "aaxis": {
             "endlinecolor": "#2a3f5f",
             "gridcolor": "white",
             "linecolor": "white",
             "minorgridcolor": "white",
             "startlinecolor": "#2a3f5f"
            },
            "baxis": {
             "endlinecolor": "#2a3f5f",
             "gridcolor": "white",
             "linecolor": "white",
             "minorgridcolor": "white",
             "startlinecolor": "#2a3f5f"
            },
            "type": "carpet"
           }
          ],
          "choropleth": [
           {
            "colorbar": {
             "outlinewidth": 0,
             "ticks": ""
            },
            "type": "choropleth"
           }
          ],
          "contour": [
           {
            "colorbar": {
             "outlinewidth": 0,
             "ticks": ""
            },
            "colorscale": [
             [
              0,
              "#0d0887"
             ],
             [
              0.1111111111111111,
              "#46039f"
             ],
             [
              0.2222222222222222,
              "#7201a8"
             ],
             [
              0.3333333333333333,
              "#9c179e"
             ],
             [
              0.4444444444444444,
              "#bd3786"
             ],
             [
              0.5555555555555556,
              "#d8576b"
             ],
             [
              0.6666666666666666,
              "#ed7953"
             ],
             [
              0.7777777777777778,
              "#fb9f3a"
             ],
             [
              0.8888888888888888,
              "#fdca26"
             ],
             [
              1,
              "#f0f921"
             ]
            ],
            "type": "contour"
           }
          ],
          "contourcarpet": [
           {
            "colorbar": {
             "outlinewidth": 0,
             "ticks": ""
            },
            "type": "contourcarpet"
           }
          ],
          "heatmap": [
           {
            "colorbar": {
             "outlinewidth": 0,
             "ticks": ""
            },
            "colorscale": [
             [
              0,
              "#0d0887"
             ],
             [
              0.1111111111111111,
              "#46039f"
             ],
             [
              0.2222222222222222,
              "#7201a8"
             ],
             [
              0.3333333333333333,
              "#9c179e"
             ],
             [
              0.4444444444444444,
              "#bd3786"
             ],
             [
              0.5555555555555556,
              "#d8576b"
             ],
             [
              0.6666666666666666,
              "#ed7953"
             ],
             [
              0.7777777777777778,
              "#fb9f3a"
             ],
             [
              0.8888888888888888,
              "#fdca26"
             ],
             [
              1,
              "#f0f921"
             ]
            ],
            "type": "heatmap"
           }
          ],
          "histogram": [
           {
            "marker": {
             "pattern": {
              "fillmode": "overlay",
              "size": 10,
              "solidity": 0.2
             }
            },
            "type": "histogram"
           }
          ],
          "histogram2d": [
           {
            "colorbar": {
             "outlinewidth": 0,
             "ticks": ""
            },
            "colorscale": [
             [
              0,
              "#0d0887"
             ],
             [
              0.1111111111111111,
              "#46039f"
             ],
             [
              0.2222222222222222,
              "#7201a8"
             ],
             [
              0.3333333333333333,
              "#9c179e"
             ],
             [
              0.4444444444444444,
              "#bd3786"
             ],
             [
              0.5555555555555556,
              "#d8576b"
             ],
             [
              0.6666666666666666,
              "#ed7953"
             ],
             [
              0.7777777777777778,
              "#fb9f3a"
             ],
             [
              0.8888888888888888,
              "#fdca26"
             ],
             [
              1,
              "#f0f921"
             ]
            ],
            "type": "histogram2d"
           }
          ],
          "histogram2dcontour": [
           {
            "colorbar": {
             "outlinewidth": 0,
             "ticks": ""
            },
            "colorscale": [
             [
              0,
              "#0d0887"
             ],
             [
              0.1111111111111111,
              "#46039f"
             ],
             [
              0.2222222222222222,
              "#7201a8"
             ],
             [
              0.3333333333333333,
              "#9c179e"
             ],
             [
              0.4444444444444444,
              "#bd3786"
             ],
             [
              0.5555555555555556,
              "#d8576b"
             ],
             [
              0.6666666666666666,
              "#ed7953"
             ],
             [
              0.7777777777777778,
              "#fb9f3a"
             ],
             [
              0.8888888888888888,
              "#fdca26"
             ],
             [
              1,
              "#f0f921"
             ]
            ],
            "type": "histogram2dcontour"
           }
          ],
          "mesh3d": [
           {
            "colorbar": {
             "outlinewidth": 0,
             "ticks": ""
            },
            "type": "mesh3d"
           }
          ],
          "parcoords": [
           {
            "line": {
             "colorbar": {
              "outlinewidth": 0,
              "ticks": ""
             }
            },
            "type": "parcoords"
           }
          ],
          "pie": [
           {
            "automargin": true,
            "type": "pie"
           }
          ],
          "scatter": [
           {
            "fillpattern": {
             "fillmode": "overlay",
             "size": 10,
             "solidity": 0.2
            },
            "type": "scatter"
           }
          ],
          "scatter3d": [
           {
            "line": {
             "colorbar": {
              "outlinewidth": 0,
              "ticks": ""
             }
            },
            "marker": {
             "colorbar": {
              "outlinewidth": 0,
              "ticks": ""
             }
            },
            "type": "scatter3d"
           }
          ],
          "scattercarpet": [
           {
            "marker": {
             "colorbar": {
              "outlinewidth": 0,
              "ticks": ""
             }
            },
            "type": "scattercarpet"
           }
          ],
          "scattergeo": [
           {
            "marker": {
             "colorbar": {
              "outlinewidth": 0,
              "ticks": ""
             }
            },
            "type": "scattergeo"
           }
          ],
          "scattergl": [
           {
            "marker": {
             "colorbar": {
              "outlinewidth": 0,
              "ticks": ""
             }
            },
            "type": "scattergl"
           }
          ],
          "scattermap": [
           {
            "marker": {
             "colorbar": {
              "outlinewidth": 0,
              "ticks": ""
             }
            },
            "type": "scattermap"
           }
          ],
          "scattermapbox": [
           {
            "marker": {
             "colorbar": {
              "outlinewidth": 0,
              "ticks": ""
             }
            },
            "type": "scattermapbox"
           }
          ],
          "scatterpolar": [
           {
            "marker": {
             "colorbar": {
              "outlinewidth": 0,
              "ticks": ""
             }
            },
            "type": "scatterpolar"
           }
          ],
          "scatterpolargl": [
           {
            "marker": {
             "colorbar": {
              "outlinewidth": 0,
              "ticks": ""
             }
            },
            "type": "scatterpolargl"
           }
          ],
          "scatterternary": [
           {
            "marker": {
             "colorbar": {
              "outlinewidth": 0,
              "ticks": ""
             }
            },
            "type": "scatterternary"
           }
          ],
          "surface": [
           {
            "colorbar": {
             "outlinewidth": 0,
             "ticks": ""
            },
            "colorscale": [
             [
              0,
              "#0d0887"
             ],
             [
              0.1111111111111111,
              "#46039f"
             ],
             [
              0.2222222222222222,
              "#7201a8"
             ],
             [
              0.3333333333333333,
              "#9c179e"
             ],
             [
              0.4444444444444444,
              "#bd3786"
             ],
             [
              0.5555555555555556,
              "#d8576b"
             ],
             [
              0.6666666666666666,
              "#ed7953"
             ],
             [
              0.7777777777777778,
              "#fb9f3a"
             ],
             [
              0.8888888888888888,
              "#fdca26"
             ],
             [
              1,
              "#f0f921"
             ]
            ],
            "type": "surface"
           }
          ],
          "table": [
           {
            "cells": {
             "fill": {
              "color": "#EBF0F8"
             },
             "line": {
              "color": "white"
             }
            },
            "header": {
             "fill": {
              "color": "#C8D4E3"
             },
             "line": {
              "color": "white"
             }
            },
            "type": "table"
           }
          ]
         },
         "layout": {
          "annotationdefaults": {
           "arrowcolor": "#2a3f5f",
           "arrowhead": 0,
           "arrowwidth": 1
          },
          "autotypenumbers": "strict",
          "coloraxis": {
           "colorbar": {
            "outlinewidth": 0,
            "ticks": ""
           }
          },
          "colorscale": {
           "diverging": [
            [
             0,
             "#8e0152"
            ],
            [
             0.1,
             "#c51b7d"
            ],
            [
             0.2,
             "#de77ae"
            ],
            [
             0.3,
             "#f1b6da"
            ],
            [
             0.4,
             "#fde0ef"
            ],
            [
             0.5,
             "#f7f7f7"
            ],
            [
             0.6,
             "#e6f5d0"
            ],
            [
             0.7,
             "#b8e186"
            ],
            [
             0.8,
             "#7fbc41"
            ],
            [
             0.9,
             "#4d9221"
            ],
            [
             1,
             "#276419"
            ]
           ],
           "sequential": [
            [
             0,
             "#0d0887"
            ],
            [
             0.1111111111111111,
             "#46039f"
            ],
            [
             0.2222222222222222,
             "#7201a8"
            ],
            [
             0.3333333333333333,
             "#9c179e"
            ],
            [
             0.4444444444444444,
             "#bd3786"
            ],
            [
             0.5555555555555556,
             "#d8576b"
            ],
            [
             0.6666666666666666,
             "#ed7953"
            ],
            [
             0.7777777777777778,
             "#fb9f3a"
            ],
            [
             0.8888888888888888,
             "#fdca26"
            ],
            [
             1,
             "#f0f921"
            ]
           ],
           "sequentialminus": [
            [
             0,
             "#0d0887"
            ],
            [
             0.1111111111111111,
             "#46039f"
            ],
            [
             0.2222222222222222,
             "#7201a8"
            ],
            [
             0.3333333333333333,
             "#9c179e"
            ],
            [
             0.4444444444444444,
             "#bd3786"
            ],
            [
             0.5555555555555556,
             "#d8576b"
            ],
            [
             0.6666666666666666,
             "#ed7953"
            ],
            [
             0.7777777777777778,
             "#fb9f3a"
            ],
            [
             0.8888888888888888,
             "#fdca26"
            ],
            [
             1,
             "#f0f921"
            ]
           ]
          },
          "colorway": [
           "#636efa",
           "#EF553B",
           "#00cc96",
           "#ab63fa",
           "#FFA15A",
           "#19d3f3",
           "#FF6692",
           "#B6E880",
           "#FF97FF",
           "#FECB52"
          ],
          "font": {
           "color": "#2a3f5f"
          },
          "geo": {
           "bgcolor": "white",
           "lakecolor": "white",
           "landcolor": "#E5ECF6",
           "showlakes": true,
           "showland": true,
           "subunitcolor": "white"
          },
          "hoverlabel": {
           "align": "left"
          },
          "hovermode": "closest",
          "mapbox": {
           "style": "light"
          },
          "paper_bgcolor": "white",
          "plot_bgcolor": "#E5ECF6",
          "polar": {
           "angularaxis": {
            "gridcolor": "white",
            "linecolor": "white",
            "ticks": ""
           },
           "bgcolor": "#E5ECF6",
           "radialaxis": {
            "gridcolor": "white",
            "linecolor": "white",
            "ticks": ""
           }
          },
          "scene": {
           "xaxis": {
            "backgroundcolor": "#E5ECF6",
            "gridcolor": "white",
            "gridwidth": 2,
            "linecolor": "white",
            "showbackground": true,
            "ticks": "",
            "zerolinecolor": "white"
           },
           "yaxis": {
            "backgroundcolor": "#E5ECF6",
            "gridcolor": "white",
            "gridwidth": 2,
            "linecolor": "white",
            "showbackground": true,
            "ticks": "",
            "zerolinecolor": "white"
           },
           "zaxis": {
            "backgroundcolor": "#E5ECF6",
            "gridcolor": "white",
            "gridwidth": 2,
            "linecolor": "white",
            "showbackground": true,
            "ticks": "",
            "zerolinecolor": "white"
           }
          },
          "shapedefaults": {
           "line": {
            "color": "#2a3f5f"
           }
          },
          "ternary": {
           "aaxis": {
            "gridcolor": "white",
            "linecolor": "white",
            "ticks": ""
           },
           "baxis": {
            "gridcolor": "white",
            "linecolor": "white",
            "ticks": ""
           },
           "bgcolor": "#E5ECF6",
           "caxis": {
            "gridcolor": "white",
            "linecolor": "white",
            "ticks": ""
           }
          },
          "title": {
           "x": 0.05
          },
          "xaxis": {
           "automargin": true,
           "gridcolor": "white",
           "linecolor": "white",
           "ticks": "",
           "title": {
            "standoff": 15
           },
           "zerolinecolor": "white",
           "zerolinewidth": 2
          },
          "yaxis": {
           "automargin": true,
           "gridcolor": "white",
           "linecolor": "white",
           "ticks": "",
           "title": {
            "standoff": 15
           },
           "zerolinecolor": "white",
           "zerolinewidth": 2
          }
         }
        },
        "title": {
         "pad": {
          "t": 10
         },
         "text": "Mean(Abs(T-P)). Used model h_crystalls_1",
         "x": 0.01,
         "xanchor": "left",
         "y": 1,
         "yanchor": "top"
        },
        "width": 800,
        "xaxis": {
         "exponentformat": "power",
         "mirror": "all",
         "showexponent": "all",
         "showline": true,
         "side": "bottom",
         "title": {
          "standoff": 0,
          "text": "Mean(Abs(T-P)) (eV)"
         }
        },
        "yaxis": {
         "autorange": false,
         "range": [
          -0.5,
          4.5
         ],
         "tickmode": "array",
         "ticktext": [
          "2_ATOMS/db65-6186-4188-b955-0dca4cd7daa1",
          "2_ATOMS/4130-44f6-445e-8a26-4f6afcdd73ea",
          "2_ATOMS/c185-8b61-445e-8068-be370e3617c6",
          "2_ATOMS/45fa-290d-448f-aab5-51f41046d60d",
          "8_ATOMS/88bd-ed8a-4749-bad7-033e9549713c"
         ],
         "tickvals": [
          0,
          1,
          2,
          3,
          4
         ]
        }
       }
      }
     },
     "metadata": {},
     "output_type": "display_data"
    }
   ],
   "source": [
    "# Separate on-sites from hoppings:\n",
    "labels_train = [path.parts[-2][14:] +\"/\"+ path.parts[-1] for path in train_paths]\n",
    "labels_val = [path.parts[-2][14:] +\"/\"+ path.parts[-1] for path in val_paths]\n",
    "\n",
    "# Mean of only the on-sites\n",
    "splits = [train_data, val_data]\n",
    "split_paths = (train_paths, val_paths)\n",
    "\n",
    "\n",
    "splits_absmean_onsites = ([], [])\n",
    "splits_absmean_hops = ([], [])\n",
    "splits_absstd_onsites = ([], [])\n",
    "splits_absstd_hops = ([], [])\n",
    "# For each split (train, val)\n",
    "for k in range(len(splits)):\n",
    "    if k != 0:\n",
    "        break\n",
    "    true_matrices = splits[k][0]\n",
    "    pred_matrices = splits[k][1]\n",
    "    n_matrices = len(true_matrices)\n",
    "\n",
    "    # For each matrix\n",
    "    onsite_values = []\n",
    "    hopping_values = []\n",
    "    for i in tqdm(range(n_matrices)):\n",
    "        if i == 5:\n",
    "            break\n",
    "\n",
    "        diff_matrix = (true_matrices[i] - pred_matrices[i]).tocoo()\n",
    "\n",
    "        # Compute labels for each nnz element\n",
    "        path = Path(\"../\") / split_paths[k][i]\n",
    "        geometry = sisl.get_sile(path / \"aiida.fdf\").read_geometry()\n",
    "        for j in range(len(diff_matrix.data)):\n",
    "            row = diff_matrix.row[j]\n",
    "            col = diff_matrix.col[j]\n",
    "            orb_in = orbitals[col % n_orbs]\n",
    "            orb_out = orbitals[row % n_orbs]\n",
    "            isc = str(geometry.o2isc(col))\n",
    "\n",
    "            # Join altogether\n",
    "            label = ''.join([orb_in, \" -> \", orb_out, \" \", isc])\n",
    "\n",
    "            # Store\n",
    "            if isc == '[0 0 0]' and row == col:\n",
    "                onsite_values.append(diff_matrix.data[j])\n",
    "            else:\n",
    "                hopping_values.append(diff_matrix.data[j])\n",
    "\n",
    "        # Store the result for each matrix\n",
    "        splits_absmean_onsites[k].append(np.mean(np.abs(onsite_values)))\n",
    "        splits_absmean_hops[k].append(np.mean(np.abs(hopping_values)))\n",
    "        splits_absstd_onsites[k].append(np.std(np.abs(onsite_values)))\n",
    "        splits_absstd_hops[k].append(np.std(np.abs(hopping_values)))\n",
    "        \n",
    "\n",
    "# Plot the results\n",
    "values_train_onsites = splits_absmean_onsites[0]\n",
    "values_val_onsites = splits_absmean_onsites[1]\n",
    "values_train_hops = splits_absmean_hops[0]\n",
    "values_val_hops = splits_absmean_hops[1]\n",
    "filepath= savedir / \"alldataset_absmean.html\"\n",
    "title = f\"Mean(Abs(T-P)). Used model {model_dir.parts[-1]}\"\n",
    "title_x=\"Mean(Abs(T-P)) (eV)\"\n",
    "plot_alldataset_struct_vs_scalar_onsites_hoppings(\n",
    "    title, title_x,\n",
    "    values_train_onsite=values_train_onsites, values_train_hop=values_train_hops, labels_train=labels_train[:5], n_train_samples=len(values_train_onsites),\n",
    "    values_val_onsite=values_val_onsites, values_val_hop=values_val_hops, labels_val=labels_val[:5], n_val_samples=len(values_val_onsites),\n",
    "    filepath=None\n",
    ")"
   ]
  },
  {
   "cell_type": "code",
   "execution_count": null,
   "id": "e555b23b",
   "metadata": {},
   "outputs": [],
   "source": []
  }
 ],
 "metadata": {
  "kernelspec": {
   "display_name": "g2m_upd",
   "language": "python",
   "name": "python3"
  },
  "language_info": {
   "codemirror_mode": {
    "name": "ipython",
    "version": 3
   },
   "file_extension": ".py",
   "mimetype": "text/x-python",
   "name": "python",
   "nbconvert_exporter": "python",
   "pygments_lexer": "ipython3",
   "version": "3.12.11"
  }
 },
 "nbformat": 4,
 "nbformat_minor": 5
}
