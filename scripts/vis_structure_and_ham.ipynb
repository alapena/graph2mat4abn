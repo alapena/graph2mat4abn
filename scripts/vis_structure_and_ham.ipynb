{
 "cells": [
  {
   "cell_type": "code",
   "execution_count": 1,
   "id": "619f3a92",
   "metadata": {},
   "outputs": [],
   "source": [
    "from joblib import dump, load\n",
    "from pathlib import Path\n",
    "import numpy as np\n",
    "import matplotlib.pyplot as plt\n",
    "import sisl\n",
    "\n",
    "def plot_hamiltonian_matplotlib(true_matrix, predicted_matrix, matrix_label=None, figure_title=None, predicted_matrix_text=None, filepath=None, force_max_colorbar_abs_error=None):\n",
    "    \"\"\"Matplotlib visualization of error matrices.\"\"\"\n",
    "\n",
    "    # Error matrices\n",
    "    absolute_error_matrix = true_matrix - predicted_matrix\n",
    "    threshold = 0.001\n",
    "    mask = true_matrix >= threshold\n",
    "    relative_error_matrix = np.where(mask, absolute_error_matrix / (true_matrix + threshold) * 100, 0)\n",
    "\n",
    "    # Colorbar limits\n",
    "    vmin = np.min([np.min(true_matrix), np.min(predicted_matrix)])\n",
    "    vmax = np.max([np.max(true_matrix), np.max(predicted_matrix)])\n",
    "    lim_data = max(np.abs(vmin), np.abs(vmax))\n",
    "\n",
    "    if force_max_colorbar_abs_error is None:\n",
    "        lim_abs = np.max(np.abs(absolute_error_matrix))\n",
    "    else:\n",
    "        lim_abs = force_max_colorbar_abs_error\n",
    "\n",
    "    lim_rel = 100.0  # %\n",
    "\n",
    "    cbar_limits = [lim_data, lim_data, lim_abs, lim_rel]\n",
    "\n",
    "    # Titles\n",
    "    if matrix_label is None:\n",
    "        matrix_label = ''\n",
    "    titles = [\n",
    "        \"True \" + matrix_label,\n",
    "        \"Predicted \" + matrix_label,\n",
    "        \"Absolute error (T-P)\",\n",
    "        f\"Relative error (T-P)/(T) (masked where T is above {threshold})\"\n",
    "    ]\n",
    "    cbar_titles = [\"eV\", \"eV\", \"eV\", \"%\"]\n",
    "\n",
    "    # Matrices to plot\n",
    "    matrices = [true_matrix, predicted_matrix, absolute_error_matrix, relative_error_matrix]\n",
    "\n",
    "    fig, axes = plt.subplots(4, 1, figsize=(10, 16), constrained_layout=True, gridspec_kw={'hspace': 0.15})\n",
    "    fig.suptitle(figure_title if figure_title else \"Matrix Comparison and Errors\", fontsize=16)\n",
    "\n",
    "    for i, (matrix, ax) in enumerate(zip(matrices, axes)):\n",
    "        im = ax.imshow(matrix, cmap='RdBu', vmin=-cbar_limits[i], vmax=cbar_limits[i])\n",
    "        ax.set_title(titles[i])\n",
    "        ax.set_ylabel(\"Row\")\n",
    "        cbar = fig.colorbar(im, ax=ax, orientation='vertical', fraction=0.045, pad=0.02)\n",
    "        cbar.set_label(cbar_titles[i])\n",
    "        ax.set_xlabel(\"Col\")\n",
    "        ax.set_aspect('auto')\n",
    "\n",
    "    # Text under predicted matrix (subplot 2)\n",
    "    if predicted_matrix_text is not None:\n",
    "        axes[1].text(1.0, -0.25, predicted_matrix_text, ha='right', va='center', fontsize=10, transform=axes[1].transAxes)\n",
    "\n",
    "    # Absolute error stats (exclude zeros for stats)\n",
    "    abs_err_nonzero = np.abs(absolute_error_matrix)[absolute_error_matrix != 0]\n",
    "    if abs_err_nonzero.size > 0:\n",
    "        mean_abs = np.mean(abs_err_nonzero)\n",
    "        std_abs = np.std(abs_err_nonzero)\n",
    "    else:\n",
    "        mean_abs = std_abs = 0.0\n",
    "    max_absolute_error = np.max(absolute_error_matrix)\n",
    "    min_absolute_error = np.min(absolute_error_matrix)\n",
    "    max_abs = np.max(np.abs([max_absolute_error, min_absolute_error]))\n",
    "\n",
    "    fig.text(\n",
    "        0.5, 0.245,\n",
    "        f\"mean_nnz(|T-P|) = {mean_abs:.3f} eV, std_nnz(|T-P|) = {std_abs:.3f} eV, |max| = {max_abs:.3f} eV\",\n",
    "        ha='center', va='center', fontsize=11,\n",
    "    )\n",
    "\n",
    "    # Relative error stats (exclude zeros for stats)\n",
    "    rel_err_nonzero = np.abs(relative_error_matrix)[relative_error_matrix != 0]\n",
    "    if rel_err_nonzero.size > 0:\n",
    "        mean_rel = np.mean(rel_err_nonzero)\n",
    "        std_rel = np.std(rel_err_nonzero)\n",
    "    else:\n",
    "        mean_rel = std_rel = 0.0\n",
    "    max_relative_error = np.max(relative_error_matrix)\n",
    "    min_relative_error = np.min(relative_error_matrix)\n",
    "    max_abs_rel = np.max(np.abs([max_relative_error, min_relative_error]))\n",
    "\n",
    "    fig.text(\n",
    "        0.5, 0.001,\n",
    "        f\"mean_nnz(|T-P|) = {mean_rel:.3f} %, std_nnz(|T-P|) = {std_rel:.3f} %, |max| = {max_abs_rel:.3f} %\",\n",
    "        ha='center', va='center', fontsize=11,\n",
    "    )\n",
    "    axes[-1].set_xlabel(\" \")\n",
    "\n",
    "    # Output\n",
    "    if filepath:\n",
    "        plt.savefig(filepath, dpi=150, bbox_inches='tight')\n",
    "        plt.close(fig)\n",
    "    else:\n",
    "        plt.show()\n",
    "        plt.close(fig)"
   ]
  },
  {
   "cell_type": "code",
   "execution_count": 5,
   "id": "dbe54e5e",
   "metadata": {},
   "outputs": [
    {
     "name": "stdout",
     "output_type": "stream",
     "text": [
      "Plotting structure...\n"
     ]
    },
    {
     "data": {
      "application/vnd.plotly.v1+json": {
       "config": {
        "plotlyServerURL": "https://plot.ly"
       },
       "data": [
        {
         "line": {
          "color": "gray",
          "width": 10
         },
         "meta": {},
         "mode": "lines",
         "name": "Bonds",
         "opacity": 1,
         "type": "scatter3d",
         "x": {
          "bdata": "AAAAAAAAAAAAAAAAAAAAAAAAAAAAAAAAAAAAAAAAAAAAAAAAAAAAAAAAAAAAAAAAAAAAAAAAAAAAAAAAAAAAAAAAAAAAAAAAAAAAAAAAAAAAAAAAAAAAAAAAAAAAAAAAAAAAAAAAAAAAAAAAAAAAAAAAAAAAAAAAAAAAAAAAAAAAAAAAAAAAAAAAAAAAAAAAAAAAAAAAAAAAAAAAAAAAAAAAAAAAAPh/",
          "dtype": "f8"
         },
         "y": {
          "bdata": "AAAAAAAAAAAAAAAAAAAAAAAAAAAAAAAAAAAAAAAAAAAAAAAAAAAAAAAAAAAAAAAAAAAAAAAAAAAAAAAAAAAAAAAAAAAAAAAAAAAAAAAAAAAAAAAAAAAAAAAAAAAAAAAAAAAAAAAAAAAAAAAAAAAAAAAAAAAAAAAAAAAAAAAAAAAAAAAAAAAAAAAAAAAAAAAAAAAAAAAAAAAAAAAAAAAAAAAAAAAAAPh/",
          "dtype": "f8"
         },
         "z": {
          "bdata": "np/b7MxhDECzkKkF+/YLQMiBdx4pjAtA3XJFN1chC0DyYxNQhbYKQAhV4WizSwpAHUavgeHgCUAyN32aD3YJQEcoS7M9CwlAXBkZzGugCEBxCufkmTUIQIb7tP3HygdAm+yCFvZfB0Cw3VAvJPUGQMbOHkhSigZA2r/sYIAfBkDwsLp5rrQFQAWiiJLcSQVAGpNWqwrfBEAvhCTEOHQEQAAAAAAAAPh/",
          "dtype": "f8"
         }
        },
        {
         "alphahull": 0,
         "color": "#3050F8",
         "hovertemplate": "%{meta.position}",
         "legendgroup": "Atoms",
         "meta": {
          "meta": {
           "Atoms_i": 0
          },
          "position": "(0.00, 0.00, 3.55)"
         },
         "name": "Atoms",
         "opacity": 1,
         "showlegend": true,
         "showscale": false,
         "type": "mesh3d",
         "x": {
          "bdata": "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",
          "dtype": "f8"
         },
         "y": {
          "bdata": "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",
          "dtype": "f8"
         },
         "z": {
          "bdata": "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",
          "dtype": "f8"
         }
        },
        {
         "alphahull": 0,
         "color": "#3050F8",
         "hovertemplate": "%{meta.position}",
         "legendgroup": "Atoms",
         "meta": {
          "meta": {
           "Atoms_i": 1
          },
          "position": "(0.00, 0.00, 2.56)"
         },
         "name": "Atoms",
         "opacity": 1,
         "showlegend": false,
         "showscale": false,
         "type": "mesh3d",
         "x": {
          "bdata": "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",
          "dtype": "f8"
         },
         "y": {
          "bdata": "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",
          "dtype": "f8"
         },
         "z": {
          "bdata": "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",
          "dtype": "f8"
         }
        },
        {
         "meta": {},
         "mode": "lines",
         "name": "Unit cell",
         "type": "scatter3d",
         "x": {
          "bdata": "AAAAAAAAAAAAAAAAAAAAAJRqn47HzAxAlGqfjsfMDEAAAAAAAAAAAAAAAAAAAAAAAAAAAAAA+H8AAAAAAAAAAAAAAAAAAAAAAAAAAAAAAACUap+Ox8wMQJRqn47HzAxAAAAAAAAAAAAAAAAAAAD4f5Rqn47HzAxAlGqfjsfMDEAAAAAAAAD4f5Rqn47HzAxAlGqfjsfMDEA=",
          "dtype": "f8"
         },
         "y": {
          "bdata": "AAAAAAAAAACUap+Ox8wMQJRqn47HzAxAlGqfjsfMDECUap+Ox8wMQJRqn47HzAxAAAAAAAAA+H+Uap+Ox8wMQAAAAAAAAAAAAAAAAAAAAAAAAAAAAAAAAAAAAAAAAAAAAAAAAAAAAAAAAAAAAAD4f5Rqn47HzAxAAAAAAAAAAAAAAAAAAAD4f5Rqn47HzAxAAAAAAAAAAAA=",
          "dtype": "f8"
         },
         "z": {
          "bdata": "AAAAAAAAAAAAAAAAAAAAAAAAAAAAAAAAlGqfjsfMDECUap+Ox8wMQAAAAAAAAAAAAAAAAAAA+H+Uap+Ox8wMQJRqn47HzAxAAAAAAAAAAAAAAAAAAAAAAJRqn47HzAxAlGqfjsfMDEAAAAAAAAD4fwAAAAAAAAAAAAAAAAAAAAAAAAAAAAD4f5Rqn47HzAxAlGqfjsfMDEA=",
          "dtype": "f8"
         }
        }
       ],
       "layout": {
        "scene": {
         "aspectmode": "data",
         "xaxis": {
          "title": {
           "text": "X axis [Ang]"
          }
         },
         "yaxis": {
          "title": {
           "text": "Y axis [Ang]"
          }
         },
         "zaxis": {
          "title": {
           "text": "Z axis [Ang]"
          }
         }
        },
        "template": {
         "layout": {
          "hovermode": "closest",
          "paper_bgcolor": "white",
          "plot_bgcolor": "white",
          "scene": {
           "xaxis": {
            "color": "black",
            "gridcolor": "#ccc",
            "gridwidth": 1,
            "linewidth": 1,
            "mirror": true,
            "showgrid": false,
            "showline": true,
            "ticklen": 5,
            "ticks": "outside",
            "ticksuffix": " ",
            "visible": true,
            "zeroline": false,
            "zerolinecolor": "#ccc",
            "zerolinewidth": 1
           },
           "yaxis": {
            "color": "black",
            "gridcolor": "#ccc",
            "gridwidth": 1,
            "linewidth": 1,
            "mirror": true,
            "showgrid": false,
            "showline": true,
            "ticklen": 5,
            "ticks": "outside",
            "ticksuffix": " ",
            "visible": true,
            "zeroline": false,
            "zerolinecolor": "#ccc",
            "zerolinewidth": 1
           },
           "zaxis": {
            "color": "black",
            "gridcolor": "#ccc",
            "gridwidth": 1,
            "linewidth": 1,
            "mirror": true,
            "showgrid": false,
            "showline": true,
            "ticklen": 5,
            "ticks": "outside",
            "ticksuffix": " ",
            "visible": true,
            "zeroline": false,
            "zerolinecolor": "#ccc",
            "zerolinewidth": 1
           }
          },
          "xaxis": {
           "color": "black",
           "gridcolor": "#ccc",
           "gridwidth": 1,
           "linewidth": 1,
           "mirror": true,
           "showgrid": false,
           "showline": true,
           "ticklen": 5,
           "ticks": "outside",
           "ticksuffix": " ",
           "visible": true,
           "zeroline": false,
           "zerolinecolor": "#ccc",
           "zerolinewidth": 1
          },
          "yaxis": {
           "color": "black",
           "gridcolor": "#ccc",
           "gridwidth": 1,
           "linewidth": 1,
           "mirror": true,
           "showgrid": false,
           "showline": true,
           "ticklen": 5,
           "ticks": "outside",
           "ticksuffix": " ",
           "visible": true,
           "zeroline": false,
           "zerolinecolor": "#ccc",
           "zerolinewidth": 1
          }
         }
        },
        "xaxis": {
         "scaleanchor": "y",
         "scaleratio": 1,
         "title": {
          "text": "X axis [Ang]"
         }
        },
        "yaxis": {
         "title": {
          "text": "Y axis [Ang]"
         }
        }
       }
      }
     },
     "metadata": {},
     "output_type": "display_data"
    },
    {
     "data": {
      "text/plain": [
       "array([7, 7], dtype=int32)"
      ]
     },
     "execution_count": 5,
     "metadata": {},
     "output_type": "execute_result"
    }
   ],
   "source": [
    "# 1. Plot structure\n",
    "# path = Path(\"../dataset/SHARE_OUTPUTS_2_ATOMS/0953-8dcf-411e-ae7b-00f794981cc5\") # B-N Overlapped\n",
    "# path = Path(\"../dataset/SHARE_OUTPUTS_2_ATOMS/c0e0-7549-496d-82e7-c3f6b1d81e58\") # B-N No overlapped\n",
    "\n",
    "# Boron: Grey\n",
    "# path = Path(\"../dataset/SHARE_OUTPUTS_2_ATOMS/2e65-1feb-4df2-8836-e5513b9bade0\") # B-B Overlapped\n",
    "# path = Path(\"../dataset/SHARE_OUTPUTS_2_ATOMS/7e20-9cdf-4b2c-8134-6cadc8f64c34\") # B-B No overlapped\n",
    "# path = Path(\"../dataset/SHARE_OUTPUTS_2_ATOMS/a4f7-5d3f-4e50-9eda-87df3bf9ba58\") # B-B No overlapped (Pero sí en la siguiente cell)\n",
    "\n",
    "# path = Path(\"../dataset/SHARE_OUTPUTS_8_ATOMS/39cf-a27b-42dd-a62e-62556132a798\") #Hexagonal\n",
    "# path = Path(\"../dataset/SHARE_OUTPUTS_8_ATOMS/11ad-ba95-4a26-8f92-5267f5787553\") #Cubic\n",
    "\n",
    "#Val:\n",
    "path = Path(\"../dataset/SHARE_OUTPUTS_2_ATOMS/fc1c-6ab6-4c0e-921e-99710e6fe41b\") #N-N Small overlapped\n",
    "path = Path(\"../dataset/SHARE_OUTPUTS_2_ATOMS/f016-fb0e-4d5c-b584-4f8987eb5676\") #N-N No overlapped\n",
    "\n",
    "path = Path(\"../dataset/SHARE_OUTPUTS_2_ATOMS/a4e4-2f64-4e68-a37a-9e84eb767a0c\") # B-B No overlapped\n",
    "path = Path(\"../dataset/SHARE_OUTPUTS_2_ATOMS/7bbb-6d51-41eb-9de4-329298202ebf\") # B-B overlapped\n",
    "\n",
    "path = Path(\"../dataset/SHARE_OUTPUTS_8_ATOMS/173e-fad7-4f78-8350-6759a5471596\") #Cubic\n",
    "path = Path(\"../dataset/SHARE_OUTPUTS_8_ATOMS/4b9b-20df-4fe5-a669-88ff91902e97\") #Hexagonal\n",
    "\n",
    "path = Path(\"../dataset/SHARE_OUTPUTS_2_ATOMS/fc1c-6ab6-4c0e-921e-99710e6fe41b\")\n",
    "\n",
    "\n",
    "print(\"Plotting structure...\")\n",
    "file = sisl.get_sile(path / \"aiida.fdf\")\n",
    "fig = file.plot.geometry(axes=\"xyz\")\n",
    "# filepath = savedir_struct / f\"{n_atoms}atm_{structure}.png\"\n",
    "# fig.write_image(str(filepath))\n",
    "fig.show()\n",
    "file.read_geometry().atoms.Z"
   ]
  },
  {
   "cell_type": "code",
   "execution_count": 3,
   "id": "2ecec312",
   "metadata": {},
   "outputs": [
    {
     "ename": "ModuleNotFoundError",
     "evalue": "No module named 'tools'",
     "output_type": "error",
     "traceback": [
      "\u001b[31m---------------------------------------------------------------------------\u001b[39m",
      "\u001b[31mModuleNotFoundError\u001b[39m                       Traceback (most recent call last)",
      "\u001b[36mCell\u001b[39m\u001b[36m \u001b[39m\u001b[32mIn[3]\u001b[39m\u001b[32m, line 2\u001b[39m\n\u001b[32m      1\u001b[39m \u001b[38;5;66;03m# 2. Plot hamiltonian\u001b[39;00m\n\u001b[32m----> \u001b[39m\u001b[32m2\u001b[39m \u001b[38;5;28;01mfrom\u001b[39;00m\u001b[38;5;250m \u001b[39m\u001b[34;01mtools\u001b[39;00m\u001b[34;01m.\u001b[39;00m\u001b[34;01mplot\u001b[39;00m\u001b[38;5;250m \u001b[39m\u001b[38;5;28;01mimport\u001b[39;00m plot_error_matrices_big\n\u001b[32m      5\u001b[39m calculations_path = Path(\u001b[33m'\u001b[39m\u001b[33m../scripts/debug_data.joblib\u001b[39m\u001b[33m'\u001b[39m)\n\u001b[32m      7\u001b[39m data = load(calculations_path)\n",
      "\u001b[31mModuleNotFoundError\u001b[39m: No module named 'tools'"
     ]
    }
   ],
   "source": [
    "# 2. Plot hamiltonian\n",
    "from tools.plot import plot_error_matrices_big\n",
    "\n",
    "\n",
    "calculations_path = Path('../scripts/debug_data.joblib')\n",
    "\n",
    "data = load(calculations_path)\n",
    "\n",
    "print(f\"Loading data from {calculations_path}\")\n",
    "try:\n",
    "    data = load(calculations_path)\n",
    "    print(\"Results loaded!\")\n",
    "except FileNotFoundError:\n",
    "    raise FileNotFoundError(f\"Could not find the saved calculations at {calculations_path}\")\n",
    "\n",
    "# Reconstruct your tuples and labels\n",
    "train_data   = (data['train_true'],   data['train_pred'])\n",
    "val_data     = (data['val_true'],     data['val_pred'])\n",
    "train_labels = data['train_labels']\n",
    "val_labels   = data['val_labels']\n",
    "\n",
    "\n",
    "# Unpack for clarity\n",
    "train_true, train_pred = train_data\n",
    "val_true,   val_pred   = val_data\n",
    "\n",
    "n_train_samples = len(train_data[0])\n",
    "n_val_samples = len(val_data[0])\n",
    "\n",
    "print(\"Plotting hamiltonian...\")\n",
    "h_true = train_true[0]\n",
    "h_pred = train_pred[0]\n",
    "title = f\"test\"\n",
    "# filepath = savedir / f\"{n_atoms}atm_{structure}_hamiltonian.png\"\n",
    "plot_error_matrices_big(true_matrix=h_true.todense(), predicted_matrix=h_pred.todense())\n"
   ]
  },
  {
   "cell_type": "code",
   "execution_count": null,
   "id": "e69ddc4b",
   "metadata": {},
   "outputs": [],
   "source": []
  }
 ],
 "metadata": {
  "kernelspec": {
   "display_name": "graph2mat_upt",
   "language": "python",
   "name": "python3"
  },
  "language_info": {
   "codemirror_mode": {
    "name": "ipython",
    "version": 3
   },
   "file_extension": ".py",
   "mimetype": "text/x-python",
   "name": "python",
   "nbconvert_exporter": "python",
   "pygments_lexer": "ipython3",
   "version": "3.12.11"
  }
 },
 "nbformat": 4,
 "nbformat_minor": 5
}
