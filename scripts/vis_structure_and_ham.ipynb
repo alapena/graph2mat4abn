{
 "cells": [
  {
   "cell_type": "code",
   "execution_count": 2,
   "id": "619f3a92",
   "metadata": {},
   "outputs": [],
   "source": [
    "from joblib import dump, load\n",
    "from pathlib import Path\n",
    "import numpy as np\n",
    "import matplotlib.pyplot as plt\n",
    "import sisl\n",
    "\n",
    "def plot_hamiltonian_matplotlib(true_matrix, predicted_matrix, matrix_label=None, figure_title=None, predicted_matrix_text=None, filepath=None, force_max_colorbar_abs_error=None):\n",
    "    \"\"\"Matplotlib visualization of error matrices.\"\"\"\n",
    "\n",
    "    # Error matrices\n",
    "    absolute_error_matrix = true_matrix - predicted_matrix\n",
    "    threshold = 0.001\n",
    "    mask = true_matrix >= threshold\n",
    "    relative_error_matrix = np.where(mask, absolute_error_matrix / (true_matrix + threshold) * 100, 0)\n",
    "\n",
    "    # Colorbar limits\n",
    "    vmin = np.min([np.min(true_matrix), np.min(predicted_matrix)])\n",
    "    vmax = np.max([np.max(true_matrix), np.max(predicted_matrix)])\n",
    "    lim_data = max(np.abs(vmin), np.abs(vmax))\n",
    "\n",
    "    if force_max_colorbar_abs_error is None:\n",
    "        lim_abs = np.max(np.abs(absolute_error_matrix))\n",
    "    else:\n",
    "        lim_abs = force_max_colorbar_abs_error\n",
    "\n",
    "    lim_rel = 100.0  # %\n",
    "\n",
    "    cbar_limits = [lim_data, lim_data, lim_abs, lim_rel]\n",
    "\n",
    "    # Titles\n",
    "    if matrix_label is None:\n",
    "        matrix_label = ''\n",
    "    titles = [\n",
    "        \"True \" + matrix_label,\n",
    "        \"Predicted \" + matrix_label,\n",
    "        \"Absolute error (T-P)\",\n",
    "        f\"Relative error (T-P)/(T) (masked where T is above {threshold})\"\n",
    "    ]\n",
    "    cbar_titles = [\"eV\", \"eV\", \"eV\", \"%\"]\n",
    "\n",
    "    # Matrices to plot\n",
    "    matrices = [true_matrix, predicted_matrix, absolute_error_matrix, relative_error_matrix]\n",
    "\n",
    "    fig, axes = plt.subplots(4, 1, figsize=(10, 16), constrained_layout=True, gridspec_kw={'hspace': 0.15})\n",
    "    fig.suptitle(figure_title if figure_title else \"Matrix Comparison and Errors\", fontsize=16)\n",
    "\n",
    "    for i, (matrix, ax) in enumerate(zip(matrices, axes)):\n",
    "        im = ax.imshow(matrix, cmap='RdBu', vmin=-cbar_limits[i], vmax=cbar_limits[i])\n",
    "        ax.set_title(titles[i])\n",
    "        ax.set_ylabel(\"Row\")\n",
    "        cbar = fig.colorbar(im, ax=ax, orientation='vertical', fraction=0.045, pad=0.02)\n",
    "        cbar.set_label(cbar_titles[i])\n",
    "        ax.set_xlabel(\"Col\")\n",
    "        ax.set_aspect('auto')\n",
    "\n",
    "    # Text under predicted matrix (subplot 2)\n",
    "    if predicted_matrix_text is not None:\n",
    "        axes[1].text(1.0, -0.25, predicted_matrix_text, ha='right', va='center', fontsize=10, transform=axes[1].transAxes)\n",
    "\n",
    "    # Absolute error stats (exclude zeros for stats)\n",
    "    abs_err_nonzero = np.abs(absolute_error_matrix)[absolute_error_matrix != 0]\n",
    "    if abs_err_nonzero.size > 0:\n",
    "        mean_abs = np.mean(abs_err_nonzero)\n",
    "        std_abs = np.std(abs_err_nonzero)\n",
    "    else:\n",
    "        mean_abs = std_abs = 0.0\n",
    "    max_absolute_error = np.max(absolute_error_matrix)\n",
    "    min_absolute_error = np.min(absolute_error_matrix)\n",
    "    max_abs = np.max(np.abs([max_absolute_error, min_absolute_error]))\n",
    "\n",
    "    fig.text(\n",
    "        0.5, 0.245,\n",
    "        f\"mean_nnz(|T-P|) = {mean_abs:.3f} eV, std_nnz(|T-P|) = {std_abs:.3f} eV, |max| = {max_abs:.3f} eV\",\n",
    "        ha='center', va='center', fontsize=11,\n",
    "    )\n",
    "\n",
    "    # Relative error stats (exclude zeros for stats)\n",
    "    rel_err_nonzero = np.abs(relative_error_matrix)[relative_error_matrix != 0]\n",
    "    if rel_err_nonzero.size > 0:\n",
    "        mean_rel = np.mean(rel_err_nonzero)\n",
    "        std_rel = np.std(rel_err_nonzero)\n",
    "    else:\n",
    "        mean_rel = std_rel = 0.0\n",
    "    max_relative_error = np.max(relative_error_matrix)\n",
    "    min_relative_error = np.min(relative_error_matrix)\n",
    "    max_abs_rel = np.max(np.abs([max_relative_error, min_relative_error]))\n",
    "\n",
    "    fig.text(\n",
    "        0.5, 0.001,\n",
    "        f\"mean_nnz(|T-P|) = {mean_rel:.3f} %, std_nnz(|T-P|) = {std_rel:.3f} %, |max| = {max_abs_rel:.3f} %\",\n",
    "        ha='center', va='center', fontsize=11,\n",
    "    )\n",
    "    axes[-1].set_xlabel(\" \")\n",
    "\n",
    "    # Output\n",
    "    if filepath:\n",
    "        plt.savefig(filepath, dpi=150, bbox_inches='tight')\n",
    "        plt.close(fig)\n",
    "    else:\n",
    "        plt.show()\n",
    "        plt.close(fig)"
   ]
  },
  {
   "cell_type": "code",
   "execution_count": 17,
   "id": "dbe54e5e",
   "metadata": {},
   "outputs": [
    {
     "name": "stdout",
     "output_type": "stream",
     "text": [
      "Plotting structure...\n"
     ]
    },
    {
     "data": {
      "application/vnd.plotly.v1+json": {
       "config": {
        "plotlyServerURL": "https://plot.ly"
       },
       "data": [
        {
         "line": {
          "color": "gray",
          "width": 10
         },
         "meta": {},
         "mode": "lines",
         "name": "Bonds",
         "opacity": 1,
         "type": "scatter3d",
         "x": {
          "bdata": "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",
          "dtype": "f8"
         },
         "y": {
          "bdata": "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",
          "dtype": "f8"
         },
         "z": {
          "bdata": "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",
          "dtype": "f8"
         }
        },
        {
         "alphahull": 0,
         "color": "#3050F8",
         "hovertemplate": "%{meta.position}",
         "legendgroup": "Atoms",
         "meta": {
          "meta": {
           "Atoms_i": 0
          },
          "position": "(2.34, 0.01, 4.40)"
         },
         "name": "Atoms",
         "opacity": 1,
         "showlegend": true,
         "showscale": false,
         "type": "mesh3d",
         "x": {
          "bdata": "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",
          "dtype": "f8"
         },
         "y": {
          "bdata": "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",
          "dtype": "f8"
         },
         "z": {
          "bdata": "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",
          "dtype": "f8"
         }
        },
        {
         "alphahull": 0,
         "color": "#3050F8",
         "hovertemplate": "%{meta.position}",
         "legendgroup": "Atoms",
         "meta": {
          "meta": {
           "Atoms_i": 1
          },
          "position": "(1.06, 4.11, 4.39)"
         },
         "name": "Atoms",
         "opacity": 1,
         "showlegend": false,
         "showscale": false,
         "type": "mesh3d",
         "x": {
          "bdata": "4NYfWafr8D/g1h9Zp+vwP+DWH1mn6/A/4NYfWafr8D/g1h9Zp+vwP+DWH1mn6/A/4NYfWafr8D/g1h9Zp+vwP+DWH1mn6/A/4NYfWafr8D/g1h9Zp+vwP+DWH1mn6/A/4NYfWafr8D/g1h9Zp+vwP+DWH1mn6/A/bKPQNRDq8j8t8yxShLfyP9h6no7jKfI/0MTpAztd8T/w6FWuE3rwP9FlQkfWWu8/JnUlwJQ/7j+pFN74fNrtPyZ1JcCUP+4/0WVCR9Za7z/w6FWuE3rwP9DE6QM7XfE/2HqejuMp8j8t8yxShLfyP2yj0DUQ6vI/hQiR/eDO9D9ws3cSUmz0PyHFIZwqWPM/ZIECtRzJ8T9cLD39MQ7wPz7ROyxI/uw/ofSPP/nV6j91Sl1p2xDqP6D0jz/51eo/PdE7LEj+7D9cLD39MQ7wP2SBArUcyfE/IcUhnCpY8z9ws3cSUmz0P4UIkf3gzvQ/BtzqJ8qB9j+xY1xkKfT1PxWFdTJUZ/Q/2HqejuMp8j/RZUJH1lrvP1ZRlP/03+o/H5TGm0rG5z90o6kUCavmPx6UxptKxuc/VVGU//Tf6j/QZUJH1lrvP9d6no7jKfI/FYV1MlRn9D+wY1xkKfT1Pwbc6ifKgfY/AJDPy/zs9z/H9pJAZDv3P/RdWm7HSfU/nRo/QLV68j9GJgHkMrnuP5ifyocOG+k/821Z49Q35T+BO+DMo9TjP/JtWePUN+U/mJ/Khw4b6T9FJgHkMrnuP50aP0C1evI/9F1absdJ9T/G9pJAZDv3PwCQz8v87Pc/9iPokkL++D/ubTMImjH4P7FjXGQp9PU/LfMsUoS38j8mdSXAlD/uPx+UxptKxuc/pH8YVGlL4z+VE68+GLLhP6R/GFRpS+M/HpTGm0rG5z8ldSXAlD/uPy3zLFKEt/I/sGNcZCn09T/ubTMImjH4P/Yj6JJC/vg/COWUg+en+T+EOrIncsr4P0NMsOTuXfY/s29YK0Td8j8bfM4NFfTtP/vCHpu/8uY/eeYaFbkZ4j9wkVVdzl7gP3jmGhW5GeI/+sIem7/y5j8afM4NFfTtP7JvWCtE3fI/Qkyw5O5d9j+EOrIncsr4PwjllIPnp/k/1v976Gnh+T/2I+iSQv74Pwbc6ifKgfY/bKPQNRDq8j+pFN74fNrtP3SjqRQJq+Y/lROvPhiy4T+otw4nk9ffP5UTrz4YsuE/cqOpFAmr5j+oFN74fNrtP2uj0DUQ6vI/BtzqJ8qB9j/2I+iSQv74P9b/e+hp4fk/COWUg+en+T+EOrIncsr4P0NMsOTuXfY/s29YK0Td8j8bfM4NFfTtP/vCHpu/8uY/eeYaFbkZ4j9wkVVdzl7gP3jmGhW5GeI/+sIem7/y5j8afM4NFfTtP7JvWCtE3fI/Qkyw5O5d9j+EOrIncsr4PwjllIPnp/k/9iPokkL++D/ubTMImjH4P7FjXGQp9PU/LfMsUoS38j8mdSXAlD/uPx+UxptKxuc/pH8YVGlL4z+VE68+GLLhP6R/GFRpS+M/HpTGm0rG5z8ldSXAlD/uPy3zLFKEt/I/sGNcZCn09T/ubTMImjH4P/Yj6JJC/vg/AJDPy/zs9z/H9pJAZDv3P/RdWm7HSfU/nRo/QLV68j9GJgHkMrnuP5ifyocOG+k/8m1Z49Q35T+AO+DMo9TjP/JtWePUN+U/l5/Khw4b6T9FJgHkMrnuP50aP0C1evI/9F1absdJ9T/H9pJAZDv3PwCQz8v87Pc/BtzqJ8qB9j+xY1xkKfT1PxWFdTJUZ/Q/2HqejuMp8j/RZUJH1lrvP1ZRlP/03+o/HpTGm0rG5z9zo6kUCavmPx6UxptKxuc/VVGU//Tf6j/QZUJH1lrvP9d6no7jKfI/FYV1MlRn9D+xY1xkKfT1Pwbc6ifKgfY/hgiR/eDO9D9ws3cSUmz0PyLFIZwqWPM/ZIECtRzJ8T9cLD39MQ7wPz3ROyxI/uw/oPSPP/nV6j91Sl1p2xDqP6D0jz/51eo/PdE7LEj+7D9cLD39MQ7wP2SBArUcyfE/IcUhnCpY8z9ws3cSUmz0P4YIkf3gzvQ/bKPQNRDq8j8u8yxShLfyP9h6no7jKfI/0MTpAztd8T/w6FWuE3rwP9BlQkfWWu8/JXUlwJQ/7j+oFN74fNrtPyV1JcCUP+4/0GVCR9Za7z/w6FWuE3rwP9DE6QM7XfE/2HqejuMp8j8t8yxShLfyP2yj0DUQ6vI/4NYfWafr8D/g1h9Zp+vwP+DWH1mn6/A/4NYfWafr8D/g1h9Zp+vwP+DWH1mn6/A/4NYfWafr8D/g1h9Zp+vwP+DWH1mn6/A/4NYfWafr8D/g1h9Zp+vwP+DWH1mn6/A/4NYfWafr8D/g1h9Zp+vwP+DWH1mn6/A/",
          "dtype": "f8"
         },
         "y": {
          "bdata": "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",
          "dtype": "f8"
         },
         "z": {
          "bdata": "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",
          "dtype": "f8"
         }
        },
        {
         "alphahull": 0,
         "color": "#3050F8",
         "hovertemplate": "%{meta.position}",
         "legendgroup": "Atoms",
         "meta": {
          "meta": {
           "Atoms_i": 2
          },
          "position": "(1.07, 0.01, 2.11)"
         },
         "name": "Atoms",
         "opacity": 1,
         "showlegend": false,
         "showscale": false,
         "type": "mesh3d",
         "x": {
          "bdata": "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",
          "dtype": "f8"
         },
         "y": {
          "bdata": "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",
          "dtype": "f8"
         },
         "z": {
          "bdata": "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",
          "dtype": "f8"
         }
        },
        {
         "alphahull": 0,
         "color": "#3050F8",
         "hovertemplate": "%{meta.position}",
         "legendgroup": "Atoms",
         "meta": {
          "meta": {
           "Atoms_i": 3
          },
          "position": "(2.33, 4.13, 2.11)"
         },
         "name": "Atoms",
         "opacity": 1,
         "showlegend": false,
         "showscale": false,
         "type": "mesh3d",
         "x": {
          "bdata": "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",
          "dtype": "f8"
         },
         "y": {
          "bdata": "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",
          "dtype": "f8"
         },
         "z": {
          "bdata": "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",
          "dtype": "f8"
         }
        },
        {
         "alphahull": 0,
         "color": "#FFB5B5",
         "hovertemplate": "%{meta.position}",
         "legendgroup": "Atoms",
         "meta": {
          "meta": {
           "Atoms_i": 4
          },
          "position": "(2.32, 0.00, 2.84)"
         },
         "name": "Atoms",
         "opacity": 1,
         "showlegend": false,
         "showscale": false,
         "type": "mesh3d",
         "x": {
          "bdata": "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",
          "dtype": "f8"
         },
         "y": {
          "bdata": "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",
          "dtype": "f8"
         },
         "z": {
          "bdata": "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",
          "dtype": "f8"
         }
        },
        {
         "alphahull": 0,
         "color": "#FFB5B5",
         "hovertemplate": "%{meta.position}",
         "legendgroup": "Atoms",
         "meta": {
          "meta": {
           "Atoms_i": 5
          },
          "position": "(1.06, 4.11, 2.84)"
         },
         "name": "Atoms",
         "opacity": 1,
         "showlegend": false,
         "showscale": false,
         "type": "mesh3d",
         "x": {
          "bdata": "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",
          "dtype": "f8"
         },
         "y": {
          "bdata": "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",
          "dtype": "f8"
         },
         "z": {
          "bdata": "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",
          "dtype": "f8"
         }
        },
        {
         "alphahull": 0,
         "color": "#FFB5B5",
         "hovertemplate": "%{meta.position}",
         "legendgroup": "Atoms",
         "meta": {
          "meta": {
           "Atoms_i": 6
          },
          "position": "(1.06, 0.02, 0.65)"
         },
         "name": "Atoms",
         "opacity": 1,
         "showlegend": false,
         "showscale": false,
         "type": "mesh3d",
         "x": {
          "bdata": "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",
          "dtype": "f8"
         },
         "y": {
          "bdata": "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",
          "dtype": "f8"
         },
         "z": {
          "bdata": "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",
          "dtype": "f8"
         }
        },
        {
         "alphahull": 0,
         "color": "#FFB5B5",
         "hovertemplate": "%{meta.position}",
         "legendgroup": "Atoms",
         "meta": {
          "meta": {
           "Atoms_i": 7
          },
          "position": "(2.32, 4.11, 0.64)"
         },
         "name": "Atoms",
         "opacity": 1,
         "showlegend": false,
         "showscale": false,
         "type": "mesh3d",
         "x": {
          "bdata": "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",
          "dtype": "f8"
         },
         "y": {
          "bdata": "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",
          "dtype": "f8"
         },
         "z": {
          "bdata": "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",
          "dtype": "f8"
         }
        },
        {
         "meta": {},
         "mode": "lines",
         "name": "Unit cell",
         "type": "scatter3d",
         "x": {
          "bdata": "AAAAAAAAAAAAAAAAAAAAANjYJaq3RgRA2NglqrdGBEAAAAAAAAAAAAAAAAAAAAAAAAAAAAAA+H8AAAAAAAAAAAAAAAAAAAAAAAAAAAAAAADY2CWqt0YEQNjYJaq3RgRAAAAAAAAAAAAAAAAAAAD4f9jYJaq3RgRA2NglqrdGBEAAAAAAAAD4f9jYJaq3RgRA2NglqrdGBEA=",
          "dtype": "f8"
         },
         "y": {
          "bdata": "AAAAAAAAAAAwDcNHxIQgQDANw0fEhCBAMA3DR8SEIEAwDcNHxIQgQDANw0fEhCBAAAAAAAAA+H8wDcNHxIQgQAAAAAAAAAAAAAAAAAAAAAAAAAAAAAAAAAAAAAAAAAAAAAAAAAAAAAAAAAAAAAD4fzANw0fEhCBAAAAAAAAAAAAAAAAAAAD4fzANw0fEhCBAAAAAAAAAAAA=",
          "dtype": "f8"
         },
         "z": {
          "bdata": "AAAAAAAAAAAAAAAAAAAAAAAAAAAAAAAAPu3w12TtEUA+7fDXZO0RQAAAAAAAAAAAAAAAAAAA+H8+7fDXZO0RQD7t8Ndk7RFAAAAAAAAAAAAAAAAAAAAAAD7t8Ndk7RFAPu3w12TtEUAAAAAAAAD4fwAAAAAAAAAAAAAAAAAAAAAAAAAAAAD4fz7t8Ndk7RFAPu3w12TtEUA=",
          "dtype": "f8"
         }
        }
       ],
       "layout": {
        "autosize": false,
        "height": 800,
        "scene": {
         "aspectmode": "data",
         "xaxis": {
          "title": {
           "text": "X axis [Ang]"
          }
         },
         "yaxis": {
          "title": {
           "text": "Y axis [Ang]"
          }
         },
         "zaxis": {
          "title": {
           "text": "Z axis [Ang]"
          }
         }
        },
        "showlegend": false,
        "template": {
         "layout": {
          "hovermode": "closest",
          "paper_bgcolor": "white",
          "plot_bgcolor": "white",
          "scene": {
           "xaxis": {
            "color": "black",
            "gridcolor": "#ccc",
            "gridwidth": 1,
            "linewidth": 1,
            "mirror": true,
            "showgrid": false,
            "showline": true,
            "ticklen": 5,
            "ticks": "outside",
            "ticksuffix": " ",
            "visible": true,
            "zeroline": false,
            "zerolinecolor": "#ccc",
            "zerolinewidth": 1
           },
           "yaxis": {
            "color": "black",
            "gridcolor": "#ccc",
            "gridwidth": 1,
            "linewidth": 1,
            "mirror": true,
            "showgrid": false,
            "showline": true,
            "ticklen": 5,
            "ticks": "outside",
            "ticksuffix": " ",
            "visible": true,
            "zeroline": false,
            "zerolinecolor": "#ccc",
            "zerolinewidth": 1
           },
           "zaxis": {
            "color": "black",
            "gridcolor": "#ccc",
            "gridwidth": 1,
            "linewidth": 1,
            "mirror": true,
            "showgrid": false,
            "showline": true,
            "ticklen": 5,
            "ticks": "outside",
            "ticksuffix": " ",
            "visible": true,
            "zeroline": false,
            "zerolinecolor": "#ccc",
            "zerolinewidth": 1
           }
          },
          "xaxis": {
           "color": "black",
           "gridcolor": "#ccc",
           "gridwidth": 1,
           "linewidth": 1,
           "mirror": true,
           "showgrid": false,
           "showline": true,
           "ticklen": 5,
           "ticks": "outside",
           "ticksuffix": " ",
           "visible": true,
           "zeroline": false,
           "zerolinecolor": "#ccc",
           "zerolinewidth": 1
          },
          "yaxis": {
           "color": "black",
           "gridcolor": "#ccc",
           "gridwidth": 1,
           "linewidth": 1,
           "mirror": true,
           "showgrid": false,
           "showline": true,
           "ticklen": 5,
           "ticks": "outside",
           "ticksuffix": " ",
           "visible": true,
           "zeroline": false,
           "zerolinecolor": "#ccc",
           "zerolinewidth": 1
          }
         }
        },
        "width": 800,
        "xaxis": {
         "scaleanchor": "y",
         "scaleratio": 1,
         "title": {
          "text": "X axis [Ang]"
         }
        },
        "yaxis": {
         "title": {
          "text": "Y axis [Ang]"
         }
        }
       }
      }
     },
     "metadata": {},
     "output_type": "display_data"
    },
    {
     "data": {
      "text/plain": [
       "array([7, 7, 7, 7, 5, 5, 5, 5], dtype=int32)"
      ]
     },
     "execution_count": 17,
     "metadata": {},
     "output_type": "execute_result"
    }
   ],
   "source": [
    "# 1. Plot structure\n",
    "# path = Path(\"../dataset/SHARE_OUTPUTS_2_ATOMS/0953-8dcf-411e-ae7b-00f794981cc5\") # B-N Overlapped\n",
    "# path = Path(\"../dataset/SHARE_OUTPUTS_2_ATOMS/c0e0-7549-496d-82e7-c3f6b1d81e58\") # B-N No overlapped\n",
    "\n",
    "# Boron: Grey\n",
    "# path = Path(\"../dataset/SHARE_OUTPUTS_2_ATOMS/2e65-1feb-4df2-8836-e5513b9bade0\") # B-B Overlapped\n",
    "# path = Path(\"../dataset/SHARE_OUTPUTS_2_ATOMS/7e20-9cdf-4b2c-8134-6cadc8f64c34\") # B-B No overlapped\n",
    "# path = Path(\"../dataset/SHARE_OUTPUTS_2_ATOMS/a4f7-5d3f-4e50-9eda-87df3bf9ba58\") # B-B No overlapped (Pero sí en la siguiente cell)\n",
    "\n",
    "# path = Path(\"../dataset/SHARE_OUTPUTS_8_ATOMS/39cf-a27b-42dd-a62e-62556132a798\") #Hexagonal\n",
    "# path = Path(\"../dataset/SHARE_OUTPUTS_8_ATOMS/11ad-ba95-4a26-8f92-5267f5787553\") #Cubic\n",
    "\n",
    "#Val:\n",
    "path = Path(\"../dataset/SHARE_OUTPUTS_2_ATOMS/fc1c-6ab6-4c0e-921e-99710e6fe41b\") #N-N Small overlapped\n",
    "path = Path(\"../dataset/SHARE_OUTPUTS_2_ATOMS/f016-fb0e-4d5c-b584-4f8987eb5676\") #N-N No overlapped\n",
    "\n",
    "path = Path(\"../dataset/SHARE_OUTPUTS_2_ATOMS/a4e4-2f64-4e68-a37a-9e84eb767a0c\") # B-B No overlapped\n",
    "path = Path(\"../dataset/SHARE_OUTPUTS_2_ATOMS/7bbb-6d51-41eb-9de4-329298202ebf\") # B-B overlapped\n",
    "\n",
    "path = Path(\"../dataset/SHARE_OUTPUTS_8_ATOMS/173e-fad7-4f78-8350-6759a5471596\") #Cubic\n",
    "path = Path(\"../dataset/SHARE_OUTPUTS_8_ATOMS/4b9b-20df-4fe5-a669-88ff91902e97\") #Hexagonal\n",
    "\n",
    "# Report:\n",
    "path = Path(\"../dataset/SHARE_OUTPUTS_8_ATOMS/0b9e-8905-4d8f-aee8-92b8c892c484\") # 8 atms cubic\n",
    "path = Path(\"../dataset/SHARE_OUTPUTS_8_ATOMS/82b3-4886-4447-b723-43a3ec6aa15c\") #8 atm hBN physical\n",
    "\n",
    "path = Path(\"../dataset/SHARE_OUTPUTS_64_ATOMS/5dfc-7444-43ac-a2b0-db75f49a7bb9\")\n",
    "path = Path(\"../dataset/SHARE_OUTPUTS_64_ATOMS/342f-eb3b-4268-820f-747c3936102b\")\n",
    "path = Path(\"../dataset/SHARE_OUTPUTS_64_ATOMS/16d6-8097-4bb8-9819-38b7f0f4dfad\")\n",
    "\n",
    "# Report:\n",
    "path = Path(\"../dataset/SHARE_OUTPUTS_2_ATOMS/d249-97ce-4fdf-8948-cfce4078c8ac\") # Training B-N overlap\n",
    "path = Path(\"../dataset/SHARE_OUTPUTS_2_ATOMS/0a4c-6759-46e6-bf5e-6439eefcaad2\") # Val B-N no overlap\n",
    "path = Path(\"../dataset/SHARE_OUTPUTS_2_ATOMS/abf6-ddbd-4c06-b266-c1d188d0f599\") # Training B-B nears\n",
    "path = Path(\"../dataset/SHARE_OUTPUTS_2_ATOMS/f7bc-fcea-4f67-9e15-4bd1ef5678df\") # Val B-B overlap --\n",
    "path = Path(\"../dataset/SHARE_OUTPUTS_2_ATOMS/e486-4f49-4560-a4d2-0363fd9b5157\") # Training N-N overlap\n",
    "path = Path(\"../dataset/SHARE_OUTPUTS_2_ATOMS/2aa6-e839-4ca4-9e63-0cc27be5f76f\") # Val N-N Overlap\n",
    "path = Path(\"../dataset/SHARE_OUTPUTS_2_ATOMS/18a7-265b-4fbf-aae4-52fb83b4760f\"), # Val B-B Overlap AMBOS 2-8 Y 2-8-64\n",
    "\n",
    "# Path(\"dataset/SHARE_OUTPUTS_2_ATOMS/2aa6-e839-4ca4-9e63-0cc27be5f76f\"), # Val N-N Overlap SOLO EN 2-8 -- NOOOOOOO\n",
    "Path(\"dataset/SHARE_OUTPUTS_2_ATOMS/0a4c-6759-46e6-bf5e-6439eefcaad2\"), # Val B-N no overlap SOLO EN 2-8\n",
    "\n",
    "path = Path(\"../dataset/SHARE_OUTPUTS_8_ATOMS/e1df-2940-4ada-b9c0-d210a6bb2a19\") # Training cubic BN\n",
    "path = Path(\"../dataset/SHARE_OUTPUTS_8_ATOMS/4ed6-914e-4aa3-923a-53c873f0cc31\") # Val cubic BN 5e9e-df50-4bd8-861a-b544fa2116fe\n",
    "path = Path(\"../dataset/SHARE_OUTPUTS_8_ATOMS/2800-0707-4395-86fa-85a2b8ed818b\") # Training non physical hBN\n",
    "path = Path(\"../dataset/SHARE_OUTPUTS_8_ATOMS/33ef-ca33-4bf0-a36e-6e852deab7b5\") # VAl non physical hBN --\n",
    "path = Path(\"../dataset/SHARE_OUTPUTS_8_ATOMS/d4f5-6b48-494f-b1de-c7e944c09f38\") # Training physical hBN\n",
    "path = Path(\"../dataset/SHARE_OUTPUTS_8_ATOMS/5721-4d12-41f2-9f31-f7ee4fcf1096\") # Val physical hBN\n",
    "\n",
    "path = Path(\"../dataset/SHARE_OUTPUTS_64_ATOMS/99a9-5416-41e9-940d-70653c6897f9\") # Training 64 of 2-8-64 and 64\n",
    "path = Path(\"../dataset/SHARE_OUTPUTS_64_ATOMS/787c-11ce-4307-b603-b6c431698245\") # Training 64 of 2-8-64 and 64\n",
    "path = Path(\"../dataset/SHARE_OUTPUTS_64_ATOMS/806e-3a78-4e32-9aeb-35dc6e0df137\")  # Val 64 of 2-8-64 and 64\n",
    "path = Path(\"../dataset/SHARE_OUTPUTS_64_ATOMS/90b9-0d95-49d2-87ed-bd09def740fa\") # Val 64 of 2-8-64\n",
    "path = Path(\"../dataset/SHARE_OUTPUTS_64_ATOMS/d4f5-6b48-494f-b1de-c7e944c09f38\") # Val 64 of 64\n",
    "\n",
    "\n",
    "path = Path(\"../dataset/SHARE_OUTPUTS_8_ATOMS/f2b9-d7cc-4f42-9ccc-13dd371d22a5\")\n",
    "\n",
    "\n",
    "\n",
    "print(\"Plotting structure...\")\n",
    "file = sisl.get_sile(path / \"aiida.fdf\")\n",
    "fig = file.plot.geometry(axes=\"xyz\")\n",
    "# filepath = savedir_struct / f\"{n_atoms}atm_{structure}.png\"\n",
    "# fig.write_image(str(filepath))\n",
    "fig.update_layout(\n",
    "    autosize=False,\n",
    "    width=800,\n",
    "    height=800,\n",
    "    showlegend=False,\n",
    ")\n",
    "fig.show()\n",
    "file.read_geometry().atoms.Z"
   ]
  },
  {
   "cell_type": "code",
   "execution_count": 4,
   "id": "2ecec312",
   "metadata": {},
   "outputs": [
    {
     "ename": "ModuleNotFoundError",
     "evalue": "No module named 'tools'",
     "output_type": "error",
     "traceback": [
      "\u001b[31m---------------------------------------------------------------------------\u001b[39m",
      "\u001b[31mModuleNotFoundError\u001b[39m                       Traceback (most recent call last)",
      "\u001b[36mCell\u001b[39m\u001b[36m \u001b[39m\u001b[32mIn[4]\u001b[39m\u001b[32m, line 2\u001b[39m\n\u001b[32m      1\u001b[39m \u001b[38;5;66;03m# 2. Plot hamiltonian\u001b[39;00m\n\u001b[32m----> \u001b[39m\u001b[32m2\u001b[39m \u001b[38;5;28;01mfrom\u001b[39;00m\u001b[38;5;250m \u001b[39m\u001b[34;01mtools\u001b[39;00m\u001b[34;01m.\u001b[39;00m\u001b[34;01mplot\u001b[39;00m\u001b[38;5;250m \u001b[39m\u001b[38;5;28;01mimport\u001b[39;00m plot_error_matrices_big\n\u001b[32m      5\u001b[39m calculations_path = Path(\u001b[33m'\u001b[39m\u001b[33m../scripts/debug_data.joblib\u001b[39m\u001b[33m'\u001b[39m)\n\u001b[32m      7\u001b[39m data = load(calculations_path)\n",
      "\u001b[31mModuleNotFoundError\u001b[39m: No module named 'tools'"
     ]
    }
   ],
   "source": [
    "# 2. Plot hamiltonian\n",
    "from tools.plot import plot_error_matrices_big\n",
    "\n",
    "\n",
    "calculations_path = Path('../scripts/debug_data.joblib')\n",
    "\n",
    "data = load(calculations_path)\n",
    "\n",
    "print(f\"Loading data from {calculations_path}\")\n",
    "try:\n",
    "    data = load(calculations_path)\n",
    "    print(\"Results loaded!\")\n",
    "except FileNotFoundError:\n",
    "    raise FileNotFoundError(f\"Could not find the saved calculations at {calculations_path}\")\n",
    "\n",
    "# Reconstruct your tuples and labels\n",
    "train_data   = (data['train_true'],   data['train_pred'])\n",
    "val_data     = (data['val_true'],     data['val_pred'])\n",
    "train_labels = data['train_labels']\n",
    "val_labels   = data['val_labels']\n",
    "\n",
    "\n",
    "# Unpack for clarity\n",
    "train_true, train_pred = train_data\n",
    "val_true,   val_pred   = val_data\n",
    "\n",
    "n_train_samples = len(train_data[0])\n",
    "n_val_samples = len(val_data[0])\n",
    "\n",
    "print(\"Plotting hamiltonian...\")\n",
    "h_true = train_true[0]\n",
    "h_pred = train_pred[0]\n",
    "title = f\"test\"\n",
    "# filepath = savedir / f\"{n_atoms}atm_{structure}_hamiltonian.png\"\n",
    "plot_error_matrices_big(true_matrix=h_true.todense(), predicted_matrix=h_pred.todense())\n"
   ]
  },
  {
   "cell_type": "code",
   "execution_count": null,
   "id": "e69ddc4b",
   "metadata": {},
   "outputs": [],
   "source": []
  }
 ],
 "metadata": {
  "kernelspec": {
   "display_name": "graph2mat_upt",
   "language": "python",
   "name": "python3"
  },
  "language_info": {
   "codemirror_mode": {
    "name": "ipython",
    "version": 3
   },
   "file_extension": ".py",
   "mimetype": "text/x-python",
   "name": "python",
   "nbconvert_exporter": "python",
   "pygments_lexer": "ipython3",
   "version": "3.12.11"
  }
 },
 "nbformat": 4,
 "nbformat_minor": 5
}
