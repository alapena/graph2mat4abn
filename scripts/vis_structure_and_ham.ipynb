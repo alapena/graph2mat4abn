{
 "cells": [
  {
   "cell_type": "code",
   "execution_count": 1,
   "id": "619f3a92",
   "metadata": {},
   "outputs": [],
   "source": [
    "from joblib import dump, load\n",
    "from pathlib import Path\n",
    "import numpy as np\n",
    "import matplotlib.pyplot as plt\n",
    "import sisl\n",
    "\n",
    "def plot_hamiltonian_matplotlib(true_matrix, predicted_matrix, matrix_label=None, figure_title=None, predicted_matrix_text=None, filepath=None, force_max_colorbar_abs_error=None):\n",
    "    \"\"\"Matplotlib visualization of error matrices.\"\"\"\n",
    "\n",
    "    # Error matrices\n",
    "    absolute_error_matrix = true_matrix - predicted_matrix\n",
    "    threshold = 0.001\n",
    "    mask = true_matrix >= threshold\n",
    "    relative_error_matrix = np.where(mask, absolute_error_matrix / (true_matrix + threshold) * 100, 0)\n",
    "\n",
    "    # Colorbar limits\n",
    "    vmin = np.min([np.min(true_matrix), np.min(predicted_matrix)])\n",
    "    vmax = np.max([np.max(true_matrix), np.max(predicted_matrix)])\n",
    "    lim_data = max(np.abs(vmin), np.abs(vmax))\n",
    "\n",
    "    if force_max_colorbar_abs_error is None:\n",
    "        lim_abs = np.max(np.abs(absolute_error_matrix))\n",
    "    else:\n",
    "        lim_abs = force_max_colorbar_abs_error\n",
    "\n",
    "    lim_rel = 100.0  # %\n",
    "\n",
    "    cbar_limits = [lim_data, lim_data, lim_abs, lim_rel]\n",
    "\n",
    "    # Titles\n",
    "    if matrix_label is None:\n",
    "        matrix_label = ''\n",
    "    titles = [\n",
    "        \"True \" + matrix_label,\n",
    "        \"Predicted \" + matrix_label,\n",
    "        \"Absolute error (T-P)\",\n",
    "        f\"Relative error (T-P)/(T) (masked where T is above {threshold})\"\n",
    "    ]\n",
    "    cbar_titles = [\"eV\", \"eV\", \"eV\", \"%\"]\n",
    "\n",
    "    # Matrices to plot\n",
    "    matrices = [true_matrix, predicted_matrix, absolute_error_matrix, relative_error_matrix]\n",
    "\n",
    "    fig, axes = plt.subplots(4, 1, figsize=(10, 16), constrained_layout=True, gridspec_kw={'hspace': 0.15})\n",
    "    fig.suptitle(figure_title if figure_title else \"Matrix Comparison and Errors\", fontsize=16)\n",
    "\n",
    "    for i, (matrix, ax) in enumerate(zip(matrices, axes)):\n",
    "        im = ax.imshow(matrix, cmap='RdBu', vmin=-cbar_limits[i], vmax=cbar_limits[i])\n",
    "        ax.set_title(titles[i])\n",
    "        ax.set_ylabel(\"Row\")\n",
    "        cbar = fig.colorbar(im, ax=ax, orientation='vertical', fraction=0.045, pad=0.02)\n",
    "        cbar.set_label(cbar_titles[i])\n",
    "        ax.set_xlabel(\"Col\")\n",
    "        ax.set_aspect('auto')\n",
    "\n",
    "    # Text under predicted matrix (subplot 2)\n",
    "    if predicted_matrix_text is not None:\n",
    "        axes[1].text(1.0, -0.25, predicted_matrix_text, ha='right', va='center', fontsize=10, transform=axes[1].transAxes)\n",
    "\n",
    "    # Absolute error stats (exclude zeros for stats)\n",
    "    abs_err_nonzero = np.abs(absolute_error_matrix)[absolute_error_matrix != 0]\n",
    "    if abs_err_nonzero.size > 0:\n",
    "        mean_abs = np.mean(abs_err_nonzero)\n",
    "        std_abs = np.std(abs_err_nonzero)\n",
    "    else:\n",
    "        mean_abs = std_abs = 0.0\n",
    "    max_absolute_error = np.max(absolute_error_matrix)\n",
    "    min_absolute_error = np.min(absolute_error_matrix)\n",
    "    max_abs = np.max(np.abs([max_absolute_error, min_absolute_error]))\n",
    "\n",
    "    fig.text(\n",
    "        0.5, 0.245,\n",
    "        f\"mean_nnz(|T-P|) = {mean_abs:.3f} eV, std_nnz(|T-P|) = {std_abs:.3f} eV, |max| = {max_abs:.3f} eV\",\n",
    "        ha='center', va='center', fontsize=11,\n",
    "    )\n",
    "\n",
    "    # Relative error stats (exclude zeros for stats)\n",
    "    rel_err_nonzero = np.abs(relative_error_matrix)[relative_error_matrix != 0]\n",
    "    if rel_err_nonzero.size > 0:\n",
    "        mean_rel = np.mean(rel_err_nonzero)\n",
    "        std_rel = np.std(rel_err_nonzero)\n",
    "    else:\n",
    "        mean_rel = std_rel = 0.0\n",
    "    max_relative_error = np.max(relative_error_matrix)\n",
    "    min_relative_error = np.min(relative_error_matrix)\n",
    "    max_abs_rel = np.max(np.abs([max_relative_error, min_relative_error]))\n",
    "\n",
    "    fig.text(\n",
    "        0.5, 0.001,\n",
    "        f\"mean_nnz(|T-P|) = {mean_rel:.3f} %, std_nnz(|T-P|) = {std_rel:.3f} %, |max| = {max_abs_rel:.3f} %\",\n",
    "        ha='center', va='center', fontsize=11,\n",
    "    )\n",
    "    axes[-1].set_xlabel(\" \")\n",
    "\n",
    "    # Output\n",
    "    if filepath:\n",
    "        plt.savefig(filepath, dpi=150, bbox_inches='tight')\n",
    "        plt.close(fig)\n",
    "    else:\n",
    "        plt.show()\n",
    "        plt.close(fig)"
   ]
  },
  {
   "cell_type": "code",
   "execution_count": null,
   "id": "dbe54e5e",
   "metadata": {},
   "outputs": [
    {
     "name": "stdout",
     "output_type": "stream",
     "text": [
      "Plotting structure...\n"
     ]
    },
    {
     "data": {
      "application/vnd.plotly.v1+json": {
       "config": {
        "plotlyServerURL": "https://plot.ly"
       },
       "data": [
        {
         "line": {
          "color": "gray",
          "width": 10
         },
         "meta": {},
         "mode": "lines",
         "name": "Bonds",
         "opacity": 1,
         "type": "scatter3d",
         "x": {
          "bdata": "AAAAAAAAAAAAAAAAAAAAAAAAAAAAAAAAAAAAAAAAAAAAAAAAAAAAAAAAAAAAAAAAAAAAAAAAAAAAAAAAAAAAAAAAAAAAAAAAAAAAAAAAAAAAAAAAAAAAAAAAAAAAAAAAAAAAAAAAAAAAAAAAAAAAAAAAAAAAAAAAAAAAAAAAAAAAAAAAAAAAAAAAAAAAAAAAAAAAAAAAAAAAAAAAAAAAAAAAAAAAAPh/",
          "dtype": "f8"
         },
         "y": {
          "bdata": "AAAAAAAAAAAAAAAAAAAAAAAAAAAAAAAAAAAAAAAAAAAAAAAAAAAAAAAAAAAAAAAAAAAAAAAAAAAAAAAAAAAAAAAAAAAAAAAAAAAAAAAAAAAAAAAAAAAAAAAAAAAAAAAAAAAAAAAAAAAAAAAAAAAAAAAAAAAAAAAAAAAAAAAAAAAAAAAAAAAAAAAAAAAAAAAAAAAAAAAAAAAAAAAAAAAAAAAAAAAAAPh/",
          "dtype": "f8"
         },
         "z": {
          "bdata": "bEZsCZeZCUBMOXMECiYJQC0sev98sghADR+B+u8+CEDtEYj1YssHQM4Ej/DVVwdArveV60jkBkCO6pzmu3AGQG/do+Eu/QVAT9Cq3KGJBUAvw7HXFBYFQBC2uNKHogRA8Ki/zfouBEDQm8bIbbsDQLCOzcPgRwNAkYHUvlPUAkBxdNu5xmACQFJn4rQ57QFAMlrpr6x5AUASTfCqHwYBQAAAAAAAAPh/",
          "dtype": "f8"
         }
        },
        {
         "alphahull": 0,
         "color": "#FFB5B5",
         "hovertemplate": "%{meta.position}",
         "legendgroup": "Atoms",
         "meta": {
          "meta": {
           "Atoms_i": 0
          },
          "position": "(0.00, 0.00, 3.20)"
         },
         "name": "Atoms",
         "opacity": 1,
         "showlegend": true,
         "showscale": false,
         "type": "mesh3d",
         "x": {
          "bdata": "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",
          "dtype": "f8"
         },
         "y": {
          "bdata": "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",
          "dtype": "f8"
         },
         "z": {
          "bdata": "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",
          "dtype": "f8"
         }
        },
        {
         "alphahull": 0,
         "color": "#FFB5B5",
         "hovertemplate": "%{meta.position}",
         "legendgroup": "Atoms",
         "meta": {
          "meta": {
           "Atoms_i": 1
          },
          "position": "(0.00, 0.00, 2.13)"
         },
         "name": "Atoms",
         "opacity": 1,
         "showlegend": false,
         "showscale": false,
         "type": "mesh3d",
         "x": {
          "bdata": "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",
          "dtype": "f8"
         },
         "y": {
          "bdata": "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",
          "dtype": "f8"
         },
         "z": {
          "bdata": "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",
          "dtype": "f8"
         }
        },
        {
         "meta": {},
         "mode": "lines",
         "name": "Unit cell",
         "type": "scatter3d",
         "x": {
          "bdata": "AAAAAAAAAAAAAAAAAAAAAJRqn47HzAxAlGqfjsfMDEAAAAAAAAAAAAAAAAAAAAAAAAAAAAAA+H8AAAAAAAAAAAAAAAAAAAAAAAAAAAAAAACUap+Ox8wMQJRqn47HzAxAAAAAAAAAAAAAAAAAAAD4f5Rqn47HzAxAlGqfjsfMDEAAAAAAAAD4f5Rqn47HzAxAlGqfjsfMDEA=",
          "dtype": "f8"
         },
         "y": {
          "bdata": "AAAAAAAAAACUap+Ox8wMQJRqn47HzAxAlGqfjsfMDECUap+Ox8wMQJRqn47HzAxAAAAAAAAA+H+Uap+Ox8wMQAAAAAAAAAAAAAAAAAAAAAAAAAAAAAAAAAAAAAAAAAAAAAAAAAAAAAAAAAAAAAD4f5Rqn47HzAxAAAAAAAAAAAAAAAAAAAD4f5Rqn47HzAxAAAAAAAAAAAA=",
          "dtype": "f8"
         },
         "z": {
          "bdata": "AAAAAAAAAAAAAAAAAAAAAAAAAAAAAAAAlGqfjsfMDECUap+Ox8wMQAAAAAAAAAAAAAAAAAAA+H+Uap+Ox8wMQJRqn47HzAxAAAAAAAAAAAAAAAAAAAAAAJRqn47HzAxAlGqfjsfMDEAAAAAAAAD4fwAAAAAAAAAAAAAAAAAAAAAAAAAAAAD4f5Rqn47HzAxAlGqfjsfMDEA=",
          "dtype": "f8"
         }
        }
       ],
       "layout": {
        "autosize": false,
        "height": 800,
        "scene": {
         "aspectmode": "data",
         "xaxis": {
          "title": {
           "text": "X axis [Ang]"
          }
         },
         "yaxis": {
          "title": {
           "text": "Y axis [Ang]"
          }
         },
         "zaxis": {
          "title": {
           "text": "Z axis [Ang]"
          }
         }
        },
        "showlegend": false,
        "template": {
         "layout": {
          "hovermode": "closest",
          "paper_bgcolor": "white",
          "plot_bgcolor": "white",
          "scene": {
           "xaxis": {
            "color": "black",
            "gridcolor": "#ccc",
            "gridwidth": 1,
            "linewidth": 1,
            "mirror": true,
            "showgrid": false,
            "showline": true,
            "ticklen": 5,
            "ticks": "outside",
            "ticksuffix": " ",
            "visible": true,
            "zeroline": false,
            "zerolinecolor": "#ccc",
            "zerolinewidth": 1
           },
           "yaxis": {
            "color": "black",
            "gridcolor": "#ccc",
            "gridwidth": 1,
            "linewidth": 1,
            "mirror": true,
            "showgrid": false,
            "showline": true,
            "ticklen": 5,
            "ticks": "outside",
            "ticksuffix": " ",
            "visible": true,
            "zeroline": false,
            "zerolinecolor": "#ccc",
            "zerolinewidth": 1
           },
           "zaxis": {
            "color": "black",
            "gridcolor": "#ccc",
            "gridwidth": 1,
            "linewidth": 1,
            "mirror": true,
            "showgrid": false,
            "showline": true,
            "ticklen": 5,
            "ticks": "outside",
            "ticksuffix": " ",
            "visible": true,
            "zeroline": false,
            "zerolinecolor": "#ccc",
            "zerolinewidth": 1
           }
          },
          "xaxis": {
           "color": "black",
           "gridcolor": "#ccc",
           "gridwidth": 1,
           "linewidth": 1,
           "mirror": true,
           "showgrid": false,
           "showline": true,
           "ticklen": 5,
           "ticks": "outside",
           "ticksuffix": " ",
           "visible": true,
           "zeroline": false,
           "zerolinecolor": "#ccc",
           "zerolinewidth": 1
          },
          "yaxis": {
           "color": "black",
           "gridcolor": "#ccc",
           "gridwidth": 1,
           "linewidth": 1,
           "mirror": true,
           "showgrid": false,
           "showline": true,
           "ticklen": 5,
           "ticks": "outside",
           "ticksuffix": " ",
           "visible": true,
           "zeroline": false,
           "zerolinecolor": "#ccc",
           "zerolinewidth": 1
          }
         }
        },
        "width": 800,
        "xaxis": {
         "scaleanchor": "y",
         "scaleratio": 1,
         "title": {
          "text": "X axis [Ang]"
         }
        },
        "yaxis": {
         "title": {
          "text": "Y axis [Ang]"
         }
        }
       }
      }
     },
     "metadata": {},
     "output_type": "display_data"
    },
    {
     "data": {
      "text/plain": [
       "array([5, 5], dtype=int32)"
      ]
     },
     "execution_count": 6,
     "metadata": {},
     "output_type": "execute_result"
    }
   ],
   "source": [
    "# 1. Plot structure\n",
    "# path = Path(\"../dataset/SHARE_OUTPUTS_2_ATOMS/0953-8dcf-411e-ae7b-00f794981cc5\") # B-N Overlapped\n",
    "# path = Path(\"../dataset/SHARE_OUTPUTS_2_ATOMS/c0e0-7549-496d-82e7-c3f6b1d81e58\") # B-N No overlapped\n",
    "\n",
    "# Boron: Grey\n",
    "# path = Path(\"../dataset/SHARE_OUTPUTS_2_ATOMS/2e65-1feb-4df2-8836-e5513b9bade0\") # B-B Overlapped\n",
    "# path = Path(\"../dataset/SHARE_OUTPUTS_2_ATOMS/7e20-9cdf-4b2c-8134-6cadc8f64c34\") # B-B No overlapped\n",
    "# path = Path(\"../dataset/SHARE_OUTPUTS_2_ATOMS/a4f7-5d3f-4e50-9eda-87df3bf9ba58\") # B-B No overlapped (Pero sí en la siguiente cell)\n",
    "\n",
    "# path = Path(\"../dataset/SHARE_OUTPUTS_8_ATOMS/39cf-a27b-42dd-a62e-62556132a798\") #Hexagonal\n",
    "# path = Path(\"../dataset/SHARE_OUTPUTS_8_ATOMS/11ad-ba95-4a26-8f92-5267f5787553\") #Cubic\n",
    "\n",
    "#Val:\n",
    "path = Path(\"../dataset/SHARE_OUTPUTS_2_ATOMS/fc1c-6ab6-4c0e-921e-99710e6fe41b\") #N-N Small overlapped\n",
    "path = Path(\"../dataset/SHARE_OUTPUTS_2_ATOMS/f016-fb0e-4d5c-b584-4f8987eb5676\") #N-N No overlapped\n",
    "\n",
    "path = Path(\"../dataset/SHARE_OUTPUTS_2_ATOMS/a4e4-2f64-4e68-a37a-9e84eb767a0c\") # B-B No overlapped\n",
    "path = Path(\"../dataset/SHARE_OUTPUTS_2_ATOMS/7bbb-6d51-41eb-9de4-329298202ebf\") # B-B overlapped\n",
    "\n",
    "path = Path(\"../dataset/SHARE_OUTPUTS_8_ATOMS/173e-fad7-4f78-8350-6759a5471596\") #Cubic\n",
    "path = Path(\"../dataset/SHARE_OUTPUTS_8_ATOMS/4b9b-20df-4fe5-a669-88ff91902e97\") #Hexagonal\n",
    "\n",
    "# Report:\n",
    "path = Path(\"../dataset/SHARE_OUTPUTS_8_ATOMS/0b9e-8905-4d8f-aee8-92b8c892c484\") # 8 atms cubic\n",
    "path = Path(\"../dataset/SHARE_OUTPUTS_8_ATOMS/82b3-4886-4447-b723-43a3ec6aa15c\") #8 atm hBN physical\n",
    "\n",
    "path = Path(\"../dataset/SHARE_OUTPUTS_64_ATOMS/5dfc-7444-43ac-a2b0-db75f49a7bb9\")\n",
    "path = Path(\"../dataset/SHARE_OUTPUTS_64_ATOMS/342f-eb3b-4268-820f-747c3936102b\")\n",
    "path = Path(\"../dataset/SHARE_OUTPUTS_64_ATOMS/16d6-8097-4bb8-9819-38b7f0f4dfad\")\n",
    "\n",
    "# Report:\n",
    "path = Path(\"../dataset/SHARE_OUTPUTS_2_ATOMS/d249-97ce-4fdf-8948-cfce4078c8ac\") # Training B-N overlap\n",
    "path = Path(\"../dataset/SHARE_OUTPUTS_2_ATOMS/0a4c-6759-46e6-bf5e-6439eefcaad2\") # Val B-N no overlap\n",
    "path = Path(\"../dataset/SHARE_OUTPUTS_2_ATOMS/abf6-ddbd-4c06-b266-c1d188d0f599\") # Training B-B nears\n",
    "path = Path(\"../dataset/SHARE_OUTPUTS_2_ATOMS/f7bc-fcea-4f67-9e15-4bd1ef5678df\") # Val B-B overlap --\n",
    "path = Path(\"../dataset/SHARE_OUTPUTS_2_ATOMS/e486-4f49-4560-a4d2-0363fd9b5157\") # Training N-N overlap\n",
    "path = Path(\"../dataset/SHARE_OUTPUTS_2_ATOMS/2aa6-e839-4ca4-9e63-0cc27be5f76f\") # Val N-N Overlap\n",
    "path = Path(\"../dataset/SHARE_OUTPUTS_2_ATOMS/18a7-265b-4fbf-aae4-52fb83b4760f\"), # Val N-N Overlap AMBOS 2-8 Y 2-8-64\n",
    "\n",
    "path = Path(\"../dataset/SHARE_OUTPUTS_8_ATOMS/e1df-2940-4ada-b9c0-d210a6bb2a19\") # Training cubic BN\n",
    "path = Path(\"../dataset/SHARE_OUTPUTS_8_ATOMS/4ed6-914e-4aa3-923a-53c873f0cc31\") # Val cubic BN 5e9e-df50-4bd8-861a-b544fa2116fe\n",
    "path = Path(\"../dataset/SHARE_OUTPUTS_8_ATOMS/2800-0707-4395-86fa-85a2b8ed818b\") # Training non physical hBN\n",
    "path = Path(\"../dataset/SHARE_OUTPUTS_8_ATOMS/33ef-ca33-4bf0-a36e-6e852deab7b5\") # VAl non physical hBN --\n",
    "path = Path(\"../dataset/SHARE_OUTPUTS_8_ATOMS/d4f5-6b48-494f-b1de-c7e944c09f38\") # Training physical hBN\n",
    "path = Path(\"../dataset/SHARE_OUTPUTS_8_ATOMS/5721-4d12-41f2-9f31-f7ee4fcf1096\") # Val physical hBN\n",
    "\n",
    "path = Path(\"../dataset/SHARE_OUTPUTS_64_ATOMS/99a9-5416-41e9-940d-70653c6897f9\") # Training 64 of 2-8-64 and 64\n",
    "path = Path(\"../dataset/SHARE_OUTPUTS_64_ATOMS/787c-11ce-4307-b603-b6c431698245\") # Training 64 of 2-8-64 and 64\n",
    "path = Path(\"../dataset/SHARE_OUTPUTS_64_ATOMS/806e-3a78-4e32-9aeb-35dc6e0df137\")  # Val 64 of 2-8-64 and 64\n",
    "path = Path(\"../dataset/SHARE_OUTPUTS_64_ATOMS/90b9-0d95-49d2-87ed-bd09def740fa\") # Val 64 of 2-8-64\n",
    "path = Path(\"../dataset/SHARE_OUTPUTS_64_ATOMS/13df-16c2-48b8-aa26-9b0b4b906db2\") # Val 64 of 64\n",
    "\n",
    "\n",
    "path = Path(\"../dataset/SHARE_OUTPUTS_2_ATOMS/18a7-265b-4fbf-aae4-52fb83b4760f\")\n",
    "\n",
    "\n",
    "\n",
    "print(\"Plotting structure...\")\n",
    "file = sisl.get_sile(path / \"aiida.fdf\")\n",
    "fig = file.plot.geometry(axes=\"xyz\")\n",
    "# filepath = savedir_struct / f\"{n_atoms}atm_{structure}.png\"\n",
    "# fig.write_image(str(filepath))\n",
    "fig.update_layout(\n",
    "    autosize=False,\n",
    "    width=800,\n",
    "    height=800,\n",
    "    showlegend=False,\n",
    ")\n",
    "fig.show()\n",
    "file.read_geometry().atoms.Z"
   ]
  },
  {
   "cell_type": "code",
   "execution_count": 3,
   "id": "2ecec312",
   "metadata": {},
   "outputs": [
    {
     "ename": "ModuleNotFoundError",
     "evalue": "No module named 'tools'",
     "output_type": "error",
     "traceback": [
      "\u001b[31m---------------------------------------------------------------------------\u001b[39m",
      "\u001b[31mModuleNotFoundError\u001b[39m                       Traceback (most recent call last)",
      "\u001b[36mCell\u001b[39m\u001b[36m \u001b[39m\u001b[32mIn[3]\u001b[39m\u001b[32m, line 2\u001b[39m\n\u001b[32m      1\u001b[39m \u001b[38;5;66;03m# 2. Plot hamiltonian\u001b[39;00m\n\u001b[32m----> \u001b[39m\u001b[32m2\u001b[39m \u001b[38;5;28;01mfrom\u001b[39;00m\u001b[38;5;250m \u001b[39m\u001b[34;01mtools\u001b[39;00m\u001b[34;01m.\u001b[39;00m\u001b[34;01mplot\u001b[39;00m\u001b[38;5;250m \u001b[39m\u001b[38;5;28;01mimport\u001b[39;00m plot_error_matrices_big\n\u001b[32m      5\u001b[39m calculations_path = Path(\u001b[33m'\u001b[39m\u001b[33m../scripts/debug_data.joblib\u001b[39m\u001b[33m'\u001b[39m)\n\u001b[32m      7\u001b[39m data = load(calculations_path)\n",
      "\u001b[31mModuleNotFoundError\u001b[39m: No module named 'tools'"
     ]
    }
   ],
   "source": [
    "# 2. Plot hamiltonian\n",
    "from tools.plot import plot_error_matrices_big\n",
    "\n",
    "\n",
    "calculations_path = Path('../scripts/debug_data.joblib')\n",
    "\n",
    "data = load(calculations_path)\n",
    "\n",
    "print(f\"Loading data from {calculations_path}\")\n",
    "try:\n",
    "    data = load(calculations_path)\n",
    "    print(\"Results loaded!\")\n",
    "except FileNotFoundError:\n",
    "    raise FileNotFoundError(f\"Could not find the saved calculations at {calculations_path}\")\n",
    "\n",
    "# Reconstruct your tuples and labels\n",
    "train_data   = (data['train_true'],   data['train_pred'])\n",
    "val_data     = (data['val_true'],     data['val_pred'])\n",
    "train_labels = data['train_labels']\n",
    "val_labels   = data['val_labels']\n",
    "\n",
    "\n",
    "# Unpack for clarity\n",
    "train_true, train_pred = train_data\n",
    "val_true,   val_pred   = val_data\n",
    "\n",
    "n_train_samples = len(train_data[0])\n",
    "n_val_samples = len(val_data[0])\n",
    "\n",
    "print(\"Plotting hamiltonian...\")\n",
    "h_true = train_true[0]\n",
    "h_pred = train_pred[0]\n",
    "title = f\"test\"\n",
    "# filepath = savedir / f\"{n_atoms}atm_{structure}_hamiltonian.png\"\n",
    "plot_error_matrices_big(true_matrix=h_true.todense(), predicted_matrix=h_pred.todense())\n"
   ]
  },
  {
   "cell_type": "code",
   "execution_count": null,
   "id": "e69ddc4b",
   "metadata": {},
   "outputs": [],
   "source": []
  }
 ],
 "metadata": {
  "kernelspec": {
   "display_name": "graph2mat_upt",
   "language": "python",
   "name": "python3"
  },
  "language_info": {
   "codemirror_mode": {
    "name": "ipython",
    "version": 3
   },
   "file_extension": ".py",
   "mimetype": "text/x-python",
   "name": "python",
   "nbconvert_exporter": "python",
   "pygments_lexer": "ipython3",
   "version": "3.12.11"
  }
 },
 "nbformat": 4,
 "nbformat_minor": 5
}
