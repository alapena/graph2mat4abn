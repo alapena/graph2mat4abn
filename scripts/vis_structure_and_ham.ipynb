{
 "cells": [
  {
   "cell_type": "code",
   "execution_count": 2,
   "id": "619f3a92",
   "metadata": {},
   "outputs": [],
   "source": [
    "from joblib import dump, load\n",
    "from pathlib import Path\n",
    "import numpy as np\n",
    "import matplotlib.pyplot as plt\n",
    "import sisl\n",
    "\n",
    "def plot_hamiltonian_matplotlib(true_matrix, predicted_matrix, matrix_label=None, figure_title=None, predicted_matrix_text=None, filepath=None, force_max_colorbar_abs_error=None):\n",
    "    \"\"\"Matplotlib visualization of error matrices.\"\"\"\n",
    "\n",
    "    # Error matrices\n",
    "    absolute_error_matrix = true_matrix - predicted_matrix\n",
    "    threshold = 0.001\n",
    "    mask = true_matrix >= threshold\n",
    "    relative_error_matrix = np.where(mask, absolute_error_matrix / (true_matrix + threshold) * 100, 0)\n",
    "\n",
    "    # Colorbar limits\n",
    "    vmin = np.min([np.min(true_matrix), np.min(predicted_matrix)])\n",
    "    vmax = np.max([np.max(true_matrix), np.max(predicted_matrix)])\n",
    "    lim_data = max(np.abs(vmin), np.abs(vmax))\n",
    "\n",
    "    if force_max_colorbar_abs_error is None:\n",
    "        lim_abs = np.max(np.abs(absolute_error_matrix))\n",
    "    else:\n",
    "        lim_abs = force_max_colorbar_abs_error\n",
    "\n",
    "    lim_rel = 100.0  # %\n",
    "\n",
    "    cbar_limits = [lim_data, lim_data, lim_abs, lim_rel]\n",
    "\n",
    "    # Titles\n",
    "    if matrix_label is None:\n",
    "        matrix_label = ''\n",
    "    titles = [\n",
    "        \"True \" + matrix_label,\n",
    "        \"Predicted \" + matrix_label,\n",
    "        \"Absolute error (T-P)\",\n",
    "        f\"Relative error (T-P)/(T) (masked where T is above {threshold})\"\n",
    "    ]\n",
    "    cbar_titles = [\"eV\", \"eV\", \"eV\", \"%\"]\n",
    "\n",
    "    # Matrices to plot\n",
    "    matrices = [true_matrix, predicted_matrix, absolute_error_matrix, relative_error_matrix]\n",
    "\n",
    "    fig, axes = plt.subplots(4, 1, figsize=(10, 16), constrained_layout=True, gridspec_kw={'hspace': 0.15})\n",
    "    fig.suptitle(figure_title if figure_title else \"Matrix Comparison and Errors\", fontsize=16)\n",
    "\n",
    "    for i, (matrix, ax) in enumerate(zip(matrices, axes)):\n",
    "        im = ax.imshow(matrix, cmap='RdBu', vmin=-cbar_limits[i], vmax=cbar_limits[i])\n",
    "        ax.set_title(titles[i])\n",
    "        ax.set_ylabel(\"Row\")\n",
    "        cbar = fig.colorbar(im, ax=ax, orientation='vertical', fraction=0.045, pad=0.02)\n",
    "        cbar.set_label(cbar_titles[i])\n",
    "        ax.set_xlabel(\"Col\")\n",
    "        ax.set_aspect('auto')\n",
    "\n",
    "    # Text under predicted matrix (subplot 2)\n",
    "    if predicted_matrix_text is not None:\n",
    "        axes[1].text(1.0, -0.25, predicted_matrix_text, ha='right', va='center', fontsize=10, transform=axes[1].transAxes)\n",
    "\n",
    "    # Absolute error stats (exclude zeros for stats)\n",
    "    abs_err_nonzero = np.abs(absolute_error_matrix)[absolute_error_matrix != 0]\n",
    "    if abs_err_nonzero.size > 0:\n",
    "        mean_abs = np.mean(abs_err_nonzero)\n",
    "        std_abs = np.std(abs_err_nonzero)\n",
    "    else:\n",
    "        mean_abs = std_abs = 0.0\n",
    "    max_absolute_error = np.max(absolute_error_matrix)\n",
    "    min_absolute_error = np.min(absolute_error_matrix)\n",
    "    max_abs = np.max(np.abs([max_absolute_error, min_absolute_error]))\n",
    "\n",
    "    fig.text(\n",
    "        0.5, 0.245,\n",
    "        f\"mean_nnz(|T-P|) = {mean_abs:.3f} eV, std_nnz(|T-P|) = {std_abs:.3f} eV, |max| = {max_abs:.3f} eV\",\n",
    "        ha='center', va='center', fontsize=11,\n",
    "    )\n",
    "\n",
    "    # Relative error stats (exclude zeros for stats)\n",
    "    rel_err_nonzero = np.abs(relative_error_matrix)[relative_error_matrix != 0]\n",
    "    if rel_err_nonzero.size > 0:\n",
    "        mean_rel = np.mean(rel_err_nonzero)\n",
    "        std_rel = np.std(rel_err_nonzero)\n",
    "    else:\n",
    "        mean_rel = std_rel = 0.0\n",
    "    max_relative_error = np.max(relative_error_matrix)\n",
    "    min_relative_error = np.min(relative_error_matrix)\n",
    "    max_abs_rel = np.max(np.abs([max_relative_error, min_relative_error]))\n",
    "\n",
    "    fig.text(\n",
    "        0.5, 0.001,\n",
    "        f\"mean_nnz(|T-P|) = {mean_rel:.3f} %, std_nnz(|T-P|) = {std_rel:.3f} %, |max| = {max_abs_rel:.3f} %\",\n",
    "        ha='center', va='center', fontsize=11,\n",
    "    )\n",
    "    axes[-1].set_xlabel(\" \")\n",
    "\n",
    "    # Output\n",
    "    if filepath:\n",
    "        plt.savefig(filepath, dpi=150, bbox_inches='tight')\n",
    "        plt.close(fig)\n",
    "    else:\n",
    "        plt.show()\n",
    "        plt.close(fig)"
   ]
  },
  {
   "cell_type": "code",
   "execution_count": 5,
   "id": "dbe54e5e",
   "metadata": {},
   "outputs": [
    {
     "name": "stderr",
     "output_type": "stream",
     "text": [
      "INFO\tTask(Task-2) nodify.node.140068891738864:node.py:get()- Evaluated because inputs changed.\n",
      "INFO\tTask(Task-2) nodify.node.140068891745536:node.py:get()- Evaluated because inputs changed.\n",
      "INFO\tTask(Task-2) nodify.node.140068891688688:node.py:get()- Evaluated because inputs changed.\n",
      "INFO\tTask(Task-2) nodify.node.140068891746784:node.py:get()- Evaluated because inputs changed.\n",
      "INFO\tTask(Task-2) nodify.node.140068891681632:node.py:get()- Evaluated because inputs changed.\n",
      "INFO\tTask(Task-2) nodify.node.140068872719968:node.py:get()- Evaluated because inputs changed.\n",
      "INFO\tTask(Task-2) nodify.node.140068891745536:node.py:get()- No need to evaluate\n",
      "INFO\tTask(Task-2) nodify.node.140068891688688:node.py:get()- No need to evaluate\n",
      "INFO\tTask(Task-2) nodify.node.140068891746784:node.py:get()- No need to evaluate\n",
      "INFO\tTask(Task-2) nodify.node.140068891681632:node.py:get()- No need to evaluate\n",
      "INFO\tTask(Task-2) nodify.node.140068872719968:node.py:get()- No need to evaluate\n",
      "INFO\tTask(Task-2) nodify.node.140068891745536:node.py:get()- No need to evaluate\n",
      "INFO\tTask(Task-2) nodify.node.140068891741600:node.py:get()- Evaluated because inputs changed.\n",
      "INFO\tTask(Task-2) nodify.node.140068891677600:node.py:get()- Evaluated because inputs changed.\n",
      "INFO\tTask(Task-2) nodify.node.140068891741168:node.py:get()- Evaluated because inputs changed.\n",
      "INFO\tTask(Task-2) nodify.node.140068891746016:node.py:get()- Evaluated because inputs changed.\n",
      "INFO\tTask(Task-2) nodify.node.140068872720352:node.py:get()- Evaluated because inputs changed.\n",
      "INFO\tTask(Task-2) nodify.node.140068872721456:node.py:get()- Evaluated because inputs changed.\n",
      "INFO\tTask(Task-2) nodify.node.140068872723280:node.py:get()- Evaluated because inputs changed.\n",
      "INFO\tTask(Task-2) nodify.node.140068891753600:node.py:get()- Evaluated because inputs changed.\n",
      "INFO\tTask(Task-2) nodify.node.140068872722320:node.py:get()- Evaluated because inputs changed.\n",
      "INFO\tTask(Task-2) nodify.node.140068872721984:node.py:get()- Evaluated because inputs changed.\n",
      "INFO\tTask(Task-2) nodify.node.140068872720928:node.py:get()- Evaluated because inputs changed.\n",
      "INFO\tTask(Task-2) nodify.node.140068891754128:node.py:get()- Evaluated because inputs changed.\n",
      "INFO\tTask(Task-2) nodify.node.140068872723712:node.py:get()- Evaluated because inputs changed.\n",
      "INFO\tTask(Task-2) nodify.node.140068891746016:node.py:get()- No need to evaluate\n",
      "INFO\tTask(Task-2) nodify.node.140068872720352:node.py:get()- No need to evaluate\n",
      "INFO\tTask(Task-2) nodify.node.140068872718096:node.py:get()- Evaluated because inputs changed.\n",
      "INFO\tTask(Task-2) nodify.node.140081064933136:node.py:get()- Evaluated because inputs changed.\n",
      "INFO\tTask(Task-2) nodify.node.140068872718864:node.py:get()- Evaluated because inputs changed.\n",
      "INFO\tTask(Task-2) nodify.node.140068891747264:node.py:get()- Evaluated because inputs changed.\n",
      "INFO\tTask(Task-2) nodify.node.140068891746016:node.py:get()- No need to evaluate\n",
      "INFO\tTask(Task-2) nodify.node.140068872720352:node.py:get()- No need to evaluate\n",
      "INFO\tTask(Task-2) nodify.node.140068872721456:node.py:get()- No need to evaluate\n",
      "INFO\tTask(Task-2) nodify.node.140068891754416:node.py:get()- Evaluated because inputs changed.\n",
      "INFO\tTask(Task-2) nodify.node.140068872718000:node.py:get()- Evaluated because inputs changed.\n",
      "INFO\tTask(Task-2) nodify.node.140068872720688:node.py:get()- Evaluated because inputs changed.\n",
      "INFO\tTask(Task-2) nodify.node.140068891746016:node.py:get()- No need to evaluate\n",
      "INFO\tTask(Task-2) nodify.node.140068872720352:node.py:get()- No need to evaluate\n",
      "INFO\tTask(Task-2) nodify.node.140068872721456:node.py:get()- No need to evaluate\n",
      "INFO\tTask(Task-2) nodify.node.140068872719248:node.py:get()- Evaluated because inputs changed.\n",
      "INFO\tTask(Task-2) nodify.node.140068891738384:node.py:get()- Evaluated because inputs changed.\n",
      "INFO\tTask(Task-2) nodify.node.140068872717184:node.py:get()- Evaluated because inputs changed.\n",
      "INFO\tTask(Task-2) nodify.node.140068891745536:node.py:get()- No need to evaluate\n",
      "INFO\tTask(Task-2) nodify.node.140068891746160:node.py:get()- Evaluated because inputs changed.\n",
      "INFO\tTask(Task-2) nodify.node.140068872813216:node.py:get()- Evaluated because inputs changed.\n",
      "INFO\tTask(Task-2) nodify.node.140068891701328:node.py:get()- Evaluated because inputs changed.\n",
      "INFO\tTask(Task-2) nodify.node.140068891676544:node.py:get()- Evaluated because inputs changed.\n",
      "INFO\tTask(Task-2) nodify.node.140077726985984:node.py:get()- Evaluated because inputs changed.\n",
      "INFO\tTask(Task-2) nodify.node.140068891676784:node.py:get()- Evaluated because inputs changed.\n",
      "INFO\tTask(Task-2) nodify.node.140068891746448:node.py:get()- Evaluated because inputs changed.\n",
      "INFO\tTask(Task-2) nodify.node.140068891745536:node.py:get()- No need to evaluate\n",
      "INFO\tTask(Task-2) nodify.node.140068891741600:node.py:get()- No need to evaluate\n",
      "INFO\tTask(Task-2) nodify.node.140068891677600:node.py:get()- No need to evaluate\n",
      "INFO\tTask(Task-2) nodify.node.140068891745824:node.py:get()- Evaluated because inputs changed.\n",
      "INFO\tTask(Task-2) nodify.node.140068891688880:node.py:get()- Evaluated because inputs changed.\n",
      "INFO\tTask(Task-2) nodify.node.140068891754128:node.py:get()- No need to evaluate\n",
      "INFO\tTask(Task-2) nodify.node.140068891742608:node.py:get()- Evaluated because inputs changed.\n",
      "INFO\tTask(Task-2) nodify.node.140068891685088:node.py:get()- Evaluated because inputs changed.\n"
     ]
    },
    {
     "name": "stdout",
     "output_type": "stream",
     "text": [
      "Plotting structure...\n"
     ]
    },
    {
     "name": "stderr",
     "output_type": "stream",
     "text": [
      "INFO\tTask(Task-2) nodify.node.140068891746016:node.py:get()- No need to evaluate\n",
      "INFO\tTask(Task-2) nodify.node.140068872720352:node.py:get()- No need to evaluate\n",
      "INFO\tTask(Task-2) nodify.node.140068891747696:node.py:get()- Evaluated because inputs changed.\n",
      "INFO\tTask(Task-2) nodify.node.140081020007200:node.py:get()- Evaluated because inputs changed.\n",
      "INFO\tTask(Task-2) nodify.node.140068891741648:node.py:get()- Evaluated because inputs changed.\n",
      "INFO\tTask(Task-2) nodify.node.140068891746016:node.py:get()- No need to evaluate\n",
      "INFO\tTask(Task-2) nodify.node.140068872720352:node.py:get()- No need to evaluate\n",
      "INFO\tTask(Task-2) nodify.node.140068872721456:node.py:get()- No need to evaluate\n",
      "INFO\tTask(Task-2) nodify.node.140068891742752:node.py:get()- Evaluated because inputs changed.\n",
      "INFO\tTask(Task-2) nodify.node.140068872718288:node.py:get()- Evaluated because inputs changed.\n",
      "INFO\tTask(Task-2) nodify.node.140068872719728:node.py:get()- Evaluated because inputs changed.\n",
      "INFO\tTask(Task-2) nodify.node.140068891746016:node.py:get()- No need to evaluate\n",
      "INFO\tTask(Task-2) nodify.node.140068872720352:node.py:get()- No need to evaluate\n",
      "INFO\tTask(Task-2) nodify.node.140068872721456:node.py:get()- No need to evaluate\n",
      "INFO\tTask(Task-2) nodify.node.140068872719248:node.py:get()- No need to evaluate\n",
      "INFO\tTask(Task-2) nodify.node.140068891741456:node.py:get()- Evaluated because inputs changed.\n",
      "INFO\tTask(Task-2) nodify.node.140068891739392:node.py:get()- Evaluated because inputs changed.\n",
      "INFO\tTask(Task-2) nodify.node.140068891746016:node.py:get()- No need to evaluate\n",
      "INFO\tTask(Task-2) nodify.node.140068872720352:node.py:get()- No need to evaluate\n",
      "INFO\tTask(Task-2) nodify.node.140068872721456:node.py:get()- No need to evaluate\n",
      "INFO\tTask(Task-2) nodify.node.140068872719584:node.py:get()- Evaluated because inputs changed.\n",
      "INFO\tTask(Task-2) nodify.node.140068872720208:node.py:get()- Evaluated because inputs changed.\n",
      "INFO\tTask(Task-2) nodify.node.140068891745536:node.py:get()- No need to evaluate\n",
      "INFO\tTask(Task-2) nodify.node.140068891746016:node.py:get()- No need to evaluate\n",
      "INFO\tTask(Task-2) nodify.node.140068872720352:node.py:get()- No need to evaluate\n",
      "INFO\tTask(Task-2) nodify.node.140068872721456:node.py:get()- No need to evaluate\n",
      "INFO\tTask(Task-2) nodify.node.140068872727312:node.py:get()- Evaluated because inputs changed.\n",
      "INFO\tTask(Task-2) nodify.node.140068891754032:node.py:get()- Evaluated because inputs changed.\n",
      "INFO\tTask(Task-2) nodify.node.140068872725632:node.py:get()- Evaluated because inputs changed.\n",
      "INFO\tTask(Task-2) nodify.node.140068891746016:node.py:get()- No need to evaluate\n",
      "INFO\tTask(Task-2) nodify.node.140068872720352:node.py:get()- No need to evaluate\n",
      "INFO\tTask(Task-2) nodify.node.140068891753312:node.py:get()- Evaluated because inputs changed.\n",
      "INFO\tTask(Task-2) nodify.node.140068891747696:node.py:get()- No need to evaluate\n",
      "INFO\tTask(Task-2) nodify.node.140068872722224:node.py:get()- Evaluated because inputs changed.\n",
      "INFO\tTask(Task-2) nodify.node.140068891745536:node.py:get()- No need to evaluate\n",
      "INFO\tTask(Task-2) nodify.node.140068891746160:node.py:get()- No need to evaluate\n",
      "INFO\tTask(Task-2) nodify.node.140077726985984:node.py:get()- No need to evaluate\n",
      "INFO\tTask(Task-2) nodify.node.140068891676784:node.py:get()- No need to evaluate\n",
      "INFO\tTask(Task-2) nodify.node.140068891746448:node.py:get()- No need to evaluate\n",
      "INFO\tTask(Task-2) nodify.node.140068891745536:node.py:get()- No need to evaluate\n",
      "INFO\tTask(Task-2) nodify.node.140068891741600:node.py:get()- No need to evaluate\n",
      "INFO\tTask(Task-2) nodify.node.140068891677600:node.py:get()- No need to evaluate\n",
      "INFO\tTask(Task-2) nodify.node.140068891745824:node.py:get()- No need to evaluate\n",
      "INFO\tTask(Task-2) nodify.node.140068891688880:node.py:get()- No need to evaluate\n",
      "INFO\tTask(Task-2) nodify.node.140068891754128:node.py:get()- No need to evaluate\n",
      "INFO\tTask(Task-2) nodify.node.140068891742608:node.py:get()- No need to evaluate\n",
      "INFO\tTask(Task-2) nodify.node.140068891685088:node.py:get()- No need to evaluate\n",
      "INFO\tTask(Task-2) nodify.node.140068891746016:node.py:get()- No need to evaluate\n",
      "INFO\tTask(Task-2) nodify.node.140068872720352:node.py:get()- No need to evaluate\n",
      "INFO\tTask(Task-2) nodify.node.140068891747696:node.py:get()- No need to evaluate\n",
      "INFO\tTask(Task-2) nodify.node.140081020007200:node.py:get()- No need to evaluate\n",
      "INFO\tTask(Task-2) nodify.node.140068891745536:node.py:get()- No need to evaluate\n",
      "INFO\tTask(Task-2) nodify.node.140068891746352:node.py:get()- Evaluated because inputs changed.\n",
      "INFO\tTask(Task-2) nodify.node.140068891745536:node.py:get()- No need to evaluate\n",
      "INFO\tTask(Task-2) nodify.node.140068891741600:node.py:get()- No need to evaluate\n",
      "INFO\tTask(Task-2) nodify.node.140068891677600:node.py:get()- No need to evaluate\n",
      "INFO\tTask(Task-2) nodify.node.140068891746016:node.py:get()- No need to evaluate\n",
      "INFO\tTask(Task-2) nodify.node.140068872720352:node.py:get()- No need to evaluate\n",
      "INFO\tTask(Task-2) nodify.node.140068872721456:node.py:get()- No need to evaluate\n",
      "INFO\tTask(Task-2) nodify.node.140068891746016:node.py:get()- No need to evaluate\n",
      "INFO\tTask(Task-2) nodify.node.140068872720352:node.py:get()- No need to evaluate\n",
      "INFO\tTask(Task-2) nodify.node.140068891683984:node.py:get()- Evaluated because inputs changed.\n",
      "INFO\tTask(Task-2) nodify.node.140068891754128:node.py:get()- No need to evaluate\n",
      "INFO\tTask(Task-2) nodify.node.140068872719632:node.py:get()- Evaluated because inputs changed.\n",
      "INFO\tTask(Task-2) nodify.node.140068872720544:node.py:get()- Evaluated because inputs changed.\n",
      "INFO\tTask(Task-2) nodify.node.140068872726640:node.py:get()- Evaluated because inputs changed.\n",
      "INFO\tTask(Task-2) nodify.node.140068872727648:node.py:get()- Evaluated because inputs changed.\n"
     ]
    },
    {
     "data": {
      "application/vnd.plotly.v1+json": {
       "config": {
        "plotlyServerURL": "https://plot.ly"
       },
       "data": [
        {
         "line": {
          "color": "gray",
          "width": 10
         },
         "meta": {},
         "mode": "lines",
         "name": "Bonds",
         "opacity": 1,
         "type": "scatter3d",
         "x": {
          "bdata": "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",
          "dtype": "f8"
         },
         "y": {
          "bdata": "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",
          "dtype": "f8"
         },
         "z": {
          "bdata": "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",
          "dtype": "f8"
         }
        },
        {
         "alphahull": 0,
         "color": "#3050F8",
         "hovertemplate": "%{meta.position}",
         "legendgroup": "Atoms",
         "meta": {
          "meta": {
           "Atoms_i": 0
          },
          "position": "(3.68, 3.68, 3.52)"
         },
         "name": "Atoms",
         "opacity": 1,
         "showlegend": true,
         "showscale": false,
         "type": "mesh3d",
         "x": {
          "bdata": "ROtOH1RpDUBE604fVGkNQETrTh9UaQ1AROtOH1RpDUBE604fVGkNQETrTh9UaQ1AROtOH1RpDUBE604fVGkNQETrTh9UaQ1AROtOH1RpDUBE604fVGkNQETrTh9UaQ1AROtOH1RpDUBE604fVGkNQETrTh9UaQ1AilGnjYhoDkBredWbQk8OQEA9DjpyCA5APOKz9B2iDUBM9OlJijANQEiZjwQ2ygxAHV3IomWDDED+hPawH2oMQB1dyKJlgwxASJmPBDbKDEBM9OlJijANQDzis/Qdog1AQD0OOnIIDkBredWbQk8OQIpRp42IaA5AF4SH8fBaD0CM2fp7qSkPQGXiz8CVnw5AhkBAzQ7YDUACll1xmfoMQCP0zX0SMwxA/Pyiwv6oC0BxUhZNt3cLQPz8osL+qAtAI/TNfRIzDEACll1xmfoMQIZAQM0O2A1AZeLPwJWfDkCM2fp7qSkPQBeEh/HwWg9A7DZawzIaEECsMe0kle0PQF/C+YsqJw9AQD0OOnIIDkBImY8ENsoMQCoUpLJ9qwtA3KSwGRPlCkCxaOm3Qp4KQNyksBkT5QpAKRSksn2rC0BImY8ENsoMQEA9DjpyCA5AXsL5iyonD0CsMe0kle0PQOw2WsMyGhBA6mNTbP90EECcPYRJmUgQQM4u7ClkmA9AI43eEtswDkBmSb8rzaEMQLqnsRREOgtAUVuVq3VBCkC0DvdlqegJQFFblat1QQpAuqexFEQ6C0BlSb8rzaEMQCKN3hLbMA5Azi7sKWSYD0CcPYRJmUgQQOpjU2z/dBBA54gZ3lC5EEBmW2y7JoYQQKwx7SSV7Q9Aa3nVm0JPDkAdXciiZYMMQNyksBkT5QpAvR/Fx1rGCUC5xGqCBmAJQL0fxcdaxglA3KSwGRPlCkAdXciiZYMMQGp51ZtCTw5ArDHtJJXtD0BmW2y7JoYQQOeIGd5QuRBALLlEGrrjEECLDkzDXKwQQPuSi/I7ERBArTdriCJiDkDbnjK2hXAMQJOwhlkwsApAcrkFuO55CUAwZBQKNAsJQHK5BbjueQlAkrCGWTCwCkDanjK2hXAMQK03a4giYg5A+pKL8jsREECLDkzDXKwQQCy5RBq64xBA4H9+sxryEEDniBneULkQQOw2WsMyGhBAilGnjYhoDkD+hPawH2oMQLFo6bdCngpAucRqggZgCUDJ1qDXcu4IQLnEaoIGYAlAsWjpt0KeCkD+hPawH2oMQIpRp42IaA5A7DZawzIaEEDniBneULkQQOB/frMa8hBALLlEGrrjEECLDkzDXKwQQPuSi/I7ERBArTdriCJiDkDbnjK2hXAMQJOwhlkwsApAcrkFuO55CUAwZBQKNAsJQHK5BbjueQlAkrCGWTCwCkDanjK2hXAMQK03a4giYg5A+pKL8jsREECLDkzDXKwQQCy5RBq64xBA54gZ3lC5EEBmW2y7JoYQQKwx7SSV7Q9Aa3nVm0JPDkAdXciiZYMMQNyksBkT5QpAvR/Fx1rGCUC5xGqCBmAJQL0fxcdaxglA3KSwGRPlCkAdXciiZYMMQGp51ZtCTw5ArDHtJJXtD0BmW2y7JoYQQOeIGd5QuRBA6mNTbP90EECcPYRJmUgQQM4u7ClkmA9AI43eEtswDkBmSb8rzaEMQLqnsRREOgtAUVuVq3VBCkC0DvdlqegJQFBblat1QQpAuqexFEQ6C0BlSb8rzaEMQCKN3hLbMA5Azi7sKWSYD0CcPYRJmUgQQOpjU2z/dBBA7DZawzIaEECsMe0kle0PQF/C+YsqJw9AQD0OOnIIDkBImY8ENsoMQCkUpLJ9qwtA3KSwGRPlCkCxaOm3Qp4KQNyksBkT5QpAKRSksn2rC0BImY8ENsoMQEA9DjpyCA5AXsL5iyonD0CsMe0kle0PQOw2WsMyGhBAF4SH8fBaD0CM2fp7qSkPQGXiz8CVnw5AhkBAzQ7YDUACll1xmfoMQCP0zX0SMwxA/Pyiwv6oC0BxUhZNt3cLQPz8osL+qAtAI/TNfRIzDEACll1xmfoMQIZAQM0O2A1AZeLPwJWfDkCM2fp7qSkPQBeEh/HwWg9AilGnjYhoDkBredWbQk8OQEA9DjpyCA5APOKz9B2iDUBM9OlJijANQEiZjwQ2ygxAHV3IomWDDED+hPawH2oMQB1dyKJlgwxASJmPBDbKDEBM9OlJijANQDzis/Qdog1AQD0OOnIIDkBredWbQk8OQIpRp42IaA5AROtOH1RpDUBE604fVGkNQETrTh9UaQ1AROtOH1RpDUBE604fVGkNQETrTh9UaQ1AROtOH1RpDUBE604fVGkNQETrTh9UaQ1AROtOH1RpDUBE604fVGkNQETrTh9UaQ1AROtOH1RpDUBE604fVGkNQETrTh9UaQ1A",
          "dtype": "f8"
         },
         "y": {
          "bdata": "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",
          "dtype": "f8"
         },
         "z": {
          "bdata": "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",
          "dtype": "f8"
         }
        },
        {
         "alphahull": 0,
         "color": "#3050F8",
         "hovertemplate": "%{meta.position}",
         "legendgroup": "Atoms",
         "meta": {
          "meta": {
           "Atoms_i": 1
          },
          "position": "(3.66, 1.81, 1.81)"
         },
         "name": "Atoms",
         "opacity": 1,
         "showlegend": false,
         "showscale": false,
         "type": "mesh3d",
         "x": {
          "bdata": "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",
          "dtype": "f8"
         },
         "y": {
          "bdata": "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",
          "dtype": "f8"
         },
         "z": {
          "bdata": "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",
          "dtype": "f8"
         }
        },
        {
         "alphahull": 0,
         "color": "#3050F8",
         "hovertemplate": "%{meta.position}",
         "legendgroup": "Atoms",
         "meta": {
          "meta": {
           "Atoms_i": 2
          },
          "position": "(1.81, 3.67, 1.81)"
         },
         "name": "Atoms",
         "opacity": 1,
         "showlegend": false,
         "showscale": false,
         "type": "mesh3d",
         "x": {
          "bdata": "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",
          "dtype": "f8"
         },
         "y": {
          "bdata": "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",
          "dtype": "f8"
         },
         "z": {
          "bdata": "VjfjaBH6AkBWN+NoEfoCQFY342gR+gJAVjfjaBH6AkBWN+NoEfoCQFY342gR+gJAVjfjaBH6AkBWN+NoEfoCQFY342gR+gJAVjfjaBH6AkBWN+NoEfoCQFY342gR+gJAVjfjaBH6AkBWN+NoEfoCQFY342gR+gJA7qlvNlDdAkDuqW82UN0CQO6pbzZQ3QJA7qlvNlDdAkDuqW82UN0CQO6pbzZQ3QJA7qlvNlDdAkDuqW82UN0CQO6pbzZQ3QJA7qlvNlDdAkDuqW82UN0CQO6pbzZQ3QJA7qlvNlDdAkDuqW82UN0CQO6pbzZQ3QJAZUkZvn2IAkBlSRm+fYgCQGVJGb59iAJAZUkZvn2IAkBlSRm+fYgCQGVJGb59iAJAZUkZvn2IAkBlSRm+fYgCQGVJGb59iAJAZUkZvn2IAkBlSRm+fYgCQGVJGb59iAJAZUkZvn2IAkBlSRm+fYgCQGVJGb59iAJAav+M2tr/AUBq/4za2v8BQGr/jNra/wFAav+M2tr/AUBq/4za2v8BQGr/jNra/wFAav+M2tr/AUBq/4za2v8BQGr/jNra/wFAav+M2tr/AUBq/4za2v8BQGr/jNra/wFAav+M2tr/AUBq/4za2v8BQGr/jNra/wFAbqWaiEFKAUBupZqIQUoBQG6lmohBSgFAbqWaiEFKAUBupZqIQUoBQG6lmohBSgFAbqWaiEFKAUBupZqIQUoBQG6lmohBSgFAbqWaiEFKAUBupZqIQUoBQG6lmohBSgFAbqWaiEFKAUBupZqIQUoBQG6lmohBSgFArbtt88xwAECtu23zzHAAQK27bfPMcABArbtt88xwAECtu23zzHAAQK27bfPMcABArbtt88xwAECtu23zzHAAQK27bfPMcABArbtt88xwAECtu23zzHAAQK27bfPMcABArbtt88xwAECtu23zzHAAQK27bfPMcABAQRIbH8n8/j9BEhsfyfz+P0ESGx/J/P4/QRIbH8n8/j9BEhsfyfz+P0ESGx/J/P4/QRIbH8n8/j9BEhsfyfz+P0ESGx/J/P4/QRIbH8n8/j9BEhsfyfz+P0ESGx/J/P4/QRIbH8n8/j9BEhsfyfz+P0ESGx/J/P4/tUVqQmD+/D+1RWpCYP78P7VFakJg/vw/tUVqQmD+/D+1RWpCYP78P7VFakJg/vw/tUVqQmD+/D+1RWpCYP78P7VFakJg/vw/tUVqQmD+/D+1RWpCYP78P7VFakJg/vw/tUVqQmD+/D+1RWpCYP78P7VFakJg/vw/KXm5Zff/+j8pebll9//6Pyl5uWX3//o/KXm5Zff/+j8pebll9//6Pyl5uWX3//o/KXm5Zff/+j8pebll9//6Pyl5uWX3//o/KXm5Zff/+j8pebll9//6Pyl5uWX3//o/KXm5Zff/+j8pebll9//6Pyl5uWX3//o/EBT5nSYb+T8QFPmdJhv5PxAU+Z0mG/k/EBT5nSYb+T8QFPmdJhv5PxAU+Z0mG/k/EBT5nSYb+T8QFPmdJhv5PxAU+Z0mG/k/EBT5nSYb+T8QFPmdJhv5PxAU+Z0mG/k/EBT5nSYb+T8QFPmdJhv5PxAU+Z0mG/k/j0Cfcz1o9z+PQJ9zPWj3P49An3M9aPc/j0Cfcz1o9z+PQJ9zPWj3P49An3M9aPc/j0Cfcz1o9z+PQJ9zPWj3P49An3M9aPc/j0Cfcz1o9z+PQJ9zPWj3P49An3M9aPc/j0Cfcz1o9z+PQJ9zPWj3P49An3M9aPc/loy6zwr99T+WjLrPCv31P5aMus8K/fU/loy6zwr99T+WjLrPCv31P5aMus8K/fU/loy6zwr99T+WjLrPCv31P5aMus8K/fU/loy6zwr99T+WjLrPCv31P5aMus8K/fU/loy6zwr99T+WjLrPCv31P5aMus8K/fU/oPihCMXr9D+g+KEIxev0P6D4oQjF6/Q/oPihCMXr9D+g+KEIxev0P6D4oQjF6/Q/oPihCMXr9D+g+KEIxev0P6D4oQjF6/Q/oPihCMXr9D+g+KEIxev0P6D4oQjF6/Q/oPihCMXr9D+g+KEIxev0P6D4oQjF6/Q/jTf1FyBC9D+NN/UXIEL0P4039RcgQvQ/jTf1FyBC9D+NN/UXIEL0P4039RcgQvQ/jTf1FyBC9D+NN/UXIEL0P4039RcgQvQ/jTf1FyBC9D+NN/UXIEL0P4039RcgQvQ/jTf1FyBC9D+NN/UXIEL0P4039RcgQvQ/vxwOs50I9D+/HA6znQj0P78cDrOdCPQ/vxwOs50I9D+/HA6znQj0P78cDrOdCPQ/vxwOs50I9D+/HA6znQj0P78cDrOdCPQ/vxwOs50I9D+/HA6znQj0P78cDrOdCPQ/vxwOs50I9D+/HA6znQj0P78cDrOdCPQ/",
          "dtype": "f8"
         }
        },
        {
         "alphahull": 0,
         "color": "#3050F8",
         "hovertemplate": "%{meta.position}",
         "legendgroup": "Atoms",
         "meta": {
          "meta": {
           "Atoms_i": 3
          },
          "position": "(1.81, 1.81, 3.51)"
         },
         "name": "Atoms",
         "opacity": 1,
         "showlegend": false,
         "showscale": false,
         "type": "mesh3d",
         "x": {
          "bdata": "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",
          "dtype": "f8"
         },
         "y": {
          "bdata": "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",
          "dtype": "f8"
         },
         "z": {
          "bdata": "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",
          "dtype": "f8"
         }
        },
        {
         "alphahull": 0,
         "color": "#FFB5B5",
         "hovertemplate": "%{meta.position}",
         "legendgroup": "Atoms",
         "meta": {
          "meta": {
           "Atoms_i": 4
          },
          "position": "(0.89, 0.89, 0.89)"
         },
         "name": "Atoms",
         "opacity": 1,
         "showlegend": false,
         "showscale": false,
         "type": "mesh3d",
         "x": {
          "bdata": "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",
          "dtype": "f8"
         },
         "y": {
          "bdata": "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",
          "dtype": "f8"
         },
         "z": {
          "bdata": "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",
          "dtype": "f8"
         }
        },
        {
         "alphahull": 0,
         "color": "#FFB5B5",
         "hovertemplate": "%{meta.position}",
         "legendgroup": "Atoms",
         "meta": {
          "meta": {
           "Atoms_i": 5
          },
          "position": "(0.89, 2.75, 2.75)"
         },
         "name": "Atoms",
         "opacity": 1,
         "showlegend": false,
         "showscale": false,
         "type": "mesh3d",
         "x": {
          "bdata": "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",
          "dtype": "f8"
         },
         "y": {
          "bdata": "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",
          "dtype": "f8"
         },
         "z": {
          "bdata": "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",
          "dtype": "f8"
         }
        },
        {
         "alphahull": 0,
         "color": "#FFB5B5",
         "hovertemplate": "%{meta.position}",
         "legendgroup": "Atoms",
         "meta": {
          "meta": {
           "Atoms_i": 6
          },
          "position": "(2.74, 0.89, 2.74)"
         },
         "name": "Atoms",
         "opacity": 1,
         "showlegend": false,
         "showscale": false,
         "type": "mesh3d",
         "x": {
          "bdata": "MVPS+zHmBUAxU9L7MeYFQDFT0vsx5gVAMVPS+zHmBUAxU9L7MeYFQDFT0vsx5gVAMVPS+zHmBUAxU9L7MeYFQDFT0vsx5gVAMVPS+zHmBUAxU9L7MeYFQDFT0vsx5gVAMVPS+zHmBUAxU9L7MeYFQDFT0vsx5gVApxb3lKxyB0CbFJEPaUsHQLT7FlNl3QZABZzqi2s+BkBdCrpr+I0FQK6qjaT+7gRAx5ET6PqABEC7j61it1kEQMeRE+j6gARArqqNpP7uBEBdCrpr+I0FQAWc6otrPgZAtPsWU2XdBkCbFJEPaUsHQKcW95SscgdAePfXnUXrCEDOAIKZtp4IQNZA318zyAdAXGUykziSBkAGQXJkKzoFQIxlxZcwBARAlKUiXq0tA0DqrsxZHuECQJSlIl6tLQNAjGXFlzAEBEAGQXJkKzoFQFxlMpM4kgZA1kDfXzPIB0DOAIKZtp4IQHj3151F6whAepl0vBo9CkCTgPr/Fs8JQPEF7vbVmghAtPsWU2XdBkCuqo2k/u4EQHGgtgCOMQNAzyWq90z9AUDoDDA7SY8BQM8lqvdM/QFAcaC2AI4xA0Cuqo2k/u4EQLP7FlNl3QZA8QXu9tWaCECTgPr/Fs8JQHqZdLwaPQpAbK4xNztXC0Ad5eQBR80KQPoS4jC9SglAqy5/yCwcB0C3dyUvN7AEQGmTwsamgQJARcG/9Rz/AED293LAKHUAQEXBv/Uc/wBAaJPCxqaBAkC3dyUvN7AEQKouf8gsHAdA+RLiML1KCUAd5eQBR80KQGyuMTc7VwtAf+r9aoErDEDQitGjh4wLQJOA+v8WzwlAmxSRD2lLB0DHkRPo+oAEQM8lqvdM/QFAkhvTU9w/AEDGd00ZxUH/P5Ib01PcPwBAzyWq90z9AUDHkRPo+oAEQJoUkQ9pSwdAk4D6/xbPCUDQitGjh4wLQH/q/WqBKwxAwtLxZUivDECXwJHOQQMMQPLShGpAIQpAVSXVzLtoB0AOgc8qqGMEQHDTH40jqwFAl8slUkSS/z9Ap2UjNzr+P5bLJVJEkv8/cNMfjSOrAUANgc8qqGMEQFQl1cy7aAdA8tKEakAhCkCWwJHOQQMMQMLS8WVIrwxAJ3wui/TbDEB/6v1qgSsMQHqZdLwaPQpApxb3lKxyB0C8j61it1kEQOgMMDtJjwFAxndNGcVB/z92VOzY3uD9P8Z3TRnFQf8/6AwwO0mPAUC7j61it1kEQKYW95SscgdAepl0vBo9CkB/6v1qgSsMQCd8Lov02wxAwtLxZUivDECXwJHOQQMMQPLShGpAIQpAVSXVzLtoB0AOgc8qqGMEQHDTH40jqwFAl8slUkSS/z9Ap2UjNzr+P5bLJVJEkv8/cNMfjSOrAUANgc8qqGMEQFQl1cy7aAdA8tKEakAhCkCWwJHOQQMMQMLS8WVIrwxAf+r9aoErDEDQitGjh4wLQJOA+v8WzwlAmxSRD2lLB0DHkRPo+oAEQM8lqvdM/QFAkhvTU9w/AEDGd00ZxUH/P5Ib01PcPwBAzyWq90z9AUDHkRPo+oAEQJoUkQ9pSwdAk4D6/xbPCUDQitGjh4wLQH/q/WqBKwxAbK4xNztXC0Ad5eQBR80KQPoS4jC9SglAqy5/yCwcB0C3dyUvN7AEQGiTwsamgQJARcG/9Rz/AED293LAKHUAQEXBv/Uc/wBAaJPCxqaBAkC3dyUvN7AEQKouf8gsHAdA+RLiML1KCUAd5eQBR80KQGyuMTc7VwtAepl0vBo9CkCTgPr/Fs8JQPEF7vbVmghAtPsWU2XdBkCuqo2k/u4EQHGgtgCOMQNAzyWq90z9AUDoDDA7SY8BQM8lqvdM/QFAcaC2AI4xA0Cuqo2k/u4EQLP7FlNl3QZA8QXu9tWaCECTgPr/Fs8JQHqZdLwaPQpAePfXnUXrCEDOAIKZtp4IQNZA318zyAdAXGUykziSBkAGQXJkKzoFQIxlxZcwBARAlKUiXq0tA0DqrsxZHuECQJSlIl6tLQNAjGXFlzAEBEAGQXJkKzoFQFxlMpM4kgZA1kDfXzPIB0DOAIKZtp4IQHj3151F6whApxb3lKxyB0CbFJEPaUsHQLT7FlNl3QZABZzqi2s+BkBdCrpr+I0FQK6qjaT+7gRAx5ET6PqABEC7j61it1kEQMeRE+j6gARArqqNpP7uBEBdCrpr+I0FQAWc6otrPgZAtPsWU2XdBkCbFJEPaUsHQKcW95SscgdAMVPS+zHmBUAxU9L7MeYFQDFT0vsx5gVAMVPS+zHmBUAxU9L7MeYFQDFT0vsx5gVAMVPS+zHmBUAxU9L7MeYFQDFT0vsx5gVAMVPS+zHmBUAxU9L7MeYFQDFT0vsx5gVAMVPS+zHmBUAxU9L7MeYFQDFT0vsx5gVA",
          "dtype": "f8"
         },
         "y": {
          "bdata": "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",
          "dtype": "f8"
         },
         "z": {
          "bdata": "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",
          "dtype": "f8"
         }
        },
        {
         "alphahull": 0,
         "color": "#FFB5B5",
         "hovertemplate": "%{meta.position}",
         "legendgroup": "Atoms",
         "meta": {
          "meta": {
           "Atoms_i": 7
          },
          "position": "(2.74, 2.75, 0.90)"
         },
         "name": "Atoms",
         "opacity": 1,
         "showlegend": false,
         "showscale": false,
         "type": "mesh3d",
         "x": {
          "bdata": "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",
          "dtype": "f8"
         },
         "y": {
          "bdata": "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",
          "dtype": "f8"
         },
         "z": {
          "bdata": "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",
          "dtype": "f8"
         }
        },
        {
         "meta": {},
         "mode": "lines",
         "name": "Unit cell",
         "type": "scatter3d",
         "x": {
          "bdata": "AAAAAAAAAAAAAAAAAAAAAFwDWyVYnA1AXANbJVicDUAAAAAAAAAAAAAAAAAAAAAAAAAAAAAA+H8AAAAAAAAAAAAAAAAAAAAAAAAAAAAAAABcA1slWJwNQFwDWyVYnA1AAAAAAAAAAAAAAAAAAAD4f1wDWyVYnA1AXANbJVicDUAAAAAAAAD4f1wDWyVYnA1AXANbJVicDUA=",
          "dtype": "f8"
         },
         "y": {
          "bdata": "AAAAAAAAAADe5SK+E7MNQN7lIr4Tsw1A3uUivhOzDUDe5SK+E7MNQN7lIr4Tsw1AAAAAAAAA+H/e5SK+E7MNQAAAAAAAAAAAAAAAAAAAAAAAAAAAAAAAAAAAAAAAAAAAAAAAAAAAAAAAAAAAAAD4f97lIr4Tsw1AAAAAAAAAAAAAAAAAAAD4f97lIr4Tsw1AAAAAAAAAAAA=",
          "dtype": "f8"
         },
         "z": {
          "bdata": "AAAAAAAAAAAAAAAAAAAAAAAAAAAAAAAA14aKcf5mDEDXhopx/mYMQAAAAAAAAAAAAAAAAAAA+H/Xhopx/mYMQNeGinH+ZgxAAAAAAAAAAAAAAAAAAAAAANeGinH+ZgxA14aKcf5mDEAAAAAAAAD4fwAAAAAAAAAAAAAAAAAAAAAAAAAAAAD4f9eGinH+ZgxA14aKcf5mDEA=",
          "dtype": "f8"
         }
        }
       ],
       "layout": {
        "scene": {
         "aspectmode": "data",
         "xaxis": {
          "title": {
           "text": "X axis [Ang]"
          }
         },
         "yaxis": {
          "title": {
           "text": "Y axis [Ang]"
          }
         },
         "zaxis": {
          "title": {
           "text": "Z axis [Ang]"
          }
         }
        },
        "template": {
         "layout": {
          "hovermode": "closest",
          "paper_bgcolor": "white",
          "plot_bgcolor": "white",
          "scene": {
           "xaxis": {
            "color": "black",
            "gridcolor": "#ccc",
            "gridwidth": 1,
            "linewidth": 1,
            "mirror": true,
            "showgrid": false,
            "showline": true,
            "ticklen": 5,
            "ticks": "outside",
            "ticksuffix": " ",
            "visible": true,
            "zeroline": false,
            "zerolinecolor": "#ccc",
            "zerolinewidth": 1
           },
           "yaxis": {
            "color": "black",
            "gridcolor": "#ccc",
            "gridwidth": 1,
            "linewidth": 1,
            "mirror": true,
            "showgrid": false,
            "showline": true,
            "ticklen": 5,
            "ticks": "outside",
            "ticksuffix": " ",
            "visible": true,
            "zeroline": false,
            "zerolinecolor": "#ccc",
            "zerolinewidth": 1
           },
           "zaxis": {
            "color": "black",
            "gridcolor": "#ccc",
            "gridwidth": 1,
            "linewidth": 1,
            "mirror": true,
            "showgrid": false,
            "showline": true,
            "ticklen": 5,
            "ticks": "outside",
            "ticksuffix": " ",
            "visible": true,
            "zeroline": false,
            "zerolinecolor": "#ccc",
            "zerolinewidth": 1
           }
          },
          "xaxis": {
           "color": "black",
           "gridcolor": "#ccc",
           "gridwidth": 1,
           "linewidth": 1,
           "mirror": true,
           "showgrid": false,
           "showline": true,
           "ticklen": 5,
           "ticks": "outside",
           "ticksuffix": " ",
           "visible": true,
           "zeroline": false,
           "zerolinecolor": "#ccc",
           "zerolinewidth": 1
          },
          "yaxis": {
           "color": "black",
           "gridcolor": "#ccc",
           "gridwidth": 1,
           "linewidth": 1,
           "mirror": true,
           "showgrid": false,
           "showline": true,
           "ticklen": 5,
           "ticks": "outside",
           "ticksuffix": " ",
           "visible": true,
           "zeroline": false,
           "zerolinecolor": "#ccc",
           "zerolinewidth": 1
          }
         }
        },
        "xaxis": {
         "scaleanchor": "y",
         "scaleratio": 1,
         "title": {
          "text": "X axis [Ang]"
         }
        },
        "yaxis": {
         "title": {
          "text": "Y axis [Ang]"
         }
        }
       }
      }
     },
     "metadata": {},
     "output_type": "display_data"
    },
    {
     "data": {
      "text/plain": [
       "array([7, 7, 7, 7, 5, 5, 5, 5], dtype=int32)"
      ]
     },
     "execution_count": 5,
     "metadata": {},
     "output_type": "execute_result"
    }
   ],
   "source": [
    "# 1. Plot structure\n",
    "# path = Path(\"../dataset/SHARE_OUTPUTS_2_ATOMS/0953-8dcf-411e-ae7b-00f794981cc5\") # B-N Overlapped\n",
    "# path = Path(\"../dataset/SHARE_OUTPUTS_2_ATOMS/c0e0-7549-496d-82e7-c3f6b1d81e58\") # B-N No overlapped\n",
    "\n",
    "# Boron: Grey\n",
    "# path = Path(\"../dataset/SHARE_OUTPUTS_2_ATOMS/2e65-1feb-4df2-8836-e5513b9bade0\") # B-B Overlapped\n",
    "# path = Path(\"../dataset/SHARE_OUTPUTS_2_ATOMS/7e20-9cdf-4b2c-8134-6cadc8f64c34\") # B-B No overlapped\n",
    "# path = Path(\"../dataset/SHARE_OUTPUTS_2_ATOMS/a4f7-5d3f-4e50-9eda-87df3bf9ba58\") # B-B No overlapped (Pero sí en la siguiente cell)\n",
    "\n",
    "# path = Path(\"../dataset/SHARE_OUTPUTS_8_ATOMS/39cf-a27b-42dd-a62e-62556132a798\") #Hexagonal\n",
    "# path = Path(\"../dataset/SHARE_OUTPUTS_8_ATOMS/11ad-ba95-4a26-8f92-5267f5787553\") #Cubic\n",
    "\n",
    "#Val:\n",
    "path = Path(\"../dataset/SHARE_OUTPUTS_2_ATOMS/fc1c-6ab6-4c0e-921e-99710e6fe41b\") #N-N Small overlapped\n",
    "path = Path(\"../dataset/SHARE_OUTPUTS_2_ATOMS/f016-fb0e-4d5c-b584-4f8987eb5676\") #N-N No overlapped\n",
    "\n",
    "path = Path(\"../dataset/SHARE_OUTPUTS_2_ATOMS/a4e4-2f64-4e68-a37a-9e84eb767a0c\") # B-B No overlapped\n",
    "path = Path(\"../dataset/SHARE_OUTPUTS_2_ATOMS/7bbb-6d51-41eb-9de4-329298202ebf\") # B-B overlapped\n",
    "\n",
    "path = Path(\"../dataset/SHARE_OUTPUTS_8_ATOMS/173e-fad7-4f78-8350-6759a5471596\") #Cubic\n",
    "path = Path(\"../dataset/SHARE_OUTPUTS_8_ATOMS/4b9b-20df-4fe5-a669-88ff91902e97\") #Hexagonal\n",
    "\n",
    "path = Path(\"../dataset/SHARE_OUTPUTS_8_ATOMS/0888-cde8-4bbf-8840-bbd0accf1d6c\")\n",
    "\n",
    "\n",
    "print(\"Plotting structure...\")\n",
    "file = sisl.get_sile(path / \"aiida.fdf\")\n",
    "fig = file.plot.geometry(axes=\"xyz\")\n",
    "# filepath = savedir_struct / f\"{n_atoms}atm_{structure}.png\"\n",
    "# fig.write_image(str(filepath))\n",
    "fig.show()\n",
    "file.read_geometry().atoms.Z"
   ]
  },
  {
   "cell_type": "code",
   "execution_count": 4,
   "id": "2ecec312",
   "metadata": {},
   "outputs": [
    {
     "ename": "KeyboardInterrupt",
     "evalue": "",
     "output_type": "error",
     "traceback": [
      "\u001b[31m---------------------------------------------------------------------------\u001b[39m",
      "\u001b[31mKeyboardInterrupt\u001b[39m                         Traceback (most recent call last)",
      "\u001b[36mCell\u001b[39m\u001b[36m \u001b[39m\u001b[32mIn[4]\u001b[39m\u001b[32m, line 2\u001b[39m\n\u001b[32m      1\u001b[39m \u001b[38;5;66;03m# 2. Plot hamiltonian\u001b[39;00m\n\u001b[32m----> \u001b[39m\u001b[32m2\u001b[39m \u001b[38;5;28;01mfrom\u001b[39;00m\u001b[38;5;250m \u001b[39m\u001b[34;01mtools\u001b[39;00m\u001b[34;01m.\u001b[39;00m\u001b[34;01mplot\u001b[39;00m\u001b[38;5;250m \u001b[39m\u001b[38;5;28;01mimport\u001b[39;00m plot_error_matrices_big\n\u001b[32m      5\u001b[39m calculations_path = Path(\u001b[33m'\u001b[39m\u001b[33m../scripts/debug_data.joblib\u001b[39m\u001b[33m'\u001b[39m)\n\u001b[32m      7\u001b[39m data = load(calculations_path)\n",
      "\u001b[36mFile \u001b[39m\u001b[32m~/GitHub/graph2mat4abn/graph2mat4abn/tools/__init__.py:1\u001b[39m\n\u001b[32m----> \u001b[39m\u001b[32m1\u001b[39m \u001b[38;5;28;01mfrom\u001b[39;00m\u001b[38;5;250m \u001b[39m\u001b[34;01m.\u001b[39;00m\u001b[34;01mtools\u001b[39;00m\u001b[38;5;250m \u001b[39m\u001b[38;5;28;01mimport\u001b[39;00m z_one_hot, flatten, get_kwargs, load_model\n\u001b[32m      2\u001b[39m \u001b[38;5;28;01mfrom\u001b[39;00m\u001b[38;5;250m \u001b[39m\u001b[34;01m.\u001b[39;00m\u001b[34;01mimport_utils\u001b[39;00m\u001b[38;5;250m \u001b[39m\u001b[38;5;28;01mimport\u001b[39;00m load_config, get_object_from_module, save_to_yaml\n",
      "\u001b[36mFile \u001b[39m\u001b[32m~/GitHub/graph2mat4abn/graph2mat4abn/tools/tools.py:5\u001b[39m\n\u001b[32m      2\u001b[39m \u001b[38;5;28;01mimport\u001b[39;00m\u001b[38;5;250m \u001b[39m\u001b[34;01mtorch\u001b[39;00m\n\u001b[32m      3\u001b[39m \u001b[38;5;28;01mimport\u001b[39;00m\u001b[38;5;250m \u001b[39m\u001b[34;01mnumpy\u001b[39;00m\u001b[38;5;250m \u001b[39m\u001b[38;5;28;01mas\u001b[39;00m\u001b[38;5;250m \u001b[39m\u001b[34;01mnp\u001b[39;00m\n\u001b[32m----> \u001b[39m\u001b[32m5\u001b[39m \u001b[38;5;28;01mfrom\u001b[39;00m\u001b[38;5;250m \u001b[39m\u001b[34;01mgraph2mat\u001b[39;00m\u001b[38;5;250m \u001b[39m\u001b[38;5;28;01mimport\u001b[39;00m PointBasis\n\u001b[32m      6\u001b[39m \u001b[38;5;28;01mfrom\u001b[39;00m\u001b[38;5;250m \u001b[39m\u001b[34;01mtqdm\u001b[39;00m\u001b[38;5;250m \u001b[39m\u001b[38;5;28;01mimport\u001b[39;00m tqdm\n\u001b[32m      7\u001b[39m \u001b[38;5;28;01mfrom\u001b[39;00m\u001b[38;5;250m \u001b[39m\u001b[34;01me3nn\u001b[39;00m\u001b[38;5;250m \u001b[39m\u001b[38;5;28;01mimport\u001b[39;00m o3\n",
      "\u001b[36mFile \u001b[39m\u001b[32m~/miniconda3/envs/g2m_upd/lib/python3.12/site-packages/graph2mat/__init__.py:9\u001b[39m\n\u001b[32m      1\u001b[39m \u001b[33;03m\"\"\"A package to generate and manipulate sparse equivariant matrices.\u001b[39;00m\n\u001b[32m      2\u001b[39m \n\u001b[32m      3\u001b[39m \u001b[33;03mThe package contains a `core` submodule implementing the main functionality,\u001b[39;00m\n\u001b[32m      4\u001b[39m \u001b[33;03mand other submodules that implement specific functionalities.\u001b[39;00m\n\u001b[32m      5\u001b[39m \u001b[33;03m\"\"\"\u001b[39;00m\n\u001b[32m      7\u001b[39m \u001b[38;5;28;01mfrom\u001b[39;00m\u001b[38;5;250m \u001b[39m\u001b[34;01m.\u001b[39;00m\u001b[34;01m__version__\u001b[39;00m\u001b[38;5;250m \u001b[39m\u001b[38;5;28;01mimport\u001b[39;00m __version__\n\u001b[32m----> \u001b[39m\u001b[32m9\u001b[39m \u001b[38;5;28;01mfrom\u001b[39;00m\u001b[38;5;250m \u001b[39m\u001b[34;01m.\u001b[39;00m\u001b[34;01mcore\u001b[39;00m\u001b[38;5;250m \u001b[39m\u001b[38;5;28;01mimport\u001b[39;00m *\n",
      "\u001b[36mFile \u001b[39m\u001b[32m~/miniconda3/envs/g2m_upd/lib/python3.12/site-packages/graph2mat/core/__init__.py:17\u001b[39m\n\u001b[32m      1\u001b[39m \u001b[33;03m\"\"\"Core functionality of the graph2mat package.\u001b[39;00m\n\u001b[32m      2\u001b[39m \n\u001b[32m      3\u001b[39m \u001b[33;03mThere are two main things that need to be implemented to make\u001b[39;00m\n\u001b[32m   (...)\u001b[39m\u001b[32m     14\u001b[39m \u001b[33;03min `graph2mat.bindings.e3nn` as the working blocks.\u001b[39;00m\n\u001b[32m     15\u001b[39m \u001b[33;03m\"\"\"\u001b[39;00m\n\u001b[32m---> \u001b[39m\u001b[32m17\u001b[39m \u001b[38;5;28;01mfrom\u001b[39;00m\u001b[38;5;250m \u001b[39m\u001b[34;01m.\u001b[39;00m\u001b[38;5;250m \u001b[39m\u001b[38;5;28;01mimport\u001b[39;00m data\n\u001b[32m     18\u001b[39m \u001b[38;5;28;01mfrom\u001b[39;00m\u001b[38;5;250m \u001b[39m\u001b[34;01m.\u001b[39;00m\u001b[38;5;250m \u001b[39m\u001b[38;5;28;01mimport\u001b[39;00m modules\n\u001b[32m     20\u001b[39m \u001b[38;5;28;01mfrom\u001b[39;00m\u001b[38;5;250m \u001b[39m\u001b[34;01m.\u001b[39;00m\u001b[34;01mdata\u001b[39;00m\u001b[38;5;250m \u001b[39m\u001b[38;5;28;01mimport\u001b[39;00m *\n",
      "\u001b[36mFile \u001b[39m\u001b[32m~/miniconda3/envs/g2m_upd/lib/python3.12/site-packages/graph2mat/core/data/__init__.py:27\u001b[39m\n\u001b[32m     25\u001b[39m \u001b[38;5;28;01mfrom\u001b[39;00m\u001b[38;5;250m \u001b[39m\u001b[34;01m.\u001b[39;00m\u001b[34;01mbasis\u001b[39;00m\u001b[38;5;250m \u001b[39m\u001b[38;5;28;01mimport\u001b[39;00m PointBasis\n\u001b[32m     26\u001b[39m \u001b[38;5;28;01mfrom\u001b[39;00m\u001b[38;5;250m \u001b[39m\u001b[34;01m.\u001b[39;00m\u001b[34;01mconfiguration\u001b[39;00m\u001b[38;5;250m \u001b[39m\u001b[38;5;28;01mimport\u001b[39;00m BasisConfiguration, OrbitalConfiguration\n\u001b[32m---> \u001b[39m\u001b[32m27\u001b[39m \u001b[38;5;28;01mfrom\u001b[39;00m\u001b[38;5;250m \u001b[39m\u001b[34;01m.\u001b[39;00m\u001b[34;01mmetrics\u001b[39;00m\u001b[38;5;250m \u001b[39m\u001b[38;5;28;01mimport\u001b[39;00m OrbitalMatrixMetric\n\u001b[32m     28\u001b[39m \u001b[38;5;28;01mfrom\u001b[39;00m\u001b[38;5;250m \u001b[39m\u001b[34;01m.\u001b[39;00m\u001b[38;5;250m \u001b[39m\u001b[38;5;28;01mimport\u001b[39;00m metrics\n\u001b[32m     29\u001b[39m \u001b[38;5;28;01mfrom\u001b[39;00m\u001b[38;5;250m \u001b[39m\u001b[34;01m.\u001b[39;00m\u001b[34;01mprocessing\u001b[39;00m\u001b[38;5;250m \u001b[39m\u001b[38;5;28;01mimport\u001b[39;00m MatrixDataProcessor, BasisMatrixData, BasisMatrixDataBase\n",
      "\u001b[36mFile \u001b[39m\u001b[32m~/miniconda3/envs/g2m_upd/lib/python3.12/site-packages/graph2mat/core/data/metrics.py:17\u001b[39m\n\u001b[32m     14\u001b[39m \u001b[38;5;28;01mimport\u001b[39;00m\u001b[38;5;250m \u001b[39m\u001b[34;01mnumpy\u001b[39;00m\u001b[38;5;250m \u001b[39m\u001b[38;5;28;01mas\u001b[39;00m\u001b[38;5;250m \u001b[39m\u001b[34;01mnp\u001b[39;00m\n\u001b[32m     16\u001b[39m \u001b[38;5;28;01mfrom\u001b[39;00m\u001b[38;5;250m \u001b[39m\u001b[34;01m.\u001b[39;00m\u001b[34;01mformats\u001b[39;00m\u001b[38;5;250m \u001b[39m\u001b[38;5;28;01mimport\u001b[39;00m Formats\n\u001b[32m---> \u001b[39m\u001b[32m17\u001b[39m \u001b[38;5;28;01mfrom\u001b[39;00m\u001b[38;5;250m \u001b[39m\u001b[34;01m.\u001b[39;00m\u001b[34;01mprocessing\u001b[39;00m\u001b[38;5;250m \u001b[39m\u001b[38;5;28;01mimport\u001b[39;00m MatrixDataProcessor\n\u001b[32m     19\u001b[39m __all__ = [\n\u001b[32m     20\u001b[39m     \u001b[33m\"\u001b[39m\u001b[33mOrbitalMatrixMetric\u001b[39m\u001b[33m\"\u001b[39m,\n\u001b[32m     21\u001b[39m     \u001b[33m\"\u001b[39m\u001b[33mblock_type_mse\u001b[39m\u001b[33m\"\u001b[39m,\n\u001b[32m   (...)\u001b[39m\u001b[32m     33\u001b[39m     \u001b[33m\"\u001b[39m\u001b[33mnormalized_density_error\u001b[39m\u001b[33m\"\u001b[39m,\n\u001b[32m     34\u001b[39m ]\n\u001b[32m     37\u001b[39m \u001b[38;5;28;01mdef\u001b[39;00m\u001b[38;5;250m \u001b[39m\u001b[34m_isnan\u001b[39m(values):\n",
      "\u001b[36mFile \u001b[39m\u001b[32m~/miniconda3/envs/g2m_upd/lib/python3.12/site-packages/graph2mat/core/data/processing.py:50\u001b[39m\n\u001b[32m     47\u001b[39m \u001b[38;5;28;01mimport\u001b[39;00m\u001b[38;5;250m \u001b[39m\u001b[34;01mtorch\u001b[39;00m\n\u001b[32m     49\u001b[39m \u001b[38;5;28;01mtry\u001b[39;00m:\n\u001b[32m---> \u001b[39m\u001b[32m50\u001b[39m     \u001b[38;5;28;01mfrom\u001b[39;00m\u001b[38;5;250m \u001b[39m\u001b[34;01mtorch_geometric\u001b[39;00m\u001b[34;01m.\u001b[39;00m\u001b[34;01mdata\u001b[39;00m\u001b[38;5;250m \u001b[39m\u001b[38;5;28;01mimport\u001b[39;00m Batch\n\u001b[32m     51\u001b[39m \u001b[38;5;28;01mexcept\u001b[39;00m \u001b[38;5;167;01mImportError\u001b[39;00m:\n\u001b[32m     53\u001b[39m     \u001b[38;5;28;01mclass\u001b[39;00m\u001b[38;5;250m \u001b[39m\u001b[34;01mBatch\u001b[39;00m:\n",
      "\u001b[36mFile \u001b[39m\u001b[32m~/miniconda3/envs/g2m_upd/lib/python3.12/site-packages/torch_geometric/__init__.py:13\u001b[39m\n\u001b[32m     11\u001b[39m \u001b[38;5;28;01mfrom\u001b[39;00m\u001b[38;5;250m \u001b[39m\u001b[34;01m.\u001b[39;00m\u001b[34;01mhome\u001b[39;00m\u001b[38;5;250m \u001b[39m\u001b[38;5;28;01mimport\u001b[39;00m get_home_dir, set_home_dir\n\u001b[32m     12\u001b[39m \u001b[38;5;28;01mfrom\u001b[39;00m\u001b[38;5;250m \u001b[39m\u001b[34;01m.\u001b[39;00m\u001b[34;01mdevice\u001b[39;00m\u001b[38;5;250m \u001b[39m\u001b[38;5;28;01mimport\u001b[39;00m is_mps_available, is_xpu_available, device\n\u001b[32m---> \u001b[39m\u001b[32m13\u001b[39m \u001b[38;5;28;01mfrom\u001b[39;00m\u001b[38;5;250m \u001b[39m\u001b[34;01m.\u001b[39;00m\u001b[34;01misinstance\u001b[39;00m\u001b[38;5;250m \u001b[39m\u001b[38;5;28;01mimport\u001b[39;00m is_torch_instance\n\u001b[32m     14\u001b[39m \u001b[38;5;28;01mfrom\u001b[39;00m\u001b[38;5;250m \u001b[39m\u001b[34;01m.\u001b[39;00m\u001b[34;01mdebug\u001b[39;00m\u001b[38;5;250m \u001b[39m\u001b[38;5;28;01mimport\u001b[39;00m is_debug_enabled, debug, set_debug\n\u001b[32m     16\u001b[39m \u001b[38;5;28;01mimport\u001b[39;00m\u001b[38;5;250m \u001b[39m\u001b[34;01mtorch_geometric\u001b[39;00m\u001b[34;01m.\u001b[39;00m\u001b[34;01mutils\u001b[39;00m\n",
      "\u001b[36mFile \u001b[39m\u001b[32m~/miniconda3/envs/g2m_upd/lib/python3.12/site-packages/torch_geometric/isinstance.py:8\u001b[39m\n\u001b[32m      5\u001b[39m \u001b[38;5;28;01mimport\u001b[39;00m\u001b[38;5;250m \u001b[39m\u001b[34;01mtorch_geometric\u001b[39;00m\u001b[34;01m.\u001b[39;00m\u001b[34;01mtyping\u001b[39;00m\n\u001b[32m      7\u001b[39m \u001b[38;5;28;01mif\u001b[39;00m torch_geometric.typing.WITH_PT20:\n\u001b[32m----> \u001b[39m\u001b[32m8\u001b[39m     \u001b[38;5;28;01mimport\u001b[39;00m\u001b[38;5;250m \u001b[39m\u001b[34;01mtorch\u001b[39;00m\u001b[34;01m.\u001b[39;00m\u001b[34;01m_dynamo\u001b[39;00m\n\u001b[32m     11\u001b[39m \u001b[38;5;28;01mdef\u001b[39;00m\u001b[38;5;250m \u001b[39m\u001b[34mis_torch_instance\u001b[39m(obj: Any, \u001b[38;5;28mcls\u001b[39m: Union[Type, Tuple[Type]]) -> \u001b[38;5;28mbool\u001b[39m:\n\u001b[32m     12\u001b[39m \u001b[38;5;250m    \u001b[39m\u001b[33mr\u001b[39m\u001b[33;03m\"\"\"Checks if the :obj:`obj` is an instance of a :obj:`cls`.\u001b[39;00m\n\u001b[32m     13\u001b[39m \n\u001b[32m     14\u001b[39m \u001b[33;03m    This function extends :meth:`isinstance` to be applicable during\u001b[39;00m\n\u001b[32m     15\u001b[39m \u001b[33;03m    :meth:`torch.compile` usage by checking against the original class of\u001b[39;00m\n\u001b[32m     16\u001b[39m \u001b[33;03m    compiled models.\u001b[39;00m\n\u001b[32m     17\u001b[39m \u001b[33;03m    \"\"\"\u001b[39;00m\n",
      "\u001b[36mFile \u001b[39m\u001b[32m~/miniconda3/envs/g2m_upd/lib/python3.12/site-packages/torch/_dynamo/__init__.py:3\u001b[39m\n\u001b[32m      1\u001b[39m \u001b[38;5;28;01mimport\u001b[39;00m\u001b[38;5;250m \u001b[39m\u001b[34;01mtorch\u001b[39;00m\n\u001b[32m----> \u001b[39m\u001b[32m3\u001b[39m \u001b[38;5;28;01mfrom\u001b[39;00m\u001b[38;5;250m \u001b[39m\u001b[34;01m.\u001b[39;00m\u001b[38;5;250m \u001b[39m\u001b[38;5;28;01mimport\u001b[39;00m convert_frame, eval_frame, resume_execution\n\u001b[32m      4\u001b[39m \u001b[38;5;28;01mfrom\u001b[39;00m\u001b[38;5;250m \u001b[39m\u001b[34;01m.\u001b[39;00m\u001b[34;01mbackends\u001b[39;00m\u001b[34;01m.\u001b[39;00m\u001b[34;01mregistry\u001b[39;00m\u001b[38;5;250m \u001b[39m\u001b[38;5;28;01mimport\u001b[39;00m list_backends, lookup_backend, register_backend\n\u001b[32m      5\u001b[39m \u001b[38;5;28;01mfrom\u001b[39;00m\u001b[38;5;250m \u001b[39m\u001b[34;01m.\u001b[39;00m\u001b[34;01mcallback\u001b[39;00m\u001b[38;5;250m \u001b[39m\u001b[38;5;28;01mimport\u001b[39;00m callback_handler, on_compile_end, on_compile_start\n",
      "\u001b[36mFile \u001b[39m\u001b[32m~/miniconda3/envs/g2m_upd/lib/python3.12/site-packages/torch/_dynamo/convert_frame.py:31\u001b[39m\n\u001b[32m     29\u001b[39m \u001b[38;5;28;01mfrom\u001b[39;00m\u001b[38;5;250m \u001b[39m\u001b[34;01mtorch\u001b[39;00m\u001b[34;01m.\u001b[39;00m\u001b[34;01m_C\u001b[39;00m\u001b[34;01m.\u001b[39;00m\u001b[34;01m_dynamo\u001b[39;00m\u001b[34;01m.\u001b[39;00m\u001b[34;01mguards\u001b[39;00m\u001b[38;5;250m \u001b[39m\u001b[38;5;28;01mimport\u001b[39;00m GlobalStateGuard\n\u001b[32m     30\u001b[39m \u001b[38;5;28;01mfrom\u001b[39;00m\u001b[38;5;250m \u001b[39m\u001b[34;01mtorch\u001b[39;00m\u001b[34;01m.\u001b[39;00m\u001b[34;01m_dynamo\u001b[39;00m\u001b[34;01m.\u001b[39;00m\u001b[34;01mdistributed\u001b[39;00m\u001b[38;5;250m \u001b[39m\u001b[38;5;28;01mimport\u001b[39;00m get_compile_pg\n\u001b[32m---> \u001b[39m\u001b[32m31\u001b[39m \u001b[38;5;28;01mfrom\u001b[39;00m\u001b[38;5;250m \u001b[39m\u001b[34;01mtorch\u001b[39;00m\u001b[34;01m.\u001b[39;00m\u001b[34;01m_dynamo\u001b[39;00m\u001b[34;01m.\u001b[39;00m\u001b[34;01mutils\u001b[39;00m\u001b[38;5;250m \u001b[39m\u001b[38;5;28;01mimport\u001b[39;00m CompileTimeInstructionCounter\n\u001b[32m     32\u001b[39m \u001b[38;5;28;01mfrom\u001b[39;00m\u001b[38;5;250m \u001b[39m\u001b[34;01mtorch\u001b[39;00m\u001b[34;01m.\u001b[39;00m\u001b[34;01m_guards\u001b[39;00m\u001b[38;5;250m \u001b[39m\u001b[38;5;28;01mimport\u001b[39;00m compile_context, CompileContext, CompileId, tracing\n\u001b[32m     33\u001b[39m \u001b[38;5;28;01mfrom\u001b[39;00m\u001b[38;5;250m \u001b[39m\u001b[34;01mtorch\u001b[39;00m\u001b[34;01m.\u001b[39;00m\u001b[34;01m_logging\u001b[39;00m\u001b[38;5;250m \u001b[39m\u001b[38;5;28;01mimport\u001b[39;00m structured\n",
      "\u001b[36mFile \u001b[39m\u001b[32m~/miniconda3/envs/g2m_upd/lib/python3.12/site-packages/torch/_dynamo/utils.py:62\u001b[39m\n\u001b[32m     60\u001b[39m \u001b[38;5;28;01mimport\u001b[39;00m\u001b[38;5;250m \u001b[39m\u001b[34;01mtorch\u001b[39;00m\u001b[34;01m.\u001b[39;00m\u001b[34;01m_functorch\u001b[39;00m\u001b[34;01m.\u001b[39;00m\u001b[34;01mconfig\u001b[39;00m\n\u001b[32m     61\u001b[39m \u001b[38;5;28;01mimport\u001b[39;00m\u001b[38;5;250m \u001b[39m\u001b[34;01mtorch\u001b[39;00m\u001b[34;01m.\u001b[39;00m\u001b[34;01m_inductor\u001b[39;00m\u001b[34;01m.\u001b[39;00m\u001b[34;01mconfig\u001b[39;00m\u001b[38;5;250m \u001b[39m\u001b[38;5;28;01mas\u001b[39;00m\u001b[38;5;250m \u001b[39m\u001b[34;01minductor_config\u001b[39;00m\n\u001b[32m---> \u001b[39m\u001b[32m62\u001b[39m \u001b[38;5;28;01mimport\u001b[39;00m\u001b[38;5;250m \u001b[39m\u001b[34;01mtorch\u001b[39;00m\u001b[34;01m.\u001b[39;00m\u001b[34;01mfx\u001b[39;00m\u001b[34;01m.\u001b[39;00m\u001b[34;01mexperimental\u001b[39;00m\u001b[34;01m.\u001b[39;00m\u001b[34;01msymbolic_shapes\u001b[39;00m\n\u001b[32m     63\u001b[39m \u001b[38;5;28;01mimport\u001b[39;00m\u001b[38;5;250m \u001b[39m\u001b[34;01mtorch\u001b[39;00m\u001b[34;01m.\u001b[39;00m\u001b[34;01mutils\u001b[39;00m\u001b[34;01m.\u001b[39;00m\u001b[34;01m_pytree\u001b[39;00m\u001b[38;5;250m \u001b[39m\u001b[38;5;28;01mas\u001b[39;00m\u001b[38;5;250m \u001b[39m\u001b[34;01mpytree\u001b[39;00m\n\u001b[32m     64\u001b[39m \u001b[38;5;28;01mfrom\u001b[39;00m\u001b[38;5;250m \u001b[39m\u001b[34;01mtorch\u001b[39;00m\u001b[38;5;250m \u001b[39m\u001b[38;5;28;01mimport\u001b[39;00m fx\n",
      "\u001b[36mFile \u001b[39m\u001b[32m~/miniconda3/envs/g2m_upd/lib/python3.12/site-packages/torch/fx/experimental/symbolic_shapes.py:65\u001b[39m\n\u001b[32m     63\u001b[39m \u001b[38;5;28;01mfrom\u001b[39;00m\u001b[38;5;250m \u001b[39m\u001b[34;01mtorch\u001b[39;00m\u001b[34;01m.\u001b[39;00m\u001b[34;01m_guards\u001b[39;00m\u001b[38;5;250m \u001b[39m\u001b[38;5;28;01mimport\u001b[39;00m ShapeGuard, Source, TracingContext\n\u001b[32m     64\u001b[39m \u001b[38;5;28;01mfrom\u001b[39;00m\u001b[38;5;250m \u001b[39m\u001b[34;01mtorch\u001b[39;00m\u001b[34;01m.\u001b[39;00m\u001b[34;01mutils\u001b[39;00m\u001b[34;01m.\u001b[39;00m\u001b[34;01m_python_dispatch\u001b[39;00m\u001b[38;5;250m \u001b[39m\u001b[38;5;28;01mimport\u001b[39;00m is_traceable_wrapper_subclass\n\u001b[32m---> \u001b[39m\u001b[32m65\u001b[39m \u001b[38;5;28;01mfrom\u001b[39;00m\u001b[38;5;250m \u001b[39m\u001b[34;01mtorch\u001b[39;00m\u001b[34;01m.\u001b[39;00m\u001b[34;01mutils\u001b[39;00m\u001b[34;01m.\u001b[39;00m\u001b[34;01m_sympy\u001b[39;00m\u001b[34;01m.\u001b[39;00m\u001b[34;01mfunctions\u001b[39;00m\u001b[38;5;250m \u001b[39m\u001b[38;5;28;01mimport\u001b[39;00m (\n\u001b[32m     66\u001b[39m     Application, FloorDiv, Mod, PythonMod, IsNonOverlappingAndDenseIndicator, CleanDiv, FloorToInt, CeilToInt\n\u001b[32m     67\u001b[39m )\n\u001b[32m     68\u001b[39m \u001b[38;5;28;01mfrom\u001b[39;00m\u001b[38;5;250m \u001b[39m\u001b[34;01mtorch\u001b[39;00m\u001b[34;01m.\u001b[39;00m\u001b[34;01mutils\u001b[39;00m\u001b[34;01m.\u001b[39;00m\u001b[34;01m_sympy\u001b[39;00m\u001b[34;01m.\u001b[39;00m\u001b[34;01msolve\u001b[39;00m\u001b[38;5;250m \u001b[39m\u001b[38;5;28;01mimport\u001b[39;00m try_solve\n\u001b[32m     69\u001b[39m \u001b[38;5;28;01mfrom\u001b[39;00m\u001b[38;5;250m \u001b[39m\u001b[34;01mtorch\u001b[39;00m\u001b[34;01m.\u001b[39;00m\u001b[34;01mutils\u001b[39;00m\u001b[34;01m.\u001b[39;00m\u001b[34;01m_sympy\u001b[39;00m\u001b[34;01m.\u001b[39;00m\u001b[34;01mnumbers\u001b[39;00m\u001b[38;5;250m \u001b[39m\u001b[38;5;28;01mimport\u001b[39;00m int_oo\n",
      "\u001b[36mFile \u001b[39m\u001b[32m~/miniconda3/envs/g2m_upd/lib/python3.12/site-packages/torch/utils/_sympy/functions.py:7\u001b[39m\n\u001b[32m      4\u001b[39m \u001b[38;5;28;01mimport\u001b[39;00m\u001b[38;5;250m \u001b[39m\u001b[34;01moperator\u001b[39;00m\n\u001b[32m      5\u001b[39m \u001b[38;5;28;01mimport\u001b[39;00m\u001b[38;5;250m \u001b[39m\u001b[34;01msys\u001b[39;00m\n\u001b[32m----> \u001b[39m\u001b[32m7\u001b[39m \u001b[38;5;28;01mimport\u001b[39;00m\u001b[38;5;250m \u001b[39m\u001b[34;01msympy\u001b[39;00m\n\u001b[32m      8\u001b[39m \u001b[38;5;28;01mfrom\u001b[39;00m\u001b[38;5;250m \u001b[39m\u001b[34;01msympy\u001b[39;00m\u001b[38;5;250m \u001b[39m\u001b[38;5;28;01mimport\u001b[39;00m S\n\u001b[32m      9\u001b[39m \u001b[38;5;28;01mfrom\u001b[39;00m\u001b[38;5;250m \u001b[39m\u001b[34;01msympy\u001b[39;00m\u001b[34;01m.\u001b[39;00m\u001b[34;01mcore\u001b[39;00m\u001b[38;5;250m \u001b[39m\u001b[38;5;28;01mimport\u001b[39;00m sympify\n",
      "\u001b[36mFile \u001b[39m\u001b[32m~/miniconda3/envs/g2m_upd/lib/python3.12/site-packages/sympy/__init__.py:22\u001b[39m\n\u001b[32m     18\u001b[39m \u001b[38;5;28;01mdel\u001b[39;00m sys\n\u001b[32m     21\u001b[39m \u001b[38;5;28;01mtry\u001b[39;00m:\n\u001b[32m---> \u001b[39m\u001b[32m22\u001b[39m     \u001b[38;5;28;01mimport\u001b[39;00m\u001b[38;5;250m \u001b[39m\u001b[34;01mmpmath\u001b[39;00m\n\u001b[32m     23\u001b[39m \u001b[38;5;28;01mexcept\u001b[39;00m \u001b[38;5;167;01mImportError\u001b[39;00m:\n\u001b[32m     24\u001b[39m     \u001b[38;5;28;01mraise\u001b[39;00m \u001b[38;5;167;01mImportError\u001b[39;00m(\u001b[33m\"\u001b[39m\u001b[33mSymPy now depends on mpmath as an external library. \u001b[39m\u001b[33m\"\u001b[39m\n\u001b[32m     25\u001b[39m     \u001b[33m\"\u001b[39m\u001b[33mSee https://docs.sympy.org/latest/install.html#mpmath for more information.\u001b[39m\u001b[33m\"\u001b[39m)\n",
      "\u001b[36mFile \u001b[39m\u001b[32m~/miniconda3/envs/g2m_upd/lib/python3.12/site-packages/mpmath/__init__.py:5\u001b[39m\n\u001b[32m      1\u001b[39m __version__ = \u001b[33m'\u001b[39m\u001b[33m1.3.0\u001b[39m\u001b[33m'\u001b[39m\n\u001b[32m      3\u001b[39m \u001b[38;5;28;01mfrom\u001b[39;00m\u001b[38;5;250m \u001b[39m\u001b[34;01m.\u001b[39;00m\u001b[34;01musertools\u001b[39;00m\u001b[38;5;250m \u001b[39m\u001b[38;5;28;01mimport\u001b[39;00m monitor, timing\n\u001b[32m----> \u001b[39m\u001b[32m5\u001b[39m \u001b[38;5;28;01mfrom\u001b[39;00m\u001b[38;5;250m \u001b[39m\u001b[34;01m.\u001b[39;00m\u001b[34;01mctx_fp\u001b[39;00m\u001b[38;5;250m \u001b[39m\u001b[38;5;28;01mimport\u001b[39;00m FPContext\n\u001b[32m      6\u001b[39m \u001b[38;5;28;01mfrom\u001b[39;00m\u001b[38;5;250m \u001b[39m\u001b[34;01m.\u001b[39;00m\u001b[34;01mctx_mp\u001b[39;00m\u001b[38;5;250m \u001b[39m\u001b[38;5;28;01mimport\u001b[39;00m MPContext\n\u001b[32m      7\u001b[39m \u001b[38;5;28;01mfrom\u001b[39;00m\u001b[38;5;250m \u001b[39m\u001b[34;01m.\u001b[39;00m\u001b[34;01mctx_iv\u001b[39;00m\u001b[38;5;250m \u001b[39m\u001b[38;5;28;01mimport\u001b[39;00m MPIntervalContext\n",
      "\u001b[36mFile \u001b[39m\u001b[32m~/miniconda3/envs/g2m_upd/lib/python3.12/site-packages/mpmath/ctx_fp.py:1\u001b[39m\n\u001b[32m----> \u001b[39m\u001b[32m1\u001b[39m \u001b[38;5;28;01mfrom\u001b[39;00m\u001b[38;5;250m \u001b[39m\u001b[34;01m.\u001b[39;00m\u001b[34;01mctx_base\u001b[39;00m\u001b[38;5;250m \u001b[39m\u001b[38;5;28;01mimport\u001b[39;00m StandardBaseContext\n\u001b[32m      3\u001b[39m \u001b[38;5;28;01mimport\u001b[39;00m\u001b[38;5;250m \u001b[39m\u001b[34;01mmath\u001b[39;00m\n\u001b[32m      4\u001b[39m \u001b[38;5;28;01mimport\u001b[39;00m\u001b[38;5;250m \u001b[39m\u001b[34;01mcmath\u001b[39;00m\n",
      "\u001b[36mFile \u001b[39m\u001b[32m~/miniconda3/envs/g2m_upd/lib/python3.12/site-packages/mpmath/ctx_base.py:5\u001b[39m\n\u001b[32m      1\u001b[39m \u001b[38;5;28;01mfrom\u001b[39;00m\u001b[38;5;250m \u001b[39m\u001b[34;01moperator\u001b[39;00m\u001b[38;5;250m \u001b[39m\u001b[38;5;28;01mimport\u001b[39;00m gt, lt\n\u001b[32m      3\u001b[39m \u001b[38;5;28;01mfrom\u001b[39;00m\u001b[38;5;250m \u001b[39m\u001b[34;01m.\u001b[39;00m\u001b[34;01mlibmp\u001b[39;00m\u001b[34;01m.\u001b[39;00m\u001b[34;01mbackend\u001b[39;00m\u001b[38;5;250m \u001b[39m\u001b[38;5;28;01mimport\u001b[39;00m xrange\n\u001b[32m----> \u001b[39m\u001b[32m5\u001b[39m \u001b[38;5;28;01mfrom\u001b[39;00m\u001b[38;5;250m \u001b[39m\u001b[34;01m.\u001b[39;00m\u001b[34;01mfunctions\u001b[39;00m\u001b[34;01m.\u001b[39;00m\u001b[34;01mfunctions\u001b[39;00m\u001b[38;5;250m \u001b[39m\u001b[38;5;28;01mimport\u001b[39;00m SpecialFunctions\n\u001b[32m      6\u001b[39m \u001b[38;5;28;01mfrom\u001b[39;00m\u001b[38;5;250m \u001b[39m\u001b[34;01m.\u001b[39;00m\u001b[34;01mfunctions\u001b[39;00m\u001b[34;01m.\u001b[39;00m\u001b[34;01mrszeta\u001b[39;00m\u001b[38;5;250m \u001b[39m\u001b[38;5;28;01mimport\u001b[39;00m RSCache\n\u001b[32m      7\u001b[39m \u001b[38;5;28;01mfrom\u001b[39;00m\u001b[38;5;250m \u001b[39m\u001b[34;01m.\u001b[39;00m\u001b[34;01mcalculus\u001b[39;00m\u001b[34;01m.\u001b[39;00m\u001b[34;01mquadrature\u001b[39;00m\u001b[38;5;250m \u001b[39m\u001b[38;5;28;01mimport\u001b[39;00m QuadratureMethods\n",
      "\u001b[36mFile \u001b[39m\u001b[32m~/miniconda3/envs/g2m_upd/lib/python3.12/site-packages/mpmath/functions/__init__.py:4\u001b[39m\n\u001b[32m      2\u001b[39m \u001b[38;5;66;03m# Hack to update methods\u001b[39;00m\n\u001b[32m      3\u001b[39m \u001b[38;5;28;01mfrom\u001b[39;00m\u001b[38;5;250m \u001b[39m\u001b[34;01m.\u001b[39;00m\u001b[38;5;250m \u001b[39m\u001b[38;5;28;01mimport\u001b[39;00m factorials\n\u001b[32m----> \u001b[39m\u001b[32m4\u001b[39m \u001b[38;5;28;01mfrom\u001b[39;00m\u001b[38;5;250m \u001b[39m\u001b[34;01m.\u001b[39;00m\u001b[38;5;250m \u001b[39m\u001b[38;5;28;01mimport\u001b[39;00m hypergeometric\n\u001b[32m      5\u001b[39m \u001b[38;5;28;01mfrom\u001b[39;00m\u001b[38;5;250m \u001b[39m\u001b[34;01m.\u001b[39;00m\u001b[38;5;250m \u001b[39m\u001b[38;5;28;01mimport\u001b[39;00m expintegrals\n\u001b[32m      6\u001b[39m \u001b[38;5;28;01mfrom\u001b[39;00m\u001b[38;5;250m \u001b[39m\u001b[34;01m.\u001b[39;00m\u001b[38;5;250m \u001b[39m\u001b[38;5;28;01mimport\u001b[39;00m bessel\n",
      "\u001b[36mFile \u001b[39m\u001b[32m<frozen importlib._bootstrap>:1360\u001b[39m, in \u001b[36m_find_and_load\u001b[39m\u001b[34m(name, import_)\u001b[39m\n",
      "\u001b[36mFile \u001b[39m\u001b[32m<frozen importlib._bootstrap>:1331\u001b[39m, in \u001b[36m_find_and_load_unlocked\u001b[39m\u001b[34m(name, import_)\u001b[39m\n",
      "\u001b[36mFile \u001b[39m\u001b[32m<frozen importlib._bootstrap>:935\u001b[39m, in \u001b[36m_load_unlocked\u001b[39m\u001b[34m(spec)\u001b[39m\n",
      "\u001b[36mFile \u001b[39m\u001b[32m<frozen importlib._bootstrap_external>:995\u001b[39m, in \u001b[36mexec_module\u001b[39m\u001b[34m(self, module)\u001b[39m\n",
      "\u001b[36mFile \u001b[39m\u001b[32m<frozen importlib._bootstrap_external>:1091\u001b[39m, in \u001b[36mget_code\u001b[39m\u001b[34m(self, fullname)\u001b[39m\n",
      "\u001b[36mFile \u001b[39m\u001b[32m<frozen importlib._bootstrap_external>:1191\u001b[39m, in \u001b[36mget_data\u001b[39m\u001b[34m(self, path)\u001b[39m\n",
      "\u001b[31mKeyboardInterrupt\u001b[39m: "
     ]
    }
   ],
   "source": [
    "# 2. Plot hamiltonian\n",
    "from tools.plot import plot_error_matrices_big\n",
    "\n",
    "\n",
    "calculations_path = Path('../scripts/debug_data.joblib')\n",
    "\n",
    "data = load(calculations_path)\n",
    "\n",
    "print(f\"Loading data from {calculations_path}\")\n",
    "try:\n",
    "    data = load(calculations_path)\n",
    "    print(\"Results loaded!\")\n",
    "except FileNotFoundError:\n",
    "    raise FileNotFoundError(f\"Could not find the saved calculations at {calculations_path}\")\n",
    "\n",
    "# Reconstruct your tuples and labels\n",
    "train_data   = (data['train_true'],   data['train_pred'])\n",
    "val_data     = (data['val_true'],     data['val_pred'])\n",
    "train_labels = data['train_labels']\n",
    "val_labels   = data['val_labels']\n",
    "\n",
    "\n",
    "# Unpack for clarity\n",
    "train_true, train_pred = train_data\n",
    "val_true,   val_pred   = val_data\n",
    "\n",
    "n_train_samples = len(train_data[0])\n",
    "n_val_samples = len(val_data[0])\n",
    "\n",
    "print(\"Plotting hamiltonian...\")\n",
    "h_true = train_true[0]\n",
    "h_pred = train_pred[0]\n",
    "title = f\"test\"\n",
    "# filepath = savedir / f\"{n_atoms}atm_{structure}_hamiltonian.png\"\n",
    "plot_error_matrices_big(true_matrix=h_true.todense(), predicted_matrix=h_pred.todense())\n"
   ]
  },
  {
   "cell_type": "code",
   "execution_count": null,
   "id": "e69ddc4b",
   "metadata": {},
   "outputs": [],
   "source": []
  }
 ],
 "metadata": {
  "kernelspec": {
   "display_name": "g2m_upd",
   "language": "python",
   "name": "python3"
  },
  "language_info": {
   "codemirror_mode": {
    "name": "ipython",
    "version": 3
   },
   "file_extension": ".py",
   "mimetype": "text/x-python",
   "name": "python",
   "nbconvert_exporter": "python",
   "pygments_lexer": "ipython3",
   "version": "3.12.11"
  }
 },
 "nbformat": 4,
 "nbformat_minor": 5
}
