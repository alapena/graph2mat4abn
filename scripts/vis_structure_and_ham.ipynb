{
 "cells": [
  {
   "cell_type": "code",
   "execution_count": 4,
   "id": "619f3a92",
   "metadata": {},
   "outputs": [],
   "source": [
    "from joblib import dump, load\n",
    "from pathlib import Path\n",
    "import numpy as np\n",
    "import matplotlib.pyplot as plt\n",
    "import sisl\n",
    "\n",
    "def plot_hamiltonian_matplotlib(true_matrix, predicted_matrix, matrix_label=None, figure_title=None, predicted_matrix_text=None, filepath=None, force_max_colorbar_abs_error=None):\n",
    "    \"\"\"Matplotlib visualization of error matrices.\"\"\"\n",
    "\n",
    "    # Error matrices\n",
    "    absolute_error_matrix = true_matrix - predicted_matrix\n",
    "    threshold = 0.001\n",
    "    mask = true_matrix >= threshold\n",
    "    relative_error_matrix = np.where(mask, absolute_error_matrix / (true_matrix + threshold) * 100, 0)\n",
    "\n",
    "    # Colorbar limits\n",
    "    vmin = np.min([np.min(true_matrix), np.min(predicted_matrix)])\n",
    "    vmax = np.max([np.max(true_matrix), np.max(predicted_matrix)])\n",
    "    lim_data = max(np.abs(vmin), np.abs(vmax))\n",
    "\n",
    "    if force_max_colorbar_abs_error is None:\n",
    "        lim_abs = np.max(np.abs(absolute_error_matrix))\n",
    "    else:\n",
    "        lim_abs = force_max_colorbar_abs_error\n",
    "\n",
    "    lim_rel = 100.0  # %\n",
    "\n",
    "    cbar_limits = [lim_data, lim_data, lim_abs, lim_rel]\n",
    "\n",
    "    # Titles\n",
    "    if matrix_label is None:\n",
    "        matrix_label = ''\n",
    "    titles = [\n",
    "        \"True \" + matrix_label,\n",
    "        \"Predicted \" + matrix_label,\n",
    "        \"Absolute error (T-P)\",\n",
    "        f\"Relative error (T-P)/(T) (masked where T is above {threshold})\"\n",
    "    ]\n",
    "    cbar_titles = [\"eV\", \"eV\", \"eV\", \"%\"]\n",
    "\n",
    "    # Matrices to plot\n",
    "    matrices = [true_matrix, predicted_matrix, absolute_error_matrix, relative_error_matrix]\n",
    "\n",
    "    fig, axes = plt.subplots(4, 1, figsize=(10, 16), constrained_layout=True, gridspec_kw={'hspace': 0.15})\n",
    "    fig.suptitle(figure_title if figure_title else \"Matrix Comparison and Errors\", fontsize=16)\n",
    "\n",
    "    for i, (matrix, ax) in enumerate(zip(matrices, axes)):\n",
    "        im = ax.imshow(matrix, cmap='RdBu', vmin=-cbar_limits[i], vmax=cbar_limits[i])\n",
    "        ax.set_title(titles[i])\n",
    "        ax.set_ylabel(\"Row\")\n",
    "        cbar = fig.colorbar(im, ax=ax, orientation='vertical', fraction=0.045, pad=0.02)\n",
    "        cbar.set_label(cbar_titles[i])\n",
    "        ax.set_xlabel(\"Col\")\n",
    "        ax.set_aspect('auto')\n",
    "\n",
    "    # Text under predicted matrix (subplot 2)\n",
    "    if predicted_matrix_text is not None:\n",
    "        axes[1].text(1.0, -0.25, predicted_matrix_text, ha='right', va='center', fontsize=10, transform=axes[1].transAxes)\n",
    "\n",
    "    # Absolute error stats (exclude zeros for stats)\n",
    "    abs_err_nonzero = np.abs(absolute_error_matrix)[absolute_error_matrix != 0]\n",
    "    if abs_err_nonzero.size > 0:\n",
    "        mean_abs = np.mean(abs_err_nonzero)\n",
    "        std_abs = np.std(abs_err_nonzero)\n",
    "    else:\n",
    "        mean_abs = std_abs = 0.0\n",
    "    max_absolute_error = np.max(absolute_error_matrix)\n",
    "    min_absolute_error = np.min(absolute_error_matrix)\n",
    "    max_abs = np.max(np.abs([max_absolute_error, min_absolute_error]))\n",
    "\n",
    "    fig.text(\n",
    "        0.5, 0.245,\n",
    "        f\"mean_nnz(|T-P|) = {mean_abs:.3f} eV, std_nnz(|T-P|) = {std_abs:.3f} eV, |max| = {max_abs:.3f} eV\",\n",
    "        ha='center', va='center', fontsize=11,\n",
    "    )\n",
    "\n",
    "    # Relative error stats (exclude zeros for stats)\n",
    "    rel_err_nonzero = np.abs(relative_error_matrix)[relative_error_matrix != 0]\n",
    "    if rel_err_nonzero.size > 0:\n",
    "        mean_rel = np.mean(rel_err_nonzero)\n",
    "        std_rel = np.std(rel_err_nonzero)\n",
    "    else:\n",
    "        mean_rel = std_rel = 0.0\n",
    "    max_relative_error = np.max(relative_error_matrix)\n",
    "    min_relative_error = np.min(relative_error_matrix)\n",
    "    max_abs_rel = np.max(np.abs([max_relative_error, min_relative_error]))\n",
    "\n",
    "    fig.text(\n",
    "        0.5, 0.001,\n",
    "        f\"mean_nnz(|T-P|) = {mean_rel:.3f} %, std_nnz(|T-P|) = {std_rel:.3f} %, |max| = {max_abs_rel:.3f} %\",\n",
    "        ha='center', va='center', fontsize=11,\n",
    "    )\n",
    "    axes[-1].set_xlabel(\" \")\n",
    "\n",
    "    # Output\n",
    "    if filepath:\n",
    "        plt.savefig(filepath, dpi=150, bbox_inches='tight')\n",
    "        plt.close(fig)\n",
    "    else:\n",
    "        plt.show()\n",
    "        plt.close(fig)"
   ]
  },
  {
   "cell_type": "code",
   "execution_count": null,
   "id": "dbe54e5e",
   "metadata": {},
   "outputs": [
    {
     "name": "stdout",
     "output_type": "stream",
     "text": [
      "Plotting structure...\n"
     ]
    },
    {
     "data": {
      "application/vnd.plotly.v1+json": {
       "config": {
        "plotlyServerURL": "https://plot.ly"
       },
       "data": [
        {
         "line": {
          "color": "gray",
          "width": 10
         },
         "meta": {},
         "mode": "lines",
         "name": "Bonds",
         "opacity": 1,
         "type": "scatter3d",
         "x": {
          "bdata": "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",
          "dtype": "f8"
         },
         "y": {
          "bdata": "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",
          "dtype": "f8"
         },
         "z": {
          "bdata": "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",
          "dtype": "f8"
         }
        },
        {
         "alphahull": 0,
         "color": "#FFB5B5",
         "hovertemplate": "%{meta.position}",
         "legendgroup": "Atoms",
         "meta": {
          "meta": {
           "Atoms_i": 0
          },
          "position": "(0.10, 0.01, 0.01)"
         },
         "name": "Atoms",
         "opacity": 1,
         "showlegend": true,
         "showscale": false,
         "type": "mesh3d",
         "x": {
          "bdata": "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",
          "dtype": "f8"
         },
         "y": {
          "bdata": "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",
          "dtype": "f8"
         },
         "z": {
          "bdata": "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",
          "dtype": "f8"
         }
        },
        {
         "alphahull": 0,
         "color": "#3050F8",
         "hovertemplate": "%{meta.position}",
         "legendgroup": "Atoms",
         "meta": {
          "meta": {
           "Atoms_i": 1
          },
          "position": "(0.82, 1.50, 0.00)"
         },
         "name": "Atoms",
         "opacity": 1,
         "showlegend": false,
         "showscale": false,
         "type": "mesh3d",
         "x": {
          "bdata": "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",
          "dtype": "f8"
         },
         "y": {
          "bdata": "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",
          "dtype": "f8"
         },
         "z": {
          "bdata": "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",
          "dtype": "f8"
         }
        },
        {
         "alphahull": 0,
         "color": "#FFB5B5",
         "hovertemplate": "%{meta.position}",
         "legendgroup": "Atoms",
         "meta": {
          "meta": {
           "Atoms_i": 2
          },
          "position": "(3.01, 2.76, 0.00)"
         },
         "name": "Atoms",
         "opacity": 1,
         "showlegend": false,
         "showscale": false,
         "type": "mesh3d",
         "x": {
          "bdata": "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",
          "dtype": "f8"
         },
         "y": {
          "bdata": "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",
          "dtype": "f8"
         },
         "z": {
          "bdata": "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",
          "dtype": "f8"
         }
        },
        {
         "alphahull": 0,
         "color": "#3050F8",
         "hovertemplate": "%{meta.position}",
         "legendgroup": "Atoms",
         "meta": {
          "meta": {
           "Atoms_i": 3
          },
          "position": "(2.28, 1.50, 0.00)"
         },
         "name": "Atoms",
         "opacity": 1,
         "showlegend": false,
         "showscale": false,
         "type": "mesh3d",
         "x": {
          "bdata": "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",
          "dtype": "f8"
         },
         "y": {
          "bdata": "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",
          "dtype": "f8"
         },
         "z": {
          "bdata": "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",
          "dtype": "f8"
         }
        },
        {
         "alphahull": 0,
         "color": "#3050F8",
         "hovertemplate": "%{meta.position}",
         "legendgroup": "Atoms",
         "meta": {
          "meta": {
           "Atoms_i": 4
          },
          "position": "(4.62, 0.01, 3.48)"
         },
         "name": "Atoms",
         "opacity": 1,
         "showlegend": false,
         "showscale": false,
         "type": "mesh3d",
         "x": {
          "bdata": "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",
          "dtype": "f8"
         },
         "y": {
          "bdata": "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",
          "dtype": "f8"
         },
         "z": {
          "bdata": "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",
          "dtype": "f8"
         }
        },
        {
         "alphahull": 0,
         "color": "#FFB5B5",
         "hovertemplate": "%{meta.position}",
         "legendgroup": "Atoms",
         "meta": {
          "meta": {
           "Atoms_i": 5
          },
          "position": "(0.68, 1.50, 3.47)"
         },
         "name": "Atoms",
         "opacity": 1,
         "showlegend": false,
         "showscale": false,
         "type": "mesh3d",
         "x": {
          "bdata": "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",
          "dtype": "f8"
         },
         "y": {
          "bdata": "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",
          "dtype": "f8"
         },
         "z": {
          "bdata": "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",
          "dtype": "f8"
         }
        },
        {
         "alphahull": 0,
         "color": "#3050F8",
         "hovertemplate": "%{meta.position}",
         "legendgroup": "Atoms",
         "meta": {
          "meta": {
           "Atoms_i": 6
          },
          "position": "(3.14, 2.76, 3.47)"
         },
         "name": "Atoms",
         "opacity": 1,
         "showlegend": false,
         "showscale": false,
         "type": "mesh3d",
         "x": {
          "bdata": "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",
          "dtype": "f8"
         },
         "y": {
          "bdata": "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",
          "dtype": "f8"
         },
         "z": {
          "bdata": "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",
          "dtype": "f8"
         }
        },
        {
         "alphahull": 0,
         "color": "#FFB5B5",
         "hovertemplate": "%{meta.position}",
         "legendgroup": "Atoms",
         "meta": {
          "meta": {
           "Atoms_i": 7
          },
          "position": "(2.41, 1.50, 3.47)"
         },
         "name": "Atoms",
         "opacity": 1,
         "showlegend": false,
         "showscale": false,
         "type": "mesh3d",
         "x": {
          "bdata": "fTFM0BxOA0B9MUzQHE4DQH0xTNAcTgNAfTFM0BxOA0B9MUzQHE4DQH0xTNAcTgNAfTFM0BxOA0B9MUzQHE4DQH0xTNAcTgNAfTFM0BxOA0B9MUzQHE4DQH0xTNAcTgNAfTFM0BxOA0B9MUzQHE4DQH0xTNAcTgNA8/RwaZfaBEDn8grkU7MEQADakCdQRQRAUXpkYFamA0Cp6DNA4/UCQPqIB3npVgJAE3CNvOXoAUAHbic3osEBQBNwjbzl6AFA+ogHeelWAkCp6DNA4/UCQFF6ZGBWpgNAANqQJ1BFBEDn8grkU7MEQPP0cGmX2gRAxNVRcjBTBkAa3/ttoQYGQCIfWTQeMAVAqEOsZyP6A0BSH+w4FqICQNhDP2wbbAFA4IOcMpiVAEA2jUYuCUkAQOCDnDKYlQBA2EM/bBtsAUBSH+w4FqICQKhDrGcj+gNAIh9ZNB4wBUAa3/ttoQYGQMTVUXIwUwZAxnfukAWlB0DfXnTUATcHQD3kZ8vAAgZAANqQJ1BFBED6iAd56VYCQL1+MNV4mQBANghImG/K/j9o1lMfaO79PzYISJhvyv4/vX4w1XiZAED6iAd56VYCQP/ZkCdQRQRAPeRny8ACBkDfXnTUATcHQMZ37pAFpQdAuIyrCya/CEBpw17WMTUIQEbxWwWosgZA9wz5nBeEBEADVp8DIhgCQGnjeDYj0/8/Ij9zlA/O/D+FrNkpJ7r7PyI/c5QPzvw/aON4NiPT/z8DVp8DIhgCQPYM+ZwXhARARfFbBaiyBkBpw17WMTUIQLiMqwsmvwhAy8h3P2yTCUAcaUt4cvQIQN9edNQBNwdA5/IK5FOzBEATcI285egBQDYISJhvyv4/vPOZUI5P+z9eNEHCmhH6P7vzmVCOT/s/NghImG/K/j8TcI285egBQObyCuRTswRA31501AE3B0AcaUt4cvQIQMvIdz9skwlADrFrOjMXCkDjngujLGsJQD6x/j4riQdAoQNPoabQBEBaX0n/kssBQHhjM8McJv4/L4gZ+xli+j/YY1nMDAr5Py6IGfsZYvo/eGMzwxwm/j9ZX0n/kssBQKADT6Gm0ARAPrH+PiuJB0DingujLGsJQA6xazozFwpAc1qoX99DCkDLyHc/bJMJQMZ37pAFpQdA8/RwaZfaBEAIbic3osEBQGjWUx9o7v0/XjRBwpoR+j8OEeCBtLD4P140QcKaEfo/Z9ZTH2ju/T8Hbic3osEBQPL0cGmX2gRAxnfukAWlB0DLyHc/bJMJQHNaqF/fQwpADrFrOjMXCkDjngujLGsJQD6x/j4riQdAoQNPoabQBEBaX0n/kssBQHhjM8McJv4/L4gZ+xli+j/YY1nMDAr5Py6IGfsZYvo/eGMzwxwm/j9ZX0n/kssBQKADT6Gm0ARAPrH+PiuJB0DingujLGsJQA6xazozFwpAy8h3P2yTCUAcaUt4cvQIQN9edNQBNwdA5/IK5FOzBEATcI285egBQDYISJhvyv4/vPOZUI5P+z9eNEHCmhH6P7vzmVCOT/s/NghImG/K/j8TcI285egBQObyCuRTswRA31501AE3B0AcaUt4cvQIQMvIdz9skwlAuIyrCya/CEBpw17WMTUIQEbxWwWosgZA9wz5nBeEBEADVp8DIhgCQGnjeDYj0/8/Ij9zlA/O/D+ErNkpJ7r7PyI/c5QPzvw/aON4NiPT/z8DVp8DIhgCQPYM+ZwXhARARfFbBaiyBkBpw17WMTUIQLiMqwsmvwhAxnfukAWlB0DfXnTUATcHQD3kZ8vAAgZAANqQJ1BFBED6iAd56VYCQL1+MNV4mQBANghImG/K/j9o1lMfaO79PzYISJhvyv4/vX4w1XiZAED6iAd56VYCQP/ZkCdQRQRAPeRny8ACBkDfXnTUATcHQMZ37pAFpQdAxNVRcjBTBkAa3/ttoQYGQCIfWTQeMAVAqEOsZyP6A0BSH+w4FqICQNhDP2wbbAFA4IOcMpiVAEA2jUYuCUkAQOCDnDKYlQBA2EM/bBtsAUBSH+w4FqICQKhDrGcj+gNAIh9ZNB4wBUAa3/ttoQYGQMTVUXIwUwZA8/RwaZfaBEDn8grkU7MEQADakCdQRQRAUXpkYFamA0Cp6DNA4/UCQPqIB3npVgJAE3CNvOXoAUAHbic3osEBQBNwjbzl6AFA+ogHeelWAkCp6DNA4/UCQFF6ZGBWpgNAANqQJ1BFBEDn8grkU7MEQPP0cGmX2gRAfTFM0BxOA0B9MUzQHE4DQH0xTNAcTgNAfTFM0BxOA0B9MUzQHE4DQH0xTNAcTgNAfTFM0BxOA0B9MUzQHE4DQH0xTNAcTgNAfTFM0BxOA0B9MUzQHE4DQH0xTNAcTgNAfTFM0BxOA0B9MUzQHE4DQH0xTNAcTgNA",
          "dtype": "f8"
         },
         "y": {
          "bdata": "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",
          "dtype": "f8"
         },
         "z": {
          "bdata": "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",
          "dtype": "f8"
         }
        },
        {
         "meta": {},
         "mode": "lines",
         "name": "Unit cell",
         "type": "scatter3d",
         "x": {
          "bdata": "AAAAAAAAAAAAAAAAAAAAAEpGzsKelhJASkbOwp6WEkAAAAAAAAAAAAAAAAAAAAAAAAAAAAAA+H8AAAAAAAAAAAAAAAAAAAAAAAAAAAAAAABKRs7CnpYSQEpGzsKelhJAAAAAAAAAAAAAAAAAAAD4f0pGzsKelhJASkbOwp6WEkAAAAAAAAD4f0pGzsKelhJASkbOwp6WEkA=",
          "dtype": "f8"
         },
         "y": {
          "bdata": "AAAAAAAAAACRYRVvZB4GQJFhFW9kHgZAkWEVb2QeBkCRYRVvZB4GQJFhFW9kHgZAAAAAAAAA+H+RYRVvZB4GQAAAAAAAAAAAAAAAAAAAAAAAAAAAAAAAAAAAAAAAAAAAAAAAAAAAAAAAAAAAAAD4f5FhFW9kHgZAAAAAAAAAAAAAAAAAAAD4f5FhFW9kHgZAAAAAAAAAAAA=",
          "dtype": "f8"
         },
         "z": {
          "bdata": "AAAAAAAAAAAAAAAAAAAAAAAAAAAAAAAAeCgK9ImcHEB4KAr0iZwcQAAAAAAAAAAAAAAAAAAA+H94KAr0iZwcQHgoCvSJnBxAAAAAAAAAAAAAAAAAAAAAAHgoCvSJnBxAeCgK9ImcHEAAAAAAAAD4fwAAAAAAAAAAAAAAAAAAAAAAAAAAAAD4f3goCvSJnBxAeCgK9ImcHEA=",
          "dtype": "f8"
         }
        }
       ],
       "layout": {
        "autosize": false,
        "height": 800,
        "scene": {
         "aspectmode": "data",
         "xaxis": {
          "title": {
           "text": "X axis [Ang]"
          }
         },
         "yaxis": {
          "title": {
           "text": "Y axis [Ang]"
          }
         },
         "zaxis": {
          "title": {
           "text": "Z axis [Ang]"
          }
         }
        },
        "showlegend": false,
        "template": {
         "layout": {
          "hovermode": "closest",
          "paper_bgcolor": "white",
          "plot_bgcolor": "white",
          "scene": {
           "xaxis": {
            "color": "black",
            "gridcolor": "#ccc",
            "gridwidth": 1,
            "linewidth": 1,
            "mirror": true,
            "showgrid": false,
            "showline": true,
            "ticklen": 5,
            "ticks": "outside",
            "ticksuffix": " ",
            "visible": true,
            "zeroline": false,
            "zerolinecolor": "#ccc",
            "zerolinewidth": 1
           },
           "yaxis": {
            "color": "black",
            "gridcolor": "#ccc",
            "gridwidth": 1,
            "linewidth": 1,
            "mirror": true,
            "showgrid": false,
            "showline": true,
            "ticklen": 5,
            "ticks": "outside",
            "ticksuffix": " ",
            "visible": true,
            "zeroline": false,
            "zerolinecolor": "#ccc",
            "zerolinewidth": 1
           },
           "zaxis": {
            "color": "black",
            "gridcolor": "#ccc",
            "gridwidth": 1,
            "linewidth": 1,
            "mirror": true,
            "showgrid": false,
            "showline": true,
            "ticklen": 5,
            "ticks": "outside",
            "ticksuffix": " ",
            "visible": true,
            "zeroline": false,
            "zerolinecolor": "#ccc",
            "zerolinewidth": 1
           }
          },
          "xaxis": {
           "color": "black",
           "gridcolor": "#ccc",
           "gridwidth": 1,
           "linewidth": 1,
           "mirror": true,
           "showgrid": false,
           "showline": true,
           "ticklen": 5,
           "ticks": "outside",
           "ticksuffix": " ",
           "visible": true,
           "zeroline": false,
           "zerolinecolor": "#ccc",
           "zerolinewidth": 1
          },
          "yaxis": {
           "color": "black",
           "gridcolor": "#ccc",
           "gridwidth": 1,
           "linewidth": 1,
           "mirror": true,
           "showgrid": false,
           "showline": true,
           "ticklen": 5,
           "ticks": "outside",
           "ticksuffix": " ",
           "visible": true,
           "zeroline": false,
           "zerolinecolor": "#ccc",
           "zerolinewidth": 1
          }
         }
        },
        "width": 800,
        "xaxis": {
         "scaleanchor": "y",
         "scaleratio": 1,
         "title": {
          "text": "X axis [Ang]"
         }
        },
        "yaxis": {
         "title": {
          "text": "Y axis [Ang]"
         }
        }
       }
      }
     },
     "metadata": {},
     "output_type": "display_data"
    },
    {
     "data": {
      "text/plain": [
       "array([5, 7, 5, 7, 7, 5, 7, 5], dtype=int32)"
      ]
     },
     "execution_count": 49,
     "metadata": {},
     "output_type": "execute_result"
    }
   ],
   "source": [
    "# 1. Plot structure\n",
    "# path = Path(\"../dataset/SHARE_OUTPUTS_2_ATOMS/0953-8dcf-411e-ae7b-00f794981cc5\") # B-N Overlapped\n",
    "# path = Path(\"../dataset/SHARE_OUTPUTS_2_ATOMS/c0e0-7549-496d-82e7-c3f6b1d81e58\") # B-N No overlapped\n",
    "\n",
    "# Boron: Grey\n",
    "# path = Path(\"../dataset/SHARE_OUTPUTS_2_ATOMS/2e65-1feb-4df2-8836-e5513b9bade0\") # B-B Overlapped\n",
    "# path = Path(\"../dataset/SHARE_OUTPUTS_2_ATOMS/7e20-9cdf-4b2c-8134-6cadc8f64c34\") # B-B No overlapped\n",
    "# path = Path(\"../dataset/SHARE_OUTPUTS_2_ATOMS/a4f7-5d3f-4e50-9eda-87df3bf9ba58\") # B-B No overlapped (Pero sí en la siguiente cell)\n",
    "\n",
    "# path = Path(\"../dataset/SHARE_OUTPUTS_8_ATOMS/39cf-a27b-42dd-a62e-62556132a798\") #Hexagonal\n",
    "# path = Path(\"../dataset/SHARE_OUTPUTS_8_ATOMS/11ad-ba95-4a26-8f92-5267f5787553\") #Cubic\n",
    "\n",
    "#Val:\n",
    "path = Path(\"../dataset/SHARE_OUTPUTS_2_ATOMS/fc1c-6ab6-4c0e-921e-99710e6fe41b\") #N-N Small overlapped\n",
    "path = Path(\"../dataset/SHARE_OUTPUTS_2_ATOMS/f016-fb0e-4d5c-b584-4f8987eb5676\") #N-N No overlapped\n",
    "\n",
    "path = Path(\"../dataset/SHARE_OUTPUTS_2_ATOMS/a4e4-2f64-4e68-a37a-9e84eb767a0c\") # B-B No overlapped\n",
    "path = Path(\"../dataset/SHARE_OUTPUTS_2_ATOMS/7bbb-6d51-41eb-9de4-329298202ebf\") # B-B overlapped\n",
    "\n",
    "path = Path(\"../dataset/SHARE_OUTPUTS_8_ATOMS/173e-fad7-4f78-8350-6759a5471596\") #Cubic\n",
    "path = Path(\"../dataset/SHARE_OUTPUTS_8_ATOMS/4b9b-20df-4fe5-a669-88ff91902e97\") #Hexagonal\n",
    "\n",
    "# Report:\n",
    "path = Path(\"../dataset/SHARE_OUTPUTS_8_ATOMS/0b9e-8905-4d8f-aee8-92b8c892c484\") # 8 atms cubic\n",
    "path = Path(\"../dataset/SHARE_OUTPUTS_8_ATOMS/82b3-4886-4447-b723-43a3ec6aa15c\") #8 atm hBN physical\n",
    "\n",
    "path = Path(\"../dataset/SHARE_OUTPUTS_64_ATOMS/5dfc-7444-43ac-a2b0-db75f49a7bb9\")\n",
    "path = Path(\"../dataset/SHARE_OUTPUTS_64_ATOMS/342f-eb3b-4268-820f-747c3936102b\")\n",
    "path = Path(\"../dataset/SHARE_OUTPUTS_64_ATOMS/16d6-8097-4bb8-9819-38b7f0f4dfad\")\n",
    "\n",
    "# Report:\n",
    "path = Path(\"../dataset/SHARE_OUTPUTS_2_ATOMS/d249-97ce-4fdf-8948-cfce4078c8ac\") # Training B-N overlap\n",
    "path = Path(\"../dataset/SHARE_OUTPUTS_2_ATOMS/0a4c-6759-46e6-bf5e-6439eefcaad2\") # Val B-N no overlap\n",
    "path = Path(\"../dataset/SHARE_OUTPUTS_2_ATOMS/abf6-ddbd-4c06-b266-c1d188d0f599\") # Training B-B nears\n",
    "path = Path(\"../dataset/SHARE_OUTPUTS_2_ATOMS/f7bc-fcea-4f67-9e15-4bd1ef5678df\") # Val B-B overlap --\n",
    "path = Path(\"../dataset/SHARE_OUTPUTS_2_ATOMS/e486-4f49-4560-a4d2-0363fd9b5157\") # Training N-N overlap\n",
    "path = Path(\"../dataset/SHARE_OUTPUTS_2_ATOMS/2aa6-e839-4ca4-9e63-0cc27be5f76f\") # Val N-N Overlap\n",
    "\n",
    "path = Path(\"../dataset/SHARE_OUTPUTS_8_ATOMS/e1df-2940-4ada-b9c0-d210a6bb2a19\") # Training cubic BN\n",
    "path = Path(\"../dataset/SHARE_OUTPUTS_8_ATOMS/4ed6-914e-4aa3-923a-53c873f0cc31\") # Val cubic BN 5e9e-df50-4bd8-861a-b544fa2116fe\n",
    "path = Path(\"../dataset/SHARE_OUTPUTS_8_ATOMS/2800-0707-4395-86fa-85a2b8ed818b\") # Training non physical hBN\n",
    "path = Path(\"../dataset/SHARE_OUTPUTS_8_ATOMS/33ef-ca33-4bf0-a36e-6e852deab7b5\") # VAl non physical hBN --\n",
    "path = Path(\"../dataset/SHARE_OUTPUTS_8_ATOMS/d4f5-6b48-494f-b1de-c7e944c09f38\") # Training physical hBN\n",
    "path = Path(\"../dataset/SHARE_OUTPUTS_8_ATOMS/5721-4d12-41f2-9f31-f7ee4fcf1096\") # Val physical hBN\n",
    "\n",
    "path = Path(\"../dataset/SHARE_OUTPUTS_64_ATOMS/99a9-5416-41e9-940d-70653c6897f9\") # Training 64 of 2-8-64 and 64\n",
    "path = Path(\"../dataset/SHARE_OUTPUTS_64_ATOMS/787c-11ce-4307-b603-b6c431698245\") # Training 64 of 2-8-64 and 64\n",
    "path = Path(\"../dataset/SHARE_OUTPUTS_64_ATOMS/806e-3a78-4e32-9aeb-35dc6e0df137\")  # Val 64 of 2-8-64 and 64\n",
    "path = Path(\"../dataset/SHARE_OUTPUTS_64_ATOMS/90b9-0d95-49d2-87ed-bd09def740fa\") # Val 64 of 2-8-64\n",
    "path = Path(\"../dataset/SHARE_OUTPUTS_64_ATOMS/13df-16c2-48b8-aa26-9b0b4b906db2\") # Val 64 of 64\n",
    "\n",
    "\n",
    "path = Path(\"../dataset/SHARE_OUTPUTS_8_ATOMS/33ef-ca33-4bf0-a36e-6e852deab7b5\")\n",
    "\n",
    "\n",
    "\n",
    "print(\"Plotting structure...\")\n",
    "file = sisl.get_sile(path / \"aiida.fdf\")\n",
    "fig = file.plot.geometry(axes=\"xyz\")\n",
    "# filepath = savedir_struct / f\"{n_atoms}atm_{structure}.png\"\n",
    "# fig.write_image(str(filepath))\n",
    "fig.update_layout(\n",
    "    autosize=False,\n",
    "    width=800,\n",
    "    height=800,\n",
    "    showlegend=False,\n",
    ")\n",
    "fig.show()\n",
    "file.read_geometry().atoms.Z"
   ]
  },
  {
   "cell_type": "code",
   "execution_count": null,
   "id": "2ecec312",
   "metadata": {},
   "outputs": [
    {
     "ename": "ModuleNotFoundError",
     "evalue": "No module named 'tools'",
     "output_type": "error",
     "traceback": [
      "\u001b[31m---------------------------------------------------------------------------\u001b[39m",
      "\u001b[31mModuleNotFoundError\u001b[39m                       Traceback (most recent call last)",
      "\u001b[36mCell\u001b[39m\u001b[36m \u001b[39m\u001b[32mIn[4]\u001b[39m\u001b[32m, line 2\u001b[39m\n\u001b[32m      1\u001b[39m \u001b[38;5;66;03m# 2. Plot hamiltonian\u001b[39;00m\n\u001b[32m----> \u001b[39m\u001b[32m2\u001b[39m \u001b[38;5;28;01mfrom\u001b[39;00m\u001b[38;5;250m \u001b[39m\u001b[34;01mtools\u001b[39;00m\u001b[34;01m.\u001b[39;00m\u001b[34;01mplot\u001b[39;00m\u001b[38;5;250m \u001b[39m\u001b[38;5;28;01mimport\u001b[39;00m plot_error_matrices_big\n\u001b[32m      5\u001b[39m calculations_path = Path(\u001b[33m'\u001b[39m\u001b[33m../scripts/debug_data.joblib\u001b[39m\u001b[33m'\u001b[39m)\n\u001b[32m      7\u001b[39m data = load(calculations_path)\n",
      "\u001b[31mModuleNotFoundError\u001b[39m: No module named 'tools'"
     ]
    }
   ],
   "source": [
    "# 2. Plot hamiltonian\n",
    "from tools.plot import plot_error_matrices_big\n",
    "\n",
    "\n",
    "calculations_path = Path('../scripts/debug_data.joblib')\n",
    "\n",
    "data = load(calculations_path)\n",
    "\n",
    "print(f\"Loading data from {calculations_path}\")\n",
    "try:\n",
    "    data = load(calculations_path)\n",
    "    print(\"Results loaded!\")\n",
    "except FileNotFoundError:\n",
    "    raise FileNotFoundError(f\"Could not find the saved calculations at {calculations_path}\")\n",
    "\n",
    "# Reconstruct your tuples and labels\n",
    "train_data   = (data['train_true'],   data['train_pred'])\n",
    "val_data     = (data['val_true'],     data['val_pred'])\n",
    "train_labels = data['train_labels']\n",
    "val_labels   = data['val_labels']\n",
    "\n",
    "\n",
    "# Unpack for clarity\n",
    "train_true, train_pred = train_data\n",
    "val_true,   val_pred   = val_data\n",
    "\n",
    "n_train_samples = len(train_data[0])\n",
    "n_val_samples = len(val_data[0])\n",
    "\n",
    "print(\"Plotting hamiltonian...\")\n",
    "h_true = train_true[0]\n",
    "h_pred = train_pred[0]\n",
    "title = f\"test\"\n",
    "# filepath = savedir / f\"{n_atoms}atm_{structure}_hamiltonian.png\"\n",
    "plot_error_matrices_big(true_matrix=h_true.todense(), predicted_matrix=h_pred.todense())\n"
   ]
  },
  {
   "cell_type": "code",
   "execution_count": null,
   "id": "e69ddc4b",
   "metadata": {},
   "outputs": [],
   "source": []
  }
 ],
 "metadata": {
  "kernelspec": {
   "display_name": "graph2mat_upt",
   "language": "python",
   "name": "python3"
  },
  "language_info": {
   "codemirror_mode": {
    "name": "ipython",
    "version": 3
   },
   "file_extension": ".py",
   "mimetype": "text/x-python",
   "name": "python",
   "nbconvert_exporter": "python",
   "pygments_lexer": "ipython3",
   "version": "3.12.11"
  }
 },
 "nbformat": 4,
 "nbformat_minor": 5
}
