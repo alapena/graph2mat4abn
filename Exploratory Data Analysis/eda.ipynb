{
 "cells": [
  {
   "cell_type": "code",
   "execution_count": 6,
   "id": "76616d22",
   "metadata": {},
   "outputs": [
    {
     "name": "stderr",
     "output_type": "stream",
     "text": [
      "100%|██████████| 1311/1311 [00:01<00:00, 847.94it/s]\n"
     ]
    }
   ],
   "source": [
    "import sisl\n",
    "import pandas as pd\n",
    "import csv\n",
    "import ast\n",
    "\n",
    "from pathlib import Path\n",
    "from tqdm import tqdm\n",
    "\n",
    "# Read the dataset using SISL\n",
    "path= Path('../dataset')\n",
    "\n",
    "# Get all subdirectories (atom types)\n",
    "n_atoms_paths = list(path.glob('*/'))\n",
    "\n",
    "# Then all structures\n",
    "i=0\n",
    "structure_paths = [list(n_atoms_paths[i].glob('*/')) for i in range(len(n_atoms_paths))]\n",
    "structure_paths = [item for sublist in structure_paths for item in sublist]\n",
    "\n",
    "# Create Padnas DataFrame\n",
    "columns = [\"n_atoms\", \"atomic_number\", \"atomic_symbol\", \"atomic_positions\", \"lattice_nsc\", \"lattice_origin\", \"lattice_vectors\", \"boundary_condition\"]\n",
    "df = pd.DataFrame(columns=columns)\n",
    "for structure in tqdm(structure_paths):\n",
    "    file = sisl.get_sile(structure / \"aiida.HSX\")\n",
    "    geometry = file.read_geometry()\n",
    "    lattice_vectors = geometry.lattice\n",
    "\n",
    "    # Get atom symbols\n",
    "    atomic_symbols = []\n",
    "    for atom in geometry.atoms:\n",
    "        atomic_symbols.append(atom.symbol)\n",
    "\n",
    "    row_dict = {\n",
    "        \"n_atoms\": len(geometry),\n",
    "        \"atomic_number\": geometry.atoms.Z,\n",
    "        \"atomic_symbol\": atomic_symbols,\n",
    "        \"atomic_positions\": geometry.xyz,\n",
    "        \"lattice_nsc\": lattice_vectors.nsc,\n",
    "        \"lattice_origin\": lattice_vectors.origin,\n",
    "        \"lattice_vectors\": lattice_vectors.cell,\n",
    "        \"boundary_condition\": lattice_vectors.boundary_condition\n",
    "    }\n",
    "\n",
    "    df = pd.concat([df, pd.DataFrame([row_dict])], ignore_index=True)\n",
    "    \n",
    "df.to_pickle(\"dataset.pkl\")"
   ]
  },
  {
   "cell_type": "code",
   "execution_count": 8,
   "id": "9af7cc6b",
   "metadata": {},
   "outputs": [
    {
     "data": {
      "text/html": [
       "<div>\n",
       "<style scoped>\n",
       "    .dataframe tbody tr th:only-of-type {\n",
       "        vertical-align: middle;\n",
       "    }\n",
       "\n",
       "    .dataframe tbody tr th {\n",
       "        vertical-align: top;\n",
       "    }\n",
       "\n",
       "    .dataframe thead th {\n",
       "        text-align: right;\n",
       "    }\n",
       "</style>\n",
       "<table border=\"1\" class=\"dataframe\">\n",
       "  <thead>\n",
       "    <tr style=\"text-align: right;\">\n",
       "      <th></th>\n",
       "      <th>n_atoms</th>\n",
       "      <th>atomic_number</th>\n",
       "      <th>atomic_symbol</th>\n",
       "      <th>atomic_positions</th>\n",
       "      <th>lattice_nsc</th>\n",
       "      <th>lattice_origin</th>\n",
       "      <th>lattice_vectors</th>\n",
       "      <th>boundary_condition</th>\n",
       "    </tr>\n",
       "  </thead>\n",
       "  <tbody>\n",
       "    <tr>\n",
       "      <th>1306</th>\n",
       "      <td>3</td>\n",
       "      <td>[5, 6, 7]</td>\n",
       "      <td>[B, C, N]</td>\n",
       "      <td>[[3.3844585986999998, 0.0, 0.0], [3.2873668683...</td>\n",
       "      <td>[5, 5, 7]</td>\n",
       "      <td>[0.0, 0.0, 0.0]</td>\n",
       "      <td>[[3.5999899999999996, 0.0, 0.0], [0.0, 3.59998...</td>\n",
       "      <td>[[2, 2], [2, 2], [2, 2]]</td>\n",
       "    </tr>\n",
       "    <tr>\n",
       "      <th>1307</th>\n",
       "      <td>3</td>\n",
       "      <td>[7, 7, 6]</td>\n",
       "      <td>[N, N, C]</td>\n",
       "      <td>[[2.9851477079, 0.6391782245, 0.0], [0.2881431...</td>\n",
       "      <td>[5, 5, 5]</td>\n",
       "      <td>[0.0, 0.0, 0.0]</td>\n",
       "      <td>[[3.5999899999999996, 0.0, 0.0], [0.0, 3.59998...</td>\n",
       "      <td>[[2, 2], [2, 2], [2, 2]]</td>\n",
       "    </tr>\n",
       "    <tr>\n",
       "      <th>1308</th>\n",
       "      <td>3</td>\n",
       "      <td>[5, 6, 7]</td>\n",
       "      <td>[B, C, N]</td>\n",
       "      <td>[[3.3844585986999998, 0.0, 0.0], [1.938954614,...</td>\n",
       "      <td>[5, 5, 5]</td>\n",
       "      <td>[0.0, 0.0, 0.0]</td>\n",
       "      <td>[[3.5999899999999996, 0.0, 0.0], [0.0, 3.59998...</td>\n",
       "      <td>[[2, 2], [2, 2], [2, 2]]</td>\n",
       "    </tr>\n",
       "    <tr>\n",
       "      <th>1309</th>\n",
       "      <td>3</td>\n",
       "      <td>[5, 6, 7]</td>\n",
       "      <td>[B, C, N]</td>\n",
       "      <td>[[3.3844585986999998, 0.0, 0.0], [2.3964413432...</td>\n",
       "      <td>[5, 5, 5]</td>\n",
       "      <td>[0.0, 0.0, 0.0]</td>\n",
       "      <td>[[3.5999899999999996, 0.0, 0.0], [0.0, 3.59998...</td>\n",
       "      <td>[[2, 2], [2, 2], [2, 2]]</td>\n",
       "    </tr>\n",
       "    <tr>\n",
       "      <th>1310</th>\n",
       "      <td>3</td>\n",
       "      <td>[7, 7, 6]</td>\n",
       "      <td>[N, N, C]</td>\n",
       "      <td>[[2.9851477079, 0.6391782245, 0.0], [0.3007791...</td>\n",
       "      <td>[5, 5, 5]</td>\n",
       "      <td>[0.0, 0.0, 0.0]</td>\n",
       "      <td>[[3.5999899999999996, 0.0, 0.0], [0.0, 3.59998...</td>\n",
       "      <td>[[2, 2], [2, 2], [2, 2]]</td>\n",
       "    </tr>\n",
       "  </tbody>\n",
       "</table>\n",
       "</div>"
      ],
      "text/plain": [
       "     n_atoms atomic_number atomic_symbol  \\\n",
       "1306       3     [5, 6, 7]     [B, C, N]   \n",
       "1307       3     [7, 7, 6]     [N, N, C]   \n",
       "1308       3     [5, 6, 7]     [B, C, N]   \n",
       "1309       3     [5, 6, 7]     [B, C, N]   \n",
       "1310       3     [7, 7, 6]     [N, N, C]   \n",
       "\n",
       "                                       atomic_positions lattice_nsc  \\\n",
       "1306  [[3.3844585986999998, 0.0, 0.0], [3.2873668683...   [5, 5, 7]   \n",
       "1307  [[2.9851477079, 0.6391782245, 0.0], [0.2881431...   [5, 5, 5]   \n",
       "1308  [[3.3844585986999998, 0.0, 0.0], [1.938954614,...   [5, 5, 5]   \n",
       "1309  [[3.3844585986999998, 0.0, 0.0], [2.3964413432...   [5, 5, 5]   \n",
       "1310  [[2.9851477079, 0.6391782245, 0.0], [0.3007791...   [5, 5, 5]   \n",
       "\n",
       "       lattice_origin                                    lattice_vectors  \\\n",
       "1306  [0.0, 0.0, 0.0]  [[3.5999899999999996, 0.0, 0.0], [0.0, 3.59998...   \n",
       "1307  [0.0, 0.0, 0.0]  [[3.5999899999999996, 0.0, 0.0], [0.0, 3.59998...   \n",
       "1308  [0.0, 0.0, 0.0]  [[3.5999899999999996, 0.0, 0.0], [0.0, 3.59998...   \n",
       "1309  [0.0, 0.0, 0.0]  [[3.5999899999999996, 0.0, 0.0], [0.0, 3.59998...   \n",
       "1310  [0.0, 0.0, 0.0]  [[3.5999899999999996, 0.0, 0.0], [0.0, 3.59998...   \n",
       "\n",
       "            boundary_condition  \n",
       "1306  [[2, 2], [2, 2], [2, 2]]  \n",
       "1307  [[2, 2], [2, 2], [2, 2]]  \n",
       "1308  [[2, 2], [2, 2], [2, 2]]  \n",
       "1309  [[2, 2], [2, 2], [2, 2]]  \n",
       "1310  [[2, 2], [2, 2], [2, 2]]  "
      ]
     },
     "execution_count": 8,
     "metadata": {},
     "output_type": "execute_result"
    }
   ],
   "source": [
    "# Read the dataset back\n",
    "df = pd.read_pickle(\"dataset.pkl\")\n",
    "df.tail()"
   ]
  },
  {
   "cell_type": "code",
   "execution_count": 9,
   "id": "8fa7dc63",
   "metadata": {},
   "outputs": [
    {
     "name": "stdout",
     "output_type": "stream",
     "text": [
      "Analyzed 1311 elements. Found:\n",
      "[7, 6, 5]\n",
      "['N', 'C', 'B']\n"
     ]
    }
   ],
   "source": [
    "# Print some stats.\n",
    "\n",
    "# Unique atom types\n",
    "unique_atom_types = []\n",
    "for row in df[\"atomic_number\"]:\n",
    "    for atom_type in row:\n",
    "        if atom_type not in unique_atom_types:\n",
    "            unique_atom_types.append(atom_type)\n",
    "\n",
    "# Unique atom symbols\n",
    "unique_atom_symbols = []\n",
    "for row in df[\"atomic_symbol\"]:\n",
    "    for atom_type in row:\n",
    "        if atom_type not in unique_atom_symbols:\n",
    "            unique_atom_symbols.append(atom_type)\n",
    "\n",
    "print(f\"Analyzed {len(df)} elements. Found:\")\n",
    "print(unique_atom_types)\n",
    "print(unique_atom_symbols)"
   ]
  },
  {
   "cell_type": "markdown",
   "id": "78fbb0d9",
   "metadata": {},
   "source": [
    "There are some carbons. How many of them?"
   ]
  },
  {
   "cell_type": "code",
   "execution_count": 31,
   "id": "57f973fa",
   "metadata": {},
   "outputs": [
    {
     "name": "stdout",
     "output_type": "stream",
     "text": [
      "There are 682/1311 samples with Carbon atoms.\n"
     ]
    }
   ],
   "source": [
    "n_carbon = df[\"atomic_number\"].apply(lambda x: 6 in x).sum()\n",
    "print(f\"There are {n_carbon}/{len(df)} samples with Carbon atoms.\")"
   ]
  },
  {
   "cell_type": "markdown",
   "id": "e5860351",
   "metadata": {},
   "source": [
    "This is more than half the dataset. Not negligible.\n",
    "\n",
    "What is the distribution of the carbon atoms?"
   ]
  },
  {
   "cell_type": "code",
   "execution_count": 54,
   "id": "285e93d8",
   "metadata": {},
   "outputs": [
    {
     "data": {
      "text/plain": [
       "Text(0, 0.5, 'Number of structures with Carbon atoms')"
      ]
     },
     "execution_count": 54,
     "metadata": {},
     "output_type": "execute_result"
    },
    {
     "data": {
      "image/png": "[encoded data removed]",
      "text/plain": [
       "<Figure size 640x480 with 1 Axes>"
      ]
     },
     "metadata": {},
     "output_type": "display_data"
    }
   ],
   "source": [
    "import matplotlib.pyplot as plt\n",
    "\n",
    "n_atoms = df[\"n_atoms\"].drop_duplicates()\n",
    "counts = [df[df[\"n_atoms\"] == i][\"atomic_number\"].apply(lambda x: 6 in x).sum() for i in n_atoms.to_list()]\n",
    "x_labels = [str(i) for i in n_atoms.to_list()]\n",
    "plt.bar(x_labels, counts)\n",
    "plt.xlabel(\"Number of atoms\")\n",
    "plt.ylabel(\"Number of structures with Carbon atoms\")"
   ]
  }
 ],
 "metadata": {
  "kernelspec": {
   "display_name": "graph2mat_upt",
   "language": "python",
   "name": "python3"
  },
  "language_info": {
   "codemirror_mode": {
    "name": "ipython",
    "version": 3
   },
   "file_extension": ".py",
   "mimetype": "text/x-python",
   "name": "python",
   "nbconvert_exporter": "python",
   "pygments_lexer": "ipython3",
   "version": "3.12.11"
  }
 },
 "nbformat": 4,
 "nbformat_minor": 5
}
