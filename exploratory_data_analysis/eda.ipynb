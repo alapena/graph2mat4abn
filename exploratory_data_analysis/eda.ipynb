{
 "cells": [
  {
   "cell_type": "code",
   "execution_count": 1,
   "id": "76616d22",
   "metadata": {},
   "outputs": [
    {
     "name": "stderr",
     "output_type": "stream",
     "text": [
      "0it [00:00, ?it/s]\n"
     ]
    }
   ],
   "source": [
    "import sisl\n",
    "import pandas as pd\n",
    "import csv\n",
    "import ast\n",
    "\n",
    "from pathlib import Path\n",
    "from tqdm import tqdm\n",
    "\n",
    "# Read the dataset using SISL\n",
    "path= Path('../dataset')\n",
    "\n",
    "# Get all subdirectories (atom types)\n",
    "n_atoms_paths = list(path.glob('*/'))\n",
    "\n",
    "# Then all structures\n",
    "i=0\n",
    "structure_paths = [list(n_atoms_paths[i].glob('*/')) for i in range(len(n_atoms_paths))]\n",
    "structure_paths = [item for sublist in structure_paths for item in sublist]\n",
    "\n",
    "# Create Padnas DataFrame\n",
    "columns = [\"n_atoms\", \"atomic_number\", \"atomic_symbol\", \"atomic_positions\", \"lattice_nsc\", \"lattice_origin\", \"lattice_vectors\", \"boundary_condition\"]\n",
    "df = pd.DataFrame(columns=columns)\n",
    "for structure in tqdm(structure_paths):\n",
    "    file = sisl.get_sile(structure / \"aiida.HSX\")\n",
    "    geometry = file.read_geometry()\n",
    "    lattice_vectors = geometry.lattice\n",
    "\n",
    "    # Get atom symbols\n",
    "    atomic_symbols = []\n",
    "    for atom in geometry.atoms:\n",
    "        atomic_symbols.append(atom.symbol)\n",
    "\n",
    "    row_dict = {\n",
    "        \"n_atoms\": len(geometry),\n",
    "        \"atomic_number\": geometry.atoms.Z,\n",
    "        \"atomic_symbol\": atomic_symbols,\n",
    "        \"atomic_positions\": geometry.xyz,\n",
    "        \"lattice_nsc\": lattice_vectors.nsc,\n",
    "        \"lattice_origin\": lattice_vectors.origin,\n",
    "        \"lattice_vectors\": lattice_vectors.cell,\n",
    "        \"boundary_condition\": lattice_vectors.boundary_condition\n",
    "    }\n",
    "\n",
    "    df = pd.concat([df, pd.DataFrame([row_dict])], ignore_index=True)\n",
    "    \n",
    "df.to_pickle(\"dataset.pkl\")\n",
    "\n",
    "def flatten(xss):\n",
    "    return [x for xs in xss for x in xs]"
   ]
  },
  {
   "cell_type": "code",
   "execution_count": 22,
   "id": "9af7cc6b",
   "metadata": {},
   "outputs": [
    {
     "data": {
      "text/html": [
       "<div>\n",
       "<style scoped>\n",
       "    .dataframe tbody tr th:only-of-type {\n",
       "        vertical-align: middle;\n",
       "    }\n",
       "\n",
       "    .dataframe tbody tr th {\n",
       "        vertical-align: top;\n",
       "    }\n",
       "\n",
       "    .dataframe thead th {\n",
       "        text-align: right;\n",
       "    }\n",
       "</style>\n",
       "<table border=\"1\" class=\"dataframe\">\n",
       "  <thead>\n",
       "    <tr style=\"text-align: right;\">\n",
       "      <th></th>\n",
       "      <th>n_atoms</th>\n",
       "      <th>atomic_number</th>\n",
       "      <th>atomic_symbol</th>\n",
       "      <th>atomic_positions</th>\n",
       "      <th>lattice_nsc</th>\n",
       "      <th>lattice_origin</th>\n",
       "      <th>lattice_vectors</th>\n",
       "      <th>boundary_condition</th>\n",
       "    </tr>\n",
       "  </thead>\n",
       "  <tbody>\n",
       "    <tr>\n",
       "      <th>1306</th>\n",
       "      <td>3</td>\n",
       "      <td>[5, 6, 7]</td>\n",
       "      <td>[B, C, N]</td>\n",
       "      <td>[[3.3844585986999998, 0.0, 0.0], [3.2873668683...</td>\n",
       "      <td>[5, 5, 7]</td>\n",
       "      <td>[0.0, 0.0, 0.0]</td>\n",
       "      <td>[[3.5999899999999996, 0.0, 0.0], [0.0, 3.59998...</td>\n",
       "      <td>[[2, 2], [2, 2], [2, 2]]</td>\n",
       "    </tr>\n",
       "    <tr>\n",
       "      <th>1307</th>\n",
       "      <td>3</td>\n",
       "      <td>[7, 7, 6]</td>\n",
       "      <td>[N, N, C]</td>\n",
       "      <td>[[2.9851477079, 0.6391782245, 0.0], [0.2881431...</td>\n",
       "      <td>[5, 5, 5]</td>\n",
       "      <td>[0.0, 0.0, 0.0]</td>\n",
       "      <td>[[3.5999899999999996, 0.0, 0.0], [0.0, 3.59998...</td>\n",
       "      <td>[[2, 2], [2, 2], [2, 2]]</td>\n",
       "    </tr>\n",
       "    <tr>\n",
       "      <th>1308</th>\n",
       "      <td>3</td>\n",
       "      <td>[5, 6, 7]</td>\n",
       "      <td>[B, C, N]</td>\n",
       "      <td>[[3.3844585986999998, 0.0, 0.0], [1.938954614,...</td>\n",
       "      <td>[5, 5, 5]</td>\n",
       "      <td>[0.0, 0.0, 0.0]</td>\n",
       "      <td>[[3.5999899999999996, 0.0, 0.0], [0.0, 3.59998...</td>\n",
       "      <td>[[2, 2], [2, 2], [2, 2]]</td>\n",
       "    </tr>\n",
       "    <tr>\n",
       "      <th>1309</th>\n",
       "      <td>3</td>\n",
       "      <td>[5, 6, 7]</td>\n",
       "      <td>[B, C, N]</td>\n",
       "      <td>[[3.3844585986999998, 0.0, 0.0], [2.3964413432...</td>\n",
       "      <td>[5, 5, 5]</td>\n",
       "      <td>[0.0, 0.0, 0.0]</td>\n",
       "      <td>[[3.5999899999999996, 0.0, 0.0], [0.0, 3.59998...</td>\n",
       "      <td>[[2, 2], [2, 2], [2, 2]]</td>\n",
       "    </tr>\n",
       "    <tr>\n",
       "      <th>1310</th>\n",
       "      <td>3</td>\n",
       "      <td>[7, 7, 6]</td>\n",
       "      <td>[N, N, C]</td>\n",
       "      <td>[[2.9851477079, 0.6391782245, 0.0], [0.3007791...</td>\n",
       "      <td>[5, 5, 5]</td>\n",
       "      <td>[0.0, 0.0, 0.0]</td>\n",
       "      <td>[[3.5999899999999996, 0.0, 0.0], [0.0, 3.59998...</td>\n",
       "      <td>[[2, 2], [2, 2], [2, 2]]</td>\n",
       "    </tr>\n",
       "  </tbody>\n",
       "</table>\n",
       "</div>"
      ],
      "text/plain": [
       "     n_atoms atomic_number atomic_symbol  \\\n",
       "1306       3     [5, 6, 7]     [B, C, N]   \n",
       "1307       3     [7, 7, 6]     [N, N, C]   \n",
       "1308       3     [5, 6, 7]     [B, C, N]   \n",
       "1309       3     [5, 6, 7]     [B, C, N]   \n",
       "1310       3     [7, 7, 6]     [N, N, C]   \n",
       "\n",
       "                                       atomic_positions lattice_nsc  \\\n",
       "1306  [[3.3844585986999998, 0.0, 0.0], [3.2873668683...   [5, 5, 7]   \n",
       "1307  [[2.9851477079, 0.6391782245, 0.0], [0.2881431...   [5, 5, 5]   \n",
       "1308  [[3.3844585986999998, 0.0, 0.0], [1.938954614,...   [5, 5, 5]   \n",
       "1309  [[3.3844585986999998, 0.0, 0.0], [2.3964413432...   [5, 5, 5]   \n",
       "1310  [[2.9851477079, 0.6391782245, 0.0], [0.3007791...   [5, 5, 5]   \n",
       "\n",
       "       lattice_origin                                    lattice_vectors  \\\n",
       "1306  [0.0, 0.0, 0.0]  [[3.5999899999999996, 0.0, 0.0], [0.0, 3.59998...   \n",
       "1307  [0.0, 0.0, 0.0]  [[3.5999899999999996, 0.0, 0.0], [0.0, 3.59998...   \n",
       "1308  [0.0, 0.0, 0.0]  [[3.5999899999999996, 0.0, 0.0], [0.0, 3.59998...   \n",
       "1309  [0.0, 0.0, 0.0]  [[3.5999899999999996, 0.0, 0.0], [0.0, 3.59998...   \n",
       "1310  [0.0, 0.0, 0.0]  [[3.5999899999999996, 0.0, 0.0], [0.0, 3.59998...   \n",
       "\n",
       "            boundary_condition  \n",
       "1306  [[2, 2], [2, 2], [2, 2]]  \n",
       "1307  [[2, 2], [2, 2], [2, 2]]  \n",
       "1308  [[2, 2], [2, 2], [2, 2]]  \n",
       "1309  [[2, 2], [2, 2], [2, 2]]  \n",
       "1310  [[2, 2], [2, 2], [2, 2]]  "
      ]
     },
     "execution_count": 22,
     "metadata": {},
     "output_type": "execute_result"
    }
   ],
   "source": [
    "# Read the dataset back\n",
    "df = pd.read_pickle(\"dataset.pkl\")\n",
    "df.tail()"
   ]
  },
  {
   "cell_type": "code",
   "execution_count": 23,
   "id": "8fa7dc63",
   "metadata": {},
   "outputs": [
    {
     "name": "stdout",
     "output_type": "stream",
     "text": [
      "Analyzed 1311 elements. Found:\n",
      "[7, 6, 5]\n",
      "['N', 'C', 'B']\n"
     ]
    }
   ],
   "source": [
    "# Print some stats.\n",
    "\n",
    "# Unique atom types\n",
    "unique_atom_types = []\n",
    "for row in df[\"atomic_number\"]:\n",
    "    for atom_type in row:\n",
    "        if atom_type not in unique_atom_types:\n",
    "            unique_atom_types.append(atom_type)\n",
    "\n",
    "# Unique atom symbols\n",
    "unique_atom_symbols = []\n",
    "for row in df[\"atomic_symbol\"]:\n",
    "    for atom_type in row:\n",
    "        if atom_type not in unique_atom_symbols:\n",
    "            unique_atom_symbols.append(atom_type)\n",
    "\n",
    "print(f\"Analyzed {len(df)} elements. Found:\")\n",
    "print(unique_atom_types)\n",
    "print(unique_atom_symbols)"
   ]
  },
  {
   "cell_type": "markdown",
   "id": "78fbb0d9",
   "metadata": {},
   "source": [
    "There are some carbons. How many of them?"
   ]
  },
  {
   "cell_type": "code",
   "execution_count": 24,
   "id": "57f973fa",
   "metadata": {},
   "outputs": [
    {
     "name": "stdout",
     "output_type": "stream",
     "text": [
      "There are 682/1311 samples with Carbon atoms.\n"
     ]
    }
   ],
   "source": [
    "n_carbon = df[\"atomic_number\"].apply(lambda x: 6 in x).sum()\n",
    "print(f\"There are {n_carbon}/{len(df)} samples with Carbon atoms.\")"
   ]
  },
  {
   "cell_type": "markdown",
   "id": "e5860351",
   "metadata": {},
   "source": [
    "This is more than half the dataset. Not negligible.\n",
    "\n",
    "What is the distribution of the carbon atoms?"
   ]
  },
  {
   "cell_type": "code",
   "execution_count": 25,
   "id": "285e93d8",
   "metadata": {},
   "outputs": [
    {
     "data": {
      "text/plain": [
       "<matplotlib.legend.Legend at 0x7217b975aa20>"
      ]
     },
     "execution_count": 25,
     "metadata": {},
     "output_type": "execute_result"
    },
    {
     "data": {
      "image/png": "[encoded data removed]",
      "text/plain": [
       "<Figure size 640x480 with 1 Axes>"
      ]
     },
     "metadata": {},
     "output_type": "display_data"
    }
   ],
   "source": [
    "import matplotlib.pyplot as plt\n",
    "\n",
    "n_atoms = df[\"n_atoms\"].drop_duplicates()\n",
    "counts = [df[df[\"n_atoms\"] == i][\"atomic_number\"].apply(lambda x: 6 in x).sum() for i in n_atoms.to_list()]\n",
    "x_labels = [str(i) for i in n_atoms.to_list()]\n",
    "\n",
    "totals = [(df[\"n_atoms\"] == i).sum() for i in n_atoms.to_list()]\n",
    "plt.bar(x_labels, totals, label=\"total\")\n",
    "plt.bar(x_labels, counts, label=\"carbons\")\n",
    "plt.xlabel(\"Number of atoms\")\n",
    "plt.ylabel(\"Number of structures with Carbon atoms\")\n",
    "plt.legend()\n"
   ]
  },
  {
   "cell_type": "code",
   "execution_count": 13,
   "id": "c8eea5e9",
   "metadata": {},
   "outputs": [],
   "source": [
    "# Let's try to exclude the carbons\n",
    "\n",
    "parent_path = Path('../dataset')\n",
    "n_atoms_paths = list(parent_path.glob('*/'))\n",
    "\n",
    "paths = []\n",
    "for n_atoms_path in n_atoms_paths:\n",
    "    structure_paths = list(n_atoms_path.glob('*/'))\n",
    "\n",
    "    structure_paths_nocarbon = structure_paths\n",
    "    for structure_path in structure_paths:\n",
    "        file = sisl.get_sile(structure_path / \"aiida.fdf\")\n",
    "        geometry = file.read_geometry()\n",
    "        zs = geometry.atoms.Z\n",
    "        if 6 in zs:\n",
    "            # Exclude this structure\n",
    "            exclude = structure_path\n",
    "            structure_paths_nocarbon = [x for x in structure_paths_nocarbon if x != exclude]\n",
    "\n",
    "\n",
    "    paths.append(structure_paths_nocarbon)\n",
    "paths = flatten(paths)"
   ]
  },
  {
   "cell_type": "code",
   "execution_count": 14,
   "id": "6ccce1df",
   "metadata": {},
   "outputs": [
    {
     "data": {
      "text/plain": [
       "[PosixPath('../dataset/SHARE_OUTPUTS_2_ATOMS/6d1a-578f-478c-a320-d8be012039e6'),\n",
       " PosixPath('../dataset/SHARE_OUTPUTS_2_ATOMS/6d69-12f4-459d-ba19-f7951a3299dc'),\n",
       " PosixPath('../dataset/SHARE_OUTPUTS_2_ATOMS/b908-9d2a-4e27-96e6-c1f6f75a76f7'),\n",
       " PosixPath('../dataset/SHARE_OUTPUTS_2_ATOMS/66ea-aa33-4cd1-a2b0-7f530e6788d4'),\n",
       " PosixPath('../dataset/SHARE_OUTPUTS_2_ATOMS/a4f7-5d3f-4e50-9eda-87df3bf9ba58'),\n",
       " PosixPath('../dataset/SHARE_OUTPUTS_2_ATOMS/0c9b-0f56-4c21-b69b-6147764120fa'),\n",
       " PosixPath('../dataset/SHARE_OUTPUTS_2_ATOMS/8f7b-867e-4e9d-a027-997b50ee2ba6'),\n",
       " PosixPath('../dataset/SHARE_OUTPUTS_2_ATOMS/91dc-c45e-4096-8e0e-04e28f21a44c'),\n",
       " PosixPath('../dataset/SHARE_OUTPUTS_2_ATOMS/cd6e-7357-4868-b521-63e9bad68413'),\n",
       " PosixPath('../dataset/SHARE_OUTPUTS_2_ATOMS/c580-0447-4510-bf6d-8dc278a7c3cf'),\n",
       " PosixPath('../dataset/SHARE_OUTPUTS_2_ATOMS/427a-33e4-40d4-9fbf-7d55d341bc33'),\n",
       " PosixPath('../dataset/SHARE_OUTPUTS_2_ATOMS/d2e2-51e3-40ca-a3bd-4dcb70c095c2'),\n",
       " PosixPath('../dataset/SHARE_OUTPUTS_2_ATOMS/2f5b-a12e-4508-aa48-cf355b2303e5'),\n",
       " PosixPath('../dataset/SHARE_OUTPUTS_2_ATOMS/e9fa-338a-455e-b89b-e54a3e88dfdc'),\n",
       " PosixPath('../dataset/SHARE_OUTPUTS_2_ATOMS/f42a-df85-4da8-9960-efbedeb2d8b1'),\n",
       " PosixPath('../dataset/SHARE_OUTPUTS_2_ATOMS/4cc1-6263-48b4-9a54-d06ac88f4c85'),\n",
       " PosixPath('../dataset/SHARE_OUTPUTS_2_ATOMS/02a4-2c2f-4381-b074-ee6aa682941f'),\n",
       " PosixPath('../dataset/SHARE_OUTPUTS_2_ATOMS/4130-44f6-445e-8a26-4f6afcdd73ea'),\n",
       " PosixPath('../dataset/SHARE_OUTPUTS_2_ATOMS/8da9-708f-4ce4-842c-40181e097f16'),\n",
       " PosixPath('../dataset/SHARE_OUTPUTS_2_ATOMS/8301-0bfc-40d7-9f86-53e2ed6270ad'),\n",
       " PosixPath('../dataset/SHARE_OUTPUTS_2_ATOMS/7eb6-b121-4101-8a46-627c7a95f3f9'),\n",
       " PosixPath('../dataset/SHARE_OUTPUTS_2_ATOMS/9b66-b574-4792-89d5-30f2717531d2'),\n",
       " PosixPath('../dataset/SHARE_OUTPUTS_2_ATOMS/8ff7-f30f-4735-b581-be52392a2375'),\n",
       " PosixPath('../dataset/SHARE_OUTPUTS_2_ATOMS/af08-63de-4132-b743-85aba30f078b'),\n",
       " PosixPath('../dataset/SHARE_OUTPUTS_2_ATOMS/b684-4f57-474b-9762-b3416b5e7985'),\n",
       " PosixPath('../dataset/SHARE_OUTPUTS_2_ATOMS/6ab1-b9ab-4faa-9c05-0a6871bfa641'),\n",
       " PosixPath('../dataset/SHARE_OUTPUTS_2_ATOMS/ce81-05d6-40c9-8c2b-7a586d09140c'),\n",
       " PosixPath('../dataset/SHARE_OUTPUTS_2_ATOMS/b5da-3ad1-43d6-8db8-34c63eb32b38'),\n",
       " PosixPath('../dataset/SHARE_OUTPUTS_2_ATOMS/90d7-6f26-499f-8a74-ff6195ba8bfd'),\n",
       " PosixPath('../dataset/SHARE_OUTPUTS_2_ATOMS/ab72-cf42-49f9-9f3d-e87b849ae8f8'),\n",
       " PosixPath('../dataset/SHARE_OUTPUTS_2_ATOMS/aa48-a92e-45ac-8fc6-a04a1de61cc5'),\n",
       " PosixPath('../dataset/SHARE_OUTPUTS_2_ATOMS/ac9c-4fa8-4de1-9f2d-d5d2ceca6ce7'),\n",
       " PosixPath('../dataset/SHARE_OUTPUTS_2_ATOMS/d323-f7ca-40e6-959c-30a5e5fd9920'),\n",
       " PosixPath('../dataset/SHARE_OUTPUTS_2_ATOMS/5bc4-c7a6-4074-be4f-f983d5dbdbcb'),\n",
       " PosixPath('../dataset/SHARE_OUTPUTS_2_ATOMS/0953-8dcf-411e-ae7b-00f794981cc5'),\n",
       " PosixPath('../dataset/SHARE_OUTPUTS_2_ATOMS/c254-d9f1-4259-856e-9663457160bb'),\n",
       " PosixPath('../dataset/SHARE_OUTPUTS_2_ATOMS/643d-768d-4fea-8f56-149f02f1331f'),\n",
       " PosixPath('../dataset/SHARE_OUTPUTS_2_ATOMS/9647-499c-4466-8faa-b5d189881ca0'),\n",
       " PosixPath('../dataset/SHARE_OUTPUTS_2_ATOMS/cc16-b388-4e1f-8496-7ad875025368'),\n",
       " PosixPath('../dataset/SHARE_OUTPUTS_2_ATOMS/427d-bd91-4408-9c90-df9bf3d3f8d6'),\n",
       " PosixPath('../dataset/SHARE_OUTPUTS_2_ATOMS/db65-6186-4188-b955-0dca4cd7daa1'),\n",
       " PosixPath('../dataset/SHARE_OUTPUTS_2_ATOMS/504a-71cd-4d25-a04a-b7fa45b92200'),\n",
       " PosixPath('../dataset/SHARE_OUTPUTS_2_ATOMS/ea88-6da9-40cd-a518-934259fb69ef'),\n",
       " PosixPath('../dataset/SHARE_OUTPUTS_2_ATOMS/0baa-2e39-4ee6-92a8-677752f4dfab'),\n",
       " PosixPath('../dataset/SHARE_OUTPUTS_2_ATOMS/b557-c804-44da-80fe-a0b7ae301a65'),\n",
       " PosixPath('../dataset/SHARE_OUTPUTS_2_ATOMS/a2eb-bf31-4aa9-8a0e-05a9734df668'),\n",
       " PosixPath('../dataset/SHARE_OUTPUTS_2_ATOMS/6e3b-50c7-4f27-83c6-91008a6dfdd2'),\n",
       " PosixPath('../dataset/SHARE_OUTPUTS_2_ATOMS/392a-0f98-418f-b6f9-e33dee4890b6'),\n",
       " PosixPath('../dataset/SHARE_OUTPUTS_2_ATOMS/bd35-53fd-4a80-bb8b-10e9f11df634'),\n",
       " PosixPath('../dataset/SHARE_OUTPUTS_2_ATOMS/9a8e-d5f2-4285-aef2-903da276e7fd'),\n",
       " PosixPath('../dataset/SHARE_OUTPUTS_2_ATOMS/69fe-d92c-491f-b567-e914a3fcb587'),\n",
       " PosixPath('../dataset/SHARE_OUTPUTS_2_ATOMS/04e3-35bf-497f-9bbc-220009079f8b'),\n",
       " PosixPath('../dataset/SHARE_OUTPUTS_2_ATOMS/1cc2-6a59-4a92-85c5-20513877aa83'),\n",
       " PosixPath('../dataset/SHARE_OUTPUTS_2_ATOMS/9b13-4a57-4de9-b863-1b35209370c4'),\n",
       " PosixPath('../dataset/SHARE_OUTPUTS_2_ATOMS/6088-d26a-44c7-a338-31903cfa001f'),\n",
       " PosixPath('../dataset/SHARE_OUTPUTS_2_ATOMS/81d3-7a3c-4870-aa35-7e7a1ac226f6'),\n",
       " PosixPath('../dataset/SHARE_OUTPUTS_2_ATOMS/ab48-f618-4d86-8aef-70b5d2909cde'),\n",
       " PosixPath('../dataset/SHARE_OUTPUTS_2_ATOMS/5e09-a331-440e-ae00-9941c9fd0e7b'),\n",
       " PosixPath('../dataset/SHARE_OUTPUTS_2_ATOMS/8fd0-caf0-4102-bb43-4aadc950f18f'),\n",
       " PosixPath('../dataset/SHARE_OUTPUTS_2_ATOMS/17f5-9b5b-4f25-bc83-ef21ad099938'),\n",
       " PosixPath('../dataset/SHARE_OUTPUTS_2_ATOMS/e486-4f49-4560-a4d2-0363fd9b5157'),\n",
       " PosixPath('../dataset/SHARE_OUTPUTS_2_ATOMS/5e58-d45e-4e8b-8abe-3100b4445aa4'),\n",
       " PosixPath('../dataset/SHARE_OUTPUTS_2_ATOMS/544e-70b1-4187-bdfd-f445afbafb8c'),\n",
       " PosixPath('../dataset/SHARE_OUTPUTS_2_ATOMS/015c-36a2-442f-9368-e9eff0f2bc1e'),\n",
       " PosixPath('../dataset/SHARE_OUTPUTS_2_ATOMS/dd60-9d02-4692-bd99-b6de70ff4521'),\n",
       " PosixPath('../dataset/SHARE_OUTPUTS_2_ATOMS/bed8-e0eb-4387-a261-9cadbe64ed5e'),\n",
       " PosixPath('../dataset/SHARE_OUTPUTS_2_ATOMS/a336-0306-4301-b0eb-6bbde7121b8e'),\n",
       " PosixPath('../dataset/SHARE_OUTPUTS_2_ATOMS/0d70-cb9c-4f83-99f9-ecd04ba56c74'),\n",
       " PosixPath('../dataset/SHARE_OUTPUTS_2_ATOMS/a4e4-2f64-4e68-a37a-9e84eb767a0c'),\n",
       " PosixPath('../dataset/SHARE_OUTPUTS_2_ATOMS/c8ce-475a-431c-b659-39b166ea3959'),\n",
       " PosixPath('../dataset/SHARE_OUTPUTS_2_ATOMS/d072-0939-4fbc-b570-87f5ec163a01'),\n",
       " PosixPath('../dataset/SHARE_OUTPUTS_2_ATOMS/d94b-fd60-484d-9374-5e75296b3db3'),\n",
       " PosixPath('../dataset/SHARE_OUTPUTS_2_ATOMS/5d57-8e3e-48b1-988c-21e37f067560'),\n",
       " PosixPath('../dataset/SHARE_OUTPUTS_2_ATOMS/5bf9-72cf-43e7-97d0-12c4513fad3c'),\n",
       " PosixPath('../dataset/SHARE_OUTPUTS_2_ATOMS/09e2-94d3-40c8-8573-8333bf3bf7a0'),\n",
       " PosixPath('../dataset/SHARE_OUTPUTS_2_ATOMS/0d7e-cef0-46a3-8807-9fdf9ecc90dc'),\n",
       " PosixPath('../dataset/SHARE_OUTPUTS_2_ATOMS/ac69-3c79-4241-a7b2-5d6819186b27'),\n",
       " PosixPath('../dataset/SHARE_OUTPUTS_2_ATOMS/6953-d703-46af-85c2-b25ff69ab230'),\n",
       " PosixPath('../dataset/SHARE_OUTPUTS_2_ATOMS/b515-30c8-4e2a-88df-efe21ee4615a'),\n",
       " PosixPath('../dataset/SHARE_OUTPUTS_2_ATOMS/d574-002a-41f3-b25f-ea1736930981'),\n",
       " PosixPath('../dataset/SHARE_OUTPUTS_2_ATOMS/e465-cb91-43be-a4ba-c1c1c555eb35'),\n",
       " PosixPath('../dataset/SHARE_OUTPUTS_2_ATOMS/dafc-2e7a-493b-9f2c-7e3d03075913'),\n",
       " PosixPath('../dataset/SHARE_OUTPUTS_2_ATOMS/1bbe-56b7-4a4e-a93b-636799eadb28'),\n",
       " PosixPath('../dataset/SHARE_OUTPUTS_2_ATOMS/7d8d-b17b-45e7-8d50-388b4ecb953e'),\n",
       " PosixPath('../dataset/SHARE_OUTPUTS_2_ATOMS/78dd-127d-46dd-9fcb-055e973f65e7'),\n",
       " PosixPath('../dataset/SHARE_OUTPUTS_2_ATOMS/1c62-8f2c-4ebd-aa02-6633d42c6b31'),\n",
       " PosixPath('../dataset/SHARE_OUTPUTS_2_ATOMS/fc1c-6ab6-4c0e-921e-99710e6fe41b'),\n",
       " PosixPath('../dataset/SHARE_OUTPUTS_2_ATOMS/c924-ac64-4837-a960-ff786d6c6836'),\n",
       " PosixPath('../dataset/SHARE_OUTPUTS_2_ATOMS/c8a7-3eaa-4fae-8698-ab33ecdddf28'),\n",
       " PosixPath('../dataset/SHARE_OUTPUTS_2_ATOMS/054a-5bb6-4f0d-8841-6d2bc0a637e2'),\n",
       " PosixPath('../dataset/SHARE_OUTPUTS_2_ATOMS/73e8-5841-4f10-9f47-3db7535e01b9'),\n",
       " PosixPath('../dataset/SHARE_OUTPUTS_2_ATOMS/de11-c9a3-457f-8745-72245e90599d'),\n",
       " PosixPath('../dataset/SHARE_OUTPUTS_2_ATOMS/2d88-a572-4395-b881-72fa67e0a6bd'),\n",
       " PosixPath('../dataset/SHARE_OUTPUTS_2_ATOMS/89a5-8528-4eac-8f51-bc4cac771309'),\n",
       " PosixPath('../dataset/SHARE_OUTPUTS_2_ATOMS/f71b-111a-49b0-8d4f-7519eaed5a56'),\n",
       " PosixPath('../dataset/SHARE_OUTPUTS_2_ATOMS/0d6b-1449-4daa-8812-b02ab6e548f4'),\n",
       " PosixPath('../dataset/SHARE_OUTPUTS_2_ATOMS/db76-d13f-40a0-a277-caf1e90819e6'),\n",
       " PosixPath('../dataset/SHARE_OUTPUTS_2_ATOMS/f7af-d57a-4ea0-b708-c161297834a8'),\n",
       " PosixPath('../dataset/SHARE_OUTPUTS_2_ATOMS/b23f-84f7-4970-845d-134491448a0a'),\n",
       " PosixPath('../dataset/SHARE_OUTPUTS_2_ATOMS/8601-2a77-4b0c-8897-5c61674ca074'),\n",
       " PosixPath('../dataset/SHARE_OUTPUTS_2_ATOMS/09a7-3147-4ee9-a360-72faa9bf3765'),\n",
       " PosixPath('../dataset/SHARE_OUTPUTS_2_ATOMS/f7bc-fcea-4f67-9e15-4bd1ef5678df'),\n",
       " PosixPath('../dataset/SHARE_OUTPUTS_2_ATOMS/02d4-f3b5-412b-b61e-053157584cbe'),\n",
       " PosixPath('../dataset/SHARE_OUTPUTS_2_ATOMS/b90c-4646-47b0-9453-b0c9a8acd434'),\n",
       " PosixPath('../dataset/SHARE_OUTPUTS_2_ATOMS/91f3-f6bb-488c-84ec-0a0f016608e4'),\n",
       " PosixPath('../dataset/SHARE_OUTPUTS_2_ATOMS/2e65-1feb-4df2-8836-e5513b9bade0'),\n",
       " PosixPath('../dataset/SHARE_OUTPUTS_2_ATOMS/9c5a-5235-4a0b-a232-2530a97994af'),\n",
       " PosixPath('../dataset/SHARE_OUTPUTS_2_ATOMS/a8a9-4619-41d6-89cb-e5f0a19cce56'),\n",
       " PosixPath('../dataset/SHARE_OUTPUTS_2_ATOMS/3176-bf58-478a-a097-3de1d017dff4'),\n",
       " PosixPath('../dataset/SHARE_OUTPUTS_2_ATOMS/0d73-8db6-47ac-a9af-c7a18cc34b67'),\n",
       " PosixPath('../dataset/SHARE_OUTPUTS_2_ATOMS/dbab-2a15-47b0-86d0-324378eaf8fa'),\n",
       " PosixPath('../dataset/SHARE_OUTPUTS_2_ATOMS/2aa6-e839-4ca4-9e63-0cc27be5f76f'),\n",
       " PosixPath('../dataset/SHARE_OUTPUTS_2_ATOMS/abf6-ddbd-4c06-b266-c1d188d0f599'),\n",
       " PosixPath('../dataset/SHARE_OUTPUTS_2_ATOMS/b6d2-9ae2-41e0-8f33-ea06949232c6'),\n",
       " PosixPath('../dataset/SHARE_OUTPUTS_2_ATOMS/ae0c-77e9-485f-945b-9f577bdde5ba'),\n",
       " PosixPath('../dataset/SHARE_OUTPUTS_2_ATOMS/b3e7-303c-470d-af56-c01169162fa7'),\n",
       " PosixPath('../dataset/SHARE_OUTPUTS_2_ATOMS/c0e0-7549-496d-82e7-c3f6b1d81e58'),\n",
       " PosixPath('../dataset/SHARE_OUTPUTS_2_ATOMS/eeef-db9e-46b6-bee4-42ef8982b67a'),\n",
       " PosixPath('../dataset/SHARE_OUTPUTS_2_ATOMS/f187-a1f7-4fdf-8984-9551cc50970b'),\n",
       " PosixPath('../dataset/SHARE_OUTPUTS_2_ATOMS/ad1b-a3bf-4e7e-9f21-d6b28e150664'),\n",
       " PosixPath('../dataset/SHARE_OUTPUTS_2_ATOMS/81db-3671-4c4a-9ea4-696b8d440e2c'),\n",
       " PosixPath('../dataset/SHARE_OUTPUTS_2_ATOMS/ae6a-00fa-4663-8380-96e5c56d21c0'),\n",
       " PosixPath('../dataset/SHARE_OUTPUTS_2_ATOMS/16e8-c072-4b7f-a083-a2d26360dd5b'),\n",
       " PosixPath('../dataset/SHARE_OUTPUTS_2_ATOMS/d13d-c927-4b66-91a3-2eeb24c0e5ed'),\n",
       " PosixPath('../dataset/SHARE_OUTPUTS_2_ATOMS/c185-8b61-445e-8068-be370e3617c6'),\n",
       " PosixPath('../dataset/SHARE_OUTPUTS_2_ATOMS/9f85-2c07-4c47-9756-127477c43c9c'),\n",
       " PosixPath('../dataset/SHARE_OUTPUTS_2_ATOMS/585b-29ea-497e-abc2-5d0c0a14ce35'),\n",
       " PosixPath('../dataset/SHARE_OUTPUTS_2_ATOMS/f24e-9309-4793-a7db-191fe3749b47'),\n",
       " PosixPath('../dataset/SHARE_OUTPUTS_2_ATOMS/1f9c-2663-4b33-a8d4-de414395690b'),\n",
       " PosixPath('../dataset/SHARE_OUTPUTS_2_ATOMS/51b5-4b06-443e-90f9-b51201f9bc0b'),\n",
       " PosixPath('../dataset/SHARE_OUTPUTS_2_ATOMS/c0a3-2e8a-4977-bf34-294319b3b08a'),\n",
       " PosixPath('../dataset/SHARE_OUTPUTS_2_ATOMS/aeac-8391-4502-9a60-b94f97291cf6'),\n",
       " PosixPath('../dataset/SHARE_OUTPUTS_2_ATOMS/52b6-d4b4-4aa1-bf10-8c7d44c978d3'),\n",
       " PosixPath('../dataset/SHARE_OUTPUTS_2_ATOMS/1aac-d867-4e35-940e-f177a4fe34ee'),\n",
       " PosixPath('../dataset/SHARE_OUTPUTS_2_ATOMS/4786-d149-4efe-a849-8864cab52d41'),\n",
       " PosixPath('../dataset/SHARE_OUTPUTS_2_ATOMS/4540-3dda-47f3-be58-2d4185e8e863'),\n",
       " PosixPath('../dataset/SHARE_OUTPUTS_2_ATOMS/385a-c065-4b42-b1a7-2da0d3457e37'),\n",
       " PosixPath('../dataset/SHARE_OUTPUTS_2_ATOMS/c575-ecea-4fa1-a973-d050a4073ed5'),\n",
       " PosixPath('../dataset/SHARE_OUTPUTS_2_ATOMS/f3fd-c4c7-4d16-9d07-3cc6b451c775'),\n",
       " PosixPath('../dataset/SHARE_OUTPUTS_2_ATOMS/9717-2053-4ea6-817f-c0014b258251'),\n",
       " PosixPath('../dataset/SHARE_OUTPUTS_2_ATOMS/7492-f5cd-4523-b2ec-cf6b9977b453'),\n",
       " PosixPath('../dataset/SHARE_OUTPUTS_2_ATOMS/4fab-3d88-4e57-a9a6-956729ef0dab'),\n",
       " PosixPath('../dataset/SHARE_OUTPUTS_2_ATOMS/45fa-290d-448f-aab5-51f41046d60d'),\n",
       " PosixPath('../dataset/SHARE_OUTPUTS_2_ATOMS/18a7-265b-4fbf-aae4-52fb83b4760f'),\n",
       " PosixPath('../dataset/SHARE_OUTPUTS_2_ATOMS/4e09-b876-46d0-bf93-88ba14da0d0c'),\n",
       " PosixPath('../dataset/SHARE_OUTPUTS_2_ATOMS/a4a5-71a5-463a-a02e-acd977e1dcda'),\n",
       " PosixPath('../dataset/SHARE_OUTPUTS_2_ATOMS/ca9e-7cea-439e-8ea2-9c941f637e64'),\n",
       " PosixPath('../dataset/SHARE_OUTPUTS_2_ATOMS/c2af-c30a-48f9-8b5f-985a238d5c8f'),\n",
       " PosixPath('../dataset/SHARE_OUTPUTS_2_ATOMS/7586-153a-4dd5-9283-e289fe1366b3'),\n",
       " PosixPath('../dataset/SHARE_OUTPUTS_2_ATOMS/f2c2-b00b-468e-aa75-0a57f0bbac0c'),\n",
       " PosixPath('../dataset/SHARE_OUTPUTS_2_ATOMS/7db0-d916-4b3e-acab-1ccc15aeb55d'),\n",
       " PosixPath('../dataset/SHARE_OUTPUTS_2_ATOMS/7abf-c0c4-4241-bd4e-9e8723d91b34'),\n",
       " PosixPath('../dataset/SHARE_OUTPUTS_2_ATOMS/194a-8bc3-475a-94aa-7230bf70b5fe'),\n",
       " PosixPath('../dataset/SHARE_OUTPUTS_2_ATOMS/f016-fb0e-4d5c-b584-4f8987eb5676'),\n",
       " PosixPath('../dataset/SHARE_OUTPUTS_2_ATOMS/6abb-7800-4e97-9f2a-6ba41244f7d6'),\n",
       " PosixPath('../dataset/SHARE_OUTPUTS_2_ATOMS/7950-e060-4280-bb2f-9c1f559360b9'),\n",
       " PosixPath('../dataset/SHARE_OUTPUTS_2_ATOMS/7041-23cc-47cf-a182-1b2ff6bd0483'),\n",
       " PosixPath('../dataset/SHARE_OUTPUTS_2_ATOMS/d5a2-51b8-4318-8470-959265ac5bef'),\n",
       " PosixPath('../dataset/SHARE_OUTPUTS_2_ATOMS/6e40-a82a-4341-955d-6769dc05a6dc'),\n",
       " PosixPath('../dataset/SHARE_OUTPUTS_2_ATOMS/3ffa-2174-4501-ae9d-2d80f44f8c00'),\n",
       " PosixPath('../dataset/SHARE_OUTPUTS_2_ATOMS/7e20-9cdf-4b2c-8134-6cadc8f64c34'),\n",
       " PosixPath('../dataset/SHARE_OUTPUTS_2_ATOMS/1414-4998-4e19-a363-b75b38af229c'),\n",
       " PosixPath('../dataset/SHARE_OUTPUTS_2_ATOMS/0a4c-6759-46e6-bf5e-6439eefcaad2'),\n",
       " PosixPath('../dataset/SHARE_OUTPUTS_2_ATOMS/ea42-862a-49ae-ba6c-c76cc48b5992'),\n",
       " PosixPath('../dataset/SHARE_OUTPUTS_2_ATOMS/22a5-245d-4c46-b616-5b3b474ee0c1'),\n",
       " PosixPath('../dataset/SHARE_OUTPUTS_2_ATOMS/f837-a23d-4687-958d-779b6e4e59fd'),\n",
       " PosixPath('../dataset/SHARE_OUTPUTS_2_ATOMS/adff-8cce-4139-b492-6c499fdeb6f0'),\n",
       " PosixPath('../dataset/SHARE_OUTPUTS_2_ATOMS/4b91-2f3d-4be9-b41f-26b24985a4bb'),\n",
       " PosixPath('../dataset/SHARE_OUTPUTS_2_ATOMS/c8f1-37f0-45f2-a599-3cf112fc064d'),\n",
       " PosixPath('../dataset/SHARE_OUTPUTS_2_ATOMS/c7d9-e2cb-4e90-944e-66c004df6e86'),\n",
       " PosixPath('../dataset/SHARE_OUTPUTS_2_ATOMS/7bbb-6d51-41eb-9de4-329298202ebf'),\n",
       " PosixPath('../dataset/SHARE_OUTPUTS_2_ATOMS/6780-94b9-4ee5-b18c-74a7abd5d391'),\n",
       " PosixPath('../dataset/SHARE_OUTPUTS_2_ATOMS/d249-97ce-4fdf-8948-cfce4078c8ac'),\n",
       " PosixPath('../dataset/SHARE_OUTPUTS_2_ATOMS/8856-4603-4d6e-be33-33b4c2d6c5e2'),\n",
       " PosixPath('../dataset/SHARE_OUTPUTS_2_ATOMS/fadc-9b9e-4808-9115-e5bb73aeea1d'),\n",
       " PosixPath('../dataset/SHARE_OUTPUTS_2_ATOMS/7802-3151-4e8b-b6a9-dca3830e686b'),\n",
       " PosixPath('../dataset/SHARE_OUTPUTS_2_ATOMS/41f7-3b57-4367-959e-f7b2cc71bc23'),\n",
       " PosixPath('../dataset/SHARE_OUTPUTS_2_ATOMS/c08e-faed-4358-ad34-7f3dce952e5e'),\n",
       " PosixPath('../dataset/SHARE_OUTPUTS_2_ATOMS/2b8e-3c4f-47eb-b267-01ff9c624f56'),\n",
       " PosixPath('../dataset/SHARE_OUTPUTS_2_ATOMS/a8da-c1e8-44c1-8806-06d596be09be'),\n",
       " PosixPath('../dataset/SHARE_OUTPUTS_2_ATOMS/1b68-4e91-43d0-9dae-1b5248b8401a'),\n",
       " PosixPath('../dataset/SHARE_OUTPUTS_2_ATOMS/bd9c-aae8-4dc0-b769-81e61fb9e8c0'),\n",
       " PosixPath('../dataset/SHARE_OUTPUTS_2_ATOMS/38e0-4d0f-42ff-8161-b0a23437f2c7')]"
      ]
     },
     "execution_count": 14,
     "metadata": {},
     "output_type": "execute_result"
    }
   ],
   "source": [
    "paths"
   ]
  },
  {
   "cell_type": "code",
   "execution_count": 15,
   "id": "279ef10f",
   "metadata": {},
   "outputs": [
    {
     "name": "stderr",
     "output_type": "stream",
     "text": [
      "100%|██████████| 183/183 [00:00<00:00, 1030.05it/s]\n"
     ]
    },
    {
     "data": {
      "text/plain": [
       "<matplotlib.legend.Legend at 0x74e84059b4c0>"
      ]
     },
     "execution_count": 15,
     "metadata": {},
     "output_type": "execute_result"
    },
    {
     "data": {
      "image/png": "[encoded data removed]",
      "text/plain": [
       "<Figure size 640x480 with 1 Axes>"
      ]
     },
     "metadata": {},
     "output_type": "display_data"
    }
   ],
   "source": [
    "df_nocarbon = pd.DataFrame(columns=[\"n_atoms\", \"atomic_number\"])\n",
    "for path in tqdm(paths):\n",
    "    file = sisl.get_sile(path / \"aiida.HSX\")\n",
    "    geometry = file.read_geometry()\n",
    "    lattice_vectors = geometry.lattice\n",
    "\n",
    "\n",
    "    row_dict = {\n",
    "        \"n_atoms\": len(geometry.atoms.Z),\n",
    "        \"atomic_number\": geometry.atoms.Z,\n",
    "    }\n",
    "\n",
    "    df_nocarbon = pd.concat([df_nocarbon, pd.DataFrame([row_dict])], ignore_index=True)\n",
    "\n",
    "import matplotlib.pyplot as plt\n",
    "\n",
    "n_atoms = df_nocarbon[\"n_atoms\"].drop_duplicates()\n",
    "counts = [df_nocarbon[df_nocarbon[\"n_atoms\"] == i][\"atomic_number\"].apply(lambda x: 6 in x).sum() for i in n_atoms.to_list()]\n",
    "x_labels = [str(i) for i in n_atoms.to_list()]\n",
    "\n",
    "totals = [(df[\"n_atoms\"] == i).sum() for i in n_atoms.to_list()]\n",
    "plt.bar(x_labels, totals, label=\"total\")\n",
    "plt.bar(x_labels, counts, label=\"carbons\")\n",
    "plt.xlabel(\"Number of atoms\")\n",
    "plt.ylabel(\"Number of structures\")\n",
    "plt.legend()"
   ]
  },
  {
   "cell_type": "code",
   "execution_count": 16,
   "id": "b6cca76d",
   "metadata": {},
   "outputs": [
    {
     "data": {
      "text/html": [
       "<div>\n",
       "<style scoped>\n",
       "    .dataframe tbody tr th:only-of-type {\n",
       "        vertical-align: middle;\n",
       "    }\n",
       "\n",
       "    .dataframe tbody tr th {\n",
       "        vertical-align: top;\n",
       "    }\n",
       "\n",
       "    .dataframe thead th {\n",
       "        text-align: right;\n",
       "    }\n",
       "</style>\n",
       "<table border=\"1\" class=\"dataframe\">\n",
       "  <thead>\n",
       "    <tr style=\"text-align: right;\">\n",
       "      <th></th>\n",
       "      <th>n_atoms</th>\n",
       "      <th>atomic_number</th>\n",
       "    </tr>\n",
       "  </thead>\n",
       "  <tbody>\n",
       "    <tr>\n",
       "      <th>0</th>\n",
       "      <td>2</td>\n",
       "      <td>[5, 5]</td>\n",
       "    </tr>\n",
       "    <tr>\n",
       "      <th>1</th>\n",
       "      <td>2</td>\n",
       "      <td>[7, 7]</td>\n",
       "    </tr>\n",
       "    <tr>\n",
       "      <th>2</th>\n",
       "      <td>2</td>\n",
       "      <td>[5, 5]</td>\n",
       "    </tr>\n",
       "    <tr>\n",
       "      <th>3</th>\n",
       "      <td>2</td>\n",
       "      <td>[5, 5]</td>\n",
       "    </tr>\n",
       "    <tr>\n",
       "      <th>4</th>\n",
       "      <td>2</td>\n",
       "      <td>[5, 5]</td>\n",
       "    </tr>\n",
       "    <tr>\n",
       "      <th>...</th>\n",
       "      <td>...</td>\n",
       "      <td>...</td>\n",
       "    </tr>\n",
       "    <tr>\n",
       "      <th>178</th>\n",
       "      <td>2</td>\n",
       "      <td>[5, 5]</td>\n",
       "    </tr>\n",
       "    <tr>\n",
       "      <th>179</th>\n",
       "      <td>2</td>\n",
       "      <td>[5, 5]</td>\n",
       "    </tr>\n",
       "    <tr>\n",
       "      <th>180</th>\n",
       "      <td>2</td>\n",
       "      <td>[5, 5]</td>\n",
       "    </tr>\n",
       "    <tr>\n",
       "      <th>181</th>\n",
       "      <td>2</td>\n",
       "      <td>[7, 7]</td>\n",
       "    </tr>\n",
       "    <tr>\n",
       "      <th>182</th>\n",
       "      <td>2</td>\n",
       "      <td>[5, 5]</td>\n",
       "    </tr>\n",
       "  </tbody>\n",
       "</table>\n",
       "<p>183 rows × 2 columns</p>\n",
       "</div>"
      ],
      "text/plain": [
       "    n_atoms atomic_number\n",
       "0         2        [5, 5]\n",
       "1         2        [7, 7]\n",
       "2         2        [5, 5]\n",
       "3         2        [5, 5]\n",
       "4         2        [5, 5]\n",
       "..      ...           ...\n",
       "178       2        [5, 5]\n",
       "179       2        [5, 5]\n",
       "180       2        [5, 5]\n",
       "181       2        [7, 7]\n",
       "182       2        [5, 5]\n",
       "\n",
       "[183 rows x 2 columns]"
      ]
     },
     "execution_count": 16,
     "metadata": {},
     "output_type": "execute_result"
    }
   ],
   "source": [
    "df_nocarbon"
   ]
  },
  {
   "cell_type": "code",
   "execution_count": 10,
   "id": "09eaf43f",
   "metadata": {},
   "outputs": [
    {
     "data": {
      "text/plain": [
       "[0]"
      ]
     },
     "execution_count": 10,
     "metadata": {},
     "output_type": "execute_result"
    }
   ],
   "source": [
    "totals"
   ]
  },
  {
   "cell_type": "code",
   "execution_count": 100,
   "id": "a6ab1f53",
   "metadata": {},
   "outputs": [
    {
     "data": {
      "text/plain": [
       "Text(0.5, 1.0, 'Distribution of the dataset')"
      ]
     },
     "execution_count": 100,
     "metadata": {},
     "output_type": "execute_result"
    },
    {
     "data": {
      "image/png": "[encoded data removed]",
      "text/plain": [
       "<Figure size 640x480 with 1 Axes>"
      ]
     },
     "metadata": {},
     "output_type": "display_data"
    }
   ],
   "source": [
    "# Fast solution to ordering issue\n",
    "\n",
    "x = [\"2\", \"8\", \"64\"]\n",
    "y = [323, 599, 213]\n",
    "\n",
    "fig, ax = plt.subplots()\n",
    "bars = ax.bar(x, y)\n",
    "ax.bar_label(bars)\n",
    "\n",
    "plt.xlabel(\"Number of atoms in the unit cell\")\n",
    "plt.ylabel(\"Number of structures\")\n",
    "plt.title(\"Distribution of the dataset\")"
   ]
  },
  {
   "cell_type": "code",
   "execution_count": 17,
   "id": "ca9236c3",
   "metadata": {},
   "outputs": [
    {
     "name": "stderr",
     "output_type": "stream",
     "text": [
      "183it [00:00, 1306.34it/s]"
     ]
    },
    {
     "name": "stdout",
     "output_type": "stream",
     "text": [
      "Finished loop\n"
     ]
    },
    {
     "name": "stderr",
     "output_type": "stream",
     "text": [
      "\n"
     ]
    }
   ],
   "source": [
    "# Por qué siguen habiendo carbons? --> Ya no! :D\n",
    "for i, path in tqdm(enumerate(paths)):\n",
    "    file = sisl.get_sile(path / \"aiida.HSX\")\n",
    "    geometry = file.read_geometry()\n",
    "    if 6 in geometry.atoms.Z:\n",
    "        print(f\"Found a Carbon in path {i}\")\n",
    "        break\n",
    "print(\"Finished loop\")"
   ]
  },
  {
   "cell_type": "code",
   "execution_count": 18,
   "id": "80492856",
   "metadata": {},
   "outputs": [
    {
     "name": "stdout",
     "output_type": "stream",
     "text": [
      "['SHARE_OUTPUTS_2_ATOMS']\n",
      "[['6d1a-578f-478c-a320-d8be012039e6', '6d69-12f4-459d-ba19-f7951a3299dc', 'b908-9d2a-4e27-96e6-c1f6f75a76f7', '66ea-aa33-4cd1-a2b0-7f530e6788d4', 'a4f7-5d3f-4e50-9eda-87df3bf9ba58', '0c9b-0f56-4c21-b69b-6147764120fa', '8f7b-867e-4e9d-a027-997b50ee2ba6', '91dc-c45e-4096-8e0e-04e28f21a44c', 'cd6e-7357-4868-b521-63e9bad68413', 'c580-0447-4510-bf6d-8dc278a7c3cf', '427a-33e4-40d4-9fbf-7d55d341bc33', 'd2e2-51e3-40ca-a3bd-4dcb70c095c2', '2f5b-a12e-4508-aa48-cf355b2303e5', 'e9fa-338a-455e-b89b-e54a3e88dfdc', 'f42a-df85-4da8-9960-efbedeb2d8b1', '4cc1-6263-48b4-9a54-d06ac88f4c85', '02a4-2c2f-4381-b074-ee6aa682941f', '4130-44f6-445e-8a26-4f6afcdd73ea', '8da9-708f-4ce4-842c-40181e097f16', '8301-0bfc-40d7-9f86-53e2ed6270ad', '7eb6-b121-4101-8a46-627c7a95f3f9', '9b66-b574-4792-89d5-30f2717531d2', '8ff7-f30f-4735-b581-be52392a2375', 'af08-63de-4132-b743-85aba30f078b', 'b684-4f57-474b-9762-b3416b5e7985', '6ab1-b9ab-4faa-9c05-0a6871bfa641', 'ce81-05d6-40c9-8c2b-7a586d09140c', 'b5da-3ad1-43d6-8db8-34c63eb32b38', '90d7-6f26-499f-8a74-ff6195ba8bfd', 'ab72-cf42-49f9-9f3d-e87b849ae8f8', 'aa48-a92e-45ac-8fc6-a04a1de61cc5', 'ac9c-4fa8-4de1-9f2d-d5d2ceca6ce7', 'd323-f7ca-40e6-959c-30a5e5fd9920', '5bc4-c7a6-4074-be4f-f983d5dbdbcb', '0953-8dcf-411e-ae7b-00f794981cc5', 'c254-d9f1-4259-856e-9663457160bb', '643d-768d-4fea-8f56-149f02f1331f', '9647-499c-4466-8faa-b5d189881ca0', 'cc16-b388-4e1f-8496-7ad875025368', '427d-bd91-4408-9c90-df9bf3d3f8d6', 'db65-6186-4188-b955-0dca4cd7daa1', '504a-71cd-4d25-a04a-b7fa45b92200', 'ea88-6da9-40cd-a518-934259fb69ef', '0baa-2e39-4ee6-92a8-677752f4dfab', 'b557-c804-44da-80fe-a0b7ae301a65', 'a2eb-bf31-4aa9-8a0e-05a9734df668', '6e3b-50c7-4f27-83c6-91008a6dfdd2', '392a-0f98-418f-b6f9-e33dee4890b6', 'bd35-53fd-4a80-bb8b-10e9f11df634', '9a8e-d5f2-4285-aef2-903da276e7fd', '69fe-d92c-491f-b567-e914a3fcb587', '04e3-35bf-497f-9bbc-220009079f8b', '1cc2-6a59-4a92-85c5-20513877aa83', '9b13-4a57-4de9-b863-1b35209370c4', '6088-d26a-44c7-a338-31903cfa001f', '81d3-7a3c-4870-aa35-7e7a1ac226f6', 'ab48-f618-4d86-8aef-70b5d2909cde', '5e09-a331-440e-ae00-9941c9fd0e7b', '8fd0-caf0-4102-bb43-4aadc950f18f', '17f5-9b5b-4f25-bc83-ef21ad099938', 'e486-4f49-4560-a4d2-0363fd9b5157', '5e58-d45e-4e8b-8abe-3100b4445aa4', '544e-70b1-4187-bdfd-f445afbafb8c', '015c-36a2-442f-9368-e9eff0f2bc1e', 'dd60-9d02-4692-bd99-b6de70ff4521', 'bed8-e0eb-4387-a261-9cadbe64ed5e', 'a336-0306-4301-b0eb-6bbde7121b8e', '0d70-cb9c-4f83-99f9-ecd04ba56c74', 'a4e4-2f64-4e68-a37a-9e84eb767a0c', 'c8ce-475a-431c-b659-39b166ea3959', 'd072-0939-4fbc-b570-87f5ec163a01', 'd94b-fd60-484d-9374-5e75296b3db3', '5d57-8e3e-48b1-988c-21e37f067560', '5bf9-72cf-43e7-97d0-12c4513fad3c', '09e2-94d3-40c8-8573-8333bf3bf7a0', '0d7e-cef0-46a3-8807-9fdf9ecc90dc', 'ac69-3c79-4241-a7b2-5d6819186b27', '6953-d703-46af-85c2-b25ff69ab230', 'b515-30c8-4e2a-88df-efe21ee4615a', 'd574-002a-41f3-b25f-ea1736930981', 'e465-cb91-43be-a4ba-c1c1c555eb35', 'dafc-2e7a-493b-9f2c-7e3d03075913', '1bbe-56b7-4a4e-a93b-636799eadb28', '7d8d-b17b-45e7-8d50-388b4ecb953e', '78dd-127d-46dd-9fcb-055e973f65e7', '1c62-8f2c-4ebd-aa02-6633d42c6b31', 'fc1c-6ab6-4c0e-921e-99710e6fe41b', 'c924-ac64-4837-a960-ff786d6c6836', 'c8a7-3eaa-4fae-8698-ab33ecdddf28', '054a-5bb6-4f0d-8841-6d2bc0a637e2', '73e8-5841-4f10-9f47-3db7535e01b9', 'de11-c9a3-457f-8745-72245e90599d', '2d88-a572-4395-b881-72fa67e0a6bd', '89a5-8528-4eac-8f51-bc4cac771309', 'f71b-111a-49b0-8d4f-7519eaed5a56', '0d6b-1449-4daa-8812-b02ab6e548f4', 'db76-d13f-40a0-a277-caf1e90819e6', 'f7af-d57a-4ea0-b708-c161297834a8', 'b23f-84f7-4970-845d-134491448a0a', '8601-2a77-4b0c-8897-5c61674ca074', '09a7-3147-4ee9-a360-72faa9bf3765', 'f7bc-fcea-4f67-9e15-4bd1ef5678df', '02d4-f3b5-412b-b61e-053157584cbe', 'b90c-4646-47b0-9453-b0c9a8acd434', '91f3-f6bb-488c-84ec-0a0f016608e4', '2e65-1feb-4df2-8836-e5513b9bade0', '9c5a-5235-4a0b-a232-2530a97994af', 'a8a9-4619-41d6-89cb-e5f0a19cce56', '3176-bf58-478a-a097-3de1d017dff4', '0d73-8db6-47ac-a9af-c7a18cc34b67', 'dbab-2a15-47b0-86d0-324378eaf8fa', '2aa6-e839-4ca4-9e63-0cc27be5f76f', 'abf6-ddbd-4c06-b266-c1d188d0f599', 'b6d2-9ae2-41e0-8f33-ea06949232c6', 'ae0c-77e9-485f-945b-9f577bdde5ba', 'b3e7-303c-470d-af56-c01169162fa7', 'c0e0-7549-496d-82e7-c3f6b1d81e58', 'eeef-db9e-46b6-bee4-42ef8982b67a', 'f187-a1f7-4fdf-8984-9551cc50970b', 'ad1b-a3bf-4e7e-9f21-d6b28e150664', '81db-3671-4c4a-9ea4-696b8d440e2c', 'ae6a-00fa-4663-8380-96e5c56d21c0', '16e8-c072-4b7f-a083-a2d26360dd5b', 'd13d-c927-4b66-91a3-2eeb24c0e5ed', 'c185-8b61-445e-8068-be370e3617c6', '9f85-2c07-4c47-9756-127477c43c9c', '585b-29ea-497e-abc2-5d0c0a14ce35', 'f24e-9309-4793-a7db-191fe3749b47', '1f9c-2663-4b33-a8d4-de414395690b', '51b5-4b06-443e-90f9-b51201f9bc0b', 'c0a3-2e8a-4977-bf34-294319b3b08a', 'aeac-8391-4502-9a60-b94f97291cf6', '52b6-d4b4-4aa1-bf10-8c7d44c978d3', '1aac-d867-4e35-940e-f177a4fe34ee', '4786-d149-4efe-a849-8864cab52d41', '4540-3dda-47f3-be58-2d4185e8e863', '385a-c065-4b42-b1a7-2da0d3457e37', 'c575-ecea-4fa1-a973-d050a4073ed5', 'f3fd-c4c7-4d16-9d07-3cc6b451c775', '9717-2053-4ea6-817f-c0014b258251', '7492-f5cd-4523-b2ec-cf6b9977b453', '4fab-3d88-4e57-a9a6-956729ef0dab', '45fa-290d-448f-aab5-51f41046d60d', '18a7-265b-4fbf-aae4-52fb83b4760f', '4e09-b876-46d0-bf93-88ba14da0d0c', 'a4a5-71a5-463a-a02e-acd977e1dcda', 'ca9e-7cea-439e-8ea2-9c941f637e64', 'c2af-c30a-48f9-8b5f-985a238d5c8f', '7586-153a-4dd5-9283-e289fe1366b3', 'f2c2-b00b-468e-aa75-0a57f0bbac0c', '7db0-d916-4b3e-acab-1ccc15aeb55d', '7abf-c0c4-4241-bd4e-9e8723d91b34', '194a-8bc3-475a-94aa-7230bf70b5fe', 'f016-fb0e-4d5c-b584-4f8987eb5676', '6abb-7800-4e97-9f2a-6ba41244f7d6', '7950-e060-4280-bb2f-9c1f559360b9', '7041-23cc-47cf-a182-1b2ff6bd0483', 'd5a2-51b8-4318-8470-959265ac5bef', '6e40-a82a-4341-955d-6769dc05a6dc', '3ffa-2174-4501-ae9d-2d80f44f8c00', '7e20-9cdf-4b2c-8134-6cadc8f64c34', '1414-4998-4e19-a363-b75b38af229c', '0a4c-6759-46e6-bf5e-6439eefcaad2', 'ea42-862a-49ae-ba6c-c76cc48b5992', '22a5-245d-4c46-b616-5b3b474ee0c1', 'f837-a23d-4687-958d-779b6e4e59fd', 'adff-8cce-4139-b492-6c499fdeb6f0', '4b91-2f3d-4be9-b41f-26b24985a4bb', 'c8f1-37f0-45f2-a599-3cf112fc064d', 'c7d9-e2cb-4e90-944e-66c004df6e86', '7bbb-6d51-41eb-9de4-329298202ebf', '6780-94b9-4ee5-b18c-74a7abd5d391', 'd249-97ce-4fdf-8948-cfce4078c8ac', '8856-4603-4d6e-be33-33b4c2d6c5e2', 'fadc-9b9e-4808-9115-e5bb73aeea1d', '7802-3151-4e8b-b6a9-dca3830e686b', '41f7-3b57-4367-959e-f7b2cc71bc23', 'c08e-faed-4358-ad34-7f3dce952e5e', '2b8e-3c4f-47eb-b267-01ff9c624f56', 'a8da-c1e8-44c1-8806-06d596be09be', '1b68-4e91-43d0-9dae-1b5248b8401a', 'bd9c-aae8-4dc0-b769-81e61fb9e8c0', '38e0-4d0f-42ff-8161-b0a23437f2c7']]\n",
      "Dataset saved!\n"
     ]
    }
   ],
   "source": [
    "# Let's save those paths with no carbons.\n",
    "\n",
    "# Get unique X_ATOMS\n",
    "unique_x_atoms = []\n",
    "for path in paths:\n",
    "    x_atoms = path.parts[-2]\n",
    "    if x_atoms not in unique_x_atoms:\n",
    "        unique_x_atoms.append(x_atoms)\n",
    "    \n",
    "print(unique_x_atoms)\n",
    "\n",
    "# Create children folders\n",
    "parent_dir = Path(\"../dataset_nocarbon\")\n",
    "children_dirs = [parent_dir / unique_x_atoms_i for unique_x_atoms_i in unique_x_atoms]\n",
    "for child_dir in children_dirs:\n",
    "    child_dir.mkdir(exist_ok=True, parents=True)\n",
    "\n",
    "# Create a list with as many lists as elements in unique_x_atoms\n",
    "nocarbon_structures = [[] for _ in children_dirs]\n",
    "\n",
    "# Classify the sturctures\n",
    "for path in paths:\n",
    "    for i, child_dir in enumerate(children_dirs):\n",
    "        if child_dir.parts[-1] == path.parts[-2]:\n",
    "            nocarbon_structures[i].append(path.parts[-1])\n",
    "    \n",
    "print(nocarbon_structures)\n",
    "\n",
    "# Save them in their respective folder\n",
    "for i, structures in enumerate(nocarbon_structures):\n",
    "    filepath = children_dirs[i] / \"structures.txt\"\n",
    "    with open(filepath, \"w\") as f:\n",
    "        f.write(\"\\n\".join(structures))\n",
    "\n",
    "print(\"Dataset saved!\")\n",
    "    "
   ]
  },
  {
   "cell_type": "code",
   "execution_count": 32,
   "id": "5ebfa6e0",
   "metadata": {},
   "outputs": [
    {
     "data": {
      "text/plain": [
       "[8, 2, 64]"
      ]
     },
     "execution_count": 32,
     "metadata": {},
     "output_type": "execute_result"
    }
   ],
   "source": [
    "#Play with strings\n",
    "[int(Path(p).stem.split('_')[2]) for p in unique_x_atoms]"
   ]
  },
  {
   "cell_type": "markdown",
   "id": "587bd2eb",
   "metadata": {},
   "source": [
    "# Removing the B-B and N-N bonds"
   ]
  },
  {
   "cell_type": "code",
   "execution_count": 33,
   "id": "71ff832a",
   "metadata": {},
   "outputs": [],
   "source": [
    "def write_structures_paths(structures_paths, filepath):\n",
    "    with open(filepath, \"w\") as f:\n",
    "        f.write(\"\\n\".join(structures_paths))\n",
    "\n",
    "def read_structures_paths(filepath):\n",
    "    with open(filepath, \"r\") as f:\n",
    "        return f.read().splitlines()"
   ]
  },
  {
   "cell_type": "code",
   "execution_count": 34,
   "id": "ec3e56e5",
   "metadata": {},
   "outputs": [],
   "source": [
    "# Load the nocarbon dataset:\n",
    "# === List of paths to all structures ===\n",
    "exclude_carbons = True\n",
    "use_only = None\n",
    "\n",
    "\n",
    "true_dataset_folder = Path('../dataset')\n",
    "paths = []\n",
    "if exclude_carbons:\n",
    "    pointers_folder = Path('../dataset_nocarbon')\n",
    "\n",
    "    # Use only determined subset of the dataset\n",
    "    if use_only is not None:\n",
    "        x_atoms_paths = [pointers_folder / f\"SHARE_OUTPUTS_{n}\" for n in use_only]\n",
    "    else:\n",
    "        x_atoms_paths = list(pointers_folder.glob('*/'))\n",
    "\n",
    "    # Get all the structures\n",
    "    filepath = \"structures.txt\"\n",
    "    structures_paths = [[] for _ in x_atoms_paths]\n",
    "    for i, x_atoms_path in enumerate(x_atoms_paths):\n",
    "        structures = read_structures_paths(str(x_atoms_path / filepath))\n",
    "        for structure in structures:\n",
    "            structures_paths[i].append(x_atoms_path.parts[-1] +\"/\"+ structure)\n",
    "\n",
    "    # Now we join them with the true parent folder\n",
    "    for structures in structures_paths:\n",
    "        for structure in structures:\n",
    "            true_path = true_dataset_folder / structure\n",
    "            paths.append(true_path)\n",
    "        \n",
    "else:  \n",
    "    # Join all structures in the paths variable\n",
    "    n_atoms_paths = list(true_dataset_folder.glob('*/'))\n",
    "    for n_atoms_path in n_atoms_paths:\n",
    "        structure_paths = list(n_atoms_path.glob('*/')) \n",
    "        for structure_path in structure_paths:\n",
    "            paths.append(structure_path)"
   ]
  },
  {
   "cell_type": "code",
   "execution_count": 35,
   "id": "8af8f83b",
   "metadata": {},
   "outputs": [],
   "source": [
    "# Now we have to use sisl to read each structure and remove those B-B, N-N\n",
    "for path in paths:\n",
    "    file = sisl.get_sile(path / \"aiida.fdf\")\n",
    "    geometry = file.read_geometry()\n",
    "    # ! Paso"
   ]
  },
  {
   "cell_type": "markdown",
   "id": "6226e230",
   "metadata": {},
   "source": [
    "# Where is the perfect crystal?"
   ]
  },
  {
   "cell_type": "code",
   "execution_count": 36,
   "id": "90b7e108",
   "metadata": {},
   "outputs": [
    {
     "name": "stdout",
     "output_type": "stream",
     "text": [
      "Found a structure with no Carbon atoms: ../dataset/SHARE_OUTPUTS_8_ATOMS/907c-7487-46bd-8ad3-65b031f7f12b\n",
      "Found a structure with no Carbon atoms: ../dataset/SHARE_OUTPUTS_8_ATOMS/74f6-ada8-4fcd-b69f-4ca3b0ddc30e\n",
      "Found a structure with no Carbon atoms: ../dataset/SHARE_OUTPUTS_8_ATOMS/e84c-005c-4672-8d63-61876b569f15\n",
      "Found a structure with no Carbon atoms: ../dataset/SHARE_OUTPUTS_8_ATOMS/8bfa-ca36-41f1-a041-14ad17494d59\n",
      "Found a structure with no Carbon atoms: ../dataset/SHARE_OUTPUTS_8_ATOMS/5721-4d12-41f2-9f31-f7ee4fcf1096\n",
      "Found a structure with no Carbon atoms: ../dataset/SHARE_OUTPUTS_8_ATOMS/807c-f894-4054-8ea4-da19dab86b43\n",
      "Found a structure with no Carbon atoms: ../dataset/SHARE_OUTPUTS_8_ATOMS/4afc-f1fa-44f8-b159-50cdb0c2020b\n",
      "Found a structure with no Carbon atoms: ../dataset/SHARE_OUTPUTS_8_ATOMS/8fb0-5187-4844-ab5b-f005e5a16194\n",
      "Found a structure with no Carbon atoms: ../dataset/SHARE_OUTPUTS_8_ATOMS/085c-aa27-45ef-b057-4291c5609360\n",
      "Found a structure with no Carbon atoms: ../dataset/SHARE_OUTPUTS_8_ATOMS/5e7e-591c-42d8-be1b-7d3cf8f23e7d\n",
      "Found a structure with no Carbon atoms: ../dataset/SHARE_OUTPUTS_8_ATOMS/f60e-4567-4142-8443-43fc17f8d580\n",
      "Found a structure with no Carbon atoms: ../dataset/SHARE_OUTPUTS_8_ATOMS/ec1d-0a39-4fd1-ba0a-59f4ffdad637\n",
      "Found a structure with no Carbon atoms: ../dataset/SHARE_OUTPUTS_8_ATOMS/f7d0-8cff-4f38-86f7-2776a4722eae\n",
      "Found a structure with no Carbon atoms: ../dataset/SHARE_OUTPUTS_8_ATOMS/cc91-e1ae-431e-b6ed-dd85971886c4\n",
      "Found a structure with no Carbon atoms: ../dataset/SHARE_OUTPUTS_8_ATOMS/426a-3ace-45d7-b487-4fd14dd8156f\n",
      "Found a structure with no Carbon atoms: ../dataset/SHARE_OUTPUTS_8_ATOMS/107a-eac2-4f06-bc69-4b4ec1073c8c\n",
      "Found a structure with no Carbon atoms: ../dataset/SHARE_OUTPUTS_8_ATOMS/7752-ee78-4616-961a-d08fe633f307\n",
      "Found a structure with no Carbon atoms: ../dataset/SHARE_OUTPUTS_8_ATOMS/2065-3c23-4409-bf6a-d9ec080c20b5\n",
      "Found a structure with no Carbon atoms: ../dataset/SHARE_OUTPUTS_8_ATOMS/2606-f104-4cf9-a28f-8db93f5fdeb0\n",
      "Found a structure with no Carbon atoms: ../dataset/SHARE_OUTPUTS_8_ATOMS/2ae5-71bc-41dc-ba88-4d4c98346b33\n",
      "Found a structure with no Carbon atoms: ../dataset/SHARE_OUTPUTS_8_ATOMS/3884-c103-432c-b80b-49ad03b30785\n",
      "Found a structure with no Carbon atoms: ../dataset/SHARE_OUTPUTS_8_ATOMS/1c41-4a17-40e0-9257-79aa2f4ddff5\n",
      "Found a structure with no Carbon atoms: ../dataset/SHARE_OUTPUTS_8_ATOMS/e5b1-ad38-4e6d-a7c0-e2f181ef7795\n",
      "Found a structure with no Carbon atoms: ../dataset/SHARE_OUTPUTS_8_ATOMS/e00a-9856-435d-b201-519f3c5f0e1c\n",
      "Found a structure with no Carbon atoms: ../dataset/SHARE_OUTPUTS_8_ATOMS/db44-6e40-4bae-a2ac-cd867484409a\n",
      "Found a structure with no Carbon atoms: ../dataset/SHARE_OUTPUTS_8_ATOMS/0b9e-8905-4d8f-aee8-92b8c892c484\n",
      "Found a structure with no Carbon atoms: ../dataset/SHARE_OUTPUTS_8_ATOMS/1204-1efd-4a41-a8f6-088edff35473\n",
      "Found a structure with no Carbon atoms: ../dataset/SHARE_OUTPUTS_8_ATOMS/6459-266a-4939-8217-0fd9af42d13f\n",
      "Found a structure with no Carbon atoms: ../dataset/SHARE_OUTPUTS_8_ATOMS/879f-61c4-4acc-a699-32684152ae14\n",
      "Found a structure with no Carbon atoms: ../dataset/SHARE_OUTPUTS_8_ATOMS/848a-19bd-414b-9ef2-40f39b1e2027\n",
      "Found a structure with no Carbon atoms: ../dataset/SHARE_OUTPUTS_8_ATOMS/14b7-c7be-4ccd-add1-ca45b8e47812\n",
      "Found a structure with no Carbon atoms: ../dataset/SHARE_OUTPUTS_8_ATOMS/0888-cde8-4bbf-8840-bbd0accf1d6c\n",
      "Found a structure with no Carbon atoms: ../dataset/SHARE_OUTPUTS_8_ATOMS/8390-4e6c-46ac-9e07-7c1219d04522\n",
      "Found a structure with no Carbon atoms: ../dataset/SHARE_OUTPUTS_8_ATOMS/aa78-859c-4de1-92a2-39441a057b29\n",
      "Found a structure with no Carbon atoms: ../dataset/SHARE_OUTPUTS_8_ATOMS/b4c0-ed55-40d0-ad37-5d549e326606\n",
      "Found a structure with no Carbon atoms: ../dataset/SHARE_OUTPUTS_8_ATOMS/e0f4-41e6-4ebc-a38b-f41adc8a7e1f\n",
      "Found a structure with no Carbon atoms: ../dataset/SHARE_OUTPUTS_8_ATOMS/9a68-f0dd-436f-b875-7200ed614b33\n",
      "Found a structure with no Carbon atoms: ../dataset/SHARE_OUTPUTS_8_ATOMS/26af-afe4-46ff-bb3d-c994b43b9f06\n",
      "Found a structure with no Carbon atoms: ../dataset/SHARE_OUTPUTS_8_ATOMS/9e91-813e-45de-858c-cd404df19017\n",
      "Found a structure with no Carbon atoms: ../dataset/SHARE_OUTPUTS_8_ATOMS/c281-c1cc-4513-a249-c0e8622bea04\n",
      "Found a structure with no Carbon atoms: ../dataset/SHARE_OUTPUTS_8_ATOMS/50df-bebe-4dad-aad0-74863702f38a\n",
      "Found a structure with no Carbon atoms: ../dataset/SHARE_OUTPUTS_8_ATOMS/849c-7d59-4aea-afcd-3ef4f8a9364b\n",
      "Found a structure with no Carbon atoms: ../dataset/SHARE_OUTPUTS_8_ATOMS/2dfe-f34a-4816-a11a-295aafa099bd\n",
      "Found a structure with no Carbon atoms: ../dataset/SHARE_OUTPUTS_8_ATOMS/da48-fee7-4d13-a72b-bc4fa6fc4a82\n",
      "Found a structure with no Carbon atoms: ../dataset/SHARE_OUTPUTS_8_ATOMS/39cf-a27b-42dd-a62e-62556132a798\n",
      "Found a structure with no Carbon atoms: ../dataset/SHARE_OUTPUTS_8_ATOMS/551a-934e-4d9f-8d56-f8ae1d61bb30\n",
      "Found a structure with no Carbon atoms: ../dataset/SHARE_OUTPUTS_8_ATOMS/59bc-dacc-4405-b7b4-195e66bd1481\n",
      "Found a structure with no Carbon atoms: ../dataset/SHARE_OUTPUTS_8_ATOMS/38b8-796c-40db-b82c-6089f2f40533\n",
      "Found a structure with no Carbon atoms: ../dataset/SHARE_OUTPUTS_8_ATOMS/653b-d929-44ce-ad92-a814c60c5814\n",
      "Found a structure with no Carbon atoms: ../dataset/SHARE_OUTPUTS_8_ATOMS/e7f4-30ee-4ad3-82d7-088fa11a3f33\n",
      "Found a structure with no Carbon atoms: ../dataset/SHARE_OUTPUTS_8_ATOMS/99f2-9f14-4f5a-a5e2-00443da07324\n",
      "Found a structure with no Carbon atoms: ../dataset/SHARE_OUTPUTS_8_ATOMS/67c8-1d5a-4c9a-8ae5-e20383dbf14b\n",
      "Found a structure with no Carbon atoms: ../dataset/SHARE_OUTPUTS_8_ATOMS/15eb-06bf-46c0-928b-724772606c34\n",
      "Found a structure with no Carbon atoms: ../dataset/SHARE_OUTPUTS_8_ATOMS/d843-19fe-4a31-85d3-65f2bdb6d4bf\n",
      "Found a structure with no Carbon atoms: ../dataset/SHARE_OUTPUTS_8_ATOMS/eced-d657-4b03-800b-e453bd38135f\n",
      "Found a structure with no Carbon atoms: ../dataset/SHARE_OUTPUTS_8_ATOMS/6c11-8190-470e-9b99-b0b4f9c6a85a\n",
      "Found a structure with no Carbon atoms: ../dataset/SHARE_OUTPUTS_8_ATOMS/1ebe-fbcf-4bfc-a6bb-302425263cf2\n",
      "Found a structure with no Carbon atoms: ../dataset/SHARE_OUTPUTS_8_ATOMS/88bd-ed8a-4749-bad7-033e9549713c\n",
      "Found a structure with no Carbon atoms: ../dataset/SHARE_OUTPUTS_8_ATOMS/a1a1-260e-4b75-969d-8ae95c0f6898\n",
      "Found a structure with no Carbon atoms: ../dataset/SHARE_OUTPUTS_8_ATOMS/4da6-62c4-44f2-aca8-15105e23ff8f\n",
      "Found a structure with no Carbon atoms: ../dataset/SHARE_OUTPUTS_8_ATOMS/de99-8ac4-4d56-854b-f6570a3404ad\n",
      "Found a structure with no Carbon atoms: ../dataset/SHARE_OUTPUTS_8_ATOMS/255c-455e-477d-96d7-bb1b063687fd\n",
      "Found a structure with no Carbon atoms: ../dataset/SHARE_OUTPUTS_8_ATOMS/35fd-d22c-4a67-8781-41deb8034784\n",
      "Found a structure with no Carbon atoms: ../dataset/SHARE_OUTPUTS_8_ATOMS/f2b9-d7cc-4f42-9ccc-13dd371d22a5\n",
      "Found a structure with no Carbon atoms: ../dataset/SHARE_OUTPUTS_8_ATOMS/05ab-7a77-4f9a-b108-60d85e05bb8f\n",
      "Found a structure with no Carbon atoms: ../dataset/SHARE_OUTPUTS_8_ATOMS/3e1a-7228-4379-831c-e9b3aed4a6f3\n",
      "Found a structure with no Carbon atoms: ../dataset/SHARE_OUTPUTS_8_ATOMS/7028-321c-44bd-a990-96edaa143ca9\n",
      "Found a structure with no Carbon atoms: ../dataset/SHARE_OUTPUTS_8_ATOMS/37d2-3ae6-4173-bb6a-6109db59ffd2\n",
      "Found a structure with no Carbon atoms: ../dataset/SHARE_OUTPUTS_8_ATOMS/886e-5f60-41f0-8f65-42bb97fd5902\n",
      "Found a structure with no Carbon atoms: ../dataset/SHARE_OUTPUTS_8_ATOMS/9d03-edd2-4e78-a319-dd3ffc6b5b20\n",
      "Found a structure with no Carbon atoms: ../dataset/SHARE_OUTPUTS_8_ATOMS/8cdf-ae3b-4a99-a75e-a96bbd042251\n",
      "Found a structure with no Carbon atoms: ../dataset/SHARE_OUTPUTS_8_ATOMS/4b9b-20df-4fe5-a669-88ff91902e97\n",
      "Found a structure with no Carbon atoms: ../dataset/SHARE_OUTPUTS_8_ATOMS/11ad-ba95-4a26-8f92-5267f5787553\n",
      "Found a structure with no Carbon atoms: ../dataset/SHARE_OUTPUTS_8_ATOMS/f5b4-3472-40a6-a729-5ff76a6622ec\n",
      "Found a structure with no Carbon atoms: ../dataset/SHARE_OUTPUTS_8_ATOMS/3afc-4b8e-4fff-9011-7830071d5763\n",
      "Found a structure with no Carbon atoms: ../dataset/SHARE_OUTPUTS_8_ATOMS/e1df-2940-4ada-b9c0-d210a6bb2a19\n",
      "Found a structure with no Carbon atoms: ../dataset/SHARE_OUTPUTS_8_ATOMS/3e12-d0ca-45fc-82f0-1ffe1bc11ef0\n",
      "Found a structure with no Carbon atoms: ../dataset/SHARE_OUTPUTS_8_ATOMS/0bd4-c222-4bba-be67-5a44463285f3\n",
      "Found a structure with no Carbon atoms: ../dataset/SHARE_OUTPUTS_8_ATOMS/9720-18fd-4744-9540-60be6f5c707a\n",
      "Found a structure with no Carbon atoms: ../dataset/SHARE_OUTPUTS_8_ATOMS/e68c-70b9-48ed-81ed-ac5ca5410623\n",
      "Found a structure with no Carbon atoms: ../dataset/SHARE_OUTPUTS_8_ATOMS/31df-1793-4a97-8ad4-a14bb9bef379\n",
      "Found a structure with no Carbon atoms: ../dataset/SHARE_OUTPUTS_8_ATOMS/f3ab-10fb-44d7-b10b-240c296a77d6\n",
      "Found a structure with no Carbon atoms: ../dataset/SHARE_OUTPUTS_8_ATOMS/3fa8-fd98-4945-8ed6-0c5abd4db0d7\n",
      "Found a structure with no Carbon atoms: ../dataset/SHARE_OUTPUTS_8_ATOMS/f263-f716-4e8f-a88a-db338221714c\n",
      "Found a structure with no Carbon atoms: ../dataset/SHARE_OUTPUTS_8_ATOMS/6b54-07f6-4e80-b536-06e02853b9f5\n",
      "Found a structure with no Carbon atoms: ../dataset/SHARE_OUTPUTS_8_ATOMS/7641-d278-4b88-8dea-2b730aba6e42\n",
      "Found a structure with no Carbon atoms: ../dataset/SHARE_OUTPUTS_8_ATOMS/b05a-2bc5-4f47-8c55-03787b943376\n",
      "Found a structure with no Carbon atoms: ../dataset/SHARE_OUTPUTS_8_ATOMS/3e67-dd35-48d6-954b-b712b65913bc\n",
      "Found a structure with no Carbon atoms: ../dataset/SHARE_OUTPUTS_8_ATOMS/4a44-c03e-4982-ae3e-2a3586ef6ccf\n",
      "Found a structure with no Carbon atoms: ../dataset/SHARE_OUTPUTS_8_ATOMS/2e86-ee22-443f-a656-3031ac87c4cf\n",
      "Found a structure with no Carbon atoms: ../dataset/SHARE_OUTPUTS_8_ATOMS/18fc-314b-486a-84db-e1307b7a0d2d\n",
      "Found a structure with no Carbon atoms: ../dataset/SHARE_OUTPUTS_8_ATOMS/2723-7128-46f7-958d-c89608e72fa6\n",
      "Found a structure with no Carbon atoms: ../dataset/SHARE_OUTPUTS_8_ATOMS/2ee8-0024-4547-9fd8-260307cd2e73\n",
      "Found a structure with no Carbon atoms: ../dataset/SHARE_OUTPUTS_8_ATOMS/fc2c-86e8-4bca-82a9-903fad323e18\n",
      "Found a structure with no Carbon atoms: ../dataset/SHARE_OUTPUTS_8_ATOMS/ec36-00e2-4393-841f-bf67370db865\n",
      "Found a structure with no Carbon atoms: ../dataset/SHARE_OUTPUTS_8_ATOMS/3a54-08b3-4cf4-803f-612c040be33e\n",
      "Found a structure with no Carbon atoms: ../dataset/SHARE_OUTPUTS_8_ATOMS/d9b3-c142-4851-9bcf-cfb4ad424cda\n",
      "Found a structure with no Carbon atoms: ../dataset/SHARE_OUTPUTS_8_ATOMS/cac1-8428-4cf2-abdf-65c7e13af354\n",
      "Found a structure with no Carbon atoms: ../dataset/SHARE_OUTPUTS_8_ATOMS/fa25-6194-4dc3-9999-0534970004d1\n",
      "Found a structure with no Carbon atoms: ../dataset/SHARE_OUTPUTS_8_ATOMS/d35d-a43c-402d-b06f-84ebab4ac933\n",
      "Found a structure with no Carbon atoms: ../dataset/SHARE_OUTPUTS_8_ATOMS/c41a-6105-459b-847f-08c5655b349b\n",
      "Found a structure with no Carbon atoms: ../dataset/SHARE_OUTPUTS_8_ATOMS/3cc8-af3a-4d68-8849-e80109863642\n",
      "Found a structure with no Carbon atoms: ../dataset/SHARE_OUTPUTS_8_ATOMS/9623-63ed-444a-993a-c685def98b53\n",
      "Found a structure with no Carbon atoms: ../dataset/SHARE_OUTPUTS_8_ATOMS/a0d1-7565-4b85-9dc5-6d9481565e91\n",
      "Found a structure with no Carbon atoms: ../dataset/SHARE_OUTPUTS_8_ATOMS/5968-45fa-44ee-8e10-e17eeec3f89c\n",
      "Found a structure with no Carbon atoms: ../dataset/SHARE_OUTPUTS_8_ATOMS/b21a-b539-4a97-9bf8-d7301e5c237a\n",
      "Found a structure with no Carbon atoms: ../dataset/SHARE_OUTPUTS_8_ATOMS/79f2-ba83-46ee-901b-8dc73d760382\n",
      "Found a structure with no Carbon atoms: ../dataset/SHARE_OUTPUTS_8_ATOMS/fcf2-c300-43c4-a560-b6eb8c9fc7f5\n",
      "Found a structure with no Carbon atoms: ../dataset/SHARE_OUTPUTS_8_ATOMS/b120-8fbd-4233-a20a-c0078648c73a\n",
      "Found a structure with no Carbon atoms: ../dataset/SHARE_OUTPUTS_8_ATOMS/da88-e1b4-461f-b8e2-ecceaf198d59\n",
      "Found a structure with no Carbon atoms: ../dataset/SHARE_OUTPUTS_8_ATOMS/1479-3df6-4004-a152-52add2bc8c83\n",
      "Found a structure with no Carbon atoms: ../dataset/SHARE_OUTPUTS_8_ATOMS/ea47-9de9-4e02-9453-e1bfc1ef6949\n",
      "Found a structure with no Carbon atoms: ../dataset/SHARE_OUTPUTS_8_ATOMS/0eee-1046-4339-b30e-3d15903f3475\n",
      "Found a structure with no Carbon atoms: ../dataset/SHARE_OUTPUTS_8_ATOMS/4bd0-b884-4c29-9452-d77eb042a615\n",
      "Found a structure with no Carbon atoms: ../dataset/SHARE_OUTPUTS_8_ATOMS/7a7d-4767-4a9f-85b6-ff969a2a95fa\n",
      "Found a structure with no Carbon atoms: ../dataset/SHARE_OUTPUTS_8_ATOMS/547d-f427-4995-b959-5a550cf1043c\n",
      "Found a structure with no Carbon atoms: ../dataset/SHARE_OUTPUTS_8_ATOMS/e8bf-d2ca-4349-ae97-15474ababdc0\n",
      "Found a structure with no Carbon atoms: ../dataset/SHARE_OUTPUTS_8_ATOMS/33ef-ca33-4bf0-a36e-6e852deab7b5\n",
      "Found a structure with no Carbon atoms: ../dataset/SHARE_OUTPUTS_8_ATOMS/b2fa-0169-4f14-92df-dbe1d9580be4\n",
      "Found a structure with no Carbon atoms: ../dataset/SHARE_OUTPUTS_8_ATOMS/6034-4690-47e5-b43d-6183191ce146\n",
      "Found a structure with no Carbon atoms: ../dataset/SHARE_OUTPUTS_8_ATOMS/1651-4e29-4200-8be8-18e878b2e83d\n",
      "Found a structure with no Carbon atoms: ../dataset/SHARE_OUTPUTS_8_ATOMS/b213-0d6f-40ff-83df-a23dfb1c35f6\n",
      "Found a structure with no Carbon atoms: ../dataset/SHARE_OUTPUTS_8_ATOMS/727f-16a3-4fbd-98c1-96ec66f6e5c8\n",
      "Found a structure with no Carbon atoms: ../dataset/SHARE_OUTPUTS_8_ATOMS/5280-7091-440b-99d2-40ef7e8ce196\n",
      "Found a structure with no Carbon atoms: ../dataset/SHARE_OUTPUTS_8_ATOMS/4666-1cff-4b3f-b135-df49feb8397d\n",
      "Found a structure with no Carbon atoms: ../dataset/SHARE_OUTPUTS_8_ATOMS/32a4-f97d-4df0-8173-677ec3c26caa\n",
      "Found a structure with no Carbon atoms: ../dataset/SHARE_OUTPUTS_8_ATOMS/3bb1-a382-43b0-8f9c-2747fe4e64a3\n",
      "Found a structure with no Carbon atoms: ../dataset/SHARE_OUTPUTS_8_ATOMS/7e0a-843d-4cca-9a0c-a21df59013db\n",
      "Found a structure with no Carbon atoms: ../dataset/SHARE_OUTPUTS_8_ATOMS/2a68-331d-4fd7-814e-50a66d1f7fb3\n",
      "Found a structure with no Carbon atoms: ../dataset/SHARE_OUTPUTS_8_ATOMS/8766-a69c-42f7-af5e-d30bb6f76f56\n",
      "Found a structure with no Carbon atoms: ../dataset/SHARE_OUTPUTS_8_ATOMS/d19c-e73a-4d75-8774-a23153675bcf\n",
      "Found a structure with no Carbon atoms: ../dataset/SHARE_OUTPUTS_8_ATOMS/3802-7d47-46bf-94d5-91e5f4d8fc0d\n",
      "Found a structure with no Carbon atoms: ../dataset/SHARE_OUTPUTS_8_ATOMS/0e3d-d113-4cae-8fb5-efbb31693cc6\n",
      "Found a structure with no Carbon atoms: ../dataset/SHARE_OUTPUTS_8_ATOMS/8676-2dd0-4904-844c-edbfe9e5927f\n",
      "Found a structure with no Carbon atoms: ../dataset/SHARE_OUTPUTS_8_ATOMS/ff3d-8d33-4e72-84f3-72ea3a6f30e9\n",
      "Found a structure with no Carbon atoms: ../dataset/SHARE_OUTPUTS_8_ATOMS/9f67-a54a-43c7-aa0d-fbe09da6248b\n",
      "Found a structure with no Carbon atoms: ../dataset/SHARE_OUTPUTS_8_ATOMS/a35d-6628-4c39-bb7e-af0c4ebc3b3c\n",
      "Found a structure with no Carbon atoms: ../dataset/SHARE_OUTPUTS_8_ATOMS/5e9e-df50-4bd8-861a-b544fa2116fe\n",
      "Found a structure with no Carbon atoms: ../dataset/SHARE_OUTPUTS_8_ATOMS/f538-1913-4bba-9cef-daa731e8395a\n",
      "Found a structure with no Carbon atoms: ../dataset/SHARE_OUTPUTS_8_ATOMS/f3cf-184c-4990-8a4b-7778cdeec8d4\n",
      "Found a structure with no Carbon atoms: ../dataset/SHARE_OUTPUTS_8_ATOMS/2445-3ab6-41a1-b25a-30b7723e983b\n",
      "Found a structure with no Carbon atoms: ../dataset/SHARE_OUTPUTS_8_ATOMS/c763-90b3-424a-b625-0c4bdf1304c8\n",
      "Found a structure with no Carbon atoms: ../dataset/SHARE_OUTPUTS_8_ATOMS/2333-41f1-4ce0-8682-a912b9bb432f\n",
      "Found a structure with no Carbon atoms: ../dataset/SHARE_OUTPUTS_8_ATOMS/1d46-3566-4fcd-bd04-d5e44d2d01c3\n",
      "Found a structure with no Carbon atoms: ../dataset/SHARE_OUTPUTS_8_ATOMS/9de5-3839-496b-a5e7-f23a758769d9\n",
      "Found a structure with no Carbon atoms: ../dataset/SHARE_OUTPUTS_8_ATOMS/6227-5d41-410f-a4b2-07ca829f3776\n",
      "Found a structure with no Carbon atoms: ../dataset/SHARE_OUTPUTS_8_ATOMS/9ac7-7fe7-4bd2-9dc5-acf5d3ddda5a\n",
      "Found a structure with no Carbon atoms: ../dataset/SHARE_OUTPUTS_8_ATOMS/f205-cdce-4e5e-96d7-d53400d0fbb0\n",
      "Found a structure with no Carbon atoms: ../dataset/SHARE_OUTPUTS_8_ATOMS/e3fd-ba43-41c3-b53f-997c4a89dbfb\n",
      "Found a structure with no Carbon atoms: ../dataset/SHARE_OUTPUTS_8_ATOMS/d566-c2ca-4ed8-b661-82ba425bfb70\n",
      "Found a structure with no Carbon atoms: ../dataset/SHARE_OUTPUTS_8_ATOMS/f4e6-0678-4606-873c-7fd696c2d87f\n",
      "Found a structure with no Carbon atoms: ../dataset/SHARE_OUTPUTS_8_ATOMS/c8ab-700b-4b49-ba7e-cbba86f038f4\n",
      "Found a structure with no Carbon atoms: ../dataset/SHARE_OUTPUTS_8_ATOMS/abc9-80f1-4b07-bef7-6961cdbb2646\n",
      "Found a structure with no Carbon atoms: ../dataset/SHARE_OUTPUTS_8_ATOMS/4511-ce63-40a9-818d-2460221f8f39\n",
      "Found a structure with no Carbon atoms: ../dataset/SHARE_OUTPUTS_8_ATOMS/6d58-84e7-4e35-9212-912933e19a4b\n",
      "Found a structure with no Carbon atoms: ../dataset/SHARE_OUTPUTS_8_ATOMS/9339-beec-4272-aef3-3fee8d34cc96\n",
      "Found a structure with no Carbon atoms: ../dataset/SHARE_OUTPUTS_8_ATOMS/eda5-8292-4a7a-b0f8-145a070025a2\n",
      "Found a structure with no Carbon atoms: ../dataset/SHARE_OUTPUTS_8_ATOMS/cb5c-6600-4702-a24d-fcc9879bdf25\n",
      "Found a structure with no Carbon atoms: ../dataset/SHARE_OUTPUTS_8_ATOMS/21a4-7d0f-4645-8252-ee2e1fe6090c\n",
      "Found a structure with no Carbon atoms: ../dataset/SHARE_OUTPUTS_8_ATOMS/8b5d-1b10-4533-9692-4fa8612513be\n",
      "Found a structure with no Carbon atoms: ../dataset/SHARE_OUTPUTS_8_ATOMS/0be5-3c47-4f11-94b3-8b660682042f\n",
      "Found a structure with no Carbon atoms: ../dataset/SHARE_OUTPUTS_8_ATOMS/5741-1680-40df-b22c-30fb383946ba\n",
      "Found a structure with no Carbon atoms: ../dataset/SHARE_OUTPUTS_8_ATOMS/6b6c-691a-41f5-b602-75e466592e19\n",
      "Found a structure with no Carbon atoms: ../dataset/SHARE_OUTPUTS_8_ATOMS/0fbb-edee-406e-8f54-25d8ad4be142\n",
      "Found a structure with no Carbon atoms: ../dataset/SHARE_OUTPUTS_8_ATOMS/82b3-4886-4447-b723-43a3ec6aa15c\n",
      "Found a structure with no Carbon atoms: ../dataset/SHARE_OUTPUTS_8_ATOMS/c731-b638-49c8-8d2d-e3fff8e4a776\n",
      "Found a structure with no Carbon atoms: ../dataset/SHARE_OUTPUTS_8_ATOMS/448f-8b12-4098-b563-d01a2d58831a\n",
      "Found a structure with no Carbon atoms: ../dataset/SHARE_OUTPUTS_8_ATOMS/7b1d-081c-4501-9a67-d39467f421c3\n",
      "Found a structure with no Carbon atoms: ../dataset/SHARE_OUTPUTS_8_ATOMS/ca0c-26e1-431d-9f68-74e21fc36f48\n",
      "Found a structure with no Carbon atoms: ../dataset/SHARE_OUTPUTS_8_ATOMS/ee7c-d7fa-471e-85a1-796d083bc2bf\n",
      "Found a structure with no Carbon atoms: ../dataset/SHARE_OUTPUTS_8_ATOMS/a936-0223-46fd-a9bd-7431f15ae05e\n",
      "Found a structure with no Carbon atoms: ../dataset/SHARE_OUTPUTS_8_ATOMS/708d-2e27-4631-9b68-445515cc038b\n",
      "Found a structure with no Carbon atoms: ../dataset/SHARE_OUTPUTS_8_ATOMS/03e7-69bd-43f2-8232-e67f1b04566c\n",
      "Found a structure with no Carbon atoms: ../dataset/SHARE_OUTPUTS_8_ATOMS/0e6c-43a3-49b5-a3e5-1b97dfd43c2b\n",
      "Found a structure with no Carbon atoms: ../dataset/SHARE_OUTPUTS_8_ATOMS/5cca-75fa-491a-923c-636d2bfea976\n",
      "Found a structure with no Carbon atoms: ../dataset/SHARE_OUTPUTS_8_ATOMS/206b-84a4-448e-9bff-c353efe48997\n",
      "Found a structure with no Carbon atoms: ../dataset/SHARE_OUTPUTS_8_ATOMS/e65d-4965-49b8-b158-22b21b6b6000\n",
      "Found a structure with no Carbon atoms: ../dataset/SHARE_OUTPUTS_8_ATOMS/9eb6-4318-4a1c-9426-c1add063e5b3\n",
      "Found a structure with no Carbon atoms: ../dataset/SHARE_OUTPUTS_8_ATOMS/ee88-a286-4342-ae83-0465e23e5d17\n",
      "Found a structure with no Carbon atoms: ../dataset/SHARE_OUTPUTS_8_ATOMS/4b84-4bfb-4799-8554-698d9a829ac7\n",
      "Found a structure with no Carbon atoms: ../dataset/SHARE_OUTPUTS_8_ATOMS/295b-f377-4136-adc5-8651a6872583\n",
      "Found a structure with no Carbon atoms: ../dataset/SHARE_OUTPUTS_8_ATOMS/ee48-bb57-470a-aa76-579c265e2621\n",
      "Found a structure with no Carbon atoms: ../dataset/SHARE_OUTPUTS_8_ATOMS/9832-261b-41b8-849d-b3da65a062b3\n",
      "Found a structure with no Carbon atoms: ../dataset/SHARE_OUTPUTS_8_ATOMS/96a0-7316-4a64-a9c9-6ceab5385c2b\n",
      "Found a structure with no Carbon atoms: ../dataset/SHARE_OUTPUTS_8_ATOMS/f980-0604-4608-b493-c98c4b11a3b8\n",
      "Found a structure with no Carbon atoms: ../dataset/SHARE_OUTPUTS_8_ATOMS/0787-2f38-4815-91fc-a738c0488a76\n",
      "Found a structure with no Carbon atoms: ../dataset/SHARE_OUTPUTS_8_ATOMS/c3d6-1944-4013-a9f3-753926411dfc\n",
      "Found a structure with no Carbon atoms: ../dataset/SHARE_OUTPUTS_8_ATOMS/b10c-59df-431c-ae6c-b40c0eee9cb9\n",
      "Found a structure with no Carbon atoms: ../dataset/SHARE_OUTPUTS_8_ATOMS/dd2a-f903-4e50-828c-31a7f2433f0c\n",
      "Found a structure with no Carbon atoms: ../dataset/SHARE_OUTPUTS_8_ATOMS/f678-cc19-4a58-bfc0-4e1eb96ba1df\n",
      "Found a structure with no Carbon atoms: ../dataset/SHARE_OUTPUTS_8_ATOMS/bca3-f473-4c5e-8407-cbdc2d7c68a1\n",
      "Found a structure with no Carbon atoms: ../dataset/SHARE_OUTPUTS_8_ATOMS/1d30-db03-466f-b7aa-1ea30834c64d\n"
     ]
    },
    {
     "ename": "KeyboardInterrupt",
     "evalue": "",
     "output_type": "error",
     "traceback": [
      "\u001b[31m---------------------------------------------------------------------------\u001b[39m",
      "\u001b[31mKeyboardInterrupt\u001b[39m                         Traceback (most recent call last)",
      "\u001b[36mCell\u001b[39m\u001b[36m \u001b[39m\u001b[32mIn[36]\u001b[39m\u001b[32m, line 30\u001b[39m\n\u001b[32m     28\u001b[39m \u001b[38;5;28;01mfor\u001b[39;00m path \u001b[38;5;129;01min\u001b[39;00m paths:\n\u001b[32m     29\u001b[39m     file = sisl.get_sile(path / \u001b[33m\"\u001b[39m\u001b[33maiida.fdf\u001b[39m\u001b[33m\"\u001b[39m)\n\u001b[32m---> \u001b[39m\u001b[32m30\u001b[39m     geometry = \u001b[43mfile\u001b[49m\u001b[43m.\u001b[49m\u001b[43mread_geometry\u001b[49m\u001b[43m(\u001b[49m\u001b[43m)\u001b[49m\n\u001b[32m     31\u001b[39m     \u001b[38;5;28;01mif\u001b[39;00m \u001b[32m6\u001b[39m \u001b[38;5;129;01mnot\u001b[39;00m \u001b[38;5;129;01min\u001b[39;00m geometry.atoms.Z \u001b[38;5;129;01mand\u001b[39;00m \u001b[38;5;28mlen\u001b[39m(geometry.atoms.Z) == \u001b[32m8\u001b[39m:\n\u001b[32m     32\u001b[39m         \u001b[38;5;28mprint\u001b[39m(\u001b[33mf\u001b[39m\u001b[33m\"\u001b[39m\u001b[33mFound a structure with no Carbon atoms: \u001b[39m\u001b[38;5;132;01m{\u001b[39;00mpath\u001b[38;5;132;01m}\u001b[39;00m\u001b[33m\"\u001b[39m)\n",
      "\u001b[36mFile \u001b[39m\u001b[32m~/miniconda3/envs/graph2mat_upt/lib/python3.12/site-packages/sisl/io/siesta/fdf.py:1464\u001b[39m, in \u001b[36mfdfSileSiesta.read_geometry\u001b[39m\u001b[34m(self, output, *args, **kwargs)\u001b[39m\n\u001b[32m   1458\u001b[39m order = _parse_order(\n\u001b[32m   1459\u001b[39m     kwargs.pop(\u001b[33m\"\u001b[39m\u001b[33morder\u001b[39m\u001b[33m\"\u001b[39m, \u001b[38;5;28;01mNone\u001b[39;00m),\n\u001b[32m   1460\u001b[39m     {\u001b[38;5;28;01mTrue\u001b[39;00m: [\u001b[33m\"\u001b[39m\u001b[33mXV\u001b[39m\u001b[33m\"\u001b[39m, \u001b[33m\"\u001b[39m\u001b[33mnc\u001b[39m\u001b[33m\"\u001b[39m, \u001b[33m\"\u001b[39m\u001b[33mTSHS\u001b[39m\u001b[33m\"\u001b[39m, \u001b[33m\"\u001b[39m\u001b[33mSTRUCT\u001b[39m\u001b[33m\"\u001b[39m, \u001b[33m\"\u001b[39m\u001b[33mHSX\u001b[39m\u001b[33m\"\u001b[39m, \u001b[33m\"\u001b[39m\u001b[33mfdf\u001b[39m\u001b[33m\"\u001b[39m], \u001b[38;5;28;01mFalse\u001b[39;00m: \u001b[33m\"\u001b[39m\u001b[33mfdf\u001b[39m\u001b[33m\"\u001b[39m},\n\u001b[32m   1461\u001b[39m     output,\n\u001b[32m   1462\u001b[39m )\n\u001b[32m   1463\u001b[39m \u001b[38;5;28;01mfor\u001b[39;00m f \u001b[38;5;129;01min\u001b[39;00m order:\n\u001b[32m-> \u001b[39m\u001b[32m1464\u001b[39m     v = \u001b[38;5;28;43mgetattr\u001b[39;49m\u001b[43m(\u001b[49m\u001b[38;5;28;43mself\u001b[39;49m\u001b[43m,\u001b[49m\u001b[43m \u001b[49m\u001b[33;43mf\u001b[39;49m\u001b[33;43m\"\u001b[39;49m\u001b[33;43m_r_geometry_\u001b[39;49m\u001b[38;5;132;43;01m{\u001b[39;49;00m\u001b[43mf\u001b[49m\u001b[43m.\u001b[49m\u001b[43mlower\u001b[49m\u001b[43m(\u001b[49m\u001b[43m)\u001b[49m\u001b[38;5;132;43;01m}\u001b[39;49;00m\u001b[33;43m\"\u001b[39;49m\u001b[43m)\u001b[49m\u001b[43m(\u001b[49m\u001b[43m*\u001b[49m\u001b[43margs\u001b[49m\u001b[43m,\u001b[49m\u001b[43m \u001b[49m\u001b[43m*\u001b[49m\u001b[43m*\u001b[49m\u001b[43mkwargs\u001b[49m\u001b[43m)\u001b[49m\n\u001b[32m   1465\u001b[39m     \u001b[38;5;28;01mif\u001b[39;00m v \u001b[38;5;129;01mis\u001b[39;00m \u001b[38;5;129;01mnot\u001b[39;00m \u001b[38;5;28;01mNone\u001b[39;00m:\n\u001b[32m   1466\u001b[39m         \u001b[38;5;28;01mreturn\u001b[39;00m v\n",
      "\u001b[36mFile \u001b[39m\u001b[32m~/miniconda3/envs/graph2mat_upt/lib/python3.12/site-packages/sisl/io/siesta/fdf.py:1603\u001b[39m, in \u001b[36mfdfSileSiesta._r_geometry_fdf\u001b[39m\u001b[34m(self, *args, **kwargs)\u001b[39m\n\u001b[32m   1600\u001b[39m xyz *= s\n\u001b[32m   1602\u001b[39m \u001b[38;5;66;03m# Read the block (not strictly needed, if so we simply set all atoms to H)\u001b[39;00m\n\u001b[32m-> \u001b[39m\u001b[32m1603\u001b[39m atoms = \u001b[38;5;28;43mself\u001b[39;49m\u001b[43m.\u001b[49m\u001b[43mread_basis\u001b[49m\u001b[43m(\u001b[49m\u001b[43m)\u001b[49m\n\u001b[32m   1604\u001b[39m \u001b[38;5;28;01mif\u001b[39;00m atoms \u001b[38;5;129;01mis\u001b[39;00m \u001b[38;5;28;01mNone\u001b[39;00m:\n\u001b[32m   1605\u001b[39m     warn(\n\u001b[32m   1606\u001b[39m         \u001b[33m\"\u001b[39m\u001b[33mBlock ChemicalSpeciesLabel does not exist, cannot determine the basis (all will be their species indices).\u001b[39m\u001b[33m\"\u001b[39m\n\u001b[32m   1607\u001b[39m     )\n",
      "\u001b[36mFile \u001b[39m\u001b[32m~/miniconda3/envs/graph2mat_upt/lib/python3.12/site-packages/sisl/io/siesta/fdf.py:1805\u001b[39m, in \u001b[36mfdfSileSiesta.read_basis\u001b[39m\u001b[34m(self, *args, **kwargs)\u001b[39m\n\u001b[32m   1801\u001b[39m order = _parse_order(\n\u001b[32m   1802\u001b[39m     kwargs.pop(\u001b[33m\"\u001b[39m\u001b[33morder\u001b[39m\u001b[33m\"\u001b[39m, \u001b[38;5;28;01mNone\u001b[39;00m), [\u001b[33m\"\u001b[39m\u001b[33mnc\u001b[39m\u001b[33m\"\u001b[39m, \u001b[33m\"\u001b[39m\u001b[33mion\u001b[39m\u001b[33m\"\u001b[39m, \u001b[33m\"\u001b[39m\u001b[33mORB_INDX\u001b[39m\u001b[33m\"\u001b[39m, \u001b[33m\"\u001b[39m\u001b[33mHSX\u001b[39m\u001b[33m\"\u001b[39m, \u001b[33m\"\u001b[39m\u001b[33mfdf\u001b[39m\u001b[33m\"\u001b[39m]\n\u001b[32m   1803\u001b[39m )\n\u001b[32m   1804\u001b[39m \u001b[38;5;28;01mfor\u001b[39;00m f \u001b[38;5;129;01min\u001b[39;00m order:\n\u001b[32m-> \u001b[39m\u001b[32m1805\u001b[39m     v = \u001b[38;5;28;43mgetattr\u001b[39;49m\u001b[43m(\u001b[49m\u001b[38;5;28;43mself\u001b[39;49m\u001b[43m,\u001b[49m\u001b[43m \u001b[49m\u001b[33;43mf\u001b[39;49m\u001b[33;43m\"\u001b[39;49m\u001b[33;43m_r_basis_\u001b[39;49m\u001b[38;5;132;43;01m{\u001b[39;49;00m\u001b[43mf\u001b[49m\u001b[43m.\u001b[49m\u001b[43mlower\u001b[49m\u001b[43m(\u001b[49m\u001b[43m)\u001b[49m\u001b[38;5;132;43;01m}\u001b[39;49;00m\u001b[33;43m\"\u001b[39;49m\u001b[43m)\u001b[49m\u001b[43m(\u001b[49m\u001b[43m*\u001b[49m\u001b[43margs\u001b[49m\u001b[43m,\u001b[49m\u001b[43m \u001b[49m\u001b[43m*\u001b[49m\u001b[43m*\u001b[49m\u001b[43mkwargs\u001b[49m\u001b[43m)\u001b[49m\n\u001b[32m   1806\u001b[39m     \u001b[38;5;28;01mif\u001b[39;00m v \u001b[38;5;129;01mis\u001b[39;00m \u001b[38;5;129;01mnot\u001b[39;00m \u001b[38;5;28;01mNone\u001b[39;00m:\n\u001b[32m   1807\u001b[39m         \u001b[38;5;28;01mif\u001b[39;00m \u001b[38;5;28mself\u001b[39m.track:\n",
      "\u001b[36mFile \u001b[39m\u001b[32m~/miniconda3/envs/graph2mat_upt/lib/python3.12/site-packages/sisl/io/siesta/fdf.py:1850\u001b[39m, in \u001b[36mfdfSileSiesta._r_basis_ion\u001b[39m\u001b[34m(self)\u001b[39m\n\u001b[32m   1848\u001b[39m _track_file(\u001b[38;5;28mself\u001b[39m._r_basis_ion, ion)\n\u001b[32m   1849\u001b[39m \u001b[38;5;28;01mif\u001b[39;00m ion.is_file():\n\u001b[32m-> \u001b[39m\u001b[32m1850\u001b[39m     atoms[idx] = \u001b[43mion_files\u001b[49m\u001b[43m[\u001b[49m\u001b[43mext\u001b[49m\u001b[43m]\u001b[49m\u001b[43m(\u001b[49m\u001b[43mion\u001b[49m\u001b[43m)\u001b[49m\u001b[43m.\u001b[49m\u001b[43mread_basis\u001b[49m\u001b[43m(\u001b[49m\u001b[43m)\u001b[49m\n\u001b[32m   1851\u001b[39m     found_one = \u001b[38;5;28;01mTrue\u001b[39;00m\n\u001b[32m   1852\u001b[39m     \u001b[38;5;28;01mbreak\u001b[39;00m\n",
      "\u001b[36mFile \u001b[39m\u001b[32m~/miniconda3/envs/graph2mat_upt/lib/python3.12/site-packages/sisl/io/sile.py:772\u001b[39m, in \u001b[36msile_fh_open.<locals>._wrapper.<locals>.pre_open\u001b[39m\u001b[34m(self, *args, **kwargs)\u001b[39m\n\u001b[32m    770\u001b[39m \u001b[38;5;129m@wraps\u001b[39m(func)\n\u001b[32m    771\u001b[39m \u001b[38;5;28;01mdef\u001b[39;00m\u001b[38;5;250m \u001b[39m\u001b[34mpre_open\u001b[39m(\u001b[38;5;28mself\u001b[39m, *args, **kwargs):\n\u001b[32m--> \u001b[39m\u001b[32m772\u001b[39m \u001b[43m    \u001b[49m\u001b[38;5;28;43;01mwith\u001b[39;49;00m\u001b[43m \u001b[49m\u001b[38;5;28;43mself\u001b[39;49m\u001b[43m:\u001b[49m\n\u001b[32m    773\u001b[39m \u001b[43m        \u001b[49m\u001b[38;5;66;43;03m# This happens when the file seeks to 0,\u001b[39;49;00m\n\u001b[32m    774\u001b[39m \u001b[43m        \u001b[49m\u001b[38;5;66;43;03m# so basically the same as re-opening the file\u001b[39;49;00m\n\u001b[32m    775\u001b[39m \u001b[43m        \u001b[49m\u001b[43mreset\u001b[49m\u001b[43m(\u001b[49m\u001b[38;5;28;43mself\u001b[39;49m\u001b[43m)\u001b[49m\n\u001b[32m    776\u001b[39m \u001b[43m        \u001b[49m\u001b[38;5;28;43;01mreturn\u001b[39;49;00m\u001b[43m \u001b[49m\u001b[43mfunc\u001b[49m\u001b[43m(\u001b[49m\u001b[38;5;28;43mself\u001b[39;49m\u001b[43m,\u001b[49m\u001b[43m \u001b[49m\u001b[43m*\u001b[49m\u001b[43margs\u001b[49m\u001b[43m,\u001b[49m\u001b[43m \u001b[49m\u001b[43m*\u001b[49m\u001b[43m*\u001b[49m\u001b[43mkwargs\u001b[49m\u001b[43m)\u001b[49m\n",
      "\u001b[36mFile \u001b[39m\u001b[32m~/miniconda3/envs/graph2mat_upt/lib/python3.12/site-packages/sisl/io/sile.py:1367\u001b[39m, in \u001b[36mSile.__exit__\u001b[39m\u001b[34m(self, type, value, traceback)\u001b[39m\n\u001b[32m   1364\u001b[39m     \u001b[38;5;28mself\u001b[39m._open()\n\u001b[32m   1365\u001b[39m     \u001b[38;5;28;01mreturn\u001b[39;00m \u001b[38;5;28mself\u001b[39m\n\u001b[32m-> \u001b[39m\u001b[32m1367\u001b[39m \u001b[38;5;28;01mdef\u001b[39;00m\u001b[38;5;250m \u001b[39m\u001b[34m__exit__\u001b[39m(\u001b[38;5;28mself\u001b[39m, \u001b[38;5;28mtype\u001b[39m, value, traceback):\n\u001b[32m   1368\u001b[39m     \u001b[38;5;66;03m# clean-up so that it does not exist\u001b[39;00m\n\u001b[32m   1369\u001b[39m     \u001b[38;5;28mself\u001b[39m.close()\n\u001b[32m   1370\u001b[39m     \u001b[38;5;28;01mreturn\u001b[39;00m \u001b[38;5;28;01mFalse\u001b[39;00m\n",
      "\u001b[31mKeyboardInterrupt\u001b[39m: "
     ]
    }
   ],
   "source": [
    "# === List of paths to all structures ===\n",
    "import random\n",
    "import yaml\n",
    "from pathlib import Path\n",
    "import sisl\n",
    "\n",
    "def load_config(path=\"../config.yaml\"):\n",
    "    with open(path, \"r\") as f:\n",
    "        return yaml.safe_load(f)\n",
    "    \n",
    "def flatten(xss):\n",
    "    return [x for xs in xss for x in xs]\n",
    "\n",
    "\n",
    "parent_path = Path('../dataset')\n",
    "n_atoms_paths = list(parent_path.glob('*/'))\n",
    "paths = []\n",
    "for n_atoms_path in n_atoms_paths:\n",
    "    structure_paths = list(n_atoms_path.glob('*/'))\n",
    "    paths.append(structure_paths)\n",
    "paths = flatten(paths)\n",
    "\n",
    "random.seed(42)\n",
    "random.shuffle(paths)\n",
    "\n",
    "# Search the crystal with no carbon atoms\n",
    "count = 0\n",
    "for path in paths:\n",
    "    file = sisl.get_sile(path / \"aiida.fdf\")\n",
    "    geometry = file.read_geometry()\n",
    "    if 6 not in geometry.atoms.Z and len(geometry.atoms.Z) == 8:\n",
    "        print(f\"Found a structure with no Carbon atoms: {path}\")\n",
    "        count += 1\n",
    "\n",
    "\n",
    "print(f\"Found {count} structures with no Carbon atoms.\")"
   ]
  },
  {
   "cell_type": "code",
   "execution_count": null,
   "id": "d26ccea0",
   "metadata": {},
   "outputs": [
    {
     "name": "stdout",
     "output_type": "stream",
     "text": [
      "Analyzing structure 1\n",
      "Analyzing structure 2\n"
     ]
    }
   ],
   "source": [
    "# Ok. There are several structures which are crystals with no Carbon atoms. Then, what is different in these structures?\n",
    "paths = [\n",
    "    Path(\"../dataset/SHARE_OUTPUTS_8_ATOMS/907c-7487-46bd-8ad3-65b031f7f12b\"),\n",
    "    Path(\"../dataset/SHARE_OUTPUTS_8_ATOMS/74f6-ada8-4fcd-b69f-4ca3b0ddc30e\")\n",
    "]\n",
    "\n",
    "for i, path in enumerate(paths):\n",
    "    print(f\"Analyzing structure\", i+1)\n",
    "    file = sisl.get_sile(path / \"aiida.fdf\")\n",
    "    file.plot.geometry(axes=\"xz\")"
   ]
  },
  {
   "cell_type": "code",
   "execution_count": null,
   "id": "96f002cb",
   "metadata": {},
   "outputs": [
    {
     "name": "stderr",
     "output_type": "stream",
     "text": [
      "INFO\tTask(Task-4) nodify.node.140328546243152:node.py:get()- Evaluated because inputs changed.\n",
      "INFO\tTask(Task-4) nodify.node.140328679967632:node.py:get()- Evaluated because inputs changed.\n",
      "INFO\tTask(Task-4) nodify.node.140328664455968:node.py:get()- Evaluated because inputs changed.\n",
      "INFO\tTask(Task-4) nodify.node.140328546239120:node.py:get()- Evaluated because inputs changed.\n",
      "INFO\tTask(Task-4) nodify.node.140328546087424:node.py:get()- Evaluated because inputs changed.\n",
      "INFO\tTask(Task-4) nodify.node.140328546141776:node.py:get()- Evaluated because inputs changed.\n",
      "INFO\tTask(Task-4) nodify.node.140328679967632:node.py:get()- No need to evaluate\n",
      "INFO\tTask(Task-4) nodify.node.140328664455968:node.py:get()- No need to evaluate\n",
      "INFO\tTask(Task-4) nodify.node.140328546239120:node.py:get()- No need to evaluate\n",
      "INFO\tTask(Task-4) nodify.node.140328546087424:node.py:get()- No need to evaluate\n",
      "INFO\tTask(Task-4) nodify.node.140328546141776:node.py:get()- No need to evaluate\n",
      "INFO\tTask(Task-4) nodify.node.140328679967632:node.py:get()- No need to evaluate\n",
      "INFO\tTask(Task-4) nodify.node.140328593893056:node.py:get()- Evaluated because inputs changed.\n",
      "INFO\tTask(Task-4) nodify.node.140328546252992:node.py:get()- Evaluated because inputs changed.\n",
      "INFO\tTask(Task-4) nodify.node.140328546240848:node.py:get()- Evaluated because inputs changed.\n",
      "INFO\tTask(Task-4) nodify.node.140328593805136:node.py:get()- Evaluated because inputs changed.\n",
      "INFO\tTask(Task-4) nodify.node.140328546217632:node.py:get()- Evaluated because inputs changed.\n",
      "INFO\tTask(Task-4) nodify.node.140328546089632:node.py:get()- Evaluated because inputs changed.\n",
      "INFO\tTask(Task-4) nodify.node.140328546216144:node.py:get()- Evaluated because inputs changed.\n",
      "INFO\tTask(Task-4) nodify.node.140328546245216:node.py:get()- Evaluated because inputs changed.\n",
      "INFO\tTask(Task-4) nodify.node.140328546217056:node.py:get()- Evaluated because inputs changed.\n",
      "INFO\tTask(Task-4) nodify.node.140328546251120:node.py:get()- Evaluated because inputs changed.\n",
      "INFO\tTask(Task-4) nodify.node.140328546141584:node.py:get()- Evaluated because inputs changed.\n",
      "INFO\tTask(Task-4) nodify.node.140328546245936:node.py:get()- Evaluated because inputs changed.\n",
      "INFO\tTask(Task-4) nodify.node.140328546141392:node.py:get()- Evaluated because inputs changed.\n",
      "INFO\tTask(Task-4) nodify.node.140328593805136:node.py:get()- No need to evaluate\n",
      "INFO\tTask(Task-4) nodify.node.140328546217632:node.py:get()- No need to evaluate\n",
      "INFO\tTask(Task-4) nodify.node.140328546141104:node.py:get()- Evaluated because inputs changed.\n",
      "INFO\tTask(Task-4) nodify.node.140328546249488:node.py:get()- Evaluated because inputs changed.\n",
      "INFO\tTask(Task-4) nodify.node.140328546140768:node.py:get()- Evaluated because inputs changed.\n",
      "INFO\tTask(Task-4) nodify.node.140328546254144:node.py:get()- Evaluated because inputs changed.\n",
      "INFO\tTask(Task-4) nodify.node.140328593805136:node.py:get()- No need to evaluate\n",
      "INFO\tTask(Task-4) nodify.node.140328546217632:node.py:get()- No need to evaluate\n",
      "INFO\tTask(Task-4) nodify.node.140328546089632:node.py:get()- No need to evaluate\n",
      "INFO\tTask(Task-4) nodify.node.140328546245696:node.py:get()- Evaluated because inputs changed.\n",
      "INFO\tTask(Task-4) nodify.node.140328546140672:node.py:get()- Evaluated because inputs changed.\n",
      "INFO\tTask(Task-4) nodify.node.140328546246944:node.py:get()- Evaluated because inputs changed.\n",
      "INFO\tTask(Task-4) nodify.node.140328593805136:node.py:get()- No need to evaluate\n",
      "INFO\tTask(Task-4) nodify.node.140328546217632:node.py:get()- No need to evaluate\n",
      "INFO\tTask(Task-4) nodify.node.140328546089632:node.py:get()- No need to evaluate\n",
      "INFO\tTask(Task-4) nodify.node.140328546088432:node.py:get()- Evaluated because inputs changed.\n",
      "INFO\tTask(Task-4) nodify.node.140328546254240:node.py:get()- Evaluated because inputs changed.\n",
      "INFO\tTask(Task-4) nodify.node.140328546140384:node.py:get()- Evaluated because inputs changed.\n",
      "INFO\tTask(Task-4) nodify.node.140328679967632:node.py:get()- No need to evaluate\n",
      "INFO\tTask(Task-4) nodify.node.140328593896800:node.py:get()- Evaluated because inputs changed.\n",
      "INFO\tTask(Task-4) nodify.node.140328594039792:node.py:get()- Evaluated because inputs changed.\n",
      "INFO\tTask(Task-4) nodify.node.140328546250880:node.py:get()- Evaluated because inputs changed.\n",
      "INFO\tTask(Task-4) nodify.node.140328546247376:node.py:get()- Evaluated because inputs changed.\n",
      "INFO\tTask(Task-4) nodify.node.140328546086896:node.py:get()- Evaluated because inputs changed.\n",
      "INFO\tTask(Task-4) nodify.node.140328546086608:node.py:get()- Evaluated because inputs changed.\n",
      "INFO\tTask(Task-4) nodify.node.140328546254384:node.py:get()- Evaluated because inputs changed.\n",
      "INFO\tTask(Task-4) nodify.node.140328679967632:node.py:get()- No need to evaluate\n",
      "INFO\tTask(Task-4) nodify.node.140328593893056:node.py:get()- No need to evaluate\n",
      "INFO\tTask(Task-4) nodify.node.140328546252992:node.py:get()- No need to evaluate\n",
      "INFO\tTask(Task-4) nodify.node.140328546088768:node.py:get()- Evaluated because inputs changed.\n",
      "INFO\tTask(Task-4) nodify.node.140328546082864:node.py:get()- Evaluated because inputs changed.\n",
      "INFO\tTask(Task-4) nodify.node.140328546245936:node.py:get()- No need to evaluate\n",
      "INFO\tTask(Task-4) nodify.node.140328546090736:node.py:get()- Evaluated because inputs changed.\n",
      "INFO\tTask(Task-4) nodify.node.140328547122928:node.py:get()- Evaluated because inputs changed.\n",
      "INFO\tTask(Task-4) nodify.node.140328593805136:node.py:get()- No need to evaluate\n",
      "INFO\tTask(Task-4) nodify.node.140328546217632:node.py:get()- No need to evaluate\n",
      "INFO\tTask(Task-4) nodify.node.140328546243920:node.py:get()- Evaluated because inputs changed.\n",
      "INFO\tTask(Task-4) nodify.node.140328546216864:node.py:get()- Evaluated because inputs changed.\n",
      "INFO\tTask(Task-4) nodify.node.140328546242240:node.py:get()- Evaluated because inputs changed.\n",
      "INFO\tTask(Task-4) nodify.node.140328593805136:node.py:get()- No need to evaluate\n",
      "INFO\tTask(Task-4) nodify.node.140328546217632:node.py:get()- No need to evaluate\n",
      "INFO\tTask(Task-4) nodify.node.140328546089632:node.py:get()- No need to evaluate\n",
      "INFO\tTask(Task-4) nodify.node.140328546245744:node.py:get()- Evaluated because inputs changed.\n",
      "INFO\tTask(Task-4) nodify.node.140328546082768:node.py:get()- Evaluated because inputs changed.\n",
      "INFO\tTask(Task-4) nodify.node.140328546206256:node.py:get()- Evaluated because inputs changed.\n",
      "INFO\tTask(Task-4) nodify.node.140328593805136:node.py:get()- No need to evaluate\n",
      "INFO\tTask(Task-4) nodify.node.140328546217632:node.py:get()- No need to evaluate\n",
      "INFO\tTask(Task-4) nodify.node.140328546089632:node.py:get()- No need to evaluate\n",
      "INFO\tTask(Task-4) nodify.node.140328546088432:node.py:get()- No need to evaluate\n",
      "INFO\tTask(Task-4) nodify.node.140328546248912:node.py:get()- Evaluated because inputs changed.\n",
      "INFO\tTask(Task-4) nodify.node.140328546248144:node.py:get()- Evaluated because inputs changed.\n",
      "INFO\tTask(Task-4) nodify.node.140328593805136:node.py:get()- No need to evaluate\n",
      "INFO\tTask(Task-4) nodify.node.140328546217632:node.py:get()- No need to evaluate\n",
      "INFO\tTask(Task-4) nodify.node.140328546089632:node.py:get()- No need to evaluate\n",
      "INFO\tTask(Task-4) nodify.node.140328546242192:node.py:get()- Evaluated because inputs changed.\n",
      "INFO\tTask(Task-4) nodify.node.140328672384960:node.py:get()- Evaluated because inputs changed.\n",
      "INFO\tTask(Task-4) nodify.node.140328679967632:node.py:get()- No need to evaluate\n",
      "INFO\tTask(Task-4) nodify.node.140328593805136:node.py:get()- No need to evaluate\n",
      "INFO\tTask(Task-4) nodify.node.140328546217632:node.py:get()- No need to evaluate\n",
      "INFO\tTask(Task-4) nodify.node.140328546089632:node.py:get()- No need to evaluate\n",
      "INFO\tTask(Task-4) nodify.node.140328546144560:node.py:get()- Evaluated because inputs changed.\n",
      "INFO\tTask(Task-4) nodify.node.140328546241376:node.py:get()- Evaluated because inputs changed.\n",
      "INFO\tTask(Task-4) nodify.node.140328546144368:node.py:get()- Evaluated because inputs changed.\n",
      "INFO\tTask(Task-4) nodify.node.140328593805136:node.py:get()- No need to evaluate\n",
      "INFO\tTask(Task-4) nodify.node.140328546217632:node.py:get()- No need to evaluate\n",
      "INFO\tTask(Task-4) nodify.node.140328546244448:node.py:get()- Evaluated because inputs changed.\n",
      "INFO\tTask(Task-4) nodify.node.140328546243920:node.py:get()- No need to evaluate\n",
      "INFO\tTask(Task-4) nodify.node.140328546140528:node.py:get()- Evaluated because inputs changed.\n",
      "INFO\tTask(Task-4) nodify.node.140328679967632:node.py:get()- No need to evaluate\n",
      "INFO\tTask(Task-4) nodify.node.140328593896800:node.py:get()- No need to evaluate\n",
      "INFO\tTask(Task-4) nodify.node.140328546086896:node.py:get()- No need to evaluate\n",
      "INFO\tTask(Task-4) nodify.node.140328546086608:node.py:get()- No need to evaluate\n",
      "INFO\tTask(Task-4) nodify.node.140328546254384:node.py:get()- No need to evaluate\n",
      "INFO\tTask(Task-4) nodify.node.140328679967632:node.py:get()- No need to evaluate\n",
      "INFO\tTask(Task-4) nodify.node.140328593893056:node.py:get()- No need to evaluate\n",
      "INFO\tTask(Task-4) nodify.node.140328546252992:node.py:get()- No need to evaluate\n",
      "INFO\tTask(Task-4) nodify.node.140328546088768:node.py:get()- No need to evaluate\n",
      "INFO\tTask(Task-4) nodify.node.140328546082864:node.py:get()- No need to evaluate\n",
      "INFO\tTask(Task-4) nodify.node.140328546245936:node.py:get()- No need to evaluate\n",
      "INFO\tTask(Task-4) nodify.node.140328546090736:node.py:get()- No need to evaluate\n",
      "INFO\tTask(Task-4) nodify.node.140328547122928:node.py:get()- No need to evaluate\n",
      "INFO\tTask(Task-4) nodify.node.140328593805136:node.py:get()- No need to evaluate\n",
      "INFO\tTask(Task-4) nodify.node.140328546217632:node.py:get()- No need to evaluate\n",
      "INFO\tTask(Task-4) nodify.node.140328546243920:node.py:get()- No need to evaluate\n",
      "INFO\tTask(Task-4) nodify.node.140328546216864:node.py:get()- No need to evaluate\n",
      "INFO\tTask(Task-4) nodify.node.140328679967632:node.py:get()- No need to evaluate\n",
      "INFO\tTask(Task-4) nodify.node.140328546245984:node.py:get()- Evaluated because inputs changed.\n",
      "INFO\tTask(Task-4) nodify.node.140328679967632:node.py:get()- No need to evaluate\n",
      "INFO\tTask(Task-4) nodify.node.140328593893056:node.py:get()- No need to evaluate\n",
      "INFO\tTask(Task-4) nodify.node.140328546252992:node.py:get()- No need to evaluate\n",
      "INFO\tTask(Task-4) nodify.node.140328593805136:node.py:get()- No need to evaluate\n",
      "INFO\tTask(Task-4) nodify.node.140328546217632:node.py:get()- No need to evaluate\n",
      "INFO\tTask(Task-4) nodify.node.140328546089632:node.py:get()- No need to evaluate\n",
      "INFO\tTask(Task-4) nodify.node.140328593805136:node.py:get()- No need to evaluate\n",
      "INFO\tTask(Task-4) nodify.node.140328546217632:node.py:get()- No need to evaluate\n",
      "INFO\tTask(Task-4) nodify.node.140328546145328:node.py:get()- Evaluated because inputs changed.\n",
      "INFO\tTask(Task-4) nodify.node.140328546245936:node.py:get()- No need to evaluate\n",
      "INFO\tTask(Task-4) nodify.node.140328592320576:node.py:get()- Evaluated because inputs changed.\n",
      "INFO\tTask(Task-4) nodify.node.140328546082720:node.py:get()- Evaluated because inputs changed.\n",
      "INFO\tTask(Task-4) nodify.node.140328546084448:node.py:get()- Evaluated because inputs changed.\n",
      "INFO\tTask(Task-4) nodify.node.140328546145952:node.py:get()- Evaluated because inputs changed.\n"
     ]
    },
    {
     "data": {
      "application/vnd.plotly.v1+json": {
       "config": {
        "plotlyServerURL": "https://plot.ly"
       },
       "data": [
        {
         "line": {
          "color": "gray",
          "width": 10
         },
         "meta": {},
         "mode": "lines",
         "name": "Bonds",
         "opacity": 1,
         "type": "scatter3d",
         "x": {
          "bdata": "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",
          "dtype": "f8"
         },
         "y": {
          "bdata": "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",
          "dtype": "f8"
         },
         "z": {
          "bdata": "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",
          "dtype": "f8"
         }
        },
        {
         "alphahull": 0,
         "color": "#FFB5B5",
         "hovertemplate": "%{meta.position}",
         "legendgroup": "Atoms",
         "meta": {
          "meta": {
           "Atoms_i": 0
          },
          "position": "(0.10, 0.02, 0.01)"
         },
         "name": "Atoms",
         "opacity": 1,
         "showlegend": true,
         "showscale": false,
         "type": "mesh3d",
         "x": {
          "bdata": "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",
          "dtype": "f8"
         },
         "y": {
          "bdata": "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",
          "dtype": "f8"
         },
         "z": {
          "bdata": "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",
          "dtype": "f8"
         }
        },
        {
         "alphahull": 0,
         "color": "#3050F8",
         "hovertemplate": "%{meta.position}",
         "legendgroup": "Atoms",
         "meta": {
          "meta": {
           "Atoms_i": 1
          },
          "position": "(0.81, 1.34, 0.00)"
         },
         "name": "Atoms",
         "opacity": 1,
         "showlegend": false,
         "showscale": false,
         "type": "mesh3d",
         "x": {
          "bdata": "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",
          "dtype": "f8"
         },
         "y": {
          "bdata": "fOrV2pRf9T986tXalF/1P3zq1dqUX/U/fOrV2pRf9T986tXalF/1P3zq1dqUX/U/fOrV2pRf9T986tXalF/1P3zq1dqUX/U/fOrV2pRf9T986tXalF/1P3zq1dqUX/U/fOrV2pRf9T986tXalF/1P3zq1dqUX/U/fOrV2pRf9T8Albg2Cj32Pzku9cGi7vY/T4MOrTFR9z9Pgw6tMVH3Pzku9cGi7vY/AJW4Ngo99j986tXalF/1P/g/834fgvQ/v6a284bQ8z+pUZ0I+G3zP6lRnQj4bfM/v6a284bQ8z/4P/N+H4L0P3zq1dqUX/U/fOrV2pRf9T9kfB67ZA/3P8GqYQmuafg/VdOTsNop+T9V05Ow2in5P8GqYQmuafg/ZHweu2QP9z986tXalF/1P5RYjfrEr/M/NypKrHtV8j+jARgFT5XxP6MBGAVPlfE/NypKrHtV8j+UWI36xK/zP3zq1dqUX/U/fOrV2pRf9T+92NcdGMz3P5BxEPC0vfk/3l9mZtzR+j/eX2Zm3NH6P5BxEPC0vfk/vdjXHRjM9z986tXalF/1Pzv805cR8/I/aGObxXQB8T806oqemtrvPzTqip6a2u8/aGObxXQB8T86/NOXEfPyP3zq1dqUX/U/fOrV2pRf9T/BqmEJrmn4Pz1l3JCq2fo/mpMf3/Mz/D+akx/f8zP8Pz1l3JCq2fo/waphCa5p+D986tXalF/1PzcqSqx7VfI/dt+eSf7K7z+8ghitaxbtP7yCGK1rFu0/dt+eSf7K7z83Kkqse1XyP3zq1dqUX/U/fOrV2pRf9T8Mxy2UP+D4P2IKScJRr/s/IE5oqV8+/T8gTmipXz79P2MKScJRr/s/DMctlD/g+D986tXalF/1P+wNfiHq3vE/LJXF5q8f7j+xDYcYlAHrP7ENhxiUAes/KpXF5q8f7j/sDX4h6t7xP3vq1dqUX/U/fOrV2pRf9T9V05Ow2in5P5qTH9/zM/w/giVov8Pj/T+CJWi/w+P9P5qTH9/zM/w/VdOTsNop+T986tXalF/1P6MBGAVPlfE/vIIYrWsW7T/sXofsy7bpP+xeh+zLtuk/vIIYrWsW7T+iARgFT5XxP3vq1dqUX/U/fOrV2pRf9T8hHEd/zkL5P5yjhU3qYPw/pPhKBdUb/j+k+EoF1Rv+P5yjhU3qYPw/IhxHf85C+T986tXalF/1P9e4ZDZbfPE/umJM0H687D+ouMFgqUbpP6i4wWCpRuk/uGJM0H687D/WuGQ2W3zxP3vq1dqUX/U/fOrV2pRf9T9V05Ow2in5P5qTH9/zM/w/giVov8Pj/T+CJWi/w+P9P5qTH9/zM/w/VdOTsNop+T986tXalF/1P6MBGAVPlfE/vIIYrWsW7T/sXofsy7bpP+xeh+zLtuk/vIIYrWsW7T+iARgFT5XxP3vq1dqUX/U/fOrV2pRf9T8Mxy2UP+D4P2IKScJRr/s/IE5oqV8+/T8gTmipXz79P2MKScJRr/s/DMctlD/g+D986tXalF/1P+wNfiHq3vE/LJXF5q8f7j+xDYcYlAHrP7ENhxiUAes/KpXF5q8f7j/sDX4h6t7xP3vq1dqUX/U/fOrV2pRf9T/BqmEJrmn4Pz1l3JCq2fo/mpMf3/Mz/D+akx/f8zP8Pz1l3JCq2fo/waphCa5p+D986tXalF/1PzcqSqx7VfI/dt+eSf7K7z+8ghitaxbtP7yCGK1rFu0/dt+eSf7K7z82Kkqse1XyP3zq1dqUX/U/fOrV2pRf9T+92NcdGMz3P5BxEPC0vfk/3l9mZtzR+j/eX2Zm3NH6P5BxEPC0vfk/vtjXHRjM9z986tXalF/1Pzv805cR8/I/aGObxXQB8T8z6oqemtrvPzPqip6a2u8/aGObxXQB8T86/NOXEfPyP3zq1dqUX/U/fOrV2pRf9T9kfB67ZA/3P8GqYQmuafg/VdOTsNop+T9V05Ow2in5P8GqYQmuafg/ZHweu2QP9z986tXalF/1P5RYjfrEr/M/NypKrHtV8j+jARgFT5XxP6MBGAVPlfE/NypKrHtV8j+UWI36xK/zP3zq1dqUX/U/fOrV2pRf9T8Albg2Cj32Pzku9cGi7vY/T4MOrTFR9z9Pgw6tMVH3Pzku9cGi7vY/AJW4Ngo99j986tXalF/1P/g/834fgvQ/v6a284bQ8z+pUZ0I+G3zP6lRnQj4bfM/v6a284bQ8z/4P/N+H4L0P3zq1dqUX/U/fOrV2pRf9T986tXalF/1P3zq1dqUX/U/fOrV2pRf9T986tXalF/1P3zq1dqUX/U/fOrV2pRf9T986tXalF/1P3zq1dqUX/U/fOrV2pRf9T986tXalF/1P3zq1dqUX/U/fOrV2pRf9T986tXalF/1P3zq1dqUX/U/",
          "dtype": "f8"
         },
         "z": {
          "bdata": "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",
          "dtype": "f8"
         }
        },
        {
         "alphahull": 0,
         "color": "#FFB5B5",
         "hovertemplate": "%{meta.position}",
         "legendgroup": "Atoms",
         "meta": {
          "meta": {
           "Atoms_i": 2
          },
          "position": "(3.01, 0.01, 0.01)"
         },
         "name": "Atoms",
         "opacity": 1,
         "showlegend": false,
         "showscale": false,
         "type": "mesh3d",
         "x": {
          "bdata": "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",
          "dtype": "f8"
         },
         "y": {
          "bdata": "zwscdRmjej/PCxx1GaN6P88LHHUZo3o/zwscdRmjej/PCxx1GaN6P88LHHUZo3o/zwscdRmjej/PCxx1GaN6P88LHHUZo3o/zwscdRmjej/PCxx1GaN6P88LHHUZo3o/zwscdRmjej/PCxx1GaN6P88LHHUZo3o/zwscdRmjej8kBlSDBCu3P/iXdpbFNMQ/mALW27X9yD+YAtbbtf3IP/mXdpbFNMQ/JgZUgwQrtz/qCxx1GaN6P6mEsFSh1rO/PNck/5OKwr/cQYREhFPHv9xBhESEU8e/Pdck/5OKwr+uhLBUodazv5gLHHUZo3o/zwscdRmjej/E9XdB58vFP5K/773fTdM/KpfwzBn41z8ql/DMGfjXP5K/773fTdM/xfV3QefLxT8EDBx1GaN6PwY1Jqq1IcS/M99G8sZ40r/MtkcBASPXv8y2RwEBI9e/NN9G8sZ40r8LNSaqtSHEv2QLHHUZo3o/zwscdRmjej+suncML/XOP3NuUg7mjts/Gze07X8h4T8bN7TtfyHhP3RuUg7mjts/rrp3DC/1zj8cDBx1GaN6P+75JXX9Ss2/FI6pQs252r/rxt+H87bgv+vG34fztuC/Fo6pQs252r/0+SV1/UrNvzYLHHUZo3o/zwscdRmjej+Rv++9303TP+8Q7IPAOeE/R/OFkrZt5T9H84WStm3lP+8Q7IPAOeE/k7/vvd9N0z8vDBx1GaN6PzLfRvLGeNK/vqAXHjTP4L8Xg7EsKgPlvxeDsSwqA+W/v6AXHjTP4L8230byxnjSvw8LHHUZo3o/zwscdRmjej8Z3VFTsS7WP8h/NEua0eM/r+3nfYWp6D+v7ed9hanoP8l/NEua0eM/G91RU7Eu1j8+DBx1GaN6P7r8qIeYWdW/mA9g5Q1n479/fRMY+T7ov399Exj5Pui/mQ9g5Q1n47++/KiHmFnVv/IKHHUZo3o/zwscdRmjej8ql/DMGfjXP0fzhZK2beU/oLj5L2qr6j+guPkvaqvqP0fzhZK2beU/K5fwzBn41z9HDBx1GaN6P8q2RwEBI9e/FoOxLCoD5b9wSCXK3UDqv3BIJcrdQOq/F4OxLCoD5b/PtkcBASPXv98KHHUZo3o/zwscdRmjej9pkgF2KZPYPwKlZyBr+eU/XDZo259Z6z9cNmjbn1nrPwOlZyBr+eU/a5IBdimT2D9KDBx1GaN6PwmyWKoQvte/0TSTut6O5b8sxpN1E+/qvyzGk3UT7+q/0zSTut6O5b8OsliqEL7Xv9kKHHUZo3o/zwscdRmjej8ql/DMGfjXP0fzhZK2beU/oLj5L2qr6j+guPkvaqvqP0fzhZK2beU/K5fwzBn41z9HDBx1GaN6P8q2RwEBI9e/FoOxLCoD5b9wSCXK3UDqv3BIJcrdQOq/F4OxLCoD5b/PtkcBASPXv98KHHUZo3o/zwscdRmjej8Z3VFTsS7WP8h/NEua0eM/r+3nfYWp6D+v7ed9hanoP8l/NEua0eM/G91RU7Eu1j8+DBx1GaN6P7r8qIeYWdW/mA9g5Q1n479/fRMY+T7ov399Exj5Pui/mQ9g5Q1n47++/KiHmFnVv/IKHHUZo3o/zwscdRmjej+Sv++9303TP+8Q7IPAOeE/SPOFkrZt5T9I84WStm3lP/AQ7IPAOeE/lL/vvd9N0z8vDBx1GaN6PzPfRvLGeNK/v6AXHjTP4L8Yg7EsKgPlvxiDsSwqA+W/wKAXHjTP4L8330byxnjSvw8LHHUZo3o/zwscdRmjej+uuncML/XOP3RuUg7mjts/HDe07X8h4T8cN7TtfyHhP3VuUg7mjts/sLp3DC/1zj8cDBx1GaN6P/D5JXX9Ss2/FY6pQs252r/sxt+H87bgv+zG34fztuC/F46pQs252r/2+SV1/UrNvzYLHHUZo3o/zwscdRmjej/F9XdB58vFP5O/773fTdM/LJfwzBn41z8sl/DMGfjXP5S/773fTdM/x/V3QefLxT8EDBx1GaN6Pwg1Jqq1IcS/NN9G8sZ40r/OtkcBASPXv862RwEBI9e/Nt9G8sZ40r8MNSaqtSHEv2QLHHUZo3o/zwscdRmjej8oBlSDBCu3P/uXdpbFNMQ/mwLW27X9yD+bAtbbtf3IP/yXdpbFNMQ/KgZUgwQrtz/qCxx1GaN6P6yEsFSh1rO/P9ck/5OKwr/fQYREhFPHv99BhESEU8e/QNck/5OKwr+xhLBUodazv5gLHHUZo3o/zwscdRmjej8EDBx1GaN6Py8MHHUZo3o/RwwcdRmjej9HDBx1GaN6Py8MHHUZo3o/BAwcdRmjej/PCxx1GaN6P5oLHHUZo3o/bwscdRmjej9XCxx1GaN6P1cLHHUZo3o/bwscdRmjej+aCxx1GaN6P88LHHUZo3o/",
          "dtype": "f8"
         },
         "z": {
          "bdata": "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",
          "dtype": "f8"
         }
        },
        {
         "alphahull": 0,
         "color": "#3050F8",
         "hovertemplate": "%{meta.position}",
         "legendgroup": "Atoms",
         "meta": {
          "meta": {
           "Atoms_i": 3
          },
          "position": "(2.27, 1.34, 0.00)"
         },
         "name": "Atoms",
         "opacity": 1,
         "showlegend": false,
         "showscale": false,
         "type": "mesh3d",
         "x": {
          "bdata": "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",
          "dtype": "f8"
         },
         "y": {
          "bdata": "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",
          "dtype": "f8"
         },
         "z": {
          "bdata": "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",
          "dtype": "f8"
         }
        },
        {
         "alphahull": 0,
         "color": "#3050F8",
         "hovertemplate": "%{meta.position}",
         "legendgroup": "Atoms",
         "meta": {
          "meta": {
           "Atoms_i": 4
          },
          "position": "(4.60, 0.01, 3.47)"
         },
         "name": "Atoms",
         "opacity": 1,
         "showlegend": false,
         "showscale": false,
         "type": "mesh3d",
         "x": {
          "bdata": "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",
          "dtype": "f8"
         },
         "y": {
          "bdata": "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",
          "dtype": "f8"
         },
         "z": {
          "bdata": "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",
          "dtype": "f8"
         }
        },
        {
         "alphahull": 0,
         "color": "#FFB5B5",
         "hovertemplate": "%{meta.position}",
         "legendgroup": "Atoms",
         "meta": {
          "meta": {
           "Atoms_i": 5
          },
          "position": "(0.68, 1.34, 3.46)"
         },
         "name": "Atoms",
         "opacity": 1,
         "showlegend": false,
         "showscale": false,
         "type": "mesh3d",
         "x": {
          "bdata": "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",
          "dtype": "f8"
         },
         "y": {
          "bdata": "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",
          "dtype": "f8"
         },
         "z": {
          "bdata": "bv8AYohOEUBu/wBiiE4RQG7/AGKIThFAbv8AYohOEUBu/wBiiE4RQG7/AGKIThFAbv8AYohOEUBu/wBiiE4RQG7/AGKIThFAbv8AYohOEUBu/wBiiE4RQG7/AGKIThFAbv8AYohOEUBu/wBiiE4RQG7/AGKIThFAvKpiTzI4EUC8qmJPMjgRQLyqYk8yOBFAvKpiTzI4EUC8qmJPMjgRQLyqYk8yOBFAvKpiTzI4EUC8qmJPMjgRQLyqYk8yOBFAvKpiTzI4EUC8qmJPMjgRQLyqYk8yOBFAvKpiTzI4EUC8qmJPMjgRQLyqYk8yOBFAmrbo0U72EECatujRTvYQQJq26NFO9hBAmrbo0U72EECatujRTvYQQJq26NFO9hBAmrbo0U72EECatujRTvYQQJq26NFO9hBAmrbo0U72EECatujRTvYQQJq26NFO9hBAmrbo0U72EECatujRTvYQQJq26NFO9hBAkJgCuCuMEECQmAK4K4wQQJCYArgrjBBAkJgCuCuMEECQmAK4K4wQQJCYArgrjBBAkJgCuCuMEECQmAK4K4wQQJCYArgrjBBAkJgCuCuMEECQmAK4K4wQQJCYArgrjBBAkJgCuCuMEECQmAK4K4wQQJCYArgrjBBALxxI9Tb+D0AvHEj1Nv4PQC8cSPU2/g9ALxxI9Tb+D0AvHEj1Nv4PQC8cSPU2/g9ALxxI9Tb+D0AvHEj1Nv4PQC8cSPU2/g9ALxxI9Tb+D0AvHEj1Nv4PQC8cSPU2/g9ALxxI9Tb+D0AvHEj1Nv4PQC8cSPU2/g9ALXqr1mGsDkAteqvWYawOQC16q9ZhrA5ALXqr1mGsDkAteqvWYawOQC16q9ZhrA5ALXqr1mGsDkAteqvWYawOQC16q9ZhrA5ALXqr1mGsDkAteqvWYawOQC16q9ZhrA5ALXqr1mGsDkAteqvWYawOQC16q9ZhrA5AXJnKzcgzDUBcmcrNyDMNQFyZys3IMw1AXJnKzcgzDUBcmcrNyDMNQFyZys3IMw1AXJnKzcgzDUBcmcrNyDMNQFyZys3IMw1AXJnKzcgzDUBcmcrNyDMNQFyZys3IMw1AXJnKzcgzDUBcmcrNyDMNQFyZys3IMw1A5tWlNE6nC0Dm1aU0TqcLQObVpTROpwtA5tWlNE6nC0Dm1aU0TqcLQObVpTROpwtA5tWlNE6nC0Dm1aU0TqcLQObVpTROpwtA5tWlNE6nC0Dm1aU0TqcLQObVpTROpwtA5tWlNE6nC0Dm1aU0TqcLQObVpTROpwtAcBKBm9MaCkBwEoGb0xoKQHASgZvTGgpAcBKBm9MaCkBwEoGb0xoKQHASgZvTGgpAcBKBm9MaCkBwEoGb0xoKQHASgZvTGgpAcBKBm9MaCkBwEoGb0xoKQHASgZvTGgpAcBKBm9MaCkBwEoGb0xoKQHASgZvTGgpAnzGgkjqiCECfMaCSOqIIQJ8xoJI6oghAnzGgkjqiCECfMaCSOqIIQJ8xoJI6oghAnzGgkjqiCECfMaCSOqIIQJ8xoJI6oghAnzGgkjqiCECfMaCSOqIIQJ8xoJI6oghAnzGgkjqiCECfMaCSOqIIQJ8xoJI6oghAnY8DdGVQB0CdjwN0ZVAHQJ2PA3RlUAdAnY8DdGVQB0CdjwN0ZVAHQJ2PA3RlUAdAnY8DdGVQB0CdjwN0ZVAHQJ2PA3RlUAdAnY8DdGVQB0CdjwN0ZVAHQJ2PA3RlUAdAnY8DdGVQB0CdjwN0ZVAHQJ2PA3RlUAdArHpG+UQ2BkCsekb5RDYGQKx6RvlENgZArHpG+UQ2BkCsekb5RDYGQKx6RvlENgZArHpG+UQ2BkCsekb5RDYGQKx6RvlENgZArHpG+UQ2BkCsekb5RDYGQKx6RvlENgZArHpG+UQ2BkCsekb5RDYGQKx6RvlENgZAmD56xf5hBUCYPnrF/mEFQJg+esX+YQVAmD56xf5hBUCYPnrF/mEFQJg+esX+YQVAmD56xf5hBUCYPnrF/mEFQJg+esX+YQVAmD56xf5hBUCYPnrF/mEFQJg+esX+YQVAmD56xf5hBUCYPnrF/mEFQJg+esX+YQVAVVaGyjfeBEBVVobKN94EQFVWhso33gRAVVaGyjfeBEBVVobKN94EQFVWhso33gRAVVaGyjfeBEBVVobKN94EQFVWhso33gRAVVaGyjfeBEBVVobKN94EQFVWhso33gRAVVaGyjfeBEBVVobKN94EQFVWhso33gRA8KxJpYuxBEDwrEmli7EEQPCsSaWLsQRA8KxJpYuxBEDwrEmli7EEQPCsSaWLsQRA8KxJpYuxBEDwrEmli7EEQPCsSaWLsQRA8KxJpYuxBEDwrEmli7EEQPCsSaWLsQRA8KxJpYuxBEDwrEmli7EEQPCsSaWLsQRA",
          "dtype": "f8"
         }
        },
        {
         "alphahull": 0,
         "color": "#3050F8",
         "hovertemplate": "%{meta.position}",
         "legendgroup": "Atoms",
         "meta": {
          "meta": {
           "Atoms_i": 6
          },
          "position": "(3.13, 2.60, 3.46)"
         },
         "name": "Atoms",
         "opacity": 1,
         "showlegend": false,
         "showscale": false,
         "type": "mesh3d",
         "x": {
          "bdata": "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",
          "dtype": "f8"
         },
         "y": {
          "bdata": "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",
          "dtype": "f8"
         },
         "z": {
          "bdata": "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",
          "dtype": "f8"
         }
        },
        {
         "alphahull": 0,
         "color": "#FFB5B5",
         "hovertemplate": "%{meta.position}",
         "legendgroup": "Atoms",
         "meta": {
          "meta": {
           "Atoms_i": 7
          },
          "position": "(2.40, 1.34, 3.46)"
         },
         "name": "Atoms",
         "opacity": 1,
         "showlegend": false,
         "showscale": false,
         "type": "mesh3d",
         "x": {
          "bdata": "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",
          "dtype": "f8"
         },
         "y": {
          "bdata": "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",
          "dtype": "f8"
         },
         "z": {
          "bdata": "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",
          "dtype": "f8"
         }
        },
        {
         "meta": {},
         "mode": "lines",
         "name": "Unit cell",
         "type": "scatter3d",
         "x": {
          "bdata": "AAAAAAAAAAAAAAAAAAAAAEq1T8djhhJASrVPx2OGEkAAAAAAAAAAAAAAAAAAAAAAAAAAAAAA+H8AAAAAAAAAAAAAAAAAAAAAAAAAAAAAAABKtU/HY4YSQEq1T8djhhJAAAAAAAAAAAAAAAAAAAD4f0q1T8djhhJASrVPx2OGEkAAAAAAAAD4f0q1T8djhhJASrVPx2OGEkA=",
          "dtype": "f8"
         },
         "y": {
          "bdata": "AAAAAAAAAAA66X3ja88EQDrpfeNrzwRAOul942vPBEA66X3ja88EQDrpfeNrzwRAAAAAAAAA+H866X3ja88EQAAAAAAAAAAAAAAAAAAAAAAAAAAAAAAAAAAAAAAAAAAAAAAAAAAAAAAAAAAAAAD4fzrpfeNrzwRAAAAAAAAAAAAAAAAAAAD4fzrpfeNrzwRAAAAAAAAAAAA=",
          "dtype": "f8"
         },
         "z": {
          "bdata": "AAAAAAAAAAAAAAAAAAAAAAAAAAAAAAAAEr2MYrnlG0ASvYxiueUbQAAAAAAAAAAAAAAAAAAA+H8SvYxiueUbQBK9jGK55RtAAAAAAAAAAAAAAAAAAAAAABK9jGK55RtAEr2MYrnlG0AAAAAAAAD4fwAAAAAAAAAAAAAAAAAAAAAAAAAAAAD4fxK9jGK55RtAEr2MYrnlG0A=",
          "dtype": "f8"
         }
        }
       ],
       "layout": {
        "scene": {
         "aspectmode": "data",
         "xaxis": {
          "title": {
           "text": "X axis [Ang]"
          }
         },
         "yaxis": {
          "title": {
           "text": "Y axis [Ang]"
          }
         },
         "zaxis": {
          "title": {
           "text": "Z axis [Ang]"
          }
         }
        },
        "template": {
         "layout": {
          "hovermode": "closest",
          "paper_bgcolor": "white",
          "plot_bgcolor": "white",
          "scene": {
           "xaxis": {
            "color": "black",
            "gridcolor": "#ccc",
            "gridwidth": 1,
            "linewidth": 1,
            "mirror": true,
            "showgrid": false,
            "showline": true,
            "ticklen": 5,
            "ticks": "outside",
            "ticksuffix": " ",
            "visible": true,
            "zeroline": false,
            "zerolinecolor": "#ccc",
            "zerolinewidth": 1
           },
           "yaxis": {
            "color": "black",
            "gridcolor": "#ccc",
            "gridwidth": 1,
            "linewidth": 1,
            "mirror": true,
            "showgrid": false,
            "showline": true,
            "ticklen": 5,
            "ticks": "outside",
            "ticksuffix": " ",
            "visible": true,
            "zeroline": false,
            "zerolinecolor": "#ccc",
            "zerolinewidth": 1
           },
           "zaxis": {
            "color": "black",
            "gridcolor": "#ccc",
            "gridwidth": 1,
            "linewidth": 1,
            "mirror": true,
            "showgrid": false,
            "showline": true,
            "ticklen": 5,
            "ticks": "outside",
            "ticksuffix": " ",
            "visible": true,
            "zeroline": false,
            "zerolinecolor": "#ccc",
            "zerolinewidth": 1
           }
          },
          "xaxis": {
           "color": "black",
           "gridcolor": "#ccc",
           "gridwidth": 1,
           "linewidth": 1,
           "mirror": true,
           "showgrid": false,
           "showline": true,
           "ticklen": 5,
           "ticks": "outside",
           "ticksuffix": " ",
           "visible": true,
           "zeroline": false,
           "zerolinecolor": "#ccc",
           "zerolinewidth": 1
          },
          "yaxis": {
           "color": "black",
           "gridcolor": "#ccc",
           "gridwidth": 1,
           "linewidth": 1,
           "mirror": true,
           "showgrid": false,
           "showline": true,
           "ticklen": 5,
           "ticks": "outside",
           "ticksuffix": " ",
           "visible": true,
           "zeroline": false,
           "zerolinecolor": "#ccc",
           "zerolinewidth": 1
          }
         }
        },
        "xaxis": {
         "scaleanchor": "y",
         "scaleratio": 1,
         "title": {
          "text": "X axis [Ang]"
         }
        },
        "yaxis": {
         "title": {
          "text": "Y axis [Ang]"
         }
        }
       }
      }
     },
     "metadata": {},
     "output_type": "display_data"
    },
    {
     "name": "stderr",
     "output_type": "stream",
     "text": [
      "INFO\tTask(Task-4) nodify.node.140328546662832:node.py:get()- Evaluated because inputs changed.\n",
      "INFO\tTask(Task-4) nodify.node.140328546651456:node.py:get()- Evaluated because inputs changed.\n",
      "INFO\tTask(Task-4) nodify.node.140328702518976:node.py:get()- Evaluated because inputs changed.\n",
      "INFO\tTask(Task-4) nodify.node.140328546658080:node.py:get()- Evaluated because inputs changed.\n",
      "INFO\tTask(Task-4) nodify.node.140328666116896:node.py:get()- Evaluated because inputs changed.\n",
      "INFO\tTask(Task-4) nodify.node.140328546239072:node.py:get()- Evaluated because inputs changed.\n",
      "INFO\tTask(Task-4) nodify.node.140328546651456:node.py:get()- No need to evaluate\n",
      "INFO\tTask(Task-4) nodify.node.140328702518976:node.py:get()- No need to evaluate\n",
      "INFO\tTask(Task-4) nodify.node.140328546658080:node.py:get()- No need to evaluate\n",
      "INFO\tTask(Task-4) nodify.node.140328666116896:node.py:get()- No need to evaluate\n",
      "INFO\tTask(Task-4) nodify.node.140328546239072:node.py:get()- No need to evaluate\n",
      "INFO\tTask(Task-4) nodify.node.140328546651456:node.py:get()- No need to evaluate\n",
      "INFO\tTask(Task-4) nodify.node.140328546656976:node.py:get()- Evaluated because inputs changed.\n",
      "INFO\tTask(Task-4) nodify.node.140328546664176:node.py:get()- Evaluated because inputs changed.\n",
      "INFO\tTask(Task-4) nodify.node.140328546655392:node.py:get()- Evaluated because inputs changed.\n",
      "INFO\tTask(Task-4) nodify.node.140328546655680:node.py:get()- Evaluated because inputs changed.\n",
      "INFO\tTask(Task-4) nodify.node.140328672383520:node.py:get()- Evaluated because inputs changed.\n",
      "INFO\tTask(Task-4) nodify.node.140328546436064:node.py:get()- Evaluated because inputs changed.\n",
      "INFO\tTask(Task-4) nodify.node.140328546156368:node.py:get()- Evaluated because inputs changed.\n",
      "INFO\tTask(Task-4) nodify.node.140328546659760:node.py:get()- Evaluated because inputs changed.\n",
      "INFO\tTask(Task-4) nodify.node.140328546650400:node.py:get()- Evaluated because inputs changed.\n",
      "INFO\tTask(Task-4) nodify.node.140328546447728:node.py:get()- Evaluated because inputs changed.\n",
      "INFO\tTask(Task-4) nodify.node.140328546449840:node.py:get()- Evaluated because inputs changed.\n",
      "INFO\tTask(Task-4) nodify.node.140328546660912:node.py:get()- Evaluated because inputs changed.\n",
      "INFO\tTask(Task-4) nodify.node.140328546238928:node.py:get()- Evaluated because inputs changed.\n",
      "INFO\tTask(Task-4) nodify.node.140328546655680:node.py:get()- No need to evaluate\n",
      "INFO\tTask(Task-4) nodify.node.140328672383520:node.py:get()- No need to evaluate\n",
      "INFO\tTask(Task-4) nodify.node.140328546651552:node.py:get()- Evaluated because inputs changed.\n",
      "INFO\tTask(Task-4) nodify.node.140328546654384:node.py:get()- Evaluated because inputs changed.\n",
      "INFO\tTask(Task-4) nodify.node.140328546447680:node.py:get()- Evaluated because inputs changed.\n",
      "INFO\tTask(Task-4) nodify.node.140328546658560:node.py:get()- Evaluated because inputs changed.\n",
      "INFO\tTask(Task-4) nodify.node.140328546655680:node.py:get()- No need to evaluate\n",
      "INFO\tTask(Task-4) nodify.node.140328672383520:node.py:get()- No need to evaluate\n",
      "INFO\tTask(Task-4) nodify.node.140328546436064:node.py:get()- No need to evaluate\n",
      "INFO\tTask(Task-4) nodify.node.140328546661680:node.py:get()- Evaluated because inputs changed.\n",
      "INFO\tTask(Task-4) nodify.node.140328546439280:node.py:get()- Evaluated because inputs changed.\n",
      "INFO\tTask(Task-4) nodify.node.140328546440096:node.py:get()- Evaluated because inputs changed.\n",
      "INFO\tTask(Task-4) nodify.node.140328546655680:node.py:get()- No need to evaluate\n",
      "INFO\tTask(Task-4) nodify.node.140328672383520:node.py:get()- No need to evaluate\n",
      "INFO\tTask(Task-4) nodify.node.140328546436064:node.py:get()- No need to evaluate\n",
      "INFO\tTask(Task-4) nodify.node.140328546437168:node.py:get()- Evaluated because inputs changed.\n",
      "INFO\tTask(Task-4) nodify.node.140328546658992:node.py:get()- Evaluated because inputs changed.\n",
      "INFO\tTask(Task-4) nodify.node.140328546438416:node.py:get()- Evaluated because inputs changed.\n",
      "INFO\tTask(Task-4) nodify.node.140328546651456:node.py:get()- No need to evaluate\n",
      "INFO\tTask(Task-4) nodify.node.140328546652080:node.py:get()- Evaluated because inputs changed.\n",
      "INFO\tTask(Task-4) nodify.node.140328546651744:node.py:get()- Evaluated because inputs changed.\n",
      "INFO\tTask(Task-4) nodify.node.140328528081168:node.py:get()- Evaluated because inputs changed.\n",
      "INFO\tTask(Task-4) nodify.node.140328546149072:node.py:get()- Evaluated because inputs changed.\n",
      "INFO\tTask(Task-4) nodify.node.140328546441680:node.py:get()- Evaluated because inputs changed.\n",
      "INFO\tTask(Task-4) nodify.node.140328546656832:node.py:get()- Evaluated because inputs changed.\n",
      "INFO\tTask(Task-4) nodify.node.140328546659376:node.py:get()- Evaluated because inputs changed.\n",
      "INFO\tTask(Task-4) nodify.node.140328546651456:node.py:get()- No need to evaluate\n",
      "INFO\tTask(Task-4) nodify.node.140328546656976:node.py:get()- No need to evaluate\n",
      "INFO\tTask(Task-4) nodify.node.140328546664176:node.py:get()- No need to evaluate\n",
      "INFO\tTask(Task-4) nodify.node.140328546650640:node.py:get()- Evaluated because inputs changed.\n",
      "INFO\tTask(Task-4) nodify.node.140328546651840:node.py:get()- Evaluated because inputs changed.\n",
      "INFO\tTask(Task-4) nodify.node.140328546660912:node.py:get()- No need to evaluate\n",
      "INFO\tTask(Task-4) nodify.node.140328546664320:node.py:get()- Evaluated because inputs changed.\n",
      "INFO\tTask(Task-4) nodify.node.140328546437120:node.py:get()- Evaluated because inputs changed.\n",
      "INFO\tTask(Task-4) nodify.node.140328546655680:node.py:get()- No need to evaluate\n",
      "INFO\tTask(Task-4) nodify.node.140328672383520:node.py:get()- No need to evaluate\n",
      "INFO\tTask(Task-4) nodify.node.140328546662064:node.py:get()- Evaluated because inputs changed.\n",
      "INFO\tTask(Task-4) nodify.node.140328546653712:node.py:get()- Evaluated because inputs changed.\n",
      "INFO\tTask(Task-4) nodify.node.140328546655536:node.py:get()- Evaluated because inputs changed.\n",
      "INFO\tTask(Task-4) nodify.node.140328546655680:node.py:get()- No need to evaluate\n",
      "INFO\tTask(Task-4) nodify.node.140328672383520:node.py:get()- No need to evaluate\n",
      "INFO\tTask(Task-4) nodify.node.140328546436064:node.py:get()- No need to evaluate\n",
      "INFO\tTask(Task-4) nodify.node.140328546661296:node.py:get()- Evaluated because inputs changed.\n",
      "INFO\tTask(Task-4) nodify.node.140328546437840:node.py:get()- Evaluated because inputs changed.\n",
      "INFO\tTask(Task-4) nodify.node.140328546435488:node.py:get()- Evaluated because inputs changed.\n",
      "INFO\tTask(Task-4) nodify.node.140328546655680:node.py:get()- No need to evaluate\n",
      "INFO\tTask(Task-4) nodify.node.140328672383520:node.py:get()- No need to evaluate\n",
      "INFO\tTask(Task-4) nodify.node.140328546436064:node.py:get()- No need to evaluate\n",
      "INFO\tTask(Task-4) nodify.node.140328546437168:node.py:get()- No need to evaluate\n",
      "INFO\tTask(Task-4) nodify.node.140328546657312:node.py:get()- Evaluated because inputs changed.\n",
      "INFO\tTask(Task-4) nodify.node.140328546656592:node.py:get()- Evaluated because inputs changed.\n",
      "INFO\tTask(Task-4) nodify.node.140328546655680:node.py:get()- No need to evaluate\n",
      "INFO\tTask(Task-4) nodify.node.140328672383520:node.py:get()- No need to evaluate\n",
      "INFO\tTask(Task-4) nodify.node.140328546436064:node.py:get()- No need to evaluate\n",
      "INFO\tTask(Task-4) nodify.node.140328546446432:node.py:get()- Evaluated because inputs changed.\n",
      "INFO\tTask(Task-4) nodify.node.140328546437792:node.py:get()- Evaluated because inputs changed.\n",
      "INFO\tTask(Task-4) nodify.node.140328546651456:node.py:get()- No need to evaluate\n",
      "INFO\tTask(Task-4) nodify.node.140328546655680:node.py:get()- No need to evaluate\n",
      "INFO\tTask(Task-4) nodify.node.140328672383520:node.py:get()- No need to evaluate\n",
      "INFO\tTask(Task-4) nodify.node.140328546436064:node.py:get()- No need to evaluate\n",
      "INFO\tTask(Task-4) nodify.node.140328528068832:node.py:get()- Evaluated because inputs changed.\n",
      "INFO\tTask(Task-4) nodify.node.140328546660144:node.py:get()- Evaluated because inputs changed.\n",
      "INFO\tTask(Task-4) nodify.node.140328528068688:node.py:get()- Evaluated because inputs changed.\n",
      "INFO\tTask(Task-4) nodify.node.140328546655680:node.py:get()- No need to evaluate\n",
      "INFO\tTask(Task-4) nodify.node.140328672383520:node.py:get()- No need to evaluate\n",
      "INFO\tTask(Task-4) nodify.node.140328546660528:node.py:get()- Evaluated because inputs changed.\n",
      "INFO\tTask(Task-4) nodify.node.140328546662064:node.py:get()- No need to evaluate\n",
      "INFO\tTask(Task-4) nodify.node.140328546437600:node.py:get()- Evaluated because inputs changed.\n",
      "INFO\tTask(Task-4) nodify.node.140328546651456:node.py:get()- No need to evaluate\n",
      "INFO\tTask(Task-4) nodify.node.140328546652080:node.py:get()- No need to evaluate\n",
      "INFO\tTask(Task-4) nodify.node.140328546441680:node.py:get()- No need to evaluate\n",
      "INFO\tTask(Task-4) nodify.node.140328546656832:node.py:get()- No need to evaluate\n",
      "INFO\tTask(Task-4) nodify.node.140328546659376:node.py:get()- No need to evaluate\n",
      "INFO\tTask(Task-4) nodify.node.140328546651456:node.py:get()- No need to evaluate\n",
      "INFO\tTask(Task-4) nodify.node.140328546656976:node.py:get()- No need to evaluate\n",
      "INFO\tTask(Task-4) nodify.node.140328546664176:node.py:get()- No need to evaluate\n",
      "INFO\tTask(Task-4) nodify.node.140328546650640:node.py:get()- No need to evaluate\n",
      "INFO\tTask(Task-4) nodify.node.140328546651840:node.py:get()- No need to evaluate\n",
      "INFO\tTask(Task-4) nodify.node.140328546660912:node.py:get()- No need to evaluate\n",
      "INFO\tTask(Task-4) nodify.node.140328546664320:node.py:get()- No need to evaluate\n",
      "INFO\tTask(Task-4) nodify.node.140328546437120:node.py:get()- No need to evaluate\n",
      "INFO\tTask(Task-4) nodify.node.140328546655680:node.py:get()- No need to evaluate\n",
      "INFO\tTask(Task-4) nodify.node.140328672383520:node.py:get()- No need to evaluate\n",
      "INFO\tTask(Task-4) nodify.node.140328546662064:node.py:get()- No need to evaluate\n",
      "INFO\tTask(Task-4) nodify.node.140328546653712:node.py:get()- No need to evaluate\n",
      "INFO\tTask(Task-4) nodify.node.140328546651456:node.py:get()- No need to evaluate\n",
      "INFO\tTask(Task-4) nodify.node.140328546662448:node.py:get()- Evaluated because inputs changed.\n",
      "INFO\tTask(Task-4) nodify.node.140328546651456:node.py:get()- No need to evaluate\n",
      "INFO\tTask(Task-4) nodify.node.140328546656976:node.py:get()- No need to evaluate\n",
      "INFO\tTask(Task-4) nodify.node.140328546664176:node.py:get()- No need to evaluate\n",
      "INFO\tTask(Task-4) nodify.node.140328546655680:node.py:get()- No need to evaluate\n",
      "INFO\tTask(Task-4) nodify.node.140328672383520:node.py:get()- No need to evaluate\n",
      "INFO\tTask(Task-4) nodify.node.140328546436064:node.py:get()- No need to evaluate\n",
      "INFO\tTask(Task-4) nodify.node.140328546655680:node.py:get()- No need to evaluate\n",
      "INFO\tTask(Task-4) nodify.node.140328672383520:node.py:get()- No need to evaluate\n",
      "INFO\tTask(Task-4) nodify.node.140328528068976:node.py:get()- Evaluated because inputs changed.\n",
      "INFO\tTask(Task-4) nodify.node.140328546660912:node.py:get()- No need to evaluate\n",
      "INFO\tTask(Task-4) nodify.node.140328546447200:node.py:get()- Evaluated because inputs changed.\n",
      "INFO\tTask(Task-4) nodify.node.140328592897328:node.py:get()- Evaluated because inputs changed.\n",
      "INFO\tTask(Task-4) nodify.node.140328546436736:node.py:get()- Evaluated because inputs changed.\n",
      "INFO\tTask(Task-4) nodify.node.140328546654096:node.py:get()- Evaluated because inputs changed.\n"
     ]
    },
    {
     "data": {
      "application/vnd.plotly.v1+json": {
       "config": {
        "plotlyServerURL": "https://plot.ly"
       },
       "data": [
        {
         "line": {
          "color": "gray",
          "width": 10
         },
         "meta": {},
         "mode": "lines",
         "name": "Bonds",
         "opacity": 1,
         "type": "scatter3d",
         "x": {
          "bdata": "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",
          "dtype": "f8"
         },
         "y": {
          "bdata": "PfpO8K5qjz9ODtb5W+22P6oe0Qqx9sQ/LDa3GLR2zj/Ypk6TW/vTP5myQRpdu9g/Wr40oV573T8O5RMUsB3hP+9qjdewfeM/z/AGm7Hd5T+wdoBesj3oP5H8+SGzneo/cYJz5bP97D9RCO2otF3vPxlHM7ba3vA/CgrwF9sO8j/6zKx52z7zP+qPadvbbvQ/2lImPdye9T/LFeOe3M72PwAAAAAAAPh/PfpO8K5qjz8XBVyKh0upv17kZWjdOL2/GePOhfvlxr8C1GpXiC/Pv3Zig5SKvNO/61pR/VDh179fUx9mFwbcv+qlduduFeC/JKLdG9In4r9fnkRQNTrkv5qaq4SYTOa/1JYSufte6L8Nk3ntXnHqv0iP4CHCg+y/g4tHViWW7r/fQ1dFRFTwv/zBit91XfG/GUC+eadm8r83vvET2W/zvwAAAAAAAPh/PfpO8K5qjz9D582ryHCOP0nUTGfido0/T8HLIvx8jD9VrkreFYOLP1ubyZkviYo/YohIVUmPiT9odccQY5WIP25iRsx8m4c/dE/Fh5ahhj96PERDsKeFP4Apw/7JrYQ/hhZCuuOzgz+MA8F1/bmCP5LwPzEXwIE/mN2+7DDGgD88lXtQlZh/P0hvecfIpH0/VEl3Pvywez9gI3W1L715PwAAAAAAAPh/yxXjntzO9j/okxY5Dtj3PwUSStM/4fg/I5B9bXHq+T9ADrEHo/P6P12M5KHU/Ps/egoYPAYG/T+XiEvWNw/+P7QGf3BpGP8/aUJZhc0QAEB4AXNSZpUAQIbAjB//GQFAlX+m7JeeAUCjPsC5MCMCQLL92YbJpwJAwLzzU2IsA0DPew0h+7ADQN46J+6TNQRA7PlAuyy6BED7uFqIxT4FQAAAAAAAAPh/YCN1tS+9eT/QozYFFOq0P7X6iocqHMQ/gqN6DEvDzT8oJrXINbXTP476LAvGiNg/9M6kTVZc3T+uUQ5I8xfhP+E7Smm7geM/FCaGioPr5T9HEMKrS1XoP3v6/cwTv+o/ruQ57tso7T/gznUPpJLvP4rcWBg2/vA/pNH2KBoz8j+9xpQ5/mfzP9a7MkrinPQ/8LDQWsbR9T8Kpm5rqgb3PwAAAAAAAPh/YCN1tS+9eT8S2ppzF1Ktv0gs8m7q7b6/w3ULkmSZx79j1Z3s07vPv4IamKMh79O/UErhUFkA2L8geir+kBHcv/jUuVVkEeC/4GxeLAAa4r/IBAMDnCLkv7Ccp9k3K+a/lzRMsNMz6L9/zPCGbzzqv2dklV0LRey/UPw5NKdN7r8cSm+FISvwvxCWwXBvL/G/BOITXL0z8r/4LWZHCzjzvwAAAAAAAPh/YCN1tS+9eT9USXc+/LB7P0hvecfIpH0/PJV7UJWYfz+Y3b7sMMaAP5LwPzEXwIE/jAPBdf25gj+GFkK647ODP4Apw/7JrYQ/ejxEQ7CnhT90T8WHlqGGP25iRsx8m4c/Z3XHEGOViD9hiEhVSY+JP1ubyZkviYo/Vq5K3hWDiz9Pwcsi/HyMP0nUTGfido0/Q+fNq8hwjj89+k7wrmqPPwAAAAAAAPh/CqZua6oG9z/+8cBW+Ar4P/I9E0JGD/k/5ollLZQT+j/a1bcY4hf7P84hCgQwHPw/wm1c730g/T+2ua7ayyT+P6oFAcYZKf8/z6ip2LMWAEDJzlLO2pgAQMP0+8MBGwFAvRqluSidAUC3QE6vTx8CQLFm96R2oQJAq4ygmp0jA0ClskmQxKUDQJ7Y8oXrJwRAmf6bexKqBECTJEVxOSwFQAAAAAAAAPh/j+a3DJkeBUD/WmO/sZsEQHDPDnLKGARA4EO6JOOVA0BQuGXX+xIDQMEsEYoUkAJAMaG8PC0NAkCiFWjvRYoBQBKKE6JeBwFAgv6+VHeEAEDycmoHkAEAQMbOK3RR/f4/preC2YL3/T+IoNk+tPH8P2iJMKTl6/s/SHKHCRfm+j8pW95uSOD5PwpENdR52vg/6yyMOavU9z/LFeOe3M72PwAAAAAAAPh/j+a3DJkeBUCGe1u9SrgFQH0Q/238UQZAdKWiHq7rBkBrOkbPX4UHQGLP6X8RHwhAWmSNMMO4CEBR+TDhdFIJQEiO1JEm7AlAPyN4QtiFCkA2uBvziR8LQC1Nv6M7uQtAJOJiVO1SDEAbdwYFn+wMQBIMqrVQhg1ACqFNZgIgDkAANvEWtLkOQPjKlMdlUw9A7l84eBftD0Bz+m2UZEMQQAAAAAAAAPh/yxXjntzO9j/LFeOe3M72P8sV457czvY/yxXjntzO9j/LFeOe3M72P8sV457czvY/yxXjntzO9j/LFeOe3M72P8sV457czvY/yxXjntzO9j/LFeOe3M72P8sV457czvY/yxXjntzO9j/LFeOe3M72P8sV457czvY/yxXjntzO9j/LFeOe3M72P8sV457czvY/yxXjntzO9j/LFeOe3M72PwAAAAAAAPh/yxXjntzO9j/d65s9eZv1P+7BVNwVaPQ/AJgNe7I08z8SbsYZTwHyPyREf7jrzfA/azRwrhA17z+P4OHrSc7sP7KMUymDZ+o/1jjFZrwA6D/55Dak9ZnlPxyRqOEuM+M/QD0aH2jM4D/I0he5QsvcPxAr+zO1/dc/VIPericw0z84t4NTNMXMP8hnSkkZKsM/sDAifvwdsz8AQG5Qljk4vwAAAAAAAPh/yxXjntzO9j/qLIw5q9T3PwpENdR52vg/KVvebkjg+T9IcocJF+b6P2iJMKTl6/s/h6DZPrTx/D+mt4LZgvf9P8bOK3RR/f4/8nJqB5ABAECC/r5Ud4QAQBKKE6JeBwFAoRVo70WKAUAxobw8LQ0CQMAsEYoUkAJAULhl1/sSA0DgQ7ok45UDQHDPDnLKGARA/1pjv7GbBECP5rcMmR4FQAAAAAAAAPh/j+a3DJkeBUD/WmO/sZsEQHDPDnLKGARA4EO6JOOVA0BQuGXX+xIDQMEsEYoUkAJAMaG8PC0NAkCiFWjvRYoBQBKKE6JeBwFAgv6+VHeEAEDycmoHkAEAQMbOK3RR/f4/preC2YL3/T+IoNk+tPH8P2iJMKTl6/s/SHKHCRfm+j8pW95uSOD5PwpENdR52vg/6yyMOavU9z/LFeOe3M72PwAAAAAAAPh/j+a3DJkeBUCGe1u9SrgFQH0Q/238UQZAdKWiHq7rBkBrOkbPX4UHQGLP6X8RHwhAWmSNMMO4CEBR+TDhdFIJQEiO1JEm7AlAPyN4QtiFCkA2uBvziR8LQC1Nv6M7uQtAJOJiVO1SDEAbdwYFn+wMQBIMqrVQhg1ACqFNZgIgDkAANvEWtLkOQPjKlMdlUw9A7l84eBftD0Bz+m2UZEMQQAAAAAAAAPh/yxXjntzO9j/d65s9eZv1P+7BVNwVaPQ/AJgNe7I08z8SbsYZTwHyPyREf7jrzfA/azRwrhA17z+P4OHrSc7sP7KMUymDZ+o/1jjFZrwA6D/55Dak9ZnlPxyRqOEuM+M/QD0aH2jM4D/I0he5QsvcPxAr+zO1/dc/VIPericw0z84t4NTNMXMP8hnSkkZKsM/sDAifvwdsz8AQG5Qljk4vwAAAAAAAPh/",
          "dtype": "f8"
         },
         "z": {
          "bdata": "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",
          "dtype": "f8"
         }
        },
        {
         "alphahull": 0,
         "color": "#FFB5B5",
         "hovertemplate": "%{meta.position}",
         "legendgroup": "Atoms",
         "meta": {
          "meta": {
           "Atoms_i": 0
          },
          "position": "(0.09, 0.02, 0.01)"
         },
         "name": "Atoms",
         "opacity": 1,
         "showlegend": true,
         "showscale": false,
         "type": "mesh3d",
         "x": {
          "bdata": "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",
          "dtype": "f8"
         },
         "y": {
          "bdata": "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",
          "dtype": "f8"
         },
         "z": {
          "bdata": "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",
          "dtype": "f8"
         }
        },
        {
         "alphahull": 0,
         "color": "#3050F8",
         "hovertemplate": "%{meta.position}",
         "legendgroup": "Atoms",
         "meta": {
          "meta": {
           "Atoms_i": 1
          },
          "position": "(0.78, 1.43, 0.00)"
         },
         "name": "Atoms",
         "opacity": 1,
         "showlegend": false,
         "showscale": false,
         "type": "mesh3d",
         "x": {
          "bdata": "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",
          "dtype": "f8"
         },
         "y": {
          "bdata": "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",
          "dtype": "f8"
         },
         "z": {
          "bdata": "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",
          "dtype": "f8"
         }
        },
        {
         "alphahull": 0,
         "color": "#FFB5B5",
         "hovertemplate": "%{meta.position}",
         "legendgroup": "Atoms",
         "meta": {
          "meta": {
           "Atoms_i": 2
          },
          "position": "(2.89, 0.01, 0.02)"
         },
         "name": "Atoms",
         "opacity": 1,
         "showlegend": false,
         "showscale": false,
         "type": "mesh3d",
         "x": {
          "bdata": "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",
          "dtype": "f8"
         },
         "y": {
          "bdata": "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",
          "dtype": "f8"
         },
         "z": {
          "bdata": "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",
          "dtype": "f8"
         }
        },
        {
         "alphahull": 0,
         "color": "#3050F8",
         "hovertemplate": "%{meta.position}",
         "legendgroup": "Atoms",
         "meta": {
          "meta": {
           "Atoms_i": 3
          },
          "position": "(2.19, 1.44, 0.01)"
         },
         "name": "Atoms",
         "opacity": 1,
         "showlegend": false,
         "showscale": false,
         "type": "mesh3d",
         "x": {
          "bdata": "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",
          "dtype": "f8"
         },
         "y": {
          "bdata": "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",
          "dtype": "f8"
         },
         "z": {
          "bdata": "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",
          "dtype": "f8"
         }
        },
        {
         "alphahull": 0,
         "color": "#3050F8",
         "hovertemplate": "%{meta.position}",
         "legendgroup": "Atoms",
         "meta": {
          "meta": {
           "Atoms_i": 4
          },
          "position": "(4.41, 2.64, 3.32)"
         },
         "name": "Atoms",
         "opacity": 1,
         "showlegend": false,
         "showscale": false,
         "type": "mesh3d",
         "x": {
          "bdata": "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",
          "dtype": "f8"
         },
         "y": {
          "bdata": "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",
          "dtype": "f8"
         },
         "z": {
          "bdata": "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",
          "dtype": "f8"
         }
        },
        {
         "alphahull": 0,
         "color": "#FFB5B5",
         "hovertemplate": "%{meta.position}",
         "legendgroup": "Atoms",
         "meta": {
          "meta": {
           "Atoms_i": 5
          },
          "position": "(0.66, 1.43, 3.32)"
         },
         "name": "Atoms",
         "opacity": 1,
         "showlegend": false,
         "showscale": false,
         "type": "mesh3d",
         "x": {
          "bdata": "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",
          "dtype": "f8"
         },
         "y": {
          "bdata": "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",
          "dtype": "f8"
         },
         "z": {
          "bdata": "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",
          "dtype": "f8"
         }
        },
        {
         "alphahull": 0,
         "color": "#3050F8",
         "hovertemplate": "%{meta.position}",
         "legendgroup": "Atoms",
         "meta": {
          "meta": {
           "Atoms_i": 6
          },
          "position": "(3.00, 2.64, 3.32)"
         },
         "name": "Atoms",
         "opacity": 1,
         "showlegend": false,
         "showscale": false,
         "type": "mesh3d",
         "x": {
          "bdata": "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",
          "dtype": "f8"
         },
         "y": {
          "bdata": "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",
          "dtype": "f8"
         },
         "z": {
          "bdata": "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",
          "dtype": "f8"
         }
        },
        {
         "alphahull": 0,
         "color": "#FFB5B5",
         "hovertemplate": "%{meta.position}",
         "legendgroup": "Atoms",
         "meta": {
          "meta": {
           "Atoms_i": 7
          },
          "position": "(2.31, 1.43, 3.32)"
         },
         "name": "Atoms",
         "opacity": 1,
         "showlegend": false,
         "showscale": false,
         "type": "mesh3d",
         "x": {
          "bdata": "81Dniy54AkDzUOeLLngCQPNQ54sueAJA81Dniy54AkDzUOeLLngCQPNQ54sueAJA81Dniy54AkDzUOeLLngCQPNQ54sueAJA81Dniy54AkDzUOeLLngCQPNQ54sueAJA81Dniy54AkDzUOeLLngCQPNQ54sueAJAaRQMJakEBEBdEqafZd0DQHb5K+NhbwNAx5n/G2jQAkAfCM/79B8CQHCoojT7gAFAiY8oePcSAUB9jcLys+sAQImPKHj3EgFAcKiiNPuAAUAfCM/79B8CQMeZ/xto0AJAdvkr42FvA0BdEqafZd0DQGkUDCWpBARAOvXsLUJ9BUCQ/pYpszAFQJg+9O8vWgRAHmNHIzUkA0DIPof0J8wBQE5j2ictlgBArEZv3FN//z9YWcPTNeb+P6tGb9xTf/8/TmPaJy2WAEDIPof0J8wBQB5jRyM1JANAmD707y9aBECQ/pYpszAFQDr17C1CfQVAPJeJTBfPBkBVfg+QE2EGQLMDA4fSLAVAdvkr42FvA0BwqKI0+4ABQGY8lyEVh/8/Ikd+D5Me/T9UFYqWi0L8PyJHfg+THv0/ZjyXIRWH/z9wqKI0+4ABQHX5K+NhbwNAswMDh9IsBUBVfg+QE2EGQDyXiUwXzwZALqxGxzfpB0Df4vmRQ18HQLwQ98C53AVAbSyUWCmuA0B5dTq/M0IBQFUir61GJ/4/Dn6pCzMi+z9x6w+hSg76Pw5+qQszIvs/VCKvrUYn/j95dTq/M0IBQGwslFgprgNAuxD3wLncBUDf4vmRQ18HQC6sRsc36QdAQegS+329CECSiOYzhB4IQFV+D5ATYQZAXRKmn2XdA0CJjyh49xIBQCJHfg+THv0/qDLQx7Gj+T9Kc3c5vmX4P6cy0Mexo/k/Ikd+D5Me/T+Jjyh49xIBQFwSpp9l3QNAVX4PkBNhBkCSiOYzhB4IQEHoEvt9vQhAhNAG9kRBCUBZvqZePpUIQLTQmfo8swZAFyPqXLj6A0DQfuS6pPUAQGSiaTpAevw/G8dPcj22+D/Eoo9DMF73PxrHT3I9tvg/ZKJpOkB6/D/PfuS6pPUAQBYj6ly4+gNAtNCZ+jyzBkBYvqZePpUIQITQBvZEQQlA6XlDG/FtCUBB6BL7fb0IQDyXiUwXzwZAaRQMJakEBEB+jcLys+sAQFQVipaLQvw/SnN3Ob5l+D/6Txb51wT3P0pzdzm+Zfg/UxWKlotC/D99jcLys+sAQGgUDCWpBARAPJeJTBfPBkBB6BL7fb0IQOl5QxvxbQlAhNAG9kRBCUBZvqZePpUIQLTQmfo8swZAFyPqXLj6A0DQfuS6pPUAQGSiaTpAevw/G8dPcj22+D/Eoo9DMF73PxrHT3I9tvg/ZKJpOkB6/D/PfuS6pPUAQBYj6ly4+gNAtNCZ+jyzBkBYvqZePpUIQITQBvZEQQlAQegS+329CECSiOYzhB4IQFV+D5ATYQZAXRKmn2XdA0CJjyh49xIBQCJHfg+THv0/qDLQx7Gj+T9Kc3c5vmX4P6cy0Mexo/k/Ikd+D5Me/T+Jjyh49xIBQFwSpp9l3QNAVX4PkBNhBkCSiOYzhB4IQEHoEvt9vQhALqxGxzfpB0Df4vmRQ18HQLwQ98C53AVAbSyUWCmuA0B5dTq/M0IBQFUir61GJ/4/Dn6pCzMi+z9w6w+hSg76Pw5+qQszIvs/VCKvrUYn/j95dTq/M0IBQGwslFgprgNAuxD3wLncBUDf4vmRQ18HQC6sRsc36QdAPJeJTBfPBkBVfg+QE2EGQLMDA4fSLAVAdvkr42FvA0BwqKI0+4ABQGY8lyEVh/8/Ikd+D5Me/T9UFYqWi0L8PyJHfg+THv0/ZTyXIRWH/z9wqKI0+4ABQHX5K+NhbwNAswMDh9IsBUBVfg+QE2EGQDyXiUwXzwZAOvXsLUJ9BUCQ/pYpszAFQJg+9O8vWgRAHmNHIzUkA0DIPof0J8wBQE5j2ictlgBAq0Zv3FN//z9XWcPTNeb+P6tGb9xTf/8/TmPaJy2WAEDIPof0J8wBQB5jRyM1JANAmD707y9aBECQ/pYpszAFQDr17C1CfQVAaRQMJakEBEBdEqafZd0DQHb5K+NhbwNAx5n/G2jQAkAfCM/79B8CQHCoojT7gAFAiY8oePcSAUB9jcLys+sAQImPKHj3EgFAcKiiNPuAAUAfCM/79B8CQMeZ/xto0AJAdvkr42FvA0BdEqafZd0DQGkUDCWpBARA81Dniy54AkDzUOeLLngCQPNQ54sueAJA81Dniy54AkDzUOeLLngCQPNQ54sueAJA81Dniy54AkDzUOeLLngCQPNQ54sueAJA81Dniy54AkDzUOeLLngCQPNQ54sueAJA81Dniy54AkDzUOeLLngCQPNQ54sueAJA",
          "dtype": "f8"
         },
         "y": {
          "bdata": "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",
          "dtype": "f8"
         },
         "z": {
          "bdata": "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",
          "dtype": "f8"
         }
        },
        {
         "meta": {},
         "mode": "lines",
         "name": "Unit cell",
         "type": "scatter3d",
         "x": {
          "bdata": "AAAAAAAAAAAAAAAAAAAAAJs4ud+hyBFAmzi536HIEUAAAAAAAAAAAAAAAAAAAAAAAAAAAAAA+H8AAAAAAAAAAAAAAAAAAAAAAAAAAAAAAACbOLnfocgRQJs4ud+hyBFAAAAAAAAAAAAAAAAAAAD4f5s4ud+hyBFAmzi536HIEUAAAAAAAAD4f5s4ud+hyBFAmzi536HIEUA=",
          "dtype": "f8"
         },
         "y": {
          "bdata": "AAAAAAAAAAABamrZWh8FQAFqatlaHwVAAWpq2VofBUABamrZWh8FQAFqatlaHwVAAAAAAAAA+H8BamrZWh8FQAAAAAAAAAAAAAAAAAAAAAAAAAAAAAAAAAAAAAAAAAAAAAAAAAAAAAAAAAAAAAD4fwFqatlaHwVAAAAAAAAAAAAAAAAAAAD4fwFqatlaHwVAAAAAAAAAAAA=",
          "dtype": "f8"
         },
         "z": {
          "bdata": "AAAAAAAAAAAAAAAAAAAAAAAAAAAAAAAAfCx96IJaG0B8LH3oglobQAAAAAAAAAAAAAAAAAAA+H98LH3oglobQHwsfeiCWhtAAAAAAAAAAAAAAAAAAAAAAHwsfeiCWhtAfCx96IJaG0AAAAAAAAD4fwAAAAAAAAAAAAAAAAAAAAAAAAAAAAD4f3wsfeiCWhtAfCx96IJaG0A=",
          "dtype": "f8"
         }
        }
       ],
       "layout": {
        "scene": {
         "aspectmode": "data",
         "xaxis": {
          "title": {
           "text": "X axis [Ang]"
          }
         },
         "yaxis": {
          "title": {
           "text": "Y axis [Ang]"
          }
         },
         "zaxis": {
          "title": {
           "text": "Z axis [Ang]"
          }
         }
        },
        "template": {
         "layout": {
          "hovermode": "closest",
          "paper_bgcolor": "white",
          "plot_bgcolor": "white",
          "scene": {
           "xaxis": {
            "color": "black",
            "gridcolor": "#ccc",
            "gridwidth": 1,
            "linewidth": 1,
            "mirror": true,
            "showgrid": false,
            "showline": true,
            "ticklen": 5,
            "ticks": "outside",
            "ticksuffix": " ",
            "visible": true,
            "zeroline": false,
            "zerolinecolor": "#ccc",
            "zerolinewidth": 1
           },
           "yaxis": {
            "color": "black",
            "gridcolor": "#ccc",
            "gridwidth": 1,
            "linewidth": 1,
            "mirror": true,
            "showgrid": false,
            "showline": true,
            "ticklen": 5,
            "ticks": "outside",
            "ticksuffix": " ",
            "visible": true,
            "zeroline": false,
            "zerolinecolor": "#ccc",
            "zerolinewidth": 1
           },
           "zaxis": {
            "color": "black",
            "gridcolor": "#ccc",
            "gridwidth": 1,
            "linewidth": 1,
            "mirror": true,
            "showgrid": false,
            "showline": true,
            "ticklen": 5,
            "ticks": "outside",
            "ticksuffix": " ",
            "visible": true,
            "zeroline": false,
            "zerolinecolor": "#ccc",
            "zerolinewidth": 1
           }
          },
          "xaxis": {
           "color": "black",
           "gridcolor": "#ccc",
           "gridwidth": 1,
           "linewidth": 1,
           "mirror": true,
           "showgrid": false,
           "showline": true,
           "ticklen": 5,
           "ticks": "outside",
           "ticksuffix": " ",
           "visible": true,
           "zeroline": false,
           "zerolinecolor": "#ccc",
           "zerolinewidth": 1
          },
          "yaxis": {
           "color": "black",
           "gridcolor": "#ccc",
           "gridwidth": 1,
           "linewidth": 1,
           "mirror": true,
           "showgrid": false,
           "showline": true,
           "ticklen": 5,
           "ticks": "outside",
           "ticksuffix": " ",
           "visible": true,
           "zeroline": false,
           "zerolinecolor": "#ccc",
           "zerolinewidth": 1
          }
         }
        },
        "xaxis": {
         "scaleanchor": "y",
         "scaleratio": 1,
         "title": {
          "text": "X axis [Ang]"
         }
        },
        "yaxis": {
         "title": {
          "text": "Y axis [Ang]"
         }
        }
       }
      }
     },
     "metadata": {},
     "output_type": "display_data"
    },
    {
     "name": "stderr",
     "output_type": "stream",
     "text": [
      "INFO\tTask(Task-4) nodify.node.140328528331792:node.py:get()- Evaluated because inputs changed.\n",
      "INFO\tTask(Task-4) nodify.node.140328528102752:node.py:get()- Evaluated because inputs changed.\n",
      "INFO\tTask(Task-4) nodify.node.140328528337984:node.py:get()- Evaluated because inputs changed.\n",
      "INFO\tTask(Task-4) nodify.node.140328528075888:node.py:get()- Evaluated because inputs changed.\n",
      "INFO\tTask(Task-4) nodify.node.140328528106112:node.py:get()- Evaluated because inputs changed.\n",
      "INFO\tTask(Task-4) nodify.node.140328528114320:node.py:get()- Evaluated because inputs changed.\n",
      "INFO\tTask(Task-4) nodify.node.140328528102752:node.py:get()- No need to evaluate\n",
      "INFO\tTask(Task-4) nodify.node.140328528337984:node.py:get()- No need to evaluate\n",
      "INFO\tTask(Task-4) nodify.node.140328528075888:node.py:get()- No need to evaluate\n",
      "INFO\tTask(Task-4) nodify.node.140328528106112:node.py:get()- No need to evaluate\n",
      "INFO\tTask(Task-4) nodify.node.140328528114320:node.py:get()- No need to evaluate\n",
      "INFO\tTask(Task-4) nodify.node.140328528102752:node.py:get()- No need to evaluate\n",
      "INFO\tTask(Task-4) nodify.node.140328528112352:node.py:get()- Evaluated because inputs changed.\n",
      "INFO\tTask(Task-4) nodify.node.140328546439856:node.py:get()- Evaluated because inputs changed.\n",
      "INFO\tTask(Task-4) nodify.node.140328528116288:node.py:get()- Evaluated because inputs changed.\n",
      "INFO\tTask(Task-4) nodify.node.140328528116384:node.py:get()- Evaluated because inputs changed.\n",
      "INFO\tTask(Task-4) nodify.node.140328528334816:node.py:get()- Evaluated because inputs changed.\n",
      "INFO\tTask(Task-4) nodify.node.140328528335584:node.py:get()- Evaluated because inputs changed.\n",
      "INFO\tTask(Task-4) nodify.node.140328528082368:node.py:get()- Evaluated because inputs changed.\n",
      "INFO\tTask(Task-4) nodify.node.140328528072912:node.py:get()- Evaluated because inputs changed.\n",
      "INFO\tTask(Task-4) nodify.node.140328528338608:node.py:get()- Evaluated because inputs changed.\n",
      "INFO\tTask(Task-4) nodify.node.140328528337744:node.py:get()- Evaluated because inputs changed.\n",
      "INFO\tTask(Task-4) nodify.node.140328528337456:node.py:get()- Evaluated because inputs changed.\n",
      "INFO\tTask(Task-4) nodify.node.140328528081696:node.py:get()- Evaluated because inputs changed.\n",
      "INFO\tTask(Task-4) nodify.node.140328528337264:node.py:get()- Evaluated because inputs changed.\n",
      "INFO\tTask(Task-4) nodify.node.140328528116384:node.py:get()- No need to evaluate\n",
      "INFO\tTask(Task-4) nodify.node.140328528334816:node.py:get()- No need to evaluate\n",
      "INFO\tTask(Task-4) nodify.node.140328528337024:node.py:get()- Evaluated because inputs changed.\n",
      "INFO\tTask(Task-4) nodify.node.140328528077856:node.py:get()- Evaluated because inputs changed.\n",
      "INFO\tTask(Task-4) nodify.node.140328528075456:node.py:get()- Evaluated because inputs changed.\n",
      "INFO\tTask(Task-4) nodify.node.140328528084144:node.py:get()- Evaluated because inputs changed.\n",
      "INFO\tTask(Task-4) nodify.node.140328528116384:node.py:get()- No need to evaluate\n",
      "INFO\tTask(Task-4) nodify.node.140328528334816:node.py:get()- No need to evaluate\n",
      "INFO\tTask(Task-4) nodify.node.140328528335584:node.py:get()- No need to evaluate\n",
      "INFO\tTask(Task-4) nodify.node.140328528071040:node.py:get()- Evaluated because inputs changed.\n",
      "INFO\tTask(Task-4) nodify.node.140328546652656:node.py:get()- Evaluated because inputs changed.\n",
      "INFO\tTask(Task-4) nodify.node.140328546439376:node.py:get()- Evaluated because inputs changed.\n",
      "INFO\tTask(Task-4) nodify.node.140328528116384:node.py:get()- No need to evaluate\n",
      "INFO\tTask(Task-4) nodify.node.140328528334816:node.py:get()- No need to evaluate\n",
      "INFO\tTask(Task-4) nodify.node.140328528335584:node.py:get()- No need to evaluate\n",
      "INFO\tTask(Task-4) nodify.node.140328528113888:node.py:get()- Evaluated because inputs changed.\n",
      "INFO\tTask(Task-4) nodify.node.140328528083568:node.py:get()- Evaluated because inputs changed.\n",
      "INFO\tTask(Task-4) nodify.node.140328546207456:node.py:get()- Evaluated because inputs changed.\n",
      "INFO\tTask(Task-4) nodify.node.140328528102752:node.py:get()- No need to evaluate\n",
      "INFO\tTask(Task-4) nodify.node.140328528116336:node.py:get()- Evaluated because inputs changed.\n",
      "INFO\tTask(Task-4) nodify.node.140328528108608:node.py:get()- Evaluated because inputs changed.\n",
      "INFO\tTask(Task-4) nodify.node.140328528112976:node.py:get()- Evaluated because inputs changed.\n",
      "INFO\tTask(Task-4) nodify.node.140328528102176:node.py:get()- Evaluated because inputs changed.\n",
      "INFO\tTask(Task-4) nodify.node.140328528106976:node.py:get()- Evaluated because inputs changed.\n",
      "INFO\tTask(Task-4) nodify.node.140328528108992:node.py:get()- Evaluated because inputs changed.\n",
      "INFO\tTask(Task-4) nodify.node.140328528083376:node.py:get()- Evaluated because inputs changed.\n",
      "INFO\tTask(Task-4) nodify.node.140328528102752:node.py:get()- No need to evaluate\n",
      "INFO\tTask(Task-4) nodify.node.140328528112352:node.py:get()- No need to evaluate\n",
      "INFO\tTask(Task-4) nodify.node.140328546439856:node.py:get()- No need to evaluate\n",
      "INFO\tTask(Task-4) nodify.node.140328528110336:node.py:get()- Evaluated because inputs changed.\n",
      "INFO\tTask(Task-4) nodify.node.140328528113840:node.py:get()- Evaluated because inputs changed.\n",
      "INFO\tTask(Task-4) nodify.node.140328528081696:node.py:get()- No need to evaluate\n",
      "INFO\tTask(Task-4) nodify.node.140328528113264:node.py:get()- Evaluated because inputs changed.\n",
      "INFO\tTask(Task-4) nodify.node.140328528075648:node.py:get()- Evaluated because inputs changed.\n",
      "INFO\tTask(Task-4) nodify.node.140328528116384:node.py:get()- No need to evaluate\n",
      "INFO\tTask(Task-4) nodify.node.140328528334816:node.py:get()- No need to evaluate\n",
      "INFO\tTask(Task-4) nodify.node.140328528331024:node.py:get()- Evaluated because inputs changed.\n",
      "INFO\tTask(Task-4) nodify.node.140328528113312:node.py:get()- Evaluated because inputs changed.\n",
      "INFO\tTask(Task-4) nodify.node.140328528116912:node.py:get()- Evaluated because inputs changed.\n",
      "INFO\tTask(Task-4) nodify.node.140328528116384:node.py:get()- No need to evaluate\n",
      "INFO\tTask(Task-4) nodify.node.140328528334816:node.py:get()- No need to evaluate\n",
      "INFO\tTask(Task-4) nodify.node.140328528335584:node.py:get()- No need to evaluate\n",
      "INFO\tTask(Task-4) nodify.node.140328528074880:node.py:get()- Evaluated because inputs changed.\n",
      "INFO\tTask(Task-4) nodify.node.140328528108272:node.py:get()- Evaluated because inputs changed.\n",
      "INFO\tTask(Task-4) nodify.node.140328528081072:node.py:get()- Evaluated because inputs changed.\n",
      "INFO\tTask(Task-4) nodify.node.140328528116384:node.py:get()- No need to evaluate\n",
      "INFO\tTask(Task-4) nodify.node.140328528334816:node.py:get()- No need to evaluate\n",
      "INFO\tTask(Task-4) nodify.node.140328528335584:node.py:get()- No need to evaluate\n",
      "INFO\tTask(Task-4) nodify.node.140328528113888:node.py:get()- No need to evaluate\n",
      "INFO\tTask(Task-4) nodify.node.140328528103520:node.py:get()- Evaluated because inputs changed.\n",
      "INFO\tTask(Task-4) nodify.node.140328528106064:node.py:get()- Evaluated because inputs changed.\n",
      "INFO\tTask(Task-4) nodify.node.140328528116384:node.py:get()- No need to evaluate\n",
      "INFO\tTask(Task-4) nodify.node.140328528334816:node.py:get()- No need to evaluate\n",
      "INFO\tTask(Task-4) nodify.node.140328528335584:node.py:get()- No need to evaluate\n",
      "INFO\tTask(Task-4) nodify.node.140328528106448:node.py:get()- Evaluated because inputs changed.\n",
      "INFO\tTask(Task-4) nodify.node.140328528334720:node.py:get()- Evaluated because inputs changed.\n",
      "INFO\tTask(Task-4) nodify.node.140328528102752:node.py:get()- No need to evaluate\n",
      "INFO\tTask(Task-4) nodify.node.140328528116384:node.py:get()- No need to evaluate\n",
      "INFO\tTask(Task-4) nodify.node.140328528334816:node.py:get()- No need to evaluate\n",
      "INFO\tTask(Task-4) nodify.node.140328528335584:node.py:get()- No need to evaluate\n",
      "INFO\tTask(Task-4) nodify.node.140328528340336:node.py:get()- Evaluated because inputs changed.\n",
      "INFO\tTask(Task-4) nodify.node.140328528078048:node.py:get()- Evaluated because inputs changed.\n",
      "INFO\tTask(Task-4) nodify.node.140328528339952:node.py:get()- Evaluated because inputs changed.\n",
      "INFO\tTask(Task-4) nodify.node.140328528116384:node.py:get()- No need to evaluate\n",
      "INFO\tTask(Task-4) nodify.node.140328528334816:node.py:get()- No need to evaluate\n",
      "INFO\tTask(Task-4) nodify.node.140328528074544:node.py:get()- Evaluated because inputs changed.\n",
      "INFO\tTask(Task-4) nodify.node.140328528331024:node.py:get()- No need to evaluate\n",
      "INFO\tTask(Task-4) nodify.node.140328546146480:node.py:get()- Evaluated because inputs changed.\n",
      "INFO\tTask(Task-4) nodify.node.140328528102752:node.py:get()- No need to evaluate\n",
      "INFO\tTask(Task-4) nodify.node.140328528116336:node.py:get()- No need to evaluate\n",
      "INFO\tTask(Task-4) nodify.node.140328528106976:node.py:get()- No need to evaluate\n",
      "INFO\tTask(Task-4) nodify.node.140328528108992:node.py:get()- No need to evaluate\n",
      "INFO\tTask(Task-4) nodify.node.140328528083376:node.py:get()- No need to evaluate\n",
      "INFO\tTask(Task-4) nodify.node.140328528102752:node.py:get()- No need to evaluate\n",
      "INFO\tTask(Task-4) nodify.node.140328528112352:node.py:get()- No need to evaluate\n",
      "INFO\tTask(Task-4) nodify.node.140328546439856:node.py:get()- No need to evaluate\n",
      "INFO\tTask(Task-4) nodify.node.140328528110336:node.py:get()- No need to evaluate\n",
      "INFO\tTask(Task-4) nodify.node.140328528113840:node.py:get()- No need to evaluate\n",
      "INFO\tTask(Task-4) nodify.node.140328528081696:node.py:get()- No need to evaluate\n",
      "INFO\tTask(Task-4) nodify.node.140328528113264:node.py:get()- No need to evaluate\n",
      "INFO\tTask(Task-4) nodify.node.140328528075648:node.py:get()- No need to evaluate\n",
      "INFO\tTask(Task-4) nodify.node.140328528116384:node.py:get()- No need to evaluate\n",
      "INFO\tTask(Task-4) nodify.node.140328528334816:node.py:get()- No need to evaluate\n",
      "INFO\tTask(Task-4) nodify.node.140328528331024:node.py:get()- No need to evaluate\n",
      "INFO\tTask(Task-4) nodify.node.140328528113312:node.py:get()- No need to evaluate\n",
      "INFO\tTask(Task-4) nodify.node.140328528102752:node.py:get()- No need to evaluate\n",
      "INFO\tTask(Task-4) nodify.node.140328528331408:node.py:get()- Evaluated because inputs changed.\n",
      "INFO\tTask(Task-4) nodify.node.140328528102752:node.py:get()- No need to evaluate\n",
      "INFO\tTask(Task-4) nodify.node.140328528112352:node.py:get()- No need to evaluate\n",
      "INFO\tTask(Task-4) nodify.node.140328546439856:node.py:get()- No need to evaluate\n",
      "INFO\tTask(Task-4) nodify.node.140328528116384:node.py:get()- No need to evaluate\n",
      "INFO\tTask(Task-4) nodify.node.140328528334816:node.py:get()- No need to evaluate\n",
      "INFO\tTask(Task-4) nodify.node.140328528335584:node.py:get()- No need to evaluate\n",
      "INFO\tTask(Task-4) nodify.node.140328528116384:node.py:get()- No need to evaluate\n",
      "INFO\tTask(Task-4) nodify.node.140328528334816:node.py:get()- No need to evaluate\n",
      "INFO\tTask(Task-4) nodify.node.140328528078192:node.py:get()- Evaluated because inputs changed.\n",
      "INFO\tTask(Task-4) nodify.node.140328528081696:node.py:get()- No need to evaluate\n",
      "INFO\tTask(Task-4) nodify.node.140328546436592:node.py:get()- Evaluated because inputs changed.\n",
      "INFO\tTask(Task-4) nodify.node.140328592889840:node.py:get()- Evaluated because inputs changed.\n",
      "INFO\tTask(Task-4) nodify.node.140328528340192:node.py:get()- Evaluated because inputs changed.\n",
      "INFO\tTask(Task-4) nodify.node.140328528114944:node.py:get()- Evaluated because inputs changed.\n"
     ]
    },
    {
     "data": {
      "application/vnd.plotly.v1+json": {
       "config": {
        "plotlyServerURL": "https://plot.ly"
       },
       "data": [
        {
         "line": {
          "color": "gray",
          "width": 10
         },
         "meta": {},
         "mode": "lines",
         "name": "Bonds",
         "opacity": 1,
         "type": "scatter3d",
         "x": {
          "bdata": "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",
          "dtype": "f8"
         },
         "y": {
          "bdata": "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",
          "dtype": "f8"
         },
         "z": {
          "bdata": "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",
          "dtype": "f8"
         }
        },
        {
         "alphahull": 0,
         "color": "#3050F8",
         "hovertemplate": "%{meta.position}",
         "legendgroup": "Atoms",
         "meta": {
          "meta": {
           "Atoms_i": 0
          },
          "position": "(2.31, 0.00, 4.24)"
         },
         "name": "Atoms",
         "opacity": 1,
         "showlegend": true,
         "showscale": false,
         "type": "mesh3d",
         "x": {
          "bdata": "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",
          "dtype": "f8"
         },
         "y": {
          "bdata": "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",
          "dtype": "f8"
         },
         "z": {
          "bdata": "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",
          "dtype": "f8"
         }
        },
        {
         "alphahull": 0,
         "color": "#3050F8",
         "hovertemplate": "%{meta.position}",
         "legendgroup": "Atoms",
         "meta": {
          "meta": {
           "Atoms_i": 1
          },
          "position": "(1.05, 4.09, 4.24)"
         },
         "name": "Atoms",
         "opacity": 1,
         "showlegend": false,
         "showscale": false,
         "type": "mesh3d",
         "x": {
          "bdata": "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",
          "dtype": "f8"
         },
         "y": {
          "bdata": "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",
          "dtype": "f8"
         },
         "z": {
          "bdata": "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",
          "dtype": "f8"
         }
        },
        {
         "alphahull": 0,
         "color": "#3050F8",
         "hovertemplate": "%{meta.position}",
         "legendgroup": "Atoms",
         "meta": {
          "meta": {
           "Atoms_i": 2
          },
          "position": "(1.06, 0.01, 2.11)"
         },
         "name": "Atoms",
         "opacity": 1,
         "showlegend": false,
         "showscale": false,
         "type": "mesh3d",
         "x": {
          "bdata": "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",
          "dtype": "f8"
         },
         "y": {
          "bdata": "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",
          "dtype": "f8"
         },
         "z": {
          "bdata": "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",
          "dtype": "f8"
         }
        },
        {
         "alphahull": 0,
         "color": "#3050F8",
         "hovertemplate": "%{meta.position}",
         "legendgroup": "Atoms",
         "meta": {
          "meta": {
           "Atoms_i": 3
          },
          "position": "(2.31, 4.09, 2.09)"
         },
         "name": "Atoms",
         "opacity": 1,
         "showlegend": false,
         "showscale": false,
         "type": "mesh3d",
         "x": {
          "bdata": "T59nazl+AkBPn2drOX4CQE+fZ2s5fgJAT59nazl+AkBPn2drOX4CQE+fZ2s5fgJAT59nazl+AkBPn2drOX4CQE+fZ2s5fgJAT59nazl+AkBPn2drOX4CQE+fZ2s5fgJAT59nazl+AkBPn2drOX4CQE+fZ2s5fgJAlQXA2W19A0B2Le7nJ2QDQEvxJoZXHQNAR5bMQAO3AkBXqAKWb0UCQFNNqFAb3wFAKBHh7kqYAUAJOQ/9BH8BQCgR4e5KmAFAU02oUBvfAUBXqAKWb0UCQEeWzEADtwJAS/EmhlcdA0B2Le7nJ2QDQJUFwNltfQNAIjigPdZvBECXjRPIjj4EQHCW6Ax7tANAkfRYGfTsAkANSna9fg8CQC6o5sn3RwFAB7G7DuS9AEB8Bi+ZnIwAQAexuw7kvQBALqjmyfdHAUANSna9fg8CQJH0WBn07AJAcJboDHu0A0CXjRPIjj4EQCI4oD3WbwRA4iHN0kpJBUC35QVxegIFQGp2EtgPPARAS/EmhlcdA0BTTahQG98BQDTIvP5iwABAzrGSy/Dz/z94OQQIUGb/P82xksvw8/8/NMi8/mLAAEBTTahQG98BQEvxJoZXHQNAaXYS2A88BEC35QVxegIFQOIhzdJKSQVA33u/JOT+BUBCLyHfF6YFQNniBHZJrQRALkH3XsBFA0Bx/dd3srYBQMVbymApTwBAuB5c77Ws/j9+hR9kHfv9P7ceXO+1rP4/xVvKYClPAEBw/dd3srYBQC1B917ARQNA2eIEdkmtBEBCLyHfF6YFQN97vyTk/gVA2sVLCIeHBkDWavHCMiEGQLflBXF6AgVAdi3u5ydkA0AoEeHuSpgBQM6xksvw8/8/kKe7J4C2/T+I8Qad1+n8P5CnuyeAtv0/zbGSy/Dz/z8oEeHuSpgBQHUt7ucnZANAt+UFcXoCBUDWavHCMiEGQNrFSwiHhwZAYyaigFncBkAh0bDSnm0GQADaLzFdNwVAuOuD1Ad3A0DmUksCa4UBQDzJPksriv8/+to8CKgd/T92MFqsMkD8P/raPAioHf0/O8k+SyuK/z/lUksCa4UBQLjrg9QHdwNAANovMV03BUAh0bDSnm0GQGMmooBZ3AZAyrMVsxr5BkDaxUsIh4cGQOIhzdJKSQVAlQXA2W19A0AJOQ/9BH8BQHg5BAhQZv8/iPEGndfp/D+oFXNHsAb8P4jxBp3X6fw/dzkECFBm/z8JOQ/9BH8BQJUFwNltfQNA4iHN0kpJBUDaxUsIh4cGQMqzFbMa+QZAYyaigFncBkAh0bDSnm0GQADaLzFdNwVAuOuD1Ad3A0DmUksCa4UBQDzJPksriv8/+to8CKgd/T92MFqsMkD8P/raPAioHf0/O8k+SyuK/z/lUksCa4UBQLjrg9QHdwNAANovMV03BUAh0bDSnm0GQGMmooBZ3AZA2sVLCIeHBkDWavHCMiEGQLflBXF6AgVAdi3u5ydkA0AoEeHuSpgBQM6xksvw8/8/kKe7J4C2/T+I8Qad1+n8P5CnuyeAtv0/zbGSy/Dz/z8oEeHuSpgBQHUt7ucnZANAt+UFcXoCBUDWavHCMiEGQNrFSwiHhwZA33u/JOT+BUBCLyHfF6YFQNniBHZJrQRALkH3XsBFA0Bw/dd3srYBQMVbymApTwBAtx5c77Ws/j9+hR9kHfv9P7ceXO+1rP4/xVvKYClPAEBw/dd3srYBQC1B917ARQNA2eIEdkmtBEBCLyHfF6YFQN97vyTk/gVA4iHN0kpJBUC35QVxegIFQGp2EtgPPARAS/EmhlcdA0BTTahQG98BQDTIvP5iwABAzbGSy/Dz/z94OQQIUGb/P82xksvw8/8/NMi8/mLAAEBTTahQG98BQEvxJoZXHQNAanYS2A88BEC35QVxegIFQOIhzdJKSQVAIjigPdZvBECXjRPIjj4EQHCW6Ax7tANAkfRYGfTsAkANSna9fg8CQC6o5sn3RwFAB7G7DuS9AEB8Bi+ZnIwAQAexuw7kvQBALqjmyfdHAUANSna9fg8CQJH0WBn07AJAcJboDHu0A0CXjRPIjj4EQCI4oD3WbwRAlQXA2W19A0B2Le7nJ2QDQEvxJoZXHQNAR5bMQAO3AkBXqAKWb0UCQFNNqFAb3wFAKBHh7kqYAUAJOQ/9BH8BQCgR4e5KmAFAU02oUBvfAUBXqAKWb0UCQEeWzEADtwJAS/EmhlcdA0B2Le7nJ2QDQJUFwNltfQNAT59nazl+AkBPn2drOX4CQE+fZ2s5fgJAT59nazl+AkBPn2drOX4CQE+fZ2s5fgJAT59nazl+AkBPn2drOX4CQE+fZ2s5fgJAT59nazl+AkBPn2drOX4CQE+fZ2s5fgJAT59nazl+AkBPn2drOX4CQE+fZ2s5fgJA",
          "dtype": "f8"
         },
         "y": {
          "bdata": "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",
          "dtype": "f8"
         },
         "z": {
          "bdata": "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",
          "dtype": "f8"
         }
        },
        {
         "alphahull": 0,
         "color": "#FFB5B5",
         "hovertemplate": "%{meta.position}",
         "legendgroup": "Atoms",
         "meta": {
          "meta": {
           "Atoms_i": 4
          },
          "position": "(2.32, 0.02, 2.83)"
         },
         "name": "Atoms",
         "opacity": 1,
         "showlegend": false,
         "showscale": false,
         "type": "mesh3d",
         "x": {
          "bdata": "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",
          "dtype": "f8"
         },
         "y": {
          "bdata": "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",
          "dtype": "f8"
         },
         "z": {
          "bdata": "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",
          "dtype": "f8"
         }
        },
        {
         "alphahull": 0,
         "color": "#FFB5B5",
         "hovertemplate": "%{meta.position}",
         "legendgroup": "Atoms",
         "meta": {
          "meta": {
           "Atoms_i": 5
          },
          "position": "(1.05, 4.09, 2.82)"
         },
         "name": "Atoms",
         "opacity": 1,
         "showlegend": false,
         "showscale": false,
         "type": "mesh3d",
         "x": {
          "bdata": "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",
          "dtype": "f8"
         },
         "y": {
          "bdata": "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",
          "dtype": "f8"
         },
         "z": {
          "bdata": "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",
          "dtype": "f8"
         }
        },
        {
         "alphahull": 0,
         "color": "#FFB5B5",
         "hovertemplate": "%{meta.position}",
         "legendgroup": "Atoms",
         "meta": {
          "meta": {
           "Atoms_i": 6
          },
          "position": "(1.05, 0.02, 0.65)"
         },
         "name": "Atoms",
         "opacity": 1,
         "showlegend": false,
         "showscale": false,
         "type": "mesh3d",
         "x": {
          "bdata": "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",
          "dtype": "f8"
         },
         "y": {
          "bdata": "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",
          "dtype": "f8"
         },
         "z": {
          "bdata": "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",
          "dtype": "f8"
         }
        },
        {
         "alphahull": 0,
         "color": "#FFB5B5",
         "hovertemplate": "%{meta.position}",
         "legendgroup": "Atoms",
         "meta": {
          "meta": {
           "Atoms_i": 7
          },
          "position": "(2.31, 4.09, 0.66)"
         },
         "name": "Atoms",
         "opacity": 1,
         "showlegend": false,
         "showscale": false,
         "type": "mesh3d",
         "x": {
          "bdata": "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",
          "dtype": "f8"
         },
         "y": {
          "bdata": "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",
          "dtype": "f8"
         },
         "z": {
          "bdata": "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",
          "dtype": "f8"
         }
        },
        {
         "meta": {},
         "mode": "lines",
         "name": "Unit cell",
         "type": "scatter3d",
         "x": {
          "bdata": "AAAAAAAAAAAAAAAAAAAAAGGOHr+3KQRAYY4ev7cpBEAAAAAAAAAAAAAAAAAAAAAAAAAAAAAA+H8AAAAAAAAAAAAAAAAAAAAAAAAAAAAAAABhjh6/tykEQGGOHr+3KQRAAAAAAAAAAAAAAAAAAAD4f2GOHr+3KQRAYY4ev7cpBEAAAAAAAAD4f2GOHr+3KQRAYY4ev7cpBEA=",
          "dtype": "f8"
         },
         "y": {
          "bdata": "AAAAAAAAAAA2yCQjZyEgQDbIJCNnISBANsgkI2chIEA2yCQjZyEgQDbIJCNnISBAAAAAAAAA+H82yCQjZyEgQAAAAAAAAAAAAAAAAAAAAAAAAAAAAAAAAAAAAAAAAAAAAAAAAAAAAAAAAAAAAAD4fzbIJCNnISBAAAAAAAAAAAAAAAAAAAD4fzbIJCNnISBAAAAAAAAAAAA=",
          "dtype": "f8"
         },
         "z": {
          "bdata": "AAAAAAAAAAAAAAAAAAAAAAAAAAAAAAAA/wQXK2pQEUD/BBcralARQAAAAAAAAAAAAAAAAAAA+H//BBcralARQP8EFytqUBFAAAAAAAAAAAAAAAAAAAAAAP8EFytqUBFA/wQXK2pQEUAAAAAAAAD4fwAAAAAAAAAAAAAAAAAAAAAAAAAAAAD4f/8EFytqUBFA/wQXK2pQEUA=",
          "dtype": "f8"
         }
        }
       ],
       "layout": {
        "scene": {
         "aspectmode": "data",
         "xaxis": {
          "title": {
           "text": "X axis [Ang]"
          }
         },
         "yaxis": {
          "title": {
           "text": "Y axis [Ang]"
          }
         },
         "zaxis": {
          "title": {
           "text": "Z axis [Ang]"
          }
         }
        },
        "template": {
         "layout": {
          "hovermode": "closest",
          "paper_bgcolor": "white",
          "plot_bgcolor": "white",
          "scene": {
           "xaxis": {
            "color": "black",
            "gridcolor": "#ccc",
            "gridwidth": 1,
            "linewidth": 1,
            "mirror": true,
            "showgrid": false,
            "showline": true,
            "ticklen": 5,
            "ticks": "outside",
            "ticksuffix": " ",
            "visible": true,
            "zeroline": false,
            "zerolinecolor": "#ccc",
            "zerolinewidth": 1
           },
           "yaxis": {
            "color": "black",
            "gridcolor": "#ccc",
            "gridwidth": 1,
            "linewidth": 1,
            "mirror": true,
            "showgrid": false,
            "showline": true,
            "ticklen": 5,
            "ticks": "outside",
            "ticksuffix": " ",
            "visible": true,
            "zeroline": false,
            "zerolinecolor": "#ccc",
            "zerolinewidth": 1
           },
           "zaxis": {
            "color": "black",
            "gridcolor": "#ccc",
            "gridwidth": 1,
            "linewidth": 1,
            "mirror": true,
            "showgrid": false,
            "showline": true,
            "ticklen": 5,
            "ticks": "outside",
            "ticksuffix": " ",
            "visible": true,
            "zeroline": false,
            "zerolinecolor": "#ccc",
            "zerolinewidth": 1
           }
          },
          "xaxis": {
           "color": "black",
           "gridcolor": "#ccc",
           "gridwidth": 1,
           "linewidth": 1,
           "mirror": true,
           "showgrid": false,
           "showline": true,
           "ticklen": 5,
           "ticks": "outside",
           "ticksuffix": " ",
           "visible": true,
           "zeroline": false,
           "zerolinecolor": "#ccc",
           "zerolinewidth": 1
          },
          "yaxis": {
           "color": "black",
           "gridcolor": "#ccc",
           "gridwidth": 1,
           "linewidth": 1,
           "mirror": true,
           "showgrid": false,
           "showline": true,
           "ticklen": 5,
           "ticks": "outside",
           "ticksuffix": " ",
           "visible": true,
           "zeroline": false,
           "zerolinecolor": "#ccc",
           "zerolinewidth": 1
          }
         }
        },
        "xaxis": {
         "scaleanchor": "y",
         "scaleratio": 1,
         "title": {
          "text": "X axis [Ang]"
         }
        },
        "yaxis": {
         "title": {
          "text": "Y axis [Ang]"
         }
        }
       }
      }
     },
     "metadata": {},
     "output_type": "display_data"
    },
    {
     "name": "stderr",
     "output_type": "stream",
     "text": [
      "INFO\tTask(Task-4) nodify.node.140328528816144:node.py:get()- Evaluated because inputs changed.\n",
      "INFO\tTask(Task-4) nodify.node.140328528114848:node.py:get()- Evaluated because inputs changed.\n",
      "INFO\tTask(Task-4) nodify.node.140328528078432:node.py:get()- Evaluated because inputs changed.\n",
      "INFO\tTask(Task-4) nodify.node.140328528807840:node.py:get()- Evaluated because inputs changed.\n",
      "INFO\tTask(Task-4) nodify.node.140328528345184:node.py:get()- Evaluated because inputs changed.\n",
      "INFO\tTask(Task-4) nodify.node.140328546435344:node.py:get()- Evaluated because inputs changed.\n",
      "INFO\tTask(Task-4) nodify.node.140328528114848:node.py:get()- No need to evaluate\n",
      "INFO\tTask(Task-4) nodify.node.140328528078432:node.py:get()- No need to evaluate\n",
      "INFO\tTask(Task-4) nodify.node.140328528807840:node.py:get()- No need to evaluate\n",
      "INFO\tTask(Task-4) nodify.node.140328528345184:node.py:get()- No need to evaluate\n",
      "INFO\tTask(Task-4) nodify.node.140328546435344:node.py:get()- No need to evaluate\n",
      "INFO\tTask(Task-4) nodify.node.140328528114848:node.py:get()- No need to evaluate\n",
      "INFO\tTask(Task-4) nodify.node.140328528809568:node.py:get()- Evaluated because inputs changed.\n",
      "INFO\tTask(Task-4) nodify.node.140328528080976:node.py:get()- Evaluated because inputs changed.\n",
      "INFO\tTask(Task-4) nodify.node.140328528817392:node.py:get()- Evaluated because inputs changed.\n",
      "INFO\tTask(Task-4) nodify.node.140328528117536:node.py:get()- Evaluated because inputs changed.\n",
      "INFO\tTask(Task-4) nodify.node.140328528820800:node.py:get()- Evaluated because inputs changed.\n",
      "INFO\tTask(Task-4) nodify.node.140328528345520:node.py:get()- Evaluated because inputs changed.\n",
      "INFO\tTask(Task-4) nodify.node.140328546085072:node.py:get()- Evaluated because inputs changed.\n",
      "INFO\tTask(Task-4) nodify.node.140328528813072:node.py:get()- Evaluated because inputs changed.\n",
      "INFO\tTask(Task-4) nodify.node.140328672384384:node.py:get()- Evaluated because inputs changed.\n",
      "INFO\tTask(Task-4) nodify.node.140328593817520:node.py:get()- Evaluated because inputs changed.\n",
      "INFO\tTask(Task-4) nodify.node.140328702513984:node.py:get()- Evaluated because inputs changed.\n",
      "INFO\tTask(Task-4) nodify.node.140328528809136:node.py:get()- Evaluated because inputs changed.\n",
      "INFO\tTask(Task-4) nodify.node.140328528343696:node.py:get()- Evaluated because inputs changed.\n",
      "INFO\tTask(Task-4) nodify.node.140328528117536:node.py:get()- No need to evaluate\n",
      "INFO\tTask(Task-4) nodify.node.140328528820800:node.py:get()- No need to evaluate\n",
      "INFO\tTask(Task-4) nodify.node.140328672384432:node.py:get()- Evaluated because inputs changed.\n",
      "INFO\tTask(Task-4) nodify.node.140328528808416:node.py:get()- Evaluated because inputs changed.\n",
      "INFO\tTask(Task-4) nodify.node.140328546439184:node.py:get()- Evaluated because inputs changed.\n",
      "INFO\tTask(Task-4) nodify.node.140328528806976:node.py:get()- Evaluated because inputs changed.\n",
      "INFO\tTask(Task-4) nodify.node.140328528117536:node.py:get()- No need to evaluate\n",
      "INFO\tTask(Task-4) nodify.node.140328528820800:node.py:get()- No need to evaluate\n",
      "INFO\tTask(Task-4) nodify.node.140328528345520:node.py:get()- No need to evaluate\n",
      "INFO\tTask(Task-4) nodify.node.140328528814176:node.py:get()- Evaluated because inputs changed.\n",
      "INFO\tTask(Task-4) nodify.node.140328546442640:node.py:get()- Evaluated because inputs changed.\n",
      "INFO\tTask(Task-4) nodify.node.140328528081648:node.py:get()- Evaluated because inputs changed.\n",
      "INFO\tTask(Task-4) nodify.node.140328528117536:node.py:get()- No need to evaluate\n",
      "INFO\tTask(Task-4) nodify.node.140328528820800:node.py:get()- No need to evaluate\n",
      "INFO\tTask(Task-4) nodify.node.140328528345520:node.py:get()- No need to evaluate\n",
      "INFO\tTask(Task-4) nodify.node.140328528114704:node.py:get()- Evaluated because inputs changed.\n",
      "INFO\tTask(Task-4) nodify.node.140328528806352:node.py:get()- Evaluated because inputs changed.\n",
      "INFO\tTask(Task-4) nodify.node.140328546446480:node.py:get()- Evaluated because inputs changed.\n",
      "INFO\tTask(Task-4) nodify.node.140328528114848:node.py:get()- No need to evaluate\n",
      "INFO\tTask(Task-4) nodify.node.140328528810768:node.py:get()- Evaluated because inputs changed.\n",
      "INFO\tTask(Task-4) nodify.node.140328546649968:node.py:get()- Evaluated because inputs changed.\n",
      "INFO\tTask(Task-4) nodify.node.140328672384480:node.py:get()- Evaluated because inputs changed.\n",
      "INFO\tTask(Task-4) nodify.node.140328528080160:node.py:get()- Evaluated because inputs changed.\n",
      "INFO\tTask(Task-4) nodify.node.140328528819552:node.py:get()- Evaluated because inputs changed.\n",
      "INFO\tTask(Task-4) nodify.node.140328528109376:node.py:get()- Evaluated because inputs changed.\n",
      "INFO\tTask(Task-4) nodify.node.140328528806208:node.py:get()- Evaluated because inputs changed.\n",
      "INFO\tTask(Task-4) nodify.node.140328528114848:node.py:get()- No need to evaluate\n",
      "INFO\tTask(Task-4) nodify.node.140328528809568:node.py:get()- No need to evaluate\n",
      "INFO\tTask(Task-4) nodify.node.140328528080976:node.py:get()- No need to evaluate\n",
      "INFO\tTask(Task-4) nodify.node.140328528818832:node.py:get()- Evaluated because inputs changed.\n",
      "INFO\tTask(Task-4) nodify.node.140328528819120:node.py:get()- Evaluated because inputs changed.\n",
      "INFO\tTask(Task-4) nodify.node.140328528809136:node.py:get()- No need to evaluate\n",
      "INFO\tTask(Task-4) nodify.node.140328528819264:node.py:get()- Evaluated because inputs changed.\n",
      "INFO\tTask(Task-4) nodify.node.140328528108416:node.py:get()- Evaluated because inputs changed.\n",
      "INFO\tTask(Task-4) nodify.node.140328528117536:node.py:get()- No need to evaluate\n",
      "INFO\tTask(Task-4) nodify.node.140328528820800:node.py:get()- No need to evaluate\n",
      "INFO\tTask(Task-4) nodify.node.140328528812304:node.py:get()- Evaluated because inputs changed.\n",
      "INFO\tTask(Task-4) nodify.node.140328528108080:node.py:get()- Evaluated because inputs changed.\n",
      "INFO\tTask(Task-4) nodify.node.140328528817488:node.py:get()- Evaluated because inputs changed.\n",
      "INFO\tTask(Task-4) nodify.node.140328528117536:node.py:get()- No need to evaluate\n",
      "INFO\tTask(Task-4) nodify.node.140328528820800:node.py:get()- No need to evaluate\n",
      "INFO\tTask(Task-4) nodify.node.140328528345520:node.py:get()- No need to evaluate\n",
      "INFO\tTask(Task-4) nodify.node.140328528806016:node.py:get()- Evaluated because inputs changed.\n",
      "INFO\tTask(Task-4) nodify.node.140328594037488:node.py:get()- Evaluated because inputs changed.\n",
      "INFO\tTask(Task-4) nodify.node.140328546245552:node.py:get()- Evaluated because inputs changed.\n",
      "INFO\tTask(Task-4) nodify.node.140328528117536:node.py:get()- No need to evaluate\n",
      "INFO\tTask(Task-4) nodify.node.140328528820800:node.py:get()- No need to evaluate\n",
      "INFO\tTask(Task-4) nodify.node.140328528345520:node.py:get()- No need to evaluate\n",
      "INFO\tTask(Task-4) nodify.node.140328528114704:node.py:get()- No need to evaluate\n",
      "INFO\tTask(Task-4) nodify.node.140328528816528:node.py:get()- Evaluated because inputs changed.\n",
      "INFO\tTask(Task-4) nodify.node.140328528812064:node.py:get()- Evaluated because inputs changed.\n",
      "INFO\tTask(Task-4) nodify.node.140328528117536:node.py:get()- No need to evaluate\n",
      "INFO\tTask(Task-4) nodify.node.140328528820800:node.py:get()- No need to evaluate\n",
      "INFO\tTask(Task-4) nodify.node.140328528345520:node.py:get()- No need to evaluate\n",
      "INFO\tTask(Task-4) nodify.node.140328546450416:node.py:get()- Evaluated because inputs changed.\n",
      "INFO\tTask(Task-4) nodify.node.140328528821616:node.py:get()- Evaluated because inputs changed.\n",
      "INFO\tTask(Task-4) nodify.node.140328528114848:node.py:get()- No need to evaluate\n",
      "INFO\tTask(Task-4) nodify.node.140328528117536:node.py:get()- No need to evaluate\n",
      "INFO\tTask(Task-4) nodify.node.140328528820800:node.py:get()- No need to evaluate\n",
      "INFO\tTask(Task-4) nodify.node.140328528345520:node.py:get()- No need to evaluate\n",
      "INFO\tTask(Task-4) nodify.node.140328546436208:node.py:get()- Evaluated because inputs changed.\n",
      "INFO\tTask(Task-4) nodify.node.140328528816096:node.py:get()- Evaluated because inputs changed.\n",
      "INFO\tTask(Task-4) nodify.node.140328546436784:node.py:get()- Evaluated because inputs changed.\n",
      "INFO\tTask(Task-4) nodify.node.140328528117536:node.py:get()- No need to evaluate\n",
      "INFO\tTask(Task-4) nodify.node.140328528820800:node.py:get()- No need to evaluate\n",
      "INFO\tTask(Task-4) nodify.node.140328528814368:node.py:get()- Evaluated because inputs changed.\n",
      "INFO\tTask(Task-4) nodify.node.140328528812304:node.py:get()- No need to evaluate\n",
      "INFO\tTask(Task-4) nodify.node.140328546437696:node.py:get()- Evaluated because inputs changed.\n",
      "INFO\tTask(Task-4) nodify.node.140328528114848:node.py:get()- No need to evaluate\n",
      "INFO\tTask(Task-4) nodify.node.140328528810768:node.py:get()- No need to evaluate\n",
      "INFO\tTask(Task-4) nodify.node.140328528819552:node.py:get()- No need to evaluate\n",
      "INFO\tTask(Task-4) nodify.node.140328528109376:node.py:get()- No need to evaluate\n",
      "INFO\tTask(Task-4) nodify.node.140328528806208:node.py:get()- No need to evaluate\n",
      "INFO\tTask(Task-4) nodify.node.140328528114848:node.py:get()- No need to evaluate\n",
      "INFO\tTask(Task-4) nodify.node.140328528809568:node.py:get()- No need to evaluate\n",
      "INFO\tTask(Task-4) nodify.node.140328528080976:node.py:get()- No need to evaluate\n",
      "INFO\tTask(Task-4) nodify.node.140328528818832:node.py:get()- No need to evaluate\n",
      "INFO\tTask(Task-4) nodify.node.140328528819120:node.py:get()- No need to evaluate\n",
      "INFO\tTask(Task-4) nodify.node.140328528809136:node.py:get()- No need to evaluate\n",
      "INFO\tTask(Task-4) nodify.node.140328528819264:node.py:get()- No need to evaluate\n",
      "INFO\tTask(Task-4) nodify.node.140328528108416:node.py:get()- No need to evaluate\n",
      "INFO\tTask(Task-4) nodify.node.140328528117536:node.py:get()- No need to evaluate\n",
      "INFO\tTask(Task-4) nodify.node.140328528820800:node.py:get()- No need to evaluate\n",
      "INFO\tTask(Task-4) nodify.node.140328528812304:node.py:get()- No need to evaluate\n",
      "INFO\tTask(Task-4) nodify.node.140328528108080:node.py:get()- No need to evaluate\n",
      "INFO\tTask(Task-4) nodify.node.140328528114848:node.py:get()- No need to evaluate\n",
      "INFO\tTask(Task-4) nodify.node.140328528810192:node.py:get()- Evaluated because inputs changed.\n",
      "INFO\tTask(Task-4) nodify.node.140328528114848:node.py:get()- No need to evaluate\n",
      "INFO\tTask(Task-4) nodify.node.140328528809568:node.py:get()- No need to evaluate\n",
      "INFO\tTask(Task-4) nodify.node.140328528080976:node.py:get()- No need to evaluate\n",
      "INFO\tTask(Task-4) nodify.node.140328528117536:node.py:get()- No need to evaluate\n",
      "INFO\tTask(Task-4) nodify.node.140328528820800:node.py:get()- No need to evaluate\n",
      "INFO\tTask(Task-4) nodify.node.140328528345520:node.py:get()- No need to evaluate\n",
      "INFO\tTask(Task-4) nodify.node.140328528117536:node.py:get()- No need to evaluate\n",
      "INFO\tTask(Task-4) nodify.node.140328528820800:node.py:get()- No need to evaluate\n",
      "INFO\tTask(Task-4) nodify.node.140328528110960:node.py:get()- Evaluated because inputs changed.\n",
      "INFO\tTask(Task-4) nodify.node.140328528809136:node.py:get()- No need to evaluate\n",
      "INFO\tTask(Task-4) nodify.node.140328528816192:node.py:get()- Evaluated because inputs changed.\n",
      "INFO\tTask(Task-4) nodify.node.140328592897328:node.py:get()- Evaluated because inputs changed.\n",
      "INFO\tTask(Task-4) nodify.node.140328546440048:node.py:get()- Evaluated because inputs changed.\n",
      "INFO\tTask(Task-4) nodify.node.140328546443984:node.py:get()- Evaluated because inputs changed.\n"
     ]
    },
    {
     "data": {
      "application/vnd.plotly.v1+json": {
       "config": {
        "plotlyServerURL": "https://plot.ly"
       },
       "data": [
        {
         "line": {
          "color": "gray",
          "width": 10
         },
         "meta": {},
         "mode": "lines",
         "name": "Bonds",
         "opacity": 1,
         "type": "scatter3d",
         "x": {
          "bdata": "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",
          "dtype": "f8"
         },
         "y": {
          "bdata": "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",
          "dtype": "f8"
         },
         "z": {
          "bdata": "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",
          "dtype": "f8"
         }
        },
        {
         "alphahull": 0,
         "color": "#3050F8",
         "hovertemplate": "%{meta.position}",
         "legendgroup": "Atoms",
         "meta": {
          "meta": {
           "Atoms_i": 0
          },
          "position": "(3.56, 3.57, 3.71)"
         },
         "name": "Atoms",
         "opacity": 1,
         "showlegend": true,
         "showscale": false,
         "type": "mesh3d",
         "x": {
          "bdata": "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",
          "dtype": "f8"
         },
         "y": {
          "bdata": "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",
          "dtype": "f8"
         },
         "z": {
          "bdata": "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",
          "dtype": "f8"
         }
        },
        {
         "alphahull": 0,
         "color": "#3050F8",
         "hovertemplate": "%{meta.position}",
         "legendgroup": "Atoms",
         "meta": {
          "meta": {
           "Atoms_i": 1
          },
          "position": "(3.56, 1.76, 1.76)"
         },
         "name": "Atoms",
         "opacity": 1,
         "showlegend": false,
         "showscale": false,
         "type": "mesh3d",
         "x": {
          "bdata": "rGIs/q9xDECsYiz+r3EMQKxiLP6vcQxArGIs/q9xDECsYiz+r3EMQKxiLP6vcQxArGIs/q9xDECsYiz+r3EMQKxiLP6vcQxArGIs/q9xDECsYiz+r3EMQKxiLP6vcQxArGIs/q9xDECsYiz+r3EMQKxiLP6vcQxA8siEbORwDUDT8LJ6nlcNQKi06xjOEA1ApFmR03mqDEC0a8co5jgMQLAQbeOR0gtAhdSlgcGLC0Bm/NOPe3ILQIXUpYHBiwtAsBBt45HSC0C0a8co5jgMQKRZkdN5qgxAqLTrGM4QDUDT8LJ6nlcNQPLIhGzkcA1Af/tk0ExjDkD0UNhaBTIOQM1ZrZ/xpw1A7rcdrGrgDEBqDTtQ9QIMQItrq1xuOwtAZHSAoVqxCkDZyfMrE4AKQGR0gKFasQpAi2urXG47C0BqDTtQ9QIMQO63Haxq4AxAzVmtn/GnDUD0UNhaBTIOQH/7ZNBMYw5AP+WRZcE8D0AUqcoD8fUOQMc512qGLw5AqLTrGM4QDUCwEG3jkdILQJKLgZHZswpARByO+G7tCUAZ4MaWnqYJQEQcjvhu7QlAkYuBkdmzCkCwEG3jkdILQKi06xjOEA1AxjnXaoYvDkAUqcoD8fUOQD/lkWXBPA9APD+Et1ryD0Cf8uVxjpkPQDamyQjAoA5AiwS88TY5DUDOwJwKKaoLQCIfj/OfQgpAudJyitFJCUAchtREBfEIQLnScorRSQlAIh+P859CCkDNwJwKKaoLQIoEvPE2OQ1ANqbJCMCgDkCf8uVxjpkPQDw/hLda8g9Am0SIzX49EEAaF9uqVAoQQBSpygPx9Q5A0/Cyep5XDUCF1KWBwYsLQEQcjvhu7QlAJZeiprbOCEAhPEhhYmgIQCWXoqa2zghARByO+G7tCUCF1KWBwYsLQNLwsnqeVw1AFKnKA/H1DkAaF9uqVAoQQJtEiM1+PRBA4HSzCehnEEA/yrqyijAQQF2d9MPTKg9AFa9IZ35qDUBDFhCV4XgLQPsnZDiMuAlA2jDjlkqCCECY2/HojxMIQNow45ZKgghA+idkOIy4CUBCFhCV4XgLQBWvSGd+ag1AXZ30w9MqD0A/yrqyijAQQOB0swnoZxBAlDvtokh2EECbRIjNfj0QQD/lkWXBPA9A8siEbORwDUBm/NOPe3ILQBngxpaepglAITxIYWJoCEAxTn62zvYHQCE8SGFiaAhAGeDGlp6mCUBm/NOPe3ILQPLIhGzkcA1AP+WRZcE8D0CbRIjNfj0QQJQ77aJIdhBA4HSzCehnEEA/yrqyijAQQF2d9MPTKg9AFa9IZ35qDUBDFhCV4XgLQPsnZDiMuAlA2jDjlkqCCECY2/HojxMIQNow45ZKgghA+idkOIy4CUBCFhCV4XgLQBWvSGd+ag1AXZ30w9MqD0A/yrqyijAQQOB0swnoZxBAm0SIzX49EEAaF9uqVAoQQBSpygPx9Q5A0/Cyep5XDUCF1KWBwYsLQEQcjvhu7QlAJZeiprbOCEAhPEhhYmgIQCWXoqa2zghARByO+G7tCUCF1KWBwYsLQNLwsnqeVw1AFKnKA/H1DkAaF9uqVAoQQJtEiM1+PRBAPD+Et1ryD0Cg8uVxjpkPQDamyQjAoA5AiwS88TY5DUDOwJwKKaoLQCIfj/OfQgpAudJyitFJCUAchtREBfEIQLjScorRSQlAIh+P859CCkDNwJwKKaoLQIoEvPE2OQ1ANqbJCMCgDkCf8uVxjpkPQDw/hLda8g9AP+WRZcE8D0AUqcoD8fUOQMc512qGLw5AqLTrGM4QDUCwEG3jkdILQJGLgZHZswpARByO+G7tCUAZ4MaWnqYJQEQcjvhu7QlAkYuBkdmzCkCwEG3jkdILQKi06xjOEA1AxjnXaoYvDkAUqcoD8fUOQD/lkWXBPA9Af/tk0ExjDkD0UNhaBTIOQM1ZrZ/xpw1A7rcdrGrgDEBqDTtQ9QIMQItrq1xuOwtAZHSAoVqxCkDZyfMrE4AKQGR0gKFasQpAi2urXG47C0BqDTtQ9QIMQO63Haxq4AxAzVmtn/GnDUD0UNhaBTIOQH/7ZNBMYw5A8siEbORwDUDT8LJ6nlcNQKi06xjOEA1ApFmR03mqDEC0a8co5jgMQLAQbeOR0gtAhdSlgcGLC0Bm/NOPe3ILQIXUpYHBiwtAsBBt45HSC0C0a8co5jgMQKRZkdN5qgxAqLTrGM4QDUDT8LJ6nlcNQPLIhGzkcA1ArGIs/q9xDECsYiz+r3EMQKxiLP6vcQxArGIs/q9xDECsYiz+r3EMQKxiLP6vcQxArGIs/q9xDECsYiz+r3EMQKxiLP6vcQxArGIs/q9xDECsYiz+r3EMQKxiLP6vcQxArGIs/q9xDECsYiz+r3EMQKxiLP6vcQxA",
          "dtype": "f8"
         },
         "y": {
          "bdata": "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",
          "dtype": "f8"
         },
         "z": {
          "bdata": "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",
          "dtype": "f8"
         }
        },
        {
         "alphahull": 0,
         "color": "#3050F8",
         "hovertemplate": "%{meta.position}",
         "legendgroup": "Atoms",
         "meta": {
          "meta": {
           "Atoms_i": 2
          },
          "position": "(1.77, 3.58, 1.77)"
         },
         "name": "Atoms",
         "opacity": 1,
         "showlegend": false,
         "showscale": false,
         "type": "mesh3d",
         "x": {
          "bdata": "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",
          "dtype": "f8"
         },
         "y": {
          "bdata": "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",
          "dtype": "f8"
         },
         "z": {
          "bdata": "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",
          "dtype": "f8"
         }
        },
        {
         "alphahull": 0,
         "color": "#3050F8",
         "hovertemplate": "%{meta.position}",
         "legendgroup": "Atoms",
         "meta": {
          "meta": {
           "Atoms_i": 3
          },
          "position": "(1.77, 1.76, 3.73)"
         },
         "name": "Atoms",
         "opacity": 1,
         "showlegend": false,
         "showscale": false,
         "type": "mesh3d",
         "x": {
          "bdata": "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",
          "dtype": "f8"
         },
         "y": {
          "bdata": "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",
          "dtype": "f8"
         },
         "z": {
          "bdata": "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",
          "dtype": "f8"
         }
        },
        {
         "alphahull": 0,
         "color": "#FFB5B5",
         "hovertemplate": "%{meta.position}",
         "legendgroup": "Atoms",
         "meta": {
          "meta": {
           "Atoms_i": 4
          },
          "position": "(0.88, 0.87, 0.87)"
         },
         "name": "Atoms",
         "opacity": 1,
         "showlegend": false,
         "showscale": false,
         "type": "mesh3d",
         "x": {
          "bdata": "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",
          "dtype": "f8"
         },
         "y": {
          "bdata": "fPuW4KTO6z98+5bgpM7rP3z7luCkzus/fPuW4KTO6z98+5bgpM7rP3z7luCkzus/fPuW4KTO6z98+5bgpM7rP3z7luCkzus/fPuW4KTO6z98+5bgpM7rP3z7luCkzus/fPuW4KTO6z98+5bgpM7rP3z7luCkzus/fPuW4KTO6z8pRBc+v37uP7E0pQlIU/A/BSJREmbs8D8FIlESZuzwP7E0pQlIU/A/KUQXPr9+7j98+5bgpM7rP8+yFoOKHuk/lo3jrbn25j/usoucfcTlP+6yi5x9xOU/lY3jrbn25j/PshaDih7pP3z7luCkzus/fPuW4KTO6z9rYAU/LIbwP5dRUkYnoPI/fYcSyrXK8z99hxLKtcrzP5dRUkYnoPI/a2AFPyyG8D98+5bgpM7rPyM2I0PxkOY/y1OJNPtc4j/+5wgt3gfgP/7nCC3eB+A/ylOJNPtc4j8iNiND8ZDmP3v7luCkzus/fPuW4KTO6z8IWWU4VavxP0/9atposPQ/QH2wTW9d9j9AfbBNb132P0/9atposPQ/CFllOFWr8T99+5bgpM7rP+lEY1CfRuQ/tfivGPB43D/y+JlL1sTVP/L4mUvWxNU/s/ivGPB43D/oRGNQn0bkP3v7luCkzus/fPuW4KTO6z+WUVJGJ6DyPypqzJiPafY/VlsZoIqD+D9WWxmgioP4PypqzJiPafY/l1FSRieg8j99+5bgpM7rP8xTiTT7XOI/TEUqH1WU1T80Ae0D0ljKPzQB7QPSWMo/SkUqH1WU1T/KU4k0+1ziP3r7luCkzus/fPuW4KTO6z/42KqrW1jzP5ahcHx8tfc/iljKFXIh+j+KWMoVciH6P5ahcHx8tfc/+diqq1tY8z99+5bgpM7rPwhF2GmS7OA/mGeZkKFk0D8oL8qsLNO6Pygvyqws07o/lmeZkKFk0D8GRdhpkuzgP3r7luCkzus/fPuW4KTO6z99hxLKtcrzP1ZbGaCKg/g/Aj7TbmQi+z8CPtNuZCL7P1ZbGaCKg/g/fYcSyrXK8z99+5bgpM7rPwDoCC3eB+A/OAHtA9JYyj9Ar3c4DoilP0CvdzgOiKU/NAHtA9JYyj/95wgt3gfgP3r7luCkzus/fPuW4KTO6z9Mxla0efHzPzM0Cudkyfg/4HyKRH95+z/gfIpEf3n7PzQ0Cudkyfg/TcZWtHnx8z99+5bgpM7rP8DUALGsdN8/TDpmzP8pyD8Apx8DZ0mVPwCnHwNnSZU/RDpmzP8pyD+71ACxrHTfP3r7luCkzus/fPuW4KTO6z99hxLKtcrzP1ZbGaCKg/g/Aj7TbmQi+z8CPtNuZCL7P1ZbGaCKg/g/fYcSyrXK8z99+5bgpM7rPwDoCC3eB+A/OAHtA9JYyj9Ar3c4DoilP0CvdzgOiKU/NAHtA9JYyj/95wgt3gfgP3r7luCkzus/fPuW4KTO6z/42KqrW1jzP5ahcHx8tfc/iljKFXIh+j+KWMoVciH6P5ahcHx8tfc/+diqq1tY8z99+5bgpM7rPwhF2GmS7OA/mGeZkKFk0D8oL8qsLNO6Pygvyqws07o/lmeZkKFk0D8GRdhpkuzgP3r7luCkzus/fPuW4KTO6z+XUVJGJ6DyPypqzJiPafY/VlsZoIqD+D9WWxmgioP4PypqzJiPafY/l1FSRieg8j99+5bgpM7rP8tTiTT7XOI/SkUqH1WU1T8wAe0D0ljKPzAB7QPSWMo/SEUqH1WU1T/JU4k0+1ziP3r7luCkzus/fPuW4KTO6z8IWWU4VavxP0/9atposPQ/QH2wTW9d9j9AfbBNb132P1D9atposPQ/CFllOFWr8T99+5bgpM7rP+hEY1CfRuQ/tPivGPB43D/w+JlL1sTVP/D4mUvWxNU/svivGPB43D/nRGNQn0bkP3v7luCkzus/fPuW4KTO6z9rYAU/LIbwP5dRUkYnoPI/fYcSyrXK8z99hxLKtcrzP5dRUkYnoPI/a2AFPyyG8D98+5bgpM7rPyI2I0PxkOY/ylOJNPtc4j/+5wgt3gfgP/7nCC3eB+A/ylOJNPtc4j8iNiND8ZDmP3v7luCkzus/fPuW4KTO6z8pRBc+v37uP7I0pQlIU/A/BiJREmbs8D8GIlESZuzwP7I0pQlIU/A/KkQXPr9+7j98+5bgpM7rP8+yFoOKHuk/lY3jrbn25j/tsoucfcTlP+2yi5x9xOU/lI3jrbn25j/OshaDih7pP3z7luCkzus/fPuW4KTO6z98+5bgpM7rP337luCkzus/ffuW4KTO6z99+5bgpM7rP337luCkzus/fPuW4KTO6z98+5bgpM7rP3z7luCkzus/e/uW4KTO6z97+5bgpM7rP3v7luCkzus/e/uW4KTO6z98+5bgpM7rP3z7luCkzus/",
          "dtype": "f8"
         },
         "z": {
          "bdata": "CgojwGDc+z8KCiPAYNz7PwoKI8Bg3Ps/CgojwGDc+z8KCiPAYNz7PwoKI8Bg3Ps/CgojwGDc+z8KCiPAYNz7PwoKI8Bg3Ps/CgojwGDc+z8KCiPAYNz7PwoKI8Bg3Ps/CgojwGDc+z8KCiPAYNz7PwoKI8Bg3Ps/QLepdQiD+z9At6l1CIP7P0C3qXUIg/s/QLepdQiD+z9At6l1CIP7P0C3qXUIg/s/QLepdQiD+z9At6l1CIP7P0C3qXUIg/s/QLepdQiD+z9At6l1CIP7P0C3qXUIg/s/QLepdQiD+z9At6l1CIP7P0C3qXUIg/s/u+bBf3p7+j+75sF/env6P7vmwX96e/o/u+bBf3p7+j+75sF/env6P7vmwX96e/o/u+bBf3p7+j+75sF/env6P7vmwX96e/o/u+bBf3p7+j+75sF/env6P7vmwX96e/o/u+bBf3p7+j+75sF/env6P7vmwX96e/o/lG4pGO7S+D+UbikY7tL4P5RuKRju0vg/lG4pGO7S+D+UbikY7tL4P5RuKRju0vg/lG4pGO7S+D+UbikY7tL4P5RuKRju0vg/lG4pGO7S+D+UbikY7tL4P5RuKRju0vg/lG4pGO7S+D+UbikY7tL4P5RuKRju0vg/sUSvIq2e9j+xRK8irZ72P7FEryKtnvY/sUSvIq2e9j+xRK8irZ72P7FEryKtnvY/sUSvIq2e9j+xRK8irZ72P7FEryKtnvY/sUSvIq2e9j+xRK8irZ72P7FEryKtnvY/sUSvIq2e9j+xRK8irZ72P7FEryKtnvY/rQB25QL78z+tAHblAvvzP60AduUC+/M/rQB25QL78z+tAHblAvvzP60AduUC+/M/rQB25QL78z+tAHblAvvzP60AduUC+/M/rQB25QL78z+tAHblAvvzP60AduUC+/M/rQB25QL78z+tAHblAvvzP60AduUC+/M/Cj+009AJ8T8KP7TT0AnxPwo/tNPQCfE/Cj+009AJ8T8KP7TT0AnxPwo/tNPQCfE/Cj+009AJ8T8KP7TT0AnxPwo/tNPQCfE/Cj+009AJ8T8KP7TT0AnxPwo/tNPQCfE/Cj+009AJ8T8KP7TT0AnxPwo/tNPQCfE/PXDVQrfh6z89cNVCt+HrPz1w1UK34es/PXDVQrfh6z89cNVCt+HrPz1w1UK34es/PXDVQrfh6z89cNVCt+HrPz1w1UK34es/PXDVQrfh6z89cNVCt+HrPz1w1UK34es/PXDVQrfh6z89cNVCt+HrPz1w1UK34es/Z2JC3syv5T9nYkLezK/lP2diQt7Mr+U/Z2JC3syv5T9nYkLezK/lP2diQt7Mr+U/Z2JC3syv5T9nYkLezK/lP2diQt7Mr+U/Z2JC3syv5T9nYkLezK/lP2diQt7Mr+U/Z2JC3syv5T9nYkLezK/lP2diQt7Mr+U/Qb59ddGa3z9Bvn110ZrfP0G+fXXRmt8/Qb59ddGa3z9Bvn110ZrfP0G+fXXRmt8/Qb59ddGa3z9Bvn110ZrfP0G+fXXRmt8/Qb59ddGa3z9Bvn110ZrfP0G+fXXRmt8/Qb59ddGa3z9Bvn110ZrfP0G+fXXRmt8/Mq6YgCgM1T8yrpiAKAzVPzKumIAoDNU/Mq6YgCgM1T8yrpiAKAzVPzKumIAoDNU/Mq6YgCgM1T8yrpiAKAzVPzKumIAoDNU/Mq6YgCgM1T8yrpiAKAzVPzKumIAoDNU/Mq6YgCgM1T8yrpiAKAzVPzKumIAoDNU/TA1gVUl2yD9MDWBVSXbIP0wNYFVJdsg/TA1gVUl2yD9MDWBVSXbIP0wNYFVJdsg/TA1gVUl2yD9MDWBVSXbIP0wNYFVJdsg/TA1gVUl2yD9MDWBVSXbIP0wNYFVJdsg/TA1gVUl2yD9MDWBVSXbIP0wNYFVJdsg/KJg4Mcxjtj8omDgxzGO2PyiYODHMY7Y/KJg4Mcxjtj8omDgxzGO2PyiYODHMY7Y/KJg4Mcxjtj8omDgxzGO2PyiYODHMY7Y/KJg4Mcxjtj8omDgxzGO2PyiYODHMY7Y/KJg4Mcxjtj8omDgxzGO2PyiYODHMY7Y/ID/uSrOrlz8gP+5Ks6uXPyA/7kqzq5c/ID/uSrOrlz8gP+5Ks6uXPyA/7kqzq5c/ID/uSrOrlz8gP+5Ks6uXPyA/7kqzq5c/ID/uSrOrlz8gP+5Ks6uXPyA/7kqzq5c/ID/uSrOrlz8gP+5Ks6uXPyA/7kqzq5c/AMyYyQpaVT8AzJjJClpVPwDMmMkKWlU/AMyYyQpaVT8AzJjJClpVPwDMmMkKWlU/AMyYyQpaVT8AzJjJClpVPwDMmMkKWlU/AMyYyQpaVT8AzJjJClpVPwDMmMkKWlU/AMyYyQpaVT8AzJjJClpVPwDMmMkKWlU/",
          "dtype": "f8"
         }
        },
        {
         "alphahull": 0,
         "color": "#FFB5B5",
         "hovertemplate": "%{meta.position}",
         "legendgroup": "Atoms",
         "meta": {
          "meta": {
           "Atoms_i": 5
          },
          "position": "(0.86, 2.66, 2.66)"
         },
         "name": "Atoms",
         "opacity": 1,
         "showlegend": false,
         "showscale": false,
         "type": "mesh3d",
         "x": {
          "bdata": "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",
          "dtype": "f8"
         },
         "y": {
          "bdata": "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",
          "dtype": "f8"
         },
         "z": {
          "bdata": "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",
          "dtype": "f8"
         }
        },
        {
         "alphahull": 0,
         "color": "#FFB5B5",
         "hovertemplate": "%{meta.position}",
         "legendgroup": "Atoms",
         "meta": {
          "meta": {
           "Atoms_i": 6
          },
          "position": "(2.66, 0.86, 2.66)"
         },
         "name": "Atoms",
         "opacity": 1,
         "showlegend": false,
         "showscale": false,
         "type": "mesh3d",
         "x": {
          "bdata": "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",
          "dtype": "f8"
         },
         "y": {
          "bdata": "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",
          "dtype": "f8"
         },
         "z": {
          "bdata": "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",
          "dtype": "f8"
         }
        },
        {
         "alphahull": 0,
         "color": "#FFB5B5",
         "hovertemplate": "%{meta.position}",
         "legendgroup": "Atoms",
         "meta": {
          "meta": {
           "Atoms_i": 7
          },
          "position": "(2.66, 2.66, 0.86)"
         },
         "name": "Atoms",
         "opacity": 1,
         "showlegend": false,
         "showscale": false,
         "type": "mesh3d",
         "x": {
          "bdata": "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",
          "dtype": "f8"
         },
         "y": {
          "bdata": "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",
          "dtype": "f8"
         },
         "z": {
          "bdata": "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",
          "dtype": "f8"
         }
        },
        {
         "meta": {},
         "mode": "lines",
         "name": "Unit cell",
         "type": "scatter3d",
         "x": {
          "bdata": "AAAAAAAAAAAAAAAAAAAAADxO0ZFcvgxAPE7RkVy+DEAAAAAAAAAAAAAAAAAAAAAAAAAAAAAA+H8AAAAAAAAAAAAAAAAAAAAAAAAAAAAAAAA8TtGRXL4MQDxO0ZFcvgxAAAAAAAAAAAAAAAAAAAD4fzxO0ZFcvgxAPE7RkVy+DEAAAAAAAAD4fzxO0ZFcvgxAPE7RkVy+DEA=",
          "dtype": "f8"
         },
         "y": {
          "bdata": "AAAAAAAAAABPr5RliOMMQE+vlGWI4wxAT6+UZYjjDEBPr5RliOMMQE+vlGWI4wxAAAAAAAAA+H9Pr5RliOMMQAAAAAAAAAAAAAAAAAAAAAAAAAAAAAAAAAAAAAAAAAAAAAAAAAAAAAAAAAAAAAD4f0+vlGWI4wxAAAAAAAAAAAAAAAAAAAD4f0+vlGWI4wxAAAAAAAAAAAA=",
          "dtype": "f8"
         },
         "z": {
          "bdata": "AAAAAAAAAAAAAAAAAAAAAAAAAAAAAAAAHXdKB+v/DUAdd0oH6/8NQAAAAAAAAAAAAAAAAAAA+H8dd0oH6/8NQB13Sgfr/w1AAAAAAAAAAAAAAAAAAAAAAB13Sgfr/w1AHXdKB+v/DUAAAAAAAAD4fwAAAAAAAAAAAAAAAAAAAAAAAAAAAAD4fx13Sgfr/w1AHXdKB+v/DUA=",
          "dtype": "f8"
         }
        }
       ],
       "layout": {
        "scene": {
         "aspectmode": "data",
         "xaxis": {
          "title": {
           "text": "X axis [Ang]"
          }
         },
         "yaxis": {
          "title": {
           "text": "Y axis [Ang]"
          }
         },
         "zaxis": {
          "title": {
           "text": "Z axis [Ang]"
          }
         }
        },
        "template": {
         "layout": {
          "hovermode": "closest",
          "paper_bgcolor": "white",
          "plot_bgcolor": "white",
          "scene": {
           "xaxis": {
            "color": "black",
            "gridcolor": "#ccc",
            "gridwidth": 1,
            "linewidth": 1,
            "mirror": true,
            "showgrid": false,
            "showline": true,
            "ticklen": 5,
            "ticks": "outside",
            "ticksuffix": " ",
            "visible": true,
            "zeroline": false,
            "zerolinecolor": "#ccc",
            "zerolinewidth": 1
           },
           "yaxis": {
            "color": "black",
            "gridcolor": "#ccc",
            "gridwidth": 1,
            "linewidth": 1,
            "mirror": true,
            "showgrid": false,
            "showline": true,
            "ticklen": 5,
            "ticks": "outside",
            "ticksuffix": " ",
            "visible": true,
            "zeroline": false,
            "zerolinecolor": "#ccc",
            "zerolinewidth": 1
           },
           "zaxis": {
            "color": "black",
            "gridcolor": "#ccc",
            "gridwidth": 1,
            "linewidth": 1,
            "mirror": true,
            "showgrid": false,
            "showline": true,
            "ticklen": 5,
            "ticks": "outside",
            "ticksuffix": " ",
            "visible": true,
            "zeroline": false,
            "zerolinecolor": "#ccc",
            "zerolinewidth": 1
           }
          },
          "xaxis": {
           "color": "black",
           "gridcolor": "#ccc",
           "gridwidth": 1,
           "linewidth": 1,
           "mirror": true,
           "showgrid": false,
           "showline": true,
           "ticklen": 5,
           "ticks": "outside",
           "ticksuffix": " ",
           "visible": true,
           "zeroline": false,
           "zerolinecolor": "#ccc",
           "zerolinewidth": 1
          },
          "yaxis": {
           "color": "black",
           "gridcolor": "#ccc",
           "gridwidth": 1,
           "linewidth": 1,
           "mirror": true,
           "showgrid": false,
           "showline": true,
           "ticklen": 5,
           "ticks": "outside",
           "ticksuffix": " ",
           "visible": true,
           "zeroline": false,
           "zerolinecolor": "#ccc",
           "zerolinewidth": 1
          }
         }
        },
        "xaxis": {
         "scaleanchor": "y",
         "scaleratio": 1,
         "title": {
          "text": "X axis [Ang]"
         }
        },
        "yaxis": {
         "title": {
          "text": "Y axis [Ang]"
         }
        }
       }
      }
     },
     "metadata": {},
     "output_type": "display_data"
    },
    {
     "data": {
      "text/plain": [
       "[None, None, None, None]"
      ]
     },
     "execution_count": 13,
     "metadata": {},
     "output_type": "execute_result"
    }
   ],
   "source": [
    "paths = [\n",
    "    \"../dataset/SHARE_OUTPUTS_8_ATOMS/d8ec-29f1-4d8d-a1b9-7496fa6135d1\", # No\n",
    "    \"../dataset/SHARE_OUTPUTS_8_ATOMS/bca3-f473-4c5e-8407-cbdc2d7c68a1\",\n",
    "    \"../dataset/SHARE_OUTPUTS_8_ATOMS/848a-19bd-414b-9ef2-40f39b1e2027\",\n",
    "    \"../dataset/SHARE_OUTPUTS_8_ATOMS/7651-acf9-490f-81d6-a8a9d1c2de76\",\n",
    "]\n",
    "paths = [Path(path) for path in paths]\n",
    "files = [sisl.get_sile(path / \"aiida.fdf\") for path in paths]\n",
    "[file.plot.geometry(axes=\"xyz\").show() for file in files]"
   ]
  },
  {
   "cell_type": "code",
   "execution_count": null,
   "id": "48d41e39",
   "metadata": {},
   "outputs": [
    {
     "name": "stderr",
     "output_type": "stream",
     "text": [
      "INFO\tTask(Task-2) nodify.node.140418141863184:node.py:get()- Evaluated because inputs changed.\n",
      "INFO\tTask(Task-2) nodify.node.140418142859152:node.py:get()- Evaluated because inputs changed.\n",
      "INFO\tTask(Task-2) nodify.node.140418141906192:node.py:get()- Evaluated because inputs changed.\n",
      "INFO\tTask(Task-2) nodify.node.140418142855792:node.py:get()- Evaluated because inputs changed.\n",
      "INFO\tTask(Task-2) nodify.node.140418142850272:node.py:get()- Evaluated because inputs changed.\n",
      "INFO\tTask(Task-2) nodify.node.140418256693024:node.py:get()- Evaluated because inputs changed.\n",
      "INFO\tTask(Task-2) nodify.node.140418142859152:node.py:get()- No need to evaluate\n",
      "INFO\tTask(Task-2) nodify.node.140418141906192:node.py:get()- No need to evaluate\n",
      "INFO\tTask(Task-2) nodify.node.140418142855792:node.py:get()- No need to evaluate\n",
      "INFO\tTask(Task-2) nodify.node.140418142850272:node.py:get()- No need to evaluate\n",
      "INFO\tTask(Task-2) nodify.node.140418256693024:node.py:get()- No need to evaluate\n",
      "INFO\tTask(Task-2) nodify.node.140418142859152:node.py:get()- No need to evaluate\n",
      "INFO\tTask(Task-2) nodify.node.140418142863136:node.py:get()- Evaluated because inputs changed.\n",
      "INFO\tTask(Task-2) nodify.node.140418142850752:node.py:get()- Evaluated because inputs changed.\n",
      "INFO\tTask(Task-2) nodify.node.140418142857040:node.py:get()- Evaluated because inputs changed.\n",
      "INFO\tTask(Task-2) nodify.node.140418142855936:node.py:get()- Evaluated because inputs changed.\n",
      "INFO\tTask(Task-2) nodify.node.140418141857376:node.py:get()- Evaluated because inputs changed.\n",
      "INFO\tTask(Task-2) nodify.node.140418144270144:node.py:get()- Evaluated because inputs changed.\n",
      "INFO\tTask(Task-2) nodify.node.140418142740288:node.py:get()- Evaluated because inputs changed.\n",
      "INFO\tTask(Task-2) nodify.node.140418141848064:node.py:get()- Evaluated because inputs changed.\n",
      "INFO\tTask(Task-2) nodify.node.140418141905040:node.py:get()- Evaluated because inputs changed.\n",
      "INFO\tTask(Task-2) nodify.node.140418142858864:node.py:get()- Evaluated because inputs changed.\n",
      "INFO\tTask(Task-2) nodify.node.140418141904848:node.py:get()- Evaluated because inputs changed.\n",
      "INFO\tTask(Task-2) nodify.node.140418141853440:node.py:get()- Evaluated because inputs changed.\n",
      "INFO\tTask(Task-2) nodify.node.140418141904656:node.py:get()- Evaluated because inputs changed.\n",
      "INFO\tTask(Task-2) nodify.node.140418142855936:node.py:get()- No need to evaluate\n",
      "INFO\tTask(Task-2) nodify.node.140418141857376:node.py:get()- No need to evaluate\n",
      "INFO\tTask(Task-2) nodify.node.140418142707232:node.py:get()- Evaluated because inputs changed.\n",
      "INFO\tTask(Task-2) nodify.node.140418142859200:node.py:get()- Evaluated because inputs changed.\n"
     ]
    },
    {
     "name": "stderr",
     "output_type": "stream",
     "text": [
      "INFO\tTask(Task-2) nodify.node.140418142707184:node.py:get()- Evaluated because inputs changed.\n",
      "INFO\tTask(Task-2) nodify.node.140418142862416:node.py:get()- Evaluated because inputs changed.\n",
      "INFO\tTask(Task-2) nodify.node.140418142855936:node.py:get()- No need to evaluate\n",
      "INFO\tTask(Task-2) nodify.node.140418141857376:node.py:get()- No need to evaluate\n",
      "INFO\tTask(Task-2) nodify.node.140418144270144:node.py:get()- No need to evaluate\n",
      "INFO\tTask(Task-2) nodify.node.140418141852624:node.py:get()- Evaluated because inputs changed.\n",
      "INFO\tTask(Task-2) nodify.node.140418144270672:node.py:get()- Evaluated because inputs changed.\n",
      "INFO\tTask(Task-2) nodify.node.140418142736208:node.py:get()- Evaluated because inputs changed.\n",
      "INFO\tTask(Task-2) nodify.node.140418142855936:node.py:get()- No need to evaluate\n",
      "INFO\tTask(Task-2) nodify.node.140418141857376:node.py:get()- No need to evaluate\n",
      "INFO\tTask(Task-2) nodify.node.140418144270144:node.py:get()- No need to evaluate\n",
      "INFO\tTask(Task-2) nodify.node.140418142707040:node.py:get()- Evaluated because inputs changed.\n",
      "INFO\tTask(Task-2) nodify.node.140418141851952:node.py:get()- Evaluated because inputs changed.\n",
      "INFO\tTask(Task-2) nodify.node.140418275719216:node.py:get()- Evaluated because inputs changed.\n",
      "INFO\tTask(Task-2) nodify.node.140418142859152:node.py:get()- No need to evaluate\n",
      "INFO\tTask(Task-2) nodify.node.140418142852816:node.py:get()- Evaluated because inputs changed.\n",
      "INFO\tTask(Task-2) nodify.node.140418142786560:node.py:get()- Evaluated because inputs changed.\n",
      "INFO\tTask(Task-2) nodify.node.140418141912192:node.py:get()- Evaluated because inputs changed.\n",
      "INFO\tTask(Task-2) nodify.node.140418141899232:node.py:get()- Evaluated because inputs changed.\n",
      "INFO\tTask(Task-2) nodify.node.140418258143040:node.py:get()- Evaluated because inputs changed.\n",
      "INFO\tTask(Task-2) nodify.node.140418256717680:node.py:get()- Evaluated because inputs changed.\n",
      "INFO\tTask(Task-2) nodify.node.140418141863808:node.py:get()- Evaluated because inputs changed.\n",
      "INFO\tTask(Task-2) nodify.node.140418142859152:node.py:get()- No need to evaluate\n",
      "INFO\tTask(Task-2) nodify.node.140418142863136:node.py:get()- No need to evaluate\n",
      "INFO\tTask(Task-2) nodify.node.140418142850752:node.py:get()- No need to evaluate\n",
      "INFO\tTask(Task-2) nodify.node.140418142862800:node.py:get()- Evaluated because inputs changed.\n",
      "INFO\tTask(Task-2) nodify.node.140418144271200:node.py:get()- Evaluated because inputs changed.\n",
      "INFO\tTask(Task-2) nodify.node.140418141853440:node.py:get()- No need to evaluate\n",
      "INFO\tTask(Task-2) nodify.node.140418141852192:node.py:get()- Evaluated because inputs changed.\n",
      "INFO\tTask(Task-2) nodify.node.140418142750480:node.py:get()- Evaluated because inputs changed.\n",
      "INFO\tTask(Task-2) nodify.node.140418142855936:node.py:get()- No need to evaluate\n",
      "INFO\tTask(Task-2) nodify.node.140418141857376:node.py:get()- No need to evaluate\n",
      "INFO\tTask(Task-2) nodify.node.140418141854400:node.py:get()- Evaluated because inputs changed.\n",
      "INFO\tTask(Task-2) nodify.node.140418141857136:node.py:get()- Evaluated because inputs changed.\n",
      "INFO\tTask(Task-2) nodify.node.140418142859392:node.py:get()- Evaluated because inputs changed.\n",
      "INFO\tTask(Task-2) nodify.node.140418142855936:node.py:get()- No need to evaluate\n",
      "INFO\tTask(Task-2) nodify.node.140418141857376:node.py:get()- No need to evaluate\n",
      "INFO\tTask(Task-2) nodify.node.140418144270144:node.py:get()- No need to evaluate\n",
      "INFO\tTask(Task-2) nodify.node.140418141859344:node.py:get()- Evaluated because inputs changed.\n",
      "INFO\tTask(Task-2) nodify.node.140418141857952:node.py:get()- Evaluated because inputs changed.\n",
      "INFO\tTask(Task-2) nodify.node.140418142760752:node.py:get()- Evaluated because inputs changed.\n",
      "INFO\tTask(Task-2) nodify.node.140418142855936:node.py:get()- No need to evaluate\n",
      "INFO\tTask(Task-2) nodify.node.140418141857376:node.py:get()- No need to evaluate\n",
      "INFO\tTask(Task-2) nodify.node.140418144270144:node.py:get()- No need to evaluate\n",
      "INFO\tTask(Task-2) nodify.node.140418142707040:node.py:get()- No need to evaluate\n",
      "INFO\tTask(Task-2) nodify.node.140418142860592:node.py:get()- Evaluated because inputs changed.\n",
      "INFO\tTask(Task-2) nodify.node.140418142856848:node.py:get()- Evaluated because inputs changed.\n",
      "INFO\tTask(Task-2) nodify.node.140418142855936:node.py:get()- No need to evaluate\n",
      "INFO\tTask(Task-2) nodify.node.140418141857376:node.py:get()- No need to evaluate\n",
      "INFO\tTask(Task-2) nodify.node.140418144270144:node.py:get()- No need to evaluate\n",
      "INFO\tTask(Task-2) nodify.node.140418142860832:node.py:get()- Evaluated because inputs changed.\n",
      "INFO\tTask(Task-2) nodify.node.140418141856896:node.py:get()- Evaluated because inputs changed.\n",
      "INFO\tTask(Task-2) nodify.node.140418142859152:node.py:get()- No need to evaluate\n",
      "INFO\tTask(Task-2) nodify.node.140418142855936:node.py:get()- No need to evaluate\n",
      "INFO\tTask(Task-2) nodify.node.140418141857376:node.py:get()- No need to evaluate\n",
      "INFO\tTask(Task-2) nodify.node.140418144270144:node.py:get()- No need to evaluate\n",
      "INFO\tTask(Task-2) nodify.node.140418141900240:node.py:get()- Evaluated because inputs changed.\n",
      "INFO\tTask(Task-2) nodify.node.140418141847968:node.py:get()- Evaluated because inputs changed.\n",
      "INFO\tTask(Task-2) nodify.node.140418141900048:node.py:get()- Evaluated because inputs changed.\n",
      "INFO\tTask(Task-2) nodify.node.140418142855936:node.py:get()- No need to evaluate\n",
      "INFO\tTask(Task-2) nodify.node.140418141857376:node.py:get()- No need to evaluate\n",
      "INFO\tTask(Task-2) nodify.node.140418141858336:node.py:get()- Evaluated because inputs changed.\n",
      "INFO\tTask(Task-2) nodify.node.140418141854400:node.py:get()- No need to evaluate\n",
      "INFO\tTask(Task-2) nodify.node.140418142733760:node.py:get()- Evaluated because inputs changed.\n",
      "INFO\tTask(Task-2) nodify.node.140418142859152:node.py:get()- No need to evaluate\n",
      "INFO\tTask(Task-2) nodify.node.140418142852816:node.py:get()- No need to evaluate\n",
      "INFO\tTask(Task-2) nodify.node.140418258143040:node.py:get()- No need to evaluate\n",
      "INFO\tTask(Task-2) nodify.node.140418256717680:node.py:get()- No need to evaluate\n",
      "INFO\tTask(Task-2) nodify.node.140418141863808:node.py:get()- No need to evaluate\n",
      "INFO\tTask(Task-2) nodify.node.140418142859152:node.py:get()- No need to evaluate\n",
      "INFO\tTask(Task-2) nodify.node.140418142863136:node.py:get()- No need to evaluate\n",
      "INFO\tTask(Task-2) nodify.node.140418142850752:node.py:get()- No need to evaluate\n",
      "INFO\tTask(Task-2) nodify.node.140418142862800:node.py:get()- No need to evaluate\n",
      "INFO\tTask(Task-2) nodify.node.140418144271200:node.py:get()- No need to evaluate\n",
      "INFO\tTask(Task-2) nodify.node.140418141853440:node.py:get()- No need to evaluate\n",
      "INFO\tTask(Task-2) nodify.node.140418141852192:node.py:get()- No need to evaluate\n",
      "INFO\tTask(Task-2) nodify.node.140418142750480:node.py:get()- No need to evaluate\n",
      "INFO\tTask(Task-2) nodify.node.140418142855936:node.py:get()- No need to evaluate\n",
      "INFO\tTask(Task-2) nodify.node.140418141857376:node.py:get()- No need to evaluate\n",
      "INFO\tTask(Task-2) nodify.node.140418141854400:node.py:get()- No need to evaluate\n",
      "INFO\tTask(Task-2) nodify.node.140418141857136:node.py:get()- No need to evaluate\n",
      "INFO\tTask(Task-2) nodify.node.140418142859152:node.py:get()- No need to evaluate\n",
      "INFO\tTask(Task-2) nodify.node.140418141854064:node.py:get()- Evaluated because inputs changed.\n",
      "INFO\tTask(Task-2) nodify.node.140418142859152:node.py:get()- No need to evaluate\n",
      "INFO\tTask(Task-2) nodify.node.140418142863136:node.py:get()- No need to evaluate\n",
      "INFO\tTask(Task-2) nodify.node.140418142850752:node.py:get()- No need to evaluate\n",
      "INFO\tTask(Task-2) nodify.node.140418142855936:node.py:get()- No need to evaluate\n",
      "INFO\tTask(Task-2) nodify.node.140418141857376:node.py:get()- No need to evaluate\n",
      "INFO\tTask(Task-2) nodify.node.140418144270144:node.py:get()- No need to evaluate\n",
      "INFO\tTask(Task-2) nodify.node.140418142855936:node.py:get()- No need to evaluate\n",
      "INFO\tTask(Task-2) nodify.node.140418141857376:node.py:get()- No need to evaluate\n",
      "INFO\tTask(Task-2) nodify.node.140418146869440:node.py:get()- Evaluated because inputs changed.\n",
      "INFO\tTask(Task-2) nodify.node.140418141853440:node.py:get()- No need to evaluate\n",
      "INFO\tTask(Task-2) nodify.node.140418142739808:node.py:get()- Evaluated because inputs changed.\n",
      "INFO\tTask(Task-2) nodify.node.140418142861984:node.py:get()- Evaluated because inputs changed.\n",
      "INFO\tTask(Task-2) nodify.node.140418142772288:node.py:get()- Evaluated because inputs changed.\n",
      "INFO\tTask(Task-2) nodify.node.140418141898416:node.py:get()- Evaluated because inputs changed.\n"
     ]
    },
    {
     "ename": "ValueError",
     "evalue": "Mime type rendering requires nbformat>=4.2.0 but it is not installed",
     "output_type": "error",
     "traceback": [
      "\u001b[31m---------------------------------------------------------------------------\u001b[39m",
      "\u001b[31mValueError\u001b[39m                                Traceback (most recent call last)",
      "\u001b[36mFile \u001b[39m\u001b[32m~/miniconda3/envs/g2m_upd/lib/python3.12/site-packages/IPython/core/formatters.py:984\u001b[39m, in \u001b[36mIPythonDisplayFormatter.__call__\u001b[39m\u001b[34m(self, obj)\u001b[39m\n\u001b[32m    982\u001b[39m method = get_real_method(obj, \u001b[38;5;28mself\u001b[39m.print_method)\n\u001b[32m    983\u001b[39m \u001b[38;5;28;01mif\u001b[39;00m method \u001b[38;5;129;01mis\u001b[39;00m \u001b[38;5;129;01mnot\u001b[39;00m \u001b[38;5;28;01mNone\u001b[39;00m:\n\u001b[32m--> \u001b[39m\u001b[32m984\u001b[39m     \u001b[43mmethod\u001b[49m\u001b[43m(\u001b[49m\u001b[43m)\u001b[49m\n\u001b[32m    985\u001b[39m     \u001b[38;5;28;01mreturn\u001b[39;00m \u001b[38;5;28;01mTrue\u001b[39;00m\n",
      "\u001b[36mFile \u001b[39m\u001b[32m~/miniconda3/envs/g2m_upd/lib/python3.12/site-packages/plotly/basedatatypes.py:850\u001b[39m, in \u001b[36mBaseFigure._ipython_display_\u001b[39m\u001b[34m(self)\u001b[39m\n\u001b[32m    847\u001b[39m \u001b[38;5;28;01mimport\u001b[39;00m\u001b[38;5;250m \u001b[39m\u001b[34;01mplotly\u001b[39;00m\u001b[34;01m.\u001b[39;00m\u001b[34;01mio\u001b[39;00m\u001b[38;5;250m \u001b[39m\u001b[38;5;28;01mas\u001b[39;00m\u001b[38;5;250m \u001b[39m\u001b[34;01mpio\u001b[39;00m\n\u001b[32m    849\u001b[39m \u001b[38;5;28;01mif\u001b[39;00m pio.renderers.render_on_display \u001b[38;5;129;01mand\u001b[39;00m pio.renderers.default:\n\u001b[32m--> \u001b[39m\u001b[32m850\u001b[39m     \u001b[43mpio\u001b[49m\u001b[43m.\u001b[49m\u001b[43mshow\u001b[49m\u001b[43m(\u001b[49m\u001b[38;5;28;43mself\u001b[39;49m\u001b[43m)\u001b[49m\n\u001b[32m    851\u001b[39m \u001b[38;5;28;01melse\u001b[39;00m:\n\u001b[32m    852\u001b[39m     \u001b[38;5;28mprint\u001b[39m(\u001b[38;5;28mrepr\u001b[39m(\u001b[38;5;28mself\u001b[39m))\n",
      "\u001b[36mFile \u001b[39m\u001b[32m~/miniconda3/envs/g2m_upd/lib/python3.12/site-packages/plotly/io/_renderers.py:415\u001b[39m, in \u001b[36mshow\u001b[39m\u001b[34m(fig, renderer, validate, **kwargs)\u001b[39m\n\u001b[32m    410\u001b[39m     \u001b[38;5;28;01mraise\u001b[39;00m \u001b[38;5;167;01mValueError\u001b[39;00m(\n\u001b[32m    411\u001b[39m         \u001b[33m\"\u001b[39m\u001b[33mMime type rendering requires ipython but it is not installed\u001b[39m\u001b[33m\"\u001b[39m\n\u001b[32m    412\u001b[39m     )\n\u001b[32m    414\u001b[39m \u001b[38;5;28;01mif\u001b[39;00m \u001b[38;5;129;01mnot\u001b[39;00m nbformat \u001b[38;5;129;01mor\u001b[39;00m Version(nbformat.__version__) < Version(\u001b[33m\"\u001b[39m\u001b[33m4.2.0\u001b[39m\u001b[33m\"\u001b[39m):\n\u001b[32m--> \u001b[39m\u001b[32m415\u001b[39m     \u001b[38;5;28;01mraise\u001b[39;00m \u001b[38;5;167;01mValueError\u001b[39;00m(\n\u001b[32m    416\u001b[39m         \u001b[33m\"\u001b[39m\u001b[33mMime type rendering requires nbformat>=4.2.0 but it is not installed\u001b[39m\u001b[33m\"\u001b[39m\n\u001b[32m    417\u001b[39m     )\n\u001b[32m    419\u001b[39m display_jupyter_version_warnings()\n\u001b[32m    421\u001b[39m ipython_display.display(bundle, raw=\u001b[38;5;28;01mTrue\u001b[39;00m)\n",
      "\u001b[31mValueError\u001b[39m: Mime type rendering requires nbformat>=4.2.0 but it is not installed"
     ]
    },
    {
     "name": "stderr",
     "output_type": "stream",
     "text": [
      "INFO\tTask(Task-2) nodify.node.140418141863184:node.py:get()- No need to evaluate\n",
      "INFO\tTask(Task-2) nodify.node.140418142859152:node.py:get()- No need to evaluate\n",
      "INFO\tTask(Task-2) nodify.node.140418141906192:node.py:get()- No need to evaluate\n",
      "INFO\tTask(Task-2) nodify.node.140418142855792:node.py:get()- No need to evaluate\n",
      "INFO\tTask(Task-2) nodify.node.140418142850272:node.py:get()- No need to evaluate\n",
      "INFO\tTask(Task-2) nodify.node.140418256693024:node.py:get()- No need to evaluate\n",
      "INFO\tTask(Task-2) nodify.node.140418142859152:node.py:get()- No need to evaluate\n",
      "INFO\tTask(Task-2) nodify.node.140418141906192:node.py:get()- No need to evaluate\n",
      "INFO\tTask(Task-2) nodify.node.140418142855792:node.py:get()- No need to evaluate\n",
      "INFO\tTask(Task-2) nodify.node.140418142850272:node.py:get()- No need to evaluate\n",
      "INFO\tTask(Task-2) nodify.node.140418256693024:node.py:get()- No need to evaluate\n",
      "INFO\tTask(Task-2) nodify.node.140418142859152:node.py:get()- No need to evaluate\n",
      "INFO\tTask(Task-2) nodify.node.140418142863136:node.py:get()- No need to evaluate\n",
      "INFO\tTask(Task-2) nodify.node.140418142850752:node.py:get()- No need to evaluate\n",
      "INFO\tTask(Task-2) nodify.node.140418142857040:node.py:get()- No need to evaluate\n",
      "INFO\tTask(Task-2) nodify.node.140418142855936:node.py:get()- No need to evaluate\n",
      "INFO\tTask(Task-2) nodify.node.140418141857376:node.py:get()- No need to evaluate\n",
      "INFO\tTask(Task-2) nodify.node.140418144270144:node.py:get()- No need to evaluate\n",
      "INFO\tTask(Task-2) nodify.node.140418142740288:node.py:get()- No need to evaluate\n",
      "INFO\tTask(Task-2) nodify.node.140418141848064:node.py:get()- No need to evaluate\n",
      "INFO\tTask(Task-2) nodify.node.140418141905040:node.py:get()- No need to evaluate\n",
      "INFO\tTask(Task-2) nodify.node.140418142858864:node.py:get()- No need to evaluate\n",
      "INFO\tTask(Task-2) nodify.node.140418141904848:node.py:get()- No need to evaluate\n",
      "INFO\tTask(Task-2) nodify.node.140418141853440:node.py:get()- No need to evaluate\n",
      "INFO\tTask(Task-2) nodify.node.140418141904656:node.py:get()- No need to evaluate\n",
      "INFO\tTask(Task-2) nodify.node.140418142855936:node.py:get()- No need to evaluate\n",
      "INFO\tTask(Task-2) nodify.node.140418141857376:node.py:get()- No need to evaluate\n",
      "INFO\tTask(Task-2) nodify.node.140418142707232:node.py:get()- No need to evaluate\n",
      "INFO\tTask(Task-2) nodify.node.140418142859200:node.py:get()- No need to evaluate\n",
      "INFO\tTask(Task-2) nodify.node.140418142707184:node.py:get()- No need to evaluate\n",
      "INFO\tTask(Task-2) nodify.node.140418142862416:node.py:get()- No need to evaluate\n",
      "INFO\tTask(Task-2) nodify.node.140418142855936:node.py:get()- No need to evaluate\n",
      "INFO\tTask(Task-2) nodify.node.140418141857376:node.py:get()- No need to evaluate\n",
      "INFO\tTask(Task-2) nodify.node.140418144270144:node.py:get()- No need to evaluate\n",
      "INFO\tTask(Task-2) nodify.node.140418141852624:node.py:get()- No need to evaluate\n",
      "INFO\tTask(Task-2) nodify.node.140418144270672:node.py:get()- No need to evaluate\n",
      "INFO\tTask(Task-2) nodify.node.140418142736208:node.py:get()- No need to evaluate\n",
      "INFO\tTask(Task-2) nodify.node.140418142855936:node.py:get()- No need to evaluate\n",
      "INFO\tTask(Task-2) nodify.node.140418141857376:node.py:get()- No need to evaluate\n",
      "INFO\tTask(Task-2) nodify.node.140418144270144:node.py:get()- No need to evaluate\n",
      "INFO\tTask(Task-2) nodify.node.140418142707040:node.py:get()- No need to evaluate\n",
      "INFO\tTask(Task-2) nodify.node.140418141851952:node.py:get()- No need to evaluate\n",
      "INFO\tTask(Task-2) nodify.node.140418275719216:node.py:get()- No need to evaluate\n",
      "INFO\tTask(Task-2) nodify.node.140418142859152:node.py:get()- No need to evaluate\n",
      "INFO\tTask(Task-2) nodify.node.140418142852816:node.py:get()- No need to evaluate\n",
      "INFO\tTask(Task-2) nodify.node.140418258143040:node.py:get()- No need to evaluate\n",
      "INFO\tTask(Task-2) nodify.node.140418256717680:node.py:get()- No need to evaluate\n",
      "INFO\tTask(Task-2) nodify.node.140418141863808:node.py:get()- No need to evaluate\n",
      "INFO\tTask(Task-2) nodify.node.140418142859152:node.py:get()- No need to evaluate\n",
      "INFO\tTask(Task-2) nodify.node.140418142863136:node.py:get()- No need to evaluate\n",
      "INFO\tTask(Task-2) nodify.node.140418142850752:node.py:get()- No need to evaluate\n",
      "INFO\tTask(Task-2) nodify.node.140418142862800:node.py:get()- No need to evaluate\n",
      "INFO\tTask(Task-2) nodify.node.140418144271200:node.py:get()- No need to evaluate\n",
      "INFO\tTask(Task-2) nodify.node.140418141853440:node.py:get()- No need to evaluate\n",
      "INFO\tTask(Task-2) nodify.node.140418141852192:node.py:get()- No need to evaluate\n",
      "INFO\tTask(Task-2) nodify.node.140418142750480:node.py:get()- No need to evaluate\n",
      "INFO\tTask(Task-2) nodify.node.140418142855936:node.py:get()- No need to evaluate\n",
      "INFO\tTask(Task-2) nodify.node.140418141857376:node.py:get()- No need to evaluate\n",
      "INFO\tTask(Task-2) nodify.node.140418141854400:node.py:get()- No need to evaluate\n",
      "INFO\tTask(Task-2) nodify.node.140418141857136:node.py:get()- No need to evaluate\n",
      "INFO\tTask(Task-2) nodify.node.140418142859392:node.py:get()- No need to evaluate\n",
      "INFO\tTask(Task-2) nodify.node.140418142855936:node.py:get()- No need to evaluate\n",
      "INFO\tTask(Task-2) nodify.node.140418141857376:node.py:get()- No need to evaluate\n",
      "INFO\tTask(Task-2) nodify.node.140418144270144:node.py:get()- No need to evaluate\n",
      "INFO\tTask(Task-2) nodify.node.140418141859344:node.py:get()- No need to evaluate\n",
      "INFO\tTask(Task-2) nodify.node.140418141857952:node.py:get()- No need to evaluate\n",
      "INFO\tTask(Task-2) nodify.node.140418142760752:node.py:get()- No need to evaluate\n",
      "INFO\tTask(Task-2) nodify.node.140418142855936:node.py:get()- No need to evaluate\n",
      "INFO\tTask(Task-2) nodify.node.140418141857376:node.py:get()- No need to evaluate\n",
      "INFO\tTask(Task-2) nodify.node.140418144270144:node.py:get()- No need to evaluate\n",
      "INFO\tTask(Task-2) nodify.node.140418142707040:node.py:get()- No need to evaluate\n",
      "INFO\tTask(Task-2) nodify.node.140418142860592:node.py:get()- No need to evaluate\n",
      "INFO\tTask(Task-2) nodify.node.140418142856848:node.py:get()- No need to evaluate\n",
      "INFO\tTask(Task-2) nodify.node.140418142855936:node.py:get()- No need to evaluate\n",
      "INFO\tTask(Task-2) nodify.node.140418141857376:node.py:get()- No need to evaluate\n",
      "INFO\tTask(Task-2) nodify.node.140418144270144:node.py:get()- No need to evaluate\n",
      "INFO\tTask(Task-2) nodify.node.140418142860832:node.py:get()- No need to evaluate\n",
      "INFO\tTask(Task-2) nodify.node.140418141856896:node.py:get()- No need to evaluate\n",
      "INFO\tTask(Task-2) nodify.node.140418142859152:node.py:get()- No need to evaluate\n",
      "INFO\tTask(Task-2) nodify.node.140418142855936:node.py:get()- No need to evaluate\n",
      "INFO\tTask(Task-2) nodify.node.140418141857376:node.py:get()- No need to evaluate\n",
      "INFO\tTask(Task-2) nodify.node.140418144270144:node.py:get()- No need to evaluate\n",
      "INFO\tTask(Task-2) nodify.node.140418141900240:node.py:get()- No need to evaluate\n",
      "INFO\tTask(Task-2) nodify.node.140418141847968:node.py:get()- No need to evaluate\n",
      "INFO\tTask(Task-2) nodify.node.140418141900048:node.py:get()- No need to evaluate\n",
      "INFO\tTask(Task-2) nodify.node.140418142855936:node.py:get()- No need to evaluate\n",
      "INFO\tTask(Task-2) nodify.node.140418141857376:node.py:get()- No need to evaluate\n",
      "INFO\tTask(Task-2) nodify.node.140418141858336:node.py:get()- No need to evaluate\n",
      "INFO\tTask(Task-2) nodify.node.140418141854400:node.py:get()- No need to evaluate\n",
      "INFO\tTask(Task-2) nodify.node.140418142733760:node.py:get()- No need to evaluate\n",
      "INFO\tTask(Task-2) nodify.node.140418142859152:node.py:get()- No need to evaluate\n",
      "INFO\tTask(Task-2) nodify.node.140418142852816:node.py:get()- No need to evaluate\n",
      "INFO\tTask(Task-2) nodify.node.140418258143040:node.py:get()- No need to evaluate\n",
      "INFO\tTask(Task-2) nodify.node.140418256717680:node.py:get()- No need to evaluate\n",
      "INFO\tTask(Task-2) nodify.node.140418141863808:node.py:get()- No need to evaluate\n",
      "INFO\tTask(Task-2) nodify.node.140418142859152:node.py:get()- No need to evaluate\n",
      "INFO\tTask(Task-2) nodify.node.140418142863136:node.py:get()- No need to evaluate\n",
      "INFO\tTask(Task-2) nodify.node.140418142850752:node.py:get()- No need to evaluate\n",
      "INFO\tTask(Task-2) nodify.node.140418142862800:node.py:get()- No need to evaluate\n",
      "INFO\tTask(Task-2) nodify.node.140418144271200:node.py:get()- No need to evaluate\n",
      "INFO\tTask(Task-2) nodify.node.140418141853440:node.py:get()- No need to evaluate\n",
      "INFO\tTask(Task-2) nodify.node.140418141852192:node.py:get()- No need to evaluate\n",
      "INFO\tTask(Task-2) nodify.node.140418142750480:node.py:get()- No need to evaluate\n",
      "INFO\tTask(Task-2) nodify.node.140418142855936:node.py:get()- No need to evaluate\n",
      "INFO\tTask(Task-2) nodify.node.140418141857376:node.py:get()- No need to evaluate\n",
      "INFO\tTask(Task-2) nodify.node.140418141854400:node.py:get()- No need to evaluate\n",
      "INFO\tTask(Task-2) nodify.node.140418141857136:node.py:get()- No need to evaluate\n",
      "INFO\tTask(Task-2) nodify.node.140418142859152:node.py:get()- No need to evaluate\n",
      "INFO\tTask(Task-2) nodify.node.140418141854064:node.py:get()- No need to evaluate\n",
      "INFO\tTask(Task-2) nodify.node.140418142859152:node.py:get()- No need to evaluate\n",
      "INFO\tTask(Task-2) nodify.node.140418142863136:node.py:get()- No need to evaluate\n",
      "INFO\tTask(Task-2) nodify.node.140418142850752:node.py:get()- No need to evaluate\n",
      "INFO\tTask(Task-2) nodify.node.140418142855936:node.py:get()- No need to evaluate\n",
      "INFO\tTask(Task-2) nodify.node.140418141857376:node.py:get()- No need to evaluate\n",
      "INFO\tTask(Task-2) nodify.node.140418144270144:node.py:get()- No need to evaluate\n",
      "INFO\tTask(Task-2) nodify.node.140418142855936:node.py:get()- No need to evaluate\n",
      "INFO\tTask(Task-2) nodify.node.140418141857376:node.py:get()- No need to evaluate\n",
      "INFO\tTask(Task-2) nodify.node.140418146869440:node.py:get()- No need to evaluate\n",
      "INFO\tTask(Task-2) nodify.node.140418141853440:node.py:get()- No need to evaluate\n",
      "INFO\tTask(Task-2) nodify.node.140418142739808:node.py:get()- No need to evaluate\n",
      "INFO\tTask(Task-2) nodify.node.140418142861984:node.py:get()- No need to evaluate\n",
      "INFO\tTask(Task-2) nodify.node.140418142772288:node.py:get()- No need to evaluate\n",
      "INFO\tTask(Task-2) nodify.node.140418141898416:node.py:get()- No need to evaluate\n",
      "INFO\tTask(Task-2) nodify.node.140418141863184:node.py:get()- No need to evaluate\n",
      "INFO\tTask(Task-2) nodify.node.140418142859152:node.py:get()- No need to evaluate\n",
      "INFO\tTask(Task-2) nodify.node.140418141906192:node.py:get()- No need to evaluate\n",
      "INFO\tTask(Task-2) nodify.node.140418142855792:node.py:get()- No need to evaluate\n",
      "INFO\tTask(Task-2) nodify.node.140418142850272:node.py:get()- No need to evaluate\n",
      "INFO\tTask(Task-2) nodify.node.140418256693024:node.py:get()- No need to evaluate\n",
      "INFO\tTask(Task-2) nodify.node.140418142859152:node.py:get()- No need to evaluate\n",
      "INFO\tTask(Task-2) nodify.node.140418141906192:node.py:get()- No need to evaluate\n",
      "INFO\tTask(Task-2) nodify.node.140418142855792:node.py:get()- No need to evaluate\n",
      "INFO\tTask(Task-2) nodify.node.140418142850272:node.py:get()- No need to evaluate\n",
      "INFO\tTask(Task-2) nodify.node.140418256693024:node.py:get()- No need to evaluate\n",
      "INFO\tTask(Task-2) nodify.node.140418142859152:node.py:get()- No need to evaluate\n",
      "INFO\tTask(Task-2) nodify.node.140418142863136:node.py:get()- No need to evaluate\n",
      "INFO\tTask(Task-2) nodify.node.140418142850752:node.py:get()- No need to evaluate\n",
      "INFO\tTask(Task-2) nodify.node.140418142857040:node.py:get()- No need to evaluate\n",
      "INFO\tTask(Task-2) nodify.node.140418142855936:node.py:get()- No need to evaluate\n",
      "INFO\tTask(Task-2) nodify.node.140418141857376:node.py:get()- No need to evaluate\n",
      "INFO\tTask(Task-2) nodify.node.140418144270144:node.py:get()- No need to evaluate\n",
      "INFO\tTask(Task-2) nodify.node.140418142740288:node.py:get()- No need to evaluate\n",
      "INFO\tTask(Task-2) nodify.node.140418141848064:node.py:get()- No need to evaluate\n",
      "INFO\tTask(Task-2) nodify.node.140418141905040:node.py:get()- No need to evaluate\n",
      "INFO\tTask(Task-2) nodify.node.140418142858864:node.py:get()- No need to evaluate\n",
      "INFO\tTask(Task-2) nodify.node.140418141904848:node.py:get()- No need to evaluate\n",
      "INFO\tTask(Task-2) nodify.node.140418141853440:node.py:get()- No need to evaluate\n",
      "INFO\tTask(Task-2) nodify.node.140418141904656:node.py:get()- No need to evaluate\n",
      "INFO\tTask(Task-2) nodify.node.140418142855936:node.py:get()- No need to evaluate\n",
      "INFO\tTask(Task-2) nodify.node.140418141857376:node.py:get()- No need to evaluate\n",
      "INFO\tTask(Task-2) nodify.node.140418142707232:node.py:get()- No need to evaluate\n",
      "INFO\tTask(Task-2) nodify.node.140418142859200:node.py:get()- No need to evaluate\n",
      "INFO\tTask(Task-2) nodify.node.140418142707184:node.py:get()- No need to evaluate\n",
      "INFO\tTask(Task-2) nodify.node.140418142862416:node.py:get()- No need to evaluate\n",
      "INFO\tTask(Task-2) nodify.node.140418142855936:node.py:get()- No need to evaluate\n",
      "INFO\tTask(Task-2) nodify.node.140418141857376:node.py:get()- No need to evaluate\n",
      "INFO\tTask(Task-2) nodify.node.140418144270144:node.py:get()- No need to evaluate\n",
      "INFO\tTask(Task-2) nodify.node.140418141852624:node.py:get()- No need to evaluate\n",
      "INFO\tTask(Task-2) nodify.node.140418144270672:node.py:get()- No need to evaluate\n",
      "INFO\tTask(Task-2) nodify.node.140418142736208:node.py:get()- No need to evaluate\n",
      "INFO\tTask(Task-2) nodify.node.140418142855936:node.py:get()- No need to evaluate\n",
      "INFO\tTask(Task-2) nodify.node.140418141857376:node.py:get()- No need to evaluate\n",
      "INFO\tTask(Task-2) nodify.node.140418144270144:node.py:get()- No need to evaluate\n",
      "INFO\tTask(Task-2) nodify.node.140418142707040:node.py:get()- No need to evaluate\n",
      "INFO\tTask(Task-2) nodify.node.140418141851952:node.py:get()- No need to evaluate\n",
      "INFO\tTask(Task-2) nodify.node.140418275719216:node.py:get()- No need to evaluate\n",
      "INFO\tTask(Task-2) nodify.node.140418142859152:node.py:get()- No need to evaluate\n",
      "INFO\tTask(Task-2) nodify.node.140418142852816:node.py:get()- No need to evaluate\n",
      "INFO\tTask(Task-2) nodify.node.140418258143040:node.py:get()- No need to evaluate\n",
      "INFO\tTask(Task-2) nodify.node.140418256717680:node.py:get()- No need to evaluate\n",
      "INFO\tTask(Task-2) nodify.node.140418141863808:node.py:get()- No need to evaluate\n",
      "INFO\tTask(Task-2) nodify.node.140418142859152:node.py:get()- No need to evaluate\n",
      "INFO\tTask(Task-2) nodify.node.140418142863136:node.py:get()- No need to evaluate\n",
      "INFO\tTask(Task-2) nodify.node.140418142850752:node.py:get()- No need to evaluate\n",
      "INFO\tTask(Task-2) nodify.node.140418142862800:node.py:get()- No need to evaluate\n",
      "INFO\tTask(Task-2) nodify.node.140418144271200:node.py:get()- No need to evaluate\n",
      "INFO\tTask(Task-2) nodify.node.140418141853440:node.py:get()- No need to evaluate\n",
      "INFO\tTask(Task-2) nodify.node.140418141852192:node.py:get()- No need to evaluate\n",
      "INFO\tTask(Task-2) nodify.node.140418142750480:node.py:get()- No need to evaluate\n",
      "INFO\tTask(Task-2) nodify.node.140418142855936:node.py:get()- No need to evaluate\n",
      "INFO\tTask(Task-2) nodify.node.140418141857376:node.py:get()- No need to evaluate\n",
      "INFO\tTask(Task-2) nodify.node.140418141854400:node.py:get()- No need to evaluate\n",
      "INFO\tTask(Task-2) nodify.node.140418141857136:node.py:get()- No need to evaluate\n",
      "INFO\tTask(Task-2) nodify.node.140418142859392:node.py:get()- No need to evaluate\n",
      "INFO\tTask(Task-2) nodify.node.140418142855936:node.py:get()- No need to evaluate\n",
      "INFO\tTask(Task-2) nodify.node.140418141857376:node.py:get()- No need to evaluate\n",
      "INFO\tTask(Task-2) nodify.node.140418144270144:node.py:get()- No need to evaluate\n",
      "INFO\tTask(Task-2) nodify.node.140418141859344:node.py:get()- No need to evaluate\n",
      "INFO\tTask(Task-2) nodify.node.140418141857952:node.py:get()- No need to evaluate\n",
      "INFO\tTask(Task-2) nodify.node.140418142760752:node.py:get()- No need to evaluate\n",
      "INFO\tTask(Task-2) nodify.node.140418142855936:node.py:get()- No need to evaluate\n",
      "INFO\tTask(Task-2) nodify.node.140418141857376:node.py:get()- No need to evaluate\n",
      "INFO\tTask(Task-2) nodify.node.140418144270144:node.py:get()- No need to evaluate\n",
      "INFO\tTask(Task-2) nodify.node.140418142707040:node.py:get()- No need to evaluate\n",
      "INFO\tTask(Task-2) nodify.node.140418142860592:node.py:get()- No need to evaluate\n",
      "INFO\tTask(Task-2) nodify.node.140418142856848:node.py:get()- No need to evaluate\n",
      "INFO\tTask(Task-2) nodify.node.140418142855936:node.py:get()- No need to evaluate\n",
      "INFO\tTask(Task-2) nodify.node.140418141857376:node.py:get()- No need to evaluate\n",
      "INFO\tTask(Task-2) nodify.node.140418144270144:node.py:get()- No need to evaluate\n",
      "INFO\tTask(Task-2) nodify.node.140418142860832:node.py:get()- No need to evaluate\n",
      "INFO\tTask(Task-2) nodify.node.140418141856896:node.py:get()- No need to evaluate\n",
      "INFO\tTask(Task-2) nodify.node.140418142859152:node.py:get()- No need to evaluate\n",
      "INFO\tTask(Task-2) nodify.node.140418142855936:node.py:get()- No need to evaluate\n",
      "INFO\tTask(Task-2) nodify.node.140418141857376:node.py:get()- No need to evaluate\n",
      "INFO\tTask(Task-2) nodify.node.140418144270144:node.py:get()- No need to evaluate\n",
      "INFO\tTask(Task-2) nodify.node.140418141900240:node.py:get()- No need to evaluate\n",
      "INFO\tTask(Task-2) nodify.node.140418141847968:node.py:get()- No need to evaluate\n",
      "INFO\tTask(Task-2) nodify.node.140418141900048:node.py:get()- No need to evaluate\n",
      "INFO\tTask(Task-2) nodify.node.140418142855936:node.py:get()- No need to evaluate\n",
      "INFO\tTask(Task-2) nodify.node.140418141857376:node.py:get()- No need to evaluate\n",
      "INFO\tTask(Task-2) nodify.node.140418141858336:node.py:get()- No need to evaluate\n",
      "INFO\tTask(Task-2) nodify.node.140418141854400:node.py:get()- No need to evaluate\n",
      "INFO\tTask(Task-2) nodify.node.140418142733760:node.py:get()- No need to evaluate\n",
      "INFO\tTask(Task-2) nodify.node.140418142859152:node.py:get()- No need to evaluate\n",
      "INFO\tTask(Task-2) nodify.node.140418142852816:node.py:get()- No need to evaluate\n",
      "INFO\tTask(Task-2) nodify.node.140418258143040:node.py:get()- No need to evaluate\n",
      "INFO\tTask(Task-2) nodify.node.140418256717680:node.py:get()- No need to evaluate\n",
      "INFO\tTask(Task-2) nodify.node.140418141863808:node.py:get()- No need to evaluate\n",
      "INFO\tTask(Task-2) nodify.node.140418142859152:node.py:get()- No need to evaluate\n",
      "INFO\tTask(Task-2) nodify.node.140418142863136:node.py:get()- No need to evaluate\n",
      "INFO\tTask(Task-2) nodify.node.140418142850752:node.py:get()- No need to evaluate\n",
      "INFO\tTask(Task-2) nodify.node.140418142862800:node.py:get()- No need to evaluate\n",
      "INFO\tTask(Task-2) nodify.node.140418144271200:node.py:get()- No need to evaluate\n",
      "INFO\tTask(Task-2) nodify.node.140418141853440:node.py:get()- No need to evaluate\n",
      "INFO\tTask(Task-2) nodify.node.140418141852192:node.py:get()- No need to evaluate\n",
      "INFO\tTask(Task-2) nodify.node.140418142750480:node.py:get()- No need to evaluate\n",
      "INFO\tTask(Task-2) nodify.node.140418142855936:node.py:get()- No need to evaluate\n",
      "INFO\tTask(Task-2) nodify.node.140418141857376:node.py:get()- No need to evaluate\n",
      "INFO\tTask(Task-2) nodify.node.140418141854400:node.py:get()- No need to evaluate\n",
      "INFO\tTask(Task-2) nodify.node.140418141857136:node.py:get()- No need to evaluate\n",
      "INFO\tTask(Task-2) nodify.node.140418142859152:node.py:get()- No need to evaluate\n",
      "INFO\tTask(Task-2) nodify.node.140418141854064:node.py:get()- No need to evaluate\n",
      "INFO\tTask(Task-2) nodify.node.140418142859152:node.py:get()- No need to evaluate\n",
      "INFO\tTask(Task-2) nodify.node.140418142863136:node.py:get()- No need to evaluate\n",
      "INFO\tTask(Task-2) nodify.node.140418142850752:node.py:get()- No need to evaluate\n",
      "INFO\tTask(Task-2) nodify.node.140418142855936:node.py:get()- No need to evaluate\n",
      "INFO\tTask(Task-2) nodify.node.140418141857376:node.py:get()- No need to evaluate\n",
      "INFO\tTask(Task-2) nodify.node.140418144270144:node.py:get()- No need to evaluate\n",
      "INFO\tTask(Task-2) nodify.node.140418142855936:node.py:get()- No need to evaluate\n",
      "INFO\tTask(Task-2) nodify.node.140418141857376:node.py:get()- No need to evaluate\n",
      "INFO\tTask(Task-2) nodify.node.140418146869440:node.py:get()- No need to evaluate\n",
      "INFO\tTask(Task-2) nodify.node.140418141853440:node.py:get()- No need to evaluate\n",
      "INFO\tTask(Task-2) nodify.node.140418142739808:node.py:get()- No need to evaluate\n",
      "INFO\tTask(Task-2) nodify.node.140418142861984:node.py:get()- No need to evaluate\n",
      "INFO\tTask(Task-2) nodify.node.140418142772288:node.py:get()- No need to evaluate\n",
      "INFO\tTask(Task-2) nodify.node.140418141898416:node.py:get()- No need to evaluate\n"
     ]
    },
    {
     "data": {
      "application/vnd.plotly.v1+json": {
       "config": {
        "plotlyServerURL": "https://plot.ly"
       },
       "data": [
        {
         "line": {
          "color": "gray",
          "width": 10
         },
         "meta": {},
         "mode": "lines",
         "name": "Bonds",
         "opacity": 1,
         "type": "scatter3d",
         "x": {
          "bdata": "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",
          "dtype": "f8"
         },
         "y": {
          "bdata": "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",
          "dtype": "f8"
         },
         "z": {
          "bdata": "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",
          "dtype": "f8"
         }
        },
        {
         "alphahull": 0,
         "color": "#FFB5B5",
         "hovertemplate": "%{meta.position}",
         "legendgroup": "Atoms",
         "meta": {
          "meta": {
           "Atoms_i": 0
          },
          "position": "(0.09, 2.77, 0.00)"
         },
         "name": "Atoms",
         "opacity": 1,
         "showlegend": true,
         "showscale": false,
         "type": "mesh3d",
         "x": {
          "bdata": "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",
          "dtype": "f8"
         },
         "y": {
          "bdata": "ZUAShwckBkBlQBKHByQGQGVAEocHJAZAZUAShwckBkBlQBKHByQGQGVAEocHJAZAZUAShwckBkBlQBKHByQGQGVAEocHJAZAZUAShwckBkBlQBKHByQGQGVAEocHJAZAZUAShwckBkBlQBKHByQGQGVAEocHJAZAZUAShwckBkCQUnIeDtAGQN8bv1MCWgdAiRIVWJGmB0CJEhVYkaYHQN8bv1MCWgdAkFJyHg7QBkBlQBKHByQGQDousu8AeAVA62RlugzuBEBBbg+2faEEQEFuD7Z9oQRA62RlugzuBEA6LrLvAHgFQGVAEocHJAZAZUAShwckBkC7MW9udHMHQFGqFfJxgAhARMX1M7kVCUBExfUzuRUJQFGqFfJxgAhAuzFvbnRzB0BlQBKHByQGQA9PtZ+a1ARAedYOHJ3HA0CGuy7aVTIDQIa7LtpVMgNAedYOHJ3HA0AOT7WfmtQEQGVAEocHJAZAZUAShwckBkAKLh/rCAYIQC4AIrySiAlAJsDE9RVfCkAmwMT1FV8KQC4AIrySiAlACi4f6wgGCEBlQBKHByQGQMBSBSMGQgRAnYACUny/AkCkwF8Y+egBQKTAXxj56AFAnIACUny/AkDAUgUjBkIEQGVAEocHJAZAZUAShwckBkBRqhXycYAIQJu2UhsmZQpAMS/5niNyC0AxL/meI3ILQJu2UhsmZQpAUqoV8nGACEBlQBKHByQGQHnWDhydxwNAMMrR8ujiAUCZUStv69UAQJlRK2/r1QBAL8rR8ujiAUB41g4cnccDQGVAEocHJAZAZUAShwckBkAC7sEkjNwIQFHSJI0cCwtAy63RWRdBDEDLrdFZF0EMQFHSJI0cCwtAAu7BJIzcCEBlQBKHByQGQMiSYumCawNAea7/gPI8AUD/0lK09wYAQP/SUrT3BgBAea7/gPI8AUDHkmLpgmsDQGVAEocHJAZAZUAShwckBkBExfUzuRUJQDEv+Z4jcgtAhyBWhpDBDECHIFaGkMEMQDEv+Z4jcgtARMX1M7kVCUBlQBKHByQGQIa7LtpVMgNAmlErb+vVAECGwJwP/Qz/P4bAnA/9DP8/mVErb+vVAECFuy7aVTIDQGVAEocHJAZAZUAShwckBkCs5BcpGykJQKCbccIQlQtA9r8x8R3tDED2vzHxHe0MQKCbccIQlQtArOQXKRspCUBlQBKHByQGQB6cDOXzHgNAK+WyS/6yAECogeU54rX+P6iB5Tnitf4/KuWyS/6yAEAdnAzl8x4DQGVAEocHJAZAZUAShwckBkBExfUzuRUJQDEv+Z4jcgtAhyBWhpDBDECHIFaGkMEMQDEv+Z4jcgtARMX1M7kVCUBlQBKHByQGQIa7LtpVMgNAmlErb+vVAECGwJwP/Qz/P4bAnA/9DP8/mVErb+vVAECFuy7aVTIDQGVAEocHJAZAZUAShwckBkAC7sEkjNwIQFHSJI0cCwtAy63RWRdBDEDLrdFZF0EMQFHSJI0cCwtAAu7BJIzcCEBlQBKHByQGQMiSYumCawNAea7/gPI8AUD/0lK09wYAQP/SUrT3BgBAea7/gPI8AUDHkmLpgmsDQGVAEocHJAZAZUAShwckBkBRqhXycYAIQJu2UhsmZQpAMS/5niNyC0AxL/meI3ILQJu2UhsmZQpAUqoV8nGACEBlQBKHByQGQHnWDhydxwNAL8rR8ujiAUCZUStv69UAQJlRK2/r1QBAL8rR8ujiAUB41g4cnccDQGVAEocHJAZAZUAShwckBkAKLh/rCAYIQC4AIrySiAlAJsDE9RVfCkAmwMT1FV8KQC4AIrySiAlACi4f6wgGCEBlQBKHByQGQMBSBSMGQgRAnIACUny/AkCkwF8Y+egBQKTAXxj56AFAnIACUny/AkDAUgUjBkIEQGVAEocHJAZAZUAShwckBkC7MW9udHMHQFKqFfJxgAhARcX1M7kVCUBFxfUzuRUJQFKqFfJxgAhAvDFvbnRzB0BlQBKHByQGQA9PtZ+a1ARAedYOHJ3HA0CFuy7aVTIDQIW7LtpVMgNAeNYOHJ3HA0AOT7WfmtQEQGVAEocHJAZAZUAShwckBkCQUnIeDtAGQN8bv1MCWgdAiRIVWJGmB0CJEhVYkaYHQN8bv1MCWgdAkFJyHg7QBkBlQBKHByQGQDousu8AeAVA62RlugzuBEBBbg+2faEEQEFuD7Z9oQRA62RlugzuBEA6LrLvAHgFQGVAEocHJAZAZUAShwckBkBlQBKHByQGQGVAEocHJAZAZUAShwckBkBlQBKHByQGQGVAEocHJAZAZUAShwckBkBlQBKHByQGQGVAEocHJAZAZUAShwckBkBlQBKHByQGQGVAEocHJAZAZUAShwckBkBlQBKHByQGQGVAEocHJAZA",
          "dtype": "f8"
         },
         "z": {
          "bdata": "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",
          "dtype": "f8"
         }
        },
        {
         "alphahull": 0,
         "color": "#3050F8",
         "hovertemplate": "%{meta.position}",
         "legendgroup": "Atoms",
         "meta": {
          "meta": {
           "Atoms_i": 1
          },
          "position": "(0.82, 1.50, 0.00)"
         },
         "name": "Atoms",
         "opacity": 1,
         "showlegend": false,
         "showscale": false,
         "type": "mesh3d",
         "x": {
          "bdata": "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",
          "dtype": "f8"
         },
         "y": {
          "bdata": "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",
          "dtype": "f8"
         },
         "z": {
          "bdata": "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",
          "dtype": "f8"
         }
        },
        {
         "alphahull": 0,
         "color": "#FFB5B5",
         "hovertemplate": "%{meta.position}",
         "legendgroup": "Atoms",
         "meta": {
          "meta": {
           "Atoms_i": 2
          },
          "position": "(3.02, 0.00, 0.02)"
         },
         "name": "Atoms",
         "opacity": 1,
         "showlegend": false,
         "showscale": false,
         "type": "mesh3d",
         "x": {
          "bdata": "C/JxdRkrCEAL8nF1GSsIQAvycXUZKwhAC/JxdRkrCEAL8nF1GSsIQAvycXUZKwhAC/JxdRkrCEAL8nF1GSsIQAvycXUZKwhAC/JxdRkrCEAL8nF1GSsIQAvycXUZKwhAC/JxdRkrCEAL8nF1GSsIQAvycXUZKwhAgbWWDpS3CUB1szCJUJAJQI6atsxMIglA3zqKBVODCEA3qVnl39IHQIhJLR7mMwdAoTCzYeLFBkCVLk3cnp4GQKEws2HixQZAiEktHuYzB0A3qVnl39IHQN86igVTgwhAjpq2zEwiCUB1szCJUJAJQIG1lg6UtwlAUpZ3Fy0wC0ConyETnuMKQLDfftkaDQpANgTSDCDXCEDg3xHeEn8HQGYEZREYSQZAbkTC15RyBUDETWzTBSYFQG5EwteUcgVAZgRlERhJBkDg3xHeEn8HQDYE0gwg1whAsN9+2RoNCkConyETnuMKQFKWdxctMAtAVDgUNgKCDEBtH5p5/hMMQMukjXC93wpAjpq2zEwiCUCISS0e5jMHQEs/Vnp1dgVAqcRJcTRCBEDCq8+0MNQDQKnESXE0QgRASz9WenV2BUCISS0e5jMHQI2atsxMIglAy6SNcL3fCkBtH5p5/hMMQFQ4FDYCggxARk3RsCKcDUD3g4R7LhINQNSxgaqkjwtAhc0eQhRhCUCRFsWoHvUGQEMyYkCOxgRAH2BfbwREA0DQlhI6ELoCQB9gX28ERANAQjJiQI7GBECRFsWoHvUGQITNHkIUYQlA07GBqqSPC0D3g4R7LhINQEZN0bAinA1AWYmd5GhwDkCqKXEdb9ENQG0fmnn+EwxAdbMwiVCQCUChMLNh4sUGQKnESXE0QgRAbLpyzcOEAkC9WkYGyuUBQGy6cs3DhAJAqcRJcTRCBEChMLNh4sUGQHSzMIlQkAlAbR+aef4TDECqKXEdb9ENQFmJneRocA5AnHGR3y/0DkBxXzFIKUgOQMxxJOQnZgxAL8R0RqOtCUDoH2+kj6gGQEpyvwYL8ANApoSyogkOAkB6clILA2IBQKWEsqIJDgJASnK/BgvwA0DnH2+kj6gGQC7EdEajrQlAzHEk5CdmDEBwXzFIKUgOQJxxkd8v9A5AARvOBNwgD0BZiZ3kaHAOQFQ4FDYCggxAgbWWDpS3CUCWLk3cnp4GQMKrz7Qw1ANAvVpGBsrlAUAVyRXmVjUBQL1aRgbK5QFAwqvPtDDUA0CVLk3cnp4GQIC1lg6UtwlAVDgUNgKCDEBZiZ3kaHAOQAEbzgTcIA9AnHGR3y/0DkBxXzFIKUgOQMxxJOQnZgxAL8R0RqOtCUDoH2+kj6gGQEpyvwYL8ANApoSyogkOAkB6clILA2IBQKWEsqIJDgJASnK/BgvwA0DnH2+kj6gGQC7EdEajrQlAzHEk5CdmDEBwXzFIKUgOQJxxkd8v9A5AWYmd5GhwDkCqKXEdb9ENQG0fmnn+EwxAdbMwiVCQCUChMLNh4sUGQKnESXE0QgRAbLpyzcOEAkC9WkYGyuUBQGy6cs3DhAJAqcRJcTRCBEChMLNh4sUGQHSzMIlQkAlAbR+aef4TDECqKXEdb9ENQFmJneRocA5ARk3RsCKcDUD3g4R7LhINQNSxgaqkjwtAhc0eQhRhCUCRFsWoHvUGQEIyYkCOxgRAH2BfbwREA0DQlhI6ELoCQB9gX28ERANAQjJiQI7GBECRFsWoHvUGQITNHkIUYQlA07GBqqSPC0D3g4R7LhINQEZN0bAinA1AVDgUNgKCDEBtH5p5/hMMQMukjXC93wpAjpq2zEwiCUCISS0e5jMHQEs/Vnp1dgVAqcRJcTRCBEDCq8+0MNQDQKnESXE0QgRASz9WenV2BUCISS0e5jMHQI2atsxMIglAy6SNcL3fCkBtH5p5/hMMQFQ4FDYCggxAUpZ3Fy0wC0ConyETnuMKQLDfftkaDQpANgTSDCDXCEDg3xHeEn8HQGYEZREYSQZAbkTC15RyBUDETWzTBSYFQG5EwteUcgVAZgRlERhJBkDg3xHeEn8HQDYE0gwg1whAsN9+2RoNCkConyETnuMKQFKWdxctMAtAgbWWDpS3CUB1szCJUJAJQI6atsxMIglA3zqKBVODCEA3qVnl39IHQIhJLR7mMwdAoTCzYeLFBkCVLk3cnp4GQKEws2HixQZAiEktHuYzB0A3qVnl39IHQN86igVTgwhAjpq2zEwiCUB1szCJUJAJQIG1lg6UtwlAC/JxdRkrCEAL8nF1GSsIQAvycXUZKwhAC/JxdRkrCEAL8nF1GSsIQAvycXUZKwhAC/JxdRkrCEAL8nF1GSsIQAvycXUZKwhAC/JxdRkrCEAL8nF1GSsIQAvycXUZKwhAC/JxdRkrCEAL8nF1GSsIQAvycXUZKwhA",
          "dtype": "f8"
         },
         "y": {
          "bdata": "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",
          "dtype": "f8"
         },
         "z": {
          "bdata": "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",
          "dtype": "f8"
         }
        },
        {
         "alphahull": 0,
         "color": "#3050F8",
         "hovertemplate": "%{meta.position}",
         "legendgroup": "Atoms",
         "meta": {
          "meta": {
           "Atoms_i": 3
          },
          "position": "(2.28, 1.50, 0.00)"
         },
         "name": "Atoms",
         "opacity": 1,
         "showlegend": false,
         "showscale": false,
         "type": "mesh3d",
         "x": {
          "bdata": "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",
          "dtype": "f8"
         },
         "y": {
          "bdata": "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",
          "dtype": "f8"
         },
         "z": {
          "bdata": "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",
          "dtype": "f8"
         }
        },
        {
         "alphahull": 0,
         "color": "#3050F8",
         "hovertemplate": "%{meta.position}",
         "legendgroup": "Atoms",
         "meta": {
          "meta": {
           "Atoms_i": 4
          },
          "position": "(4.61, 0.01, 3.49)"
         },
         "name": "Atoms",
         "opacity": 1,
         "showlegend": false,
         "showscale": false,
         "type": "mesh3d",
         "x": {
          "bdata": "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",
          "dtype": "f8"
         },
         "y": {
          "bdata": "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",
          "dtype": "f8"
         },
         "z": {
          "bdata": "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",
          "dtype": "f8"
         }
        },
        {
         "alphahull": 0,
         "color": "#FFB5B5",
         "hovertemplate": "%{meta.position}",
         "legendgroup": "Atoms",
         "meta": {
          "meta": {
           "Atoms_i": 5
          },
          "position": "(0.69, 1.50, 3.47)"
         },
         "name": "Atoms",
         "opacity": 1,
         "showlegend": false,
         "showscale": false,
         "type": "mesh3d",
         "x": {
          "bdata": "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",
          "dtype": "f8"
         },
         "y": {
          "bdata": "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",
          "dtype": "f8"
         },
         "z": {
          "bdata": "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",
          "dtype": "f8"
         }
        },
        {
         "alphahull": 0,
         "color": "#3050F8",
         "hovertemplate": "%{meta.position}",
         "legendgroup": "Atoms",
         "meta": {
          "meta": {
           "Atoms_i": 6
          },
          "position": "(3.14, 2.77, 3.47)"
         },
         "name": "Atoms",
         "opacity": 1,
         "showlegend": false,
         "showscale": false,
         "type": "mesh3d",
         "x": {
          "bdata": "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",
          "dtype": "f8"
         },
         "y": {
          "bdata": "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",
          "dtype": "f8"
         },
         "z": {
          "bdata": "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",
          "dtype": "f8"
         }
        },
        {
         "alphahull": 0,
         "color": "#FFB5B5",
         "hovertemplate": "%{meta.position}",
         "legendgroup": "Atoms",
         "meta": {
          "meta": {
           "Atoms_i": 7
          },
          "position": "(2.42, 1.50, 3.47)"
         },
         "name": "Atoms",
         "opacity": 1,
         "showlegend": false,
         "showscale": false,
         "type": "mesh3d",
         "x": {
          "bdata": "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",
          "dtype": "f8"
         },
         "y": {
          "bdata": "cWvA0+zx9z9xa8DT7PH3P3FrwNPs8fc/cWvA0+zx9z9xa8DT7PH3P3FrwNPs8fc/cWvA0+zx9z9xa8DT7PH3P3FrwNPs8fc/cWvA0+zx9z9xa8DT7PH3P3FrwNPs8fc/cWvA0+zx9z9xa8DT7PH3P3FrwNPs8fc/cWvA0+zx9z/Hj4AC+kn5P2QiGm3iXfo/uA/GdQD3+j+4D8Z1APf6P2QiGm3iXfo/yI+AAvpJ+T9xa8DT7PH3PxtHAKXfmfY/frRmOveF9T8qx7ox2ez0PyrHujHZ7PQ/frRmOveF9T8aRwCl35n2P3FrwNPs8fc/cWvA0+zx9z8eTnqixpD6P0o/x6nBqvw/MHWHLVDV/T8wdYctUNX9P0o/x6nBqvw/Hk56osaQ+j9xa8DT7PH3P8SIBgUTU/U/mJe5/Rc58z+yYfl5iQ7yP7Jh+XmJDvI/mJe5/Rc58z/EiAYFE1P1P3FrwNPs8fc/cWvA0+zx9z+7Rtqb77X7PwLr3z0Du/4/ebWS2AQ0AEB5tZLYBDQAQALr3z0Du/4/u0bam++1+z9xa8DT7PH3PyiQpgvqLfQ/4OugadYo8T/f17bsn/fuP9/Xtuyf9+4/4OugadYo8T8nkKYL6i30P3BrwNPs8fc/cWvA0+zx9z9KP8epwar8P+6rIP4UOgBAhCTHgRJHAUCEJMeBEkcBQO6rIP4UOgBASj/HqcGq/D9xa8DT7PH3P5mXuf0XOfM/DP5+Vl/f7j+zG+VHaavqP7Mb5Udpq+o/C/5+Vl/f7j+Yl7n9FznzP3BrwNPs8fc/cWvA0+zx9z+sxh8P9mL9P6TH8m8L4ABAHqOfPAYWAkAeo588BhYCQKXH8m8L4ABArMYfD/Zi/T9xa8DT7PH3PzcQYZjjgPI/Mo82j4VH7D9LIYNcmm/nP0shg1yab+c/MY82j4VH7D82EGGY44DyP3BrwNPs8fc/cWvA0+zx9z8wdYctUNX9P4Qkx4ESRwFA2hUkaX+WAkDaFSRpf5YCQIQkx4ESRwFAMHWHLVDV/T9xa8DT7PH3P7Nh+XmJDvI/tBvlR2mr6j9aVnGqtW3lP1pWcaq1beU/sxvlR2mr6j+yYfl5iQ7yP3BrwNPs8fc/cWvA0+zx9z8AtMsXFPz9P/OQP6X/aQFASrX/0wzCAkBKtf/TDMICQPOQP6X/aQFAALTLFxT8/T9xa8DT7PH3P+MitY/F5/E/+WkDurQf6j+e2AL/f7/kP57YAv9/v+Q/92kDurQf6j/iIrWPxefxP3BrwNPs8fc/cWvA0+zx9z8wdYctUNX9P4Qkx4ESRwFA2hUkaX+WAkDaFSRpf5YCQIQkx4ESRwFAMHWHLVDV/T9xa8DT7PH3P7Nh+XmJDvI/tBvlR2mr6j9aVnGqtW3lP1pWcaq1beU/sxvlR2mr6j+yYfl5iQ7yP3BrwNPs8fc/cWvA0+zx9z+sxh8P9mL9P6TH8m8L4ABAHqOfPAYWAkAeo588BhYCQKXH8m8L4ABArMYfD/Zi/T9xa8DT7PH3PzcQYZjjgPI/Mo82j4VH7D9LIYNcmm/nP0shg1yab+c/MY82j4VH7D82EGGY44DyP3BrwNPs8fc/cWvA0+zx9z9KP8epwar8P+6rIP4UOgBAhCTHgRJHAUCEJMeBEkcBQO6rIP4UOgBASj/HqcGq/D9xa8DT7PH3P5iXuf0XOfM/C/5+Vl/f7j+yG+VHaavqP7Ib5Udpq+o/Cv5+Vl/f7j+Yl7n9FznzP3BrwNPs8fc/cWvA0+zx9z+7Rtqb77X7PwLr3z0Du/4/erWS2AQ0AEB6tZLYBDQAQALr3z0Du/4/u0bam++1+z9xa8DT7PH3PyeQpgvqLfQ/4OugadYo8T/e17bsn/fuP97Xtuyf9+4/4OugadYo8T8mkKYL6i30P3BrwNPs8fc/cWvA0+zx9z8eTnqixpD6P0o/x6nBqvw/MHWHLVDV/T8wdYctUNX9P0o/x6nBqvw/Hk56osaQ+j9xa8DT7PH3P8SIBgUTU/U/mJe5/Rc58z+yYfl5iQ7yP7Jh+XmJDvI/mJe5/Rc58z/EiAYFE1P1P3FrwNPs8fc/cWvA0+zx9z/Ij4AC+kn5P2UiGm3iXfo/uQ/GdQD3+j+5D8Z1APf6P2UiGm3iXfo/yI+AAvpJ+T9xa8DT7PH3PxpHAKXfmfY/fbRmOveF9T8px7ox2ez0PynHujHZ7PQ/fbRmOveF9T8aRwCl35n2P3FrwNPs8fc/cWvA0+zx9z9xa8DT7PH3P3FrwNPs8fc/cWvA0+zx9z9xa8DT7PH3P3FrwNPs8fc/cWvA0+zx9z9xa8DT7PH3P3FrwNPs8fc/cWvA0+zx9z9xa8DT7PH3P3FrwNPs8fc/cWvA0+zx9z9xa8DT7PH3P3FrwNPs8fc/",
          "dtype": "f8"
         },
         "z": {
          "bdata": "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",
          "dtype": "f8"
         }
        },
        {
         "meta": {},
         "mode": "lines",
         "name": "Unit cell",
         "type": "scatter3d",
         "x": {
          "bdata": "AAAAAAAAAAAAAAAAAAAAAFslWBzOnBJAWyVYHM6cEkAAAAAAAAAAAAAAAAAAAAAAAAAAAAAA+H8AAAAAAAAAAAAAAAAAAAAAAAAAAAAAAABbJVgczpwSQFslWBzOnBJAAAAAAAAAAAAAAAAAAAD4f1slWBzOnBJAWyVYHM6cEkAAAAAAAAD4f1slWBzOnBJAWyVYHM6cEkA=",
          "dtype": "f8"
         },
         "y": {
          "bdata": "AAAAAAAAAABN27+y0iQGQE3bv7LSJAZATdu/stIkBkBN27+y0iQGQE3bv7LSJAZAAAAAAAAA+H9N27+y0iQGQAAAAAAAAAAAAAAAAAAAAAAAAAAAAAAAAAAAAAAAAAAAAAAAAAAAAAAAAAAAAAD4f03bv7LSJAZAAAAAAAAAAAAAAAAAAAD4f03bv7LSJAZAAAAAAAAAAAA=",
          "dtype": "f8"
         },
         "z": {
          "bdata": "AAAAAAAAAAAAAAAAAAAAAAAAAAAAAAAAob5lTpelHEChvmVOl6UcQAAAAAAAAAAAAAAAAAAA+H+hvmVOl6UcQKG+ZU6XpRxAAAAAAAAAAAAAAAAAAAAAAKG+ZU6XpRxAob5lTpelHEAAAAAAAAD4fwAAAAAAAAAAAAAAAAAAAAAAAAAAAAD4f6G+ZU6XpRxAob5lTpelHEA=",
          "dtype": "f8"
         }
        }
       ],
       "layout": {
        "scene": {
         "aspectmode": "data",
         "xaxis": {
          "title": {
           "text": "X axis [Ang]"
          }
         },
         "yaxis": {
          "title": {
           "text": "Y axis [Ang]"
          }
         },
         "zaxis": {
          "title": {
           "text": "Z axis [Ang]"
          }
         }
        },
        "template": {
         "layout": {
          "hovermode": "closest",
          "paper_bgcolor": "white",
          "plot_bgcolor": "white",
          "scene": {
           "xaxis": {
            "color": "black",
            "gridcolor": "#ccc",
            "gridwidth": 1,
            "linewidth": 1,
            "mirror": true,
            "showgrid": false,
            "showline": true,
            "ticklen": 5,
            "ticks": "outside",
            "ticksuffix": " ",
            "visible": true,
            "zeroline": false,
            "zerolinecolor": "#ccc",
            "zerolinewidth": 1
           },
           "yaxis": {
            "color": "black",
            "gridcolor": "#ccc",
            "gridwidth": 1,
            "linewidth": 1,
            "mirror": true,
            "showgrid": false,
            "showline": true,
            "ticklen": 5,
            "ticks": "outside",
            "ticksuffix": " ",
            "visible": true,
            "zeroline": false,
            "zerolinecolor": "#ccc",
            "zerolinewidth": 1
           },
           "zaxis": {
            "color": "black",
            "gridcolor": "#ccc",
            "gridwidth": 1,
            "linewidth": 1,
            "mirror": true,
            "showgrid": false,
            "showline": true,
            "ticklen": 5,
            "ticks": "outside",
            "ticksuffix": " ",
            "visible": true,
            "zeroline": false,
            "zerolinecolor": "#ccc",
            "zerolinewidth": 1
           }
          },
          "xaxis": {
           "color": "black",
           "gridcolor": "#ccc",
           "gridwidth": 1,
           "linewidth": 1,
           "mirror": true,
           "showgrid": false,
           "showline": true,
           "ticklen": 5,
           "ticks": "outside",
           "ticksuffix": " ",
           "visible": true,
           "zeroline": false,
           "zerolinecolor": "#ccc",
           "zerolinewidth": 1
          },
          "yaxis": {
           "color": "black",
           "gridcolor": "#ccc",
           "gridwidth": 1,
           "linewidth": 1,
           "mirror": true,
           "showgrid": false,
           "showline": true,
           "ticklen": 5,
           "ticks": "outside",
           "ticksuffix": " ",
           "visible": true,
           "zeroline": false,
           "zerolinecolor": "#ccc",
           "zerolinewidth": 1
          }
         }
        },
        "xaxis": {
         "scaleanchor": "y",
         "scaleratio": 1,
         "title": {
          "text": "X axis [Ang]"
         }
        },
        "yaxis": {
         "title": {
          "text": "Y axis [Ang]"
         }
        }
       }
      },
      "text/html": [
       "<div>                        <script type=\"text/javascript\">window.PlotlyConfig = {MathJaxConfig: 'local'};</script>\n",
       "        <script charset=\"utf-8\" src=\"https://cdn.plot.ly/plotly-3.0.1.min.js\" integrity=\"sha256-oy6Be7Eh6eiQFs5M7oXuPxxm9qbJXEtTpfSI93dW16Q=\" crossorigin=\"anonymous\"></script>                <div id=\"fdda65ec-4e85-4619-8dd5-e3451c6a35d5\" class=\"plotly-graph-div\" style=\"height:100%; width:100%;\"></div>            <script type=\"text/javascript\">                window.PLOTLYENV=window.PLOTLYENV || {};                                if (document.getElementById(\"fdda65ec-4e85-4619-8dd5-e3451c6a35d5\")) {                    Plotly.newPlot(                        \"fdda65ec-4e85-4619-8dd5-e3451c6a35d5\",                        [{\"line\":{\"color\":\"gray\",\"width\":10.0},\"meta\":{},\"mode\":\"lines\",\"name\":\"Bonds\",\"opacity\":1.0,\"x\":{\"dtype\":\"f8\",\"bdata\":\"Tt7VaWP3tj9DrRzg6mPAP2BrTgskTMU\\u002ffCmANl00yj+Y57FhlhzPP9rSccZnAtI\\u002f6LEKXIR21D\\u002f2kKPxoOrWPwRwPIe9Xtk\\u002fFE\\u002fVHNrS2z8iLm6y9kbeP5iGA6SJXeA\\u002fH\\u002fbP7peX4T+mZZw5ptHiPy3VaIS0C+Q\\u002ftUQ1z8JF5T87tAEa0X\\u002fmP8IjzmTfuec\\u002fSpOar+3z6D\\u002fRAmf6+y3qPwAAAAAAAPh\\u002fTt7VaWP3tj8AyQkgw8VNv3IFVnZ6bre\\u002fqfs1s7RQx79MeqAVFnXRv8b2pdHRQde\\u002fPHOrjY0O3b\\u002fad9ikpG3hvxY224ICVOS\\u002fU\\u002fTdYGA657+PsuA+viDqv8xw4xwcB+2\\u002fBi\\u002fm+nnt77+hdnTs62nxv7\\u002fVddsa3fK\\u002f3jR3yklQ9L\\u002f7k3i5eMP1vxnzeainNve\\u002fOFJ7l9ap+L9WsXyGBR36vwAAAAAAAPh\\u002fTt7VaWP3tj9DrRzg6mPAP2BrTgskTMU\\u002ffCmANl00yj+Y57FhlhzPP9rSccZnAtI\\u002f6LEKXIR21D\\u002f2kKPxoOrWPwRwPIe9Xtk\\u002fFE\\u002fVHNrS2z8iLm6y9kbeP5iGA6SJXeA\\u002fH\\u002fbP7peX4T+mZZw5ptHiPy3VaIS0C+Q\\u002ftUQ1z8JF5T87tAEa0X\\u002fmP8IjzmTfuec\\u002fSpOar+3z6D\\u002fRAmf6+y3qPwAAAAAAAPh\\u002f0QJn+vst6j9Kk5qv7fPoP8MjzmTfuec\\u002fPLQBGtF\\u002f5j+1RDXPwkXlPy7VaIS0C+Q\\u002fpmWcOabR4j8g9s\\u002ful5fhP5iGA6SJXeA\\u002fIi5usvZG3j8UT9Uc2tLbPwVwPIe9Xtk\\u002f+JCj8aDq1j\\u002fqsQpchHbUP9zSccZnAtI\\u002fmOexYZYczz+AKYA2XTTKP2RrTgskTMU\\u002fRK0c4OpjwD9Q3tVpY\\u002fe2PwAAAAAAAPh\\u002fC\\u002fJxdRkrCEDPhZjHpdsHQJMZvxkyjAdAWK3la748B0AcQQy+Su0GQODUMhDXnQZApGhZYmNOBkBo\\u002fH+07\\u002f4FQC2QpgZ8rwVA8SPNWAhgBUC1t\\u002fOqlBAFQHlLGv0gwQRAPt9AT61xBEACc2ehOSIEQMYGjvPF0gNAipq0RVKDA0BOLtuX3jMDQBPCAepq5AJA11UoPPeUAkCb6U6Og0UCQAAAAAAAAPh\\u002fC\\u002fJxdRkrCEDPhZjHpdsHQJMZvxkyjAdAWK3la748B0AcQQy+Su0GQODUMhDXnQZApGhZYmNOBkBo\\u002fH+07\\u002f4FQC2QpgZ8rwVA8SPNWAhgBUC1t\\u002fOqlBAFQHlLGv0gwQRAPt9AT61xBEACc2ehOSIEQMYGjvPF0gNAipq0RVKDA0BOLtuX3jMDQBPCAepq5AJA11UoPPeUAkCb6U6Og0UCQAAAAAAAAPh\\u002fC\\u002fJxdRkrCECaofLssOQIQClRc2RInglAuAD0299XCkBHsHRTdxELQNZf9coOywtAZQ92QqaEDED0vva5PT4NQINudzHV9w1AEh74qGyxDkChzXggBGsPQJi+\\u002fMtNEhBAYBa9hxlvEEAnbn1D5csQQO7FPf+wKBFAth3+unyFEUB+db52SOIRQEXNfjIUPxJADCU\\u002f7t+bEkDUfP+pq\\u002fgSQAAAAAAAAPh\\u002fm+lOjoNFAkDXVSg895QCQBPCAepq5AJATi7bl94zA0CKmrRFUoMDQMYGjvPF0gNAAnNnoTkiBEA+30BPrXEEQHlLGv0gwQRAtbfzqpQQBUDxI81YCGAFQC2QpgZ8rwVAaPx\\u002ftO\\u002f+BUCkaFliY04GQODUMhDXnQZAHEEMvkrtBkBYreVrvjwHQJMZvxkyjAdAz4WYx6XbB0AL8nF1GSsIQAAAAAAAAPh\\u002fUsJv6tNzEkC+JCbA8ZoSQCuH3JUPwhJAl+mSay3pEkADTElBSxATQHCu\\u002fxZpNxNA3BC27IZeE0BIc2zCpIUTQLTVIpjCrBNAITjZbeDTE0CNmo9D\\u002fvoTQPr8RRkcIhRAZl\\u002f87jlJFEDSwbLEV3AUQD4kaZp1lxRAq4YfcJO+FEAX6dVFseUUQINLjBvPDBVA8K1C8ewzFUBcEPnGClsVQAAAAAAAAPh\\u002fUsJv6tNzEkC+JCbA8ZoSQCuH3JUPwhJAl+mSay3pEkADTElBSxATQHCu\\u002fxZpNxNA3BC27IZeE0BIc2zCpIUTQLTVIpjCrBNAITjZbeDTE0CNmo9D\\u002fvoTQPr8RRkcIhRAZl\\u002f87jlJFEDSwbLEV3AUQD4kaZp1lxRAq4YfcJO+FEAX6dVFseUUQINLjBvPDBVA8K1C8ewzFUBcEPnGClsVQAAAAAAAAPh\\u002fCVgHVeXx5T+tV6OfA9zoP1FXP+ohxus\\u002f9VbbNECw7j9Mq7s\\u002fL83wPx6rCWU+QvI\\u002f8KpXik238z\\u002fCqqWvXCz1P5Sq89RrofY\\u002fZqpB+noW+D84qo8fiov5Pwqq3USZAPs\\u002f3Kkraqh1\\u002fD+uqXmPt+r9P4Cpx7TGX\\u002f8\\u002fqdQK7WpqAECS1LF\\u002f8iQBQHvUWBJ63wFAZNT\\u002fpAGaAkBN1KY3iVQDQAAAAAAAAPh\\u002fCVgHVeXx5T+mRFSn9rjkP0QxofkHgOM\\u002f4R3uSxlH4j9\\u002fCjueKg7hPzjuD+F3qt8\\u002fdMephZo43T+uoEMqvcbaP+l53c7fVNg\\u002fJFN3cwLj1T9fLBEYJXHTP5kFq7xH\\u002f9A\\u002fqr2JwtQazT8gcL0LGjfIP5Qi8VRfU8M\\u002fEKpJPEnfvD8AD7HO0xezP+DnMMK8oKI\\u002fAMoJIMPFXb+AhDH0GH2kvwAAAAAAAPh\\u002fCVgHVeXx5T+mRFSn9rjkP0QxofkHgOM\\u002f4R3uSxlH4j9\\u002fCjueKg7hPzjuD+F3qt8\\u002fdMephZo43T+uoEMqvcbaP+l53c7fVNg\\u002fJFN3cwLj1T9fLBEYJXHTP5kFq7xH\\u002f9A\\u002fqr2JwtQazT8gcL0LGjfIP5Qi8VRfU8M\\u002fEKpJPEnfvD8AD7HO0xezP+DnMMK8oKI\\u002fAMoJIMPFXb+AhDH0GH2kvwAAAAAAAPh\\u002fD+bxGk0oCUAtyj6IydkIQEuui\\u002fVFiwhAapLYYsI8CECIdiXQPu4HQKZacj27nwdAxD6\\u002fqjdRB0DiIgwYtAIHQAEHWYUwtAZAH+ul8qxlBkA9z\\u002fJfKRcGQFuzP82lyAVAepeMOiJ6BUCYe9mnnisFQLZfJhUb3QRA1ENzgpeOBEDyJ8DvE0AEQBEMDV2Q8QNAL\\u002fBZygyjA0BN1KY3iVQDQAAAAAAAAPh\\u002fD+bxGk0oCUAtyj6IydkIQEuui\\u002fVFiwhAapLYYsI8CECIdiXQPu4HQKZacj27nwdAxD6\\u002fqjdRB0DiIgwYtAIHQAEHWYUwtAZAH+ul8qxlBkA9z\\u002fJfKRcGQFuzP82lyAVAepeMOiJ6BUCYe9mnnisFQLZfJhUb3QRA1ENzgpeOBEDyJ8DvE0AEQBEMDV2Q8QNAL\\u002fBZygyjA0BN1KY3iVQDQAAAAAAAAPh\\u002fTdSmN4lUA0Av8FnKDKMDQBEMDV2Q8QNA8ifA7xNABEDUQ3OCl44EQLZfJhUb3QRAmHvZp54rBUB6l4w6InoFQFuzP82lyAVAPc\\u002fyXykXBkAf66XyrGUGQAEHWYUwtAZA4iIMGLQCB0DEPr+qN1EHQKZacj27nwdAiHYl0D7uB0BqkthiwjwIQEuui\\u002fVFiwhALco+iMnZCEAP5vEaTSgJQAAAAAAAAPh\\u002f\"},\"y\":{\"dtype\":\"f8\",\"bdata\":\"ZUAShwckBkBBaHugBpsFQB2Q5LkFEgVA+bdN0wSJBEDV37bsAwAEQLEHIAYDdwNAjS+JHwLuAkBpV\\u002fI4AWUCQEV\\u002fW1IA3AFAIafEa\\u002f9SAUD9zi2F\\u002fskAQNn2lp79QABAaj0AcPlv\\u002fz8ijdKi913+P9rcpNX1S\\u002f0\\u002fkSx3CPQ5\\u002fD9JfEk78if7PwLMG27wFfo\\u002fuRvuoO4D+T9xa8DT7PH3PwAAAAAAAPh\\u002fZUAShwckBkBpkbZCIiQGQGziWv48JAZAcDP\\u002fuVckBkBzhKN1ciQGQHfVRzGNJAZAeibs7KckBkB+d5CowiQGQILINGTdJAZAhRnZH\\u002fgkBkCJan3bEiUGQIy7IZctJQZAkAzGUkglBkCUXWoOYyUGQJeuDsp9JQZAm\\u002f+yhZglBkCeUFdBsyUGQKKh+\\u002fzNJQZApfKfuOglBkCpQ0R0AyYGQAAAAAAAAPh\\u002fZUAShwckBkBgS\\u002fGOYsUGQFtW0Ja9ZgdAVmGvnhgICEBRbI6mc6kIQEx3ba7OSglAR4JMtinsCUBCjSu+hI0KQD2YCsbfLgtAOKPpzTrQC0AzrsjVlXEMQC65p93wEg1AKcSG5Uu0DUAkz2XtplUOQB\\u002faRPUB9w5AGuUj\\u002fVyYD0AKeIEC3BwQQIj9cIaJbRBABoNgCje+EECDCFCO5A4RQAAAAAAAAPh\\u002fcWvA0+zx9z97VQLENq\\u002f2P4U\\u002fRLSAbPU\\u002fjymGpMop9D+ZE8iUFOfyP6P9CYVepPE\\u002frudLdahh8D9voxvL5D3uP4N3n6t4uOs\\u002fl0sjjAwz6T+rH6dsoK3mP7\\u002fzKk00KOQ\\u002f1MeuLcii4T\\u002fQN2UcuDreP\\u002fjfbN3fL9k\\u002fIIh0ngcl1D+QYPi+XjTOP+iwB0GuHsQ\\u002fYAIuhvsRtD8AAF2zdWU5vwAAAAAAAPh\\u002f5buFRhgMQz9lSuS3IU60P6nEnZ8VO8Q\\u002fIGRJYxpPzj\\u002fLgXqTjzHUP4ZRUPWRO9k\\u002fQiEmV5RF3j9\\u002f+H1cy6fhP1zgaI3MLOQ\\u002fOshTvs2x5j8XsD7vzjbpP\\u002faXKSDQu+s\\u002f038UUdFA7j\\u002fXs\\u002f9A6WLwP8cnddlppfE\\u002ftpvqcern8j+kD2AKayr0P5OD1aLrbPU\\u002fgvdKO2yv9j9xa8DT7PH3PwAAAAAAAPh\\u002f5buFRhgMQz96GdgWXP2wvzafHi9oEMG\\u002frzHRUiKiyb8U4kE77hnRv1ErG03LYtW\\u002fjXT0Xqir2b\\u002fKvc1whfTdv4ODU0GxHuG\\u002fIihAyh9D47\\u002fAzCxTjmflv19xGdz8i+e\\u002f\\u002fBUGZWuw6b+auvLt2dTrvzlf33ZI+e2\\u002f7AHmf9sO8L87VFzEEiHxv4qm0ghKM\\u002fK\\u002f2vhITYFF878pS7+RuFf0vwAAAAAAAPh\\u002f5buFRhgMQz\\u002fZgnUBXmBBP5qTynhHaT8\\u002fgiGq7tIRPD9qr4lkXro4P1I9adrpYjU\\u002fOstIUHULMj9EslCMAWgtPxTOD3gYuSY\\u002f5OnOYy8KID9oCxyfjLYSPwAMadrpYvU+sArPYy8KAL+4TWna6WIVvwyLdQFeYCG\\u002fQG+2FUcPKL9sU\\u002fcpML4uv84bHJ+MtjK\\u002f5o08KQEONr8AAF2zdWU5vwAAAAAAAPh\\u002fcWvA0+zx9z\\u002fAvTYYJAT5Pw8QrVxbFvo\\u002fX2IjoZIo+z+utJnlyTr8P\\u002f0GECoBTf0\\u002fTFmGbjhf\\u002fj+bq\\u002fyyb3H\\u002fP\\u002fV+uXvTQQBAHaj0He\\u002fKAEBE0S\\u002fAClQBQGz6amIm3QFAlCOmBEJmAkC7TOGmXe8CQON1HEl5eANACp9X65QBBEAyyJKNsIoEQFrxzS\\u002fMEwVAgRoJ0uecBUCpQ0R0AyYGQAAAAAAAAPh\\u002f6mrmITfpfD8jhiNTcNauv2n2oOKBUsC\\u002fSQt5sGfvyL8UkCi\\u002fJsbQv4SaFKaZFNW\\u002f9KQAjQxj2b9kr+xzf7Hdv+pcbC35\\u002f+C\\u002fImLioDIn479aZ1gUbE7lv5Jszoeldee\\u002fynFE+96c6b8Bd7puGMTrvzp8MOJR6+2\\u002fuUDTqkUJ8L9VQ45k4hzxv\\u002fBFSR5\\u002fMPK\\u002fjUgE2BtE878pS7+RuFf0vwAAAAAAAPh\\u002f6mrmITfpfD\\u002fPoCqlReC1P3dtG+z7+MQ\\u002fh4qhBdUBzz\\u002fM05MPV4XUP1TiVpzDidk\\u002f3PAZKTCO3j+yf+5aTsnhP\\u002fYGUKGES+Q\\u002fOo6x57rN5j9+FRMu8U\\u002fpP8KcdHQn0us\\u002fBiTWul1U7j+k1ZsASmvwP0eZzCNlrPE\\u002f6Vz9RoDt8j+LIC5qmy70PyzkXo22b\\u002fU\\u002fz6ePsNGw9j9xa8DT7PH3PwAAAAAAAPh\\u002fcWvA0+zx9z9xa8DT7PH3P3FrwNPs8fc\\u002fcWvA0+zx9z9xa8DT7PH3P3FrwNPs8fc\\u002fcWvA0+zx9z9xa8DT7PH3P3FrwNPs8fc\\u002fcWvA0+zx9z9xa8DT7PH3P3FrwNPs8fc\\u002fcWvA0+zx9z9xa8DT7PH3P3FrwNPs8fc\\u002fcWvA0+zx9z9xa8DT7PH3P3FrwNPs8fc\\u002fcWvA0+zx9z9xa8DT7PH3PwAAAAAAAPh\\u002fcWvA0+zx9z\\u002fPp4+w0bD2Py3kXo22b\\u002fU\\u002fiyAuapsu9D\\u002fpXP1GgO3yP0eZzCNlrPE\\u002fpdWbAEpr8D8GJNa6XVTuP8KcdHQn0us\\u002ffhUTLvFP6T86jrHnus3mP\\u002fYGUKGES+Q\\u002fsn\\u002fuWk7J4T\\u002fg8BkpMI7eP1TiVpzDidk\\u002fzNOTD1eF1D+IiqEF1QHPP4BtG+z7+MQ\\u002f0KAqpUXgtT8Aa+YhN+l8PwAAAAAAAPh\\u002fcWvA0+zx9z8NbnuNiQX5P6lwNkcmGfo\\u002fRXPxAMMs+z\\u002fhday6X0D8P314Z3T8U\\u002f0\\u002fGHsiLpln\\u002fj+0fd3nNXv\\u002fPyhAzFBpRwBAdsGprTfRAEDEQocKBlsBQBLEZGfU5AFAYEVCxKJuAkCuxh8hcfgCQPxH\\u002fX0\\u002fggNASsna2g0MBECYSrg33JUEQObLlZSqHwVANE1z8XipBUCCzlBORzMGQAAAAAAAAPh\\u002fZUAShwckBkBBaHugBpsFQB2Q5LkFEgVA+bdN0wSJBEDV37bsAwAEQLEHIAYDdwNAjS+JHwLuAkBpV\\u002fI4AWUCQEV\\u002fW1IA3AFAIafEa\\u002f9SAUD9zi2F\\u002fskAQNn2lp79QABAaj0AcPlv\\u002fz8ijdKi913+P9rcpNX1S\\u002f0\\u002fkSx3CPQ5\\u002fD9JfEk78if7PwLMG27wFfo\\u002fuRvuoO4D+T9xa8DT7PH3PwAAAAAAAPh\\u002fZUAShwckBkBgS\\u002fGOYsUGQFtW0Ja9ZgdAVmGvnhgICEBRbI6mc6kIQEx3ba7OSglAR4JMtinsCUBCjSu+hI0KQD2YCsbfLgtAOKPpzTrQC0AzrsjVlXEMQC65p93wEg1AKcSG5Uu0DUAkz2XtplUOQB\\u002faRPUB9w5AGuUj\\u002fVyYD0AKeIEC3BwQQIj9cIaJbRBABoNgCje+EECDCFCO5A4RQAAAAAAAAPh\\u002fcWvA0+zx9z97VQLENq\\u002f2P4U\\u002fRLSAbPU\\u002fjymGpMop9D+ZE8iUFOfyP6P9CYVepPE\\u002frudLdahh8D9voxvL5D3uP4N3n6t4uOs\\u002fl0sjjAwz6T+rH6dsoK3mP7\\u002fzKk00KOQ\\u002f1MeuLcii4T\\u002fQN2UcuDreP\\u002fjfbN3fL9k\\u002fIIh0ngcl1D+QYPi+XjTOP+iwB0GuHsQ\\u002fYAIuhvsRtD8AAF2zdWU5vwAAAAAAAPh\\u002f\"},\"z\":{\"dtype\":\"f8\",\"bdata\":\"6Qux219tUD97zNpp\\u002foxQPw2NBPicrFA\\u002fn00uhjvMUD8xDlgU2utQP8TOgaJ4C1E\\u002fVo+rMBcrUT\\u002foT9W+tUpRP3oQ\\u002f0xUalE\\u002fDNEo2\\u002fKJUT+ekVJpkalRPzBSfPcvyVE\\u002fwhKmhc7oUT9U088TbQhSP+aT+aELKFI\\u002feVQjMKpHUj8LFU2+SGdSP53VdkznhlI\\u002fL5ag2oWmUj\\u002fBVspoJMZSPwAAAAAAAPh\\u002f6Qux219tUD+K8yiNmu1fP5VtUJ\\u002fqtmc\\u002fZmEM+Ad3bz+bKmSokptzP4MkwlShe3c\\u002fax4gAbBbez9TGH6tvjt\\u002fPx4J7qzmjYE\\u002fEgYdA+59gz8GA0xZ9W2FP\\u002fr\\u002feq\\u002f8XYc\\u002f7vypBQROiT\\u002fh+dhbCz6LP9b2B7ISLo0\\u002fy\\u002fM2CBoejz9f+DKvEIeQP9l2SloUf5E\\u002fVPVhBRh3kj\\u002fOc3mwG2+TPwAAAAAAAPh\\u002f6Qux219tUD97zNpp\\u002foxQPw2NBPicrFA\\u002fn00uhjvMUD8xDlgU2utQP8TOgaJ4C1E\\u002fVo+rMBcrUT\\u002foT9W+tUpRP3oQ\\u002f0xUalE\\u002fDNEo2\\u002fKJUT+ekVJpkalRPzBSfPcvyVE\\u002fwhKmhc7oUT9U088TbQhSP+aT+aELKFI\\u002feVQjMKpHUj8LFU2+SGdSP53VdkznhlI\\u002fL5ag2oWmUj\\u002fBVspoJMZSPwAAAAAAAPh\\u002fwVbKaCTGUj8vlqDahaZSP53VdkznhlI\\u002fCxVNvkhnUj95VCMwqkdSP+aT+aELKFI\\u002fVNPPE20IUj\\u002fCEqaFzuhRPzBSfPcvyVE\\u002fnpFSaZGpUT8M0Sjb8olRP3oQ\\u002f0xUalE\\u002f6E\\u002fVvrVKUT9Wj6swFytRP8TOgaJ4C1E\\u002fMQ5YFNrrUD+fTS6GO8xQPw2NBPicrFA\\u002fe8zaaf6MUD\\u002fpC7HbX21QPwAAAAAAAPh\\u002fznN5sBtvkz9dkUTuEXmSP+yuDywIg5E\\u002fe8zaaf6MkD8U1EtP6S2PPzIP4srVQY0\\u002fUUp4RsJViz9vhQ7CrmmJP43ApD2bfYc\\u002fq\\u002fs6uYeRhT\\u002fJNtE0dKWDP+dxZ7BguYE\\u002fDFr7V5qafz9I0CdPc8J7P4RGVEZM6nc\\u002fvryAPSUSdD\\u002f8Mq00\\u002fjlwP3BSs1euw2g\\u002f6D4MRmATYT\\u002fAVspoJMZSPwAAAAAAAPh\\u002fznN5sBtvkz9dkUTuEXmSP+yuDywIg5E\\u002fe8zaaf6MkD8U1EtP6S2PPzIP4srVQY0\\u002fUUp4RsJViz9vhQ7CrmmJP43ApD2bfYc\\u002fq\\u002fs6uYeRhT\\u002fJNtE0dKWDP+dxZ7BguYE\\u002fDFr7V5qafz9I0CdPc8J7P4RGVEZM6nc\\u002fvryAPSUSdD\\u002f8Mq00\\u002fjlwP3BSs1euw2g\\u002f6D4MRmATYT\\u002fAVspoJMZSPwAAAAAAAPh\\u002fznN5sBtvkz9U9WEFGHeSP9p2SloUf5E\\u002fYPgyrxCHkD\\u002fM8zYIGh6PP9j2B7ISLo0\\u002f5PnYWws+iz\\u002fw\\u002fKkFBE6JP\\u002fz\\u002feq\\u002f8XYc\\u002fBwNMWfVthT8TBh0D7n2DPx8J7qzmjYE\\u002fVhh+rb47fz9wHiABsFt7P4YkwlShe3c\\u002fnCpkqJKbcz9sYQz4B3dvP6BtUJ\\u002fqtmc\\u002fkPMojZrtXz\\u002fwC7HbX21QPwAAAAAAAPh\\u002fwVbKaCTGUj\\u002foPgxGYBNhP3BSs1euw2g\\u002f+zKtNP45cD+\\u002fvIA9JRJ0P4NGVEZM6nc\\u002fRtAnT3PCez8KWvtXmpp\\u002fP+dxZ7BguYE\\u002fyTbRNHSlgz+r+zq5h5GFP43ApD2bfYc\\u002fboUOwq5piT9QSnhGwlWLPzIP4srVQY0\\u002fFdRLT+ktjz97zNpp\\u002foyQP+yuDywIg5E\\u002fXZFE7hF5kj\\u002fOc3mwG2+TPwAAAAAAAPh\\u002fFZWNxhruC0BEvnzRJOwLQHPna9wu6gtAohBb5zjoC0DROUryQuYLQABjOf1M5AtAL4woCFfiC0BetRcTYeALQI3eBh5r3gtAvAf2KHXcC0DqMOUzf9oLQBla1D6J2AtASIPDSZPWC0B3rLJUndQLQKbVoV+n0gtA1f6QarHQC0AEKIB1u84LQDNRb4DFzAtAYnpei8\\u002fKC0CRo02W2cgLQAAAAAAAAPh\\u002fFZWNxhruC0BEvnzRJOwLQHPna9wu6gtAohBb5zjoC0DROUryQuYLQABjOf1M5AtAL4woCFfiC0BetRcTYeALQI3eBh5r3gtAvAf2KHXcC0DqMOUzf9oLQBla1D6J2AtASIPDSZPWC0B3rLJUndQLQKbVoV+n0gtA1f6QarHQC0AEKIB1u84LQDNRb4DFzAtAYnpei8\\u002fKC0CRo02W2cgLQAAAAAAAAPh\\u002fkaNNltnIC0CRo02W2cgLQJGjTZbZyAtAkaNNltnIC0CRo02W2cgLQJGjTZbZyAtAkaNNltnIC0CRo02W2cgLQJGjTZbZyAtAkaNNltnIC0CRo02W2cgLQJGjTZbZyAtAkaNNltnIC0CRo02W2cgLQJGjTZbZyAtAkaNNltnIC0CRo02W2cgLQJGjTZbZyAtAkaNNltnIC0CRo02W2cgLQAAAAAAAAPh\\u002fkaNNltnIC0Biel6Lz8oLQDNRb4DFzAtABCiAdbvOC0DV\\u002fpBqsdALQKbVoV+n0gtAd6yyVJ3UC0BIg8NJk9YLQBla1D6J2AtA6jDlM3\\u002faC0C8B\\u002fYoddwLQI3eBh5r3gtAXrUXE2HgC0AvjCgIV+ILQABjOf1M5AtA0TlK8kLmC0CiEFvnOOgLQHPna9wu6gtARL580STsC0AVlY3GGu4LQAAAAAAAAPh\\u002fkaNNltnIC0Biel6Lz8oLQDNRb4DFzAtABCiAdbvOC0DV\\u002fpBqsdALQKbVoV+n0gtAd6yyVJ3UC0BIg8NJk9YLQBla1D6J2AtA6jDlM3\\u002faC0C8B\\u002fYoddwLQI3eBh5r3gtAXrUXE2HgC0AvjCgIV+ILQABjOf1M5AtA0TlK8kLmC0CiEFvnOOgLQHPna9wu6gtARL580STsC0AVlY3GGu4LQAAAAAAAAPh\\u002fZwC8fY7IC0CfxY1xksgLQNeKX2WWyAtAD1AxWZrIC0BHFQNNnsgLQIDa1ECiyAtAuJ+mNKbIC0DwZHgoqsgLQCgqShyuyAtAYO8bELLIC0CYtO0DtsgLQNB5v\\u002fe5yAtACD+R673IC0BABGPfwcgLQHjJNNPFyAtAsY4Gx8nIC0DpU9i6zcgLQCEZqq7RyAtAWd57otXIC0CRo02W2cgLQAAAAAAAAPh\\u002fZwC8fY7IC0CfxY1xksgLQNeKX2WWyAtAD1AxWZrIC0BHFQNNnsgLQIDa1ECiyAtAuJ+mNKbIC0DwZHgoqsgLQCgqShyuyAtAYO8bELLIC0CYtO0DtsgLQNB5v\\u002fe5yAtACD+R673IC0BABGPfwcgLQHjJNNPFyAtAsY4Gx8nIC0DpU9i6zcgLQCEZqq7RyAtAWd57otXIC0CRo02W2cgLQAAAAAAAAPh\\u002fkaNNltnIC0BZ3nui1cgLQCEZqq7RyAtA6VPYus3IC0CxjgbHycgLQHjJNNPFyAtAQARj38HIC0AIP5HrvcgLQNB5v\\u002fe5yAtAmLTtA7bIC0Bg7xsQssgLQCgqShyuyAtA8GR4KKrIC0C4n6Y0psgLQIDa1ECiyAtARxUDTZ7IC0APUDFZmsgLQNeKX2WWyAtAn8WNcZLIC0BnALx9jsgLQAAAAAAAAPh\\u002f\"},\"type\":\"scatter3d\"},{\"alphahull\":0,\"color\":\"#FFB5B5\",\"hovertemplate\":\"%{meta.position}\",\"legendgroup\":\"Atoms\",\"meta\":{\"position\":\"(0.09, 2.77, 0.00)\",\"meta\":{\"Atoms_i\":0}},\"name\":\"Atoms\",\"opacity\":1.0,\"showlegend\":true,\"showscale\":false,\"x\":{\"dtype\":\"f8\",\"bdata\":\"Tt7VaWP3tj9O3tVpY\\u002fe2P07e1Wlj97Y\\u002fTt7VaWP3tj9O3tVpY\\u002fe2P07e1Wlj97Y\\u002fTt7VaWP3tj9O3tVpY\\u002fe2P07e1Wlj97Y\\u002fTt7VaWP3tj9O3tVpY\\u002fe2P07e1Wlj97Y\\u002fTt7VaWP3tj9O3tVpY\\u002fe2P07e1Wlj97Y\\u002fQJObo60h0j\\u002fhgmt4kefQP1F3NSnn7so\\u002fY3xvtkr\\u002fwD+vh5nNYuCnPxDI\\u002fPodvJ+\\u002f5k4CDn+vtb9mkMK675e6v+hOAg5\\u002fr7W\\u002fIMj8+h28n7+ph5nNYuCnP2F8b7ZK\\u002f8A\\u002fUHc1Kefuyj\\u002fggmt4kefQP0CTm6OtIdI\\u002fzpmi6nXm3T9+5PLH\\u002fYHbP7zk3PrjzdQ\\u002f3BHsKhs8xj+AjjndB2l3Pyfr44tkpMK\\u002fVvUHE0wG0L+mqrc1xGrSv1j1BxNMBtC\\u002fKuvji2Skwr8QjjndB2l3P9gR7CobPMY\\u002fuuTc+uPN1D9+5PLH\\u002fYHbP86Zoup15t0\\u002f7tTDb4865D9Rcdt9gILiP5QNU7P4Yts\\u002fUnc1Kefuyj8MyPz6Hbyfv9k80PyNzs+\\u002fevPLRk+J2b+0upwqbfncv3zzy0ZPidm\\u002f3TzQ\\u002fI3Oz78wyPz6Hbyfv013NSnn7so\\u002fkg1Ts\\u002fhi2z9Rcdt9gILiP+7Uw2+POuQ\\u002ftCi4WhGj6D96A4WFQHvmP+y6eUEZceA\\u002fw6a4f17bzj\\u002fIIYtX7I+vv7CGCM6AZtW\\u002f5osPq2e94L8gsUKAOOXiv+aLD6tnveC\\u002fsoYIzoBm1b\\u002fgIYtX7I+vv72muH9e284\\u002f67p5QRlx4D96A4WFQHvmP7QouFoRo+g\\u002fAxnpKSr06z9ImjcNQ3jpP1Jx232AguI\\u002f4oJreJHn0D\\u002fkTgIOf6+1v3zzy0ZPidm\\u002fsyLCMmq6479voXNPUTbmv7QiwjJquuO\\u002ffvPLRk+J2b\\u002fyTgIOf6+1v96Ca3iR59A\\u002fUHHbfYCC4j9HmjcNQ3jpPwMZ6Skq9Os\\u002fDrq4FUYD7j9hcTi4K1PrP866BCgmy+M\\u002fsQiMYifS0T8iZoS21lm5v3KGHpuaGty\\u002fzPnC3VKV5b96QkM7bUXov835wt1SleW\\u002fdoYem5oa3L8wZoS21lm5v64IjGIn0tE\\u002fzLoEKCbL4z9gcTi4K1PrPw66uBVGA+4\\u002foV+rqva17j8DGekpKvTrP+\\u002fUw2+POuQ\\u002fQpObo60h0j9ikMK675e6v7S6nCpt+dy\\u002fbqFzT1E25r8N6DXQHfjov2+hc09RNua\\u002fuLqcKm353L9ykMK675e6vz6Tm6OtIdI\\u002f7dTDb4865D8CGekpKvTrP6Ffq6r2te4\\u002fDrq4FUYD7j9hcTi4K1PrP866BCgmy+M\\u002fsQiMYifS0T8iZoS21lm5v3KGHpuaGty\\u002fzPnC3VKV5b96QkM7bUXov835wt1SleW\\u002fdoYem5oa3L8wZoS21lm5v64IjGIn0tE\\u002fzLoEKCbL4z9gcTi4K1PrPw66uBVGA+4\\u002fAxnpKSr06z9ImjcNQ3jpP1Jx232AguI\\u002f4oJreJHn0D\\u002fkTgIOf6+1v3zzy0ZPidm\\u002fsyLCMmq6479voXNPUTbmv7QiwjJquuO\\u002ffvPLRk+J2b\\u002fyTgIOf6+1v96Ca3iR59A\\u002fUHHbfYCC4j9HmjcNQ3jpPwMZ6Skq9Os\\u002ftSi4WhGj6D97A4WFQHvmP+26eUEZceA\\u002fw6a4f17bzj\\u002fMIYtX7I+vv7KGCM6AZtW\\u002f54sPq2e94L8hsUKAOOXiv+eLD6tnveC\\u002ftIYIzoBm1b\\u002fkIYtX7I+vv76muH9e284\\u002f67p5QRlx4D97A4WFQHvmP7UouFoRo+g\\u002f79TDb4865D9Scdt9gILiP5YNU7P4Yts\\u002fUnc1Kefuyj8QyPz6Hbyfv9s80PyNzs+\\u002ffPPLRk+J2b+2upwqbfncv37zy0ZPidm\\u002f3zzQ\\u002fI3Oz784yPz6Hbyfv053NSnn7so\\u002flA1Ts\\u002fhi2z9Scdt9gILiP+\\u002fUw2+POuQ\\u002f0Jmi6nXm3T+A5PLH\\u002fYHbP7zk3PrjzdQ\\u002f3BHsKhs8xj9gjjndB2l3Pyrr44tkpMK\\u002fWPUHE0wG0L+oqrc1xGrSv1j1BxNMBtC\\u002fLevji2Skwr\\u002fwjTndB2l3P9oR7CobPMY\\u002fu+Tc+uPN1D+A5PLH\\u002fYHbP9CZoup15t0\\u002fQpObo60h0j\\u002fjgmt4kefQP1R3NSnn7so\\u002fZHxvtkr\\u002fwD+sh5nNYuCnPyTI\\u002fPodvJ+\\u002f7k4CDn+vtb9ukMK675e6v\\u002fBOAg5\\u002fr7W\\u002fNMj8+h28n7+lh5nNYuCnP2J8b7ZK\\u002f8A\\u002fUnc1Kefuyj\\u002figmt4kefQP0KTm6OtIdI\\u002fVt7VaWP3tj9V3tVpY\\u002fe2P1Pe1Wlj97Y\\u002fUN7VaWP3tj9M3tVpY\\u002fe2P0ne1Wlj97Y\\u002fR97VaWP3tj9G3tVpY\\u002fe2P0fe1Wlj97Y\\u002fSd7VaWP3tj9M3tVpY\\u002fe2P1De1Wlj97Y\\u002fU97VaWP3tj9V3tVpY\\u002fe2P1be1Wlj97Y\\u002f\"},\"y\":{\"dtype\":\"f8\",\"bdata\":\"ZUAShwckBkBlQBKHByQGQGVAEocHJAZAZUAShwckBkBlQBKHByQGQGVAEocHJAZAZUAShwckBkBlQBKHByQGQGVAEocHJAZAZUAShwckBkBlQBKHByQGQGVAEocHJAZAZUAShwckBkBlQBKHByQGQGVAEocHJAZAZUAShwckBkCQUnIeDtAGQN8bv1MCWgdAiRIVWJGmB0CJEhVYkaYHQN8bv1MCWgdAkFJyHg7QBkBlQBKHByQGQDousu8AeAVA62RlugzuBEBBbg+2faEEQEFuD7Z9oQRA62RlugzuBEA6LrLvAHgFQGVAEocHJAZAZUAShwckBkC7MW9udHMHQFGqFfJxgAhARMX1M7kVCUBExfUzuRUJQFGqFfJxgAhAuzFvbnRzB0BlQBKHByQGQA9PtZ+a1ARAedYOHJ3HA0CGuy7aVTIDQIa7LtpVMgNAedYOHJ3HA0AOT7WfmtQEQGVAEocHJAZAZUAShwckBkAKLh\\u002frCAYIQC4AIrySiAlAJsDE9RVfCkAmwMT1FV8KQC4AIrySiAlACi4f6wgGCEBlQBKHByQGQMBSBSMGQgRAnYACUny\\u002fAkCkwF8Y+egBQKTAXxj56AFAnIACUny\\u002fAkDAUgUjBkIEQGVAEocHJAZAZUAShwckBkBRqhXycYAIQJu2UhsmZQpAMS\\u002f5niNyC0AxL\\u002fmeI3ILQJu2UhsmZQpAUqoV8nGACEBlQBKHByQGQHnWDhydxwNAMMrR8ujiAUCZUStv69UAQJlRK2\\u002fr1QBAL8rR8ujiAUB41g4cnccDQGVAEocHJAZAZUAShwckBkAC7sEkjNwIQFHSJI0cCwtAy63RWRdBDEDLrdFZF0EMQFHSJI0cCwtAAu7BJIzcCEBlQBKHByQGQMiSYumCawNAea7\\u002fgPI8AUD\\u002f0lK09wYAQP\\u002fSUrT3BgBAea7\\u002fgPI8AUDHkmLpgmsDQGVAEocHJAZAZUAShwckBkBExfUzuRUJQDEv+Z4jcgtAhyBWhpDBDECHIFaGkMEMQDEv+Z4jcgtARMX1M7kVCUBlQBKHByQGQIa7LtpVMgNAmlErb+vVAECGwJwP\\u002fQz\\u002fP4bAnA\\u002f9DP8\\u002fmVErb+vVAECFuy7aVTIDQGVAEocHJAZAZUAShwckBkCs5BcpGykJQKCbccIQlQtA9r8x8R3tDED2vzHxHe0MQKCbccIQlQtArOQXKRspCUBlQBKHByQGQB6cDOXzHgNAK+WyS\\u002f6yAECogeU54rX+P6iB5Tnitf4\\u002fKuWyS\\u002f6yAEAdnAzl8x4DQGVAEocHJAZAZUAShwckBkBExfUzuRUJQDEv+Z4jcgtAhyBWhpDBDECHIFaGkMEMQDEv+Z4jcgtARMX1M7kVCUBlQBKHByQGQIa7LtpVMgNAmlErb+vVAECGwJwP\\u002fQz\\u002fP4bAnA\\u002f9DP8\\u002fmVErb+vVAECFuy7aVTIDQGVAEocHJAZAZUAShwckBkAC7sEkjNwIQFHSJI0cCwtAy63RWRdBDEDLrdFZF0EMQFHSJI0cCwtAAu7BJIzcCEBlQBKHByQGQMiSYumCawNAea7\\u002fgPI8AUD\\u002f0lK09wYAQP\\u002fSUrT3BgBAea7\\u002fgPI8AUDHkmLpgmsDQGVAEocHJAZAZUAShwckBkBRqhXycYAIQJu2UhsmZQpAMS\\u002f5niNyC0AxL\\u002fmeI3ILQJu2UhsmZQpAUqoV8nGACEBlQBKHByQGQHnWDhydxwNAL8rR8ujiAUCZUStv69UAQJlRK2\\u002fr1QBAL8rR8ujiAUB41g4cnccDQGVAEocHJAZAZUAShwckBkAKLh\\u002frCAYIQC4AIrySiAlAJsDE9RVfCkAmwMT1FV8KQC4AIrySiAlACi4f6wgGCEBlQBKHByQGQMBSBSMGQgRAnIACUny\\u002fAkCkwF8Y+egBQKTAXxj56AFAnIACUny\\u002fAkDAUgUjBkIEQGVAEocHJAZAZUAShwckBkC7MW9udHMHQFKqFfJxgAhARcX1M7kVCUBFxfUzuRUJQFKqFfJxgAhAvDFvbnRzB0BlQBKHByQGQA9PtZ+a1ARAedYOHJ3HA0CFuy7aVTIDQIW7LtpVMgNAeNYOHJ3HA0AOT7WfmtQEQGVAEocHJAZAZUAShwckBkCQUnIeDtAGQN8bv1MCWgdAiRIVWJGmB0CJEhVYkaYHQN8bv1MCWgdAkFJyHg7QBkBlQBKHByQGQDousu8AeAVA62RlugzuBEBBbg+2faEEQEFuD7Z9oQRA62RlugzuBEA6LrLvAHgFQGVAEocHJAZAZUAShwckBkBlQBKHByQGQGVAEocHJAZAZUAShwckBkBlQBKHByQGQGVAEocHJAZAZUAShwckBkBlQBKHByQGQGVAEocHJAZAZUAShwckBkBlQBKHByQGQGVAEocHJAZAZUAShwckBkBlQBKHByQGQGVAEocHJAZA\"},\"z\":{\"dtype\":\"f8\",\"bdata\":\"XXxe7UDf6z9dfF7tQN\\u002frP118Xu1A3+s\\u002fXXxe7UDf6z9dfF7tQN\\u002frP118Xu1A3+s\\u002fXXxe7UDf6z9dfF7tQN\\u002frP118Xu1A3+s\\u002fXXxe7UDf6z9dfF7tQN\\u002frP118Xu1A3+s\\u002fXXxe7UDf6z9dfF7tQN\\u002frP118Xu1A3+s\\u002fytZrWJAs6z\\u002fK1mtYkCzrP8rWa1iQLOs\\u002fytZrWJAs6z\\u002fK1mtYkCzrP8rWa1iQLOs\\u002fytZrWJAs6z\\u002fK1mtYkCzrP8rWa1iQLOs\\u002fytZrWJAs6z\\u002fK1mtYkCzrP8rWa1iQLOs\\u002fytZrWJAs6z\\u002fK1mtYkCzrP8rWa1iQLOs\\u002fvzWcbHQd6T+\\u002fNZxsdB3pP781nGx0Hek\\u002fvzWcbHQd6T+\\u002fNZxsdB3pP781nGx0Hek\\u002fvzWcbHQd6T+\\u002fNZxsdB3pP781nGx0Hek\\u002fvzWcbHQd6T+\\u002fNZxsdB3pP781nGx0Hek\\u002fvzWcbHQd6T+\\u002fNZxsdB3pP781nGx0Hek\\u002fcEVrnVvM5T9wRWudW8zlP3BFa51bzOU\\u002fcEVrnVvM5T9wRWudW8zlP3BFa51bzOU\\u002fcEVrnVvM5T9wRWudW8zlP3BFa51bzOU\\u002fcEVrnVvM5T9wRWudW8zlP3BFa51bzOU\\u002fcEVrnVvM5T9wRWudW8zlP3BFa51bzOU\\u002fq\\u002fF2stlj4T+r8Xay2WPhP6vxdrLZY+E\\u002fq\\u002fF2stlj4T+r8Xay2WPhP6vxdrLZY+E\\u002fq\\u002fF2stlj4T+r8Xay2WPhP6vxdrLZY+E\\u002fq\\u002fF2stlj4T+r8Xay2WPhP6vxdrLZY+E\\u002fq\\u002fF2stlj4T+r8Xay2WPhP6vxdrLZY+E\\u002fR9MIcAo52D9H0whwCjnYP0fTCHAKOdg\\u002fR9MIcAo52D9H0whwCjnYP0fTCHAKOdg\\u002fR9MIcAo52D9H0whwCjnYP0fTCHAKOdg\\u002fR9MIcAo52D9H0whwCjnYP0fTCHAKOdg\\u002fR9MIcAo52D9H0whwCjnYP0fTCHAKOdg\\u002fdJkDUoToyD90mQNShOjIP3SZA1KE6Mg\\u002fdJkDUoToyD90mQNShOjIP3SZA1KE6Mg\\u002fdJkDUoToyD90mQNShOjIP3SZA1KE6Mg\\u002fdJkDUoToyD90mQNShOjIP3SZA1KE6Mg\\u002fdJkDUoToyD90mQNShOjIP3SZA1KE6Mg\\u002f3wyx219tUD\\u002ffDLHbX21QP98MsdtfbVA\\u002f3wyx219tUD\\u002ffDLHbX21QP98MsdtfbVA\\u002f3wyx219tUD\\u002ffDLHbX21QP98MsdtfbVA\\u002f3wyx219tUD\\u002ffDLHbX21QP98MsdtfbVA\\u002f3wyx219tUD\\u002ffDLHbX21QP98MsdtfbVA\\u002fQNWU0s6myL9A1ZTSzqbIv0DVlNLOpsi\\u002fQNWU0s6myL9A1ZTSzqbIv0DVlNLOpsi\\u002fQNWU0s6myL9A1ZTSzqbIv0DVlNLOpsi\\u002fQNWU0s6myL9A1ZTSzqbIv0DVlNLOpsi\\u002fQNWU0s6myL9A1ZTSzqbIv0DVlNLOpsi\\u002fLXFRsC8Y2L8tcVGwLxjYvy1xUbAvGNi\\u002fLXFRsC8Y2L8tcVGwLxjYvy1xUbAvGNi\\u002fLXFRsC8Y2L8tcVGwLxjYvy1xUbAvGNi\\u002fLXFRsC8Y2L8tcVGwLxjYvy1xUbAvGNi\\u002fLXFRsC8Y2L8tcVGwLxjYvy1xUbAvGNi\\u002fnkCbUmxT4b+eQJtSbFPhv55Am1JsU+G\\u002fnkCbUmxT4b+eQJtSbFPhv55Am1JsU+G\\u002fnkCbUmxT4b+eQJtSbFPhv55Am1JsU+G\\u002fnkCbUmxT4b+eQJtSbFPhv55Am1JsU+G\\u002fnkCbUmxT4b+eQJtSbFPhv55Am1JsU+G\\u002fZJSPPe675b9klI897rvlv2SUjz3uu+W\\u002fZJSPPe675b9klI897rvlv2SUjz3uu+W\\u002fZJSPPe675b9klI897rvlv2SUjz3uu+W\\u002fZJSPPe675b9klI897rvlv2SUjz3uu+W\\u002fZJSPPe675b9klI897rvlv2SUjz3uu+W\\u002fsoTADAcN6b+yhMAMBw3pv7KEwAwHDem\\u002fsoTADAcN6b+yhMAMBw3pv7KEwAwHDem\\u002fsoTADAcN6b+yhMAMBw3pv7KEwAwHDem\\u002fsoTADAcN6b+yhMAMBw3pv7KEwAwHDem\\u002fsoTADAcN6b+yhMAMBw3pv7KEwAwHDem\\u002fviWQ+CIc67++JZD4Ihzrv74lkPgiHOu\\u002fviWQ+CIc67++JZD4Ihzrv74lkPgiHOu\\u002fviWQ+CIc67++JZD4Ihzrv74lkPgiHOu\\u002fviWQ+CIc67++JZD4Ihzrv74lkPgiHOu\\u002fviWQ+CIc67++JZD4Ihzrv74lkPgiHOu\\u002fUcuCjdPO679Ry4KN087rv1HLgo3Tzuu\\u002fUcuCjdPO679Ry4KN087rv1HLgo3Tzuu\\u002fUcuCjdPO679Ry4KN087rv1HLgo3Tzuu\\u002fUcuCjdPO679Ry4KN087rv1HLgo3Tzuu\\u002fUcuCjdPO679Ry4KN087rv1HLgo3Tzuu\\u002f\"},\"type\":\"mesh3d\"},{\"alphahull\":0,\"color\":\"#3050F8\",\"hovertemplate\":\"%{meta.position}\",\"legendgroup\":\"Atoms\",\"meta\":{\"position\":\"(0.82, 1.50, 0.00)\",\"meta\":{\"Atoms_i\":1}},\"name\":\"Atoms\",\"opacity\":1.0,\"showlegend\":false,\"showscale\":false,\"x\":{\"dtype\":\"f8\",\"bdata\":\"0QJn+vst6j\\u002fRAmf6+y3qP9ECZ\\u002fr7Leo\\u002f0QJn+vst6j\\u002fRAmf6+y3qP9ECZ\\u002fr7Leo\\u002f0QJn+vst6j\\u002fRAmf6+y3qP9ECZ\\u002fr7Leo\\u002f0QJn+vst6j\\u002fRAmf6+y3qP9ECZ\\u002fr7Leo\\u002f0QJn+vst6j\\u002fRAmf6+y3qP9ECZ\\u002fr7Leo\\u002f6JvIs80q7j9sO4HstcXtP8BKZGV0quw\\u002fsd76TyMR6z\\u002fxJtOk1ErpP+K6aY+Dsec\\u002fN8pMCEKW5j+6aQVBKjHmPzbKTAhCluY\\u002f4rppj4Ox5z\\u002fwJtOk1ErpP7He+k8jEes\\u002fwEpkZXSq7D9rO4HstcXtP+ibyLPNKu4\\u002fDrOkoTf68D\\u002f4XYu2qJfwP1TfaoACB+8\\u002f2lcssubo6z\\u002fJraFCEXPoP04mY3T1VOU\\u002fskm3h6Ys4z+Gn4SxiGfiP7JJt4emLOM\\u002fTiZjdPVU5T\\u002fIraFCEXPoP9lXLLLm6Os\\u002fU99qgAIH7z\\u002f4XYu2qJfwPw6zpKE3+vA\\u002fj4b+yyCt8j85DnAIgB\\u002fyP54vidaqkvA\\u002fwEpkZXSq7D\\u002fiummPg7HnP2emu0eiNuM\\u002fMOnt4\\u002fcc4D8J8aG5bAPePzDp7eP3HOA\\u002fZqa7R6I24z\\u002fhummPg7HnP8BKZGV0quw\\u002fnS+J1qqS8D85DnAIgB\\u002fyP4+G\\u002fssgrfI\\u002fiDrjb1MY9D9PoabkumbzP3wIbhIedfE\\u002fS4qlyBdM7T9Xeygs4A\\u002fnP6r08c+7ceE\\u002fCIYBVwQd2z8kIQ8qolbYPweGAVcEHds\\u002fqPTxz7tx4T9Weygs4A\\u002fnP0qKpcgXTO0\\u002ffAhuEh518T9PoabkumbzP4g6429TGPQ\\u002ffs77Npkp9T93GEes8Fz0PzkOcAiAH\\u002fI\\u002fbDuB7LXF7T83ykwIQpbmPzDp7eP3HOA\\u002faql\\u002fOC1E1z9M0awNixHUP2mpfzgtRNc\\u002fL+nt4\\u002fcc4D82ykwIQpbmP2s7gey1xe0\\u002fOQ5wCIAf8j92GEes8Fz0P37O+zaZKfU\\u002fkI+oJz7T9T8M5cXLyPX0P8v2w4hFifI\\u002fdzTYnjUR7j8s0fVVwkrmPxgwjMbZkt4\\u002fFHeEuszg1D8CzflK92rRPxN3hLrM4NQ\\u002fFjCMxtmS3j8r0fVVwkrmP3Y02J41Ee4\\u002fyvbDiEWJ8j8M5cXLyPX0P5CPqCc+0\\u002fU\\u002fXqqPjMAM9j9+zvs2mSn1P4+G\\u002fssgrfI\\u002f6ZvIs80q7j+6aQVBKjHmPwnxoblsA94\\u002fTNGsDYsR1D\\u002fKYV237YTQP0zRrA2LEdQ\\u002fB\\u002fGhuWwD3j+5aQVBKjHmP+ibyLPNKu4\\u002fjob+yyCt8j9+zvs2mSn1P16qj4zADPY\\u002fkI+oJz7T9T8M5cXLyPX0P8v2w4hFifI\\u002fdzTYnjUR7j8s0fVVwkrmPxgwjMbZkt4\\u002fFHeEuszg1D8CzflK92rRPxN3hLrM4NQ\\u002fFjCMxtmS3j8r0fVVwkrmP3Y02J41Ee4\\u002fyvbDiEWJ8j8M5cXLyPX0P5CPqCc+0\\u002fU\\u002ffs77Npkp9T93GEes8Fz0PzkOcAiAH\\u002fI\\u002fbDuB7LXF7T83ykwIQpbmPzDp7eP3HOA\\u002faql\\u002fOC1E1z9M0awNixHUP2mpfzgtRNc\\u002fL+nt4\\u002fcc4D82ykwIQpbmP2s7gey1xe0\\u002fOQ5wCIAf8j92GEes8Fz0P37O+zaZKfU\\u002fiDrjb1MY9D9QoabkumbzP30IbhIedfE\\u002fS4qlyBdM7T9Xeygs4A\\u002fnP6n08c+7ceE\\u002fB4YBVwQd2z8jIQ8qolbYPwaGAVcEHds\\u002fqPTxz7tx4T9Weygs4A\\u002fnP0qKpcgXTO0\\u002ffAhuEh518T9PoabkumbzP4g6429TGPQ\\u002fj4b+yyCt8j85DnAIgB\\u002fyP54vidaqkvA\\u002fwEpkZXSq7D\\u002fiummPg7HnP2emu0eiNuM\\u002fMOnt4\\u002fcc4D8I8aG5bAPePzDp7eP3HOA\\u002fZqa7R6I24z\\u002fhummPg7HnP8BKZGV0quw\\u002fni+J1qqS8D85DnAIgB\\u002fyP4+G\\u002fssgrfI\\u002fDrOkoTf68D\\u002f4XYu2qJfwP1TfaoACB+8\\u002f2lcssubo6z\\u002fJraFCEXPoP04mY3T1VOU\\u002fsUm3h6Ys4z+Gn4SxiGfiP7FJt4emLOM\\u002fTiZjdPVU5T\\u002fIraFCEXPoP9lXLLLm6Os\\u002fVN9qgAIH7z\\u002f4XYu2qJfwPw6zpKE3+vA\\u002f6ZvIs80q7j9sO4HstcXtP8FKZGV0quw\\u002fst76TyMR6z\\u002fxJtOk1ErpP+K6aY+Dsec\\u002fNspMCEKW5j+5aQVBKjHmPzbKTAhCluY\\u002f4bppj4Ox5z\\u002fwJtOk1ErpP7He+k8jEes\\u002fwEpkZXSq7D9sO4HstcXtP+mbyLPNKu4\\u002f0gJn+vst6j\\u002fSAmf6+y3qP9ECZ\\u002fr7Leo\\u002f0QJn+vst6j\\u002fRAmf6+y3qP9ECZ\\u002fr7Leo\\u002f0AJn+vst6j\\u002fQAmf6+y3qP9ACZ\\u002fr7Leo\\u002f0QJn+vst6j\\u002fRAmf6+y3qP9ECZ\\u002fr7Leo\\u002f0QJn+vst6j\\u002fSAmf6+y3qP9ICZ\\u002fr7Leo\\u002f\"},\"y\":{\"dtype\":\"f8\",\"bdata\":\"cWvA0+zx9z9xa8DT7PH3P3FrwNPs8fc\\u002fcWvA0+zx9z9xa8DT7PH3P3FrwNPs8fc\\u002fcWvA0+zx9z9xa8DT7PH3P3FrwNPs8fc\\u002fcWvA0+zx9z9xa8DT7PH3P3FrwNPs8fc\\u002fcWvA0+zx9z9xa8DT7PH3P3FrwNPs8fc\\u002fcWvA0+zx9z\\u002f1FaMvYs\\u002f4Py6v37r6gPk\\u002fRAT5pYnj+T9EBPmlieP5Py6v37r6gPk\\u002f9RWjL2LP+D9xa8DT7PH3P+3A3Xd3FPc\\u002ftCeh7N5i9j+e0ocBUAD2P57ShwFQAPY\\u002ftCeh7N5i9j\\u002ftwN13dxT3P3FrwNPs8fc\\u002fcWvA0+zx9z9Z\\u002fQi0vKH5P7YrTAIG\\u002fPo\\u002fSlR+qTK8+z9KVH6pMrz7P7YrTAIG\\u002fPo\\u002fWf0ItLyh+T9xa8DT7PH3P4nZd\\u002fMcQvY\\u002fLKs0pdPn9D+YggL+pif0P5iCAv6mJ\\u002fQ\\u002fLKs0pdPn9D+J2XfzHEL2P3FrwNPs8fc\\u002fcWvA0+zx9z+yWcIWcF76P4Xy+ugMUPw\\u002f0+BQXzRk\\u002fT\\u002fT4FBfNGT9P4Xy+ugMUPw\\u002fslnCFnBe+j9xa8DT7PH3PzB9vpBphfU\\u002fXeSFvsyT8z8P9i9IpX\\u002fyPw\\u002f2L0ilf\\u002fI\\u002fXeSFvsyT8z8vfb6QaYX1P3FrwNPs8fc\\u002fcWvA0+zx9z+2K0wCBvz6PzLmxokCbP0\\u002fjxQK2EvG\\u002fj+PFArYS8b+PzLmxokCbP0\\u002ftitMAgb8+j9xa8DT7PH3PyyrNKXT5\\u002fQ\\u002fsPC5Hdd38j9TwnbPjR3xP1PCds+NHfE\\u002fsPC5Hdd38j8sqzSl0+f0P3FrwNPs8fc\\u002fcWvA0+zx9z8BSBiNl3L7P1iLM7upQf4\\u002fFM9SorfQ\\u002fz8Uz1Kit9D\\u002fP1iLM7upQf4\\u002fAUgYjZdy+z9xa8DT7PH3P+KOaBpCcfQ\\u002fi0tN7C+i8T\\u002fOBy4FIhPwP84HLgUiE\\u002fA\\u002fiktN7C+i8T\\u002fhjmgaQnH0P3BrwNPs8fc\\u002fcWvA0+zx9z9KVH6pMrz7P48UCthLxv4\\u002fPFMp3A07AEA8UyncDTsAQI8UCthLxv4\\u002fSlR+qTK8+z9xa8DT7PH3P5iCAv6mJ\\u002fQ\\u002fU8J2z40d8T\\u002fWYFzee9vuP9ZgXN572+4\\u002fU8J2z40d8T+XggL+pif0P3BrwNPs8fc\\u002fcWvA0+zx9z8WnTF4JtX7P5AkcEZC8\\u002f4\\u002fzLwafxZXAEDMvBp\\u002fFlcAQJEkcEZC8\\u002f4\\u002fF50xeCbV+z9xa8DT7PH3P8w5Ty+zDvQ\\u002fUrIQYZfw8D+SupZSWWvuP5K6llJZa+4\\u002fUbIQYZfw8D\\u002fLOU8vsw70P3BrwNPs8fc\\u002fcWvA0+zx9z9KVH6pMrz7P48UCthLxv4\\u002fPFMp3A07AEA8UyncDTsAQI8UCthLxv4\\u002fSlR+qTK8+z9xa8DT7PH3P5iCAv6mJ\\u002fQ\\u002fU8J2z40d8T\\u002fWYFzee9vuP9ZgXN572+4\\u002fU8J2z40d8T+XggL+pif0P3BrwNPs8fc\\u002fcWvA0+zx9z8BSBiNl3L7P1iLM7upQf4\\u002fFM9SorfQ\\u002fz8Uz1Kit9D\\u002fP1iLM7upQf4\\u002fAUgYjZdy+z9xa8DT7PH3P+KOaBpCcfQ\\u002fi0tN7C+i8T\\u002fOBy4FIhPwP84HLgUiE\\u002fA\\u002fiktN7C+i8T\\u002fhjmgaQnH0P3BrwNPs8fc\\u002fcWvA0+zx9z+2K0wCBvz6PzLmxokCbP0\\u002fjxQK2EvG\\u002fj+PFArYS8b+PzLmxokCbP0\\u002ftitMAgb8+j9xa8DT7PH3PyyrNKXT5\\u002fQ\\u002fsPC5Hdd38j9TwnbPjR3xP1PCds+NHfE\\u002fsPC5Hdd38j8sqzSl0+f0P3FrwNPs8fc\\u002fcWvA0+zx9z+yWcIWcF76P4Xy+ugMUPw\\u002f1OBQXzRk\\u002fT\\u002fU4FBfNGT9P4Xy+ugMUPw\\u002fslnCFnBe+j9xa8DT7PH3PzB9vpBphfU\\u002fXeSFvsyT8z8O9i9IpX\\u002fyPw72L0ilf\\u002fI\\u002fXeSFvsyT8z8vfb6QaYX1P3FrwNPs8fc\\u002fcWvA0+zx9z9Z\\u002fQi0vKH5P7YrTAIG\\u002fPo\\u002fSlR+qTK8+z9KVH6pMrz7P7YrTAIG\\u002fPo\\u002fWf0ItLyh+T9xa8DT7PH3P4nZd\\u002fMcQvY\\u002fLKs0pdPn9D+YggL+pif0P5iCAv6mJ\\u002fQ\\u002fLKs0pdPn9D+J2XfzHEL2P3FrwNPs8fc\\u002fcWvA0+zx9z\\u002f1FaMvYs\\u002f4Py6v37r6gPk\\u002fRAT5pYnj+T9EBPmlieP5Py6v37r6gPk\\u002f9RWjL2LP+D9xa8DT7PH3P+3A3Xd3FPc\\u002ftCeh7N5i9j+e0ocBUAD2P57ShwFQAPY\\u002ftCeh7N5i9j\\u002ftwN13dxT3P3FrwNPs8fc\\u002fcWvA0+zx9z9xa8DT7PH3P3FrwNPs8fc\\u002fcWvA0+zx9z9xa8DT7PH3P3FrwNPs8fc\\u002fcWvA0+zx9z9xa8DT7PH3P3FrwNPs8fc\\u002fcWvA0+zx9z9xa8DT7PH3P3FrwNPs8fc\\u002fcWvA0+zx9z9xa8DT7PH3P3FrwNPs8fc\\u002f\"},\"z\":{\"dtype\":\"f8\",\"bdata\":\"F7fsMOj04T8Xt+ww6PThPxe37DDo9OE\\u002fF7fsMOj04T8Xt+ww6PThPxe37DDo9OE\\u002fF7fsMOj04T8Xt+ww6PThPxe37DDo9OE\\u002fF7fsMOj04T8Xt+ww6PThPxe37DDo9OE\\u002fF7fsMOj04T8Xt+ww6PThPxe37DDo9OE\\u002fe4EeZ+OB4T97gR5n44HhP3uBHmfjgeE\\u002fe4EeZ+OB4T97gR5n44HhP3uBHmfjgeE\\u002fe4EeZ+OB4T97gR5n44HhP3uBHmfjgeE\\u002fe4EeZ+OB4T97gR5n44HhP3uBHmfjgeE\\u002fe4EeZ+OB4T97gR5n44HhP3uBHmfjgeE\\u002fVv\\u002fEhZku4D9W\\u002f8SFmS7gP1b\\u002fxIWZLuA\\u002fVv\\u002fEhZku4D9W\\u002f8SFmS7gP1b\\u002fxIWZLuA\\u002fVv\\u002fEhZku4D9W\\u002f8SFmS7gP1b\\u002fxIWZLuA\\u002fVv\\u002fEhZku4D9W\\u002f8SFmS7gP1b\\u002fxIWZLuA\\u002fVv\\u002fEhZku4D9W\\u002f8SFmS7gP1b\\u002fxIWZLuA\\u002f1a4n7xsY3D\\u002fVrifvGxjcP9WuJ+8bGNw\\u002f1a4n7xsY3D\\u002fVrifvGxjcP9WuJ+8bGNw\\u002f1a4n7xsY3D\\u002fVrifvGxjcP9WuJ+8bGNw\\u002f1a4n7xsY3D\\u002fVrifvGxjcP9WuJ+8bGNw\\u002f1a4n7xsY3D\\u002fVrifvGxjcP9WuJ+8bGNw\\u002f8d6UX1Fr1j\\u002fx3pRfUWvWP\\u002fHelF9Ra9Y\\u002f8d6UX1Fr1j\\u002fx3pRfUWvWP\\u002fHelF9Ra9Y\\u002f8d6UX1Fr1j\\u002fx3pRfUWvWP\\u002fHelF9Ra9Y\\u002f8d6UX1Fr1j\\u002fx3pRfUWvWP\\u002fHelF9Ra9Y\\u002f8d6UX1Fr1j\\u002fx3pRfUWvWP\\u002fHelF9Ra9Y\\u002f2iFbbFk\\u002fzz\\u002faIVtsWT\\u002fPP9ohW2xZP88\\u002f2iFbbFk\\u002fzz\\u002faIVtsWT\\u002fPP9ohW2xZP88\\u002f2iFbbFk\\u002fzz\\u002faIVtsWT\\u002fPP9ohW2xZP88\\u002f2iFbbFk\\u002fzz\\u002faIVtsWT\\u002fPP9ohW2xZP88\\u002f2iFbbFk\\u002fzz\\u002faIVtsWT\\u002fPP9ohW2xZP88\\u002fDflXLtMYwD8N+Vcu0xjAPw35Vy7TGMA\\u002fDflXLtMYwD8N+Vcu0xjAPw35Vy7TGMA\\u002fDflXLtMYwD8N+Vcu0xjAPw35Vy7TGMA\\u002fDflXLtMYwD8N+Vcu0xjAPw35Vy7TGMA\\u002fDflXLtMYwD8N+Vcu0xjAPw35Vy7TGMA\\u002fX1fKaCTGUj9fV8poJMZSP19XymgkxlI\\u002fX1fKaCTGUj9fV8poJMZSP19XymgkxlI\\u002fX1fKaCTGUj9fV8poJMZSP19XymgkxlI\\u002fX1fKaCTGUj9fV8poJMZSP19XymgkxlI\\u002fX1fKaCTGUj9fV8poJMZSP19XymgkxlI\\u002fXp9pOXWbv79en2k5dZu\\u002fv16faTl1m7+\\u002fXp9pOXWbv79en2k5dZu\\u002fv16faTl1m7+\\u002fXp9pOXWbv79en2k5dZu\\u002fv16faTl1m7+\\u002fXp9pOXWbv79en2k5dZu\\u002fv16faTl1m7+\\u002fXp9pOXWbv79en2k5dZu\\u002fv16faTl1m7+\\u002ffPi32kD0zr98+LfaQPTOv3z4t9pA9M6\\u002ffPi32kD0zr98+LfaQPTOv3z4t9pA9M6\\u002ffPi32kD0zr98+LfaQPTOv3z4t9pA9M6\\u002ffPi32kD0zr98+LfaQPTOv3z4t9pA9M6\\u002ffPi32kD0zr98+LfaQPTOv3z4t9pA9M6\\u002fQkrDFsVF1r9CSsMWxUXWv0JKwxbFRda\\u002fQkrDFsVF1r9CSsMWxUXWv0JKwxbFRda\\u002fQkrDFsVF1r9CSsMWxUXWv0JKwxbFRda\\u002fQkrDFsVF1r9CSsMWxUXWv0JKwxbFRda\\u002fQkrDFsVF1r9CSsMWxUXWv0JKwxbFRda\\u002fJxpWpo\\u002fy278nGlamj\\u002fLbvycaVqaP8tu\\u002fJxpWpo\\u002fy278nGlamj\\u002fLbvycaVqaP8tu\\u002fJxpWpo\\u002fy278nGlamj\\u002fLbvycaVqaP8tu\\u002fJxpWpo\\u002fy278nGlamj\\u002fLbvycaVqaP8tu\\u002fJxpWpo\\u002fy278nGlamj\\u002fLbvycaVqaP8tu\\u002fADVcYdMb4L8ANVxh0xvgvwA1XGHTG+C\\u002fADVcYdMb4L8ANVxh0xvgvwA1XGHTG+C\\u002fADVcYdMb4L8ANVxh0xvgvwA1XGHTG+C\\u002fADVcYdMb4L8ANVxh0xvgvwA1XGHTG+C\\u002fADVcYdMb4L8ANVxh0xvgvwA1XGHTG+C\\u002fJbe1Qh1v4b8lt7VCHW\\u002fhvyW3tUIdb+G\\u002fJbe1Qh1v4b8lt7VCHW\\u002fhvyW3tUIdb+G\\u002fJbe1Qh1v4b8lt7VCHW\\u002fhvyW3tUIdb+G\\u002fJbe1Qh1v4b8lt7VCHW\\u002fhvyW3tUIdb+G\\u002fJbe1Qh1v4b8lt7VCHW\\u002fhvyW3tUIdb+G\\u002fweyDDCLi4b\\u002fB7IMMIuLhv8Hsgwwi4uG\\u002fweyDDCLi4b\\u002fB7IMMIuLhv8Hsgwwi4uG\\u002fweyDDCLi4b\\u002fB7IMMIuLhv8Hsgwwi4uG\\u002fweyDDCLi4b\\u002fB7IMMIuLhv8Hsgwwi4uG\\u002fweyDDCLi4b\\u002fB7IMMIuLhv8Hsgwwi4uG\\u002f\"},\"type\":\"mesh3d\"},{\"alphahull\":0,\"color\":\"#FFB5B5\",\"hovertemplate\":\"%{meta.position}\",\"legendgroup\":\"Atoms\",\"meta\":{\"position\":\"(3.02, 0.00, 0.02)\",\"meta\":{\"Atoms_i\":2}},\"name\":\"Atoms\",\"opacity\":1.0,\"showlegend\":false,\"showscale\":false,\"x\":{\"dtype\":\"f8\",\"bdata\":\"C\\u002fJxdRkrCEAL8nF1GSsIQAvycXUZKwhAC\\u002fJxdRkrCEAL8nF1GSsIQAvycXUZKwhAC\\u002fJxdRkrCEAL8nF1GSsIQAvycXUZKwhAC\\u002fJxdRkrCEAL8nF1GSsIQAvycXUZKwhAC\\u002fJxdRkrCEAL8nF1GSsIQAvycXUZKwhAgbWWDpS3CUB1szCJUJAJQI6atsxMIglA3zqKBVODCEA3qVnl39IHQIhJLR7mMwdAoTCzYeLFBkCVLk3cnp4GQKEws2HixQZAiEktHuYzB0A3qVnl39IHQN86igVTgwhAjpq2zEwiCUB1szCJUJAJQIG1lg6UtwlAUpZ3Fy0wC0ConyETnuMKQLDfftkaDQpANgTSDCDXCEDg3xHeEn8HQGYEZREYSQZAbkTC15RyBUDETWzTBSYFQG5EwteUcgVAZgRlERhJBkDg3xHeEn8HQDYE0gwg1whAsN9+2RoNCkConyETnuMKQFKWdxctMAtAVDgUNgKCDEBtH5p5\\u002fhMMQMukjXC93wpAjpq2zEwiCUCISS0e5jMHQEs\\u002fVnp1dgVAqcRJcTRCBEDCq8+0MNQDQKnESXE0QgRASz9WenV2BUCISS0e5jMHQI2atsxMIglAy6SNcL3fCkBtH5p5\\u002fhMMQFQ4FDYCggxARk3RsCKcDUD3g4R7LhINQNSxgaqkjwtAhc0eQhRhCUCRFsWoHvUGQEMyYkCOxgRAH2BfbwREA0DQlhI6ELoCQB9gX28ERANAQjJiQI7GBECRFsWoHvUGQITNHkIUYQlA07GBqqSPC0D3g4R7LhINQEZN0bAinA1AWYmd5GhwDkCqKXEdb9ENQG0fmnn+EwxAdbMwiVCQCUChMLNh4sUGQKnESXE0QgRAbLpyzcOEAkC9WkYGyuUBQGy6cs3DhAJAqcRJcTRCBEChMLNh4sUGQHSzMIlQkAlAbR+aef4TDECqKXEdb9ENQFmJneRocA5AnHGR3y\\u002f0DkBxXzFIKUgOQMxxJOQnZgxAL8R0RqOtCUDoH2+kj6gGQEpyvwYL8ANApoSyogkOAkB6clILA2IBQKWEsqIJDgJASnK\\u002fBgvwA0DnH2+kj6gGQC7EdEajrQlAzHEk5CdmDEBwXzFIKUgOQJxxkd8v9A5AARvOBNwgD0BZiZ3kaHAOQFQ4FDYCggxAgbWWDpS3CUCWLk3cnp4GQMKrz7Qw1ANAvVpGBsrlAUAVyRXmVjUBQL1aRgbK5QFAwqvPtDDUA0CVLk3cnp4GQIC1lg6UtwlAVDgUNgKCDEBZiZ3kaHAOQAEbzgTcIA9AnHGR3y\\u002f0DkBxXzFIKUgOQMxxJOQnZgxAL8R0RqOtCUDoH2+kj6gGQEpyvwYL8ANApoSyogkOAkB6clILA2IBQKWEsqIJDgJASnK\\u002fBgvwA0DnH2+kj6gGQC7EdEajrQlAzHEk5CdmDEBwXzFIKUgOQJxxkd8v9A5AWYmd5GhwDkCqKXEdb9ENQG0fmnn+EwxAdbMwiVCQCUChMLNh4sUGQKnESXE0QgRAbLpyzcOEAkC9WkYGyuUBQGy6cs3DhAJAqcRJcTRCBEChMLNh4sUGQHSzMIlQkAlAbR+aef4TDECqKXEdb9ENQFmJneRocA5ARk3RsCKcDUD3g4R7LhINQNSxgaqkjwtAhc0eQhRhCUCRFsWoHvUGQEIyYkCOxgRAH2BfbwREA0DQlhI6ELoCQB9gX28ERANAQjJiQI7GBECRFsWoHvUGQITNHkIUYQlA07GBqqSPC0D3g4R7LhINQEZN0bAinA1AVDgUNgKCDEBtH5p5\\u002fhMMQMukjXC93wpAjpq2zEwiCUCISS0e5jMHQEs\\u002fVnp1dgVAqcRJcTRCBEDCq8+0MNQDQKnESXE0QgRASz9WenV2BUCISS0e5jMHQI2atsxMIglAy6SNcL3fCkBtH5p5\\u002fhMMQFQ4FDYCggxAUpZ3Fy0wC0ConyETnuMKQLDfftkaDQpANgTSDCDXCEDg3xHeEn8HQGYEZREYSQZAbkTC15RyBUDETWzTBSYFQG5EwteUcgVAZgRlERhJBkDg3xHeEn8HQDYE0gwg1whAsN9+2RoNCkConyETnuMKQFKWdxctMAtAgbWWDpS3CUB1szCJUJAJQI6atsxMIglA3zqKBVODCEA3qVnl39IHQIhJLR7mMwdAoTCzYeLFBkCVLk3cnp4GQKEws2HixQZAiEktHuYzB0A3qVnl39IHQN86igVTgwhAjpq2zEwiCUB1szCJUJAJQIG1lg6UtwlAC\\u002fJxdRkrCEAL8nF1GSsIQAvycXUZKwhAC\\u002fJxdRkrCEAL8nF1GSsIQAvycXUZKwhAC\\u002fJxdRkrCEAL8nF1GSsIQAvycXUZKwhAC\\u002fJxdRkrCEAL8nF1GSsIQAvycXUZKwhAC\\u002fJxdRkrCEAL8nF1GSsIQAvycXUZKwhA\"},\"y\":{\"dtype\":\"f8\",\"bdata\":\"5buFRhgMQz\\u002flu4VGGAxDP+W7hUYYDEM\\u002f5buFRhgMQz\\u002flu4VGGAxDP+W7hUYYDEM\\u002f5buFRhgMQz\\u002flu4VGGAxDP+W7hUYYDEM\\u002f5buFRhgMQz\\u002flu4VGGAxDP+W7hUYYDEM\\u002f5buFRhgMQz\\u002flu4VGGAxDP+W7hUYYDEM\\u002f5buFRhgMQz\\u002ffUI8c66a1P1Y9FOO4csM\\u002f9qdzKKk7yD\\u002f2p3MoqTvIP1c9FOO4csM\\u002f4VCPHOumtT\\u002fAvIVGGAxDP+45dbu6WrW\\u002f3jGHsqBMw79+nOb3kBXIv36c5veQFci\\u002f3zGHsqBMw7\\u002fzOXW7ulq1vzC6hUYYDEM\\u002f5buFRhgMQz8imxWO2gnFP0GSPmTZ7NI\\u002f2Wk\\u002fcxOX1z\\u002fZaT9zE5fXP0GSPmTZ7NI\\u002fI5sVjtoJxT+PvYVGGAxDP6iPiF3C48S\\u002fhAz4S83Z0r8d5PhaB4TXvx3k+FoHhNe\\u002fhQz4S83Z0r+tj4hdwuPEv5C4hUYYDEM\\u002f5buFRhgMQz8KYBVZIjPOPyJBobTfLds\\u002fcqDbwPzw4D9yoNvA\\u002fPDgPyNBobTfLds\\u002fDGAVWSIzzj9KvoVGGAxDP5BUiCgKDc6\\u002fZbtanNMa27+UXbi0dufgv5RduLR25+C\\u002fZ7tanNMa27+WVIgoCg3Ovxy3hUYYDEM\\u002f5buFRhgMQz9Akj5k2ezSP0Z6E1c9CeE\\u002fnlytZTM95T+eXK1lMz3lP0Z6E1c9CeE\\u002fQpI+ZNns0j\\u002flvoVGGAxDP4MM+EvN2dK\\u002fZzfwSrf\\u002f4L\\u002fAGYpZrTPlv8AZilmtM+W\\u002faDfwSrf\\u002f4L+HDPhLzdnSv+S1hUYYDEM\\u002f5buFRhgMQz\\u002fIr6D5qs3VPx\\u002fpWx4XoeM\\u002fBlcPUQJ56D8GVw9RAnnoPyDpWx4XoeM\\u002fyq+g+arN1T9av4VGGAxDPwsqWuGeutW\\u002fQaY4EpGX478oFOxEfG\\u002fovygU7ER8b+i\\u002fQqY4EpGX478PKlrhnrrVv\\u002fq0hUYYDEM\\u002f5buFRhgMQz\\u002fZaT9zE5fXP55crWUzPeU\\u002f9yEhA+d66j\\u002f3ISED53rqP55crWUzPeU\\u002f2mk\\u002fcxOX1z+jv4VGGAxDPxvk+FoHhNe\\u002fvxmKWa0z5b8Z3\\u002f32YHHqvxnf\\u002ffZgceq\\u002fwBmKWa0z5b8g5PhaB4TXv2m0hUYYDEM\\u002f5buFRhgMQz8YZVAcIzLYP1kOj\\u002fPnyOU\\u002fs5+Prhwp6z+zn4+uHCnrP1oOj\\u002fPnyOU\\u002fGmVQHCMy2D+8v4VGGAxDP1rfCQQXH9i\\u002festr52G\\u002f5b\\u002fVXGyilh\\u002frv9VcbKKWH+u\\u002ffMtr52G\\u002f5b9f3wkEFx\\u002fYvzi0hUYYDEM\\u002f5buFRhgMQz\\u002fZaT9zE5fXP55crWUzPeU\\u002f9yEhA+d66j\\u002f3ISED53rqP55crWUzPeU\\u002f2mk\\u002fcxOX1z+jv4VGGAxDPxvk+FoHhNe\\u002fvxmKWa0z5b8Z3\\u002f32YHHqvxnf\\u002ffZgceq\\u002fwBmKWa0z5b8g5PhaB4TXv2m0hUYYDEM\\u002f5buFRhgMQz\\u002fIr6D5qs3VPx\\u002fpWx4XoeM\\u002fBlcPUQJ56D8GVw9RAnnoPyDpWx4XoeM\\u002fyq+g+arN1T9av4VGGAxDPwsqWuGeutW\\u002fQaY4EpGX478oFOxEfG\\u002fovygU7ER8b+i\\u002fQqY4EpGX478PKlrhnrrVv\\u002fq0hUYYDEM\\u002f5buFRhgMQz9Bkj5k2ezSP0Z6E1c9CeE\\u002fn1ytZTM95T+fXK1lMz3lP0d6E1c9CeE\\u002fQ5I+ZNns0j\\u002flvoVGGAxDP4QM+EvN2dK\\u002faDfwSrf\\u002f4L\\u002fBGYpZrTPlv8EZilmtM+W\\u002faTfwSrf\\u002f4L+IDPhLzdnSv+S1hUYYDEM\\u002f5buFRhgMQz8MYBVZIjPOPyNBobTfLds\\u002fc6DbwPzw4D9zoNvA\\u002fPDgPyRBobTfLds\\u002fDmAVWSIzzj9KvoVGGAxDP5JUiCgKDc6\\u002fZrtanNMa27+VXbi0dufgv5VduLR25+C\\u002faLtanNMa27+YVIgoCg3Ovxy3hUYYDEM\\u002f5buFRhgMQz8jmxWO2gnFP0KSPmTZ7NI\\u002f22k\\u002fcxOX1z\\u002fbaT9zE5fXP0OSPmTZ7NI\\u002fJZsVjtoJxT+PvYVGGAxDP6qPiF3C48S\\u002fhQz4S83Z0r8f5PhaB4TXvx\\u002fk+FoHhNe\\u002fhwz4S83Z0r+uj4hdwuPEv5C4hUYYDEM\\u002f5buFRhgMQz\\u002fjUI8c66a1P1k9FOO4csM\\u002f+adzKKk7yD\\u002f5p3MoqTvIP1o9FOO4csM\\u002f5VCPHOumtT\\u002fAvIVGGAxDP\\u002fE5dbu6WrW\\u002f4TGHsqBMw7+BnOb3kBXIv4Gc5veQFci\\u002f4jGHsqBMw7\\u002f2OXW7ulq1vzC6hUYYDEM\\u002f5buFRhgMQz+PvYVGGAxDP+W+hUYYDEM\\u002fo7+FRhgMQz+jv4VGGAxDP+W+hUYYDEM\\u002fj72FRhgMQz\\u002flu4VGGAxDPzu6hUYYDEM\\u002f5biFRhgMQz8nuIVGGAxDPye4hUYYDEM\\u002f5biFRhgMQz87uoVGGAxDP+W7hUYYDEM\\u002f\"},\"z\":{\"dtype\":\"f8\",\"bdata\":\"dW\\u002f0GoNy7D91b\\u002fQag3LsP3Vv9BqDcuw\\u002fdW\\u002f0GoNy7D91b\\u002fQag3LsP3Vv9BqDcuw\\u002fdW\\u002f0GoNy7D91b\\u002fQag3LsP3Vv9BqDcuw\\u002fdW\\u002f0GoNy7D91b\\u002fQag3LsP3Vv9BqDcuw\\u002fdW\\u002f0GoNy7D91b\\u002fQag3LsP3Vv9BqDcuw\\u002f4skBhtK\\u002f6z\\u002fiyQGG0r\\u002frP+LJAYbSv+s\\u002f4skBhtK\\u002f6z\\u002fiyQGG0r\\u002frP+LJAYbSv+s\\u002f4skBhtK\\u002f6z\\u002fiyQGG0r\\u002frP+LJAYbSv+s\\u002f4skBhtK\\u002f6z\\u002fiyQGG0r\\u002frP+LJAYbSv+s\\u002f4skBhtK\\u002f6z\\u002fiyQGG0r\\u002frP+LJAYbSv+s\\u002f1ygymraw6T\\u002fXKDKatrDpP9coMpq2sOk\\u002f1ygymraw6T\\u002fXKDKatrDpP9coMpq2sOk\\u002f1ygymraw6T\\u002fXKDKatrDpP9coMpq2sOk\\u002f1ygymraw6T\\u002fXKDKatrDpP9coMpq2sOk\\u002f1ygymraw6T\\u002fXKDKatrDpP9coMpq2sOk\\u002fiDgBy51f5j+IOAHLnV\\u002fmP4g4AcudX+Y\\u002fiDgBy51f5j+IOAHLnV\\u002fmP4g4AcudX+Y\\u002fiDgBy51f5j+IOAHLnV\\u002fmP4g4AcudX+Y\\u002fiDgBy51f5j+IOAHLnV\\u002fmP4g4AcudX+Y\\u002fiDgBy51f5j+IOAHLnV\\u002fmP4g4AcudX+Y\\u002fw+QM4Bv34T\\u002fD5AzgG\\u002ffhP8PkDOAb9+E\\u002fw+QM4Bv34T\\u002fD5AzgG\\u002ffhP8PkDOAb9+E\\u002fw+QM4Bv34T\\u002fD5AzgG\\u002ffhP8PkDOAb9+E\\u002fw+QM4Bv34T\\u002fD5AzgG\\u002ffhP8PkDOAb9+E\\u002fw+QM4Bv34T\\u002fD5AzgG\\u002ffhP8PkDOAb9+E\\u002feLk0y45f2T94uTTLjl\\u002fZP3i5NMuOX9k\\u002feLk0y45f2T94uTTLjl\\u002fZP3i5NMuOX9k\\u002feLk0y45f2T94uTTLjl\\u002fZP3i5NMuOX9k\\u002feLk0y45f2T94uTTLjl\\u002fZP3i5NMuOX9k\\u002feLk0y45f2T94uTTLjl\\u002fZP3i5NMuOX9k\\u002f1mVbCI01yz\\u002fWZVsIjTXLP9ZlWwiNNcs\\u002f1mVbCI01yz\\u002fWZVsIjTXLP9ZlWwiNNcs\\u002f1mVbCI01yz\\u002fWZVsIjTXLP9ZlWwiNNcs\\u002f1mVbCI01yz\\u002fWZVsIjTXLP9ZlWwiNNcs\\u002f1mVbCI01yz\\u002fWZVsIjTXLP9ZlWwiNNcs\\u002f3XN5sBtvkz\\u002fdc3mwG2+TP91zebAbb5M\\u002f3XN5sBtvkz\\u002fdc3mwG2+TP91zebAbb5M\\u002f3XN5sBtvkz\\u002fdc3mwG2+TP91zebAbb5M\\u002f3XN5sBtvkz\\u002fdc3mwG2+TP91zebAbb5M\\u002f3XN5sBtvkz\\u002fdc3mwG2+TP91zebAbb5M\\u002f3gg9HMZZxr\\u002feCD0cxlnGv94IPRzGWca\\u002f3gg9HMZZxr\\u002feCD0cxlnGv94IPRzGWca\\u002f3gg9HMZZxr\\u002feCD0cxlnGv94IPRzGWca\\u002f3gg9HMZZxr\\u002feCD0cxlnGv94IPRzGWca\\u002f3gg9HMZZxr\\u002feCD0cxlnGv94IPRzGWca\\u002f\\u002fIolVavx1r\\u002f8iiVVq\\u002fHWv\\u002fyKJVWr8da\\u002f\\u002fIolVavx1r\\u002f8iiVVq\\u002fHWv\\u002fyKJVWr8da\\u002f\\u002fIolVavx1r\\u002f8iiVVq\\u002fHWv\\u002fyKJVWr8da\\u002f\\u002fIolVavx1r\\u002f8iiVVq\\u002fHWv\\u002fyKJVWr8da\\u002f\\u002fIolVavx1r\\u002f8iiVVq\\u002fHWv\\u002fyKJVWr8da\\u002fhk0FJSrA4L+GTQUlKsDgv4ZNBSUqwOC\\u002fhk0FJSrA4L+GTQUlKsDgv4ZNBSUqwOC\\u002fhk0FJSrA4L+GTQUlKsDgv4ZNBSUqwOC\\u002fhk0FJSrA4L+GTQUlKsDgv4ZNBSUqwOC\\u002fhk0FJSrA4L+GTQUlKsDgv4ZNBSUqwOC\\u002fTKH5D6wo5b9MofkPrCjlv0yh+Q+sKOW\\u002fTKH5D6wo5b9MofkPrCjlv0yh+Q+sKOW\\u002fTKH5D6wo5b9MofkPrCjlv0yh+Q+sKOW\\u002fTKH5D6wo5b9MofkPrCjlv0yh+Q+sKOW\\u002fTKH5D6wo5b9MofkPrCjlv0yh+Q+sKOW\\u002fmpEq38R56L+akSrfxHnov5qRKt\\u002fEeei\\u002fmpEq38R56L+akSrfxHnov5qRKt\\u002fEeei\\u002fmpEq38R56L+akSrfxHnov5qRKt\\u002fEeei\\u002fmpEq38R56L+akSrfxHnov5qRKt\\u002fEeei\\u002fmpEq38R56L+akSrfxHnov5qRKt\\u002fEeei\\u002fpjL6yuCI6r+mMvrK4Ijqv6Yy+srgiOq\\u002fpjL6yuCI6r+mMvrK4Ijqv6Yy+srgiOq\\u002fpjL6yuCI6r+mMvrK4Ijqv6Yy+srgiOq\\u002fpjL6yuCI6r+mMvrK4Ijqv6Yy+srgiOq\\u002fpjL6yuCI6r+mMvrK4Ijqv6Yy+srgiOq\\u002fOdjsX5E767852OxfkTvrvznY7F+RO+u\\u002fOdjsX5E767852OxfkTvrvznY7F+RO+u\\u002fOdjsX5E767852OxfkTvrvznY7F+RO+u\\u002fOdjsX5E767852OxfkTvrvznY7F+RO+u\\u002fOdjsX5E767852OxfkTvrvznY7F+RO+u\\u002f\"},\"type\":\"mesh3d\"},{\"alphahull\":0,\"color\":\"#3050F8\",\"hovertemplate\":\"%{meta.position}\",\"legendgroup\":\"Atoms\",\"meta\":{\"position\":\"(2.28, 1.50, 0.00)\",\"meta\":{\"Atoms_i\":3}},\"name\":\"Atoms\",\"opacity\":1.0,\"showlegend\":false,\"showscale\":false,\"x\":{\"dtype\":\"f8\",\"bdata\":\"m+lOjoNFAkCb6U6Og0UCQJvpTo6DRQJAm+lOjoNFAkCb6U6Og0UCQJvpTo6DRQJAm+lOjoNFAkCb6U6Og0UCQJvpTo6DRQJAm+lOjoNFAkCb6U6Og0UCQJvpTo6DRQJAm+lOjoNFAkCb6U6Og0UCQJvpTo6DRQJA4U+n\\u002fLdEA0DCd9UKcisDQJc7Dqmh5AJAk+CzY01+AkCj8um4uQwCQJ+Xj3NlpgFAdFvIEZVfAUBVg\\u002fYfT0YBQHRbyBGVXwFAn5ePc2WmAUCj8um4uQwCQJPgs2NNfgJAlzsOqaHkAkDCd9UKcisDQOFPp\\u002fy3RANAboKHYCA3BEDj1\\u002frq2AUEQLzgzy\\u002fFewNA3T5APD60AkBZlF3gyNYBQHryzexBDwFAU\\u002fuiMS6FAEDIUBa85lMAQFP7ojEuhQBAevLN7EEPAUBZlF3gyNYBQN0+QDw+tAJAvODPL8V7A0Dj1\\u002frq2AUEQG6Ch2AgNwRALmy09ZQQBUADMO2TxMkEQLbA+fpZAwRAlzsOqaHkAkCfl49zZaYBQIASpCGthwBAZkZhEYWC\\u002fz8QztJN5PT+P2VGYRGFgv8\\u002fgBKkIa2HAECfl49zZaYBQJc7Dqmh5AJAtcD5+lkDBEADMO2TxMkEQC5stPWUEAVAK8amRy7GBUCOeQgCYm0FQCUt7JiTdARAeovegQoNA0C9R7+a\\u002fH0BQBGmsYNzFgBAULMqNUo7\\u002fj8WGu6psYn9P0+zKjVKO\\u002f4\\u002fEaaxg3MWAEC8R7+a\\u002fH0BQHmL3oEKDQNAJS3smJN0BECOeQgCYm0FQCvGpkcuxgVAJhAzK9FOBkAitdjlfOgFQAMw7ZPEyQRAwnfVCnIrA0B0W8gRlV8BQGZGYRGFgv8\\u002fKDyKbRRF\\u002fT8ghtXia3j8Pyg8im0URf0\\u002fZUZhEYWC\\u002fz90W8gRlV8BQMF31QpyKwNAAzDtk8TJBEAitdjlfOgFQCYQMyvRTgZAr3CJo6OjBkBtG5j16DQGQEwkF1Sn\\u002fgRABDZr91E+A0AynTIltUwBQNRdDZG\\u002fGP8\\u002fkm8LTjys\\u002fD8OxSjyxs77P5JvC048rPw\\u002f010Nkb8Y\\u002fz8xnTIltUwBQAQ2a\\u002fdRPgNATCQXVKf+BEBtG5j16DQGQK9wiaOjowZAFv781WTABkAmEDMr0U4GQC5stPWUEAVA4U+n\\u002fLdEA0BVg\\u002fYfT0YBQBDO0k3k9P4\\u002fIIbV4mt4\\u002fD9AqkGNRJX7PyCG1eJrePw\\u002fD87STeT0\\u002fj9Vg\\u002fYfT0YBQOFPp\\u002fy3RANALmy09ZQQBUAmEDMr0U4GQBb+\\u002fNVkwAZAr3CJo6OjBkBtG5j16DQGQEwkF1Sn\\u002fgRABDZr91E+A0AynTIltUwBQNRdDZG\\u002fGP8\\u002fkm8LTjys\\u002fD8OxSjyxs77P5JvC048rPw\\u002f010Nkb8Y\\u002fz8xnTIltUwBQAQ2a\\u002fdRPgNATCQXVKf+BEBtG5j16DQGQK9wiaOjowZAJhAzK9FOBkAitdjlfOgFQAMw7ZPEyQRAwnfVCnIrA0B0W8gRlV8BQGZGYRGFgv8\\u002fKDyKbRRF\\u002fT8ghtXia3j8Pyg8im0URf0\\u002fZUZhEYWC\\u002fz90W8gRlV8BQMF31QpyKwNAAzDtk8TJBEAitdjlfOgFQCYQMyvRTgZAK8amRy7GBUCOeQgCYm0FQCUt7JiTdARAeovegQoNA0C8R7+a\\u002fH0BQBGmsYNzFgBAT7MqNUo7\\u002fj8WGu6psYn9P0+zKjVKO\\u002f4\\u002fEaaxg3MWAEC8R7+a\\u002fH0BQHmL3oEKDQNAJS3smJN0BECOeQgCYm0FQCvGpkcuxgVALmy09ZQQBUADMO2TxMkEQLbA+fpZAwRAlzsOqaHkAkCfl49zZaYBQIASpCGthwBAZUZhEYWC\\u002fz8QztJN5PT+P2VGYRGFgv8\\u002fgBKkIa2HAECfl49zZaYBQJc7Dqmh5AJAtsD5+lkDBEADMO2TxMkEQC5stPWUEAVAboKHYCA3BEDj1\\u002frq2AUEQLzgzy\\u002fFewNA3T5APD60AkBZlF3gyNYBQHryzexBDwFAU\\u002fuiMS6FAEDIUBa85lMAQFP7ojEuhQBAevLN7EEPAUBZlF3gyNYBQN0+QDw+tAJAvODPL8V7A0Dj1\\u002frq2AUEQG6Ch2AgNwRA4U+n\\u002fLdEA0DCd9UKcisDQJc7Dqmh5AJAk+CzY01+AkCj8um4uQwCQJ+Xj3NlpgFAdFvIEZVfAUBVg\\u002fYfT0YBQHRbyBGVXwFAn5ePc2WmAUCj8um4uQwCQJPgs2NNfgJAlzsOqaHkAkDCd9UKcisDQOFPp\\u002fy3RANAm+lOjoNFAkCb6U6Og0UCQJvpTo6DRQJAm+lOjoNFAkCb6U6Og0UCQJvpTo6DRQJAm+lOjoNFAkCb6U6Og0UCQJvpTo6DRQJAm+lOjoNFAkCb6U6Og0UCQJvpTo6DRQJAm+lOjoNFAkCb6U6Og0UCQJvpTo6DRQJA\"},\"y\":{\"dtype\":\"f8\",\"bdata\":\"cWvA0+zx9z9xa8DT7PH3P3FrwNPs8fc\\u002fcWvA0+zx9z9xa8DT7PH3P3FrwNPs8fc\\u002fcWvA0+zx9z9xa8DT7PH3P3FrwNPs8fc\\u002fcWvA0+zx9z9xa8DT7PH3P3FrwNPs8fc\\u002fcWvA0+zx9z9xa8DT7PH3P3FrwNPs8fc\\u002fcWvA0+zx9z\\u002f1FaMvYs\\u002f4Py6v37r6gPk\\u002fRAT5pYnj+T9EBPmlieP5Py6v37r6gPk\\u002f9RWjL2LP+D9xa8DT7PH3P+3A3Xd3FPc\\u002ftCeh7N5i9j+e0ocBUAD2P57ShwFQAPY\\u002ftCeh7N5i9j\\u002ftwN13dxT3P3FrwNPs8fc\\u002fcWvA0+zx9z9Z\\u002fQi0vKH5P7YrTAIG\\u002fPo\\u002fSlR+qTK8+z9KVH6pMrz7P7YrTAIG\\u002fPo\\u002fWf0ItLyh+T9xa8DT7PH3P4nZd\\u002fMcQvY\\u002fLKs0pdPn9D+YggL+pif0P5iCAv6mJ\\u002fQ\\u002fLKs0pdPn9D+J2XfzHEL2P3FrwNPs8fc\\u002fcWvA0+zx9z+yWcIWcF76P4Xy+ugMUPw\\u002f0+BQXzRk\\u002fT\\u002fT4FBfNGT9P4Xy+ugMUPw\\u002fslnCFnBe+j9xa8DT7PH3PzB9vpBphfU\\u002fXeSFvsyT8z8P9i9IpX\\u002fyPw\\u002f2L0ilf\\u002fI\\u002fXeSFvsyT8z8vfb6QaYX1P3FrwNPs8fc\\u002fcWvA0+zx9z+2K0wCBvz6PzLmxokCbP0\\u002fjxQK2EvG\\u002fj+PFArYS8b+PzLmxokCbP0\\u002ftitMAgb8+j9xa8DT7PH3PyyrNKXT5\\u002fQ\\u002fsPC5Hdd38j9TwnbPjR3xP1PCds+NHfE\\u002fsPC5Hdd38j8sqzSl0+f0P3FrwNPs8fc\\u002fcWvA0+zx9z8BSBiNl3L7P1iLM7upQf4\\u002fFM9SorfQ\\u002fz8Uz1Kit9D\\u002fP1iLM7upQf4\\u002fAUgYjZdy+z9xa8DT7PH3P+KOaBpCcfQ\\u002fi0tN7C+i8T\\u002fOBy4FIhPwP84HLgUiE\\u002fA\\u002fiktN7C+i8T\\u002fhjmgaQnH0P3BrwNPs8fc\\u002fcWvA0+zx9z9KVH6pMrz7P48UCthLxv4\\u002fPFMp3A07AEA8UyncDTsAQI8UCthLxv4\\u002fSlR+qTK8+z9xa8DT7PH3P5iCAv6mJ\\u002fQ\\u002fU8J2z40d8T\\u002fWYFzee9vuP9ZgXN572+4\\u002fU8J2z40d8T+XggL+pif0P3BrwNPs8fc\\u002fcWvA0+zx9z8WnTF4JtX7P5AkcEZC8\\u002f4\\u002fzLwafxZXAEDMvBp\\u002fFlcAQJEkcEZC8\\u002f4\\u002fF50xeCbV+z9xa8DT7PH3P8w5Ty+zDvQ\\u002fUrIQYZfw8D+SupZSWWvuP5K6llJZa+4\\u002fUbIQYZfw8D\\u002fLOU8vsw70P3BrwNPs8fc\\u002fcWvA0+zx9z9KVH6pMrz7P48UCthLxv4\\u002fPFMp3A07AEA8UyncDTsAQI8UCthLxv4\\u002fSlR+qTK8+z9xa8DT7PH3P5iCAv6mJ\\u002fQ\\u002fU8J2z40d8T\\u002fWYFzee9vuP9ZgXN572+4\\u002fU8J2z40d8T+XggL+pif0P3BrwNPs8fc\\u002fcWvA0+zx9z8BSBiNl3L7P1iLM7upQf4\\u002fFM9SorfQ\\u002fz8Uz1Kit9D\\u002fP1iLM7upQf4\\u002fAUgYjZdy+z9xa8DT7PH3P+KOaBpCcfQ\\u002fi0tN7C+i8T\\u002fOBy4FIhPwP84HLgUiE\\u002fA\\u002fiktN7C+i8T\\u002fhjmgaQnH0P3BrwNPs8fc\\u002fcWvA0+zx9z+2K0wCBvz6PzLmxokCbP0\\u002fjxQK2EvG\\u002fj+PFArYS8b+PzLmxokCbP0\\u002ftitMAgb8+j9xa8DT7PH3PyyrNKXT5\\u002fQ\\u002fsPC5Hdd38j9TwnbPjR3xP1PCds+NHfE\\u002fsPC5Hdd38j8sqzSl0+f0P3FrwNPs8fc\\u002fcWvA0+zx9z+yWcIWcF76P4Xy+ugMUPw\\u002f1OBQXzRk\\u002fT\\u002fU4FBfNGT9P4Xy+ugMUPw\\u002fslnCFnBe+j9xa8DT7PH3PzB9vpBphfU\\u002fXeSFvsyT8z8O9i9IpX\\u002fyPw72L0ilf\\u002fI\\u002fXeSFvsyT8z8vfb6QaYX1P3FrwNPs8fc\\u002fcWvA0+zx9z9Z\\u002fQi0vKH5P7YrTAIG\\u002fPo\\u002fSlR+qTK8+z9KVH6pMrz7P7YrTAIG\\u002fPo\\u002fWf0ItLyh+T9xa8DT7PH3P4nZd\\u002fMcQvY\\u002fLKs0pdPn9D+YggL+pif0P5iCAv6mJ\\u002fQ\\u002fLKs0pdPn9D+J2XfzHEL2P3FrwNPs8fc\\u002fcWvA0+zx9z\\u002f1FaMvYs\\u002f4Py6v37r6gPk\\u002fRAT5pYnj+T9EBPmlieP5Py6v37r6gPk\\u002f9RWjL2LP+D9xa8DT7PH3P+3A3Xd3FPc\\u002ftCeh7N5i9j+e0ocBUAD2P57ShwFQAPY\\u002ftCeh7N5i9j\\u002ftwN13dxT3P3FrwNPs8fc\\u002fcWvA0+zx9z9xa8DT7PH3P3FrwNPs8fc\\u002fcWvA0+zx9z9xa8DT7PH3P3FrwNPs8fc\\u002fcWvA0+zx9z9xa8DT7PH3P3FrwNPs8fc\\u002fcWvA0+zx9z9xa8DT7PH3P3FrwNPs8fc\\u002fcWvA0+zx9z9xa8DT7PH3P3FrwNPs8fc\\u002f\"},\"z\":{\"dtype\":\"f8\",\"bdata\":\"F7fsMOj04T8Xt+ww6PThPxe37DDo9OE\\u002fF7fsMOj04T8Xt+ww6PThPxe37DDo9OE\\u002fF7fsMOj04T8Xt+ww6PThPxe37DDo9OE\\u002fF7fsMOj04T8Xt+ww6PThPxe37DDo9OE\\u002fF7fsMOj04T8Xt+ww6PThPxe37DDo9OE\\u002fe4EeZ+OB4T97gR5n44HhP3uBHmfjgeE\\u002fe4EeZ+OB4T97gR5n44HhP3uBHmfjgeE\\u002fe4EeZ+OB4T97gR5n44HhP3uBHmfjgeE\\u002fe4EeZ+OB4T97gR5n44HhP3uBHmfjgeE\\u002fe4EeZ+OB4T97gR5n44HhP3uBHmfjgeE\\u002fVv\\u002fEhZku4D9W\\u002f8SFmS7gP1b\\u002fxIWZLuA\\u002fVv\\u002fEhZku4D9W\\u002f8SFmS7gP1b\\u002fxIWZLuA\\u002fVv\\u002fEhZku4D9W\\u002f8SFmS7gP1b\\u002fxIWZLuA\\u002fVv\\u002fEhZku4D9W\\u002f8SFmS7gP1b\\u002fxIWZLuA\\u002fVv\\u002fEhZku4D9W\\u002f8SFmS7gP1b\\u002fxIWZLuA\\u002f1a4n7xsY3D\\u002fVrifvGxjcP9WuJ+8bGNw\\u002f1a4n7xsY3D\\u002fVrifvGxjcP9WuJ+8bGNw\\u002f1a4n7xsY3D\\u002fVrifvGxjcP9WuJ+8bGNw\\u002f1a4n7xsY3D\\u002fVrifvGxjcP9WuJ+8bGNw\\u002f1a4n7xsY3D\\u002fVrifvGxjcP9WuJ+8bGNw\\u002f8d6UX1Fr1j\\u002fx3pRfUWvWP\\u002fHelF9Ra9Y\\u002f8d6UX1Fr1j\\u002fx3pRfUWvWP\\u002fHelF9Ra9Y\\u002f8d6UX1Fr1j\\u002fx3pRfUWvWP\\u002fHelF9Ra9Y\\u002f8d6UX1Fr1j\\u002fx3pRfUWvWP\\u002fHelF9Ra9Y\\u002f8d6UX1Fr1j\\u002fx3pRfUWvWP\\u002fHelF9Ra9Y\\u002f2iFbbFk\\u002fzz\\u002faIVtsWT\\u002fPP9ohW2xZP88\\u002f2iFbbFk\\u002fzz\\u002faIVtsWT\\u002fPP9ohW2xZP88\\u002f2iFbbFk\\u002fzz\\u002faIVtsWT\\u002fPP9ohW2xZP88\\u002f2iFbbFk\\u002fzz\\u002faIVtsWT\\u002fPP9ohW2xZP88\\u002f2iFbbFk\\u002fzz\\u002faIVtsWT\\u002fPP9ohW2xZP88\\u002fDflXLtMYwD8N+Vcu0xjAPw35Vy7TGMA\\u002fDflXLtMYwD8N+Vcu0xjAPw35Vy7TGMA\\u002fDflXLtMYwD8N+Vcu0xjAPw35Vy7TGMA\\u002fDflXLtMYwD8N+Vcu0xjAPw35Vy7TGMA\\u002fDflXLtMYwD8N+Vcu0xjAPw35Vy7TGMA\\u002fX1fKaCTGUj9fV8poJMZSP19XymgkxlI\\u002fX1fKaCTGUj9fV8poJMZSP19XymgkxlI\\u002fX1fKaCTGUj9fV8poJMZSP19XymgkxlI\\u002fX1fKaCTGUj9fV8poJMZSP19XymgkxlI\\u002fX1fKaCTGUj9fV8poJMZSP19XymgkxlI\\u002fXp9pOXWbv79en2k5dZu\\u002fv16faTl1m7+\\u002fXp9pOXWbv79en2k5dZu\\u002fv16faTl1m7+\\u002fXp9pOXWbv79en2k5dZu\\u002fv16faTl1m7+\\u002fXp9pOXWbv79en2k5dZu\\u002fv16faTl1m7+\\u002fXp9pOXWbv79en2k5dZu\\u002fv16faTl1m7+\\u002ffPi32kD0zr98+LfaQPTOv3z4t9pA9M6\\u002ffPi32kD0zr98+LfaQPTOv3z4t9pA9M6\\u002ffPi32kD0zr98+LfaQPTOv3z4t9pA9M6\\u002ffPi32kD0zr98+LfaQPTOv3z4t9pA9M6\\u002ffPi32kD0zr98+LfaQPTOv3z4t9pA9M6\\u002fQkrDFsVF1r9CSsMWxUXWv0JKwxbFRda\\u002fQkrDFsVF1r9CSsMWxUXWv0JKwxbFRda\\u002fQkrDFsVF1r9CSsMWxUXWv0JKwxbFRda\\u002fQkrDFsVF1r9CSsMWxUXWv0JKwxbFRda\\u002fQkrDFsVF1r9CSsMWxUXWv0JKwxbFRda\\u002fJxpWpo\\u002fy278nGlamj\\u002fLbvycaVqaP8tu\\u002fJxpWpo\\u002fy278nGlamj\\u002fLbvycaVqaP8tu\\u002fJxpWpo\\u002fy278nGlamj\\u002fLbvycaVqaP8tu\\u002fJxpWpo\\u002fy278nGlamj\\u002fLbvycaVqaP8tu\\u002fJxpWpo\\u002fy278nGlamj\\u002fLbvycaVqaP8tu\\u002fADVcYdMb4L8ANVxh0xvgvwA1XGHTG+C\\u002fADVcYdMb4L8ANVxh0xvgvwA1XGHTG+C\\u002fADVcYdMb4L8ANVxh0xvgvwA1XGHTG+C\\u002fADVcYdMb4L8ANVxh0xvgvwA1XGHTG+C\\u002fADVcYdMb4L8ANVxh0xvgvwA1XGHTG+C\\u002fJbe1Qh1v4b8lt7VCHW\\u002fhvyW3tUIdb+G\\u002fJbe1Qh1v4b8lt7VCHW\\u002fhvyW3tUIdb+G\\u002fJbe1Qh1v4b8lt7VCHW\\u002fhvyW3tUIdb+G\\u002fJbe1Qh1v4b8lt7VCHW\\u002fhvyW3tUIdb+G\\u002fJbe1Qh1v4b8lt7VCHW\\u002fhvyW3tUIdb+G\\u002fweyDDCLi4b\\u002fB7IMMIuLhv8Hsgwwi4uG\\u002fweyDDCLi4b\\u002fB7IMMIuLhv8Hsgwwi4uG\\u002fweyDDCLi4b\\u002fB7IMMIuLhv8Hsgwwi4uG\\u002fweyDDCLi4b\\u002fB7IMMIuLhv8Hsgwwi4uG\\u002fweyDDCLi4b\\u002fB7IMMIuLhv8Hsgwwi4uG\\u002f\"},\"type\":\"mesh3d\"},{\"alphahull\":0,\"color\":\"#3050F8\",\"hovertemplate\":\"%{meta.position}\",\"legendgroup\":\"Atoms\",\"meta\":{\"position\":\"(4.61, 0.01, 3.49)\",\"meta\":{\"Atoms_i\":4}},\"name\":\"Atoms\",\"opacity\":1.0,\"showlegend\":false,\"showscale\":false,\"x\":{\"dtype\":\"f8\",\"bdata\":\"UsJv6tNzEkBSwm\\u002fq03MSQFLCb+rTcxJAUsJv6tNzEkBSwm\\u002fq03MSQFLCb+rTcxJAUsJv6tNzEkBSwm\\u002fq03MSQFLCb+rTcxJAUsJv6tNzEkBSwm\\u002fq03MSQFLCb+rTcxJAUsJv6tNzEkBSwm\\u002fq03MSQFLCb+rTcxJAdfWbIW7zEkBlCbMoy+YSQFBrz\\u002fdiwxJAzj0i1TiQEkDWRr3\\u002fblcSQFQZEN1EJBJAP3ssrNwAEkAvj0OzOfQRQD97LKzcABJAVBkQ3UQkEkDWRr3\\u002fblcSQM49ItU4kBJAUGvP92LDEkBlCbMoy+YSQHX1myFu8xJAuw6MU6JsE0B2ucWY\\u002flMTQOI9MLv0DhNA82xoQTGrEkCxF3eTdjwSQMJGrxmz2BFALssZPKmTEUDpdVOBBXsRQC7LGTypkxFAwkavGbPYEUCxF3eTdjwSQPNsaEExqxJA4j0wu\\u002fQOE0B2ucWY\\u002flMTQLsOjFOibBNAnIMinlzZE0CG5T5t9LUTQN8txSC\\u002fUhNAUGvP92LDEkBUGRDdRCQSQMVWGrTolBFAHp+gZ7MxEUAIAb02Sw4RQB6foGezMRFAxVYatOiUEUBUGRDdRCQSQFBrz\\u002fdiwxJA3y3FIL9SE0CG5T5t9LUTQJyDIp5c2RNAmrAbRyk0FEBMikwkwwcUQBdkvu9bixNAQZM3ZJfXEkBj8adwEBASQI0gIeVLXBFAWPqSsOTfEEAK1MONfrMQQFj6krDk3xBAjSAh5UtcEUBj8adwEBASQEGTN2SX1xJAF2S+71uLE0BMikwkwwcUQJqwG0cpNBRAl9XhuHp4FEAWqDSWUEUUQIblPm30tRNAZQmzKMvmEkA\\u002feyys3AASQB6foGezMRFAjtyqPleiEEANr\\u002f0bLW8QQI7cqj5XohBAHp+gZ7MxEUA\\u002feyys3AASQGUJsyjL5hJAhuU+bfS1E0AWqDSWUEUUQJfV4bh6eBRA3AUN9eOiFEA7WxSehmsUQKvfU81l0BNAh+j9HjvwEkAdnOG1bPcRQPmkiwdCFxFAaSnLNiF8EEDIftLfw0QQQGkpyzYhfBBA+aSLB0IXEUAdnOG1bPcRQIfo\\u002fR478BJAqt9TzWXQE0A7WxSehmsUQNwFDfXjohRAkMxGjkSxFECX1eG4engUQJyDIp5c2RNAdfWbIW7zEkAvj0OzOfQRQAgBvTZLDhFADa\\u002f9Gy1vEEAUuJhGYzYQQA2v\\u002fRstbxBACAG9NksOEUAvj0OzOfQRQHX1myFu8xJAnIMinlzZE0CX1eG4engUQJDMRo5EsRRA3AUN9eOiFEA7WxSehmsUQKvfU81l0BNAh+j9HjvwEkAdnOG1bPcRQPmkiwdCFxFAaSnLNiF8EEDIftLfw0QQQGkpyzYhfBBA+aSLB0IXEUAdnOG1bPcRQIfo\\u002fR478BJAqt9TzWXQE0A7WxSehmsUQNwFDfXjohRAl9XhuHp4FEAWqDSWUEUUQIblPm30tRNAZQmzKMvmEkA\\u002feyys3AASQB6foGezMRFAjtyqPleiEEANr\\u002f0bLW8QQI7cqj5XohBAHp+gZ7MxEUA\\u002feyys3AASQGUJsyjL5hJAhuU+bfS1E0AWqDSWUEUUQJfV4bh6eBRAmrAbRyk0FEBMikwkwwcUQBdkvu9bixNAQZM3ZJfXEkBj8adwEBASQI0gIeVLXBFAWPqSsOTfEEAK1MONfrMQQFj6krDk3xBAjSAh5UtcEUBj8adwEBASQEGTN2SX1xJAF2S+71uLE0BMikwkwwcUQJqwG0cpNBRAnIMinlzZE0CG5T5t9LUTQN8txSC\\u002fUhNAUGvP92LDEkBUGRDdRCQSQMVWGrTolBFAHp+gZ7MxEUAIAb02Sw4RQB6foGezMRFAxVYatOiUEUBUGRDdRCQSQFBrz\\u002fdiwxJA3y3FIL9SE0CG5T5t9LUTQJyDIp5c2RNAuw6MU6JsE0B2ucWY\\u002flMTQOI9MLv0DhNA82xoQTGrEkCxF3eTdjwSQMJGrxmz2BFALssZPKmTEUDpdVOBBXsRQC7LGTypkxFAwkavGbPYEUCxF3eTdjwSQPNsaEExqxJA4j0wu\\u002fQOE0B2ucWY\\u002flMTQLsOjFOibBNAdfWbIW7zEkBlCbMoy+YSQFBrz\\u002fdiwxJAzj0i1TiQEkDWRr3\\u002fblcSQFQZEN1EJBJAP3ssrNwAEkAvj0OzOfQRQD97LKzcABJAVBkQ3UQkEkDWRr3\\u002fblcSQM49ItU4kBJAUGvP92LDEkBlCbMoy+YSQHX1myFu8xJAUsJv6tNzEkBSwm\\u002fq03MSQFLCb+rTcxJAUsJv6tNzEkBSwm\\u002fq03MSQFLCb+rTcxJAUsJv6tNzEkBSwm\\u002fq03MSQFLCb+rTcxJAUsJv6tNzEkBSwm\\u002fq03MSQFLCb+rTcxJAUsJv6tNzEkBSwm\\u002fq03MSQFLCb+rTcxJA\"},\"y\":{\"dtype\":\"f8\",\"bdata\":\"6mrmITfpfD\\u002fqauYhN+l8P+pq5iE36Xw\\u002f6mrmITfpfD\\u002fqauYhN+l8P+pq5iE36Xw\\u002f6mrmITfpfD\\u002fqauYhN+l8P+pq5iE36Xw\\u002f6mrmITfpfD\\u002fqauYhN+l8P+pq5iE36Xw\\u002f6mrmITfpfD\\u002fqauYhN+l8P+pq5iE36Xw\\u002f6mrmITfpfD\\u002fjHZJg0kuvP3+iEuRxv7o\\u002f7PnTSjB0wD\\u002fs+dNKMHTAP4CiEuRxv7o\\u002f5R2SYNJLrz\\u002f8auYhN+l8PyeDGJiEEai\\u002fINXV\\u002f0oit797JmuxOUu9v3sma7E5S72\\u002fItXV\\u002f0oit78tgxiYhBGov8dq5iE36Xw\\u002f6mrmITfpfD8thad2kcu8P341bS0TOMk\\u002fH3r+Zng5zz8fev5meDnPP381bS0TOMk\\u002fL4WndpHLvD8Ma+YhN+l8P823apJqLrm\\u002fz85Ou39px79xE+D05GrNv3ET4PTkas2\\u002f0c5Ou39px7\\u002fSt2qSai65v6Vq5iE36Xw\\u002f6mrmITfpfD9hpR7RY0vEP\\u002fu1cTEl7NE\\u002fNW\\u002fJCsM81j81b8kKwzzWP\\u002fy1cTEl7NE\\u002fYqUe0WNLxD8ba+YhN+l8P7E+AF\\u002fQfMK\\u002fo4JieNsE0b\\u002fdO7pReVXVv907ulF5VdW\\u002fpIJieNsE0b+2PgBf0HzCv4dq5iE36Xw\\u002f6mrmITfpfD9\\u002fNW0tEzjJP7CEobT7W9Y\\u002fJD6u7SDF2z8kPq7tIMXbP7GEobT7W9Y\\u002fgDVtLRM4yT8oa+YhN+l8P8\\u002fOTrt\\u002face\\u002fV1GS+7F01b\\u002fMCp80193av8wKnzTX3dq\\u002fWVGS+7F01b\\u002fUzk67f2nHv25q5iE36Xw\\u002f6mrmITfpfD\\u002fVF86Dn+zMP0YZVHqYstk\\u002fOijRFtDu3z86KNEW0O7fP0cZVHqYstk\\u002f1xfOg5\\u002fszD8xa+YhN+l8PyWxrxEMHsu\\u002f7eVEwU7L2L\\u002fi9MFdhgffv+L0wV2GB9+\\u002f7+VEwU7L2L8rsa8RDB7Lv1xq5iE36Xw\\u002f6mrmITfpfD8gev5meDnPPyQ+ru0gxds\\u002f4kJoNzBC4T\\u002fiQmg3MELhPyU+ru0gxds\\u002fInr+Zng5zz83a+YhN+l8P3AT4PTkas2\\u002fywqfNNfd2r82qeBai87gvzap4FqLzuC\\u002fzQqfNNfd2r92E+D05GrNv1Bq5iE36Xw\\u002f6mrmITfpfD9BYExuiwDQPyp+Rqf6eNw\\u002fJuktw1Ky4T8m6S3DUrLhPyt+Rqf6eNw\\u002fQmBMbosA0D85a+YhN+l8P9JZemqDMs6\\u002f0Uo37rCR2796T6bmrT7hv3pPpuatPuG\\u002f00o37rCR27\\u002fYWXpqgzLOv0xq5iE36Xw\\u002f6mrmITfpfD8gev5meDnPPyQ+ru0gxds\\u002f4kJoNzBC4T\\u002fiQmg3MELhPyU+ru0gxds\\u002fInr+Zng5zz83a+YhN+l8P3AT4PTkas2\\u002fywqfNNfd2r82qeBai87gvzap4FqLzuC\\u002fzQqfNNfd2r92E+D05GrNv1Bq5iE36Xw\\u002f6mrmITfpfD\\u002fVF86Dn+zMP0YZVHqYstk\\u002fOijRFtDu3z86KNEW0O7fP0cZVHqYstk\\u002f1xfOg5\\u002fszD8xa+YhN+l8PyWxrxEMHsu\\u002f7eVEwU7L2L\\u002fi9MFdhgffv+L0wV2GB9+\\u002f7+VEwU7L2L8rsa8RDB7Lv1xq5iE36Xw\\u002f6mrmITfpfD9\\u002fNW0tEzjJP7CEobT7W9Y\\u002fJT6u7SDF2z8lPq7tIMXbP7GEobT7W9Y\\u002fgTVtLRM4yT8oa+YhN+l8P9DOTrt\\u002face\\u002fWFGS+7F01b\\u002fNCp80193av80KnzTX3dq\\u002fWVGS+7F01b\\u002fVzk67f2nHv25q5iE36Xw\\u002f6mrmITfpfD9ipR7RY0vEP\\u002fy1cTEl7NE\\u002fNm\\u002fJCsM81j82b8kKwzzWP\\u002f21cTEl7NE\\u002fY6Ue0WNLxD8ba+YhN+l8P7I+AF\\u002fQfMK\\u002fpIJieNsE0b\\u002feO7pReVXVv947ulF5VdW\\u002fpYJieNsE0b+2PgBf0HzCv4dq5iE36Xw\\u002f6mrmITfpfD8uhad2kcu8P4A1bS0TOMk\\u002fIXr+Zng5zz8hev5meDnPP4E1bS0TOMk\\u002fMIWndpHLvD8Ma+YhN+l8P863apJqLrm\\u002f0c5Ou39px79zE+D05GrNv3MT4PTkas2\\u002f085Ou39px7\\u002fUt2qSai65v6Vq5iE36Xw\\u002f6mrmITfpfD\\u002fnHZJg0kuvP4OiEuRxv7o\\u002f7\\u002fnTSjB0wD\\u002fv+dNKMHTAP4SiEuRxv7o\\u002f6R2SYNJLrz\\u002f8auYhN+l8PyuDGJiEEai\\u002fJNXV\\u002f0oit7+AJmuxOUu9v4Ama7E5S72\\u002fJtXV\\u002f0oit78xgxiYhBGov8dq5iE36Xw\\u002f6mrmITfpfD8Ma+YhN+l8Pyhr5iE36Xw\\u002fN2vmITfpfD83a+YhN+l8Pyhr5iE36Xw\\u002fDGvmITfpfD\\u002fqauYhN+l8P8hq5iE36Xw\\u002frGrmITfpfD+dauYhN+l8P51q5iE36Xw\\u002frGrmITfpfD\\u002fIauYhN+l8P+pq5iE36Xw\\u002f\"},\"z\":{\"dtype\":\"f8\",\"bdata\":\"yNQdB340EEDI1B0HfjQQQMjUHQd+NBBAyNQdB340EEDI1B0HfjQQQMjUHQd+NBBAyNQdB340EEDI1B0HfjQQQMjUHQd+NBBAyNQdB340EEDI1B0HfjQQQMjUHQd+NBBAyNQdB340EEDI1B0HfjQQQMjUHQd+NBBAFA7kbR0mEEAUDuRtHSYQQBQO5G0dJhBAFA7kbR0mEEAUDuRtHSYQQBQO5G0dJhBAFA7kbR0mEEAUDuRtHSYQQBQO5G0dJhBAFA7kbR0mEEAUDuRtHSYQQBQO5G0dJhBAFA7kbR0mEEAUDuRtHSYQQBQO5G0dJhBAoLtxY2j3D0Cgu3FjaPcPQKC7cWNo9w9AoLtxY2j3D0Cgu3FjaPcPQKC7cWNo9w9AoLtxY2j3D0Cgu3FjaPcPQKC7cWNo9w9AoLtxY2j3D0Cgu3FjaPcPQKC7cWNo9w9AoLtxY2j3D0Cgu3FjaPcPQKC7cWNo9w9ApXHlf8VuD0ClceV\\u002fxW4PQKVx5X\\u002fFbg9ApXHlf8VuD0ClceV\\u002fxW4PQKVx5X\\u002fFbg9ApXHlf8VuD0ClceV\\u002fxW4PQKVx5X\\u002fFbg9ApXHlf8VuD0ClceV\\u002fxW4PQKVx5X\\u002fFbg9ApXHlf8VuD0ClceV\\u002fxW4PQKVx5X\\u002fFbg9AqBfzLSy5DkCoF\\u002fMtLLkOQKgX8y0suQ5AqBfzLSy5DkCoF\\u002fMtLLkOQKgX8y0suQ5AqBfzLSy5DkCoF\\u002fMtLLkOQKgX8y0suQ5AqBfzLSy5DkCoF\\u002fMtLLkOQKgX8y0suQ5AqBfzLSy5DkCoF\\u002fMtLLkOQKgX8y0suQ5A6C3GmLffDUDoLcaYt98NQOgtxpi33w1A6C3GmLffDUDoLcaYt98NQOgtxpi33w1A6C3GmLffDUDoLcaYt98NQOgtxpi33w1A6C3GmLffDUDoLcaYt98NQOgtxpi33w1A6C3GmLffDUDoLcaYt98NQOgtxpi33w1AW\\u002fvlNE\\u002ftDEBb++U0T+0MQFv75TRP7QxAW\\u002fvlNE\\u002ftDEBb++U0T+0MQFv75TRP7QxAW\\u002fvlNE\\u002ftDEBb++U0T+0MQFv75TRP7QxAW\\u002fvlNE\\u002ftDEBb++U0T+0MQFv75TRP7QxAW\\u002fvlNE\\u002ftDEBb++U0T+0MQFv75TRP7QxAFZWNxhruC0AVlY3GGu4LQBWVjcYa7gtAFZWNxhruC0AVlY3GGu4LQBWVjcYa7gtAFZWNxhruC0AVlY3GGu4LQBWVjcYa7gtAFZWNxhruC0AVlY3GGu4LQBWVjcYa7gtAFZWNxhruC0AVlY3GGu4LQBWVjcYa7gtAzy41WObuCkDPLjVY5u4KQM8uNVjm7gpAzy41WObuCkDPLjVY5u4KQM8uNVjm7gpAzy41WObuCkDPLjVY5u4KQM8uNVjm7gpAzy41WObuCkDPLjVY5u4KQM8uNVjm7gpAzy41WObuCkDPLjVY5u4KQM8uNVjm7gpAQvxU9H38CUBC\\u002fFT0ffwJQEL8VPR9\\u002fAlAQvxU9H38CUBC\\u002fFT0ffwJQEL8VPR9\\u002fAlAQvxU9H38CUBC\\u002fFT0ffwJQEL8VPR9\\u002fAlAQvxU9H38CUBC\\u002fFT0ffwJQEL8VPR9\\u002fAlAQvxU9H38CUBC\\u002fFT0ffwJQEL8VPR9\\u002fAlAghIoXwkjCUCCEihfCSMJQIISKF8JIwlAghIoXwkjCUCCEihfCSMJQIISKF8JIwlAghIoXwkjCUCCEihfCSMJQIISKF8JIwlAghIoXwkjCUCCEihfCSMJQIISKF8JIwlAghIoXwkjCUCCEihfCSMJQIISKF8JIwlAhbg1DXBtCECFuDUNcG0IQIW4NQ1wbQhAhbg1DXBtCECFuDUNcG0IQIW4NQ1wbQhAhbg1DXBtCECFuDUNcG0IQIW4NQ1wbQhAhbg1DXBtCECFuDUNcG0IQIW4NQ1wbQhAhbg1DXBtCECFuDUNcG0IQIW4NQ1wbQhAim6pKc3kB0CKbqkpzeQHQIpuqSnN5AdAim6pKc3kB0CKbqkpzeQHQIpuqSnN5AdAim6pKc3kB0CKbqkpzeQHQIpuqSnN5AdAim6pKc3kB0CKbqkpzeQHQIpuqSnN5AdAim6pKc3kB0CKbqkpzeQHQIpuqSnN5AdAAQ5TsfqPB0ABDlOx+o8HQAEOU7H6jwdAAQ5TsfqPB0ABDlOx+o8HQAEOU7H6jwdAAQ5TsfqPB0ABDlOx+o8HQAEOU7H6jwdAAQ5TsfqPB0ABDlOx+o8HQAEOU7H6jwdAAQ5TsfqPB0ABDlOx+o8HQAEOU7H6jwdAmoDffjlzB0CagN9+OXMHQJqA3345cwdAmoDffjlzB0CagN9+OXMHQJqA3345cwdAmoDffjlzB0CagN9+OXMHQJqA3345cwdAmoDffjlzB0CagN9+OXMHQJqA3345cwdAmoDffjlzB0CagN9+OXMHQJqA3345cwdA\"},\"type\":\"mesh3d\"},{\"alphahull\":0,\"color\":\"#FFB5B5\",\"hovertemplate\":\"%{meta.position}\",\"legendgroup\":\"Atoms\",\"meta\":{\"position\":\"(0.69, 1.50, 3.47)\",\"meta\":{\"Atoms_i\":5}},\"name\":\"Atoms\",\"opacity\":1.0,\"showlegend\":false,\"showscale\":false,\"x\":{\"dtype\":\"f8\",\"bdata\":\"CVgHVeXx5T8JWAdV5fHlPwlYB1Xl8eU\\u002fCVgHVeXx5T8JWAdV5fHlPwlYB1Xl8eU\\u002fCVgHVeXx5T8JWAdV5fHlPwlYB1Xl8eU\\u002fCVgHVeXx5T8JWAdV5fHlPwlYB1Xl8eU\\u002fCVgHVeXx5T8JWAdV5fHlPwlYB1Xl8eU\\u002f4GWauc8j7D+wXQKkwYbrPxT6GbKyzuk\\u002fWHtolctS5z+6NKYU\\u002f5DkP\\u002f+19PcXFeI\\u002fYlIMBgld4D9llOjg9X\\u002ffP2JSDAYJXeA\\u002f\\u002frX09xcV4j+6NKYU\\u002f5DkP1h7aJXLUuc\\u002fE\\u002foZsrLO6T+wXQKkwYbrP+BlmrnPI+w\\u002fk\\u002fSO7hkD8T8\\u002fB+Pl+2nwP50OO+Xqee0\\u002ftqCHsv+h6D9cD4f3ykHjP+tCp4m\\u002f09w\\u002fKEORvKUf1j\\u002fYjeGZLbvTPydDkbylH9Y\\u002f6kKnib\\u002fT3D9bD4f3ykHjP7Wgh7L\\u002foeg\\u002fnA475ep57T8\\u002fB+Pl+2nwP5P0ju4ZA\\u002fE\\u002fljjIK8Sm8z\\u002fIBtSyvMryP4URu6A6YvA\\u002fFPoZsrLO6T\\u002f\\u002ftfT3FxXiPxIaMdGqPtY\\u002fCIqaEUU5yT+U+\\u002fhJCVnCPwaKmhFFOck\\u002fEBox0ao+1j\\u002f+tfT3FxXiPxL6GbKyzuk\\u002fhBG7oDpi8D\\u002fIBtSyvMryP5Y4yCvEpvM\\u002femJCIQXb9T\\u002fcz6i2HMf0P5YroxQJwvE\\u002f8MW6h9DJ6j8j6lMi+hnhP8+xkAFxv9A\\u002fyILo5Ymssj+Aj\\u002fXEM+B2P8iC6OWJrLI\\u002fzLGQAXG\\u002f0D8h6lMi+hnhP+7FuofQyeo\\u002flSujFAnC8T\\u002fcz6i2HMf0P3piQiEF2\\u002fU\\u002fodraiJGD9z9EG4L6nUX2P8gG1LK8yvI\\u002fsF0CpMGG6z9jUgwGCV3gPwaKmhFFOck\\u002fgM6wXinulL+AKTg9wxq5v6DOsF4p7pS\\u002fAIqaEUU5yT9hUgwGCV3gP65dAqTBhus\\u002fyAbUsrzK8j9DG4L6nUX2P6Ha2oiRg\\u002fc\\u002fJqvCfh+L+D\\u002fQhgJQEjP3P4ar6IcPb\\u002fM\\u002fmKASmQz86z\\u002f2HvghfM\\u002ffPxhk9WiuFsQ\\u002faOyyr88StL\\u002fsmNpN0cnEv3Dssq\\u002fPErS\\u002fEGT1aK4WxD\\u002fyHvghfM\\u002ffP5agEpkM\\u002fOs\\u002fhqvohw9v8z\\u002fQhgJQEjP3Pyarwn4fi\\u002fg\\u002f8P07yXfk+D+h2tqIkYP3P5c4yCvEpvM\\u002f4GWauc8j7D9mlOjg9X\\u002ffP5T7+EkJWcI\\u002feCk4PcMaub84L6Whk5THv4ApOD3DGrm\\u002fjPv4SQlZwj9ilOjg9X\\u002ffP95lmrnPI+w\\u002fljjIK8Sm8z+g2tqIkYP3P\\u002fD9O8l35Pg\\u002fJqvCfh+L+D\\u002fQhgJQEjP3P4ar6IcPb\\u002fM\\u002fmKASmQz86z\\u002f2HvghfM\\u002ffPxhk9WiuFsQ\\u002faOyyr88StL\\u002fsmNpN0cnEv3Dssq\\u002fPErS\\u002fEGT1aK4WxD\\u002fyHvghfM\\u002ffP5agEpkM\\u002fOs\\u002fhqvohw9v8z\\u002fQhgJQEjP3Pyarwn4fi\\u002fg\\u002fodraiJGD9z9EG4L6nUX2P8gG1LK8yvI\\u002fsF0CpMGG6z9jUgwGCV3gPwaKmhFFOck\\u002fgM6wXinulL+AKTg9wxq5v6DOsF4p7pS\\u002fAIqaEUU5yT9hUgwGCV3gP65dAqTBhus\\u002fyAbUsrzK8j9DG4L6nUX2P6Ha2oiRg\\u002fc\\u002femJCIQXb9T\\u002fdz6i2HMf0P5YroxQJwvE\\u002f8MW6h9DJ6j8i6lMi+hnhP82xkAFxv9A\\u002fwILo5Ymssj8Aj\\u002fXEM+B2P8CC6OWJrLI\\u002fy7GQAXG\\u002f0D8h6lMi+hnhP+\\u002fFuofQyeo\\u002flSujFAnC8T\\u002fdz6i2HMf0P3piQiEF2\\u002fU\\u002flzjIK8Sm8z\\u002fJBtSyvMryP4URu6A6YvA\\u002fFPoZsrLO6T\\u002f\\u002ftfT3FxXiPxEaMdGqPtY\\u002fBIqaEUU5yT+Q+\\u002fhJCVnCPwKKmhFFOck\\u002fDxox0ao+1j\\u002f+tfT3FxXiPxP6GbKyzuk\\u002fhBG7oDpi8D\\u002fIBtSyvMryP5c4yCvEpvM\\u002flPSO7hkD8T9AB+Pl+2nwP54OO+Xqee0\\u002ftqCHsv+h6D9cD4f3ykHjP+pCp4m\\u002f09w\\u002fJkORvKUf1j\\u002fWjeGZLbvTPyZDkbylH9Y\\u002f6EKnib\\u002fT3D9bD4f3ykHjP7agh7L\\u002foeg\\u002fnQ475ep57T9AB+Pl+2nwP5T0ju4ZA\\u002fE\\u002f4GWauc8j7D+xXQKkwYbrPxT6GbKyzuk\\u002fWHtolctS5z+6NKYU\\u002f5DkP\\u002f619PcXFeI\\u002fYlIMBgld4D9jlOjg9X\\u002ffP2FSDAYJXeA\\u002f\\u002frX09xcV4j+6NKYU\\u002f5DkP1h7aJXLUuc\\u002fFPoZsrLO6T+wXQKkwYbrP+BlmrnPI+w\\u002fClgHVeXx5T8KWAdV5fHlPwpYB1Xl8eU\\u002fCVgHVeXx5T8JWAdV5fHlPwhYB1Xl8eU\\u002fCFgHVeXx5T8IWAdV5fHlPwhYB1Xl8eU\\u002fCFgHVeXx5T8JWAdV5fHlPwlYB1Xl8eU\\u002fClgHVeXx5T8KWAdV5fHlPwpYB1Xl8eU\\u002f\"},\"y\":{\"dtype\":\"f8\",\"bdata\":\"cWvA0+zx9z9xa8DT7PH3P3FrwNPs8fc\\u002fcWvA0+zx9z9xa8DT7PH3P3FrwNPs8fc\\u002fcWvA0+zx9z9xa8DT7PH3P3FrwNPs8fc\\u002fcWvA0+zx9z9xa8DT7PH3P3FrwNPs8fc\\u002fcWvA0+zx9z9xa8DT7PH3P3FrwNPs8fc\\u002fcWvA0+zx9z\\u002fHj4AC+kn5P2QiGm3iXfo\\u002fuA\\u002fGdQD3+j+4D8Z1APf6P2QiGm3iXfo\\u002fyI+AAvpJ+T9xa8DT7PH3PxtHAKXfmfY\\u002ffrRmOveF9T8qx7ox2ez0PyrHujHZ7PQ\\u002ffrRmOveF9T8aRwCl35n2P3FrwNPs8fc\\u002fcWvA0+zx9z8eTnqixpD6P0o\\u002fx6nBqvw\\u002fMHWHLVDV\\u002fT8wdYctUNX9P0o\\u002fx6nBqvw\\u002fHk56osaQ+j9xa8DT7PH3P8SIBgUTU\\u002fU\\u002fmJe5\\u002fRc58z+yYfl5iQ7yP7Jh+XmJDvI\\u002fmJe5\\u002fRc58z\\u002fEiAYFE1P1P3FrwNPs8fc\\u002fcWvA0+zx9z+7Rtqb77X7PwLr3z0Du\\u002f4\\u002febWS2AQ0AEB5tZLYBDQAQALr3z0Du\\u002f4\\u002fu0bam++1+z9xa8DT7PH3PyiQpgvqLfQ\\u002f4OugadYo8T\\u002ff17bsn\\u002ffuP9\\u002fXtuyf9+4\\u002f4OugadYo8T8nkKYL6i30P3BrwNPs8fc\\u002fcWvA0+zx9z9KP8epwar8P+6rIP4UOgBAhCTHgRJHAUCEJMeBEkcBQO6rIP4UOgBASj\\u002fHqcGq\\u002fD9xa8DT7PH3P5mXuf0XOfM\\u002fDP5+Vl\\u002ff7j+zG+VHaavqP7Mb5Udpq+o\\u002fC\\u002f5+Vl\\u002ff7j+Yl7n9FznzP3BrwNPs8fc\\u002fcWvA0+zx9z+sxh8P9mL9P6TH8m8L4ABAHqOfPAYWAkAeo588BhYCQKXH8m8L4ABArMYfD\\u002fZi\\u002fT9xa8DT7PH3PzcQYZjjgPI\\u002fMo82j4VH7D9LIYNcmm\\u002fnP0shg1yab+c\\u002fMY82j4VH7D82EGGY44DyP3BrwNPs8fc\\u002fcWvA0+zx9z8wdYctUNX9P4Qkx4ESRwFA2hUkaX+WAkDaFSRpf5YCQIQkx4ESRwFAMHWHLVDV\\u002fT9xa8DT7PH3P7Nh+XmJDvI\\u002ftBvlR2mr6j9aVnGqtW3lP1pWcaq1beU\\u002fsxvlR2mr6j+yYfl5iQ7yP3BrwNPs8fc\\u002fcWvA0+zx9z8AtMsXFPz9P\\u002fOQP6X\\u002faQFASrX\\u002f0wzCAkBKtf\\u002fTDMICQPOQP6X\\u002faQFAALTLFxT8\\u002fT9xa8DT7PH3P+MitY\\u002fF5\\u002fE\\u002f+WkDurQf6j+e2AL\\u002ff7\\u002fkP57YAv9\\u002fv+Q\\u002f92kDurQf6j\\u002fiIrWPxefxP3BrwNPs8fc\\u002fcWvA0+zx9z8wdYctUNX9P4Qkx4ESRwFA2hUkaX+WAkDaFSRpf5YCQIQkx4ESRwFAMHWHLVDV\\u002fT9xa8DT7PH3P7Nh+XmJDvI\\u002ftBvlR2mr6j9aVnGqtW3lP1pWcaq1beU\\u002fsxvlR2mr6j+yYfl5iQ7yP3BrwNPs8fc\\u002fcWvA0+zx9z+sxh8P9mL9P6TH8m8L4ABAHqOfPAYWAkAeo588BhYCQKXH8m8L4ABArMYfD\\u002fZi\\u002fT9xa8DT7PH3PzcQYZjjgPI\\u002fMo82j4VH7D9LIYNcmm\\u002fnP0shg1yab+c\\u002fMY82j4VH7D82EGGY44DyP3BrwNPs8fc\\u002fcWvA0+zx9z9KP8epwar8P+6rIP4UOgBAhCTHgRJHAUCEJMeBEkcBQO6rIP4UOgBASj\\u002fHqcGq\\u002fD9xa8DT7PH3P5iXuf0XOfM\\u002fC\\u002f5+Vl\\u002ff7j+yG+VHaavqP7Ib5Udpq+o\\u002fCv5+Vl\\u002ff7j+Yl7n9FznzP3BrwNPs8fc\\u002fcWvA0+zx9z+7Rtqb77X7PwLr3z0Du\\u002f4\\u002ferWS2AQ0AEB6tZLYBDQAQALr3z0Du\\u002f4\\u002fu0bam++1+z9xa8DT7PH3PyeQpgvqLfQ\\u002f4OugadYo8T\\u002fe17bsn\\u002ffuP97Xtuyf9+4\\u002f4OugadYo8T8mkKYL6i30P3BrwNPs8fc\\u002fcWvA0+zx9z8eTnqixpD6P0o\\u002fx6nBqvw\\u002fMHWHLVDV\\u002fT8wdYctUNX9P0o\\u002fx6nBqvw\\u002fHk56osaQ+j9xa8DT7PH3P8SIBgUTU\\u002fU\\u002fmJe5\\u002fRc58z+yYfl5iQ7yP7Jh+XmJDvI\\u002fmJe5\\u002fRc58z\\u002fEiAYFE1P1P3FrwNPs8fc\\u002fcWvA0+zx9z\\u002fIj4AC+kn5P2UiGm3iXfo\\u002fuQ\\u002fGdQD3+j+5D8Z1APf6P2UiGm3iXfo\\u002fyI+AAvpJ+T9xa8DT7PH3PxpHAKXfmfY\\u002ffbRmOveF9T8px7ox2ez0PynHujHZ7PQ\\u002ffbRmOveF9T8aRwCl35n2P3FrwNPs8fc\\u002fcWvA0+zx9z9xa8DT7PH3P3FrwNPs8fc\\u002fcWvA0+zx9z9xa8DT7PH3P3FrwNPs8fc\\u002fcWvA0+zx9z9xa8DT7PH3P3FrwNPs8fc\\u002fcWvA0+zx9z9xa8DT7PH3P3FrwNPs8fc\\u002fcWvA0+zx9z9xa8DT7PH3P3FrwNPs8fc\\u002f\"},\"z\":{\"dtype\":\"f8\",\"bdata\":\"Q+bUEk5fEUBD5tQSTl8RQEPm1BJOXxFAQ+bUEk5fEUBD5tQSTl8RQEPm1BJOXxFAQ+bUEk5fEUBD5tQSTl8RQEPm1BJOXxFAQ+bUEk5fEUBD5tQSTl8RQEPm1BJOXxFAQ+bUEk5fEUBD5tQSTl8RQEPm1BJOXxFAkZE2APhIEUCRkTYA+EgRQJGRNgD4SBFAkZE2APhIEUCRkTYA+EgRQJGRNgD4SBFAkZE2APhIEUCRkTYA+EgRQJGRNgD4SBFAkZE2APhIEUCRkTYA+EgRQJGRNgD4SBFAkZE2APhIEUCRkTYA+EgRQJGRNgD4SBFAcJ28ghQHEUBwnbyCFAcRQHCdvIIUBxFAcJ28ghQHEUBwnbyCFAcRQHCdvIIUBxFAcJ28ghQHEUBwnbyCFAcRQHCdvIIUBxFAcJ28ghQHEUBwnbyCFAcRQHCdvIIUBxFAcJ28ghQHEUBwnbyCFAcRQHCdvIIUBxFAZn\\u002fWaPGcEEBmf9Zo8ZwQQGZ\\u002f1mjxnBBAZn\\u002fWaPGcEEBmf9Zo8ZwQQGZ\\u002f1mjxnBBAZn\\u002fWaPGcEEBmf9Zo8ZwQQGZ\\u002f1mjxnBBAZn\\u002fWaPGcEEBmf9Zo8ZwQQGZ\\u002f1mjxnBBAZn\\u002fWaPGcEEBmf9Zo8ZwQQGZ\\u002f1mjxnBBA7fR3K+EPEEDt9Hcr4Q8QQO30dyvhDxBA7fR3K+EPEEDt9Hcr4Q8QQO30dyvhDxBA7fR3K+EPEEDt9Hcr4Q8QQO30dyvhDxBA7fR3K+EPEEDt9Hcr4Q8QQO30dyvhDxBA7fR3K+EPEEDt9Hcr4Q8QQO30dyvhDxBA2EdTOO3NDkDYR1M47c0OQNhHUzjtzQ5A2EdTOO3NDkDYR1M47c0OQNhHUzjtzQ5A2EdTOO3NDkDYR1M47c0OQNhHUzjtzQ5A2EdTOO3NDkDYR1M47c0OQNhHUzjtzQ5A2EdTOO3NDkDYR1M47c0OQNhHUzjtzQ5AB2dyL1RVDUAHZ3IvVFUNQAdnci9UVQ1AB2dyL1RVDUAHZ3IvVFUNQAdnci9UVQ1AB2dyL1RVDUAHZ3IvVFUNQAdnci9UVQ1AB2dyL1RVDUAHZ3IvVFUNQAdnci9UVQ1AB2dyL1RVDUAHZ3IvVFUNQAdnci9UVQ1AkaNNltnIC0CRo02W2cgLQJGjTZbZyAtAkaNNltnIC0CRo02W2cgLQJGjTZbZyAtAkaNNltnIC0CRo02W2cgLQJGjTZbZyAtAkaNNltnIC0CRo02W2cgLQJGjTZbZyAtAkaNNltnIC0CRo02W2cgLQJGjTZbZyAtAHOAo\\u002fV48CkAc4Cj9XjwKQBzgKP1ePApAHOAo\\u002fV48CkAc4Cj9XjwKQBzgKP1ePApAHOAo\\u002fV48CkAc4Cj9XjwKQBzgKP1ePApAHOAo\\u002fV48CkAc4Cj9XjwKQBzgKP1ePApAHOAo\\u002fV48CkAc4Cj9XjwKQBzgKP1ePApASv9H9MXDCEBK\\u002f0f0xcMIQEr\\u002fR\\u002fTFwwhASv9H9MXDCEBK\\u002f0f0xcMIQEr\\u002fR\\u002fTFwwhASv9H9MXDCEBK\\u002f0f0xcMIQEr\\u002fR\\u002fTFwwhASv9H9MXDCEBK\\u002f0f0xcMIQEr\\u002fR\\u002fTFwwhASv9H9MXDCEBK\\u002f0f0xcMIQEr\\u002fR\\u002fTFwwhASF2r1fBxB0BIXavV8HEHQEhdq9XwcQdASF2r1fBxB0BIXavV8HEHQEhdq9XwcQdASF2r1fBxB0BIXavV8HEHQEhdq9XwcQdASF2r1fBxB0BIXavV8HEHQEhdq9XwcQdASF2r1fBxB0BIXavV8HEHQEhdq9XwcQdAVkjuWtBXBkBWSO5a0FcGQFZI7lrQVwZAVkjuWtBXBkBWSO5a0FcGQFZI7lrQVwZAVkjuWtBXBkBWSO5a0FcGQFZI7lrQVwZAVkjuWtBXBkBWSO5a0FcGQFZI7lrQVwZAVkjuWtBXBkBWSO5a0FcGQFZI7lrQVwZAQwwiJ4qDBUBDDCInioMFQEMMIieKgwVAQwwiJ4qDBUBDDCInioMFQEMMIieKgwVAQwwiJ4qDBUBDDCInioMFQEMMIieKgwVAQwwiJ4qDBUBDDCInioMFQEMMIieKgwVAQwwiJ4qDBUBDDCInioMFQEMMIieKgwVAACQuLMP\\u002fBEAAJC4sw\\u002f8EQAAkLizD\\u002fwRAACQuLMP\\u002fBEAAJC4sw\\u002f8EQAAkLizD\\u002fwRAACQuLMP\\u002fBEAAJC4sw\\u002f8EQAAkLizD\\u002fwRAACQuLMP\\u002fBEAAJC4sw\\u002f8EQAAkLizD\\u002fwRAACQuLMP\\u002fBEAAJC4sw\\u002f8EQAAkLizD\\u002fwRAm3rxBhfTBECbevEGF9MEQJt68QYX0wRAm3rxBhfTBECbevEGF9MEQJt68QYX0wRAm3rxBhfTBECbevEGF9MEQJt68QYX0wRAm3rxBhfTBECbevEGF9MEQJt68QYX0wRAm3rxBhfTBECbevEGF9MEQJt68QYX0wRA\"},\"type\":\"mesh3d\"},{\"alphahull\":0,\"color\":\"#3050F8\",\"hovertemplate\":\"%{meta.position}\",\"legendgroup\":\"Atoms\",\"meta\":{\"position\":\"(3.14, 2.77, 3.47)\",\"meta\":{\"Atoms_i\":6}},\"name\":\"Atoms\",\"opacity\":1.0,\"showlegend\":false,\"showscale\":false,\"x\":{\"dtype\":\"f8\",\"bdata\":\"D+bxGk0oCUAP5vEaTSgJQA\\u002fm8RpNKAlAD+bxGk0oCUAP5vEaTSgJQA\\u002fm8RpNKAlAD+bxGk0oCUAP5vEaTSgJQA\\u002fm8RpNKAlAD+bxGk0oCUAP5vEaTSgJQA\\u002fm8RpNKAlAD+bxGk0oCUAP5vEaTSgJQA\\u002fm8RpNKAlAVUxKiYEnCkA2dHiXOw4KQAs4sTVrxwlAB91W8BZhCUAX74xFg+8IQBOUMgAviQhA6Fdrnl5CCEDJf5msGCkIQOhXa55eQghAE5QyAC+JCEAX74xFg+8IQAfdVvAWYQlACzixNWvHCUA2dHiXOw4KQFVMSomBJwpA4n4q7ekZC0BX1J13ougKQDDdcryOXgpAUTvjyAeXCUDNkABtkrkIQO7ucHkL8gdAx\\u002fdFvvdnB0A8TblIsDYHQMf3Rb73ZwdA7u5weQvyB0DNkABtkrkIQFE748gHlwlAMN1yvI5eCkBX1J13ougKQOJ+Ku3pGQtAomhXgl7zC0B3LJAgjqwLQCq9nIcj5gpACzixNWvHCUATlDIAL4kIQPQOR652agdAp59TFQykBkB8Y4yzO10GQKefUxUMpAZA9A5HrnZqB0ATlDIAL4kIQAs4sTVrxwlAKb2chyPmCkB3LJAgjqwLQKJoV4Je8wtAn8JJ1PeoDEACdquOK1AMQJkpjyVdVwtA7oeBDtTvCUAxRGInxmAIQIWiVBA9+QZAHFY4p24ABkB\\u002fCZphoqcFQBxWOKduAAZAhaJUED35BkAwRGInxmAIQO2HgQ7U7wlAmSmPJV1XC0ACdquOK1AMQJ\\u002fCSdT3qAxAmgzWt5oxDUCWsXtyRssMQHcskCCOrAtANnR4lzsOCkDoV2ueXkIIQKefUxUMpAZAiBpow1OFBUCEvw1+\\u002fx4FQIgaaMNThQVApp9TFQykBkDoV2ueXkIIQDV0eJc7DgpAdyyQII6sC0CWsXtyRssMQJoM1reaMQ1AI20sMG2GDUDhFzuCshcNQMAguuBw4QtAeDIOhBshCkCmmdWxfi8IQF6rKVUpbwZAPbSos+c4BUD7XrcFLcoEQD20qLPnOAVAXqspVSlvBkClmdWxfi8IQHgyDoQbIQpAwCC64HDhC0DhFzuCshcNQCNtLDBthg1AivqfYi6jDUCaDNa3mjENQKJoV4Je8wtAVUxKiYEnCkDJf5msGCkIQHxjjLM7XQZAhL8Nfv8eBUCU0UPTa60EQIS\\u002fDX7\\u002fHgVAfGOMsztdBkDJf5msGCkIQFVMSomBJwpAomhXgl7zC0CaDNa3mjENQIr6n2Iuow1AI20sMG2GDUDhFzuCshcNQMAguuBw4QtAeDIOhBshCkCmmdWxfi8IQF6rKVUpbwZAPbSos+c4BUD7XrcFLcoEQD20qLPnOAVAXqspVSlvBkClmdWxfi8IQHgyDoQbIQpAwCC64HDhC0DhFzuCshcNQCNtLDBthg1AmgzWt5oxDUCWsXtyRssMQHcskCCOrAtANnR4lzsOCkDoV2ueXkIIQKefUxUMpAZAiBpow1OFBUCEvw1+\\u002fx4FQIgaaMNThQVApp9TFQykBkDoV2ueXkIIQDV0eJc7DgpAdyyQII6sC0CWsXtyRssMQJoM1reaMQ1An8JJ1PeoDEACdquOK1AMQJkpjyVdVwtA7oeBDtTvCUAwRGInxmAIQIWiVBA9+QZAHFY4p24ABkB\\u002fCZphoqcFQBxWOKduAAZAhaJUED35BkAwRGInxmAIQO2HgQ7U7wlAmSmPJV1XC0ACdquOK1AMQJ\\u002fCSdT3qAxAomhXgl7zC0B3LJAgjqwLQCq9nIcj5gpACzixNWvHCUATlDIAL4kIQPQOR652agdAp59TFQykBkB8Y4yzO10GQKefUxUMpAZA9A5HrnZqB0ATlDIAL4kIQAs4sTVrxwlAKr2chyPmCkB3LJAgjqwLQKJoV4Je8wtA4n4q7ekZC0BX1J13ougKQDDdcryOXgpAUTvjyAeXCUDNkABtkrkIQO7ucHkL8gdAx\\u002fdFvvdnB0A8TblIsDYHQMf3Rb73ZwdA7u5weQvyB0DNkABtkrkIQFE748gHlwlAMN1yvI5eCkBX1J13ougKQOJ+Ku3pGQtAVUxKiYEnCkA2dHiXOw4KQAs4sTVrxwlAB91W8BZhCUAX74xFg+8IQBOUMgAviQhA6Fdrnl5CCEDJf5msGCkIQOhXa55eQghAE5QyAC+JCEAX74xFg+8IQAfdVvAWYQlACzixNWvHCUA2dHiXOw4KQFVMSomBJwpAD+bxGk0oCUAP5vEaTSgJQA\\u002fm8RpNKAlAD+bxGk0oCUAP5vEaTSgJQA\\u002fm8RpNKAlAD+bxGk0oCUAP5vEaTSgJQA\\u002fm8RpNKAlAD+bxGk0oCUAP5vEaTSgJQA\\u002fm8RpNKAlAD+bxGk0oCUAP5vEaTSgJQA\\u002fm8RpNKAlA\"},\"y\":{\"dtype\":\"f8\",\"bdata\":\"ZUAShwckBkBlQBKHByQGQGVAEocHJAZAZUAShwckBkBlQBKHByQGQGVAEocHJAZAZUAShwckBkBlQBKHByQGQGVAEocHJAZAZUAShwckBkBlQBKHByQGQGVAEocHJAZAZUAShwckBkBlQBKHByQGQGVAEocHJAZAZUAShwckBkCnlQM1wpIGQETioXqO6wZAzowu8NUcB0DOjC7w1RwHQETioXqO6wZAp5UDNcKSBkBlQBKHByQGQCPrINlMtQVAh56Ck4BcBUD88\\u002fUdOSsFQPzz9R05KwVAhp6Ck4BcBUAj6yDZTLUFQGVAEocHJAZAZUAShwckBkBZiTZ37\\u002fsGQIcgWB4UqQdA0jTxcSoJCEDSNPFxKgkIQIggWB4UqQdAWYk2d+\\u002f7BkBlQBKHByQGQHH37ZYfTAVAQ2DM7\\u002fqeBED4SzOc5D4EQPhLM5zkPgRAQmDM7\\u002fqeBEBx9+2WH0wFQGVAEocHJAZAZUAShwckBkCGN5MoSVoHQO+Dr5EXUwhAFnvaTCvdCEAWe9pMK90IQO+Dr5EXUwhAhjeTKElaB0BlQBKHByQGQERJkeXF7QRA2\\u002fx0fPf0A0C0BUrB42oDQLQFSsHjagNA2\\u002fx0fPf0A0BESZHlxe0EQGVAEocHJAZAZUAShwckBkCIIFgeFKkHQMZ9FWIS4QhA9BQ3CTeOCUD0FDcJN44JQMZ9FWIS4QhAiCBYHhSpB0BlQBKHByQGQENgzO\\u002f6ngRABQMPrPxmA0DWa+0E2LkCQNZr7QTYuQJABAMPrPxmA0BCYMzv+p4EQGVAEocHJAZAZUAShwckBkCtLr7jXOQHQFjQy\\u002frlSwlAN3Jb7mwTCkA3clvubBMKQFjQy\\u002frlSwlArS6+41zkB0BlQBKHByQGQB1SZiqyYwRAcrBYEyn8AkCTDskfojQCQJMOyR+iNAJAcrBYEyn8AkAdUmYqsmMEQGVAEocHJAZAZUAShwckBkDSNPFxKgkIQPQUNwk3jglA6F1b+R5mCkDoXVv5HmYKQPQUNwk3jglA0jTxcSoJCEBlQBKHByQGQPlLM5zkPgRA1mvtBNi5AkDiIskU8OEBQOIiyRTw4QFA1mvtBNi5AkD4SzOc5D4EQGVAEocHJAZAZUAShwckBkA42UpZpBUIQPUcakCypAlAecdMnCeCCkB5x0ycJ4IKQPUcakCypAlAONlKWaQVCEBlQBKHByQGQJKn2bRqMgRA1WO6zVyjAkBRuddx58UBQFG513HnxQFA1WO6zVyjAkCSp9m0ajIEQGVAEocHJAZAZUAShwckBkDSNPFxKgkIQPQUNwk3jglA6F1b+R5mCkDoXVv5HmYKQPQUNwk3jglA0jTxcSoJCEBlQBKHByQGQPlLM5zkPgRA1mvtBNi5AkDiIskU8OEBQOIiyRTw4QFA1mvtBNi5AkD4SzOc5D4EQGVAEocHJAZAZUAShwckBkCtLr7jXOQHQFjQy\\u002frlSwlAN3Jb7mwTCkA3clvubBMKQFjQy\\u002frlSwlArS6+41zkB0BlQBKHByQGQB1SZiqyYwRAcrBYEyn8AkCTDskfojQCQJMOyR+iNAJAcrBYEyn8AkAdUmYqsmMEQGVAEocHJAZAZUAShwckBkCIIFgeFKkHQMZ9FWIS4QhA9BQ3CTeOCUD0FDcJN44JQMZ9FWIS4QhAiCBYHhSpB0BlQBKHByQGQENgzO\\u002f6ngRABAMPrPxmA0DWa+0E2LkCQNZr7QTYuQJABAMPrPxmA0BCYMzv+p4EQGVAEocHJAZAZUAShwckBkCGN5MoSVoHQO+Dr5EXUwhAFnvaTCvdCEAWe9pMK90IQO+Dr5EXUwhAhjeTKElaB0BlQBKHByQGQERJkeXF7QRA2\\u002fx0fPf0A0C0BUrB42oDQLQFSsHjagNA2\\u002fx0fPf0A0BESZHlxe0EQGVAEocHJAZAZUAShwckBkBZiTZ37\\u002fsGQIggWB4UqQdA0jTxcSoJCEDSNPFxKgkIQIggWB4UqQdAWYk2d+\\u002f7BkBlQBKHByQGQHH37ZYfTAVAQmDM7\\u002fqeBED4SzOc5D4EQPhLM5zkPgRAQmDM7\\u002fqeBEBx9+2WH0wFQGVAEocHJAZAZUAShwckBkCnlQM1wpIGQETioXqO6wZAzowu8NUcB0DOjC7w1RwHQETioXqO6wZAp5UDNcKSBkBlQBKHByQGQCPrINlMtQVAhp6Ck4BcBUD88\\u002fUdOSsFQPzz9R05KwVAhp6Ck4BcBUAj6yDZTLUFQGVAEocHJAZAZUAShwckBkBlQBKHByQGQGVAEocHJAZAZUAShwckBkBlQBKHByQGQGVAEocHJAZAZUAShwckBkBlQBKHByQGQGVAEocHJAZAZUAShwckBkBlQBKHByQGQGVAEocHJAZAZUAShwckBkBlQBKHByQGQGVAEocHJAZA\"},\"z\":{\"dtype\":\"f8\",\"bdata\":\"cQq14rchEEBxCrXityEQQHEKteK3IRBAcQq14rchEEBxCrXityEQQHEKteK3IRBAcQq14rchEEBxCrXityEQQHEKteK3IRBAcQq14rchEEBxCrXityEQQHEKteK3IRBAcQq14rchEEBxCrXityEQQHEKteK3IRBAvkN7SVcTEEC+Q3tJVxMQQL5De0lXExBAvkN7SVcTEEC+Q3tJVxMQQL5De0lXExBAvkN7SVcTEEC+Q3tJVxMQQL5De0lXExBAvkN7SVcTEEC+Q3tJVxMQQL5De0lXExBAvkN7SVcTEEC+Q3tJVxMQQL5De0lXExBA8iagGtzRD0DyJqAa3NEPQPImoBrc0Q9A8iagGtzRD0DyJqAa3NEPQPImoBrc0Q9A8iagGtzRD0DyJqAa3NEPQPImoBrc0Q9A8iagGtzRD0DyJqAa3NEPQPImoBrc0Q9A8iagGtzRD0DyJqAa3NEPQPImoBrc0Q9A99wTNzlJD0D33BM3OUkPQPfcEzc5SQ9A99wTNzlJD0D33BM3OUkPQPfcEzc5SQ9A99wTNzlJD0D33BM3OUkPQPfcEzc5SQ9A99wTNzlJD0D33BM3OUkPQPfcEzc5SQ9A99wTNzlJD0D33BM3OUkPQPfcEzc5SQ9A+oIh5Z+TDkD6giHln5MOQPqCIeWfkw5A+oIh5Z+TDkD6giHln5MOQPqCIeWfkw5A+oIh5Z+TDkD6giHln5MOQPqCIeWfkw5A+oIh5Z+TDkD6giHln5MOQPqCIeWfkw5A+oIh5Z+TDkD6giHln5MOQPqCIeWfkw5AOpn0Tyu6DUA6mfRPK7oNQDqZ9E8rug1AOpn0Tyu6DUA6mfRPK7oNQDqZ9E8rug1AOpn0Tyu6DUA6mfRPK7oNQDqZ9E8rug1AOpn0Tyu6DUA6mfRPK7oNQDqZ9E8rug1AOpn0Tyu6DUA6mfRPK7oNQDqZ9E8rug1ArWYU7MLHDECtZhTswscMQK1mFOzCxwxArWYU7MLHDECtZhTswscMQK1mFOzCxwxArWYU7MLHDECtZhTswscMQK1mFOzCxwxArWYU7MLHDECtZhTswscMQK1mFOzCxwxArWYU7MLHDECtZhTswscMQK1mFOzCxwxAZwC8fY7IC0BnALx9jsgLQGcAvH2OyAtAZwC8fY7IC0BnALx9jsgLQGcAvH2OyAtAZwC8fY7IC0BnALx9jsgLQGcAvH2OyAtAZwC8fY7IC0BnALx9jsgLQGcAvH2OyAtAZwC8fY7IC0BnALx9jsgLQGcAvH2OyAtAIZpjD1rJCkAhmmMPWskKQCGaYw9ayQpAIZpjD1rJCkAhmmMPWskKQCGaYw9ayQpAIZpjD1rJCkAhmmMPWskKQCGaYw9ayQpAIZpjD1rJCkAhmmMPWskKQCGaYw9ayQpAIZpjD1rJCkAhmmMPWskKQCGaYw9ayQpAlGeDq\\u002fHWCUCUZ4Or8dYJQJRng6vx1glAlGeDq\\u002fHWCUCUZ4Or8dYJQJRng6vx1glAlGeDq\\u002fHWCUCUZ4Or8dYJQJRng6vx1glAlGeDq\\u002fHWCUCUZ4Or8dYJQJRng6vx1glAlGeDq\\u002fHWCUCUZ4Or8dYJQJRng6vx1glA1H1WFn39CEDUfVYWff0IQNR9VhZ9\\u002fQhA1H1WFn39CEDUfVYWff0IQNR9VhZ9\\u002fQhA1H1WFn39CEDUfVYWff0IQNR9VhZ9\\u002fQhA1H1WFn39CEDUfVYWff0IQNR9VhZ9\\u002fQhA1H1WFn39CEDUfVYWff0IQNR9VhZ9\\u002fQhA1yNkxONHCEDXI2TE40cIQNcjZMTjRwhA1yNkxONHCEDXI2TE40cIQNcjZMTjRwhA1yNkxONHCEDXI2TE40cIQNcjZMTjRwhA1yNkxONHCEDXI2TE40cIQNcjZMTjRwhA1yNkxONHCEDXI2TE40cIQNcjZMTjRwhA3NnX4EC\\u002fB0Dc2dfgQL8HQNzZ1+BAvwdA3NnX4EC\\u002fB0Dc2dfgQL8HQNzZ1+BAvwdA3NnX4EC\\u002fB0Dc2dfgQL8HQNzZ1+BAvwdA3NnX4EC\\u002fB0Dc2dfgQL8HQNzZ1+BAvwdA3NnX4EC\\u002fB0Dc2dfgQL8HQNzZ1+BAvwdAU3mBaG5qB0BTeYFobmoHQFN5gWhuagdAU3mBaG5qB0BTeYFobmoHQFN5gWhuagdAU3mBaG5qB0BTeYFobmoHQFN5gWhuagdAU3mBaG5qB0BTeYFobmoHQFN5gWhuagdAU3mBaG5qB0BTeYFobmoHQFN5gWhuagdA7OsNNq1NB0Ds6w02rU0HQOzrDTatTQdA7OsNNq1NB0Ds6w02rU0HQOzrDTatTQdA7OsNNq1NB0Ds6w02rU0HQOzrDTatTQdA7OsNNq1NB0Ds6w02rU0HQOzrDTatTQdA7OsNNq1NB0Ds6w02rU0HQOzrDTatTQdA\"},\"type\":\"mesh3d\"},{\"alphahull\":0,\"color\":\"#FFB5B5\",\"hovertemplate\":\"%{meta.position}\",\"legendgroup\":\"Atoms\",\"meta\":{\"position\":\"(2.42, 1.50, 3.47)\",\"meta\":{\"Atoms_i\":7}},\"name\":\"Atoms\",\"opacity\":1.0,\"showlegend\":false,\"showscale\":false,\"x\":{\"dtype\":\"f8\",\"bdata\":\"TdSmN4lUA0BN1KY3iVQDQE3UpjeJVANATdSmN4lUA0BN1KY3iVQDQE3UpjeJVANATdSmN4lUA0BN1KY3iVQDQE3UpjeJVANATdSmN4lUA0BN1KY3iVQDQE3UpjeJVANATdSmN4lUA0BN1KY3iVQDQE3UpjeJVANAw5fL0APhBEC3lWVLwLkEQNB86468SwRAIR2\\u002fx8KsA0B5i46nT\\u002fwCQMorYuBVXQJA4xLoI1LvAUDXEIKeDsgBQOMS6CNS7wFAyiti4FVdAkB5i46nT\\u002fwCQCEdv8fCrANA0HzrjrxLBEC3lWVLwLkEQMOXy9AD4QRAlHis2ZxZBkDqgVbVDQ0GQPLBs5uKNgVAeOYGz48ABEAiwkaggqgCQKjmmdOHcgFAsCb3mQScAEAGMKGVdU8AQLAm95kEnABAqOaZ04dyAUAiwkaggqgCQHjmBs+PAARA8sGzm4o2BUDqgVbVDQ0GQJR4rNmcWQZAlhpJ+HGrB0CvAc87bj0HQA2HwjItCQZA0HzrjrxLBEDKK2LgVV0CQI0hizzlnwBA1k39ZkjX\\u002fj8IHAnuQPv9P9ZN\\u002fWZI1\\u002f4\\u002fjSGLPOWfAEDKK2LgVV0CQM986468SwRADYfCMi0JBkCvAc87bj0HQJYaSfhxqwdAiC8Gc5LFCEA5Zrk9njsIQBaUtmwUuQZAx69TBISKBEDT+Plqjh4CQAkpLgX83\\u002f8\\u002fwoQoY+ja\\u002fD8l8o74\\u002f8b7P8KEKGPo2vw\\u002fCCkuBfzf\\u002fz\\u002fT+Plqjh4CQMavUwSEigRAFZS2bBS5BkA5Zrk9njsIQIgvBnOSxQhAm2vSptiZCUDsC6bf3voIQK8BzztuPQdAt5VlS8C5BEDjEugjUu8BQNZN\\u002fWZI1\\u002f4\\u002fXDlPH2dc+z\\u002f+efaQcx76P1s5Tx9nXPs\\u002f1k39ZkjX\\u002fj\\u002fjEugjUu8BQLaVZUvAuQRArwHPO249B0DsC6bf3voIQJtr0qbYmQlA3lPGoZ8dCkCzQWYKmXEJQA5UWaaXjwdAcaapCBPXBEAqAqRm\\u002f9EBQBip6JH1Mv4\\u002fz83OyfJu+j94qQ6b5Rb5P87Nzsnybvo\\u002fGKnokfUy\\u002fj8pAqRm\\u002f9EBQHCmqQgT1wRADlRZppePB0CyQWYKmXEJQN5TxqGfHQpAQ\\u002f0Cx0tKCkCba9Km2JkJQJYaSfhxqwdAw5fL0APhBEDYEIKeDsgBQAgcCe5A+\\u002f0\\u002f\\u002fnn2kHMe+j+uVpVQjb34P\\u002f559pBzHvo\\u002fBxwJ7kD7\\u002fT\\u002fXEIKeDsgBQMKXy9AD4QRAlhpJ+HGrB0Cba9Km2JkJQEP9AsdLSgpA3lPGoZ8dCkCzQWYKmXEJQA5UWaaXjwdAcaapCBPXBEAqAqRm\\u002f9EBQBip6JH1Mv4\\u002fz83OyfJu+j94qQ6b5Rb5P87Nzsnybvo\\u002fGKnokfUy\\u002fj8pAqRm\\u002f9EBQHCmqQgT1wRADlRZppePB0CyQWYKmXEJQN5TxqGfHQpAm2vSptiZCUDsC6bf3voIQK8BzztuPQdAt5VlS8C5BEDjEugjUu8BQNZN\\u002fWZI1\\u002f4\\u002fXDlPH2dc+z\\u002f+efaQcx76P1s5Tx9nXPs\\u002f1k39ZkjX\\u002fj\\u002fjEugjUu8BQLaVZUvAuQRArwHPO249B0DsC6bf3voIQJtr0qbYmQlAiC8Gc5LFCEA5Zrk9njsIQBaUtmwUuQZAx69TBISKBEDT+Plqjh4CQAkpLgX83\\u002f8\\u002fwoQoY+ja\\u002fD8k8o74\\u002f8b7P8KEKGPo2vw\\u002fCCkuBfzf\\u002fz\\u002fT+Plqjh4CQMavUwSEigRAFZS2bBS5BkA5Zrk9njsIQIgvBnOSxQhAlhpJ+HGrB0CvAc87bj0HQA2HwjItCQZA0HzrjrxLBEDKK2LgVV0CQI0hizzlnwBA1k39ZkjX\\u002fj8IHAnuQPv9P9ZN\\u002fWZI1\\u002f4\\u002fjSGLPOWfAEDKK2LgVV0CQM986468SwRADYfCMi0JBkCvAc87bj0HQJYaSfhxqwdAlHis2ZxZBkDqgVbVDQ0GQPLBs5uKNgVAeOYGz48ABEAiwkaggqgCQKjmmdOHcgFAsCb3mQScAEAGMKGVdU8AQLAm95kEnABAqOaZ04dyAUAiwkaggqgCQHjmBs+PAARA8sGzm4o2BUDqgVbVDQ0GQJR4rNmcWQZAw5fL0APhBEC3lWVLwLkEQNB86468SwRAIR2\\u002fx8KsA0B5i46nT\\u002fwCQMorYuBVXQJA4xLoI1LvAUDXEIKeDsgBQOMS6CNS7wFAyiti4FVdAkB5i46nT\\u002fwCQCEdv8fCrANA0HzrjrxLBEC3lWVLwLkEQMOXy9AD4QRATdSmN4lUA0BN1KY3iVQDQE3UpjeJVANATdSmN4lUA0BN1KY3iVQDQE3UpjeJVANATdSmN4lUA0BN1KY3iVQDQE3UpjeJVANATdSmN4lUA0BN1KY3iVQDQE3UpjeJVANATdSmN4lUA0BN1KY3iVQDQE3UpjeJVANA\"},\"y\":{\"dtype\":\"f8\",\"bdata\":\"cWvA0+zx9z9xa8DT7PH3P3FrwNPs8fc\\u002fcWvA0+zx9z9xa8DT7PH3P3FrwNPs8fc\\u002fcWvA0+zx9z9xa8DT7PH3P3FrwNPs8fc\\u002fcWvA0+zx9z9xa8DT7PH3P3FrwNPs8fc\\u002fcWvA0+zx9z9xa8DT7PH3P3FrwNPs8fc\\u002fcWvA0+zx9z\\u002fHj4AC+kn5P2QiGm3iXfo\\u002fuA\\u002fGdQD3+j+4D8Z1APf6P2QiGm3iXfo\\u002fyI+AAvpJ+T9xa8DT7PH3PxtHAKXfmfY\\u002ffrRmOveF9T8qx7ox2ez0PyrHujHZ7PQ\\u002ffrRmOveF9T8aRwCl35n2P3FrwNPs8fc\\u002fcWvA0+zx9z8eTnqixpD6P0o\\u002fx6nBqvw\\u002fMHWHLVDV\\u002fT8wdYctUNX9P0o\\u002fx6nBqvw\\u002fHk56osaQ+j9xa8DT7PH3P8SIBgUTU\\u002fU\\u002fmJe5\\u002fRc58z+yYfl5iQ7yP7Jh+XmJDvI\\u002fmJe5\\u002fRc58z\\u002fEiAYFE1P1P3FrwNPs8fc\\u002fcWvA0+zx9z+7Rtqb77X7PwLr3z0Du\\u002f4\\u002febWS2AQ0AEB5tZLYBDQAQALr3z0Du\\u002f4\\u002fu0bam++1+z9xa8DT7PH3PyiQpgvqLfQ\\u002f4OugadYo8T\\u002ff17bsn\\u002ffuP9\\u002fXtuyf9+4\\u002f4OugadYo8T8nkKYL6i30P3BrwNPs8fc\\u002fcWvA0+zx9z9KP8epwar8P+6rIP4UOgBAhCTHgRJHAUCEJMeBEkcBQO6rIP4UOgBASj\\u002fHqcGq\\u002fD9xa8DT7PH3P5mXuf0XOfM\\u002fDP5+Vl\\u002ff7j+zG+VHaavqP7Mb5Udpq+o\\u002fC\\u002f5+Vl\\u002ff7j+Yl7n9FznzP3BrwNPs8fc\\u002fcWvA0+zx9z+sxh8P9mL9P6TH8m8L4ABAHqOfPAYWAkAeo588BhYCQKXH8m8L4ABArMYfD\\u002fZi\\u002fT9xa8DT7PH3PzcQYZjjgPI\\u002fMo82j4VH7D9LIYNcmm\\u002fnP0shg1yab+c\\u002fMY82j4VH7D82EGGY44DyP3BrwNPs8fc\\u002fcWvA0+zx9z8wdYctUNX9P4Qkx4ESRwFA2hUkaX+WAkDaFSRpf5YCQIQkx4ESRwFAMHWHLVDV\\u002fT9xa8DT7PH3P7Nh+XmJDvI\\u002ftBvlR2mr6j9aVnGqtW3lP1pWcaq1beU\\u002fsxvlR2mr6j+yYfl5iQ7yP3BrwNPs8fc\\u002fcWvA0+zx9z8AtMsXFPz9P\\u002fOQP6X\\u002faQFASrX\\u002f0wzCAkBKtf\\u002fTDMICQPOQP6X\\u002faQFAALTLFxT8\\u002fT9xa8DT7PH3P+MitY\\u002fF5\\u002fE\\u002f+WkDurQf6j+e2AL\\u002ff7\\u002fkP57YAv9\\u002fv+Q\\u002f92kDurQf6j\\u002fiIrWPxefxP3BrwNPs8fc\\u002fcWvA0+zx9z8wdYctUNX9P4Qkx4ESRwFA2hUkaX+WAkDaFSRpf5YCQIQkx4ESRwFAMHWHLVDV\\u002fT9xa8DT7PH3P7Nh+XmJDvI\\u002ftBvlR2mr6j9aVnGqtW3lP1pWcaq1beU\\u002fsxvlR2mr6j+yYfl5iQ7yP3BrwNPs8fc\\u002fcWvA0+zx9z+sxh8P9mL9P6TH8m8L4ABAHqOfPAYWAkAeo588BhYCQKXH8m8L4ABArMYfD\\u002fZi\\u002fT9xa8DT7PH3PzcQYZjjgPI\\u002fMo82j4VH7D9LIYNcmm\\u002fnP0shg1yab+c\\u002fMY82j4VH7D82EGGY44DyP3BrwNPs8fc\\u002fcWvA0+zx9z9KP8epwar8P+6rIP4UOgBAhCTHgRJHAUCEJMeBEkcBQO6rIP4UOgBASj\\u002fHqcGq\\u002fD9xa8DT7PH3P5iXuf0XOfM\\u002fC\\u002f5+Vl\\u002ff7j+yG+VHaavqP7Ib5Udpq+o\\u002fCv5+Vl\\u002ff7j+Yl7n9FznzP3BrwNPs8fc\\u002fcWvA0+zx9z+7Rtqb77X7PwLr3z0Du\\u002f4\\u002ferWS2AQ0AEB6tZLYBDQAQALr3z0Du\\u002f4\\u002fu0bam++1+z9xa8DT7PH3PyeQpgvqLfQ\\u002f4OugadYo8T\\u002fe17bsn\\u002ffuP97Xtuyf9+4\\u002f4OugadYo8T8mkKYL6i30P3BrwNPs8fc\\u002fcWvA0+zx9z8eTnqixpD6P0o\\u002fx6nBqvw\\u002fMHWHLVDV\\u002fT8wdYctUNX9P0o\\u002fx6nBqvw\\u002fHk56osaQ+j9xa8DT7PH3P8SIBgUTU\\u002fU\\u002fmJe5\\u002fRc58z+yYfl5iQ7yP7Jh+XmJDvI\\u002fmJe5\\u002fRc58z\\u002fEiAYFE1P1P3FrwNPs8fc\\u002fcWvA0+zx9z\\u002fIj4AC+kn5P2UiGm3iXfo\\u002fuQ\\u002fGdQD3+j+5D8Z1APf6P2UiGm3iXfo\\u002fyI+AAvpJ+T9xa8DT7PH3PxpHAKXfmfY\\u002ffbRmOveF9T8px7ox2ez0PynHujHZ7PQ\\u002ffbRmOveF9T8aRwCl35n2P3FrwNPs8fc\\u002fcWvA0+zx9z9xa8DT7PH3P3FrwNPs8fc\\u002fcWvA0+zx9z9xa8DT7PH3P3FrwNPs8fc\\u002fcWvA0+zx9z9xa8DT7PH3P3FrwNPs8fc\\u002fcWvA0+zx9z9xa8DT7PH3P3FrwNPs8fc\\u002fcWvA0+zx9z9xa8DT7PH3P3FrwNPs8fc\\u002f\"},\"z\":{\"dtype\":\"f8\",\"bdata\":\"Q+bUEk5fEUBD5tQSTl8RQEPm1BJOXxFAQ+bUEk5fEUBD5tQSTl8RQEPm1BJOXxFAQ+bUEk5fEUBD5tQSTl8RQEPm1BJOXxFAQ+bUEk5fEUBD5tQSTl8RQEPm1BJOXxFAQ+bUEk5fEUBD5tQSTl8RQEPm1BJOXxFAkZE2APhIEUCRkTYA+EgRQJGRNgD4SBFAkZE2APhIEUCRkTYA+EgRQJGRNgD4SBFAkZE2APhIEUCRkTYA+EgRQJGRNgD4SBFAkZE2APhIEUCRkTYA+EgRQJGRNgD4SBFAkZE2APhIEUCRkTYA+EgRQJGRNgD4SBFAcJ28ghQHEUBwnbyCFAcRQHCdvIIUBxFAcJ28ghQHEUBwnbyCFAcRQHCdvIIUBxFAcJ28ghQHEUBwnbyCFAcRQHCdvIIUBxFAcJ28ghQHEUBwnbyCFAcRQHCdvIIUBxFAcJ28ghQHEUBwnbyCFAcRQHCdvIIUBxFAZn\\u002fWaPGcEEBmf9Zo8ZwQQGZ\\u002f1mjxnBBAZn\\u002fWaPGcEEBmf9Zo8ZwQQGZ\\u002f1mjxnBBAZn\\u002fWaPGcEEBmf9Zo8ZwQQGZ\\u002f1mjxnBBAZn\\u002fWaPGcEEBmf9Zo8ZwQQGZ\\u002f1mjxnBBAZn\\u002fWaPGcEEBmf9Zo8ZwQQGZ\\u002f1mjxnBBA7fR3K+EPEEDt9Hcr4Q8QQO30dyvhDxBA7fR3K+EPEEDt9Hcr4Q8QQO30dyvhDxBA7fR3K+EPEEDt9Hcr4Q8QQO30dyvhDxBA7fR3K+EPEEDt9Hcr4Q8QQO30dyvhDxBA7fR3K+EPEEDt9Hcr4Q8QQO30dyvhDxBA2EdTOO3NDkDYR1M47c0OQNhHUzjtzQ5A2EdTOO3NDkDYR1M47c0OQNhHUzjtzQ5A2EdTOO3NDkDYR1M47c0OQNhHUzjtzQ5A2EdTOO3NDkDYR1M47c0OQNhHUzjtzQ5A2EdTOO3NDkDYR1M47c0OQNhHUzjtzQ5AB2dyL1RVDUAHZ3IvVFUNQAdnci9UVQ1AB2dyL1RVDUAHZ3IvVFUNQAdnci9UVQ1AB2dyL1RVDUAHZ3IvVFUNQAdnci9UVQ1AB2dyL1RVDUAHZ3IvVFUNQAdnci9UVQ1AB2dyL1RVDUAHZ3IvVFUNQAdnci9UVQ1AkaNNltnIC0CRo02W2cgLQJGjTZbZyAtAkaNNltnIC0CRo02W2cgLQJGjTZbZyAtAkaNNltnIC0CRo02W2cgLQJGjTZbZyAtAkaNNltnIC0CRo02W2cgLQJGjTZbZyAtAkaNNltnIC0CRo02W2cgLQJGjTZbZyAtAHOAo\\u002fV48CkAc4Cj9XjwKQBzgKP1ePApAHOAo\\u002fV48CkAc4Cj9XjwKQBzgKP1ePApAHOAo\\u002fV48CkAc4Cj9XjwKQBzgKP1ePApAHOAo\\u002fV48CkAc4Cj9XjwKQBzgKP1ePApAHOAo\\u002fV48CkAc4Cj9XjwKQBzgKP1ePApASv9H9MXDCEBK\\u002f0f0xcMIQEr\\u002fR\\u002fTFwwhASv9H9MXDCEBK\\u002f0f0xcMIQEr\\u002fR\\u002fTFwwhASv9H9MXDCEBK\\u002f0f0xcMIQEr\\u002fR\\u002fTFwwhASv9H9MXDCEBK\\u002f0f0xcMIQEr\\u002fR\\u002fTFwwhASv9H9MXDCEBK\\u002f0f0xcMIQEr\\u002fR\\u002fTFwwhASF2r1fBxB0BIXavV8HEHQEhdq9XwcQdASF2r1fBxB0BIXavV8HEHQEhdq9XwcQdASF2r1fBxB0BIXavV8HEHQEhdq9XwcQdASF2r1fBxB0BIXavV8HEHQEhdq9XwcQdASF2r1fBxB0BIXavV8HEHQEhdq9XwcQdAVkjuWtBXBkBWSO5a0FcGQFZI7lrQVwZAVkjuWtBXBkBWSO5a0FcGQFZI7lrQVwZAVkjuWtBXBkBWSO5a0FcGQFZI7lrQVwZAVkjuWtBXBkBWSO5a0FcGQFZI7lrQVwZAVkjuWtBXBkBWSO5a0FcGQFZI7lrQVwZAQwwiJ4qDBUBDDCInioMFQEMMIieKgwVAQwwiJ4qDBUBDDCInioMFQEMMIieKgwVAQwwiJ4qDBUBDDCInioMFQEMMIieKgwVAQwwiJ4qDBUBDDCInioMFQEMMIieKgwVAQwwiJ4qDBUBDDCInioMFQEMMIieKgwVAACQuLMP\\u002fBEAAJC4sw\\u002f8EQAAkLizD\\u002fwRAACQuLMP\\u002fBEAAJC4sw\\u002f8EQAAkLizD\\u002fwRAACQuLMP\\u002fBEAAJC4sw\\u002f8EQAAkLizD\\u002fwRAACQuLMP\\u002fBEAAJC4sw\\u002f8EQAAkLizD\\u002fwRAACQuLMP\\u002fBEAAJC4sw\\u002f8EQAAkLizD\\u002fwRAm3rxBhfTBECbevEGF9MEQJt68QYX0wRAm3rxBhfTBECbevEGF9MEQJt68QYX0wRAm3rxBhfTBECbevEGF9MEQJt68QYX0wRAm3rxBhfTBECbevEGF9MEQJt68QYX0wRAm3rxBhfTBECbevEGF9MEQJt68QYX0wRA\"},\"type\":\"mesh3d\"},{\"meta\":{},\"mode\":\"lines\",\"name\":\"Unit cell\",\"x\":{\"dtype\":\"f8\",\"bdata\":\"AAAAAAAAAAAAAAAAAAAAAFslWBzOnBJAWyVYHM6cEkAAAAAAAAAAAAAAAAAAAAAAAAAAAAAA+H8AAAAAAAAAAAAAAAAAAAAAAAAAAAAAAABbJVgczpwSQFslWBzOnBJAAAAAAAAAAAAAAAAAAAD4f1slWBzOnBJAWyVYHM6cEkAAAAAAAAD4f1slWBzOnBJAWyVYHM6cEkA=\"},\"y\":{\"dtype\":\"f8\",\"bdata\":\"AAAAAAAAAABN27+y0iQGQE3bv7LSJAZATdu\\u002fstIkBkBN27+y0iQGQE3bv7LSJAZAAAAAAAAA+H9N27+y0iQGQAAAAAAAAAAAAAAAAAAAAAAAAAAAAAAAAAAAAAAAAAAAAAAAAAAAAAAAAAAAAAD4f03bv7LSJAZAAAAAAAAAAAAAAAAAAAD4f03bv7LSJAZAAAAAAAAAAAA=\"},\"z\":{\"dtype\":\"f8\",\"bdata\":\"AAAAAAAAAAAAAAAAAAAAAAAAAAAAAAAAob5lTpelHEChvmVOl6UcQAAAAAAAAAAAAAAAAAAA+H+hvmVOl6UcQKG+ZU6XpRxAAAAAAAAAAAAAAAAAAAAAAKG+ZU6XpRxAob5lTpelHEAAAAAAAAD4fwAAAAAAAAAAAAAAAAAAAAAAAAAAAAD4f6G+ZU6XpRxAob5lTpelHEA=\"},\"type\":\"scatter3d\"}],                        {\"template\":{\"layout\":{\"hovermode\":\"closest\",\"paper_bgcolor\":\"white\",\"plot_bgcolor\":\"white\",\"scene\":{\"xaxis\":{\"color\":\"black\",\"gridcolor\":\"#ccc\",\"gridwidth\":1,\"linewidth\":1,\"mirror\":true,\"showgrid\":false,\"showline\":true,\"ticklen\":5,\"ticks\":\"outside\",\"ticksuffix\":\" \",\"visible\":true,\"zeroline\":false,\"zerolinecolor\":\"#ccc\",\"zerolinewidth\":1},\"yaxis\":{\"color\":\"black\",\"gridcolor\":\"#ccc\",\"gridwidth\":1,\"linewidth\":1,\"mirror\":true,\"showgrid\":false,\"showline\":true,\"ticklen\":5,\"ticks\":\"outside\",\"ticksuffix\":\" \",\"visible\":true,\"zeroline\":false,\"zerolinecolor\":\"#ccc\",\"zerolinewidth\":1},\"zaxis\":{\"color\":\"black\",\"gridcolor\":\"#ccc\",\"gridwidth\":1,\"linewidth\":1,\"mirror\":true,\"showgrid\":false,\"showline\":true,\"ticklen\":5,\"ticks\":\"outside\",\"ticksuffix\":\" \",\"visible\":true,\"zeroline\":false,\"zerolinecolor\":\"#ccc\",\"zerolinewidth\":1}},\"xaxis\":{\"color\":\"black\",\"gridcolor\":\"#ccc\",\"gridwidth\":1,\"linewidth\":1,\"mirror\":true,\"showgrid\":false,\"showline\":true,\"ticklen\":5,\"ticks\":\"outside\",\"ticksuffix\":\" \",\"visible\":true,\"zeroline\":false,\"zerolinecolor\":\"#ccc\",\"zerolinewidth\":1},\"yaxis\":{\"color\":\"black\",\"gridcolor\":\"#ccc\",\"gridwidth\":1,\"linewidth\":1,\"mirror\":true,\"showgrid\":false,\"showline\":true,\"ticklen\":5,\"ticks\":\"outside\",\"ticksuffix\":\" \",\"visible\":true,\"zeroline\":false,\"zerolinecolor\":\"#ccc\",\"zerolinewidth\":1}}},\"xaxis\":{\"scaleanchor\":\"y\",\"scaleratio\":1,\"title\":{\"text\":\"X axis [Ang]\"}},\"scene\":{\"aspectmode\":\"data\",\"xaxis\":{\"title\":{\"text\":\"X axis [Ang]\"}},\"yaxis\":{\"title\":{\"text\":\"Y axis [Ang]\"}},\"zaxis\":{\"title\":{\"text\":\"Z axis [Ang]\"}}},\"yaxis\":{\"title\":{\"text\":\"Y axis [Ang]\"}}},                        {\"responsive\": true}                    )                };            </script>        </div>"
      ],
      "text/plain": [
       "<sisl.viz.plots.geometry.GeometryPlot at 0x7fb5ac4ac830>"
      ]
     },
     "execution_count": 15,
     "metadata": {},
     "output_type": "execute_result"
    }
   ],
   "source": [
    "file = sisl.get_sile(paths[1] / \"aiida.fdf\")\n",
    "file.plot.geometry(axes=\"xyz\")"
   ]
  },
  {
   "cell_type": "markdown",
   "id": "cb66123e",
   "metadata": {},
   "source": [
    "# Where is the hBN?"
   ]
  },
  {
   "cell_type": "code",
   "execution_count": null,
   "id": "3d633036",
   "metadata": {},
   "outputs": [
    {
     "name": "stdout",
     "output_type": "stream",
     "text": [
      "[PosixPath('../dataset_nocarbon/SHARE_OUTPUTS_2_ATOMS'), PosixPath('../dataset_nocarbon/SHARE_OUTPUTS_8_ATOMS')]\n"
     ]
    },
    {
     "ename": "NameError",
     "evalue": "name 'true_dataset_folder' is not defined",
     "output_type": "error",
     "traceback": [
      "\u001b[31m---------------------------------------------------------------------------\u001b[39m",
      "\u001b[31mNameError\u001b[39m                                 Traceback (most recent call last)",
      "\u001b[36mCell\u001b[39m\u001b[36m \u001b[39m\u001b[32mIn[11]\u001b[39m\u001b[32m, line 26\u001b[39m\n\u001b[32m     24\u001b[39m \u001b[38;5;28;01mfor\u001b[39;00m structures \u001b[38;5;129;01min\u001b[39;00m structures_paths:\n\u001b[32m     25\u001b[39m     \u001b[38;5;28;01mfor\u001b[39;00m structure \u001b[38;5;129;01min\u001b[39;00m structures:\n\u001b[32m---> \u001b[39m\u001b[32m26\u001b[39m         true_path = \u001b[43mtrue_dataset_folder\u001b[49m / structure\n\u001b[32m     27\u001b[39m         paths.append(true_path)\n",
      "\u001b[31mNameError\u001b[39m: name 'true_dataset_folder' is not defined"
     ]
    }
   ],
   "source": [
    "# Use only determined subset of the dataset\n",
    "from pathlib import Path\n",
    "use_only= [\"2_ATOMS\", \"8_ATOMS\"]\n",
    "pointers_folder = Path('../dataset_nocarbon')\n",
    "if use_only is not None:\n",
    "    x_atoms_paths = [pointers_folder / f\"SHARE_OUTPUTS_{n}\" for n in use_only]\n",
    "\n",
    "print(x_atoms_paths)\n",
    "\n",
    "paths = []\n",
    "\n",
    "# If you want no carbons\n",
    "\n",
    "\n",
    "# Get all the structures\n",
    "filepath = \"structures.txt\"\n",
    "structures_paths = [[] for _ in x_atoms_paths]\n",
    "for i, x_atoms_path in enumerate(x_atoms_paths):\n",
    "    structures = read_structures_paths(str(x_atoms_path / filepath))\n",
    "    for structure in structures:\n",
    "        structures_paths[i].append(x_atoms_path.parts[-1] +\"/\"+ structure)\n",
    "\n",
    "# Now we join them with the true parent folder\n",
    "for structures in structures_paths:\n",
    "    for structure in structures:\n",
    "        true_path = true_dataset_folder / structure\n",
    "        paths.append(true_path)"
   ]
  },
  {
   "cell_type": "code",
   "execution_count": null,
   "id": "1bc75d22",
   "metadata": {},
   "outputs": [],
   "source": []
  },
  {
   "cell_type": "markdown",
   "id": "c38f7f56",
   "metadata": {},
   "source": [
    "# Plot B-N distribution per sample type"
   ]
  },
  {
   "cell_type": "code",
   "execution_count": 107,
   "id": "bbf44d42",
   "metadata": {},
   "outputs": [],
   "source": [
    "dataset_dir = Path(\"../dataset_nocarbon/SHARE_OUTPUTS_2_ATOMS\")\n",
    "dat2 = [\"dataset/SHARE_OUTPUTS_2_ATOMS\"/Path(path) for path in read_structures_paths(str(dataset_dir / f\"structures.txt\"))]\n",
    "\n",
    "dataset_dir = Path(\"../dataset_nocarbon/SHARE_OUTPUTS_8_ATOMS\")\n",
    "dat8 = [\"dataset/SHARE_OUTPUTS_8_ATOMS\"/Path(path) for path in read_structures_paths(str(dataset_dir / f\"structures.txt\"))]\n",
    "\n",
    "dataset_dir = Path(\"../dataset_nocarbon/SHARE_OUTPUTS_64_ATOMS\")\n",
    "dat64 = [\"dataset/SHARE_OUTPUTS_64_ATOMS\"/Path(path) for path in read_structures_paths(str(dataset_dir / f\"structures.txt\"))]\n",
    "\n",
    "import numpy as np\n",
    "\n",
    "n_B = 0\n",
    "n_N = 0\n",
    "for path in dat2:\n",
    "    path = \"..\"/path\n",
    "    file = sisl.get_sile(path / \"aiida.fdf\")\n",
    "    geometry = file.read_geometry()\n",
    "    for Z in geometry.atoms.Z:\n",
    "        if Z == 5:\n",
    "            n_B += 1\n",
    "        elif Z == 7:\n",
    "            n_N += 1\n",
    "        else:\n",
    "            raise ValueError(\"WTF found a non B nor N atom\")\n",
    "        \n",
    "type_count = {\n",
    "    'Nitrogen': np.array([n_N]),\n",
    "    'Boron': np.array([n_B]),\n",
    "}\n",
    "\n",
    "n_B = 0\n",
    "n_N = 0\n",
    "for path in dat8:\n",
    "    path = \"..\"/path\n",
    "    file = sisl.get_sile(path / \"aiida.fdf\")\n",
    "    geometry = file.read_geometry()\n",
    "    for Z in geometry.atoms.Z:\n",
    "        if Z == 5:\n",
    "            n_B += 1\n",
    "        elif Z == 7:\n",
    "            n_N += 1\n",
    "        else:\n",
    "            raise ValueError(\"WTF found a non B nor N atom\")\n",
    "type_count[\"Boron\"] = np.concatenate([type_count[\"Boron\"], np.array([n_B])])\n",
    "type_count[\"Nitrogen\"] = np.concatenate([type_count[\"Nitrogen\"], np.array([n_N])])\n",
    "\n",
    "n_B = 0\n",
    "n_N = 0\n",
    "for path in dat64:\n",
    "    path = \"..\"/path\n",
    "    file = sisl.get_sile(path / \"aiida.fdf\")\n",
    "    geometry = file.read_geometry()\n",
    "    for Z in geometry.atoms.Z:\n",
    "        if Z == 5:\n",
    "            n_B += 1\n",
    "        elif Z == 7:\n",
    "            n_N += 1\n",
    "        else:\n",
    "            raise ValueError(\"WTF found a non B nor N atom\")\n",
    "type_count[\"Boron\"] = np.concatenate([type_count[\"Boron\"], np.array([n_B])])\n",
    "type_count[\"Nitrogen\"] = np.concatenate([type_count[\"Nitrogen\"], np.array([n_N])])"
   ]
  },
  {
   "cell_type": "code",
   "execution_count": 90,
   "id": "f6ba1556",
   "metadata": {},
   "outputs": [
    {
     "name": "stdout",
     "output_type": "stream",
     "text": [
      "{'Boron': array([51.09289617, 50.        , 50.        ]), 'Nitrogen': array([48.90710383, 50.        , 50.        ])}\n"
     ]
    }
   ],
   "source": [
    "# Stack arrays to compute total per index\n",
    "stacked = np.stack(list(type_count.values()))\n",
    "totals = np.sum(stacked, axis=0)\n",
    "\n",
    "# Avoid division by zero\n",
    "totals_safe = np.where(totals == 0, 1, totals)\n",
    "\n",
    "# Compute percentages\n",
    "type_percent = {\n",
    "    key: (value / totals_safe * 100)\n",
    "    for key, value in type_count.items()\n",
    "}\n",
    "\n",
    "print(type_percent)\n"
   ]
  },
  {
   "cell_type": "code",
   "execution_count": 108,
   "id": "dcf5b690",
   "metadata": {},
   "outputs": [
    {
     "data": {
      "image/png": "[encoded data removed]",
      "text/plain": [
       "<Figure size 640x480 with 1 Axes>"
      ]
     },
     "metadata": {},
     "output_type": "display_data"
    }
   ],
   "source": [
    "import numpy as np\n",
    "\n",
    "species = ('2', '8', '64')\n",
    "width = 0.6  # the width of the bars: can also be len(x) sequence\n",
    "\n",
    "\n",
    "fig, ax = plt.subplots()\n",
    "bottom = np.zeros(3)\n",
    "\n",
    "colors = {\n",
    "    'Boron': '#A4A3A3',\n",
    "    'Nitrogen': \"#3D40E9\"\n",
    "}\n",
    "\n",
    "\n",
    "for n_atoms, count in type_percent.items():\n",
    "    p = ax.bar(species, count, width, label=n_atoms, bottom=bottom, color=colors.get(n_atoms, 'black'))\n",
    "    bottom += count\n",
    "\n",
    "    ax.bar_label(p, label_type='center', fmt='%.1f')\n",
    "\n",
    "plt.xlabel(\"Number of atoms in the unit cell\")\n",
    "plt.ylabel(\"Percentage of each element\")\n",
    "plt.title(\"Atom distribution in each data group\")\n",
    "ax.legend()\n",
    "\n",
    "plt.show()"
   ]
  }
 ],
 "metadata": {
  "kernelspec": {
   "display_name": "g2mfrompip",
   "language": "python",
   "name": "python3"
  },
  "language_info": {
   "codemirror_mode": {
    "name": "ipython",
    "version": 3
   },
   "file_extension": ".py",
   "mimetype": "text/x-python",
   "name": "python",
   "nbconvert_exporter": "python",
   "pygments_lexer": "ipython3",
   "version": "3.9.23"
  }
 },
 "nbformat": 4,
 "nbformat_minor": 5
}
